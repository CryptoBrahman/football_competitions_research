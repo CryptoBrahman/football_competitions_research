{
 "cells": [
  {
   "cell_type": "code",
   "execution_count": 1,
   "metadata": {},
   "outputs": [],
   "source": [
    "import os\n",
    "import re\n",
    "import pickle\n",
    "import datetime\n",
    "import pandas as pd\n",
    "import numpy as np\n",
    "\n",
    "from _html_parser import ParsingDataPrepare, TableConstant\n",
    "\n",
    "pd.set_option('display.max_rows', 500)\n",
    "pd.set_option('display.max_columns', 500)\n",
    "pd.set_option('display.max_colwidth', 500)"
   ]
  },
  {
   "cell_type": "code",
   "execution_count": 2,
   "metadata": {},
   "outputs": [],
   "source": [
    "%load_ext autoreload\n",
    "%autoreload 2"
   ]
  },
  {
   "cell_type": "code",
   "execution_count": 3,
   "metadata": {},
   "outputs": [],
   "source": [
    "with open('pickle_files/all_matches', 'rb') as f:\n",
    "    all_matches = pickle.load(f)"
   ]
  },
  {
   "cell_type": "code",
   "execution_count": 4,
   "metadata": {},
   "outputs": [],
   "source": [
    "df_to_transform = pd.DataFrame(all_matches)"
   ]
  },
  {
   "cell_type": "code",
   "execution_count": 5,
   "metadata": {},
   "outputs": [],
   "source": [
    "df_games = ParsingDataPrepare.transform_columns_to_rows(df_to_transform, ['ligue_header', 'comp_id', 'season_id', \n",
    "                                                                          'game_utc', 'game_title','goals', 'game_status'])"
   ]
  },
  {
   "cell_type": "code",
   "execution_count": 6,
   "metadata": {},
   "outputs": [],
   "source": [
    "df_games.reset_index(inplace=True)\n",
    "df_games.rename(columns={'index':'game_id'}, inplace=True)"
   ]
  },
  {
   "cell_type": "code",
   "execution_count": 7,
   "metadata": {},
   "outputs": [],
   "source": [
    "df_games['f_com'] = df_games.game_title.map(lambda x: str(x).split(' - ')[0])\n",
    "df_games['s_com'] = df_games.game_title.map(lambda x: str(x).split(' - ')[1])"
   ]
  },
  {
   "cell_type": "code",
   "execution_count": 8,
   "metadata": {},
   "outputs": [
    {
     "data": {
      "text/html": [
       "<div>\n",
       "<style scoped>\n",
       "    .dataframe tbody tr th:only-of-type {\n",
       "        vertical-align: middle;\n",
       "    }\n",
       "\n",
       "    .dataframe tbody tr th {\n",
       "        vertical-align: top;\n",
       "    }\n",
       "\n",
       "    .dataframe thead th {\n",
       "        text-align: right;\n",
       "    }\n",
       "</style>\n",
       "<table border=\"1\" class=\"dataframe\">\n",
       "  <thead>\n",
       "    <tr style=\"text-align: right;\">\n",
       "      <th></th>\n",
       "      <th>game_id</th>\n",
       "      <th>ligue_header</th>\n",
       "      <th>comp_id</th>\n",
       "      <th>season_id</th>\n",
       "      <th>game_utc</th>\n",
       "      <th>game_title</th>\n",
       "      <th>goals</th>\n",
       "      <th>game_status</th>\n",
       "      <th>f_com</th>\n",
       "      <th>s_com</th>\n",
       "    </tr>\n",
       "  </thead>\n",
       "  <tbody>\n",
       "    <tr>\n",
       "      <th>0</th>\n",
       "      <td>1458512</td>\n",
       "      <td>Segunda División</td>\n",
       "      <td>707</td>\n",
       "      <td>306</td>\n",
       "      <td>26.03.2021 20:00</td>\n",
       "      <td>Sporting Gijón - Alcorcón</td>\n",
       "      <td>0:0</td>\n",
       "      <td>Finished</td>\n",
       "      <td>Sporting Gijón</td>\n",
       "      <td>Alcorcón</td>\n",
       "    </tr>\n",
       "    <tr>\n",
       "      <th>1</th>\n",
       "      <td>1458506</td>\n",
       "      <td>Segunda División</td>\n",
       "      <td>707</td>\n",
       "      <td>306</td>\n",
       "      <td>26.03.2021 22:00</td>\n",
       "      <td>Castellon - Espanyol</td>\n",
       "      <td>1:3</td>\n",
       "      <td>Finished</td>\n",
       "      <td>Castellon</td>\n",
       "      <td>Espanyol</td>\n",
       "    </tr>\n",
       "    <tr>\n",
       "      <th>2</th>\n",
       "      <td>1459331</td>\n",
       "      <td>First League</td>\n",
       "      <td>435</td>\n",
       "      <td>306</td>\n",
       "      <td>26.03.2021 14:00</td>\n",
       "      <td>Mykolaiv - Alians Lypova Dolyna</td>\n",
       "      <td>2:0</td>\n",
       "      <td>Finished</td>\n",
       "      <td>Mykolaiv</td>\n",
       "      <td>Alians Lypova Dolyna</td>\n",
       "    </tr>\n",
       "  </tbody>\n",
       "</table>\n",
       "</div>"
      ],
      "text/plain": [
       "   game_id      ligue_header comp_id season_id          game_utc  \\\n",
       "0  1458512  Segunda División     707       306  26.03.2021 20:00   \n",
       "1  1458506  Segunda División     707       306  26.03.2021 22:00   \n",
       "2  1459331      First League     435       306  26.03.2021 14:00   \n",
       "\n",
       "                        game_title goals game_status           f_com  \\\n",
       "0        Sporting Gijón - Alcorcón   0:0    Finished  Sporting Gijón   \n",
       "1             Castellon - Espanyol   1:3    Finished       Castellon   \n",
       "2  Mykolaiv - Alians Lypova Dolyna   2:0    Finished        Mykolaiv   \n",
       "\n",
       "                  s_com  \n",
       "0              Alcorcón  \n",
       "1              Espanyol  \n",
       "2  Alians Lypova Dolyna  "
      ]
     },
     "execution_count": 8,
     "metadata": {},
     "output_type": "execute_result"
    }
   ],
   "source": [
    "df_games.head(3)"
   ]
  },
  {
   "cell_type": "markdown",
   "metadata": {},
   "source": [
    "#### Add competitions data "
   ]
  },
  {
   "cell_type": "code",
   "execution_count": 9,
   "metadata": {},
   "outputs": [],
   "source": [
    "with open('pickle_files/df_comp_tables', 'rb') as f:\n",
    "    df_comp_tables = pickle.load(f)"
   ]
  },
  {
   "cell_type": "code",
   "execution_count": 10,
   "metadata": {},
   "outputs": [],
   "source": [
    "df_comp_tables.rename(columns={'team_name':'f_com'}, inplace=True)"
   ]
  },
  {
   "cell_type": "code",
   "execution_count": 11,
   "metadata": {},
   "outputs": [],
   "source": [
    "df_comp_tables['s_com'] = df_comp_tables.f_com"
   ]
  },
  {
   "cell_type": "code",
   "execution_count": 12,
   "metadata": {},
   "outputs": [
    {
     "data": {
      "text/html": [
       "<div>\n",
       "<style scoped>\n",
       "    .dataframe tbody tr th:only-of-type {\n",
       "        vertical-align: middle;\n",
       "    }\n",
       "\n",
       "    .dataframe tbody tr th {\n",
       "        vertical-align: top;\n",
       "    }\n",
       "\n",
       "    .dataframe thead th {\n",
       "        text-align: right;\n",
       "    }\n",
       "</style>\n",
       "<table border=\"1\" class=\"dataframe\">\n",
       "  <thead>\n",
       "    <tr style=\"text-align: right;\">\n",
       "      <th></th>\n",
       "      <th>f_com</th>\n",
       "      <th>pos</th>\n",
       "      <th>pld</th>\n",
       "      <th>w</th>\n",
       "      <th>d</th>\n",
       "      <th>l</th>\n",
       "      <th>gf</th>\n",
       "      <th>ga</th>\n",
       "      <th>+/-</th>\n",
       "      <th>pts</th>\n",
       "      <th>comp_id</th>\n",
       "      <th>season_id</th>\n",
       "      <th>s_com</th>\n",
       "    </tr>\n",
       "  </thead>\n",
       "  <tbody>\n",
       "    <tr>\n",
       "      <th>0</th>\n",
       "      <td>Manchester City</td>\n",
       "      <td>1</td>\n",
       "      <td>32</td>\n",
       "      <td>23</td>\n",
       "      <td>5</td>\n",
       "      <td>4</td>\n",
       "      <td>67</td>\n",
       "      <td>23</td>\n",
       "      <td>+44</td>\n",
       "      <td>74</td>\n",
       "      <td>12</td>\n",
       "      <td>306</td>\n",
       "      <td>Manchester City</td>\n",
       "    </tr>\n",
       "    <tr>\n",
       "      <th>1</th>\n",
       "      <td>Man Utd</td>\n",
       "      <td>2</td>\n",
       "      <td>31</td>\n",
       "      <td>18</td>\n",
       "      <td>9</td>\n",
       "      <td>4</td>\n",
       "      <td>61</td>\n",
       "      <td>34</td>\n",
       "      <td>+27</td>\n",
       "      <td>63</td>\n",
       "      <td>12</td>\n",
       "      <td>306</td>\n",
       "      <td>Man Utd</td>\n",
       "    </tr>\n",
       "    <tr>\n",
       "      <th>2</th>\n",
       "      <td>Leicester City</td>\n",
       "      <td>3</td>\n",
       "      <td>31</td>\n",
       "      <td>17</td>\n",
       "      <td>5</td>\n",
       "      <td>9</td>\n",
       "      <td>55</td>\n",
       "      <td>37</td>\n",
       "      <td>+18</td>\n",
       "      <td>56</td>\n",
       "      <td>12</td>\n",
       "      <td>306</td>\n",
       "      <td>Leicester City</td>\n",
       "    </tr>\n",
       "    <tr>\n",
       "      <th>3</th>\n",
       "      <td>West Ham</td>\n",
       "      <td>4</td>\n",
       "      <td>31</td>\n",
       "      <td>16</td>\n",
       "      <td>7</td>\n",
       "      <td>8</td>\n",
       "      <td>51</td>\n",
       "      <td>39</td>\n",
       "      <td>+12</td>\n",
       "      <td>55</td>\n",
       "      <td>12</td>\n",
       "      <td>306</td>\n",
       "      <td>West Ham</td>\n",
       "    </tr>\n",
       "    <tr>\n",
       "      <th>4</th>\n",
       "      <td>Chelsea</td>\n",
       "      <td>5</td>\n",
       "      <td>31</td>\n",
       "      <td>15</td>\n",
       "      <td>9</td>\n",
       "      <td>7</td>\n",
       "      <td>50</td>\n",
       "      <td>31</td>\n",
       "      <td>+19</td>\n",
       "      <td>54</td>\n",
       "      <td>12</td>\n",
       "      <td>306</td>\n",
       "      <td>Chelsea</td>\n",
       "    </tr>\n",
       "  </tbody>\n",
       "</table>\n",
       "</div>"
      ],
      "text/plain": [
       "             f_com pos pld   w  d  l  gf  ga  +/- pts comp_id season_id  \\\n",
       "0  Manchester City   1  32  23  5  4  67  23  +44  74      12       306   \n",
       "1          Man Utd   2  31  18  9  4  61  34  +27  63      12       306   \n",
       "2   Leicester City   3  31  17  5  9  55  37  +18  56      12       306   \n",
       "3         West Ham   4  31  16  7  8  51  39  +12  55      12       306   \n",
       "4          Chelsea   5  31  15  9  7  50  31  +19  54      12       306   \n",
       "\n",
       "             s_com  \n",
       "0  Manchester City  \n",
       "1          Man Utd  \n",
       "2   Leicester City  \n",
       "3         West Ham  \n",
       "4          Chelsea  "
      ]
     },
     "execution_count": 12,
     "metadata": {},
     "output_type": "execute_result"
    }
   ],
   "source": [
    "df_comp_tables.head()"
   ]
  },
  {
   "cell_type": "code",
   "execution_count": 13,
   "metadata": {},
   "outputs": [],
   "source": [
    "df_fcom = pd.merge(left=df_games, right=df_comp_tables[['f_com','comp_id','season_id','pos', 'pts']], on=['f_com','comp_id','season_id'], how='left')\n",
    "df_fcom.rename(columns={'pos':'pos_f', 'pts':'pts_f'}, inplace=True)"
   ]
  },
  {
   "cell_type": "code",
   "execution_count": 14,
   "metadata": {},
   "outputs": [],
   "source": [
    "df_scom = pd.merge(left=df_games, right=df_comp_tables[['s_com','comp_id','season_id','pos', 'pts']], on=['s_com','comp_id','season_id'], how='left')\n",
    "df_scom.rename(columns={'pos':'pos_s', 'pts':'pts_s'}, inplace=True)"
   ]
  },
  {
   "cell_type": "code",
   "execution_count": 15,
   "metadata": {},
   "outputs": [],
   "source": [
    "df_games_tb = pd.merge(df_fcom, df_scom[['pos_s','pts_s']], how='left', left_index=True, right_index=True)"
   ]
  },
  {
   "cell_type": "code",
   "execution_count": 16,
   "metadata": {},
   "outputs": [],
   "source": [
    "df_games_tb.pos_f = pd.to_numeric(df_games_tb.pos_f, errors='coerce')\n",
    "df_games_tb.pos_s = pd.to_numeric(df_games_tb.pos_s, errors='coerce')\n",
    "df_games_tb.pts_f = pd.to_numeric(df_games_tb.pts_f, errors='coerce')\n",
    "df_games_tb.pts_s = pd.to_numeric(df_games_tb.pts_s, errors='coerce')"
   ]
  },
  {
   "cell_type": "code",
   "execution_count": 17,
   "metadata": {},
   "outputs": [],
   "source": [
    "df_games_tb['posf_poss'] = df_games_tb[['pos_f', 'pos_s']].apply(lambda x: str(x[0]).replace('.0', '') + ' - ' + str(x[1]).replace('.0', '') \\\n",
    "                                                                 if pd.notna(x[0]) and pd.notna(x[1]) else None, axis=1) \n",
    "df_games_tb['ptsf_ptss'] = df_games_tb[['pts_f', 'pts_s']].apply(lambda x: str(x[0]).replace('.0', '') + ' - ' + str(x[1]).replace('.0', '') \\\n",
    "                                                                 if pd.notna(x[0]) and pd.notna(x[1]) else None, axis=1) "
   ]
  },
  {
   "cell_type": "code",
   "execution_count": 18,
   "metadata": {},
   "outputs": [],
   "source": [
    "df_games_tb.drop(columns=['game_status', 's_com', 'pos_f', 'pts_f', 'pos_s', 'pts_s'], inplace=True)"
   ]
  },
  {
   "cell_type": "code",
   "execution_count": 19,
   "metadata": {},
   "outputs": [
    {
     "data": {
      "text/html": [
       "<div>\n",
       "<style scoped>\n",
       "    .dataframe tbody tr th:only-of-type {\n",
       "        vertical-align: middle;\n",
       "    }\n",
       "\n",
       "    .dataframe tbody tr th {\n",
       "        vertical-align: top;\n",
       "    }\n",
       "\n",
       "    .dataframe thead th {\n",
       "        text-align: right;\n",
       "    }\n",
       "</style>\n",
       "<table border=\"1\" class=\"dataframe\">\n",
       "  <thead>\n",
       "    <tr style=\"text-align: right;\">\n",
       "      <th></th>\n",
       "      <th>game_id</th>\n",
       "      <th>ligue_header</th>\n",
       "      <th>comp_id</th>\n",
       "      <th>season_id</th>\n",
       "      <th>game_utc</th>\n",
       "      <th>game_title</th>\n",
       "      <th>goals</th>\n",
       "      <th>f_com</th>\n",
       "      <th>posf_poss</th>\n",
       "      <th>ptsf_ptss</th>\n",
       "    </tr>\n",
       "  </thead>\n",
       "  <tbody>\n",
       "    <tr>\n",
       "      <th>0</th>\n",
       "      <td>1458512</td>\n",
       "      <td>Segunda División</td>\n",
       "      <td>707</td>\n",
       "      <td>306</td>\n",
       "      <td>26.03.2021 20:00</td>\n",
       "      <td>Sporting Gijón - Alcorcón</td>\n",
       "      <td>0:0</td>\n",
       "      <td>Sporting Gijón</td>\n",
       "      <td>5 - 20</td>\n",
       "      <td>56 - 35</td>\n",
       "    </tr>\n",
       "    <tr>\n",
       "      <th>1</th>\n",
       "      <td>1458506</td>\n",
       "      <td>Segunda División</td>\n",
       "      <td>707</td>\n",
       "      <td>306</td>\n",
       "      <td>26.03.2021 22:00</td>\n",
       "      <td>Castellon - Espanyol</td>\n",
       "      <td>1:3</td>\n",
       "      <td>Castellon</td>\n",
       "      <td>18 - 1</td>\n",
       "      <td>36 - 70</td>\n",
       "    </tr>\n",
       "    <tr>\n",
       "      <th>2</th>\n",
       "      <td>1459331</td>\n",
       "      <td>First League</td>\n",
       "      <td>435</td>\n",
       "      <td>306</td>\n",
       "      <td>26.03.2021 14:00</td>\n",
       "      <td>Mykolaiv - Alians Lypova Dolyna</td>\n",
       "      <td>2:0</td>\n",
       "      <td>Mykolaiv</td>\n",
       "      <td>None</td>\n",
       "      <td>None</td>\n",
       "    </tr>\n",
       "  </tbody>\n",
       "</table>\n",
       "</div>"
      ],
      "text/plain": [
       "   game_id      ligue_header comp_id season_id          game_utc  \\\n",
       "0  1458512  Segunda División     707       306  26.03.2021 20:00   \n",
       "1  1458506  Segunda División     707       306  26.03.2021 22:00   \n",
       "2  1459331      First League     435       306  26.03.2021 14:00   \n",
       "\n",
       "                        game_title goals           f_com posf_poss ptsf_ptss  \n",
       "0        Sporting Gijón - Alcorcón   0:0  Sporting Gijón    5 - 20   56 - 35  \n",
       "1             Castellon - Espanyol   1:3       Castellon    18 - 1   36 - 70  \n",
       "2  Mykolaiv - Alians Lypova Dolyna   2:0        Mykolaiv      None      None  "
      ]
     },
     "execution_count": 19,
     "metadata": {},
     "output_type": "execute_result"
    }
   ],
   "source": [
    "df_games_tb.head(3)"
   ]
  },
  {
   "cell_type": "markdown",
   "metadata": {},
   "source": [
    "#### Add games events"
   ]
  },
  {
   "cell_type": "code",
   "execution_count": 20,
   "metadata": {},
   "outputs": [],
   "source": [
    "all_events_games = list()\n",
    "for file in os.listdir('pickle_files/old_pickles/'):\n",
    "    if re.search('-Copy1', file):\n",
    "        with open('pickle_files/old_pickles/' + file, 'rb') as f:\n",
    "            events_games = pickle.load(f)\n",
    "            all_events_games.append(events_games)"
   ]
  },
  {
   "cell_type": "code",
   "execution_count": 21,
   "metadata": {},
   "outputs": [],
   "source": [
    "df_list   = []\n",
    "col_names = ['event_mins', 'event_hts_ats', 'stats_dict', 'city_country', 'viewers', 'weath_temp', 'bet_coefs']\n",
    "\n",
    "for game in all_events_games:\n",
    "    df_to_transform = pd.DataFrame(game)\n",
    "    df_create = ParsingDataPrepare.transform_columns_to_rows(df_to_transform, col_names)\n",
    "    \n",
    "    df_list.append(df_create)\n",
    "\n",
    "df_events = pd.concat(df_list)    "
   ]
  },
  {
   "cell_type": "code",
   "execution_count": 22,
   "metadata": {},
   "outputs": [],
   "source": [
    "df_events.reset_index(inplace=True)\n",
    "df_events.rename(columns={'index':'game_id'}, inplace=True)"
   ]
  },
  {
   "cell_type": "code",
   "execution_count": 83,
   "metadata": {},
   "outputs": [],
   "source": [
    "df_events.event_hts_ats = df_events.event_hts_ats.map(lambda x: [y[0]+y[-1] for y in x])"
   ]
  },
  {
   "cell_type": "code",
   "execution_count": 84,
   "metadata": {},
   "outputs": [
    {
     "data": {
      "text/plain": [
       "(200354, 8)"
      ]
     },
     "execution_count": 84,
     "metadata": {},
     "output_type": "execute_result"
    }
   ],
   "source": [
    "df_events.shape"
   ]
  },
  {
   "cell_type": "code",
   "execution_count": 176,
   "metadata": {},
   "outputs": [],
   "source": [
    "tmp = df_events.loc[:10,].copy()"
   ]
  },
  {
   "cell_type": "code",
   "execution_count": 177,
   "metadata": {},
   "outputs": [],
   "source": [
    "col_names = [x[0] for x in df_events.stats_dict[1]]\n",
    "\n",
    "for col in col_names:\n",
    "    tmp[col] = tmp.stats_dict[:10].map(lambda x: ''.join([str(y[1]) + '-' + str(y[2]) for y in x if y[0] == col]))\n",
    "    # tmp.stats_dict[:10].map(lambda x: [print(y) if y[0] == col else None for y in x])"
   ]
  },
  {
   "cell_type": "code",
   "execution_count": 178,
   "metadata": {},
   "outputs": [
    {
     "data": {
      "text/html": [
       "<div>\n",
       "<style scoped>\n",
       "    .dataframe tbody tr th:only-of-type {\n",
       "        vertical-align: middle;\n",
       "    }\n",
       "\n",
       "    .dataframe tbody tr th {\n",
       "        vertical-align: top;\n",
       "    }\n",
       "\n",
       "    .dataframe thead th {\n",
       "        text-align: right;\n",
       "    }\n",
       "</style>\n",
       "<table border=\"1\" class=\"dataframe\">\n",
       "  <thead>\n",
       "    <tr style=\"text-align: right;\">\n",
       "      <th></th>\n",
       "      <th>game_id</th>\n",
       "      <th>event_mins</th>\n",
       "      <th>event_hts_ats</th>\n",
       "      <th>stats_dict</th>\n",
       "      <th>city_country</th>\n",
       "      <th>viewers</th>\n",
       "      <th>weath_temp</th>\n",
       "      <th>bet_coefs</th>\n",
       "      <th>Shots</th>\n",
       "      <th>Shots on target</th>\n",
       "      <th>Shots Blocked</th>\n",
       "      <th>Saves</th>\n",
       "      <th>Possession %</th>\n",
       "      <th>Corner</th>\n",
       "      <th>Fouls</th>\n",
       "      <th>Offsides</th>\n",
       "      <th>Yellow cards</th>\n",
       "      <th>Red cards</th>\n",
       "      <th>Attacks</th>\n",
       "      <th>Attacks (Dangerous)</th>\n",
       "      <th>Pass</th>\n",
       "      <th>Tackles</th>\n",
       "    </tr>\n",
       "  </thead>\n",
       "  <tbody>\n",
       "    <tr>\n",
       "      <th>10</th>\n",
       "      <td>1533666</td>\n",
       "      <td>[52, 58, 59, 61, 63, 67, 84, , , ]</td>\n",
       "      <td>[yd, gl, gl, yd, yd, yd, gl, yd, gl, yd]</td>\n",
       "      <td>[(Shots, 11, 7), (Shots on target, 7, 4), (Possession %, 53, 47), (Corner, 1, 4), (Fouls, 13, 24), (Offsides, 0, 3), (Yellow cards, 1, 4), (Red cards, 0, 0)]</td>\n",
       "      <td>Tripoli, Greece</td>\n",
       "      <td></td>\n",
       "      <td>(+18, sunny)</td>\n",
       "      <td>([1, X, 2, ТМ 2.5, ТБ 2.5], [2.91, 3.04, 2.66, 1.49, 2.80])</td>\n",
       "      <td>NaN</td>\n",
       "      <td>NaN</td>\n",
       "      <td>NaN</td>\n",
       "      <td>NaN</td>\n",
       "      <td>NaN</td>\n",
       "      <td>NaN</td>\n",
       "      <td>NaN</td>\n",
       "      <td>NaN</td>\n",
       "      <td>NaN</td>\n",
       "      <td>NaN</td>\n",
       "      <td>NaN</td>\n",
       "      <td>NaN</td>\n",
       "      <td>NaN</td>\n",
       "      <td>NaN</td>\n",
       "    </tr>\n",
       "  </tbody>\n",
       "</table>\n",
       "</div>"
      ],
      "text/plain": [
       "    game_id                          event_mins  \\\n",
       "10  1533666  [52, 58, 59, 61, 63, 67, 84, , , ]   \n",
       "\n",
       "                               event_hts_ats  \\\n",
       "10  [yd, gl, gl, yd, yd, yd, gl, yd, gl, yd]   \n",
       "\n",
       "                                                                                                                                                       stats_dict  \\\n",
       "10  [(Shots, 11, 7), (Shots on target, 7, 4), (Possession %, 53, 47), (Corner, 1, 4), (Fouls, 13, 24), (Offsides, 0, 3), (Yellow cards, 1, 4), (Red cards, 0, 0)]   \n",
       "\n",
       "       city_country viewers    weath_temp  \\\n",
       "10  Tripoli, Greece          (+18, sunny)   \n",
       "\n",
       "                                                      bet_coefs Shots  \\\n",
       "10  ([1, X, 2, ТМ 2.5, ТБ 2.5], [2.91, 3.04, 2.66, 1.49, 2.80])   NaN   \n",
       "\n",
       "   Shots on target Shots Blocked Saves Possession % Corner Fouls Offsides  \\\n",
       "10             NaN           NaN   NaN          NaN    NaN   NaN      NaN   \n",
       "\n",
       "   Yellow cards Red cards Attacks Attacks (Dangerous) Pass Tackles  \n",
       "10          NaN       NaN     NaN                 NaN  NaN     NaN  "
      ]
     },
     "execution_count": 178,
     "metadata": {},
     "output_type": "execute_result"
    }
   ],
   "source": [
    "tmp.tail(1)"
   ]
  },
  {
   "cell_type": "code",
   "execution_count": 85,
   "metadata": {},
   "outputs": [
    {
     "data": {
      "text/html": [
       "<div>\n",
       "<style scoped>\n",
       "    .dataframe tbody tr th:only-of-type {\n",
       "        vertical-align: middle;\n",
       "    }\n",
       "\n",
       "    .dataframe tbody tr th {\n",
       "        vertical-align: top;\n",
       "    }\n",
       "\n",
       "    .dataframe thead th {\n",
       "        text-align: right;\n",
       "    }\n",
       "</style>\n",
       "<table border=\"1\" class=\"dataframe\">\n",
       "  <thead>\n",
       "    <tr style=\"text-align: right;\">\n",
       "      <th></th>\n",
       "      <th>game_id</th>\n",
       "      <th>event_mins</th>\n",
       "      <th>event_hts_ats</th>\n",
       "      <th>stats_dict</th>\n",
       "      <th>city_country</th>\n",
       "      <th>viewers</th>\n",
       "      <th>weath_temp</th>\n",
       "      <th>bet_coefs</th>\n",
       "    </tr>\n",
       "  </thead>\n",
       "  <tbody>\n",
       "    <tr>\n",
       "      <th>0</th>\n",
       "      <td>1432501</td>\n",
       "      <td>[12, 35, 62, 76, 87]</td>\n",
       "      <td>[gl, gl, yd, yd, gl]</td>\n",
       "      <td>[(Shots, 4, 7), (Shots on target, 4, 7), (Saves, 4, 4), (Possession %, 0, 0), (Corner, 4, 4), (Fouls, 6, 15), (Offsides, 3, 5), (Yellow cards, 1, 1), (Red cards, 0, 0)]</td>\n",
       "      <td>Duesseldorf, Germany</td>\n",
       "      <td>0</td>\n",
       "      <td>(+3, light sleet)</td>\n",
       "      <td>([1, X, 2, ТМ 2.5, ТБ 2.5], [2.55, 3.65, 2.70, 1.97, 1.91])</td>\n",
       "    </tr>\n",
       "    <tr>\n",
       "      <th>1</th>\n",
       "      <td>1454685</td>\n",
       "      <td>[3, 16, 66, 87]</td>\n",
       "      <td>[rd, yd, yd, yd]</td>\n",
       "      <td>[(Shots, 19, 6), (Shots on target, 7, 3), (Shots Blocked, 5, 1), (Saves, 3, 7), (Possession %, 66, 34), (Corner, 9, 2), (Fouls, 18, 14), (Offsides, 0, 5), (Yellow cards, 3, 0), (Red cards, 0, 1), (Attacks, 153, 59), (Attacks (Dangerous), 63, 20), (Pass, 579, 261), (Tackles, 11, 17)]</td>\n",
       "      <td>Vila de Conde, Portugal</td>\n",
       "      <td>0</td>\n",
       "      <td>(+18, sunny)</td>\n",
       "      <td>([1, X, 2, ТМ 2.5, ТБ 2.5], [2.06, 3.19, 4.32, 1.57, 2.47])</td>\n",
       "    </tr>\n",
       "    <tr>\n",
       "      <th>2</th>\n",
       "      <td>1454684</td>\n",
       "      <td>[14, 17, 23, 32, 37, 42, 43, 50, 63, 78]</td>\n",
       "      <td>[yd, yd, yd, gl, gl, mn, yd, gl, yd, gl]</td>\n",
       "      <td>[(Shots, 2, 7), (Shots on target, 2, 7), (Saves, 3, 2), (Possession %, 0, 0), (Corner, 5, 1), (Fouls, 13, 15), (Offsides, 1, 1), (Yellow cards, 3, 2), (Red cards, 0, 0)]</td>\n",
       "      <td>Funchal, Portugal</td>\n",
       "      <td>0</td>\n",
       "      <td>(+21, partly cloudy)</td>\n",
       "      <td>([1, X, 2, ТМ 2.5, ТБ 2.5], [2.66, 3.20, 2.77, 1.63, 2.41])</td>\n",
       "    </tr>\n",
       "  </tbody>\n",
       "</table>\n",
       "</div>"
      ],
      "text/plain": [
       "   game_id                                event_mins  \\\n",
       "0  1432501                      [12, 35, 62, 76, 87]   \n",
       "1  1454685                           [3, 16, 66, 87]   \n",
       "2  1454684  [14, 17, 23, 32, 37, 42, 43, 50, 63, 78]   \n",
       "\n",
       "                              event_hts_ats  \\\n",
       "0                      [gl, gl, yd, yd, gl]   \n",
       "1                          [rd, yd, yd, yd]   \n",
       "2  [yd, yd, yd, gl, gl, mn, yd, gl, yd, gl]   \n",
       "\n",
       "                                                                                                                                                                                                                                                                                    stats_dict  \\\n",
       "0                                                                                                                     [(Shots, 4, 7), (Shots on target, 4, 7), (Saves, 4, 4), (Possession %, 0, 0), (Corner, 4, 4), (Fouls, 6, 15), (Offsides, 3, 5), (Yellow cards, 1, 1), (Red cards, 0, 0)]   \n",
       "1  [(Shots, 19, 6), (Shots on target, 7, 3), (Shots Blocked, 5, 1), (Saves, 3, 7), (Possession %, 66, 34), (Corner, 9, 2), (Fouls, 18, 14), (Offsides, 0, 5), (Yellow cards, 3, 0), (Red cards, 0, 1), (Attacks, 153, 59), (Attacks (Dangerous), 63, 20), (Pass, 579, 261), (Tackles, 11, 17)]   \n",
       "2                                                                                                                    [(Shots, 2, 7), (Shots on target, 2, 7), (Saves, 3, 2), (Possession %, 0, 0), (Corner, 5, 1), (Fouls, 13, 15), (Offsides, 1, 1), (Yellow cards, 3, 2), (Red cards, 0, 0)]   \n",
       "\n",
       "              city_country viewers            weath_temp  \\\n",
       "0     Duesseldorf, Germany       0     (+3, light sleet)   \n",
       "1  Vila de Conde, Portugal       0          (+18, sunny)   \n",
       "2        Funchal, Portugal       0  (+21, partly cloudy)   \n",
       "\n",
       "                                                     bet_coefs  \n",
       "0  ([1, X, 2, ТМ 2.5, ТБ 2.5], [2.55, 3.65, 2.70, 1.97, 1.91])  \n",
       "1  ([1, X, 2, ТМ 2.5, ТБ 2.5], [2.06, 3.19, 4.32, 1.57, 2.47])  \n",
       "2  ([1, X, 2, ТМ 2.5, ТБ 2.5], [2.66, 3.20, 2.77, 1.63, 2.41])  "
      ]
     },
     "execution_count": 85,
     "metadata": {},
     "output_type": "execute_result"
    }
   ],
   "source": [
    "df_events.head(3)"
   ]
  },
  {
   "cell_type": "code",
   "execution_count": 25,
   "metadata": {},
   "outputs": [],
   "source": [
    "# main_ligues = pd.read_csv('csv_files/main_ligues.csv')\n",
    "# main_ligues = main_ligues.top_ligues.squeeze()\n",
    "# df_main = df[df.ligue_header.isin(main_ligues)].reset_index(drop=True)\n",
    "# df_main.shape\n",
    "# (353909, 8)"
   ]
  },
  {
   "cell_type": "code",
   "execution_count": 26,
   "metadata": {},
   "outputs": [],
   "source": [
    "top_ligues = TableConstant.top_ligues\n",
    "second_ligues = TableConstant.second_ligues"
   ]
  },
  {
   "cell_type": "code",
   "execution_count": 27,
   "metadata": {},
   "outputs": [],
   "source": [
    "df_games_tb['ligue_sts'] = np.where(df_games_tb.comp_id.isin(top_ligues), 'top', np.where(df_games_tb.comp_id.isin(second_ligues),'second', 'third'))"
   ]
  },
  {
   "cell_type": "markdown",
   "metadata": {},
   "source": [
    "#### Data clearing"
   ]
  },
  {
   "cell_type": "code",
   "execution_count": 28,
   "metadata": {},
   "outputs": [
    {
     "data": {
      "text/plain": [
       "third     350160\n",
       "second    118719\n",
       "top        74706\n",
       "Name: ligue_sts, dtype: int64"
      ]
     },
     "execution_count": 28,
     "metadata": {},
     "output_type": "execute_result"
    }
   ],
   "source": [
    "df_games_tb.ligue_sts.value_counts()"
   ]
  },
  {
   "cell_type": "code",
   "execution_count": 29,
   "metadata": {},
   "outputs": [],
   "source": [
    "df_games_tb = df_games_tb.merge(df_events, left_on='game_id', right_on='game_id')"
   ]
  },
  {
   "cell_type": "code",
   "execution_count": 30,
   "metadata": {},
   "outputs": [],
   "source": [
    "sr_coef     = df_games_tb.bet_coefs != ([],[])\n",
    "sr_pos_pts  = pd.notna(df_games_tb.posf_poss)\n",
    "df_pos_coef = pd.concat([sr_coef, sr_pos_pts], axis=1)"
   ]
  },
  {
   "cell_type": "code",
   "execution_count": 31,
   "metadata": {},
   "outputs": [
    {
     "data": {
      "text/plain": [
       "(47687, 2)"
      ]
     },
     "execution_count": 31,
     "metadata": {},
     "output_type": "execute_result"
    }
   ],
   "source": [
    "mask     = df_pos_coef.bet_coefs == False  \n",
    "mask_2   = df_pos_coef.posf_poss == False\n",
    "df_check = df_pos_coef[mask & mask_2]\n",
    "df_check.shape"
   ]
  },
  {
   "cell_type": "code",
   "execution_count": 32,
   "metadata": {},
   "outputs": [],
   "source": [
    "df_games_tb.drop(df_check.index, inplace=True)"
   ]
  },
  {
   "cell_type": "code",
   "execution_count": 33,
   "metadata": {},
   "outputs": [
    {
     "data": {
      "text/plain": [
       "(152667, 18)"
      ]
     },
     "execution_count": 33,
     "metadata": {},
     "output_type": "execute_result"
    }
   ],
   "source": [
    "df_games_tb.shape"
   ]
  },
  {
   "cell_type": "code",
   "execution_count": 75,
   "metadata": {},
   "outputs": [
    {
     "data": {
      "text/html": [
       "<div>\n",
       "<style scoped>\n",
       "    .dataframe tbody tr th:only-of-type {\n",
       "        vertical-align: middle;\n",
       "    }\n",
       "\n",
       "    .dataframe tbody tr th {\n",
       "        vertical-align: top;\n",
       "    }\n",
       "\n",
       "    .dataframe thead th {\n",
       "        text-align: right;\n",
       "    }\n",
       "</style>\n",
       "<table border=\"1\" class=\"dataframe\">\n",
       "  <thead>\n",
       "    <tr style=\"text-align: right;\">\n",
       "      <th></th>\n",
       "      <th>game_id</th>\n",
       "      <th>ligue_header</th>\n",
       "      <th>comp_id</th>\n",
       "      <th>season_id</th>\n",
       "      <th>game_utc</th>\n",
       "      <th>game_title</th>\n",
       "      <th>goals</th>\n",
       "      <th>f_com</th>\n",
       "      <th>posf_poss</th>\n",
       "      <th>ptsf_ptss</th>\n",
       "      <th>ligue_sts</th>\n",
       "      <th>event_mins</th>\n",
       "      <th>event_hts_ats</th>\n",
       "      <th>stats_dict</th>\n",
       "      <th>city_country</th>\n",
       "      <th>viewers</th>\n",
       "      <th>weath_temp</th>\n",
       "      <th>bet_coefs</th>\n",
       "      <th>city</th>\n",
       "      <th>country</th>\n",
       "    </tr>\n",
       "  </thead>\n",
       "  <tbody>\n",
       "    <tr>\n",
       "      <th>0</th>\n",
       "      <td>1458512</td>\n",
       "      <td>Segunda División</td>\n",
       "      <td>707</td>\n",
       "      <td>306</td>\n",
       "      <td>26.03.2021 20:00</td>\n",
       "      <td>Sporting Gijón - Alcorcón</td>\n",
       "      <td>0:0</td>\n",
       "      <td>Sporting Gijon</td>\n",
       "      <td>5 - 20</td>\n",
       "      <td>56 - 35</td>\n",
       "      <td>top</td>\n",
       "      <td>[61, 88]</td>\n",
       "      <td>[yellowcard, yellowcard]</td>\n",
       "      <td>[(Shots, 11, 9), (Shots on target, 3, 4), (Shots Blocked, 2, 3), (Saves, 4, 3), (Possession %, 44, 56), (Corner, 2, 5), (Fouls, 13, 8), (Offsides, 1, 1), (Yellow cards, 0, 2), (Red cards, 0, 0), (Attacks, 102, 121), (Attacks (Dangerous), 57, 71)]</td>\n",
       "      <td>Gijon, Spain</td>\n",
       "      <td></td>\n",
       "      <td>(+13, partly cloudy)</td>\n",
       "      <td>([1, X, 2, ТМ 2.5, ТБ 2.5], [1.95, 2.77, 4.72, 1.33, 3.08])</td>\n",
       "      <td>Gijon</td>\n",
       "      <td>Spain</td>\n",
       "    </tr>\n",
       "  </tbody>\n",
       "</table>\n",
       "</div>"
      ],
      "text/plain": [
       "   game_id      ligue_header comp_id season_id          game_utc  \\\n",
       "0  1458512  Segunda División     707       306  26.03.2021 20:00   \n",
       "\n",
       "                  game_title goals           f_com posf_poss ptsf_ptss  \\\n",
       "0  Sporting Gijón - Alcorcón   0:0  Sporting Gijon    5 - 20   56 - 35   \n",
       "\n",
       "  ligue_sts event_mins             event_hts_ats  \\\n",
       "0       top   [61, 88]  [yellowcard, yellowcard]   \n",
       "\n",
       "                                                                                                                                                                                                                                               stats_dict  \\\n",
       "0  [(Shots, 11, 9), (Shots on target, 3, 4), (Shots Blocked, 2, 3), (Saves, 4, 3), (Possession %, 44, 56), (Corner, 2, 5), (Fouls, 13, 8), (Offsides, 1, 1), (Yellow cards, 0, 2), (Red cards, 0, 0), (Attacks, 102, 121), (Attacks (Dangerous), 57, 71)]   \n",
       "\n",
       "   city_country viewers            weath_temp  \\\n",
       "0  Gijon, Spain          (+13, partly cloudy)   \n",
       "\n",
       "                                                     bet_coefs   city country  \n",
       "0  ([1, X, 2, ТМ 2.5, ТБ 2.5], [1.95, 2.77, 4.72, 1.33, 3.08])  Gijon   Spain  "
      ]
     },
     "execution_count": 75,
     "metadata": {},
     "output_type": "execute_result"
    }
   ],
   "source": [
    "df_games_tb.head(1)"
   ]
  },
  {
   "cell_type": "markdown",
   "metadata": {},
   "source": [
    "#### Add cities and countries"
   ]
  },
  {
   "cell_type": "code",
   "execution_count": 35,
   "metadata": {},
   "outputs": [],
   "source": [
    "df_games_tb['city']    = df_games_tb.city_country.map(lambda x: str(x).split(', ')[0] if len(str(x).split(', ')) == 2 else None)\n",
    "df_games_tb['country'] = df_games_tb.city_country.map(lambda x: str(x).split(', ')[1] if len(str(x).split(', ')) == 2 else None)"
   ]
  },
  {
   "cell_type": "code",
   "execution_count": 36,
   "metadata": {},
   "outputs": [
    {
     "data": {
      "text/plain": [
       "None         66513\n",
       "London        1486\n",
       "Sao Paulo     1381\n",
       "Name: city, dtype: int64"
      ]
     },
     "execution_count": 36,
     "metadata": {},
     "output_type": "execute_result"
    }
   ],
   "source": [
    "df_games_tb.city.value_counts(dropna=False)[:3]"
   ]
  },
  {
   "cell_type": "code",
   "execution_count": 37,
   "metadata": {},
   "outputs": [],
   "source": [
    "with open('pickle_files/df_teams_data', 'rb') as f:\n",
    "    df_teams_data = pickle.load(f)"
   ]
  },
  {
   "cell_type": "code",
   "execution_count": 73,
   "metadata": {},
   "outputs": [
    {
     "data": {
      "text/html": [
       "<div>\n",
       "<style scoped>\n",
       "    .dataframe tbody tr th:only-of-type {\n",
       "        vertical-align: middle;\n",
       "    }\n",
       "\n",
       "    .dataframe tbody tr th {\n",
       "        vertical-align: top;\n",
       "    }\n",
       "\n",
       "    .dataframe thead th {\n",
       "        text-align: right;\n",
       "    }\n",
       "</style>\n",
       "<table border=\"1\" class=\"dataframe\">\n",
       "  <thead>\n",
       "    <tr style=\"text-align: right;\">\n",
       "      <th></th>\n",
       "      <th>f_com</th>\n",
       "      <th>country_tm</th>\n",
       "      <th>city_tm</th>\n",
       "    </tr>\n",
       "  </thead>\n",
       "  <tbody>\n",
       "    <tr>\n",
       "      <th>0</th>\n",
       "      <td>AaB</td>\n",
       "      <td>Denmark</td>\n",
       "      <td>Aalborg</td>\n",
       "    </tr>\n",
       "    <tr>\n",
       "      <th>1</th>\n",
       "      <td>Aalesund</td>\n",
       "      <td>Norway</td>\n",
       "      <td>Alesund</td>\n",
       "    </tr>\n",
       "    <tr>\n",
       "      <th>2</th>\n",
       "      <td>Aarau</td>\n",
       "      <td>Switzerland</td>\n",
       "      <td>Aarau</td>\n",
       "    </tr>\n",
       "  </tbody>\n",
       "</table>\n",
       "</div>"
      ],
      "text/plain": [
       "      f_com   country_tm  city_tm\n",
       "0       AaB      Denmark  Aalborg\n",
       "1  Aalesund       Norway  Alesund\n",
       "2     Aarau  Switzerland    Aarau"
      ]
     },
     "execution_count": 73,
     "metadata": {},
     "output_type": "execute_result"
    }
   ],
   "source": [
    "df_teams_data.head(3)"
   ]
  },
  {
   "cell_type": "code",
   "execution_count": 39,
   "metadata": {},
   "outputs": [],
   "source": [
    "df_teams_data.rename(columns={'club':'f_com', 'country':'country_tm', 'city':'city_tm'}, inplace=True)"
   ]
  },
  {
   "cell_type": "code",
   "execution_count": 40,
   "metadata": {},
   "outputs": [],
   "source": [
    "df_games_tb.f_com = df_games_tb.f_com.map(lambda x: ParsingDataPrepare.str_utf_decode(x))"
   ]
  },
  {
   "cell_type": "code",
   "execution_count": 41,
   "metadata": {},
   "outputs": [],
   "source": [
    "df_games_tb = pd.merge(df_games_tb, df_teams_data, how='left', left_on='f_com', right_on='f_com')"
   ]
  },
  {
   "cell_type": "code",
   "execution_count": 42,
   "metadata": {},
   "outputs": [
    {
     "data": {
      "text/plain": [
       "None         66915\n",
       "Sao Paulo     1682\n",
       "London        1633\n",
       "Name: city, dtype: int64"
      ]
     },
     "execution_count": 42,
     "metadata": {},
     "output_type": "execute_result"
    }
   ],
   "source": [
    "df_games_tb.city.value_counts(dropna=False)[:3]"
   ]
  },
  {
   "cell_type": "code",
   "execution_count": 43,
   "metadata": {},
   "outputs": [],
   "source": [
    "sr_city    = df_games_tb[['city', 'city_tm']].apply(lambda x: x[0] if pd.notna(x[0]) else x[1], axis=1)\n",
    "sr_country = df_games_tb[['country', 'country_tm']].apply(lambda x: x[0] if pd.notna(x[0]) else x[1], axis=1)"
   ]
  },
  {
   "cell_type": "code",
   "execution_count": 44,
   "metadata": {},
   "outputs": [],
   "source": [
    "df_games_tb.city    = sr_city\n",
    "df_games_tb.country = sr_country"
   ]
  },
  {
   "cell_type": "code",
   "execution_count": 45,
   "metadata": {},
   "outputs": [
    {
     "data": {
      "text/plain": [
       "NaN             35101\n",
       "Buenos Aires     2253\n",
       "Sao Paulo        1828\n",
       "Name: city, dtype: int64"
      ]
     },
     "execution_count": 45,
     "metadata": {},
     "output_type": "execute_result"
    }
   ],
   "source": [
    "df_games_tb.city.value_counts(dropna=False)[:3]"
   ]
  },
  {
   "cell_type": "code",
   "execution_count": 46,
   "metadata": {},
   "outputs": [],
   "source": [
    "df_games_tb.drop(columns=['country_tm', 'city_tm'], inplace=True)"
   ]
  },
  {
   "cell_type": "code",
   "execution_count": 166,
   "metadata": {},
   "outputs": [],
   "source": [
    "df_na_cities = pd.DataFrame(df_games_tb[['game_id', 'f_com']][df_games_tb.city.isna()])"
   ]
  },
  {
   "cell_type": "code",
   "execution_count": 170,
   "metadata": {},
   "outputs": [],
   "source": [
    "df_na_cities = df_na_cities.drop_duplicates('f_com', keep='first')"
   ]
  },
  {
   "cell_type": "code",
   "execution_count": 173,
   "metadata": {},
   "outputs": [],
   "source": [
    "# list_indexes = open('pickle_files/df_game_ids_na_cities', 'wb')\n",
    "# pickle.dump(df_na_cities, list_indexes)  \n",
    "# list_indexes.close()"
   ]
  },
  {
   "cell_type": "code",
   "execution_count": 174,
   "metadata": {},
   "outputs": [],
   "source": [
    "com_na_cities = df_games_tb.f_com[df_games_tb.city.isna()]\n",
    "com_na_cities.reset_index(drop=True, inplace=True)"
   ]
  },
  {
   "cell_type": "code",
   "execution_count": 175,
   "metadata": {},
   "outputs": [
    {
     "data": {
      "text/plain": [
       "Oeste                   156\n",
       "Gillingham              145\n",
       "Doncaster Rovers        141\n",
       "Montevideo Wanderers    140\n",
       "Istra 1961              132\n",
       "Oss                     128\n",
       "Telstar                 127\n",
       "Hallescher              123\n",
       "Chiasso                 123\n",
       "Nacional Montevideo     120\n",
       "Name: f_com, dtype: int64"
      ]
     },
     "execution_count": 175,
     "metadata": {},
     "output_type": "execute_result"
    }
   ],
   "source": [
    "com_na_cities.value_counts()[:10]"
   ]
  },
  {
   "cell_type": "markdown",
   "metadata": {},
   "source": [
    "#### Add geo coordinate and cities popylation"
   ]
  },
  {
   "cell_type": "code",
   "execution_count": 71,
   "metadata": {},
   "outputs": [
    {
     "data": {
      "text/plain": [
       "Series([], dtype: int64)"
      ]
     },
     "execution_count": 71,
     "metadata": {},
     "output_type": "execute_result"
    }
   ],
   "source": [
    "find_c = df_games_tb[['f_com', 'city']].apply(lambda x: x[1] if re.findall('Merseburg', str(x[0])) else None, axis=1)\n",
    "find_c.value_counts()"
   ]
  },
  {
   "cell_type": "code",
   "execution_count": 74,
   "metadata": {},
   "outputs": [
    {
     "data": {
      "text/plain": [
       "Series([], dtype: int64)"
      ]
     },
     "execution_count": 74,
     "metadata": {},
     "output_type": "execute_result"
    }
   ],
   "source": [
    "find_c = df_teams_data[['f_com', 'city_tm']].apply(lambda x: x[1] if re.findall('Merseburg', str(x[0])) else None, axis=1)\n",
    "find_c.value_counts()"
   ]
  },
  {
   "cell_type": "code",
   "execution_count": null,
   "metadata": {},
   "outputs": [],
   "source": []
  },
  {
   "cell_type": "code",
   "execution_count": null,
   "metadata": {},
   "outputs": [],
   "source": []
  },
  {
   "cell_type": "code",
   "execution_count": null,
   "metadata": {},
   "outputs": [],
   "source": []
  },
  {
   "cell_type": "code",
   "execution_count": null,
   "metadata": {},
   "outputs": [],
   "source": []
  },
  {
   "cell_type": "code",
   "execution_count": null,
   "metadata": {},
   "outputs": [],
   "source": []
  },
  {
   "cell_type": "code",
   "execution_count": null,
   "metadata": {},
   "outputs": [],
   "source": []
  },
  {
   "cell_type": "code",
   "execution_count": 52,
   "metadata": {},
   "outputs": [],
   "source": [
    "with open('pickle_files/df_world_cities', 'rb') as f:\n",
    "    df_world_cities = pickle.load(f)"
   ]
  },
  {
   "cell_type": "code",
   "execution_count": 53,
   "metadata": {},
   "outputs": [
    {
     "data": {
      "text/html": [
       "<div>\n",
       "<style scoped>\n",
       "    .dataframe tbody tr th:only-of-type {\n",
       "        vertical-align: middle;\n",
       "    }\n",
       "\n",
       "    .dataframe tbody tr th {\n",
       "        vertical-align: top;\n",
       "    }\n",
       "\n",
       "    .dataframe thead th {\n",
       "        text-align: right;\n",
       "    }\n",
       "</style>\n",
       "<table border=\"1\" class=\"dataframe\">\n",
       "  <thead>\n",
       "    <tr style=\"text-align: right;\">\n",
       "      <th></th>\n",
       "      <th>country</th>\n",
       "      <th>city</th>\n",
       "      <th>population</th>\n",
       "      <th>latitude</th>\n",
       "      <th>longitude</th>\n",
       "      <th>lat</th>\n",
       "      <th>lon</th>\n",
       "    </tr>\n",
       "  </thead>\n",
       "  <tbody>\n",
       "    <tr>\n",
       "      <th>0</th>\n",
       "      <td>Andorra</td>\n",
       "      <td>Aixàs</td>\n",
       "      <td>NaN</td>\n",
       "      <td>42.483333</td>\n",
       "      <td>1.466667</td>\n",
       "      <td>42n28</td>\n",
       "      <td>1e28</td>\n",
       "    </tr>\n",
       "    <tr>\n",
       "      <th>1</th>\n",
       "      <td>Andorra</td>\n",
       "      <td>Aixirivali</td>\n",
       "      <td>NaN</td>\n",
       "      <td>42.466667</td>\n",
       "      <td>1.500000</td>\n",
       "      <td>42n28</td>\n",
       "      <td>1e30</td>\n",
       "    </tr>\n",
       "    <tr>\n",
       "      <th>2</th>\n",
       "      <td>Andorra</td>\n",
       "      <td>Aixirivall</td>\n",
       "      <td>NaN</td>\n",
       "      <td>42.466667</td>\n",
       "      <td>1.500000</td>\n",
       "      <td>42n28</td>\n",
       "      <td>1e30</td>\n",
       "    </tr>\n",
       "  </tbody>\n",
       "</table>\n",
       "</div>"
      ],
      "text/plain": [
       "   country        city population   latitude  longitude    lat   lon\n",
       "0  Andorra       Aixàs        NaN  42.483333   1.466667  42n28  1e28\n",
       "1  Andorra  Aixirivali        NaN  42.466667   1.500000  42n28  1e30\n",
       "2  Andorra  Aixirivall        NaN  42.466667   1.500000  42n28  1e30"
      ]
     },
     "execution_count": 53,
     "metadata": {},
     "output_type": "execute_result"
    }
   ],
   "source": [
    "df_world_cities.head(3)"
   ]
  },
  {
   "cell_type": "code",
   "execution_count": 56,
   "metadata": {},
   "outputs": [],
   "source": [
    "sr_city     = pd.notna(df_games_tb.city)\n",
    "sr_country  = pd.notna(df_games_tb.country)\n",
    "# df_check = df_pos_coef[sr_city & sr_country]\n",
    "# df_check.shape"
   ]
  },
  {
   "cell_type": "code",
   "execution_count": 57,
   "metadata": {},
   "outputs": [
    {
     "data": {
      "text/plain": [
       "True     119761\n",
       "False     35101\n",
       "Name: city, dtype: int64"
      ]
     },
     "execution_count": 57,
     "metadata": {},
     "output_type": "execute_result"
    }
   ],
   "source": [
    "sr_city.value_counts()"
   ]
  },
  {
   "cell_type": "code",
   "execution_count": 58,
   "metadata": {},
   "outputs": [
    {
     "data": {
      "text/plain": [
       "True     119761\n",
       "False     35101\n",
       "Name: country, dtype: int64"
      ]
     },
     "execution_count": 58,
     "metadata": {},
     "output_type": "execute_result"
    }
   ],
   "source": [
    "sr_country.value_counts()"
   ]
  },
  {
   "cell_type": "code",
   "execution_count": 59,
   "metadata": {},
   "outputs": [],
   "source": [
    "tmp = df_games_tb.city_country.map(lambda x: str(x).split(', ')[0])"
   ]
  },
  {
   "cell_type": "code",
   "execution_count": 60,
   "metadata": {},
   "outputs": [
    {
     "data": {
      "text/plain": [
       "                  54058\n",
       "Sao Paulo          1682\n",
       "London             1633\n",
       "Argentina          1184\n",
       "Rio de Janeiro     1006\n",
       "                  ...  \n",
       "Rechytsa              1\n",
       "Santa Clara           1\n",
       "New Zealand           1\n",
       "Australia             1\n",
       "Auckland              1\n",
       "Name: city_country, Length: 945, dtype: int64"
      ]
     },
     "execution_count": 60,
     "metadata": {},
     "output_type": "execute_result"
    }
   ],
   "source": [
    "tmp.value_counts()"
   ]
  },
  {
   "cell_type": "code",
   "execution_count": 61,
   "metadata": {},
   "outputs": [],
   "source": [
    "tmp = df_teams_data.f_com.map(lambda x: re.findall('Haig', str(x)))"
   ]
  },
  {
   "cell_type": "code",
   "execution_count": null,
   "metadata": {},
   "outputs": [],
   "source": []
  },
  {
   "cell_type": "code",
   "execution_count": null,
   "metadata": {},
   "outputs": [],
   "source": []
  }
 ],
 "metadata": {
  "kernelspec": {
   "display_name": "Python 3 (ipykernel)",
   "language": "python",
   "name": "python3"
  },
  "language_info": {
   "codemirror_mode": {
    "name": "ipython",
    "version": 3
   },
   "file_extension": ".py",
   "mimetype": "text/x-python",
   "name": "python",
   "nbconvert_exporter": "python",
   "pygments_lexer": "ipython3",
   "version": "3.9.7"
  }
 },
 "nbformat": 4,
 "nbformat_minor": 4
}

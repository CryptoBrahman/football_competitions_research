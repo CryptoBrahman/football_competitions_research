{
 "cells": [
  {
   "cell_type": "code",
   "execution_count": 2,
   "metadata": {},
   "outputs": [],
   "source": [
    "import os\n",
    "import re\n",
    "import pickle\n",
    "import datetime\n",
    "import pandas as pd\n",
    "import numpy as np\n",
    "\n",
    "from _html_parser import ParsingDataPrepare, TableConstant\n",
    "\n",
    "pd.set_option('display.max_rows', 500)\n",
    "pd.set_option('display.max_columns', 500)\n",
    "pd.set_option('display.max_colwidth', 500)"
   ]
  },
  {
   "cell_type": "code",
   "execution_count": 3,
   "metadata": {},
   "outputs": [],
   "source": [
    "%load_ext autoreload\n",
    "%autoreload 2"
   ]
  },
  {
   "cell_type": "markdown",
   "metadata": {},
   "source": [
    "#### Choose the date for dirs and files"
   ]
  },
  {
   "cell_type": "code",
   "execution_count": 4,
   "metadata": {},
   "outputs": [],
   "source": [
    "# Start from more time ('26_05_2022' -'27_03_2021'), ('26_03_2021' - '03_11_2013)\n",
    "dir_data = dir_data_start = '26_05_2022'\n",
    "dir_data_end = '27_03_2021'"
   ]
  },
  {
   "cell_type": "code",
   "execution_count": 5,
   "metadata": {},
   "outputs": [],
   "source": [
    "with open('pickle_files/new_events/'+ dir_data +'/df_'+ dir_data_start +'_to_'+ dir_data_end  +'_games', 'rb') as f:\n",
    "    df_games = pickle.load(f)"
   ]
  },
  {
   "cell_type": "code",
   "execution_count": 6,
   "metadata": {},
   "outputs": [
    {
     "data": {
      "text/html": [
       "<div>\n",
       "<style scoped>\n",
       "    .dataframe tbody tr th:only-of-type {\n",
       "        vertical-align: middle;\n",
       "    }\n",
       "\n",
       "    .dataframe tbody tr th {\n",
       "        vertical-align: top;\n",
       "    }\n",
       "\n",
       "    .dataframe thead th {\n",
       "        text-align: right;\n",
       "    }\n",
       "</style>\n",
       "<table border=\"1\" class=\"dataframe\">\n",
       "  <thead>\n",
       "    <tr style=\"text-align: right;\">\n",
       "      <th></th>\n",
       "      <th>game_id</th>\n",
       "      <th>ligue_header</th>\n",
       "      <th>comp_id</th>\n",
       "      <th>season_id</th>\n",
       "      <th>game_utc</th>\n",
       "      <th>game_title</th>\n",
       "      <th>goals</th>\n",
       "    </tr>\n",
       "  </thead>\n",
       "  <tbody>\n",
       "    <tr>\n",
       "      <th>0</th>\n",
       "      <td>1729359</td>\n",
       "      <td>Ligue 1</td>\n",
       "      <td>18</td>\n",
       "      <td>310</td>\n",
       "      <td>26.05.2022 17:00</td>\n",
       "      <td>Auxerre - Saint-Etienne</td>\n",
       "      <td>1:1</td>\n",
       "    </tr>\n",
       "    <tr>\n",
       "      <th>1</th>\n",
       "      <td>1729393</td>\n",
       "      <td>Serie B</td>\n",
       "      <td>627</td>\n",
       "      <td>310</td>\n",
       "      <td>26.05.2022 18:30</td>\n",
       "      <td>Monza - Pisa</td>\n",
       "      <td>2:1</td>\n",
       "    </tr>\n",
       "    <tr>\n",
       "      <th>2</th>\n",
       "      <td>1729388</td>\n",
       "      <td>Eredivisie</td>\n",
       "      <td>596</td>\n",
       "      <td>Cup</td>\n",
       "      <td>26.05.2022 18:00</td>\n",
       "      <td>Vitesse - AZ Alkmaar</td>\n",
       "      <td>2:1</td>\n",
       "    </tr>\n",
       "    <tr>\n",
       "      <th>3</th>\n",
       "      <td>1708335</td>\n",
       "      <td>Premier League</td>\n",
       "      <td>483</td>\n",
       "      <td>301</td>\n",
       "      <td>26.05.2022 15:00</td>\n",
       "      <td>FC Minsk - Arsenal Dzerzhinsk</td>\n",
       "      <td>2:0</td>\n",
       "    </tr>\n",
       "    <tr>\n",
       "      <th>4</th>\n",
       "      <td>1687458</td>\n",
       "      <td>Eliteserien</td>\n",
       "      <td>747</td>\n",
       "      <td>301</td>\n",
       "      <td>26.05.2022 16:00</td>\n",
       "      <td>Rosenborg - Haugesund</td>\n",
       "      <td>3:3</td>\n",
       "    </tr>\n",
       "    <tr>\n",
       "      <th>...</th>\n",
       "      <td>...</td>\n",
       "      <td>...</td>\n",
       "      <td>...</td>\n",
       "      <td>...</td>\n",
       "      <td>...</td>\n",
       "      <td>...</td>\n",
       "      <td>...</td>\n",
       "    </tr>\n",
       "    <tr>\n",
       "      <th>91916</th>\n",
       "      <td>15197308</td>\n",
       "      <td>Primera Division</td>\n",
       "      <td>593</td>\n",
       "      <td>306</td>\n",
       "      <td>28.03.2021 17:00</td>\n",
       "      <td>Nueva Concepcion - Suchitepequez</td>\n",
       "      <td>1:1</td>\n",
       "    </tr>\n",
       "    <tr>\n",
       "      <th>91917</th>\n",
       "      <td>15197309</td>\n",
       "      <td>Primera Division</td>\n",
       "      <td>593</td>\n",
       "      <td>306</td>\n",
       "      <td>28.03.2021 20:59</td>\n",
       "      <td>Deportivo San Pedro - Plataneros</td>\n",
       "      <td>2:1</td>\n",
       "    </tr>\n",
       "    <tr>\n",
       "      <th>91918</th>\n",
       "      <td>15092974</td>\n",
       "      <td>National Football League</td>\n",
       "      <td>575</td>\n",
       "      <td>307</td>\n",
       "      <td>28.03.2021 03:00</td>\n",
       "      <td>Navua - Rewa</td>\n",
       "      <td>1:2</td>\n",
       "    </tr>\n",
       "    <tr>\n",
       "      <th>91919</th>\n",
       "      <td>15092975</td>\n",
       "      <td>National Football League</td>\n",
       "      <td>575</td>\n",
       "      <td>307</td>\n",
       "      <td>28.03.2021 03:00</td>\n",
       "      <td>Ba - Lautoka</td>\n",
       "      <td>1:2</td>\n",
       "    </tr>\n",
       "    <tr>\n",
       "      <th>91920</th>\n",
       "      <td>15092976</td>\n",
       "      <td>National Football League</td>\n",
       "      <td>575</td>\n",
       "      <td>307</td>\n",
       "      <td>28.03.2021 03:00</td>\n",
       "      <td>Nadi - Suva</td>\n",
       "      <td>1:0</td>\n",
       "    </tr>\n",
       "  </tbody>\n",
       "</table>\n",
       "<p>91921 rows × 7 columns</p>\n",
       "</div>"
      ],
      "text/plain": [
       "        game_id              ligue_header comp_id season_id          game_utc  \\\n",
       "0       1729359                   Ligue 1      18       310  26.05.2022 17:00   \n",
       "1       1729393                   Serie B     627       310  26.05.2022 18:30   \n",
       "2       1729388                Eredivisie     596       Cup  26.05.2022 18:00   \n",
       "3       1708335            Premier League     483       301  26.05.2022 15:00   \n",
       "4       1687458               Eliteserien     747       301  26.05.2022 16:00   \n",
       "...         ...                       ...     ...       ...               ...   \n",
       "91916  15197308          Primera Division     593       306  28.03.2021 17:00   \n",
       "91917  15197309          Primera Division     593       306  28.03.2021 20:59   \n",
       "91918  15092974  National Football League     575       307  28.03.2021 03:00   \n",
       "91919  15092975  National Football League     575       307  28.03.2021 03:00   \n",
       "91920  15092976  National Football League     575       307  28.03.2021 03:00   \n",
       "\n",
       "                             game_title goals  \n",
       "0               Auxerre - Saint-Etienne   1:1  \n",
       "1                          Monza - Pisa   2:1  \n",
       "2                  Vitesse - AZ Alkmaar   2:1  \n",
       "3         FC Minsk - Arsenal Dzerzhinsk   2:0  \n",
       "4                 Rosenborg - Haugesund   3:3  \n",
       "...                                 ...   ...  \n",
       "91916  Nueva Concepcion - Suchitepequez   1:1  \n",
       "91917  Deportivo San Pedro - Plataneros   2:1  \n",
       "91918                      Navua - Rewa   1:2  \n",
       "91919                      Ba - Lautoka   1:2  \n",
       "91920                       Nadi - Suva   1:0  \n",
       "\n",
       "[91921 rows x 7 columns]"
      ]
     },
     "execution_count": 6,
     "metadata": {},
     "output_type": "execute_result"
    }
   ],
   "source": [
    "df_games"
   ]
  },
  {
   "cell_type": "code",
   "execution_count": 7,
   "metadata": {},
   "outputs": [],
   "source": [
    "df_games['f_com'] = df_games.game_title.map(lambda x: str(x).split(' - ')[0])\n",
    "df_games['s_com'] = df_games.game_title.map(lambda x: str(x).split(' - ')[1])"
   ]
  },
  {
   "cell_type": "code",
   "execution_count": 8,
   "metadata": {},
   "outputs": [
    {
     "data": {
      "text/html": [
       "<div>\n",
       "<style scoped>\n",
       "    .dataframe tbody tr th:only-of-type {\n",
       "        vertical-align: middle;\n",
       "    }\n",
       "\n",
       "    .dataframe tbody tr th {\n",
       "        vertical-align: top;\n",
       "    }\n",
       "\n",
       "    .dataframe thead th {\n",
       "        text-align: right;\n",
       "    }\n",
       "</style>\n",
       "<table border=\"1\" class=\"dataframe\">\n",
       "  <thead>\n",
       "    <tr style=\"text-align: right;\">\n",
       "      <th></th>\n",
       "      <th>game_id</th>\n",
       "      <th>ligue_header</th>\n",
       "      <th>comp_id</th>\n",
       "      <th>season_id</th>\n",
       "      <th>game_utc</th>\n",
       "      <th>game_title</th>\n",
       "      <th>goals</th>\n",
       "      <th>f_com</th>\n",
       "      <th>s_com</th>\n",
       "    </tr>\n",
       "  </thead>\n",
       "  <tbody>\n",
       "    <tr>\n",
       "      <th>0</th>\n",
       "      <td>1729359</td>\n",
       "      <td>Ligue 1</td>\n",
       "      <td>18</td>\n",
       "      <td>310</td>\n",
       "      <td>26.05.2022 17:00</td>\n",
       "      <td>Auxerre - Saint-Etienne</td>\n",
       "      <td>1:1</td>\n",
       "      <td>Auxerre</td>\n",
       "      <td>Saint-Etienne</td>\n",
       "    </tr>\n",
       "    <tr>\n",
       "      <th>1</th>\n",
       "      <td>1729393</td>\n",
       "      <td>Serie B</td>\n",
       "      <td>627</td>\n",
       "      <td>310</td>\n",
       "      <td>26.05.2022 18:30</td>\n",
       "      <td>Monza - Pisa</td>\n",
       "      <td>2:1</td>\n",
       "      <td>Monza</td>\n",
       "      <td>Pisa</td>\n",
       "    </tr>\n",
       "    <tr>\n",
       "      <th>2</th>\n",
       "      <td>1729388</td>\n",
       "      <td>Eredivisie</td>\n",
       "      <td>596</td>\n",
       "      <td>Cup</td>\n",
       "      <td>26.05.2022 18:00</td>\n",
       "      <td>Vitesse - AZ Alkmaar</td>\n",
       "      <td>2:1</td>\n",
       "      <td>Vitesse</td>\n",
       "      <td>AZ Alkmaar</td>\n",
       "    </tr>\n",
       "  </tbody>\n",
       "</table>\n",
       "</div>"
      ],
      "text/plain": [
       "   game_id ligue_header comp_id season_id          game_utc  \\\n",
       "0  1729359      Ligue 1      18       310  26.05.2022 17:00   \n",
       "1  1729393      Serie B     627       310  26.05.2022 18:30   \n",
       "2  1729388   Eredivisie     596       Cup  26.05.2022 18:00   \n",
       "\n",
       "                game_title goals    f_com          s_com  \n",
       "0  Auxerre - Saint-Etienne   1:1  Auxerre  Saint-Etienne  \n",
       "1             Monza - Pisa   2:1    Monza           Pisa  \n",
       "2     Vitesse - AZ Alkmaar   2:1  Vitesse     AZ Alkmaar  "
      ]
     },
     "execution_count": 8,
     "metadata": {},
     "output_type": "execute_result"
    }
   ],
   "source": [
    "df_games.head(3)"
   ]
  },
  {
   "cell_type": "markdown",
   "metadata": {},
   "source": [
    "#### Add competitions data "
   ]
  },
  {
   "cell_type": "code",
   "execution_count": 9,
   "metadata": {},
   "outputs": [],
   "source": [
    "with open('pickle_files/new_events/'+ dir_data +'/df_comp_tabs_'+ dir_data_start +'_topsec_lgs', 'rb') as f:\n",
    "    df_comp_tables = pickle.load(f)"
   ]
  },
  {
   "cell_type": "code",
   "execution_count": 10,
   "metadata": {},
   "outputs": [],
   "source": [
    "df_comp_tables.rename(columns={'team_name':'f_com'}, inplace=True)"
   ]
  },
  {
   "cell_type": "code",
   "execution_count": 11,
   "metadata": {},
   "outputs": [],
   "source": [
    "# Duble column for get data for each team\n",
    "df_comp_tables['s_com'] = df_comp_tables.f_com"
   ]
  },
  {
   "cell_type": "code",
   "execution_count": 23,
   "metadata": {},
   "outputs": [
    {
     "data": {
      "text/html": [
       "<div>\n",
       "<style scoped>\n",
       "    .dataframe tbody tr th:only-of-type {\n",
       "        vertical-align: middle;\n",
       "    }\n",
       "\n",
       "    .dataframe tbody tr th {\n",
       "        vertical-align: top;\n",
       "    }\n",
       "\n",
       "    .dataframe thead th {\n",
       "        text-align: right;\n",
       "    }\n",
       "</style>\n",
       "<table border=\"1\" class=\"dataframe\">\n",
       "  <thead>\n",
       "    <tr style=\"text-align: right;\">\n",
       "      <th></th>\n",
       "      <th>f_com</th>\n",
       "      <th>pos</th>\n",
       "      <th>pld</th>\n",
       "      <th>w</th>\n",
       "      <th>d</th>\n",
       "      <th>l</th>\n",
       "      <th>gf</th>\n",
       "      <th>ga</th>\n",
       "      <th>+/-</th>\n",
       "      <th>pts</th>\n",
       "      <th>comp_id</th>\n",
       "      <th>season_id</th>\n",
       "      <th>league</th>\n",
       "      <th>s_com</th>\n",
       "    </tr>\n",
       "  </thead>\n",
       "  <tbody>\n",
       "    <tr>\n",
       "      <th>0</th>\n",
       "      <td>Red Bull Salzburg</td>\n",
       "      <td>1</td>\n",
       "      <td>22</td>\n",
       "      <td>17</td>\n",
       "      <td>4</td>\n",
       "      <td>1</td>\n",
       "      <td>50</td>\n",
       "      <td>13</td>\n",
       "      <td>+37</td>\n",
       "      <td>55</td>\n",
       "      <td>474</td>\n",
       "      <td>310</td>\n",
       "      <td>top</td>\n",
       "      <td>Red Bull Salzburg</td>\n",
       "    </tr>\n",
       "    <tr>\n",
       "      <th>1</th>\n",
       "      <td>Sturm Graz</td>\n",
       "      <td>2</td>\n",
       "      <td>22</td>\n",
       "      <td>10</td>\n",
       "      <td>7</td>\n",
       "      <td>5</td>\n",
       "      <td>46</td>\n",
       "      <td>32</td>\n",
       "      <td>+14</td>\n",
       "      <td>37</td>\n",
       "      <td>474</td>\n",
       "      <td>310</td>\n",
       "      <td>top</td>\n",
       "      <td>Sturm Graz</td>\n",
       "    </tr>\n",
       "    <tr>\n",
       "      <th>2</th>\n",
       "      <td>Wolfsberger AC</td>\n",
       "      <td>3</td>\n",
       "      <td>22</td>\n",
       "      <td>11</td>\n",
       "      <td>4</td>\n",
       "      <td>7</td>\n",
       "      <td>34</td>\n",
       "      <td>32</td>\n",
       "      <td>+2</td>\n",
       "      <td>37</td>\n",
       "      <td>474</td>\n",
       "      <td>310</td>\n",
       "      <td>top</td>\n",
       "      <td>Wolfsberger AC</td>\n",
       "    </tr>\n",
       "    <tr>\n",
       "      <th>3</th>\n",
       "      <td>Austria Vienna</td>\n",
       "      <td>4</td>\n",
       "      <td>22</td>\n",
       "      <td>8</td>\n",
       "      <td>9</td>\n",
       "      <td>5</td>\n",
       "      <td>31</td>\n",
       "      <td>23</td>\n",
       "      <td>+8</td>\n",
       "      <td>33</td>\n",
       "      <td>474</td>\n",
       "      <td>310</td>\n",
       "      <td>top</td>\n",
       "      <td>Austria Vienna</td>\n",
       "    </tr>\n",
       "    <tr>\n",
       "      <th>4</th>\n",
       "      <td>Rapid Vienna</td>\n",
       "      <td>5</td>\n",
       "      <td>22</td>\n",
       "      <td>8</td>\n",
       "      <td>7</td>\n",
       "      <td>7</td>\n",
       "      <td>35</td>\n",
       "      <td>31</td>\n",
       "      <td>+4</td>\n",
       "      <td>31</td>\n",
       "      <td>474</td>\n",
       "      <td>310</td>\n",
       "      <td>top</td>\n",
       "      <td>Rapid Vienna</td>\n",
       "    </tr>\n",
       "    <tr>\n",
       "      <th>...</th>\n",
       "      <td>...</td>\n",
       "      <td>...</td>\n",
       "      <td>...</td>\n",
       "      <td>...</td>\n",
       "      <td>...</td>\n",
       "      <td>...</td>\n",
       "      <td>...</td>\n",
       "      <td>...</td>\n",
       "      <td>...</td>\n",
       "      <td>...</td>\n",
       "      <td>...</td>\n",
       "      <td>...</td>\n",
       "      <td>...</td>\n",
       "      <td>...</td>\n",
       "    </tr>\n",
       "    <tr>\n",
       "      <th>558</th>\n",
       "      <td>Hapoel Haifa</td>\n",
       "      <td>10</td>\n",
       "      <td>26</td>\n",
       "      <td>7</td>\n",
       "      <td>9</td>\n",
       "      <td>10</td>\n",
       "      <td>30</td>\n",
       "      <td>37</td>\n",
       "      <td>-7</td>\n",
       "      <td>30</td>\n",
       "      <td>761</td>\n",
       "      <td>306</td>\n",
       "      <td>sec</td>\n",
       "      <td>Hapoel Haifa</td>\n",
       "    </tr>\n",
       "    <tr>\n",
       "      <th>559</th>\n",
       "      <td>Bnei Sakhnin</td>\n",
       "      <td>11</td>\n",
       "      <td>26</td>\n",
       "      <td>8</td>\n",
       "      <td>5</td>\n",
       "      <td>13</td>\n",
       "      <td>15</td>\n",
       "      <td>36</td>\n",
       "      <td>-21</td>\n",
       "      <td>29</td>\n",
       "      <td>761</td>\n",
       "      <td>306</td>\n",
       "      <td>sec</td>\n",
       "      <td>Bnei Sakhnin</td>\n",
       "    </tr>\n",
       "    <tr>\n",
       "      <th>560</th>\n",
       "      <td>Hapoel Tel Aviv</td>\n",
       "      <td>12</td>\n",
       "      <td>26</td>\n",
       "      <td>6</td>\n",
       "      <td>9</td>\n",
       "      <td>11</td>\n",
       "      <td>17</td>\n",
       "      <td>28</td>\n",
       "      <td>-11</td>\n",
       "      <td>27</td>\n",
       "      <td>761</td>\n",
       "      <td>306</td>\n",
       "      <td>sec</td>\n",
       "      <td>Hapoel Tel Aviv</td>\n",
       "    </tr>\n",
       "    <tr>\n",
       "      <th>561</th>\n",
       "      <td>Hapoel Kfar-Saba</td>\n",
       "      <td>13</td>\n",
       "      <td>26</td>\n",
       "      <td>6</td>\n",
       "      <td>5</td>\n",
       "      <td>15</td>\n",
       "      <td>19</td>\n",
       "      <td>33</td>\n",
       "      <td>-14</td>\n",
       "      <td>23</td>\n",
       "      <td>761</td>\n",
       "      <td>306</td>\n",
       "      <td>sec</td>\n",
       "      <td>Hapoel Kfar-Saba</td>\n",
       "    </tr>\n",
       "    <tr>\n",
       "      <th>562</th>\n",
       "      <td>Bnei Yehuda</td>\n",
       "      <td>14</td>\n",
       "      <td>26</td>\n",
       "      <td>5</td>\n",
       "      <td>7</td>\n",
       "      <td>14</td>\n",
       "      <td>15</td>\n",
       "      <td>36</td>\n",
       "      <td>-21</td>\n",
       "      <td>22</td>\n",
       "      <td>761</td>\n",
       "      <td>306</td>\n",
       "      <td>sec</td>\n",
       "      <td>Bnei Yehuda</td>\n",
       "    </tr>\n",
       "  </tbody>\n",
       "</table>\n",
       "<p>563 rows × 14 columns</p>\n",
       "</div>"
      ],
      "text/plain": [
       "                 f_com pos pld   w  d   l  gf  ga  +/- pts comp_id season_id  \\\n",
       "0    Red Bull Salzburg   1  22  17  4   1  50  13  +37  55     474       310   \n",
       "1           Sturm Graz   2  22  10  7   5  46  32  +14  37     474       310   \n",
       "2       Wolfsberger AC   3  22  11  4   7  34  32   +2  37     474       310   \n",
       "3       Austria Vienna   4  22   8  9   5  31  23   +8  33     474       310   \n",
       "4         Rapid Vienna   5  22   8  7   7  35  31   +4  31     474       310   \n",
       "..                 ...  ..  ..  .. ..  ..  ..  ..  ...  ..     ...       ...   \n",
       "558       Hapoel Haifa  10  26   7  9  10  30  37   -7  30     761       306   \n",
       "559       Bnei Sakhnin  11  26   8  5  13  15  36  -21  29     761       306   \n",
       "560    Hapoel Tel Aviv  12  26   6  9  11  17  28  -11  27     761       306   \n",
       "561   Hapoel Kfar-Saba  13  26   6  5  15  19  33  -14  23     761       306   \n",
       "562        Bnei Yehuda  14  26   5  7  14  15  36  -21  22     761       306   \n",
       "\n",
       "    league              s_com  \n",
       "0      top  Red Bull Salzburg  \n",
       "1      top         Sturm Graz  \n",
       "2      top     Wolfsberger AC  \n",
       "3      top     Austria Vienna  \n",
       "4      top       Rapid Vienna  \n",
       "..     ...                ...  \n",
       "558    sec       Hapoel Haifa  \n",
       "559    sec       Bnei Sakhnin  \n",
       "560    sec    Hapoel Tel Aviv  \n",
       "561    sec   Hapoel Kfar-Saba  \n",
       "562    sec        Bnei Yehuda  \n",
       "\n",
       "[563 rows x 14 columns]"
      ]
     },
     "execution_count": 23,
     "metadata": {},
     "output_type": "execute_result"
    }
   ],
   "source": [
    "df_comp_tables"
   ]
  },
  {
   "cell_type": "code",
   "execution_count": 13,
   "metadata": {},
   "outputs": [],
   "source": [
    "df_fcom = pd.merge(left=df_games, right=df_comp_tables[['f_com','comp_id','season_id','pos', 'pts']], on=['f_com','comp_id','season_id'], how='left')\n",
    "df_fcom.rename(columns={'pos':'pos_f', 'pts':'pts_f'}, inplace=True)"
   ]
  },
  {
   "cell_type": "code",
   "execution_count": 14,
   "metadata": {},
   "outputs": [],
   "source": [
    "df_scom = pd.merge(left=df_games, right=df_comp_tables[['s_com','comp_id','season_id','pos', 'pts']], on=['s_com','comp_id','season_id'], how='left')\n",
    "df_scom.rename(columns={'pos':'pos_s', 'pts':'pts_s'}, inplace=True)"
   ]
  },
  {
   "cell_type": "code",
   "execution_count": 15,
   "metadata": {},
   "outputs": [],
   "source": [
    "df_games_tb = pd.merge(df_fcom, df_scom[['pos_s','pts_s']], how='left', left_index=True, right_index=True)"
   ]
  },
  {
   "cell_type": "code",
   "execution_count": 16,
   "metadata": {},
   "outputs": [],
   "source": [
    "df_games_tb.pos_f = pd.to_numeric(df_games_tb.pos_f, errors='coerce')\n",
    "df_games_tb.pos_s = pd.to_numeric(df_games_tb.pos_s, errors='coerce')\n",
    "df_games_tb.pts_f = pd.to_numeric(df_games_tb.pts_f, errors='coerce')\n",
    "df_games_tb.pts_s = pd.to_numeric(df_games_tb.pts_s, errors='coerce')"
   ]
  },
  {
   "cell_type": "code",
   "execution_count": 17,
   "metadata": {},
   "outputs": [],
   "source": [
    "df_games_tb['posf_poss'] = df_games_tb[['pos_f', 'pos_s']].apply(lambda x: str(x[0]).replace('.0', '') + ' - ' + str(x[1]).replace('.0', '') \\\n",
    "                                                                 if pd.notna(x[0]) and pd.notna(x[1]) else None, axis=1) \n",
    "df_games_tb['ptsf_ptss'] = df_games_tb[['pts_f', 'pts_s']].apply(lambda x: str(x[0]).replace('.0', '') + ' - ' + str(x[1]).replace('.0', '') \\\n",
    "                                                                 if pd.notna(x[0]) and pd.notna(x[1]) else None, axis=1) "
   ]
  },
  {
   "cell_type": "code",
   "execution_count": 18,
   "metadata": {},
   "outputs": [],
   "source": [
    "df_games_tb.drop(columns=['s_com', 'pos_f', 'pts_f', 'pos_s', 'pts_s'], inplace=True)"
   ]
  },
  {
   "cell_type": "code",
   "execution_count": 19,
   "metadata": {},
   "outputs": [
    {
     "data": {
      "text/plain": [
       "None     86795\n",
       "2 - 3       55\n",
       "1 - 2       51\n",
       "3 - 1       51\n",
       "Name: posf_poss, dtype: int64"
      ]
     },
     "execution_count": 19,
     "metadata": {},
     "output_type": "execute_result"
    }
   ],
   "source": [
    "df_games_tb.posf_poss.value_counts(dropna=False).head(4)"
   ]
  },
  {
   "cell_type": "code",
   "execution_count": 20,
   "metadata": {},
   "outputs": [
    {
     "data": {
      "text/html": [
       "<div>\n",
       "<style scoped>\n",
       "    .dataframe tbody tr th:only-of-type {\n",
       "        vertical-align: middle;\n",
       "    }\n",
       "\n",
       "    .dataframe tbody tr th {\n",
       "        vertical-align: top;\n",
       "    }\n",
       "\n",
       "    .dataframe thead th {\n",
       "        text-align: right;\n",
       "    }\n",
       "</style>\n",
       "<table border=\"1\" class=\"dataframe\">\n",
       "  <thead>\n",
       "    <tr style=\"text-align: right;\">\n",
       "      <th></th>\n",
       "      <th>game_id</th>\n",
       "      <th>ligue_header</th>\n",
       "      <th>comp_id</th>\n",
       "      <th>season_id</th>\n",
       "      <th>game_utc</th>\n",
       "      <th>game_title</th>\n",
       "      <th>goals</th>\n",
       "      <th>f_com</th>\n",
       "      <th>posf_poss</th>\n",
       "      <th>ptsf_ptss</th>\n",
       "    </tr>\n",
       "  </thead>\n",
       "  <tbody>\n",
       "    <tr>\n",
       "      <th>0</th>\n",
       "      <td>1729359</td>\n",
       "      <td>Ligue 1</td>\n",
       "      <td>18</td>\n",
       "      <td>310</td>\n",
       "      <td>26.05.2022 17:00</td>\n",
       "      <td>Auxerre - Saint-Etienne</td>\n",
       "      <td>1:1</td>\n",
       "      <td>Auxerre</td>\n",
       "      <td>None</td>\n",
       "      <td>None</td>\n",
       "    </tr>\n",
       "    <tr>\n",
       "      <th>1</th>\n",
       "      <td>1729393</td>\n",
       "      <td>Serie B</td>\n",
       "      <td>627</td>\n",
       "      <td>310</td>\n",
       "      <td>26.05.2022 18:30</td>\n",
       "      <td>Monza - Pisa</td>\n",
       "      <td>2:1</td>\n",
       "      <td>Monza</td>\n",
       "      <td>None</td>\n",
       "      <td>None</td>\n",
       "    </tr>\n",
       "    <tr>\n",
       "      <th>2</th>\n",
       "      <td>1729388</td>\n",
       "      <td>Eredivisie</td>\n",
       "      <td>596</td>\n",
       "      <td>Cup</td>\n",
       "      <td>26.05.2022 18:00</td>\n",
       "      <td>Vitesse - AZ Alkmaar</td>\n",
       "      <td>2:1</td>\n",
       "      <td>Vitesse</td>\n",
       "      <td>None</td>\n",
       "      <td>None</td>\n",
       "    </tr>\n",
       "    <tr>\n",
       "      <th>3</th>\n",
       "      <td>1708335</td>\n",
       "      <td>Premier League</td>\n",
       "      <td>483</td>\n",
       "      <td>301</td>\n",
       "      <td>26.05.2022 15:00</td>\n",
       "      <td>FC Minsk - Arsenal Dzerzhinsk</td>\n",
       "      <td>2:0</td>\n",
       "      <td>FC Minsk</td>\n",
       "      <td>None</td>\n",
       "      <td>None</td>\n",
       "    </tr>\n",
       "    <tr>\n",
       "      <th>4</th>\n",
       "      <td>1687458</td>\n",
       "      <td>Eliteserien</td>\n",
       "      <td>747</td>\n",
       "      <td>301</td>\n",
       "      <td>26.05.2022 16:00</td>\n",
       "      <td>Rosenborg - Haugesund</td>\n",
       "      <td>3:3</td>\n",
       "      <td>Rosenborg</td>\n",
       "      <td>None</td>\n",
       "      <td>None</td>\n",
       "    </tr>\n",
       "    <tr>\n",
       "      <th>...</th>\n",
       "      <td>...</td>\n",
       "      <td>...</td>\n",
       "      <td>...</td>\n",
       "      <td>...</td>\n",
       "      <td>...</td>\n",
       "      <td>...</td>\n",
       "      <td>...</td>\n",
       "      <td>...</td>\n",
       "      <td>...</td>\n",
       "      <td>...</td>\n",
       "    </tr>\n",
       "    <tr>\n",
       "      <th>91916</th>\n",
       "      <td>15197308</td>\n",
       "      <td>Primera Division</td>\n",
       "      <td>593</td>\n",
       "      <td>306</td>\n",
       "      <td>28.03.2021 17:00</td>\n",
       "      <td>Nueva Concepcion - Suchitepequez</td>\n",
       "      <td>1:1</td>\n",
       "      <td>Nueva Concepcion</td>\n",
       "      <td>None</td>\n",
       "      <td>None</td>\n",
       "    </tr>\n",
       "    <tr>\n",
       "      <th>91917</th>\n",
       "      <td>15197309</td>\n",
       "      <td>Primera Division</td>\n",
       "      <td>593</td>\n",
       "      <td>306</td>\n",
       "      <td>28.03.2021 20:59</td>\n",
       "      <td>Deportivo San Pedro - Plataneros</td>\n",
       "      <td>2:1</td>\n",
       "      <td>Deportivo San Pedro</td>\n",
       "      <td>None</td>\n",
       "      <td>None</td>\n",
       "    </tr>\n",
       "    <tr>\n",
       "      <th>91918</th>\n",
       "      <td>15092974</td>\n",
       "      <td>National Football League</td>\n",
       "      <td>575</td>\n",
       "      <td>307</td>\n",
       "      <td>28.03.2021 03:00</td>\n",
       "      <td>Navua - Rewa</td>\n",
       "      <td>1:2</td>\n",
       "      <td>Navua</td>\n",
       "      <td>None</td>\n",
       "      <td>None</td>\n",
       "    </tr>\n",
       "    <tr>\n",
       "      <th>91919</th>\n",
       "      <td>15092975</td>\n",
       "      <td>National Football League</td>\n",
       "      <td>575</td>\n",
       "      <td>307</td>\n",
       "      <td>28.03.2021 03:00</td>\n",
       "      <td>Ba - Lautoka</td>\n",
       "      <td>1:2</td>\n",
       "      <td>Ba</td>\n",
       "      <td>None</td>\n",
       "      <td>None</td>\n",
       "    </tr>\n",
       "    <tr>\n",
       "      <th>91920</th>\n",
       "      <td>15092976</td>\n",
       "      <td>National Football League</td>\n",
       "      <td>575</td>\n",
       "      <td>307</td>\n",
       "      <td>28.03.2021 03:00</td>\n",
       "      <td>Nadi - Suva</td>\n",
       "      <td>1:0</td>\n",
       "      <td>Nadi</td>\n",
       "      <td>None</td>\n",
       "      <td>None</td>\n",
       "    </tr>\n",
       "  </tbody>\n",
       "</table>\n",
       "<p>91921 rows × 10 columns</p>\n",
       "</div>"
      ],
      "text/plain": [
       "        game_id              ligue_header comp_id season_id          game_utc  \\\n",
       "0       1729359                   Ligue 1      18       310  26.05.2022 17:00   \n",
       "1       1729393                   Serie B     627       310  26.05.2022 18:30   \n",
       "2       1729388                Eredivisie     596       Cup  26.05.2022 18:00   \n",
       "3       1708335            Premier League     483       301  26.05.2022 15:00   \n",
       "4       1687458               Eliteserien     747       301  26.05.2022 16:00   \n",
       "...         ...                       ...     ...       ...               ...   \n",
       "91916  15197308          Primera Division     593       306  28.03.2021 17:00   \n",
       "91917  15197309          Primera Division     593       306  28.03.2021 20:59   \n",
       "91918  15092974  National Football League     575       307  28.03.2021 03:00   \n",
       "91919  15092975  National Football League     575       307  28.03.2021 03:00   \n",
       "91920  15092976  National Football League     575       307  28.03.2021 03:00   \n",
       "\n",
       "                             game_title goals                f_com posf_poss  \\\n",
       "0               Auxerre - Saint-Etienne   1:1              Auxerre      None   \n",
       "1                          Monza - Pisa   2:1                Monza      None   \n",
       "2                  Vitesse - AZ Alkmaar   2:1              Vitesse      None   \n",
       "3         FC Minsk - Arsenal Dzerzhinsk   2:0             FC Minsk      None   \n",
       "4                 Rosenborg - Haugesund   3:3            Rosenborg      None   \n",
       "...                                 ...   ...                  ...       ...   \n",
       "91916  Nueva Concepcion - Suchitepequez   1:1     Nueva Concepcion      None   \n",
       "91917  Deportivo San Pedro - Plataneros   2:1  Deportivo San Pedro      None   \n",
       "91918                      Navua - Rewa   1:2                Navua      None   \n",
       "91919                      Ba - Lautoka   1:2                   Ba      None   \n",
       "91920                       Nadi - Suva   1:0                 Nadi      None   \n",
       "\n",
       "      ptsf_ptss  \n",
       "0          None  \n",
       "1          None  \n",
       "2          None  \n",
       "3          None  \n",
       "4          None  \n",
       "...         ...  \n",
       "91916      None  \n",
       "91917      None  \n",
       "91918      None  \n",
       "91919      None  \n",
       "91920      None  \n",
       "\n",
       "[91921 rows x 10 columns]"
      ]
     },
     "execution_count": 20,
     "metadata": {},
     "output_type": "execute_result"
    }
   ],
   "source": [
    "df_games_tb"
   ]
  },
  {
   "cell_type": "code",
   "execution_count": 22,
   "metadata": {},
   "outputs": [],
   "source": [
    "# stop"
   ]
  },
  {
   "cell_type": "markdown",
   "metadata": {},
   "source": [
    "#### Add games events"
   ]
  },
  {
   "cell_type": "code",
   "execution_count": null,
   "metadata": {},
   "outputs": [],
   "source": [
    "with open('pickle_files/new_events/'+ dir_data +'/df_evns_'+ dir_data_start +'_to_'+ dir_data_end, 'rb') as f:\n",
    "    df_events = pickle.load(f)"
   ]
  },
  {
   "cell_type": "code",
   "execution_count": null,
   "metadata": {},
   "outputs": [],
   "source": [
    "print('shape - ', df_events.shape)\n",
    "df_events.head(2)"
   ]
  },
  {
   "cell_type": "code",
   "execution_count": null,
   "metadata": {},
   "outputs": [],
   "source": [
    "df_events.event_desc = df_events.event_desc.map(lambda x: [y[0]+y[-1] for y in x])"
   ]
  },
  {
   "cell_type": "code",
   "execution_count": null,
   "metadata": {},
   "outputs": [],
   "source": [
    "df_events.shape"
   ]
  },
  {
   "cell_type": "markdown",
   "metadata": {},
   "source": [
    "#### Check max len stats_dict col for new names df's columns"
   ]
  },
  {
   "cell_type": "code",
   "execution_count": null,
   "metadata": {},
   "outputs": [],
   "source": [
    "maxlen_stats_dict = df_events.stats_dict.map(lambda x: len(x))\n",
    "maxlen_stats_dict.max()"
   ]
  },
  {
   "cell_type": "code",
   "execution_count": null,
   "metadata": {},
   "outputs": [],
   "source": [
    "maxlen_stats_dict[maxlen_stats_dict == 19].head(2)"
   ]
  },
  {
   "cell_type": "code",
   "execution_count": null,
   "metadata": {},
   "outputs": [],
   "source": [
    "col_names = [x[0] for x in df_events.stats_dict[2592]]"
   ]
  },
  {
   "cell_type": "code",
   "execution_count": null,
   "metadata": {},
   "outputs": [],
   "source": [
    "str(col_names)"
   ]
  },
  {
   "cell_type": "code",
   "execution_count": null,
   "metadata": {},
   "outputs": [],
   "source": [
    "for col in col_names:\n",
    "    df_events[col] = df_events.stats_dict.map(lambda x: ''.join([str(y[1]) + '-' + str(y[2]) for y in x if y[0] == col]))"
   ]
  },
  {
   "cell_type": "code",
   "execution_count": null,
   "metadata": {},
   "outputs": [],
   "source": [
    "df_events.drop(columns=['stats_dict'], inplace=True)"
   ]
  },
  {
   "cell_type": "code",
   "execution_count": null,
   "metadata": {},
   "outputs": [],
   "source": [
    "# df_events.head(3)"
   ]
  },
  {
   "cell_type": "code",
   "execution_count": null,
   "metadata": {},
   "outputs": [],
   "source": [
    "# main_ligues = pd.read_csv('csv_files/main_ligues.csv')\n",
    "# main_ligues = main_ligues.top_ligues.squeeze()\n",
    "# df_main = df[df.ligue_header.isin(main_ligues)].reset_index(drop=True)\n",
    "# df_main.shape\n",
    "# (353909, 8)"
   ]
  },
  {
   "cell_type": "code",
   "execution_count": null,
   "metadata": {},
   "outputs": [],
   "source": [
    "top_ligues = TableConstant.top_ligues\n",
    "sec_ligues = TableConstant.second_ligues"
   ]
  },
  {
   "cell_type": "code",
   "execution_count": null,
   "metadata": {},
   "outputs": [],
   "source": [
    "df_games_tb['ligue_sts'] = np.where(df_games_tb.comp_id.isin(top_ligues), 'top', np.where(df_games_tb.comp_id.isin(second_ligues),'sec', 'thd'))"
   ]
  },
  {
   "cell_type": "markdown",
   "metadata": {},
   "source": [
    "#### Data clearing"
   ]
  },
  {
   "cell_type": "code",
   "execution_count": null,
   "metadata": {},
   "outputs": [],
   "source": [
    "df_games_tb.ligue_sts.value_counts()"
   ]
  },
  {
   "cell_type": "code",
   "execution_count": null,
   "metadata": {},
   "outputs": [],
   "source": [
    "df_games_tb = df_games_tb.merge(df_events, left_on='game_id', right_on='game_id')"
   ]
  },
  {
   "cell_type": "code",
   "execution_count": null,
   "metadata": {},
   "outputs": [],
   "source": [
    "sr_coef     = df_games_tb.bet_coefs != ([],[])\n",
    "sr_pos_pts  = pd.notna(df_games_tb.posf_poss)\n",
    "df_pos_coef = pd.concat([sr_coef, sr_pos_pts], axis=1)"
   ]
  },
  {
   "cell_type": "code",
   "execution_count": null,
   "metadata": {},
   "outputs": [],
   "source": [
    "mask     = df_pos_coef.bet_coefs == False  \n",
    "mask_2   = df_pos_coef.posf_poss == False\n",
    "df_check = df_pos_coef[mask & mask_2]\n",
    "df_check.shape"
   ]
  },
  {
   "cell_type": "code",
   "execution_count": null,
   "metadata": {},
   "outputs": [],
   "source": [
    "df_games_tb.drop(df_check.index, inplace=True)"
   ]
  },
  {
   "cell_type": "code",
   "execution_count": null,
   "metadata": {},
   "outputs": [],
   "source": [
    "df_games_tb.shape"
   ]
  },
  {
   "cell_type": "code",
   "execution_count": null,
   "metadata": {},
   "outputs": [],
   "source": [
    "df_games_tb.head(1)"
   ]
  },
  {
   "cell_type": "markdown",
   "metadata": {},
   "source": [
    "#### Add cities and countries"
   ]
  },
  {
   "cell_type": "code",
   "execution_count": null,
   "metadata": {},
   "outputs": [],
   "source": [
    "df_games_tb['city']    = df_games_tb.city_country.map(lambda x: str(x).split(', ')[0] if len(str(x).split(', ')) == 2 else None)\n",
    "df_games_tb['country'] = df_games_tb.city_country.map(lambda x: str(x).split(', ')[1] if len(str(x).split(', ')) == 2 else None)"
   ]
  },
  {
   "cell_type": "code",
   "execution_count": null,
   "metadata": {},
   "outputs": [],
   "source": [
    "df_games_tb.city.value_counts(dropna=False)[:3]"
   ]
  },
  {
   "cell_type": "code",
   "execution_count": null,
   "metadata": {},
   "outputs": [],
   "source": [
    "with open('pickle_files/df_teams_data', 'rb') as f:\n",
    "    df_teams_data = pickle.load(f)"
   ]
  },
  {
   "cell_type": "code",
   "execution_count": null,
   "metadata": {},
   "outputs": [],
   "source": [
    "df_teams_data.head(3)"
   ]
  },
  {
   "cell_type": "code",
   "execution_count": null,
   "metadata": {},
   "outputs": [],
   "source": [
    "df_teams_data.rename(columns={'club':'f_com', 'country':'country_tm', 'city':'city_tm'}, inplace=True)"
   ]
  },
  {
   "cell_type": "code",
   "execution_count": null,
   "metadata": {},
   "outputs": [],
   "source": [
    "df_games_tb.f_com = df_games_tb.f_com.map(lambda x: ParsingDataPrepare.str_utf_decode(x))"
   ]
  },
  {
   "cell_type": "code",
   "execution_count": null,
   "metadata": {},
   "outputs": [],
   "source": [
    "df_games_tb = pd.merge(df_games_tb, df_teams_data, how='left', left_on='f_com', right_on='f_com')"
   ]
  },
  {
   "cell_type": "code",
   "execution_count": null,
   "metadata": {},
   "outputs": [],
   "source": [
    "df_games_tb.city.value_counts(dropna=False)[:3]"
   ]
  },
  {
   "cell_type": "code",
   "execution_count": null,
   "metadata": {},
   "outputs": [],
   "source": [
    "sr_city    = df_games_tb[['city', 'city_tm']].apply(lambda x: x[0] if pd.notna(x[0]) else x[1], axis=1)\n",
    "sr_country = df_games_tb[['country', 'country_tm']].apply(lambda x: x[0] if pd.notna(x[0]) else x[1], axis=1)"
   ]
  },
  {
   "cell_type": "code",
   "execution_count": null,
   "metadata": {},
   "outputs": [],
   "source": [
    "df_games_tb.city    = sr_city\n",
    "df_games_tb.country = sr_country"
   ]
  },
  {
   "cell_type": "code",
   "execution_count": null,
   "metadata": {},
   "outputs": [],
   "source": [
    "df_games_tb.city.value_counts(dropna=False)[:3]"
   ]
  },
  {
   "cell_type": "code",
   "execution_count": null,
   "metadata": {},
   "outputs": [],
   "source": [
    "df_games_tb.drop(columns=['country_tm', 'city_tm'], inplace=True)"
   ]
  },
  {
   "cell_type": "code",
   "execution_count": null,
   "metadata": {},
   "outputs": [],
   "source": [
    "df_na_cities = pd.DataFrame(df_games_tb[['game_id', 'f_com']][df_games_tb.city.isna()])"
   ]
  },
  {
   "cell_type": "code",
   "execution_count": null,
   "metadata": {},
   "outputs": [],
   "source": [
    "df_na_cities = df_na_cities.drop_duplicates('f_com', keep='first')"
   ]
  },
  {
   "cell_type": "code",
   "execution_count": null,
   "metadata": {},
   "outputs": [],
   "source": [
    "# list_indexes = open('pickle_files/df_game_ids_na_cities', 'wb')\n",
    "# pickle.dump(df_na_cities, list_indexes)  \n",
    "# list_indexes.close()"
   ]
  },
  {
   "cell_type": "code",
   "execution_count": null,
   "metadata": {},
   "outputs": [],
   "source": [
    "com_na_cities = df_games_tb.f_com[df_games_tb.city.isna()]\n",
    "com_na_cities.reset_index(drop=True, inplace=True)"
   ]
  },
  {
   "cell_type": "code",
   "execution_count": null,
   "metadata": {},
   "outputs": [],
   "source": [
    "com_na_cities.value_counts()[:10]"
   ]
  },
  {
   "cell_type": "markdown",
   "metadata": {},
   "source": [
    "#### Add geo coordinate and cities popylation"
   ]
  },
  {
   "cell_type": "code",
   "execution_count": null,
   "metadata": {},
   "outputs": [],
   "source": [
    "find_c = df_games_tb[['f_com', 'city']].apply(lambda x: x[1] if re.findall('Merseburg', str(x[0])) else None, axis=1)\n",
    "find_c.value_counts()"
   ]
  },
  {
   "cell_type": "code",
   "execution_count": null,
   "metadata": {},
   "outputs": [],
   "source": [
    "find_c = df_teams_data[['f_com', 'city_tm']].apply(lambda x: x[1] if re.findall('Merseburg', str(x[0])) else None, axis=1)\n",
    "find_c.value_counts()"
   ]
  },
  {
   "cell_type": "code",
   "execution_count": null,
   "metadata": {},
   "outputs": [],
   "source": []
  },
  {
   "cell_type": "code",
   "execution_count": null,
   "metadata": {},
   "outputs": [],
   "source": []
  },
  {
   "cell_type": "code",
   "execution_count": null,
   "metadata": {},
   "outputs": [],
   "source": []
  },
  {
   "cell_type": "code",
   "execution_count": null,
   "metadata": {},
   "outputs": [],
   "source": []
  },
  {
   "cell_type": "code",
   "execution_count": null,
   "metadata": {},
   "outputs": [],
   "source": []
  },
  {
   "cell_type": "code",
   "execution_count": null,
   "metadata": {},
   "outputs": [],
   "source": []
  },
  {
   "cell_type": "code",
   "execution_count": null,
   "metadata": {},
   "outputs": [],
   "source": [
    "with open('pickle_files/df_world_cities', 'rb') as f:\n",
    "    df_world_cities = pickle.load(f)"
   ]
  },
  {
   "cell_type": "code",
   "execution_count": null,
   "metadata": {},
   "outputs": [],
   "source": [
    "df_world_cities.head(3)"
   ]
  },
  {
   "cell_type": "code",
   "execution_count": null,
   "metadata": {},
   "outputs": [],
   "source": [
    "sr_city     = pd.notna(df_games_tb.city)\n",
    "sr_country  = pd.notna(df_games_tb.country)\n",
    "# df_check = df_pos_coef[sr_city & sr_country]\n",
    "# df_check.shape"
   ]
  },
  {
   "cell_type": "code",
   "execution_count": null,
   "metadata": {},
   "outputs": [],
   "source": [
    "sr_city.value_counts()"
   ]
  },
  {
   "cell_type": "code",
   "execution_count": null,
   "metadata": {},
   "outputs": [],
   "source": [
    "sr_country.value_counts()"
   ]
  },
  {
   "cell_type": "code",
   "execution_count": null,
   "metadata": {},
   "outputs": [],
   "source": [
    "tmp = df_games_tb.city_country.map(lambda x: str(x).split(', ')[0])"
   ]
  },
  {
   "cell_type": "code",
   "execution_count": null,
   "metadata": {},
   "outputs": [],
   "source": [
    "tmp.value_counts()"
   ]
  },
  {
   "cell_type": "code",
   "execution_count": null,
   "metadata": {},
   "outputs": [],
   "source": [
    "tmp = df_teams_data.f_com.map(lambda x: re.findall('Haig', str(x)))"
   ]
  },
  {
   "cell_type": "code",
   "execution_count": null,
   "metadata": {},
   "outputs": [],
   "source": []
  },
  {
   "cell_type": "code",
   "execution_count": null,
   "metadata": {},
   "outputs": [],
   "source": []
  }
 ],
 "metadata": {
  "kernelspec": {
   "display_name": "Python 3 (ipykernel)",
   "language": "python",
   "name": "python3"
  },
  "language_info": {
   "codemirror_mode": {
    "name": "ipython",
    "version": 3
   },
   "file_extension": ".py",
   "mimetype": "text/x-python",
   "name": "python",
   "nbconvert_exporter": "python",
   "pygments_lexer": "ipython3",
   "version": "3.9.7"
  }
 },
 "nbformat": 4,
 "nbformat_minor": 4
}

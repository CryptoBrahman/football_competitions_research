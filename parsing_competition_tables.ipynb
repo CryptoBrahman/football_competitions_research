{
 "cells": [
  {
   "cell_type": "code",
   "execution_count": 1,
   "id": "about-pakistan",
   "metadata": {},
   "outputs": [],
   "source": [
    "import pickle\n",
    "import pandas as pd\n",
    "from _html_parser import HtmlParser, ParsingDataPrepare, TableConstant\n",
    "\n",
    "pd.set_option('display.max_rows', 10)\n",
    "pd.set_option('display.max_columns', 500)\n",
    "pd.set_option('display.max_colwidth', 500)"
   ]
  },
  {
   "cell_type": "code",
   "execution_count": 2,
   "id": "116e5aa8-2c17-4aff-bd28-579d6688de5d",
   "metadata": {},
   "outputs": [],
   "source": [
    "%load_ext autoreload\n",
    "%autoreload 2"
   ]
  },
  {
   "cell_type": "markdown",
   "id": "grand-windows",
   "metadata": {},
   "source": [
    "### Competitions tables parser"
   ]
  },
  {
   "cell_type": "code",
   "execution_count": 14,
   "id": "neutral-medication",
   "metadata": {},
   "outputs": [],
   "source": [
    "# df_26_05_2022_to_27_03_2021_games, df_26_03_2021_to_03_11_2013_games, df_02_11_2013_to_10_07_2005_games, df_09_07_2005_to_01_01_2000_games\n",
    "# df_29_12_1999_to_15_08_1998_games\n",
    "with open('pickle_files/new_events/16_09_2022/df_16_09_2022_to_26_05_2022_games', 'rb') as f:\n",
    "    df_games = pickle.load(f)"
   ]
  },
  {
   "cell_type": "code",
   "execution_count": 15,
   "id": "a737b6c7-639d-4e9a-bd70-c85a88283f1f",
   "metadata": {},
   "outputs": [
    {
     "data": {
      "text/html": [
       "<div>\n",
       "<style scoped>\n",
       "    .dataframe tbody tr th:only-of-type {\n",
       "        vertical-align: middle;\n",
       "    }\n",
       "\n",
       "    .dataframe tbody tr th {\n",
       "        vertical-align: top;\n",
       "    }\n",
       "\n",
       "    .dataframe thead th {\n",
       "        text-align: right;\n",
       "    }\n",
       "</style>\n",
       "<table border=\"1\" class=\"dataframe\">\n",
       "  <thead>\n",
       "    <tr style=\"text-align: right;\">\n",
       "      <th></th>\n",
       "      <th>game_id</th>\n",
       "      <th>ligue_header</th>\n",
       "      <th>comp_id</th>\n",
       "      <th>season_id</th>\n",
       "      <th>game_utc</th>\n",
       "      <th>game_title</th>\n",
       "      <th>goals</th>\n",
       "      <th>ligue</th>\n",
       "    </tr>\n",
       "  </thead>\n",
       "  <tbody>\n",
       "    <tr>\n",
       "      <th>0</th>\n",
       "      <td>1736289</td>\n",
       "      <td>Premier League</td>\n",
       "      <td>12</td>\n",
       "      <td>381</td>\n",
       "      <td>16.09.2022 19:00</td>\n",
       "      <td>Aston Villa - Southampton</td>\n",
       "      <td>1:0</td>\n",
       "      <td>top</td>\n",
       "    </tr>\n",
       "    <tr>\n",
       "      <th>1</th>\n",
       "      <td>1736296</td>\n",
       "      <td>Premier League</td>\n",
       "      <td>12</td>\n",
       "      <td>381</td>\n",
       "      <td>16.09.2022 19:00</td>\n",
       "      <td>Nottingham - Fulham</td>\n",
       "      <td>2:3</td>\n",
       "      <td>top</td>\n",
       "    </tr>\n",
       "    <tr>\n",
       "      <th>2</th>\n",
       "      <td>1747456</td>\n",
       "      <td>Serie A</td>\n",
       "      <td>15</td>\n",
       "      <td>381</td>\n",
       "      <td>16.09.2022 18:45</td>\n",
       "      <td>Salernitana - Lecce</td>\n",
       "      <td>1:2</td>\n",
       "      <td>top</td>\n",
       "    </tr>\n",
       "    <tr>\n",
       "      <th>3</th>\n",
       "      <td>1744353</td>\n",
       "      <td>Primera Division</td>\n",
       "      <td>16</td>\n",
       "      <td>381</td>\n",
       "      <td>16.09.2022 19:00</td>\n",
       "      <td>Real Valladolid - Cadiz</td>\n",
       "      <td>0:1</td>\n",
       "      <td>top</td>\n",
       "    </tr>\n",
       "    <tr>\n",
       "      <th>4</th>\n",
       "      <td>1748218</td>\n",
       "      <td>Segunda División</td>\n",
       "      <td>707</td>\n",
       "      <td>381</td>\n",
       "      <td>16.09.2022 19:00</td>\n",
       "      <td>Levante - Cartagena</td>\n",
       "      <td>0:1</td>\n",
       "      <td>top</td>\n",
       "    </tr>\n",
       "    <tr>\n",
       "      <th>...</th>\n",
       "      <td>...</td>\n",
       "      <td>...</td>\n",
       "      <td>...</td>\n",
       "      <td>...</td>\n",
       "      <td>...</td>\n",
       "      <td>...</td>\n",
       "      <td>...</td>\n",
       "      <td>...</td>\n",
       "    </tr>\n",
       "    <tr>\n",
       "      <th>24287</th>\n",
       "      <td>1607985</td>\n",
       "      <td>Landesliga</td>\n",
       "      <td>475</td>\n",
       "      <td>310</td>\n",
       "      <td>28.05.2022 15:30</td>\n",
       "      <td>Volders - Münster</td>\n",
       "      <td>0:1</td>\n",
       "      <td>thr</td>\n",
       "    </tr>\n",
       "    <tr>\n",
       "      <th>24288</th>\n",
       "      <td>1607984</td>\n",
       "      <td>Landesliga</td>\n",
       "      <td>475</td>\n",
       "      <td>310</td>\n",
       "      <td>28.05.2022 15:30</td>\n",
       "      <td>Innsbrucker AC - Mils</td>\n",
       "      <td>3:2</td>\n",
       "      <td>thr</td>\n",
       "    </tr>\n",
       "    <tr>\n",
       "      <th>24289</th>\n",
       "      <td>1607740</td>\n",
       "      <td>Landesliga</td>\n",
       "      <td>475</td>\n",
       "      <td>310</td>\n",
       "      <td>28.05.2022 16:00</td>\n",
       "      <td>St. Jakob - SAK Klagenfurt</td>\n",
       "      <td>0:1</td>\n",
       "      <td>thr</td>\n",
       "    </tr>\n",
       "    <tr>\n",
       "      <th>24290</th>\n",
       "      <td>1607990</td>\n",
       "      <td>Landesliga</td>\n",
       "      <td>475</td>\n",
       "      <td>310</td>\n",
       "      <td>28.05.2022 16:30</td>\n",
       "      <td>Natters - Prutz / Serfaus</td>\n",
       "      <td>3:2</td>\n",
       "      <td>thr</td>\n",
       "    </tr>\n",
       "    <tr>\n",
       "      <th>24291</th>\n",
       "      <td>1617486</td>\n",
       "      <td>Landesliga</td>\n",
       "      <td>475</td>\n",
       "      <td>310</td>\n",
       "      <td>28.05.2022 17:00</td>\n",
       "      <td>Pinkafeld - Parndorf</td>\n",
       "      <td>0:1</td>\n",
       "      <td>thr</td>\n",
       "    </tr>\n",
       "  </tbody>\n",
       "</table>\n",
       "<p>24292 rows × 8 columns</p>\n",
       "</div>"
      ],
      "text/plain": [
       "       game_id      ligue_header comp_id season_id          game_utc  \\\n",
       "0      1736289    Premier League      12       381  16.09.2022 19:00   \n",
       "1      1736296    Premier League      12       381  16.09.2022 19:00   \n",
       "2      1747456           Serie A      15       381  16.09.2022 18:45   \n",
       "3      1744353  Primera Division      16       381  16.09.2022 19:00   \n",
       "4      1748218  Segunda División     707       381  16.09.2022 19:00   \n",
       "...        ...               ...     ...       ...               ...   \n",
       "24287  1607985        Landesliga     475       310  28.05.2022 15:30   \n",
       "24288  1607984        Landesliga     475       310  28.05.2022 15:30   \n",
       "24289  1607740        Landesliga     475       310  28.05.2022 16:00   \n",
       "24290  1607990        Landesliga     475       310  28.05.2022 16:30   \n",
       "24291  1617486        Landesliga     475       310  28.05.2022 17:00   \n",
       "\n",
       "                       game_title goals ligue  \n",
       "0       Aston Villa - Southampton   1:0   top  \n",
       "1             Nottingham - Fulham   2:3   top  \n",
       "2             Salernitana - Lecce   1:2   top  \n",
       "3         Real Valladolid - Cadiz   0:1   top  \n",
       "4             Levante - Cartagena   0:1   top  \n",
       "...                           ...   ...   ...  \n",
       "24287           Volders - Münster   0:1   thr  \n",
       "24288       Innsbrucker AC - Mils   3:2   thr  \n",
       "24289  St. Jakob - SAK Klagenfurt   0:1   thr  \n",
       "24290   Natters - Prutz / Serfaus   3:2   thr  \n",
       "24291        Pinkafeld - Parndorf   0:1   thr  \n",
       "\n",
       "[24292 rows x 8 columns]"
      ]
     },
     "execution_count": 15,
     "metadata": {},
     "output_type": "execute_result"
    }
   ],
   "source": [
    "df_games"
   ]
  },
  {
   "cell_type": "code",
   "execution_count": 16,
   "id": "environmental-compound",
   "metadata": {},
   "outputs": [],
   "source": [
    "comp_seasons = ParsingDataPrepare.competition_season_ids(df_games)"
   ]
  },
  {
   "cell_type": "code",
   "execution_count": 17,
   "id": "9a527e47-5bf5-499c-b9d2-382bb21ab69e",
   "metadata": {},
   "outputs": [
    {
     "data": {
      "text/plain": [
       "('1037', [])"
      ]
     },
     "execution_count": 17,
     "metadata": {},
     "output_type": "execute_result"
    }
   ],
   "source": [
    "list(comp_seasons.keys())[3], list(comp_seasons.values())[3]"
   ]
  },
  {
   "cell_type": "code",
   "execution_count": 18,
   "id": "242ae94c-b86f-4b58-9cc0-d8710a93df17",
   "metadata": {},
   "outputs": [
    {
     "data": {
      "text/plain": [
       "465"
      ]
     },
     "execution_count": 18,
     "metadata": {},
     "output_type": "execute_result"
    }
   ],
   "source": [
    "len(comp_seasons)"
   ]
  },
  {
   "cell_type": "code",
   "execution_count": 19,
   "id": "psychological-landscape",
   "metadata": {},
   "outputs": [],
   "source": [
    "dict_seasons = dict((x, y) for x, y in comp_seasons.items() if y != [])"
   ]
  },
  {
   "cell_type": "code",
   "execution_count": 21,
   "id": "4a9274d8-061b-443d-b1c9-ed4fe4969a50",
   "metadata": {},
   "outputs": [],
   "source": [
    "# dict_seasons"
   ]
  },
  {
   "cell_type": "code",
   "execution_count": 22,
   "id": "seeing-review",
   "metadata": {},
   "outputs": [
    {
     "data": {
      "text/plain": [
       "('1067', ['381', '310'])"
      ]
     },
     "execution_count": 22,
     "metadata": {},
     "output_type": "execute_result"
    }
   ],
   "source": [
    "list(dict_seasons.keys())[2], list(dict_seasons.values())[2] "
   ]
  },
  {
   "cell_type": "code",
   "execution_count": 25,
   "id": "critical-hammer",
   "metadata": {},
   "outputs": [],
   "source": [
    "# comp_tables = HtmlParser.parsing_competition_tables(dict_seasons)"
   ]
  },
  {
   "cell_type": "code",
   "execution_count": 24,
   "id": "1204ed4a-4d54-463a-9280-a65c456f2388",
   "metadata": {},
   "outputs": [
    {
     "data": {
      "text/plain": [
       "306"
      ]
     },
     "execution_count": 24,
     "metadata": {},
     "output_type": "execute_result"
    }
   ],
   "source": [
    "len(comp_tables)"
   ]
  },
  {
   "cell_type": "code",
   "execution_count": 27,
   "id": "finite-swing",
   "metadata": {},
   "outputs": [],
   "source": [
    "# comp_tables"
   ]
  },
  {
   "cell_type": "code",
   "execution_count": 28,
   "id": "ff70ee7f-4435-4bfd-b034-11e789e55e77",
   "metadata": {},
   "outputs": [],
   "source": [
    "df_comp_tables = ParsingDataPrepare.create_df_comp_tables(comp_tables)"
   ]
  },
  {
   "cell_type": "code",
   "execution_count": 29,
   "id": "59616092-1896-4873-a750-40bc77f0416b",
   "metadata": {},
   "outputs": [
    {
     "data": {
      "text/html": [
       "<div>\n",
       "<style scoped>\n",
       "    .dataframe tbody tr th:only-of-type {\n",
       "        vertical-align: middle;\n",
       "    }\n",
       "\n",
       "    .dataframe tbody tr th {\n",
       "        vertical-align: top;\n",
       "    }\n",
       "\n",
       "    .dataframe thead th {\n",
       "        text-align: right;\n",
       "    }\n",
       "</style>\n",
       "<table border=\"1\" class=\"dataframe\">\n",
       "  <thead>\n",
       "    <tr style=\"text-align: right;\">\n",
       "      <th></th>\n",
       "      <th>team_name</th>\n",
       "      <th>team_id</th>\n",
       "      <th>pos</th>\n",
       "      <th>pld</th>\n",
       "      <th>w</th>\n",
       "      <th>d</th>\n",
       "      <th>l</th>\n",
       "      <th>gf</th>\n",
       "      <th>ga</th>\n",
       "      <th>+/-</th>\n",
       "      <th>pts</th>\n",
       "      <th>comp_id</th>\n",
       "      <th>season_id</th>\n",
       "    </tr>\n",
       "  </thead>\n",
       "  <tbody>\n",
       "    <tr>\n",
       "      <th>0</th>\n",
       "      <td>Liverpool U19</td>\n",
       "      <td>12863</td>\n",
       "      <td>1</td>\n",
       "      <td>2</td>\n",
       "      <td>2</td>\n",
       "      <td>0</td>\n",
       "      <td>0</td>\n",
       "      <td>6</td>\n",
       "      <td>1</td>\n",
       "      <td>+5</td>\n",
       "      <td>6</td>\n",
       "      <td>1019</td>\n",
       "      <td>381</td>\n",
       "    </tr>\n",
       "    <tr>\n",
       "      <th>1</th>\n",
       "      <td>Ajax U19</td>\n",
       "      <td>8738</td>\n",
       "      <td>2</td>\n",
       "      <td>2</td>\n",
       "      <td>1</td>\n",
       "      <td>0</td>\n",
       "      <td>1</td>\n",
       "      <td>2</td>\n",
       "      <td>5</td>\n",
       "      <td>-3</td>\n",
       "      <td>3</td>\n",
       "      <td>1019</td>\n",
       "      <td>381</td>\n",
       "    </tr>\n",
       "    <tr>\n",
       "      <th>2</th>\n",
       "      <td>Rangers U19</td>\n",
       "      <td>16026</td>\n",
       "      <td>3</td>\n",
       "      <td>2</td>\n",
       "      <td>1</td>\n",
       "      <td>0</td>\n",
       "      <td>1</td>\n",
       "      <td>4</td>\n",
       "      <td>4</td>\n",
       "      <td>0</td>\n",
       "      <td>3</td>\n",
       "      <td>1019</td>\n",
       "      <td>381</td>\n",
       "    </tr>\n",
       "    <tr>\n",
       "      <th>3</th>\n",
       "      <td>Napoli U19</td>\n",
       "      <td>10866</td>\n",
       "      <td>4</td>\n",
       "      <td>2</td>\n",
       "      <td>0</td>\n",
       "      <td>0</td>\n",
       "      <td>2</td>\n",
       "      <td>3</td>\n",
       "      <td>5</td>\n",
       "      <td>-2</td>\n",
       "      <td>0</td>\n",
       "      <td>1019</td>\n",
       "      <td>381</td>\n",
       "    </tr>\n",
       "    <tr>\n",
       "      <th>4</th>\n",
       "      <td>Atletico Madrid U19</td>\n",
       "      <td>10871</td>\n",
       "      <td>1</td>\n",
       "      <td>2</td>\n",
       "      <td>2</td>\n",
       "      <td>0</td>\n",
       "      <td>0</td>\n",
       "      <td>4</td>\n",
       "      <td>0</td>\n",
       "      <td>+4</td>\n",
       "      <td>6</td>\n",
       "      <td>1019</td>\n",
       "      <td>381</td>\n",
       "    </tr>\n",
       "    <tr>\n",
       "      <th>...</th>\n",
       "      <td>...</td>\n",
       "      <td>...</td>\n",
       "      <td>...</td>\n",
       "      <td>...</td>\n",
       "      <td>...</td>\n",
       "      <td>...</td>\n",
       "      <td>...</td>\n",
       "      <td>...</td>\n",
       "      <td>...</td>\n",
       "      <td>...</td>\n",
       "      <td>...</td>\n",
       "      <td>...</td>\n",
       "      <td>...</td>\n",
       "    </tr>\n",
       "    <tr>\n",
       "      <th>8824</th>\n",
       "      <td>PFC Kuban U19</td>\n",
       "      <td>23879</td>\n",
       "      <td>6</td>\n",
       "      <td>11</td>\n",
       "      <td>5</td>\n",
       "      <td>1</td>\n",
       "      <td>5</td>\n",
       "      <td>13</td>\n",
       "      <td>14</td>\n",
       "      <td>-1</td>\n",
       "      <td>16</td>\n",
       "      <td>973</td>\n",
       "      <td>381</td>\n",
       "    </tr>\n",
       "    <tr>\n",
       "      <th>8825</th>\n",
       "      <td>Fakel U19</td>\n",
       "      <td>23878</td>\n",
       "      <td>7</td>\n",
       "      <td>11</td>\n",
       "      <td>4</td>\n",
       "      <td>1</td>\n",
       "      <td>6</td>\n",
       "      <td>10</td>\n",
       "      <td>15</td>\n",
       "      <td>-5</td>\n",
       "      <td>13</td>\n",
       "      <td>973</td>\n",
       "      <td>381</td>\n",
       "    </tr>\n",
       "    <tr>\n",
       "      <th>8826</th>\n",
       "      <td>Ahmat U19</td>\n",
       "      <td>18825</td>\n",
       "      <td>8</td>\n",
       "      <td>11</td>\n",
       "      <td>4</td>\n",
       "      <td>0</td>\n",
       "      <td>7</td>\n",
       "      <td>17</td>\n",
       "      <td>23</td>\n",
       "      <td>-6</td>\n",
       "      <td>12</td>\n",
       "      <td>973</td>\n",
       "      <td>381</td>\n",
       "    </tr>\n",
       "    <tr>\n",
       "      <th>8827</th>\n",
       "      <td>PFC Sochi U19</td>\n",
       "      <td>18830</td>\n",
       "      <td>9</td>\n",
       "      <td>11</td>\n",
       "      <td>2</td>\n",
       "      <td>2</td>\n",
       "      <td>7</td>\n",
       "      <td>17</td>\n",
       "      <td>22</td>\n",
       "      <td>-5</td>\n",
       "      <td>8</td>\n",
       "      <td>973</td>\n",
       "      <td>381</td>\n",
       "    </tr>\n",
       "    <tr>\n",
       "      <th>8828</th>\n",
       "      <td>Khimki U19</td>\n",
       "      <td>18839</td>\n",
       "      <td>10</td>\n",
       "      <td>11</td>\n",
       "      <td>2</td>\n",
       "      <td>0</td>\n",
       "      <td>9</td>\n",
       "      <td>13</td>\n",
       "      <td>27</td>\n",
       "      <td>-14</td>\n",
       "      <td>6</td>\n",
       "      <td>973</td>\n",
       "      <td>381</td>\n",
       "    </tr>\n",
       "  </tbody>\n",
       "</table>\n",
       "<p>8829 rows × 13 columns</p>\n",
       "</div>"
      ],
      "text/plain": [
       "                team_name team_id pos pld  w  d  l  gf  ga  +/- pts comp_id  \\\n",
       "0           Liverpool U19   12863   1   2  2  0  0   6   1   +5   6    1019   \n",
       "1                Ajax U19    8738   2   2  1  0  1   2   5   -3   3    1019   \n",
       "2             Rangers U19   16026   3   2  1  0  1   4   4    0   3    1019   \n",
       "3              Napoli U19   10866   4   2  0  0  2   3   5   -2   0    1019   \n",
       "4     Atletico Madrid U19   10871   1   2  2  0  0   4   0   +4   6    1019   \n",
       "...                   ...     ...  ..  .. .. .. ..  ..  ..  ...  ..     ...   \n",
       "8824        PFC Kuban U19   23879   6  11  5  1  5  13  14   -1  16     973   \n",
       "8825            Fakel U19   23878   7  11  4  1  6  10  15   -5  13     973   \n",
       "8826            Ahmat U19   18825   8  11  4  0  7  17  23   -6  12     973   \n",
       "8827        PFC Sochi U19   18830   9  11  2  2  7  17  22   -5   8     973   \n",
       "8828           Khimki U19   18839  10  11  2  0  9  13  27  -14   6     973   \n",
       "\n",
       "     season_id  \n",
       "0          381  \n",
       "1          381  \n",
       "2          381  \n",
       "3          381  \n",
       "4          381  \n",
       "...        ...  \n",
       "8824       381  \n",
       "8825       381  \n",
       "8826       381  \n",
       "8827       381  \n",
       "8828       381  \n",
       "\n",
       "[8829 rows x 13 columns]"
      ]
     },
     "execution_count": 29,
     "metadata": {},
     "output_type": "execute_result"
    }
   ],
   "source": [
    "df_comp_tables"
   ]
  },
  {
   "cell_type": "markdown",
   "id": "4cbddb83-1d2e-465a-840d-e50dbca5cf21",
   "metadata": {},
   "source": [
    "#### Fix and clear data incorrect (more > 40 in indexes)"
   ]
  },
  {
   "cell_type": "code",
   "execution_count": 30,
   "id": "1da39925-3160-4ae9-b00b-9e25924c3c6c",
   "metadata": {},
   "outputs": [
    {
     "data": {
      "text/plain": [
       "1     778\n",
       "3     757\n",
       "4     746\n",
       "2     745\n",
       "5     594\n",
       "     ... \n",
       "29      1\n",
       "32      1\n",
       "31      1\n",
       "30      1\n",
       "37      1\n",
       "Name: pos, Length: 37, dtype: int64"
      ]
     },
     "execution_count": 30,
     "metadata": {},
     "output_type": "execute_result"
    }
   ],
   "source": [
    "df_comp_tables.pos.value_counts(dropna=False)"
   ]
  },
  {
   "cell_type": "code",
   "execution_count": 29,
   "id": "297914e4-b58e-4959-a8a1-446145aa990b",
   "metadata": {},
   "outputs": [],
   "source": [
    "# df_comp_tables[df_comp_tables.pos == '364']"
   ]
  },
  {
   "cell_type": "code",
   "execution_count": 32,
   "id": "involved-agenda",
   "metadata": {},
   "outputs": [],
   "source": [
    "# file = open('pickle_files/new_events/df_comp_tabs_16_09_2022_all_lgs', 'wb')\n",
    "# pickle.dump(df_comp_tables, file)  \n",
    "# file.close()"
   ]
  },
  {
   "cell_type": "markdown",
   "id": "33ed03c9-3b25-418c-9493-06ecfbd3aa8a",
   "metadata": {},
   "source": [
    "#### Parsing don't used countries names"
   ]
  },
  {
   "cell_type": "code",
   "execution_count": 78,
   "id": "frozen-local",
   "metadata": {},
   "outputs": [],
   "source": [
    "# Check last file version:\n",
    "with open('pickle_files/cities_countries/df_countries_champ_ids_created_16_09_22', 'rb') as f:\n",
    "    df_champ_ids = pickle.load(f)"
   ]
  },
  {
   "cell_type": "code",
   "execution_count": 79,
   "id": "undefined-teddy",
   "metadata": {},
   "outputs": [
    {
     "data": {
      "text/html": [
       "<div>\n",
       "<style scoped>\n",
       "    .dataframe tbody tr th:only-of-type {\n",
       "        vertical-align: middle;\n",
       "    }\n",
       "\n",
       "    .dataframe tbody tr th {\n",
       "        vertical-align: top;\n",
       "    }\n",
       "\n",
       "    .dataframe thead th {\n",
       "        text-align: right;\n",
       "    }\n",
       "</style>\n",
       "<table border=\"1\" class=\"dataframe\">\n",
       "  <thead>\n",
       "    <tr style=\"text-align: right;\">\n",
       "      <th></th>\n",
       "      <th>comp_id</th>\n",
       "      <th>country</th>\n",
       "    </tr>\n",
       "  </thead>\n",
       "  <tbody>\n",
       "    <tr>\n",
       "      <th>0</th>\n",
       "      <td>12</td>\n",
       "      <td>England</td>\n",
       "    </tr>\n",
       "    <tr>\n",
       "      <th>1</th>\n",
       "      <td>13</td>\n",
       "      <td>Russia</td>\n",
       "    </tr>\n",
       "    <tr>\n",
       "      <th>2</th>\n",
       "      <td>14</td>\n",
       "      <td>Ukraine</td>\n",
       "    </tr>\n",
       "    <tr>\n",
       "      <th>3</th>\n",
       "      <td>15</td>\n",
       "      <td>Italy</td>\n",
       "    </tr>\n",
       "    <tr>\n",
       "      <th>4</th>\n",
       "      <td>16</td>\n",
       "      <td>Spain</td>\n",
       "    </tr>\n",
       "    <tr>\n",
       "      <th>...</th>\n",
       "      <td>...</td>\n",
       "      <td>...</td>\n",
       "    </tr>\n",
       "    <tr>\n",
       "      <th>423</th>\n",
       "      <td>2109</td>\n",
       "      <td>USA</td>\n",
       "    </tr>\n",
       "    <tr>\n",
       "      <th>424</th>\n",
       "      <td>1115</td>\n",
       "      <td>Kazakhstan</td>\n",
       "    </tr>\n",
       "    <tr>\n",
       "      <th>425</th>\n",
       "      <td>19</td>\n",
       "      <td>nd</td>\n",
       "    </tr>\n",
       "    <tr>\n",
       "      <th>426</th>\n",
       "      <td>426</td>\n",
       "      <td>England</td>\n",
       "    </tr>\n",
       "    <tr>\n",
       "      <th>427</th>\n",
       "      <td>1950</td>\n",
       "      <td>Mongolia</td>\n",
       "    </tr>\n",
       "  </tbody>\n",
       "</table>\n",
       "<p>428 rows × 2 columns</p>\n",
       "</div>"
      ],
      "text/plain": [
       "    comp_id     country\n",
       "0        12     England\n",
       "1        13      Russia\n",
       "2        14     Ukraine\n",
       "3        15       Italy\n",
       "4        16       Spain\n",
       "..      ...         ...\n",
       "423    2109         USA\n",
       "424    1115  Kazakhstan\n",
       "425      19          nd\n",
       "426     426     England\n",
       "427    1950    Mongolia\n",
       "\n",
       "[428 rows x 2 columns]"
      ]
     },
     "execution_count": 79,
     "metadata": {},
     "output_type": "execute_result"
    }
   ],
   "source": [
    "df_champ_ids"
   ]
  },
  {
   "cell_type": "code",
   "execution_count": 49,
   "id": "be739e24-bc0b-4e38-a13f-68399a69ba95",
   "metadata": {},
   "outputs": [
    {
     "data": {
      "text/plain": [
       "38"
      ]
     },
     "execution_count": 49,
     "metadata": {},
     "output_type": "execute_result"
    }
   ],
   "source": [
    "comp_ids = df_comp_tables[~df_comp_tables.comp_id.isin(df_champ_ids.comp_id)].comp_id.tolist()\n",
    "comp_ids = list(set(comp_ids))\n",
    "len(comp_ids)"
   ]
  },
  {
   "cell_type": "code",
   "execution_count": 50,
   "id": "567c41d7-1a52-4cde-8266-fdfe8a8ff9d4",
   "metadata": {},
   "outputs": [
    {
     "data": {
      "text/plain": [
       "['1581', '969', '823']"
      ]
     },
     "execution_count": 50,
     "metadata": {},
     "output_type": "execute_result"
    }
   ],
   "source": [
    "comp_ids[:3]"
   ]
  },
  {
   "cell_type": "code",
   "execution_count": 64,
   "id": "f783fd81-0737-4085-b98b-b42b6e9d6e14",
   "metadata": {},
   "outputs": [],
   "source": [
    "# HtmlParser.find_countries_names(comp_ids)"
   ]
  },
  {
   "cell_type": "code",
   "execution_count": 54,
   "id": "87fc03fe-ef36-4e29-a40d-ad870bea1f5b",
   "metadata": {},
   "outputs": [],
   "source": [
    "with open('pickle_files/countries_names_files/countries_names_1950', 'rb') as f:\n",
    "    country_names_ids = pickle.load(f)"
   ]
  },
  {
   "cell_type": "code",
   "execution_count": 56,
   "id": "237675d7-b677-45d1-87dc-81d404ffe5e6",
   "metadata": {},
   "outputs": [],
   "source": [
    "# country_names_ids"
   ]
  },
  {
   "cell_type": "code",
   "execution_count": 57,
   "id": "3127490b-8e6a-4220-be01-d05b1171649d",
   "metadata": {},
   "outputs": [],
   "source": [
    "ids   = []\n",
    "names = []\n",
    "\n",
    "for country in country_names_ids:\n",
    "    val = list(country.values())\n",
    "    ids.append(val[0])\n",
    "    names.append(val[1])\n",
    "\n",
    "df_countries = pd.DataFrame({'comp_id': ids, 'country': names})"
   ]
  },
  {
   "cell_type": "code",
   "execution_count": 70,
   "id": "52f8b4da-6d29-40b9-9010-a9786ea1ef86",
   "metadata": {},
   "outputs": [],
   "source": [
    "df_countries.loc[df_countries[df_countries.country == ''].index, 'country'] = 'nd'"
   ]
  },
  {
   "cell_type": "code",
   "execution_count": 71,
   "id": "f0e2f819-c67f-4b51-8040-66c5f21a18c3",
   "metadata": {},
   "outputs": [
    {
     "data": {
      "text/html": [
       "<div>\n",
       "<style scoped>\n",
       "    .dataframe tbody tr th:only-of-type {\n",
       "        vertical-align: middle;\n",
       "    }\n",
       "\n",
       "    .dataframe tbody tr th {\n",
       "        vertical-align: top;\n",
       "    }\n",
       "\n",
       "    .dataframe thead th {\n",
       "        text-align: right;\n",
       "    }\n",
       "</style>\n",
       "<table border=\"1\" class=\"dataframe\">\n",
       "  <thead>\n",
       "    <tr style=\"text-align: right;\">\n",
       "      <th></th>\n",
       "      <th>comp_id</th>\n",
       "      <th>country</th>\n",
       "    </tr>\n",
       "  </thead>\n",
       "  <tbody>\n",
       "    <tr>\n",
       "      <th>0</th>\n",
       "      <td>1581</td>\n",
       "      <td>nd</td>\n",
       "    </tr>\n",
       "    <tr>\n",
       "      <th>1</th>\n",
       "      <td>969</td>\n",
       "      <td>nd</td>\n",
       "    </tr>\n",
       "    <tr>\n",
       "      <th>2</th>\n",
       "      <td>823</td>\n",
       "      <td>nd</td>\n",
       "    </tr>\n",
       "    <tr>\n",
       "      <th>3</th>\n",
       "      <td>2110</td>\n",
       "      <td>nd</td>\n",
       "    </tr>\n",
       "    <tr>\n",
       "      <th>4</th>\n",
       "      <td>1659</td>\n",
       "      <td>nd</td>\n",
       "    </tr>\n",
       "    <tr>\n",
       "      <th>...</th>\n",
       "      <td>...</td>\n",
       "      <td>...</td>\n",
       "    </tr>\n",
       "    <tr>\n",
       "      <th>33</th>\n",
       "      <td>2109</td>\n",
       "      <td>USA</td>\n",
       "    </tr>\n",
       "    <tr>\n",
       "      <th>34</th>\n",
       "      <td>1115</td>\n",
       "      <td>Kazakhstan</td>\n",
       "    </tr>\n",
       "    <tr>\n",
       "      <th>35</th>\n",
       "      <td>19</td>\n",
       "      <td>nd</td>\n",
       "    </tr>\n",
       "    <tr>\n",
       "      <th>36</th>\n",
       "      <td>426</td>\n",
       "      <td>England</td>\n",
       "    </tr>\n",
       "    <tr>\n",
       "      <th>37</th>\n",
       "      <td>1950</td>\n",
       "      <td>Mongolia</td>\n",
       "    </tr>\n",
       "  </tbody>\n",
       "</table>\n",
       "<p>38 rows × 2 columns</p>\n",
       "</div>"
      ],
      "text/plain": [
       "   comp_id     country\n",
       "0     1581          nd\n",
       "1      969          nd\n",
       "2      823          nd\n",
       "3     2110          nd\n",
       "4     1659          nd\n",
       "..     ...         ...\n",
       "33    2109         USA\n",
       "34    1115  Kazakhstan\n",
       "35      19          nd\n",
       "36     426     England\n",
       "37    1950    Mongolia\n",
       "\n",
       "[38 rows x 2 columns]"
      ]
     },
     "execution_count": 71,
     "metadata": {},
     "output_type": "execute_result"
    }
   ],
   "source": [
    "df_countries"
   ]
  },
  {
   "cell_type": "code",
   "execution_count": 72,
   "id": "f1e62cac-b30d-467f-a8fa-9eaf5efe0f54",
   "metadata": {},
   "outputs": [],
   "source": [
    "df_cntrs_nms = pd.concat([df_champ_ids, df_countries])"
   ]
  },
  {
   "cell_type": "code",
   "execution_count": 73,
   "id": "e3365922-212f-4dd9-a2fb-e78dac760667",
   "metadata": {},
   "outputs": [],
   "source": [
    "df_cntrs_nms.drop_duplicates(subset=['comp_id', 'country'], inplace=True)"
   ]
  },
  {
   "cell_type": "code",
   "execution_count": 74,
   "id": "ac64ca79-5807-4404-8a10-7a654334ba87",
   "metadata": {},
   "outputs": [],
   "source": [
    "df_cntrs_nms.reset_index(drop=True, inplace=True)"
   ]
  },
  {
   "cell_type": "code",
   "execution_count": 75,
   "id": "a25a98db-9871-4bb4-be94-954df30b71c3",
   "metadata": {},
   "outputs": [
    {
     "data": {
      "text/html": [
       "<div>\n",
       "<style scoped>\n",
       "    .dataframe tbody tr th:only-of-type {\n",
       "        vertical-align: middle;\n",
       "    }\n",
       "\n",
       "    .dataframe tbody tr th {\n",
       "        vertical-align: top;\n",
       "    }\n",
       "\n",
       "    .dataframe thead th {\n",
       "        text-align: right;\n",
       "    }\n",
       "</style>\n",
       "<table border=\"1\" class=\"dataframe\">\n",
       "  <thead>\n",
       "    <tr style=\"text-align: right;\">\n",
       "      <th></th>\n",
       "      <th>comp_id</th>\n",
       "      <th>country</th>\n",
       "    </tr>\n",
       "  </thead>\n",
       "  <tbody>\n",
       "    <tr>\n",
       "      <th>0</th>\n",
       "      <td>12</td>\n",
       "      <td>England</td>\n",
       "    </tr>\n",
       "    <tr>\n",
       "      <th>1</th>\n",
       "      <td>13</td>\n",
       "      <td>Russia</td>\n",
       "    </tr>\n",
       "    <tr>\n",
       "      <th>2</th>\n",
       "      <td>14</td>\n",
       "      <td>Ukraine</td>\n",
       "    </tr>\n",
       "    <tr>\n",
       "      <th>3</th>\n",
       "      <td>15</td>\n",
       "      <td>Italy</td>\n",
       "    </tr>\n",
       "    <tr>\n",
       "      <th>4</th>\n",
       "      <td>16</td>\n",
       "      <td>Spain</td>\n",
       "    </tr>\n",
       "    <tr>\n",
       "      <th>...</th>\n",
       "      <td>...</td>\n",
       "      <td>...</td>\n",
       "    </tr>\n",
       "    <tr>\n",
       "      <th>423</th>\n",
       "      <td>2109</td>\n",
       "      <td>USA</td>\n",
       "    </tr>\n",
       "    <tr>\n",
       "      <th>424</th>\n",
       "      <td>1115</td>\n",
       "      <td>Kazakhstan</td>\n",
       "    </tr>\n",
       "    <tr>\n",
       "      <th>425</th>\n",
       "      <td>19</td>\n",
       "      <td>nd</td>\n",
       "    </tr>\n",
       "    <tr>\n",
       "      <th>426</th>\n",
       "      <td>426</td>\n",
       "      <td>England</td>\n",
       "    </tr>\n",
       "    <tr>\n",
       "      <th>427</th>\n",
       "      <td>1950</td>\n",
       "      <td>Mongolia</td>\n",
       "    </tr>\n",
       "  </tbody>\n",
       "</table>\n",
       "<p>428 rows × 2 columns</p>\n",
       "</div>"
      ],
      "text/plain": [
       "    comp_id     country\n",
       "0        12     England\n",
       "1        13      Russia\n",
       "2        14     Ukraine\n",
       "3        15       Italy\n",
       "4        16       Spain\n",
       "..      ...         ...\n",
       "423    2109         USA\n",
       "424    1115  Kazakhstan\n",
       "425      19          nd\n",
       "426     426     England\n",
       "427    1950    Mongolia\n",
       "\n",
       "[428 rows x 2 columns]"
      ]
     },
     "execution_count": 75,
     "metadata": {},
     "output_type": "execute_result"
    }
   ],
   "source": [
    "df_cntrs_nms"
   ]
  },
  {
   "cell_type": "code",
   "execution_count": 77,
   "id": "33185fbc-8be2-48be-a6f2-3ba060d8fcf4",
   "metadata": {},
   "outputs": [],
   "source": [
    "# file = open('pickle_files/cities_countries/df_countries_champ_ids_created_16_09_22', 'wb')\n",
    "# pickle.dump(df_cntrs_nms, file)  \n",
    "# file.close()"
   ]
  }
 ],
 "metadata": {
  "kernelspec": {
   "display_name": "Python 3 (ipykernel)",
   "language": "python",
   "name": "python3"
  },
  "language_info": {
   "codemirror_mode": {
    "name": "ipython",
    "version": 3
   },
   "file_extension": ".py",
   "mimetype": "text/x-python",
   "name": "python",
   "nbconvert_exporter": "python",
   "pygments_lexer": "ipython3",
   "version": "3.9.17"
  }
 },
 "nbformat": 4,
 "nbformat_minor": 5
}

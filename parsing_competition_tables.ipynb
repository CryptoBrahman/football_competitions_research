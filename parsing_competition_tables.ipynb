{
 "cells": [
  {
   "cell_type": "code",
   "execution_count": 7,
   "id": "about-pakistan",
   "metadata": {},
   "outputs": [],
   "source": [
    "import pickle\n",
    "import time\n",
    "import requests\n",
    "from bs4 import BeautifulSoup\n",
    "import datetime\n",
    "import pandas as pd\n",
    "import numpy as np\n",
    "import re\n",
    "import datetime\n",
    "pd.set_option('display.max_rows', 500)\n",
    "pd.set_option('display.max_columns', 500)\n",
    "pd.set_option('display.max_colwidth', 500)"
   ]
  },
  {
   "cell_type": "markdown",
   "id": "grand-windows",
   "metadata": {},
   "source": [
    "### Competitions tables parser"
   ]
  },
  {
   "cell_type": "code",
   "execution_count": 3,
   "id": "neutral-medication",
   "metadata": {},
   "outputs": [],
   "source": [
    "with open('all_matches', 'rb') as f:\n",
    "    all_matches = pickle.load(f)"
   ]
  },
  {
   "cell_type": "code",
   "execution_count": 4,
   "id": "automotive-october",
   "metadata": {},
   "outputs": [],
   "source": [
    "df_to_transform = pd.DataFrame(all_matches)"
   ]
  },
  {
   "cell_type": "code",
   "execution_count": 5,
   "id": "complete-translator",
   "metadata": {},
   "outputs": [],
   "source": [
    "df = ParsingDataPrepare.transform_columns_to_rows(df_to_transform, ['ligue_header', 'comp_id', 'season_id', 'game_utc', 'game_title','goals', 'game_status'])"
   ]
  },
  {
   "cell_type": "code",
   "execution_count": 6,
   "id": "surgical-harbor",
   "metadata": {},
   "outputs": [],
   "source": [
    "df.reset_index(inplace=True)\n",
    "df.rename(columns={'index':'game_id'}, inplace=True)"
   ]
  },
  {
   "cell_type": "code",
   "execution_count": 7,
   "id": "regular-washington",
   "metadata": {},
   "outputs": [
    {
     "data": {
      "text/html": [
       "<div>\n",
       "<style scoped>\n",
       "    .dataframe tbody tr th:only-of-type {\n",
       "        vertical-align: middle;\n",
       "    }\n",
       "\n",
       "    .dataframe tbody tr th {\n",
       "        vertical-align: top;\n",
       "    }\n",
       "\n",
       "    .dataframe thead th {\n",
       "        text-align: right;\n",
       "    }\n",
       "</style>\n",
       "<table border=\"1\" class=\"dataframe\">\n",
       "  <thead>\n",
       "    <tr style=\"text-align: right;\">\n",
       "      <th></th>\n",
       "      <th>game_id</th>\n",
       "      <th>ligue_header</th>\n",
       "      <th>comp_id</th>\n",
       "      <th>season_id</th>\n",
       "      <th>game_utc</th>\n",
       "      <th>game_title</th>\n",
       "      <th>goals</th>\n",
       "      <th>game_status</th>\n",
       "    </tr>\n",
       "  </thead>\n",
       "  <tbody>\n",
       "    <tr>\n",
       "      <th>0</th>\n",
       "      <td>1458512</td>\n",
       "      <td>Segunda División</td>\n",
       "      <td>707</td>\n",
       "      <td>306</td>\n",
       "      <td>26.03.2021 20:00</td>\n",
       "      <td>Sporting Gijón - Alcorcón</td>\n",
       "      <td>0:0</td>\n",
       "      <td>Finished</td>\n",
       "    </tr>\n",
       "    <tr>\n",
       "      <th>1</th>\n",
       "      <td>1458506</td>\n",
       "      <td>Segunda División</td>\n",
       "      <td>707</td>\n",
       "      <td>306</td>\n",
       "      <td>26.03.2021 22:00</td>\n",
       "      <td>Castellon - Espanyol</td>\n",
       "      <td>1:3</td>\n",
       "      <td>Finished</td>\n",
       "    </tr>\n",
       "    <tr>\n",
       "      <th>2</th>\n",
       "      <td>1459331</td>\n",
       "      <td>First League</td>\n",
       "      <td>435</td>\n",
       "      <td>306</td>\n",
       "      <td>26.03.2021 14:00</td>\n",
       "      <td>Mykolaiv - Alians Lypova Dolyna</td>\n",
       "      <td>2:0</td>\n",
       "      <td>Finished</td>\n",
       "    </tr>\n",
       "    <tr>\n",
       "      <th>3</th>\n",
       "      <td>1459330</td>\n",
       "      <td>First League</td>\n",
       "      <td>435</td>\n",
       "      <td>306</td>\n",
       "      <td>26.03.2021 14:00</td>\n",
       "      <td>Polessya - Krystal Kherson</td>\n",
       "      <td>1:1</td>\n",
       "      <td>Finished</td>\n",
       "    </tr>\n",
       "    <tr>\n",
       "      <th>4</th>\n",
       "      <td>1459334</td>\n",
       "      <td>First League</td>\n",
       "      <td>435</td>\n",
       "      <td>306</td>\n",
       "      <td>26.03.2021 15:00</td>\n",
       "      <td>Kremin - Hirnyk-Sport</td>\n",
       "      <td>1:1</td>\n",
       "      <td>Finished</td>\n",
       "    </tr>\n",
       "    <tr>\n",
       "      <th>...</th>\n",
       "      <td>...</td>\n",
       "      <td>...</td>\n",
       "      <td>...</td>\n",
       "      <td>...</td>\n",
       "      <td>...</td>\n",
       "      <td>...</td>\n",
       "      <td>...</td>\n",
       "      <td>...</td>\n",
       "    </tr>\n",
       "    <tr>\n",
       "      <th>543580</th>\n",
       "      <td>10934224</td>\n",
       "      <td>Torneo Federal A</td>\n",
       "      <td>455</td>\n",
       "      <td>38</td>\n",
       "      <td>04.11.2013 00:30</td>\n",
       "      <td>Juventud Unida Universitario - Union Mar del Plata</td>\n",
       "      <td>2:0</td>\n",
       "      <td>Finished</td>\n",
       "    </tr>\n",
       "    <tr>\n",
       "      <th>543581</th>\n",
       "      <td>10968262</td>\n",
       "      <td>Division di Honor</td>\n",
       "      <td>463</td>\n",
       "      <td>38</td>\n",
       "      <td>04.11.2013 01:00</td>\n",
       "      <td>Nacional da Madeira - Dakota</td>\n",
       "      <td>1:3</td>\n",
       "      <td>Finished</td>\n",
       "    </tr>\n",
       "    <tr>\n",
       "      <th>543582</th>\n",
       "      <td>10925170</td>\n",
       "      <td>Primera D Metropolitana</td>\n",
       "      <td>460</td>\n",
       "      <td>38</td>\n",
       "      <td>04.11.2013 19:30</td>\n",
       "      <td>Claypole - Argentino Rosario</td>\n",
       "      <td>0:1</td>\n",
       "      <td>Finished</td>\n",
       "    </tr>\n",
       "    <tr>\n",
       "      <th>543583</th>\n",
       "      <td>10960778</td>\n",
       "      <td>Argentino B</td>\n",
       "      <td>458</td>\n",
       "      <td>38</td>\n",
       "      <td>04.11.2013 01:00</td>\n",
       "      <td>Huracan San Rafael - Pacífico</td>\n",
       "      <td>3:0</td>\n",
       "      <td>Finished</td>\n",
       "    </tr>\n",
       "    <tr>\n",
       "      <th>543584</th>\n",
       "      <td>10961027</td>\n",
       "      <td>Argentino B</td>\n",
       "      <td>458</td>\n",
       "      <td>38</td>\n",
       "      <td>04.11.2013 20:00</td>\n",
       "      <td>Ferroviarios Corrientes - Atletico Parana</td>\n",
       "      <td>1:0</td>\n",
       "      <td>Finished</td>\n",
       "    </tr>\n",
       "  </tbody>\n",
       "</table>\n",
       "<p>543585 rows × 8 columns</p>\n",
       "</div>"
      ],
      "text/plain": [
       "         game_id             ligue_header comp_id season_id          game_utc  \\\n",
       "0        1458512         Segunda División     707       306  26.03.2021 20:00   \n",
       "1        1458506         Segunda División     707       306  26.03.2021 22:00   \n",
       "2        1459331             First League     435       306  26.03.2021 14:00   \n",
       "3        1459330             First League     435       306  26.03.2021 14:00   \n",
       "4        1459334             First League     435       306  26.03.2021 15:00   \n",
       "...          ...                      ...     ...       ...               ...   \n",
       "543580  10934224         Torneo Federal A     455        38  04.11.2013 00:30   \n",
       "543581  10968262        Division di Honor     463        38  04.11.2013 01:00   \n",
       "543582  10925170  Primera D Metropolitana     460        38  04.11.2013 19:30   \n",
       "543583  10960778              Argentino B     458        38  04.11.2013 01:00   \n",
       "543584  10961027              Argentino B     458        38  04.11.2013 20:00   \n",
       "\n",
       "                                                game_title goals game_status  \n",
       "0                                Sporting Gijón - Alcorcón   0:0    Finished  \n",
       "1                                     Castellon - Espanyol   1:3    Finished  \n",
       "2                          Mykolaiv - Alians Lypova Dolyna   2:0    Finished  \n",
       "3                               Polessya - Krystal Kherson   1:1    Finished  \n",
       "4                                    Kremin - Hirnyk-Sport   1:1    Finished  \n",
       "...                                                    ...   ...         ...  \n",
       "543580  Juventud Unida Universitario - Union Mar del Plata   2:0    Finished  \n",
       "543581                        Nacional da Madeira - Dakota   1:3    Finished  \n",
       "543582                        Claypole - Argentino Rosario   0:1    Finished  \n",
       "543583                       Huracan San Rafael - Pacífico   3:0    Finished  \n",
       "543584           Ferroviarios Corrientes - Atletico Parana   1:0    Finished  \n",
       "\n",
       "[543585 rows x 8 columns]"
      ]
     },
     "execution_count": 7,
     "metadata": {},
     "output_type": "execute_result"
    }
   ],
   "source": [
    "df"
   ]
  },
  {
   "cell_type": "code",
   "execution_count": 8,
   "id": "orange-height",
   "metadata": {},
   "outputs": [],
   "source": [
    "top_ligues = ['12', '13', '14', '15', '16', '17', '18', '419', '420', '454', '474', '483', '485', '550', '554', '560', '565', '577', \n",
    "              '581', '587', '591','596', '601', '677', '681', '684', '699', '707', '712', '716', '723'] "
   ]
  },
  {
   "cell_type": "code",
   "execution_count": 9,
   "id": "charged-keeping",
   "metadata": {},
   "outputs": [],
   "source": [
    "top_ligues = non_staddart_tables_comps = ['456', '695', '727']"
   ]
  },
  {
   "cell_type": "code",
   "execution_count": 10,
   "id": "restricted-scale",
   "metadata": {},
   "outputs": [
    {
     "data": {
      "text/plain": [
       "5803"
      ]
     },
     "execution_count": 10,
     "metadata": {},
     "output_type": "execute_result"
    }
   ],
   "source": [
    "date_top_ligues = df[df.comp_id.isin(non_staddart_tables_comps)].game_utc\n",
    "len(date_top_ligues)"
   ]
  },
  {
   "cell_type": "code",
   "execution_count": 11,
   "id": "liable-tamil",
   "metadata": {},
   "outputs": [],
   "source": [
    "def competition_season_ids(df: pd.DataFrame, col_comp='comp_id', col_season='season_id'):\n",
    "    comp_seasons = df.groupby(col_comp)[col_season].agg(lambda x: x.unique().tolist())\n",
    "    comp_seasons = comp_seasons.to_dict()\n",
    "    for key, value in comp_seasons.items():\n",
    "        comp_seasons[key] = [x for x in value if re.search(r'[0-9]+', str(x))]\n",
    "        \n",
    "    return comp_seasons"
   ]
  },
  {
   "cell_type": "code",
   "execution_count": 12,
   "id": "environmental-compound",
   "metadata": {},
   "outputs": [],
   "source": [
    "# comp_seasons = competition_season_ids(df)"
   ]
  },
  {
   "cell_type": "code",
   "execution_count": 13,
   "id": "psychological-landscape",
   "metadata": {},
   "outputs": [],
   "source": [
    "top_comp_seasons = dict((x, y) for x, y in comp_seasons.items() if x in top_ligues)"
   ]
  },
  {
   "cell_type": "code",
   "execution_count": 14,
   "id": "seeing-review",
   "metadata": {},
   "outputs": [
    {
     "data": {
      "text/plain": [
       "{'456': ['306', '300', '297', '294', '173', '179', '14', '6', '38'],\n",
       " '695': ['306', '300', '297', '294', '173', '180', '166', '38'],\n",
       " '727': ['298', '295', '177', '181', '179', '180', '166', '38']}"
      ]
     },
     "execution_count": 14,
     "metadata": {},
     "output_type": "execute_result"
    }
   ],
   "source": [
    "top_comp_seasons"
   ]
  },
  {
   "cell_type": "code",
   "execution_count": 15,
   "id": "conscious-rouge",
   "metadata": {},
   "outputs": [],
   "source": [
    "def parsing_competition_tables(comps_dict: dict, start_url='https://soccer365.me/?c=live&a=showtable'):\n",
    "    all_comps_seasons = list()\n",
    "    for comp, seasons in comps_dict.items():\n",
    "        \n",
    "        all_seasons = list()\n",
    "        for season in seasons:\n",
    "            url = start_url + '&competition_id=' + comp + '&season_id=' + season\n",
    "            html = requests.get(url).content\n",
    "            soup = BeautifulSoup(html) \n",
    "            \n",
    "            regular_seasons = [x for x in soup.find_all('div', {'class':'live_comptt_bd'})]\n",
    "            if regular_seasons != []:\n",
    "                season_index = [i for i, x in enumerate(regular_seasons) if re.findall('regular season', str(x).lower())]\n",
    "                print(season_index, season, comp)\n",
    "                soup = soup.find_all('div', {'class':'live_comptt_bd'})[int(season_index[0])]\n",
    "            \n",
    "            tb_header = [x.get_text() for x in soup.find_all('th', {'class': 'ctr'})]\n",
    "\n",
    "            key_pos = ['Pos']\n",
    "            places = [x.get_text() for x in soup.find_all('div')]\n",
    "            place_num = [re.findall('[0-9]+', x) for x in places]\n",
    "            place_num = list(filter(None, place_num))\n",
    "            places_dict = [dict(zip(key_pos, x)) for x in place_num]\n",
    "\n",
    "            scores = [x.get_text() for x in soup.find_all('td', {'class': 'ctr'})]  \n",
    "            each_score = re.split(r'\\\\n\\',', str(scores))\n",
    "            clear_each_sc = [re.findall(r'[0-9+-]+', x) for x in each_score]\n",
    "            score_dict = [dict(zip(tb_header, x)) for x in clear_each_sc]\n",
    "            _ = [x.update(y) for x, y in zip(score_dict, places_dict)]\n",
    "\n",
    "            teams = [x.get_text() for x in soup.find_all('span')]\n",
    "            teams_score = dict(zip(teams, score_dict))\n",
    "\n",
    "            comps_seasons = {'comp_id': comp, 'season_id': season}\n",
    "            comps_seasons['table'] = teams_score\n",
    "\n",
    "            all_seasons.append(comps_seasons)\n",
    "        all_comps_seasons.append(all_seasons)\n",
    "    \n",
    "    return all_comps_seasons   "
   ]
  },
  {
   "cell_type": "code",
   "execution_count": 16,
   "id": "invalid-mixture",
   "metadata": {},
   "outputs": [
    {
     "data": {
      "text/plain": [
       "3"
      ]
     },
     "execution_count": 16,
     "metadata": {},
     "output_type": "execute_result"
    }
   ],
   "source": [
    "len(top_comp_seasons)"
   ]
  },
  {
   "cell_type": "code",
   "execution_count": 17,
   "id": "critical-hammer",
   "metadata": {},
   "outputs": [],
   "source": [
    "# comp_tables = parsing_competition_tables(top_comp_seasons)"
   ]
  },
  {
   "cell_type": "code",
   "execution_count": 19,
   "id": "finite-swing",
   "metadata": {},
   "outputs": [],
   "source": [
    "# len(comp_tables)"
   ]
  },
  {
   "cell_type": "code",
   "execution_count": 26,
   "id": "variable-billy",
   "metadata": {},
   "outputs": [],
   "source": [
    "non_standart_tables_comp = {'456': ['306', '297', '294', '173', '179', '14', '38'],'695': ['306', '300', '297', '294', '173', '180']}\n",
    "# remove comp:seasons = 456:300, 456:6, 695:166, 695:38, '727': ['295', '177', '181', '179', '180', '166', '38']"
   ]
  },
  {
   "cell_type": "code",
   "execution_count": 20,
   "id": "united-steel",
   "metadata": {},
   "outputs": [],
   "source": [
    "# comp_tables_with_ns = parsing_competition_tables(non_standart_tables_comp)"
   ]
  },
  {
   "cell_type": "code",
   "execution_count": 28,
   "id": "architectural-recorder",
   "metadata": {},
   "outputs": [
    {
     "data": {
      "text/plain": [
       "2"
      ]
     },
     "execution_count": 28,
     "metadata": {},
     "output_type": "execute_result"
    }
   ],
   "source": [
    "len(non_standart_tables_comp)"
   ]
  },
  {
   "cell_type": "code",
   "execution_count": 49,
   "id": "involved-agenda",
   "metadata": {},
   "outputs": [],
   "source": [
    "with open('pickle_files/comp_tables', 'wb') as f:\n",
    "    pickle.dump(comp_tables, f)"
   ]
  },
  {
   "cell_type": "code",
   "execution_count": 23,
   "id": "accessible-pastor",
   "metadata": {},
   "outputs": [],
   "source": [
    "# _ = [comp_tables.append(x) for x in comp_tables_with_ns]"
   ]
  },
  {
   "cell_type": "code",
   "execution_count": 50,
   "id": "hydraulic-rescue",
   "metadata": {},
   "outputs": [],
   "source": [
    "with open('pickle_files/comp_tables', 'rb') as f:\n",
    "    comp_tables = pickle.load(f)"
   ]
  },
  {
   "cell_type": "code",
   "execution_count": 51,
   "id": "fundamental-scottish",
   "metadata": {},
   "outputs": [
    {
     "data": {
      "text/plain": [
       "33"
      ]
     },
     "execution_count": 51,
     "metadata": {},
     "output_type": "execute_result"
    }
   ],
   "source": [
    "len(comp_tables)"
   ]
  },
  {
   "cell_type": "code",
   "execution_count": 43,
   "id": "dressed-elements",
   "metadata": {},
   "outputs": [
    {
     "data": {
      "text/plain": [
       "\"['Pld', 'W', 'D', 'L', 'GF', 'GA', '+/-', 'Pts', 'Pos']\""
      ]
     },
     "execution_count": 43,
     "metadata": {},
     "output_type": "execute_result"
    }
   ],
   "source": [
    "score_names = list(list(table.values())[0].keys())\n",
    "str(score_names)"
   ]
  },
  {
   "cell_type": "code",
   "execution_count": 42,
   "id": "cosmetic-chamber",
   "metadata": {},
   "outputs": [],
   "source": [
    "df = pd.DataFrame()\n",
    "for x in range(0, len(comp_tables)):\n",
    "    for y in range(0, len(comp_tables[x])):\n",
    "        comp_id = comp_tables[x][y]['comp_id']\n",
    "        season_id = comp_tables[x][y]['season_id'] \n",
    "        table = comp_tables[x][y]['table']\n",
    "\n",
    "        all_data = dict()\n",
    "        for team_name, v_tab in table.items():\n",
    "            data = pd.DataFrame({\n",
    "                'team_name': [team_name],\n",
    "                 'pos': [v_tab['Pos']],\n",
    "                 'pld': [v_tab['Pld']],\n",
    "                 'w': [v_tab['W']],\n",
    "                 'd': [v_tab['D']],\n",
    "                 'l': [v_tab['L']],\n",
    "                 'gf': [v_tab['GF']],\n",
    "                 'ga': [v_tab['GA']],\n",
    "                 '+/-': [v_tab['+/-']],\n",
    "                 'pts': [v_tab['Pts']],\n",
    "                 'comp_id': [comp_id],\n",
    "                 'season_id': [season_id]\n",
    "                })\n",
    "            df = pd.concat([df, data])\n",
    "\n",
    "df = df.reset_index(drop=True)                    "
   ]
  },
  {
   "cell_type": "code",
   "execution_count": 46,
   "id": "amber-palestine",
   "metadata": {},
   "outputs": [
    {
     "data": {
      "text/html": [
       "<div>\n",
       "<style scoped>\n",
       "    .dataframe tbody tr th:only-of-type {\n",
       "        vertical-align: middle;\n",
       "    }\n",
       "\n",
       "    .dataframe tbody tr th {\n",
       "        vertical-align: top;\n",
       "    }\n",
       "\n",
       "    .dataframe thead th {\n",
       "        text-align: right;\n",
       "    }\n",
       "</style>\n",
       "<table border=\"1\" class=\"dataframe\">\n",
       "  <thead>\n",
       "    <tr style=\"text-align: right;\">\n",
       "      <th></th>\n",
       "      <th>team_name</th>\n",
       "      <th>pos</th>\n",
       "      <th>pld</th>\n",
       "      <th>w</th>\n",
       "      <th>d</th>\n",
       "      <th>l</th>\n",
       "      <th>gf</th>\n",
       "      <th>ga</th>\n",
       "      <th>+/-</th>\n",
       "      <th>pts</th>\n",
       "      <th>comp_id</th>\n",
       "      <th>season_id</th>\n",
       "    </tr>\n",
       "  </thead>\n",
       "  <tbody>\n",
       "    <tr>\n",
       "      <th>0</th>\n",
       "      <td>Manchester City</td>\n",
       "      <td>1</td>\n",
       "      <td>32</td>\n",
       "      <td>23</td>\n",
       "      <td>5</td>\n",
       "      <td>4</td>\n",
       "      <td>67</td>\n",
       "      <td>23</td>\n",
       "      <td>+44</td>\n",
       "      <td>74</td>\n",
       "      <td>12</td>\n",
       "      <td>306</td>\n",
       "    </tr>\n",
       "    <tr>\n",
       "      <th>1</th>\n",
       "      <td>Man Utd</td>\n",
       "      <td>2</td>\n",
       "      <td>31</td>\n",
       "      <td>18</td>\n",
       "      <td>9</td>\n",
       "      <td>4</td>\n",
       "      <td>61</td>\n",
       "      <td>34</td>\n",
       "      <td>+27</td>\n",
       "      <td>63</td>\n",
       "      <td>12</td>\n",
       "      <td>306</td>\n",
       "    </tr>\n",
       "    <tr>\n",
       "      <th>2</th>\n",
       "      <td>Leicester City</td>\n",
       "      <td>3</td>\n",
       "      <td>31</td>\n",
       "      <td>17</td>\n",
       "      <td>5</td>\n",
       "      <td>9</td>\n",
       "      <td>55</td>\n",
       "      <td>37</td>\n",
       "      <td>+18</td>\n",
       "      <td>56</td>\n",
       "      <td>12</td>\n",
       "      <td>306</td>\n",
       "    </tr>\n",
       "    <tr>\n",
       "      <th>3</th>\n",
       "      <td>West Ham</td>\n",
       "      <td>4</td>\n",
       "      <td>31</td>\n",
       "      <td>16</td>\n",
       "      <td>7</td>\n",
       "      <td>8</td>\n",
       "      <td>51</td>\n",
       "      <td>39</td>\n",
       "      <td>+12</td>\n",
       "      <td>55</td>\n",
       "      <td>12</td>\n",
       "      <td>306</td>\n",
       "    </tr>\n",
       "    <tr>\n",
       "      <th>4</th>\n",
       "      <td>Chelsea</td>\n",
       "      <td>5</td>\n",
       "      <td>31</td>\n",
       "      <td>15</td>\n",
       "      <td>9</td>\n",
       "      <td>7</td>\n",
       "      <td>50</td>\n",
       "      <td>31</td>\n",
       "      <td>+19</td>\n",
       "      <td>54</td>\n",
       "      <td>12</td>\n",
       "      <td>306</td>\n",
       "    </tr>\n",
       "    <tr>\n",
       "      <th>...</th>\n",
       "      <td>...</td>\n",
       "      <td>...</td>\n",
       "      <td>...</td>\n",
       "      <td>...</td>\n",
       "      <td>...</td>\n",
       "      <td>...</td>\n",
       "      <td>...</td>\n",
       "      <td>...</td>\n",
       "      <td>...</td>\n",
       "      <td>...</td>\n",
       "      <td>...</td>\n",
       "      <td>...</td>\n",
       "    </tr>\n",
       "    <tr>\n",
       "      <th>4463</th>\n",
       "      <td>Partick Thistle</td>\n",
       "      <td>8</td>\n",
       "      <td>33</td>\n",
       "      <td>11</td>\n",
       "      <td>8</td>\n",
       "      <td>14</td>\n",
       "      <td>32</td>\n",
       "      <td>39</td>\n",
       "      <td>-7</td>\n",
       "      <td>41</td>\n",
       "      <td>695</td>\n",
       "      <td>180</td>\n",
       "    </tr>\n",
       "    <tr>\n",
       "      <th>4464</th>\n",
       "      <td>Inverness CT</td>\n",
       "      <td>9</td>\n",
       "      <td>33</td>\n",
       "      <td>10</td>\n",
       "      <td>10</td>\n",
       "      <td>13</td>\n",
       "      <td>40</td>\n",
       "      <td>43</td>\n",
       "      <td>-3</td>\n",
       "      <td>40</td>\n",
       "      <td>695</td>\n",
       "      <td>180</td>\n",
       "    </tr>\n",
       "    <tr>\n",
       "      <th>4465</th>\n",
       "      <td>Hamilton Academical</td>\n",
       "      <td>10</td>\n",
       "      <td>33</td>\n",
       "      <td>9</td>\n",
       "      <td>9</td>\n",
       "      <td>15</td>\n",
       "      <td>36</td>\n",
       "      <td>55</td>\n",
       "      <td>-19</td>\n",
       "      <td>36</td>\n",
       "      <td>695</td>\n",
       "      <td>180</td>\n",
       "    </tr>\n",
       "    <tr>\n",
       "      <th>4466</th>\n",
       "      <td>Kilmarnock</td>\n",
       "      <td>11</td>\n",
       "      <td>33</td>\n",
       "      <td>8</td>\n",
       "      <td>8</td>\n",
       "      <td>17</td>\n",
       "      <td>33</td>\n",
       "      <td>54</td>\n",
       "      <td>-21</td>\n",
       "      <td>32</td>\n",
       "      <td>695</td>\n",
       "      <td>180</td>\n",
       "    </tr>\n",
       "    <tr>\n",
       "      <th>4467</th>\n",
       "      <td>Dundee Utd</td>\n",
       "      <td>12</td>\n",
       "      <td>33</td>\n",
       "      <td>6</td>\n",
       "      <td>6</td>\n",
       "      <td>21</td>\n",
       "      <td>33</td>\n",
       "      <td>58</td>\n",
       "      <td>-25</td>\n",
       "      <td>24</td>\n",
       "      <td>695</td>\n",
       "      <td>180</td>\n",
       "    </tr>\n",
       "  </tbody>\n",
       "</table>\n",
       "<p>4468 rows × 12 columns</p>\n",
       "</div>"
      ],
      "text/plain": [
       "                team_name pos pld   w   d   l  gf  ga  +/- pts comp_id  \\\n",
       "0         Manchester City   1  32  23   5   4  67  23  +44  74      12   \n",
       "1                 Man Utd   2  31  18   9   4  61  34  +27  63      12   \n",
       "2          Leicester City   3  31  17   5   9  55  37  +18  56      12   \n",
       "3                West Ham   4  31  16   7   8  51  39  +12  55      12   \n",
       "4                 Chelsea   5  31  15   9   7  50  31  +19  54      12   \n",
       "...                   ...  ..  ..  ..  ..  ..  ..  ..  ...  ..     ...   \n",
       "4463      Partick Thistle   8  33  11   8  14  32  39   -7  41     695   \n",
       "4464         Inverness CT   9  33  10  10  13  40  43   -3  40     695   \n",
       "4465  Hamilton Academical  10  33   9   9  15  36  55  -19  36     695   \n",
       "4466           Kilmarnock  11  33   8   8  17  33  54  -21  32     695   \n",
       "4467           Dundee Utd  12  33   6   6  21  33  58  -25  24     695   \n",
       "\n",
       "     season_id  \n",
       "0          306  \n",
       "1          306  \n",
       "2          306  \n",
       "3          306  \n",
       "4          306  \n",
       "...        ...  \n",
       "4463       180  \n",
       "4464       180  \n",
       "4465       180  \n",
       "4466       180  \n",
       "4467       180  \n",
       "\n",
       "[4468 rows x 12 columns]"
      ]
     },
     "execution_count": 46,
     "metadata": {},
     "output_type": "execute_result"
    }
   ],
   "source": [
    "df"
   ]
  },
  {
   "cell_type": "code",
   "execution_count": 52,
   "id": "electoral-investigator",
   "metadata": {},
   "outputs": [],
   "source": [
    "# with open('pickle_files/df_comp_tables', 'wb') as f:\n",
    "#     pickle.dump(df, f)"
   ]
  },
  {
   "cell_type": "code",
   "execution_count": 53,
   "id": "frozen-local",
   "metadata": {},
   "outputs": [],
   "source": [
    "# with open('pickle_files/df_comp_tables', 'rb') as f:\n",
    "#     df_comp_tables = pickle.load(f)"
   ]
  },
  {
   "cell_type": "code",
   "execution_count": null,
   "id": "undefined-teddy",
   "metadata": {},
   "outputs": [],
   "source": []
  }
 ],
 "metadata": {
  "kernelspec": {
   "display_name": "Python 3 (ipykernel)",
   "language": "python",
   "name": "python3"
  },
  "language_info": {
   "codemirror_mode": {
    "name": "ipython",
    "version": 3
   },
   "file_extension": ".py",
   "mimetype": "text/x-python",
   "name": "python",
   "nbconvert_exporter": "python",
   "pygments_lexer": "ipython3",
   "version": "3.9.7"
  }
 },
 "nbformat": 4,
 "nbformat_minor": 5
}

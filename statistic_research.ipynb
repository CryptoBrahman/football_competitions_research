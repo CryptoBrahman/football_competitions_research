{
 "cells": [
  {
   "cell_type": "code",
   "execution_count": 1,
   "id": "77920f33-1a01-43ae-8980-aa1245880d2a",
   "metadata": {},
   "outputs": [],
   "source": [
    "import re\n",
    "import pickle\n",
    "import numpy as np\n",
    "import pandas as pd\n",
    "\n",
    "pd.set_option('display.max_columns', 200)  # or 1000\n",
    "pd.set_option('display.max_rows', 1000)  # or 1000\n",
    "pd.set_option('display.max_colwidth', 100)  # or 199"
   ]
  },
  {
   "cell_type": "markdown",
   "id": "8a42879a-a219-48cd-9a0c-9e316514b2dc",
   "metadata": {},
   "source": [
    "#### Files with games description"
   ]
  },
  {
   "cell_type": "code",
   "execution_count": 2,
   "id": "b76973c8-766a-4508-89f2-c7cc19e43604",
   "metadata": {},
   "outputs": [],
   "source": [
    "with open('pickle_files/aspected_files/df_with_aspects_26_05_2022_f_pow_2', 'rb') as f:\n",
    "    df_desc_26_05_2022_f_pow_2 = pickle.load(f)"
   ]
  },
  {
   "cell_type": "code",
   "execution_count": 3,
   "id": "e388b078-dd94-40c8-8950-54b28e569462",
   "metadata": {},
   "outputs": [],
   "source": [
    "with open('pickle_files/aspected_files/df_with_aspects_26_05_2022_sum_coef_13', 'rb') as f:\n",
    "    df_desc_26_05_2022_coef_13 = pickle.load(f)"
   ]
  },
  {
   "cell_type": "code",
   "execution_count": 4,
   "id": "62250acc-5a6f-42d1-ac7f-af24f0c9021a",
   "metadata": {},
   "outputs": [],
   "source": [
    "with open('pickle_files/aspected_files/df_with_aspects_26_03_2021_f_pow_2', 'rb') as f:\n",
    "    df_desc_26_03_2021_f_pow_2 = pickle.load(f)"
   ]
  },
  {
   "cell_type": "code",
   "execution_count": 5,
   "id": "2b0c96ab-ec8a-490e-8162-c6b2c8e9ca2b",
   "metadata": {},
   "outputs": [],
   "source": [
    "# df_with_aspects = df_desc_26_05_2022_coef_13\n",
    "df_with_aspects = pd.concat([df_desc_26_05_2022_f_pow_2, df_desc_26_03_2021_f_pow_2, df_desc_26_05_2022_coef_13], ignore_index=True)"
   ]
  },
  {
   "cell_type": "code",
   "execution_count": 6,
   "id": "213fb12f-7c2e-4721-8a75-556665770c82",
   "metadata": {},
   "outputs": [
    {
     "name": "stdout",
     "output_type": "stream",
     "text": [
      "shape -  (89942, 27)\n"
     ]
    },
    {
     "data": {
      "text/html": [
       "<div>\n",
       "<style scoped>\n",
       "    .dataframe tbody tr th:only-of-type {\n",
       "        vertical-align: middle;\n",
       "    }\n",
       "\n",
       "    .dataframe tbody tr th {\n",
       "        vertical-align: top;\n",
       "    }\n",
       "\n",
       "    .dataframe thead th {\n",
       "        text-align: right;\n",
       "    }\n",
       "</style>\n",
       "<table border=\"1\" class=\"dataframe\">\n",
       "  <thead>\n",
       "    <tr style=\"text-align: right;\">\n",
       "      <th></th>\n",
       "      <th>game_id</th>\n",
       "      <th>ligue_header</th>\n",
       "      <th>comp_id</th>\n",
       "      <th>season_id</th>\n",
       "      <th>game_utc</th>\n",
       "      <th>game_title</th>\n",
       "      <th>goals</th>\n",
       "      <th>ligue</th>\n",
       "      <th>f_team</th>\n",
       "      <th>pos_f</th>\n",
       "      <th>pts_f</th>\n",
       "      <th>pos_s</th>\n",
       "      <th>pts_s</th>\n",
       "      <th>fs_pos_max</th>\n",
       "      <th>fs_pts_max</th>\n",
       "      <th>f_pow</th>\n",
       "      <th>desc</th>\n",
       "      <th>country</th>\n",
       "      <th>team_id</th>\n",
       "      <th>city</th>\n",
       "      <th>iso_code</th>\n",
       "      <th>longitude</th>\n",
       "      <th>latitude</th>\n",
       "      <th>lat</th>\n",
       "      <th>lon</th>\n",
       "      <th>moon_day</th>\n",
       "      <th>aspects</th>\n",
       "    </tr>\n",
       "  </thead>\n",
       "  <tbody>\n",
       "    <tr>\n",
       "      <th>89940</th>\n",
       "      <td>15147393</td>\n",
       "      <td>Third Division</td>\n",
       "      <td>553</td>\n",
       "      <td>306</td>\n",
       "      <td>28.03.2021 12:30</td>\n",
       "      <td>Ormideia - O Kormakitis</td>\n",
       "      <td>2:0</td>\n",
       "      <td>thr</td>\n",
       "      <td>Ormideia</td>\n",
       "      <td>8.0</td>\n",
       "      <td>40.0</td>\n",
       "      <td>16.0</td>\n",
       "      <td>16.0</td>\n",
       "      <td>8 - 16, 16</td>\n",
       "      <td>40 - 16, 68</td>\n",
       "      <td>Fav</td>\n",
       "      <td>sum_coef_13</td>\n",
       "      <td>Cyprus</td>\n",
       "      <td>NaN</td>\n",
       "      <td>Ormideia</td>\n",
       "      <td>CY</td>\n",
       "      <td>33.775628</td>\n",
       "      <td>34.99351</td>\n",
       "      <td>34n59</td>\n",
       "      <td>33e46</td>\n",
       "      <td>15</td>\n",
       "      <td>[{'f_point': 'Moon', 's_point': 'Venus', 'type': 'Opp', 'approach': 'moon_conv_compl_weak', 'sin...</td>\n",
       "    </tr>\n",
       "    <tr>\n",
       "      <th>89941</th>\n",
       "      <td>15109589</td>\n",
       "      <td>Thai League 1</td>\n",
       "      <td>718</td>\n",
       "      <td>298</td>\n",
       "      <td>28.03.2021 11:00</td>\n",
       "      <td>Prachuap - Bangkok United</td>\n",
       "      <td>0:1</td>\n",
       "      <td>thr</td>\n",
       "      <td>Prachuap</td>\n",
       "      <td>10.0</td>\n",
       "      <td>37.0</td>\n",
       "      <td>5.0</td>\n",
       "      <td>51.0</td>\n",
       "      <td>10 - 5, 16</td>\n",
       "      <td>37 - 51, 77</td>\n",
       "      <td>Pre</td>\n",
       "      <td>sum_coef_13</td>\n",
       "      <td>Thailand</td>\n",
       "      <td>13605</td>\n",
       "      <td>Prachuap Khiri Khan</td>\n",
       "      <td>TH</td>\n",
       "      <td>99.784100</td>\n",
       "      <td>11.82098</td>\n",
       "      <td>11n49</td>\n",
       "      <td>99e47</td>\n",
       "      <td>15</td>\n",
       "      <td>[{'f_point': 'Moon', 's_point': 'Antes Pars Fortuna', 'type': 'Con', 'approach': 'moon_conv_clea...</td>\n",
       "    </tr>\n",
       "  </tbody>\n",
       "</table>\n",
       "</div>"
      ],
      "text/plain": [
       "        game_id    ligue_header comp_id season_id          game_utc  \\\n",
       "89940  15147393  Third Division     553       306  28.03.2021 12:30   \n",
       "89941  15109589   Thai League 1     718       298  28.03.2021 11:00   \n",
       "\n",
       "                      game_title goals ligue    f_team  pos_f  pts_f  pos_s  \\\n",
       "89940    Ormideia - O Kormakitis   2:0   thr  Ormideia    8.0   40.0   16.0   \n",
       "89941  Prachuap - Bangkok United   0:1   thr  Prachuap   10.0   37.0    5.0   \n",
       "\n",
       "       pts_s  fs_pos_max   fs_pts_max f_pow         desc   country team_id  \\\n",
       "89940   16.0  8 - 16, 16  40 - 16, 68   Fav  sum_coef_13    Cyprus     NaN   \n",
       "89941   51.0  10 - 5, 16  37 - 51, 77   Pre  sum_coef_13  Thailand   13605   \n",
       "\n",
       "                      city iso_code  longitude  latitude    lat    lon  \\\n",
       "89940             Ormideia       CY  33.775628  34.99351  34n59  33e46   \n",
       "89941  Prachuap Khiri Khan       TH  99.784100  11.82098  11n49  99e47   \n",
       "\n",
       "       moon_day  \\\n",
       "89940        15   \n",
       "89941        15   \n",
       "\n",
       "                                                                                                   aspects  \n",
       "89940  [{'f_point': 'Moon', 's_point': 'Venus', 'type': 'Opp', 'approach': 'moon_conv_compl_weak', 'sin...  \n",
       "89941  [{'f_point': 'Moon', 's_point': 'Antes Pars Fortuna', 'type': 'Con', 'approach': 'moon_conv_clea...  "
      ]
     },
     "execution_count": 6,
     "metadata": {},
     "output_type": "execute_result"
    }
   ],
   "source": [
    "print('shape - ', df_with_aspects.shape)\n",
    "df_with_aspects.tail(2)"
   ]
  },
  {
   "cell_type": "markdown",
   "id": "70139d05-23c4-4a0f-87a8-cb8a431bf88d",
   "metadata": {},
   "source": [
    "#### Files with aspects"
   ]
  },
  {
   "cell_type": "code",
   "execution_count": 7,
   "id": "8160bea1-cc8d-4370-ad1e-6c25af910139",
   "metadata": {},
   "outputs": [],
   "source": [
    "# Create table with best aspects for Pre and Fav, which view more changes about mean count relation between ('fav_win'+'fav_drow'/'fav_loss') and ('fav_win'/'fav_drow'+'fav_loss')\n",
    "# Add all aspect's changes for each game and create tabel with best game's rating changes."
   ]
  },
  {
   "cell_type": "code",
   "execution_count": 8,
   "id": "6daf1d25-49a3-476b-b982-ffc69de7db7f",
   "metadata": {},
   "outputs": [],
   "source": [
    "with open('pickle_files/aspected_files/df_aspects_table_26_05_2022_f_pow_2', 'rb') as f:\n",
    "    df_asps_26_05_2022_f_pow_2 = pickle.load(f)"
   ]
  },
  {
   "cell_type": "code",
   "execution_count": 9,
   "id": "14b59133-93aa-4685-83d8-145c29c9f02d",
   "metadata": {},
   "outputs": [],
   "source": [
    "with open('pickle_files/aspected_files/df_aspects_table_26_05_2022_sum_coef_13', 'rb') as f:\n",
    "    df_asps_26_05_2022_sum_coef_13 = pickle.load(f)"
   ]
  },
  {
   "cell_type": "code",
   "execution_count": 10,
   "id": "10f0aba8-404d-4117-bfec-a2a4a082944c",
   "metadata": {},
   "outputs": [],
   "source": [
    "with open('pickle_files/aspected_files/df_aspects_table_26_03_2021_f_pow_2', 'rb') as f:\n",
    "    df_asps_26_03_2021_f_pow_2 = pickle.load(f)"
   ]
  },
  {
   "cell_type": "code",
   "execution_count": 11,
   "id": "219bd40b-e441-4e5c-8a3a-bbc95be1392f",
   "metadata": {},
   "outputs": [],
   "source": [
    "# df_asps_table = df_asps_26_05_2022_sum_coef_13\n",
    "df_asps_table = pd.concat([df_asps_26_05_2022_f_pow_2, df_asps_26_03_2021_f_pow_2, df_asps_26_05_2022_sum_coef_13], ignore_index=True)"
   ]
  },
  {
   "cell_type": "code",
   "execution_count": 12,
   "id": "7dbb7181-5d56-4bb6-8842-e02d4def7cee",
   "metadata": {},
   "outputs": [
    {
     "name": "stdout",
     "output_type": "stream",
     "text": [
      "shape -  (932137, 20)\n"
     ]
    },
    {
     "data": {
      "text/html": [
       "<div>\n",
       "<style scoped>\n",
       "    .dataframe tbody tr th:only-of-type {\n",
       "        vertical-align: middle;\n",
       "    }\n",
       "\n",
       "    .dataframe tbody tr th {\n",
       "        vertical-align: top;\n",
       "    }\n",
       "\n",
       "    .dataframe thead th {\n",
       "        text-align: right;\n",
       "    }\n",
       "</style>\n",
       "<table border=\"1\" class=\"dataframe\">\n",
       "  <thead>\n",
       "    <tr style=\"text-align: right;\">\n",
       "      <th></th>\n",
       "      <th>game_id</th>\n",
       "      <th>game_title</th>\n",
       "      <th>goals</th>\n",
       "      <th>ligue</th>\n",
       "      <th>f_pow</th>\n",
       "      <th>f_point</th>\n",
       "      <th>fmain_ch</th>\n",
       "      <th>fsec_ch</th>\n",
       "      <th>s_point</th>\n",
       "      <th>smain_ch</th>\n",
       "      <th>ssec_ch</th>\n",
       "      <th>type</th>\n",
       "      <th>approach</th>\n",
       "      <th>sing</th>\n",
       "      <th>tr_orb</th>\n",
       "      <th>bp_asp</th>\n",
       "      <th>den_point</th>\n",
       "      <th>orb_char</th>\n",
       "      <th>moon_day</th>\n",
       "      <th>desc</th>\n",
       "    </tr>\n",
       "  </thead>\n",
       "  <tbody>\n",
       "    <tr>\n",
       "      <th>932134</th>\n",
       "      <td>15109589</td>\n",
       "      <td>Prachuap - Bangkok United</td>\n",
       "      <td>0:1</td>\n",
       "      <td>thr</td>\n",
       "      <td>Pre</td>\n",
       "      <td>Pars Crest</td>\n",
       "      <td>[]</td>\n",
       "      <td>[]</td>\n",
       "      <td>Pars Rock</td>\n",
       "      <td>[]</td>\n",
       "      <td>[]</td>\n",
       "      <td>Opp</td>\n",
       "      <td>stat</td>\n",
       "      <td>equal</td>\n",
       "      <td>0.08</td>\n",
       "      <td>yes</td>\n",
       "      <td>[]</td>\n",
       "      <td>max</td>\n",
       "      <td>15</td>\n",
       "      <td>sum_coef_13</td>\n",
       "    </tr>\n",
       "    <tr>\n",
       "      <th>932135</th>\n",
       "      <td>15109589</td>\n",
       "      <td>Prachuap - Bangkok United</td>\n",
       "      <td>0:1</td>\n",
       "      <td>thr</td>\n",
       "      <td>Pre</td>\n",
       "      <td>Venus</td>\n",
       "      <td>[ruler_asc]</td>\n",
       "      <td>[ruler_antes_pars_fortuna]</td>\n",
       "      <td>Antes Neptune</td>\n",
       "      <td>[]</td>\n",
       "      <td>[]</td>\n",
       "      <td>Opp</td>\n",
       "      <td>conv</td>\n",
       "      <td>equal</td>\n",
       "      <td>0.11</td>\n",
       "      <td>no</td>\n",
       "      <td>[]</td>\n",
       "      <td>max</td>\n",
       "      <td>15</td>\n",
       "      <td>sum_coef_13</td>\n",
       "    </tr>\n",
       "    <tr>\n",
       "      <th>932136</th>\n",
       "      <td>15109589</td>\n",
       "      <td>Prachuap - Bangkok United</td>\n",
       "      <td>0:1</td>\n",
       "      <td>thr</td>\n",
       "      <td>Pre</td>\n",
       "      <td>Jupiter</td>\n",
       "      <td>[ruler_pars_fortuna]</td>\n",
       "      <td>[]</td>\n",
       "      <td>Antes Uranus</td>\n",
       "      <td>[]</td>\n",
       "      <td>[]</td>\n",
       "      <td>Opp</td>\n",
       "      <td>diver</td>\n",
       "      <td>equal</td>\n",
       "      <td>1.22</td>\n",
       "      <td>yes</td>\n",
       "      <td>[]</td>\n",
       "      <td>middle</td>\n",
       "      <td>15</td>\n",
       "      <td>sum_coef_13</td>\n",
       "    </tr>\n",
       "  </tbody>\n",
       "</table>\n",
       "</div>"
      ],
      "text/plain": [
       "         game_id                 game_title goals ligue f_pow     f_point  \\\n",
       "932134  15109589  Prachuap - Bangkok United   0:1   thr   Pre  Pars Crest   \n",
       "932135  15109589  Prachuap - Bangkok United   0:1   thr   Pre       Venus   \n",
       "932136  15109589  Prachuap - Bangkok United   0:1   thr   Pre     Jupiter   \n",
       "\n",
       "                    fmain_ch                     fsec_ch        s_point  \\\n",
       "932134                    []                          []      Pars Rock   \n",
       "932135           [ruler_asc]  [ruler_antes_pars_fortuna]  Antes Neptune   \n",
       "932136  [ruler_pars_fortuna]                          []   Antes Uranus   \n",
       "\n",
       "       smain_ch ssec_ch type approach   sing  tr_orb bp_asp den_point  \\\n",
       "932134       []      []  Opp     stat  equal    0.08    yes        []   \n",
       "932135       []      []  Opp     conv  equal    0.11     no        []   \n",
       "932136       []      []  Opp    diver  equal    1.22    yes        []   \n",
       "\n",
       "       orb_char  moon_day         desc  \n",
       "932134      max        15  sum_coef_13  \n",
       "932135      max        15  sum_coef_13  \n",
       "932136   middle        15  sum_coef_13  "
      ]
     },
     "execution_count": 12,
     "metadata": {},
     "output_type": "execute_result"
    }
   ],
   "source": [
    "print('shape - ', df_asps_table.shape)\n",
    "df_asps_table.tail(3)"
   ]
  },
  {
   "cell_type": "markdown",
   "id": "f53b8bbd-6f0e-4872-ab6b-6b539d369289",
   "metadata": {},
   "source": [
    "#### Determinate winners from goals"
   ]
  },
  {
   "cell_type": "code",
   "execution_count": 13,
   "id": "1d8d1cd5-8378-4bc6-9fa5-70c87c9d58ea",
   "metadata": {},
   "outputs": [],
   "source": [
    "rare_smbs = df_asps_table.goals.map(lambda x: x if re.findall('-', str(x)) else None)"
   ]
  },
  {
   "cell_type": "code",
   "execution_count": 14,
   "id": "c5d1636a-8fb0-4b72-9980-84508f6be83f",
   "metadata": {},
   "outputs": [
    {
     "name": "stdout",
     "output_type": "stream",
     "text": [
      "19\n"
     ]
    },
    {
     "data": {
      "text/plain": [
       "Int64Index([512796, 512797], dtype='int64')"
      ]
     },
     "execution_count": 14,
     "metadata": {},
     "output_type": "execute_result"
    }
   ],
   "source": [
    "rare_smbs_inds = rare_smbs[~rare_smbs.isna()].index\n",
    "print(len(rare_smbs_inds))\n",
    "rare_smbs_inds[:2]"
   ]
  },
  {
   "cell_type": "code",
   "execution_count": 15,
   "id": "4a658748-c329-4866-aef1-3400db0cc3ae",
   "metadata": {},
   "outputs": [
    {
     "name": "stdout",
     "output_type": "stream",
     "text": [
      "shape -  (932118, 20)\n"
     ]
    },
    {
     "data": {
      "text/html": [
       "<div>\n",
       "<style scoped>\n",
       "    .dataframe tbody tr th:only-of-type {\n",
       "        vertical-align: middle;\n",
       "    }\n",
       "\n",
       "    .dataframe tbody tr th {\n",
       "        vertical-align: top;\n",
       "    }\n",
       "\n",
       "    .dataframe thead th {\n",
       "        text-align: right;\n",
       "    }\n",
       "</style>\n",
       "<table border=\"1\" class=\"dataframe\">\n",
       "  <thead>\n",
       "    <tr style=\"text-align: right;\">\n",
       "      <th></th>\n",
       "      <th>game_id</th>\n",
       "      <th>game_title</th>\n",
       "      <th>goals</th>\n",
       "      <th>ligue</th>\n",
       "      <th>f_pow</th>\n",
       "      <th>f_point</th>\n",
       "      <th>fmain_ch</th>\n",
       "      <th>fsec_ch</th>\n",
       "      <th>s_point</th>\n",
       "      <th>smain_ch</th>\n",
       "      <th>ssec_ch</th>\n",
       "      <th>type</th>\n",
       "      <th>approach</th>\n",
       "      <th>sing</th>\n",
       "      <th>tr_orb</th>\n",
       "      <th>bp_asp</th>\n",
       "      <th>den_point</th>\n",
       "      <th>orb_char</th>\n",
       "      <th>moon_day</th>\n",
       "      <th>desc</th>\n",
       "    </tr>\n",
       "  </thead>\n",
       "  <tbody>\n",
       "    <tr>\n",
       "      <th>932115</th>\n",
       "      <td>15109589</td>\n",
       "      <td>Prachuap - Bangkok United</td>\n",
       "      <td>0:1</td>\n",
       "      <td>thr</td>\n",
       "      <td>Pre</td>\n",
       "      <td>Pars Crest</td>\n",
       "      <td>[]</td>\n",
       "      <td>[]</td>\n",
       "      <td>Pars Rock</td>\n",
       "      <td>[]</td>\n",
       "      <td>[]</td>\n",
       "      <td>Opp</td>\n",
       "      <td>stat</td>\n",
       "      <td>equal</td>\n",
       "      <td>0.08</td>\n",
       "      <td>yes</td>\n",
       "      <td>[]</td>\n",
       "      <td>max</td>\n",
       "      <td>15</td>\n",
       "      <td>sum_coef_13</td>\n",
       "    </tr>\n",
       "    <tr>\n",
       "      <th>932116</th>\n",
       "      <td>15109589</td>\n",
       "      <td>Prachuap - Bangkok United</td>\n",
       "      <td>0:1</td>\n",
       "      <td>thr</td>\n",
       "      <td>Pre</td>\n",
       "      <td>Venus</td>\n",
       "      <td>[ruler_asc]</td>\n",
       "      <td>[ruler_antes_pars_fortuna]</td>\n",
       "      <td>Antes Neptune</td>\n",
       "      <td>[]</td>\n",
       "      <td>[]</td>\n",
       "      <td>Opp</td>\n",
       "      <td>conv</td>\n",
       "      <td>equal</td>\n",
       "      <td>0.11</td>\n",
       "      <td>no</td>\n",
       "      <td>[]</td>\n",
       "      <td>max</td>\n",
       "      <td>15</td>\n",
       "      <td>sum_coef_13</td>\n",
       "    </tr>\n",
       "    <tr>\n",
       "      <th>932117</th>\n",
       "      <td>15109589</td>\n",
       "      <td>Prachuap - Bangkok United</td>\n",
       "      <td>0:1</td>\n",
       "      <td>thr</td>\n",
       "      <td>Pre</td>\n",
       "      <td>Jupiter</td>\n",
       "      <td>[ruler_pars_fortuna]</td>\n",
       "      <td>[]</td>\n",
       "      <td>Antes Uranus</td>\n",
       "      <td>[]</td>\n",
       "      <td>[]</td>\n",
       "      <td>Opp</td>\n",
       "      <td>diver</td>\n",
       "      <td>equal</td>\n",
       "      <td>1.22</td>\n",
       "      <td>yes</td>\n",
       "      <td>[]</td>\n",
       "      <td>middle</td>\n",
       "      <td>15</td>\n",
       "      <td>sum_coef_13</td>\n",
       "    </tr>\n",
       "  </tbody>\n",
       "</table>\n",
       "</div>"
      ],
      "text/plain": [
       "         game_id                 game_title goals ligue f_pow     f_point  \\\n",
       "932115  15109589  Prachuap - Bangkok United   0:1   thr   Pre  Pars Crest   \n",
       "932116  15109589  Prachuap - Bangkok United   0:1   thr   Pre       Venus   \n",
       "932117  15109589  Prachuap - Bangkok United   0:1   thr   Pre     Jupiter   \n",
       "\n",
       "                    fmain_ch                     fsec_ch        s_point  \\\n",
       "932115                    []                          []      Pars Rock   \n",
       "932116           [ruler_asc]  [ruler_antes_pars_fortuna]  Antes Neptune   \n",
       "932117  [ruler_pars_fortuna]                          []   Antes Uranus   \n",
       "\n",
       "       smain_ch ssec_ch type approach   sing  tr_orb bp_asp den_point  \\\n",
       "932115       []      []  Opp     stat  equal    0.08    yes        []   \n",
       "932116       []      []  Opp     conv  equal    0.11     no        []   \n",
       "932117       []      []  Opp    diver  equal    1.22    yes        []   \n",
       "\n",
       "       orb_char  moon_day         desc  \n",
       "932115      max        15  sum_coef_13  \n",
       "932116      max        15  sum_coef_13  \n",
       "932117   middle        15  sum_coef_13  "
      ]
     },
     "execution_count": 15,
     "metadata": {},
     "output_type": "execute_result"
    }
   ],
   "source": [
    "df_asps_table = df_asps_table[~df_asps_table.index.isin(rare_smbs_inds)].copy().reset_index(drop=True)\n",
    "print('shape - ', df_asps_table.shape)\n",
    "df_asps_table.tail(3)"
   ]
  },
  {
   "cell_type": "code",
   "execution_count": 16,
   "id": "f24cea5f-a20f-4502-b154-6be218d741c9",
   "metadata": {},
   "outputs": [
    {
     "name": "stdout",
     "output_type": "stream",
     "text": [
      "shape -  (89942, 27)\n"
     ]
    },
    {
     "data": {
      "text/html": [
       "<div>\n",
       "<style scoped>\n",
       "    .dataframe tbody tr th:only-of-type {\n",
       "        vertical-align: middle;\n",
       "    }\n",
       "\n",
       "    .dataframe tbody tr th {\n",
       "        vertical-align: top;\n",
       "    }\n",
       "\n",
       "    .dataframe thead th {\n",
       "        text-align: right;\n",
       "    }\n",
       "</style>\n",
       "<table border=\"1\" class=\"dataframe\">\n",
       "  <thead>\n",
       "    <tr style=\"text-align: right;\">\n",
       "      <th></th>\n",
       "      <th>game_id</th>\n",
       "      <th>ligue_header</th>\n",
       "      <th>comp_id</th>\n",
       "      <th>season_id</th>\n",
       "      <th>game_utc</th>\n",
       "      <th>game_title</th>\n",
       "      <th>goals</th>\n",
       "      <th>ligue</th>\n",
       "      <th>f_team</th>\n",
       "      <th>pos_f</th>\n",
       "      <th>pts_f</th>\n",
       "      <th>pos_s</th>\n",
       "      <th>pts_s</th>\n",
       "      <th>fs_pos_max</th>\n",
       "      <th>fs_pts_max</th>\n",
       "      <th>f_pow</th>\n",
       "      <th>desc</th>\n",
       "      <th>country</th>\n",
       "      <th>team_id</th>\n",
       "      <th>city</th>\n",
       "      <th>iso_code</th>\n",
       "      <th>longitude</th>\n",
       "      <th>latitude</th>\n",
       "      <th>lat</th>\n",
       "      <th>lon</th>\n",
       "      <th>moon_day</th>\n",
       "      <th>aspects</th>\n",
       "    </tr>\n",
       "  </thead>\n",
       "  <tbody>\n",
       "    <tr>\n",
       "      <th>89939</th>\n",
       "      <td>15164040</td>\n",
       "      <td>Srpska Liga</td>\n",
       "      <td>698</td>\n",
       "      <td>306</td>\n",
       "      <td>28.03.2021 13:30</td>\n",
       "      <td>Zeleznicar Lajkovac - Sloboda Užice</td>\n",
       "      <td>1:0</td>\n",
       "      <td>thr</td>\n",
       "      <td>Zeleznicar Lajkovac</td>\n",
       "      <td>15.0</td>\n",
       "      <td>36.0</td>\n",
       "      <td>4.0</td>\n",
       "      <td>57.0</td>\n",
       "      <td>15 - 4, 20</td>\n",
       "      <td>36 - 57, 94</td>\n",
       "      <td>Pre</td>\n",
       "      <td>sum_coef_13</td>\n",
       "      <td>Serbia</td>\n",
       "      <td>NaN</td>\n",
       "      <td>Lajkovac</td>\n",
       "      <td>RS</td>\n",
       "      <td>20.165280</td>\n",
       "      <td>44.36944</td>\n",
       "      <td>44n22</td>\n",
       "      <td>20e9</td>\n",
       "      <td>15</td>\n",
       "      <td>[{'f_point': 'Moon', 's_point': 'Venus', 'type': 'Opp', 'approach': 'moon_conv_compl_weak', 'sin...</td>\n",
       "    </tr>\n",
       "    <tr>\n",
       "      <th>89940</th>\n",
       "      <td>15147393</td>\n",
       "      <td>Third Division</td>\n",
       "      <td>553</td>\n",
       "      <td>306</td>\n",
       "      <td>28.03.2021 12:30</td>\n",
       "      <td>Ormideia - O Kormakitis</td>\n",
       "      <td>2:0</td>\n",
       "      <td>thr</td>\n",
       "      <td>Ormideia</td>\n",
       "      <td>8.0</td>\n",
       "      <td>40.0</td>\n",
       "      <td>16.0</td>\n",
       "      <td>16.0</td>\n",
       "      <td>8 - 16, 16</td>\n",
       "      <td>40 - 16, 68</td>\n",
       "      <td>Fav</td>\n",
       "      <td>sum_coef_13</td>\n",
       "      <td>Cyprus</td>\n",
       "      <td>NaN</td>\n",
       "      <td>Ormideia</td>\n",
       "      <td>CY</td>\n",
       "      <td>33.775628</td>\n",
       "      <td>34.99351</td>\n",
       "      <td>34n59</td>\n",
       "      <td>33e46</td>\n",
       "      <td>15</td>\n",
       "      <td>[{'f_point': 'Moon', 's_point': 'Venus', 'type': 'Opp', 'approach': 'moon_conv_compl_weak', 'sin...</td>\n",
       "    </tr>\n",
       "    <tr>\n",
       "      <th>89941</th>\n",
       "      <td>15109589</td>\n",
       "      <td>Thai League 1</td>\n",
       "      <td>718</td>\n",
       "      <td>298</td>\n",
       "      <td>28.03.2021 11:00</td>\n",
       "      <td>Prachuap - Bangkok United</td>\n",
       "      <td>0:1</td>\n",
       "      <td>thr</td>\n",
       "      <td>Prachuap</td>\n",
       "      <td>10.0</td>\n",
       "      <td>37.0</td>\n",
       "      <td>5.0</td>\n",
       "      <td>51.0</td>\n",
       "      <td>10 - 5, 16</td>\n",
       "      <td>37 - 51, 77</td>\n",
       "      <td>Pre</td>\n",
       "      <td>sum_coef_13</td>\n",
       "      <td>Thailand</td>\n",
       "      <td>13605</td>\n",
       "      <td>Prachuap Khiri Khan</td>\n",
       "      <td>TH</td>\n",
       "      <td>99.784100</td>\n",
       "      <td>11.82098</td>\n",
       "      <td>11n49</td>\n",
       "      <td>99e47</td>\n",
       "      <td>15</td>\n",
       "      <td>[{'f_point': 'Moon', 's_point': 'Antes Pars Fortuna', 'type': 'Con', 'approach': 'moon_conv_clea...</td>\n",
       "    </tr>\n",
       "  </tbody>\n",
       "</table>\n",
       "</div>"
      ],
      "text/plain": [
       "        game_id    ligue_header comp_id season_id          game_utc  \\\n",
       "89939  15164040     Srpska Liga     698       306  28.03.2021 13:30   \n",
       "89940  15147393  Third Division     553       306  28.03.2021 12:30   \n",
       "89941  15109589   Thai League 1     718       298  28.03.2021 11:00   \n",
       "\n",
       "                                game_title goals ligue               f_team  \\\n",
       "89939  Zeleznicar Lajkovac - Sloboda Užice   1:0   thr  Zeleznicar Lajkovac   \n",
       "89940              Ormideia - O Kormakitis   2:0   thr             Ormideia   \n",
       "89941            Prachuap - Bangkok United   0:1   thr             Prachuap   \n",
       "\n",
       "       pos_f  pts_f  pos_s  pts_s  fs_pos_max   fs_pts_max f_pow         desc  \\\n",
       "89939   15.0   36.0    4.0   57.0  15 - 4, 20  36 - 57, 94   Pre  sum_coef_13   \n",
       "89940    8.0   40.0   16.0   16.0  8 - 16, 16  40 - 16, 68   Fav  sum_coef_13   \n",
       "89941   10.0   37.0    5.0   51.0  10 - 5, 16  37 - 51, 77   Pre  sum_coef_13   \n",
       "\n",
       "        country team_id                 city iso_code  longitude  latitude  \\\n",
       "89939    Serbia     NaN             Lajkovac       RS  20.165280  44.36944   \n",
       "89940    Cyprus     NaN             Ormideia       CY  33.775628  34.99351   \n",
       "89941  Thailand   13605  Prachuap Khiri Khan       TH  99.784100  11.82098   \n",
       "\n",
       "         lat    lon  moon_day  \\\n",
       "89939  44n22   20e9        15   \n",
       "89940  34n59  33e46        15   \n",
       "89941  11n49  99e47        15   \n",
       "\n",
       "                                                                                                   aspects  \n",
       "89939  [{'f_point': 'Moon', 's_point': 'Venus', 'type': 'Opp', 'approach': 'moon_conv_compl_weak', 'sin...  \n",
       "89940  [{'f_point': 'Moon', 's_point': 'Venus', 'type': 'Opp', 'approach': 'moon_conv_compl_weak', 'sin...  \n",
       "89941  [{'f_point': 'Moon', 's_point': 'Antes Pars Fortuna', 'type': 'Con', 'approach': 'moon_conv_clea...  "
      ]
     },
     "execution_count": 16,
     "metadata": {},
     "output_type": "execute_result"
    }
   ],
   "source": [
    "df_with_aspects = df_with_aspects[~df_with_aspects.index.isin(rare_smbs_inds)].copy().reset_index(drop=True)\n",
    "print('shape - ', df_with_aspects.shape)\n",
    "df_with_aspects.tail(3)"
   ]
  },
  {
   "cell_type": "code",
   "execution_count": 17,
   "id": "32e902fa-8326-4ee7-adb0-02ffc8f24413",
   "metadata": {},
   "outputs": [],
   "source": [
    "df_asps_table['f_goals'] = pd.to_numeric(df_asps_table.goals.str.split(':').str[0])\n",
    "df_asps_table['s_goals'] = pd.to_numeric(df_asps_table.goals.str.split(':').str[1])"
   ]
  },
  {
   "cell_type": "code",
   "execution_count": 18,
   "id": "410e5c41-23fe-407b-916f-3d6ae6bc1aea",
   "metadata": {},
   "outputs": [],
   "source": [
    "def get_results(f_pow: str, f_goals: int, s_goals: int):\n",
    "    if f_goals == s_goals:\n",
    "        result = 'fav_drow'\n",
    "    elif f_pow == 'Pre' and f_goals > s_goals:\n",
    "        result = 'fav_loss'\n",
    "    elif f_pow == 'Fav' and f_goals < s_goals:\n",
    "        result = 'fav_loss'    \n",
    "    else:\n",
    "        result = 'fav_win'\n",
    "    return result    "
   ]
  },
  {
   "cell_type": "code",
   "execution_count": 19,
   "id": "71d9e707-71b8-411f-bf4f-aa0cbc7e2565",
   "metadata": {},
   "outputs": [],
   "source": [
    "df_asps_table['result'] = df_asps_table[['f_pow', 'f_goals', 's_goals']].apply(lambda x: get_results(x[0], x[1], x[2]), axis=1)"
   ]
  },
  {
   "cell_type": "code",
   "execution_count": 20,
   "id": "8226a936-ee7c-4ca5-8188-364090cf660d",
   "metadata": {},
   "outputs": [],
   "source": [
    "df_asps_table.drop(columns=['f_goals', 's_goals'], inplace=True)"
   ]
  },
  {
   "cell_type": "code",
   "execution_count": 21,
   "id": "b0a715de-3781-48cf-9ddd-fa73cfd9d624",
   "metadata": {},
   "outputs": [
    {
     "data": {
      "text/html": [
       "<div>\n",
       "<style scoped>\n",
       "    .dataframe tbody tr th:only-of-type {\n",
       "        vertical-align: middle;\n",
       "    }\n",
       "\n",
       "    .dataframe tbody tr th {\n",
       "        vertical-align: top;\n",
       "    }\n",
       "\n",
       "    .dataframe thead th {\n",
       "        text-align: right;\n",
       "    }\n",
       "</style>\n",
       "<table border=\"1\" class=\"dataframe\">\n",
       "  <thead>\n",
       "    <tr style=\"text-align: right;\">\n",
       "      <th></th>\n",
       "      <th>game_id</th>\n",
       "      <th>game_title</th>\n",
       "      <th>goals</th>\n",
       "      <th>ligue</th>\n",
       "      <th>f_pow</th>\n",
       "      <th>f_point</th>\n",
       "      <th>fmain_ch</th>\n",
       "      <th>fsec_ch</th>\n",
       "      <th>s_point</th>\n",
       "      <th>smain_ch</th>\n",
       "      <th>ssec_ch</th>\n",
       "      <th>type</th>\n",
       "      <th>approach</th>\n",
       "      <th>sing</th>\n",
       "      <th>tr_orb</th>\n",
       "      <th>bp_asp</th>\n",
       "      <th>den_point</th>\n",
       "      <th>orb_char</th>\n",
       "      <th>moon_day</th>\n",
       "      <th>desc</th>\n",
       "      <th>result</th>\n",
       "    </tr>\n",
       "  </thead>\n",
       "  <tbody>\n",
       "    <tr>\n",
       "      <th>0</th>\n",
       "      <td>1708335</td>\n",
       "      <td>FC Minsk - Arsenal Dzerzhinsk</td>\n",
       "      <td>2:0</td>\n",
       "      <td>top</td>\n",
       "      <td>Fav</td>\n",
       "      <td>Moon</td>\n",
       "      <td>[]</td>\n",
       "      <td>[ruler_pars_rock]</td>\n",
       "      <td>Antes Sun</td>\n",
       "      <td>[antes_ruler_mc]</td>\n",
       "      <td>[]</td>\n",
       "      <td>Sque</td>\n",
       "      <td>moon_conv</td>\n",
       "      <td>equal</td>\n",
       "      <td>2.38</td>\n",
       "      <td>no</td>\n",
       "      <td>[]</td>\n",
       "      <td>middle</td>\n",
       "      <td>25</td>\n",
       "      <td>pow_coef_2</td>\n",
       "      <td>fav_win</td>\n",
       "    </tr>\n",
       "    <tr>\n",
       "      <th>1</th>\n",
       "      <td>1708335</td>\n",
       "      <td>FC Minsk - Arsenal Dzerzhinsk</td>\n",
       "      <td>2:0</td>\n",
       "      <td>top</td>\n",
       "      <td>Fav</td>\n",
       "      <td>Moon</td>\n",
       "      <td>[]</td>\n",
       "      <td>[ruler_pars_rock]</td>\n",
       "      <td>Venus</td>\n",
       "      <td>[ruler_desc]</td>\n",
       "      <td>[]</td>\n",
       "      <td>Con</td>\n",
       "      <td>moon_conv_denide</td>\n",
       "      <td>equal</td>\n",
       "      <td>5.40</td>\n",
       "      <td>no</td>\n",
       "      <td>[more_orb]</td>\n",
       "      <td>min</td>\n",
       "      <td>25</td>\n",
       "      <td>pow_coef_2</td>\n",
       "      <td>fav_win</td>\n",
       "    </tr>\n",
       "    <tr>\n",
       "      <th>2</th>\n",
       "      <td>1708335</td>\n",
       "      <td>FC Minsk - Arsenal Dzerzhinsk</td>\n",
       "      <td>2:0</td>\n",
       "      <td>top</td>\n",
       "      <td>Fav</td>\n",
       "      <td>Moon</td>\n",
       "      <td>[]</td>\n",
       "      <td>[ruler_pars_rock]</td>\n",
       "      <td>Saturn</td>\n",
       "      <td>[ruler_ic]</td>\n",
       "      <td>[]</td>\n",
       "      <td>Sixt</td>\n",
       "      <td>moon_conv_clear_compl</td>\n",
       "      <td>equal</td>\n",
       "      <td>3.11</td>\n",
       "      <td>no</td>\n",
       "      <td>[]</td>\n",
       "      <td>mid_min</td>\n",
       "      <td>25</td>\n",
       "      <td>pow_coef_2</td>\n",
       "      <td>fav_win</td>\n",
       "    </tr>\n",
       "  </tbody>\n",
       "</table>\n",
       "</div>"
      ],
      "text/plain": [
       "   game_id                     game_title goals ligue f_pow f_point fmain_ch  \\\n",
       "0  1708335  FC Minsk - Arsenal Dzerzhinsk   2:0   top   Fav    Moon       []   \n",
       "1  1708335  FC Minsk - Arsenal Dzerzhinsk   2:0   top   Fav    Moon       []   \n",
       "2  1708335  FC Minsk - Arsenal Dzerzhinsk   2:0   top   Fav    Moon       []   \n",
       "\n",
       "             fsec_ch    s_point          smain_ch ssec_ch  type  \\\n",
       "0  [ruler_pars_rock]  Antes Sun  [antes_ruler_mc]      []  Sque   \n",
       "1  [ruler_pars_rock]      Venus      [ruler_desc]      []   Con   \n",
       "2  [ruler_pars_rock]     Saturn        [ruler_ic]      []  Sixt   \n",
       "\n",
       "                approach   sing  tr_orb bp_asp   den_point orb_char  moon_day  \\\n",
       "0              moon_conv  equal    2.38     no          []   middle        25   \n",
       "1       moon_conv_denide  equal    5.40     no  [more_orb]      min        25   \n",
       "2  moon_conv_clear_compl  equal    3.11     no          []  mid_min        25   \n",
       "\n",
       "         desc   result  \n",
       "0  pow_coef_2  fav_win  \n",
       "1  pow_coef_2  fav_win  \n",
       "2  pow_coef_2  fav_win  "
      ]
     },
     "execution_count": 21,
     "metadata": {},
     "output_type": "execute_result"
    }
   ],
   "source": [
    "df_asps_table.head(3)"
   ]
  },
  {
   "cell_type": "markdown",
   "id": "834f8665-8e28-4c9d-b8f1-8af9b3308464",
   "metadata": {},
   "source": [
    "### Future develop"
   ]
  },
  {
   "cell_type": "code",
   "execution_count": 22,
   "id": "8fa69e80-73bb-48ec-8d1a-b1e9c9420a6e",
   "metadata": {},
   "outputs": [],
   "source": [
    "# df = pd.DataFrame({\"A\": [1,2,3,4], \"B\": [\"a\", \"b\", \"c\", \"d\"], \"C\": [[1,2,3], [2], [2,3,1], [4]] })\n",
    "# df.C.apply(sorted).transform(tuple).unique()"
   ]
  },
  {
   "cell_type": "code",
   "execution_count": 23,
   "id": "8a04a5c1-cbf1-4c57-9fb6-2cfee8dc0b7f",
   "metadata": {},
   "outputs": [],
   "source": [
    "# pd.unique(df_asps_table[['f_point', 'fmain_ch']].values.ravel('K'))"
   ]
  },
  {
   "cell_type": "code",
   "execution_count": null,
   "id": "5ccd9c9b-046b-4ee3-a027-368cb235e378",
   "metadata": {},
   "outputs": [],
   "source": []
  },
  {
   "cell_type": "code",
   "execution_count": null,
   "id": "f775fe6e-007d-4d32-923f-ee49e457d359",
   "metadata": {},
   "outputs": [],
   "source": []
  },
  {
   "cell_type": "code",
   "execution_count": null,
   "id": "3e7541c2-8164-4dde-9dcb-e35161a105d1",
   "metadata": {},
   "outputs": [],
   "source": []
  },
  {
   "cell_type": "markdown",
   "id": "aa4021b6-45ce-4804-976c-f69282cbaa75",
   "metadata": {},
   "source": [
    "### Statistic data"
   ]
  },
  {
   "cell_type": "code",
   "execution_count": 24,
   "id": "08291e0e-fc49-4992-b0a6-7c87661bac22",
   "metadata": {},
   "outputs": [
    {
     "name": "stdout",
     "output_type": "stream",
     "text": [
      "shape -  (89940, 21)\n"
     ]
    },
    {
     "data": {
      "text/html": [
       "<div>\n",
       "<style scoped>\n",
       "    .dataframe tbody tr th:only-of-type {\n",
       "        vertical-align: middle;\n",
       "    }\n",
       "\n",
       "    .dataframe tbody tr th {\n",
       "        vertical-align: top;\n",
       "    }\n",
       "\n",
       "    .dataframe thead th {\n",
       "        text-align: right;\n",
       "    }\n",
       "</style>\n",
       "<table border=\"1\" class=\"dataframe\">\n",
       "  <thead>\n",
       "    <tr style=\"text-align: right;\">\n",
       "      <th></th>\n",
       "      <th>game_id</th>\n",
       "      <th>game_title</th>\n",
       "      <th>goals</th>\n",
       "      <th>ligue</th>\n",
       "      <th>f_pow</th>\n",
       "      <th>f_point</th>\n",
       "      <th>fmain_ch</th>\n",
       "      <th>fsec_ch</th>\n",
       "      <th>s_point</th>\n",
       "      <th>smain_ch</th>\n",
       "      <th>ssec_ch</th>\n",
       "      <th>type</th>\n",
       "      <th>approach</th>\n",
       "      <th>sing</th>\n",
       "      <th>tr_orb</th>\n",
       "      <th>bp_asp</th>\n",
       "      <th>den_point</th>\n",
       "      <th>orb_char</th>\n",
       "      <th>moon_day</th>\n",
       "      <th>desc</th>\n",
       "      <th>result</th>\n",
       "    </tr>\n",
       "  </thead>\n",
       "  <tbody>\n",
       "    <tr>\n",
       "      <th>89937</th>\n",
       "      <td>15164040</td>\n",
       "      <td>Zeleznicar Lajkovac - Sloboda Užice</td>\n",
       "      <td>1:0</td>\n",
       "      <td>thr</td>\n",
       "      <td>Pre</td>\n",
       "      <td>Moon</td>\n",
       "      <td>[]</td>\n",
       "      <td>[ruler_pars_glory, ruler_pars_rock]</td>\n",
       "      <td>Venus</td>\n",
       "      <td>[ruler_mc]</td>\n",
       "      <td>[]</td>\n",
       "      <td>Opp</td>\n",
       "      <td>moon_conv_compl_weak</td>\n",
       "      <td>equal</td>\n",
       "      <td>3.39</td>\n",
       "      <td>no</td>\n",
       "      <td>[[Sun], [with_ruls]]</td>\n",
       "      <td>mid_min</td>\n",
       "      <td>15</td>\n",
       "      <td>sum_coef_13</td>\n",
       "      <td>fav_loss</td>\n",
       "    </tr>\n",
       "    <tr>\n",
       "      <th>89938</th>\n",
       "      <td>15147393</td>\n",
       "      <td>Ormideia - O Kormakitis</td>\n",
       "      <td>2:0</td>\n",
       "      <td>thr</td>\n",
       "      <td>Fav</td>\n",
       "      <td>Moon</td>\n",
       "      <td>[]</td>\n",
       "      <td>[ruler_pars_glory]</td>\n",
       "      <td>Venus</td>\n",
       "      <td>[ruler_mc]</td>\n",
       "      <td>[]</td>\n",
       "      <td>Opp</td>\n",
       "      <td>moon_conv_compl_weak</td>\n",
       "      <td>equal</td>\n",
       "      <td>4.13</td>\n",
       "      <td>no</td>\n",
       "      <td>[[Sun], [with_ruls]]</td>\n",
       "      <td>min</td>\n",
       "      <td>15</td>\n",
       "      <td>sum_coef_13</td>\n",
       "      <td>fav_win</td>\n",
       "    </tr>\n",
       "    <tr>\n",
       "      <th>89939</th>\n",
       "      <td>15109589</td>\n",
       "      <td>Prachuap - Bangkok United</td>\n",
       "      <td>0:1</td>\n",
       "      <td>thr</td>\n",
       "      <td>Pre</td>\n",
       "      <td>Moon</td>\n",
       "      <td>[ruler_mc]</td>\n",
       "      <td>[]</td>\n",
       "      <td>Antes Pars Fortuna</td>\n",
       "      <td>[]</td>\n",
       "      <td>[]</td>\n",
       "      <td>Con</td>\n",
       "      <td>moon_conv_clear_compl</td>\n",
       "      <td>equal</td>\n",
       "      <td>0.11</td>\n",
       "      <td>no</td>\n",
       "      <td>[]</td>\n",
       "      <td>max</td>\n",
       "      <td>15</td>\n",
       "      <td>sum_coef_13</td>\n",
       "      <td>fav_win</td>\n",
       "    </tr>\n",
       "  </tbody>\n",
       "</table>\n",
       "</div>"
      ],
      "text/plain": [
       "        game_id                           game_title goals ligue f_pow  \\\n",
       "89937  15164040  Zeleznicar Lajkovac - Sloboda Užice   1:0   thr   Pre   \n",
       "89938  15147393              Ormideia - O Kormakitis   2:0   thr   Fav   \n",
       "89939  15109589            Prachuap - Bangkok United   0:1   thr   Pre   \n",
       "\n",
       "      f_point    fmain_ch                              fsec_ch  \\\n",
       "89937    Moon          []  [ruler_pars_glory, ruler_pars_rock]   \n",
       "89938    Moon          []                   [ruler_pars_glory]   \n",
       "89939    Moon  [ruler_mc]                                   []   \n",
       "\n",
       "                  s_point    smain_ch ssec_ch type               approach  \\\n",
       "89937               Venus  [ruler_mc]      []  Opp   moon_conv_compl_weak   \n",
       "89938               Venus  [ruler_mc]      []  Opp   moon_conv_compl_weak   \n",
       "89939  Antes Pars Fortuna          []      []  Con  moon_conv_clear_compl   \n",
       "\n",
       "        sing  tr_orb bp_asp             den_point orb_char  moon_day  \\\n",
       "89937  equal    3.39     no  [[Sun], [with_ruls]]  mid_min        15   \n",
       "89938  equal    4.13     no  [[Sun], [with_ruls]]      min        15   \n",
       "89939  equal    0.11     no                    []      max        15   \n",
       "\n",
       "              desc    result  \n",
       "89937  sum_coef_13  fav_loss  \n",
       "89938  sum_coef_13   fav_win  \n",
       "89939  sum_coef_13   fav_win  "
      ]
     },
     "execution_count": 24,
     "metadata": {},
     "output_type": "execute_result"
    }
   ],
   "source": [
    "df_uniq = df_asps_table.drop_duplicates(subset='game_id').reset_index(drop=True)\n",
    "print('shape - ', df_uniq.shape)\n",
    "df_uniq.tail(3)"
   ]
  },
  {
   "cell_type": "code",
   "execution_count": 25,
   "id": "f017822c-eb0d-41d5-9f74-3aab69a2790e",
   "metadata": {},
   "outputs": [
    {
     "data": {
      "text/plain": [
       "Fav    45215\n",
       "Pre    44725\n",
       "Name: f_pow, dtype: int64"
      ]
     },
     "execution_count": 25,
     "metadata": {},
     "output_type": "execute_result"
    }
   ],
   "source": [
    "df_uniq.f_pow.value_counts(dropna=False)"
   ]
  },
  {
   "cell_type": "code",
   "execution_count": 26,
   "id": "a3d7cdaf-1bed-4184-bdb2-515d45c102e2",
   "metadata": {},
   "outputs": [
    {
     "data": {
      "text/plain": [
       "fav_win     64583\n",
       "fav_drow    16441\n",
       "fav_loss     8916\n",
       "Name: result, dtype: int64"
      ]
     },
     "execution_count": 26,
     "metadata": {},
     "output_type": "execute_result"
    }
   ],
   "source": [
    "df_uniq.result.value_counts(dropna=False)"
   ]
  },
  {
   "cell_type": "code",
   "execution_count": 27,
   "id": "860bbedb-6dd4-485c-8a91-b305bb6b6876",
   "metadata": {},
   "outputs": [
    {
     "name": "stdout",
     "output_type": "stream",
     "text": [
      "Coef fav_loss -  9.09\n"
     ]
    }
   ],
   "source": [
    "print('Coef fav_loss - ',round((df_uniq[df_uniq.result=='fav_win'].shape[0] + df_uniq[df_uniq.result=='fav_drow'].shape[0]) / df_uniq[df_uniq.result=='fav_loss'].shape[0], 2))"
   ]
  },
  {
   "cell_type": "code",
   "execution_count": 28,
   "id": "792d3b4c-9ab1-475d-b00f-efd0cc7864ae",
   "metadata": {},
   "outputs": [
    {
     "name": "stdout",
     "output_type": "stream",
     "text": [
      "Coef fav_drow_loss -  2.55\n"
     ]
    }
   ],
   "source": [
    "print('Coef fav_drow_loss - ',round(df_uniq[df_uniq.result=='fav_win'].shape[0]/(df_uniq[df_uniq.result=='fav_drow'].shape[0]+df_uniq[df_uniq.result=='fav_loss'].shape[0]),2))"
   ]
  },
  {
   "cell_type": "markdown",
   "id": "2e707d34-b43f-4d62-bce7-2ced88b57574",
   "metadata": {},
   "source": [
    "### Aspects research"
   ]
  },
  {
   "cell_type": "code",
   "execution_count": 29,
   "id": "780bf731-f4a1-4e6c-8b6e-145929af3b92",
   "metadata": {},
   "outputs": [
    {
     "data": {
      "text/plain": [
       "932118"
      ]
     },
     "execution_count": 29,
     "metadata": {},
     "output_type": "execute_result"
    }
   ],
   "source": [
    "df_aspects = df_asps_table.copy() #[df_asps_table.ligue == 'top']\n",
    "len(df_aspects)"
   ]
  },
  {
   "cell_type": "code",
   "execution_count": 30,
   "id": "8e818370-3321-4482-b7ae-9a1cdafdb35c",
   "metadata": {},
   "outputs": [
    {
     "data": {
      "text/html": [
       "<div>\n",
       "<style scoped>\n",
       "    .dataframe tbody tr th:only-of-type {\n",
       "        vertical-align: middle;\n",
       "    }\n",
       "\n",
       "    .dataframe tbody tr th {\n",
       "        vertical-align: top;\n",
       "    }\n",
       "\n",
       "    .dataframe thead th {\n",
       "        text-align: right;\n",
       "    }\n",
       "</style>\n",
       "<table border=\"1\" class=\"dataframe\">\n",
       "  <thead>\n",
       "    <tr style=\"text-align: right;\">\n",
       "      <th></th>\n",
       "      <th>game_id</th>\n",
       "      <th>game_title</th>\n",
       "      <th>goals</th>\n",
       "      <th>ligue</th>\n",
       "      <th>f_pow</th>\n",
       "      <th>f_point</th>\n",
       "      <th>fmain_ch</th>\n",
       "      <th>fsec_ch</th>\n",
       "      <th>s_point</th>\n",
       "      <th>smain_ch</th>\n",
       "      <th>ssec_ch</th>\n",
       "      <th>type</th>\n",
       "      <th>approach</th>\n",
       "      <th>sing</th>\n",
       "      <th>tr_orb</th>\n",
       "      <th>bp_asp</th>\n",
       "      <th>den_point</th>\n",
       "      <th>orb_char</th>\n",
       "      <th>moon_day</th>\n",
       "      <th>desc</th>\n",
       "      <th>result</th>\n",
       "    </tr>\n",
       "  </thead>\n",
       "  <tbody>\n",
       "    <tr>\n",
       "      <th>233112</th>\n",
       "      <td>12573128</td>\n",
       "      <td>FC Poltava - Cherkashchyna</td>\n",
       "      <td>2:1</td>\n",
       "      <td>sec</td>\n",
       "      <td>Fav</td>\n",
       "      <td>MC</td>\n",
       "      <td>[]</td>\n",
       "      <td>[]</td>\n",
       "      <td>Pars Spirit</td>\n",
       "      <td>[]</td>\n",
       "      <td>[]</td>\n",
       "      <td>Con</td>\n",
       "      <td>in_stat</td>\n",
       "      <td>equal</td>\n",
       "      <td>1.13</td>\n",
       "      <td>no</td>\n",
       "      <td>[]</td>\n",
       "      <td>middle</td>\n",
       "      <td>7</td>\n",
       "      <td>pow_coef_2</td>\n",
       "      <td>fav_win</td>\n",
       "    </tr>\n",
       "    <tr>\n",
       "      <th>233188</th>\n",
       "      <td>12612231</td>\n",
       "      <td>Şanlıurfaspor - Karşıyaka</td>\n",
       "      <td>2:1</td>\n",
       "      <td>thr</td>\n",
       "      <td>Fav</td>\n",
       "      <td>Pars Rock</td>\n",
       "      <td>[]</td>\n",
       "      <td>[]</td>\n",
       "      <td>Jupiter</td>\n",
       "      <td>[ruler_pars_fortuna]</td>\n",
       "      <td>[]</td>\n",
       "      <td>Opp</td>\n",
       "      <td>diver</td>\n",
       "      <td>equal</td>\n",
       "      <td>1.46</td>\n",
       "      <td>yes</td>\n",
       "      <td>[]</td>\n",
       "      <td>mid_min</td>\n",
       "      <td>7</td>\n",
       "      <td>pow_coef_2</td>\n",
       "      <td>fav_win</td>\n",
       "    </tr>\n",
       "    <tr>\n",
       "      <th>525376</th>\n",
       "      <td>14619874</td>\n",
       "      <td>Manfredonia - Gragnano</td>\n",
       "      <td>1:1</td>\n",
       "      <td>thr</td>\n",
       "      <td>Pre</td>\n",
       "      <td>Moon</td>\n",
       "      <td>[]</td>\n",
       "      <td>[]</td>\n",
       "      <td>Venus</td>\n",
       "      <td>[ruler_asc, ruler_pars_fortuna]</td>\n",
       "      <td>[ruler_pars_rock]</td>\n",
       "      <td>Con</td>\n",
       "      <td>moon_conv_clear_compl</td>\n",
       "      <td>equal</td>\n",
       "      <td>2.14</td>\n",
       "      <td>no</td>\n",
       "      <td>[]</td>\n",
       "      <td>middle</td>\n",
       "      <td>29</td>\n",
       "      <td>pow_coef_2</td>\n",
       "      <td>fav_drow</td>\n",
       "    </tr>\n",
       "    <tr>\n",
       "      <th>874754</th>\n",
       "      <td>15205112</td>\n",
       "      <td>Al Najaf - Al Hudod</td>\n",
       "      <td>2:1</td>\n",
       "      <td>thr</td>\n",
       "      <td>Fav</td>\n",
       "      <td>North Node</td>\n",
       "      <td>[]</td>\n",
       "      <td>[]</td>\n",
       "      <td>Venus</td>\n",
       "      <td>[ruler_mc]</td>\n",
       "      <td>[ruler_antes_pars_fortuna, ruler_pars_spirit]</td>\n",
       "      <td>Con</td>\n",
       "      <td>conv</td>\n",
       "      <td>equal</td>\n",
       "      <td>0.56</td>\n",
       "      <td>yes</td>\n",
       "      <td>[]</td>\n",
       "      <td>mid_max</td>\n",
       "      <td>5</td>\n",
       "      <td>sum_coef_13</td>\n",
       "      <td>fav_win</td>\n",
       "    </tr>\n",
       "  </tbody>\n",
       "</table>\n",
       "</div>"
      ],
      "text/plain": [
       "         game_id                  game_title goals ligue f_pow     f_point  \\\n",
       "233112  12573128  FC Poltava - Cherkashchyna   2:1   sec   Fav          MC   \n",
       "233188  12612231   Şanlıurfaspor - Karşıyaka   2:1   thr   Fav   Pars Rock   \n",
       "525376  14619874      Manfredonia - Gragnano   1:1   thr   Pre        Moon   \n",
       "874754  15205112         Al Najaf - Al Hudod   2:1   thr   Fav  North Node   \n",
       "\n",
       "       fmain_ch fsec_ch      s_point                         smain_ch  \\\n",
       "233112       []      []  Pars Spirit                               []   \n",
       "233188       []      []      Jupiter             [ruler_pars_fortuna]   \n",
       "525376       []      []        Venus  [ruler_asc, ruler_pars_fortuna]   \n",
       "874754       []      []        Venus                       [ruler_mc]   \n",
       "\n",
       "                                              ssec_ch type  \\\n",
       "233112                                             []  Con   \n",
       "233188                                             []  Opp   \n",
       "525376                              [ruler_pars_rock]  Con   \n",
       "874754  [ruler_antes_pars_fortuna, ruler_pars_spirit]  Con   \n",
       "\n",
       "                     approach   sing  tr_orb bp_asp den_point orb_char  \\\n",
       "233112                in_stat  equal    1.13     no        []   middle   \n",
       "233188                  diver  equal    1.46    yes        []  mid_min   \n",
       "525376  moon_conv_clear_compl  equal    2.14     no        []   middle   \n",
       "874754                   conv  equal    0.56    yes        []  mid_max   \n",
       "\n",
       "        moon_day         desc    result  \n",
       "233112         7   pow_coef_2   fav_win  \n",
       "233188         7   pow_coef_2   fav_win  \n",
       "525376        29   pow_coef_2  fav_drow  \n",
       "874754         5  sum_coef_13   fav_win  "
      ]
     },
     "execution_count": 30,
     "metadata": {},
     "output_type": "execute_result"
    }
   ],
   "source": [
    "df_aspects.drop_duplicates(subset='game_id', keep=False)"
   ]
  },
  {
   "cell_type": "code",
   "execution_count": 31,
   "id": "da4ecdc7-d7a7-49ff-bce3-c8538fe400d6",
   "metadata": {},
   "outputs": [],
   "source": [
    "# Haven't aspects between 'Pars Fortuna' - 'Antes Pluto' - ?"
   ]
  },
  {
   "cell_type": "code",
   "execution_count": 32,
   "id": "612872f1-73e4-406d-a498-ec1093b1ca35",
   "metadata": {},
   "outputs": [],
   "source": [
    "# df_aspects.den_point.value_counts()"
   ]
  },
  {
   "cell_type": "code",
   "execution_count": 33,
   "id": "de54d734-8b1c-426f-80c1-9297d34876f3",
   "metadata": {},
   "outputs": [
    {
     "data": {
      "text/html": [
       "<div>\n",
       "<style scoped>\n",
       "    .dataframe tbody tr th:only-of-type {\n",
       "        vertical-align: middle;\n",
       "    }\n",
       "\n",
       "    .dataframe tbody tr th {\n",
       "        vertical-align: top;\n",
       "    }\n",
       "\n",
       "    .dataframe thead th {\n",
       "        text-align: right;\n",
       "    }\n",
       "</style>\n",
       "<table border=\"1\" class=\"dataframe\">\n",
       "  <thead>\n",
       "    <tr style=\"text-align: right;\">\n",
       "      <th></th>\n",
       "      <th>game_id</th>\n",
       "      <th>ligue_header</th>\n",
       "      <th>comp_id</th>\n",
       "      <th>season_id</th>\n",
       "      <th>game_utc</th>\n",
       "      <th>game_title</th>\n",
       "      <th>goals</th>\n",
       "      <th>ligue</th>\n",
       "      <th>f_team</th>\n",
       "      <th>pos_f</th>\n",
       "      <th>pts_f</th>\n",
       "      <th>pos_s</th>\n",
       "      <th>pts_s</th>\n",
       "      <th>fs_pos_max</th>\n",
       "      <th>fs_pts_max</th>\n",
       "      <th>f_pow</th>\n",
       "      <th>desc</th>\n",
       "      <th>country</th>\n",
       "      <th>team_id</th>\n",
       "      <th>city</th>\n",
       "      <th>iso_code</th>\n",
       "      <th>longitude</th>\n",
       "      <th>latitude</th>\n",
       "      <th>lat</th>\n",
       "      <th>lon</th>\n",
       "      <th>moon_day</th>\n",
       "      <th>aspects</th>\n",
       "    </tr>\n",
       "  </thead>\n",
       "  <tbody>\n",
       "    <tr>\n",
       "      <th>89237</th>\n",
       "      <td>15102658</td>\n",
       "      <td>Premier League</td>\n",
       "      <td>1794</td>\n",
       "      <td>307</td>\n",
       "      <td>31.07.2021 00:00</td>\n",
       "      <td>York United - Forge</td>\n",
       "      <td>0:1</td>\n",
       "      <td>thr</td>\n",
       "      <td>York United</td>\n",
       "      <td>4.0</td>\n",
       "      <td>36.0</td>\n",
       "      <td>1.0</td>\n",
       "      <td>50.0</td>\n",
       "      <td>4 - 1, 8</td>\n",
       "      <td>36 - 50, 50</td>\n",
       "      <td>Pre</td>\n",
       "      <td>sum_coef_13</td>\n",
       "      <td>Canada</td>\n",
       "      <td>15663</td>\n",
       "      <td>Toronto</td>\n",
       "      <td>CA</td>\n",
       "      <td>-79.4163</td>\n",
       "      <td>43.70011</td>\n",
       "      <td>43n42</td>\n",
       "      <td>79w24</td>\n",
       "      <td>20</td>\n",
       "      <td>[{'f_point': 'Moon', 's_point': 'Pars Spirit', 'type': 'Con', 'approach': 'moon_conv', 'sing': '...</td>\n",
       "    </tr>\n",
       "  </tbody>\n",
       "</table>\n",
       "</div>"
      ],
      "text/plain": [
       "        game_id    ligue_header comp_id season_id          game_utc  \\\n",
       "89237  15102658  Premier League    1794       307  31.07.2021 00:00   \n",
       "\n",
       "                game_title goals ligue       f_team  pos_f  pts_f  pos_s  \\\n",
       "89237  York United - Forge   0:1   thr  York United    4.0   36.0    1.0   \n",
       "\n",
       "       pts_s fs_pos_max   fs_pts_max f_pow         desc country team_id  \\\n",
       "89237   50.0   4 - 1, 8  36 - 50, 50   Pre  sum_coef_13  Canada   15663   \n",
       "\n",
       "          city iso_code  longitude  latitude    lat    lon  moon_day  \\\n",
       "89237  Toronto       CA   -79.4163  43.70011  43n42  79w24        20   \n",
       "\n",
       "                                                                                                   aspects  \n",
       "89237  [{'f_point': 'Moon', 's_point': 'Pars Spirit', 'type': 'Con', 'approach': 'moon_conv', 'sing': '...  "
      ]
     },
     "execution_count": 33,
     "metadata": {},
     "output_type": "execute_result"
    }
   ],
   "source": [
    "df_with_aspects[df_with_aspects.game_id =='15102658']"
   ]
  },
  {
   "cell_type": "code",
   "execution_count": 34,
   "id": "72e71a0f-f88e-4ebb-a299-2b4eaceb00df",
   "metadata": {},
   "outputs": [
    {
     "name": "stdout",
     "output_type": "stream",
     "text": [
      "shape -  (52318, 21)\n"
     ]
    }
   ],
   "source": [
    "df_calc = df_uniq[df_uniq.ligue == 'thr'].copy() # df_uniq[df_uniq.desc == 'sum_coef_13'].copy()\n",
    "print('shape - ', df_calc.shape)"
   ]
  },
  {
   "cell_type": "code",
   "execution_count": 35,
   "id": "b1e9bfff-f43d-4987-be23-13921eda99b0",
   "metadata": {},
   "outputs": [
    {
     "name": "stdout",
     "output_type": "stream",
     "text": [
      "Coef fav_loss -  9.61\n"
     ]
    }
   ],
   "source": [
    "print('Coef fav_loss - ',round((df_calc[df_calc.result=='fav_win'].shape[0] + df_calc[df_calc.result=='fav_drow'].shape[0])/df_calc[df_calc.result=='fav_loss'].shape[0], 2))"
   ]
  },
  {
   "cell_type": "code",
   "execution_count": 36,
   "id": "fd73176f-c513-4939-aeeb-dcac87846ecf",
   "metadata": {},
   "outputs": [
    {
     "name": "stdout",
     "output_type": "stream",
     "text": [
      "shape -  (88, 21)\n",
      "shape -  (88, 21)\n"
     ]
    },
    {
     "data": {
      "text/html": [
       "<div>\n",
       "<style scoped>\n",
       "    .dataframe tbody tr th:only-of-type {\n",
       "        vertical-align: middle;\n",
       "    }\n",
       "\n",
       "    .dataframe tbody tr th {\n",
       "        vertical-align: top;\n",
       "    }\n",
       "\n",
       "    .dataframe thead th {\n",
       "        text-align: right;\n",
       "    }\n",
       "</style>\n",
       "<table border=\"1\" class=\"dataframe\">\n",
       "  <thead>\n",
       "    <tr style=\"text-align: right;\">\n",
       "      <th></th>\n",
       "      <th>game_id</th>\n",
       "      <th>game_title</th>\n",
       "      <th>goals</th>\n",
       "      <th>ligue</th>\n",
       "      <th>f_pow</th>\n",
       "      <th>f_point</th>\n",
       "      <th>fmain_ch</th>\n",
       "      <th>fsec_ch</th>\n",
       "      <th>s_point</th>\n",
       "      <th>smain_ch</th>\n",
       "      <th>ssec_ch</th>\n",
       "      <th>type</th>\n",
       "      <th>approach</th>\n",
       "      <th>sing</th>\n",
       "      <th>tr_orb</th>\n",
       "      <th>bp_asp</th>\n",
       "      <th>den_point</th>\n",
       "      <th>orb_char</th>\n",
       "      <th>moon_day</th>\n",
       "      <th>desc</th>\n",
       "      <th>result</th>\n",
       "    </tr>\n",
       "  </thead>\n",
       "  <tbody>\n",
       "    <tr>\n",
       "      <th>468</th>\n",
       "      <td>1596519</td>\n",
       "      <td>Spezia - Napoli</td>\n",
       "      <td>0:3</td>\n",
       "      <td>top</td>\n",
       "      <td>Pre</td>\n",
       "      <td>IC</td>\n",
       "      <td>[]</td>\n",
       "      <td>[]</td>\n",
       "      <td>South Node</td>\n",
       "      <td>[]</td>\n",
       "      <td>[]</td>\n",
       "      <td>Con</td>\n",
       "      <td>in_stat</td>\n",
       "      <td>equal</td>\n",
       "      <td>2.14</td>\n",
       "      <td>no</td>\n",
       "      <td>[]</td>\n",
       "      <td>min</td>\n",
       "      <td>21</td>\n",
       "      <td>pow_coef_2</td>\n",
       "      <td>fav_win</td>\n",
       "    </tr>\n",
       "    <tr>\n",
       "      <th>6960</th>\n",
       "      <td>1574131</td>\n",
       "      <td>Dornbirn 1913 - Lafnitz</td>\n",
       "      <td>1:4</td>\n",
       "      <td>sec</td>\n",
       "      <td>Pre</td>\n",
       "      <td>IC</td>\n",
       "      <td>[]</td>\n",
       "      <td>[]</td>\n",
       "      <td>South Node</td>\n",
       "      <td>[]</td>\n",
       "      <td>[]</td>\n",
       "      <td>Con</td>\n",
       "      <td>in_stat</td>\n",
       "      <td>equal</td>\n",
       "      <td>2.23</td>\n",
       "      <td>no</td>\n",
       "      <td>[]</td>\n",
       "      <td>min</td>\n",
       "      <td>22</td>\n",
       "      <td>pow_coef_2</td>\n",
       "      <td>fav_win</td>\n",
       "    </tr>\n",
       "    <tr>\n",
       "      <th>12940</th>\n",
       "      <td>1714402</td>\n",
       "      <td>Machine Sazi Tabriz - FC Vista</td>\n",
       "      <td>0:0</td>\n",
       "      <td>sec</td>\n",
       "      <td>Pre</td>\n",
       "      <td>IC</td>\n",
       "      <td>[]</td>\n",
       "      <td>[]</td>\n",
       "      <td>South Node</td>\n",
       "      <td>[]</td>\n",
       "      <td>[]</td>\n",
       "      <td>Con</td>\n",
       "      <td>in_stat</td>\n",
       "      <td>equal</td>\n",
       "      <td>2.04</td>\n",
       "      <td>no</td>\n",
       "      <td>[]</td>\n",
       "      <td>min</td>\n",
       "      <td>27</td>\n",
       "      <td>pow_coef_2</td>\n",
       "      <td>fav_drow</td>\n",
       "    </tr>\n",
       "  </tbody>\n",
       "</table>\n",
       "</div>"
      ],
      "text/plain": [
       "       game_id                      game_title goals ligue f_pow f_point  \\\n",
       "468    1596519                 Spezia - Napoli   0:3   top   Pre      IC   \n",
       "6960   1574131         Dornbirn 1913 - Lafnitz   1:4   sec   Pre      IC   \n",
       "12940  1714402  Machine Sazi Tabriz - FC Vista   0:0   sec   Pre      IC   \n",
       "\n",
       "      fmain_ch fsec_ch     s_point smain_ch ssec_ch type approach   sing  \\\n",
       "468         []      []  South Node       []      []  Con  in_stat  equal   \n",
       "6960        []      []  South Node       []      []  Con  in_stat  equal   \n",
       "12940       []      []  South Node       []      []  Con  in_stat  equal   \n",
       "\n",
       "       tr_orb bp_asp den_point orb_char  moon_day        desc    result  \n",
       "468      2.14     no        []      min        21  pow_coef_2   fav_win  \n",
       "6960     2.23     no        []      min        22  pow_coef_2   fav_win  \n",
       "12940    2.04     no        []      min        27  pow_coef_2  fav_drow  "
      ]
     },
     "execution_count": 36,
     "metadata": {},
     "output_type": "execute_result"
    }
   ],
   "source": [
    "s_point  = 'South Node' # Antes Pars Fortuna\n",
    "# fmain_ch = ['ruler_pars_fortuna']\n",
    "f_point  = 'IC'\n",
    "# smain_ch = ['ruler_pars_fortuna']\n",
    "tr_orb   = 5\n",
    "asp_type = 'Con'\n",
    "# approach = 'moon_conv_clear_compl'\n",
    "# bp_asp   = 'no'\n",
    "\n",
    "aspects_pair = df_aspects[(df_aspects.f_point == f_point) & (df_aspects.s_point == s_point) & (df_aspects.tr_orb <= tr_orb) & (df_aspects.type == asp_type) &\n",
    "                         (df_aspects.den_point.str.len() == 0)]\n",
    "# (df_aspects.bp_asp == bp_asp), (df_aspects.den_point.str.len() == 0), (df_aspects.fmain_ch.isin([fmain_ch])), (df_aspects.smain_ch.isin([smain_ch])), (df_aspects.type == asp_type), (df_aspects.ligue == 'thr')\n",
    "# (df_aspects.den_point.str.len() == 0) & (df_aspects.approach == approach)\n",
    "print('shape - ', aspects_pair.shape)\n",
    "# aspects_pair       = aspects_pair[aspects_pair.desc == 'sum_coef_13'].copy()\n",
    "fav_loss_coef_perc = [5.37, 8.37, 9.09][2] # sum_13, top, all\n",
    "print('shape - ', aspects_pair.shape)\n",
    "aspects_pair.head(3)"
   ]
  },
  {
   "cell_type": "code",
   "execution_count": 57,
   "id": "839aff95-e2b6-498f-ba60-b86b4f8cc83f",
   "metadata": {},
   "outputs": [
    {
     "data": {
      "text/html": [
       "<div>\n",
       "<style scoped>\n",
       "    .dataframe tbody tr th:only-of-type {\n",
       "        vertical-align: middle;\n",
       "    }\n",
       "\n",
       "    .dataframe tbody tr th {\n",
       "        vertical-align: top;\n",
       "    }\n",
       "\n",
       "    .dataframe thead th {\n",
       "        text-align: right;\n",
       "    }\n",
       "</style>\n",
       "<table border=\"1\" class=\"dataframe\">\n",
       "  <thead>\n",
       "    <tr style=\"text-align: right;\">\n",
       "      <th></th>\n",
       "      <th>count_conv</th>\n",
       "      <th>expected_loss</th>\n",
       "      <th>received_loss</th>\n",
       "      <th>count_dev</th>\n",
       "      <th>loss_coef_perc</th>\n",
       "      <th>coef_perc_dev</th>\n",
       "    </tr>\n",
       "  </thead>\n",
       "  <tbody>\n",
       "    <tr>\n",
       "      <th>&lt;= 1.0_IC_South Node_Con</th>\n",
       "      <td>7.0</td>\n",
       "      <td>1.0</td>\n",
       "      <td>1.0</td>\n",
       "      <td>0.0</td>\n",
       "      <td>7.0</td>\n",
       "      <td>-23.0</td>\n",
       "    </tr>\n",
       "    <tr>\n",
       "      <th>&lt;= 1.3_IC_South Node_Con</th>\n",
       "      <td>14.0</td>\n",
       "      <td>2.0</td>\n",
       "      <td>1.0</td>\n",
       "      <td>-1.0</td>\n",
       "      <td>14.0</td>\n",
       "      <td>54.0</td>\n",
       "    </tr>\n",
       "    <tr>\n",
       "      <th>&lt;= 2.0_IC_South Node_Con</th>\n",
       "      <td>41.0</td>\n",
       "      <td>5.0</td>\n",
       "      <td>4.0</td>\n",
       "      <td>-1.0</td>\n",
       "      <td>10.0</td>\n",
       "      <td>10.0</td>\n",
       "    </tr>\n",
       "    <tr>\n",
       "      <th>_&gt; 2.0_IC_South Node_Con</th>\n",
       "      <td>88.0</td>\n",
       "      <td>10.0</td>\n",
       "      <td>8.0</td>\n",
       "      <td>-2.0</td>\n",
       "      <td>11.0</td>\n",
       "      <td>21.0</td>\n",
       "    </tr>\n",
       "  </tbody>\n",
       "</table>\n",
       "</div>"
      ],
      "text/plain": [
       "                          count_conv  expected_loss  received_loss  count_dev  \\\n",
       "<= 1.0_IC_South Node_Con         7.0            1.0            1.0        0.0   \n",
       "<= 1.3_IC_South Node_Con        14.0            2.0            1.0       -1.0   \n",
       "<= 2.0_IC_South Node_Con        41.0            5.0            4.0       -1.0   \n",
       "_> 2.0_IC_South Node_Con        88.0           10.0            8.0       -2.0   \n",
       "\n",
       "                          loss_coef_perc  coef_perc_dev  \n",
       "<= 1.0_IC_South Node_Con             7.0          -23.0  \n",
       "<= 1.3_IC_South Node_Con            14.0           54.0  \n",
       "<= 2.0_IC_South Node_Con            10.0           10.0  \n",
       "_> 2.0_IC_South Node_Con            11.0           21.0  "
      ]
     },
     "execution_count": 57,
     "metadata": {},
     "output_type": "execute_result"
    }
   ],
   "source": [
    "# Pre_deviation: count_dev +, coef_perc_dev -; Fav_deviation: count_dev -, coef_perc_dev +.\n",
    "df_aspect_stat"
   ]
  },
  {
   "cell_type": "code",
   "execution_count": 39,
   "id": "3cc45706-0335-4ada-b6af-246740910399",
   "metadata": {},
   "outputs": [],
   "source": [
    "# For tramsform orbs\n",
    "def conversation_statistic(x):\n",
    "    x = float(x)\n",
    "    if x <= 0.3:\n",
    "        return '<= 0.3'\n",
    "    if x <= 1.0:\n",
    "        return '<= 1.0'\n",
    "    if x <= 1.3:\n",
    "        return '<= 1.3'\n",
    "    if x <= 2.0:\n",
    "        return '<= 2.0'\n",
    "    if x > 2.0:\n",
    "        return '_> 2.0'"
   ]
  },
  {
   "cell_type": "code",
   "execution_count": 40,
   "id": "e3813977-b336-40ef-89f1-89909d4e9c2e",
   "metadata": {},
   "outputs": [],
   "source": [
    "def fav_loss_count(x):\n",
    "    return round((x == 'fav_loss').sum(), 2)"
   ]
  },
  {
   "cell_type": "code",
   "execution_count": 41,
   "id": "cad8e803-82c1-4e82-83ef-31b4c677f7ae",
   "metadata": {},
   "outputs": [
    {
     "name": "stderr",
     "output_type": "stream",
     "text": [
      "/tmp/ipykernel_5016/1937848843.py:1: SettingWithCopyWarning: \n",
      "A value is trying to be set on a copy of a slice from a DataFrame.\n",
      "Try using .loc[row_indexer,col_indexer] = value instead\n",
      "\n",
      "See the caveats in the documentation: https://pandas.pydata.org/pandas-docs/stable/user_guide/indexing.html#returning-a-view-versus-a-copy\n",
      "  aspects_pair['conv_stat'] = aspects_pair.tr_orb.map(lambda x: conversation_statistic(x))\n"
     ]
    }
   ],
   "source": [
    "aspects_pair['conv_stat'] = aspects_pair.tr_orb.map(lambda x: conversation_statistic(x))"
   ]
  },
  {
   "cell_type": "code",
   "execution_count": 42,
   "id": "7bdf1109-f9eb-4c3a-be25-d8d3fd19f03f",
   "metadata": {},
   "outputs": [],
   "source": [
    "# aspects_pair"
   ]
  },
  {
   "cell_type": "code",
   "execution_count": 43,
   "id": "b5ca7ad5-089e-464f-bb87-0083c3d8a36e",
   "metadata": {},
   "outputs": [],
   "source": [
    "## 'ligue', 'approach'\n",
    "## fav_win_relation, fav_drow_less_relation, fav_win_count, fav_drow_count, fav_loss_count, expected_loss"
   ]
  },
  {
   "cell_type": "code",
   "execution_count": 44,
   "id": "223dabd6-74ef-413d-8f2e-06b269618c65",
   "metadata": {},
   "outputs": [
    {
     "data": {
      "text/plain": [
       "'IC_South Node_Con'"
      ]
     },
     "execution_count": 44,
     "metadata": {},
     "output_type": "execute_result"
    }
   ],
   "source": [
    "name_dict  = {'f_point': f_point, 's_point': s_point, 'asp_type': asp_type} #  'tr_orb': str(tr_orb), 's_point': str(smain_ch)\n",
    "name_index = '_'.join(name_dict.values())\n",
    "name_index"
   ]
  },
  {
   "cell_type": "markdown",
   "id": "2c5f95b2-4675-46b9-bc41-ff9788ad2524",
   "metadata": {},
   "source": [
    "### Fix fav_loss_coef_perc"
   ]
  },
  {
   "cell_type": "code",
   "execution_count": 45,
   "id": "6691d177-e5fa-4cf1-ae9b-0058291c2fb1",
   "metadata": {},
   "outputs": [],
   "source": [
    "# fav_loss_coef_perc               = 9.09\n",
    "df_aspect_stat                   = aspects_pair.conv_stat.value_counts(dropna=False).to_frame().sort_index()\n",
    "gb_aspects                       = aspects_pair.groupby(['conv_stat']).agg({'result': fav_loss_count})\n",
    "df_aspect_stat['count_conv']     = df_aspect_stat.conv_stat.rolling(min_periods=1, window=6).sum()\n",
    "df_aspect_stat.drop(columns      ='conv_stat', inplace=True)\n",
    "df_aspect_stat['expected_loss']  = round(df_aspect_stat.count_conv / fav_loss_coef_perc) \n",
    "df_aspect_stat['received_loss']  = gb_aspects.result.rolling(min_periods=1, window=6).sum()\n",
    "df_aspect_stat['count_dev']      = df_aspect_stat.received_loss - df_aspect_stat.expected_loss\n",
    "df_aspect_stat['loss_coef_perc'] = round(df_aspect_stat.count_conv / df_aspect_stat.received_loss)\n",
    "df_aspect_stat['coef_perc_dev']  = round(100 * (df_aspect_stat.loss_coef_perc / fav_loss_coef_perc - 1))\n",
    "df_aspect_stat.index             = [x + '_' + name_index for x in df_aspect_stat.index]"
   ]
  },
  {
   "cell_type": "code",
   "execution_count": 46,
   "id": "a1023cf8-c0ae-4cf8-a9d2-e108d8f8d093",
   "metadata": {},
   "outputs": [
    {
     "data": {
      "text/html": [
       "<div>\n",
       "<style scoped>\n",
       "    .dataframe tbody tr th:only-of-type {\n",
       "        vertical-align: middle;\n",
       "    }\n",
       "\n",
       "    .dataframe tbody tr th {\n",
       "        vertical-align: top;\n",
       "    }\n",
       "\n",
       "    .dataframe thead th {\n",
       "        text-align: right;\n",
       "    }\n",
       "</style>\n",
       "<table border=\"1\" class=\"dataframe\">\n",
       "  <thead>\n",
       "    <tr style=\"text-align: right;\">\n",
       "      <th></th>\n",
       "      <th>count_conv</th>\n",
       "      <th>expected_loss</th>\n",
       "      <th>received_loss</th>\n",
       "      <th>count_dev</th>\n",
       "      <th>loss_coef_perc</th>\n",
       "      <th>coef_perc_dev</th>\n",
       "    </tr>\n",
       "  </thead>\n",
       "  <tbody>\n",
       "    <tr>\n",
       "      <th>&lt;= 1.0_IC_South Node_Con</th>\n",
       "      <td>7.0</td>\n",
       "      <td>1.0</td>\n",
       "      <td>1.0</td>\n",
       "      <td>0.0</td>\n",
       "      <td>7.0</td>\n",
       "      <td>-23.0</td>\n",
       "    </tr>\n",
       "    <tr>\n",
       "      <th>&lt;= 1.3_IC_South Node_Con</th>\n",
       "      <td>14.0</td>\n",
       "      <td>2.0</td>\n",
       "      <td>1.0</td>\n",
       "      <td>-1.0</td>\n",
       "      <td>14.0</td>\n",
       "      <td>54.0</td>\n",
       "    </tr>\n",
       "    <tr>\n",
       "      <th>&lt;= 2.0_IC_South Node_Con</th>\n",
       "      <td>41.0</td>\n",
       "      <td>5.0</td>\n",
       "      <td>4.0</td>\n",
       "      <td>-1.0</td>\n",
       "      <td>10.0</td>\n",
       "      <td>10.0</td>\n",
       "    </tr>\n",
       "    <tr>\n",
       "      <th>_&gt; 2.0_IC_South Node_Con</th>\n",
       "      <td>88.0</td>\n",
       "      <td>10.0</td>\n",
       "      <td>8.0</td>\n",
       "      <td>-2.0</td>\n",
       "      <td>11.0</td>\n",
       "      <td>21.0</td>\n",
       "    </tr>\n",
       "  </tbody>\n",
       "</table>\n",
       "</div>"
      ],
      "text/plain": [
       "                          count_conv  expected_loss  received_loss  count_dev  \\\n",
       "<= 1.0_IC_South Node_Con         7.0            1.0            1.0        0.0   \n",
       "<= 1.3_IC_South Node_Con        14.0            2.0            1.0       -1.0   \n",
       "<= 2.0_IC_South Node_Con        41.0            5.0            4.0       -1.0   \n",
       "_> 2.0_IC_South Node_Con        88.0           10.0            8.0       -2.0   \n",
       "\n",
       "                          loss_coef_perc  coef_perc_dev  \n",
       "<= 1.0_IC_South Node_Con             7.0          -23.0  \n",
       "<= 1.3_IC_South Node_Con            14.0           54.0  \n",
       "<= 2.0_IC_South Node_Con            10.0           10.0  \n",
       "_> 2.0_IC_South Node_Con            11.0           21.0  "
      ]
     },
     "execution_count": 46,
     "metadata": {},
     "output_type": "execute_result"
    }
   ],
   "source": [
    "# (pre_deviation: count_dev +, coef_perc_dev - ), (fav_deviation: count_dev -, coef_perc_dev +)\n",
    "df_aspect_stat"
   ]
  },
  {
   "cell_type": "code",
   "execution_count": null,
   "id": "122024b3-b939-4874-a1d9-1916d2819669",
   "metadata": {},
   "outputs": [],
   "source": []
  },
  {
   "cell_type": "markdown",
   "id": "bd2f4654-ed58-41d1-ab7d-25ae7a27b18d",
   "metadata": {},
   "source": [
    "#### Stat bets coefs for fav_pow == 2 for pretendents"
   ]
  },
  {
   "cell_type": "code",
   "execution_count": 47,
   "id": "0123a048-3e72-45b1-aea1-b3142b1acedb",
   "metadata": {},
   "outputs": [],
   "source": [
    "# 1 - 20 and 4 - 18 teams, mean bets coefs on home and leawe games."
   ]
  },
  {
   "cell_type": "code",
   "execution_count": 48,
   "id": "337d8d9d-dc7d-4a2f-8ae7-bb1e620850a9",
   "metadata": {},
   "outputs": [
    {
     "data": {
      "text/plain": [
       "13.0"
      ]
     },
     "execution_count": 48,
     "metadata": {},
     "output_type": "execute_result"
    }
   ],
   "source": [
    "((11.7 + 26) + (10.5 + 3.8)) / 4 # Premier ligue"
   ]
  },
  {
   "cell_type": "code",
   "execution_count": 49,
   "id": "44889fb8-b27b-4c72-b2ca-30f6a281ed6e",
   "metadata": {},
   "outputs": [
    {
     "data": {
      "text/plain": [
       "9.5825"
      ]
     },
     "execution_count": 49,
     "metadata": {},
     "output_type": "execute_result"
    }
   ],
   "source": [
    "((12.3 + 6.13) + (10.7 + 9.2)) / 4 # Seria A"
   ]
  },
  {
   "cell_type": "code",
   "execution_count": 50,
   "id": "90eae533-d092-44a5-838c-49edefa10e52",
   "metadata": {},
   "outputs": [
    {
     "data": {
      "text/plain": [
       "7.855"
      ]
     },
     "execution_count": 50,
     "metadata": {},
     "output_type": "execute_result"
    }
   ],
   "source": [
    "((13.4 + 6.06) + (8.34 + 3.62)) / 4 # Primera"
   ]
  },
  {
   "cell_type": "code",
   "execution_count": 51,
   "id": "21700f65-31ae-4d4a-af1e-d41318442c91",
   "metadata": {},
   "outputs": [
    {
     "data": {
      "text/plain": [
       "10.14"
      ]
     },
     "execution_count": 51,
     "metadata": {},
     "output_type": "execute_result"
    }
   ],
   "source": [
    "round((13 + 9.58 + 7.85) / 3, 2)"
   ]
  },
  {
   "cell_type": "markdown",
   "id": "7a68881b-4716-48b9-9ac0-7d1eba23330a",
   "metadata": {},
   "source": [
    "#### Stat bets coefs for fav_pow == 1.5 for pretendents"
   ]
  },
  {
   "cell_type": "code",
   "execution_count": 52,
   "id": "c46a42eb-13dc-45d1-8839-d76a0cf9b7cc",
   "metadata": {},
   "outputs": [],
   "source": [
    "# 1 - 20 and 7 - 14 teams, mean bets coefs on home and leawe games."
   ]
  },
  {
   "cell_type": "code",
   "execution_count": 53,
   "id": "93468db7-3c5e-47b2-adda-30a0988ed782",
   "metadata": {},
   "outputs": [
    {
     "data": {
      "text/plain": [
       "11.22"
      ]
     },
     "execution_count": 53,
     "metadata": {},
     "output_type": "execute_result"
    }
   ],
   "source": [
    "((11.7 + 26) + (4.1 + 3.08)) / 4 # Premier ligue"
   ]
  },
  {
   "cell_type": "code",
   "execution_count": 54,
   "id": "458d0266-4862-4c85-aaae-2c9713f85873",
   "metadata": {},
   "outputs": [
    {
     "data": {
      "text/plain": [
       "7.08"
      ]
     },
     "execution_count": 54,
     "metadata": {},
     "output_type": "execute_result"
    }
   ],
   "source": [
    "((12.3 + 6.13) + (4.14 + 5.75)) / 4 # Seria A"
   ]
  },
  {
   "cell_type": "code",
   "execution_count": 55,
   "id": "f5c96bf1-0bc1-4f79-a655-de1f18013337",
   "metadata": {},
   "outputs": [
    {
     "data": {
      "text/plain": [
       "7.635"
      ]
     },
     "execution_count": 55,
     "metadata": {},
     "output_type": "execute_result"
    }
   ],
   "source": [
    "((13.4 + 6.06) + (7.7 + 3.38)) / 4 # Primera"
   ]
  },
  {
   "cell_type": "code",
   "execution_count": 56,
   "id": "d90be77f-bb84-4637-8a17-6d89d856f9ad",
   "metadata": {},
   "outputs": [
    {
     "data": {
      "text/plain": [
       "8.64"
      ]
     },
     "execution_count": 56,
     "metadata": {},
     "output_type": "execute_result"
    }
   ],
   "source": [
    "round((11.22 + 7.08 + 7.63) / 3, 2)"
   ]
  },
  {
   "cell_type": "markdown",
   "id": "b2dcbe0d-0919-46ae-985b-c954baba309a",
   "metadata": {},
   "source": [
    "#### For about mean bet by 2/4 for fav/pre need calculate f_pow how: -13 pts_f  (home_team = fav) < home_team_pts_f < + 13 pts_f  (home_team = pre)"
   ]
  }
 ],
 "metadata": {
  "kernelspec": {
   "display_name": "Python 3 (ipykernel)",
   "language": "python",
   "name": "python3"
  },
  "language_info": {
   "codemirror_mode": {
    "name": "ipython",
    "version": 3
   },
   "file_extension": ".py",
   "mimetype": "text/x-python",
   "name": "python",
   "nbconvert_exporter": "python",
   "pygments_lexer": "ipython3",
   "version": "3.9.7"
  }
 },
 "nbformat": 4,
 "nbformat_minor": 5
}

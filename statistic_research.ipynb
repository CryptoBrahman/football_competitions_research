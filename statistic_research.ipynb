{
 "cells": [
  {
   "cell_type": "code",
   "execution_count": 27,
   "id": "97998a7b-82e0-49e6-ae0e-286089cb0f48",
   "metadata": {},
   "outputs": [],
   "source": [
    "import re\n",
    "import os\n",
    "import csv\n",
    "import math\n",
    "import pickle\n",
    "import random\n",
    "import numpy as np\n",
    "import pandas as pd\n",
    "from ast import literal_eval\n",
    "from pathlib import Path\n",
    "from tqdm import tqdm\n",
    "from itertools import product\n",
    "from collections import Counter\n",
    "from _html_parser import ParsingDataPrepare\n",
    "from _prepare_stat_data import StatDataPrepare\n",
    "from _astro_constants import AstrologicalPoints, AstrologicalConstants, MoonDaysCalculate\n",
    "\n",
    "pd.set_option('display.max_columns', 200)  # or 1000\n",
    "pd.set_option('display.max_rows', 2000)  # or 1000\n",
    "pd.set_option('display.max_colwidth', 100)  # or 199\n",
    "\n",
    "%load_ext autoreload \n",
    "%autoreload 2"
   ]
  },
  {
   "cell_type": "markdown",
   "id": "c1fa9a48-7224-40d0-a563-e0e038270ae5",
   "metadata": {
    "jp-MarkdownHeadingCollapsed": true,
    "tags": []
   },
   "source": [
    "### Research 08_23"
   ]
  },
  {
   "cell_type": "markdown",
   "id": "55c3ad58-473d-473f-b7c4-12109b0f46f0",
   "metadata": {
    "tags": []
   },
   "source": [
    "#### If file for statistic exist go to Statistic research block"
   ]
  },
  {
   "cell_type": "code",
   "execution_count": 2,
   "id": "44748663-f4bf-4e69-839e-cc831411e0b0",
   "metadata": {},
   "outputs": [
    {
     "name": "stdout",
     "output_type": "stream",
     "text": [
      "shape - 103301\n"
     ]
    },
    {
     "ename": "KeyboardInterrupt",
     "evalue": "",
     "output_type": "error",
     "traceback": [
      "\u001b[0;31m---------------------------------------------------------------------------\u001b[0m",
      "\u001b[0;31mKeyboardInterrupt\u001b[0m                         Traceback (most recent call last)",
      "Input \u001b[0;32mIn [2]\u001b[0m, in \u001b[0;36m<cell line: 5>\u001b[0;34m()\u001b[0m\n\u001b[1;32m      2\u001b[0m     df \u001b[38;5;241m=\u001b[39m pickle\u001b[38;5;241m.\u001b[39mload(f)\n\u001b[1;32m      4\u001b[0m \u001b[38;5;28mprint\u001b[39m(\u001b[38;5;124m'\u001b[39m\u001b[38;5;124mshape -\u001b[39m\u001b[38;5;124m'\u001b[39m, df\u001b[38;5;241m.\u001b[39mshape[\u001b[38;5;241m0\u001b[39m])\n\u001b[0;32m----> 5\u001b[0m df\u001b[38;5;241m.\u001b[39mtail(\u001b[38;5;241m1\u001b[39m)\n",
      "File \u001b[0;32m~/py_env/39_env/lib/python3.9/site-packages/IPython/core/displayhook.py:262\u001b[0m, in \u001b[0;36mDisplayHook.__call__\u001b[0;34m(self, result)\u001b[0m\n\u001b[1;32m    260\u001b[0m \u001b[38;5;28mself\u001b[39m\u001b[38;5;241m.\u001b[39mstart_displayhook()\n\u001b[1;32m    261\u001b[0m \u001b[38;5;28mself\u001b[39m\u001b[38;5;241m.\u001b[39mwrite_output_prompt()\n\u001b[0;32m--> 262\u001b[0m format_dict, md_dict \u001b[38;5;241m=\u001b[39m \u001b[38;5;28;43mself\u001b[39;49m\u001b[38;5;241;43m.\u001b[39;49m\u001b[43mcompute_format_data\u001b[49m\u001b[43m(\u001b[49m\u001b[43mresult\u001b[49m\u001b[43m)\u001b[49m\n\u001b[1;32m    263\u001b[0m \u001b[38;5;28mself\u001b[39m\u001b[38;5;241m.\u001b[39mupdate_user_ns(result)\n\u001b[1;32m    264\u001b[0m \u001b[38;5;28mself\u001b[39m\u001b[38;5;241m.\u001b[39mfill_exec_result(result)\n",
      "File \u001b[0;32m~/py_env/39_env/lib/python3.9/site-packages/IPython/core/displayhook.py:151\u001b[0m, in \u001b[0;36mDisplayHook.compute_format_data\u001b[0;34m(self, result)\u001b[0m\n\u001b[1;32m    121\u001b[0m \u001b[38;5;28;01mdef\u001b[39;00m \u001b[38;5;21mcompute_format_data\u001b[39m(\u001b[38;5;28mself\u001b[39m, result):\n\u001b[1;32m    122\u001b[0m     \u001b[38;5;124;03m\"\"\"Compute format data of the object to be displayed.\u001b[39;00m\n\u001b[1;32m    123\u001b[0m \n\u001b[1;32m    124\u001b[0m \u001b[38;5;124;03m    The format data is a generalization of the :func:`repr` of an object.\u001b[39;00m\n\u001b[0;32m   (...)\u001b[0m\n\u001b[1;32m    149\u001b[0m \n\u001b[1;32m    150\u001b[0m \u001b[38;5;124;03m    \"\"\"\u001b[39;00m\n\u001b[0;32m--> 151\u001b[0m     \u001b[38;5;28;01mreturn\u001b[39;00m \u001b[38;5;28;43mself\u001b[39;49m\u001b[38;5;241;43m.\u001b[39;49m\u001b[43mshell\u001b[49m\u001b[38;5;241;43m.\u001b[39;49m\u001b[43mdisplay_formatter\u001b[49m\u001b[38;5;241;43m.\u001b[39;49m\u001b[43mformat\u001b[49m\u001b[43m(\u001b[49m\u001b[43mresult\u001b[49m\u001b[43m)\u001b[49m\n",
      "File \u001b[0;32m~/py_env/39_env/lib/python3.9/site-packages/IPython/core/formatters.py:178\u001b[0m, in \u001b[0;36mDisplayFormatter.format\u001b[0;34m(self, obj, include, exclude)\u001b[0m\n\u001b[1;32m    176\u001b[0m md \u001b[38;5;241m=\u001b[39m \u001b[38;5;28;01mNone\u001b[39;00m\n\u001b[1;32m    177\u001b[0m \u001b[38;5;28;01mtry\u001b[39;00m:\n\u001b[0;32m--> 178\u001b[0m     data \u001b[38;5;241m=\u001b[39m \u001b[43mformatter\u001b[49m\u001b[43m(\u001b[49m\u001b[43mobj\u001b[49m\u001b[43m)\u001b[49m\n\u001b[1;32m    179\u001b[0m \u001b[38;5;28;01mexcept\u001b[39;00m:\n\u001b[1;32m    180\u001b[0m     \u001b[38;5;66;03m# FIXME: log the exception\u001b[39;00m\n\u001b[1;32m    181\u001b[0m     \u001b[38;5;28;01mraise\u001b[39;00m\n",
      "File \u001b[0;32m~/py_env/39_env/lib/python3.9/site-packages/decorator.py:232\u001b[0m, in \u001b[0;36mdecorate.<locals>.fun\u001b[0;34m(*args, **kw)\u001b[0m\n\u001b[1;32m    230\u001b[0m \u001b[38;5;28;01mif\u001b[39;00m \u001b[38;5;129;01mnot\u001b[39;00m kwsyntax:\n\u001b[1;32m    231\u001b[0m     args, kw \u001b[38;5;241m=\u001b[39m fix(args, kw, sig)\n\u001b[0;32m--> 232\u001b[0m \u001b[38;5;28;01mreturn\u001b[39;00m \u001b[43mcaller\u001b[49m\u001b[43m(\u001b[49m\u001b[43mfunc\u001b[49m\u001b[43m,\u001b[49m\u001b[43m \u001b[49m\u001b[38;5;241;43m*\u001b[39;49m\u001b[43m(\u001b[49m\u001b[43mextras\u001b[49m\u001b[43m \u001b[49m\u001b[38;5;241;43m+\u001b[39;49m\u001b[43m \u001b[49m\u001b[43margs\u001b[49m\u001b[43m)\u001b[49m\u001b[43m,\u001b[49m\u001b[43m \u001b[49m\u001b[38;5;241;43m*\u001b[39;49m\u001b[38;5;241;43m*\u001b[39;49m\u001b[43mkw\u001b[49m\u001b[43m)\u001b[49m\n",
      "File \u001b[0;32m~/py_env/39_env/lib/python3.9/site-packages/IPython/core/formatters.py:222\u001b[0m, in \u001b[0;36mcatch_format_error\u001b[0;34m(method, self, *args, **kwargs)\u001b[0m\n\u001b[1;32m    220\u001b[0m \u001b[38;5;124;03m\"\"\"show traceback on failed format call\"\"\"\u001b[39;00m\n\u001b[1;32m    221\u001b[0m \u001b[38;5;28;01mtry\u001b[39;00m:\n\u001b[0;32m--> 222\u001b[0m     r \u001b[38;5;241m=\u001b[39m \u001b[43mmethod\u001b[49m\u001b[43m(\u001b[49m\u001b[38;5;28;43mself\u001b[39;49m\u001b[43m,\u001b[49m\u001b[43m \u001b[49m\u001b[38;5;241;43m*\u001b[39;49m\u001b[43margs\u001b[49m\u001b[43m,\u001b[49m\u001b[43m \u001b[49m\u001b[38;5;241;43m*\u001b[39;49m\u001b[38;5;241;43m*\u001b[39;49m\u001b[43mkwargs\u001b[49m\u001b[43m)\u001b[49m\n\u001b[1;32m    223\u001b[0m \u001b[38;5;28;01mexcept\u001b[39;00m \u001b[38;5;167;01mNotImplementedError\u001b[39;00m:\n\u001b[1;32m    224\u001b[0m     \u001b[38;5;66;03m# don't warn on NotImplementedErrors\u001b[39;00m\n\u001b[1;32m    225\u001b[0m     \u001b[38;5;28;01mreturn\u001b[39;00m \u001b[38;5;28mself\u001b[39m\u001b[38;5;241m.\u001b[39m_check_return(\u001b[38;5;28;01mNone\u001b[39;00m, args[\u001b[38;5;241m0\u001b[39m])\n",
      "File \u001b[0;32m~/py_env/39_env/lib/python3.9/site-packages/IPython/core/formatters.py:343\u001b[0m, in \u001b[0;36mBaseFormatter.__call__\u001b[0;34m(self, obj)\u001b[0m\n\u001b[1;32m    341\u001b[0m     method \u001b[38;5;241m=\u001b[39m get_real_method(obj, \u001b[38;5;28mself\u001b[39m\u001b[38;5;241m.\u001b[39mprint_method)\n\u001b[1;32m    342\u001b[0m     \u001b[38;5;28;01mif\u001b[39;00m method \u001b[38;5;129;01mis\u001b[39;00m \u001b[38;5;129;01mnot\u001b[39;00m \u001b[38;5;28;01mNone\u001b[39;00m:\n\u001b[0;32m--> 343\u001b[0m         \u001b[38;5;28;01mreturn\u001b[39;00m \u001b[43mmethod\u001b[49m\u001b[43m(\u001b[49m\u001b[43m)\u001b[49m\n\u001b[1;32m    344\u001b[0m     \u001b[38;5;28;01mreturn\u001b[39;00m \u001b[38;5;28;01mNone\u001b[39;00m\n\u001b[1;32m    345\u001b[0m \u001b[38;5;28;01melse\u001b[39;00m:\n",
      "File \u001b[0;32m~/py_env/39_env/lib/python3.9/site-packages/pandas/core/frame.py:1106\u001b[0m, in \u001b[0;36mDataFrame._repr_html_\u001b[0;34m(self)\u001b[0m\n\u001b[1;32m   1084\u001b[0m     show_dimensions \u001b[38;5;241m=\u001b[39m get_option(\u001b[38;5;124m\"\u001b[39m\u001b[38;5;124mdisplay.show_dimensions\u001b[39m\u001b[38;5;124m\"\u001b[39m)\n\u001b[1;32m   1086\u001b[0m     formatter \u001b[38;5;241m=\u001b[39m fmt\u001b[38;5;241m.\u001b[39mDataFrameFormatter(\n\u001b[1;32m   1087\u001b[0m         \u001b[38;5;28mself\u001b[39m,\n\u001b[1;32m   1088\u001b[0m         columns\u001b[38;5;241m=\u001b[39m\u001b[38;5;28;01mNone\u001b[39;00m,\n\u001b[0;32m   (...)\u001b[0m\n\u001b[1;32m   1104\u001b[0m         decimal\u001b[38;5;241m=\u001b[39m\u001b[38;5;124m\"\u001b[39m\u001b[38;5;124m.\u001b[39m\u001b[38;5;124m\"\u001b[39m,\n\u001b[1;32m   1105\u001b[0m     )\n\u001b[0;32m-> 1106\u001b[0m     \u001b[38;5;28;01mreturn\u001b[39;00m \u001b[43mfmt\u001b[49m\u001b[38;5;241;43m.\u001b[39;49m\u001b[43mDataFrameRenderer\u001b[49m\u001b[43m(\u001b[49m\u001b[43mformatter\u001b[49m\u001b[43m)\u001b[49m\u001b[38;5;241;43m.\u001b[39;49m\u001b[43mto_html\u001b[49m\u001b[43m(\u001b[49m\u001b[43mnotebook\u001b[49m\u001b[38;5;241;43m=\u001b[39;49m\u001b[38;5;28;43;01mTrue\u001b[39;49;00m\u001b[43m)\u001b[49m\n\u001b[1;32m   1107\u001b[0m \u001b[38;5;28;01melse\u001b[39;00m:\n\u001b[1;32m   1108\u001b[0m     \u001b[38;5;28;01mreturn\u001b[39;00m \u001b[38;5;28;01mNone\u001b[39;00m\n",
      "File \u001b[0;32m~/py_env/39_env/lib/python3.9/site-packages/pandas/io/formats/format.py:1110\u001b[0m, in \u001b[0;36mDataFrameRenderer.to_html\u001b[0;34m(self, buf, encoding, classes, notebook, border, table_id, render_links)\u001b[0m\n\u001b[1;32m   1101\u001b[0m Klass \u001b[38;5;241m=\u001b[39m NotebookFormatter \u001b[38;5;28;01mif\u001b[39;00m notebook \u001b[38;5;28;01melse\u001b[39;00m HTMLFormatter\n\u001b[1;32m   1103\u001b[0m html_formatter \u001b[38;5;241m=\u001b[39m Klass(\n\u001b[1;32m   1104\u001b[0m     \u001b[38;5;28mself\u001b[39m\u001b[38;5;241m.\u001b[39mfmt,\n\u001b[1;32m   1105\u001b[0m     classes\u001b[38;5;241m=\u001b[39mclasses,\n\u001b[0;32m   (...)\u001b[0m\n\u001b[1;32m   1108\u001b[0m     render_links\u001b[38;5;241m=\u001b[39mrender_links,\n\u001b[1;32m   1109\u001b[0m )\n\u001b[0;32m-> 1110\u001b[0m string \u001b[38;5;241m=\u001b[39m \u001b[43mhtml_formatter\u001b[49m\u001b[38;5;241;43m.\u001b[39;49m\u001b[43mto_string\u001b[49m\u001b[43m(\u001b[49m\u001b[43m)\u001b[49m\n\u001b[1;32m   1111\u001b[0m \u001b[38;5;28;01mreturn\u001b[39;00m save_to_buffer(string, buf\u001b[38;5;241m=\u001b[39mbuf, encoding\u001b[38;5;241m=\u001b[39mencoding)\n",
      "File \u001b[0;32m~/py_env/39_env/lib/python3.9/site-packages/pandas/io/formats/html.py:77\u001b[0m, in \u001b[0;36mHTMLFormatter.to_string\u001b[0;34m(self)\u001b[0m\n\u001b[1;32m     76\u001b[0m \u001b[38;5;28;01mdef\u001b[39;00m \u001b[38;5;21mto_string\u001b[39m(\u001b[38;5;28mself\u001b[39m) \u001b[38;5;241m-\u001b[39m\u001b[38;5;241m>\u001b[39m \u001b[38;5;28mstr\u001b[39m:\n\u001b[0;32m---> 77\u001b[0m     lines \u001b[38;5;241m=\u001b[39m \u001b[38;5;28;43mself\u001b[39;49m\u001b[38;5;241;43m.\u001b[39;49m\u001b[43mrender\u001b[49m\u001b[43m(\u001b[49m\u001b[43m)\u001b[49m\n\u001b[1;32m     78\u001b[0m     \u001b[38;5;28;01mif\u001b[39;00m \u001b[38;5;28many\u001b[39m(\u001b[38;5;28misinstance\u001b[39m(x, \u001b[38;5;28mstr\u001b[39m) \u001b[38;5;28;01mfor\u001b[39;00m x \u001b[38;5;129;01min\u001b[39;00m lines):\n\u001b[1;32m     79\u001b[0m         lines \u001b[38;5;241m=\u001b[39m [\u001b[38;5;28mstr\u001b[39m(x) \u001b[38;5;28;01mfor\u001b[39;00m x \u001b[38;5;129;01min\u001b[39;00m lines]\n",
      "File \u001b[0;32m~/py_env/39_env/lib/python3.9/site-packages/pandas/io/formats/html.py:632\u001b[0m, in \u001b[0;36mNotebookFormatter.render\u001b[0;34m(self)\u001b[0m\n\u001b[1;32m    630\u001b[0m \u001b[38;5;28mself\u001b[39m\u001b[38;5;241m.\u001b[39mwrite(\u001b[38;5;124m\"\u001b[39m\u001b[38;5;124m<div>\u001b[39m\u001b[38;5;124m\"\u001b[39m)\n\u001b[1;32m    631\u001b[0m \u001b[38;5;28mself\u001b[39m\u001b[38;5;241m.\u001b[39mwrite_style()\n\u001b[0;32m--> 632\u001b[0m \u001b[38;5;28;43msuper\u001b[39;49m\u001b[43m(\u001b[49m\u001b[43m)\u001b[49m\u001b[38;5;241;43m.\u001b[39;49m\u001b[43mrender\u001b[49m\u001b[43m(\u001b[49m\u001b[43m)\u001b[49m\n\u001b[1;32m    633\u001b[0m \u001b[38;5;28mself\u001b[39m\u001b[38;5;241m.\u001b[39mwrite(\u001b[38;5;124m\"\u001b[39m\u001b[38;5;124m</div>\u001b[39m\u001b[38;5;124m\"\u001b[39m)\n\u001b[1;32m    634\u001b[0m \u001b[38;5;28;01mreturn\u001b[39;00m \u001b[38;5;28mself\u001b[39m\u001b[38;5;241m.\u001b[39melements\n",
      "File \u001b[0;32m~/py_env/39_env/lib/python3.9/site-packages/pandas/io/formats/html.py:83\u001b[0m, in \u001b[0;36mHTMLFormatter.render\u001b[0;34m(self)\u001b[0m\n\u001b[1;32m     82\u001b[0m \u001b[38;5;28;01mdef\u001b[39;00m \u001b[38;5;21mrender\u001b[39m(\u001b[38;5;28mself\u001b[39m) \u001b[38;5;241m-\u001b[39m\u001b[38;5;241m>\u001b[39m \u001b[38;5;28mlist\u001b[39m[\u001b[38;5;28mstr\u001b[39m]:\n\u001b[0;32m---> 83\u001b[0m     \u001b[38;5;28;43mself\u001b[39;49m\u001b[38;5;241;43m.\u001b[39;49m\u001b[43m_write_table\u001b[49m\u001b[43m(\u001b[49m\u001b[43m)\u001b[49m\n\u001b[1;32m     85\u001b[0m     \u001b[38;5;28;01mif\u001b[39;00m \u001b[38;5;28mself\u001b[39m\u001b[38;5;241m.\u001b[39mshould_show_dimensions:\n\u001b[1;32m     86\u001b[0m         by \u001b[38;5;241m=\u001b[39m \u001b[38;5;28mchr\u001b[39m(\u001b[38;5;241m215\u001b[39m)  \u001b[38;5;66;03m# ×\u001b[39;00m\n",
      "File \u001b[0;32m~/py_env/39_env/lib/python3.9/site-packages/pandas/io/formats/html.py:258\u001b[0m, in \u001b[0;36mHTMLFormatter._write_table\u001b[0;34m(self, indent)\u001b[0m\n\u001b[1;32m    255\u001b[0m \u001b[38;5;28;01mif\u001b[39;00m \u001b[38;5;28mself\u001b[39m\u001b[38;5;241m.\u001b[39mfmt\u001b[38;5;241m.\u001b[39mheader \u001b[38;5;129;01mor\u001b[39;00m \u001b[38;5;28mself\u001b[39m\u001b[38;5;241m.\u001b[39mshow_row_idx_names:\n\u001b[1;32m    256\u001b[0m     \u001b[38;5;28mself\u001b[39m\u001b[38;5;241m.\u001b[39m_write_header(indent \u001b[38;5;241m+\u001b[39m \u001b[38;5;28mself\u001b[39m\u001b[38;5;241m.\u001b[39mindent_delta)\n\u001b[0;32m--> 258\u001b[0m \u001b[38;5;28;43mself\u001b[39;49m\u001b[38;5;241;43m.\u001b[39;49m\u001b[43m_write_body\u001b[49m\u001b[43m(\u001b[49m\u001b[43mindent\u001b[49m\u001b[43m \u001b[49m\u001b[38;5;241;43m+\u001b[39;49m\u001b[43m \u001b[49m\u001b[38;5;28;43mself\u001b[39;49m\u001b[38;5;241;43m.\u001b[39;49m\u001b[43mindent_delta\u001b[49m\u001b[43m)\u001b[49m\n\u001b[1;32m    260\u001b[0m \u001b[38;5;28mself\u001b[39m\u001b[38;5;241m.\u001b[39mwrite(\u001b[38;5;124m\"\u001b[39m\u001b[38;5;124m</table>\u001b[39m\u001b[38;5;124m\"\u001b[39m, indent)\n",
      "File \u001b[0;32m~/py_env/39_env/lib/python3.9/site-packages/pandas/io/formats/html.py:406\u001b[0m, in \u001b[0;36mHTMLFormatter._write_body\u001b[0;34m(self, indent)\u001b[0m\n\u001b[1;32m    404\u001b[0m \u001b[38;5;28;01mdef\u001b[39;00m \u001b[38;5;21m_write_body\u001b[39m(\u001b[38;5;28mself\u001b[39m, indent: \u001b[38;5;28mint\u001b[39m) \u001b[38;5;241m-\u001b[39m\u001b[38;5;241m>\u001b[39m \u001b[38;5;28;01mNone\u001b[39;00m:\n\u001b[1;32m    405\u001b[0m     \u001b[38;5;28mself\u001b[39m\u001b[38;5;241m.\u001b[39mwrite(\u001b[38;5;124m\"\u001b[39m\u001b[38;5;124m<tbody>\u001b[39m\u001b[38;5;124m\"\u001b[39m, indent)\n\u001b[0;32m--> 406\u001b[0m     fmt_values \u001b[38;5;241m=\u001b[39m \u001b[38;5;28;43mself\u001b[39;49m\u001b[38;5;241;43m.\u001b[39;49m\u001b[43m_get_formatted_values\u001b[49m\u001b[43m(\u001b[49m\u001b[43m)\u001b[49m\n\u001b[1;32m    408\u001b[0m     \u001b[38;5;66;03m# write values\u001b[39;00m\n\u001b[1;32m    409\u001b[0m     \u001b[38;5;28;01mif\u001b[39;00m \u001b[38;5;28mself\u001b[39m\u001b[38;5;241m.\u001b[39mfmt\u001b[38;5;241m.\u001b[39mindex \u001b[38;5;129;01mand\u001b[39;00m \u001b[38;5;28misinstance\u001b[39m(\u001b[38;5;28mself\u001b[39m\u001b[38;5;241m.\u001b[39mframe\u001b[38;5;241m.\u001b[39mindex, MultiIndex):\n",
      "File \u001b[0;32m~/py_env/39_env/lib/python3.9/site-packages/pandas/io/formats/html.py:596\u001b[0m, in \u001b[0;36mNotebookFormatter._get_formatted_values\u001b[0;34m(self)\u001b[0m\n\u001b[1;32m    595\u001b[0m \u001b[38;5;28;01mdef\u001b[39;00m \u001b[38;5;21m_get_formatted_values\u001b[39m(\u001b[38;5;28mself\u001b[39m) \u001b[38;5;241m-\u001b[39m\u001b[38;5;241m>\u001b[39m \u001b[38;5;28mdict\u001b[39m[\u001b[38;5;28mint\u001b[39m, \u001b[38;5;28mlist\u001b[39m[\u001b[38;5;28mstr\u001b[39m]]:\n\u001b[0;32m--> 596\u001b[0m     \u001b[38;5;28;01mreturn\u001b[39;00m {i: \u001b[38;5;28mself\u001b[39m\u001b[38;5;241m.\u001b[39mfmt\u001b[38;5;241m.\u001b[39mformat_col(i) \u001b[38;5;28;01mfor\u001b[39;00m i \u001b[38;5;129;01min\u001b[39;00m \u001b[38;5;28mrange\u001b[39m(\u001b[38;5;28mself\u001b[39m\u001b[38;5;241m.\u001b[39mncols)}\n",
      "File \u001b[0;32m~/py_env/39_env/lib/python3.9/site-packages/pandas/io/formats/html.py:596\u001b[0m, in \u001b[0;36m<dictcomp>\u001b[0;34m(.0)\u001b[0m\n\u001b[1;32m    595\u001b[0m \u001b[38;5;28;01mdef\u001b[39;00m \u001b[38;5;21m_get_formatted_values\u001b[39m(\u001b[38;5;28mself\u001b[39m) \u001b[38;5;241m-\u001b[39m\u001b[38;5;241m>\u001b[39m \u001b[38;5;28mdict\u001b[39m[\u001b[38;5;28mint\u001b[39m, \u001b[38;5;28mlist\u001b[39m[\u001b[38;5;28mstr\u001b[39m]]:\n\u001b[0;32m--> 596\u001b[0m     \u001b[38;5;28;01mreturn\u001b[39;00m {i: \u001b[38;5;28;43mself\u001b[39;49m\u001b[38;5;241;43m.\u001b[39;49m\u001b[43mfmt\u001b[49m\u001b[38;5;241;43m.\u001b[39;49m\u001b[43mformat_col\u001b[49m\u001b[43m(\u001b[49m\u001b[43mi\u001b[49m\u001b[43m)\u001b[49m \u001b[38;5;28;01mfor\u001b[39;00m i \u001b[38;5;129;01min\u001b[39;00m \u001b[38;5;28mrange\u001b[39m(\u001b[38;5;28mself\u001b[39m\u001b[38;5;241m.\u001b[39mncols)}\n",
      "File \u001b[0;32m~/py_env/39_env/lib/python3.9/site-packages/pandas/io/formats/format.py:897\u001b[0m, in \u001b[0;36mDataFrameFormatter.format_col\u001b[0;34m(self, i)\u001b[0m\n\u001b[1;32m    895\u001b[0m frame \u001b[38;5;241m=\u001b[39m \u001b[38;5;28mself\u001b[39m\u001b[38;5;241m.\u001b[39mtr_frame\n\u001b[1;32m    896\u001b[0m formatter \u001b[38;5;241m=\u001b[39m \u001b[38;5;28mself\u001b[39m\u001b[38;5;241m.\u001b[39m_get_formatter(i)\n\u001b[0;32m--> 897\u001b[0m \u001b[38;5;28;01mreturn\u001b[39;00m \u001b[43mformat_array\u001b[49m\u001b[43m(\u001b[49m\n\u001b[1;32m    898\u001b[0m \u001b[43m    \u001b[49m\u001b[43mframe\u001b[49m\u001b[38;5;241;43m.\u001b[39;49m\u001b[43miloc\u001b[49m\u001b[43m[\u001b[49m\u001b[43m:\u001b[49m\u001b[43m,\u001b[49m\u001b[43m \u001b[49m\u001b[43mi\u001b[49m\u001b[43m]\u001b[49m\u001b[38;5;241;43m.\u001b[39;49m\u001b[43m_values\u001b[49m\u001b[43m,\u001b[49m\n\u001b[1;32m    899\u001b[0m \u001b[43m    \u001b[49m\u001b[43mformatter\u001b[49m\u001b[43m,\u001b[49m\n\u001b[1;32m    900\u001b[0m \u001b[43m    \u001b[49m\u001b[43mfloat_format\u001b[49m\u001b[38;5;241;43m=\u001b[39;49m\u001b[38;5;28;43mself\u001b[39;49m\u001b[38;5;241;43m.\u001b[39;49m\u001b[43mfloat_format\u001b[49m\u001b[43m,\u001b[49m\n\u001b[1;32m    901\u001b[0m \u001b[43m    \u001b[49m\u001b[43mna_rep\u001b[49m\u001b[38;5;241;43m=\u001b[39;49m\u001b[38;5;28;43mself\u001b[39;49m\u001b[38;5;241;43m.\u001b[39;49m\u001b[43mna_rep\u001b[49m\u001b[43m,\u001b[49m\n\u001b[1;32m    902\u001b[0m \u001b[43m    \u001b[49m\u001b[43mspace\u001b[49m\u001b[38;5;241;43m=\u001b[39;49m\u001b[38;5;28;43mself\u001b[39;49m\u001b[38;5;241;43m.\u001b[39;49m\u001b[43mcol_space\u001b[49m\u001b[38;5;241;43m.\u001b[39;49m\u001b[43mget\u001b[49m\u001b[43m(\u001b[49m\u001b[43mframe\u001b[49m\u001b[38;5;241;43m.\u001b[39;49m\u001b[43mcolumns\u001b[49m\u001b[43m[\u001b[49m\u001b[43mi\u001b[49m\u001b[43m]\u001b[49m\u001b[43m)\u001b[49m\u001b[43m,\u001b[49m\n\u001b[1;32m    903\u001b[0m \u001b[43m    \u001b[49m\u001b[43mdecimal\u001b[49m\u001b[38;5;241;43m=\u001b[39;49m\u001b[38;5;28;43mself\u001b[39;49m\u001b[38;5;241;43m.\u001b[39;49m\u001b[43mdecimal\u001b[49m\u001b[43m,\u001b[49m\n\u001b[1;32m    904\u001b[0m \u001b[43m    \u001b[49m\u001b[43mleading_space\u001b[49m\u001b[38;5;241;43m=\u001b[39;49m\u001b[38;5;28;43mself\u001b[39;49m\u001b[38;5;241;43m.\u001b[39;49m\u001b[43mindex\u001b[49m\u001b[43m,\u001b[49m\n\u001b[1;32m    905\u001b[0m \u001b[43m\u001b[49m\u001b[43m)\u001b[49m\n",
      "File \u001b[0;32m~/py_env/39_env/lib/python3.9/site-packages/pandas/io/formats/format.py:1328\u001b[0m, in \u001b[0;36mformat_array\u001b[0;34m(values, formatter, float_format, na_rep, digits, space, justify, decimal, leading_space, quoting)\u001b[0m\n\u001b[1;32m   1313\u001b[0m     digits \u001b[38;5;241m=\u001b[39m get_option(\u001b[38;5;124m\"\u001b[39m\u001b[38;5;124mdisplay.precision\u001b[39m\u001b[38;5;124m\"\u001b[39m)\n\u001b[1;32m   1315\u001b[0m fmt_obj \u001b[38;5;241m=\u001b[39m fmt_klass(\n\u001b[1;32m   1316\u001b[0m     values,\n\u001b[1;32m   1317\u001b[0m     digits\u001b[38;5;241m=\u001b[39mdigits,\n\u001b[0;32m   (...)\u001b[0m\n\u001b[1;32m   1325\u001b[0m     quoting\u001b[38;5;241m=\u001b[39mquoting,\n\u001b[1;32m   1326\u001b[0m )\n\u001b[0;32m-> 1328\u001b[0m \u001b[38;5;28;01mreturn\u001b[39;00m \u001b[43mfmt_obj\u001b[49m\u001b[38;5;241;43m.\u001b[39;49m\u001b[43mget_result\u001b[49m\u001b[43m(\u001b[49m\u001b[43m)\u001b[49m\n",
      "File \u001b[0;32m~/py_env/39_env/lib/python3.9/site-packages/pandas/io/formats/format.py:1360\u001b[0m, in \u001b[0;36mGenericArrayFormatter.get_result\u001b[0;34m(self)\u001b[0m\n\u001b[1;32m   1358\u001b[0m \u001b[38;5;28;01mdef\u001b[39;00m \u001b[38;5;21mget_result\u001b[39m(\u001b[38;5;28mself\u001b[39m) \u001b[38;5;241m-\u001b[39m\u001b[38;5;241m>\u001b[39m \u001b[38;5;28mlist\u001b[39m[\u001b[38;5;28mstr\u001b[39m]:\n\u001b[1;32m   1359\u001b[0m     fmt_values \u001b[38;5;241m=\u001b[39m \u001b[38;5;28mself\u001b[39m\u001b[38;5;241m.\u001b[39m_format_strings()\n\u001b[0;32m-> 1360\u001b[0m     \u001b[38;5;28;01mreturn\u001b[39;00m _make_fixed_width(fmt_values, \u001b[38;5;28;43mself\u001b[39;49m\u001b[38;5;241;43m.\u001b[39;49m\u001b[43mjustify\u001b[49m)\n",
      "\u001b[0;31mKeyboardInterrupt\u001b[0m: "
     ]
    }
   ],
   "source": [
    "with open('pickle_files/aspected_files/asp_files_05_10_2023/df_games_with_points_and_aspects_col_05_10_2023_to_27_05_2022', 'rb') as f:\n",
    "    df = pickle.load(f)\n",
    "\n",
    "print('shape -', df.shape[0])\n",
    "df.tail(1)    "
   ]
  },
  {
   "cell_type": "code",
   "execution_count": null,
   "id": "70b3d06a-f415-4d17-839c-ae358da0e43a",
   "metadata": {},
   "outputs": [],
   "source": [
    "df.game_id.unique().shape[0]"
   ]
  },
  {
   "cell_type": "code",
   "execution_count": null,
   "id": "1c3214cd-4db9-4ba9-9239-fef307daa77d",
   "metadata": {},
   "outputs": [],
   "source": [
    "df_events_1 = pd.read_csv('csv_files/events_and_aspects_data/events_games_05_10_2023_to_26_05_2022.csv',  names=['game_id', 'data'], dtype={'game_id': str}, \n",
    "                           converters={'data': literal_eval})\n",
    "df_events_2 = pd.read_csv('csv_files/events_and_aspects_data/events_games_colab_05_10_2023_to_27_05_2022.csv',  names=['game_id', 'data'], dtype={'game_id': str}, \n",
    "                           converters={'data': literal_eval})\n",
    "\n",
    "df_events = pd.concat([df_events_1, df_events_2], ignore_index=True)\n",
    "print('shape - df_events  -', df_events.shape[0])   \n",
    "df_events.tail(1)"
   ]
  },
  {
   "cell_type": "code",
   "execution_count": null,
   "id": "709e8943-e811-40b7-b728-75252ae35332",
   "metadata": {},
   "outputs": [],
   "source": [
    "print('shape - df_events_sec  -', df_events.shape[0]) \n",
    "df_events.drop_duplicates(subset='game_id', keep='first', inplace=True)\n",
    "df_events.reset_index(drop=True, inplace=True)\n",
    "print('shape - df_events_sec  -', df_events.shape[0]) "
   ]
  },
  {
   "cell_type": "code",
   "execution_count": null,
   "id": "c97500df-1c03-40b0-b1e4-93d4061315e8",
   "metadata": {},
   "outputs": [],
   "source": [
    "df_events['bets'] = df_events.data.map(lambda x: x[-1])\n",
    "df_events.drop(columns='data', inplace=True)\n",
    "df_events.tail(1)"
   ]
  },
  {
   "cell_type": "code",
   "execution_count": null,
   "id": "ff057de3-54bb-4913-8f2f-bde98553fffd",
   "metadata": {},
   "outputs": [],
   "source": [
    "cols = ['1', 'X', '2', 'ТМ 2.5', 'ТБ 2.5']\n",
    "data = [x[1] for x in df_events.bets.tolist() if type(x) != float]\n",
    "df_bets = pd.DataFrame.from_dict(data)\n",
    "df_bets.columns = cols\n",
    "print('shape - ', df_bets.shape)\n",
    "df_bets.tail()"
   ]
  },
  {
   "cell_type": "code",
   "execution_count": null,
   "id": "6991b1bb-98bb-4bf1-a4f8-bca93947b478",
   "metadata": {},
   "outputs": [],
   "source": [
    "df_events = pd.merge(df_events, df_bets, how='left', left_index=True, right_index=True)\n",
    "df_events.drop(columns='bets', inplace=True)\n",
    "print('shape - ', df_events.shape[0])\n",
    "df_events.tail()"
   ]
  },
  {
   "cell_type": "code",
   "execution_count": null,
   "id": "314e20f4-b4af-4e95-9b19-af9054189130",
   "metadata": {},
   "outputs": [],
   "source": [
    "df_events.drop_duplicates(subset='game_id', keep='first', inplace=True)\n",
    "print('shape - ', df_events.shape[0])\n",
    "df_events.tail()"
   ]
  },
  {
   "cell_type": "code",
   "execution_count": null,
   "id": "b7e7785a-e653-4ccb-a867-c20e42ce314e",
   "metadata": {},
   "outputs": [],
   "source": [
    "print('shape - ', df.shape[0])\n",
    "df = pd.merge(df, df_events, how='left', left_on='game_id', right_on='game_id')\n",
    "print('shape - ', df.shape[0])\n",
    "df.tail(3)"
   ]
  },
  {
   "cell_type": "code",
   "execution_count": null,
   "id": "18277a1d-fb39-492c-85b0-c4cdd80b2a0c",
   "metadata": {},
   "outputs": [],
   "source": [
    "df.insert(14, '1', df.pop('1'))\n",
    "df.insert(15, 'X', df.pop('X'))\n",
    "df.insert(16, '2', df.pop('2'))\n",
    "df.insert(17, 'ТМ 2.5', df.pop('ТМ 2.5'))\n",
    "df.insert(18, 'ТБ 2.5', df.pop('ТБ 2.5'))"
   ]
  },
  {
   "cell_type": "code",
   "execution_count": null,
   "id": "c18bfe95-9ef1-4671-9c96-540232a1f4c8",
   "metadata": {},
   "outputs": [],
   "source": [
    "df.rename(columns={'ТМ 2.5':'un_2.5', 'ТБ 2.5':'ov_2.5'}, inplace=True)"
   ]
  },
  {
   "cell_type": "code",
   "execution_count": null,
   "id": "4d474fcb-3570-42b4-923a-8805d06c5f77",
   "metadata": {},
   "outputs": [],
   "source": [
    "df.head(2)"
   ]
  },
  {
   "cell_type": "code",
   "execution_count": null,
   "id": "61d278ff-907b-44d6-abd5-7001eb28db4b",
   "metadata": {},
   "outputs": [],
   "source": [
    "df.game_utc.map(lambda x: str(x)[:8]).value_counts(dropna=False)[:3]"
   ]
  },
  {
   "cell_type": "code",
   "execution_count": null,
   "id": "ced55c84-d5b5-4709-9ecd-0dbf45d857f2",
   "metadata": {},
   "outputs": [],
   "source": [
    "# For addind 'game_id' in df_table_asps and if df with table aspects don't exist\n",
    "_ = df[['game_id', 'aspects']].apply(lambda x: [y.update({'game_id': x[0]}) for y in x[1]], axis=1)"
   ]
  },
  {
   "cell_type": "code",
   "execution_count": null,
   "id": "dd510dca-28e2-4bf9-8cfb-bb93d531ce01",
   "metadata": {},
   "outputs": [],
   "source": [
    "Stop *******************************************************************************************************"
   ]
  },
  {
   "cell_type": "code",
   "execution_count": null,
   "id": "3e6bfb11-4859-4cf5-bae7-dc45f78a3883",
   "metadata": {},
   "outputs": [],
   "source": [
    "# with open('pickle_files/aspected_files/asp_files_26_03_2021/df_table_asps_26_03_2021_to_03_11_2013_events_top_and_first_colab', 'rb') as f:\n",
    "#     df_table_asps = pickle.load(f)\n",
    "# df_table_asps.tail()"
   ]
  },
  {
   "cell_type": "code",
   "execution_count": null,
   "id": "48b4fbd1-3b0b-4158-af3f-2a8ca3a5721e",
   "metadata": {},
   "outputs": [],
   "source": [
    "# If df with table aspects don't exist\n",
    "df_table_asps = pd.DataFrame()\n",
    "\n",
    "for i in tqdm(df.index):\n",
    "    df_table_asps = pd.concat([df_table_asps, pd.DataFrame(df.aspects[i])])"
   ]
  },
  {
   "cell_type": "code",
   "execution_count": null,
   "id": "11688642-af48-42a6-93c3-71ba9f354b55",
   "metadata": {},
   "outputs": [],
   "source": [
    "print('shape -', df_table_asps.shape[0])\n",
    "df_table_asps.tail()"
   ]
  },
  {
   "cell_type": "code",
   "execution_count": null,
   "id": "ddcd56f5-981c-4231-b3b9-dcc0908dda28",
   "metadata": {},
   "outputs": [],
   "source": [
    "# Save df with aspects.\n",
    "# file = open('pickle_files/aspected_files/df_table_asps_05_10_2023_to_27_05_2022', 'wb')\n",
    "# pickle.dump(df_table_asps_all, file) \n",
    "# file.close()"
   ]
  },
  {
   "cell_type": "markdown",
   "id": "3789cdbf-b4bb-4fea-855c-7735c3419819",
   "metadata": {
    "tags": []
   },
   "source": [
    "#### Get aspects and create moon mansions"
   ]
  },
  {
   "cell_type": "code",
   "execution_count": null,
   "id": "23b620f5-29f4-46ba-9d2c-7774e80ba809",
   "metadata": {},
   "outputs": [],
   "source": [
    "df.drop(columns=['sun', 'saturn'], inplace=True)\n",
    "constants = ['SUN', 'MERCURY', 'VENUS', 'MARS', 'JUPITER', 'SATURN']\n",
    "\n",
    "for obj in constants:\n",
    "    df[str.lower(obj)] = AstrologicalPoints.calculate_astro_objects(df.charts, obj)\n",
    "    \n",
    "    antes_name     = 'antes_' + obj.lower()\n",
    "    df[antes_name] = AstrologicalPoints.antes_objects_calc(df, obj.lower())"
   ]
  },
  {
   "cell_type": "code",
   "execution_count": null,
   "id": "e059c911-987e-4e85-a1b4-349efe13be9c",
   "metadata": {},
   "outputs": [],
   "source": [
    "df.tail(1)"
   ]
  },
  {
   "cell_type": "code",
   "execution_count": null,
   "id": "0faa6d7c-15d4-4333-b36f-55600655c624",
   "metadata": {},
   "outputs": [],
   "source": [
    "print('shape - df - ', df.shape)\n",
    "print('shape - df_table_asps   - ', df_table_asps.shape)"
   ]
  },
  {
   "cell_type": "code",
   "execution_count": null,
   "id": "6bf685be-421e-4e6c-9024-cda4715869f0",
   "metadata": {},
   "outputs": [],
   "source": [
    "df_game_asps = df.merge(df_table_asps, how='left',left_on='game_id', right_on='game_id')\n",
    "df_game_asps.reset_index(drop=True, inplace=True)"
   ]
  },
  {
   "cell_type": "code",
   "execution_count": null,
   "id": "42078ad5-1e09-46fc-b4dc-ec675105893f",
   "metadata": {},
   "outputs": [],
   "source": [
    "df_game_asps.tail(1)"
   ]
  },
  {
   "cell_type": "code",
   "execution_count": null,
   "id": "05ca9204-ba48-45b8-903e-a70db8dd14a3",
   "metadata": {},
   "outputs": [],
   "source": [
    "nakshatras = AstrologicalConstants.nakshatras\n",
    "\n",
    "df_game_asps['nakshatras'] = df_game_asps.apply(lambda x: MoonDaysCalculate.calculate_moon_mansions(nakshatras, x[re.sub(' ', '_', x['s_point'].lower())].lon) \\\n",
    "                                                          if x['f_point'] == 'Moon' else None, axis=1)"
   ]
  },
  {
   "cell_type": "code",
   "execution_count": null,
   "id": "a3733747-3393-48bb-9caa-98c7f68028a6",
   "metadata": {},
   "outputs": [],
   "source": [
    "df_game_asps.nakshatras.value_counts(dropna=False)[:3]"
   ]
  },
  {
   "cell_type": "code",
   "execution_count": null,
   "id": "06148df5-4666-4cbe-aafc-c0ef24080947",
   "metadata": {},
   "outputs": [],
   "source": [
    "df_game_asps['day_month_yr'] = df_game_asps.game_utc.map(lambda x: str(x)[:10])\n",
    "df_game_asps.day_month_yr.value_counts()[:3]"
   ]
  },
  {
   "cell_type": "code",
   "execution_count": null,
   "id": "af67b0d9-9331-4f24-b1a4-276ae33df1cc",
   "metadata": {},
   "outputs": [],
   "source": [
    "df_game_asps.drop(columns=['charts', 'asc', 'desc', 'mc', 'ic', 'pars_fortuna', 'sun', 'moon', 'saturn', 'uranus', 'neptune', 'pluto', 'chiron', 'north_node', 'south_node',\n",
    "               'pars_spirit', 'pars_glory', 'pars_crest', 'pars_rock', 'ruler_asc', 'ruler_desc', 'ruler_mc', 'ruler_ic', 'ruler_pars_fortuna',\n",
    "               'ruler_pars_spirit', 'ruler_pars_glory', 'ruler_pars_crest', 'ruler_pars_rock', 'antes_moon', 'antes_ruler_asc', 'antes_ruler_desc',\n",
    "               'antes_ruler_mc', 'antes_ruler_ic', 'antes_pars_fortuna', 'antes_pars_spirit', 'antes_uranus', 'antes_neptune', 'antes_pluto',\n",
    "               'antes_chiron', 'antes_north_node', 'antes_south_node','antes_ruler_pars_fortuna', 'antes_ruler_pars_spirit', \n",
    "               'antes_sun', 'mercury', 'antes_mercury', 'venus', 'antes_venus', 'mars', 'antes_mars', 'jupiter', 'antes_jupiter', 'antes_saturn',\n",
    "                'aspects', 'orb', 'longs', 'orb_char', 'comp_id', 'teams_ids', 'transform_id',  'iso_code',], inplace=True) # "
   ]
  },
  {
   "cell_type": "code",
   "execution_count": null,
   "id": "608f7da0-6c32-457c-b3f7-188d7f4e869b",
   "metadata": {},
   "outputs": [],
   "source": [
    "df_game_asps.head(1)"
   ]
  },
  {
   "cell_type": "code",
   "execution_count": null,
   "id": "5b0ed1aa-5709-42a3-b34f-8ef028cf2e58",
   "metadata": {},
   "outputs": [],
   "source": [
    "# Transform to tuple\n",
    "col_names = ['fmain_ch', 'fsec_ch', 'smain_ch',\t'ssec_ch', ] #'den_point'\n",
    "for col in col_names:\n",
    "    df_game_asps[col] = df_game_asps[col].map(lambda x: tuple(x) if type(x) != float else None) "
   ]
  },
  {
   "cell_type": "markdown",
   "id": "9c455174-4d6f-4c07-9b34-ce98d8df5145",
   "metadata": {},
   "source": [
    "##### Prepare aspects and fix revers acpects if it exist"
   ]
  },
  {
   "cell_type": "code",
   "execution_count": null,
   "id": "0a173c29-2f4d-4dc9-be75-22349ae1a7e3",
   "metadata": {},
   "outputs": [],
   "source": [
    "unique_points_lt = df_game_asps[['f_point', 's_point']].apply(lambda x: (x[0], x[1]), axis=1).unique().tolist()\n",
    "print('len - ', len(unique_points_lt))\n",
    "unique_points_lt[-2:]"
   ]
  },
  {
   "cell_type": "code",
   "execution_count": null,
   "id": "d8d7c12a-3ceb-4df0-96c4-38d8e387c388",
   "metadata": {},
   "outputs": [],
   "source": [
    "unique_points_lt_cp = unique_points_lt.copy()"
   ]
  },
  {
   "cell_type": "code",
   "execution_count": null,
   "id": "2957185a-407e-4ca6-a2c0-84f07873d06d",
   "metadata": {},
   "outputs": [],
   "source": [
    "for points in unique_points_lt:\n",
    "    if points[::-1] in unique_points_lt:\n",
    "        unique_points_lt.remove(points[::-1]) \n",
    "\n",
    "len(unique_points_lt)         "
   ]
  },
  {
   "cell_type": "code",
   "execution_count": null,
   "id": "8db4e3a5-c903-49c6-8592-6e097a3f3f16",
   "metadata": {},
   "outputs": [],
   "source": [
    "not_unique_points_lt = [x for x in unique_points_lt_cp if x not in unique_points_lt]\n",
    "print('len - ', len(not_unique_points_lt))\n",
    "not_unique_points_lt[:3]"
   ]
  },
  {
   "cell_type": "code",
   "execution_count": null,
   "id": "46fff0b3-688c-425e-9d69-2666752cda70",
   "metadata": {},
   "outputs": [],
   "source": [
    "reverse_inds_sr = df_game_asps[['f_point', 's_point']].apply(lambda x: 1 if (x[0], x[1]) in not_unique_points_lt else None, axis=1)"
   ]
  },
  {
   "cell_type": "code",
   "execution_count": null,
   "id": "e4d6fe73-dd76-4159-a649-1e686a63a3a1",
   "metadata": {},
   "outputs": [],
   "source": [
    "reverse_inds_lt = reverse_inds_sr[reverse_inds_sr == 1].index.tolist()\n",
    "print('len - ', len(reverse_inds_lt))\n",
    "reverse_inds_lt[:3]"
   ]
  },
  {
   "cell_type": "markdown",
   "id": "0260fd83-4b71-440c-be4c-7865703ef02a",
   "metadata": {},
   "source": [
    "##### Transform pair aspects to uniq if exist"
   ]
  },
  {
   "cell_type": "code",
   "execution_count": null,
   "id": "50814809-e1f0-4e51-a93c-f38f5928e909",
   "metadata": {},
   "outputs": [],
   "source": [
    "# Rearrange (f_point: Pluto - s_point: Mercury) and (f_point: Mercury - s_point: Pluto) aspects at one aspect and 'main_ch', 'sec_ch' columns too.\n",
    "df_aspects = df_game_asps[~df_game_asps.index.isin(reverse_inds_lt)].copy()\n",
    "print('shape - ', df_aspects.shape)"
   ]
  },
  {
   "cell_type": "code",
   "execution_count": null,
   "id": "9be7b8a8-ce69-4dea-95b2-83f3ffd4b2c3",
   "metadata": {},
   "outputs": [],
   "source": [
    "df_for_reverse = df_game_asps[df_game_asps.index.isin(reverse_inds_lt)].copy()\n",
    "print('shape - ', df_for_reverse.shape)"
   ]
  },
  {
   "cell_type": "code",
   "execution_count": null,
   "id": "dba97a3f-fbc7-4de8-8b36-d034accfbcff",
   "metadata": {},
   "outputs": [],
   "source": [
    "# Count revers points: len(unique_points_lt) - (len(unique_points_lt) aftere remove reverse points)\n",
    "\n",
    "if df_for_reverse.shape[0] > 0:\n",
    "    print('shape -', df_for_reverse.shape[0])\n",
    "    \n",
    "    points_sr  = df_for_reverse[['f_point', 's_point']].apply(  lambda x: (x[1], x[0]), axis=1)\n",
    "    main_ch_sr = df_for_reverse[['fmain_ch', 'smain_ch']].apply(lambda x: (x[1], x[0]), axis=1)\n",
    "    sec_ch_sr  = df_for_reverse[['fsec_ch', 'ssec_ch']].apply(  lambda x: (x[1], x[0]), axis=1)\n",
    "    \n",
    "    print('len -', len(points_sr.unique()))\n",
    "    \n",
    "    df_for_reverse.f_point = points_sr.map(lambda x: x[0])\n",
    "    df_for_reverse.s_point = points_sr.map(lambda x: x[1])\n",
    "\n",
    "    df_for_reverse.fmain_ch = main_ch_sr.map(lambda x: x[0])\n",
    "    df_for_reverse.smain_ch = main_ch_sr.map(lambda x: x[1])\n",
    "\n",
    "    df_for_reverse.fsec_ch = sec_ch_sr.map(lambda x: x[0])\n",
    "    df_for_reverse.ssec_ch = sec_ch_sr.map(lambda x: x[1])"
   ]
  },
  {
   "cell_type": "code",
   "execution_count": null,
   "id": "da2aa9b8-6917-46fe-878f-ef92ae091a3a",
   "metadata": {},
   "outputs": [],
   "source": [
    "df_aspects = pd.concat([df_aspects, df_for_reverse]).sort_index()\n",
    "print('shape - ', df_aspects.shape)\n",
    "df_aspects.tail(1)"
   ]
  },
  {
   "cell_type": "markdown",
   "id": "55bd86f0-0078-4105-8054-2337581d276b",
   "metadata": {},
   "source": [
    "##### Fix errors in aspects orbs values"
   ]
  },
  {
   "cell_type": "code",
   "execution_count": null,
   "id": "fba6f345-f6da-4a80-8bd9-34c3a74eaccd",
   "metadata": {},
   "outputs": [],
   "source": [
    "df_orbs = df_aspects.tr_orb.value_counts(dropna=False, ascending=True).reset_index()"
   ]
  },
  {
   "cell_type": "code",
   "execution_count": null,
   "id": "d31918ef-29d0-4fb6-a5bf-5db033ac5d0a",
   "metadata": {},
   "outputs": [],
   "source": [
    "# 'index' col it's tr_orb values\n",
    "df_orbs.head().sort_values(by='index', ascending=False)"
   ]
  },
  {
   "cell_type": "code",
   "execution_count": null,
   "id": "a7cee211-6835-41b8-bf40-a2dd7e2773b0",
   "metadata": {},
   "outputs": [],
   "source": [
    "df_aspects.tr_orb = pd.to_numeric(df_aspects.tr_orb, errors='coerce')"
   ]
  },
  {
   "cell_type": "code",
   "execution_count": null,
   "id": "5483e86f-aaea-410e-8485-cdcbf102fbd6",
   "metadata": {},
   "outputs": [],
   "source": [
    "df_aspects.tr_orb = df_aspects.tr_orb.map(lambda x: StatDataPrepare.fix_erorr_aspects_values(x))"
   ]
  },
  {
   "cell_type": "markdown",
   "id": "af58cacf-76fc-4642-9d65-d97a3d6714b5",
   "metadata": {},
   "source": [
    "##### Remove some parses and their planets roles."
   ]
  },
  {
   "cell_type": "code",
   "execution_count": null,
   "id": "c4a13c09-ba0c-4869-9da7-5e93e3afffd7",
   "metadata": {},
   "outputs": [],
   "source": [
    "main_points = ['Moon', \n",
    "               'Pars Fortuna', 'Pars Spirit', \n",
    "               'Pluto', 'Neptune', 'Uranus',  'Chiron', \n",
    "               'Asc', 'Desc',  'MC',  'IC',\n",
    "               'Sun', 'Mercury', 'Venus', 'Mars', 'Jupiter', 'Saturn',  'North Node', 'South Node', \n",
    "               'Antes Moon', \n",
    "               'Antes Pars Fortuna', 'Antes Pars Spirit', \n",
    "               'Antes Pluto', 'Antes Neptune', 'Antes Uranus',  'Antes Chiron', \n",
    "               'Antes Sun', 'Antes Mercury', 'Antes Venus', 'Antes Mars', 'Antes Jupiter', 'Antes Saturn',  'Antes North Node', 'Antes South Node']\n",
    "\n",
    "# Don't used\n",
    "# main_roles = ['ruler_asc',  'ruler_desc',  'ruler_mc', 'ruler_ic',\n",
    "#                'ruler_pars_fortuna',\n",
    "#                'antes_ruler_asc', 'antes_ruler_desc', 'antes_ruler_mc', 'antes_ruler_ic',\n",
    "#                'antes_ruler_pars_fortuna'] \n",
    "\n",
    "sec_roles  = ['ruler_pars_spirit', 'antes_ruler_pars_spirit']"
   ]
  },
  {
   "cell_type": "code",
   "execution_count": null,
   "id": "709a4538-74ff-4bde-a4b9-a735da8f458a",
   "metadata": {},
   "outputs": [],
   "source": [
    "df_main_asps = df_aspects[df_aspects.f_point.isin(main_points) & df_aspects.s_point.isin(main_points)].copy()\n",
    "print('shape - ', df_main_asps.shape[0])"
   ]
  },
  {
   "cell_type": "code",
   "execution_count": null,
   "id": "c4f38017-75a8-433b-86a5-a95a2d9e7b3c",
   "metadata": {},
   "outputs": [],
   "source": [
    "df_main_asps.reset_index(drop=True, inplace=True)"
   ]
  },
  {
   "cell_type": "code",
   "execution_count": null,
   "id": "b6edd1bb-3a83-4ab2-a4e5-23c986abbfe6",
   "metadata": {},
   "outputs": [],
   "source": [
    "df_main_asps.fsec_ch = df_main_asps.fsec_ch.map(lambda x: ''.join([y for y in x if y in sec_roles]))\n",
    "df_main_asps.ssec_ch = df_main_asps.ssec_ch.map(lambda x: ''.join([y for y in x if y in sec_roles]))"
   ]
  },
  {
   "cell_type": "code",
   "execution_count": null,
   "id": "646a3092-0509-453d-b7db-805c79a7e57f",
   "metadata": {},
   "outputs": [],
   "source": [
    "# Concatinate main and secondary roles\n",
    "df_main_asps.fmain_ch = df_main_asps[['fmain_ch', 'fsec_ch']].apply(lambda x: x[0] + (x[1],) if x[1] != '' else x[0], axis=1)\n",
    "df_main_asps.smain_ch = df_main_asps[['smain_ch', 'ssec_ch']].apply(lambda x: x[0] + (x[1],) if x[1] != '' else x[0], axis=1)"
   ]
  },
  {
   "cell_type": "code",
   "execution_count": null,
   "id": "daa0a0af-0c65-46ab-beed-472b2a92bca4",
   "metadata": {},
   "outputs": [],
   "source": [
    "df_main_asps.drop(columns=['fsec_ch', 'ssec_ch'], inplace=True)"
   ]
  },
  {
   "cell_type": "markdown",
   "id": "bc3d8e35-72d2-4a76-ba56-b169caf21139",
   "metadata": {},
   "source": [
    "##### Rename values for min length"
   ]
  },
  {
   "cell_type": "code",
   "execution_count": null,
   "id": "b7c5acca-3402-4fd6-91d6-92ad50d0ab37",
   "metadata": {},
   "outputs": [],
   "source": [
    "point_names = {'Sun':'Sn', 'Moon':'Mn', 'Mercury':'Me', 'Venus':'Vn', 'Mars':'Ms', 'Jupiter':'Ju', 'Saturn':'St', 'Chiron':'Ch', 'Uranus':'Ur', 'Neptune':'Np',\n",
    "               'Pluto':'Pl', 'North Node':'NN', 'South Node':'SN', 'Asc':'H1', 'Desc':'H7', 'MC':'H10', 'IC':'H4', 'Pars Fortuna':'PF', 'Pars Spirit':'PS',\n",
    "               'Antes Sun':'ASn', 'Antes Moon':'AMn', 'Antes Mercury':'AMe', 'Antes Venus':'AVn', 'Antes Mars':'AMs', 'Antes Jupiter':'AJu', 'Antes Saturn':'ASt', \n",
    "               'Antes Chiron':'ACh', 'Antes Uranus':'AUr', 'Antes Neptune':'ANp', 'Antes Pluto':'APl', 'Antes North Node':'ANN', 'Antes South Node':'ASN', \n",
    "               'Antes Pars Fortuna':'APF', 'Antes Pars Spirit':'APS'}\n",
    "\n",
    "type_names  = {'Con':'c', 'Opp':'o', 'Sque':'q', 'Trin':'t', 'Sixt':'i'}\n",
    "\n",
    "char_names  = {'ruler_asc':'V1', 'ruler_desc':'V7', 'ruler_mc':'V10', 'ruler_ic':'V4', 'ruler_pars_fortuna':'DPF', 'ruler_pars_spirit':'DPS',\n",
    "              'antes_ruler_asc':'AV1', 'antes_ruler_desc':'AV7', 'antes_ruler_mc':'AV10', 'antes_ruler_ic':'AV4', 'antes_ruler_pars_fortuna':'ADPF',\n",
    "              'antes_ruler_pars_spirit':'ADPS'}"
   ]
  },
  {
   "cell_type": "code",
   "execution_count": null,
   "id": "8002e5e8-5017-4f1c-8678-c20c3320f03f",
   "metadata": {},
   "outputs": [],
   "source": [
    "df_main_asps.f_point = df_main_asps.f_point.map(lambda x: [v for k, v in point_names.items() if x == k][0])\n",
    "df_main_asps.s_point = df_main_asps.s_point.map(lambda x: [v for k, v in point_names.items() if x == k][0])\n",
    "\n",
    "df_main_asps.type = df_main_asps.type.map(lambda x: [v for k, v in type_names.items() if x == k][0])"
   ]
  },
  {
   "cell_type": "code",
   "execution_count": null,
   "id": "72277b09-8084-48e7-9479-471ddcbc0e7b",
   "metadata": {},
   "outputs": [],
   "source": [
    "df_main_asps.fmain_ch = df_main_asps.fmain_ch.map(lambda x: [v for k, v in char_names.items() for r in x if r == k])\n",
    "df_main_asps.smain_ch = df_main_asps.smain_ch.map(lambda x: [v for k, v in char_names.items() for r in x if r == k])"
   ]
  },
  {
   "cell_type": "code",
   "execution_count": null,
   "id": "992b7752-c283-4b83-ae83-60749c060839",
   "metadata": {},
   "outputs": [],
   "source": [
    "# Concatinate two and more characteristic values in string\n",
    "df_main_asps.fmain_ch = df_main_asps.fmain_ch.map(lambda x: '-'.join(x))\n",
    "df_main_asps.smain_ch = df_main_asps.smain_ch.map(lambda x: '-'.join(x))"
   ]
  },
  {
   "cell_type": "code",
   "execution_count": null,
   "id": "f45813aa-a583-4ee7-96a1-4854c413e291",
   "metadata": {},
   "outputs": [],
   "source": [
    "# Replace f_point and s_point to characteristic\n",
    "df_main_asps['f_role'] = df_main_asps[['f_point', 'fmain_ch']].apply(lambda x: x[1] if x[1] != '' else x[0], axis=1)\n",
    "df_main_asps['s_role'] = df_main_asps[['s_point', 'smain_ch']].apply(lambda x: x[1] if x[1] != '' else x[0], axis=1)"
   ]
  },
  {
   "cell_type": "code",
   "execution_count": null,
   "id": "65dfb6c1-a4e8-413c-a1d1-0f7078375130",
   "metadata": {},
   "outputs": [],
   "source": [
    "# Remove nodeterminate roles\n",
    "nodet_points = ['Me', 'Vn', 'Ms', 'Ju', 'AMe', 'AVn', 'AMs', 'AJu']\n",
    "remove_inds  = []\n",
    "\n",
    "for nb in df_main_asps.index.to_list():\n",
    "    if df_main_asps.iloc[nb].f_role in nodet_points or df_main_asps.iloc[nb].s_role in nodet_points:\n",
    "        remove_inds.append(nb)\n",
    "\n",
    "df_main_asps.drop(index=remove_inds, inplace=True)       \n",
    "df_main_asps.reset_index(drop=True, inplace=True)        "
   ]
  },
  {
   "cell_type": "code",
   "execution_count": null,
   "id": "4bcc9ea2-bf03-4fa6-9c05-41ee7d7ec230",
   "metadata": {},
   "outputs": [],
   "source": [
    "# Remove Moon aspects with nodeterminate roles planets\n",
    "nodet_points_mn = ['Sn', 'Me', 'Vn', 'Ms', 'Ju', 'St', 'ASn', 'AMe', 'AVn', 'AMs', 'AJu', 'ASt']\n",
    "remove_inds_mn  = []\n",
    "\n",
    "for nb in df_main_asps.index.to_list():\n",
    "    if (df_main_asps.iloc[nb].f_role == 'Mn') and (df_main_asps.iloc[nb].s_role in nodet_points_mn):\n",
    "        remove_inds_mn.append(nb)\n",
    "\n",
    "df_main_asps.drop(index=remove_inds_mn, inplace=True)       \n",
    "df_main_asps.reset_index(drop=True, inplace=True)        "
   ]
  },
  {
   "cell_type": "code",
   "execution_count": null,
   "id": "4298229b-5135-4715-b44d-332146cd00a8",
   "metadata": {},
   "outputs": [],
   "source": [
    "print('shape - ', df_main_asps.shape[0])"
   ]
  },
  {
   "cell_type": "code",
   "execution_count": null,
   "id": "af713857-4ab0-4ca6-966f-390b9cc47938",
   "metadata": {},
   "outputs": [],
   "source": [
    "# Create 'in' - 'out' for houses points aspect with their dispositors\n",
    "houses_lt = ['H1', 'H7', 'H10', 'H4']\n",
    "desps_lt  = ['V1', 'V7', 'V10', 'V4', 'AV1', 'AV7', 'AV10', 'AV4']\n",
    "\n",
    "df_main_asps.s_role = df_main_asps[['f_role', 's_role', 'approach']].apply(lambda x: x[1] +'-'+ x[2][:2] if x[0] in houses_lt and any(val in x[1] \n",
    "                                                                                                           for val in desps_lt) else x[1], axis=1)"
   ]
  },
  {
   "cell_type": "code",
   "execution_count": null,
   "id": "1b0d861e-ae67-4d03-9285-c4066cf6fd46",
   "metadata": {},
   "outputs": [],
   "source": [
    "# Remove divergent aspects for Houses and parses dispositors and parses and their anteses\n",
    "rmv_asps_lt = ['V1', 'V7', 'V10', 'V4', 'AV1', 'AV7', 'AV10', 'AV4', 'PF', 'PS', 'APF', 'APS', 'DPF', 'ADPF', 'DPS', 'ADPS']\n",
    "\n",
    "diver_parts_asps = df_main_asps[['f_role', 's_role', 'approach']].apply(lambda x: x.name if any(val in x[0] for val in rmv_asps_lt) and any(val in x[1] for val in rmv_asps_lt)\\\n",
    "                                                           and x[2] == 'diver'else None, axis=1)\n",
    "\n",
    "diver_parts_asps_inds = diver_parts_asps[~diver_parts_asps.isna()].index.to_list()\n",
    "print('shape - ', df_main_asps.shape[0])\n",
    "df_main_asps = df_main_asps[~df_main_asps.index.isin(diver_parts_asps_inds)].copy()\n",
    "print('shape - ', df_main_asps.shape[0])\n",
    "df_main_asps.reset_index(drop=True, inplace=True)"
   ]
  },
  {
   "cell_type": "code",
   "execution_count": null,
   "id": "6c9f1478-2f10-4fe8-ab6f-cc04135e88ab",
   "metadata": {},
   "outputs": [],
   "source": [
    "# Concatinate points and roles\n",
    "df_main_asps.f_role = df_main_asps[['f_point', 'f_role']].apply(lambda x: '-'.join(x) if x[0] != x[1] else x[0], axis=1)\n",
    "df_main_asps.s_role = df_main_asps[['s_point', 's_role']].apply(lambda x: '-'.join(x) if x[0] != x[1] else x[0], axis=1)"
   ]
  },
  {
   "cell_type": "code",
   "execution_count": null,
   "id": "a71f3c13-fc7e-4666-850c-26916327a48b",
   "metadata": {},
   "outputs": [],
   "source": [
    "df_main_asps['fs_asps'] = df_main_asps[['f_role', 'type', 's_role']].apply(lambda x: '_'.join(x), axis=1)"
   ]
  },
  {
   "cell_type": "code",
   "execution_count": null,
   "id": "e58e5d0a-3424-4964-93df-5a8a34c76e23",
   "metadata": {},
   "outputs": [],
   "source": [
    "df_main_asps['day_month_yr'] = df_main_asps.game_utc.map(lambda x: str(x)[:10])"
   ]
  },
  {
   "cell_type": "code",
   "execution_count": null,
   "id": "7e778159-a00e-4c26-a869-937fc4727783",
   "metadata": {},
   "outputs": [],
   "source": [
    "fs_asps_count = df_main_asps.groupby('day_month_yr').fs_asps.value_counts().to_dict()"
   ]
  },
  {
   "cell_type": "code",
   "execution_count": null,
   "id": "6712dd3c-e9ab-45a8-b92f-094ac758bc51",
   "metadata": {},
   "outputs": [],
   "source": [
    "df_asps_count              = pd.DataFrame.from_dict(fs_asps_count.items())\n",
    "df_asps_count['day_month_yr'] = [x[0] for x in df_asps_count[0]]\n",
    "df_asps_count['fs_asps']   = [x[1] for x in df_asps_count[0]]\n",
    "\n",
    "df_asps_count.rename(columns={1 :'cnt_asp_for_day'}, inplace=True)\n",
    "df_asps_count.drop(columns=0, inplace=True)"
   ]
  },
  {
   "cell_type": "code",
   "execution_count": null,
   "id": "cb87412d-f5ab-43aa-81dd-c28994f66548",
   "metadata": {},
   "outputs": [],
   "source": [
    "df_asps_count.head()"
   ]
  },
  {
   "cell_type": "code",
   "execution_count": null,
   "id": "a60da894-853e-4abb-ab52-44e7d65ee280",
   "metadata": {},
   "outputs": [],
   "source": [
    "df_main_asps = df_main_asps.merge(df_asps_count, how='left', left_on=['day_month_yr', 'fs_asps'], right_on=['day_month_yr', 'fs_asps'])"
   ]
  },
  {
   "cell_type": "code",
   "execution_count": null,
   "id": "25928f9b-4960-489f-bbb2-2398ac50eafe",
   "metadata": {},
   "outputs": [],
   "source": [
    "# Concatinate points and roles without planets names:\n",
    "df_main_asps['f_role_wt_pls'] = df_main_asps.f_role.map(lambda x: re.sub(r'^(.*?)-', '', x) if x[:2] != 'Mn' else x)\n",
    "df_main_asps['s_role_wt_pls'] = df_main_asps.s_role.map(lambda x: re.sub(r'^(.*?)-', '', x))"
   ]
  },
  {
   "cell_type": "code",
   "execution_count": null,
   "id": "a168b37a-51cc-4b6b-8cac-cc734954bfef",
   "metadata": {},
   "outputs": [],
   "source": [
    "df_main_asps['fs_asps_wt_pls'] = df_main_asps[['f_role_wt_pls', 'type', 's_role_wt_pls']].apply(lambda x: '_'.join(x), axis=1)"
   ]
  },
  {
   "cell_type": "code",
   "execution_count": null,
   "id": "ef455d87-41a1-42a5-8817-6ecb19e4752f",
   "metadata": {},
   "outputs": [],
   "source": [
    "fs_asps_count_wt_pls = df_main_asps.groupby('day_month_yr').fs_asps_wt_pls.value_counts().to_dict()"
   ]
  },
  {
   "cell_type": "code",
   "execution_count": null,
   "id": "3ef0fe01-7bbf-4a37-9fba-073072fcae14",
   "metadata": {},
   "outputs": [],
   "source": [
    "df_asps_cnt_wt_pls                   = pd.DataFrame.from_dict(fs_asps_count_wt_pls.items())\n",
    "df_asps_cnt_wt_pls['day_month_yr']      = [x[0] for x in df_asps_cnt_wt_pls[0]]\n",
    "df_asps_cnt_wt_pls['fs_asps_wt_pls'] = [x[1] for x in df_asps_cnt_wt_pls[0]]\n",
    "\n",
    "df_asps_cnt_wt_pls.rename(columns={1 :'cnt_asp_wt_pls_for_day'}, inplace=True)\n",
    "df_asps_cnt_wt_pls.drop(columns=0, inplace=True)"
   ]
  },
  {
   "cell_type": "code",
   "execution_count": null,
   "id": "2421f678-e885-40f2-8f60-b405d833e436",
   "metadata": {},
   "outputs": [],
   "source": [
    "# [x for x in df_asps_cnt_wt_pls.fs_asps_wt_pls if x.startswith('Mn')]"
   ]
  },
  {
   "cell_type": "code",
   "execution_count": null,
   "id": "ab3e88ef-3639-412f-b7df-838a22644768",
   "metadata": {},
   "outputs": [],
   "source": [
    "df_asps_cnt_wt_pls.tail()"
   ]
  },
  {
   "cell_type": "code",
   "execution_count": null,
   "id": "e90154a1-6f44-425b-9b5a-22a1c2521d68",
   "metadata": {},
   "outputs": [],
   "source": [
    "df_main_asps = df_main_asps.merge(df_asps_cnt_wt_pls, how='left', left_on=['day_month_yr', 'fs_asps_wt_pls'], right_on=['day_month_yr', 'fs_asps_wt_pls'])"
   ]
  },
  {
   "cell_type": "code",
   "execution_count": null,
   "id": "96260c91-6085-423b-a714-117e5dc32e42",
   "metadata": {},
   "outputs": [],
   "source": [
    "# Remove 'games_id' without goals\n",
    "sr_wt_goals = df_main_asps[['game_id', 'goals']].apply(lambda x: x[0] if re.findall('-', str(x[1])) else None, axis=1)\n",
    "sr_wt_goals = sr_wt_goals[~sr_wt_goals.isna()]\n",
    "print('goals_isna_game_ids -', sr_wt_goals)\n",
    "df_main_asps = df_main_asps[~df_main_asps.game_id.isin(sr_wt_goals)].copy()\n",
    "df_main_asps.reset_index(drop=True, inplace=True)"
   ]
  },
  {
   "cell_type": "code",
   "execution_count": null,
   "id": "1cdca956-89c1-4d27-a5d6-5ee793f61913",
   "metadata": {},
   "outputs": [],
   "source": [
    "Stop ***************************************************************************************************************************"
   ]
  },
  {
   "cell_type": "code",
   "execution_count": null,
   "id": "0936fc58-fff0-4966-8d2d-ac09eabd2aa9",
   "metadata": {},
   "outputs": [],
   "source": [
    "# df_main_asps['1'].value_counts(dropna=False)"
   ]
  },
  {
   "cell_type": "code",
   "execution_count": null,
   "id": "f409b940-b274-4033-8dc9-de23dff30ed6",
   "metadata": {},
   "outputs": [],
   "source": [
    "df_main_asps.tail(1)"
   ]
  },
  {
   "cell_type": "code",
   "execution_count": null,
   "id": "84fb2d54-8db0-4cca-bbcb-f59152aabddf",
   "metadata": {},
   "outputs": [],
   "source": [
    "df_main_asps.game_utc = pd.to_datetime(df_main_asps.game_utc, format='%d.%m.%Y %H:%M')\n",
    "df_main_asps          = df_main_asps.sort_values(by='game_utc')"
   ]
  },
  {
   "cell_type": "code",
   "execution_count": null,
   "id": "67378b0c-32bc-437e-b37d-3190868cbbbf",
   "metadata": {},
   "outputs": [],
   "source": [
    "# Create df for statistic research\n",
    "# file = open('pickle_files/aspected_files/df_for_statistic_05_10_2023_to_27_05_2022', 'wb')\n",
    "# pickle.dump(df_main_asps, file) \n",
    "# file.close()"
   ]
  },
  {
   "cell_type": "markdown",
   "id": "1dcff4ed-4fb4-48b1-bd71-9642f1f267f2",
   "metadata": {
    "tags": []
   },
   "source": [
    "### Statistic research"
   ]
  },
  {
   "cell_type": "code",
   "execution_count": null,
   "id": "04f3f58c-c079-409e-85a7-3a3ecfadea29",
   "metadata": {},
   "outputs": [],
   "source": [
    "# Full start from this row = Anomaly period with a lot of losses \"2021.04\" to \"2022.05\" in top and sec leagues"
   ]
  },
  {
   "cell_type": "code",
   "execution_count": 28,
   "id": "7b1c3909-e187-4830-bf79-feadf385026b",
   "metadata": {},
   "outputs": [],
   "source": [
    "with open('pickle_files/aspected_files/df_all_parses_for_statistic_05_10_2023_to_03_11_2013_w_moon_days', 'rb') as f:  \n",
    "    df_main_asps = pickle.load(f)   "
   ]
  },
  {
   "cell_type": "code",
   "execution_count": 29,
   "id": "5c152758-0b3c-411b-b3b3-aa778efa9f3a",
   "metadata": {},
   "outputs": [
    {
     "data": {
      "text/html": [
       "<div>\n",
       "<style scoped>\n",
       "    .dataframe tbody tr th:only-of-type {\n",
       "        vertical-align: middle;\n",
       "    }\n",
       "\n",
       "    .dataframe tbody tr th {\n",
       "        vertical-align: top;\n",
       "    }\n",
       "\n",
       "    .dataframe thead th {\n",
       "        text-align: right;\n",
       "    }\n",
       "</style>\n",
       "<table border=\"1\" class=\"dataframe\">\n",
       "  <thead>\n",
       "    <tr style=\"text-align: right;\">\n",
       "      <th></th>\n",
       "      <th>game_id</th>\n",
       "      <th>ligue_header</th>\n",
       "      <th>season_id</th>\n",
       "      <th>game_utc</th>\n",
       "      <th>goals</th>\n",
       "      <th>ligue</th>\n",
       "      <th>actual_city</th>\n",
       "      <th>actual_country</th>\n",
       "      <th>f_team</th>\n",
       "      <th>s_team</th>\n",
       "      <th>pos_f</th>\n",
       "      <th>pos_s</th>\n",
       "      <th>pts_f</th>\n",
       "      <th>pts_s</th>\n",
       "      <th>1</th>\n",
       "      <th>X</th>\n",
       "      <th>2</th>\n",
       "      <th>un_2.5</th>\n",
       "      <th>ov_2.5</th>\n",
       "      <th>country</th>\n",
       "      <th>city</th>\n",
       "      <th>lat</th>\n",
       "      <th>lon</th>\n",
       "      <th>f_point</th>\n",
       "      <th>s_point</th>\n",
       "      <th>type</th>\n",
       "      <th>approach</th>\n",
       "      <th>sing</th>\n",
       "      <th>tr_orb</th>\n",
       "      <th>bp_asp</th>\n",
       "      <th>den_point</th>\n",
       "      <th>smain_ch</th>\n",
       "      <th>fmain_ch</th>\n",
       "      <th>f_role</th>\n",
       "      <th>s_role</th>\n",
       "      <th>fs_asps</th>\n",
       "      <th>day_month_yr</th>\n",
       "      <th>cnt_asp_for_day</th>\n",
       "      <th>f_role_wt_pls</th>\n",
       "      <th>s_role_wt_pls</th>\n",
       "      <th>fs_asps_wt_pls</th>\n",
       "      <th>cnt_asp_wt_pls_for_day</th>\n",
       "      <th>month_yr</th>\n",
       "      <th>moon_day</th>\n",
       "      <th>nakshatras</th>\n",
       "    </tr>\n",
       "  </thead>\n",
       "  <tbody>\n",
       "    <tr>\n",
       "      <th>0</th>\n",
       "      <td>10934224</td>\n",
       "      <td>Torneo Federal A</td>\n",
       "      <td>38</td>\n",
       "      <td>2013-11-03 22:30:00</td>\n",
       "      <td>2:0</td>\n",
       "      <td>thr</td>\n",
       "      <td>None</td>\n",
       "      <td>None</td>\n",
       "      <td>Juventud Unida Universitario</td>\n",
       "      <td>Union Mar del Plata</td>\n",
       "      <td>2</td>\n",
       "      <td>8</td>\n",
       "      <td>38</td>\n",
       "      <td>28</td>\n",
       "      <td>NaN</td>\n",
       "      <td>NaN</td>\n",
       "      <td>NaN</td>\n",
       "      <td>NaN</td>\n",
       "      <td>NaN</td>\n",
       "      <td>Argentina</td>\n",
       "      <td>Luis</td>\n",
       "      <td>37s56</td>\n",
       "      <td>57w47</td>\n",
       "      <td>Mn</td>\n",
       "      <td>ASn</td>\n",
       "      <td>q</td>\n",
       "      <td>moon_conv</td>\n",
       "      <td>equal</td>\n",
       "      <td>1.2</td>\n",
       "      <td>no</td>\n",
       "      <td>()</td>\n",
       "      <td>AV4</td>\n",
       "      <td></td>\n",
       "      <td>Mn</td>\n",
       "      <td>ASn-AV4</td>\n",
       "      <td>Mn_q_ASn-AV4</td>\n",
       "      <td>2013-11-03</td>\n",
       "      <td>5</td>\n",
       "      <td>Mn</td>\n",
       "      <td>AV4</td>\n",
       "      <td>Mn_q_AV4</td>\n",
       "      <td>5</td>\n",
       "      <td>11.2013</td>\n",
       "      <td>0</td>\n",
       "      <td>None</td>\n",
       "    </tr>\n",
       "  </tbody>\n",
       "</table>\n",
       "</div>"
      ],
      "text/plain": [
       "    game_id      ligue_header season_id            game_utc goals ligue  \\\n",
       "0  10934224  Torneo Federal A        38 2013-11-03 22:30:00   2:0   thr   \n",
       "\n",
       "  actual_city actual_country                        f_team  \\\n",
       "0        None           None  Juventud Unida Universitario   \n",
       "\n",
       "                s_team pos_f pos_s pts_f pts_s   1   X   2  un_2.5  ov_2.5  \\\n",
       "0  Union Mar del Plata     2     8    38    28 NaN NaN NaN     NaN     NaN   \n",
       "\n",
       "     country  city    lat    lon f_point s_point type   approach   sing  \\\n",
       "0  Argentina  Luis  37s56  57w47      Mn     ASn    q  moon_conv  equal   \n",
       "\n",
       "   tr_orb bp_asp den_point smain_ch fmain_ch f_role   s_role       fs_asps  \\\n",
       "0     1.2     no        ()      AV4              Mn  ASn-AV4  Mn_q_ASn-AV4   \n",
       "\n",
       "  day_month_yr  cnt_asp_for_day f_role_wt_pls s_role_wt_pls fs_asps_wt_pls  \\\n",
       "0   2013-11-03                5            Mn           AV4       Mn_q_AV4   \n",
       "\n",
       "   cnt_asp_wt_pls_for_day month_yr  moon_day nakshatras  \n",
       "0                       5  11.2013         0       None  "
      ]
     },
     "execution_count": 29,
     "metadata": {},
     "output_type": "execute_result"
    }
   ],
   "source": [
    "df_main_asps.head(1)"
   ]
  },
  {
   "cell_type": "code",
   "execution_count": 30,
   "id": "ed166a3d-c6e9-45c8-b563-c1992b76d57a",
   "metadata": {},
   "outputs": [],
   "source": [
    "# df_main_asps.fs_asps_wt_pls.value_counts(dropna=False).head(100)"
   ]
  },
  {
   "cell_type": "code",
   "execution_count": 31,
   "id": "da6c71d7-1af4-4684-8916-512e2feef5da",
   "metadata": {},
   "outputs": [],
   "source": [
    "# with open('pickle_files/aspected_files/df_for_statistic_05_10_2023_to_03_11_2013_w_moon_days', 'rb') as f:\n",
    "#     df_main_asps_1 = pickle.load(f)  \n",
    "#     # df_main_asps = pickle.load(f)\n",
    "    \n",
    "# # For new data research    \n",
    "# with open('pickle_files/aspected_files/df_for_statistic_01_02_2024_to_06_10_2023', 'rb') as f:\n",
    "#     df_main_asps_2 = pickle.load(f)     \n",
    "#     # df_main_asps = pickle.load(f)\n",
    "    \n",
    "# df_main_asps = pd.concat([df_main_asps_1, df_main_asps_2], ignore_index=True)    "
   ]
  },
  {
   "cell_type": "code",
   "execution_count": 32,
   "id": "b164d3ce-869e-4c9e-a659-a00649ca8b5f",
   "metadata": {},
   "outputs": [],
   "source": [
    "df_main_asps['month_yr'] = df_main_asps.game_utc.map(lambda x: str(x)[5:7] + '.' + str(x)[0:4])"
   ]
  },
  {
   "cell_type": "code",
   "execution_count": 33,
   "id": "f09f67cd-36b1-418e-9ebb-85f382d195fb",
   "metadata": {},
   "outputs": [
    {
     "name": "stdout",
     "output_type": "stream",
     "text": [
      "unique games - 663804\n"
     ]
    }
   ],
   "source": [
    "print('unique games -', len(df_main_asps.game_id.unique()))"
   ]
  },
  {
   "cell_type": "code",
   "execution_count": 34,
   "id": "7982038c-aaa8-4778-98cd-a027d3201493",
   "metadata": {},
   "outputs": [],
   "source": [
    "# df_main_asps = df_main_asps[(df_main_asps.game_utc >= '2021.04') & (df_main_asps.game_utc <= '2022.04')].copy()"
   ]
  },
  {
   "cell_type": "code",
   "execution_count": 35,
   "id": "234145bd-97a5-4a07-bb83-ffb1161a0cc4",
   "metadata": {},
   "outputs": [],
   "source": [
    "# Anomaly period with a lot of losses \"2021.04\" to \"2022.05\" in top and sec leagues\n",
    "df_anomaly_per = df_main_asps[(df_main_asps.game_utc >= '2021.04') & (df_main_asps.game_utc <= '2022.05')].copy()"
   ]
  },
  {
   "cell_type": "code",
   "execution_count": 36,
   "id": "d0a5d343-8c97-48a4-b57b-63c398636e14",
   "metadata": {},
   "outputs": [
    {
     "name": "stdout",
     "output_type": "stream",
     "text": [
      "min date 2021-04-01 00:00:00\n",
      "max date 2022-05-01 00:00:00\n"
     ]
    }
   ],
   "source": [
    "print('min date', min(df_anomaly_per.game_utc))\n",
    "print('max date', max(df_anomaly_per.game_utc))"
   ]
  },
  {
   "cell_type": "code",
   "execution_count": 37,
   "id": "c50e6c0e-3b2c-4b1a-91ca-b12c4a79ae85",
   "metadata": {},
   "outputs": [
    {
     "name": "stdout",
     "output_type": "stream",
     "text": [
      "shape - 7161449\n",
      "shape - 6249505\n"
     ]
    }
   ],
   "source": [
    "print('shape -', df_main_asps.shape[0])\n",
    "df_main_asps = df_main_asps[~df_main_asps.game_id.isin(df_anomaly_per.game_id)].copy()\n",
    "print('shape -', df_main_asps.shape[0])"
   ]
  },
  {
   "cell_type": "code",
   "execution_count": 38,
   "id": "2ffdfd21-6255-4a69-8a14-bf807e3a40a4",
   "metadata": {},
   "outputs": [
    {
     "name": "stdout",
     "output_type": "stream",
     "text": [
      "shape - 6249505\n",
      "shape - 6107419\n"
     ]
    }
   ],
   "source": [
    "# In 'Argentina' state more location errors \n",
    "print('shape -', df_main_asps.shape[0])\n",
    "df_main_asps = df_main_asps[df_main_asps.country != 'Argentina'].copy()\n",
    "print('shape -', df_main_asps.shape[0])"
   ]
  },
  {
   "cell_type": "code",
   "execution_count": 39,
   "id": "89af39ff-f3f7-41d2-897e-753cfa6115f3",
   "metadata": {},
   "outputs": [
    {
     "name": "stdout",
     "output_type": "stream",
     "text": [
      "min date 2013-11-03 23:00:00\n",
      "max date 2023-10-06 02:00:00\n"
     ]
    }
   ],
   "source": [
    "print('min date', min(df_main_asps.game_utc))\n",
    "print('max date', max(df_main_asps.game_utc))"
   ]
  },
  {
   "cell_type": "code",
   "execution_count": 40,
   "id": "5644e353-1a99-451c-a1b2-dfb57182d86c",
   "metadata": {},
   "outputs": [
    {
     "name": "stdout",
     "output_type": "stream",
     "text": [
      "unique games - 565619\n"
     ]
    }
   ],
   "source": [
    "print('unique games -', len(df_main_asps.game_id.unique()))"
   ]
  },
  {
   "cell_type": "code",
   "execution_count": 41,
   "id": "51feb224-6454-4f5c-ab1e-362676768c30",
   "metadata": {},
   "outputs": [
    {
     "data": {
      "text/html": [
       "<div>\n",
       "<style scoped>\n",
       "    .dataframe tbody tr th:only-of-type {\n",
       "        vertical-align: middle;\n",
       "    }\n",
       "\n",
       "    .dataframe tbody tr th {\n",
       "        vertical-align: top;\n",
       "    }\n",
       "\n",
       "    .dataframe thead th {\n",
       "        text-align: right;\n",
       "    }\n",
       "</style>\n",
       "<table border=\"1\" class=\"dataframe\">\n",
       "  <thead>\n",
       "    <tr style=\"text-align: right;\">\n",
       "      <th></th>\n",
       "      <th>game_id</th>\n",
       "      <th>ligue_header</th>\n",
       "      <th>season_id</th>\n",
       "      <th>game_utc</th>\n",
       "      <th>goals</th>\n",
       "      <th>ligue</th>\n",
       "      <th>actual_city</th>\n",
       "      <th>actual_country</th>\n",
       "      <th>f_team</th>\n",
       "      <th>s_team</th>\n",
       "      <th>pos_f</th>\n",
       "      <th>pos_s</th>\n",
       "      <th>pts_f</th>\n",
       "      <th>pts_s</th>\n",
       "      <th>1</th>\n",
       "      <th>X</th>\n",
       "      <th>2</th>\n",
       "      <th>un_2.5</th>\n",
       "      <th>ov_2.5</th>\n",
       "      <th>country</th>\n",
       "      <th>city</th>\n",
       "      <th>lat</th>\n",
       "      <th>lon</th>\n",
       "      <th>f_point</th>\n",
       "      <th>s_point</th>\n",
       "      <th>type</th>\n",
       "      <th>approach</th>\n",
       "      <th>sing</th>\n",
       "      <th>tr_orb</th>\n",
       "      <th>bp_asp</th>\n",
       "      <th>den_point</th>\n",
       "      <th>smain_ch</th>\n",
       "      <th>fmain_ch</th>\n",
       "      <th>f_role</th>\n",
       "      <th>s_role</th>\n",
       "      <th>fs_asps</th>\n",
       "      <th>day_month_yr</th>\n",
       "      <th>cnt_asp_for_day</th>\n",
       "      <th>f_role_wt_pls</th>\n",
       "      <th>s_role_wt_pls</th>\n",
       "      <th>fs_asps_wt_pls</th>\n",
       "      <th>cnt_asp_wt_pls_for_day</th>\n",
       "      <th>month_yr</th>\n",
       "      <th>moon_day</th>\n",
       "      <th>nakshatras</th>\n",
       "    </tr>\n",
       "  </thead>\n",
       "  <tbody>\n",
       "    <tr>\n",
       "      <th>7161448</th>\n",
       "      <td>1989897</td>\n",
       "      <td>CONCACAF Central American Cup</td>\n",
       "      <td>Cup</td>\n",
       "      <td>2023-10-06 02:00:00</td>\n",
       "      <td>3:0</td>\n",
       "      <td>thr</td>\n",
       "      <td>None</td>\n",
       "      <td>None</td>\n",
       "      <td>Alajuelense</td>\n",
       "      <td>Cartagines</td>\n",
       "      <td>None</td>\n",
       "      <td>None</td>\n",
       "      <td>None</td>\n",
       "      <td>None</td>\n",
       "      <td>1.6</td>\n",
       "      <td>4.15</td>\n",
       "      <td>4.7</td>\n",
       "      <td>2.3</td>\n",
       "      <td>1.55</td>\n",
       "      <td>Costa Rica</td>\n",
       "      <td>Alajuela</td>\n",
       "      <td>10n0</td>\n",
       "      <td>84w12</td>\n",
       "      <td>Me</td>\n",
       "      <td>ANp</td>\n",
       "      <td>c</td>\n",
       "      <td>conv</td>\n",
       "      <td>equal</td>\n",
       "      <td>2.17</td>\n",
       "      <td>no</td>\n",
       "      <td>()</td>\n",
       "      <td></td>\n",
       "      <td>DPS</td>\n",
       "      <td>Me-DPS</td>\n",
       "      <td>ANp</td>\n",
       "      <td>Me-DPS_c_ANp</td>\n",
       "      <td>2023-10-06</td>\n",
       "      <td>3</td>\n",
       "      <td>DPS</td>\n",
       "      <td>ANp</td>\n",
       "      <td>DPS_c_ANp</td>\n",
       "      <td>3</td>\n",
       "      <td>10.2023</td>\n",
       "      <td>21</td>\n",
       "      <td>None</td>\n",
       "    </tr>\n",
       "  </tbody>\n",
       "</table>\n",
       "</div>"
      ],
      "text/plain": [
       "         game_id                   ligue_header season_id            game_utc  \\\n",
       "7161448  1989897  CONCACAF Central American Cup       Cup 2023-10-06 02:00:00   \n",
       "\n",
       "        goals ligue actual_city actual_country       f_team      s_team pos_f  \\\n",
       "7161448   3:0   thr        None           None  Alajuelense  Cartagines  None   \n",
       "\n",
       "        pos_s pts_f pts_s    1     X    2  un_2.5  ov_2.5     country  \\\n",
       "7161448  None  None  None  1.6  4.15  4.7     2.3    1.55  Costa Rica   \n",
       "\n",
       "             city   lat    lon f_point s_point type approach   sing  tr_orb  \\\n",
       "7161448  Alajuela  10n0  84w12      Me     ANp    c     conv  equal    2.17   \n",
       "\n",
       "        bp_asp den_point smain_ch fmain_ch  f_role s_role       fs_asps  \\\n",
       "7161448     no        ()               DPS  Me-DPS    ANp  Me-DPS_c_ANp   \n",
       "\n",
       "        day_month_yr  cnt_asp_for_day f_role_wt_pls s_role_wt_pls  \\\n",
       "7161448   2023-10-06                3           DPS           ANp   \n",
       "\n",
       "        fs_asps_wt_pls  cnt_asp_wt_pls_for_day month_yr  moon_day nakshatras  \n",
       "7161448      DPS_c_ANp                       3  10.2023        21       None  "
      ]
     },
     "execution_count": 41,
     "metadata": {},
     "output_type": "execute_result"
    }
   ],
   "source": [
    "df_main_asps.tail(1)"
   ]
  },
  {
   "cell_type": "code",
   "execution_count": 42,
   "id": "7e643394-8615-4d73-902a-7531b4b340e0",
   "metadata": {},
   "outputs": [
    {
     "data": {
      "text/plain": [
       "2019-09-07    8662\n",
       "2019-09-08    8497\n",
       "2023-07-15    8413\n",
       "2015-03-08    8028\n",
       "2019-10-13    7917\n",
       "2016-10-30    7505\n",
       "2015-02-08    7436\n",
       "2014-09-06    7322\n",
       "2020-01-12    7273\n",
       "2015-09-05    7263\n",
       "Name: day_month_yr, dtype: int64"
      ]
     },
     "execution_count": 42,
     "metadata": {},
     "output_type": "execute_result"
    }
   ],
   "source": [
    "df_main_asps.day_month_yr.value_counts(dropna=False)[:10]"
   ]
  },
  {
   "cell_type": "code",
   "execution_count": 43,
   "id": "a5b21adc-89eb-49fa-a380-2fc3448d57c2",
   "metadata": {},
   "outputs": [],
   "source": [
    "df_main_asps['week_day'] = df_main_asps.game_utc.map(lambda x: x.weekday())\n",
    "df_main_asps['day']      = df_main_asps.day_month_yr.map(lambda x: x[:2])"
   ]
  },
  {
   "cell_type": "code",
   "execution_count": 44,
   "id": "a40e57f0-4b8c-4f0b-9798-8ff3c072255d",
   "metadata": {},
   "outputs": [
    {
     "data": {
      "text/plain": [
       "2     1402436\n",
       "3     1309055\n",
       "1     1100799\n",
       "4      873291\n",
       "5      512232\n",
       "0      473512\n",
       "6      250508\n",
       "7      110997\n",
       "8       44586\n",
       "9       17973\n",
       "10       6198\n",
       "11       2832\n",
       "12       1171\n",
       "13        774\n",
       "14        299\n",
       "15        210\n",
       "16        138\n",
       "17         83\n",
       "18         63\n",
       "19         63\n",
       "20         36\n",
       "21         33\n",
       "22         30\n",
       "24         20\n",
       "23         16\n",
       "35         14\n",
       "32         14\n",
       "41         11\n",
       "28          9\n",
       "26          8\n",
       "30          8\n",
       "Name: goals_count, dtype: int64"
      ]
     },
     "execution_count": 44,
     "metadata": {},
     "output_type": "execute_result"
    }
   ],
   "source": [
    "df_main_asps['goals_count'] = df_main_asps.goals.map(lambda x: int(x.split(':')[0]) + int(x.split(':')[1]))\n",
    "df_main_asps.goals_count.value_counts(dropna=False)"
   ]
  },
  {
   "cell_type": "markdown",
   "id": "c85227ce-0b6f-4cd1-bf2c-d659ff2491d2",
   "metadata": {
    "jp-MarkdownHeadingCollapsed": true,
    "tags": []
   },
   "source": [
    "#### Moon aspects calculate"
   ]
  },
  {
   "cell_type": "code",
   "execution_count": 45,
   "id": "05972a7e-eaff-48cb-9434-d5c370c547ef",
   "metadata": {},
   "outputs": [],
   "source": [
    "# # Count Moon aspects per game for all planets, parses and their anteses\n",
    "# def count_Mn(arr):\n",
    "#     return (arr == 'Mn').sum()\n",
    "\n",
    "# gb_mn_count = df_main_asps.groupby('game_id').agg({'f_point': count_Mn}).reset_index()\n",
    "# gb_mn_count.rename(columns={'f_point':'count_Mn'}, inplace=True)\n",
    "# gb_mn_count.tail(3)"
   ]
  },
  {
   "cell_type": "code",
   "execution_count": 46,
   "id": "dd66acbe-0f38-4d65-9fa3-e96746498906",
   "metadata": {},
   "outputs": [],
   "source": [
    "# # Count main Moon aspects per game for V-planets, parses and their anteses and dispositors\n",
    "# main_vals = ['V1', 'V4', 'V7', 'V10', 'PF', 'PS'] # anteses must be find to\n",
    "\n",
    "# gb_mn_main_count = df_main_asps[df_main_asps.s_role_wt_pls.str.contains('|'.join(main_vals))].groupby('game_id').agg({'f_point': count_Mn}).reset_index()\n",
    "# gb_mn_main_count.rename(columns={'f_point':'count_Mn_main'}, inplace=True)\n",
    "# gb_mn_main_count.tail(3)"
   ]
  },
  {
   "cell_type": "code",
   "execution_count": 47,
   "id": "d7e8a078-1dfd-42ed-aa93-d5aa4f638f5f",
   "metadata": {},
   "outputs": [],
   "source": [
    "# # Count houses Moon aspects per game \n",
    "# house_vals = ['H1', 'H4', 'H7', 'H10'] \n",
    "\n",
    "# gb_mn_houses_count = df_main_asps[df_main_asps.f_point.str.contains('|'.join(house_vals))].groupby('game_id').agg({'s_point': count_Mn}).reset_index()\n",
    "# gb_mn_houses_count.rename(columns={'s_point':'count_Mn_houses'}, inplace=True)\n",
    "# gb_mn_houses_count.count_Mn_houses.value_counts()"
   ]
  },
  {
   "cell_type": "code",
   "execution_count": 48,
   "id": "17652ef6-f222-4db0-beb3-56dac4e800f5",
   "metadata": {},
   "outputs": [],
   "source": [
    "# print('shape -', df_main_asps.shape[0])\n",
    "# df_main_asps = df_main_asps.merge(gb_mn_count, how='left', left_on='game_id', right_on='game_id')\n",
    "# df_main_asps = df_main_asps.merge(gb_mn_main_count, how='left', left_on='game_id', right_on='game_id')\n",
    "# df_main_asps = df_main_asps.merge(gb_mn_houses_count, how='left', left_on='game_id', right_on='game_id')\n",
    "# print('shape -', df_main_asps.shape[0])\n",
    "# df_main_asps.tail(1)"
   ]
  },
  {
   "cell_type": "code",
   "execution_count": 49,
   "id": "7200a88c-3737-44e4-8788-7fca6de62992",
   "metadata": {},
   "outputs": [],
   "source": [
    "# df_main_asps['all_count_Mn']           = df_main_asps.count_Mn + df_main_asps.count_Mn_houses\n",
    "# df_main_asps['count_Mn_main_w_houses'] = df_main_asps.count_Mn_main + df_main_asps.count_Mn_houses"
   ]
  },
  {
   "cell_type": "markdown",
   "id": "c986d676-a671-47d5-ac50-628d1433aae4",
   "metadata": {},
   "source": [
    "##### Correlation calculate"
   ]
  },
  {
   "cell_type": "code",
   "execution_count": 50,
   "id": "6da8307b-9fea-45da-a560-2c6f83904599",
   "metadata": {},
   "outputs": [],
   "source": [
    "# col_1 = 'goals_count'\n",
    "# col_2 = 'all_count_Mn' # 'count_Mn', 'count_Mn_main', 'count_Mn_houses', 'all_count_Mn', 'count_Mn_main_w_houses'\n",
    "\n",
    "# pearson_corr  = df_main_asps[[col_1, col_2]].corr(method='pearson')\n",
    "# kendall_corr  = df_main_asps[[col_1, col_2]].corr(method='kendall')\n",
    "# spearman_corr = df_main_asps[[col_1, col_2]].corr(method='spearman')"
   ]
  },
  {
   "cell_type": "markdown",
   "id": "a05c5eb9-5b5d-4123-b714-2227bb4c1fce",
   "metadata": {},
   "source": [
    "#### ***************************************************************************************************************"
   ]
  },
  {
   "cell_type": "code",
   "execution_count": 51,
   "id": "ee8edd36-ab22-4ebb-a4ba-e890e60f41c7",
   "metadata": {},
   "outputs": [],
   "source": [
    "df_main_asps['1'] = pd.to_numeric(df_main_asps['1'], errors='coerce')\n",
    "df_main_asps['2'] = pd.to_numeric(df_main_asps['2'], errors='coerce')\n",
    "df_main_asps['X'] = pd.to_numeric(df_main_asps['X'], errors='coerce')\n",
    "df_main_asps['un_2.5'] = pd.to_numeric(df_main_asps['un_2.5'], errors='coerce')\n",
    "df_main_asps['ov_2.5'] = pd.to_numeric(df_main_asps['ov_2.5'], errors='coerce')\n",
    "\n",
    "df_main_asps.tr_orb = pd.to_numeric(df_main_asps.tr_orb, errors='coerce')"
   ]
  },
  {
   "cell_type": "code",
   "execution_count": 52,
   "id": "9a105481-1bb3-4060-839f-f89484c75d59",
   "metadata": {},
   "outputs": [],
   "source": [
    "# df_main_asps.ligue.value_counts(dropna=False)"
   ]
  },
  {
   "cell_type": "code",
   "execution_count": 53,
   "id": "f17e389c-e048-43dc-8a36-938297358049",
   "metadata": {},
   "outputs": [
    {
     "name": "stdout",
     "output_type": "stream",
     "text": [
      "shape - 6107419\n",
      "shape - 3128859\n"
     ]
    },
    {
     "data": {
      "text/html": [
       "<div>\n",
       "<style scoped>\n",
       "    .dataframe tbody tr th:only-of-type {\n",
       "        vertical-align: middle;\n",
       "    }\n",
       "\n",
       "    .dataframe tbody tr th {\n",
       "        vertical-align: top;\n",
       "    }\n",
       "\n",
       "    .dataframe thead th {\n",
       "        text-align: right;\n",
       "    }\n",
       "</style>\n",
       "<table border=\"1\" class=\"dataframe\">\n",
       "  <thead>\n",
       "    <tr style=\"text-align: right;\">\n",
       "      <th></th>\n",
       "      <th>game_id</th>\n",
       "      <th>ligue_header</th>\n",
       "      <th>season_id</th>\n",
       "      <th>game_utc</th>\n",
       "      <th>goals</th>\n",
       "      <th>ligue</th>\n",
       "      <th>actual_city</th>\n",
       "      <th>actual_country</th>\n",
       "      <th>f_team</th>\n",
       "      <th>s_team</th>\n",
       "      <th>pos_f</th>\n",
       "      <th>pos_s</th>\n",
       "      <th>pts_f</th>\n",
       "      <th>pts_s</th>\n",
       "      <th>1</th>\n",
       "      <th>X</th>\n",
       "      <th>2</th>\n",
       "      <th>un_2.5</th>\n",
       "      <th>ov_2.5</th>\n",
       "      <th>country</th>\n",
       "      <th>city</th>\n",
       "      <th>lat</th>\n",
       "      <th>lon</th>\n",
       "      <th>f_point</th>\n",
       "      <th>s_point</th>\n",
       "      <th>type</th>\n",
       "      <th>approach</th>\n",
       "      <th>sing</th>\n",
       "      <th>tr_orb</th>\n",
       "      <th>bp_asp</th>\n",
       "      <th>den_point</th>\n",
       "      <th>smain_ch</th>\n",
       "      <th>fmain_ch</th>\n",
       "      <th>f_role</th>\n",
       "      <th>s_role</th>\n",
       "      <th>fs_asps</th>\n",
       "      <th>day_month_yr</th>\n",
       "      <th>cnt_asp_for_day</th>\n",
       "      <th>f_role_wt_pls</th>\n",
       "      <th>s_role_wt_pls</th>\n",
       "      <th>fs_asps_wt_pls</th>\n",
       "      <th>cnt_asp_wt_pls_for_day</th>\n",
       "      <th>month_yr</th>\n",
       "      <th>moon_day</th>\n",
       "      <th>nakshatras</th>\n",
       "      <th>week_day</th>\n",
       "      <th>day</th>\n",
       "      <th>goals_count</th>\n",
       "    </tr>\n",
       "  </thead>\n",
       "  <tbody>\n",
       "    <tr>\n",
       "      <th>3128858</th>\n",
       "      <td>1989897</td>\n",
       "      <td>CONCACAF Central American Cup</td>\n",
       "      <td>Cup</td>\n",
       "      <td>2023-10-06 02:00:00</td>\n",
       "      <td>3:0</td>\n",
       "      <td>thr</td>\n",
       "      <td>None</td>\n",
       "      <td>None</td>\n",
       "      <td>Alajuelense</td>\n",
       "      <td>Cartagines</td>\n",
       "      <td>None</td>\n",
       "      <td>None</td>\n",
       "      <td>None</td>\n",
       "      <td>None</td>\n",
       "      <td>1.6</td>\n",
       "      <td>4.15</td>\n",
       "      <td>4.7</td>\n",
       "      <td>2.3</td>\n",
       "      <td>1.55</td>\n",
       "      <td>Costa Rica</td>\n",
       "      <td>Alajuela</td>\n",
       "      <td>10n0</td>\n",
       "      <td>84w12</td>\n",
       "      <td>Me</td>\n",
       "      <td>ANp</td>\n",
       "      <td>c</td>\n",
       "      <td>conv</td>\n",
       "      <td>equal</td>\n",
       "      <td>2.17</td>\n",
       "      <td>no</td>\n",
       "      <td>()</td>\n",
       "      <td></td>\n",
       "      <td>DPS</td>\n",
       "      <td>Me-DPS</td>\n",
       "      <td>ANp</td>\n",
       "      <td>Me-DPS_c_ANp</td>\n",
       "      <td>2023-10-06</td>\n",
       "      <td>3</td>\n",
       "      <td>DPS</td>\n",
       "      <td>ANp</td>\n",
       "      <td>DPS_c_ANp</td>\n",
       "      <td>3</td>\n",
       "      <td>10.2023</td>\n",
       "      <td>21</td>\n",
       "      <td>None</td>\n",
       "      <td>4</td>\n",
       "      <td>20</td>\n",
       "      <td>3</td>\n",
       "    </tr>\n",
       "  </tbody>\n",
       "</table>\n",
       "</div>"
      ],
      "text/plain": [
       "         game_id                   ligue_header season_id            game_utc  \\\n",
       "3128858  1989897  CONCACAF Central American Cup       Cup 2023-10-06 02:00:00   \n",
       "\n",
       "        goals ligue actual_city actual_country       f_team      s_team pos_f  \\\n",
       "3128858   3:0   thr        None           None  Alajuelense  Cartagines  None   \n",
       "\n",
       "        pos_s pts_f pts_s    1     X    2  un_2.5  ov_2.5     country  \\\n",
       "3128858  None  None  None  1.6  4.15  4.7     2.3    1.55  Costa Rica   \n",
       "\n",
       "             city   lat    lon f_point s_point type approach   sing  tr_orb  \\\n",
       "3128858  Alajuela  10n0  84w12      Me     ANp    c     conv  equal    2.17   \n",
       "\n",
       "        bp_asp den_point smain_ch fmain_ch  f_role s_role       fs_asps  \\\n",
       "3128858     no        ()               DPS  Me-DPS    ANp  Me-DPS_c_ANp   \n",
       "\n",
       "        day_month_yr  cnt_asp_for_day f_role_wt_pls s_role_wt_pls  \\\n",
       "3128858   2023-10-06                3           DPS           ANp   \n",
       "\n",
       "        fs_asps_wt_pls  cnt_asp_wt_pls_for_day month_yr  moon_day nakshatras  \\\n",
       "3128858      DPS_c_ANp                       3  10.2023        21       None   \n",
       "\n",
       "         week_day day  goals_count  \n",
       "3128858         4  20            3  "
      ]
     },
     "execution_count": 53,
     "metadata": {},
     "output_type": "execute_result"
    }
   ],
   "source": [
    "# Remove some ligues \n",
    "print('shape -', df_main_asps.shape[0])\n",
    "# ligues = ['top',] # 'top', 'sec', 'thr'\n",
    "# df_main_asps = df_main_asps[df_main_asps.ligue.isin(ligues)].copy() \n",
    "df_main_asps = df_main_asps[~df_main_asps['un_2.5'].map(lambda x: np.isnan(x))].copy()\n",
    "print('shape -', df_main_asps.shape[0])  \n",
    "df_main_asps.reset_index(drop=True, inplace=True)\n",
    "df_main_asps.tail(1)"
   ]
  },
  {
   "cell_type": "code",
   "execution_count": 54,
   "id": "89a44541-e91c-4186-b27b-8ee1ea4c8ed3",
   "metadata": {},
   "outputs": [
    {
     "name": "stdout",
     "output_type": "stream",
     "text": [
      "shape - 3128859\n",
      "shape - 3054806\n"
     ]
    },
    {
     "data": {
      "text/html": [
       "<div>\n",
       "<style scoped>\n",
       "    .dataframe tbody tr th:only-of-type {\n",
       "        vertical-align: middle;\n",
       "    }\n",
       "\n",
       "    .dataframe tbody tr th {\n",
       "        vertical-align: top;\n",
       "    }\n",
       "\n",
       "    .dataframe thead th {\n",
       "        text-align: right;\n",
       "    }\n",
       "</style>\n",
       "<table border=\"1\" class=\"dataframe\">\n",
       "  <thead>\n",
       "    <tr style=\"text-align: right;\">\n",
       "      <th></th>\n",
       "      <th>game_id</th>\n",
       "      <th>ligue_header</th>\n",
       "      <th>season_id</th>\n",
       "      <th>game_utc</th>\n",
       "      <th>goals</th>\n",
       "      <th>ligue</th>\n",
       "      <th>actual_city</th>\n",
       "      <th>actual_country</th>\n",
       "      <th>f_team</th>\n",
       "      <th>s_team</th>\n",
       "      <th>pos_f</th>\n",
       "      <th>pos_s</th>\n",
       "      <th>pts_f</th>\n",
       "      <th>pts_s</th>\n",
       "      <th>1</th>\n",
       "      <th>X</th>\n",
       "      <th>2</th>\n",
       "      <th>un_2.5</th>\n",
       "      <th>ov_2.5</th>\n",
       "      <th>country</th>\n",
       "      <th>city</th>\n",
       "      <th>lat</th>\n",
       "      <th>lon</th>\n",
       "      <th>f_point</th>\n",
       "      <th>s_point</th>\n",
       "      <th>type</th>\n",
       "      <th>approach</th>\n",
       "      <th>sing</th>\n",
       "      <th>tr_orb</th>\n",
       "      <th>bp_asp</th>\n",
       "      <th>den_point</th>\n",
       "      <th>smain_ch</th>\n",
       "      <th>fmain_ch</th>\n",
       "      <th>f_role</th>\n",
       "      <th>s_role</th>\n",
       "      <th>fs_asps</th>\n",
       "      <th>day_month_yr</th>\n",
       "      <th>cnt_asp_for_day</th>\n",
       "      <th>f_role_wt_pls</th>\n",
       "      <th>s_role_wt_pls</th>\n",
       "      <th>fs_asps_wt_pls</th>\n",
       "      <th>cnt_asp_wt_pls_for_day</th>\n",
       "      <th>month_yr</th>\n",
       "      <th>moon_day</th>\n",
       "      <th>nakshatras</th>\n",
       "      <th>week_day</th>\n",
       "      <th>day</th>\n",
       "      <th>goals_count</th>\n",
       "    </tr>\n",
       "  </thead>\n",
       "  <tbody>\n",
       "    <tr>\n",
       "      <th>3054805</th>\n",
       "      <td>1989897</td>\n",
       "      <td>CONCACAF Central American Cup</td>\n",
       "      <td>Cup</td>\n",
       "      <td>2023-10-06 02:00:00</td>\n",
       "      <td>3:0</td>\n",
       "      <td>thr</td>\n",
       "      <td>None</td>\n",
       "      <td>None</td>\n",
       "      <td>Alajuelense</td>\n",
       "      <td>Cartagines</td>\n",
       "      <td>None</td>\n",
       "      <td>None</td>\n",
       "      <td>None</td>\n",
       "      <td>None</td>\n",
       "      <td>1.6</td>\n",
       "      <td>4.15</td>\n",
       "      <td>4.7</td>\n",
       "      <td>2.3</td>\n",
       "      <td>1.55</td>\n",
       "      <td>Costa Rica</td>\n",
       "      <td>Alajuela</td>\n",
       "      <td>10n0</td>\n",
       "      <td>84w12</td>\n",
       "      <td>Me</td>\n",
       "      <td>ANp</td>\n",
       "      <td>c</td>\n",
       "      <td>conv</td>\n",
       "      <td>equal</td>\n",
       "      <td>2.17</td>\n",
       "      <td>no</td>\n",
       "      <td>()</td>\n",
       "      <td></td>\n",
       "      <td>DPS</td>\n",
       "      <td>Me-DPS</td>\n",
       "      <td>ANp</td>\n",
       "      <td>Me-DPS_c_ANp</td>\n",
       "      <td>2023-10-06</td>\n",
       "      <td>3</td>\n",
       "      <td>DPS</td>\n",
       "      <td>ANp</td>\n",
       "      <td>DPS_c_ANp</td>\n",
       "      <td>3</td>\n",
       "      <td>10.2023</td>\n",
       "      <td>21</td>\n",
       "      <td>None</td>\n",
       "      <td>4</td>\n",
       "      <td>20</td>\n",
       "      <td>3</td>\n",
       "    </tr>\n",
       "  </tbody>\n",
       "</table>\n",
       "</div>"
      ],
      "text/plain": [
       "         game_id                   ligue_header season_id            game_utc  \\\n",
       "3054805  1989897  CONCACAF Central American Cup       Cup 2023-10-06 02:00:00   \n",
       "\n",
       "        goals ligue actual_city actual_country       f_team      s_team pos_f  \\\n",
       "3054805   3:0   thr        None           None  Alajuelense  Cartagines  None   \n",
       "\n",
       "        pos_s pts_f pts_s    1     X    2  un_2.5  ov_2.5     country  \\\n",
       "3054805  None  None  None  1.6  4.15  4.7     2.3    1.55  Costa Rica   \n",
       "\n",
       "             city   lat    lon f_point s_point type approach   sing  tr_orb  \\\n",
       "3054805  Alajuela  10n0  84w12      Me     ANp    c     conv  equal    2.17   \n",
       "\n",
       "        bp_asp den_point smain_ch fmain_ch  f_role s_role       fs_asps  \\\n",
       "3054805     no        ()               DPS  Me-DPS    ANp  Me-DPS_c_ANp   \n",
       "\n",
       "        day_month_yr  cnt_asp_for_day f_role_wt_pls s_role_wt_pls  \\\n",
       "3054805   2023-10-06                3           DPS           ANp   \n",
       "\n",
       "        fs_asps_wt_pls  cnt_asp_wt_pls_for_day month_yr  moon_day nakshatras  \\\n",
       "3054805      DPS_c_ANp                       3  10.2023        21       None   \n",
       "\n",
       "         week_day day  goals_count  \n",
       "3054805         4  20            3  "
      ]
     },
     "execution_count": 54,
     "metadata": {},
     "output_type": "execute_result"
    }
   ],
   "source": [
    "# Remove friendly games \n",
    "print('shape -', df_main_asps.shape[0])\n",
    "df_main_asps = df_main_asps[df_main_asps.ligue_header != 'Friendly'].copy()\n",
    "# df_main_asps = df_main_asps[~df_main_asps['un_2.5'].map(lambda x: np.isnan(x))].copy()\n",
    "print('shape -', df_main_asps.shape[0])  \n",
    "df_main_asps.reset_index(drop=True, inplace=True)\n",
    "df_main_asps.tail(1)"
   ]
  },
  {
   "cell_type": "code",
   "execution_count": 55,
   "id": "4206bd5d-c86c-4838-a988-3f42f5f99dc4",
   "metadata": {},
   "outputs": [
    {
     "data": {
      "text/plain": [
       "Premier League      207709\n",
       "Regionalliga         69504\n",
       "Super League         68459\n",
       "Serie C              67227\n",
       "Primera División     66617\n",
       "Name: ligue_header, dtype: int64"
      ]
     },
     "execution_count": 55,
     "metadata": {},
     "output_type": "execute_result"
    }
   ],
   "source": [
    "df_main_asps.ligue_header.value_counts(dropna=False).head()"
   ]
  },
  {
   "cell_type": "code",
   "execution_count": 56,
   "id": "f7e596c3-1a26-4bc6-8e66-3ed17694cf73",
   "metadata": {},
   "outputs": [
    {
     "name": "stdout",
     "output_type": "stream",
     "text": [
      "shape - 3054806\n",
      "shape - 3054754\n"
     ]
    },
    {
     "data": {
      "text/html": [
       "<div>\n",
       "<style scoped>\n",
       "    .dataframe tbody tr th:only-of-type {\n",
       "        vertical-align: middle;\n",
       "    }\n",
       "\n",
       "    .dataframe tbody tr th {\n",
       "        vertical-align: top;\n",
       "    }\n",
       "\n",
       "    .dataframe thead th {\n",
       "        text-align: right;\n",
       "    }\n",
       "</style>\n",
       "<table border=\"1\" class=\"dataframe\">\n",
       "  <thead>\n",
       "    <tr style=\"text-align: right;\">\n",
       "      <th></th>\n",
       "      <th>game_id</th>\n",
       "      <th>ligue_header</th>\n",
       "      <th>season_id</th>\n",
       "      <th>game_utc</th>\n",
       "      <th>goals</th>\n",
       "      <th>ligue</th>\n",
       "      <th>actual_city</th>\n",
       "      <th>actual_country</th>\n",
       "      <th>f_team</th>\n",
       "      <th>s_team</th>\n",
       "      <th>pos_f</th>\n",
       "      <th>pos_s</th>\n",
       "      <th>pts_f</th>\n",
       "      <th>pts_s</th>\n",
       "      <th>1</th>\n",
       "      <th>X</th>\n",
       "      <th>2</th>\n",
       "      <th>un_2.5</th>\n",
       "      <th>ov_2.5</th>\n",
       "      <th>country</th>\n",
       "      <th>city</th>\n",
       "      <th>lat</th>\n",
       "      <th>lon</th>\n",
       "      <th>f_point</th>\n",
       "      <th>s_point</th>\n",
       "      <th>type</th>\n",
       "      <th>approach</th>\n",
       "      <th>sing</th>\n",
       "      <th>tr_orb</th>\n",
       "      <th>bp_asp</th>\n",
       "      <th>den_point</th>\n",
       "      <th>smain_ch</th>\n",
       "      <th>fmain_ch</th>\n",
       "      <th>f_role</th>\n",
       "      <th>s_role</th>\n",
       "      <th>fs_asps</th>\n",
       "      <th>day_month_yr</th>\n",
       "      <th>cnt_asp_for_day</th>\n",
       "      <th>f_role_wt_pls</th>\n",
       "      <th>s_role_wt_pls</th>\n",
       "      <th>fs_asps_wt_pls</th>\n",
       "      <th>cnt_asp_wt_pls_for_day</th>\n",
       "      <th>month_yr</th>\n",
       "      <th>moon_day</th>\n",
       "      <th>nakshatras</th>\n",
       "      <th>week_day</th>\n",
       "      <th>day</th>\n",
       "      <th>goals_count</th>\n",
       "    </tr>\n",
       "  </thead>\n",
       "  <tbody>\n",
       "    <tr>\n",
       "      <th>3054753</th>\n",
       "      <td>1989897</td>\n",
       "      <td>CONCACAF Central American Cup</td>\n",
       "      <td>Cup</td>\n",
       "      <td>2023-10-06 02:00:00</td>\n",
       "      <td>3:0</td>\n",
       "      <td>thr</td>\n",
       "      <td>None</td>\n",
       "      <td>None</td>\n",
       "      <td>Alajuelense</td>\n",
       "      <td>Cartagines</td>\n",
       "      <td>None</td>\n",
       "      <td>None</td>\n",
       "      <td>None</td>\n",
       "      <td>None</td>\n",
       "      <td>1.6</td>\n",
       "      <td>4.15</td>\n",
       "      <td>4.7</td>\n",
       "      <td>2.3</td>\n",
       "      <td>1.55</td>\n",
       "      <td>Costa Rica</td>\n",
       "      <td>Alajuela</td>\n",
       "      <td>10n0</td>\n",
       "      <td>84w12</td>\n",
       "      <td>Me</td>\n",
       "      <td>ANp</td>\n",
       "      <td>c</td>\n",
       "      <td>conv</td>\n",
       "      <td>equal</td>\n",
       "      <td>2.17</td>\n",
       "      <td>no</td>\n",
       "      <td>()</td>\n",
       "      <td></td>\n",
       "      <td>DPS</td>\n",
       "      <td>Me-DPS</td>\n",
       "      <td>ANp</td>\n",
       "      <td>Me-DPS_c_ANp</td>\n",
       "      <td>2023-10-06</td>\n",
       "      <td>3</td>\n",
       "      <td>DPS</td>\n",
       "      <td>ANp</td>\n",
       "      <td>DPS_c_ANp</td>\n",
       "      <td>3</td>\n",
       "      <td>10.2023</td>\n",
       "      <td>21</td>\n",
       "      <td>None</td>\n",
       "      <td>4</td>\n",
       "      <td>20</td>\n",
       "      <td>3</td>\n",
       "    </tr>\n",
       "  </tbody>\n",
       "</table>\n",
       "</div>"
      ],
      "text/plain": [
       "         game_id                   ligue_header season_id            game_utc  \\\n",
       "3054753  1989897  CONCACAF Central American Cup       Cup 2023-10-06 02:00:00   \n",
       "\n",
       "        goals ligue actual_city actual_country       f_team      s_team pos_f  \\\n",
       "3054753   3:0   thr        None           None  Alajuelense  Cartagines  None   \n",
       "\n",
       "        pos_s pts_f pts_s    1     X    2  un_2.5  ov_2.5     country  \\\n",
       "3054753  None  None  None  1.6  4.15  4.7     2.3    1.55  Costa Rica   \n",
       "\n",
       "             city   lat    lon f_point s_point type approach   sing  tr_orb  \\\n",
       "3054753  Alajuela  10n0  84w12      Me     ANp    c     conv  equal    2.17   \n",
       "\n",
       "        bp_asp den_point smain_ch fmain_ch  f_role s_role       fs_asps  \\\n",
       "3054753     no        ()               DPS  Me-DPS    ANp  Me-DPS_c_ANp   \n",
       "\n",
       "        day_month_yr  cnt_asp_for_day f_role_wt_pls s_role_wt_pls  \\\n",
       "3054753   2023-10-06                3           DPS           ANp   \n",
       "\n",
       "        fs_asps_wt_pls  cnt_asp_wt_pls_for_day month_yr  moon_day nakshatras  \\\n",
       "3054753      DPS_c_ANp                       3  10.2023        21       None   \n",
       "\n",
       "         week_day day  goals_count  \n",
       "3054753         4  20            3  "
      ]
     },
     "execution_count": 56,
     "metadata": {},
     "output_type": "execute_result"
    }
   ],
   "source": [
    "# Remove games without bets coeff\n",
    "print('shape -', df_main_asps.shape[0])\n",
    "df_main_asps = df_main_asps[~df_main_asps['1'].map(lambda x: np.isnan(x))].copy()\n",
    "# df_main_asps = df_main_asps[~df_main_asps['un_2.5'].map(lambda x: np.isnan(x))].copy()\n",
    "print('shape -', df_main_asps.shape[0])  \n",
    "df_main_asps.reset_index(drop=True, inplace=True)\n",
    "df_main_asps.tail(1)"
   ]
  },
  {
   "cell_type": "markdown",
   "id": "949bc249-77ce-4e9c-87c8-fa48ac8ecb32",
   "metadata": {
    "jp-MarkdownHeadingCollapsed": true,
    "tags": []
   },
   "source": [
    "#### Moon days calculate"
   ]
  },
  {
   "cell_type": "code",
   "execution_count": 57,
   "id": "14d568c4-f4e3-4f64-b8a2-0616c791ecdf",
   "metadata": {},
   "outputs": [],
   "source": [
    "# df_main_asps['num_lat'] = df_main_asps.lat.map(lambda x: MoonDaysCalculate.transform_lat_lon_to_nimeric(x))\n",
    "# df_main_asps['num_lon'] = df_main_asps.lon.map(lambda x: MoonDaysCalculate.transform_lat_lon_to_nimeric(x))"
   ]
  },
  {
   "cell_type": "code",
   "execution_count": 58,
   "id": "46f588f2-4adc-4090-b10b-887545a4dbdb",
   "metadata": {},
   "outputs": [],
   "source": [
    "# # lat or lon format:  (-1, 7, 0)\n",
    "# moon_lat = df_main_asps.num_lat.map(lambda x: ( int(re.split('\\.', str(x))[0]), int(re.split('\\.', str(x))[1]), 0 ))\n",
    "# moon_lon = df_main_asps.num_lon.map(lambda x: ( int(re.split('\\.', str(x))[0]), int(re.split('\\.', str(x))[1]), 0 ))\n",
    "# moon_lon[:3]"
   ]
  },
  {
   "cell_type": "code",
   "execution_count": 59,
   "id": "1f3efa5b-bd45-41ef-b2f3-204d24a457a5",
   "metadata": {},
   "outputs": [],
   "source": [
    "# # date_time: (2022, 9, 16, 19, 0, 0)\n",
    "# moon_date_splt = df_main_asps.game_utc.map(lambda x: ( int(re.split('[- :]', str(x))[0]), int(re.split('[- :]', str(x))[1]), int(re.split('[- :]', str(x))[2]), \n",
    "#                                                        int(re.split('[- :]', str(x))[3]), int(re.split('[- :]', str(x))[4]), int(re.split('[- :]', str(x))[5]) ))\n",
    "# moon_date_splt[:3]"
   ]
  },
  {
   "cell_type": "code",
   "execution_count": 60,
   "id": "ac0d4e12-6831-458f-99ea-d515f704c624",
   "metadata": {},
   "outputs": [],
   "source": [
    "# df_moon_days = pd.DataFrame({'moon_lat': moon_lat, 'moon_lon': moon_lon, 'moon_date_splt': moon_date_splt})\n",
    "# df_moon_days.head(3)"
   ]
  },
  {
   "cell_type": "code",
   "execution_count": 61,
   "id": "d2bc9eed-5c6a-46ab-b138-ea81df3f731e",
   "metadata": {},
   "outputs": [],
   "source": [
    "# df_moon_days['moon_day'] = df_moon_days.apply(lambda x: MoonDaysCalculate.moon_day_calculate(lat=x[0], lon=x[1], date_time=x[2]), axis=1)\n",
    "# print('shape - ', df_moon_days.shape[0])\n",
    "# df_moon_days.head(3)"
   ]
  },
  {
   "cell_type": "code",
   "execution_count": 62,
   "id": "5a2b666f-2a47-4018-99b5-a4f6729b8a75",
   "metadata": {},
   "outputs": [],
   "source": [
    "# df_main_asps['moon_day'] = df_moon_days.moon_day"
   ]
  },
  {
   "cell_type": "code",
   "execution_count": 63,
   "id": "37599732-f8d8-48f4-bbbf-cd3b8688ee84",
   "metadata": {},
   "outputs": [],
   "source": [
    "# df_main_asps.moon_day.value_counts(dropna=False)[:3]"
   ]
  },
  {
   "cell_type": "code",
   "execution_count": 64,
   "id": "5d65d972-12c4-41cd-b179-1acd3571127c",
   "metadata": {},
   "outputs": [],
   "source": [
    "# df_main_asps.drop(columns=['num_lat', 'num_lon'], inplace=True)"
   ]
  },
  {
   "cell_type": "code",
   "execution_count": 65,
   "id": "997bfeba-8e7f-4623-8003-046fbe0c839a",
   "metadata": {},
   "outputs": [],
   "source": [
    "# file = open('pickle_files/aspected_files/df_for_statistic_05_10_2023_to_03_11_2013_w_moon_days', 'wb')\n",
    "# pickle.dump(df_main_asps, file)  \n",
    "# file.close()"
   ]
  },
  {
   "cell_type": "markdown",
   "id": "709cac36-9051-4b12-a057-41e75b56e185",
   "metadata": {
    "jp-MarkdownHeadingCollapsed": true,
    "tags": []
   },
   "source": [
    "#### Count goals research"
   ]
  },
  {
   "cell_type": "code",
   "execution_count": 66,
   "id": "cd9b8e04-9ca8-4be3-bc56-84b76e0ee960",
   "metadata": {},
   "outputs": [],
   "source": [
    "# df_main_asps['bets_result_un_2.5'] = df_main_asps[['goals_count', 'un_2.5']].apply(lambda x: x[1] if x[0] < 3 else 0, axis=1)\n",
    "# df_main_asps['bets_result_ov_2.5'] = df_main_asps[['goals_count', 'ov_2.5']].apply(lambda x: x[1] if x[0] > 2 else 0, axis=1)"
   ]
  },
  {
   "cell_type": "code",
   "execution_count": 67,
   "id": "afa43419-1581-44a0-b406-e7c53fe2bbb1",
   "metadata": {},
   "outputs": [],
   "source": [
    "# df_unique_games = df_main_asps.drop_duplicates(subset='game_id', keep='first')\n",
    "# print('shape -', df_unique_games.shape[0])  \n",
    "# df_unique_games.reset_index(drop=True, inplace=True)\n",
    "# df_unique_games.tail(1)"
   ]
  },
  {
   "cell_type": "code",
   "execution_count": 68,
   "id": "cb29084a-cd7c-49ed-9330-eb9d4d0bdfd7",
   "metadata": {},
   "outputs": [],
   "source": [
    "# df_unique_games[df_unique_games['bets_result_ov_2.5'].isna()].shape[0]"
   ]
  },
  {
   "cell_type": "code",
   "execution_count": 69,
   "id": "4b112139-dc64-441d-b125-8f4e252ab5b0",
   "metadata": {},
   "outputs": [],
   "source": [
    "# df_unique_games[df_unique_games['bets_result_un_2.5'].isna()].shape[0]"
   ]
  },
  {
   "cell_type": "code",
   "execution_count": 70,
   "id": "0f7c76b4-2cc4-423a-96eb-2afc909f1e23",
   "metadata": {},
   "outputs": [],
   "source": [
    "# print('shape -', df_unique_games.shape[0])\n",
    "# df_unique_games = df_unique_games[(~df_unique_games['bets_result_un_2.5'].isna()) & (~df_unique_games['bets_result_ov_2.5'].isna())]\n",
    "# print('shape -', df_unique_games.shape[0])  \n",
    "# df_unique_games.reset_index(drop=True, inplace=True)\n",
    "# df_unique_games.tail(1)"
   ]
  },
  {
   "cell_type": "code",
   "execution_count": 71,
   "id": "9efc5005-d14d-4763-9884-3cd12cbfe1b1",
   "metadata": {},
   "outputs": [],
   "source": [
    "# print('shape -', df_main_asps.shape[0])\n",
    "# df_main_asps = df_main_asps[(~df_main_asps['bets_result_un_2.5'].isna()) & (~df_main_asps['bets_result_ov_2.5'].isna())]\n",
    "# print('shape -', df_main_asps.shape[0])  \n",
    "# df_main_asps.reset_index(drop=True, inplace=True)\n",
    "# df_main_asps.tail(1)"
   ]
  },
  {
   "cell_type": "code",
   "execution_count": 72,
   "id": "bb73d5a6-66f7-4ea0-b6ba-060bcf0b2f3a",
   "metadata": {},
   "outputs": [],
   "source": [
    "# # Remove some asoects\n",
    "# remove_aspects = ['Ch_o_ANp', 'Pl_o_ANN', 'SN_c_APl', 'St_c_APl', 'NN_c_AUr', 'Ur_o_ASN', 'Np_o_AUr', 'Np_c_SN', 'SN_c_ANN', 'Ur_c_NN', 'NN_c_ACh', 'Pl_c_SN', 'Ch_o_ASN', 'Ch_c_SN ', 'Ch_o_AUr']\n",
    "# print('shape -', df_main_asps.shape[0])\n",
    "# df_main_asps = df_main_asps[~df_main_asps.fs_asps_wt_pls.isin(remove_aspects)]\n",
    "# df_main_asps.reset_index(drop=True, inplace=True)\n",
    "# print('shape -', df_main_asps.shape[0])"
   ]
  },
  {
   "cell_type": "code",
   "execution_count": 73,
   "id": "ccff10da-7092-406e-a7bb-3443b2a6f50e",
   "metadata": {},
   "outputs": [],
   "source": [
    "# print('games under 2.5 goals     - ', df_unique_games[df_unique_games.goals_count < 3].goals_count.count())\n",
    "# print('mean bets value under 2.5 - ', round(df_unique_games['un_2.5'].mean(), 3))\n",
    "# print('sum bets result under 2.5 - ', round(df_unique_games['bets_result_un_2.5'].sum(), 3))"
   ]
  },
  {
   "cell_type": "code",
   "execution_count": 74,
   "id": "74caf05c-6cc4-4524-9805-8a3ae1b32ef8",
   "metadata": {},
   "outputs": [],
   "source": [
    "# print('games over 2.5 goals     - ', df_unique_games[df_unique_games.goals_count > 2].goals_count.count())\n",
    "# print('mean bets value over 2.5 - ', round(df_unique_games['ov_2.5'].mean(), 3))\n",
    "# print('sum bets result over 2.5 - ', round(df_unique_games['bets_result_ov_2.5'].sum(), 3))"
   ]
  },
  {
   "cell_type": "code",
   "execution_count": 75,
   "id": "56ce1030-65e3-4103-861c-b2f5e81b31f3",
   "metadata": {},
   "outputs": [],
   "source": [
    "# # Remove some valuable orbs\n",
    "# print('shape -', df_main_asps.shape[0])\n",
    "# df_main_asps = df_main_asps[df_main_asps.tr_orb <= 1]\n",
    "# print('shape -', df_main_asps.shape[0])  \n",
    "# df_main_asps.reset_index(drop=True, inplace=True)\n",
    "# df_main_asps.tail(1)"
   ]
  },
  {
   "cell_type": "code",
   "execution_count": 76,
   "id": "14c370bb-f861-4b50-b445-a94aa3aa7aac",
   "metadata": {},
   "outputs": [],
   "source": [
    "# col_mn = 'count_Mn_main' # 'count_Mn', 'count_Mn_main', 'count_Mn_houses', 'all_count_Mn', 'count_Mn_main_w_houses'\n",
    "\n",
    "# df_mn_count = df_main_asps[~df_main_asps[col_mn].isna()].copy()\n",
    "# df_mn_count.reset_index(drop=True, inplace=True)\n",
    "# df_mn_count.tail(2)"
   ]
  },
  {
   "cell_type": "code",
   "execution_count": 77,
   "id": "9f37fd0d-61a6-4423-830d-4651ed9f0562",
   "metadata": {},
   "outputs": [],
   "source": [
    "# df_mn_count.drop_duplicates(subset='game_id', keep='first', inplace=True)\n",
    "# df_mn_count[col_mn].value_counts(dropna=False)[:3]"
   ]
  },
  {
   "cell_type": "code",
   "execution_count": 78,
   "id": "9f3411ba-a4b6-4b85-9f80-914d195f9174",
   "metadata": {},
   "outputs": [],
   "source": [
    "# df_nakshatras = df_main_asps[~df_main_asps.nakshatras.isna()].copy()\n",
    "# df_nakshatras.reset_index(drop=True, inplace=True)\n",
    "# df_nakshatras.tail(2)"
   ]
  },
  {
   "cell_type": "code",
   "execution_count": 79,
   "id": "52648b96-fdc8-4587-aacd-8dafa6a93afb",
   "metadata": {},
   "outputs": [],
   "source": [
    "# df_nakshatras.drop_duplicates(subset='game_id', keep='first', inplace=True)\n",
    "# df_nakshatras.nakshatras.value_counts(dropna=False)[:3]"
   ]
  },
  {
   "cell_type": "code",
   "execution_count": 80,
   "id": "c95c584c-de6a-4e5e-91bd-1c0b4ca8e20c",
   "metadata": {},
   "outputs": [],
   "source": [
    "# col_names     = [col_mn] # 'fs_asps', 'fs_asps_wt_pls', 'moon_day', 'day',  'week_day', 'nakshatras', col_mn\n",
    "# df_stat_goals = df_mn_count.groupby(col_names).agg({'game_id':'nunique', 'bets_result_un_2.5':'sum', 'bets_result_ov_2.5':'sum'}) # df_main_asps, df_unique_games, df_nakshatras, df_mn_count \n",
    "\n",
    "# df_stat_goals['profit_un_2.5'] = round(df_stat_goals['bets_result_un_2.5'] / df_stat_goals.game_id, 2)\n",
    "# df_stat_goals['profit_ov_2.5'] = round(df_stat_goals['bets_result_ov_2.5'] / df_stat_goals.game_id, 2)"
   ]
  },
  {
   "cell_type": "code",
   "execution_count": 81,
   "id": "f7ee6c40-079c-40ff-9c20-23af6d536929",
   "metadata": {},
   "outputs": [],
   "source": [
    "# df_stat_goals[(df_stat_goals.game_id > 300)].sort_values(by='profit_un_2.5', ascending=False).head()"
   ]
  },
  {
   "cell_type": "code",
   "execution_count": 82,
   "id": "6f3088ee-7774-499e-8f02-23496577fba7",
   "metadata": {},
   "outputs": [],
   "source": [
    "# df_stat_goals[(df_stat_goals.game_id > 300)].sort_values(by='profit_ov_2.5', ascending=False).head()"
   ]
  },
  {
   "cell_type": "code",
   "execution_count": 83,
   "id": "84e08818-b43f-48de-b47b-3d495061b5d0",
   "metadata": {},
   "outputs": [],
   "source": [
    "# first_asp_lt = df_main_asps[(df_main_asps.fs_asps_wt_pls == 'V7-DPS_c_ANp')].game_id.to_list()\n",
    "# len(first_asp_lt)"
   ]
  },
  {
   "cell_type": "code",
   "execution_count": 84,
   "id": "68f41520-5b66-4dbb-93a3-fbb4c601e3f8",
   "metadata": {},
   "outputs": [],
   "source": [
    "# sec_asp_lt = df_main_asps[(df_main_asps.fs_asps_wt_pls == 'Pl_o_DPF')].game_id.to_list()\n",
    "# len(sec_asp_lt)"
   ]
  },
  {
   "cell_type": "code",
   "execution_count": 85,
   "id": "7f541c62-1c07-450f-b5e5-95302855338f",
   "metadata": {},
   "outputs": [],
   "source": [
    "# both_asps_lt_1 = [x for x in sec_asp_lt if x in first_asp_lt]\n",
    "# both_asps_lt_2 = [y for y in first_asp_lt if y in sec_asp_lt]\n",
    "# both_asps_lt = list(set(both_asps_lt_1 + both_asps_lt_2))\n",
    "# len(both_asps_lt)"
   ]
  },
  {
   "cell_type": "code",
   "execution_count": 86,
   "id": "581cbb98-2964-4298-952c-f767de313b13",
   "metadata": {},
   "outputs": [],
   "source": [
    "# df_main_asps[df_main_asps.game_id.isin(both_asps_lt)]#.game_id.unique()"
   ]
  },
  {
   "cell_type": "code",
   "execution_count": 87,
   "id": "44899802-958b-4cfd-a722-280799b23316",
   "metadata": {},
   "outputs": [],
   "source": [
    "# df_main_asps[df_main_asps.game_id.isin(both_asps_lt)]['bets_result_un_2.5']"
   ]
  },
  {
   "cell_type": "code",
   "execution_count": 88,
   "id": "0b76f646-7163-4d7f-be67-8ce50a0438d0",
   "metadata": {},
   "outputs": [],
   "source": [
    "# df_main_asps[df_main_asps.game_id.isin(both_asps_lt)]['bets_result_un_2.5'].mean()"
   ]
  },
  {
   "cell_type": "code",
   "execution_count": 89,
   "id": "dd86cee6-60c3-49a9-876a-40e0e8be84b0",
   "metadata": {},
   "outputs": [],
   "source": [
    "# df_main_asps[df_main_asps.game_id.isin(both_asps_lt)]['bets_result_ov_2.5'].mean()"
   ]
  },
  {
   "cell_type": "code",
   "execution_count": 90,
   "id": "006fd20c-89bf-4e59-8506-24249802c365",
   "metadata": {},
   "outputs": [],
   "source": [
    "# col_names     = ['fs_asps', 'cnt_asp_for_day', 'fs_asps_wt_pls', 'cnt_asp_wt_pls_for_day'][2:3]\n",
    "# col_names     = ['fs_asps_wt_pls', 'month_yr']\n",
    "# df_stat_goals = df_main_asps.groupby(col_names).agg({'game_id':'nunique', 'bets_result_un_2.5':'sum', 'bets_result_ov_2.5':'sum'})\n",
    "\n",
    "# df_stat_goals['profit_un_2.5'] = round(df_stat_goals['bets_result_un_2.5'] / df_stat_goals.game_id, 2)\n",
    "# df_stat_goals['profit_ov_2.5'] = round(df_stat_goals['bets_result_ov_2.5'] / df_stat_goals.game_id, 2)"
   ]
  },
  {
   "cell_type": "code",
   "execution_count": 91,
   "id": "c9618018-74dc-4310-b9cc-f252eb03a31d",
   "metadata": {},
   "outputs": [],
   "source": [
    "# df_stat_goals[(df_stat_goals.game_id > 1500)].sort_values(by='profit_ov_2.5', ascending=False).head()"
   ]
  },
  {
   "cell_type": "code",
   "execution_count": 92,
   "id": "589983c0-7167-4ed9-a4bd-e7017309a740",
   "metadata": {},
   "outputs": [],
   "source": [
    "# col = 'V7-DPS_c_ANp'\n",
    "# df_stat_goals[df_stat_goals.index.isin([col], level=0)]#.game_id.count()"
   ]
  },
  {
   "cell_type": "code",
   "execution_count": 93,
   "id": "f6593cc6-6cfc-4809-8669-0e37eb22a519",
   "metadata": {},
   "outputs": [],
   "source": [
    "# col_prof = ['profit_un_2.5', 'profit_ov_2.5'][0]\n",
    "\n",
    "# df_stat_goals[df_stat_goals.index.isin([col], level=0)][col_prof].mean()"
   ]
  },
  {
   "cell_type": "code",
   "execution_count": 94,
   "id": "feabb8ba-1b57-4934-bdc5-25b79012996f",
   "metadata": {},
   "outputs": [],
   "source": [
    "# df_stat_goals[df_stat_goals.index.isin([col], level=0)][col_prof].count()"
   ]
  },
  {
   "cell_type": "code",
   "execution_count": 95,
   "id": "f9179bf6-9df5-4453-b9af-58bfa21d1ceb",
   "metadata": {},
   "outputs": [],
   "source": [
    "# df_stat_goals[df_stat_goals.index.isin([col], level=0) & (df_stat_goals[col_prof] >= 1)][col_prof].count()"
   ]
  },
  {
   "cell_type": "code",
   "execution_count": 96,
   "id": "7893776b-e466-48f4-8c42-5c05d77bc9c7",
   "metadata": {},
   "outputs": [],
   "source": [
    "# df_stat_goals[df_stat_goals.index.isin([col], level=0) & (df_stat_goals[col_prof] >= 1)][col_prof].mean()"
   ]
  },
  {
   "cell_type": "code",
   "execution_count": 97,
   "id": "12530523-83e5-4d26-8c09-3d76445e800b",
   "metadata": {},
   "outputs": [],
   "source": [
    "# df_stat_goals[df_stat_goals.index.isin([col], level=0) & (df_stat_goals[col_prof] <= 1)][col_prof].count()"
   ]
  },
  {
   "cell_type": "code",
   "execution_count": 98,
   "id": "d8f39433-9500-46c6-af19-ccaa48b2b757",
   "metadata": {},
   "outputs": [],
   "source": [
    "# df_stat_goals[df_stat_goals.index.isin([col], level=0) & (df_stat_goals[col_prof] <= 1)][col_prof].mean()"
   ]
  },
  {
   "cell_type": "code",
   "execution_count": 99,
   "id": "9b791ec8-c59c-4b8e-9113-3d3ebcdaba86",
   "metadata": {},
   "outputs": [],
   "source": [
    "# Stop"
   ]
  },
  {
   "cell_type": "markdown",
   "id": "6983b5cf-14c9-4ada-8630-d6c94366d5b6",
   "metadata": {},
   "source": [
    "#### ******************************************************************************************************"
   ]
  },
  {
   "cell_type": "code",
   "execution_count": 100,
   "id": "9f7565da-17aa-432b-b6f8-536167032acd",
   "metadata": {},
   "outputs": [
    {
     "name": "stdout",
     "output_type": "stream",
     "text": [
      "shape - 3054754\n",
      "shape - 3045051\n"
     ]
    },
    {
     "data": {
      "text/html": [
       "<div>\n",
       "<style scoped>\n",
       "    .dataframe tbody tr th:only-of-type {\n",
       "        vertical-align: middle;\n",
       "    }\n",
       "\n",
       "    .dataframe tbody tr th {\n",
       "        vertical-align: top;\n",
       "    }\n",
       "\n",
       "    .dataframe thead th {\n",
       "        text-align: right;\n",
       "    }\n",
       "</style>\n",
       "<table border=\"1\" class=\"dataframe\">\n",
       "  <thead>\n",
       "    <tr style=\"text-align: right;\">\n",
       "      <th></th>\n",
       "      <th>game_id</th>\n",
       "      <th>ligue_header</th>\n",
       "      <th>season_id</th>\n",
       "      <th>game_utc</th>\n",
       "      <th>goals</th>\n",
       "      <th>ligue</th>\n",
       "      <th>actual_city</th>\n",
       "      <th>actual_country</th>\n",
       "      <th>f_team</th>\n",
       "      <th>s_team</th>\n",
       "      <th>pos_f</th>\n",
       "      <th>pos_s</th>\n",
       "      <th>pts_f</th>\n",
       "      <th>pts_s</th>\n",
       "      <th>1</th>\n",
       "      <th>X</th>\n",
       "      <th>2</th>\n",
       "      <th>un_2.5</th>\n",
       "      <th>ov_2.5</th>\n",
       "      <th>country</th>\n",
       "      <th>city</th>\n",
       "      <th>lat</th>\n",
       "      <th>lon</th>\n",
       "      <th>f_point</th>\n",
       "      <th>s_point</th>\n",
       "      <th>type</th>\n",
       "      <th>approach</th>\n",
       "      <th>sing</th>\n",
       "      <th>tr_orb</th>\n",
       "      <th>bp_asp</th>\n",
       "      <th>den_point</th>\n",
       "      <th>smain_ch</th>\n",
       "      <th>fmain_ch</th>\n",
       "      <th>f_role</th>\n",
       "      <th>s_role</th>\n",
       "      <th>fs_asps</th>\n",
       "      <th>day_month_yr</th>\n",
       "      <th>cnt_asp_for_day</th>\n",
       "      <th>f_role_wt_pls</th>\n",
       "      <th>s_role_wt_pls</th>\n",
       "      <th>fs_asps_wt_pls</th>\n",
       "      <th>cnt_asp_wt_pls_for_day</th>\n",
       "      <th>month_yr</th>\n",
       "      <th>moon_day</th>\n",
       "      <th>nakshatras</th>\n",
       "      <th>week_day</th>\n",
       "      <th>day</th>\n",
       "      <th>goals_count</th>\n",
       "    </tr>\n",
       "  </thead>\n",
       "  <tbody>\n",
       "    <tr>\n",
       "      <th>3045050</th>\n",
       "      <td>1989897</td>\n",
       "      <td>CONCACAF Central American Cup</td>\n",
       "      <td>Cup</td>\n",
       "      <td>2023-10-06 02:00:00</td>\n",
       "      <td>3:0</td>\n",
       "      <td>thr</td>\n",
       "      <td>None</td>\n",
       "      <td>None</td>\n",
       "      <td>Alajuelense</td>\n",
       "      <td>Cartagines</td>\n",
       "      <td>None</td>\n",
       "      <td>None</td>\n",
       "      <td>None</td>\n",
       "      <td>None</td>\n",
       "      <td>1.6</td>\n",
       "      <td>4.15</td>\n",
       "      <td>4.7</td>\n",
       "      <td>2.3</td>\n",
       "      <td>1.55</td>\n",
       "      <td>Costa Rica</td>\n",
       "      <td>Alajuela</td>\n",
       "      <td>10n0</td>\n",
       "      <td>84w12</td>\n",
       "      <td>Me</td>\n",
       "      <td>ANp</td>\n",
       "      <td>c</td>\n",
       "      <td>conv</td>\n",
       "      <td>equal</td>\n",
       "      <td>2.17</td>\n",
       "      <td>no</td>\n",
       "      <td>()</td>\n",
       "      <td></td>\n",
       "      <td>DPS</td>\n",
       "      <td>Me-DPS</td>\n",
       "      <td>ANp</td>\n",
       "      <td>Me-DPS_c_ANp</td>\n",
       "      <td>2023-10-06</td>\n",
       "      <td>3</td>\n",
       "      <td>DPS</td>\n",
       "      <td>ANp</td>\n",
       "      <td>DPS_c_ANp</td>\n",
       "      <td>3</td>\n",
       "      <td>10.2023</td>\n",
       "      <td>21</td>\n",
       "      <td>None</td>\n",
       "      <td>4</td>\n",
       "      <td>20</td>\n",
       "      <td>3</td>\n",
       "    </tr>\n",
       "  </tbody>\n",
       "</table>\n",
       "</div>"
      ],
      "text/plain": [
       "         game_id                   ligue_header season_id            game_utc  \\\n",
       "3045050  1989897  CONCACAF Central American Cup       Cup 2023-10-06 02:00:00   \n",
       "\n",
       "        goals ligue actual_city actual_country       f_team      s_team pos_f  \\\n",
       "3045050   3:0   thr        None           None  Alajuelense  Cartagines  None   \n",
       "\n",
       "        pos_s pts_f pts_s    1     X    2  un_2.5  ov_2.5     country  \\\n",
       "3045050  None  None  None  1.6  4.15  4.7     2.3    1.55  Costa Rica   \n",
       "\n",
       "             city   lat    lon f_point s_point type approach   sing  tr_orb  \\\n",
       "3045050  Alajuela  10n0  84w12      Me     ANp    c     conv  equal    2.17   \n",
       "\n",
       "        bp_asp den_point smain_ch fmain_ch  f_role s_role       fs_asps  \\\n",
       "3045050     no        ()               DPS  Me-DPS    ANp  Me-DPS_c_ANp   \n",
       "\n",
       "        day_month_yr  cnt_asp_for_day f_role_wt_pls s_role_wt_pls  \\\n",
       "3045050   2023-10-06                3           DPS           ANp   \n",
       "\n",
       "        fs_asps_wt_pls  cnt_asp_wt_pls_for_day month_yr  moon_day nakshatras  \\\n",
       "3045050      DPS_c_ANp                       3  10.2023        21       None   \n",
       "\n",
       "         week_day day  goals_count  \n",
       "3045050         4  20            3  "
      ]
     },
     "execution_count": 100,
     "metadata": {},
     "output_type": "execute_result"
    }
   ],
   "source": [
    "# Remove games with error coeff (more value than 60)\n",
    "max_bet = 35\n",
    "\n",
    "print('shape -', df_main_asps.shape[0])\n",
    "df_main_asps = df_main_asps[df_main_asps[['1', '2']].apply(lambda x: x[0] < max_bet and x[1] < max_bet, axis=1)].copy()\n",
    "print('shape -', df_main_asps.shape[0])  \n",
    "df_main_asps.reset_index(drop=True, inplace=True)\n",
    "df_main_asps.tail(1)"
   ]
  },
  {
   "cell_type": "code",
   "execution_count": 101,
   "id": "2337aa1c-2bb6-42d7-b2c8-ef940b0cd210",
   "metadata": {},
   "outputs": [
    {
     "name": "stdout",
     "output_type": "stream",
     "text": [
      "max 1 -  34.0\n",
      "max 2 -  34.0\n"
     ]
    }
   ],
   "source": [
    "print('max 1 - ', max(df_main_asps['1']))\n",
    "print('max 2 - ', max(df_main_asps['2']))"
   ]
  },
  {
   "cell_type": "code",
   "execution_count": 102,
   "id": "bb7b4560-9751-4d54-b912-2ec5373b15dd",
   "metadata": {},
   "outputs": [],
   "source": [
    "# Determinate Fav - Pre roles and result:\n",
    "fav_coef = 0.5 # 0.5 ######################################################################################################################################################################################################################################################### \n",
    "# df_main_asps['host_role'] = df_main_asps[['1', '2']].apply(lambda x: ParsingDataPrepare.roles_determinate([x[0], x[1]], fav_coef, 'bets_sum_point'), axis=1)\n",
    "\n",
    "# All favorits aspects for hosts\n",
    "df_main_asps['host_role'] = 'Fav'\n",
    "df_main_asps['result']    = df_main_asps[['host_role', 'goals']].apply(lambda x: StatDataPrepare.get_results(x[0],int(re.sub(':.*', '',x[1])),int(re.sub('.*:','',x[1]))), axis=1)"
   ]
  },
  {
   "cell_type": "markdown",
   "id": "f1e6e417-f8b0-461c-a589-a10dcd88bdf1",
   "metadata": {},
   "source": [
    "#### Fav goals calculate"
   ]
  },
  {
   "cell_type": "code",
   "execution_count": 103,
   "id": "274d4941-5fba-4098-bdfc-34213cf2c6bf",
   "metadata": {},
   "outputs": [],
   "source": [
    "df_main_asps['fav_goals'] = df_main_asps[['host_role', 'goals']].apply(lambda x: StatDataPrepare.fav_goals_calculate(x[0], x[1]), axis=1)"
   ]
  },
  {
   "cell_type": "markdown",
   "id": "2a1fd1e4-469e-4f47-9b6e-a995b59f161d",
   "metadata": {},
   "source": [
    "#### Calculate statistic for count aspects"
   ]
  },
  {
   "cell_type": "code",
   "execution_count": 104,
   "id": "dbb189be-3ef4-4b13-a9b2-e0d0455b56e5",
   "metadata": {},
   "outputs": [
    {
     "name": "stdout",
     "output_type": "stream",
     "text": [
      "shape - 283231\n"
     ]
    },
    {
     "data": {
      "text/html": [
       "<div>\n",
       "<style scoped>\n",
       "    .dataframe tbody tr th:only-of-type {\n",
       "        vertical-align: middle;\n",
       "    }\n",
       "\n",
       "    .dataframe tbody tr th {\n",
       "        vertical-align: top;\n",
       "    }\n",
       "\n",
       "    .dataframe thead th {\n",
       "        text-align: right;\n",
       "    }\n",
       "</style>\n",
       "<table border=\"1\" class=\"dataframe\">\n",
       "  <thead>\n",
       "    <tr style=\"text-align: right;\">\n",
       "      <th></th>\n",
       "      <th>game_id</th>\n",
       "      <th>ligue_header</th>\n",
       "      <th>season_id</th>\n",
       "      <th>game_utc</th>\n",
       "      <th>goals</th>\n",
       "      <th>ligue</th>\n",
       "      <th>actual_city</th>\n",
       "      <th>actual_country</th>\n",
       "      <th>f_team</th>\n",
       "      <th>s_team</th>\n",
       "      <th>pos_f</th>\n",
       "      <th>pos_s</th>\n",
       "      <th>pts_f</th>\n",
       "      <th>pts_s</th>\n",
       "      <th>1</th>\n",
       "      <th>X</th>\n",
       "      <th>2</th>\n",
       "      <th>un_2.5</th>\n",
       "      <th>ov_2.5</th>\n",
       "      <th>country</th>\n",
       "      <th>city</th>\n",
       "      <th>lat</th>\n",
       "      <th>lon</th>\n",
       "      <th>f_point</th>\n",
       "      <th>s_point</th>\n",
       "      <th>type</th>\n",
       "      <th>approach</th>\n",
       "      <th>sing</th>\n",
       "      <th>tr_orb</th>\n",
       "      <th>bp_asp</th>\n",
       "      <th>den_point</th>\n",
       "      <th>smain_ch</th>\n",
       "      <th>fmain_ch</th>\n",
       "      <th>f_role</th>\n",
       "      <th>s_role</th>\n",
       "      <th>fs_asps</th>\n",
       "      <th>day_month_yr</th>\n",
       "      <th>cnt_asp_for_day</th>\n",
       "      <th>f_role_wt_pls</th>\n",
       "      <th>s_role_wt_pls</th>\n",
       "      <th>fs_asps_wt_pls</th>\n",
       "      <th>cnt_asp_wt_pls_for_day</th>\n",
       "      <th>month_yr</th>\n",
       "      <th>moon_day</th>\n",
       "      <th>nakshatras</th>\n",
       "      <th>week_day</th>\n",
       "      <th>day</th>\n",
       "      <th>goals_count</th>\n",
       "      <th>host_role</th>\n",
       "      <th>result</th>\n",
       "      <th>fav_goals</th>\n",
       "    </tr>\n",
       "  </thead>\n",
       "  <tbody>\n",
       "    <tr>\n",
       "      <th>0</th>\n",
       "      <td>10934817</td>\n",
       "      <td>1. Lig</td>\n",
       "      <td>38</td>\n",
       "      <td>2013-11-07 16:00:00</td>\n",
       "      <td>0:1</td>\n",
       "      <td>sec</td>\n",
       "      <td>Gaziantep</td>\n",
       "      <td>Turkey</td>\n",
       "      <td>Gaziantep BB</td>\n",
       "      <td>Mersin İdmanyurdu</td>\n",
       "      <td>14</td>\n",
       "      <td>6</td>\n",
       "      <td>41</td>\n",
       "      <td>60</td>\n",
       "      <td>3.1</td>\n",
       "      <td>3.15</td>\n",
       "      <td>2.4</td>\n",
       "      <td>1.1</td>\n",
       "      <td>6.5</td>\n",
       "      <td>Turkey</td>\n",
       "      <td>Gaziantep</td>\n",
       "      <td>37n3</td>\n",
       "      <td>37e22</td>\n",
       "      <td>Mn</td>\n",
       "      <td>APS</td>\n",
       "      <td>t</td>\n",
       "      <td>moon_conv</td>\n",
       "      <td>equal</td>\n",
       "      <td>0.39</td>\n",
       "      <td>no</td>\n",
       "      <td>()</td>\n",
       "      <td></td>\n",
       "      <td></td>\n",
       "      <td>Mn</td>\n",
       "      <td>APS</td>\n",
       "      <td>Mn_t_APS</td>\n",
       "      <td>2013-11-07</td>\n",
       "      <td>7</td>\n",
       "      <td>Mn</td>\n",
       "      <td>APS</td>\n",
       "      <td>Mn_t_APS</td>\n",
       "      <td>7</td>\n",
       "      <td>11.2013</td>\n",
       "      <td>4</td>\n",
       "      <td>None</td>\n",
       "      <td>3</td>\n",
       "      <td>20</td>\n",
       "      <td>1</td>\n",
       "      <td>Fav</td>\n",
       "      <td>fav_loss</td>\n",
       "      <td>-1</td>\n",
       "    </tr>\n",
       "  </tbody>\n",
       "</table>\n",
       "</div>"
      ],
      "text/plain": [
       "    game_id ligue_header season_id            game_utc goals ligue  \\\n",
       "0  10934817       1. Lig        38 2013-11-07 16:00:00   0:1   sec   \n",
       "\n",
       "  actual_city actual_country        f_team             s_team pos_f pos_s  \\\n",
       "0   Gaziantep         Turkey  Gaziantep BB  Mersin İdmanyurdu    14     6   \n",
       "\n",
       "  pts_f pts_s    1     X    2  un_2.5  ov_2.5 country       city   lat    lon  \\\n",
       "0    41    60  3.1  3.15  2.4     1.1     6.5  Turkey  Gaziantep  37n3  37e22   \n",
       "\n",
       "  f_point s_point type   approach   sing  tr_orb bp_asp den_point smain_ch  \\\n",
       "0      Mn     APS    t  moon_conv  equal    0.39     no        ()            \n",
       "\n",
       "  fmain_ch f_role s_role   fs_asps day_month_yr  cnt_asp_for_day  \\\n",
       "0              Mn    APS  Mn_t_APS   2013-11-07                7   \n",
       "\n",
       "  f_role_wt_pls s_role_wt_pls fs_asps_wt_pls  cnt_asp_wt_pls_for_day month_yr  \\\n",
       "0            Mn           APS       Mn_t_APS                       7  11.2013   \n",
       "\n",
       "   moon_day nakshatras  week_day day  goals_count host_role    result  \\\n",
       "0         4       None         3  20            1       Fav  fav_loss   \n",
       "\n",
       "   fav_goals  \n",
       "0         -1  "
      ]
     },
     "execution_count": 104,
     "metadata": {},
     "output_type": "execute_result"
    }
   ],
   "source": [
    "df_unique_game_id = df_main_asps.drop_duplicates(subset='game_id', keep='first')\n",
    "print('shape -', df_unique_game_id.shape[0])\n",
    "df_unique_game_id.head(1)"
   ]
  },
  {
   "cell_type": "code",
   "execution_count": 105,
   "id": "183b7976-bb1b-4c40-87df-5f0a3fa891e8",
   "metadata": {},
   "outputs": [
    {
     "data": {
      "text/plain": [
       "Fav    283231\n",
       "Name: host_role, dtype: int64"
      ]
     },
     "execution_count": 105,
     "metadata": {},
     "output_type": "execute_result"
    }
   ],
   "source": [
    "df_unique_game_id.host_role.value_counts(dropna=False)"
   ]
  },
  {
   "cell_type": "code",
   "execution_count": 106,
   "id": "36c06c65-b2ba-4d2f-80e0-12c855fd83d0",
   "metadata": {},
   "outputs": [
    {
     "name": "stdout",
     "output_type": "stream",
     "text": [
      "shape -  3045051\n",
      "shape -  3045051\n"
     ]
    }
   ],
   "source": [
    "# Keep Fav - Pre host_roles\n",
    "print('shape - ', df_main_asps.shape[0])\n",
    "df_main_asps = df_main_asps[df_main_asps.host_role.isin(['Fav', 'Pre'])].copy()\n",
    "df_main_asps.reset_index(drop=True, inplace=True)\n",
    "print('shape - ', df_main_asps.shape[0])"
   ]
  },
  {
   "cell_type": "code",
   "execution_count": 107,
   "id": "f6713a30-281f-4419-8e16-1c4263c6c427",
   "metadata": {},
   "outputs": [
    {
     "data": {
      "text/plain": [
       "Fav    3045051\n",
       "Name: host_role, dtype: int64"
      ]
     },
     "execution_count": 107,
     "metadata": {},
     "output_type": "execute_result"
    }
   ],
   "source": [
    "df_main_asps.host_role.value_counts(dropna=False)"
   ]
  },
  {
   "cell_type": "code",
   "execution_count": 108,
   "id": "73b5d271-9a38-43b5-a8a9-11ea919c8492",
   "metadata": {},
   "outputs": [
    {
     "data": {
      "text/html": [
       "<div>\n",
       "<style scoped>\n",
       "    .dataframe tbody tr th:only-of-type {\n",
       "        vertical-align: middle;\n",
       "    }\n",
       "\n",
       "    .dataframe tbody tr th {\n",
       "        vertical-align: top;\n",
       "    }\n",
       "\n",
       "    .dataframe thead th {\n",
       "        text-align: right;\n",
       "    }\n",
       "</style>\n",
       "<table border=\"1\" class=\"dataframe\">\n",
       "  <thead>\n",
       "    <tr style=\"text-align: right;\">\n",
       "      <th></th>\n",
       "      <th>game_id</th>\n",
       "      <th>ligue_header</th>\n",
       "      <th>season_id</th>\n",
       "      <th>game_utc</th>\n",
       "      <th>goals</th>\n",
       "      <th>ligue</th>\n",
       "      <th>actual_city</th>\n",
       "      <th>actual_country</th>\n",
       "      <th>f_team</th>\n",
       "      <th>s_team</th>\n",
       "      <th>pos_f</th>\n",
       "      <th>pos_s</th>\n",
       "      <th>pts_f</th>\n",
       "      <th>pts_s</th>\n",
       "      <th>1</th>\n",
       "      <th>X</th>\n",
       "      <th>2</th>\n",
       "      <th>un_2.5</th>\n",
       "      <th>ov_2.5</th>\n",
       "      <th>country</th>\n",
       "      <th>city</th>\n",
       "      <th>lat</th>\n",
       "      <th>lon</th>\n",
       "      <th>f_point</th>\n",
       "      <th>s_point</th>\n",
       "      <th>type</th>\n",
       "      <th>approach</th>\n",
       "      <th>sing</th>\n",
       "      <th>tr_orb</th>\n",
       "      <th>bp_asp</th>\n",
       "      <th>den_point</th>\n",
       "      <th>smain_ch</th>\n",
       "      <th>fmain_ch</th>\n",
       "      <th>f_role</th>\n",
       "      <th>s_role</th>\n",
       "      <th>fs_asps</th>\n",
       "      <th>day_month_yr</th>\n",
       "      <th>cnt_asp_for_day</th>\n",
       "      <th>f_role_wt_pls</th>\n",
       "      <th>s_role_wt_pls</th>\n",
       "      <th>fs_asps_wt_pls</th>\n",
       "      <th>cnt_asp_wt_pls_for_day</th>\n",
       "      <th>month_yr</th>\n",
       "      <th>moon_day</th>\n",
       "      <th>nakshatras</th>\n",
       "      <th>week_day</th>\n",
       "      <th>day</th>\n",
       "      <th>goals_count</th>\n",
       "      <th>host_role</th>\n",
       "      <th>result</th>\n",
       "      <th>fav_goals</th>\n",
       "    </tr>\n",
       "  </thead>\n",
       "  <tbody>\n",
       "    <tr>\n",
       "      <th>3045050</th>\n",
       "      <td>1989897</td>\n",
       "      <td>CONCACAF Central American Cup</td>\n",
       "      <td>Cup</td>\n",
       "      <td>2023-10-06 02:00:00</td>\n",
       "      <td>3:0</td>\n",
       "      <td>thr</td>\n",
       "      <td>None</td>\n",
       "      <td>None</td>\n",
       "      <td>Alajuelense</td>\n",
       "      <td>Cartagines</td>\n",
       "      <td>None</td>\n",
       "      <td>None</td>\n",
       "      <td>None</td>\n",
       "      <td>None</td>\n",
       "      <td>1.6</td>\n",
       "      <td>4.15</td>\n",
       "      <td>4.7</td>\n",
       "      <td>2.3</td>\n",
       "      <td>1.55</td>\n",
       "      <td>Costa Rica</td>\n",
       "      <td>Alajuela</td>\n",
       "      <td>10n0</td>\n",
       "      <td>84w12</td>\n",
       "      <td>Me</td>\n",
       "      <td>ANp</td>\n",
       "      <td>c</td>\n",
       "      <td>conv</td>\n",
       "      <td>equal</td>\n",
       "      <td>2.17</td>\n",
       "      <td>no</td>\n",
       "      <td>()</td>\n",
       "      <td></td>\n",
       "      <td>DPS</td>\n",
       "      <td>Me-DPS</td>\n",
       "      <td>ANp</td>\n",
       "      <td>Me-DPS_c_ANp</td>\n",
       "      <td>2023-10-06</td>\n",
       "      <td>3</td>\n",
       "      <td>DPS</td>\n",
       "      <td>ANp</td>\n",
       "      <td>DPS_c_ANp</td>\n",
       "      <td>3</td>\n",
       "      <td>10.2023</td>\n",
       "      <td>21</td>\n",
       "      <td>None</td>\n",
       "      <td>4</td>\n",
       "      <td>20</td>\n",
       "      <td>3</td>\n",
       "      <td>Fav</td>\n",
       "      <td>fav_win</td>\n",
       "      <td>3</td>\n",
       "    </tr>\n",
       "  </tbody>\n",
       "</table>\n",
       "</div>"
      ],
      "text/plain": [
       "         game_id                   ligue_header season_id            game_utc  \\\n",
       "3045050  1989897  CONCACAF Central American Cup       Cup 2023-10-06 02:00:00   \n",
       "\n",
       "        goals ligue actual_city actual_country       f_team      s_team pos_f  \\\n",
       "3045050   3:0   thr        None           None  Alajuelense  Cartagines  None   \n",
       "\n",
       "        pos_s pts_f pts_s    1     X    2  un_2.5  ov_2.5     country  \\\n",
       "3045050  None  None  None  1.6  4.15  4.7     2.3    1.55  Costa Rica   \n",
       "\n",
       "             city   lat    lon f_point s_point type approach   sing  tr_orb  \\\n",
       "3045050  Alajuela  10n0  84w12      Me     ANp    c     conv  equal    2.17   \n",
       "\n",
       "        bp_asp den_point smain_ch fmain_ch  f_role s_role       fs_asps  \\\n",
       "3045050     no        ()               DPS  Me-DPS    ANp  Me-DPS_c_ANp   \n",
       "\n",
       "        day_month_yr  cnt_asp_for_day f_role_wt_pls s_role_wt_pls  \\\n",
       "3045050   2023-10-06                3           DPS           ANp   \n",
       "\n",
       "        fs_asps_wt_pls  cnt_asp_wt_pls_for_day month_yr  moon_day nakshatras  \\\n",
       "3045050      DPS_c_ANp                       3  10.2023        21       None   \n",
       "\n",
       "         week_day day  goals_count host_role   result  fav_goals  \n",
       "3045050         4  20            3       Fav  fav_win          3  "
      ]
     },
     "execution_count": 108,
     "metadata": {},
     "output_type": "execute_result"
    }
   ],
   "source": [
    "df_main_asps.tail(1)"
   ]
  },
  {
   "cell_type": "code",
   "execution_count": 109,
   "id": "fb8eea5d-0eb3-4c81-9d63-c5d013d4ad80",
   "metadata": {},
   "outputs": [
    {
     "name": "stdout",
     "output_type": "stream",
     "text": [
      "len - 3223\n",
      "['14141486', '11917972', '14154287']\n",
      "sahpe -  3045051\n",
      "sahpe -  3009284\n"
     ]
    }
   ],
   "source": [
    "# Remove all game with Moon V1-V7 roles, change all extra roles to 'Mn'\n",
    "\n",
    "remove_mn_lt = list(set(df_main_asps[df_main_asps.f_role.isin(['Mn-V1', 'Mn-V7', 'Mn-V1-DPS'])].game_id.tolist()))\n",
    "print('len -', len(remove_mn_lt))\n",
    "print(remove_mn_lt[:3])\n",
    "\n",
    "print('sahpe - ', df_main_asps.shape[0])\n",
    "df_main_asps = df_main_asps[~df_main_asps.game_id.isin(remove_mn_lt)].reset_index(drop=True).copy()\n",
    "print('sahpe - ', df_main_asps.shape[0])\n",
    "\n",
    "df_main_asps.f_role_wt_pls = df_main_asps.f_role_wt_pls.map(lambda x:  'Mn' if ''.join(re.findall('Mn-', str(x))) == 'Mn-' else x)"
   ]
  },
  {
   "cell_type": "code",
   "execution_count": 110,
   "id": "55bb6e7c-9204-4ad4-add6-45cb329251ea",
   "metadata": {},
   "outputs": [],
   "source": [
    "# Remove multiroles desccription such as V7-V10-DPF change it on V7 and other \n",
    "\n",
    "find_values_lt = ['AV1-', 'V1-', 'AV7-', 'V7-', 'ADPF', 'DPF', 'ADPS', 'DPS', 'AV10-', 'V10-', 'AV4-', 'V4-'] # subsequence is matter\n",
    "\n",
    "for find_value in find_values_lt:\n",
    "    \n",
    "    changed_value = re.sub('-', '', find_value)\n",
    "    \n",
    "    df_main_asps.f_role_wt_pls = df_main_asps.f_role_wt_pls.map(lambda x:  changed_value if ''.join(re.findall(find_value, str(x))) == find_value else x)\n",
    "    df_main_asps.s_role_wt_pls = df_main_asps.s_role_wt_pls.map(lambda x:  changed_value if ''.join(re.findall(find_value, str(x))) == find_value else x)"
   ]
  },
  {
   "cell_type": "code",
   "execution_count": 111,
   "id": "5a51e1e3-4aa8-44fd-8c84-356fbce75b1a",
   "metadata": {},
   "outputs": [],
   "source": [
    "# Create 'fs_asps_wt_pls' clumn witht new parameters\n",
    "df_main_asps.fs_asps_wt_pls = df_main_asps[['f_role_wt_pls', 'type', 's_role_wt_pls']].apply(lambda x: str(x[0]) +'_'+ str(x[1]) +'_'+ str(x[2]), axis=1) "
   ]
  },
  {
   "cell_type": "code",
   "execution_count": 112,
   "id": "fc2ec25e-d27a-4615-b36d-ae7eb3086747",
   "metadata": {},
   "outputs": [
    {
     "name": "stdout",
     "output_type": "stream",
     "text": [
      "shape - 3009284\n",
      "shape - 2883433\n"
     ]
    }
   ],
   "source": [
    "# Remove some aspects \n",
    "remove_aspects = ['Ch_o_ANp', 'Pl_o_ANN', 'SN_c_APl', 'St_c_APl', 'St_c_Pl', 'St_o_AUr', 'NN_c_AUr', 'Mn_t_St', 'Mn_o_St', 'Ur_o_ASN', 'Np_o_AUr', 'Np_c_SN', 'SN_c_ANN', 'Ur_c_NN', 'NN_c_ACh', 'Pl_c_SN', 'Ch_o_ASN', \n",
    "                  'Ch_c_SN ', 'Ch_o_AUr', 'Ch_c_SN', \n",
    "                  'Sn_o_Ch', 'Sn_c_ANp', 'Sn_c_ACh', 'Sn_c_Ur', 'Sn_c_APl', 'Sn_o_Np', 'Sn_c_AUr', 'Sn_o_AUr', 'Sn_o_Ur', 'Sn_c_Np', 'Sn_o_ANp', 'Sn_c_Ch', 'Sn_o_APl', 'Sn_o_Pl', 'Sn_o_ACh', 'Sn_o_St', 'Sn_c_Pl', 'Sn_c_St',\n",
    "                  'H7_c_Sn', 'H10_c_Sn', 'Mn_t_Sn', 'Mn_q_Sn', 'Mn_i_Sn', 'H4_c_Sn']\n",
    "print('shape -', df_main_asps.shape[0])\n",
    "df_main_asps = df_main_asps[~df_main_asps.fs_asps_wt_pls.isin(remove_aspects)]\n",
    "df_main_asps.reset_index(drop=True, inplace=True)\n",
    "print('shape -', df_main_asps.shape[0])"
   ]
  },
  {
   "cell_type": "code",
   "execution_count": 113,
   "id": "1666fee2-3777-4122-b523-3c2401d88b72",
   "metadata": {},
   "outputs": [
    {
     "name": "stdout",
     "output_type": "stream",
     "text": [
      "remove_moon_nodes_lt - ['Mn_c_ANN', 'Mn_q_ASN', 'Mn_o_ANN', 'Mn_q_ANN', 'Mn_c_ASN']        len - 10\n",
      "remove_sat_nodes_lt - ['St_c_ASN', 'St_o_ANN']     len - 2\n",
      "remove_sun_nodes_lt - ['Sn_o_ASN', 'Sn_c_ASN', 'Sn_c_ANN', 'Sn_o_ANN', 'Sn_c_NN']     len - 5\n",
      "remove_houses_nodes_lt - ['H1_c_SN', 'H4_c_NN', 'H10_c_SN', 'H1_c_NN', 'H1_c_ASN']     len - 16\n",
      "remove_hightplanets_nodes_lt - ['Np_o_ASN']     len - 1\n",
      "remove_sec_role_hightplanets_lt - ['SN_c_Np', 'SN_c_Ur', 'SN_c_Pl', 'ANN_c_Np', 'NN_c_Ur']     len - 6\n",
      "shape - 2883433\n",
      "shape - 2687438\n"
     ]
    }
   ],
   "source": [
    "# Remove some aspects \n",
    "points = ['NN', 'SN', 'ANN', 'ASN']\n",
    "hightplanets_lt = ['Pl', 'Np', 'Ch', 'Ur', 'APl', 'ANp', 'ACh', 'AUr']\n",
    "\n",
    "remove_moon_nodes_lt = list(set(df_main_asps[(df_main_asps.f_role.isin(['Mn'])) & (df_main_asps.s_point.isin(points))].fs_asps_wt_pls.to_list()))\n",
    "print('remove_moon_nodes_lt -', remove_moon_nodes_lt[:5], '       len -', len(remove_moon_nodes_lt))\n",
    "remove_sat_nodes_lt = list(set(df_main_asps[(df_main_asps.f_role.isin(['St'])) & (df_main_asps.s_point.isin(points))].fs_asps_wt_pls.to_list()))\n",
    "print('remove_sat_nodes_lt -', remove_sat_nodes_lt[:5], '    len -', len(remove_sat_nodes_lt))\n",
    "remove_sun_nodes_lt = list(set(df_main_asps[(df_main_asps.f_role.isin(['Sn'])) & (df_main_asps.s_point.isin(points))].fs_asps_wt_pls.to_list()))\n",
    "print('remove_sun_nodes_lt -', remove_sun_nodes_lt[:5], '    len -', len(remove_sun_nodes_lt))\n",
    "remove_houses_nodes_lt = list(set(df_main_asps[(df_main_asps.f_role.isin(['H1', 'H4', 'H7', 'H10'])) & (df_main_asps.s_point.isin(points))].fs_asps_wt_pls.to_list()))\n",
    "print('remove_houses_nodes_lt -', remove_houses_nodes_lt[:5], '    len -', len(remove_houses_nodes_lt))\n",
    "remove_hightplanets_nodes_lt = list(set(df_main_asps[(df_main_asps.f_role.isin(hightplanets_lt)) & (df_main_asps.s_point.isin(points))].fs_asps_wt_pls.to_list()))\n",
    "print('remove_hightplanets_nodes_lt -', remove_hightplanets_nodes_lt[:5], '    len -', len(remove_hightplanets_nodes_lt))\n",
    "remove_sec_role_hightplanets_lt = list(set(df_main_asps[(df_main_asps.f_role.isin(points)) & (df_main_asps.s_point.isin(hightplanets_lt))].fs_asps_wt_pls.to_list()))\n",
    "print('remove_sec_role_hightplanets_lt -', remove_sec_role_hightplanets_lt[:5], '    len -', len(remove_sec_role_hightplanets_lt))\n",
    "\n",
    "remove_aspects_2 = ['SN_c_ANN'] + remove_moon_nodes_lt + remove_sat_nodes_lt + remove_sun_nodes_lt + remove_houses_nodes_lt + remove_hightplanets_nodes_lt + \\\n",
    "                   remove_sec_role_hightplanets_lt\n",
    "\n",
    "print('shape -', df_main_asps.shape[0])\n",
    "df_main_asps = df_main_asps[~df_main_asps.fs_asps_wt_pls.isin(remove_aspects_2)].reset_index(drop=True).copy()\n",
    "print('shape -', df_main_asps.shape[0])"
   ]
  },
  {
   "cell_type": "code",
   "execution_count": 114,
   "id": "03b0d59e-226a-4f91-ae5a-7e9af326e5e7",
   "metadata": {},
   "outputs": [
    {
     "name": "stdout",
     "output_type": "stream",
     "text": [
      "shape - 2687438\n",
      "shape - 2651273\n"
     ]
    }
   ],
   "source": [
    "# Remove opposition aspects if connection exist\n",
    "remove_opp_lt = list()\n",
    "\n",
    "for asp in list(set(df_main_asps.fs_asps_wt_pls.values)):\n",
    "    node_lt  = ['NN', 'SN', 'ANN', 'ASN']\n",
    "    asp_char = asp.split('_')[1]\n",
    "    \n",
    "    if (asp_char == 'c') and (asp.split('_')[2] in node_lt):\n",
    "        find_opp = asp.split('_')[0] +'_o_'+ asp.split('_')[2]\n",
    "        \n",
    "        if find_opp in df_main_asps.fs_asps_wt_pls.values:  \n",
    "            remove_opp_lt.append(find_opp)\n",
    "        else:\n",
    "            None\n",
    "            \n",
    "remove_opp_lt = list(set(remove_opp_lt))   \n",
    "# print(str(remove_opp_lt))\n",
    "remove_opp_lt_total = ['V4_o_ANN', 'V7_o_ASN', 'V1_o_ANN', 'V10_o_ASN', 'V10_o_ANN', 'V4_o_ASN', 'PS_o_ASN', 'V1_o_ASN', 'V7_o_ANN', 'PS_o_ANN']\n",
    "\n",
    "print('shape -', df_main_asps.shape[0])\n",
    "df_main_asps = df_main_asps[~df_main_asps.fs_asps_wt_pls.isin(remove_opp_lt_total)].reset_index(drop=True).copy()\n",
    "print('shape -', df_main_asps.shape[0])"
   ]
  },
  {
   "cell_type": "code",
   "execution_count": 115,
   "id": "bbcc1ae3-ef9b-4ec9-8f38-2d3591fc6860",
   "metadata": {},
   "outputs": [
    {
     "data": {
      "text/html": [
       "<div>\n",
       "<style scoped>\n",
       "    .dataframe tbody tr th:only-of-type {\n",
       "        vertical-align: middle;\n",
       "    }\n",
       "\n",
       "    .dataframe tbody tr th {\n",
       "        vertical-align: top;\n",
       "    }\n",
       "\n",
       "    .dataframe thead th {\n",
       "        text-align: right;\n",
       "    }\n",
       "</style>\n",
       "<table border=\"1\" class=\"dataframe\">\n",
       "  <thead>\n",
       "    <tr style=\"text-align: right;\">\n",
       "      <th></th>\n",
       "      <th>game_id</th>\n",
       "      <th>ligue_header</th>\n",
       "      <th>season_id</th>\n",
       "      <th>game_utc</th>\n",
       "      <th>goals</th>\n",
       "      <th>ligue</th>\n",
       "      <th>actual_city</th>\n",
       "      <th>actual_country</th>\n",
       "      <th>f_team</th>\n",
       "      <th>s_team</th>\n",
       "      <th>pos_f</th>\n",
       "      <th>pos_s</th>\n",
       "      <th>pts_f</th>\n",
       "      <th>pts_s</th>\n",
       "      <th>1</th>\n",
       "      <th>X</th>\n",
       "      <th>2</th>\n",
       "      <th>un_2.5</th>\n",
       "      <th>ov_2.5</th>\n",
       "      <th>country</th>\n",
       "      <th>city</th>\n",
       "      <th>lat</th>\n",
       "      <th>lon</th>\n",
       "      <th>f_point</th>\n",
       "      <th>s_point</th>\n",
       "      <th>type</th>\n",
       "      <th>approach</th>\n",
       "      <th>sing</th>\n",
       "      <th>tr_orb</th>\n",
       "      <th>bp_asp</th>\n",
       "      <th>den_point</th>\n",
       "      <th>smain_ch</th>\n",
       "      <th>fmain_ch</th>\n",
       "      <th>f_role</th>\n",
       "      <th>s_role</th>\n",
       "      <th>fs_asps</th>\n",
       "      <th>day_month_yr</th>\n",
       "      <th>cnt_asp_for_day</th>\n",
       "      <th>f_role_wt_pls</th>\n",
       "      <th>s_role_wt_pls</th>\n",
       "      <th>fs_asps_wt_pls</th>\n",
       "      <th>cnt_asp_wt_pls_for_day</th>\n",
       "      <th>month_yr</th>\n",
       "      <th>moon_day</th>\n",
       "      <th>nakshatras</th>\n",
       "      <th>week_day</th>\n",
       "      <th>day</th>\n",
       "      <th>goals_count</th>\n",
       "      <th>host_role</th>\n",
       "      <th>result</th>\n",
       "      <th>fav_goals</th>\n",
       "    </tr>\n",
       "  </thead>\n",
       "  <tbody>\n",
       "    <tr>\n",
       "      <th>2651272</th>\n",
       "      <td>1989897</td>\n",
       "      <td>CONCACAF Central American Cup</td>\n",
       "      <td>Cup</td>\n",
       "      <td>2023-10-06 02:00:00</td>\n",
       "      <td>3:0</td>\n",
       "      <td>thr</td>\n",
       "      <td>None</td>\n",
       "      <td>None</td>\n",
       "      <td>Alajuelense</td>\n",
       "      <td>Cartagines</td>\n",
       "      <td>None</td>\n",
       "      <td>None</td>\n",
       "      <td>None</td>\n",
       "      <td>None</td>\n",
       "      <td>1.6</td>\n",
       "      <td>4.15</td>\n",
       "      <td>4.7</td>\n",
       "      <td>2.3</td>\n",
       "      <td>1.55</td>\n",
       "      <td>Costa Rica</td>\n",
       "      <td>Alajuela</td>\n",
       "      <td>10n0</td>\n",
       "      <td>84w12</td>\n",
       "      <td>Me</td>\n",
       "      <td>ANp</td>\n",
       "      <td>c</td>\n",
       "      <td>conv</td>\n",
       "      <td>equal</td>\n",
       "      <td>2.17</td>\n",
       "      <td>no</td>\n",
       "      <td>()</td>\n",
       "      <td></td>\n",
       "      <td>DPS</td>\n",
       "      <td>Me-DPS</td>\n",
       "      <td>ANp</td>\n",
       "      <td>Me-DPS_c_ANp</td>\n",
       "      <td>2023-10-06</td>\n",
       "      <td>3</td>\n",
       "      <td>DPS</td>\n",
       "      <td>ANp</td>\n",
       "      <td>DPS_c_ANp</td>\n",
       "      <td>3</td>\n",
       "      <td>10.2023</td>\n",
       "      <td>21</td>\n",
       "      <td>None</td>\n",
       "      <td>4</td>\n",
       "      <td>20</td>\n",
       "      <td>3</td>\n",
       "      <td>Fav</td>\n",
       "      <td>fav_win</td>\n",
       "      <td>3</td>\n",
       "    </tr>\n",
       "  </tbody>\n",
       "</table>\n",
       "</div>"
      ],
      "text/plain": [
       "         game_id                   ligue_header season_id            game_utc  \\\n",
       "2651272  1989897  CONCACAF Central American Cup       Cup 2023-10-06 02:00:00   \n",
       "\n",
       "        goals ligue actual_city actual_country       f_team      s_team pos_f  \\\n",
       "2651272   3:0   thr        None           None  Alajuelense  Cartagines  None   \n",
       "\n",
       "        pos_s pts_f pts_s    1     X    2  un_2.5  ov_2.5     country  \\\n",
       "2651272  None  None  None  1.6  4.15  4.7     2.3    1.55  Costa Rica   \n",
       "\n",
       "             city   lat    lon f_point s_point type approach   sing  tr_orb  \\\n",
       "2651272  Alajuela  10n0  84w12      Me     ANp    c     conv  equal    2.17   \n",
       "\n",
       "        bp_asp den_point smain_ch fmain_ch  f_role s_role       fs_asps  \\\n",
       "2651272     no        ()               DPS  Me-DPS    ANp  Me-DPS_c_ANp   \n",
       "\n",
       "        day_month_yr  cnt_asp_for_day f_role_wt_pls s_role_wt_pls  \\\n",
       "2651272   2023-10-06                3           DPS           ANp   \n",
       "\n",
       "        fs_asps_wt_pls  cnt_asp_wt_pls_for_day month_yr  moon_day nakshatras  \\\n",
       "2651272      DPS_c_ANp                       3  10.2023        21       None   \n",
       "\n",
       "         week_day day  goals_count host_role   result  fav_goals  \n",
       "2651272         4  20            3       Fav  fav_win          3  "
      ]
     },
     "execution_count": 115,
     "metadata": {},
     "output_type": "execute_result"
    }
   ],
   "source": [
    "df_main_asps.tail(1)"
   ]
  },
  {
   "cell_type": "code",
   "execution_count": 116,
   "id": "a9c61772-221f-4b02-ba81-13e93282e880",
   "metadata": {},
   "outputs": [],
   "source": [
    "# df_main_asps.approach.value_counts(dropna=False)"
   ]
  },
  {
   "cell_type": "code",
   "execution_count": 117,
   "id": "05e4aaaa-587d-4411-8ee1-0714b2008722",
   "metadata": {},
   "outputs": [],
   "source": [
    "# df_main_asps.fs_asps_wt_pls.value_counts(dropna=False)"
   ]
  },
  {
   "cell_type": "code",
   "execution_count": 118,
   "id": "f965c9b3-9562-43ac-9f80-9ac91f804589",
   "metadata": {},
   "outputs": [],
   "source": [
    "# df_main_asps.fs_asps_wt_pls.unique()"
   ]
  },
  {
   "cell_type": "code",
   "execution_count": 119,
   "id": "26fbd853-fdb2-48bd-b09b-040464b43838",
   "metadata": {},
   "outputs": [],
   "source": [
    "# Add in house and out house aspects\n",
    "# Fortunre and Spirit only antises state in houses\n",
    "# Only Moon without her antis with houses cuspide"
   ]
  },
  {
   "cell_type": "code",
   "execution_count": 120,
   "id": "24d1eb50-c493-411d-93c5-dcb97224f56d",
   "metadata": {},
   "outputs": [],
   "source": [
    "# Create file for ml  #####################################################################################################################################################\n",
    "\n",
    "# df_group       = df_main_asps.groupby('game_id').agg({'fs_asps_wt_pls': list})\n",
    "# df_expanded    = df_group['fs_asps_wt_pls'].apply(pd.Series).add_prefix('Value_').reset_index()\n",
    "# df_ml_game_ids = df_main_asps.drop_duplicates(subset='game_id', keep='first')\n",
    "# print('shape -', df_ml_game_ids.shape[0])\n",
    "# df_ml_game_ids = df_ml_game_ids.merge(df_expanded, how='left', left_on='game_id', right_on='game_id')\n",
    "# print('shape -', df_ml_game_ids.shape[0])"
   ]
  },
  {
   "cell_type": "code",
   "execution_count": 121,
   "id": "befac2b4-c099-4fb2-82df-46888db6b3c7",
   "metadata": {},
   "outputs": [],
   "source": [
    "# df_ml_game_ids.head()"
   ]
  },
  {
   "cell_type": "code",
   "execution_count": 122,
   "id": "9eb3a1ae-333b-4b39-87ba-d09d20394232",
   "metadata": {},
   "outputs": [],
   "source": [
    "# file = open('pickle_files/dl_ml/df_ml_game_ids_top_ligs_fav_coef_05_from_05_10_2023_to_03_11_2013_second_remove', 'wb')\n",
    "# pickle.dump(df_ml_game_ids, file) \n",
    "# file.close()"
   ]
  },
  {
   "cell_type": "code",
   "execution_count": 123,
   "id": "5ca13b61-e4a7-4cfa-bab9-e4eff64463bf",
   "metadata": {},
   "outputs": [],
   "source": [
    "# Stop *****************************************"
   ]
  },
  {
   "cell_type": "markdown",
   "id": "88ce5d36-4653-4573-b00a-ded774572e9f",
   "metadata": {
    "tags": []
   },
   "source": [
    "#### Statistic calculate not for ml ######################################################"
   ]
  },
  {
   "cell_type": "code",
   "execution_count": 124,
   "id": "01525f5c-16b1-4520-9b5f-c5b161699f1f",
   "metadata": {},
   "outputs": [],
   "source": [
    "# Statistic research\n",
    "win_bets_stat  = StatDataPrepare.fav_win_bets_statistic_coeff\n",
    "drow_bets_stat = StatDataPrepare.fav_drow_bets_statistic_coeff\n",
    "loss_bets_stat = StatDataPrepare.fav_loss_bets_statistic_coeff"
   ]
  },
  {
   "cell_type": "code",
   "execution_count": 125,
   "id": "1a161375-1a4f-4385-8dcc-e799fda626df",
   "metadata": {},
   "outputs": [],
   "source": [
    "# Statistic research\n",
    "df_main_asps['win_bets']  = df_main_asps[['host_role', 'result', '1', '2']].apply(lambda x: win_bets_stat(x[0], x[1], x[2], x[3]), axis=1)\n",
    "df_main_asps['drow_bets'] = df_main_asps[['result', 'X']].apply(lambda x: drow_bets_stat(x[0], x[1]), axis=1)\n",
    "df_main_asps['loss_bets'] = df_main_asps[['host_role', 'result', '1', '2']].apply(lambda x: loss_bets_stat(x[0], x[1], x[2], x[3]), axis=1)"
   ]
  },
  {
   "cell_type": "code",
   "execution_count": 126,
   "id": "debf5934-d72a-432d-beb7-7e801ce836f2",
   "metadata": {},
   "outputs": [],
   "source": [
    "# calculate for each aspect's group - if mean daily value 'fav_win' more than mean all values in dataframe = 'fav_win', aslo for 'fav_drow' and 'fav_loss' ....."
   ]
  },
  {
   "cell_type": "code",
   "execution_count": 127,
   "id": "4631a8c5-6d4f-4e54-9c1a-ea0afc970520",
   "metadata": {},
   "outputs": [
    {
     "name": "stdout",
     "output_type": "stream",
     "text": [
      "fav_win_mean  -  2.2680797905138657\n",
      "fav_drow_mean -  3.9381943575411227\n",
      "fav_loss_mean -  3.2768091629548217\n"
     ]
    }
   ],
   "source": [
    "# Statistic research\n",
    "fav_win_mean  = df_unique_game_id.shape[0] / df_unique_game_id.result.value_counts().fav_win\n",
    "fav_drow_mean = df_unique_game_id.shape[0] / df_unique_game_id.result.value_counts().fav_drow\n",
    "fav_loss_mean = df_unique_game_id.shape[0] / df_unique_game_id.result.value_counts().fav_loss\n",
    "\n",
    "print('fav_win_mean  - ', fav_win_mean)\n",
    "print('fav_drow_mean - ', fav_drow_mean)\n",
    "print('fav_loss_mean - ', fav_loss_mean)"
   ]
  },
  {
   "cell_type": "code",
   "execution_count": 128,
   "id": "87597cf9-5ff1-44ba-8e92-49f6ca074b52",
   "metadata": {},
   "outputs": [
    {
     "name": "stdout",
     "output_type": "stream",
     "text": [
      "fav_win_home_mean  -  2.2680797905138657\n",
      "fav_drow_home_mean -  3.9381943575411227\n",
      "fav_loss_home_mean -  3.2768091629548217\n"
     ]
    }
   ],
   "source": [
    "# Statistic research\n",
    "fav_win_home_mean  = df_unique_game_id[df_unique_game_id.host_role == 'Fav'].shape[0] / df_unique_game_id[df_unique_game_id.host_role == 'Fav'].result.value_counts().fav_win\n",
    "fav_drow_home_mean = df_unique_game_id[df_unique_game_id.host_role == 'Fav'].shape[0] / df_unique_game_id[df_unique_game_id.host_role == 'Fav'].result.value_counts().fav_drow\n",
    "fav_loss_home_mean = df_unique_game_id[df_unique_game_id.host_role == 'Fav'].shape[0] / df_unique_game_id[df_unique_game_id.host_role == 'Fav'].result.value_counts().fav_loss\n",
    "\n",
    "print('fav_win_home_mean  - ', fav_win_home_mean)\n",
    "print('fav_drow_home_mean - ', fav_drow_home_mean)\n",
    "print('fav_loss_home_mean - ', fav_loss_home_mean)"
   ]
  },
  {
   "cell_type": "code",
   "execution_count": 129,
   "id": "3fecd72e-db92-4253-b5b6-97e9a6debae8",
   "metadata": {},
   "outputs": [],
   "source": [
    "# Statistic research\n",
    "# fav_win_away_mean  = df_unique_game_id[df_unique_game_id.host_role == 'Pre'].shape[0] / df_unique_game_id[df_unique_game_id.host_role == 'Pre'].result.value_counts().fav_win\n",
    "# fav_drow_away_mean = df_unique_game_id[df_unique_game_id.host_role == 'Pre'].shape[0] / df_unique_game_id[df_unique_game_id.host_role == 'Pre'].result.value_counts().fav_drow\n",
    "# fav_loss_away_mean = df_unique_game_id[df_unique_game_id.host_role == 'Pre'].shape[0] / df_unique_game_id[df_unique_game_id.host_role == 'Pre'].result.value_counts().fav_loss\n",
    "\n",
    "# print('fav_win_away_mean  - ', fav_win_away_mean)\n",
    "# print('fav_drow_away_mean - ', fav_drow_away_mean)\n",
    "# print('fav_loss_away_mean - ', fav_loss_away_mean)"
   ]
  },
  {
   "cell_type": "code",
   "execution_count": 130,
   "id": "1a609369-a0cf-4519-be4e-d0233e3f1804",
   "metadata": {},
   "outputs": [],
   "source": [
    "sdp = StatDataPrepare"
   ]
  },
  {
   "cell_type": "code",
   "execution_count": 131,
   "id": "dde52905-068c-4bfd-a2c2-2fed1b4c2602",
   "metadata": {},
   "outputs": [
    {
     "ename": "SyntaxError",
     "evalue": "invalid syntax (3891121879.py, line 1)",
     "output_type": "error",
     "traceback": [
      "\u001b[0;36m  Input \u001b[0;32mIn [131]\u001b[0;36m\u001b[0m\n\u001b[0;31m    Stop ******************************************************************\u001b[0m\n\u001b[0m           ^\u001b[0m\n\u001b[0;31mSyntaxError\u001b[0m\u001b[0;31m:\u001b[0m invalid syntax\n"
     ]
    }
   ],
   "source": [
    "Stop ******************************************************************"
   ]
  },
  {
   "cell_type": "markdown",
   "id": "f7f5f702-966e-42df-8696-21f9a493af12",
   "metadata": {
    "tags": []
   },
   "source": [
    "#### Frouly aspects and active days only statistic research"
   ]
  },
  {
   "cell_type": "code",
   "execution_count": null,
   "id": "591e39c8-e55a-4873-978f-8976944b668c",
   "metadata": {},
   "outputs": [],
   "source": [
    "# pl_pars_lt = ['Ju', 'St', 'Sn', 'PF', 'PS', 'PC', 'PR', 'PG']\n",
    "\n",
    "# pl_pars_asps_lt = list(df_main_asps[['f_point', 'type', 's_point']].apply(lambda x: x[0] +'_'+ x[1] +'_'+ x[2] if x[0] in pl_pars_lt and x[2] in pl_pars_lt else None, axis=1).dropna().unique())\n",
    "# print('len -', len(pl_pars_asps_lt))\n",
    "# pl_pars_asps_lt[:3]"
   ]
  },
  {
   "cell_type": "code",
   "execution_count": null,
   "id": "5e01a0b1-f6c6-4ed6-a534-fe4f0003f8ff",
   "metadata": {},
   "outputs": [],
   "source": [
    "# sr_pl_pars_asps = df_main_asps[['f_point', 'type', 's_point']].apply(lambda x: x[0] +'_'+ x[1] +'_'+ x[2] if x[0] in pl_pars_lt and x[2] in pl_pars_lt else None, axis=1).dropna().to_frame()"
   ]
  },
  {
   "cell_type": "code",
   "execution_count": null,
   "id": "5e860b05-9b5d-412f-b149-59c91312c2a6",
   "metadata": {},
   "outputs": [],
   "source": [
    "# sr_pl_pars_asps.rename(columns={0:'sr_pl_pars_asps'}, inplace=True)"
   ]
  },
  {
   "cell_type": "code",
   "execution_count": null,
   "id": "668e0634-2ee7-42ce-8d28-3d5b459de897",
   "metadata": {},
   "outputs": [],
   "source": [
    "# df_main_asps = df_main_asps.merge(sr_pl_pars_asps, how='left', left_index=True, right_index=True).fillna(0)"
   ]
  },
  {
   "cell_type": "code",
   "execution_count": null,
   "id": "b9485bca-6f66-4ee0-a16c-5657ffce3c05",
   "metadata": {},
   "outputs": [],
   "source": [
    "# df_main_asps.fs_asps_wt_pls = df_main_asps[['fs_asps_wt_pls', 'sr_pl_pars_asps']].apply(lambda x: x[0] if x[1] == 0 else x[1], axis=1)"
   ]
  },
  {
   "cell_type": "code",
   "execution_count": null,
   "id": "fdd8ab43-4a33-4e91-b991-5201fc782bca",
   "metadata": {},
   "outputs": [],
   "source": [
    "# df_main_asps.drop(columns='sr_pl_pars_asps', inplace=True)"
   ]
  },
  {
   "cell_type": "code",
   "execution_count": null,
   "id": "88fda259-e58e-4913-bb0d-035b735fbd15",
   "metadata": {},
   "outputs": [],
   "source": [
    "# parses_lt    = ['PF', 'PS', 'PC', 'PR', 'PG']\n",
    "# parses_asps_lt = list(df_main_asps.fs_asps_wt_pls.map(lambda x: x if x.split('_')[0] in parses_lt and x.split('_')[2] in parses_lt else None).dropna().unique())\n",
    "# print('len unique -', len(parses_asps_lt))\n",
    "# str(parses_asps_lt[:10])"
   ]
  },
  {
   "cell_type": "code",
   "execution_count": null,
   "id": "696a6fcb-7437-45bf-828d-2d2e39913170",
   "metadata": {},
   "outputs": [],
   "source": [
    "# tr_planets_lt      = ['Pl', 'Np', 'Ur', 'Ch']\n",
    "# tr_planets_asps_lt = list(df_main_asps.fs_asps_wt_pls.map(lambda x: x if x.split('_')[0] in parses_lt + tr_planets_lt and x.split('_')[2] in parses_lt + tr_planets_lt else None).dropna().unique())\n",
    "# print('len unique -', len(tr_planets_asps_lt))\n",
    "# tr_planets_asps_lt = [asp for asp in tr_planets_asps_lt if asp not in parses_asps_lt]\n",
    "# print('len unique -', len(tr_planets_asps_lt))\n",
    "# str(tr_planets_asps_lt[:10])"
   ]
  },
  {
   "cell_type": "code",
   "execution_count": null,
   "id": "a6069fff-d5ab-4b57-9ede-7e7e8b92dc91",
   "metadata": {},
   "outputs": [],
   "source": [
    "# houses_asps_lt = list(df_main_asps.fs_asps_wt_pls.map(lambda x: x if x.split('_')[0].startswith('H') and x.split('_')[2] in parses_lt else None).dropna().unique())\n",
    "# print('len unique -', len(houses_asps_lt))\n",
    "# str(houses_asps_lt[:10])"
   ]
  },
  {
   "cell_type": "code",
   "execution_count": null,
   "id": "ccbe6046-a645-4304-b471-25995613a25d",
   "metadata": {},
   "outputs": [],
   "source": [
    "# str(df_main_asps.fs_asps_wt_pls.unique()) "
   ]
  },
  {
   "cell_type": "code",
   "execution_count": 132,
   "id": "37dfb0b8-76ef-4c83-b0bc-167f0349bc87",
   "metadata": {},
   "outputs": [],
   "source": [
    "book_asps_lt = ['H7_c_Mn', 'Mn_i_V1', 'Mn_i_V10', 'H10_c_AV1', 'H7_c_APl', 'H10_c_AV1', 'H7_c_AMn', 'Mn_t_APF', 'H10_c_AV10', 'H1_c_AV7', 'Mn_q_APF', 'H7_c_Pl', 'Mn_t_PF', 'DPF_o_APF', 'Mn_t_V7', \n",
    "                'H10_c_AV4', 'Mn_i_V4', 'Mn_q_AV7', 'PF_o_Pl', 'SN_c_APF', 'H10_c_V7', 'V1_o_APF', 'Mn_i_APF', 'Mn_q_V1', 'H10_c_V1', 'Ur_o_APF', 'H1_c_Pl', 'Mn_t_AV10', 'Mn_i_PF', 'PF_c_Ur', \n",
    "                'Mn_t_AV7', 'H1_c_Mn', 'Np_o_APF', 'H10_c_APl',  'Mn_t_AV1', 'H10_c_St', 'H10_c_Pl', 'PF_o_V7', 'H1_c_AV1', 'V1_c_APF', 'Mn_c_AV7', 'H1_c_Np', 'Mn_o_APF', 'H1_c_AV4', 'Pl_o_APF', \n",
    "                'Mn_q_PF', 'H7_c_APF', 'V7_o_APF', 'Mn_o_PF', 'Mn_q_V10', 'H10_c_Mn', 'Mn_c_AV4', 'Mn_i_AV7', 'H1_c_APF', 'Mn_c_AV10', 'Ur_c_APF', 'Mn_c_AV1', 'Mn_i_AV1', 'H1_c_V10', 'PF_o_Ur', 'Mn_q_V7',\n",
    "                'PF_c_SN', 'DPF_c_APF', 'H7_c_V10', 'Mn_i_AV4', 'H10_c_AMn', 'H4_c_V7', 'H10_c_ANp', 'H7_c_ANp', 'Np_c_APF', 'Mn_q_AV4', 'Mn_q_AV1', 'Mn_t_V1', 'PF_c_V1', 'PF_c_NN', 'H4_c_AV1', 'PF_c_V7', \n",
    "                'Mn_c_APF', 'Mn_i_AV10', 'H4_c_AMn','Mn_o_V4', 'Mn_o_V1', 'H10_c_Ur', 'PF_c_Pl', 'Mn_o_V7', 'Mn_q_AV10', 'H7_c_V4', 'H7_c_V1', 'H4_c_Mn', 'Mn_t_AV4', 'H4_c_Np', 'H1_c_St', 'Sn_c_APF', \n",
    "                'H1_c_AMn', 'Mn_i_V7', 'Mn_o_AV4', 'Mn_t_V4', 'NN_c_APF', 'Pl_c_APF', 'V7_c_APF', 'PF_c_Np', 'Mn_q_V4', 'Mn_o_AV7', 'Mn_o_AV10', 'H7_c_AV1', 'Mn_o_AV1', 'PF_c_Sn', 'H4_c_ANp', 'H7_c_AV7',\n",
    "                'PF_o_V1', 'PF_o_Sn', 'H1_c_V4', 'H4_c_V1', 'Mn_c_V1', 'Mn_c_V7', 'Mn_c_V4', 'H1_c_V1', 'Sn_o_APF', 'St_o_APF', 'H10_c_V4', 'PF_o_St', 'PF_c_DPF', 'H7_c_Np', 'Mn_t_V10', 'H1_c_ANp', \n",
    "                'PF_o_DPF', 'H10_c_AV7', 'AUr_c_PF', 'PF_c_St', 'H4_c_St', 'Mn_c_V10', 'H7_c_St', 'H1_c_V7', 'H4_c_Pl', 'H10_c_V10', 'H4_c_AV4', 'H1_c_APl', 'H7_c_V7', 'H7_c_AV10', 'Mn_c_PF', 'AUr_o_PF', \n",
    "                'PF_c_ANN', 'ANp_o_PF', 'PF_c_ASN', 'APl_c_PF', 'APl_o_PF', 'St_c_APF', 'ANp_c_PF']\n",
    "\n",
    "# book_asps_lt = pl_pars_asps_lt + parses_asps_lt + tr_planets_asps_lt + houses_asps_lt \n",
    "# print('len -', len(book_asps_lt))\n",
    "# str(book_asps_lt[:10])\n",
    "\n",
    "# Remove 'DPF_o_PF' aspect with meeting only one time and exist similar 'PF_o_DPF' aspect.\n",
    "# 'PF', 'PS','PC', 'PR', 'PG'"
   ]
  },
  {
   "cell_type": "code",
   "execution_count": 133,
   "id": "0cc8d6e4-c0af-4b48-b68a-331b0bbdae6e",
   "metadata": {},
   "outputs": [
    {
     "name": "stdout",
     "output_type": "stream",
     "text": [
      "shape -  2651273\n",
      "shape -  626971\n"
     ]
    }
   ],
   "source": [
    "print('shape - ', df_main_asps.shape[0])\n",
    "df_book_asps = df_main_asps[df_main_asps.fs_asps_wt_pls.isin(book_asps_lt)].copy()\n",
    "df_book_asps['fs_asps_wt_pls_cp'] = df_book_asps.fs_asps_wt_pls\n",
    "df_book_asps.set_index(keys=['game_id', 'fs_asps_wt_pls'], inplace=True)\n",
    "print('shape - ', df_book_asps.shape[0])"
   ]
  },
  {
   "cell_type": "code",
   "execution_count": 134,
   "id": "490339b5-208f-485b-a6bb-7d5439e7d27f",
   "metadata": {},
   "outputs": [
    {
     "data": {
      "text/plain": [
       "MultiIndex([('10906805',  'H7_c_Mn'),\n",
       "            ('10934817', 'Mn_i_V10'),\n",
       "            ('10906804', 'Mn_t_APF')],\n",
       "           names=['game_id', 'fs_asps_wt_pls'])"
      ]
     },
     "execution_count": 134,
     "metadata": {},
     "output_type": "execute_result"
    }
   ],
   "source": [
    "df_book_asps.index[:3]"
   ]
  },
  {
   "cell_type": "code",
   "execution_count": 135,
   "id": "ba1353fa-90c4-4f3e-adb3-a04c8975f964",
   "metadata": {},
   "outputs": [],
   "source": [
    "one_degree_asps = ['ANp_c_PF', 'ANp_o_PF', 'APl_c_PF', 'APl_o_PF', 'AUr_c_PF', 'AUr_o_PF', 'H10_c_ANp', 'H10_c_APl', 'H10_c_Pl', 'H10_c_Ur', 'H1_c_ANp', 'H1_c_APl', 'H1_c_Np', 'H1_c_Pl', 'H4_c_ANp',\n",
    "                   'H4_c_Np', 'H4_c_Pl', 'H7_c_ANp', 'H7_c_APl', 'H7_c_Np', 'H7_c_Pl',  'Np_c_APF', 'PF_c_Np', 'PF_c_Pl', 'PF_c_Ur', 'PF_o_Pl', 'PF_o_Ur', 'Pl_c_APF', 'Pl_o_APF', 'Ur_c_APF', 'Ur_o_APF']              \n",
    "# one_degree_asps = tr_planets_asps_lt\n",
    "# one_degree_asps[:3]"
   ]
  },
  {
   "cell_type": "code",
   "execution_count": 136,
   "id": "65bd7e18-8cb6-4a65-ac9c-c8a5ead128f6",
   "metadata": {},
   "outputs": [
    {
     "name": "stdout",
     "output_type": "stream",
     "text": [
      "shape - 539112\n"
     ]
    },
    {
     "data": {
      "text/plain": [
       "game_id   fs_asps_wt_pls\n",
       "10906805  H7_c_Mn            H7_c_Mn\n",
       "10934817  Mn_i_V10          Mn_i_V10\n",
       "10906804  Mn_t_APF          Mn_t_APF\n",
       "          Mn_i_V10          Mn_i_V10\n",
       "10906805  Mn_i_V1            Mn_i_V1\n",
       "dtype: object"
      ]
     },
     "execution_count": 136,
     "metadata": {},
     "output_type": "execute_result"
    }
   ],
   "source": [
    "sr_book_asps = df_book_asps[['fs_asps_wt_pls_cp', 'tr_orb']].apply(lambda x: x[0] if x[0] not in one_degree_asps else x[0] if x[1] <= 1.02 else None, axis=1).dropna()\n",
    "print('shape -', sr_book_asps.shape[0])\n",
    "sr_book_asps.head()"
   ]
  },
  {
   "cell_type": "code",
   "execution_count": 137,
   "id": "33e9e43c-ea2e-46df-8e06-928ad7ba9349",
   "metadata": {},
   "outputs": [
    {
     "name": "stdout",
     "output_type": "stream",
     "text": [
      "shape -  626971\n",
      "shape -  539112\n"
     ]
    }
   ],
   "source": [
    "print('shape - ', df_book_asps.shape[0])\n",
    "df_book_asps = df_book_asps[(df_book_asps.index.isin(sr_book_asps.index))].copy()\n",
    "print('shape - ', df_book_asps.shape[0])"
   ]
  },
  {
   "cell_type": "code",
   "execution_count": 138,
   "id": "35afa3c4-30f5-4426-8f56-3147564d7eb7",
   "metadata": {},
   "outputs": [],
   "source": [
    "two_degree_asps = ['H10_c_St', 'H1_c_APF', 'H1_c_St', 'H4_c_St', 'H7_c_APF', 'H7_c_St', 'NN_c_APF', 'Np_o_APF', 'PF_c_ANN', 'PF_c_ASN', 'PF_c_NN', 'PF_c_SN', 'PF_c_Sn', 'PF_c_St', 'PF_o_Sn', 'PF_o_St',\n",
    "                   'SN_c_APF', 'Sn_c_APF', 'Sn_o_APF', 'St_c_APF', 'St_o_APF', 'H10_c_AMn', 'H10_c_Mn', 'H1_c_AMn', 'H1_c_Mn', 'H4_c_AMn', 'H4_c_Mn', 'H7_c_AMn', 'H7_c_Mn']\n",
    "\n",
    "# two_degree_asps = pl_pars_asps_lt + parses_asps_lt + houses_asps_lt\n",
    "# two_degree_asps[:3]"
   ]
  },
  {
   "cell_type": "code",
   "execution_count": 139,
   "id": "8d90d99a-09c7-43da-807a-a38a2a3369da",
   "metadata": {},
   "outputs": [
    {
     "name": "stdout",
     "output_type": "stream",
     "text": [
      "shape - 513927\n"
     ]
    },
    {
     "data": {
      "text/plain": [
       "game_id   fs_asps_wt_pls\n",
       "10906805  H7_c_Mn            H7_c_Mn\n",
       "10934817  Mn_i_V10          Mn_i_V10\n",
       "10906804  Mn_t_APF          Mn_t_APF\n",
       "          Mn_i_V10          Mn_i_V10\n",
       "10906805  Mn_i_V1            Mn_i_V1\n",
       "dtype: object"
      ]
     },
     "execution_count": 139,
     "metadata": {},
     "output_type": "execute_result"
    }
   ],
   "source": [
    "sr_book_asps_two = df_book_asps[['fs_asps_wt_pls_cp', 'tr_orb']].apply(lambda x: x[0] if x[0] not in two_degree_asps else x[0] if x[1] <= 2.03 else None, axis=1).dropna()\n",
    "print('shape -', sr_book_asps_two.shape[0])\n",
    "sr_book_asps_two.head()"
   ]
  },
  {
   "cell_type": "code",
   "execution_count": 140,
   "id": "93f06037-02c2-4047-80bd-a7eb8421d856",
   "metadata": {},
   "outputs": [
    {
     "name": "stdout",
     "output_type": "stream",
     "text": [
      "shape -  539112\n",
      "shape -  513927\n"
     ]
    }
   ],
   "source": [
    "print('shape - ', df_book_asps.shape[0])\n",
    "df_book_asps = df_book_asps[(df_book_asps.index.isin(sr_book_asps_two.index))].copy()\n",
    "print('shape - ', df_book_asps.shape[0])"
   ]
  },
  {
   "cell_type": "code",
   "execution_count": 141,
   "id": "a723caaf-087d-4640-b35a-f135f7f84dfe",
   "metadata": {},
   "outputs": [],
   "source": [
    "in_out_asps = ['H10_c_AV1', 'H10_c_AV1', 'H10_c_AV10', 'H10_c_AV4', 'H10_c_AV7', 'H10_c_V1', 'H10_c_V10', 'H10_c_V4', 'H10_c_V7', 'H1_c_AV1', 'H1_c_AV4', 'H1_c_AV7', 'H1_c_V1', 'H1_c_V10', \n",
    "               'H1_c_V4', 'H1_c_V7', 'H4_c_AV1', 'H4_c_AV4', 'H4_c_V1', 'H4_c_V7', 'H7_c_AV1', 'H7_c_AV10', 'H7_c_AV7', 'H7_c_V1', 'H7_c_V10', 'H7_c_V4', 'H7_c_V7']\n",
    "\n",
    "# Add 'in' and 'out' to each aspekts(approach):\n",
    "# out_stat         1681\n",
    "# in_stat          1627\n",
    "# in_stat_weak      282\n",
    "# out_stat_weak     257"
   ]
  },
  {
   "cell_type": "code",
   "execution_count": 142,
   "id": "b3062cbf-c131-4242-9955-0dea24b3dfcf",
   "metadata": {},
   "outputs": [],
   "source": [
    "df_book_asps.fs_asps_wt_pls_cp = df_book_asps[['fs_asps_wt_pls_cp', 'approach']].apply(lambda x: x[0] if x[0] not in in_out_asps else x[0] +'_'+ x[1].split('_')[0] , axis=1)"
   ]
  },
  {
   "cell_type": "code",
   "execution_count": 143,
   "id": "a80ec896-72e6-4f40-b0e1-db7f03942d2c",
   "metadata": {},
   "outputs": [
    {
     "data": {
      "text/plain": [
       "Mn_q_V10    5163\n",
       "Mn_c_V1     5079\n",
       "Name: fs_asps_wt_pls_cp, dtype: int64"
      ]
     },
     "execution_count": 143,
     "metadata": {},
     "output_type": "execute_result"
    }
   ],
   "source": [
    "df_book_asps.fs_asps_wt_pls_cp.value_counts()[19:21]"
   ]
  },
  {
   "cell_type": "code",
   "execution_count": 144,
   "id": "2e59b505-6e42-4339-b170-66bec2b4524b",
   "metadata": {},
   "outputs": [
    {
     "data": {
      "text/plain": [
       "moon_conv_clear_compl            97461\n",
       "moon_conv_compl_weak             61849\n",
       "moon_diver                       44645\n",
       "moon_conv                        42546\n",
       "moon_conv_compl                  20051\n",
       "moon_conv_denide                 19709\n",
       "moon_diver_weak                   3440\n",
       "moon_moon_conv_denide_denide       942\n",
       "moon_diver_denide                  833\n",
       "moon_moon_diver_denide_denide      207\n",
       "dtype: int64"
      ]
     },
     "execution_count": 144,
     "metadata": {},
     "output_type": "execute_result"
    }
   ],
   "source": [
    "df_book_asps[['fs_asps_wt_pls_cp', 'approach']].apply(lambda x: x[1] if x[0].startswith('Mn') else None, axis=1).dropna().value_counts()\n",
    "# Add 'cl' to each aspekts(approach) and save only them:\n",
    "# 'moon_conv_clear_compl'\n",
    "# 'moon_conv_compl'\n",
    "# 'moon_conv_compl_weak'"
   ]
  },
  {
   "cell_type": "code",
   "execution_count": 145,
   "id": "d0ea8d4b-962e-4bf0-a60d-0d50f931ada4",
   "metadata": {},
   "outputs": [
    {
     "name": "stdout",
     "output_type": "stream",
     "text": [
      "shape - 401605\n"
     ]
    }
   ],
   "source": [
    "compl_lt          = ['moon_conv_clear_compl', 'moon_conv_compl_weak', 'moon_conv_compl']\n",
    "sr_book_asps_moon = df_book_asps[['fs_asps_wt_pls_cp', 'approach']].apply(lambda x: x[0] if not x[0].startswith('Mn') else x[0] + '_cl' if x[1] in compl_lt else None, axis=1).dropna()\n",
    "print('shape -', sr_book_asps_moon.shape[0])"
   ]
  },
  {
   "cell_type": "code",
   "execution_count": 146,
   "id": "5155df9f-0cf3-43ad-8a5b-1404699258f9",
   "metadata": {},
   "outputs": [
    {
     "name": "stdout",
     "output_type": "stream",
     "text": [
      "shape -  513927\n",
      "shape -  401605\n"
     ]
    }
   ],
   "source": [
    "print('shape - ', df_book_asps.shape[0])\n",
    "df_book_asps = df_book_asps[(df_book_asps.index.isin(sr_book_asps_moon.index))].copy()\n",
    "df_book_asps.fs_asps_wt_pls_cp = sr_book_asps_moon\n",
    "print('shape - ', df_book_asps.shape[0])"
   ]
  },
  {
   "cell_type": "code",
   "execution_count": 147,
   "id": "bca4c61d-9a1f-45b9-be95-45750f6945bf",
   "metadata": {},
   "outputs": [
    {
     "data": {
      "text/plain": [
       "Mn_o_PF_cl     9419\n",
       "Mn_t_PF_cl     8789\n",
       "Mn_i_APF_cl    7522\n",
       "Name: fs_asps_wt_pls_cp, dtype: int64"
      ]
     },
     "execution_count": 147,
     "metadata": {},
     "output_type": "execute_result"
    }
   ],
   "source": [
    "df_book_asps.fs_asps_wt_pls_cp.value_counts(dropna=False)[:3]"
   ]
  },
  {
   "cell_type": "code",
   "execution_count": 148,
   "id": "009128c4-891d-4fd6-bdb7-12f384fe66f6",
   "metadata": {},
   "outputs": [
    {
     "data": {
      "text/plain": [
       "conv_compl      1486\n",
       "diver_weak      1445\n",
       "diver_denide     561\n",
       "conv_denide      496\n",
       "Name: approach, dtype: int64"
      ]
     },
     "execution_count": 148,
     "metadata": {},
     "output_type": "execute_result"
    }
   ],
   "source": [
    "df_book_asps[df_book_asps.fs_asps_wt_pls_cp == 'PF_c_DPF'].approach.value_counts()\n",
    "# Add 'cl' to each aspekts(approach) and save only them:\n",
    "# 'conv_compl'"
   ]
  },
  {
   "cell_type": "code",
   "execution_count": 149,
   "id": "cb9e6e9b-9b43-4624-a6f6-76986d5b1f70",
   "metadata": {},
   "outputs": [
    {
     "name": "stdout",
     "output_type": "stream",
     "text": [
      "shape - 397233\n"
     ]
    }
   ],
   "source": [
    "pf_compl_lt = ['PF_c_DPF', 'PF_o_DPF'] \n",
    "sr_book_asps_pf = df_book_asps[['fs_asps_wt_pls_cp', 'approach']].apply(lambda x: x[0] if x[0] not in pf_compl_lt else x[0] + '_cl' if x[1] == 'conv_compl'  else None, axis=1).dropna()\n",
    "print('shape -', sr_book_asps_pf.shape[0])\n",
    "# sr_book_asps_pf.value_counts()\n",
    "# PF_c_DPF_cl     1779"
   ]
  },
  {
   "cell_type": "code",
   "execution_count": 150,
   "id": "0cb2f03e-a4bf-4e55-b18a-21f01dae41a6",
   "metadata": {},
   "outputs": [
    {
     "name": "stdout",
     "output_type": "stream",
     "text": [
      "shape -  401605\n",
      "shape -  397233\n"
     ]
    }
   ],
   "source": [
    "print('shape - ', df_book_asps.shape[0])\n",
    "df_book_asps = df_book_asps[(df_book_asps.index.isin(sr_book_asps_pf.index))].copy()\n",
    "df_book_asps.fs_asps_wt_pls_cp = sr_book_asps_pf\n",
    "print('shape - ', df_book_asps.shape[0])"
   ]
  },
  {
   "cell_type": "code",
   "execution_count": 151,
   "id": "43faf7e3-5516-434d-be44-6eeb5a352263",
   "metadata": {},
   "outputs": [
    {
     "data": {
      "text/plain": [
       "conv           1416\n",
       "conv_weak       202\n",
       "conv_denide      83\n",
       "Name: approach, dtype: int64"
      ]
     },
     "execution_count": 151,
     "metadata": {},
     "output_type": "execute_result"
    }
   ],
   "source": [
    "df_book_asps[df_book_asps.fs_asps_wt_pls_cp == 'DPF_c_APF'].approach.value_counts()\n",
    "# Add 'cl' to each aspekts(approach) and save only them:\n",
    "# 'conv'"
   ]
  },
  {
   "cell_type": "code",
   "execution_count": 152,
   "id": "24462a71-7639-49a2-ac79-88f3d3a3f0ba",
   "metadata": {},
   "outputs": [
    {
     "name": "stdout",
     "output_type": "stream",
     "text": [
      "shape - 396781\n"
     ]
    }
   ],
   "source": [
    "dpf_compl_lt = ['DPF_o_APF', 'DPF_c_APF'] \n",
    "sr_book_asps_dpf = df_book_asps[['fs_asps_wt_pls_cp', 'approach']].apply(lambda x: x[0] if x[0] not in dpf_compl_lt else x[0] + '_cl' if x[1] == 'conv'  else None, axis=1).dropna()\n",
    "print('shape -', sr_book_asps_dpf.shape[0])\n",
    "# sr_book_asps_dpf.value_counts()\n",
    "# DPF_c_APF_cl     1412"
   ]
  },
  {
   "cell_type": "code",
   "execution_count": 153,
   "id": "68374f71-ff8f-4adf-8e79-7ea498e45d6e",
   "metadata": {},
   "outputs": [
    {
     "name": "stdout",
     "output_type": "stream",
     "text": [
      "shape -  397233\n",
      "shape -  396781\n"
     ]
    }
   ],
   "source": [
    "print('shape - ', df_book_asps.shape[0])\n",
    "df_book_asps = df_book_asps[(df_book_asps.index.isin(sr_book_asps_dpf.index))].copy()\n",
    "df_book_asps.fs_asps_wt_pls_cp = sr_book_asps_dpf\n",
    "print('shape - ', df_book_asps.shape[0])"
   ]
  },
  {
   "cell_type": "code",
   "execution_count": 154,
   "id": "a5d622bd-54e9-4ecc-a704-a1b218f69017",
   "metadata": {},
   "outputs": [
    {
     "data": {
      "text/plain": [
       "conv            1556\n",
       "conv_compl       386\n",
       "diver_weak       312\n",
       "conv_weak        231\n",
       "conv_denide      188\n",
       "diver_denide     167\n",
       "Name: approach, dtype: int64"
      ]
     },
     "execution_count": 154,
     "metadata": {},
     "output_type": "execute_result"
    }
   ],
   "source": [
    "df_book_asps[df_book_asps.fs_asps_wt_pls_cp == 'PF_o_V1'].approach.value_counts()\n",
    "# Add 'cl' to each aspekts(approach) and save only them:\n",
    "# 'conv' and 'conv_compl'"
   ]
  },
  {
   "cell_type": "code",
   "execution_count": 155,
   "id": "7f6e7a30-22e8-4429-a9ea-ee64988ca44f",
   "metadata": {},
   "outputs": [
    {
     "name": "stdout",
     "output_type": "stream",
     "text": [
      "shape - 392150\n"
     ]
    }
   ],
   "source": [
    "pf_vld_compl_lt = ['PF_c_V1', 'PF_o_V1', 'PF_c_V7', 'PF_o_V7', 'V1_c_APF', 'V1_o_APF', 'V7_c_APF', 'V7_o_APF'] \n",
    "sr_book_asps_pf_vld = df_book_asps[['fs_asps_wt_pls_cp', 'approach']].apply(lambda x: x[0] if x[0] not in pf_vld_compl_lt else x[0] + '_cl' if x[1] in ['conv', 'conv_compl']  else None, axis=1).dropna()\n",
    "print('shape -', sr_book_asps_pf_vld.shape[0])\n",
    "# sr_book_asps_pf_vld.value_counts()\n",
    "# PF_o_V1_cl        1656"
   ]
  },
  {
   "cell_type": "code",
   "execution_count": 156,
   "id": "18e57843-1376-401d-8eec-291786400d35",
   "metadata": {},
   "outputs": [
    {
     "name": "stdout",
     "output_type": "stream",
     "text": [
      "shape -  396781\n",
      "shape -  392150\n"
     ]
    }
   ],
   "source": [
    "print('shape - ', df_book_asps.shape[0])\n",
    "df_book_asps = df_book_asps[(df_book_asps.index.isin(sr_book_asps_pf_vld.index))].copy()\n",
    "df_book_asps.fs_asps_wt_pls_cp = sr_book_asps_dpf\n",
    "print('shape - ', df_book_asps.shape[0])"
   ]
  },
  {
   "cell_type": "code",
   "execution_count": 157,
   "id": "d66b757d-2482-4a0b-b035-fd6f682eb9e9",
   "metadata": {},
   "outputs": [
    {
     "name": "stdout",
     "output_type": "stream",
     "text": [
      "len fav_asps_lt - 58\n",
      "len pre_asps_lt - 72\n"
     ]
    }
   ],
   "source": [
    "fav_asps_lt = ['DPF_c_APF_cl', 'H10_c_AMn', 'H10_c_AV4_in', 'H10_c_AV7_in', 'H10_c_Mn', 'H10_c_Ur', \n",
    "               'H10_c_V4_in', 'H10_c_V7_in', 'H1_c_AMn', 'H7_c_APl', 'H1_c_APF',  'H1_c_AV4_in', 'H1_c_AV7_in', 'H1_c_Mn', \n",
    "               'H1_c_V4_in', 'H1_c_V7_in', 'H4_c_AV1_out', 'H4_c_Pl', 'H4_c_St', 'H4_c_V1_out', 'H7_c_AV10_out', 'H7_c_AV1_out', 'H7_c_Pl', 'H7_c_St', 'H7_c_V10_out',\n",
    "               'H7_c_V1_out', 'Mn_c_APF_cl', 'Mn_c_AV10_cl', 'Mn_c_AV1_cl', 'Mn_c_PF_cl', 'Mn_c_V10_cl', 'Mn_c_V1_cl', 'Mn_i_APF_cl', 'Mn_i_AV10_cl', 'Mn_i_AV1_cl', 'Mn_i_PF_cl', 'Mn_i_V10_cl', \n",
    "               'Mn_i_V1_cl', 'Mn_o_AV10_cl', 'Mn_o_AV1_cl', 'Mn_o_V1_cl', 'Mn_q_AV10_cl', 'Mn_q_AV1_cl', 'Mn_q_V10_cl', 'Mn_q_V1_cl', 'Mn_t_APF_cl', 'Mn_t_AV10_cl', 'Mn_t_AV1_cl', 'Mn_t_PF_cl', \n",
    "               'Mn_t_V10_cl', 'Mn_t_V1_cl', 'NN_c_APF', 'PF_c_DPF_cl', 'PF_c_NN', 'PF_c_Ur', 'PF_c_V1_cl', 'V1_c_APF_cl', 'V7_o_APF_cl']\n",
    "\n",
    "pre_asps_lt = ['DPF_o_APF_cl', 'H10_c_APl', 'H10_c_AV4_out', 'H10_c_AV7_out', 'H10_c_Pl', 'H10_c_St', 'H10_c_V4_out', 'H10_c_V7_out', 'H1_c_APl', 'H1_c_AV4_out', 'H1_c_AV7_out', 'H1_c_Pl', 'H1_c_St',\n",
    "               'H1_c_V1_out', 'H1_c_V4_out', 'H1_c_V7_out', 'H4_c_AMn', 'H4_c_AV1_in', 'H4_c_Mn', 'H4_c_V1_in',  'H7_c_AMn', 'H7_c_APF', \n",
    "               'H7_c_AV10_in', 'H7_c_AV1_in',  'H7_c_Mn', 'H7_c_V10_in', 'H7_c_V1_in', 'Mn_c_AV4_cl', 'Mn_c_AV7_cl',\n",
    "               'Mn_c_V4_cl', 'Mn_c_V7_cl', 'Mn_i_AV4_cl', 'Mn_i_AV7_cl', 'Mn_i_V4_cl', 'Mn_i_V7_cl', 'Mn_o_APF_cl', 'Mn_o_AV4_cl', 'Mn_o_AV7_cl', 'Mn_o_PF_cl', 'Mn_o_V4_cl', 'Mn_o_V7_cl', 'Mn_q_APF_cl',\n",
    "               'Mn_q_AV4_cl', 'Mn_q_AV7_cl', 'Mn_q_PF_cl', 'Mn_q_V4_cl', 'Mn_q_V7_cl', 'Mn_t_AV4_cl', 'Mn_t_AV7_cl', 'Mn_t_V4_cl', 'Mn_t_V7_cl', 'PF_c_Pl', 'PF_c_SN', 'PF_c_Sn', 'PF_c_St', 'PF_c_V7_cl',\n",
    "               'PF_o_DPF_cl', 'PF_o_Pl', 'PF_o_Sn', 'PF_o_St', 'PF_o_Ur', 'PF_o_V1_cl', 'PF_o_V7_cl', 'Pl_c_APF', 'Pl_o_APF', 'SN_c_APF', 'Sn_c_APF', 'Sn_o_APF', 'St_c_APF', 'St_o_APF', 'V1_o_APF_cl', \n",
    "               'V7_c_APF_cl']\n",
    "# Not using\n",
    "# 'Ur_c_APF', 'Ur_o_APF', 'H10_c_ANp', 'H10_c_Np', 'H1_c_ANp', 'H1_c_Np', 'H4_c_ANp', 'H4_c_Np', 'H7_c_ANp', 'H7_c_Np', 'Np_c_APF', 'Np_o_APF', 'Np_c_PF', 'Np_o_PF', 'PF_c_Np'\n",
    "# Fav - 'H10_c_AV10_in', 'H10_c_AV10_out', 'H10_c_AV1_in', 'H10_c_AV1_out', 'H10_c_V10_in', 'H10_c_V10_out', 'H10_c_V1_in', 'H10_c_V1_out', 'H1_c_AV1_in', 'H1_c_AV1_out', 'H1_c_V10_in', \n",
    "# 'H1_c_V10_out', 'H1_c_V1_in', \n",
    "# Pre - 'H4_c_AV4_in', 'H4_c_AV4_out', 'H4_c_V7_in', 'H4_c_V7_out', 'H7_c_AV7_in', 'H7_c_AV7_out', 'H7_c_V4_in', 'H7_c_V4_out', 'H7_c_V7_in', 'H7_c_V7_out',\n",
    "\n",
    "print('len fav_asps_lt -', len(fav_asps_lt))\n",
    "print('len pre_asps_lt -', len(pre_asps_lt))"
   ]
  },
  {
   "cell_type": "code",
   "execution_count": 158,
   "id": "e71b3de3-0f28-4906-b5ea-5c85a963043b",
   "metadata": {},
   "outputs": [
    {
     "name": "stdout",
     "output_type": "stream",
     "text": [
      "shape -  392150\n",
      "shape -  305727\n"
     ]
    }
   ],
   "source": [
    "print('shape - ', df_book_asps.shape[0])\n",
    "df_book_asps = df_book_asps[(df_book_asps.fs_asps_wt_pls_cp.isin(fav_asps_lt)) | (df_book_asps.fs_asps_wt_pls_cp.isin(pre_asps_lt))].copy()\n",
    "print('shape - ', df_book_asps.shape[0])"
   ]
  },
  {
   "cell_type": "code",
   "execution_count": 159,
   "id": "b310eb89-ee8b-4926-841a-e5a7cafd0e78",
   "metadata": {},
   "outputs": [
    {
     "data": {
      "text/plain": [
       "Mn_o_PF_cl     9419\n",
       "Mn_t_PF_cl     8789\n",
       "Mn_i_APF_cl    7522\n",
       "Mn_q_APF_cl    7311\n",
       "Mn_t_APF_cl    7300\n",
       "Name: fs_asps_wt_pls_cp, dtype: int64"
      ]
     },
     "execution_count": 159,
     "metadata": {},
     "output_type": "execute_result"
    }
   ],
   "source": [
    "df_book_asps.fs_asps_wt_pls_cp.value_counts(dropna=False)[:5]"
   ]
  },
  {
   "cell_type": "code",
   "execution_count": 160,
   "id": "852c2e65-590a-4dd5-8541-3087906d99ba",
   "metadata": {},
   "outputs": [],
   "source": [
    "df_book_asps['fav_asps'] = df_book_asps.fs_asps_wt_pls_cp.map(lambda x: x if x in fav_asps_lt else None)\n",
    "df_book_asps['pre_asps'] = df_book_asps.fs_asps_wt_pls_cp.map(lambda x: x if x in pre_asps_lt else None)"
   ]
  },
  {
   "cell_type": "code",
   "execution_count": 161,
   "id": "166153cc-8376-4c39-853e-287d76261373",
   "metadata": {},
   "outputs": [
    {
     "data": {
      "text/plain": [
       "None           158352\n",
       "Mn_t_PF_cl       8789\n",
       "Mn_i_APF_cl      7522\n",
       "Mn_t_APF_cl      7300\n",
       "Mn_i_V1_cl       6589\n",
       "Name: fav_asps, dtype: int64"
      ]
     },
     "execution_count": 161,
     "metadata": {},
     "output_type": "execute_result"
    }
   ],
   "source": [
    "df_book_asps.fav_asps.value_counts(dropna=False)[:5]"
   ]
  },
  {
   "cell_type": "code",
   "execution_count": 162,
   "id": "8af5f922-a22e-4633-9552-ed8ded5a9f85",
   "metadata": {},
   "outputs": [
    {
     "data": {
      "text/plain": [
       "None           147375\n",
       "Mn_o_PF_cl       9419\n",
       "Mn_q_APF_cl      7311\n",
       "Mn_t_V7_cl       6430\n",
       "Mn_i_V7_cl       6345\n",
       "Name: pre_asps, dtype: int64"
      ]
     },
     "execution_count": 162,
     "metadata": {},
     "output_type": "execute_result"
    }
   ],
   "source": [
    "df_book_asps.pre_asps.value_counts(dropna=False)[:5]"
   ]
  },
  {
   "cell_type": "code",
   "execution_count": 163,
   "id": "d54e7074-01fd-4c42-9cc3-305373aa1a81",
   "metadata": {},
   "outputs": [
    {
     "name": "stdout",
     "output_type": "stream",
     "text": [
      "shape -  305727\n",
      "shape -  80917\n"
     ]
    }
   ],
   "source": [
    "# Only some liague ################################################################################################# Ligue #########################################################################################\n",
    "print('shape - ', df_book_asps.shape[0])\n",
    "df_book_asps = df_book_asps[df_book_asps.ligue.isin(['top'])].copy() # 'sec', 'thr'\n",
    "print('shape - ', df_book_asps.shape[0])"
   ]
  },
  {
   "cell_type": "code",
   "execution_count": 164,
   "id": "5691a9ab-f953-4e03-9276-012cc1b35679",
   "metadata": {},
   "outputs": [],
   "source": [
    "# Only some countries\n",
    "# print('shape - ', df_book_asps.shape[0])\n",
    "# df_book_asps = df_book_asps[df_book_asps.country.isin(['United Kingdom', 'Spain', 'France', 'Germany', 'Italy',])]# 'Turkey', 'Romania', 'Portugal', 'Denmark', ])].copy() # 'sec', 'thr'\n",
    "# print('shape - ', df_book_asps.shape[0])"
   ]
  },
  {
   "cell_type": "code",
   "execution_count": 165,
   "id": "ca911297-514f-4511-a2fc-9235a32c60fd",
   "metadata": {},
   "outputs": [],
   "source": [
    "# df_book_asps.country.value_counts(dropna=False)\n",
    "# Brazil            629\n",
    "# Romania           340\n",
    "# Spain             336\n",
    "# United Kingdom    332\n",
    "# Portugal          280\n",
    "# France            227\n",
    "# Germany           209\n",
    "# Belarus           193\n",
    "# Russia            167\n",
    "# Turkey            162\n",
    "# Denmark           139\n",
    "# Greece            133\n",
    "# Italy             117\n",
    "# Poland            115\n",
    "# Uruguay           109\n",
    "# Sweden            105\n",
    "# Croatia            96\n",
    "# Finland            94\n",
    "# Serbia             91\n",
    "# Belgium            80\n",
    "# Czech Republic     71\n",
    "# Netherlands        65\n",
    "# Ukraine            58\n",
    "# Hungary            50\n",
    "# Switzerland        39\n",
    "# Austria            22\n",
    "# Brazilia           17\n",
    "# England            15\n",
    "# Bulgaria           12\n",
    "# Czechia             7\n",
    "# Scotland            6\n",
    "# Monaco              4\n",
    "# Liechtenstein       3\n",
    "# Wales               2"
   ]
  },
  {
   "cell_type": "code",
   "execution_count": 166,
   "id": "a756b708-081e-4ed2-9ff7-a5f607d149f7",
   "metadata": {},
   "outputs": [
    {
     "data": {
      "text/plain": [
       "Sat    31281\n",
       "Sun    25911\n",
       "Fri     8821\n",
       "Mon     4918\n",
       "Wed     4884\n",
       "Tue     3026\n",
       "Thu     2076\n",
       "Name: game_utc, dtype: int64"
      ]
     },
     "execution_count": 166,
     "metadata": {},
     "output_type": "execute_result"
    }
   ],
   "source": [
    "df_book_asps.game_utc.map(lambda x: x.day_name()[:3]).value_counts() "
   ]
  },
  {
   "cell_type": "code",
   "execution_count": 167,
   "id": "f55e4796-dfe4-49d1-a421-c139817ca65d",
   "metadata": {},
   "outputs": [
    {
     "name": "stdout",
     "output_type": "stream",
     "text": [
      "shape -  80917\n",
      "shape -  23725\n"
     ]
    }
   ],
   "source": [
    "# Only active days games time\n",
    "df_book_asps['day_name'] = df_book_asps.game_utc.map(lambda x: x.day_name()[:3])\n",
    "print('shape - ', df_book_asps.shape[0])\n",
    "df_book_asps = df_book_asps[~df_book_asps.day_name.isin(['Sat', 'Sun'])].copy()\n",
    "print('shape - ', df_book_asps.shape[0])"
   ]
  },
  {
   "cell_type": "code",
   "execution_count": 168,
   "id": "fa94158f-e9cb-4129-843e-fdd1edda8ffe",
   "metadata": {},
   "outputs": [],
   "source": [
    "df_book_asps.reset_index(inplace=True)\n",
    "df_book_asps.drop(columns='fs_asps_wt_pls', inplace=True)\n",
    "df_book_asps.rename(columns={'fs_asps_wt_pls_cp':'fs_asps_wt_pls'}, inplace=True)"
   ]
  },
  {
   "cell_type": "code",
   "execution_count": 169,
   "id": "d613c0a0-7313-4664-a21f-5e585ef7838f",
   "metadata": {},
   "outputs": [],
   "source": [
    "def bets_description(win_bets: float, drow_bets: float, loss_bets: float):\n",
    "    if win_bets != 0:\n",
    "        return 'win_' + str(win_bets) \n",
    "    elif drow_bets != 0:\n",
    "        return 'drow_' + str(drow_bets)\n",
    "    else:\n",
    "        return 'loss_' + str(loss_bets)\n",
    "    \n",
    "df_book_asps['bets_desc'] = df_book_asps[['win_bets', 'drow_bets', 'loss_bets']].apply(lambda x: bets_description(x[0], x[1], x[2]), axis=1)  "
   ]
  },
  {
   "cell_type": "code",
   "execution_count": 170,
   "id": "424306b8-bb8b-4c98-a104-b3fb860e9f4a",
   "metadata": {},
   "outputs": [],
   "source": [
    "fs_asps_wt_pls_lt  = df_book_asps.groupby('game_id').fs_asps_wt_pls.apply(tuple)\n",
    "fav_asps_wt_pls_lt = df_book_asps.groupby('game_id').fav_asps.apply(tuple)\n",
    "pre_asps_wt_pls_lt = df_book_asps.groupby('game_id').pre_asps.apply(tuple)"
   ]
  },
  {
   "cell_type": "code",
   "execution_count": 171,
   "id": "f4059173-0b92-4034-9962-90a1e9799229",
   "metadata": {},
   "outputs": [],
   "source": [
    "df_book_asps.drop(columns=['fs_asps_wt_pls', 'fav_asps', 'pre_asps'], inplace=True)"
   ]
  },
  {
   "cell_type": "code",
   "execution_count": 172,
   "id": "955703a4-752b-4e2f-b5bc-e9d0ae61c92a",
   "metadata": {},
   "outputs": [],
   "source": [
    "df_book_asps = df_book_asps.merge(fs_asps_wt_pls_lt,  how='left', left_on='game_id', right_index=True)\n",
    "df_book_asps = df_book_asps.merge(fav_asps_wt_pls_lt, how='left', left_on='game_id', right_index=True)\n",
    "df_book_asps = df_book_asps.merge(pre_asps_wt_pls_lt, how='left', left_on='game_id', right_index=True)"
   ]
  },
  {
   "cell_type": "code",
   "execution_count": 173,
   "id": "8344a327-e508-413e-90db-b6db1febe0e8",
   "metadata": {},
   "outputs": [],
   "source": [
    "df_book_asps.rename(columns={'fs_asps_wt_pls':'fs_asps_wt_pls_lt', 'fav_asps':'fav_asps_lt', 'pre_asps':'pre_asps_lt'}, inplace=True)"
   ]
  },
  {
   "cell_type": "code",
   "execution_count": 174,
   "id": "f8507295-83f4-4842-8c51-7e508691a4cd",
   "metadata": {},
   "outputs": [],
   "source": [
    "df_book_asps.drop_duplicates(subset='game_id', inplace=True)"
   ]
  },
  {
   "cell_type": "code",
   "execution_count": 175,
   "id": "9315d3d8-5983-4249-815c-7ab74dad64a2",
   "metadata": {},
   "outputs": [],
   "source": [
    "df_book_asps.fav_asps_lt = df_book_asps.fav_asps_lt.map(lambda x: [var for var in x if var != None])\n",
    "df_book_asps.pre_asps_lt = df_book_asps.pre_asps_lt.map(lambda x: [var for var in x if var != None])"
   ]
  },
  {
   "cell_type": "code",
   "execution_count": 176,
   "id": "b04f338c-63ad-4e51-9d66-9fbbc0fcc5bc",
   "metadata": {},
   "outputs": [
    {
     "data": {
      "text/plain": [
       "[]              6136\n",
       "[Mn_q_V1_cl]     383\n",
       "[Mn_t_PF_cl]     359\n",
       "Name: fav_asps_lt, dtype: int64"
      ]
     },
     "execution_count": 176,
     "metadata": {},
     "output_type": "execute_result"
    }
   ],
   "source": [
    "df_book_asps.fav_asps_lt.value_counts(dropna=False).head(3)"
   ]
  },
  {
   "cell_type": "code",
   "execution_count": 177,
   "id": "d8392a61-178a-4ff7-ac1c-998fba0768fc",
   "metadata": {},
   "outputs": [],
   "source": [
    "df_book_asps['fav_cnt_asps'] = df_book_asps.fav_asps_lt.map(lambda x: len(x))\n",
    "df_book_asps['pre_cnt_asps'] = df_book_asps.pre_asps_lt.map(lambda x: len(x))"
   ]
  },
  {
   "cell_type": "code",
   "execution_count": 178,
   "id": "a3a4f1b7-b993-4eb3-81e2-afd6ff8fee21",
   "metadata": {},
   "outputs": [],
   "source": [
    "def aspects_goals_concatinate(host_role: str, fav_cnt_asps: int, pre_cnt_asps: int):\n",
    "    if host_role == 'Fav':\n",
    "        return str(fav_cnt_asps) +':'+ str(pre_cnt_asps)\n",
    "    else:\n",
    "        return str(pre_cnt_asps) +':'+ str(fav_cnt_asps)\n",
    "\n",
    "df_book_asps['asps_goals'] = df_book_asps[['host_role', 'fav_cnt_asps', 'pre_cnt_asps']].apply(lambda x: aspects_goals_concatinate(x[0], x[1], x[2]), axis=1)"
   ]
  },
  {
   "cell_type": "code",
   "execution_count": 179,
   "id": "4338d179-9617-4a2d-b8dd-96a777184390",
   "metadata": {},
   "outputs": [
    {
     "name": "stdout",
     "output_type": "stream",
     "text": [
      "shape -  15384\n",
      "shape -  9104\n"
     ]
    }
   ],
   "source": [
    "# Only one aspect\n",
    "df_book_asps['asps_cnt'] = df_book_asps.fs_asps_wt_pls_lt.map(lambda x: len(x))\n",
    "print('shape - ', df_book_asps.shape[0])\n",
    "df_book_asps = df_book_asps[df_book_asps.asps_cnt == 1].copy()\n",
    "print('shape - ', df_book_asps.shape[0])"
   ]
  },
  {
   "cell_type": "code",
   "execution_count": 180,
   "id": "6dc29bb3-538a-458a-bdee-c90f3b7b7fb3",
   "metadata": {},
   "outputs": [
    {
     "name": "stdout",
     "output_type": "stream",
     "text": [
      "shape -  9104\n",
      "shape -  4107\n"
     ]
    }
   ],
   "source": [
    "# Only unique date-time\n",
    "print('shape - ', df_book_asps.shape[0])\n",
    "df_book_asps.drop_duplicates(subset='game_utc', keep=False, inplace=True)\n",
    "print('shape - ', df_book_asps.shape[0])"
   ]
  },
  {
   "cell_type": "code",
   "execution_count": 181,
   "id": "8e3cb271-ab59-4c5e-8225-637c7d4c7ef5",
   "metadata": {},
   "outputs": [
    {
     "name": "stdout",
     "output_type": "stream",
     "text": [
      "df_check shape -  585\n",
      "min date 2022-10-03 16:00:00\n",
      "max date 2023-10-05 23:00:00\n"
     ]
    }
   ],
   "source": [
    "# Create df for check\n",
    "df_check = df_book_asps[df_book_asps.game_utc >= '2022.10'].copy()\n",
    "# df_check = df_book_asps[(df_book_asps.game_utc >= '2020.11') & (df_book_asps.game_utc < '2021.04')].copy()\n",
    "print('df_check shape - ', df_check.shape[0])\n",
    "print('min date', min(df_check.game_utc))\n",
    "print('max date', max(df_check.game_utc))"
   ]
  },
  {
   "cell_type": "code",
   "execution_count": 182,
   "id": "97d5eaa1-cb59-4c31-993b-44fd3fc22e89",
   "metadata": {},
   "outputs": [
    {
     "name": "stdout",
     "output_type": "stream",
     "text": [
      "df_book_asps shape -  2971\n",
      "min date 2013-11-07 21:30:00\n",
      "max date 2020-10-30 19:00:00\n"
     ]
    }
   ],
   "source": [
    "# df_book_asps = df_book_asps[~df_book_asps.game_id.isin(df_check.game_id)].copy()\n",
    "df_book_asps = df_book_asps[(~df_book_asps.game_id.isin(df_check.game_id)) & (df_book_asps.game_utc < '2020.11')].copy()\n",
    "print('df_book_asps shape - ', df_book_asps.shape[0])\n",
    "print('min date', min(df_book_asps.game_utc))\n",
    "print('max date', max(df_book_asps.game_utc))"
   ]
  },
  {
   "cell_type": "code",
   "execution_count": 183,
   "id": "4fc1293c-5c1b-4335-be37-f5d696492005",
   "metadata": {},
   "outputs": [],
   "source": [
    "df_book_asps.reset_index(drop=True, inplace=True)"
   ]
  },
  {
   "cell_type": "code",
   "execution_count": 184,
   "id": "e9b3a989-e342-41b4-8375-37a661712f99",
   "metadata": {},
   "outputs": [
    {
     "data": {
      "text/html": [
       "<div>\n",
       "<style scoped>\n",
       "    .dataframe tbody tr th:only-of-type {\n",
       "        vertical-align: middle;\n",
       "    }\n",
       "\n",
       "    .dataframe tbody tr th {\n",
       "        vertical-align: top;\n",
       "    }\n",
       "\n",
       "    .dataframe thead th {\n",
       "        text-align: right;\n",
       "    }\n",
       "</style>\n",
       "<table border=\"1\" class=\"dataframe\">\n",
       "  <thead>\n",
       "    <tr style=\"text-align: right;\">\n",
       "      <th></th>\n",
       "      <th>game_id</th>\n",
       "      <th>ligue_header</th>\n",
       "      <th>season_id</th>\n",
       "      <th>game_utc</th>\n",
       "      <th>goals</th>\n",
       "      <th>ligue</th>\n",
       "      <th>actual_city</th>\n",
       "      <th>actual_country</th>\n",
       "      <th>f_team</th>\n",
       "      <th>s_team</th>\n",
       "      <th>pos_f</th>\n",
       "      <th>pos_s</th>\n",
       "      <th>pts_f</th>\n",
       "      <th>pts_s</th>\n",
       "      <th>1</th>\n",
       "      <th>X</th>\n",
       "      <th>2</th>\n",
       "      <th>un_2.5</th>\n",
       "      <th>ov_2.5</th>\n",
       "      <th>country</th>\n",
       "      <th>city</th>\n",
       "      <th>lat</th>\n",
       "      <th>lon</th>\n",
       "      <th>f_point</th>\n",
       "      <th>s_point</th>\n",
       "      <th>type</th>\n",
       "      <th>approach</th>\n",
       "      <th>sing</th>\n",
       "      <th>tr_orb</th>\n",
       "      <th>bp_asp</th>\n",
       "      <th>den_point</th>\n",
       "      <th>smain_ch</th>\n",
       "      <th>fmain_ch</th>\n",
       "      <th>f_role</th>\n",
       "      <th>s_role</th>\n",
       "      <th>fs_asps</th>\n",
       "      <th>day_month_yr</th>\n",
       "      <th>cnt_asp_for_day</th>\n",
       "      <th>f_role_wt_pls</th>\n",
       "      <th>s_role_wt_pls</th>\n",
       "      <th>cnt_asp_wt_pls_for_day</th>\n",
       "      <th>month_yr</th>\n",
       "      <th>moon_day</th>\n",
       "      <th>nakshatras</th>\n",
       "      <th>week_day</th>\n",
       "      <th>day</th>\n",
       "      <th>goals_count</th>\n",
       "      <th>host_role</th>\n",
       "      <th>result</th>\n",
       "      <th>fav_goals</th>\n",
       "      <th>win_bets</th>\n",
       "      <th>drow_bets</th>\n",
       "      <th>loss_bets</th>\n",
       "      <th>day_name</th>\n",
       "      <th>bets_desc</th>\n",
       "      <th>fs_asps_wt_pls_lt</th>\n",
       "      <th>fav_asps_lt</th>\n",
       "      <th>pre_asps_lt</th>\n",
       "      <th>fav_cnt_asps</th>\n",
       "      <th>pre_cnt_asps</th>\n",
       "      <th>asps_goals</th>\n",
       "      <th>asps_cnt</th>\n",
       "    </tr>\n",
       "  </thead>\n",
       "  <tbody>\n",
       "    <tr>\n",
       "      <th>2970</th>\n",
       "      <td>1442616</td>\n",
       "      <td>Premier League</td>\n",
       "      <td>306</td>\n",
       "      <td>2020-10-30 19:00:00</td>\n",
       "      <td>2:0</td>\n",
       "      <td>top</td>\n",
       "      <td>Wolverhampton</td>\n",
       "      <td>United Kingdom</td>\n",
       "      <td>Wolverhampton</td>\n",
       "      <td>Crystal Palace</td>\n",
       "      <td>13</td>\n",
       "      <td>14</td>\n",
       "      <td>45</td>\n",
       "      <td>44</td>\n",
       "      <td>1.98</td>\n",
       "      <td>3.26</td>\n",
       "      <td>4.56</td>\n",
       "      <td>1.56</td>\n",
       "      <td>2.5</td>\n",
       "      <td>United Kingdom</td>\n",
       "      <td>Wolverhampton</td>\n",
       "      <td>52n35</td>\n",
       "      <td>2w7</td>\n",
       "      <td>H10</td>\n",
       "      <td>ASn</td>\n",
       "      <td>c</td>\n",
       "      <td>in_stat</td>\n",
       "      <td>equal</td>\n",
       "      <td>2.1</td>\n",
       "      <td>no</td>\n",
       "      <td>()</td>\n",
       "      <td>AV4</td>\n",
       "      <td></td>\n",
       "      <td>H10</td>\n",
       "      <td>ASn-AV4-in</td>\n",
       "      <td>H10_c_ASn-AV4-in</td>\n",
       "      <td>2020-10-30</td>\n",
       "      <td>9</td>\n",
       "      <td>H10</td>\n",
       "      <td>AV4</td>\n",
       "      <td>12</td>\n",
       "      <td>10.2020</td>\n",
       "      <td>13</td>\n",
       "      <td>None</td>\n",
       "      <td>4</td>\n",
       "      <td>20</td>\n",
       "      <td>2</td>\n",
       "      <td>Fav</td>\n",
       "      <td>fav_win</td>\n",
       "      <td>2</td>\n",
       "      <td>1.98</td>\n",
       "      <td>0.0</td>\n",
       "      <td>0.0</td>\n",
       "      <td>Fri</td>\n",
       "      <td>win_1.98</td>\n",
       "      <td>(H10_c_AV4_in,)</td>\n",
       "      <td>[H10_c_AV4_in]</td>\n",
       "      <td>[]</td>\n",
       "      <td>1</td>\n",
       "      <td>0</td>\n",
       "      <td>1:0</td>\n",
       "      <td>1</td>\n",
       "    </tr>\n",
       "  </tbody>\n",
       "</table>\n",
       "</div>"
      ],
      "text/plain": [
       "      game_id    ligue_header season_id            game_utc goals ligue  \\\n",
       "2970  1442616  Premier League       306 2020-10-30 19:00:00   2:0   top   \n",
       "\n",
       "        actual_city  actual_country         f_team          s_team pos_f  \\\n",
       "2970  Wolverhampton  United Kingdom  Wolverhampton  Crystal Palace    13   \n",
       "\n",
       "     pos_s pts_f pts_s     1     X     2  un_2.5  ov_2.5         country  \\\n",
       "2970    14    45    44  1.98  3.26  4.56    1.56     2.5  United Kingdom   \n",
       "\n",
       "               city    lat  lon f_point s_point type approach   sing  tr_orb  \\\n",
       "2970  Wolverhampton  52n35  2w7     H10     ASn    c  in_stat  equal     2.1   \n",
       "\n",
       "     bp_asp den_point smain_ch fmain_ch f_role      s_role           fs_asps  \\\n",
       "2970     no        ()      AV4             H10  ASn-AV4-in  H10_c_ASn-AV4-in   \n",
       "\n",
       "     day_month_yr  cnt_asp_for_day f_role_wt_pls s_role_wt_pls  \\\n",
       "2970   2020-10-30                9           H10           AV4   \n",
       "\n",
       "      cnt_asp_wt_pls_for_day month_yr  moon_day nakshatras  week_day day  \\\n",
       "2970                      12  10.2020        13       None         4  20   \n",
       "\n",
       "      goals_count host_role   result  fav_goals  win_bets  drow_bets  \\\n",
       "2970            2       Fav  fav_win          2      1.98        0.0   \n",
       "\n",
       "      loss_bets day_name bets_desc fs_asps_wt_pls_lt     fav_asps_lt  \\\n",
       "2970        0.0      Fri  win_1.98   (H10_c_AV4_in,)  [H10_c_AV4_in]   \n",
       "\n",
       "     pre_asps_lt  fav_cnt_asps  pre_cnt_asps asps_goals  asps_cnt  \n",
       "2970          []             1             0        1:0         1  "
      ]
     },
     "execution_count": 184,
     "metadata": {},
     "output_type": "execute_result"
    }
   ],
   "source": [
    "df_book_asps.tail(1)"
   ]
  },
  {
   "cell_type": "code",
   "execution_count": 185,
   "id": "ee7663fb-bc3e-4d6b-b851-8189a17e6b6f",
   "metadata": {},
   "outputs": [
    {
     "data": {
      "text/plain": [
       "['Mn_i_V4_cl', 'Mn_o_PF_cl', 'Mn_o_PF_cl']"
      ]
     },
     "execution_count": 185,
     "metadata": {},
     "output_type": "execute_result"
    }
   ],
   "source": [
    "win_asps_lt = []\n",
    "_ = df_book_asps[['result', 'fs_asps_wt_pls_lt']].apply(lambda x: [win_asps_lt.append(asp) for asp in x[1]] if x[0] == 'fav_win' else None, axis=1).dropna()\n",
    "win_asps_lt[:3]"
   ]
  },
  {
   "cell_type": "code",
   "execution_count": 186,
   "id": "303b7bbd-cf55-4678-9f00-e70089f575a2",
   "metadata": {},
   "outputs": [
    {
     "data": {
      "text/plain": [
       "['Mn_q_AV7_cl', 'Mn_q_AV7_cl', 'H7_c_APl']"
      ]
     },
     "execution_count": 186,
     "metadata": {},
     "output_type": "execute_result"
    }
   ],
   "source": [
    "drow_asps_lt = []\n",
    "_ = df_book_asps[['result', 'fs_asps_wt_pls_lt']].apply(lambda x: [drow_asps_lt.append(asp) for asp in x[1]] if x[0] == 'fav_drow' else None, axis=1).dropna()\n",
    "drow_asps_lt[:3]"
   ]
  },
  {
   "cell_type": "code",
   "execution_count": 187,
   "id": "273ccf86-f511-46f3-bd62-5aebd7cf3cb5",
   "metadata": {},
   "outputs": [
    {
     "data": {
      "text/plain": [
       "['SN_c_APF', 'Mn_q_APF_cl', 'Mn_q_AV7_cl']"
      ]
     },
     "execution_count": 187,
     "metadata": {},
     "output_type": "execute_result"
    }
   ],
   "source": [
    "loss_asps_lt = []\n",
    "_ = df_book_asps[['result', 'fs_asps_wt_pls_lt']].apply(lambda x: [loss_asps_lt.append(asp) for asp in x[1]] if x[0] == 'fav_loss' else None, axis=1).dropna()\n",
    "loss_asps_lt[:3]"
   ]
  },
  {
   "cell_type": "code",
   "execution_count": 188,
   "id": "9c5b7181-be64-47b9-9ee4-00a37d6588fa",
   "metadata": {},
   "outputs": [],
   "source": [
    "sr_win_asps_count  = pd.DataFrame({'count_win': Counter(win_asps_lt).values()}, index=Counter(win_asps_lt).keys()).sort_values(by='count_win', ascending=False)\n",
    "sr_drow_asps_count = pd.DataFrame({'count_drow': Counter(drow_asps_lt).values()}, index=Counter(drow_asps_lt).keys()).sort_values(by='count_drow', ascending=False)\n",
    "sr_loss_asps_count = pd.DataFrame({'count_loss': Counter(loss_asps_lt).values()}, index=Counter(loss_asps_lt).keys()).sort_values(by='count_loss', ascending=False)"
   ]
  },
  {
   "cell_type": "code",
   "execution_count": 189,
   "id": "a44849e4-d17d-4a31-8b45-2d2b312b7153",
   "metadata": {},
   "outputs": [],
   "source": [
    "df_asps_count = pd.merge(sr_win_asps_count, sr_drow_asps_count, how='left', left_index=True, right_index=True)\n",
    "df_asps_count = pd.merge(df_asps_count, sr_loss_asps_count, how='left', left_index=True, right_index=True)"
   ]
  },
  {
   "cell_type": "code",
   "execution_count": 190,
   "id": "30b32e85-862c-41f4-8668-0fe120fbc059",
   "metadata": {},
   "outputs": [],
   "source": [
    "df_asps_count['count_shape'] = df_asps_count.count_win + df_asps_count.count_drow + df_asps_count.count_loss"
   ]
  },
  {
   "cell_type": "code",
   "execution_count": 191,
   "id": "6476fb71-bc4b-4df9-a076-39604d5dd0ca",
   "metadata": {},
   "outputs": [
    {
     "name": "stdout",
     "output_type": "stream",
     "text": [
      "mean_win - 2.32 mean_drow - 3.7 mean_loss - 3.36\n"
     ]
    }
   ],
   "source": [
    "mean_win  = df_book_asps.shape[0] / df_book_asps.result.value_counts().fav_win\n",
    "mean_drow = df_book_asps.shape[0] / df_book_asps.result.value_counts().fav_drow\n",
    "mean_loss = df_book_asps.shape[0] / df_book_asps.result.value_counts().fav_loss\n",
    "\n",
    "print('mean_win -', mean_win.round(2), 'mean_drow -', mean_drow.round(2), 'mean_loss -', mean_loss.round(2))\n",
    "\n",
    "df_asps_count['mean_win_att']  = round(mean_win  - (df_asps_count.count_shape / df_asps_count.count_win), 2)\n",
    "df_asps_count['mean_drow_att'] = round(mean_drow - (df_asps_count.count_shape / df_asps_count.count_drow), 2)\n",
    "df_asps_count['mean_loss_att'] = round(mean_loss - (df_asps_count.count_shape / df_asps_count.count_loss), 2)"
   ]
  },
  {
   "cell_type": "code",
   "execution_count": 192,
   "id": "7688484a-c8b2-422d-bb08-4957f3850022",
   "metadata": {},
   "outputs": [
    {
     "data": {
      "text/html": [
       "<div>\n",
       "<style scoped>\n",
       "    .dataframe tbody tr th:only-of-type {\n",
       "        vertical-align: middle;\n",
       "    }\n",
       "\n",
       "    .dataframe tbody tr th {\n",
       "        vertical-align: top;\n",
       "    }\n",
       "\n",
       "    .dataframe thead th {\n",
       "        text-align: right;\n",
       "    }\n",
       "</style>\n",
       "<table border=\"1\" class=\"dataframe\">\n",
       "  <thead>\n",
       "    <tr style=\"text-align: right;\">\n",
       "      <th></th>\n",
       "      <th>count_win</th>\n",
       "      <th>count_drow</th>\n",
       "      <th>count_loss</th>\n",
       "      <th>count_shape</th>\n",
       "      <th>mean_win_att</th>\n",
       "      <th>mean_drow_att</th>\n",
       "      <th>mean_loss_att</th>\n",
       "    </tr>\n",
       "  </thead>\n",
       "  <tbody>\n",
       "    <tr>\n",
       "      <th>Mn_o_PF_cl</th>\n",
       "      <td>60</td>\n",
       "      <td>56.0</td>\n",
       "      <td>48.0</td>\n",
       "      <td>164.0</td>\n",
       "      <td>-0.42</td>\n",
       "      <td>0.77</td>\n",
       "      <td>-0.06</td>\n",
       "    </tr>\n",
       "    <tr>\n",
       "      <th>Mn_i_V7_cl</th>\n",
       "      <td>41</td>\n",
       "      <td>22.0</td>\n",
       "      <td>25.0</td>\n",
       "      <td>88.0</td>\n",
       "      <td>0.17</td>\n",
       "      <td>-0.30</td>\n",
       "      <td>-0.16</td>\n",
       "    </tr>\n",
       "    <tr>\n",
       "      <th>Mn_q_APF_cl</th>\n",
       "      <td>36</td>\n",
       "      <td>20.0</td>\n",
       "      <td>17.0</td>\n",
       "      <td>73.0</td>\n",
       "      <td>0.29</td>\n",
       "      <td>0.05</td>\n",
       "      <td>-0.94</td>\n",
       "    </tr>\n",
       "    <tr>\n",
       "      <th>Mn_t_PF_cl</th>\n",
       "      <td>35</td>\n",
       "      <td>26.0</td>\n",
       "      <td>30.0</td>\n",
       "      <td>91.0</td>\n",
       "      <td>-0.28</td>\n",
       "      <td>0.20</td>\n",
       "      <td>0.32</td>\n",
       "    </tr>\n",
       "    <tr>\n",
       "      <th>Mn_q_AV7_cl</th>\n",
       "      <td>35</td>\n",
       "      <td>19.0</td>\n",
       "      <td>22.0</td>\n",
       "      <td>76.0</td>\n",
       "      <td>0.15</td>\n",
       "      <td>-0.30</td>\n",
       "      <td>-0.10</td>\n",
       "    </tr>\n",
       "  </tbody>\n",
       "</table>\n",
       "</div>"
      ],
      "text/plain": [
       "             count_win  count_drow  count_loss  count_shape  mean_win_att  \\\n",
       "Mn_o_PF_cl          60        56.0        48.0        164.0         -0.42   \n",
       "Mn_i_V7_cl          41        22.0        25.0         88.0          0.17   \n",
       "Mn_q_APF_cl         36        20.0        17.0         73.0          0.29   \n",
       "Mn_t_PF_cl          35        26.0        30.0         91.0         -0.28   \n",
       "Mn_q_AV7_cl         35        19.0        22.0         76.0          0.15   \n",
       "\n",
       "             mean_drow_att  mean_loss_att  \n",
       "Mn_o_PF_cl            0.77          -0.06  \n",
       "Mn_i_V7_cl           -0.30          -0.16  \n",
       "Mn_q_APF_cl           0.05          -0.94  \n",
       "Mn_t_PF_cl            0.20           0.32  \n",
       "Mn_q_AV7_cl          -0.30          -0.10  "
      ]
     },
     "execution_count": 192,
     "metadata": {},
     "output_type": "execute_result"
    }
   ],
   "source": [
    "df_asps_count.head()"
   ]
  },
  {
   "cell_type": "code",
   "execution_count": 193,
   "id": "4468f7d5-bced-4bff-b09c-00f7119d219d",
   "metadata": {},
   "outputs": [],
   "source": [
    "df_all_profit_calc = pd.DataFrame()\n",
    "\n",
    "for asp in df_asps_count.index:\n",
    "    df_research_asp = df_book_asps[['bets_desc', 'fs_asps_wt_pls_lt']].apply(lambda x: x[0] if any(var for var in x[1] if var == asp) else None, axis=1).dropna()\n",
    "    \n",
    "    shape        = df_research_asp.shape[0]\n",
    "    bet_sum_win  = df_book_asps[df_book_asps.index.isin(df_research_asp.index)].bets_desc.map(lambda x:  float(x.split('_')[1]) if x.split('_')[0] == 'win' else 0).sum()\n",
    "    bet_sum_drow = df_book_asps[df_book_asps.index.isin(df_research_asp.index)].bets_desc.map(lambda x:  float(x.split('_')[1]) if x.split('_')[0] == 'drow' else 0).sum()\n",
    "    bet_sum_loss = df_book_asps[df_book_asps.index.isin(df_research_asp.index)].bets_desc.map(lambda x:  float(x.split('_')[1]) if x.split('_')[0] == 'loss' else 0).sum()\n",
    "    \n",
    "    diff_win  = bet_sum_win - shape\n",
    "    diff_drow = bet_sum_drow - shape\n",
    "    diff_loss = bet_sum_loss - shape\n",
    "    \n",
    "    profit_calc_dc = {'aspect':asp, 'bet_sum_win':bet_sum_win, 'bet_sum_drow':bet_sum_drow, 'bet_sum_loss':bet_sum_loss, 'diff_sum_win':diff_win, 'diff_sum_drow':diff_drow, 'diff_sum_loss':diff_loss}\n",
    "    \n",
    "    df_profit_calc     = pd.DataFrame.from_dict([profit_calc_dc])\n",
    "    df_all_profit_calc = pd.concat([df_all_profit_calc, df_profit_calc])\n",
    "    \n",
    "df_all_profit_calc.set_index(keys='aspect', inplace=True)"
   ]
  },
  {
   "cell_type": "code",
   "execution_count": 194,
   "id": "cb9e730b-bb71-481b-8106-b4ddbc305be0",
   "metadata": {},
   "outputs": [
    {
     "data": {
      "text/plain": [
       "115"
      ]
     },
     "execution_count": 194,
     "metadata": {},
     "output_type": "execute_result"
    }
   ],
   "source": [
    "df_all_profit_calc.shape[0]"
   ]
  },
  {
   "cell_type": "code",
   "execution_count": 195,
   "id": "8f5fd2f4-6dd2-49f8-ba1b-7ed15babe607",
   "metadata": {},
   "outputs": [],
   "source": [
    "df_asps_count = df_asps_count.merge(df_all_profit_calc, how='left', left_index=True, right_index=True)"
   ]
  },
  {
   "cell_type": "code",
   "execution_count": 196,
   "id": "847b385f-5496-4a68-9d13-37e78139087b",
   "metadata": {},
   "outputs": [],
   "source": [
    "df_asps_count.fillna(0, inplace=True)"
   ]
  },
  {
   "cell_type": "code",
   "execution_count": 197,
   "id": "d33905b4-ca53-4c0c-b448-47d6621ef80c",
   "metadata": {},
   "outputs": [],
   "source": [
    "df_asps_count['win_surplus']  = df_asps_count.mean_win_att  - sum([df_asps_count.mean_drow_att, df_asps_count.mean_loss_att])\n",
    "df_asps_count['drow_surplus'] = df_asps_count.mean_drow_att - sum([df_asps_count.mean_win_att, df_asps_count.mean_loss_att])\n",
    "df_asps_count['loss_surplus'] = df_asps_count.mean_loss_att - sum([df_asps_count.mean_win_att, df_asps_count.mean_drow_att])"
   ]
  },
  {
   "cell_type": "code",
   "execution_count": 198,
   "id": "da8cbe2d-dcc1-4b9c-a559-984e950953ef",
   "metadata": {},
   "outputs": [
    {
     "data": {
      "text/html": [
       "<div>\n",
       "<style scoped>\n",
       "    .dataframe tbody tr th:only-of-type {\n",
       "        vertical-align: middle;\n",
       "    }\n",
       "\n",
       "    .dataframe tbody tr th {\n",
       "        vertical-align: top;\n",
       "    }\n",
       "\n",
       "    .dataframe thead th {\n",
       "        text-align: right;\n",
       "    }\n",
       "</style>\n",
       "<table border=\"1\" class=\"dataframe\">\n",
       "  <thead>\n",
       "    <tr style=\"text-align: right;\">\n",
       "      <th></th>\n",
       "      <th>count_win</th>\n",
       "      <th>count_drow</th>\n",
       "      <th>count_loss</th>\n",
       "      <th>count_shape</th>\n",
       "      <th>mean_win_att</th>\n",
       "      <th>mean_drow_att</th>\n",
       "      <th>mean_loss_att</th>\n",
       "      <th>bet_sum_win</th>\n",
       "      <th>bet_sum_drow</th>\n",
       "      <th>bet_sum_loss</th>\n",
       "      <th>diff_sum_win</th>\n",
       "      <th>diff_sum_drow</th>\n",
       "      <th>diff_sum_loss</th>\n",
       "      <th>win_surplus</th>\n",
       "      <th>drow_surplus</th>\n",
       "      <th>loss_surplus</th>\n",
       "    </tr>\n",
       "  </thead>\n",
       "  <tbody>\n",
       "    <tr>\n",
       "      <th>Mn_t_V4_cl</th>\n",
       "      <td>8</td>\n",
       "      <td>3.0</td>\n",
       "      <td>15.0</td>\n",
       "      <td>26.0</td>\n",
       "      <td>-0.93</td>\n",
       "      <td>-4.97</td>\n",
       "      <td>1.62</td>\n",
       "      <td>17.81</td>\n",
       "      <td>10.66</td>\n",
       "      <td>42.47</td>\n",
       "      <td>-8.19</td>\n",
       "      <td>-15.34</td>\n",
       "      <td>16.47</td>\n",
       "      <td>2.42</td>\n",
       "      <td>-5.66</td>\n",
       "      <td>7.52</td>\n",
       "    </tr>\n",
       "    <tr>\n",
       "      <th>H10_c_Ur</th>\n",
       "      <td>3</td>\n",
       "      <td>2.0</td>\n",
       "      <td>6.0</td>\n",
       "      <td>11.0</td>\n",
       "      <td>-1.35</td>\n",
       "      <td>-1.80</td>\n",
       "      <td>1.52</td>\n",
       "      <td>5.76</td>\n",
       "      <td>7.13</td>\n",
       "      <td>12.58</td>\n",
       "      <td>-5.24</td>\n",
       "      <td>-3.87</td>\n",
       "      <td>1.58</td>\n",
       "      <td>-1.07</td>\n",
       "      <td>-1.97</td>\n",
       "      <td>4.67</td>\n",
       "    </tr>\n",
       "    <tr>\n",
       "      <th>H4_c_V1_in</th>\n",
       "      <td>1</td>\n",
       "      <td>1.0</td>\n",
       "      <td>2.0</td>\n",
       "      <td>4.0</td>\n",
       "      <td>-1.68</td>\n",
       "      <td>-0.30</td>\n",
       "      <td>1.36</td>\n",
       "      <td>2.07</td>\n",
       "      <td>3.29</td>\n",
       "      <td>5.22</td>\n",
       "      <td>-1.93</td>\n",
       "      <td>-0.71</td>\n",
       "      <td>1.22</td>\n",
       "      <td>-2.74</td>\n",
       "      <td>0.02</td>\n",
       "      <td>3.34</td>\n",
       "    </tr>\n",
       "    <tr>\n",
       "      <th>H7_c_V10_out</th>\n",
       "      <td>4</td>\n",
       "      <td>2.0</td>\n",
       "      <td>6.0</td>\n",
       "      <td>12.0</td>\n",
       "      <td>-0.68</td>\n",
       "      <td>-2.30</td>\n",
       "      <td>1.36</td>\n",
       "      <td>7.76</td>\n",
       "      <td>7.87</td>\n",
       "      <td>16.67</td>\n",
       "      <td>-4.24</td>\n",
       "      <td>-4.13</td>\n",
       "      <td>4.67</td>\n",
       "      <td>0.26</td>\n",
       "      <td>-2.98</td>\n",
       "      <td>4.34</td>\n",
       "    </tr>\n",
       "    <tr>\n",
       "      <th>Mn_c_AV4_cl</th>\n",
       "      <td>4</td>\n",
       "      <td>2.0</td>\n",
       "      <td>6.0</td>\n",
       "      <td>12.0</td>\n",
       "      <td>-0.68</td>\n",
       "      <td>-2.30</td>\n",
       "      <td>1.36</td>\n",
       "      <td>8.06</td>\n",
       "      <td>11.57</td>\n",
       "      <td>16.23</td>\n",
       "      <td>-3.94</td>\n",
       "      <td>-0.43</td>\n",
       "      <td>4.23</td>\n",
       "      <td>0.26</td>\n",
       "      <td>-2.98</td>\n",
       "      <td>4.34</td>\n",
       "    </tr>\n",
       "  </tbody>\n",
       "</table>\n",
       "</div>"
      ],
      "text/plain": [
       "              count_win  count_drow  count_loss  count_shape  mean_win_att  \\\n",
       "Mn_t_V4_cl            8         3.0        15.0         26.0         -0.93   \n",
       "H10_c_Ur              3         2.0         6.0         11.0         -1.35   \n",
       "H4_c_V1_in            1         1.0         2.0          4.0         -1.68   \n",
       "H7_c_V10_out          4         2.0         6.0         12.0         -0.68   \n",
       "Mn_c_AV4_cl           4         2.0         6.0         12.0         -0.68   \n",
       "\n",
       "              mean_drow_att  mean_loss_att  bet_sum_win  bet_sum_drow  \\\n",
       "Mn_t_V4_cl            -4.97           1.62        17.81         10.66   \n",
       "H10_c_Ur              -1.80           1.52         5.76          7.13   \n",
       "H4_c_V1_in            -0.30           1.36         2.07          3.29   \n",
       "H7_c_V10_out          -2.30           1.36         7.76          7.87   \n",
       "Mn_c_AV4_cl           -2.30           1.36         8.06         11.57   \n",
       "\n",
       "              bet_sum_loss  diff_sum_win  diff_sum_drow  diff_sum_loss  \\\n",
       "Mn_t_V4_cl           42.47         -8.19         -15.34          16.47   \n",
       "H10_c_Ur             12.58         -5.24          -3.87           1.58   \n",
       "H4_c_V1_in            5.22         -1.93          -0.71           1.22   \n",
       "H7_c_V10_out         16.67         -4.24          -4.13           4.67   \n",
       "Mn_c_AV4_cl          16.23         -3.94          -0.43           4.23   \n",
       "\n",
       "              win_surplus  drow_surplus  loss_surplus  \n",
       "Mn_t_V4_cl           2.42         -5.66          7.52  \n",
       "H10_c_Ur            -1.07         -1.97          4.67  \n",
       "H4_c_V1_in          -2.74          0.02          3.34  \n",
       "H7_c_V10_out         0.26         -2.98          4.34  \n",
       "Mn_c_AV4_cl          0.26         -2.98          4.34  "
      ]
     },
     "execution_count": 198,
     "metadata": {},
     "output_type": "execute_result"
    }
   ],
   "source": [
    "df_asps_count.sort_values(by='mean_loss_att', ascending=False).head()"
   ]
  },
  {
   "cell_type": "code",
   "execution_count": 199,
   "id": "098f7744-15c7-4849-b9ff-9b448abc3485",
   "metadata": {},
   "outputs": [
    {
     "name": "stdout",
     "output_type": "stream",
     "text": [
      "Index(['Mn_q_AV1_cl', 'Mn_i_V10_cl', 'Mn_t_AV1_cl'], dtype='object')\n",
      "result - loss\n"
     ]
    }
   ],
   "source": [
    "# res_ind = df_asps_count[(df_asps_count.mean_win_att > 0.1) & (df_asps_count.diff_sum_win > 1)].index\n",
    "# res_ind = df_asps_count[(df_asps_count.mean_drow_att > 0.4) & (df_asps_count.diff_sum_drow > 10)].index\n",
    "res_ind = df_asps_count[(df_asps_count.mean_loss_att > 0.1) & (df_asps_count.diff_sum_loss > 5)].index\n",
    "print(res_ind[:3])\n",
    "result = ['win', 'drow', 'loss'][2]\n",
    "print('result -', result)"
   ]
  },
  {
   "cell_type": "code",
   "execution_count": 200,
   "id": "6a2d4642-d3df-4159-9b91-b1cdb700581e",
   "metadata": {},
   "outputs": [
    {
     "data": {
      "text/plain": [
       "86"
      ]
     },
     "execution_count": 200,
     "metadata": {},
     "output_type": "execute_result"
    }
   ],
   "source": [
    "df_check[df_check.fs_asps_wt_pls_lt.map(lambda x: any(var for var in x if var in res_ind))].shape[0]"
   ]
  },
  {
   "cell_type": "code",
   "execution_count": 201,
   "id": "80bb169c-d764-4540-a18f-b0f3ca56357b",
   "metadata": {},
   "outputs": [
    {
     "data": {
      "text/plain": [
       "24"
      ]
     },
     "execution_count": 201,
     "metadata": {},
     "output_type": "execute_result"
    }
   ],
   "source": [
    "df_check[df_check.fs_asps_wt_pls_lt.map(lambda x: any(var for var in x if var in res_ind))].bets_desc.map(lambda x:  1 if x.split('_')[0] == result else 0).sum()"
   ]
  },
  {
   "cell_type": "code",
   "execution_count": 202,
   "id": "b4422b9e-bd0c-4341-ad89-6a19abb65b50",
   "metadata": {},
   "outputs": [
    {
     "data": {
      "text/plain": [
       "86.91000000000001"
      ]
     },
     "execution_count": 202,
     "metadata": {},
     "output_type": "execute_result"
    }
   ],
   "source": [
    "df_check[df_check.fs_asps_wt_pls_lt.map(lambda x: any(var for var in x if var in res_ind))].bets_desc.map(lambda x:  float(x.split('_')[1]) if x.split('_')[0] == result else 0).sum()"
   ]
  },
  {
   "cell_type": "code",
   "execution_count": 203,
   "id": "16c987c4-c251-4094-8b45-a318be783838",
   "metadata": {},
   "outputs": [
    {
     "data": {
      "text/plain": [
       "585"
      ]
     },
     "execution_count": 203,
     "metadata": {},
     "output_type": "execute_result"
    }
   ],
   "source": [
    "df_check.shape[0]"
   ]
  },
  {
   "cell_type": "code",
   "execution_count": 204,
   "id": "b3f271a7-5235-4bff-a545-3c729ab5499e",
   "metadata": {},
   "outputs": [
    {
     "data": {
      "text/plain": [
       "2971"
      ]
     },
     "execution_count": 204,
     "metadata": {},
     "output_type": "execute_result"
    }
   ],
   "source": [
    "df_book_asps.shape[0]"
   ]
  },
  {
   "cell_type": "code",
   "execution_count": 205,
   "id": "dad06967-db58-4862-acf3-a89c74846845",
   "metadata": {},
   "outputs": [
    {
     "ename": "NameError",
     "evalue": "name 'st' is not defined",
     "output_type": "error",
     "traceback": [
      "\u001b[0;31m---------------------------------------------------------------------------\u001b[0m",
      "\u001b[0;31mNameError\u001b[0m                                 Traceback (most recent call last)",
      "Input \u001b[0;32mIn [205]\u001b[0m, in \u001b[0;36m<cell line: 1>\u001b[0;34m()\u001b[0m\n\u001b[0;32m----> 1\u001b[0m \u001b[43mst\u001b[49m\n",
      "\u001b[0;31mNameError\u001b[0m: name 'st' is not defined"
     ]
    }
   ],
   "source": [
    "st"
   ]
  },
  {
   "cell_type": "code",
   "execution_count": 206,
   "id": "8e3761da-93fc-4509-9724-d36064f0dbe4",
   "metadata": {},
   "outputs": [
    {
     "data": {
      "text/plain": [
       "Index(['count_win', 'count_drow', 'count_loss', 'count_shape', 'mean_win_att',\n",
       "       'mean_drow_att', 'mean_loss_att', 'bet_sum_win', 'bet_sum_drow',\n",
       "       'bet_sum_loss', 'diff_sum_win', 'diff_sum_drow', 'diff_sum_loss',\n",
       "       'win_surplus', 'drow_surplus', 'loss_surplus'],\n",
       "      dtype='object')"
      ]
     },
     "execution_count": 206,
     "metadata": {},
     "output_type": "execute_result"
    }
   ],
   "source": [
    "df_asps_count.columns"
   ]
  },
  {
   "cell_type": "code",
   "execution_count": 207,
   "id": "29617d42-c39b-48ec-9e9a-d0d0da6c56c2",
   "metadata": {},
   "outputs": [],
   "source": [
    "df_check['asps_win_rate']  = df_check.fs_asps_wt_pls_lt.map(lambda x: sum([df_asps_count[df_asps_count.index == asp].diff_sum_win.values[0] for asp in x if asp in df_asps_count.index]))\n",
    "df_check['asps_drow_rate'] = df_check.fs_asps_wt_pls_lt.map(lambda x: sum([df_asps_count[df_asps_count.index == asp].diff_sum_drow.values[0] for asp in x if asp in df_asps_count.index]))\n",
    "df_check['asps_loss_rate'] = df_check.fs_asps_wt_pls_lt.map(lambda x: sum([df_asps_count[df_asps_count.index == asp].diff_sum_loss.values[0] for asp in x if asp in df_asps_count.index]))"
   ]
  },
  {
   "cell_type": "code",
   "execution_count": 208,
   "id": "fa86bd4a-e94f-477a-aa9d-dcb20e420555",
   "metadata": {},
   "outputs": [],
   "source": [
    "# df_book_asps[df_book_asps.goals == df_book_asps.asps_goals].shape[0]"
   ]
  },
  {
   "cell_type": "code",
   "execution_count": 209,
   "id": "49e91033-8ab3-4dcd-b727-071d709b2398",
   "metadata": {},
   "outputs": [
    {
     "name": "stdout",
     "output_type": "stream",
     "text": [
      "fav_win_shape - 1425\n",
      "fav_win_count - 605\n",
      "fav_win_bets  - 1340.63\n"
     ]
    }
   ],
   "source": [
    "print('fav_win_shape -', df_book_asps[df_book_asps.fav_cnt_asps > df_book_asps.pre_cnt_asps].shape[0])\n",
    "print('fav_win_count -', df_book_asps[df_book_asps.fav_cnt_asps > df_book_asps.pre_cnt_asps].bets_desc.map(lambda x:  1 if x.split('_')[0] == 'win' else 0).sum())\n",
    "print('fav_win_bets  -', df_book_asps[df_book_asps.fav_cnt_asps > df_book_asps.pre_cnt_asps].bets_desc.map(lambda x:  float(x.split('_')[1]) if x.split('_')[0] == 'win' else 0).sum())"
   ]
  },
  {
   "cell_type": "code",
   "execution_count": 210,
   "id": "7eb511e9-057c-4885-b5c5-b9275ebf5935",
   "metadata": {},
   "outputs": [
    {
     "data": {
      "text/html": [
       "<div>\n",
       "<style scoped>\n",
       "    .dataframe tbody tr th:only-of-type {\n",
       "        vertical-align: middle;\n",
       "    }\n",
       "\n",
       "    .dataframe tbody tr th {\n",
       "        vertical-align: top;\n",
       "    }\n",
       "\n",
       "    .dataframe thead th {\n",
       "        text-align: right;\n",
       "    }\n",
       "</style>\n",
       "<table border=\"1\" class=\"dataframe\">\n",
       "  <thead>\n",
       "    <tr style=\"text-align: right;\">\n",
       "      <th></th>\n",
       "      <th>game_id</th>\n",
       "      <th>game_utc</th>\n",
       "      <th>goals</th>\n",
       "      <th>f_team</th>\n",
       "      <th>s_team</th>\n",
       "      <th>city</th>\n",
       "      <th>country</th>\n",
       "      <th>bets_desc</th>\n",
       "      <th>fs_asps_wt_pls_lt</th>\n",
       "      <th>asps_cnt</th>\n",
       "      <th>asps_win_rate</th>\n",
       "      <th>asps_drow_rate</th>\n",
       "      <th>asps_loss_rate</th>\n",
       "      <th>result</th>\n",
       "    </tr>\n",
       "  </thead>\n",
       "  <tbody>\n",
       "    <tr>\n",
       "      <th>23501</th>\n",
       "      <td>1925730</td>\n",
       "      <td>2023-09-18 19:15:00</td>\n",
       "      <td>4:1</td>\n",
       "      <td>Boavista</td>\n",
       "      <td>Chaves</td>\n",
       "      <td>Porto</td>\n",
       "      <td>Portugal</td>\n",
       "      <td>win_1.7</td>\n",
       "      <td>(H7_c_V1_in,)</td>\n",
       "      <td>1</td>\n",
       "      <td>-12.39</td>\n",
       "      <td>-5.70</td>\n",
       "      <td>17.29</td>\n",
       "      <td>fav_win</td>\n",
       "    </tr>\n",
       "    <tr>\n",
       "      <th>23500</th>\n",
       "      <td>1905481</td>\n",
       "      <td>2023-09-18 19:00:00</td>\n",
       "      <td>2:4</td>\n",
       "      <td>Granada CF</td>\n",
       "      <td>Girona</td>\n",
       "      <td>Granada</td>\n",
       "      <td>Spain</td>\n",
       "      <td>loss_2.52</td>\n",
       "      <td>(H7_c_V1_in,)</td>\n",
       "      <td>1</td>\n",
       "      <td>-12.39</td>\n",
       "      <td>-5.70</td>\n",
       "      <td>17.29</td>\n",
       "      <td>fav_loss</td>\n",
       "    </tr>\n",
       "    <tr>\n",
       "      <th>23414</th>\n",
       "      <td>1871382</td>\n",
       "      <td>2023-08-30 22:00:00</td>\n",
       "      <td>2:0</td>\n",
       "      <td>Novorizontino</td>\n",
       "      <td>Ituano</td>\n",
       "      <td>Horizonte</td>\n",
       "      <td>Brazil</td>\n",
       "      <td>win_1.82</td>\n",
       "      <td>(H7_c_V1_in,)</td>\n",
       "      <td>1</td>\n",
       "      <td>-12.39</td>\n",
       "      <td>-5.70</td>\n",
       "      <td>17.29</td>\n",
       "      <td>fav_win</td>\n",
       "    </tr>\n",
       "    <tr>\n",
       "      <th>22053</th>\n",
       "      <td>1753554</td>\n",
       "      <td>2023-03-13 16:00:00</td>\n",
       "      <td>3:0</td>\n",
       "      <td>Istanbulspor</td>\n",
       "      <td>Sivasspor</td>\n",
       "      <td>İstanbul</td>\n",
       "      <td>Turkey</td>\n",
       "      <td>win_2.9</td>\n",
       "      <td>(H7_c_V1_in,)</td>\n",
       "      <td>1</td>\n",
       "      <td>-12.39</td>\n",
       "      <td>-5.70</td>\n",
       "      <td>17.29</td>\n",
       "      <td>fav_win</td>\n",
       "    </tr>\n",
       "    <tr>\n",
       "      <th>22042</th>\n",
       "      <td>1737726</td>\n",
       "      <td>2023-03-10 16:30:00</td>\n",
       "      <td>2:2</td>\n",
       "      <td>Kaiserslautern</td>\n",
       "      <td>Sandhausen</td>\n",
       "      <td>Kaiserslautern</td>\n",
       "      <td>Germany</td>\n",
       "      <td>drow_3.7</td>\n",
       "      <td>(H7_c_V1_in,)</td>\n",
       "      <td>1</td>\n",
       "      <td>-12.39</td>\n",
       "      <td>-5.70</td>\n",
       "      <td>17.29</td>\n",
       "      <td>fav_drow</td>\n",
       "    </tr>\n",
       "    <tr>\n",
       "      <th>21887</th>\n",
       "      <td>1739960</td>\n",
       "      <td>2023-02-17 16:00:00</td>\n",
       "      <td>1:0</td>\n",
       "      <td>Kolubara</td>\n",
       "      <td>Vozdovac</td>\n",
       "      <td>Lazarevac</td>\n",
       "      <td>Serbia</td>\n",
       "      <td>win_2.37</td>\n",
       "      <td>(H7_c_V1_in,)</td>\n",
       "      <td>1</td>\n",
       "      <td>-12.39</td>\n",
       "      <td>-5.70</td>\n",
       "      <td>17.29</td>\n",
       "      <td>fav_win</td>\n",
       "    </tr>\n",
       "    <tr>\n",
       "      <th>21758</th>\n",
       "      <td>1737333</td>\n",
       "      <td>2023-02-01 17:00:00</td>\n",
       "      <td>0:2</td>\n",
       "      <td>Nantes</td>\n",
       "      <td>Marseille</td>\n",
       "      <td>Nantes</td>\n",
       "      <td>France</td>\n",
       "      <td>loss_1.74</td>\n",
       "      <td>(H7_c_V1_in,)</td>\n",
       "      <td>1</td>\n",
       "      <td>-12.39</td>\n",
       "      <td>-5.70</td>\n",
       "      <td>17.29</td>\n",
       "      <td>fav_loss</td>\n",
       "    </tr>\n",
       "    <tr>\n",
       "      <th>21388</th>\n",
       "      <td>1748364</td>\n",
       "      <td>2022-12-07 19:00:00</td>\n",
       "      <td>2:1</td>\n",
       "      <td>Tenerife</td>\n",
       "      <td>Deportivo Alavés</td>\n",
       "      <td>Santa Cruz de Tenerife</td>\n",
       "      <td>Spain</td>\n",
       "      <td>win_2.26</td>\n",
       "      <td>(H7_c_V1_in,)</td>\n",
       "      <td>1</td>\n",
       "      <td>-12.39</td>\n",
       "      <td>-5.70</td>\n",
       "      <td>17.29</td>\n",
       "      <td>fav_win</td>\n",
       "    </tr>\n",
       "    <tr>\n",
       "      <th>21150</th>\n",
       "      <td>1748310</td>\n",
       "      <td>2022-11-02 17:00:00</td>\n",
       "      <td>2:1</td>\n",
       "      <td>Villarreal B</td>\n",
       "      <td>Real Oviedo</td>\n",
       "      <td>Villarreal</td>\n",
       "      <td>Spain</td>\n",
       "      <td>win_2.63</td>\n",
       "      <td>(H7_c_V1_in,)</td>\n",
       "      <td>1</td>\n",
       "      <td>-12.39</td>\n",
       "      <td>-5.70</td>\n",
       "      <td>17.29</td>\n",
       "      <td>fav_win</td>\n",
       "    </tr>\n",
       "    <tr>\n",
       "      <th>22637</th>\n",
       "      <td>1736492</td>\n",
       "      <td>2023-05-04 19:00:00</td>\n",
       "      <td>1:0</td>\n",
       "      <td>Brighton</td>\n",
       "      <td>Manchester United</td>\n",
       "      <td>Brighton</td>\n",
       "      <td>United Kingdom</td>\n",
       "      <td>win_2.34</td>\n",
       "      <td>(Mn_t_V4_cl,)</td>\n",
       "      <td>1</td>\n",
       "      <td>-8.19</td>\n",
       "      <td>-15.34</td>\n",
       "      <td>16.47</td>\n",
       "      <td>fav_win</td>\n",
       "    </tr>\n",
       "  </tbody>\n",
       "</table>\n",
       "</div>"
      ],
      "text/plain": [
       "       game_id            game_utc goals          f_team             s_team  \\\n",
       "23501  1925730 2023-09-18 19:15:00   4:1        Boavista             Chaves   \n",
       "23500  1905481 2023-09-18 19:00:00   2:4      Granada CF             Girona   \n",
       "23414  1871382 2023-08-30 22:00:00   2:0   Novorizontino             Ituano   \n",
       "22053  1753554 2023-03-13 16:00:00   3:0    Istanbulspor          Sivasspor   \n",
       "22042  1737726 2023-03-10 16:30:00   2:2  Kaiserslautern         Sandhausen   \n",
       "21887  1739960 2023-02-17 16:00:00   1:0        Kolubara           Vozdovac   \n",
       "21758  1737333 2023-02-01 17:00:00   0:2          Nantes          Marseille   \n",
       "21388  1748364 2022-12-07 19:00:00   2:1        Tenerife   Deportivo Alavés   \n",
       "21150  1748310 2022-11-02 17:00:00   2:1    Villarreal B        Real Oviedo   \n",
       "22637  1736492 2023-05-04 19:00:00   1:0        Brighton  Manchester United   \n",
       "\n",
       "                         city         country  bets_desc fs_asps_wt_pls_lt  \\\n",
       "23501                   Porto        Portugal    win_1.7     (H7_c_V1_in,)   \n",
       "23500                 Granada           Spain  loss_2.52     (H7_c_V1_in,)   \n",
       "23414               Horizonte          Brazil   win_1.82     (H7_c_V1_in,)   \n",
       "22053                İstanbul          Turkey    win_2.9     (H7_c_V1_in,)   \n",
       "22042          Kaiserslautern         Germany   drow_3.7     (H7_c_V1_in,)   \n",
       "21887               Lazarevac          Serbia   win_2.37     (H7_c_V1_in,)   \n",
       "21758                  Nantes          France  loss_1.74     (H7_c_V1_in,)   \n",
       "21388  Santa Cruz de Tenerife           Spain   win_2.26     (H7_c_V1_in,)   \n",
       "21150              Villarreal           Spain   win_2.63     (H7_c_V1_in,)   \n",
       "22637                Brighton  United Kingdom   win_2.34     (Mn_t_V4_cl,)   \n",
       "\n",
       "       asps_cnt  asps_win_rate  asps_drow_rate  asps_loss_rate    result  \n",
       "23501         1         -12.39           -5.70           17.29   fav_win  \n",
       "23500         1         -12.39           -5.70           17.29  fav_loss  \n",
       "23414         1         -12.39           -5.70           17.29   fav_win  \n",
       "22053         1         -12.39           -5.70           17.29   fav_win  \n",
       "22042         1         -12.39           -5.70           17.29  fav_drow  \n",
       "21887         1         -12.39           -5.70           17.29   fav_win  \n",
       "21758         1         -12.39           -5.70           17.29  fav_loss  \n",
       "21388         1         -12.39           -5.70           17.29   fav_win  \n",
       "21150         1         -12.39           -5.70           17.29   fav_win  \n",
       "22637         1          -8.19          -15.34           16.47   fav_win  "
      ]
     },
     "execution_count": 210,
     "metadata": {},
     "output_type": "execute_result"
    }
   ],
   "source": [
    "cols = ['game_id', 'game_utc', 'goals', 'f_team', 's_team', 'city', 'country', 'bets_desc', 'fs_asps_wt_pls_lt', 'asps_cnt', 'asps_win_rate', 'asps_drow_rate', 'asps_loss_rate', 'result']\n",
    "df_check[cols].sort_values(by=['asps_loss_rate', 'game_utc'], ascending=False).head(10)"
   ]
  },
  {
   "cell_type": "code",
   "execution_count": 211,
   "id": "3f334b53-c3a8-4c28-97c4-c785dbd56936",
   "metadata": {},
   "outputs": [],
   "source": [
    "df_gb_asps = df_check[cols].sort_values(by=['asps_loss_rate', 'game_utc'], ascending=False).head(200).groupby('fs_asps_wt_pls_lt').result.apply(list).to_frame()"
   ]
  },
  {
   "cell_type": "code",
   "execution_count": 212,
   "id": "a7784fb5-cfde-4841-b15e-0f45f1ffdc96",
   "metadata": {},
   "outputs": [
    {
     "data": {
      "text/html": [
       "<div>\n",
       "<style scoped>\n",
       "    .dataframe tbody tr th:only-of-type {\n",
       "        vertical-align: middle;\n",
       "    }\n",
       "\n",
       "    .dataframe tbody tr th {\n",
       "        vertical-align: top;\n",
       "    }\n",
       "\n",
       "    .dataframe thead th {\n",
       "        text-align: right;\n",
       "    }\n",
       "</style>\n",
       "<table border=\"1\" class=\"dataframe\">\n",
       "  <thead>\n",
       "    <tr style=\"text-align: right;\">\n",
       "      <th></th>\n",
       "      <th>result</th>\n",
       "    </tr>\n",
       "    <tr>\n",
       "      <th>fs_asps_wt_pls_lt</th>\n",
       "      <th></th>\n",
       "    </tr>\n",
       "  </thead>\n",
       "  <tbody>\n",
       "    <tr>\n",
       "      <th>(DPF_o_APF_cl,)</th>\n",
       "      <td>[fav_loss, fav_loss]</td>\n",
       "    </tr>\n",
       "    <tr>\n",
       "      <th>(H10_c_AV7_in,)</th>\n",
       "      <td>[fav_win, fav_win, fav_win]</td>\n",
       "    </tr>\n",
       "    <tr>\n",
       "      <th>(H10_c_AV7_out,)</th>\n",
       "      <td>[fav_win, fav_win, fav_drow, fav_win, fav_win]</td>\n",
       "    </tr>\n",
       "    <tr>\n",
       "      <th>(H10_c_Ur,)</th>\n",
       "      <td>[fav_drow]</td>\n",
       "    </tr>\n",
       "    <tr>\n",
       "      <th>(H1_c_APF,)</th>\n",
       "      <td>[fav_loss, fav_win, fav_win]</td>\n",
       "    </tr>\n",
       "  </tbody>\n",
       "</table>\n",
       "</div>"
      ],
      "text/plain": [
       "                                                           result\n",
       "fs_asps_wt_pls_lt                                                \n",
       "(DPF_o_APF_cl,)                              [fav_loss, fav_loss]\n",
       "(H10_c_AV7_in,)                       [fav_win, fav_win, fav_win]\n",
       "(H10_c_AV7_out,)   [fav_win, fav_win, fav_drow, fav_win, fav_win]\n",
       "(H10_c_Ur,)                                            [fav_drow]\n",
       "(H1_c_APF,)                          [fav_loss, fav_win, fav_win]"
      ]
     },
     "execution_count": 212,
     "metadata": {},
     "output_type": "execute_result"
    }
   ],
   "source": [
    "df_gb_asps.head()"
   ]
  },
  {
   "cell_type": "code",
   "execution_count": 213,
   "id": "a1fea47b-bc5a-41c9-95a0-ce3ee558eb7c",
   "metadata": {
    "tags": []
   },
   "outputs": [
    {
     "data": {
      "text/html": [
       "<div>\n",
       "<style scoped>\n",
       "    .dataframe tbody tr th:only-of-type {\n",
       "        vertical-align: middle;\n",
       "    }\n",
       "\n",
       "    .dataframe tbody tr th {\n",
       "        vertical-align: top;\n",
       "    }\n",
       "\n",
       "    .dataframe thead th {\n",
       "        text-align: right;\n",
       "    }\n",
       "</style>\n",
       "<table border=\"1\" class=\"dataframe\">\n",
       "  <thead>\n",
       "    <tr style=\"text-align: right;\">\n",
       "      <th></th>\n",
       "      <th>count_win</th>\n",
       "      <th>count_drow</th>\n",
       "      <th>count_loss</th>\n",
       "      <th>count_shape</th>\n",
       "      <th>mean_win_att</th>\n",
       "      <th>mean_drow_att</th>\n",
       "      <th>mean_loss_att</th>\n",
       "      <th>bet_sum_win</th>\n",
       "      <th>bet_sum_drow</th>\n",
       "      <th>bet_sum_loss</th>\n",
       "      <th>diff_sum_win</th>\n",
       "      <th>diff_sum_drow</th>\n",
       "      <th>diff_sum_loss</th>\n",
       "      <th>win_surplus</th>\n",
       "      <th>drow_surplus</th>\n",
       "      <th>loss_surplus</th>\n",
       "    </tr>\n",
       "  </thead>\n",
       "  <tbody>\n",
       "    <tr>\n",
       "      <th>Mn_t_APF_cl</th>\n",
       "      <td>30</td>\n",
       "      <td>21.0</td>\n",
       "      <td>16.0</td>\n",
       "      <td>67.0</td>\n",
       "      <td>0.08</td>\n",
       "      <td>0.50</td>\n",
       "      <td>-0.83</td>\n",
       "      <td>83.85</td>\n",
       "      <td>74.57</td>\n",
       "      <td>40.16</td>\n",
       "      <td>16.85</td>\n",
       "      <td>7.57</td>\n",
       "      <td>-26.84</td>\n",
       "      <td>0.41</td>\n",
       "      <td>1.25</td>\n",
       "      <td>-1.41</td>\n",
       "    </tr>\n",
       "    <tr>\n",
       "      <th>H4_c_AV1_in</th>\n",
       "      <td>7</td>\n",
       "      <td>1.0</td>\n",
       "      <td>1.0</td>\n",
       "      <td>9.0</td>\n",
       "      <td>1.03</td>\n",
       "      <td>-5.30</td>\n",
       "      <td>-5.64</td>\n",
       "      <td>21.79</td>\n",
       "      <td>3.14</td>\n",
       "      <td>3.50</td>\n",
       "      <td>12.79</td>\n",
       "      <td>-5.86</td>\n",
       "      <td>-5.50</td>\n",
       "      <td>11.97</td>\n",
       "      <td>-0.69</td>\n",
       "      <td>-1.37</td>\n",
       "    </tr>\n",
       "    <tr>\n",
       "      <th>Mn_c_AV1_cl</th>\n",
       "      <td>15</td>\n",
       "      <td>5.0</td>\n",
       "      <td>5.0</td>\n",
       "      <td>25.0</td>\n",
       "      <td>0.65</td>\n",
       "      <td>-1.30</td>\n",
       "      <td>-1.64</td>\n",
       "      <td>35.24</td>\n",
       "      <td>16.09</td>\n",
       "      <td>13.46</td>\n",
       "      <td>10.24</td>\n",
       "      <td>-8.91</td>\n",
       "      <td>-11.54</td>\n",
       "      <td>3.59</td>\n",
       "      <td>-0.31</td>\n",
       "      <td>-0.99</td>\n",
       "    </tr>\n",
       "    <tr>\n",
       "      <th>Mn_i_V10_cl</th>\n",
       "      <td>23</td>\n",
       "      <td>11.0</td>\n",
       "      <td>16.0</td>\n",
       "      <td>50.0</td>\n",
       "      <td>0.14</td>\n",
       "      <td>-0.85</td>\n",
       "      <td>0.23</td>\n",
       "      <td>60.15</td>\n",
       "      <td>39.70</td>\n",
       "      <td>65.52</td>\n",
       "      <td>10.15</td>\n",
       "      <td>-10.30</td>\n",
       "      <td>15.52</td>\n",
       "      <td>0.76</td>\n",
       "      <td>-1.22</td>\n",
       "      <td>0.94</td>\n",
       "    </tr>\n",
       "    <tr>\n",
       "      <th>Mn_i_V4_cl</th>\n",
       "      <td>20</td>\n",
       "      <td>5.0</td>\n",
       "      <td>8.0</td>\n",
       "      <td>33.0</td>\n",
       "      <td>0.67</td>\n",
       "      <td>-2.90</td>\n",
       "      <td>-0.77</td>\n",
       "      <td>42.24</td>\n",
       "      <td>16.13</td>\n",
       "      <td>32.33</td>\n",
       "      <td>9.24</td>\n",
       "      <td>-16.87</td>\n",
       "      <td>-0.67</td>\n",
       "      <td>4.34</td>\n",
       "      <td>-2.80</td>\n",
       "      <td>1.46</td>\n",
       "    </tr>\n",
       "    <tr>\n",
       "      <th>H4_c_Mn</th>\n",
       "      <td>16</td>\n",
       "      <td>5.0</td>\n",
       "      <td>7.0</td>\n",
       "      <td>28.0</td>\n",
       "      <td>0.57</td>\n",
       "      <td>-1.90</td>\n",
       "      <td>-0.64</td>\n",
       "      <td>36.89</td>\n",
       "      <td>16.88</td>\n",
       "      <td>27.67</td>\n",
       "      <td>8.89</td>\n",
       "      <td>-11.12</td>\n",
       "      <td>-0.33</td>\n",
       "      <td>3.11</td>\n",
       "      <td>-1.83</td>\n",
       "      <td>0.69</td>\n",
       "    </tr>\n",
       "    <tr>\n",
       "      <th>Mn_q_APF_cl</th>\n",
       "      <td>36</td>\n",
       "      <td>20.0</td>\n",
       "      <td>17.0</td>\n",
       "      <td>73.0</td>\n",
       "      <td>0.29</td>\n",
       "      <td>0.05</td>\n",
       "      <td>-0.94</td>\n",
       "      <td>80.30</td>\n",
       "      <td>68.36</td>\n",
       "      <td>56.97</td>\n",
       "      <td>7.30</td>\n",
       "      <td>-4.64</td>\n",
       "      <td>-16.03</td>\n",
       "      <td>1.18</td>\n",
       "      <td>0.70</td>\n",
       "      <td>-1.28</td>\n",
       "    </tr>\n",
       "    <tr>\n",
       "      <th>Mn_c_AV10_cl</th>\n",
       "      <td>7</td>\n",
       "      <td>2.0</td>\n",
       "      <td>2.0</td>\n",
       "      <td>11.0</td>\n",
       "      <td>0.75</td>\n",
       "      <td>-1.80</td>\n",
       "      <td>-2.14</td>\n",
       "      <td>17.26</td>\n",
       "      <td>6.78</td>\n",
       "      <td>4.04</td>\n",
       "      <td>6.26</td>\n",
       "      <td>-4.22</td>\n",
       "      <td>-6.96</td>\n",
       "      <td>4.69</td>\n",
       "      <td>-0.41</td>\n",
       "      <td>-1.09</td>\n",
       "    </tr>\n",
       "    <tr>\n",
       "      <th>PF_o_DPF_cl</th>\n",
       "      <td>4</td>\n",
       "      <td>2.0</td>\n",
       "      <td>0.0</td>\n",
       "      <td>0.0</td>\n",
       "      <td>0.00</td>\n",
       "      <td>0.00</td>\n",
       "      <td>0.00</td>\n",
       "      <td>11.55</td>\n",
       "      <td>7.18</td>\n",
       "      <td>0.00</td>\n",
       "      <td>5.55</td>\n",
       "      <td>1.18</td>\n",
       "      <td>-6.00</td>\n",
       "      <td>0.00</td>\n",
       "      <td>0.00</td>\n",
       "      <td>0.00</td>\n",
       "    </tr>\n",
       "    <tr>\n",
       "      <th>Mn_i_AV4_cl</th>\n",
       "      <td>13</td>\n",
       "      <td>4.0</td>\n",
       "      <td>3.0</td>\n",
       "      <td>20.0</td>\n",
       "      <td>0.78</td>\n",
       "      <td>-1.30</td>\n",
       "      <td>-3.31</td>\n",
       "      <td>25.47</td>\n",
       "      <td>13.68</td>\n",
       "      <td>7.70</td>\n",
       "      <td>5.47</td>\n",
       "      <td>-6.32</td>\n",
       "      <td>-12.30</td>\n",
       "      <td>5.39</td>\n",
       "      <td>1.23</td>\n",
       "      <td>-2.79</td>\n",
       "    </tr>\n",
       "  </tbody>\n",
       "</table>\n",
       "</div>"
      ],
      "text/plain": [
       "              count_win  count_drow  count_loss  count_shape  mean_win_att  \\\n",
       "Mn_t_APF_cl          30        21.0        16.0         67.0          0.08   \n",
       "H4_c_AV1_in           7         1.0         1.0          9.0          1.03   \n",
       "Mn_c_AV1_cl          15         5.0         5.0         25.0          0.65   \n",
       "Mn_i_V10_cl          23        11.0        16.0         50.0          0.14   \n",
       "Mn_i_V4_cl           20         5.0         8.0         33.0          0.67   \n",
       "H4_c_Mn              16         5.0         7.0         28.0          0.57   \n",
       "Mn_q_APF_cl          36        20.0        17.0         73.0          0.29   \n",
       "Mn_c_AV10_cl          7         2.0         2.0         11.0          0.75   \n",
       "PF_o_DPF_cl           4         2.0         0.0          0.0          0.00   \n",
       "Mn_i_AV4_cl          13         4.0         3.0         20.0          0.78   \n",
       "\n",
       "              mean_drow_att  mean_loss_att  bet_sum_win  bet_sum_drow  \\\n",
       "Mn_t_APF_cl            0.50          -0.83        83.85         74.57   \n",
       "H4_c_AV1_in           -5.30          -5.64        21.79          3.14   \n",
       "Mn_c_AV1_cl           -1.30          -1.64        35.24         16.09   \n",
       "Mn_i_V10_cl           -0.85           0.23        60.15         39.70   \n",
       "Mn_i_V4_cl            -2.90          -0.77        42.24         16.13   \n",
       "H4_c_Mn               -1.90          -0.64        36.89         16.88   \n",
       "Mn_q_APF_cl            0.05          -0.94        80.30         68.36   \n",
       "Mn_c_AV10_cl          -1.80          -2.14        17.26          6.78   \n",
       "PF_o_DPF_cl            0.00           0.00        11.55          7.18   \n",
       "Mn_i_AV4_cl           -1.30          -3.31        25.47         13.68   \n",
       "\n",
       "              bet_sum_loss  diff_sum_win  diff_sum_drow  diff_sum_loss  \\\n",
       "Mn_t_APF_cl          40.16         16.85           7.57         -26.84   \n",
       "H4_c_AV1_in           3.50         12.79          -5.86          -5.50   \n",
       "Mn_c_AV1_cl          13.46         10.24          -8.91         -11.54   \n",
       "Mn_i_V10_cl          65.52         10.15         -10.30          15.52   \n",
       "Mn_i_V4_cl           32.33          9.24         -16.87          -0.67   \n",
       "H4_c_Mn              27.67          8.89         -11.12          -0.33   \n",
       "Mn_q_APF_cl          56.97          7.30          -4.64         -16.03   \n",
       "Mn_c_AV10_cl          4.04          6.26          -4.22          -6.96   \n",
       "PF_o_DPF_cl           0.00          5.55           1.18          -6.00   \n",
       "Mn_i_AV4_cl           7.70          5.47          -6.32         -12.30   \n",
       "\n",
       "              win_surplus  drow_surplus  loss_surplus  \n",
       "Mn_t_APF_cl          0.41          1.25         -1.41  \n",
       "H4_c_AV1_in         11.97         -0.69         -1.37  \n",
       "Mn_c_AV1_cl          3.59         -0.31         -0.99  \n",
       "Mn_i_V10_cl          0.76         -1.22          0.94  \n",
       "Mn_i_V4_cl           4.34         -2.80          1.46  \n",
       "H4_c_Mn              3.11         -1.83          0.69  \n",
       "Mn_q_APF_cl          1.18          0.70         -1.28  \n",
       "Mn_c_AV10_cl         4.69         -0.41         -1.09  \n",
       "PF_o_DPF_cl          0.00          0.00          0.00  \n",
       "Mn_i_AV4_cl          5.39          1.23         -2.79  "
      ]
     },
     "execution_count": 213,
     "metadata": {},
     "output_type": "execute_result"
    }
   ],
   "source": [
    "df_asps_count.sort_values(by='diff_sum_win', ascending=False).head(10)"
   ]
  },
  {
   "cell_type": "code",
   "execution_count": 214,
   "id": "fa642e45-fe3f-4854-8478-07d406f1475f",
   "metadata": {},
   "outputs": [
    {
     "data": {
      "text/html": [
       "<div>\n",
       "<style scoped>\n",
       "    .dataframe tbody tr th:only-of-type {\n",
       "        vertical-align: middle;\n",
       "    }\n",
       "\n",
       "    .dataframe tbody tr th {\n",
       "        vertical-align: top;\n",
       "    }\n",
       "\n",
       "    .dataframe thead th {\n",
       "        text-align: right;\n",
       "    }\n",
       "</style>\n",
       "<table border=\"1\" class=\"dataframe\">\n",
       "  <thead>\n",
       "    <tr style=\"text-align: right;\">\n",
       "      <th></th>\n",
       "      <th>count_win</th>\n",
       "      <th>count_drow</th>\n",
       "      <th>count_loss</th>\n",
       "      <th>count_shape</th>\n",
       "      <th>mean_win_att</th>\n",
       "      <th>mean_drow_att</th>\n",
       "      <th>mean_loss_att</th>\n",
       "      <th>bet_sum_win</th>\n",
       "      <th>bet_sum_drow</th>\n",
       "      <th>bet_sum_loss</th>\n",
       "      <th>diff_sum_win</th>\n",
       "      <th>diff_sum_drow</th>\n",
       "      <th>diff_sum_loss</th>\n",
       "      <th>win_surplus</th>\n",
       "      <th>drow_surplus</th>\n",
       "      <th>loss_surplus</th>\n",
       "    </tr>\n",
       "  </thead>\n",
       "  <tbody>\n",
       "    <tr>\n",
       "      <th>Mn_o_PF_cl</th>\n",
       "      <td>60</td>\n",
       "      <td>56.0</td>\n",
       "      <td>48.0</td>\n",
       "      <td>164.0</td>\n",
       "      <td>-0.42</td>\n",
       "      <td>0.77</td>\n",
       "      <td>-0.06</td>\n",
       "      <td>120.07</td>\n",
       "      <td>197.25</td>\n",
       "      <td>140.92</td>\n",
       "      <td>-43.93</td>\n",
       "      <td>33.25</td>\n",
       "      <td>-23.08</td>\n",
       "      <td>-1.13</td>\n",
       "      <td>1.25</td>\n",
       "      <td>-0.41</td>\n",
       "    </tr>\n",
       "    <tr>\n",
       "      <th>Mn_q_AV10_cl</th>\n",
       "      <td>6</td>\n",
       "      <td>9.0</td>\n",
       "      <td>7.0</td>\n",
       "      <td>22.0</td>\n",
       "      <td>-1.35</td>\n",
       "      <td>1.25</td>\n",
       "      <td>0.21</td>\n",
       "      <td>10.38</td>\n",
       "      <td>38.99</td>\n",
       "      <td>27.52</td>\n",
       "      <td>-11.62</td>\n",
       "      <td>16.99</td>\n",
       "      <td>5.52</td>\n",
       "      <td>-2.81</td>\n",
       "      <td>2.39</td>\n",
       "      <td>0.31</td>\n",
       "    </tr>\n",
       "    <tr>\n",
       "      <th>H7_c_AV10_in</th>\n",
       "      <td>2</td>\n",
       "      <td>8.0</td>\n",
       "      <td>1.0</td>\n",
       "      <td>11.0</td>\n",
       "      <td>-3.18</td>\n",
       "      <td>2.32</td>\n",
       "      <td>-7.64</td>\n",
       "      <td>3.39</td>\n",
       "      <td>27.70</td>\n",
       "      <td>1.34</td>\n",
       "      <td>-7.61</td>\n",
       "      <td>16.70</td>\n",
       "      <td>-9.66</td>\n",
       "      <td>2.14</td>\n",
       "      <td>13.14</td>\n",
       "      <td>-6.78</td>\n",
       "    </tr>\n",
       "    <tr>\n",
       "      <th>Mn_o_V7_cl</th>\n",
       "      <td>7</td>\n",
       "      <td>13.0</td>\n",
       "      <td>10.0</td>\n",
       "      <td>30.0</td>\n",
       "      <td>-1.97</td>\n",
       "      <td>1.39</td>\n",
       "      <td>0.36</td>\n",
       "      <td>12.27</td>\n",
       "      <td>43.95</td>\n",
       "      <td>40.81</td>\n",
       "      <td>-17.73</td>\n",
       "      <td>13.95</td>\n",
       "      <td>10.81</td>\n",
       "      <td>-3.72</td>\n",
       "      <td>3.00</td>\n",
       "      <td>0.94</td>\n",
       "    </tr>\n",
       "    <tr>\n",
       "      <th>Mn_q_AV4_cl</th>\n",
       "      <td>5</td>\n",
       "      <td>11.0</td>\n",
       "      <td>12.0</td>\n",
       "      <td>28.0</td>\n",
       "      <td>-3.28</td>\n",
       "      <td>1.15</td>\n",
       "      <td>1.02</td>\n",
       "      <td>8.45</td>\n",
       "      <td>40.77</td>\n",
       "      <td>29.38</td>\n",
       "      <td>-19.55</td>\n",
       "      <td>12.77</td>\n",
       "      <td>1.38</td>\n",
       "      <td>-5.45</td>\n",
       "      <td>3.41</td>\n",
       "      <td>3.15</td>\n",
       "    </tr>\n",
       "    <tr>\n",
       "      <th>Mn_i_APF_cl</th>\n",
       "      <td>33</td>\n",
       "      <td>23.0</td>\n",
       "      <td>21.0</td>\n",
       "      <td>77.0</td>\n",
       "      <td>-0.02</td>\n",
       "      <td>0.35</td>\n",
       "      <td>-0.31</td>\n",
       "      <td>66.96</td>\n",
       "      <td>89.46</td>\n",
       "      <td>51.75</td>\n",
       "      <td>-10.04</td>\n",
       "      <td>12.46</td>\n",
       "      <td>-25.25</td>\n",
       "      <td>-0.06</td>\n",
       "      <td>0.68</td>\n",
       "      <td>-0.64</td>\n",
       "    </tr>\n",
       "    <tr>\n",
       "      <th>H7_c_APF</th>\n",
       "      <td>10</td>\n",
       "      <td>10.0</td>\n",
       "      <td>5.0</td>\n",
       "      <td>25.0</td>\n",
       "      <td>-0.18</td>\n",
       "      <td>1.20</td>\n",
       "      <td>-1.64</td>\n",
       "      <td>30.36</td>\n",
       "      <td>36.24</td>\n",
       "      <td>19.63</td>\n",
       "      <td>5.36</td>\n",
       "      <td>11.24</td>\n",
       "      <td>-5.37</td>\n",
       "      <td>0.26</td>\n",
       "      <td>3.02</td>\n",
       "      <td>-2.66</td>\n",
       "    </tr>\n",
       "    <tr>\n",
       "      <th>H1_c_Pl</th>\n",
       "      <td>2</td>\n",
       "      <td>5.0</td>\n",
       "      <td>1.0</td>\n",
       "      <td>8.0</td>\n",
       "      <td>-1.68</td>\n",
       "      <td>2.10</td>\n",
       "      <td>-4.64</td>\n",
       "      <td>3.09</td>\n",
       "      <td>18.18</td>\n",
       "      <td>1.99</td>\n",
       "      <td>-4.91</td>\n",
       "      <td>10.18</td>\n",
       "      <td>-6.01</td>\n",
       "      <td>0.86</td>\n",
       "      <td>8.42</td>\n",
       "      <td>-5.06</td>\n",
       "    </tr>\n",
       "    <tr>\n",
       "      <th>H4_c_Pl</th>\n",
       "      <td>6</td>\n",
       "      <td>7.0</td>\n",
       "      <td>4.0</td>\n",
       "      <td>17.0</td>\n",
       "      <td>-0.52</td>\n",
       "      <td>1.27</td>\n",
       "      <td>-0.89</td>\n",
       "      <td>11.75</td>\n",
       "      <td>27.14</td>\n",
       "      <td>10.43</td>\n",
       "      <td>-5.25</td>\n",
       "      <td>10.14</td>\n",
       "      <td>-6.57</td>\n",
       "      <td>-0.90</td>\n",
       "      <td>2.68</td>\n",
       "      <td>-1.64</td>\n",
       "    </tr>\n",
       "    <tr>\n",
       "      <th>H1_c_V7_in</th>\n",
       "      <td>4</td>\n",
       "      <td>6.0</td>\n",
       "      <td>5.0</td>\n",
       "      <td>15.0</td>\n",
       "      <td>-1.43</td>\n",
       "      <td>1.20</td>\n",
       "      <td>0.36</td>\n",
       "      <td>8.95</td>\n",
       "      <td>24.98</td>\n",
       "      <td>22.15</td>\n",
       "      <td>-6.05</td>\n",
       "      <td>9.98</td>\n",
       "      <td>7.15</td>\n",
       "      <td>-2.99</td>\n",
       "      <td>2.27</td>\n",
       "      <td>0.59</td>\n",
       "    </tr>\n",
       "  </tbody>\n",
       "</table>\n",
       "</div>"
      ],
      "text/plain": [
       "              count_win  count_drow  count_loss  count_shape  mean_win_att  \\\n",
       "Mn_o_PF_cl           60        56.0        48.0        164.0         -0.42   \n",
       "Mn_q_AV10_cl          6         9.0         7.0         22.0         -1.35   \n",
       "H7_c_AV10_in          2         8.0         1.0         11.0         -3.18   \n",
       "Mn_o_V7_cl            7        13.0        10.0         30.0         -1.97   \n",
       "Mn_q_AV4_cl           5        11.0        12.0         28.0         -3.28   \n",
       "Mn_i_APF_cl          33        23.0        21.0         77.0         -0.02   \n",
       "H7_c_APF             10        10.0         5.0         25.0         -0.18   \n",
       "H1_c_Pl               2         5.0         1.0          8.0         -1.68   \n",
       "H4_c_Pl               6         7.0         4.0         17.0         -0.52   \n",
       "H1_c_V7_in            4         6.0         5.0         15.0         -1.43   \n",
       "\n",
       "              mean_drow_att  mean_loss_att  bet_sum_win  bet_sum_drow  \\\n",
       "Mn_o_PF_cl             0.77          -0.06       120.07        197.25   \n",
       "Mn_q_AV10_cl           1.25           0.21        10.38         38.99   \n",
       "H7_c_AV10_in           2.32          -7.64         3.39         27.70   \n",
       "Mn_o_V7_cl             1.39           0.36        12.27         43.95   \n",
       "Mn_q_AV4_cl            1.15           1.02         8.45         40.77   \n",
       "Mn_i_APF_cl            0.35          -0.31        66.96         89.46   \n",
       "H7_c_APF               1.20          -1.64        30.36         36.24   \n",
       "H1_c_Pl                2.10          -4.64         3.09         18.18   \n",
       "H4_c_Pl                1.27          -0.89        11.75         27.14   \n",
       "H1_c_V7_in             1.20           0.36         8.95         24.98   \n",
       "\n",
       "              bet_sum_loss  diff_sum_win  diff_sum_drow  diff_sum_loss  \\\n",
       "Mn_o_PF_cl          140.92        -43.93          33.25         -23.08   \n",
       "Mn_q_AV10_cl         27.52        -11.62          16.99           5.52   \n",
       "H7_c_AV10_in          1.34         -7.61          16.70          -9.66   \n",
       "Mn_o_V7_cl           40.81        -17.73          13.95          10.81   \n",
       "Mn_q_AV4_cl          29.38        -19.55          12.77           1.38   \n",
       "Mn_i_APF_cl          51.75        -10.04          12.46         -25.25   \n",
       "H7_c_APF             19.63          5.36          11.24          -5.37   \n",
       "H1_c_Pl               1.99         -4.91          10.18          -6.01   \n",
       "H4_c_Pl              10.43         -5.25          10.14          -6.57   \n",
       "H1_c_V7_in           22.15         -6.05           9.98           7.15   \n",
       "\n",
       "              win_surplus  drow_surplus  loss_surplus  \n",
       "Mn_o_PF_cl          -1.13          1.25         -0.41  \n",
       "Mn_q_AV10_cl        -2.81          2.39          0.31  \n",
       "H7_c_AV10_in         2.14         13.14         -6.78  \n",
       "Mn_o_V7_cl          -3.72          3.00          0.94  \n",
       "Mn_q_AV4_cl         -5.45          3.41          3.15  \n",
       "Mn_i_APF_cl         -0.06          0.68         -0.64  \n",
       "H7_c_APF             0.26          3.02         -2.66  \n",
       "H1_c_Pl              0.86          8.42         -5.06  \n",
       "H4_c_Pl             -0.90          2.68         -1.64  \n",
       "H1_c_V7_in          -2.99          2.27          0.59  "
      ]
     },
     "execution_count": 214,
     "metadata": {},
     "output_type": "execute_result"
    }
   ],
   "source": [
    "df_asps_count.sort_values(by='diff_sum_drow', ascending=False).head(10)"
   ]
  },
  {
   "cell_type": "code",
   "execution_count": 215,
   "id": "21a5c1f0-787c-41ec-9dc3-bb7a7d92cb70",
   "metadata": {},
   "outputs": [
    {
     "data": {
      "text/html": [
       "<div>\n",
       "<style scoped>\n",
       "    .dataframe tbody tr th:only-of-type {\n",
       "        vertical-align: middle;\n",
       "    }\n",
       "\n",
       "    .dataframe tbody tr th {\n",
       "        vertical-align: top;\n",
       "    }\n",
       "\n",
       "    .dataframe thead th {\n",
       "        text-align: right;\n",
       "    }\n",
       "</style>\n",
       "<table border=\"1\" class=\"dataframe\">\n",
       "  <thead>\n",
       "    <tr style=\"text-align: right;\">\n",
       "      <th></th>\n",
       "      <th>count_win</th>\n",
       "      <th>count_drow</th>\n",
       "      <th>count_loss</th>\n",
       "      <th>count_shape</th>\n",
       "      <th>mean_win_att</th>\n",
       "      <th>mean_drow_att</th>\n",
       "      <th>mean_loss_att</th>\n",
       "      <th>bet_sum_win</th>\n",
       "      <th>bet_sum_drow</th>\n",
       "      <th>bet_sum_loss</th>\n",
       "      <th>diff_sum_win</th>\n",
       "      <th>diff_sum_drow</th>\n",
       "      <th>diff_sum_loss</th>\n",
       "      <th>win_surplus</th>\n",
       "      <th>drow_surplus</th>\n",
       "      <th>loss_surplus</th>\n",
       "    </tr>\n",
       "  </thead>\n",
       "  <tbody>\n",
       "    <tr>\n",
       "      <th>H7_c_V1_in</th>\n",
       "      <td>16</td>\n",
       "      <td>10.0</td>\n",
       "      <td>16.0</td>\n",
       "      <td>42.0</td>\n",
       "      <td>-0.31</td>\n",
       "      <td>-0.50</td>\n",
       "      <td>0.73</td>\n",
       "      <td>29.61</td>\n",
       "      <td>36.30</td>\n",
       "      <td>59.29</td>\n",
       "      <td>-12.39</td>\n",
       "      <td>-5.70</td>\n",
       "      <td>17.29</td>\n",
       "      <td>-0.54</td>\n",
       "      <td>-0.92</td>\n",
       "      <td>1.54</td>\n",
       "    </tr>\n",
       "    <tr>\n",
       "      <th>Mn_t_V4_cl</th>\n",
       "      <td>8</td>\n",
       "      <td>3.0</td>\n",
       "      <td>15.0</td>\n",
       "      <td>26.0</td>\n",
       "      <td>-0.93</td>\n",
       "      <td>-4.97</td>\n",
       "      <td>1.62</td>\n",
       "      <td>17.81</td>\n",
       "      <td>10.66</td>\n",
       "      <td>42.47</td>\n",
       "      <td>-8.19</td>\n",
       "      <td>-15.34</td>\n",
       "      <td>16.47</td>\n",
       "      <td>2.42</td>\n",
       "      <td>-5.66</td>\n",
       "      <td>7.52</td>\n",
       "    </tr>\n",
       "    <tr>\n",
       "      <th>Mn_i_V10_cl</th>\n",
       "      <td>23</td>\n",
       "      <td>11.0</td>\n",
       "      <td>16.0</td>\n",
       "      <td>50.0</td>\n",
       "      <td>0.14</td>\n",
       "      <td>-0.85</td>\n",
       "      <td>0.23</td>\n",
       "      <td>60.15</td>\n",
       "      <td>39.70</td>\n",
       "      <td>65.52</td>\n",
       "      <td>10.15</td>\n",
       "      <td>-10.30</td>\n",
       "      <td>15.52</td>\n",
       "      <td>0.76</td>\n",
       "      <td>-1.22</td>\n",
       "      <td>0.94</td>\n",
       "    </tr>\n",
       "    <tr>\n",
       "      <th>H4_c_AMn</th>\n",
       "      <td>6</td>\n",
       "      <td>5.0</td>\n",
       "      <td>7.0</td>\n",
       "      <td>18.0</td>\n",
       "      <td>-0.68</td>\n",
       "      <td>0.10</td>\n",
       "      <td>0.79</td>\n",
       "      <td>16.02</td>\n",
       "      <td>16.07</td>\n",
       "      <td>33.30</td>\n",
       "      <td>-1.98</td>\n",
       "      <td>-1.93</td>\n",
       "      <td>15.30</td>\n",
       "      <td>-1.57</td>\n",
       "      <td>-0.01</td>\n",
       "      <td>1.37</td>\n",
       "    </tr>\n",
       "    <tr>\n",
       "      <th>H7_c_APl</th>\n",
       "      <td>4</td>\n",
       "      <td>4.0</td>\n",
       "      <td>6.0</td>\n",
       "      <td>14.0</td>\n",
       "      <td>-1.18</td>\n",
       "      <td>0.20</td>\n",
       "      <td>1.02</td>\n",
       "      <td>9.21</td>\n",
       "      <td>13.06</td>\n",
       "      <td>27.48</td>\n",
       "      <td>-4.79</td>\n",
       "      <td>-0.94</td>\n",
       "      <td>13.48</td>\n",
       "      <td>-2.40</td>\n",
       "      <td>0.36</td>\n",
       "      <td>2.00</td>\n",
       "    </tr>\n",
       "    <tr>\n",
       "      <th>Mn_i_AV10_cl</th>\n",
       "      <td>9</td>\n",
       "      <td>4.0</td>\n",
       "      <td>8.0</td>\n",
       "      <td>21.0</td>\n",
       "      <td>-0.02</td>\n",
       "      <td>-1.55</td>\n",
       "      <td>0.73</td>\n",
       "      <td>26.09</td>\n",
       "      <td>14.71</td>\n",
       "      <td>33.83</td>\n",
       "      <td>5.09</td>\n",
       "      <td>-6.29</td>\n",
       "      <td>12.83</td>\n",
       "      <td>0.80</td>\n",
       "      <td>-2.26</td>\n",
       "      <td>2.30</td>\n",
       "    </tr>\n",
       "    <tr>\n",
       "      <th>Mn_t_AV1_cl</th>\n",
       "      <td>19</td>\n",
       "      <td>8.0</td>\n",
       "      <td>19.0</td>\n",
       "      <td>46.0</td>\n",
       "      <td>-0.10</td>\n",
       "      <td>-2.05</td>\n",
       "      <td>0.94</td>\n",
       "      <td>39.94</td>\n",
       "      <td>27.92</td>\n",
       "      <td>58.80</td>\n",
       "      <td>-6.06</td>\n",
       "      <td>-18.08</td>\n",
       "      <td>12.80</td>\n",
       "      <td>1.01</td>\n",
       "      <td>-2.89</td>\n",
       "      <td>3.09</td>\n",
       "    </tr>\n",
       "    <tr>\n",
       "      <th>Mn_q_AV1_cl</th>\n",
       "      <td>26</td>\n",
       "      <td>14.0</td>\n",
       "      <td>24.0</td>\n",
       "      <td>64.0</td>\n",
       "      <td>-0.14</td>\n",
       "      <td>-0.88</td>\n",
       "      <td>0.69</td>\n",
       "      <td>61.71</td>\n",
       "      <td>49.90</td>\n",
       "      <td>75.49</td>\n",
       "      <td>-2.29</td>\n",
       "      <td>-14.10</td>\n",
       "      <td>11.49</td>\n",
       "      <td>0.05</td>\n",
       "      <td>-1.43</td>\n",
       "      <td>1.71</td>\n",
       "    </tr>\n",
       "    <tr>\n",
       "      <th>Mn_o_V7_cl</th>\n",
       "      <td>7</td>\n",
       "      <td>13.0</td>\n",
       "      <td>10.0</td>\n",
       "      <td>30.0</td>\n",
       "      <td>-1.97</td>\n",
       "      <td>1.39</td>\n",
       "      <td>0.36</td>\n",
       "      <td>12.27</td>\n",
       "      <td>43.95</td>\n",
       "      <td>40.81</td>\n",
       "      <td>-17.73</td>\n",
       "      <td>13.95</td>\n",
       "      <td>10.81</td>\n",
       "      <td>-3.72</td>\n",
       "      <td>3.00</td>\n",
       "      <td>0.94</td>\n",
       "    </tr>\n",
       "    <tr>\n",
       "      <th>PF_c_DPF_cl</th>\n",
       "      <td>7</td>\n",
       "      <td>5.0</td>\n",
       "      <td>7.0</td>\n",
       "      <td>19.0</td>\n",
       "      <td>-0.40</td>\n",
       "      <td>-0.10</td>\n",
       "      <td>0.64</td>\n",
       "      <td>15.74</td>\n",
       "      <td>17.57</td>\n",
       "      <td>28.22</td>\n",
       "      <td>-3.26</td>\n",
       "      <td>-1.43</td>\n",
       "      <td>9.22</td>\n",
       "      <td>-0.94</td>\n",
       "      <td>-0.34</td>\n",
       "      <td>1.14</td>\n",
       "    </tr>\n",
       "  </tbody>\n",
       "</table>\n",
       "</div>"
      ],
      "text/plain": [
       "              count_win  count_drow  count_loss  count_shape  mean_win_att  \\\n",
       "H7_c_V1_in           16        10.0        16.0         42.0         -0.31   \n",
       "Mn_t_V4_cl            8         3.0        15.0         26.0         -0.93   \n",
       "Mn_i_V10_cl          23        11.0        16.0         50.0          0.14   \n",
       "H4_c_AMn              6         5.0         7.0         18.0         -0.68   \n",
       "H7_c_APl              4         4.0         6.0         14.0         -1.18   \n",
       "Mn_i_AV10_cl          9         4.0         8.0         21.0         -0.02   \n",
       "Mn_t_AV1_cl          19         8.0        19.0         46.0         -0.10   \n",
       "Mn_q_AV1_cl          26        14.0        24.0         64.0         -0.14   \n",
       "Mn_o_V7_cl            7        13.0        10.0         30.0         -1.97   \n",
       "PF_c_DPF_cl           7         5.0         7.0         19.0         -0.40   \n",
       "\n",
       "              mean_drow_att  mean_loss_att  bet_sum_win  bet_sum_drow  \\\n",
       "H7_c_V1_in            -0.50           0.73        29.61         36.30   \n",
       "Mn_t_V4_cl            -4.97           1.62        17.81         10.66   \n",
       "Mn_i_V10_cl           -0.85           0.23        60.15         39.70   \n",
       "H4_c_AMn               0.10           0.79        16.02         16.07   \n",
       "H7_c_APl               0.20           1.02         9.21         13.06   \n",
       "Mn_i_AV10_cl          -1.55           0.73        26.09         14.71   \n",
       "Mn_t_AV1_cl           -2.05           0.94        39.94         27.92   \n",
       "Mn_q_AV1_cl           -0.88           0.69        61.71         49.90   \n",
       "Mn_o_V7_cl             1.39           0.36        12.27         43.95   \n",
       "PF_c_DPF_cl           -0.10           0.64        15.74         17.57   \n",
       "\n",
       "              bet_sum_loss  diff_sum_win  diff_sum_drow  diff_sum_loss  \\\n",
       "H7_c_V1_in           59.29        -12.39          -5.70          17.29   \n",
       "Mn_t_V4_cl           42.47         -8.19         -15.34          16.47   \n",
       "Mn_i_V10_cl          65.52         10.15         -10.30          15.52   \n",
       "H4_c_AMn             33.30         -1.98          -1.93          15.30   \n",
       "H7_c_APl             27.48         -4.79          -0.94          13.48   \n",
       "Mn_i_AV10_cl         33.83          5.09          -6.29          12.83   \n",
       "Mn_t_AV1_cl          58.80         -6.06         -18.08          12.80   \n",
       "Mn_q_AV1_cl          75.49         -2.29         -14.10          11.49   \n",
       "Mn_o_V7_cl           40.81        -17.73          13.95          10.81   \n",
       "PF_c_DPF_cl          28.22         -3.26          -1.43           9.22   \n",
       "\n",
       "              win_surplus  drow_surplus  loss_surplus  \n",
       "H7_c_V1_in          -0.54         -0.92          1.54  \n",
       "Mn_t_V4_cl           2.42         -5.66          7.52  \n",
       "Mn_i_V10_cl          0.76         -1.22          0.94  \n",
       "H4_c_AMn            -1.57         -0.01          1.37  \n",
       "H7_c_APl            -2.40          0.36          2.00  \n",
       "Mn_i_AV10_cl         0.80         -2.26          2.30  \n",
       "Mn_t_AV1_cl          1.01         -2.89          3.09  \n",
       "Mn_q_AV1_cl          0.05         -1.43          1.71  \n",
       "Mn_o_V7_cl          -3.72          3.00          0.94  \n",
       "PF_c_DPF_cl         -0.94         -0.34          1.14  "
      ]
     },
     "execution_count": 215,
     "metadata": {},
     "output_type": "execute_result"
    }
   ],
   "source": [
    "df_asps_count.sort_values(by='diff_sum_loss', ascending=False).head(10)"
   ]
  },
  {
   "cell_type": "code",
   "execution_count": 216,
   "id": "9ea51255-90e8-4421-8bdb-080f475dcc87",
   "metadata": {},
   "outputs": [
    {
     "data": {
      "text/html": [
       "<div>\n",
       "<style scoped>\n",
       "    .dataframe tbody tr th:only-of-type {\n",
       "        vertical-align: middle;\n",
       "    }\n",
       "\n",
       "    .dataframe tbody tr th {\n",
       "        vertical-align: top;\n",
       "    }\n",
       "\n",
       "    .dataframe thead th {\n",
       "        text-align: right;\n",
       "    }\n",
       "</style>\n",
       "<table border=\"1\" class=\"dataframe\">\n",
       "  <thead>\n",
       "    <tr style=\"text-align: right;\">\n",
       "      <th></th>\n",
       "      <th>game_id</th>\n",
       "      <th>ligue_header</th>\n",
       "      <th>season_id</th>\n",
       "      <th>game_utc</th>\n",
       "      <th>goals</th>\n",
       "      <th>ligue</th>\n",
       "      <th>actual_city</th>\n",
       "      <th>actual_country</th>\n",
       "      <th>f_team</th>\n",
       "      <th>s_team</th>\n",
       "      <th>pos_f</th>\n",
       "      <th>pos_s</th>\n",
       "      <th>pts_f</th>\n",
       "      <th>pts_s</th>\n",
       "      <th>1</th>\n",
       "      <th>X</th>\n",
       "      <th>2</th>\n",
       "      <th>un_2.5</th>\n",
       "      <th>ov_2.5</th>\n",
       "      <th>country</th>\n",
       "      <th>city</th>\n",
       "      <th>lat</th>\n",
       "      <th>lon</th>\n",
       "      <th>f_point</th>\n",
       "      <th>s_point</th>\n",
       "      <th>type</th>\n",
       "      <th>approach</th>\n",
       "      <th>sing</th>\n",
       "      <th>tr_orb</th>\n",
       "      <th>bp_asp</th>\n",
       "      <th>den_point</th>\n",
       "      <th>smain_ch</th>\n",
       "      <th>fmain_ch</th>\n",
       "      <th>f_role</th>\n",
       "      <th>s_role</th>\n",
       "      <th>fs_asps</th>\n",
       "      <th>day_month_yr</th>\n",
       "      <th>cnt_asp_for_day</th>\n",
       "      <th>f_role_wt_pls</th>\n",
       "      <th>s_role_wt_pls</th>\n",
       "      <th>cnt_asp_wt_pls_for_day</th>\n",
       "      <th>month_yr</th>\n",
       "      <th>moon_day</th>\n",
       "      <th>nakshatras</th>\n",
       "      <th>week_day</th>\n",
       "      <th>day</th>\n",
       "      <th>goals_count</th>\n",
       "      <th>host_role</th>\n",
       "      <th>result</th>\n",
       "      <th>fav_goals</th>\n",
       "      <th>win_bets</th>\n",
       "      <th>drow_bets</th>\n",
       "      <th>loss_bets</th>\n",
       "      <th>day_name</th>\n",
       "      <th>bets_desc</th>\n",
       "      <th>fs_asps_wt_pls_lt</th>\n",
       "      <th>fav_asps_lt</th>\n",
       "      <th>pre_asps_lt</th>\n",
       "      <th>fav_cnt_asps</th>\n",
       "      <th>pre_cnt_asps</th>\n",
       "      <th>asps_goals</th>\n",
       "      <th>asps_cnt</th>\n",
       "      <th>asps_win_rate</th>\n",
       "      <th>asps_drow_rate</th>\n",
       "      <th>asps_loss_rate</th>\n",
       "    </tr>\n",
       "  </thead>\n",
       "  <tbody>\n",
       "    <tr>\n",
       "      <th>20759</th>\n",
       "      <td>1743346</td>\n",
       "      <td>Premier Liga</td>\n",
       "      <td>381</td>\n",
       "      <td>2022-10-03 16:00:00</td>\n",
       "      <td>0:0</td>\n",
       "      <td>top</td>\n",
       "      <td>Samara</td>\n",
       "      <td>Russia</td>\n",
       "      <td>Krylya Sovetov Samara</td>\n",
       "      <td>Krasnodar</td>\n",
       "      <td>12</td>\n",
       "      <td>6</td>\n",
       "      <td>32</td>\n",
       "      <td>48</td>\n",
       "      <td>2.05</td>\n",
       "      <td>3.76</td>\n",
       "      <td>3.8</td>\n",
       "      <td>2.06</td>\n",
       "      <td>1.89</td>\n",
       "      <td>Russia</td>\n",
       "      <td>Samara</td>\n",
       "      <td>53n12</td>\n",
       "      <td>50e9</td>\n",
       "      <td>Mn</td>\n",
       "      <td>ASn</td>\n",
       "      <td>i</td>\n",
       "      <td>moon_conv_compl_weak</td>\n",
       "      <td>equal</td>\n",
       "      <td>0.28</td>\n",
       "      <td>no</td>\n",
       "      <td>([], [antes_ruls])</td>\n",
       "      <td>AV4</td>\n",
       "      <td></td>\n",
       "      <td>Mn</td>\n",
       "      <td>ASn-AV4</td>\n",
       "      <td>Mn_i_ASn-AV4</td>\n",
       "      <td>2022-10-03</td>\n",
       "      <td>5</td>\n",
       "      <td>Mn</td>\n",
       "      <td>AV4</td>\n",
       "      <td>7</td>\n",
       "      <td>10.2022</td>\n",
       "      <td>7</td>\n",
       "      <td>Revathi</td>\n",
       "      <td>0</td>\n",
       "      <td>20</td>\n",
       "      <td>0</td>\n",
       "      <td>Fav</td>\n",
       "      <td>fav_drow</td>\n",
       "      <td>0</td>\n",
       "      <td>0.0</td>\n",
       "      <td>3.76</td>\n",
       "      <td>0.0</td>\n",
       "      <td>Mon</td>\n",
       "      <td>drow_3.76</td>\n",
       "      <td>(Mn_i_AV4_cl,)</td>\n",
       "      <td>[]</td>\n",
       "      <td>[Mn_i_AV4_cl]</td>\n",
       "      <td>0</td>\n",
       "      <td>1</td>\n",
       "      <td>0:1</td>\n",
       "      <td>1</td>\n",
       "      <td>5.47</td>\n",
       "      <td>-6.32</td>\n",
       "      <td>-12.3</td>\n",
       "    </tr>\n",
       "  </tbody>\n",
       "</table>\n",
       "</div>"
      ],
      "text/plain": [
       "       game_id  ligue_header season_id            game_utc goals ligue  \\\n",
       "20759  1743346  Premier Liga       381 2022-10-03 16:00:00   0:0   top   \n",
       "\n",
       "      actual_city actual_country                 f_team     s_team pos_f  \\\n",
       "20759      Samara         Russia  Krylya Sovetov Samara  Krasnodar    12   \n",
       "\n",
       "      pos_s pts_f pts_s     1     X    2  un_2.5  ov_2.5 country    city  \\\n",
       "20759     6    32    48  2.05  3.76  3.8    2.06    1.89  Russia  Samara   \n",
       "\n",
       "         lat   lon f_point s_point type              approach   sing  tr_orb  \\\n",
       "20759  53n12  50e9      Mn     ASn    i  moon_conv_compl_weak  equal    0.28   \n",
       "\n",
       "      bp_asp           den_point smain_ch fmain_ch f_role   s_role  \\\n",
       "20759     no  ([], [antes_ruls])      AV4              Mn  ASn-AV4   \n",
       "\n",
       "            fs_asps day_month_yr  cnt_asp_for_day f_role_wt_pls s_role_wt_pls  \\\n",
       "20759  Mn_i_ASn-AV4   2022-10-03                5            Mn           AV4   \n",
       "\n",
       "       cnt_asp_wt_pls_for_day month_yr  moon_day nakshatras  week_day day  \\\n",
       "20759                       7  10.2022         7    Revathi         0  20   \n",
       "\n",
       "       goals_count host_role    result  fav_goals  win_bets  drow_bets  \\\n",
       "20759            0       Fav  fav_drow          0       0.0       3.76   \n",
       "\n",
       "       loss_bets day_name  bets_desc fs_asps_wt_pls_lt fav_asps_lt  \\\n",
       "20759        0.0      Mon  drow_3.76    (Mn_i_AV4_cl,)          []   \n",
       "\n",
       "         pre_asps_lt  fav_cnt_asps  pre_cnt_asps asps_goals  asps_cnt  \\\n",
       "20759  [Mn_i_AV4_cl]             0             1        0:1         1   \n",
       "\n",
       "       asps_win_rate  asps_drow_rate  asps_loss_rate  \n",
       "20759           5.47           -6.32           -12.3  "
      ]
     },
     "execution_count": 216,
     "metadata": {},
     "output_type": "execute_result"
    }
   ],
   "source": [
    "df_check.head(1)"
   ]
  },
  {
   "cell_type": "code",
   "execution_count": 217,
   "id": "fbe945a6-e7f7-4d1d-a94e-05d3b9a0e70c",
   "metadata": {},
   "outputs": [],
   "source": [
    "inds_lt = df_asps_count[df_asps_count.loss_surplus > 2].index"
   ]
  },
  {
   "cell_type": "code",
   "execution_count": 235,
   "id": "320f773e-4674-488a-85bc-55e8123ecea8",
   "metadata": {},
   "outputs": [
    {
     "name": "stdout",
     "output_type": "stream",
     "text": [
      "shape - 89\n",
      "win  - 42 - 98.41\n",
      "drow - 25 - 91.19\n",
      "loss - 22 - 59.46000000000001\n"
     ]
    }
   ],
   "source": [
    "# df_check_asp = df_check[['bets_desc', 'fs_asps_wt_pls_lt']].apply(lambda x: x[0] if any(var for var in x[1] if var == 'Mn_t_AV7_cl') else None, axis=1).dropna()\n",
    "df_check_asp = df_check[['bets_desc', 'fs_asps_wt_pls_lt']].apply(lambda x: x[0] if any(var for var in x[1] if var in inds_lt) else None, axis=1).dropna()\n",
    "\n",
    "cnt_win  = df_check[df_check.index.isin(df_check_asp.index)].bets_desc.map(lambda x:  float(x.split('_')[1]) if x.split('_')[0] == 'win' else None).dropna().shape[0]\n",
    "cnt_drow = df_check[df_check.index.isin(df_check_asp.index)].bets_desc.map(lambda x:  float(x.split('_')[1]) if x.split('_')[0] == 'drow' else None).dropna().shape[0]\n",
    "cnt_loss = df_check[df_check.index.isin(df_check_asp.index)].bets_desc.map(lambda x:  float(x.split('_')[1]) if x.split('_')[0] == 'loss' else None).dropna().shape[0]\n",
    "\n",
    "print('shape -',df_check_asp.shape[0])\n",
    "print('win  -', cnt_win, '-' , df_check[df_check.index.isin(df_check_asp.index)].bets_desc.map(lambda x:  float(x.split('_')[1]) if x.split('_')[0] == 'win' else 0).sum())\n",
    "print('drow -', cnt_drow, '-' , df_check[df_check.index.isin(df_check_asp.index)].bets_desc.map(lambda x:  float(x.split('_')[1]) if x.split('_')[0] == 'drow' else 0).sum())\n",
    "print('loss -', cnt_loss, '-' , df_check[df_check.index.isin(df_check_asp.index)].bets_desc.map(lambda x:  float(x.split('_')[1]) if x.split('_')[0] == 'loss' else 0).sum())"
   ]
  },
  {
   "cell_type": "code",
   "execution_count": 234,
   "id": "3b720ef2-5186-49bb-bc49-5119367b5ccd",
   "metadata": {},
   "outputs": [],
   "source": [
    "# df_check shape -  339\n",
    "# min date 2020-11-02 14:00:00\n",
    "# max date 2021-03-31 23:00:00\n",
    "# inds_lt = df_asps_count[df_asps_count.loss_surplus > 2].index\n",
    "# shape - 49\n",
    "# win  - 19 - 46.1\n",
    "# drow - 9 - 31.71\n",
    "# loss - 21 - 89.46\n",
    "\n",
    "inds_lt = ['Mn_i_AV1_cl', 'H7_c_V10_in', 'Mn_t_AV1_cl', 'PF_c_SN', 'H1_c_APF', 'H10_c_AV7_out', 'Mn_i_AV10_cl', 'H10_c_AV7_in', 'PF_c_Pl', 'Mn_t_V4_cl', 'DPF_c_APF_cl', 'Mn_o_V4_cl', \n",
    "            'H1_c_APl', 'H7_c_AMn', 'Pl_o_APF', 'Mn_q_AV4_cl', 'H7_c_V10_out', 'H4_c_AV1_out', 'Mn_c_AV4_cl', 'Mn_o_AV4_cl', 'H4_c_V1_out', 'H10_c_Ur', 'St_o_APF',b'H4_c_V1_in']"
   ]
  },
  {
   "cell_type": "code",
   "execution_count": null,
   "id": "0d9bd6f6-da34-4b34-beb7-ebb104bdd744",
   "metadata": {},
   "outputs": [],
   "source": []
  },
  {
   "cell_type": "code",
   "execution_count": 220,
   "id": "36140071-9722-48fc-9794-e60a5ce06783",
   "metadata": {},
   "outputs": [
    {
     "ename": "NameError",
     "evalue": "name 'st' is not defined",
     "output_type": "error",
     "traceback": [
      "\u001b[0;31m---------------------------------------------------------------------------\u001b[0m",
      "\u001b[0;31mNameError\u001b[0m                                 Traceback (most recent call last)",
      "Input \u001b[0;32mIn [220]\u001b[0m, in \u001b[0;36m<cell line: 1>\u001b[0;34m()\u001b[0m\n\u001b[0;32m----> 1\u001b[0m \u001b[43mst\u001b[49m\n",
      "\u001b[0;31mNameError\u001b[0m: name 'st' is not defined"
     ]
    }
   ],
   "source": [
    "st"
   ]
  },
  {
   "cell_type": "code",
   "execution_count": null,
   "id": "616ee01f-7e6a-4787-ae8e-1c3eaed76c68",
   "metadata": {},
   "outputs": [],
   "source": []
  },
  {
   "cell_type": "code",
   "execution_count": null,
   "id": "18875871-a65a-4531-82bf-d81e8710df80",
   "metadata": {},
   "outputs": [],
   "source": [
    "df_naksha = df_book_asps.fs_asps_wt_pls_lt.value_counts(dropna=False).to_frame()"
   ]
  },
  {
   "cell_type": "code",
   "execution_count": null,
   "id": "a882a62d-eb25-4e25-a9d9-eb2944d90b17",
   "metadata": {},
   "outputs": [],
   "source": [
    "df_naksha = df_naksha.merge(df_book_asps.groupby('fs_asps_wt_pls_lt').goals_count.sum(), how='left', left_index=True, right_index=True)"
   ]
  },
  {
   "cell_type": "code",
   "execution_count": null,
   "id": "0ec0edce-f1d0-4461-80b0-85313104bebc",
   "metadata": {},
   "outputs": [],
   "source": [
    "df_naksha['att_shp_gls'] = round(df_naksha.goals_count / df_naksha.fs_asps_wt_pls_lt, 2)"
   ]
  },
  {
   "cell_type": "code",
   "execution_count": null,
   "id": "56021973-04b1-4b3b-a0ef-738b28fc5f84",
   "metadata": {},
   "outputs": [],
   "source": [
    "df_naksha.sort_values(by='att_shp_gls', ascending=False).head(10)"
   ]
  },
  {
   "cell_type": "code",
   "execution_count": null,
   "id": "3ecf5e04-12f6-437d-960c-ed6a9a816bc5",
   "metadata": {},
   "outputs": [],
   "source": [
    "naksh = df_naksha.sort_values(by='att_shp_gls', ascending=False).index[6]\n",
    "print(naksh)\n",
    "print('shape -', df_book_asps[df_book_asps.fs_asps_wt_pls_lt == naksh].shape[0])\n",
    "print('succs -', df_book_asps[(df_book_asps.fs_asps_wt_pls_lt == naksh) & (df_book_asps.goals_count > 2)].shape[0])\n",
    "print('sum   -', df_book_asps[(df_book_asps.fs_asps_wt_pls_lt == naksh) & (df_book_asps.goals_count > 2)]['ov_2.5'].sum())"
   ]
  },
  {
   "cell_type": "code",
   "execution_count": null,
   "id": "a87e2c5a-bd9b-41f3-a468-be2b77bfdd6a",
   "metadata": {},
   "outputs": [],
   "source": [
    "naksh = df_naksha.sort_values(by='att_shp_gls', ascending=False).index[6]\n",
    "print(naksh)\n",
    "print('shape -', df_check[df_check.fs_asps_wt_pls_lt == naksh].shape[0])\n",
    "print('succs -', df_check[(df_check.fs_asps_wt_pls_lt == naksh) & (df_check.goals_count > 2)].shape[0])\n",
    "print('sum   -', df_check[(df_check.fs_asps_wt_pls_lt == naksh) & (df_check.goals_count > 2)]['ov_2.5'].sum())"
   ]
  },
  {
   "cell_type": "code",
   "execution_count": null,
   "id": "651578cd-a198-4d9f-8a36-26ad39b75487",
   "metadata": {},
   "outputs": [],
   "source": []
  },
  {
   "cell_type": "code",
   "execution_count": null,
   "id": "8d7c657b-c01c-468d-91e9-4dc5e21c52f9",
   "metadata": {},
   "outputs": [],
   "source": []
  },
  {
   "cell_type": "code",
   "execution_count": null,
   "id": "14b6f2f9-a79e-4e37-896e-661af1d8aabb",
   "metadata": {},
   "outputs": [],
   "source": [
    "df_book_asps.head(1)"
   ]
  },
  {
   "cell_type": "code",
   "execution_count": null,
   "id": "dc6fab28-041d-48dd-a8e2-663d9829518f",
   "metadata": {},
   "outputs": [],
   "source": [
    "cols = ['game_id', 'game_utc', 'goals', 'goals_count', 'f_team', 's_team', 'city', 'country', 'bets_desc', 'fs_asps_wt_pls_lt', 'moon_day', 'nakshatras']"
   ]
  },
  {
   "cell_type": "code",
   "execution_count": null,
   "id": "90936b76-a339-4c07-ac47-c8f40c29db92",
   "metadata": {},
   "outputs": [],
   "source": [
    "df_book_asps[(df_book_asps.game_id.isin(df_book_asps.apply(lambda x: x[0] if any(var for var in x['fs_asps_wt_pls_lt'] if var == 'Mn_t_PF_cl') else None, axis=1).dropna())) ][cols]"
   ]
  },
  {
   "cell_type": "code",
   "execution_count": null,
   "id": "6787fd79-5cd3-42d3-9862-2cf894216a3f",
   "metadata": {},
   "outputs": [],
   "source": []
  },
  {
   "cell_type": "code",
   "execution_count": null,
   "id": "6dc0e9f6-b7fe-4ad9-aa73-45acac4ce45a",
   "metadata": {},
   "outputs": [],
   "source": []
  },
  {
   "cell_type": "code",
   "execution_count": null,
   "id": "4b1fb33d-0105-4888-87fe-80323bc6312d",
   "metadata": {},
   "outputs": [],
   "source": []
  },
  {
   "cell_type": "code",
   "execution_count": null,
   "id": "cefa80b6-6c2e-47b0-a38e-1f1d81d8acdc",
   "metadata": {},
   "outputs": [],
   "source": []
  },
  {
   "cell_type": "code",
   "execution_count": null,
   "id": "0d0a1f14-da78-48c5-8f0f-1f33d258b871",
   "metadata": {},
   "outputs": [],
   "source": []
  },
  {
   "cell_type": "code",
   "execution_count": null,
   "id": "5af6776e-e0ad-4c3a-a729-0dbafc99cc81",
   "metadata": {},
   "outputs": [],
   "source": []
  },
  {
   "cell_type": "code",
   "execution_count": null,
   "id": "0d42c110-969a-4e13-a44f-6723e2474a7f",
   "metadata": {},
   "outputs": [],
   "source": []
  },
  {
   "cell_type": "code",
   "execution_count": null,
   "id": "7a29ea75-adce-481b-b31d-28a50fc01179",
   "metadata": {},
   "outputs": [],
   "source": []
  },
  {
   "cell_type": "code",
   "execution_count": null,
   "id": "16eae642-2b09-4b34-af19-b02dc1b0c61f",
   "metadata": {},
   "outputs": [],
   "source": [
    "St"
   ]
  },
  {
   "cell_type": "markdown",
   "id": "d1472f8d-db06-44ec-884f-4696ecb37753",
   "metadata": {
    "jp-MarkdownHeadingCollapsed": true,
    "tags": []
   },
   "source": [
    "#### Foras calculate ->"
   ]
  },
  {
   "cell_type": "code",
   "execution_count": null,
   "id": "166c7b46-5db4-4dcb-9657-78c1a8cc62f9",
   "metadata": {},
   "outputs": [],
   "source": [
    "# # Choise the action\n",
    "\n",
    "# # date = '29.09.2023' - format='%d.%m.%Y'\n",
    "# numb_asps  = 7 # change row code below with len_asp for 1 aspect\n",
    "# numb_minus = 0\n",
    "\n",
    "# csv_file = Path('csv_files/statistic/df_all_count_aspects.csv')\n",
    "\n",
    "# action   = ['new', 'continue'][0]  # 0 - new, 1 - continue - for continue research\n",
    "# print('action -', action, '*******************************')\n",
    "\n",
    "# if action == 'new': \n",
    "#     start_date = df_main_asps.day_month_yr.min()\n",
    "#     if csv_file.is_file():\n",
    "#         os.remove(csv_file)   \n",
    "#         print('remove file')\n",
    "# elif action == 'continue':\n",
    "#     old_dates  = pd.read_csv('csv_files/statistic/df_all_count_aspects.csv', usecols=['date'], dayfirst=True, parse_dates=True) \n",
    "#     start_date = old_dates.date.max() \n",
    "    \n",
    "    \n",
    "# for date in tqdm(df_main_asps[df_main_asps.day_month_yr >= start_date].day_month_yr.unique()[:]):               \n",
    "\n",
    "#     today_games_ids       = df_main_asps[df_main_asps.day_month_yr == date].game_id.unique()\n",
    "#     df_games_w_asps       = df_main_asps.groupby('game_id').fs_asps_wt_pls.agg(list).reset_index()\n",
    "#     df_today_games_w_asps = df_games_w_asps[df_games_w_asps.game_id.isin(today_games_ids)].copy()\n",
    "#     df_reserch_games_asps = df_games_w_asps[~df_games_w_asps.game_id.isin(today_games_ids)].copy()\n",
    "    \n",
    "#     df_reserch_games_asps.set_index('game_id', inplace=True)\n",
    "\n",
    "#     df_count_asps = pd.DataFrame()\n",
    "     \n",
    "#     for game_id, aspects in zip(df_today_games_w_asps.game_id, df_today_games_w_asps.fs_asps_wt_pls):\n",
    "        \n",
    "#         len_asps = len(aspects)\n",
    "#         count_asps = df_reserch_games_asps.fs_asps_wt_pls.map(lambda x: sum(item in aspects for item in x))\n",
    "        \n",
    "#         if len_asps == numb_asps: # for equal numb aspect - numb_asps == 1 (2, 3, ...) \n",
    "#         # if len_asps >= numb_asps and len(count_asps[count_asps > len_asps - numb_minus]) > 0: # for numb aspects with minus - numb_asps >= 2-1 \n",
    "#             df_for_concat = pd.DataFrame({'game_id': game_id, 'count_asps': len(aspects), 'game_id_eq_asps': count_asps[count_asps == max(count_asps)].index.to_list(), \n",
    "#                                           'max_eq_count': list(count_asps[count_asps == max(count_asps)].values)})\n",
    "            \n",
    "#             df_count_asps = pd.concat([df_count_asps, df_for_concat])        \n",
    "            \n",
    "#     if 'game_id' in df_count_asps.columns:\n",
    "#         df_count_asps = df_count_asps.groupby('game_id').agg({'count_asps': max, 'game_id_eq_asps': list, 'max_eq_count': list})  \n",
    "#     else:\n",
    "#         continue\n",
    "\n",
    "#     df_all_result = pd.DataFrame()\n",
    "      \n",
    "#     for game_ids_lt in df_count_asps.game_id_eq_asps:\n",
    "        \n",
    "#         result_fav_home_lt = df_unique_game_id[(df_unique_game_id.game_id.isin(game_ids_lt)) & (df_unique_game_id.host_role == 'Fav')].result.to_list()\n",
    "#         result_fav_away_lt = df_unique_game_id[(df_unique_game_id.game_id.isin(game_ids_lt)) & (df_unique_game_id.host_role == 'Pre')].result.to_list()\n",
    "        \n",
    "#         df_result_fav_home = pd.DataFrame.from_dict(Counter(result_fav_home_lt), orient='index').T\n",
    "#         df_result_fav_home.rename(columns={'fav_win':'fav_win_home', 'fav_drow':'fav_drow_home', 'fav_loss':'fav_loss_home'}, inplace=True)\n",
    "        \n",
    "#         if df_result_fav_home.empty:\n",
    "#             df_result_fav_home = pd.DataFrame({'fav_win_home': 0}, index=[0])\n",
    "            \n",
    "#         df_result_fav_away = pd.DataFrame.from_dict(Counter(result_fav_away_lt), orient='index').T\n",
    "#         df_result_fav_away.rename(columns={'fav_win':'fav_win_away', 'fav_drow':'fav_drow_away', 'fav_loss':'fav_loss_away'}, inplace=True)\n",
    "        \n",
    "#         if df_result_fav_away.empty:\n",
    "#             df_result_fav_away = pd.DataFrame({'fav_win_away': 0}, index=[0])\n",
    "            \n",
    "#         df_result     = pd.merge(df_result_fav_home, df_result_fav_away, how='left', left_index=True, right_index=True) \n",
    "#         df_all_result = pd.concat([df_all_result, df_result]).reset_index(drop=True)\n",
    "    \n",
    "#     df_all_result.fillna(0, inplace=True)\n",
    "#     df_all_result = df_all_result.apply(pd.to_numeric, errors='coerce').astype('Int64')\n",
    "#     df_all_result.set_index(df_count_asps.index, inplace=True)\n",
    "\n",
    "#     df_count_asps = pd.merge(df_count_asps, df_all_result, how='left', left_index=True, right_index=True)\n",
    "    \n",
    "#     res_col_names = ['fav_win_home', 'fav_drow_home', 'fav_loss_home', 'fav_win_away', 'fav_drow_away', 'fav_loss_away']\n",
    "    \n",
    "#     for res_col in res_col_names:\n",
    "#         if res_col not in df_count_asps:\n",
    "#             df_count_asps[res_col] = 0 \n",
    "            \n",
    "#     for res_col, col_numb in zip(res_col_names, range(3, 9)):\n",
    "#         df_count_asps.insert(col_numb, res_col, df_count_asps.pop(res_col))        \n",
    "\n",
    "#     df_res_today_games = df_unique_game_id[df_unique_game_id.game_id.isin(df_count_asps.index)][['game_id', 'host_role', 'result', '1', 'X', '2', 'fav_goals']].set_index('game_id')\n",
    "\n",
    "#     df_count_asps = df_count_asps.merge(df_res_today_games[['host_role', 'result', '1', 'X', '2', 'fav_goals']], how='left', left_index=True, right_index=True)\n",
    "    \n",
    "#     # Stat result is result calculating some exel results\n",
    "    \n",
    "#     df_count_asps['home_diff_mean_res'] = df_count_asps[['fav_win_home', 'fav_drow_home', 'fav_loss_home']].apply(lambda x: sdp.diff_mean_stat_result(x[0], x[1], x[2], fav_win_home_mean, fav_drow_home_mean, fav_loss_home_mean), axis=1)\n",
    "#     df_count_asps['away_diff_mean_res'] = df_count_asps[['fav_win_away', 'fav_drow_away', 'fav_loss_away']].apply(lambda x: sdp.diff_mean_stat_result(x[0], x[1], x[2], fav_win_away_mean, fav_drow_away_mean, fav_loss_away_mean), axis=1)\n",
    "\n",
    "#     df_count_asps['home_w_more_d_plus_l_res'] = df_count_asps[['fav_win_home', 'fav_drow_home', 'fav_loss_home']].apply(lambda x: sdp.stat_result_win_more_drow_plus_loss(x[0], x[1], x[2]), axis=1)\n",
    "#     df_count_asps['away_w_more_d_plus_l_res'] = df_count_asps[['fav_win_away', 'fav_drow_away', 'fav_loss_away']].apply(lambda x: sdp.stat_result_win_more_drow_plus_loss(x[0], x[1], x[2]), axis=1)\n",
    "\n",
    "#     df_count_asps['home_w_more_d_or_l_res'] = df_count_asps[['fav_win_home', 'fav_drow_home', 'fav_loss_home']].apply(lambda x: sdp.stat_result_win_more_drow_or_loss(x[0], x[1], x[2]), axis=1)\n",
    "#     df_count_asps['away_w_more_d_or_l_res'] = df_count_asps[['fav_win_away', 'fav_drow_away', 'fav_loss_away']].apply(lambda x: sdp.stat_result_win_more_drow_or_loss(x[0], x[1], x[2]), axis=1)\n",
    "\n",
    "#     df_count_asps['home_w_more_d_or_l_wt_drow_res'] = df_count_asps[['fav_win_home', 'fav_drow_home', 'fav_loss_home']].apply(lambda x: sdp.stat_result_win_more_drow_or_loss_without_drow(x[0], x[1], x[2]), axis=1)\n",
    "#     df_count_asps['away_w_more_d_or_l_wt_drow_res'] = df_count_asps[['fav_win_away', 'fav_drow_away', 'fav_loss_away']].apply(lambda x: sdp.stat_result_win_more_drow_or_loss_without_drow(x[0], x[1], x[2]), axis=1)\n",
    "\n",
    "#     df_count_asps['home_w_more_d_plus_l_wt_drow_res'] = df_count_asps[['fav_win_home', 'fav_drow_home', 'fav_loss_home']].apply(lambda x: sdp.stat_result_win_more_drow_plus_loss_without_drow(x[0], x[1], x[2]), axis=1)\n",
    "#     df_count_asps['away_w_more_d_plus_l_wt_drow_res'] = df_count_asps[['fav_win_away', 'fav_drow_away', 'fav_loss_away']].apply(lambda x: sdp.stat_result_win_more_drow_plus_loss_without_drow(x[0], x[1], x[2]), axis=1)\n",
    "\n",
    "#     df_count_asps['home_only_d_or_w_and_d_more_w_or_l_res'] = df_count_asps[['fav_win_home', 'fav_drow_home', 'fav_loss_home']].apply(lambda x: sdp.stat_result_only_drow_or_win_and_drow_more_win_or_loss(x[0], x[1], x[2]), axis=1)\n",
    "#     df_count_asps['away_only_d_or_w_and_d_more_w_or_l_res'] = df_count_asps[['fav_win_away', 'fav_drow_away', 'fav_loss_away']].apply(lambda x: sdp.stat_result_only_drow_or_win_and_drow_more_win_or_loss(x[0], x[1], x[2]), axis=1)\n",
    "\n",
    "#     df_count_asps['home_only_d_or_w_and_d_more_w_plus_l_res'] = df_count_asps[['fav_win_home', 'fav_drow_home', 'fav_loss_home']].apply(lambda x: sdp.stat_result_only_drow_or_win_and_drow_more_win_plus_loss(x[0], x[1], x[2]), axis=1)\n",
    "#     df_count_asps['away_only_d_or_w_and_d_more_w_plus_l_res'] = df_count_asps[['fav_win_away', 'fav_drow_away', 'fav_loss_away']].apply(lambda x: sdp.stat_result_only_drow_or_win_and_drow_more_win_plus_loss(x[0], x[1], x[2]), axis=1)\n",
    "    \n",
    "#     res_cols_lt = ['home_diff_mean_res', 'away_diff_mean_res', 'home_w_more_d_plus_l_res', 'away_w_more_d_plus_l_res', 'home_w_more_d_or_l_res', 'away_w_more_d_or_l_res', 'home_w_more_d_or_l_wt_drow_res',\n",
    "#                    'away_w_more_d_or_l_wt_drow_res', 'home_w_more_d_plus_l_wt_drow_res', 'away_w_more_d_plus_l_wt_drow_res']\n",
    "    \n",
    "#     for fora in [-1.5, -1.25, -1, -0.75, None, -0.25, 0, 0.25, 0.5, 0.75, 1, 1.25, 1.5]:\n",
    "#         for res_col in res_cols_lt:\n",
    "#             col_name_bet = re.sub('res', 'bet', str(res_col))\n",
    "#             col_name = col_name_bet + '_' + str(fora)\n",
    "#             df_count_asps[col_name] = df_count_asps[['host_role', 'result', res_col, '1', 'X', '2', 'fav_goals']].apply(lambda x: sdp.bets_fora_result(x[0], x[1], x[2], x[3], x[4], x[5], x[6], fora), axis =1)\n",
    "        \n",
    "#     df_count_asps['home_only_d_or_w_and_d_more_w_or_l_bets']   = df_count_asps[['result', 'home_only_d_or_w_and_d_more_w_or_l_res', 'X']].apply(lambda x: sdp.only_win_or_drow_bets_result(x[0], x[1], x[2]), axis =1)\n",
    "#     df_count_asps['away_only_d_or_w_and_d_more_w_or_l_bets']   = df_count_asps[['result', 'away_only_d_or_w_and_d_more_w_or_l_res', 'X']].apply(lambda x: sdp.only_win_or_drow_bets_result(x[0], x[1], x[2]), axis =1)\n",
    "#     df_count_asps['home_only_d_or_w_and_d_more_w_plus_l_bets'] = df_count_asps[['result', 'home_only_d_or_w_and_d_more_w_plus_l_res', 'X']].apply(lambda x: sdp.only_win_or_drow_bets_result(x[0], x[1], x[2]), axis =1)\n",
    "#     df_count_asps['away_only_d_or_w_and_d_more_w_plus_l_bets'] = df_count_asps[['result', 'away_only_d_or_w_and_d_more_w_plus_l_res', 'X']].apply(lambda x: sdp.only_win_or_drow_bets_result(x[0], x[1], x[2]), axis =1)\n",
    "       \n",
    "#     df_count_asps['date'] = date    \n",
    "    \n",
    "#     df_count_asps = df_count_asps.astype('str')\n",
    "    \n",
    "#     if csv_file.is_file():\n",
    "#         df_count_asps.to_csv('csv_files/statistic/df_all_count_aspects.csv', mode='a', header=False, index=True)\n",
    "#     else: \n",
    "#         df_count_asps.to_csv('csv_files/statistic/df_all_count_aspects.csv', mode='a', header=True, index=True)\n",
    "        \n",
    "#     del df_count_asps"
   ]
  },
  {
   "cell_type": "code",
   "execution_count": null,
   "id": "befbd7cc-2243-48ba-9eea-0c3eff362ae5",
   "metadata": {},
   "outputs": [],
   "source": [
    "# df_all_counet_asps = pd.read_csv('csv_files/statistic/df_all_count_aspects.csv', converters={'max_eq_count': literal_eval}, index_col='game_id') \n",
    "# For exist file strategy calculate\n",
    "# df_all_count_asps = pd.read_csv('csv_files/results/df_all_count_only_1_asps_h_660_a_246_games_remove_full_19_03_24.csv', index_col='game_id') "
   ]
  },
  {
   "cell_type": "code",
   "execution_count": null,
   "id": "365e64d8-978a-43cd-be2a-10f280cd086f",
   "metadata": {},
   "outputs": [],
   "source": [
    "# Some indexes - 'game_id' may have a dublicate with 'continue' action\n",
    "# df_all_count_asps.drop_duplicates(inplace=True)"
   ]
  },
  {
   "cell_type": "code",
   "execution_count": null,
   "id": "4f95fc2d-ca6f-4c11-a5c5-88a9ff20c3bd",
   "metadata": {},
   "outputs": [],
   "source": [
    "# df_all_count_asps.insert(0, 'date', df_all_count_asps.pop('date'))"
   ]
  },
  {
   "cell_type": "code",
   "execution_count": null,
   "id": "d03ff20c-337d-436b-86f9-59a16f9e2908",
   "metadata": {},
   "outputs": [],
   "source": [
    "# research_num      = 7\n",
    "# df_all_count_asps = df_all_count_asps[df_all_count_asps.index.isin(df_all_count_asps[['count_asps','max_eq_count']].apply(lambda x: x.name if research_num in x[1] else None, axis=1))].copy()"
   ]
  },
  {
   "cell_type": "code",
   "execution_count": null,
   "id": "25734d1c-444b-4d17-b17e-2914b283afe9",
   "metadata": {},
   "outputs": [],
   "source": [
    "# print('shape -', df_all_count_asps.shape[0])\n",
    "# df_all_count_asps.head(20)"
   ]
  },
  {
   "cell_type": "code",
   "execution_count": null,
   "id": "8410660b-10aa-4722-b0f3-3fce6387e2d2",
   "metadata": {},
   "outputs": [],
   "source": [
    "# bet_cols                    = [x for x in df_all_count_asps.columns if 'bet' in x]\n",
    "# df_all_count_asps[bet_cols] = df_all_count_asps[bet_cols].apply(lambda x: pd.to_numeric(x, errors='coerce'), axis=1)"
   ]
  },
  {
   "cell_type": "code",
   "execution_count": null,
   "id": "51d40500-be14-4755-b369-5ed5fd48e815",
   "metadata": {},
   "outputs": [],
   "source": [
    "# fav_home_shape_rows = df_all_count_asps[df_all_count_asps.host_role == 'Fav'].shape[0]\n",
    "# fav_away_shape_rows = df_all_count_asps[df_all_count_asps.host_role == 'Pre'].shape[0]\n",
    "# print('fav_home_shape_rows -', fav_home_shape_rows)\n",
    "# print('fav_away_shape_rows -', fav_away_shape_rows)"
   ]
  },
  {
   "cell_type": "code",
   "execution_count": null,
   "id": "5e68f94c-7673-4984-a22e-37df784c2be7",
   "metadata": {},
   "outputs": [],
   "source": [
    "# dict_results = {}\n",
    "\n",
    "# for bet_col in df_all_count_asps[bet_cols]:\n",
    "#     if 'home' in str(bet_col):\n",
    "#         bet_result = round(df_all_count_asps[df_all_count_asps.host_role == 'Fav'][bet_col].mean(), 3)\n",
    "#         dict_results.update({bet_col: bet_result})  \n",
    "#     elif 'away' in str(bet_col):\n",
    "#         bet_result = round(df_all_count_asps[df_all_count_asps.host_role == 'Pre'][bet_col].mean(), 3)\n",
    "#         dict_results.update({bet_col: bet_result})    \n",
    "#     else:\n",
    "#         None"
   ]
  },
  {
   "cell_type": "code",
   "execution_count": null,
   "id": "f6ce3b4d-9d32-4c60-962a-002cca1fac3c",
   "metadata": {},
   "outputs": [],
   "source": [
    "# df_result = pd.DataFrame.from_dict(dict_results.items())\n",
    "# df_result.columns=['stat_name', 'bets_result']"
   ]
  },
  {
   "cell_type": "code",
   "execution_count": null,
   "id": "9e68dbfe-df98-47b7-ac66-1216818e4459",
   "metadata": {},
   "outputs": [],
   "source": [
    "# df_result.sort_values(by='bets_result', ascending=False)[:5]"
   ]
  },
  {
   "cell_type": "code",
   "execution_count": null,
   "id": "e397c0cc-ae7f-4410-a57c-f0e63ecd0d2e",
   "metadata": {},
   "outputs": [],
   "source": [
    "Stop *******************************************************"
   ]
  },
  {
   "cell_type": "code",
   "execution_count": null,
   "id": "3ec268cf-fa1d-430e-9f1e-59b655a0a0fd",
   "metadata": {},
   "outputs": [],
   "source": [
    "# df_all_count_asps.to_csv('csv_files/results/df_all_count_only_7_asps_h_37_a_14_games_remove_full_26_03_24.csv', header=True, index=True)"
   ]
  },
  {
   "cell_type": "markdown",
   "id": "4ef810af-f274-415a-943e-2edca0da9385",
   "metadata": {
    "jp-MarkdownHeadingCollapsed": true,
    "tags": []
   },
   "source": [
    "#### Aspects research"
   ]
  },
  {
   "cell_type": "code",
   "execution_count": null,
   "id": "9f9fe05e-efa2-47f0-a308-b8f61407c179",
   "metadata": {},
   "outputs": [],
   "source": [
    "# df_all_count_asps_1 =  pd.read_csv('csv_files/results/df_all_count_only_1_asps_h_660_a_246_games_remove_full_19_03_24.csv', converters={'game_id_eq_asps': literal_eval}, index_col='game_id')\n",
    "# df_all_count_asps_2 =  pd.read_csv('csv_files/results/df_all_count_only_2_asps_h_2153_a_803_games_remove_full_24_03_24.csv', converters={'game_id_eq_asps': literal_eval}, index_col='game_id')\n",
    "# df_all_count_asps_3 =  pd.read_csv('csv_files/results/df_all_count_only_3_asps_h_1920_a_700_games_remove_full_26_03_24.csv', converters={'game_id_eq_asps': literal_eval}, index_col='game_id')\n",
    "# df_all_count_asps_4 =  pd.read_csv('csv_files/results/df_all_count_only_4_asps_h_689_a_238_games_remove_full_26_03_24.csv', converters={'game_id_eq_asps': literal_eval}, index_col='game_id')\n",
    "# df_all_count_asps_5 =  pd.read_csv('csv_files/results/df_all_count_only_5_asps_h_211_a_77_games_remove_full_26_03_24.csv', converters={'game_id_eq_asps': literal_eval}, index_col='game_id')\n",
    "# df_all_count_asps_6 =  pd.read_csv('csv_files/results/df_all_count_only_6_asps_h_115_a_31_games_remove_full_26_03_24.csv', converters={'game_id_eq_asps': literal_eval}, index_col='game_id')\n",
    "# df_all_count_asps_7 =  pd.read_csv('csv_files/results/df_all_count_only_7_asps_h_37_a_14_games_remove_full_26_03_24.csv', converters={'game_id_eq_asps': literal_eval}, index_col='game_id')\n",
    "\n",
    "# df_all_count_asps = pd.concat([df_all_count_asps_1, df_all_count_asps_2, df_all_count_asps_3, df_all_count_asps_4, df_all_count_asps_5, df_all_count_asps_6, df_all_count_asps_7], )"
   ]
  },
  {
   "cell_type": "code",
   "execution_count": null,
   "id": "652b702c-e423-4cf5-8d04-a963278dcf61",
   "metadata": {},
   "outputs": [],
   "source": [
    "# df_all_count_asps = df_all_count_asps[df_all_count_asps.columns[:16]].copy()\n",
    "# df_all_count_asps.drop(columns=['max_eq_count'], inplace=True)\n",
    "# print('shpe -', df_all_count_asps.shape)\n",
    "# df_all_count_asps.head(2)"
   ]
  },
  {
   "cell_type": "code",
   "execution_count": null,
   "id": "d291bd93-af67-4e4b-9829-b175a8dd4dba",
   "metadata": {},
   "outputs": [],
   "source": [
    "# col_names = ['fav_win_home', 'fav_drow_home', 'fav_loss_home', 'fav_win_away', 'fav_drow_away', 'fav_loss_away']\n",
    "# df_all_count_asps[col_names] = df_all_count_asps[col_names].astype(int)"
   ]
  },
  {
   "cell_type": "code",
   "execution_count": null,
   "id": "c1a8ffef-e399-4432-b2ed-2ac195c1c8a9",
   "metadata": {},
   "outputs": [],
   "source": [
    "# fav_win_home_mean  =  1.8825021697042525\n",
    "# fav_drow_home_mean =  3.8524489377689735\n",
    "# fav_loss_home_mean =  4.779727095516569\n",
    "\n",
    "# fav_win_away_mean  =  2.015090735434575\n",
    "# fav_drow_away_mean =  3.9890338438268103\n",
    "# fav_loss_away_mean =  3.9516763438846225"
   ]
  },
  {
   "cell_type": "code",
   "execution_count": null,
   "id": "bda415a0-cf65-452f-92f9-bf739281e65a",
   "metadata": {},
   "outputs": [],
   "source": [
    "# print('fav_win_home_mean  - ', fav_win_home_mean)\n",
    "# print('fav_drow_home_mean - ', fav_drow_home_mean)\n",
    "# print('fav_loss_home_mean - ', fav_loss_home_mean)\n",
    "# print('#########################################')\n",
    "# print('fav_win_away_mean  - ', fav_win_away_mean)\n",
    "# print('fav_drow_away_mean - ', fav_drow_away_mean)\n",
    "# print('fav_loss_away_mean - ', fav_loss_away_mean)"
   ]
  },
  {
   "cell_type": "code",
   "execution_count": null,
   "id": "09efd009-ea14-44fb-b29b-ff703db48081",
   "metadata": {},
   "outputs": [],
   "source": [
    "# df_all_count_asps.head(2)"
   ]
  },
  {
   "cell_type": "code",
   "execution_count": null,
   "id": "77e4688a-13f3-4040-b929-5262fdbcb94a",
   "metadata": {},
   "outputs": [],
   "source": [
    "# df_all_count_asps['count_home'] = df_all_count_asps.fav_win_home + df_all_count_asps.fav_drow_home + df_all_count_asps.fav_loss_home\n",
    "# df_all_count_asps['count_away'] = df_all_count_asps.fav_win_away + df_all_count_asps.fav_drow_away + df_all_count_asps.fav_loss_away\n",
    "\n",
    "# df_all_count_asps['mean_diff_win_home']  = fav_win_home_mean - df_all_count_asps.count_home / df_all_count_asps.fav_win_home \n",
    "# df_all_count_asps['mean_diff_drow_home'] = fav_drow_home_mean - df_all_count_asps.count_home / df_all_count_asps.fav_drow_home \n",
    "# df_all_count_asps['mean_diff_loss_home'] = fav_loss_home_mean - df_all_count_asps.count_home / df_all_count_asps.fav_loss_home \n",
    "\n",
    "# df_all_count_asps['mean_diff_win_away']  = fav_win_away_mean - df_all_count_asps.count_away / df_all_count_asps.fav_win_away\n",
    "# df_all_count_asps['mean_diff_drow_away'] = fav_drow_away_mean - df_all_count_asps.count_away / df_all_count_asps.fav_drow_away \n",
    "# df_all_count_asps['mean_diff_loss_away'] = fav_loss_away_mean - df_all_count_asps.count_away / df_all_count_asps.fav_loss_away "
   ]
  },
  {
   "cell_type": "code",
   "execution_count": null,
   "id": "352f5cf0-720c-40f3-9a75-5b2c44ff8cb5",
   "metadata": {},
   "outputs": [],
   "source": [
    "# df_aspects = pd.DataFrame({'fs_asps_wt_pls': df_main_asps.fs_asps_wt_pls, 'game_id': df_main_asps.game_id})\n",
    "# df_aspects.game_id = df_aspects.game_id.map(int)\n",
    "# df_aspects.head(2)"
   ]
  },
  {
   "cell_type": "code",
   "execution_count": null,
   "id": "4307a1ab-c118-497f-a909-f753bb1bedd2",
   "metadata": {},
   "outputs": [],
   "source": [
    "# df_all_count_asps.reset_index(inplace=True)"
   ]
  },
  {
   "cell_type": "code",
   "execution_count": null,
   "id": "b89e4ebb-63e5-4d16-8d73-fc06330fc4db",
   "metadata": {},
   "outputs": [],
   "source": [
    "# df_all_count_asps['home_res'] = df_all_count_asps[['fav_win_home', 'fav_drow_home', 'fav_loss_home']].apply(lambda x: [x[0], x[1], x[2]], axis=1)\n",
    "# df_all_count_asps['away_res'] = df_all_count_asps[['fav_win_away', 'fav_drow_away', 'fav_loss_away']].apply(lambda x: [x[0], x[1], x[2]], axis=1)"
   ]
  },
  {
   "cell_type": "code",
   "execution_count": null,
   "id": "a018fc89-9f12-4b4e-a8f7-130e67a9ee15",
   "metadata": {},
   "outputs": [],
   "source": [
    "# cols = ['game_id', 'count_asps', 'count_home', 'home_res', 'mean_diff_win_home', 'mean_diff_drow_home', 'mean_diff_loss_home', 'count_away', 'away_res', 'mean_diff_win_away', 'mean_diff_drow_away', 'mean_diff_loss_away']\n",
    "# df_aspect_stat = pd.merge(df_all_count_asps[cols], df_aspects, how='left', left_on='game_id', right_on='game_id')\n",
    "# df_aspect_stat.set_index(keys='game_id', inplace=True)\n",
    "# df_aspect_stat.insert(0, 'fs_asps_wt_pls', df_aspect_stat.pop('fs_asps_wt_pls')) \n",
    "# # df_aspect_stat['home_away_att'] = df_aspect_stat.count_home / df_aspect_stat.count_away"
   ]
  },
  {
   "cell_type": "code",
   "execution_count": null,
   "id": "d03f4023-538c-4a6b-9dbf-d7e4bb5d62c3",
   "metadata": {},
   "outputs": [],
   "source": [
    "# df_aspect_stat_gb = df_aspect_stat.groupby('game_id').agg({'fs_asps_wt_pls': list})\n",
    "# df_aspect_stat_gb.rename(columns={'fs_asps_wt_pls':'fs_asps_wt_pls_lt'}, inplace=True)\n",
    "# df_aspect_stat_gb.head(3)"
   ]
  },
  {
   "cell_type": "code",
   "execution_count": null,
   "id": "e68b1c18-d3a5-456d-b741-24dcd4844308",
   "metadata": {},
   "outputs": [],
   "source": [
    "# df_aspect_stat_gb = df_aspect_stat_gb.merge(df_aspect_stat, how='left', left_index=True, right_index=True).drop_duplicates(subset='fs_asps_wt_pls_lt')\n",
    "# df_aspect_stat_gb.drop(columns='fs_asps_wt_pls', inplace=True)\n",
    "# df_aspect_stat_gb.replace([np.inf, -np.inf], 0, inplace=True)\n",
    "# df_aspect_stat_gb.replace([np.inf, -np.inf], 0, inplace=True)\n",
    "# df_aspect_stat_gb = df_aspect_stat_gb.round(3)\n",
    "\n",
    "# for col in df_aspect_stat_gb.columns:\n",
    "#     if df_aspect_stat_gb[col].dtype != 'O':\n",
    "#         df_aspect_stat_gb[col] = df_aspect_stat_gb[col].map(lambda x: 0 if math.isnan(x) else x)\n",
    "\n",
    "# df_aspect_stat_gb.head(3)"
   ]
  },
  {
   "cell_type": "code",
   "execution_count": null,
   "id": "248707b0-f8fe-4a24-8700-4b8867cf9e39",
   "metadata": {},
   "outputs": [],
   "source": [
    "# df_aspect_stat_gb.sort_values(by=df_aspect_stat_gb.columns[1], ascending=True, inplace=True)"
   ]
  },
  {
   "cell_type": "code",
   "execution_count": null,
   "id": "c34ff5d7-7cd8-4693-9697-50ba9cbe139e",
   "metadata": {},
   "outputs": [],
   "source": [
    "# df_aspect_stat_gb.head(1)"
   ]
  },
  {
   "cell_type": "code",
   "execution_count": null,
   "id": "15d4581b-357c-4bc4-a7ca-37140ec1e58f",
   "metadata": {},
   "outputs": [],
   "source": [
    "# file = open('pickle_files/aspected_files/df_aspect_stat_03_04_2024', 'wb')\n",
    "# pickle.dump(df_aspect_stat_gb, file) \n",
    "# file.close()"
   ]
  },
  {
   "cell_type": "code",
   "execution_count": null,
   "id": "6298c3d4-4d0f-4aff-9e15-8e72d7155541",
   "metadata": {},
   "outputs": [],
   "source": [
    "Stop ***********************************************************"
   ]
  },
  {
   "cell_type": "markdown",
   "id": "af94b0f7-4d0a-4d05-afe7-fd242b9542de",
   "metadata": {
    "jp-MarkdownHeadingCollapsed": true,
    "tags": []
   },
   "source": [
    "#### Hide ^"
   ]
  },
  {
   "cell_type": "code",
   "execution_count": null,
   "id": "5b7feda5-8d4c-4a7a-bfec-39498875d64a",
   "metadata": {},
   "outputs": [],
   "source": [
    "# Mean from main dataset\n",
    "# fav_win_home_mean  =  1.8825\n",
    "# fav_drow_home_mean =  3.8524\n",
    "# fav_loss_home_mean =  4.7797\n",
    "\n",
    "# fav_win_away_mean  =  2.0150\n",
    "# fav_drow_away_mean =  3.9890\n",
    "# fav_loss_away_mean =  3.9516"
   ]
  },
  {
   "cell_type": "code",
   "execution_count": null,
   "id": "d273518e-1dd4-441e-89ae-6cbd566b5c0c",
   "metadata": {},
   "outputs": [],
   "source": [
    "# with open('pickle_files/aspected_files/df_for_statistic_05_10_2023_to_03_11_2013_w_moon_days', 'rb') as f:\n",
    "#     df_main = pickle.load(f)  \n",
    "    \n",
    "# df_main_gb = df_main.groupby('game_id').fs_asps_wt_pls.agg(list)\n",
    "# df_main_gb.head()    "
   ]
  },
  {
   "cell_type": "code",
   "execution_count": null,
   "id": "883fab7e-6d51-46b7-b153-8c3d4fc4ad92",
   "metadata": {},
   "outputs": [],
   "source": [
    "# df_main_asps.head(1)"
   ]
  },
  {
   "cell_type": "code",
   "execution_count": null,
   "id": "26b3dbd8-fb23-474b-806b-45a7b2304edf",
   "metadata": {},
   "outputs": [],
   "source": [
    "# print('win  bets mean - ', df_main_asps[df_main_asps.win_bets != 0].win_bets.mean())\n",
    "# print('drow bets mean - ', df_main_asps[df_main_asps.drow_bets != 0].drow_bets.mean())\n",
    "# print('loss bets mean - ', df_main_asps[df_main_asps.loss_bets != 0].loss_bets.mean())"
   ]
  },
  {
   "cell_type": "markdown",
   "id": "0014fa76-c148-4220-9696-d83227dacfd1",
   "metadata": {
    "jp-MarkdownHeadingCollapsed": true,
    "tags": []
   },
   "source": [
    "#### Leagues aspect statistic calculate"
   ]
  },
  {
   "cell_type": "code",
   "execution_count": null,
   "id": "33600281-9ed7-4f7b-878e-c7215e4af671",
   "metadata": {},
   "outputs": [],
   "source": [
    "df_main_asps_cp = df_main_asps.copy()"
   ]
  },
  {
   "cell_type": "code",
   "execution_count": null,
   "id": "40997291-c10b-4622-8712-87081e512347",
   "metadata": {},
   "outputs": [],
   "source": [
    "df_main_asps_cp = df_main_asps_cp[df_main_asps_cp.ligue == 'top'].copy()\n",
    "print('shape -', df_main_asps_cp.shape[0])\n",
    "df_main_asps_cp.head(1)"
   ]
  },
  {
   "cell_type": "code",
   "execution_count": null,
   "id": "56144775-1b58-46c1-a939-e7c9b712dabf",
   "metadata": {},
   "outputs": [],
   "source": [
    "df_main_asps_cp.ligue_header.value_counts(dropna=False).head(50)"
   ]
  },
  {
   "cell_type": "code",
   "execution_count": null,
   "id": "7a2d830f-7b9c-4bd8-b3e9-13a0041e9219",
   "metadata": {},
   "outputs": [],
   "source": [
    "df_asps_leagues = df_main_asps_cp.groupby(['ligue_header', 'country', 'fs_asps_wt_pls']).result.value_counts().to_frame()"
   ]
  },
  {
   "cell_type": "code",
   "execution_count": null,
   "id": "f90b1a27-ab62-41c7-bd9e-b71639f17c98",
   "metadata": {},
   "outputs": [],
   "source": [
    "df_asps_leagues"
   ]
  },
  {
   "cell_type": "code",
   "execution_count": null,
   "id": "c205b8e7-a5e9-4eff-9218-6896eb1a1519",
   "metadata": {},
   "outputs": [],
   "source": [
    "df_asps_leagues.rename(columns={'result':'count'}, inplace=True)"
   ]
  },
  {
   "cell_type": "code",
   "execution_count": null,
   "id": "8e6065a1-8439-4247-9c99-e28794d5b1b5",
   "metadata": {},
   "outputs": [],
   "source": [
    "df_asps_leagues.reset_index(inplace=True)"
   ]
  },
  {
   "cell_type": "code",
   "execution_count": null,
   "id": "e72931fa-e1da-478f-8e1e-5e91928ae06f",
   "metadata": {},
   "outputs": [],
   "source": [
    "df_asps_leagues = df_asps_leagues.pivot(index=['ligue_header', 'country', 'fs_asps_wt_pls'],columns='result',values='count').fillna(0).copy()"
   ]
  },
  {
   "cell_type": "code",
   "execution_count": null,
   "id": "3645c823-0ca4-4c28-b9c0-820185cd83ec",
   "metadata": {},
   "outputs": [],
   "source": [
    "df_asps_leagues.insert(0, 'fav_win', df_asps_leagues.pop('fav_win'))"
   ]
  },
  {
   "cell_type": "code",
   "execution_count": null,
   "id": "2db6737e-c598-4c59-b84f-2660c9e6ea0e",
   "metadata": {},
   "outputs": [],
   "source": [
    "df_asps_leagues = df_asps_leagues.astype(int)"
   ]
  },
  {
   "cell_type": "code",
   "execution_count": null,
   "id": "39bb210b-7ae1-40c0-9a9b-6e9321a86a9e",
   "metadata": {},
   "outputs": [],
   "source": [
    "df_asps_leagues['count_games'] = df_asps_leagues.fav_win + df_asps_leagues.fav_drow + df_asps_leagues.fav_loss"
   ]
  },
  {
   "cell_type": "code",
   "execution_count": null,
   "id": "11531bae-47f5-4a81-8c41-f8d879a83a03",
   "metadata": {},
   "outputs": [],
   "source": [
    "df_asps_leagues"
   ]
  },
  {
   "cell_type": "code",
   "execution_count": null,
   "id": "2b755d91-e3d8-41c1-ade1-2a4ab833020d",
   "metadata": {},
   "outputs": [],
   "source": [
    "df_league_stat = df_asps_leagues.groupby(['ligue_header', 'country']).sum()\n",
    "df_league_stat.head()"
   ]
  },
  {
   "cell_type": "code",
   "execution_count": null,
   "id": "ceba998c-fb30-47a6-a3ee-4eb736420ec9",
   "metadata": {},
   "outputs": [],
   "source": [
    "df_asps_leagues['win_att']  = round(df_asps_leagues.fav_win / df_asps_leagues.count_games, 2)\n",
    "df_asps_leagues['drow_att'] = round(df_asps_leagues.fav_drow / df_asps_leagues.count_games, 2)\n",
    "df_asps_leagues['loss_att'] = round(df_asps_leagues.fav_loss / df_asps_leagues.count_games, 2)"
   ]
  },
  {
   "cell_type": "code",
   "execution_count": null,
   "id": "c2a332d7-f3ff-48c4-96ff-fc22f6a3b83f",
   "metadata": {},
   "outputs": [],
   "source": [
    "df_league_stat['win_att_lg']  = round(df_league_stat.fav_win / df_league_stat.count_games, 2)\n",
    "df_league_stat['drow_att_lg'] = round(df_league_stat.fav_drow / df_league_stat.count_games, 2)\n",
    "df_league_stat['loss_att_lg'] = round(df_league_stat.fav_loss / df_league_stat.count_games, 2)"
   ]
  },
  {
   "cell_type": "code",
   "execution_count": null,
   "id": "5042319a-92c0-4135-a3e8-ce17f64439b6",
   "metadata": {},
   "outputs": [],
   "source": [
    "df_league_stat.head()"
   ]
  },
  {
   "cell_type": "code",
   "execution_count": null,
   "id": "3b6f315c-1256-48eb-9276-730a49b5e753",
   "metadata": {},
   "outputs": [],
   "source": [
    "# For mean() calculating\n",
    "df_main_asps_cp[['win_bets', 'drow_bets', 'loss_bets']] = df_main_asps_cp[['win_bets', 'drow_bets', 'loss_bets']].replace(0, np.NaN)"
   ]
  },
  {
   "cell_type": "code",
   "execution_count": null,
   "id": "847ebcff-0f83-4f40-bfd8-22d8c5b311ed",
   "metadata": {},
   "outputs": [],
   "source": [
    "df_league_stat['win_bets_mean']  = round(df_main_asps_cp.groupby(['ligue_header', 'country']).win_bets.mean(), 2)\n",
    "df_league_stat['drow_bets_mean'] = round(df_main_asps_cp.groupby(['ligue_header', 'country']).drow_bets.mean(), 2)\n",
    "df_league_stat['loss_bets_mean'] = round(df_main_asps_cp.groupby(['ligue_header', 'country']).loss_bets.mean(), 2)"
   ]
  },
  {
   "cell_type": "code",
   "execution_count": null,
   "id": "a40b0969-d680-47f8-9521-e9efe646e1ea",
   "metadata": {},
   "outputs": [],
   "source": [
    "df_asps_leagues = df_asps_leagues.merge(df_league_stat[['win_att_lg',\t'drow_att_lg', 'loss_att_lg', 'win_bets_mean', 'drow_bets_mean', 'loss_bets_mean']], how='left', left_index=True, right_index=True)"
   ]
  },
  {
   "cell_type": "code",
   "execution_count": null,
   "id": "79ca9212-7c32-4cd6-8728-e7a7f1fa174d",
   "metadata": {},
   "outputs": [],
   "source": [
    "df_asps_leagues['win_att_diff']  = df_asps_leagues.win_att - df_asps_leagues.win_att_lg\n",
    "df_asps_leagues['drow_att_diff'] = df_asps_leagues.drow_att - df_asps_leagues.drow_att_lg\n",
    "df_asps_leagues['loss_att_diff'] = df_asps_leagues.loss_att - df_asps_leagues.loss_att_lg"
   ]
  },
  {
   "cell_type": "code",
   "execution_count": null,
   "id": "d0bfcdd4-0e5e-441d-bbb5-904863b16d7d",
   "metadata": {},
   "outputs": [],
   "source": [
    "df_asps_leagues['win_prof']  = round(df_asps_leagues.fav_win * df_asps_leagues.win_bets_mean / df_asps_leagues.count_games, 2)\n",
    "df_asps_leagues['drow_prof'] = round(df_asps_leagues.fav_drow * df_asps_leagues.drow_bets_mean / df_asps_leagues.count_games, 2)\n",
    "df_asps_leagues['loss_prof'] = round(df_asps_leagues.fav_loss * df_asps_leagues.loss_bets_mean / df_asps_leagues.count_games, 2)"
   ]
  },
  {
   "cell_type": "code",
   "execution_count": null,
   "id": "6bcea931-575d-4f62-a45f-49989dc3267b",
   "metadata": {},
   "outputs": [],
   "source": [
    "df_asps_leagues.drop(columns=['win_att_lg', 'drow_att_lg', 'loss_att_lg'], inplace=True)"
   ]
  },
  {
   "cell_type": "code",
   "execution_count": null,
   "id": "c64bff44-69c8-4013-bca7-9c3e510064ed",
   "metadata": {},
   "outputs": [],
   "source": [
    "df_asps_leagues[df_asps_leagues.count_games > 19].sort_values(by='loss_prof', ascending=False).head()"
   ]
  },
  {
   "cell_type": "code",
   "execution_count": null,
   "id": "b44700bb-e1ad-4173-92cf-af2b01950324",
   "metadata": {},
   "outputs": [],
   "source": [
    "# file = open('pickle_files/df_asps_leagues_stat_before_2020', 'wb')\n",
    "# pickle.dump(df_asps_leagues, file) \n",
    "# file.close()"
   ]
  },
  {
   "cell_type": "markdown",
   "id": "3dae0656-2183-49e8-b646-4b4517ecfe9f",
   "metadata": {},
   "source": [
    "#### End"
   ]
  },
  {
   "cell_type": "code",
   "execution_count": null,
   "id": "cbf5b596-3875-42fb-8618-d008cc416af2",
   "metadata": {},
   "outputs": [],
   "source": [
    "Stop *****************************************************************************************************"
   ]
  },
  {
   "cell_type": "markdown",
   "id": "ff60a284-b32e-4f05-9bed-811ca52987f9",
   "metadata": {
    "tags": []
   },
   "source": [
    "### Leagues aspect statistic calculate"
   ]
  },
  {
   "cell_type": "code",
   "execution_count": null,
   "id": "81782dfe-21d6-4dee-b2cd-f5febbe72909",
   "metadata": {},
   "outputs": [],
   "source": [
    "# with open('pickle_files/df_asps_leagues_stat_before_2024', 'rb') as f:\n",
    "#     df_asps_leagues_2024 = pickle.load(f) \n",
    "    \n",
    "# df_asps_leagues_2024.head() "
   ]
  },
  {
   "cell_type": "code",
   "execution_count": null,
   "id": "d80bb01e-d2e5-4316-a94f-48b628183b61",
   "metadata": {},
   "outputs": [],
   "source": [
    "# df_bets_mean = df_asps_leagues_2024[['win_bets_mean', 'drow_bets_mean', 'loss_bets_mean']].copy()\n",
    "# df_bets_mean.head()"
   ]
  },
  {
   "cell_type": "code",
   "execution_count": null,
   "id": "c71a64cf-19ff-4655-b93c-39145ebd05cd",
   "metadata": {},
   "outputs": [],
   "source": [
    "with open('pickle_files/df_asps_leagues_stat_before_2020', 'rb') as f:\n",
    "    df_asps_leagues = pickle.load(f) \n",
    "    \n",
    "df_asps_leagues.head() "
   ]
  },
  {
   "cell_type": "code",
   "execution_count": null,
   "id": "e76fcc4b-205e-4327-beef-624560718e1b",
   "metadata": {},
   "outputs": [],
   "source": [
    "df_asps_leagues['win_surplus']  = df_asps_leagues.win_att_diff - sum([df_asps_leagues.drow_att_diff, df_asps_leagues.loss_att_diff])\n",
    "df_asps_leagues['drow_surplus'] = df_asps_leagues.drow_att_diff - sum([df_asps_leagues.win_att_diff, df_asps_leagues.loss_att_diff])\n",
    "df_asps_leagues['loss_surplus'] = df_asps_leagues.loss_att_diff - sum([df_asps_leagues.win_att_diff, df_asps_leagues.drow_att_diff])"
   ]
  },
  {
   "cell_type": "code",
   "execution_count": null,
   "id": "b255e119-51c2-4243-83a3-afbb1b466a82",
   "metadata": {},
   "outputs": [],
   "source": [
    "df_asps_leagues.loss_surplus.sort_values(ascending=False)"
   ]
  },
  {
   "cell_type": "code",
   "execution_count": null,
   "id": "2ceda328-01f4-4a9a-8320-fe5f221d45e7",
   "metadata": {},
   "outputs": [],
   "source": [
    "print('df_main_asps_cp shape -', df_main_asps.shape[0])\n",
    "df_main_asps_cp = df_main_asps[df_main_asps.ligue == 'top'].copy()\n",
    "print('df_main_asps_cp shape -', df_main_asps_cp.shape[0])"
   ]
  },
  {
   "cell_type": "code",
   "execution_count": null,
   "id": "b7aa5ff9-2b5e-4baf-8511-977f459ba8fb",
   "metadata": {},
   "outputs": [],
   "source": [
    "def bets_description(win_bets: float, drow_bets: float, loss_bets: float):\n",
    "    if win_bets != 0:\n",
    "        return 'win_' + str(win_bets) \n",
    "    elif drow_bets != 0:\n",
    "        return 'drow_' + str(drow_bets)\n",
    "    else:\n",
    "        return 'loss_' + str(loss_bets)\n",
    "    \n",
    "df_main_asps_cp['bets_desc'] = df_main_asps_cp[['win_bets', 'drow_bets', 'loss_bets']].apply(lambda x: bets_description(x[0], x[1], x[2]), axis=1)    "
   ]
  },
  {
   "cell_type": "code",
   "execution_count": null,
   "id": "23757dc4-f024-4fee-9261-32ee427a80b8",
   "metadata": {},
   "outputs": [],
   "source": [
    "df_main_asps_cp['week'] = df_main_asps_cp.game_utc.dt.isocalendar().week"
   ]
  },
  {
   "cell_type": "code",
   "execution_count": null,
   "id": "210d1c9d-de31-48eb-92bc-8ae7da91d9bd",
   "metadata": {},
   "outputs": [],
   "source": [
    "df_main_asps_cp.sort_values(by='game_utc', inplace=True)"
   ]
  },
  {
   "cell_type": "code",
   "execution_count": null,
   "id": "26e681fc-b8bb-46ad-b520-79e3a6d4e6aa",
   "metadata": {},
   "outputs": [],
   "source": [
    "df_main_asps_cp.tail(1)"
   ]
  },
  {
   "cell_type": "code",
   "execution_count": null,
   "id": "76c5765d-d43c-45d0-a4a4-8087bbc77445",
   "metadata": {},
   "outputs": [],
   "source": [
    "print('unique games top  -', len(df_main_asps_cp.game_id.unique()))\n",
    "print('count all aspects -', df_main_asps_cp.shape[0])"
   ]
  },
  {
   "cell_type": "code",
   "execution_count": null,
   "id": "38b72df9-9981-4e6f-ac10-a0588d01b448",
   "metadata": {},
   "outputs": [],
   "source": [
    "unique_asps_lt = df_asps_leagues.reset_index().fs_asps_wt_pls.unique()\n",
    "print('len - ', len(unique_asps_lt))\n",
    "unique_asps_lt[:3]"
   ]
  },
  {
   "cell_type": "code",
   "execution_count": null,
   "id": "dec04ea7-a285-4877-84f8-2799991248f9",
   "metadata": {},
   "outputs": [],
   "source": [
    "df_main_asps_cp.set_index(['ligue_header', 'country', 'fs_asps_wt_pls'], inplace=True)"
   ]
  },
  {
   "cell_type": "code",
   "execution_count": null,
   "id": "619e91d7-077a-4402-a4b0-e674ef61d3f4",
   "metadata": {},
   "outputs": [],
   "source": [
    "# df_main_asps_cp = df_main_asps_cp[(df_main_asps_cp.game_utc > '2024') & (df_main_asps_cp.game_utc < '2025')].copy()"
   ]
  },
  {
   "cell_type": "code",
   "execution_count": null,
   "id": "e5a40474-3be2-47b4-9c86-aca73dc0bf61",
   "metadata": {},
   "outputs": [],
   "source": [
    "print('min date', min(df_main_asps_cp.game_utc))\n",
    "print('max date', max(df_main_asps_cp.game_utc))"
   ]
  },
  {
   "cell_type": "code",
   "execution_count": null,
   "id": "cce38d90-37bf-418a-ab7a-c845115960e5",
   "metadata": {},
   "outputs": [],
   "source": [
    "df_main_asps_cp['week_yr'] = df_main_asps_cp[['week', 'game_utc']].apply(lambda x: str(x[0]) + '.' + str(x[1])[0:4], axis=1)\n",
    "df_main_asps_cp.week_yr.head(3)"
   ]
  },
  {
   "cell_type": "code",
   "execution_count": null,
   "id": "3945c334-8aa1-4176-9c1f-361c953827a1",
   "metadata": {},
   "outputs": [],
   "source": [
    "cols = ['game_id', 'game_utc', 'goals', 'f_team', 's_team', 'city', 'bets_desc', 'result']\n",
    "df_main_asps_cp_asps = df_main_asps_cp[cols].merge(df_asps_leagues, how='left', left_index=True, right_index=True)\n",
    "df_main_asps_cp_asps.head(2)"
   ]
  },
  {
   "cell_type": "code",
   "execution_count": null,
   "id": "9de7e54a-368e-4bc1-882d-80e39c401f26",
   "metadata": {},
   "outputs": [],
   "source": [
    "df_main_asps_cp_asps_gb = df_main_asps_cp_asps.groupby('game_id').agg({'win_att_diff':sum, 'drow_att_diff':sum, 'loss_att_diff':sum, 'win_prof':sum, 'drow_prof':sum, 'loss_prof':sum, 'win_surplus':sum, 'drow_surplus':sum, 'loss_surplus':sum})\n",
    "df_main_asps_cp_asps_gb.reset_index(inplace=True)\n",
    "df_main_asps_cp_asps_gb.rename(columns={'win_att_diff':'win_att_diff_sum', 'drow_att_diff':'drow_att_diff_sum', 'loss_att_diff':'loss_att_diff_sum', 'win_prof':'win_prof_sum', 'drow_prof':'drow_prof_sum',\n",
    "                                        'loss_prof':'loss_prof_sum', 'win_surplus':'win_surplus_sum', 'drow_surplus':'drow_surplus_sum', 'loss_surplus':'loss_surplus_sum'}, inplace=True)\n",
    "df_main_asps_cp_asps_gb.head(2)"
   ]
  },
  {
   "cell_type": "code",
   "execution_count": null,
   "id": "d7a461c4-a962-44c4-8b0a-a9a145bfebc5",
   "metadata": {},
   "outputs": [],
   "source": [
    "sr_fs_asps_wt_pls_lt = df_main_asps_cp_asps.reset_index().groupby('game_id').fs_asps_wt_pls.apply(tuple)\n",
    "sr_fs_asps_wt_pls_lt.reset_index().head(2)"
   ]
  },
  {
   "cell_type": "code",
   "execution_count": null,
   "id": "ffc4d5a9-e4de-4d20-96d6-f6ff8b98ea49",
   "metadata": {},
   "outputs": [],
   "source": [
    "df_main_asps_cp_asps_gb = df_main_asps_cp_asps_gb.merge(sr_fs_asps_wt_pls_lt.reset_index(), how='left', left_on='game_id', right_on='game_id')\n",
    "df_main_asps_cp_asps_gb.rename(columns={'fs_asps_wt_pls':'fs_asps_wt_pls_lt'}, inplace=True)\n",
    "df_main_asps_cp_asps_gb.head(2)"
   ]
  },
  {
   "cell_type": "code",
   "execution_count": null,
   "id": "b929cdce-d3c5-4d8c-907f-3271d9464e42",
   "metadata": {},
   "outputs": [],
   "source": [
    "print('df_main_asps_cp_asps_shape -', df_main_asps_cp_asps.shape[0])\n",
    "df_main_asps_cp_asps.drop_duplicates(subset='game_id', inplace=True)\n",
    "print('df_main_asps_cp_asps_shape -', df_main_asps_cp_asps.shape[0])"
   ]
  },
  {
   "cell_type": "code",
   "execution_count": null,
   "id": "3848f2c4-bb00-45e2-9656-5aa1d04a383f",
   "metadata": {},
   "outputs": [],
   "source": [
    "df_main_asps_cp_asps = df_main_asps_cp_asps[cols].merge(df_main_asps_cp_asps_gb, how='left', left_on='game_id', right_on='game_id')\n",
    "df_main_asps_cp_asps.set_index(keys='game_id', inplace=True)\n",
    "df_main_asps_cp_asps.head(1)"
   ]
  },
  {
   "cell_type": "code",
   "execution_count": null,
   "id": "db02d2a7-8a85-4807-98bf-5db02bccab50",
   "metadata": {},
   "outputs": [],
   "source": [
    "St"
   ]
  },
  {
   "cell_type": "code",
   "execution_count": null,
   "id": "a967672d-48c7-44de-a079-cd54838475fd",
   "metadata": {},
   "outputs": [],
   "source": [
    "# Unordinary period research #####################################################\n",
    "df_main_asps_cp_asps.reset_index(inplace=True)\n",
    "df_main_asps_cp_asps.set_index(keys='game_id', inplace=True)\n",
    "df_main_asps_cp_asps.head(1)"
   ]
  },
  {
   "cell_type": "code",
   "execution_count": null,
   "id": "d65beadc-a58e-4bc2-86da-dd838f1b254f",
   "metadata": {},
   "outputs": [],
   "source": [
    "# df_specific = df_main_asps_cp_asps[(df_main_asps_cp_asps.game_utc > '2021.04') & (df_main_asps_cp_asps.game_utc < '2022.05')].copy()\n",
    "# print('min date', min(df_specific.game_utc))\n",
    "# print('max date', max(df_specific.game_utc))\n",
    "# print('shape -', df_specific.shape[0])"
   ]
  },
  {
   "cell_type": "code",
   "execution_count": null,
   "id": "dca5178d-d21d-4420-a60f-726f1cdce970",
   "metadata": {},
   "outputs": [],
   "source": [
    "# df_specific.result.value_counts(dropna=False)"
   ]
  },
  {
   "cell_type": "code",
   "execution_count": null,
   "id": "de0bd1fb-f27c-42f2-937c-1631e572df45",
   "metadata": {},
   "outputs": [],
   "source": [
    "# df_specific"
   ]
  },
  {
   "cell_type": "code",
   "execution_count": null,
   "id": "e7f19b62-e37b-4f39-b637-f07a5ab87c16",
   "metadata": {},
   "outputs": [],
   "source": [
    "# df_ordinary = df_main_asps_cp_asps[~df_main_asps_cp_asps.game_id.isin(df_specific.game_id)].copy()\n",
    "# df_ordinary = df_ordinary[df_ordinary.game_utc < '2021.04'].copy()\n",
    "df_ordinary = df_main_asps_cp_asps[df_main_asps_cp_asps.game_utc < '2022.05'].copy()\n",
    "print('min date', min(df_ordinary.game_utc))\n",
    "print('max date', max(df_ordinary.game_utc))\n",
    "print('shape -', df_ordinary.shape[0])"
   ]
  },
  {
   "cell_type": "code",
   "execution_count": null,
   "id": "e5ae63ca-c6a1-48bc-b59f-b48a6797ce74",
   "metadata": {},
   "outputs": [],
   "source": [
    "# df_research = df_main_asps_cp_asps[(~df_main_asps_cp_asps.game_id.isin(df_specific.game_id)) & (~df_main_asps_cp_asps.game_id.isin(df_ordinary.game_id))].copy()\n",
    "df_research = df_main_asps_cp_asps[(~df_main_asps_cp_asps.index.isin(df_ordinary.index)) & (df_main_asps_cp_asps.game_utc < '2023.05')].copy()\n",
    "print('min date', min(df_research.game_utc))\n",
    "print('max date', max(df_research.game_utc))\n",
    "print('shape -', df_research.shape[0])"
   ]
  },
  {
   "cell_type": "code",
   "execution_count": null,
   "id": "05090154-f7ff-46ff-b92e-bbecdc2fc394",
   "metadata": {},
   "outputs": [],
   "source": [
    "df_check = df_main_asps_cp_asps[(~df_main_asps_cp_asps.index.isin(df_ordinary.index)) & (~df_main_asps_cp_asps.index.isin(df_research.index))].copy()\n",
    "print('min date', min(df_check.game_utc))\n",
    "print('max date', max(df_check.game_utc))\n",
    "print('shape -', df_check.shape[0])"
   ]
  },
  {
   "cell_type": "code",
   "execution_count": null,
   "id": "15bb1963-8809-442b-91e2-3293703891fd",
   "metadata": {},
   "outputs": [],
   "source": [
    "ordi_win_asps_lt = []\n",
    "_ = df_ordinary[['result', 'fs_asps_wt_pls_lt']].apply(lambda x: [ordi_win_asps_lt.append(asp) for asp in x[1]] if x[0] == 'fav_win' else None, axis=1).dropna()\n",
    "ordi_win_asps_lt[:3]"
   ]
  },
  {
   "cell_type": "code",
   "execution_count": null,
   "id": "169156ad-8254-40d7-bd54-78f5341931e8",
   "metadata": {},
   "outputs": [],
   "source": [
    "ordi_drow_asps_lt = []\n",
    "_ = df_ordinary[['result', 'fs_asps_wt_pls_lt']].apply(lambda x: [ordi_drow_asps_lt.append(asp) for asp in x[1]] if x[0] == 'fav_drow' else None, axis=1).dropna()\n",
    "ordi_drow_asps_lt[:3]"
   ]
  },
  {
   "cell_type": "code",
   "execution_count": null,
   "id": "fb8afa7a-2097-4d27-b9e1-86718f053231",
   "metadata": {},
   "outputs": [],
   "source": [
    "ordi_loss_asps_lt = []\n",
    "_ = df_ordinary[['result', 'fs_asps_wt_pls_lt']].apply(lambda x: [ordi_loss_asps_lt.append(asp) for asp in x[1]] if x[0] == 'fav_loss' else None, axis=1).dropna()\n",
    "ordi_loss_asps_lt[:3]"
   ]
  },
  {
   "cell_type": "code",
   "execution_count": null,
   "id": "03cf96a8-0cf3-4ac8-8268-a47e97b114f9",
   "metadata": {},
   "outputs": [],
   "source": [
    "sr_win_asps_count  = pd.DataFrame({'count_win':  Counter(ordi_win_asps_lt).values()}, index=Counter(ordi_win_asps_lt).keys()).sort_values(by='count_win', ascending=False)\n",
    "sr_drow_asps_count = pd.DataFrame({'count_drow': Counter(ordi_drow_asps_lt).values()}, index=Counter(ordi_drow_asps_lt).keys()).sort_values(by='count_drow', ascending=False)\n",
    "sr_loss_asps_count = pd.DataFrame({'count_loss': Counter(ordi_loss_asps_lt).values()}, index=Counter(ordi_loss_asps_lt).keys()).sort_values(by='count_loss', ascending=False)"
   ]
  },
  {
   "cell_type": "code",
   "execution_count": null,
   "id": "4c53d721-1b40-429e-b973-6641edd033cb",
   "metadata": {},
   "outputs": [],
   "source": [
    "print('shape win  -', sr_win_asps_count.shape[0])\n",
    "print('shape drow -', sr_drow_asps_count.shape[0])\n",
    "print('shape loss -', sr_loss_asps_count.shape[0])"
   ]
  },
  {
   "cell_type": "code",
   "execution_count": null,
   "id": "96180d57-493a-4d5d-8667-20ffb4de9708",
   "metadata": {},
   "outputs": [],
   "source": [
    "df_asps_count = pd.merge(sr_win_asps_count, sr_drow_asps_count, how='left', left_index=True, right_index=True)\n",
    "df_asps_count = pd.merge(df_asps_count, sr_loss_asps_count, how='left', left_index=True, right_index=True)"
   ]
  },
  {
   "cell_type": "code",
   "execution_count": null,
   "id": "fec47616-9ed0-4c03-8589-f24dbd079098",
   "metadata": {},
   "outputs": [],
   "source": [
    "df_asps_count.shape[0]"
   ]
  },
  {
   "cell_type": "code",
   "execution_count": null,
   "id": "ee19b1bf-82a0-48bb-9b8b-2dde379b01ba",
   "metadata": {},
   "outputs": [],
   "source": [
    "df_asps_count['cnt_drow_loss'] = df_asps_count.count_drow + df_asps_count.count_loss"
   ]
  },
  {
   "cell_type": "code",
   "execution_count": null,
   "id": "00cb5278-a045-45ea-acb0-04142de5a4eb",
   "metadata": {},
   "outputs": [],
   "source": [
    "df_asps_count['diff_win_drolos'] = df_asps_count.count_win - df_asps_count.cnt_drow_loss"
   ]
  },
  {
   "cell_type": "code",
   "execution_count": null,
   "id": "838de2f2-9dd6-4306-b4a6-a202da2456f6",
   "metadata": {},
   "outputs": [],
   "source": [
    "# df_asps_count.sort_values(by='diff_win_drolos', ascending=True).head(10)"
   ]
  },
  {
   "cell_type": "code",
   "execution_count": null,
   "id": "1e5643bf-7b6a-42c1-9aeb-29e1a452baf1",
   "metadata": {},
   "outputs": [],
   "source": [
    "# df_asps_count.sort_values(by='diff_win_drolos', ascending=False).head(10)"
   ]
  },
  {
   "cell_type": "code",
   "execution_count": null,
   "id": "8bf74152-48a4-47dc-94d2-a78f763f6b4c",
   "metadata": {},
   "outputs": [],
   "source": [
    "df_all_profit_calc = pd.DataFrame()\n",
    "\n",
    "for asp in df_asps_count.index:\n",
    "    df_research_asp = df_research[['bets_desc', 'fs_asps_wt_pls_lt']].apply(lambda x: x[0] if any(var for var in x[1] if var == asp) else None, axis=1).dropna()\n",
    "    \n",
    "    shape        = df_research_asp.shape[0]\n",
    "    bet_sum_win  = df_research[df_research.index.isin(df_research_asp.index)].bets_desc.map(lambda x:  float(x.split('_')[1]) if x.split('_')[0] == 'win' else 0).sum()\n",
    "    bet_sum_drow = df_research[df_research.index.isin(df_research_asp.index)].bets_desc.map(lambda x:  float(x.split('_')[1]) if x.split('_')[0] == 'drow' else 0).sum()\n",
    "    bet_sum_loss = df_research[df_research.index.isin(df_research_asp.index)].bets_desc.map(lambda x:  float(x.split('_')[1]) if x.split('_')[0] == 'loss' else 0).sum()\n",
    "    \n",
    "    diff_win  = bet_sum_win - shape\n",
    "    diff_drow = bet_sum_drow - shape\n",
    "    diff_loss = bet_sum_loss - shape\n",
    "    \n",
    "    profit_calc_dc = {'aspect':asp, 'shape':shape, 'bet_sum_win':bet_sum_win, 'bet_sum_drow':bet_sum_drow, 'bet_sum_loss':bet_sum_loss, 'diff_win':diff_win, 'diff_drow':diff_drow, 'diff_loss':diff_loss}\n",
    "    \n",
    "    df_profit_calc     = pd.DataFrame.from_dict([profit_calc_dc])\n",
    "    df_all_profit_calc = pd.concat([df_all_profit_calc, df_profit_calc])\n",
    "    \n",
    "df_all_profit_calc.set_index(keys='aspect', inplace=True)    "
   ]
  },
  {
   "cell_type": "code",
   "execution_count": null,
   "id": "88b1dd19-99d4-4d89-a982-96a23a0290c4",
   "metadata": {},
   "outputs": [],
   "source": [
    "df_all_profit_calc.head()"
   ]
  },
  {
   "cell_type": "code",
   "execution_count": null,
   "id": "ec0b5ca3-bb2d-4627-b3b6-4dd9670d4506",
   "metadata": {
    "tags": []
   },
   "outputs": [],
   "source": [
    "df_all_profit_calc.sort_values(by='diff_win', ascending=False).head(10)"
   ]
  },
  {
   "cell_type": "code",
   "execution_count": null,
   "id": "81170afe-0cc4-4100-ac8a-4f49eb7a7d40",
   "metadata": {},
   "outputs": [],
   "source": [
    "df_all_profit_calc.sort_values(by='diff_drow', ascending=False).head(10)"
   ]
  },
  {
   "cell_type": "code",
   "execution_count": null,
   "id": "be0854db-7e00-4244-a6a6-d1eadcbedad6",
   "metadata": {},
   "outputs": [],
   "source": [
    "df_all_profit_calc.sort_values(by='diff_loss', ascending=False).head(10)"
   ]
  },
  {
   "cell_type": "code",
   "execution_count": null,
   "id": "f7029bf3-8a1a-4dde-806d-20fd5ee57779",
   "metadata": {},
   "outputs": [],
   "source": [
    "df_check_asp = df_check[['bets_desc', 'fs_asps_wt_pls_lt']].apply(lambda x: x[0] if any(var for var in x[1] if var == 'Mn_c_V1') else None, axis=1).dropna()\n",
    "df_check_asp.shape[0]"
   ]
  },
  {
   "cell_type": "code",
   "execution_count": null,
   "id": "eb74a79b-89d0-47cc-a9b9-c4e0133b6229",
   "metadata": {},
   "outputs": [],
   "source": [
    "df_check[df_check.index.isin(df_check_asp.index)].bets_desc.map(lambda x:  float(x.split('_')[1]) if x.split('_')[0] == 'win' else 0).sum()"
   ]
  },
  {
   "cell_type": "code",
   "execution_count": null,
   "id": "ebf1d5fe-0a05-4c16-8780-7e366ca34759",
   "metadata": {},
   "outputs": [],
   "source": [
    "df_check[df_check.index.isin(df_check_asp.index)].bets_desc.map(lambda x:  float(x.split('_')[1]) if x.split('_')[0] == 'drow' else 0).sum()"
   ]
  },
  {
   "cell_type": "code",
   "execution_count": null,
   "id": "5cf1e672-890a-43e1-ad25-f9d9c3817b72",
   "metadata": {},
   "outputs": [],
   "source": [
    "df_check[df_check.index.isin(df_check_asp.index)].bets_desc.map(lambda x:  float(x.split('_')[1]) if x.split('_')[0] == 'loss' else 0).sum()"
   ]
  },
  {
   "cell_type": "code",
   "execution_count": null,
   "id": "b4c34f57-5015-46c2-9367-f3751a96bc45",
   "metadata": {},
   "outputs": [],
   "source": [
    "# df_check.head(1)"
   ]
  },
  {
   "cell_type": "code",
   "execution_count": null,
   "id": "70b90714-875c-4bee-ba0d-c8b414269314",
   "metadata": {},
   "outputs": [],
   "source": []
  },
  {
   "cell_type": "code",
   "execution_count": null,
   "id": "2adcb953-c316-462d-ac83-7c39fc596741",
   "metadata": {},
   "outputs": [],
   "source": []
  },
  {
   "cell_type": "code",
   "execution_count": null,
   "id": "1d88710f-c3bd-486d-b881-c233df87a75b",
   "metadata": {},
   "outputs": [],
   "source": [
    "sr_loss_asps_count.iloc[1].name"
   ]
  },
  {
   "cell_type": "code",
   "execution_count": null,
   "id": "e53c5197-4823-4ab5-90f4-8f73eaa75307",
   "metadata": {},
   "outputs": [],
   "source": [
    "top_loss_asps_count_lt = sr_loss_asps_count.iloc[0].name "
   ]
  },
  {
   "cell_type": "code",
   "execution_count": null,
   "id": "8e0a5121-12d0-4b62-9aa9-f83d743273c9",
   "metadata": {},
   "outputs": [],
   "source": [
    "sr_top_loss_game_ids = df_research[['game_id', 'fs_asps_wt_pls_lt']].apply(lambda x: x[0] if any(asp for asp in x[1] if asp in top_loss_asps_count_lt) else None, axis=1).dropna()"
   ]
  },
  {
   "cell_type": "code",
   "execution_count": null,
   "id": "a7eb1576-a827-4df6-951b-52ad410a5641",
   "metadata": {},
   "outputs": [],
   "source": [
    "df_research[df_research.game_id.isin(sr_top_loss_game_ids)][['fs_asps_wt_pls_lt', 'result']] # .result.value_counts(dropna=False)"
   ]
  },
  {
   "cell_type": "code",
   "execution_count": null,
   "id": "bd66e427-b9ac-47eb-9bc8-46d982f45924",
   "metadata": {},
   "outputs": [],
   "source": []
  },
  {
   "cell_type": "code",
   "execution_count": null,
   "id": "584a8df8-52fd-48a7-a50d-068faea589ff",
   "metadata": {},
   "outputs": [],
   "source": []
  },
  {
   "cell_type": "code",
   "execution_count": null,
   "id": "e322b3d4-061d-4527-905b-77d8abefc20f",
   "metadata": {},
   "outputs": [],
   "source": []
  },
  {
   "cell_type": "code",
   "execution_count": null,
   "id": "8dbf6fda-ceca-4d61-a2e8-41c3cd31d1b0",
   "metadata": {},
   "outputs": [],
   "source": [
    "##############################################################"
   ]
  },
  {
   "cell_type": "code",
   "execution_count": null,
   "id": "333a82ef-03e4-4763-a8cd-b6bb471fcadd",
   "metadata": {},
   "outputs": [],
   "source": [
    "result = ['win', 'drow', 'loss'][2]\n",
    "ind = 2\n",
    "col = ['win_att_diff_sum', 'drow_att_diff_sum', 'loss_att_diff_sum', 'win_prof_sum', 'drow_prof_sum', 'loss_prof_sum', 'win_surplus_sum', 'drow_surplus_sum', 'loss_surplus_sum'][ind]\n",
    "print(col, '-', result)\n",
    "df_main_asps_cp_asps.sort_values(by=col, ascending=False).head(1000).bets_desc.map(lambda x:  float(x.split('_')[1]) if x.split('_')[0] == result else 0).sum()"
   ]
  },
  {
   "cell_type": "code",
   "execution_count": null,
   "id": "13363e80-de5a-4b97-a6e1-2f020f8d6e84",
   "metadata": {},
   "outputs": [],
   "source": [
    "result = ['win', 'drow', 'loss'][2]\n",
    "\n",
    "att_diff_shape  = df_main_asps_cp_asps[df_main_asps_cp_asps.win_att_diff_sum > 0.949].shape[0]\n",
    "print('result -', result, ', att_diff_shape -', att_diff_shape)\n",
    "bets_att_diff_sum = df_main_asps_cp_asps[df_main_asps_cp_asps.win_att_diff_sum > 0.949].bets_desc.map(lambda x:  float(x.split('_')[1]) if x.split('_')[0] == result else 0).sum()\n",
    "print('prof_percent win_att_diff_sum -', bets_att_diff_sum / att_diff_shape)\n",
    "\n",
    "prof_sum_shape  = df_main_asps_cp_asps[df_main_asps_cp_asps.win_prof_sum > 12.16].shape[0]\n",
    "print('result -', result, ', prof_sum_shape -', prof_sum_shape)\n",
    "bets_win_prof_sum = df_main_asps_cp_asps[df_main_asps_cp_asps.win_prof_sum > 12.16].bets_desc.map(lambda x:  float(x.split('_')[1]) if x.split('_')[0] == result else 0).sum()\n",
    "print('prof_percent win_prof_sum -', bets_win_prof_sum / prof_sum_shape)\n",
    "\n",
    "surplus_sum_shape  = df_main_asps_cp_asps[df_main_asps_cp_asps.win_surplus_sum > 1.909].shape[0]\n",
    "print('result -', result, ', surplus_sum_shape -', surplus_sum_shape)\n",
    "bets_surplus_sum = df_main_asps_cp_asps[df_main_asps_cp_asps.win_surplus_sum > 1.909].bets_desc.map(lambda x:  float(x.split('_')[1]) if x.split('_')[0] == result else 0).sum()\n",
    "print('prof_percent win_surplus_sum -', bets_surplus_sum / surplus_sum_shape)"
   ]
  },
  {
   "cell_type": "code",
   "execution_count": null,
   "id": "be8c06cf-3780-4ae4-868f-5ceb828c77da",
   "metadata": {},
   "outputs": [],
   "source": [
    "df_win_top = pd.concat([df_main_asps_cp_asps[df_main_asps_cp_asps.win_att_diff_sum > 0.949],\n",
    "                        df_main_asps_cp_asps[df_main_asps_cp_asps.win_prof_sum > 12.16],\n",
    "                        df_main_asps_cp_asps[df_main_asps_cp_asps.win_surplus_sum > 1.909]\n",
    "                       ]).reset_index()"
   ]
  },
  {
   "cell_type": "code",
   "execution_count": null,
   "id": "e6453fbf-dc78-45bf-936c-9720be44b1ab",
   "metadata": {},
   "outputs": [],
   "source": [
    "df_win_top.drop_duplicates(subset='game_id', inplace=True)"
   ]
  },
  {
   "cell_type": "code",
   "execution_count": null,
   "id": "15055b25-dfb1-496b-8940-3962296bc927",
   "metadata": {},
   "outputs": [],
   "source": [
    "df_win_top.shape[0]"
   ]
  },
  {
   "cell_type": "code",
   "execution_count": null,
   "id": "421d0f03-7ba8-4ee3-9d5f-25895323b321",
   "metadata": {},
   "outputs": [],
   "source": [
    "df_win_top.bets_desc.map(lambda x:  float(x.split('_')[1]) if x.split('_')[0] == result else 0).sum()"
   ]
  },
  {
   "cell_type": "code",
   "execution_count": null,
   "id": "7ddcd331-ddab-4b43-a8dd-897ba95f3e0e",
   "metadata": {},
   "outputs": [],
   "source": [
    "df_win_top.bets_desc.map(lambda x:  float(x.split('_')[1]) if x.split('_')[0] == result else 0).sum() / df_win_top.shape[0]"
   ]
  },
  {
   "cell_type": "code",
   "execution_count": null,
   "id": "b5a7a851-d8f8-483c-974b-8bd544661c9a",
   "metadata": {},
   "outputs": [],
   "source": [
    "# Calculate with new period\n",
    "# win_att_diff_sum(1000) - loss - 1341.65 (5000 - 1.22, 30000 - 1.182)\n",
    "# win_prof_sum(1000)     - loss - 1274.69 (5000 - 1.21, 30000 - 1.167)\n",
    "# win_surplus_sum(1000)  - loss - 1294.99 (5000 - 1.22, 30000 - 1.181)\n",
    "\n",
    "# drow_att_diff_sum(1000) - loss - 1080.52 (5000 - 1.09, 30000 - 1.171)\n",
    "# drow_prof_sum(1000)     - loss - 1143.42 (5000 - 1.06, 30000 - 1.170)\n",
    "# drow_surplus_sum(1000)  - loss - 1087.36 (5000 - 1.09, 30000 - 1.168)\n",
    "\n",
    "# loss_att_diff_sum(1000) - loss - 1056.81 (5000 - 1.12, 30000 - 1.175)\n",
    "# loss_prof_sum(1000)     - loss - 1170.94 (5000 - 1.15, 30000 - 1.177)\n",
    "# loss_surplus_sum(1000)  - loss - 1056.26 (5000 - 1.13, 30000 - 1.174)\n",
    "\n",
    "\n",
    "# Before 2020 year results:\n",
    "\n",
    "# df_win_att_diff_top min - 0.949 max - 6.34\n",
    "# df_win_prof_sum_top min - 12.16 max - 27.47\n",
    "# df_win_surplus_sum_top min - 1.909 max - 12.68"
   ]
  },
  {
   "cell_type": "code",
   "execution_count": null,
   "id": "deeaa129-783e-4669-8d46-fcb5af4e4790",
   "metadata": {},
   "outputs": [],
   "source": [
    "# df_win_att_diff_top    = df_main_asps_cp_asps.sort_values(by='win_att_diff_sum', ascending=False).head(1000)\n",
    "# df_win_prof_sum_top    = df_main_asps_cp_asps.sort_values(by='win_prof_sum', ascending=False).head(1000)\n",
    "# df_win_surplus_sum_top = df_main_asps_cp_asps.sort_values(by='win_surplus_sum', ascending=False).head(1000)"
   ]
  },
  {
   "cell_type": "code",
   "execution_count": null,
   "id": "714c1ad4-551e-4735-8579-40668b866f4b",
   "metadata": {},
   "outputs": [],
   "source": [
    "# print('df_win_att_diff_top min -', df_win_att_diff_top.win_att_diff_sum.min(), 'max -', df_win_att_diff_top.win_att_diff_sum.max())\n",
    "# print('df_win_prof_sum_top min -', df_win_prof_sum_top.win_prof_sum.min(), 'max -', df_win_prof_sum_top.win_prof_sum.max())\n",
    "# print('df_win_surplus_sum_top min -', df_win_surplus_sum_top.win_surplus_sum.min(), 'max -', df_win_surplus_sum_top.win_surplus_sum.max())"
   ]
  },
  {
   "cell_type": "code",
   "execution_count": null,
   "id": "276fddbd-a735-4ade-a1bd-1413ec1c45fc",
   "metadata": {},
   "outputs": [],
   "source": [
    "# df_win_prof_sum_top"
   ]
  },
  {
   "cell_type": "code",
   "execution_count": null,
   "id": "bf0aaf8a-96ff-4978-9757-d22044d0bce0",
   "metadata": {},
   "outputs": [],
   "source": [
    "# print(df_win_att_diff_top[df_win_att_diff_top.game_id.isin(df_win_prof_sum_top.game_id)].shape[0])\n",
    "# print(df_win_att_diff_top[df_win_att_diff_top.game_id.isin(df_win_surplus_sum_top.game_id)].shape[0])"
   ]
  },
  {
   "cell_type": "code",
   "execution_count": null,
   "id": "792230ff-dbea-41ef-afab-dafb29afbbc5",
   "metadata": {},
   "outputs": [],
   "source": [
    "#################################################"
   ]
  },
  {
   "cell_type": "code",
   "execution_count": null,
   "id": "90646ff7-3d35-4dd2-b005-7731429908b6",
   "metadata": {},
   "outputs": [],
   "source": [
    "df_main_asps_cp_asps.bets_desc.map(lambda x:  float(x.split('_')[1]) if x.split('_')[0] == 'loss' else 0).sum()"
   ]
  },
  {
   "cell_type": "code",
   "execution_count": null,
   "id": "2c106e18-4ae0-436a-8f03-49e8a145561f",
   "metadata": {},
   "outputs": [],
   "source": [
    "38904 / df_main_asps_cp_asps.shape[0]"
   ]
  },
  {
   "cell_type": "code",
   "execution_count": null,
   "id": "f13ccf29-bfad-4269-80f6-bb2c277a019d",
   "metadata": {},
   "outputs": [],
   "source": [
    "df_main_asps_cp_asps.reset_index(inplace=True)"
   ]
  },
  {
   "cell_type": "code",
   "execution_count": null,
   "id": "4f7ba3e3-f12e-4f7e-8fcc-d8078013d987",
   "metadata": {},
   "outputs": [],
   "source": [
    "df_main_asps_cp_asps.shape[0]"
   ]
  },
  {
   "cell_type": "code",
   "execution_count": null,
   "id": "54120eb5-2121-4913-83b1-82f886658cd1",
   "metadata": {},
   "outputs": [],
   "source": [
    "df_main_asps_cp_asps.tail(1)"
   ]
  },
  {
   "cell_type": "code",
   "execution_count": null,
   "id": "25c38d82-3e70-4a9d-90e4-ad8b4fcbbd23",
   "metadata": {},
   "outputs": [],
   "source": []
  },
  {
   "cell_type": "code",
   "execution_count": null,
   "id": "75d73cf0-0c9f-44a5-8ce1-0626095fc6cb",
   "metadata": {},
   "outputs": [],
   "source": [
    "# df_main_asps_cp_asps.bets_desc.value_counts(dropna=False)"
   ]
  },
  {
   "cell_type": "code",
   "execution_count": null,
   "id": "04cc462d-6d17-4e07-ad4e-bdf745533b1d",
   "metadata": {},
   "outputs": [],
   "source": [
    "df_main_asps_cp_asps[df_main_asps_cp_asps.loss_att_diff_sum > 0.5].shape[0]"
   ]
  },
  {
   "cell_type": "code",
   "execution_count": null,
   "id": "18c718a8-65d4-4336-83bf-22e2f88ad2bd",
   "metadata": {},
   "outputs": [],
   "source": [
    "# Random results wich give 17 percents of benefit\n",
    "all_rand_results = []\n",
    "\n",
    "for x in range(1,100):\n",
    "    df_research = df_main_asps_cp_asps[df_main_asps_cp_asps.drow_surplus_sum > 0.6].copy()\n",
    "    shape = df_research.shape[0]\n",
    "    df_research.reset_index(drop=True, inplace=True)\n",
    "    rand_results = df_research.loc[random.sample(range(0, shape), 1)].bets_desc.map(lambda x: float(x.split('_')[1]) if x.split('_')[0] == 'drow' else 0).sum()\n",
    "    all_rand_results.append(rand_results)\n",
    "    \n",
    "print(shape)\n",
    "sum(all_rand_results) "
   ]
  },
  {
   "cell_type": "code",
   "execution_count": null,
   "id": "98250bab-68b1-4222-b5c2-1c35bae53ca6",
   "metadata": {},
   "outputs": [],
   "source": [
    "st"
   ]
  },
  {
   "cell_type": "code",
   "execution_count": null,
   "id": "75b16cea-32d7-4ff3-9f24-86744e3dc45f",
   "metadata": {},
   "outputs": [],
   "source": [
    "def check_two_values_existing(prof_in: int, df_shape: int):\n",
    "    if (prof_in > 0) and (df_shape > 0):\n",
    "        perc_in = round(prof_in / df_shape, 2)\n",
    "    else:\n",
    "        perc_in = None\n",
    "    return perc_in\n",
    "    \n",
    "def add_cols_names(fav_win: int, fav_drow: int, fav_loss: int, count_games_time: int):\n",
    "    return {'fav_win': fav_win, 'fav_drow': fav_drow, 'fav_loss': fav_loss, 'count_games': count_games_time}\n",
    "\n",
    "# 'df_bets_mean' creates from 'df_asps_leagues_stat_before_2024'\n",
    "\n",
    "# Choose a column for time interval:\n",
    "df_main_asps_cp['time'] = df_main_asps_cp['week_yr'].copy() # month_yr, week_yr, day_month_yr\n",
    "\n",
    "df_asps_leagues_cp = df_asps_leagues.copy()\n",
    "df_all_profit_calc = pd.DataFrame()\n",
    "\n",
    "ind = 1\n",
    "win_col_sort  = ['win_surplus', 'win_prof', 'win_att_diff'][ind]\n",
    "drow_col_sort = ['drow_surplus', 'drow_prof', 'drow_att_diff'][ind]\n",
    "loss_col_sort = ['loss_surplus', 'loss_prof', 'loss_att_diff'][ind]\n",
    "print('cols_sort -', win_col_sort, '-', drow_col_sort, '-', loss_col_sort)\n",
    "\n",
    "min_count_games = 1\n",
    "\n",
    "win_cnt_top  = 3000\n",
    "drow_cnt_top = 3000\n",
    "loss_cnt_top = 3000\n",
    "\n",
    "for time in df_main_asps_cp.time.unique():\n",
    "    \n",
    "    df_asps_leagues_cp_cnt = df_asps_leagues_cp[df_asps_leagues_cp.count_games >= min_count_games].copy()\n",
    "    # print('df_asps_leagues_cp_cnt -', df_asps_leagues_cp_cnt.shape[0], '-', time)\n",
    "    \n",
    "    df_main_asps_cp_time = df_main_asps_cp[df_main_asps_cp.time.isin([time])].copy()\n",
    "    \n",
    "    # Calculating leagues aspect sum for game_id and getting top block\n",
    "    \n",
    "    cols                 = ['game_id', 'game_utc', 'goals', 'f_team', 's_team', 'city', 'bets_desc']\n",
    "    df_main_asps_cp_asps = df_main_asps_cp_time[cols].merge(df_asps_leagues_cp_cnt, how='left', left_index=True, right_index=True)\n",
    "    \n",
    "    df_main_asps_cp_asps_gb = df_main_asps_cp_asps.groupby('game_id').agg({'win_att_diff':sum, 'drow_att_diff':sum, 'loss_att_diff':sum, 'win_prof':sum, 'drow_prof':sum, 'loss_prof':sum, \n",
    "                                                                           'win_surplus':sum, 'drow_surplus':sum, 'loss_surplus':sum})\n",
    "    df_main_asps_cp_asps_gb.reset_index(inplace=True)\n",
    "    df_main_asps_cp_asps_gb.rename(columns={'win_att_diff':'win_att_diff_sum', 'drow_att_diff':'drow_att_diff_sum', 'loss_att_diff':'loss_att_diff_sum', 'win_prof':'win_prof_sum', \n",
    "                                            'drow_prof':'drow_prof_sum', 'loss_prof':'loss_prof_sum', 'win_surplus':'win_surplus_sum', 'drow_surplus':'drow_surplus_sum', \n",
    "                                            'loss_surplus':'loss_surplus_sum'}, inplace=True)\n",
    "    \n",
    "    sr_fs_asps_wt_pls_lt = df_main_asps_cp_asps.reset_index().groupby('game_id').fs_asps_wt_pls.apply(tuple)\n",
    "    \n",
    "    df_main_asps_cp_asps_gb = df_main_asps_cp_asps_gb.merge(sr_fs_asps_wt_pls_lt.reset_index(), how='left', left_on='game_id', right_on='game_id')\n",
    "    df_main_asps_cp_asps_gb.rename(columns={'fs_asps_wt_pls':'fs_asps_wt_pls_lt'}, inplace=True)\n",
    "    \n",
    "    df_main_asps_cp_asps.drop_duplicates(subset='game_id', inplace=True)\n",
    "    \n",
    "    df_main_asps_cp_asps = df_main_asps_cp_asps[cols].merge(df_main_asps_cp_asps_gb, how='left', left_on='game_id', right_on='game_id')\n",
    "    df_main_asps_cp_asps.set_index(keys='game_id', inplace=True)\n",
    "    \n",
    "    df_win_att_diff_top    = df_main_asps_cp_asps.sort_values(by='win_att_diff_sum', ascending=False).head(1000)\n",
    "    df_win_prof_sum_top    = df_main_asps_cp_asps.sort_values(by='win_prof_sum', ascending=False).head(1000)\n",
    "    df_win_surplus_sum_top = df_main_asps_cp_asps.sort_values(by='win_surplus_sum', ascending=False).head(1000)\n",
    "    \n",
    "    \n",
    "    \n",
    "    # Calculating each leagues aspect rank block\n",
    "#     win_top_inds  = df_asps_leagues_cp_cnt.sort_values(by=win_col_sort, ascending=False).head(win_cnt_top).index \n",
    "#     drow_top_inds = df_asps_leagues_cp_cnt.sort_values(by=drow_col_sort, ascending=False).head(drow_cnt_top).index \n",
    "#     loss_top_inds = df_asps_leagues_cp_cnt.sort_values(by=loss_col_sort, ascending=False).head(loss_cnt_top).index \n",
    "    \n",
    "#     df_predict_win  = df_main_asps_cp_time[df_main_asps_cp_time.index.isin(win_top_inds)].drop_duplicates(subset='game_id')\n",
    "#     df_predict_drow = df_main_asps_cp_time[df_main_asps_cp_time.index.isin(drow_top_inds)].drop_duplicates(subset='game_id')\n",
    "#     df_predict_loss = df_main_asps_cp_time[df_main_asps_cp_time.index.isin(loss_top_inds)].drop_duplicates(subset='game_id')\n",
    "\n",
    "#     win_cnt_in_win   = df_predict_win.bets_desc.map(lambda x:  1 if x.split('_')[0] == 'win' else 0).sum()\n",
    "#     drow_cnt_in_drow = df_predict_drow.bets_desc.map(lambda x: 1 if x.split('_')[0] == 'drow' else 0).sum()\n",
    "#     loss_cnt_in_drow = df_predict_drow.bets_desc.map(lambda x: 1 if x.split('_')[0] == 'loss' else 0).sum()\n",
    "#     drow_cnt_in_loss = df_predict_loss.bets_desc.map(lambda x: 1 if x.split('_')[0] == 'drow' else 0).sum()\n",
    "#     loss_cnt_in_loss = df_predict_loss.bets_desc.map(lambda x: 1 if x.split('_')[0] == 'loss' else 0).sum()\n",
    "    \n",
    "#     win_prof_in_win   = round(df_predict_win.bets_desc.map(lambda x:  float(x.split('_')[1]) if x.split('_')[0] == 'win' else 0).sum(), 2) - df_predict_win.shape[0]\n",
    "#     drow_prof_in_drow = round(df_predict_drow.bets_desc.map(lambda x: float(x.split('_')[1]) if x.split('_')[0] == 'drow' else 0).sum(), 2) - df_predict_drow.shape[0]\n",
    "#     loss_prof_in_drow = round(df_predict_drow.bets_desc.map(lambda x: float(x.split('_')[1]) if x.split('_')[0] == 'loss' else 0).sum(), 2) - df_predict_drow.shape[0]\n",
    "#     drow_prof_in_loss = round(df_predict_loss.bets_desc.map(lambda x: float(x.split('_')[1]) if x.split('_')[0] == 'drow' else 0).sum(), 2) - df_predict_loss.shape[0]\n",
    "#     loss_prof_in_loss = round(df_predict_loss.bets_desc.map(lambda x: float(x.split('_')[1]) if x.split('_')[0] == 'loss' else 0).sum(), 2) - df_predict_loss.shape[0]\n",
    "    \n",
    "#     pre_fora_half_in_drow = round(df_predict_drow.bets_desc.map(lambda x: sdp.fora_calculate('For_Pre', float(x.split('_')[1]), 0.5) if x.split('_')[0] == 'drow' or x.split('_')[0] == 'loss' else 0).sum(), 2)\n",
    "#     pre_fora_half_in_loss = round(df_predict_loss.bets_desc.map(lambda x: sdp.fora_calculate('For_Pre', float(x.split('_')[1]), 0.5) if x.split('_')[0] == 'drow' or x.split('_')[0] == 'loss' else 0).sum(), 2)\n",
    "\n",
    "#     perc_win_in_win   = check_two_values_existing(win_prof_in_win, df_predict_win.shape[0])\n",
    "#     perc_drow_in_drow = check_two_values_existing(drow_prof_in_drow, df_predict_drow.shape[0])\n",
    "#     perc_loss_in_drow = check_two_values_existing(loss_prof_in_drow, df_predict_drow.shape[0])\n",
    "#     perc_drow_in_loss = check_two_values_existing(drow_prof_in_loss, df_predict_loss.shape[0])   \n",
    "#     perc_loss_in_loss = check_two_values_existing(loss_prof_in_loss, df_predict_loss.shape[0])   \n",
    "    \n",
    "#     perc_pre_fora_half_in_drow = check_two_values_existing(pre_fora_half_in_drow, df_predict_drow.shape[0])       \n",
    "#     perc_pre_fora_half_in_loss = check_two_values_existing(pre_fora_half_in_loss, df_predict_loss.shape[0])                  \n",
    "            \n",
    "#     profit_calc_dc = {'time': time, 'win_shp': df_predict_win.shape[0], 'drow_shp': df_predict_drow.shape[0], 'loss_shp': df_predict_loss.shape[0],\n",
    "#                       'win_in_win': win_cnt_in_win, 'drow_in_drow': drow_cnt_in_drow, 'loss_in_drow': loss_cnt_in_drow, 'drow_in_loss': drow_cnt_in_loss, 'loss_in_loss': loss_cnt_in_loss,\n",
    "#                       'win_prof_in_win': win_prof_in_win, 'drow_prof_in_drow': drow_prof_in_drow, 'loss_prof_in_drow': loss_prof_in_drow, 'drow_prof_in_loss': drow_prof_in_loss, 'loss_prof_in_loss': loss_prof_in_loss,\n",
    "#                       'pre_fora_half_in_drow': pre_fora_half_in_drow, 'pre_fora_half_in_loss': pre_fora_half_in_loss,\n",
    "#                       'perc_win_in_win': perc_win_in_win, 'perc_drow_in_drow': perc_drow_in_drow, 'perc_loss_in_drow': perc_loss_in_drow, 'perc_drow_in_loss': perc_drow_in_loss, 'perc_loss_in_loss': perc_loss_in_loss,\n",
    "#                       'perc_pre_fora_half_in_drow': perc_pre_fora_half_in_drow, 'perc_pre_fora_half_in_loss': perc_pre_fora_half_in_loss\n",
    "#                       }\n",
    "    \n",
    "#     df_profit_calc = pd.DataFrame.from_dict([profit_calc_dc])\n",
    "#     df_all_profit_calc = pd.concat([df_all_profit_calc, df_profit_calc])\n",
    "    \n",
    "    # Adding time games data to leagues-aspects statistic file\n",
    "    \n",
    "    df_asps_leagues_time = df_main_asps_cp_time.groupby(['ligue_header', 'country', 'fs_asps_wt_pls']).result.value_counts().to_frame()\n",
    "    df_asps_leagues_time.rename(columns={'result':'count'}, inplace=True)\n",
    "    df_asps_leagues_time.reset_index(inplace=True)\n",
    "    df_asps_leagues_time = df_asps_leagues_time.pivot(index=['ligue_header', 'country', 'fs_asps_wt_pls'], columns='result', values='count').fillna(0).copy()\n",
    "    df_asps_leagues_time = df_asps_leagues_time.astype(int)\n",
    "    \n",
    "    for col in ['fav_win', 'fav_drow', 'fav_loss']:\n",
    "        if col not in df_asps_leagues_time.columns:\n",
    "            df_asps_leagues_time[col] = 0\n",
    "    \n",
    "    df_asps_leagues_time['count_games_time'] = df_asps_leagues_time.fav_win + df_asps_leagues_time.fav_drow + df_asps_leagues_time.fav_loss\n",
    "    df_asps_leagues_time.rename(columns={'fav_win':'fav_win_time', 'fav_drow':'fav_drow_time', 'fav_loss':'fav_loss_time'}, inplace=True)\n",
    "     \n",
    "    df_asps_leagues_cp = df_asps_leagues_cp.merge(df_asps_leagues_time, how='left', left_index=True, right_index=True).fillna(0)\n",
    "    # print('df_asps_leagues_cp shape after merge -', df_asps_leagues_cp.shape[0], ' - ', time)\n",
    "    \n",
    "    # Output only four columns\n",
    "    df_asps_leagues_cp = df_asps_leagues_cp[['fav_win', 'fav_drow', 'fav_loss', 'count_games', 'fav_win_time', 'fav_drow_time', 'fav_loss_time', 'count_games_time']].apply(\n",
    "                                                                                             lambda x: add_cols_names(x[0] + x[4], x[1] + x[5], x[2] + x[6], x[3] + x[7]), axis='columns', result_type='expand').copy()\n",
    "    \n",
    "    # Add new multiindex with data\n",
    "    new_mindex_tp  = [x for x in df_asps_leagues_time.index if x not in df_asps_leagues_cp.index]\n",
    "    new_multiindex = pd.MultiIndex.from_tuples(new_mindex_tp, names=['ligue_header', 'country', 'fs_asps_wt_pls'])\n",
    "\n",
    "    df_new_data = df_asps_leagues_time[df_asps_leagues_time.index.isin(new_multiindex)].copy()\n",
    "    df_new_data.rename(columns={'fav_win_time': 'fav_win', 'fav_drow_time': 'fav_drow', 'fav_loss_time': 'fav_loss', 'count_games_time': 'count_games'}, inplace=True)\n",
    "    df_asps_leagues_cp = pd.concat([df_asps_leagues_cp, df_new_data])\n",
    "    ###\n",
    "    df_asps_leagues_cp['win_att']  = df_asps_leagues_cp.fav_win / df_asps_leagues_cp.count_games\n",
    "    df_asps_leagues_cp['drow_att'] = df_asps_leagues_cp.fav_drow / df_asps_leagues_cp.count_games\n",
    "    df_asps_leagues_cp['loss_att'] = df_asps_leagues_cp.fav_loss / df_asps_leagues_cp.count_games\n",
    "    \n",
    "    df_league_stat = df_asps_leagues_cp.groupby(['ligue_header', 'country']).sum()\n",
    "    \n",
    "    df_league_stat['win_att_lg']  = df_league_stat.fav_win / df_league_stat.count_games\n",
    "    df_league_stat['drow_att_lg'] = df_league_stat.fav_drow / df_league_stat.count_games\n",
    "    df_league_stat['loss_att_lg'] = df_league_stat.fav_loss / df_league_stat.count_games\n",
    "\n",
    "    df_asps_leagues_cp = df_asps_leagues_cp.merge(df_league_stat[['win_att_lg',\t'drow_att_lg', 'loss_att_lg']], how='left', left_index=True, right_index=True)\n",
    "    \n",
    "    df_asps_leagues_cp['win_att_diff']  = df_asps_leagues_cp.win_att - df_asps_leagues_cp.win_att_lg\n",
    "    df_asps_leagues_cp['drow_att_diff'] = df_asps_leagues_cp.drow_att - df_asps_leagues_cp.drow_att_lg\n",
    "    df_asps_leagues_cp['loss_att_diff'] = df_asps_leagues_cp.loss_att - df_asps_leagues_cp.loss_att_lg\n",
    "    \n",
    "    df_asps_leagues_cp = df_asps_leagues_cp.merge(df_bets_mean, how='left', left_index=True, right_index=True)\n",
    "    \n",
    "    df_asps_leagues_cp['win_prof']  = round(df_asps_leagues_cp.fav_win * df_asps_leagues_cp.win_bets_mean / df_asps_leagues_cp.count_games, 2)\n",
    "    df_asps_leagues_cp['drow_prof'] = round(df_asps_leagues_cp.fav_drow * df_asps_leagues_cp.drow_bets_mean / df_asps_leagues_cp.count_games, 2)\n",
    "    df_asps_leagues_cp['loss_prof'] = round(df_asps_leagues_cp.fav_loss * df_asps_leagues_cp.loss_bets_mean / df_asps_leagues_cp.count_games, 2)\n",
    "    \n",
    "    df_asps_leagues_cp['win_surplus']  = round(df_asps_leagues_cp.win_att_diff - (df_asps_leagues_cp.drow_att_diff + df_asps_leagues_cp.loss_att_diff), 3)\n",
    "    df_asps_leagues_cp['drow_surplus'] = round(df_asps_leagues_cp.drow_att_diff - (df_asps_leagues_cp.win_att_diff + df_asps_leagues_cp.loss_att_diff), 3)\n",
    "    df_asps_leagues_cp['loss_surplus'] = round(df_asps_leagues_cp.loss_att_diff - (df_asps_leagues_cp.win_att_diff + df_asps_leagues_cp.drow_att_diff), 3)\n",
    "    \n",
    "    df_asps_leagues_cp.drop(columns=['win_att_lg', 'drow_att_lg', 'loss_att_lg'], inplace=True) \n",
    "    ####\n",
    "df_all_profit_calc.set_index(keys='time', inplace=True)    "
   ]
  },
  {
   "cell_type": "code",
   "execution_count": null,
   "id": "a44bd1e1-5cde-4d93-a48b-cd6b160a2c8e",
   "metadata": {},
   "outputs": [],
   "source": [
    "#     Success index block \n",
    "\n",
    "# all_success_win_inds  = []\n",
    "# all_success_drow_inds = []\n",
    "# all_success_loss_inds = []\n",
    "\n",
    "#     success_win_inds  = list(df_predict_win.apply(lambda x: x.name if x['bets_desc'].split('_')[0] == 'win' else None, axis=1).dropna().values)\n",
    "#     success_drow_inds = list(df_predict_drow.apply(lambda x: x.name if x['bets_desc'].split('_')[0] == 'drow' else None, axis=1).dropna().values)\n",
    "#     success_loss_inds = list(df_predict_loss.apply(lambda x: x.name if x['bets_desc'].split('_')[0] == 'loss' else None, axis=1).dropna().values)\n",
    "    \n",
    "#     all_success_win_inds  = all_success_win_inds + success_win_inds\n",
    "#     all_success_drow_inds = all_success_drow_inds + success_drow_inds\n",
    "#     all_success_loss_inds = all_success_loss_inds + success_loss_inds\n",
    "#     print('all_success_win_inds -', len(all_success_win_inds), 'all_success_drow_inds -', len(all_success_drow_inds), 'all_success_loss_inds -', len(all_success_win_inds))"
   ]
  },
  {
   "cell_type": "code",
   "execution_count": null,
   "id": "86c20c9c-a0d3-4d4a-b0b8-1471ea2fdb58",
   "metadata": {},
   "outputs": [],
   "source": [
    "print('count_time_ints   -', df_all_profit_calc.shape[0])\n",
    "print('count_games       -', df_all_profit_calc.win_shp.sum() + df_all_profit_calc.drow_shp.sum() + df_all_profit_calc.loss_shp.sum())\n",
    "print('games_in_time_int -', ((df_all_profit_calc.drow_shp.sum() + df_all_profit_calc.loss_shp.sum()) / df_all_profit_calc.shape[0]).round(2), ' without win')\n",
    "print('perc_win_in_win   -', (df_all_profit_calc.win_prof_in_win.sum() / df_all_profit_calc.win_shp.sum()).round(2), '-', df_all_profit_calc.win_shp.sum(), '-', df_all_profit_calc.win_prof_in_win.sum().round(), '-', 'time_ints -', df_all_profit_calc.perc_win_in_win.count())\n",
    "print('perc_drow_in_drow -', (df_all_profit_calc.drow_prof_in_drow.sum() / df_all_profit_calc.drow_shp.sum()).round(2), '-', df_all_profit_calc.drow_shp.sum(), '-', df_all_profit_calc.drow_prof_in_drow.sum().round(), '-',  'time_ints -', df_all_profit_calc.perc_drow_in_drow.count())\n",
    "print('perc_loss_in_drow -', (df_all_profit_calc.loss_prof_in_drow.sum() / df_all_profit_calc.drow_shp.sum()).round(2), '-', df_all_profit_calc.drow_shp.sum(), '-', df_all_profit_calc.loss_prof_in_drow.sum().round(), '-', 'time_ints -', df_all_profit_calc.perc_loss_in_drow.count())\n",
    "print('perc_drow_in_loss -', (df_all_profit_calc.drow_prof_in_loss.sum() / df_all_profit_calc.loss_shp.sum()).round(2), '-', df_all_profit_calc.loss_shp.sum(), '-', df_all_profit_calc.drow_prof_in_loss.sum().round(), '-', 'time_ints -', df_all_profit_calc.perc_drow_in_loss.count())\n",
    "print('perc_loss_in_loss -', (df_all_profit_calc.loss_prof_in_loss.sum() / df_all_profit_calc.loss_shp.sum()).round(2), '-', df_all_profit_calc.loss_shp.sum(), '-', df_all_profit_calc.loss_prof_in_loss.sum().round(), '-', 'time_ints -', df_all_profit_calc.perc_loss_in_loss.count())\n",
    "print('')\n",
    "print('perc_pre_fora_half_in_drow -', (df_all_profit_calc.pre_fora_half_in_drow.sum() / df_all_profit_calc.drow_shp.sum()).round(2),  '-', df_all_profit_calc.drow_shp.sum(), '-', df_all_profit_calc.pre_fora_half_in_drow.sum().round(), '-', 'time_ints -', df_all_profit_calc.perc_pre_fora_half_in_drow.count())\n",
    "print('perc_pre_fora_half_in_loss -', (df_all_profit_calc.pre_fora_half_in_loss.sum() / df_all_profit_calc.loss_shp.sum()).round(2),  '-', df_all_profit_calc.loss_shp.sum(), '-', df_all_profit_calc.pre_fora_half_in_loss.sum().round(), '-', 'time_ints -', df_all_profit_calc.perc_pre_fora_half_in_loss.count())"
   ]
  },
  {
   "cell_type": "code",
   "execution_count": null,
   "id": "ee34320f-2496-4e52-bc93-3257d2a9ff82",
   "metadata": {},
   "outputs": [],
   "source": [
    "# df_all_profit_calc.head(1000)"
   ]
  },
  {
   "cell_type": "code",
   "execution_count": null,
   "id": "bceb5799-8a5e-42de-9e46-6643e4ffbba6",
   "metadata": {},
   "outputs": [],
   "source": [
    "# cols = ['perc_loss_in_drow', 'perc_loss_in_loss']# 'perc_drow_in_drow',  'perc_drow_in_loss',\n",
    "# df_reserch_cols = df_all_profit_calc[cols].fillna(0)\n",
    "# df_reserch_cols['sum_cols_prof'] = df_reserch_cols[cols].sum(axis=1) - len(cols)\n",
    "# print('sum_cols_prof -', sum(df_all_profit_calc[cols].sum(axis=1) - len(cols)))\n",
    "# df_reserch_cols = df_reserch_cols.merge(df_all_profit_calc[['drow_shp', 'loss_shp', 'loss_prof_in_drow', 'loss_prof_in_loss', 'loss_in_drow', 'loss_in_loss']], how='left', left_index=True, right_index=True)\n",
    "# df_reserch_cols"
   ]
  },
  {
   "cell_type": "code",
   "execution_count": null,
   "id": "04070388-c5e0-48d0-800a-5ee0a42cd17a",
   "metadata": {},
   "outputs": [],
   "source": [
    "print('count_all_bets -', df_all_profit_calc[['drow_shp', 'loss_shp']].sum().sum().round())\n",
    "print('count_access_bets -', df_all_profit_calc[['loss_in_drow', 'loss_in_loss']].sum().sum())\n",
    "print('sum_profit_bets -', df_all_profit_calc[['loss_prof_in_drow', 'loss_prof_in_loss']].sum().sum())"
   ]
  },
  {
   "cell_type": "code",
   "execution_count": null,
   "id": "23c8e25b-6b8a-4e39-92d0-5d95a1650a4b",
   "metadata": {},
   "outputs": [],
   "source": [
    "df_all_profit_calc['sum_profits'] = round(df_all_profit_calc.loss_prof_in_drow + df_all_profit_calc.loss_prof_in_loss, 2)"
   ]
  },
  {
   "cell_type": "code",
   "execution_count": null,
   "id": "63118981-9713-4076-9449-f50220b87988",
   "metadata": {},
   "outputs": [],
   "source": [
    "df_all_profit_calc.shape[0]"
   ]
  },
  {
   "cell_type": "code",
   "execution_count": null,
   "id": "5e417343-60fb-4a53-90cb-06a453587fc2",
   "metadata": {},
   "outputs": [],
   "source": [
    "df_all_profit_calc[df_all_profit_calc.sum_profits > 0].sum_profits.count()"
   ]
  },
  {
   "cell_type": "code",
   "execution_count": null,
   "id": "5db03211-79ac-4b42-bed8-e9e841bcd389",
   "metadata": {},
   "outputs": [],
   "source": [
    "df_all_profit_calc[df_all_profit_calc.sum_profits == 0].sum_profits.count()"
   ]
  },
  {
   "cell_type": "code",
   "execution_count": null,
   "id": "64550f7f-4938-4114-9c32-663ce2c5bac5",
   "metadata": {},
   "outputs": [],
   "source": [
    "df_all_profit_calc[df_all_profit_calc.sum_profits < 0].sum_profits.count()"
   ]
  },
  {
   "cell_type": "code",
   "execution_count": null,
   "id": "890c0353-a767-4b34-b269-bfb6a554f2e2",
   "metadata": {},
   "outputs": [],
   "source": [
    "df_all_profit_calc.head()"
   ]
  },
  {
   "cell_type": "code",
   "execution_count": null,
   "id": "32240a16-eff9-48b2-ace9-ff83bdf8b19c",
   "metadata": {},
   "outputs": [],
   "source": [
    "# 04.2021 - 04.2022 - best results\n",
    "df_all_profit_calc.reset_index().loc[159:].sum_profits.sum()"
   ]
  },
  {
   "cell_type": "code",
   "execution_count": null,
   "id": "280a2788-c4a7-4fb2-b8e9-9b521b04236f",
   "metadata": {},
   "outputs": [],
   "source": [
    "# 04.2021 - 04.2022 - best results\n",
    "df_all_profit_calc[['drow_shp', 'loss_shp', 'loss_in_drow', 'loss_in_loss', 'loss_prof_in_drow', 'loss_prof_in_loss', 'sum_profits']]"
   ]
  },
  {
   "cell_type": "code",
   "execution_count": null,
   "id": "3d07bd52-d392-4990-b4a6-f69227062d62",
   "metadata": {},
   "outputs": [],
   "source": [
    "# Try use only unique time or only not unique time + #############################################################################################################################\n",
    "# Calculate mean difference between att_diffs in exactly predict games +\n",
    "# Time step longs equal one day +\n",
    "# Find more predictable ligues or period or aspects"
   ]
  },
  {
   "cell_type": "code",
   "execution_count": null,
   "id": "34e06afa-060b-489e-b432-45ebf99587a0",
   "metadata": {},
   "outputs": [],
   "source": [
    "cols_pred   = ['game_id', 'game_utc', 'goals', 'f_team', 's_team', 'city', 'bets_desc']\n",
    "cols_league = ['win_att_diff', 'drow_att_diff', 'loss_att_diff', 'fav_win', 'fav_drow', 'fav_loss', 'count_games',]\n",
    "\n",
    "df_drow = df_predict_drow[cols_pred].merge(df_asps_leagues_cp[cols_league], how='left', left_index=True, right_index=True)\n",
    "df_drow[['win_att_diff', 'drow_att_diff', 'loss_att_diff']] = df_drow[['win_att_diff', 'drow_att_diff', 'loss_att_diff']].round(2)\n",
    "# df_drow"
   ]
  },
  {
   "cell_type": "code",
   "execution_count": null,
   "id": "b525e0cf-5994-4cab-9e53-8741baa0faaa",
   "metadata": {},
   "outputs": [],
   "source": [
    "# df_asps_leagues_cp[df_asps_leagues_cp.index.isin(drow_top_inds)]"
   ]
  },
  {
   "cell_type": "code",
   "execution_count": null,
   "id": "1d1660a1-1538-4b60-8ae6-a5947ac6951d",
   "metadata": {},
   "outputs": [],
   "source": []
  },
  {
   "cell_type": "code",
   "execution_count": null,
   "id": "0acdcce7-08ef-4276-a0c1-e7ffcb6f0395",
   "metadata": {},
   "outputs": [],
   "source": []
  },
  {
   "cell_type": "code",
   "execution_count": null,
   "id": "73a4498d-7af6-42db-aae4-109d5f71979d",
   "metadata": {},
   "outputs": [],
   "source": []
  },
  {
   "cell_type": "code",
   "execution_count": null,
   "id": "55fa492a-5266-4b45-ae8a-67a6a06521c9",
   "metadata": {},
   "outputs": [],
   "source": []
  },
  {
   "cell_type": "code",
   "execution_count": null,
   "id": "c5d61bf1-4f11-4f26-8be1-8e16ef28ddaa",
   "metadata": {},
   "outputs": [],
   "source": []
  },
  {
   "cell_type": "code",
   "execution_count": null,
   "id": "847d1301-5fc5-4674-9def-9a5c63790c99",
   "metadata": {},
   "outputs": [],
   "source": []
  },
  {
   "cell_type": "code",
   "execution_count": null,
   "id": "dd99fdd5-0b96-43b6-ab53-218cd339cceb",
   "metadata": {},
   "outputs": [],
   "source": []
  },
  {
   "cell_type": "code",
   "execution_count": null,
   "id": "414526d8-6fac-428b-9cc3-b05a4e9c149b",
   "metadata": {},
   "outputs": [],
   "source": []
  },
  {
   "cell_type": "code",
   "execution_count": null,
   "id": "efa1b064-c4bc-4934-a641-b71ec6739053",
   "metadata": {},
   "outputs": [],
   "source": []
  },
  {
   "cell_type": "code",
   "execution_count": null,
   "id": "576e39d0-72cb-45de-b8d9-f83bd29f06be",
   "metadata": {},
   "outputs": [],
   "source": []
  },
  {
   "cell_type": "code",
   "execution_count": null,
   "id": "d731568a-9754-411c-862f-c031374343c8",
   "metadata": {},
   "outputs": [],
   "source": []
  },
  {
   "cell_type": "code",
   "execution_count": null,
   "id": "4ef7e584-c652-4724-9d37-fa3a2419ed32",
   "metadata": {},
   "outputs": [],
   "source": []
  },
  {
   "cell_type": "code",
   "execution_count": null,
   "id": "dea00a11-14e7-41e1-8513-02b7a44e7527",
   "metadata": {},
   "outputs": [],
   "source": [
    "Stop *****************************************************************************************************"
   ]
  },
  {
   "cell_type": "code",
   "execution_count": null,
   "id": "c2a9beb3-a835-48ab-9a8a-b615d07cf9b4",
   "metadata": {},
   "outputs": [],
   "source": [
    "with open('pickle_files/aspected_files/df_aspect_stat_03_04_2024', 'rb') as f:\n",
    "    df_aspect_stat = pickle.load(f)  "
   ]
  },
  {
   "cell_type": "code",
   "execution_count": null,
   "id": "5d5ca133-03d3-4ce9-a905-5f125069ffa5",
   "metadata": {},
   "outputs": [],
   "source": [
    "print('shape -', df_aspect_stat.shape[0])\n",
    "df_aspect_stat.head()"
   ]
  },
  {
   "cell_type": "code",
   "execution_count": null,
   "id": "a873ddd6-ec78-4622-963a-70d4d8180126",
   "metadata": {},
   "outputs": [],
   "source": [
    "df_aspect_stat[df_aspect_stat.count_asps == 4].sort_values(by='mean_diff_loss_home', ascending=False).head()"
   ]
  },
  {
   "cell_type": "code",
   "execution_count": null,
   "id": "5090465a-169e-43bd-90e2-ee2e747f0203",
   "metadata": {},
   "outputs": [],
   "source": [
    "# df_aspect_stat.fs_asps_wt_pls_lt = df_aspect_stat.fs_asps_wt_pls_lt.map(literal_eval)\n",
    "df_aspect_stat.fs_asps_wt_pls_lt = df_aspect_stat.fs_asps_wt_pls_lt.map(lambda x: sorted(x))"
   ]
  },
  {
   "cell_type": "code",
   "execution_count": null,
   "id": "f4180fc7-2740-4a15-9edc-e519113cf2b4",
   "metadata": {},
   "outputs": [],
   "source": [
    "# df_aspect_stat[df_aspect_stat.count_home > 5].sort_values(by='mean_diff_win_home', ascending=False).tail(1)"
   ]
  },
  {
   "cell_type": "code",
   "execution_count": null,
   "id": "71512d24-0c2a-42c2-848a-ecc756bce668",
   "metadata": {},
   "outputs": [],
   "source": [
    "print('shape -', df_main_asps.shape[0])\n",
    "df_main_asps.head(3)"
   ]
  },
  {
   "cell_type": "code",
   "execution_count": null,
   "id": "2361ac65-b9a0-4228-b01c-b2528df5588d",
   "metadata": {},
   "outputs": [],
   "source": [
    "df_main_asps_gb = df_main_asps.groupby('game_id').fs_asps_wt_pls.agg(list)\n",
    "print('shape -', df_main_asps_gb.shape[0])\n",
    "df_main_asps_gb.head(2)"
   ]
  },
  {
   "cell_type": "code",
   "execution_count": null,
   "id": "1b3ca85d-694a-47f3-a6cb-f0f8605a652a",
   "metadata": {},
   "outputs": [],
   "source": [
    "cols_merge = ['game_id'] + df_main_asps.columns[-6:].to_list() + ['game_utc', '1', 'X', '2']\n",
    "df_main_asps_uniq = df_main_asps.drop_duplicates(subset='game_id')\n",
    "df_main_asps_gb = pd.merge(df_main_asps_gb, df_main_asps_uniq[cols_merge], how='left', left_index=True, right_on='game_id').set_index(keys='game_id')"
   ]
  },
  {
   "cell_type": "code",
   "execution_count": null,
   "id": "5df38f03-1379-4555-88b2-15e913e84128",
   "metadata": {},
   "outputs": [],
   "source": [
    "df_main_asps_gb.head(2)"
   ]
  },
  {
   "cell_type": "code",
   "execution_count": null,
   "id": "f1b08c15-abd9-49f6-b187-9a582539dfb0",
   "metadata": {},
   "outputs": [],
   "source": [
    "df_main_asps_gb.fs_asps_wt_pls = df_main_asps_gb.fs_asps_wt_pls.map(lambda x: sorted(x))"
   ]
  },
  {
   "cell_type": "code",
   "execution_count": null,
   "id": "a73e6021-79d4-402a-b25e-5d5cc5883b2c",
   "metadata": {},
   "outputs": [],
   "source": [
    "matched_asps_lt = list()\n",
    "_ = df_main_asps_gb.fs_asps_wt_pls.map(lambda x: matched_asps_lt.append(x) if x in df_aspect_stat.fs_asps_wt_pls_lt.to_list() else None)"
   ]
  },
  {
   "cell_type": "code",
   "execution_count": null,
   "id": "c11b3f1c-d45b-4296-a73e-ff381c0d5877",
   "metadata": {},
   "outputs": [],
   "source": [
    "print('len -', len(matched_asps_lt))\n",
    "matched_asps_lt[:3]"
   ]
  },
  {
   "cell_type": "code",
   "execution_count": null,
   "id": "1b0d050c-b799-4392-878c-55203723babf",
   "metadata": {},
   "outputs": [],
   "source": [
    "df_aspect_stat[df_aspect_stat.fs_asps_wt_pls_lt.isin(matched_asps_lt)].head()"
   ]
  },
  {
   "cell_type": "code",
   "execution_count": null,
   "id": "d01c15ac-a6c6-4406-85d7-262802933218",
   "metadata": {},
   "outputs": [],
   "source": [
    "# Stop ***********************************"
   ]
  },
  {
   "cell_type": "code",
   "execution_count": null,
   "id": "cd4234e3-360f-45e9-9faa-ee9e6c736ece",
   "metadata": {},
   "outputs": [],
   "source": [
    "df_aspect_stat.tail(2)"
   ]
  },
  {
   "cell_type": "code",
   "execution_count": null,
   "id": "c623914b-80aa-4cca-a7c2-ddd4d655726a",
   "metadata": {},
   "outputs": [],
   "source": [
    "# Devide aspect list to counts\n",
    "cols = ['mean_diff_win_home', 'mean_diff_drow_home', 'mean_diff_loss_home', 'mean_diff_win_away', 'mean_diff_drow_away', 'mean_diff_loss_away']\n",
    "\n",
    "for col in cols:\n",
    "    two_cols = ['count_asps', col]\n",
    "    df_aspect_stat[col] = df_aspect_stat[two_cols].apply(lambda x: x[1]/x[0], axis=1)"
   ]
  },
  {
   "cell_type": "code",
   "execution_count": null,
   "id": "267527e7-4344-4bc7-99ae-4c409126e5af",
   "metadata": {},
   "outputs": [],
   "source": [
    "df_aspect_stat.tail(2)"
   ]
  },
  {
   "cell_type": "code",
   "execution_count": null,
   "id": "966a7c2a-2de8-4024-b6aa-267a35aa0ba5",
   "metadata": {},
   "outputs": [],
   "source": [
    "unique_asps_lt = list()\n",
    "\n",
    "_= df_aspect_stat.fs_asps_wt_pls_lt.map(lambda x: [unique_asps_lt.append(asp) for asp in x])"
   ]
  },
  {
   "cell_type": "code",
   "execution_count": null,
   "id": "64aac15f-7b28-4ece-81b5-e678dbfe7685",
   "metadata": {},
   "outputs": [],
   "source": [
    "print('len -', len(unique_asps_lt))\n",
    "unique_asps_lt = list(set(unique_asps_lt))\n",
    "print('len -', len(unique_asps_lt))\n",
    "unique_asps_lt[:3]"
   ]
  },
  {
   "cell_type": "code",
   "execution_count": null,
   "id": "d984d686-11ce-4f4e-b0b9-01698784b7e2",
   "metadata": {},
   "outputs": [],
   "source": [
    "full_unique_asps_lt = list()\n",
    "\n",
    "cols =  ['count_home', 'home_res', 'mean_diff_win_home', 'mean_diff_drow_home', 'mean_diff_loss_home', 'count_away', 'away_res', 'mean_diff_win_away', 'mean_diff_drow_away', 'mean_diff_loss_away']\n",
    "\n",
    "for asp in unique_asps_lt: \n",
    "    all_unique_asps_dc = {}\n",
    "    \n",
    "    for col in cols:\n",
    "        cols_pair = ['fs_asps_wt_pls_lt', col]\n",
    "        \n",
    "        if df_aspect_stat[col].dtype == 'int64':\n",
    "            unique_asps_dc = {'aspect': asp, col: df_aspect_stat[cols_pair].apply(lambda x: x[1] if asp in x[0] else None, axis=1).sum().astype(int)}      \n",
    "        \n",
    "        if df_aspect_stat[col].dtype == 'float64':\n",
    "            unique_asps_dc = {'aspect': asp, col: round(df_aspect_stat[cols_pair].apply(lambda x: x[1] if asp in x[0] else None, axis=1).sum(), 3)}  \n",
    "        \n",
    "        elif df_aspect_stat[col].dtype == 'O':\n",
    "            count_lt = [df_aspect_stat[cols_pair].apply(lambda x: x[1][0] if asp in x[0] else None, axis=1).sum().astype(int), \n",
    "                        df_aspect_stat[cols_pair].apply(lambda x: x[1][1] if asp in x[0] else None, axis=1).sum().astype(int), \n",
    "                        df_aspect_stat[cols_pair].apply(lambda x: x[1][2] if asp in x[0] else None, axis=1).sum().astype(int)]\n",
    "            \n",
    "            unique_asps_dc = {'aspect': asp, col: count_lt}\n",
    "    \n",
    "        all_unique_asps_dc.update(unique_asps_dc)   \n",
    "    full_unique_asps_lt.append(all_unique_asps_dc)"
   ]
  },
  {
   "cell_type": "code",
   "execution_count": null,
   "id": "61d07480-1ba7-47d4-bbdb-cbb89499b165",
   "metadata": {},
   "outputs": [],
   "source": [
    "df_full_unique_asps = pd.DataFrame.from_dict(full_unique_asps_lt)\n",
    "print('shape -', df_full_unique_asps.shape[0])\n",
    "df_full_unique_asps.tail(3)"
   ]
  },
  {
   "cell_type": "code",
   "execution_count": null,
   "id": "ce325d88-17ad-47db-82f4-dd92633a01f3",
   "metadata": {},
   "outputs": [],
   "source": [
    "df_all_games_asps_rate = pd.DataFrame()\n",
    "\n",
    "for ind in range(0, df_main_asps_gb.shape[0]):\n",
    "    \n",
    "    df_game_asps = pd.DataFrame()\n",
    "\n",
    "    for asp in  df_main_asps_gb.fs_asps_wt_pls[ind]:\n",
    "        # if asp in df_aspect_stat.fs_asps_wt_pls_lt.values.tolist():\n",
    "        if asp in df_full_unique_asps.aspect.tolist():\n",
    "\n",
    "            if df_main_asps_gb.iloc[ind].host_role == 'Fav':\n",
    "                cols_stat = ['mean_diff_win_home', 'mean_diff_drow_home', 'mean_diff_loss_home']\n",
    "            else:\n",
    "                cols_stat = ['mean_diff_win_away', 'mean_diff_drow_away', 'mean_diff_loss_away']\n",
    "\n",
    "            # df_one_asp = pd.DataFrame(df_aspect_stat[df_aspect_stat.fs_asps_wt_pls_lt == asp][cols_stat])\n",
    "            df_one_asp = pd.DataFrame(df_full_unique_asps[df_full_unique_asps.aspect == asp][cols_stat])\n",
    "            df_one_asp['aspect'] = asp\n",
    "\n",
    "            df_game_asps = pd.concat([df_game_asps, df_one_asp])\n",
    "\n",
    "        else:\n",
    "            continue\n",
    "\n",
    "        df_game_asps_rate = df_game_asps[cols_stat].apply(sum).to_frame().T\n",
    "\n",
    "        df_game_asps_rate['aspects']  = str(df_game_asps.aspect.to_list())\n",
    "        df_game_asps_rate['game_id']  = df_main_asps_gb.iloc[ind].name\n",
    "\n",
    "        df_game_asps_rate.set_index(keys='game_id', inplace=True)\n",
    "    \n",
    "    df_all_games_asps_rate = pd.concat([df_all_games_asps_rate, df_game_asps_rate])    "
   ]
  },
  {
   "cell_type": "code",
   "execution_count": null,
   "id": "d08d03ac-5237-4b9f-939a-502601c47e9e",
   "metadata": {},
   "outputs": [],
   "source": [
    "df_main_asps_gb.head(1)"
   ]
  },
  {
   "cell_type": "code",
   "execution_count": null,
   "id": "05736c0c-c126-43e5-9d1b-85ff899936e3",
   "metadata": {},
   "outputs": [],
   "source": [
    "df_main_asps_gb['fav_advantage'] = df_main_asps_gb[['1', '2']].apply(lambda x: x[0]/x[1] if x[0] > x[1] else x[1]/x[0], axis=1).round(2)"
   ]
  },
  {
   "cell_type": "code",
   "execution_count": null,
   "id": "bcdb7e15-fdcf-4c26-9885-105a2c3f8987",
   "metadata": {},
   "outputs": [],
   "source": [
    "cols = ['game_utc', 'host_role', 'result', 'fav_goals',\t'1', 'X', '2', 'fav_advantage', 'win_bets',\t'drow_bets', 'loss_bets']\n",
    "\n",
    "df_rate = df_all_games_asps_rate.merge(df_main_asps_gb[cols], how='left', left_index=True, right_index=True)\n",
    "# df_rate.head(3)"
   ]
  },
  {
   "cell_type": "code",
   "execution_count": null,
   "id": "fa03347c-e291-4b19-905b-8f744065878b",
   "metadata": {},
   "outputs": [],
   "source": [
    "# advantage = 2\n",
    "\n",
    "df_rate_home = df_rate[~df_rate.mean_diff_win_home.isna()].copy()\n",
    "df_rate_home.drop(columns=['mean_diff_win_away', 'mean_diff_drow_away', 'mean_diff_loss_away'], inplace=True)\n",
    "print('shape home -', df_rate_home.shape[0])\n",
    "# df_rate_home = df_rate_home[df_rate_home.fav_advantage < advantage].copy()\n",
    "# print('shape home -', df_rate_home.shape[0])"
   ]
  },
  {
   "cell_type": "code",
   "execution_count": null,
   "id": "8be13e24-c4d2-4cd5-a52d-51b7ca1e129a",
   "metadata": {},
   "outputs": [],
   "source": [
    "df_rate_away = df_rate[~df_rate.mean_diff_win_away.isna()].copy()\n",
    "df_rate_away.drop(columns=['mean_diff_win_home', 'mean_diff_drow_home', 'mean_diff_loss_home'], inplace=True)\n",
    "print('shape away -', df_rate_away.shape[0])\n",
    "# df_rate_away = df_rate_away[df_rate_away.fav_advantage < advantage].copy()\n",
    "# print('shape away -', df_rate_away.shape[0])"
   ]
  },
  {
   "cell_type": "code",
   "execution_count": null,
   "id": "dfcc7b6f-d594-4e43-9270-8b2ee135afdd",
   "metadata": {},
   "outputs": [],
   "source": [
    "# cnt_asps = 5\n",
    "\n",
    "# # df_rate_home = df_rate[~df_rate.mean_diff_win_home.isna()].copy()\n",
    "# # df_rate_home.drop(columns=['mean_diff_win_away', 'mean_diff_drow_away', 'mean_diff_loss_away'], inplace=True)\n",
    "# print('shape home -', df_rate_home.shape[0])\n",
    "# df_rate_home = df_rate_home[df_rate_home.aspects.map(lambda x: len(literal_eval(x))) <= cnt_asps].copy()\n",
    "# print('shape home -', df_rate_home.shape[0])"
   ]
  },
  {
   "cell_type": "code",
   "execution_count": null,
   "id": "7fab48bd-9d17-4816-a328-1565127b55c5",
   "metadata": {},
   "outputs": [],
   "source": [
    "# df_rate_away = df_rate[~df_rate.mean_diff_win_away.isna()].copy()\n",
    "# df_rate_away.drop(columns=['mean_diff_win_home', 'mean_diff_drow_home', 'mean_diff_loss_home'], inplace=True)\n",
    "# print('shape away -', df_rate_away.shape[0])\n",
    "# df_rate_away = df_rate_away[df_rate_away.aspects.map(lambda x: len(literal_eval(x))) <= cnt_asps].copy()\n",
    "# print('shape away -', df_rate_away.shape[0])"
   ]
  },
  {
   "cell_type": "code",
   "execution_count": null,
   "id": "da7ee98b-949a-4828-ae91-8f37b94272ca",
   "metadata": {},
   "outputs": [],
   "source": [
    "# df_rate_away"
   ]
  },
  {
   "cell_type": "code",
   "execution_count": null,
   "id": "5088b97a-edb2-4307-be54-3152434c33f9",
   "metadata": {},
   "outputs": [],
   "source": [
    "mult_val = 1.5\n",
    "\n",
    "def stat_result_twice_win_more_drow_plus_loss(fav_win: int,  fav_drow: int, fav_loss: int):\n",
    "    if int(fav_win) * mult_val  > (int(fav_drow) + int(fav_loss)):    \n",
    "        return 'fav_win'\n",
    "    elif int(fav_drow) > int(fav_loss):\n",
    "        return 'fav_drow'\n",
    "    else:\n",
    "        return 'fav_loss'\n",
    "\n",
    "def stat_result_twice_win_more_drow_or_loss(fav_win: int,  fav_drow: int, fav_loss: int):\n",
    "    if int(fav_win) * mult_val > int(fav_drow) and int(fav_win) * mult_val > int(fav_loss):\n",
    "        return 'fav_win'\n",
    "    elif int(fav_drow) > int(fav_loss):\n",
    "        return 'fav_drow'\n",
    "    else:\n",
    "        return 'fav_loss'\n",
    "\n",
    "def stat_result_twice_win_more_drow_or_loss_without_drow(fav_win: int, fav_drow: int, fav_loss: int):\n",
    "    if int(fav_win) * mult_val > int(fav_drow) and int(fav_win) * mult_val > int(fav_loss):\n",
    "        return 'fav_win'\n",
    "    else:\n",
    "        return 'fav_loss'    \n",
    "\n",
    "\n",
    "def stat_result_twice_win_more_drow_plus_loss_without_drow(fav_win: int, fav_drow: int, fav_loss: int):\n",
    "    if int(fav_win) * mult_val > int(fav_drow) + int(fav_loss):\n",
    "        return 'fav_win'\n",
    "    else:\n",
    "        return 'fav_loss'    \n",
    "\n",
    "def stat_result_win_more_drow_or_loss_without_loss(fav_win: int, fav_drow: int, fav_loss: int):\n",
    "    if int(fav_win) > int(fav_drow) and int(fav_win) > int(fav_loss):\n",
    "        return 'fav_win'\n",
    "    else:\n",
    "        return 'fav_drow'          \n",
    "    \n",
    "def stat_result_twice_win_more_drow_or_loss_without_loss(fav_win: int, fav_drow: int, fav_loss: int):\n",
    "    if int(fav_win) * mult_val > int(fav_drow) and int(fav_win) * mult_val > int(fav_loss):\n",
    "        return 'fav_win'\n",
    "    else:\n",
    "        return 'fav_drow'      \n",
    "       \n",
    "def stat_result_only_drow_or_win_and_drow_more_twice_win_or_loss(fav_win: int, fav_drow: int, fav_loss: int):\n",
    "    if int(fav_drow) > int(fav_win) * mult_val and int(fav_drow) > int(fav_loss):\n",
    "        return 'fav_drow'\n",
    "    else:\n",
    "        return 'fav_win_loss'\n",
    "\n",
    "def stat_result_only_drow_or_win_and_drow_more_twice_win_plus_loss(fav_win: int, fav_drow: int, fav_loss: int):\n",
    "    if int(fav_drow) > int(fav_win) * mult_val + int(fav_loss):\n",
    "        return 'fav_drow'\n",
    "    else:\n",
    "        return 'fav_win_loss'    "
   ]
  },
  {
   "cell_type": "code",
   "execution_count": null,
   "id": "d25e0a13-3685-4cda-a443-ab972fe1f49e",
   "metadata": {},
   "outputs": [],
   "source": [
    "# Stat each aspect rate \n",
    "\n",
    "df_rate_home['home_w_more_d_plus_l_res'] = df_rate_home[['mean_diff_win_home', 'mean_diff_drow_home', 'mean_diff_loss_home']].apply(lambda x: sdp.stat_result_win_more_drow_plus_loss(x[0], x[1], x[2]), axis=1)\n",
    "df_rate_away['away_w_more_d_plus_l_res'] = df_rate_away[['mean_diff_win_away', 'mean_diff_drow_away', 'mean_diff_loss_away']].apply(lambda x: sdp.stat_result_win_more_drow_plus_loss(x[0], x[1], x[2]), axis=1)\n",
    "\n",
    "df_rate_home['home_w_more_d_or_l_res'] = df_rate_home[['mean_diff_win_home', 'mean_diff_drow_home', 'mean_diff_loss_home']].apply(lambda x: sdp.stat_result_win_more_drow_or_loss(x[0], x[1], x[2]), axis=1)\n",
    "df_rate_away['away_w_more_d_or_l_res'] = df_rate_away[['mean_diff_win_away', 'mean_diff_drow_away', 'mean_diff_loss_away']].apply(lambda x: sdp.stat_result_win_more_drow_or_loss(x[0], x[1], x[2]), axis=1)\n",
    "\n",
    "df_rate_home['home_w_more_d_or_l_wt_drow_res'] = df_rate_home[['mean_diff_win_home', 'mean_diff_drow_home', 'mean_diff_loss_home']].apply(lambda x: sdp.stat_result_win_more_drow_or_loss_without_drow(x[0], x[1], x[2]), axis=1)\n",
    "df_rate_away['away_w_more_d_or_l_wt_drow_res'] = df_rate_away[['mean_diff_win_away', 'mean_diff_drow_away', 'mean_diff_loss_away']].apply(lambda x: sdp.stat_result_win_more_drow_or_loss_without_drow(x[0], x[1], x[2]), axis=1)\n",
    "\n",
    "df_rate_home['home_w_more_d_plus_l_wt_drow_res'] = df_rate_home[['mean_diff_win_home', 'mean_diff_drow_home', 'mean_diff_loss_home']].apply(lambda x: sdp.stat_result_win_more_drow_plus_loss_without_drow(x[0], x[1], x[2]), axis=1)\n",
    "df_rate_away['away_w_more_d_plus_l_wt_drow_res'] = df_rate_away[['mean_diff_win_away', 'mean_diff_drow_away', 'mean_diff_loss_away']].apply(lambda x: sdp.stat_result_win_more_drow_plus_loss_without_drow(x[0], x[1], x[2]), axis=1)\n",
    "\n",
    "df_rate_home['home_w_more_d_or_l_wt_loss_res'] = df_rate_home[['mean_diff_win_home', 'mean_diff_drow_home', 'mean_diff_loss_home']].apply(lambda x: stat_result_win_more_drow_or_loss_without_loss(x[0], x[1], x[2]), axis=1)\n",
    "df_rate_away['away_w_more_d_or_l_wt_loss_res'] = df_rate_away[['mean_diff_win_away', 'mean_diff_drow_away', 'mean_diff_loss_away']].apply(lambda x: stat_result_win_more_drow_or_loss_without_loss(x[0], x[1], x[2]), axis=1)\n",
    "\n",
    "df_rate_home['home_only_d_or_w_and_d_more_w_or_l_res'] = df_rate_home[['mean_diff_win_home', 'mean_diff_drow_home', 'mean_diff_loss_home']].apply(lambda x: sdp.stat_result_only_drow_or_win_and_drow_more_win_or_loss(x[0], x[1], x[2]), axis=1)\n",
    "df_rate_away['away_only_d_or_w_and_d_more_w_or_l_res'] = df_rate_away[['mean_diff_win_away', 'mean_diff_drow_away', 'mean_diff_loss_away']].apply(lambda x: sdp.stat_result_only_drow_or_win_and_drow_more_win_or_loss(x[0], x[1], x[2]), axis=1)\n",
    "\n",
    "df_rate_home['home_only_d_or_w_and_d_more_w_plus_l_res'] = df_rate_home[['mean_diff_win_home', 'mean_diff_drow_home', 'mean_diff_loss_home']].apply(lambda x: sdp.stat_result_only_drow_or_win_and_drow_more_win_plus_loss(x[0], x[1], x[2]), axis=1)\n",
    "df_rate_away['away_only_d_or_w_and_d_more_w_plus_l_res'] = df_rate_away[['mean_diff_win_away', 'mean_diff_drow_away', 'mean_diff_loss_away']].apply(lambda x: sdp.stat_result_only_drow_or_win_and_drow_more_win_plus_loss(x[0], x[1], x[2]), axis=1)\n",
    "\n",
    "res_cols_lt_fst = ['home_w_more_d_plus_l_res', 'away_w_more_d_plus_l_res', 'home_w_more_d_or_l_res', 'away_w_more_d_or_l_res', 'home_w_more_d_or_l_wt_drow_res',\n",
    "                   'away_w_more_d_or_l_wt_drow_res', 'home_w_more_d_plus_l_wt_drow_res', 'away_w_more_d_plus_l_wt_drow_res', 'home_w_more_d_or_l_wt_loss_res', 'away_w_more_d_or_l_wt_loss_res']\n",
    "\n",
    "df_rate_home['home_tw_more_d_plus_l_res'] = df_rate_home[['mean_diff_win_home', 'mean_diff_drow_home', 'mean_diff_loss_home']].apply(lambda x: stat_result_twice_win_more_drow_plus_loss(x[0], x[1], x[2]), axis=1)\n",
    "df_rate_away['away_tw_more_d_plus_l_res'] = df_rate_away[['mean_diff_win_away', 'mean_diff_drow_away', 'mean_diff_loss_away']].apply(lambda x: stat_result_twice_win_more_drow_plus_loss(x[0], x[1], x[2]), axis=1)\n",
    "\n",
    "df_rate_home['home_tw_more_d_or_l_res'] = df_rate_home[['mean_diff_win_home', 'mean_diff_drow_home', 'mean_diff_loss_home']].apply(lambda x: stat_result_twice_win_more_drow_or_loss(x[0], x[1], x[2]), axis=1)\n",
    "df_rate_away['away_tw_more_d_or_l_res'] = df_rate_away[['mean_diff_win_away', 'mean_diff_drow_away', 'mean_diff_loss_away']].apply(lambda x: stat_result_twice_win_more_drow_or_loss(x[0], x[1], x[2]), axis=1)\n",
    "\n",
    "df_rate_home['home_tw_more_d_or_l_wt_drow_res'] = df_rate_home[['mean_diff_win_home', 'mean_diff_drow_home', 'mean_diff_loss_home']].apply(lambda x: stat_result_twice_win_more_drow_or_loss_without_drow(x[0], x[1], x[2]), axis=1)\n",
    "df_rate_away['away_tw_more_d_or_l_wt_drow_res'] = df_rate_away[['mean_diff_win_away', 'mean_diff_drow_away', 'mean_diff_loss_away']].apply(lambda x: stat_result_twice_win_more_drow_or_loss_without_drow(x[0], x[1], x[2]), axis=1)\n",
    "\n",
    "df_rate_home['home_tw_more_d_plus_l_wt_drow_res'] = df_rate_home[['mean_diff_win_home', 'mean_diff_drow_home', 'mean_diff_loss_home']].apply(lambda x: stat_result_twice_win_more_drow_plus_loss_without_drow(x[0], x[1], x[2]), axis=1)\n",
    "df_rate_away['away_tw_more_d_plus_l_wt_drow_res'] = df_rate_away[['mean_diff_win_away', 'mean_diff_drow_away', 'mean_diff_loss_away']].apply(lambda x: stat_result_twice_win_more_drow_plus_loss_without_drow(x[0], x[1], x[2]), axis=1)\n",
    "\n",
    "df_rate_home['home_tw_more_d_or_l_wt_loss_res'] = df_rate_home[['mean_diff_win_home', 'mean_diff_drow_home', 'mean_diff_loss_home']].apply(lambda x: stat_result_twice_win_more_drow_or_loss_without_loss(x[0], x[1], x[2]), axis=1)\n",
    "df_rate_away['away_tw_more_d_or_l_wt_loss_res'] = df_rate_away[['mean_diff_win_away', 'mean_diff_drow_away', 'mean_diff_loss_away']].apply(lambda x: stat_result_twice_win_more_drow_or_loss_without_loss(x[0], x[1], x[2]), axis=1)\n",
    "\n",
    "df_rate_home['home_only_d_or_w_and_d_more_tw_or_l_res'] = df_rate_home[['mean_diff_win_home', 'mean_diff_drow_home', 'mean_diff_loss_home']].apply(lambda x: stat_result_only_drow_or_win_and_drow_more_twice_win_or_loss(x[0], x[1], x[2]), axis=1)\n",
    "df_rate_away['away_only_d_or_w_and_d_more_tw_or_l_res'] = df_rate_away[['mean_diff_win_away', 'mean_diff_drow_away', 'mean_diff_loss_away']].apply(lambda x: stat_result_only_drow_or_win_and_drow_more_twice_win_or_loss(x[0], x[1], x[2]), axis=1)\n",
    "\n",
    "df_rate_home['home_only_d_or_w_and_d_more_tw_plus_l_res'] = df_rate_home[['mean_diff_win_home', 'mean_diff_drow_home', 'mean_diff_loss_home']].apply(lambda x: stat_result_only_drow_or_win_and_drow_more_twice_win_plus_loss(x[0], x[1], x[2]), axis=1)\n",
    "df_rate_away['away_only_d_or_w_and_d_more_tw_plus_l_res'] = df_rate_away[['mean_diff_win_away', 'mean_diff_drow_away', 'mean_diff_loss_away']].apply(lambda x: stat_result_only_drow_or_win_and_drow_more_twice_win_plus_loss(x[0], x[1], x[2]), axis=1)\n",
    "\n",
    "res_cols_lt = ['home_tw_more_d_plus_l_res', 'away_tw_more_d_plus_l_res', 'home_tw_more_d_or_l_res', 'away_tw_more_d_or_l_res','home_tw_more_d_or_l_wt_drow_res', 'away_tw_more_d_or_l_wt_drow_res', \n",
    "               'home_tw_more_d_plus_l_wt_drow_res', 'away_tw_more_d_plus_l_wt_drow_res', 'home_tw_more_d_or_l_wt_loss_res', 'away_tw_more_d_or_l_wt_loss_res'] + res_cols_lt_fst\n",
    "\n",
    "for fora in [-1.5, -1.25, -1, -0.75, None, -0.25, 0, 0.25, 0.5, 0.75, 1, 1.25, 1.5]:\n",
    "    for res_col in res_cols_lt:\n",
    "        col_name_bet = re.sub('res', 'bet', str(res_col))\n",
    "        col_name = col_name_bet + '_' + str(fora)\n",
    "        if res_col in df_rate_home.columns:\n",
    "            df_rate_home[col_name] = df_rate_home[['host_role', 'result', res_col, '1', 'X', '2', 'fav_goals']].apply(lambda x: sdp.bets_fora_result(x[0], x[1], x[2], x[3], x[4], x[5], x[6], fora), axis =1)\n",
    "        elif res_col in df_rate_away.columns:\n",
    "            df_rate_away[col_name] = df_rate_away[['host_role', 'result', res_col, '1', 'X', '2', 'fav_goals']].apply(lambda x: sdp.bets_fora_result(x[0], x[1], x[2], x[3], x[4], x[5], x[6], fora), axis =1)    \n",
    "\n",
    "df_rate_home['home_only_d_or_w_and_d_more_w_or_l_bets']   = df_rate_home[['result', 'home_only_d_or_w_and_d_more_w_or_l_res', 'X']].apply(lambda x: sdp.only_win_or_drow_bets_result(x[0], x[1], x[2]), axis =1)\n",
    "df_rate_away['away_only_d_or_w_and_d_more_w_or_l_bets']   = df_rate_away[['result', 'away_only_d_or_w_and_d_more_w_or_l_res', 'X']].apply(lambda x: sdp.only_win_or_drow_bets_result(x[0], x[1], x[2]), axis =1)\n",
    "df_rate_home['home_only_d_or_w_and_d_more_w_plus_l_bets'] = df_rate_home[['result', 'home_only_d_or_w_and_d_more_w_plus_l_res', 'X']].apply(lambda x: sdp.only_win_or_drow_bets_result(x[0], x[1], x[2]), axis =1)\n",
    "df_rate_away['away_only_d_or_w_and_d_more_w_plus_l_bets'] = df_rate_away[['result', 'away_only_d_or_w_and_d_more_w_plus_l_res', 'X']].apply(lambda x: sdp.only_win_or_drow_bets_result(x[0], x[1], x[2]), axis =1)\n",
    "\n",
    "df_rate_home['home_only_d_or_w_and_d_more_tw_or_l_bets']   = df_rate_home[['result', 'home_only_d_or_w_and_d_more_tw_or_l_res', 'X']].apply(lambda x: sdp.only_win_or_drow_bets_result(x[0], x[1], x[2]), axis =1)\n",
    "df_rate_away['away_only_d_or_w_and_d_more_tw_or_l_bets']   = df_rate_away[['result', 'away_only_d_or_w_and_d_more_tw_or_l_res', 'X']].apply(lambda x: sdp.only_win_or_drow_bets_result(x[0], x[1], x[2]), axis =1)\n",
    "df_rate_home['home_only_d_or_w_and_d_more_tw_plus_l_bets'] = df_rate_home[['result', 'home_only_d_or_w_and_d_more_tw_plus_l_res', 'X']].apply(lambda x: sdp.only_win_or_drow_bets_result(x[0], x[1], x[2]), axis =1)\n",
    "df_rate_away['away_only_d_or_w_and_d_more_tw_plus_l_bets'] = df_rate_away[['result', 'away_only_d_or_w_and_d_more_tw_plus_l_res', 'X']].apply(lambda x: sdp.only_win_or_drow_bets_result(x[0], x[1], x[2]), axis =1)"
   ]
  },
  {
   "cell_type": "code",
   "execution_count": null,
   "id": "83a3fc18-0915-4063-99ac-5dc4b07aa2e9",
   "metadata": {},
   "outputs": [],
   "source": [
    "print('len columns -', len(df_rate_away.columns))"
   ]
  },
  {
   "cell_type": "code",
   "execution_count": null,
   "id": "e848dd4e-79c9-4e93-8bed-27ac8863cc40",
   "metadata": {},
   "outputs": [],
   "source": [
    "bet_cols_home          = [x for x in df_rate_home.columns if 'bet' in x]\n",
    "df_rate_home[bet_cols_home] = df_rate_home[bet_cols_home].apply(lambda x: pd.to_numeric(x, errors='coerce'), axis=1)\n",
    "\n",
    "bet_cols_away          = [x for x in df_rate_away.columns if 'bet' in x]\n",
    "df_rate_away[bet_cols_away] = df_rate_away[bet_cols_away].apply(lambda x: pd.to_numeric(x, errors='coerce'), axis=1)"
   ]
  },
  {
   "cell_type": "code",
   "execution_count": null,
   "id": "ad574a2b-f5c3-4214-b905-c0e2fa40e703",
   "metadata": {},
   "outputs": [],
   "source": [
    "dict_results = {}\n",
    "\n",
    "bets_cols = bet_cols_home + bet_cols_away\n",
    "\n",
    "for bet_col in bets_cols:\n",
    "    if 'home' in str(bet_col):\n",
    "        bet_result = round(df_rate_home[df_rate_home.host_role == 'Fav'][bet_col].mean(), 3)\n",
    "        dict_results.update({bet_col: bet_result})  \n",
    "    elif 'away' in str(bet_col):\n",
    "        bet_result = round(df_rate_away[df_rate_away.host_role == 'Pre'][bet_col].mean(), 3)\n",
    "        dict_results.update({bet_col: bet_result})    \n",
    "    else:\n",
    "        None"
   ]
  },
  {
   "cell_type": "code",
   "execution_count": null,
   "id": "a9231e3f-c190-4b27-9537-1f8b12ce09cc",
   "metadata": {},
   "outputs": [],
   "source": [
    "df_result = pd.DataFrame.from_dict(dict_results.items())\n",
    "df_result.columns=['stat_name', 'bets_result']"
   ]
  },
  {
   "cell_type": "code",
   "execution_count": null,
   "id": "75ebf222-ee99-43b1-92c8-0bc7a1db86d4",
   "metadata": {},
   "outputs": [],
   "source": [
    "df_result.sort_values(by='bets_result', ascending=False).head()"
   ]
  },
  {
   "cell_type": "code",
   "execution_count": null,
   "id": "818ad8fe-9b80-4a68-b13c-f399e76ca1bd",
   "metadata": {},
   "outputs": [],
   "source": [
    "df_result.sort_values(by='bets_result', ascending=False).tail()"
   ]
  },
  {
   "cell_type": "code",
   "execution_count": null,
   "id": "be234822-d928-4e23-9954-abfec6375284",
   "metadata": {},
   "outputs": [],
   "source": [
    "# shape away - 20834, away_w_more_d_or_l_wt_drow_bet_-0.25 - 1.155\n",
    "\n",
    "# shape home - 21950 - home_w_more_d_or_l_wt_drow_bet_1 - advantage < 2, mult_val =\t1.5 - 1.130 \n",
    "# shape away - 62 - df_rate_home.fav_advantage < 1.3, mult_val = 1.5 - away_tw_more_d_or_l_wt_drow_bet_-1 - 1.340\n",
    "# all games - away_tw_more_d_or_l_wt_drow_bet_1, mult_val = 1.5 - 1.093"
   ]
  },
  {
   "cell_type": "code",
   "execution_count": null,
   "id": "5e22ad89-09fc-46d3-9675-af27dc74388c",
   "metadata": {},
   "outputs": [],
   "source": [
    "Stop ********************************************************"
   ]
  },
  {
   "cell_type": "code",
   "execution_count": null,
   "id": "de07732f-9254-4bfe-b1fb-ba3cc62e5dff",
   "metadata": {},
   "outputs": [],
   "source": [
    "# Choose home or away research aspekts and statistic columns   1 - #########################################################################################################\n",
    "\n",
    "df_rate = df_rate_home.copy() # Home\n",
    "# df_rate = df_rate_away.copy() # Away"
   ]
  },
  {
   "cell_type": "code",
   "execution_count": null,
   "id": "a24e82ed-c2b6-47e8-a654-18a5febf9af4",
   "metadata": {},
   "outputs": [],
   "source": [
    "df_rate.head(1)"
   ]
  },
  {
   "cell_type": "code",
   "execution_count": null,
   "id": "9db316fa-0c86-4cdc-8d02-3c6289893523",
   "metadata": {},
   "outputs": [],
   "source": [
    "research_cols = ['game_utc', 'aspects', 'result',  '1', 'X', '2', 'fav_goals', 'win_bets', 'drow_bets', 'loss_bets']\n",
    "\n",
    "# Home   2 - #####################################################################################################################################################################\n",
    "res_cols_home = ['mean_diff_win_home', 'mean_diff_drow_home', 'mean_diff_loss_home', 'home_w_more_d_or_l_wt_drow_res', 'home_w_more_d_or_l_wt_drow_bet_None']\n",
    "research_cols = research_cols + res_cols_home\n",
    "\n",
    "# Away\n",
    "# res_cols_away = [ 'mean_diff_win_away', 'mean_diff_drow_away', 'mean_diff_loss_away', 'away_w_more_d_or_l_wt_drow_res', 'away_w_more_d_or_l_wt_drow_bet_None']\n",
    "# research_cols = research_cols + res_cols_away\n",
    "\n",
    "# df_rate[research_cols].head(2)"
   ]
  },
  {
   "cell_type": "code",
   "execution_count": null,
   "id": "647540fd-cdb4-4e8e-aed0-34905e066a97",
   "metadata": {},
   "outputs": [],
   "source": [
    "df_rate.shape[0]"
   ]
  },
  {
   "cell_type": "code",
   "execution_count": null,
   "id": "e5080792-1d15-464c-80bf-fa8421b61a1d",
   "metadata": {},
   "outputs": [],
   "source": [
    "# 3 - ###################################################################################################################################\n",
    "col_res = 'home_w_more_d_or_l_wt_drow_res' # 'home_w_more_d_or_l_wt_drow_res' , 'away_w_more_d_or_l_wt_drow_res'"
   ]
  },
  {
   "cell_type": "code",
   "execution_count": null,
   "id": "2d102409-5508-453f-9403-e9590094bc27",
   "metadata": {},
   "outputs": [],
   "source": [
    "error_asps_lt = []\n",
    "\n",
    "_= df_rate[df_rate.result != df_rate[col_res]].aspects.map(lambda x: [error_asps_lt.append(var) for var in literal_eval(x)])\n",
    "df_error_asps = pd.DataFrame.from_dict(Counter(error_asps_lt), orient='index').reset_index()\n",
    "df_error_asps.columns = ['aspects', 'count_error']\n",
    "df_error_asps.sort_values(by='count_error', inplace=True, ascending=False)\n",
    "df_error_asps.reset_index(drop=True, inplace=True)\n",
    "df_error_asps.reset_index(drop=False, inplace=True)\n",
    "df_error_asps.rename(columns={'index':'rate_asp_error'}, inplace=True)\n",
    "print('shape -', df_error_asps.shape[0])\n",
    "df_error_asps.head(3)"
   ]
  },
  {
   "cell_type": "code",
   "execution_count": null,
   "id": "6d34db4d-c73d-447e-9b29-da2f046ec1dc",
   "metadata": {},
   "outputs": [],
   "source": [
    "right_asps_lt = []\n",
    "\n",
    "_= df_rate[df_rate.result == df_rate[col_res]].aspects.map(lambda x: [right_asps_lt.append(var) for var in literal_eval(x)])\n",
    "df_right_asps = pd.DataFrame.from_dict(Counter(right_asps_lt), orient='index').reset_index()\n",
    "df_right_asps.columns = ['aspects', 'count_right']\n",
    "df_right_asps.sort_values(by='count_right', inplace=True, ascending=False)\n",
    "df_right_asps.reset_index(drop=True, inplace=True)\n",
    "df_right_asps.reset_index(drop=False, inplace=True)\n",
    "df_right_asps.rename(columns={'index':'rate_asp_right'}, inplace=True)\n",
    "print('shape -', df_error_asps.shape[0])\n",
    "df_right_asps.head(3)"
   ]
  },
  {
   "cell_type": "code",
   "execution_count": null,
   "id": "247c4576-1f0a-4b2f-aaea-efbca4a3a264",
   "metadata": {},
   "outputs": [],
   "source": [
    "df_count_asps = df_error_asps.merge(df_right_asps, how='left', left_on='aspects', right_on='aspects')\n",
    "df_count_asps.set_index(keys='aspects', inplace=True)"
   ]
  },
  {
   "cell_type": "code",
   "execution_count": null,
   "id": "947e905d-a654-4ad7-aa44-be195ab981dc",
   "metadata": {},
   "outputs": [],
   "source": [
    "df_count_asps = df_count_asps.fillna(0)"
   ]
  },
  {
   "cell_type": "code",
   "execution_count": null,
   "id": "85be7d89-80b0-4d47-96af-831cb519bdde",
   "metadata": {},
   "outputs": [],
   "source": [
    "df_count_asps = df_count_asps.astype({col: int for col in df_count_asps.columns[1:]})"
   ]
  },
  {
   "cell_type": "code",
   "execution_count": null,
   "id": "fd2644c1-961d-4579-8cd1-dab966927506",
   "metadata": {},
   "outputs": [],
   "source": [
    "df_count_asps['diff_rates'] = df_count_asps.rate_asp_error - df_count_asps.rate_asp_right"
   ]
  },
  {
   "cell_type": "code",
   "execution_count": null,
   "id": "f3287de5-a8e9-4224-ab6a-951bd238400f",
   "metadata": {},
   "outputs": [],
   "source": [
    "df_count_asps.sort_values(by='rate_asp_right', ascending=True).head(2)"
   ]
  },
  {
   "cell_type": "code",
   "execution_count": null,
   "id": "5bc0c707-656c-49a4-9c03-f6e14d7b8e26",
   "metadata": {},
   "outputs": [],
   "source": [
    "df_error_asps.sort_values(by='rate_asp_error', ascending=True).head(2)"
   ]
  },
  {
   "cell_type": "code",
   "execution_count": null,
   "id": "b5a0c18b-bb9c-4821-8ef8-9c87b86d9b56",
   "metadata": {},
   "outputs": [],
   "source": [
    "df_right_asps.sort_values(by='count_right', ascending=False).head(2)"
   ]
  },
  {
   "cell_type": "code",
   "execution_count": null,
   "id": "498fb34f-efb8-4e71-9855-10ae58b54f03",
   "metadata": {},
   "outputs": [],
   "source": [
    "len(df_right_asps)"
   ]
  },
  {
   "cell_type": "code",
   "execution_count": null,
   "id": "b9aabf5e-42c1-43f9-a7bc-f2e57648b812",
   "metadata": {},
   "outputs": [],
   "source": [
    "asp = 'PF_o_Ch' # 97 diff_rate - 141 \t236 \t44 \t140 \t\n",
    "game_ids_asp_lt = []\n",
    "\n",
    "_= df_rate[['aspects', 'result']].apply(lambda x: game_ids_asp_lt.append(x.name) if asp in x[0] else None, axis=1)\n",
    "\n",
    "df_game_ids_asp = df_rate[df_rate.index.isin(game_ids_asp_lt)][research_cols].copy()"
   ]
  },
  {
   "cell_type": "code",
   "execution_count": null,
   "id": "4b97a85a-514d-424e-9c6b-f56806327a4e",
   "metadata": {},
   "outputs": [],
   "source": [
    "df_game_ids_asp.result.value_counts()"
   ]
  },
  {
   "cell_type": "code",
   "execution_count": null,
   "id": "2b081cec-7601-4132-889b-bc5a09971bd4",
   "metadata": {},
   "outputs": [],
   "source": [
    "df_game_ids_asp.head(2)"
   ]
  },
  {
   "cell_type": "code",
   "execution_count": null,
   "id": "d24f724e-484e-410e-bd5b-885b7dc45d54",
   "metadata": {},
   "outputs": [],
   "source": [
    "df_rate.shape[0]"
   ]
  },
  {
   "cell_type": "code",
   "execution_count": null,
   "id": "85cdf4ac-9f7b-4e3d-97e1-20a401eb94ee",
   "metadata": {},
   "outputs": [],
   "source": [
    "research_cols[12]"
   ]
  },
  {
   "cell_type": "code",
   "execution_count": null,
   "id": "3b8f492e-c592-4fb7-b25a-1815df063e58",
   "metadata": {},
   "outputs": [],
   "source": [
    "df_rate[research_cols].sort_values(by=research_cols[9], ascending=False).head(200).result.value_counts()"
   ]
  },
  {
   "cell_type": "code",
   "execution_count": null,
   "id": "b9a34264-e9e5-4dc2-bf81-33823acbe1e6",
   "metadata": {},
   "outputs": [],
   "source": [
    "df_rate[research_cols].sort_values(by=research_cols[9], ascending=False).head(200).win_bets.sum()"
   ]
  },
  {
   "cell_type": "code",
   "execution_count": null,
   "id": "c3017271-a930-4901-9694-40dc09e40c12",
   "metadata": {},
   "outputs": [],
   "source": [
    "df_rate[research_cols].sort_values(by=research_cols[10], ascending=False).head(4000).result.value_counts()"
   ]
  },
  {
   "cell_type": "code",
   "execution_count": null,
   "id": "429f8586-6a35-45c3-a678-cc6eabdb91b8",
   "metadata": {},
   "outputs": [],
   "source": [
    "df_rate[research_cols].sort_values(by=research_cols[10], ascending=False).head(10000).drow_bets.sum()"
   ]
  },
  {
   "cell_type": "code",
   "execution_count": null,
   "id": "366e834d-17c0-4f10-96cf-99c80804b68c",
   "metadata": {},
   "outputs": [],
   "source": [
    "df_rate[research_cols].sort_values(by=research_cols[11], ascending=False).head(5000).result.value_counts()"
   ]
  },
  {
   "cell_type": "code",
   "execution_count": null,
   "id": "cc565754-db92-4117-96d2-a87efb822e49",
   "metadata": {},
   "outputs": [],
   "source": [
    "df_rate[research_cols].sort_values(by=research_cols[11], ascending=False).head(5000).loss_bets.sum() "
   ]
  },
  {
   "cell_type": "code",
   "execution_count": null,
   "id": "84b2ca04-b3b4-4659-a3d3-86afa14a0c3b",
   "metadata": {},
   "outputs": [],
   "source": [
    "df_rate.shape[0]"
   ]
  },
  {
   "cell_type": "code",
   "execution_count": null,
   "id": "b8aa8aef-c79e-4fa1-ae20-ce373e21d9d1",
   "metadata": {},
   "outputs": [],
   "source": [
    "df_rate.loss_bets.sum()"
   ]
  },
  {
   "cell_type": "code",
   "execution_count": null,
   "id": "890d52d6-cf46-45c0-8f35-b18267bd33ff",
   "metadata": {},
   "outputs": [],
   "source": [
    "df_rate.loss_bets.sum() / df_rate.shape[0] "
   ]
  },
  {
   "cell_type": "code",
   "execution_count": null,
   "id": "626a324a-f2a9-4ed5-bb1a-6e609102204a",
   "metadata": {},
   "outputs": [],
   "source": [
    "len(df_main_asps.game_utc.map(lambda x: str(x)[:10]).unique())"
   ]
  },
  {
   "cell_type": "code",
   "execution_count": null,
   "id": "2a994951-31fb-4365-a0c1-02b086245ad1",
   "metadata": {},
   "outputs": [],
   "source": [
    "df_rate['month_year'] = df_rate.game_utc.map(lambda x: str(x)[:7])"
   ]
  },
  {
   "cell_type": "code",
   "execution_count": null,
   "id": "f007fad4-dc83-4b23-9fda-32b69fa596c6",
   "metadata": {},
   "outputs": [],
   "source": [
    "research_cols.remove('game_utc')\n",
    "research_cols.append('month_year')"
   ]
  },
  {
   "cell_type": "code",
   "execution_count": null,
   "id": "6ef79dff-287d-4242-888d-0f53571e4b49",
   "metadata": {},
   "outputs": [],
   "source": [
    "# col_bet_add = 'home_w_more_d_plus_l_wt_drow_res'  #'away_w_more_d_or_l_res' \n",
    "# research_cols.append(col_bet_add)"
   ]
  },
  {
   "cell_type": "code",
   "execution_count": null,
   "id": "a698c068-38da-4d77-bc2f-4eae220d1e1a",
   "metadata": {},
   "outputs": [],
   "source": [
    "df_rate_reserch = df_rate[research_cols].copy()"
   ]
  },
  {
   "cell_type": "code",
   "execution_count": null,
   "id": "61585120-5347-42d6-a6aa-bb5ca66c3e8f",
   "metadata": {},
   "outputs": [],
   "source": [
    "df_rate_reserch.head(1) #[(df_rate_away_reserch.result == df_rate_away_reserch.away_w_more_d_or_l_wt_drow_res)].head(2)"
   ]
  },
  {
   "cell_type": "code",
   "execution_count": null,
   "id": "0c0c3b78-168b-45f3-bd90-6dde457ed7e6",
   "metadata": {},
   "outputs": [],
   "source": [
    "# research_cols.remove('home_w_more_d_plus_l_wt_drow_res')\n",
    "# research_cols.remove('home_w_more_d_or_l_wt_drow_bet_None')"
   ]
  },
  {
   "cell_type": "code",
   "execution_count": null,
   "id": "03018e69-29f4-42ca-8dec-f69ae165414c",
   "metadata": {},
   "outputs": [],
   "source": [
    "print('win mean  -', df_rate_reserch[research_cols[9]].mean())\n",
    "print('drow mean -', df_rate_reserch[research_cols[10]].mean())\n",
    "print('loss mean -', df_rate_reserch[research_cols[11]].mean())"
   ]
  },
  {
   "cell_type": "code",
   "execution_count": null,
   "id": "8bbf5217-9234-4d76-85b0-c149d9f0a1d1",
   "metadata": {},
   "outputs": [],
   "source": [
    "print('win-win mean  -', df_rate_reserch[df_rate_reserch.result == 'fav_win'][research_cols[9]].mean())\n",
    "print('win-drow mean -', df_rate_reserch[df_rate_reserch.result == 'fav_win'][research_cols[10]].mean())\n",
    "print('win-loss mean -', df_rate_reserch[df_rate_reserch.result == 'fav_win'][research_cols[11]].mean())"
   ]
  },
  {
   "cell_type": "code",
   "execution_count": null,
   "id": "8a698ca0-23e6-4026-b6d8-9a62ea308adb",
   "metadata": {},
   "outputs": [],
   "source": [
    "cond_win = (df_rate_reserch[research_cols[9]] > 6.82) & (df_rate_reserch[research_cols[10]] < 14.87) & (df_rate_reserch[research_cols[11]] < 12.08) \n",
    "print(df_rate_reserch[cond_win].shape[0])\n",
    "print(df_rate_reserch[cond_win].win_bets.sum())"
   ]
  },
  {
   "cell_type": "code",
   "execution_count": null,
   "id": "d92d0e47-cb9e-4644-be12-10bf0d24ad1e",
   "metadata": {},
   "outputs": [],
   "source": [
    "print('drow-win mean  -', df_rate_reserch[df_rate_reserch.result == 'fav_drow'][research_cols[9]].mean())\n",
    "print('drow-drow mean -', df_rate_reserch[df_rate_reserch.result == 'fav_drow'][research_cols[10]].mean())\n",
    "print('drow-loss mean -', df_rate_reserch[df_rate_reserch.result == 'fav_drow'][research_cols[11]].mean())"
   ]
  },
  {
   "cell_type": "code",
   "execution_count": null,
   "id": "9f5d2092-3ae2-45a6-a59a-72b730d052d4",
   "metadata": {},
   "outputs": [],
   "source": [
    "cond_drow = (df_rate_reserch[research_cols[9]] < 6.21) & (df_rate_reserch[research_cols[10]] > 16.36) & (df_rate_reserch[research_cols[11]] < 11.93) \n",
    "print(df_rate_reserch[cond_drow].shape[0])\n",
    "print(df_rate_reserch[cond_drow].drow_bets.sum())"
   ]
  },
  {
   "cell_type": "code",
   "execution_count": null,
   "id": "9a601739-0ef4-4056-9291-ee018d9f7eb0",
   "metadata": {},
   "outputs": [],
   "source": [
    "print('loss-win mean  -', df_rate_reserch[df_rate_reserch.result == 'fav_loss'][research_cols[9]].mean())\n",
    "print('loss-drow mean -', df_rate_reserch[df_rate_reserch.result == 'fav_loss'][research_cols[10]].mean())\n",
    "print('loss-loss mean -', df_rate_reserch[df_rate_reserch.result == 'fav_loss'][research_cols[11]].mean())"
   ]
  },
  {
   "cell_type": "code",
   "execution_count": null,
   "id": "34134cd0-1fc0-4a57-9910-b35632599646",
   "metadata": {},
   "outputs": [],
   "source": [
    "cond_loss = (df_rate_reserch[research_cols[9]] < 6) & (df_rate_reserch[research_cols[10]] < 15) & (df_rate_reserch[research_cols[11]] > 14.46) \n",
    "print(df_rate_reserch[cond_loss].shape[0])\n",
    "print(df_rate_reserch[cond_loss].loss_bets.sum())"
   ]
  },
  {
   "cell_type": "code",
   "execution_count": null,
   "id": "d33b0b9f-9ed5-4a59-b64e-983615b5dd85",
   "metadata": {},
   "outputs": [],
   "source": [
    "def bets_choose(result: str, pred_res: str, bet_win: float, bet_drow: float, bet_loss: float):\n",
    "    if result == pred_res == 'fav_win':\n",
    "        return bet_win\n",
    "    elif result == pred_res == 'fav_drow':\n",
    "        return bet_drow\n",
    "    elif result == pred_res == 'fav_loss':\n",
    "        return bet_loss\n",
    "    else:\n",
    "        return 0"
   ]
  },
  {
   "cell_type": "code",
   "execution_count": null,
   "id": "8bdc77fd-cc3b-4591-8da3-7ad096b8d3ba",
   "metadata": {},
   "outputs": [],
   "source": [
    "Stop ***********************************8"
   ]
  },
  {
   "cell_type": "code",
   "execution_count": null,
   "id": "3fbcf874-3d7f-4b6a-88b5-06cd4ff9d071",
   "metadata": {},
   "outputs": [],
   "source": [
    "# df_rate_reserch = df_rate[research_cols].copy()"
   ]
  },
  {
   "cell_type": "code",
   "execution_count": null,
   "id": "b53bca01-d143-45df-8180-bf983b028e11",
   "metadata": {},
   "outputs": [],
   "source": [
    "# cols = ['result', 'win_bets', 'drow_bets', 'loss_bets']\n",
    "# cols.insert(1, col_bet_add)\n",
    "# df_rate_reserch['profit_bets'] = df_rate_reserch[cols].apply(lambda x: bets_choose(x[0], x[1], x[2], x[3], x[4]), axis=1)"
   ]
  },
  {
   "cell_type": "code",
   "execution_count": null,
   "id": "82bd1762-95aa-442d-a79d-45c6a9d34783",
   "metadata": {},
   "outputs": [],
   "source": [
    "# loss_numb = [45, 45]\n",
    "# drow_numb = [35, 50]\n",
    "# win_numb  = [0, 5]\n",
    "\n",
    "\n",
    "# condition =   (df_rate_reserch[research_cols[11]] > df_rate_reserch[research_cols[9]]  + loss_numb[0]) & (df_rate_reserch[research_cols[11]] > df_rate_reserch[research_cols[10]] + loss_numb[1]) \\\n",
    "#             | (df_rate_reserch[research_cols[10]] > df_rate_reserch[research_cols[9]]  + drow_numb[0]) & (df_rate_reserch[research_cols[10]] > df_rate_reserch[research_cols[11]] + drow_numb[1]) \\\n",
    "#             | (df_rate_reserch[research_cols[9]]  > df_rate_reserch[research_cols[10]] + win_numb[0])  & (df_rate_reserch[research_cols[9]]  > df_rate_reserch[research_cols[11]] + win_numb[1]) \n",
    "\n",
    "# numbs = literal_eval(df_conditions_games_id.sort_values(by='profit_monthes', ascending=False).head(10).condition[1429508])\n",
    "\n",
    "# condition =   (df_rate_reserch[research_cols[11]] > df_rate_reserch[research_cols[9]] + numbs[0]) & (df_rate_reserch[research_cols[11]] > df_rate_reserch[research_cols[10]] + numbs[1]) \\\n",
    "#             | (df_rate_reserch[research_cols[10]] > df_rate_reserch[research_cols[9]] + numbs[2]) & (df_rate_reserch[research_cols[10]] > df_rate_reserch[research_cols[11]] + numbs[3]) \\\n",
    "#             | (df_rate_reserch[research_cols[9]]  > df_rate_reserch[research_cols[10]] + numbs[4]) & (df_rate_reserch[research_cols[9]] > df_rate_reserch[research_cols[11]] + numbs[5]) \n",
    "\n",
    "# df_rate_reserch = df_rate_reserch[condition].copy()"
   ]
  },
  {
   "cell_type": "code",
   "execution_count": null,
   "id": "07dabea0-0f8a-4ef1-827c-5d14b3a86405",
   "metadata": {},
   "outputs": [],
   "source": [
    "# df_rate_reserch_gb = df_rate_reserch.groupby('month_year').agg({'profit_bets':'sum', 'result':'count'})\n",
    "# df_rate_reserch_gb.rename(columns={'profit_bets': 'profit_bets_mth', 'result':'result_count_mth'}, inplace=True)\n",
    "# df_rate_reserch_gb['diff_prof_res'] = df_rate_reserch_gb.profit_bets_mth - df_rate_reserch_gb.result_count_mth\n",
    "# df_rate_reserch_gb['percent_prof']  = round(100 / (df_rate_reserch_gb.profit_bets_mth / df_rate_reserch_gb.diff_prof_res), 2)"
   ]
  },
  {
   "cell_type": "code",
   "execution_count": null,
   "id": "ad055472-4067-49ef-9d8d-a5d4e7840779",
   "metadata": {},
   "outputs": [],
   "source": [
    "# print('percent profit          -', round(df_rate_reserch_gb.profit_bets_mth.sum() / df_rate_reserch_gb.result_count_mth.sum(), 3))\n",
    "# print('count monthes           -', df_rate_reserch_gb.shape[0])\n",
    "# print('monthes with profit     -', df_rate_reserch_gb[df_rate_reserch_gb.diff_prof_res > 0].shape[0])\n",
    "# print('attitude monthes-profit -', df_rate_reserch_gb.shape[0] / df_rate_reserch_gb[df_rate_reserch_gb.diff_prof_res > 0].shape[0])\n",
    "# print('count games             -', df_rate_reserch.shape[0])\n",
    "# print('count all days          -', len(df_main_asps.game_utc.map(lambda x: str(x)[:10]).unique()))\n",
    "# print('count games per week    -', round(df_rate_reserch_gb.result_count_mth.mean() / 4))"
   ]
  },
  {
   "cell_type": "code",
   "execution_count": null,
   "id": "f0e69c44-41de-4698-a0c5-6e141426f3d9",
   "metadata": {},
   "outputs": [],
   "source": [
    "Stop **********************************************************************"
   ]
  },
  {
   "cell_type": "code",
   "execution_count": null,
   "id": "b482a7c4-54e1-49d5-bc2b-acc845a40cac",
   "metadata": {},
   "outputs": [],
   "source": [
    "# research_cols_home = ['aspects', 'result', '1', 'X', '2', 'fav_goals', 'win_bets', 'drow_bets', 'loss_bets', 'mean_diff_win_home', 'mean_diff_drow_home', 'mean_diff_loss_home', 'month_year']\n",
    "\n",
    "# df_rate               = df_rate_home.copy()\n",
    "# df_rate['month_year'] = df_rate.game_utc.map(lambda x: str(x)[:7])\n",
    "# df_rate_reserch       = df_rate[research_cols_home].copy()\n",
    "\n",
    "# col_bet_add_home = ['home_w_more_d_plus_l_res', 'home_w_more_d_or_l_res', 'home_w_more_d_or_l_wt_drow_res', 'home_w_more_d_plus_l_wt_drow_res', 'home_w_more_d_or_l_wt_loss_res'][3]\n",
    "# cols_home        = ['result', 'win_bets', 'drow_bets', 'loss_bets']\n",
    "# cols_home.insert(1, col_bet_add_home)\n",
    "\n",
    "# df_rate_reserch['profit_bets'] = df_rate[cols_home].apply(lambda x: bets_choose(x[0], x[1], x[2], x[3], x[4]), axis=1)\n",
    "\n",
    "# numbs_home = literal_eval(df_conditions_home.sort_values(by='profit_monthes', ascending=False).condition[0])\n",
    "# print(col_bet_add_home, ' - ', numbs_home)\n",
    "\n",
    "# condition_home =  (df_rate_reserch[research_cols_home[11]] > df_rate_reserch[research_cols_home[9]] + numbs_home[0]) & (df_rate_reserch[research_cols_home[11]] > df_rate_reserch[research_cols_home[10]] + numbs_home[1]) \\\n",
    "#                 | (df_rate_reserch[research_cols_home[10]] > df_rate_reserch[research_cols_home[9]] + numbs_home[2]) & (df_rate_reserch[research_cols_home[10]] > df_rate_reserch[research_cols_home[11]] + numbs_home[3]) \\\n",
    "#                 | (df_rate_reserch[research_cols_home[9]]  > df_rate_reserch[research_cols_home[10]] + numbs_home[4]) & (df_rate_reserch[research_cols_home[9]] > df_rate_reserch[research_cols_home[11]] + numbs_home[5]) \n",
    "\n",
    "# df_rate_reserch_home = df_rate_reserch[condition_home].copy()\n",
    "# df_rate_reserch_home_gb = df_rate_reserch_home.groupby('month_year').agg({'profit_bets':'sum', 'result':'count'})\n",
    "# df_rate_reserch_home_gb.rename(columns={'profit_bets': 'profit_bets_mth_hm', 'result':'result_count_mth_hm'}, inplace=True)\n",
    "# df_rate_reserch_home_gb['diff_prof_res_hm'] = df_rate_reserch_home_gb.profit_bets_mth_hm - df_rate_reserch_home_gb.result_count_mth_hm\n",
    "# df_rate_reserch_home_gb['percent_prof_hm']  = round(100 / (df_rate_reserch_home_gb.profit_bets_mth_hm / df_rate_reserch_home_gb.diff_prof_res_hm), 2)\n",
    "\n",
    "# print('percent profit          -', round(df_rate_reserch_home_gb.profit_bets_mth_hm.sum() / df_rate_reserch_home_gb.result_count_mth_hm.sum(), 3))\n",
    "# print('count monthes           -', df_rate_reserch_home_gb.shape[0])\n",
    "# print('monthes with profit     -', df_rate_reserch_home_gb[df_rate_reserch_home_gb.diff_prof_res_hm > 0].shape[0])\n",
    "# print('attitude monthes-profit -', df_rate_reserch_home_gb.shape[0] / df_rate_reserch_home_gb[df_rate_reserch_home_gb.diff_prof_res_hm > 0].shape[0])\n",
    "# print('count games             -', df_rate_reserch_home.shape[0])\n",
    "# print('count all days          -', len(df_main_asps.game_utc.map(lambda x: str(x)[:10]).unique()))\n",
    "# print('count games per week    -', round(df_rate_reserch_home_gb.result_count_mth_hm.mean() / 4))"
   ]
  },
  {
   "cell_type": "code",
   "execution_count": null,
   "id": "391c0be1-1ddc-40a5-a2ba-bf0733a9b289",
   "metadata": {},
   "outputs": [],
   "source": [
    "# Choose csv file for research and add this file to 'df_conditions' and 'col_bet_add' 4 - #########################################################################################################"
   ]
  },
  {
   "cell_type": "code",
   "execution_count": null,
   "id": "a76a61c3-e620-4495-995f-12f803593f8c",
   "metadata": {},
   "outputs": [],
   "source": [
    "# # Home - ['home_w_more_d_plus_l_res', 'home_w_more_d_or_l_res', 'home_w_more_d_or_l_wt_drow_res', 'home_w_more_d_plus_l_wt_drow_res', 'home_w_more_d_or_l_wt_loss_res']\n",
    "df_conditions_home = pd.read_csv('csv_files/home_w_more_d_or_l_wt_loss_res_monthes_profit_dc.csv', names=['condition', 'profit_monthes'])\n",
    "\n",
    "df_conditions_home.sort_values(by='profit_monthes', ascending=False, inplace=True)\n",
    "df_conditions_home.reset_index(drop=True, inplace=True)\n",
    "df_conditions_home.head()"
   ]
  },
  {
   "cell_type": "code",
   "execution_count": null,
   "id": "234e6f89-4b29-4b73-8dd3-618db9d75a9d",
   "metadata": {},
   "outputs": [],
   "source": [
    "# Away - ['away_w_more_d_plus_l_res', 'away_w_more_d_or_l_res', 'away_w_more_d_or_l_wt_drow_res', 'away_w_more_d_plus_l_wt_drow_res', 'away_w_more_d_or_l_wt_loss_res']\n",
    "# df_conditions_away = pd.read_csv('csv_files/away_w_more_d_or_l_wt_loss_res_monthes_profit_dc.csv', names=['condition', 'profit_monthes'])\n",
    "\n",
    "# df_conditions_away.sort_values(by='profit_monthes', ascending=False, inplace=True)\n",
    "# df_conditions_away.reset_index(drop=True, inplace=True)\n",
    "# df_conditions_away.head()"
   ]
  },
  {
   "cell_type": "code",
   "execution_count": null,
   "id": "edbdc27d-67f8-4181-a956-dd1c1aa8e755",
   "metadata": {},
   "outputs": [],
   "source": [
    "df_all_condition_res = pd.DataFrame()\n",
    "\n",
    "df_conditions = df_conditions_home.copy() # Home  5 - #########################################################################################################\n",
    "# df_conditions = df_conditions_away.copy()  # Away\n",
    "\n",
    "\n",
    "for i in tqdm(range(0, 5000)):\n",
    "    # # Home   6 - #####################################################################################################################\n",
    "    df_rate       = df_rate_home.copy()\n",
    "    research_cols = ['aspects', 'result', '1', 'X', '2', 'fav_goals', 'win_bets', 'drow_bets', 'loss_bets', 'mean_diff_win_home', 'mean_diff_drow_home', 'mean_diff_loss_home', 'month_year']\n",
    "    col_bet_add   = ['home_w_more_d_plus_l_res', 'home_w_more_d_or_l_res', 'home_w_more_d_or_l_wt_drow_res', 'home_w_more_d_plus_l_wt_drow_res', 'home_w_more_d_or_l_wt_loss_res'][4]\n",
    "    \n",
    "    # Away\n",
    "    # df_rate       = df_rate_away.copy()\n",
    "    # research_cols = ['aspects', 'result', '1', 'X', '2', 'fav_goals', 'win_bets', 'drow_bets', 'loss_bets', 'mean_diff_win_away', 'mean_diff_drow_away', 'mean_diff_loss_away', 'month_year']\n",
    "    # col_bet_add   = ['away_w_more_d_plus_l_res', 'away_w_more_d_or_l_res', 'away_w_more_d_or_l_wt_drow_res', 'away_w_more_d_plus_l_wt_drow_res', 'away_w_more_d_or_l_wt_loss_res'][4]\n",
    "\n",
    "    df_rate['month_year'] = df_rate.game_utc.map(lambda x: str(x)[:7])\n",
    "    df_rate_reserch       = df_rate[research_cols].copy()\n",
    "\n",
    "    cols = ['result', 'win_bets', 'drow_bets', 'loss_bets']\n",
    "    cols.insert(1, col_bet_add)\n",
    "\n",
    "    df_rate_reserch['profit_bets'] = df_rate[cols].apply(lambda x: bets_choose(x[0], x[1], x[2], x[3], x[4]), axis=1)\n",
    "\n",
    "    numbs = literal_eval(df_conditions.sort_values(by='profit_monthes', ascending=False).condition[i])\n",
    "\n",
    "    # print(col_bet_add, ' - ', numbs)\n",
    "\n",
    "    condition =  (df_rate_reserch[research_cols[11]] > df_rate_reserch[research_cols[9]] + numbs[0]) & (df_rate_reserch[research_cols[11]] > df_rate_reserch[research_cols[10]] + numbs[1]) \\\n",
    "                 | (df_rate_reserch[research_cols[10]] > df_rate_reserch[research_cols[9]] + numbs[2]) & (df_rate_reserch[research_cols[10]] > df_rate_reserch[research_cols[11]] + numbs[3]) \\\n",
    "                 | (df_rate_reserch[research_cols[9]]  > df_rate_reserch[research_cols[10]] + numbs[4]) & (df_rate_reserch[research_cols[9]] > df_rate_reserch[research_cols[11]] + numbs[5]) \n",
    "\n",
    "    df_rate_reserch = df_rate_reserch[condition].copy()\n",
    "    df_rate_reserch_gb = df_rate_reserch.groupby('month_year').agg({'profit_bets':'sum', 'result':'count'})\n",
    "    df_rate_reserch_gb.rename(columns={'profit_bets': 'profit_bets_mth', 'result':'result_count_mth'}, inplace=True)\n",
    "    df_rate_reserch_gb['diff_prof_res'] = df_rate_reserch_gb.profit_bets_mth - df_rate_reserch_gb.result_count_mth\n",
    "    df_rate_reserch_gb['percent_prof']  = round(100 / (df_rate_reserch_gb.profit_bets_mth / df_rate_reserch_gb.diff_prof_res), 2)\n",
    "\n",
    "    condition_res = {'percent_profit': round(df_rate_reserch_gb.profit_bets_mth.sum() / df_rate_reserch_gb.result_count_mth.sum(), 3),\n",
    "                    'count_monthes': df_rate_reserch_gb.shape[0],\n",
    "                    'monthes_with_profit': df_rate_reserch_gb[df_rate_reserch_gb.diff_prof_res > 0].shape[0],\n",
    "                    'attitude_monthes_profit': df_rate_reserch_gb.shape[0] / df_rate_reserch_gb[df_rate_reserch_gb.diff_prof_res > 0].shape[0],\n",
    "                    'count_games': df_rate_reserch.shape[0],\n",
    "                    'count_all_days': len(df_main_asps.game_utc.map(lambda x: str(x)[:10]).unique()),\n",
    "                    'count_games_per_week': round(df_rate_reserch_gb.result_count_mth.mean() / 4)}\n",
    "    \n",
    "    df_condition_res = pd.DataFrame(condition_res, index=[str(numbs)])\n",
    "\n",
    "    df_all_condition_res = pd.concat([df_condition_res, df_all_condition_res])"
   ]
  },
  {
   "cell_type": "code",
   "execution_count": null,
   "id": "4fde8bdb-9952-45d0-a7ac-aea2e23cb1a0",
   "metadata": {},
   "outputs": [],
   "source": [
    "print(col_bet_add)"
   ]
  },
  {
   "cell_type": "code",
   "execution_count": null,
   "id": "05119ff5-534f-4d2a-ab85-c05b5c06b89b",
   "metadata": {},
   "outputs": [],
   "source": [
    "df_all_condition_res.sort_values(by='percent_profit', ascending=False)"
   ]
  },
  {
   "cell_type": "code",
   "execution_count": null,
   "id": "fa5427a4-2ce3-4ec4-8b6f-e618376a4cf9",
   "metadata": {},
   "outputs": [],
   "source": [
    "# file = open('pickle_files/home_w_more_d_or_l_wt_loss_res_top_5t', 'wb')\n",
    "# pickle.dump(df_all_condition_res, file) \n",
    "# file.close()"
   ]
  },
  {
   "cell_type": "code",
   "execution_count": 221,
   "id": "bffc9c83-1947-4b75-af78-70470f4056ed",
   "metadata": {},
   "outputs": [
    {
     "ename": "FileNotFoundError",
     "evalue": "[Errno 2] No such file or directory: 'pickle_files/df_all_condition_away_res_top_10t'",
     "output_type": "error",
     "traceback": [
      "\u001b[0;31m---------------------------------------------------------------------------\u001b[0m",
      "\u001b[0;31mFileNotFoundError\u001b[0m                         Traceback (most recent call last)",
      "Input \u001b[0;32mIn [221]\u001b[0m, in \u001b[0;36m<cell line: 1>\u001b[0;34m()\u001b[0m\n\u001b[0;32m----> 1\u001b[0m \u001b[38;5;28;01mwith\u001b[39;00m \u001b[38;5;28;43mopen\u001b[39;49m\u001b[43m(\u001b[49m\u001b[38;5;124;43m'\u001b[39;49m\u001b[38;5;124;43mpickle_files/df_all_condition_away_res_top_10t\u001b[39;49m\u001b[38;5;124;43m'\u001b[39;49m\u001b[43m,\u001b[49m\u001b[43m \u001b[49m\u001b[38;5;124;43m'\u001b[39;49m\u001b[38;5;124;43mrb\u001b[39;49m\u001b[38;5;124;43m'\u001b[39;49m\u001b[43m)\u001b[49m \u001b[38;5;28;01mas\u001b[39;00m f:\n\u001b[1;32m      2\u001b[0m     df_condition_away_res_top_10t \u001b[38;5;241m=\u001b[39m pickle\u001b[38;5;241m.\u001b[39mload(f)\n\u001b[1;32m      4\u001b[0m \u001b[38;5;28;01mwith\u001b[39;00m \u001b[38;5;28mopen\u001b[39m(\u001b[38;5;124m'\u001b[39m\u001b[38;5;124mpickle_files/df_all_condition_away_res_top_10t\u001b[39m\u001b[38;5;124m'\u001b[39m, \u001b[38;5;124m'\u001b[39m\u001b[38;5;124mrb\u001b[39m\u001b[38;5;124m'\u001b[39m) \u001b[38;5;28;01mas\u001b[39;00m f:\n",
      "\u001b[0;31mFileNotFoundError\u001b[0m: [Errno 2] No such file or directory: 'pickle_files/df_all_condition_away_res_top_10t'"
     ]
    }
   ],
   "source": [
    "with open('pickle_files/df_all_condition_away_res_top_10t', 'rb') as f:\n",
    "    df_condition_away_res_top_10t = pickle.load(f)\n",
    "    \n",
    "with open('pickle_files/df_all_condition_away_res_top_10t', 'rb') as f:\n",
    "    df_condition_away_res_top_10t = pickle.load(f)\n",
    "    \n",
    "with open('pickle_files/df_all_condition_away_res_top_10t', 'rb') as f:\n",
    "    df_condition_away_res_top_10t = pickle.load(f)\n",
    "    \n",
    "with open('pickle_files/df_all_condition_away_res_top_10t', 'rb') as f:\n",
    "    df_condition_away_res_top_10t = pickle.load(f)    "
   ]
  },
  {
   "cell_type": "code",
   "execution_count": null,
   "id": "80bcd8af-ea85-448c-a4e2-315a70a29091",
   "metadata": {},
   "outputs": [],
   "source": [
    "df_condition_away_res_top_10t.head()"
   ]
  },
  {
   "cell_type": "code",
   "execution_count": null,
   "id": "cb0dad6c-7743-4589-b021-9e275742c38a",
   "metadata": {},
   "outputs": [],
   "source": [
    "df_condition_away_res_top_10t.sort_values(by='monthes with profit', ascending=False)"
   ]
  },
  {
   "cell_type": "code",
   "execution_count": null,
   "id": "ca36e307-992c-4a86-8b14-6e65c088e23a",
   "metadata": {},
   "outputs": [],
   "source": [
    "df_rate_reserch_away_gb.head()"
   ]
  },
  {
   "cell_type": "code",
   "execution_count": null,
   "id": "b1467c44-271a-49a1-b3cd-44553cfe31a9",
   "metadata": {},
   "outputs": [],
   "source": [
    "df_rate_reserch_gb = pd.merge(df_rate_reserch_home_gb, df_rate_reserch_away_gb, how='left', left_index=True, right_index=True)"
   ]
  },
  {
   "cell_type": "code",
   "execution_count": null,
   "id": "2135e543-bdd0-464e-b38e-bceb55e022cd",
   "metadata": {},
   "outputs": [],
   "source": [
    "df_rate_reserch_gb.head()"
   ]
  },
  {
   "cell_type": "code",
   "execution_count": null,
   "id": "74de4bf0-9830-4630-b7e5-da655c9b7f38",
   "metadata": {},
   "outputs": [],
   "source": [
    "df_rate_reserch_gb['profit_bets_mth']  = df_rate_reserch_gb.profit_bets_mth_hm + df_rate_reserch_gb.profit_bets_mth_aw\n",
    "df_rate_reserch_gb['result_count_mth'] = df_rate_reserch_gb.result_count_mth_hm + df_rate_reserch_gb.result_count_mth_aw\n",
    "df_rate_reserch_gb['diff_prof_res']    = df_rate_reserch_gb.diff_prof_res_hm + df_rate_reserch_gb.diff_prof_res_aw\n",
    "df_rate_reserch_gb['percent_prof']     = df_rate_reserch_gb.percent_prof_hm + df_rate_reserch_gb.percent_prof_aw"
   ]
  },
  {
   "cell_type": "code",
   "execution_count": null,
   "id": "ea8dd147-8e53-4188-8f24-c6e402e765fa",
   "metadata": {},
   "outputs": [],
   "source": [
    "print('percent profit          -', round(df_rate_reserch_gb.profit_bets_mth.sum() / df_rate_reserch_gb.result_count_mth.sum(), 3))\n",
    "print('count monthes           -', df_rate_reserch_gb.shape[0])\n",
    "print('monthes with profit     -', df_rate_reserch_gb[df_rate_reserch_gb.diff_prof_res > 0].shape[0])\n",
    "print('attitude monthes-profit -', df_rate_reserch_gb.shape[0] / df_rate_reserch_gb[df_rate_reserch_gb.diff_prof_res > 0].shape[0])\n",
    "print('count games             -', df_rate_reserch_home.shape[0] + df_rate_reserch_away.shape[0])\n",
    "print('count all days          -', len(df_main_asps.game_utc.map(lambda x: str(x)[:10]).unique()))\n",
    "print('count games per week    -', round(df_rate_reserch_gb.result_count_mth.mean() / 4))"
   ]
  },
  {
   "cell_type": "code",
   "execution_count": null,
   "id": "ade5f55d-0f8e-4304-8db8-44d45e0b7004",
   "metadata": {},
   "outputs": [],
   "source": [
    "Stop ****************************************"
   ]
  },
  {
   "cell_type": "code",
   "execution_count": null,
   "id": "5ae39c2b-faee-45ed-a2cd-411cdc00db89",
   "metadata": {},
   "outputs": [],
   "source": [
    "df_research = df_rate.copy()"
   ]
  },
  {
   "cell_type": "code",
   "execution_count": null,
   "id": "88d165a7-8cf7-4b73-b9d3-02ba0127552a",
   "metadata": {},
   "outputs": [],
   "source": [
    "combo_lt = []\n",
    "for i in product(range(0, 55, 5), repeat = 6):\n",
    "    combo_lt.append(i)\n",
    "\n",
    "combo_lt[:3]    "
   ]
  },
  {
   "cell_type": "code",
   "execution_count": null,
   "id": "4d52ba4b-17a1-4651-a2e5-7693fb9a0129",
   "metadata": {},
   "outputs": [],
   "source": [
    "conditions_dc = dict()\n",
    "\n",
    "cols    = ['result', 'win_bets', 'drow_bets', 'loss_bets']\n",
    "\n",
    "# Change cols list for hom or away df\n",
    "# col_res = ['away_w_more_d_plus_l_res', 'away_w_more_d_or_l_res', 'away_w_more_d_or_l_wt_drow_res', 'away_w_more_d_plus_l_wt_drow_res', 'away_w_more_d_or_l_wt_loss_res'][4]\n",
    "col_res = ['home_w_more_d_plus_l_res', 'home_w_more_d_or_l_res', 'home_w_more_d_or_l_wt_drow_res', 'home_w_more_d_plus_l_wt_drow_res', 'home_w_more_d_or_l_wt_loss_res'][4]\n",
    "\n",
    "\n",
    "cols.insert(1, col_res)\n",
    "print(col_res)\n",
    "    \n",
    "df_research['profit_bets'] = df_research[cols].apply(lambda x: bets_choose(x[0], x[1], x[2], x[3], x[4]), axis=1)\n",
    "\n",
    "cols.remove(col_res)\n",
    "\n",
    "count = 0\n",
    "for numbs in tqdm(combo_lt): \n",
    "    condition =   (df_research[research_cols[11]] > df_research[research_cols[9]] + numbs[0]) & (df_research[research_cols[11]] > df_research[research_cols[10]] + numbs[1]) \\\n",
    "                | (df_research[research_cols[10]] > df_research[research_cols[9]] + numbs[2]) & (df_research[research_cols[10]] > df_research[research_cols[11]] + numbs[3]) \\\n",
    "                | (df_research[research_cols[9]]  > df_research[research_cols[10]] + numbs[4]) & (df_research[research_cols[9]] > df_research[research_cols[11]] + numbs[5]) \n",
    "    \n",
    "    df_research_cond   = df_research[condition].copy()\n",
    "    df_rate_reserch_gb = df_research_cond.groupby('month_year').agg({'profit_bets':'sum', 'result':'count'})\n",
    "    df_rate_reserch_gb['diff_prof_res'] = df_rate_reserch_gb.profit_bets - df_rate_reserch_gb.result\n",
    "    \n",
    "    conditions_dc.update({numbs : df_rate_reserch_gb[df_rate_reserch_gb.diff_prof_res > 0].shape[0]})\n",
    "    count = count + 1\n",
    "    \n",
    "    file_name = col_res + '_monthes_profit_dc.csv'\n",
    "    if ((count % 5000 == 0) & (count != 0)) | (numbs == combo_lt[-1]):\n",
    "        with open('csv_files/' + file_name, 'a') as f:\n",
    "            w = csv.writer(f)\n",
    "            w.writerows(conditions_dc.items())\n",
    "\n",
    "        conditions_dc.clear()"
   ]
  },
  {
   "cell_type": "code",
   "execution_count": null,
   "id": "3b7a946d-2296-4e56-863f-bb36cfc14277",
   "metadata": {},
   "outputs": [],
   "source": [
    "# df_conditions_games_id = pd.read_csv('csv_files/home_w_more_d_plus_l_wt_drow_res_monthes_profit_dc.csv', names=['condition', 'profit_monthes'])\n",
    "# df_conditions_games_id.sort_values(by='profit_monthes', ascending=False).head(20)"
   ]
  },
  {
   "cell_type": "code",
   "execution_count": null,
   "id": "7bf3a97d-6377-4850-af7c-35ab1ced12be",
   "metadata": {},
   "outputs": [],
   "source": []
  },
  {
   "cell_type": "code",
   "execution_count": null,
   "id": "758222f2-a73e-42ea-9e81-201e73a6c504",
   "metadata": {},
   "outputs": [],
   "source": []
  },
  {
   "cell_type": "code",
   "execution_count": null,
   "id": "ed90f949-0e98-4edd-a18f-49ea61401166",
   "metadata": {},
   "outputs": [],
   "source": [
    "df_conditions_away.sort_values(by='profit_monthes', ascending=False).head()"
   ]
  },
  {
   "cell_type": "code",
   "execution_count": null,
   "id": "83523538-48c9-403a-848f-70c4c7f8fc4c",
   "metadata": {},
   "outputs": [],
   "source": [
    "Stop ***********************************"
   ]
  },
  {
   "cell_type": "code",
   "execution_count": null,
   "id": "a5acbb73-d260-4fd0-81e7-7639cc87fc97",
   "metadata": {},
   "outputs": [],
   "source": [
    "game_ind = 19"
   ]
  },
  {
   "cell_type": "code",
   "execution_count": null,
   "id": "fe3a62ea-de67-46c0-b044-62e42cd5cdfb",
   "metadata": {},
   "outputs": [],
   "source": [
    "aspects_lt = list()\n",
    "\n",
    "for asp in df_main_asps_gb.fs_asps_wt_pls[game_ind]:\n",
    "    _= df_aspect_stat.fs_asps_wt_pls_lt.map(lambda x: aspects_lt.append(x) if asp in x else None)    "
   ]
  },
  {
   "cell_type": "code",
   "execution_count": null,
   "id": "9c707608-bf53-4f10-bf05-a0fccee9c35b",
   "metadata": {},
   "outputs": [],
   "source": [
    "all_asp_dc = {}\n",
    "\n",
    "for asp in df_main_asps_gb.fs_asps_wt_pls[game_ind]:\n",
    "    one_asp_lt = list()\n",
    "    for find_lt in aspects_lt:\n",
    "        one_asp_lt.append(find_lt.count(asp))\n",
    "\n",
    "    all_asp_dc[asp] = one_asp_lt"
   ]
  },
  {
   "cell_type": "code",
   "execution_count": null,
   "id": "ae7fd34e-e61d-4735-b610-29dfe47fda30",
   "metadata": {},
   "outputs": [],
   "source": [
    "df_one_asp_st = pd.DataFrame.from_dict(all_asp_dc)\n",
    "df_one_asp_st['index_col'] = aspects_lt #\n",
    "df_one_asp_st.set_index(keys='index_col', inplace=True)\n",
    "df_one_asp_st['count_entries'] = df_one_asp_st.sum(axis=1)"
   ]
  },
  {
   "cell_type": "code",
   "execution_count": null,
   "id": "0e6ac4cd-728c-4ad7-9c0b-9d40c92ed13a",
   "metadata": {},
   "outputs": [],
   "source": [
    "df_one_asp_st.index              = df_one_asp_st.index.map(str)\n",
    "df_aspect_stat.fs_asps_wt_pls_lt = df_aspect_stat.fs_asps_wt_pls_lt.map(str)"
   ]
  },
  {
   "cell_type": "code",
   "execution_count": null,
   "id": "35bf4e65-09ef-4855-b986-c0c3604eaa43",
   "metadata": {},
   "outputs": [],
   "source": [
    "if df_main_asps_gb.iloc[game_ind].host_role == 'Fav':\n",
    "    cols          = ['fs_asps_wt_pls_lt', 'count_asps', 'count_home', 'home_res', 'mean_diff_win_home', 'mean_diff_drow_home', 'mean_diff_loss_home']\n",
    "    df_one_asp_st = df_one_asp_st.merge(df_aspect_stat[cols], how='left', left_on='index_col', right_on='fs_asps_wt_pls_lt')\n",
    "    df_one_asp_st = df_one_asp_st[df_one_asp_st.count_home != 0].copy()\n",
    "        \n",
    "    df_one_asp_st.drop_duplicates(subset='fs_asps_wt_pls_lt', inplace=True)\n",
    "    \n",
    "    sum_win     = df_one_asp_st.home_res.map(lambda x: x[0]).sum()\n",
    "    sum_drow    = df_one_asp_st.home_res.map(lambda x: x[1]).sum()\n",
    "    sum_loss    = df_one_asp_st.home_res.map(lambda x: x[2]).sum()\n",
    "    sum_results = sum_win + sum_drow + sum_loss\n",
    "    \n",
    "    print('sum  win -', sum_win, ' - diff mean win  =', round(fav_win_home_mean - sum_results/sum_win, 3))\n",
    "    print('sum drow -', sum_drow, ' - diff mean drow =', round(fav_drow_home_mean - sum_results/sum_drow, 3))\n",
    "    print('sum loss -', sum_loss, ' - diff mean loss =', round(fav_loss_home_mean - sum_results/sum_loss, 3))\n",
    "    print('')    \n",
    "    print(df_one_asp_st[['mean_diff_win_home', 'mean_diff_drow_home', 'mean_diff_loss_home']].apply(sum))\n",
    "    print('')\n",
    "    \n",
    "    df_one_asp_st['mean_multi_count'] = df_one_asp_st[['count_home', 'mean_diff_win_home', 'mean_diff_drow_home', 'mean_diff_loss_home']].apply(lambda x: (x[0]*x[1], x[0]*x[2], x[0]*x[3]), axis=1)\n",
    "    print('mean multi count sum  win  =', round(df_one_asp_st.mean_multi_count.map(lambda x: x[0]).sum(), 3))\n",
    "    print('mean multi count sum  drow =', round(df_one_asp_st.mean_multi_count.map(lambda x: x[1]).sum(), 3))\n",
    "    print('mean multi count sum  loss =', round(df_one_asp_st.mean_multi_count.map(lambda x: x[2]).sum(), 3))      \n",
    "          \n",
    "else:\n",
    "    cols          = ['fs_asps_wt_pls_lt', 'count_asps', 'count_away', 'away_res', 'mean_diff_win_away', 'mean_diff_drow_away', 'mean_diff_loss_away'] \n",
    "    df_one_asp_st = df_one_asp_st.merge(df_aspect_stat[cols], how='left', left_on='index_col', right_on='fs_asps_wt_pls_lt')\n",
    "    df_one_asp_st = df_one_asp_st[df_one_asp_st.count_away != 0].copy()\n",
    "    \n",
    "    df_one_asp_st.drop_duplicates(subset='fs_asps_wt_pls_lt', inplace=True)\n",
    "    \n",
    "    sum_win     = df_one_asp_st.away_res.map(lambda x: x[0]).sum()\n",
    "    sum_drow    = df_one_asp_st.away_res.map(lambda x: x[1]).sum()\n",
    "    sum_loss    = df_one_asp_st.away_res.map(lambda x: x[2]).sum()\n",
    "    sum_results = sum_win + sum_drow + sum_loss\n",
    "    \n",
    "    print('sum  win -', sum_win, ' - diff mean win  =', round(fav_win_away_mean - sum_results/sum_win, 3))\n",
    "    print('sum drow -', sum_drow, ' - diff mean drow =', round(fav_drow_away_mean - sum_results/sum_drow, 3))\n",
    "    print('sum loss -', sum_loss, ' - diff mean loss =', round(fav_loss_away_mean - sum_results/sum_loss, 3))\n",
    "    print('')\n",
    "    print(df_one_asp_st[['mean_diff_win_away', 'mean_diff_drow_away', 'mean_diff_loss_away']].apply(sum))\n",
    "    print('')\n",
    "    \n",
    "    df_one_asp_st['mean_multi_count'] = df_one_asp_st[['count_away', 'mean_diff_win_away', 'mean_diff_drow_away', 'mean_diff_loss_away']].apply(lambda x: (x[0]*x[1], x[0]*x[2], x[0]*x[3]), axis=1)\n",
    "    print('mean multi count sum  win  =', round(df_one_asp_st.mean_multi_count.map(lambda x: x[0]).sum(), 3))\n",
    "    print('mean multi count sum  drow =', round(df_one_asp_st.mean_multi_count.map(lambda x: x[1]).sum(), 3))\n",
    "    print('mean multi count sum  loss =', round(df_one_asp_st.mean_multi_count.map(lambda x: x[2]).sum(), 3))"
   ]
  },
  {
   "cell_type": "code",
   "execution_count": null,
   "id": "156923ba-f8f1-4d02-8a48-992ee64af8e2",
   "metadata": {},
   "outputs": [],
   "source": [
    "df_main_asps_gb.iloc[game_ind].to_frame().T"
   ]
  },
  {
   "cell_type": "code",
   "execution_count": null,
   "id": "c9c39222-1abe-4aff-a815-f95b46b243f1",
   "metadata": {},
   "outputs": [],
   "source": [
    "# df_one_asp_st.head()"
   ]
  },
  {
   "cell_type": "code",
   "execution_count": null,
   "id": "971f1389-02b3-42d2-acd1-f463f5fb5d81",
   "metadata": {},
   "outputs": [],
   "source": []
  },
  {
   "cell_type": "code",
   "execution_count": null,
   "id": "18c42e9d-6c37-494e-b450-63804dbd7ef9",
   "metadata": {},
   "outputs": [],
   "source": [
    "# More popular aspects for win, drow or loss"
   ]
  },
  {
   "cell_type": "code",
   "execution_count": null,
   "id": "d521e92d-e726-4079-8ddb-a40d31886c8b",
   "metadata": {},
   "outputs": [],
   "source": [
    "# Count and determinate Fav and Pre aspects"
   ]
  },
  {
   "cell_type": "code",
   "execution_count": null,
   "id": "09abcf4b-d514-4a28-be12-d7b7288be505",
   "metadata": {},
   "outputs": [],
   "source": [
    "# 1. Calculate mean diff for each aspect and 2. Calculate with division by count_games"
   ]
  },
  {
   "cell_type": "code",
   "execution_count": null,
   "id": "15fdfa68-aa32-4965-954a-431cb4fd7e0e",
   "metadata": {},
   "outputs": [],
   "source": [
    "# ML only games with 5 and less aspects"
   ]
  },
  {
   "cell_type": "code",
   "execution_count": null,
   "id": "ab05809b-f23d-4409-bf26-c9c67edead00",
   "metadata": {},
   "outputs": [],
   "source": [
    "Stop ********************************************************"
   ]
  },
  {
   "cell_type": "code",
   "execution_count": null,
   "id": "57eff329-f3a0-4f7e-843b-ec9585f5cab1",
   "metadata": {},
   "outputs": [],
   "source": [
    "# All days 'top' leages\n",
    "\n",
    "# if len_asps > 1 and len(count_asps[count_asps > len_asps - 1]) - 3167 games count\n",
    "# 0 \tbets_total \t1.009009\n",
    "# 1 \tbets_total_f0 \t1.016969\n",
    "# 2 \tbets_total_f05 \t1.023448\n",
    "# 3 \tmean_bets_total \t1.051272\n",
    "# 4 \tmean_bets_total_f0 \t1.054787\n",
    "# 5 \tmean_bets_total_f05 \t1.055971\n",
    "\n",
    "# if len_asps > 2 and len(count_asps[count_asps > len_asps - 1]) - 1990 games count\n",
    "\n",
    "# 0 \tbets_total \t1.034784\n",
    "# 1 \tbets_total_f0 \t1.028526\n",
    "# 2 \tbets_total_f05 \t1.040695\n",
    "# 3 \tmean_bets_total \t1.061995\n",
    "# 4 \tmean_bets_total_f0 \t1.068247\n",
    "# 5 \tmean_bets_total_f05 \t1.080168"
   ]
  },
  {
   "cell_type": "code",
   "execution_count": null,
   "id": "ec9d879a-4973-485c-8c30-a0098578528d",
   "metadata": {},
   "outputs": [],
   "source": [
    "# if len_asps > 2 and len(count_asps[count_asps > len_asps - 1])\n",
    "# Last 60 days\t\n",
    "# 0 \tbets_total \t2.002222\n",
    "# 1 \tbets_total_f0 \t1.097407\n",
    "# 2 \tbets_total_f05 \t1.262963\n",
    "# 3 \tmean_bets_total \t1.134444\n",
    "# 4 \tmean_bets_total_f0 \t1.134444\n",
    "# 5 \tmean_bets_total_f05 \t1.344444\n",
    "\n",
    "# Last 120 days\n",
    "\t\n",
    "# 0 \tbets_total \t1.648636\n",
    "# 1 \tbets_total_f0 \t0.980455\n",
    "# 2 \tbets_total_f05 \t1.062955\n",
    "# 3 \tmean_bets_total \t1.427955\n",
    "# 4 \tmean_bets_total_f0 \t1.427955\n",
    "# 5 \tmean_bets_total_f05 \t1.387500\n",
    "\n",
    "\n",
    "\n",
    "# \t720 days\n",
    "# 0 \tbets_total \t1.230305\n",
    "# 1 \tbets_total_f0 \t1.158286\n",
    "# 2 \tbets_total_f05 \t1.112066\n",
    "# 3 \tmean_bets_total \t1.279366\n",
    "# 4 \tmean_bets_total_f0 \t1.279366\n",
    "# 5 \tmean_bets_total_f05 \t1.200587\n",
    "\n",
    "# 1440 days\n",
    "# 0 \tbets_total \t1.105030\n",
    "# 1 \tbets_total_f0 \t1.084671\n",
    "# 2 \tbets_total_f05 \t1.054026\n",
    "# 3 \tmean_bets_total \t1.171673\n",
    "# 4 \tmean_bets_total_f0 \t1.171673\n",
    "# 5 \tmean_bets_total_f05 \t1.138542\n",
    "\n",
    "# if len_asps > 3 and len(count_asps[count_asps > len_asps - 1]) > 0:\n",
    "# \t720 days\n",
    "\n",
    "# 0 \tbets_total \t1.342489\n",
    "# 1 \tbets_total_f0 \t1.174936\n",
    "# 2 \tbets_total_f05 \t1.140215\n",
    "# 3 \tmean_bets_total \t1.240601\n",
    "# 4 \tmean_bets_total_f0 \t1.240601\n",
    "# 5 \tmean_bets_total_f05 \t1.211803\n",
    "\n",
    "\n",
    "# \t1080 days\n",
    "# 0 \tbets_total \t1.293865\n",
    "# 1 \tbets_total_f0 \t1.199018\n",
    "# 2 \tbets_total_f05 \t1.122239\n",
    "# 3 \tmean_bets_total \t1.233098\n",
    "# 4 \tmean_bets_total_f0 \t1.233098\n",
    "# 5 \tmean_bets_total_f05 \t1.164448\n",
    "\n",
    "\n",
    "# 1440 days\n",
    "# 0 \tbets_total \t1.182235\n",
    "# 1 \tbets_total_f0 \t1.116998\n",
    "# 2 \tbets_total_f05 \t1.082370\n",
    "# 3 \tmean_bets_total \t1.129932\n",
    "# 4 \tmean_bets_total_f0 \t1.129932\n",
    "# 5 \tmean_bets_total_f05 \t1.119097\n",
    "\n",
    "# if len_asps > 5 and len(count_asps[count_asps > len_asps - 1]) > 0:\n",
    "# 360 days \n",
    "# 0 \tbets_total \t1.2272\n",
    "# 1 \tbets_total_f0 \t0.8480\n",
    "# 2 \tbets_total_f05 \t0.8900\n",
    "# 3 \tmean_bets_total \t1.0668\n",
    "# 4 \tmean_bets_total_f0 \t1.0668\n",
    "# 5 \tmean_bets_total_f05 \t1.0300\n",
    "\n",
    "\n",
    "# 720 days\n",
    "# 0 \tbets_total \t1.103019\n",
    "# 1 \tbets_total_f0 \t0.832075\n",
    "# 2 \tbets_total_f05 \t0.864528\n",
    "# 3 \tmean_bets_total \t0.870189\n",
    "# 4 \tmean_bets_total_f0 \t0.870189\n",
    "# 5 \tmean_bets_total_f05 \t0.881509\n",
    "\n",
    "# 1080 days\n",
    "# 0 \tbets_total \t1.312281\n",
    "# 1 \tbets_total_f0 \t0.981053\n",
    "# 2 \tbets_total_f05 \t0.976842\n",
    "# 3 \tmean_bets_total \t1.016491\n",
    "# 4 \tmean_bets_total_f0 \t1.016491\n",
    "# 5 \tmean_bets_total_f05 \t0.992632\n",
    "\n",
    "# 1440 days\n",
    "# 0 \tbets_total \t1.091327\n",
    "# 1 \tbets_total_f0 \t0.900408\n",
    "# 2 \tbets_total_f05 \t0.969898\n",
    "# 3 \tmean_bets_total \t0.937959\n",
    "# 4 \tmean_bets_total_f0 \t0.937959\n",
    "# 5 \tmean_bets_total_f05 \t0.994286\n",
    "\n",
    "# if len_asps > 6 and len(count_asps[count_asps > len_asps - 1]) > 0:\n",
    "# 360 days\n",
    "# 0 \tbets_total \t1.14625\n",
    "# 1 \tbets_total_f0 \t1.16375\n",
    "# 2 \tbets_total_f05 \t1.08250\n",
    "# 3 \tmean_bets_total \t1.16375\n",
    "# 4 \tmean_bets_total_f0 \t1.16375\n",
    "# 5 \tmean_bets_total_f05 \t1.08250\n",
    "\n",
    "\n",
    "# if len_asps > 7 and len(count_asps[count_asps > len_asps - 1]) > 0:\n",
    "# 720 days\n",
    "\n",
    "# 0 \tbets_total \t1.287273\n",
    "# 1 \tbets_total_f0 \t1.020000\n",
    "# 2 \tbets_total_f05 \t0.947273\n",
    "# 3 \tmean_bets_total \t1.020000\n",
    "# 4 \tmean_bets_total_f0 \t1.020000\n",
    "# 5 \tmean_bets_total_f05 \t0.947273\n",
    "\n",
    "# 1080 days\n",
    "# 0 \tbets_total \t1.287273\n",
    "# 1 \tbets_total_f0 \t1.020000\n",
    "# 2 \tbets_total_f05 \t0.947273\n",
    "# 3 \tmean_bets_total \t1.020000\n",
    "# 4 \tmean_bets_total_f0 \t1.020000\n",
    "# 5 \tmean_bets_total_f05 \t0.947273"
   ]
  },
  {
   "cell_type": "code",
   "execution_count": null,
   "id": "f69ef7fc-e99b-46d0-a950-627ea3cc0fc0",
   "metadata": {},
   "outputs": [],
   "source": [
    "# df_profit = pd.DataFrame(date_profit_lt, columns=['date', 'sum_bets', 'count_games', 'profit'])\n",
    "# df_profit"
   ]
  },
  {
   "cell_type": "code",
   "execution_count": null,
   "id": "180d898c-d5c5-45d3-812f-44593dddebe0",
   "metadata": {},
   "outputs": [],
   "source": [
    "# df_all_count_asps.head(10)"
   ]
  },
  {
   "cell_type": "code",
   "execution_count": null,
   "id": "c3baab07-f348-4e54-97f5-5c8923e29b7e",
   "metadata": {},
   "outputs": [],
   "source": [
    "# Add more biggest different before mean statistic and statistic with some aspects gor win, drow and loss\n",
    "# Add column with bets coefs for all equal aspects "
   ]
  },
  {
   "cell_type": "code",
   "execution_count": null,
   "id": "0436260b-43d8-4f00-bbc2-0c2aacc43eba",
   "metadata": {},
   "outputs": [],
   "source": [
    "# df_main_asps[df_main_asps.game_id == '1735528'].fs_asps_wt_pls"
   ]
  },
  {
   "cell_type": "code",
   "execution_count": null,
   "id": "6a97b3d5-edc7-45b0-9736-2f98a37f3db5",
   "metadata": {},
   "outputs": [],
   "source": [
    "# df_main_asps[df_main_asps.game_id.isin(df_count_asps.loc['1901627'].game_id_eq_asps)].fs_asps_wt_pls.value_counts().head()"
   ]
  },
  {
   "cell_type": "code",
   "execution_count": null,
   "id": "731f87e5-97fb-4d12-b4c2-e76d0c4c7148",
   "metadata": {},
   "outputs": [],
   "source": [
    "# df_main_asps[df_main_asps.game_id == '1951686'].fs_asps_wt_pls"
   ]
  },
  {
   "cell_type": "code",
   "execution_count": null,
   "id": "9b1e789a-9b18-4bb6-96b6-6e6c9ecb38fb",
   "metadata": {},
   "outputs": [],
   "source": [
    "# df_main_asps[df_main_asps.game_id.isin(df_count_asps.loc['1951686'].game_id_eq_asps)].fs_asps_wt_pls.value_counts().head()"
   ]
  },
  {
   "cell_type": "code",
   "execution_count": null,
   "id": "d5a6c4dc-e4a7-4b7e-a1b5-f504444574df",
   "metadata": {},
   "outputs": [],
   "source": [
    "# ind = 5\n",
    "\n",
    "# asps = df_main_asps[df_main_asps.game_id == df_unique_game_id.iloc[ind].game_id].fs_asps_wt_pls.to_list()\n",
    "# asps"
   ]
  },
  {
   "cell_type": "code",
   "execution_count": null,
   "id": "31f29c7b-0158-47f7-a500-f4fa6dcc1f90",
   "metadata": {},
   "outputs": [],
   "source": [
    "# df_main_asps[df_main_asps.game_id == '10934817']"
   ]
  },
  {
   "cell_type": "code",
   "execution_count": null,
   "id": "a95c27d2-e7aa-4272-9283-fa2d40488e41",
   "metadata": {},
   "outputs": [],
   "source": [
    "# df_unique_game_id.iloc[ind]"
   ]
  },
  {
   "cell_type": "code",
   "execution_count": null,
   "id": "39bca37c-6252-4b4b-bd55-f6e969ebac29",
   "metadata": {},
   "outputs": [],
   "source": [
    "# asps = [ 'H1_c_Pl', 'Mn_o_PF', 'H10_c_APl']# 'V10_o_ANN', 'H4_c_ADPF', 'Ur_o_V7', 'Mn_o_AV10',] \n",
    "\n",
    "# sr_game_ids     = df_main_asps[df_main_asps.fs_asps_wt_pls.isin(asps)].game_id.value_counts()\n",
    "# ind_sr_game_ids = sr_game_ids[sr_game_ids > len(asps) - 4].index\n",
    "\n",
    "# df_unique_game_id[df_unique_game_id.game_id.isin(ind_sr_game_ids)].result.value_counts()"
   ]
  },
  {
   "cell_type": "code",
   "execution_count": null,
   "id": "914e6283-2245-4e1f-8e3b-e56ab665fe63",
   "metadata": {},
   "outputs": [],
   "source": [
    "# df_unique_game_id.iloc[ind].result"
   ]
  },
  {
   "cell_type": "code",
   "execution_count": null,
   "id": "eb603a4c-e841-4f57-978a-9c6d86de1cbd",
   "metadata": {},
   "outputs": [],
   "source": [
    "#    res     - st_res       / fora\n",
    "# 1. fav_win - fav_win    - fav_win_bets\n",
    "# 2. fav_win - fav_drow   - 0\n",
    "# 3. fav_win - fav_loss   - 0\n",
    "\n",
    "# 4. fav_drow - fav_drow  - fav_drow_bets / 1\n",
    "# 5. fav_drow - fav_win   - 0\n",
    "# 6. fav_drow - fav_loss  - 0 / 1\n",
    "\n",
    "# 7. fav_loss - fav_loss  - fav_loss_bets / fav_loss_bets:0 / fav_loss_bets:0.5 \n",
    "# 8. fav_loss - fav_win   - 0\n",
    "# 9. fav_loss - fav_drow  - 0 / fav_loss_bets:0 / fav_loss_bets:0.5"
   ]
  },
  {
   "cell_type": "code",
   "execution_count": null,
   "id": "72605eb0-5a02-495c-98f6-1c45cd53ba7d",
   "metadata": {},
   "outputs": [],
   "source": [
    "# # Sample list\n",
    "# numeric_list = [1, 3, 11.3, 12, 15, 16.7, 25]\n",
    "\n",
    "# # Given number\n",
    "# given_number = 14\n",
    "\n",
    "# # Define the range\n",
    "# range_limit = 3\n",
    "\n",
    "# # Find the three closest numeric values within the given range\n",
    "# closest_values = sorted((x for x in numeric_list if given_number - range_limit <= x <= given_number + range_limit), key=lambda x: abs(x - given_number))[:4]\n",
    "\n",
    "# print(\"Three closest numeric values within range:\", closest_values)"
   ]
  },
  {
   "cell_type": "code",
   "execution_count": null,
   "id": "5b04922a-4973-4ad4-91e3-56bb91a91070",
   "metadata": {},
   "outputs": [],
   "source": []
  },
  {
   "cell_type": "code",
   "execution_count": null,
   "id": "0da6b2b1-8f1e-4467-ac2f-d129e0a76afc",
   "metadata": {},
   "outputs": [],
   "source": [
    "Stop"
   ]
  },
  {
   "cell_type": "code",
   "execution_count": null,
   "id": "cab63ebf-6252-4373-a168-4590da4ead14",
   "metadata": {},
   "outputs": [],
   "source": [
    "col_names   = ['fs_asps', 'cnt_asp_for_day', 'fs_asps_wt_pls', 'month_yr', 'cnt_asp_wt_pls_for_day'][2:4] # \n",
    "print('col_names -', col_names)\n",
    "asps_cnt_lt = ['fs_asps_count', 'fs_asps_count_wt_pls'][1]"
   ]
  },
  {
   "cell_type": "code",
   "execution_count": null,
   "id": "254e25e9-cdd2-4b70-896c-5102d6518858",
   "metadata": {},
   "outputs": [],
   "source": [
    "fav_win  = StatDataPrepare.fav_win_count\n",
    "fav_drow = StatDataPrepare.fav_drow_count\n",
    "fav_loss = StatDataPrepare.fav_loss_count"
   ]
  },
  {
   "cell_type": "code",
   "execution_count": null,
   "id": "6f0c212f-4f79-4ac4-baa8-2b52b750bd28",
   "metadata": {},
   "outputs": [],
   "source": [
    "df_stat   = df_main_asps.groupby(col_names).agg({'day_month_yr':'nunique', 'f_point':'nunique', 's_point':'nunique',\n",
    "                                     'result':['count', fav_win, fav_drow, fav_loss], # lambda x: x.tolist() - rename: '<lambda_0>':'list_results'\n",
    "                                     'win_bets':'sum', 'drow_bets':'sum', 'loss_bets':'sum',            \n",
    "                                    }).rename(columns={'count':'games', 'fav_win_count':'fav_win', 'fav_drow_count':'fav_drow', 'fav_loss_count':'fav_loss', })\n",
    "\n",
    "df_stat['win_prof']  = round(df_stat[('win_bets', 'sum')] / df_stat[('result', 'games')], 2)\n",
    "df_stat['drow_prof'] = round(df_stat[('drow_bets', 'sum')] / df_stat[('result', 'games')], 2)\n",
    "df_stat['loss_prof'] = round(df_stat[('loss_bets', 'sum')] / df_stat[('result', 'games')], 2)"
   ]
  },
  {
   "cell_type": "code",
   "execution_count": null,
   "id": "ee699381-7102-47a7-87b2-b730c332023d",
   "metadata": {},
   "outputs": [],
   "source": [
    "count_greater_than_1 = lambda x: (x > 1).sum()"
   ]
  },
  {
   "cell_type": "code",
   "execution_count": null,
   "id": "1403ca3e-0eba-4e5d-a10d-352698b1bdfc",
   "metadata": {},
   "outputs": [],
   "source": [
    "df_fs_asps_stat = df_stat.groupby(level=col_names[0]).agg({('loss_prof',''): count_greater_than_1, ('day_month_yr', 'nunique'):'sum', ('result', 'games'):'sum', ('win_bets', 'sum'):'sum', ('drow_bets', 'sum'):'sum', \n",
    "                                                           ('loss_bets', 'sum'):'sum', ('result', 'fav_loss'):'sum'}).rename(\n",
    "                                                               columns={'win_bets': 'fs_asps_win_bets', 'drow_bets': 'fs_asps_drow_bets', 'loss_bets': 'fs_asps_loss_bets'})   \n",
    "\n",
    "df_stat = df_stat.merge(df_fs_asps_stat, how='left', left_index=True, right_index=True).rename(columns={'loss_prof_y':'month_profit_ov_1','loss_prof_x':'loss_prof', 'day_month_yr_x':'day_month_yr', 'day_month_yr_y':'fs_asps_day_month_yr', \n",
    "                                                                                                        'result_x':'result', 'result_y':'fs_asps_result'}).rename_axis(index={'cnt_asp_wt_pls_for_day':'cawpfd'})\n",
    "\n",
    "df_stat['fs_win_prof']  = round(df_stat[('fs_asps_win_bets', 'sum')] / df_stat[('fs_asps_result', 'games')], 2)\n",
    "df_stat['fs_drow_prof'] = round(df_stat[('fs_asps_drow_bets', 'sum')] / df_stat[('fs_asps_result', 'games')], 2)\n",
    "df_stat['fs_loss_prof'] = round(df_stat[('fs_asps_loss_bets', 'sum')] / df_stat[('fs_asps_result', 'games')], 2)"
   ]
  },
  {
   "cell_type": "code",
   "execution_count": 222,
   "id": "45319d99-6767-41d7-86ac-ee971e496abb",
   "metadata": {},
   "outputs": [
    {
     "ename": "NameError",
     "evalue": "name 'df_fs_asps_stat' is not defined",
     "output_type": "error",
     "traceback": [
      "\u001b[0;31m---------------------------------------------------------------------------\u001b[0m",
      "\u001b[0;31mNameError\u001b[0m                                 Traceback (most recent call last)",
      "Input \u001b[0;32mIn [222]\u001b[0m, in \u001b[0;36m<cell line: 1>\u001b[0;34m()\u001b[0m\n\u001b[0;32m----> 1\u001b[0m \u001b[43mdf_fs_asps_stat\u001b[49m\n",
      "\u001b[0;31mNameError\u001b[0m: name 'df_fs_asps_stat' is not defined"
     ]
    }
   ],
   "source": [
    "df_fs_asps_stat"
   ]
  },
  {
   "cell_type": "code",
   "execution_count": null,
   "id": "05e2dedd-d248-4dc5-8ddc-794cba58b4e4",
   "metadata": {},
   "outputs": [],
   "source": [
    "df_month_yr = df_stat.index.get_level_values('fs_asps_wt_pls').value_counts().to_frame()\n",
    "df_month_yr.reset_index(inplace=True)\n",
    "df_month_yr.rename(columns={'index':'fawp', 'fs_asps_wt_pls':'month_yr_count'}, inplace=True)\n",
    "df_month_yr.tail()"
   ]
  },
  {
   "cell_type": "code",
   "execution_count": null,
   "id": "fb37ed9c-e785-43f8-b249-6bdea1e7c337",
   "metadata": {},
   "outputs": [],
   "source": [
    "fs_asps_wt_pls_lt = df_stat.reset_index().fs_asps_wt_pls.to_list()\n",
    "\n",
    "df_fawp = pd.DataFrame()\n",
    "df_fawp['fawp'] = fs_asps_wt_pls_lt\n",
    "df_fawp = df_fawp.merge(df_month_yr, how='left', left_on = 'fawp', right_on = 'fawp')\n",
    "\n",
    "df_stat['month_yr_count'] = df_fawp.month_yr_count.to_list()\n",
    "df_stat.insert(0, 'month_yr_count', df_stat.pop('month_yr_count'))"
   ]
  },
  {
   "cell_type": "code",
   "execution_count": null,
   "id": "612c2a2b-fdd5-4f57-90e2-cae16297163f",
   "metadata": {},
   "outputs": [],
   "source": [
    "df_stat.insert(1, 'month_profit_ov_1', df_stat.pop('month_profit_ov_1'))\n",
    "df_stat.insert(15, ('fs_asps_result', 'fav_loss'), df_stat.pop(('fs_asps_result', 'fav_loss')))"
   ]
  },
  {
   "cell_type": "code",
   "execution_count": null,
   "id": "594e27bc-466a-44a0-9c20-bf9533a413a0",
   "metadata": {},
   "outputs": [],
   "source": [
    "# Relationship resuts by games count for Fav Pre roles only in full DF\n",
    "df_exp = df_unique_game_id[df_unique_game_id.host_role.isin(['Fav', 'Pre'])].copy()\n",
    "df_exp.reset_index(drop=True, inplace=True)\n",
    "\n",
    "print('shape - df_exp       - ', df_exp.shape[0])\n",
    "coef_fav_win = round(df_exp.shape[0] / df_exp[df_exp.result == 'fav_win'].shape[0], 2)\n",
    "print('df_exp fav_win       - ', coef_fav_win, ' - count -', df_exp[df_exp.result == 'fav_win'].shape[0])\n",
    "coef_fav_drow = round(df_exp.shape[0] / df_exp[df_exp.result=='fav_drow'].shape[0], 2)\n",
    "print('df_exp fav_drow      - ', coef_fav_drow, ' - count -', df_exp[df_exp.result == 'fav_drow'].shape[0])\n",
    "coef_fav_loss = round(df_exp.shape[0] / df_exp[df_exp.result=='fav_loss'].shape[0], 2)\n",
    "print('df_exp fav_loss      - ', coef_fav_loss, ' - count -', df_exp[df_exp.result == 'fav_loss'].shape[0])"
   ]
  },
  {
   "cell_type": "code",
   "execution_count": null,
   "id": "7b9b263f-dcbc-4ffc-88e7-e7d9af2d777e",
   "metadata": {},
   "outputs": [],
   "source": [
    "print('Uniq days -', len(df_main_asps.day_month_yr.unique()), '                 ***********************************************************')\n",
    "print('Uniq month -', len(df_main_asps.month_yr.unique()))"
   ]
  },
  {
   "cell_type": "code",
   "execution_count": null,
   "id": "045ea5dd-fac6-4527-b78a-bfc8c47dacc7",
   "metadata": {},
   "outputs": [],
   "source": [
    "df_asps_w_profit = df_stat[((df_stat.fs_win_prof > 1.01) | (df_stat.fs_drow_prof > 1.01) | (df_stat.fs_loss_prof > 1.01)) & (df_stat[('fs_asps_day_month_yr', 'nunique')] > 200)].sort_values(by='fs_loss_prof', ascending=False)\n",
    "df_asps_w_profit.head(1000)"
   ]
  },
  {
   "cell_type": "code",
   "execution_count": null,
   "id": "4055717b-9dfb-4411-b330-fe4f95e5ccdc",
   "metadata": {},
   "outputs": [],
   "source": [
    "# 10 H1_c_Pl        \t1 \t22 \t1 \t1 \t22 \t17 \t3 \t2 \t20.39 \t20.5 \t40.5 \t0.93 \t0.93 1.84 \t730 \t1128 \t1053.94 \t873.12 \t     1668.0 \t0.93 \t0.77 \t1.48\n",
    "\n",
    "# 9 - H1_c_Pl \t      1 \t24 \t1 \t1 \t24 \t19 \t3 \t2 \t22.92 \t20.5 \t40.5 \t0.96 \t0.85 1.69 \t832 \t1376 \t1294.42 \t1069.05 \t1896.0 \t   0.94 \t0.78 \t1.38\n",
    "\n",
    "# 8.5 - H1_c_Pl \t  1 \t26 \t1 \t1 \t26 \t20 \t3 \t3 \t24.22 \t20.5 \t50.5 \t0.93 \t0.79 1.94 \t885 \t1547 \t1463.2 \t    1202.04 \t2035.71 \t0.95 \t0.78 \t1.32\n",
    "# 8.5 - Mn_o_PF     \t1 \t49 \t1 \t1 \t50 \t45 \t2 \t3 \t54.06 \t10.45 \t44.0 \t1.08 \t0.21 0.88 \t912 \t1133 \t1100.23 \t  760.64 \t1313.04 \t0.97 \t0.67 \t1.16\n",
    "\n",
    "# 8 - H1_c_Pl   \t1 \t32 \t1 \t1 \t32 \t25 \t4 \t3 \t30.86 \t24.62 \t50.5 \t0.96 \t0.77 \t1.58 \t954 \t1740 \t1640.06 \t1407.81 \t2216.46 \t0.94 \t0.81 \t1.27\n",
    "\n",
    "# 7.5 - H1_c_Pl   \t1 \t38 \t1 \t1 \t38 \t29 \t6 \t3 \t36.31 \t33.61 \t50.5 \t0.96 \t0.88 \t1.33 \t1014 \t1918 \t1811.76 \t1559.81 \t2367.02 \t0.94 \t0.81 \t1.23\n",
    "# 7 - H1_c_Pl \t      1 \t41 \t1 \t1 \t41 \t30 \t7 \t4 \t37.63 \t39.31 \t58.9 \t0.92 \t0.96 1.44   1082 \t2166 \t2039.8 \t    1783.98 \t2641.22 \t0.94 \t0.82 \t1.22\n",
    "# 6.5 - H1_c_Pl     \t1 \t48 \t1 \t1 \t48 \t33 \t8 \t7 \t41.96 \t44.16 \t83.2 \t0.87 \t0.92 1.73 \t1169 \t2490 \t2340.83 \t2043.96 \t3037.5 \t    0.94 \t0.82 \t1.22\n",
    "# 6 - H1_c_Pl \t      1 \t56 \t1 \t1 \t56 \t40 \t8 \t8 \t51.72 \t44.16 \t91.0 \t0.92 \t0.79 1.62 \t1260 \t2849 \t2680.44 \t2381.58 \t3359.0  \t0.94 \t0.84 \t1.18\n",
    "# 5.5 - Mn_t_PF 136 \t2 \t1 \t1 \t4 \t3 \t0 \t1 \t4.29 \t0.0 \t13.5 \t1.07 \t0.0 \t3.38 \t1292 \t2069 \t1992.13 \t1516.42 \t2394.45 \t0.96 \t0.73 \t1.16\n",
    "\n",
    "\n",
    "# 2.5-H4_c_APF \t31 \t    2 \t1 \t1 \t6 \t3 \t1 \t2 \t4.37 \t3.96 \t10.4 \t0.73 \t0.66 \t1.73 \t1279 \t2223 \t2018.19 \t2075.79 \t2534.74 \t0.91 \t0.93 \t1.14\n",
    "# 3 - H4_c_APF \t100 \t1 \t1 \t1 \t5 \t2 \t1 \t2 \t3.12 \t4.25 \t10.6 \t0.62 \t0.85 \t2.12 \t1146 \t1870 \t1710.25 \t1743.39 \t2140.59 \t0.91 \t0.93 \t1.14\n",
    "# 3.5-H4_c_APF \t1   150 1 \t1 \t151 \t100 \t34 \t17 \t138.15 \t152.81 \t126.2 \t0.91  1.01 0.84 \t1013 \t1571 \t1441.17 \t1481.96 \t1797.15 \t0.92 \t0.94 \t1.14\n",
    "# 2 - H4_c_APF \t107 \t1 \t1 \t1 \t7 \t4 \t1 \t2 \t7.2 \t4.0 \t10.0 \t1.03 \t0.57 \t1.43 \t1422 \t2656 \t2414.49 \t2488.79 \t2961.65 \t0.91 \t0.94 \t1.12\n",
    "# 1 - H4_c_APF \t11 \t37 \t1 \t1 \t135 \t77 \t29 \t29 \t129.78 \t119.81 \t150.61 \t0.96 \t0.89 \t1.12 \t1709 \t3929 \t3616.66 \t3683.83 \t4158.32 \t0.92 \t0.94 \t1.06\n",
    "\n",
    "\n",
    "# 4.5 - H1_c_Pl \t1 \t83 \t1 \t1 \t83 \t57 \t13 \t13 \t77.15 \t64.94 \t125.23 \t0.93 \t0.78 \t1.51 \t1518 \t4357 \t4068.25 \t3798.68 \t4927.04 \t0.93 \t0.87 \t1.13\n",
    "# 5 -   H1_c_Pl \t1 \t75 \t1 \t1 \t75 \t51 \t12 \t12 \t68.01 \t60.99 \t119.08 \t0.91 \t0.81 \t1.59 \t1433 \t3753 \t3517.09 \t3246.56 \t4257.64 \t0.94 \t0.87 \t1.13\n",
    "\n",
    "\n",
    "# 4 - Mn_q_APF \t119 \t1 \t1 \t1 \t5 \t5 \t0 \t0 \t7.38 \t0.0 \t0.0 \t1.48 \t0.0 \t0.0 \t1405 \t2577 \t2417.34 \t2172.62 \t2887.22 \t0.94 \t0.84 \t1.12\n",
    "# 1.5 - PF_c_Pl \t22 \t11 \t1 \t1 \t58 \t34 \t13 \t11 \t56.69 \t52.43 \t51.23 \t0.98 \t0.9 \t0.88 \t1180 \t3312 \t3092.89 \t2989.15 \t3560.81 \t0.93 \t0.9 \t1.08\n",
    "\n",
    "\n",
    "# 0.5 - H7_c_ANN \t106 \t1 \t1 \t1 \t51 \t27 \t15 \t9 \t53.72 \t54.44 \t32.78 \t1.05 \t1.07 0.64 \t1407 \t5395 \t5061.64 \t4810.1 \t     5597.0 \t0.94 \t0.89 \t1.04\n"
   ]
  },
  {
   "cell_type": "code",
   "execution_count": null,
   "id": "6ea65c57-01f4-4d01-9a77-0b7c2eb2dc3a",
   "metadata": {},
   "outputs": [],
   "source": [
    "# string = 'V1_c_APS'\n",
    "\n",
    "# for key, val in asps_cnt_lt.items():\n",
    "#     if string in key[1]:\n",
    "#         print(key[1], val)"
   ]
  },
  {
   "cell_type": "code",
   "execution_count": null,
   "id": "f811acf1-82c5-4a3e-ab1e-e95e3972b947",
   "metadata": {},
   "outputs": [],
   "source": [
    "# asp     = string\n",
    "# cnt_asp = 4\n",
    "# col_res = '1'\n",
    "# df_main_asps[(df_main_asps[col_names[0]] == asp)].sort_values(by='game_utc')[['game_utc', 'fs_asps', 'cnt_asp_for_day', 'result', col_res]]  #& (df_main_asps[col_names[1]] == cnt_asp)]#"
   ]
  },
  {
   "cell_type": "code",
   "execution_count": null,
   "id": "64f627a9-09dc-4dc1-b5ea-8e6129a8fea5",
   "metadata": {},
   "outputs": [],
   "source": [
    "# df_asps_w_profit.columns"
   ]
  },
  {
   "cell_type": "code",
   "execution_count": null,
   "id": "d40c0351-7292-4940-ab5f-d27691842d53",
   "metadata": {},
   "outputs": [],
   "source": [
    "Stop *********************************************************************************************"
   ]
  },
  {
   "cell_type": "code",
   "execution_count": null,
   "id": "ae2b0602-aac3-4889-a6a1-287f03f04a10",
   "metadata": {},
   "outputs": [],
   "source": [
    "# with open('pickle_files/aspected_files/df_asps_w_profit_06_09__06_08_2023', 'rb') as f:\n",
    "#     df_sept = pickle.load(f)\n",
    "\n",
    "# with open('pickle_files/aspected_files/df_asps_w_profit_06_05__06_04_2023', 'rb') as f:\n",
    "#     df_aprl = pickle.load(f)    \n",
    "    \n",
    "# with open('pickle_files/aspected_files/df_asps_w_profit_15_02__15_01_2023', 'rb') as f:\n",
    "#     df_febr = pickle.load(f)    "
   ]
  },
  {
   "cell_type": "code",
   "execution_count": null,
   "id": "b259de63-bc60-4473-91c2-fb08bba60bb1",
   "metadata": {},
   "outputs": [],
   "source": [
    "# df_sept[df_sept.index.get_level_values(0).isin(df_aprl.index.get_level_values(0))]"
   ]
  },
  {
   "cell_type": "code",
   "execution_count": null,
   "id": "78d5e01c-5152-42b2-af5d-a4f63a88c677",
   "metadata": {},
   "outputs": [],
   "source": [
    "for x in df_asps_w_profit.index.get_level_values(0).unique():\n",
    "    if x in df_sept.index.get_level_values(0).unique() and x in df_aprl.index.get_level_values(0).unique() and x in df_febr.index.get_level_values(0).unique():\n",
    "        print(x)"
   ]
  },
  {
   "cell_type": "code",
   "execution_count": null,
   "id": "322af58e-edf1-49f8-9361-d68847d8177d",
   "metadata": {},
   "outputs": [],
   "source": [
    "len(df_sept.index.get_level_values(0).unique())"
   ]
  },
  {
   "cell_type": "code",
   "execution_count": null,
   "id": "b9f90451-70ce-4455-84eb-e855165d5f09",
   "metadata": {},
   "outputs": [],
   "source": [
    "res_ind = ['H1_c_ADPS']\n",
    "res_ind"
   ]
  },
  {
   "cell_type": "code",
   "execution_count": null,
   "id": "b9985dd2-0f8e-4ead-a51f-deb691117016",
   "metadata": {},
   "outputs": [],
   "source": [
    "df_sept[df_sept.index.get_level_values(0).isin(res_ind)]"
   ]
  },
  {
   "cell_type": "code",
   "execution_count": 223,
   "id": "d6f892de-2720-4ecf-87f4-3e895d47e7ce",
   "metadata": {},
   "outputs": [
    {
     "ename": "NameError",
     "evalue": "name 'df_aprl' is not defined",
     "output_type": "error",
     "traceback": [
      "\u001b[0;31m---------------------------------------------------------------------------\u001b[0m",
      "\u001b[0;31mNameError\u001b[0m                                 Traceback (most recent call last)",
      "Input \u001b[0;32mIn [223]\u001b[0m, in \u001b[0;36m<cell line: 1>\u001b[0;34m()\u001b[0m\n\u001b[0;32m----> 1\u001b[0m \u001b[43mdf_aprl\u001b[49m[df_aprl\u001b[38;5;241m.\u001b[39mindex\u001b[38;5;241m.\u001b[39mget_level_values(\u001b[38;5;241m0\u001b[39m)\u001b[38;5;241m.\u001b[39misin(res_ind)]\n",
      "\u001b[0;31mNameError\u001b[0m: name 'df_aprl' is not defined"
     ]
    }
   ],
   "source": [
    "df_aprl[df_aprl.index.get_level_values(0).isin(res_ind)]"
   ]
  },
  {
   "cell_type": "code",
   "execution_count": null,
   "id": "61797c8f-348c-4820-819e-edb7623acee3",
   "metadata": {},
   "outputs": [],
   "source": [
    "df_febr[df_febr.index.get_level_values(0).isin(res_ind)]"
   ]
  },
  {
   "cell_type": "code",
   "execution_count": null,
   "id": "9fd31387-beb4-45e9-995a-89398463b4a9",
   "metadata": {},
   "outputs": [],
   "source": [
    "df_asps_w_profit[df_asps_w_profit.index.get_level_values(0).isin(res_ind)]"
   ]
  },
  {
   "cell_type": "code",
   "execution_count": null,
   "id": "ca30816c-38cf-4fa2-80b7-1ac932392e96",
   "metadata": {},
   "outputs": [],
   "source": [
    "# file = open('pickle_files/aspected_files/df_asps_w_profit_15_02__15_01_2023', 'wb')\n",
    "# pickle.dump(df_asps_w_profit, file) \n",
    "# file.close()"
   ]
  },
  {
   "cell_type": "code",
   "execution_count": null,
   "id": "919fe769-aea2-46ac-86ad-462d1c9d3d37",
   "metadata": {},
   "outputs": [],
   "source": [
    "Stop ********************************************************************************************"
   ]
  },
  {
   "cell_type": "code",
   "execution_count": null,
   "id": "782314fe-34a8-454a-8403-805cee2ff3dc",
   "metadata": {},
   "outputs": [],
   "source": [
    "main_asps_lt = df_main_asps.fs_asps.value_counts(ascending=True).keys().to_list()"
   ]
  },
  {
   "cell_type": "code",
   "execution_count": null,
   "id": "011db656-e278-4350-b07d-f478add833b7",
   "metadata": {},
   "outputs": [],
   "source": [
    "reserch_asps = ['Mn_c_ADPS', 'PS_c_DPS', 'V7-DPS_c_APS', 'H4_c_Ur', 'Mn_i_APS', 'H1_c_Pl', 'Mn_c_ASn-AV7', 'V10-DPS_c_ANp', 'H10_c_Pl', 'Mn_q_APS', 'Mn_t_PF', 'Mn_o_PF',\n",
    "               'Mn_o_PS']\n",
    "\n",
    "str(df_main_asps[df_main_asps.fs_asps.isin(reserch_asps)].fs_asps_count.unique())"
   ]
  },
  {
   "cell_type": "code",
   "execution_count": null,
   "id": "07a5a8bc-b599-4fb7-882a-47ac09116b0c",
   "metadata": {},
   "outputs": [],
   "source": [
    "# 'Mn_c_ADPS' - f, PS_c_DPS - p, V7-DPS_c_APS - p\n",
    "# 'H4_c_Ur' - (16-6 drow-25.21, 18-6 drow-19.57, 5-1 drow-4.3, 43-10 drow-.., 4-2 loss-9.5), \n",
    "# 'Mn_i_APS'- (7-5 drow-17.56, 6-2 drow-6.3, 7-2 drow-7.65, 15-8 drow-29.6, 8-4 drow-15)\n",
    "# 'H1_c_Pl' - (31-8 drow-33.5, 35-11 drow-37.59, 13-4 drow-13.9, 24-5 drow-20.7)\n",
    "# 'Mn_c_ASn-AV7' - (2-2 drow-7.7, 32-11 drow-37.94)\n",
    "# 'V10-DPS_c_ANp' - (4- 2 drow-7.1,)\n",
    "# 'H10_c_Pl' - (3-2 drow-7.17, 6-3 loss-13.12, 2-1 drow-7.1[1 loss-3.25], 2-1 drow-7.1)\n",
    "# 'Mn_q_APS' - (6-2 loss-9.3, 29-21 win-33.8)\n",
    "# 'Mn_t_PF' - (23-21 win-33.7, 27-23 win-5 bets)"
   ]
  },
  {
   "cell_type": "code",
   "execution_count": null,
   "id": "0d870961-bfbb-44cc-aa43-c0ddc40ee920",
   "metadata": {},
   "outputs": [],
   "source": [
    "# Find some aspects\n",
    "seek_asp =  main_asps_lt[0] + '_1'\n",
    "print(seek_asp)\n",
    "seek_inds = list(map(lambda x: [x[0] for val in x[1] if seek_asp == val], enumerate(df.fs_asps_count)))\n",
    "seek_inds = [x[0] for x in seek_inds if x != []]\n",
    "seek_gid = list(df[df.index.isin(seek_inds)].game_id.values)\n",
    "df[df.index.isin(seek_inds)]"
   ]
  },
  {
   "cell_type": "code",
   "execution_count": null,
   "id": "1f1d6a8c-b8ea-4b0d-8829-ac309a836e1b",
   "metadata": {},
   "outputs": [],
   "source": [
    "df_main_asps.head(1)"
   ]
  },
  {
   "cell_type": "code",
   "execution_count": null,
   "id": "6a95088f-57ba-4b23-b5e9-409cca961f02",
   "metadata": {},
   "outputs": [],
   "source": [
    "df_main_asps[df_main_asps.game_id.isin(seek_gid)][['f_point', 's_point', 'type', 'approach', 'sing', 'tr_orb', 'bp_asp', 'den_point', 'fmain_ch', 'smain_ch', 'f_role', 's_role', 'fs_asps', 'fs_asps_count']]"
   ]
  },
  {
   "cell_type": "code",
   "execution_count": null,
   "id": "79a88e2c-b7be-448b-8e71-2fffb5e1fee4",
   "metadata": {},
   "outputs": [],
   "source": [
    "# Find some aspects\n",
    "seek_asp_2 = 'Mn_o_PS_8'\n",
    "seek_inds_2 = list(map(lambda x: [x[0] for val in x[1] if seek_asp_2 == val], enumerate(df.fs_asps_count)))\n",
    "seek_inds_2 = [x[0] for x in seek_inds_2 if x != []]\n",
    "print('shape      ', df[df.index.isin(seek_inds_2)].shape[0])\n",
    "df[df.index.isin(seek_inds_2)].result.value_counts(dropna=False)"
   ]
  },
  {
   "cell_type": "code",
   "execution_count": null,
   "id": "aa4f9276-1004-4702-8c6f-07d9d3eabd33",
   "metadata": {},
   "outputs": [],
   "source": [
    "df_exp = df[df.index.isin(seek_inds_2)].copy()\n",
    "print('shape -', df_exp.shape[0])"
   ]
  },
  {
   "cell_type": "code",
   "execution_count": null,
   "id": "a982b1f8-8a88-4d54-97ea-e89e7c229742",
   "metadata": {},
   "outputs": [],
   "source": [
    "count_win = df_exp[df_exp[['host_role', 'result', '1', '2']].apply(lambda x: StatDataPrepare.fav_win_bets_statistic_coeff(x[0], x[1], x[2], x[3]), axis=1).values > 0].result.count()\n",
    "print('win - ', df_exp[['host_role', 'result', '1', '2']].apply(lambda x: StatDataPrepare.fav_win_bets_statistic_coeff(x[0], x[1], x[2], x[3]), axis=1).sum(), ' - ', count_win)"
   ]
  },
  {
   "cell_type": "code",
   "execution_count": null,
   "id": "bcd8f4b0-84cf-4472-a68d-2f8d118b16d3",
   "metadata": {},
   "outputs": [],
   "source": [
    "count_loss = df_exp[df_exp[['host_role', 'result', '1', '2']].apply(lambda x: StatDataPrepare.fav_loss_bets_statistic_coeff(x[0], x[1], x[2], x[3]), axis=1).values > 0].result.count()\n",
    "print('loss -', df_exp[['host_role', 'result', '1', '2']].apply(lambda x: StatDataPrepare.fav_loss_bets_statistic_coeff(x[0], x[1], x[2], x[3]), axis=1).sum(), ' - ', count_loss)"
   ]
  },
  {
   "cell_type": "code",
   "execution_count": 224,
   "id": "2e18b687-2e2d-4fe4-90f1-5ee62f2e8c57",
   "metadata": {},
   "outputs": [
    {
     "ename": "NameError",
     "evalue": "name 'df_exp' is not defined",
     "output_type": "error",
     "traceback": [
      "\u001b[0;31m---------------------------------------------------------------------------\u001b[0m",
      "\u001b[0;31mNameError\u001b[0m                                 Traceback (most recent call last)",
      "Input \u001b[0;32mIn [224]\u001b[0m, in \u001b[0;36m<cell line: 1>\u001b[0;34m()\u001b[0m\n\u001b[0;32m----> 1\u001b[0m count_drow \u001b[38;5;241m=\u001b[39m \u001b[43mdf_exp\u001b[49m[df_exp[[\u001b[38;5;124m'\u001b[39m\u001b[38;5;124mresult\u001b[39m\u001b[38;5;124m'\u001b[39m, \u001b[38;5;124m'\u001b[39m\u001b[38;5;124mX\u001b[39m\u001b[38;5;124m'\u001b[39m]]\u001b[38;5;241m.\u001b[39mapply(\u001b[38;5;28;01mlambda\u001b[39;00m x: StatDataPrepare\u001b[38;5;241m.\u001b[39mfav_drow_bets_statistic_coeff(x[\u001b[38;5;241m0\u001b[39m], x[\u001b[38;5;241m1\u001b[39m]), axis\u001b[38;5;241m=\u001b[39m\u001b[38;5;241m1\u001b[39m)\u001b[38;5;241m.\u001b[39mvalues \u001b[38;5;241m>\u001b[39m \u001b[38;5;241m0\u001b[39m]\u001b[38;5;241m.\u001b[39mresult\u001b[38;5;241m.\u001b[39mcount()\n\u001b[1;32m      2\u001b[0m \u001b[38;5;28mprint\u001b[39m(\u001b[38;5;124m'\u001b[39m\u001b[38;5;124mdrow -\u001b[39m\u001b[38;5;124m'\u001b[39m, df_exp[[\u001b[38;5;124m'\u001b[39m\u001b[38;5;124mresult\u001b[39m\u001b[38;5;124m'\u001b[39m, \u001b[38;5;124m'\u001b[39m\u001b[38;5;124mX\u001b[39m\u001b[38;5;124m'\u001b[39m]]\u001b[38;5;241m.\u001b[39mapply(\u001b[38;5;28;01mlambda\u001b[39;00m x: StatDataPrepare\u001b[38;5;241m.\u001b[39mfav_drow_bets_statistic_coeff(x[\u001b[38;5;241m0\u001b[39m], x[\u001b[38;5;241m1\u001b[39m]), axis\u001b[38;5;241m=\u001b[39m\u001b[38;5;241m1\u001b[39m)\u001b[38;5;241m.\u001b[39msum(), \u001b[38;5;124m'\u001b[39m\u001b[38;5;124m - \u001b[39m\u001b[38;5;124m'\u001b[39m, count_drow)\n",
      "\u001b[0;31mNameError\u001b[0m: name 'df_exp' is not defined"
     ]
    }
   ],
   "source": [
    "count_drow = df_exp[df_exp[['result', 'X']].apply(lambda x: StatDataPrepare.fav_drow_bets_statistic_coeff(x[0], x[1]), axis=1).values > 0].result.count()\n",
    "print('drow -', df_exp[['result', 'X']].apply(lambda x: StatDataPrepare.fav_drow_bets_statistic_coeff(x[0], x[1]), axis=1).sum(), ' - ', count_drow)"
   ]
  },
  {
   "cell_type": "code",
   "execution_count": null,
   "id": "d2f6549f-7e8d-4d89-89b5-aba6dd27fd25",
   "metadata": {},
   "outputs": [],
   "source": [
    "seek_gid_2 = list(df[df.index.isin(seek_inds_2) & (df.result == 'fav_loss')].game_id)\n",
    "seek_gid_2"
   ]
  },
  {
   "cell_type": "code",
   "execution_count": null,
   "id": "67361dac-c717-45af-a978-8b9cc4148217",
   "metadata": {},
   "outputs": [],
   "source": [
    "df_main_asps[df_main_asps.game_id.isin(seek_gid_2)][['f_point', 's_point', 'type', 'approach', 'sing', 'tr_orb', 'bp_asp', 'den_point', 'fmain_ch', 'smain_ch', 'f_role', 's_role', 'fs_asps', 'fs_asps_count']]"
   ]
  },
  {
   "cell_type": "code",
   "execution_count": null,
   "id": "5db1f36d-a188-443b-ba59-3c849ab7a3f8",
   "metadata": {},
   "outputs": [],
   "source": [
    "# # Mean statistic\n",
    "df.result.value_counts(dropna=False)"
   ]
  },
  {
   "cell_type": "code",
   "execution_count": null,
   "id": "6aa8a8d8-b46e-42d4-9609-562d28236714",
   "metadata": {},
   "outputs": [],
   "source": [
    "Stop *****************************************************************************************************************************"
   ]
  },
  {
   "cell_type": "markdown",
   "id": "c193f671-84bb-4bad-b329-f3cd73afa94d",
   "metadata": {
    "tags": []
   },
   "source": [
    "### OLD RESEARCH"
   ]
  },
  {
   "cell_type": "code",
   "execution_count": null,
   "id": "b76973c8-766a-4508-89f2-c7cc19e43604",
   "metadata": {},
   "outputs": [],
   "source": [
    "## Load this file if need to check data about game\n",
    "# with open('pickle_files/aspected_files/df_games_desc_cr_10_08_2022', 'rb') as f:\n",
    "#     df_games_desc = pickle.load(f)\n",
    "# print('shape - df_games_desc  -', df_games_desc.shape)    "
   ]
  },
  {
   "cell_type": "code",
   "execution_count": null,
   "id": "384d8f47-a2a5-4d9a-b98c-b6749b24f2d8",
   "metadata": {},
   "outputs": [],
   "source": [
    "# df_games_desc.tail(2)"
   ]
  },
  {
   "cell_type": "code",
   "execution_count": null,
   "id": "8160bea1-cc8d-4370-ad1e-6c25af910139",
   "metadata": {},
   "outputs": [],
   "source": [
    "# Create table with best aspects for Pre and Fav, which view more changes about mean count relation between ('fav_win'+'fav_drow'/'fav_loss') and ('fav_win'/'fav_drow'+'fav_loss')\n",
    "# Add all aspect's changes for each game and create tabel with best game's rating changes."
   ]
  },
  {
   "cell_type": "code",
   "execution_count": null,
   "id": "94e79caf-4b8c-4365-ad5a-1afa98c65605",
   "metadata": {},
   "outputs": [],
   "source": [
    "with open('pickle_files/aspected_files/df_asps_table_cr_16_09_2022', 'rb') as f:\n",
    "    df_asps_tb = pickle.load(f)\n",
    "print('shape - df_asps_table  -', df_asps_tb.shape)    "
   ]
  },
  {
   "cell_type": "code",
   "execution_count": null,
   "id": "fa489f5c-053a-43e9-a5ef-f891a2acbc1b",
   "metadata": {},
   "outputs": [],
   "source": [
    "df_asps_tb.tail(2)"
   ]
  },
  {
   "cell_type": "markdown",
   "id": "bfb579d4-dbbb-47df-8c9c-b7b1512b4037",
   "metadata": {},
   "source": [
    "#### Fix errors in aspects orbs values"
   ]
  },
  {
   "cell_type": "code",
   "execution_count": null,
   "id": "bfc4ed44-495f-43dd-9c93-7e3e90d490a6",
   "metadata": {},
   "outputs": [],
   "source": [
    "df_orbs = df_asps_tb.tr_orb.value_counts(dropna=False, ascending=True).reset_index()"
   ]
  },
  {
   "cell_type": "code",
   "execution_count": null,
   "id": "21be19db-1df3-4eb5-93fe-36ab0161880e",
   "metadata": {},
   "outputs": [],
   "source": [
    "# 'index' col it's tr_orb values\n",
    "df_orbs.head()"
   ]
  },
  {
   "cell_type": "code",
   "execution_count": null,
   "id": "0244c623-dc4c-4d11-9d34-b2f984a37b30",
   "metadata": {},
   "outputs": [],
   "source": [
    "df_asps_tb.tr_orb = df_asps_tb.tr_orb.map(lambda x: StatDataPrepare.fix_erorr_aspects_values(x))"
   ]
  },
  {
   "cell_type": "code",
   "execution_count": null,
   "id": "79ff96f3-37b1-4cae-a71a-542940025c0d",
   "metadata": {},
   "outputs": [],
   "source": [
    "df_asps_tb.tr_orb.max()"
   ]
  },
  {
   "cell_type": "markdown",
   "id": "834f8665-8e28-4c9d-b8f1-8af9b3308464",
   "metadata": {},
   "source": [
    "#### Restructurisation aspects by rules"
   ]
  },
  {
   "cell_type": "code",
   "execution_count": null,
   "id": "78c36235-b5e9-49c4-8a81-f8bdf8e34432",
   "metadata": {},
   "outputs": [],
   "source": [
    "# Check some possible errors:\n",
    "# Haven't aspects between 'Pars Fortuna' - 'Antes Pluto' - it aspects exist as 'Antes Pars Fortuna' - 'Pluto'\n",
    "# Haven't aspects between 'Asc' - 'Pars Fortuna' - ?"
   ]
  },
  {
   "cell_type": "code",
   "execution_count": null,
   "id": "c820631e-2e40-492a-a96b-4d76f223c774",
   "metadata": {},
   "outputs": [],
   "source": [
    "# Keep one position from Rules in 'fmain_ch' and 'smain_ch'.\n",
    "# Concatinate f_point with fmain_ch, and s_point with smain_ch in two new columns."
   ]
  },
  {
   "cell_type": "code",
   "execution_count": null,
   "id": "0a550415-ea87-46fe-8279-aa28c550e8c7",
   "metadata": {},
   "outputs": [],
   "source": [
    "# Main rules:\n",
    "# Rules for correct work manifestation of aspects in 'fmain_ch' and 'smain_ch' columns.\n",
    "# \n",
    "# 'Moon' can't be any ruler or his antes:'ruler_asc', 'ruler_pars_fortuna', 'antes_ruler_mc' .\n",
    "# 'Saturn' can be only: 'ruler_asc', 'ruler_desc', 'antes_ruler_asc', 'antes_ruler_desc', if 'Saturn' has multiple rulers position as (ruler_asc, ruler_pars_fortuna) - \n",
    "#          keep only 'ruler_asc'. \n",
    "\n",
    "# For each planet besides ('Moon', 'Saturn') if it has ruler position as 'ruler_asc', 'ruler_desc' and their 'antes' - keep only it and in multiple position too. -----\n",
    "# For each planet besides ('Moon', 'Saturn') if it has ruler position as 'ruler_pars_fortuna' and other position as 'ruler_mc', 'ruler_ic' and their antes \n",
    "#          kepp 'ruler_pars_fortuna' and in multiple position too. ---------\n",
    "\n",
    "# Remove planets without description besides 'Moon', 'Saturn', 'Sun' and higher planets. ---------"
   ]
  },
  {
   "cell_type": "code",
   "execution_count": null,
   "id": "cd2aecfa-1b04-45fc-8e43-b389f149acec",
   "metadata": {},
   "outputs": [],
   "source": [
    "# Secondary rules:\n",
    "# Add first 'fsec_ch' or 'ssec_ch' characteristic for each septener's planet besides ('Moon', 'Saturn') if 'fmain_chg_chr' or 'smain_chg_chr' are empty."
   ]
  },
  {
   "cell_type": "markdown",
   "id": "7a0cf973-5ab3-4c98-8e40-68f40b38fdf5",
   "metadata": {},
   "source": [
    "#### Change aspects columns values by Main rules."
   ]
  },
  {
   "cell_type": "code",
   "execution_count": null,
   "id": "0bd01da2-2de0-4a17-bd6d-93bcb8587b29",
   "metadata": {},
   "outputs": [],
   "source": [
    "df_asps_tb['fmain_chg_chr'] = df_asps_tb[['f_point', 'fmain_ch']].apply(lambda x: StatDataPrepare.change_main_characteristic_by_rules(x[0], x[1]), axis=1)\n",
    "df_asps_tb['smain_chg_chr'] = df_asps_tb[['s_point', 'smain_ch']].apply(lambda x: StatDataPrepare.change_main_characteristic_by_rules(x[0], x[1]), axis=1)"
   ]
  },
  {
   "cell_type": "code",
   "execution_count": null,
   "id": "43492026-aab0-4f67-999e-2be7203b97e4",
   "metadata": {},
   "outputs": [],
   "source": [
    "df_asps_tb.fmain_chg_chr.value_counts(dropna=False)"
   ]
  },
  {
   "cell_type": "code",
   "execution_count": null,
   "id": "ae9e3922-0e22-4aed-a142-2553536704d0",
   "metadata": {},
   "outputs": [],
   "source": [
    "df_asps_tb.smain_chg_chr.value_counts(dropna=False)"
   ]
  },
  {
   "cell_type": "code",
   "execution_count": null,
   "id": "9d15f3d2-b4b7-45d5-b524-963e468bf486",
   "metadata": {},
   "outputs": [],
   "source": [
    "df_asps_tb[df_asps_tb.f_point == 'Moon'].fmain_chg_chr.value_counts(dropna=False)"
   ]
  },
  {
   "cell_type": "code",
   "execution_count": null,
   "id": "defdeb91-2d84-435b-9b77-b274edb376ff",
   "metadata": {},
   "outputs": [],
   "source": [
    "df_asps_tb[df_asps_tb.s_point == 'Saturn'].smain_chg_chr.value_counts(dropna=False)"
   ]
  },
  {
   "cell_type": "code",
   "execution_count": null,
   "id": "9387e53c-fd40-4314-8a6c-70bcd0fc4282",
   "metadata": {},
   "outputs": [],
   "source": [
    "df_asps_tb[df_asps_tb.f_point == 'Sun'].fmain_chg_chr.value_counts(dropna=False)"
   ]
  },
  {
   "cell_type": "code",
   "execution_count": 225,
   "id": "22b2ec58-8854-4bc7-8c00-3bc7bfd539c2",
   "metadata": {},
   "outputs": [
    {
     "ename": "NameError",
     "evalue": "name 'df_asps_tb' is not defined",
     "output_type": "error",
     "traceback": [
      "\u001b[0;31m---------------------------------------------------------------------------\u001b[0m",
      "\u001b[0;31mNameError\u001b[0m                                 Traceback (most recent call last)",
      "Input \u001b[0;32mIn [225]\u001b[0m, in \u001b[0;36m<cell line: 1>\u001b[0;34m()\u001b[0m\n\u001b[0;32m----> 1\u001b[0m df_asps_tb[\u001b[38;5;124m'\u001b[39m\u001b[38;5;124mfpoint_chr\u001b[39m\u001b[38;5;124m'\u001b[39m] \u001b[38;5;241m=\u001b[39m \u001b[43mdf_asps_tb\u001b[49m[[\u001b[38;5;124m'\u001b[39m\u001b[38;5;124mf_point\u001b[39m\u001b[38;5;124m'\u001b[39m, \u001b[38;5;124m'\u001b[39m\u001b[38;5;124mfmain_chg_chr\u001b[39m\u001b[38;5;124m'\u001b[39m]]\u001b[38;5;241m.\u001b[39mapply(\u001b[38;5;28;01mlambda\u001b[39;00m x: x[\u001b[38;5;241m0\u001b[39m] \u001b[38;5;28;01mif\u001b[39;00m x[\u001b[38;5;241m1\u001b[39m] \u001b[38;5;241m==\u001b[39m \u001b[38;5;28;01mNone\u001b[39;00m \u001b[38;5;28;01melse\u001b[39;00m x[\u001b[38;5;241m1\u001b[39m], axis\u001b[38;5;241m=\u001b[39m\u001b[38;5;241m1\u001b[39m)\n\u001b[1;32m      2\u001b[0m df_asps_tb[\u001b[38;5;124m'\u001b[39m\u001b[38;5;124mspoint_chr\u001b[39m\u001b[38;5;124m'\u001b[39m] \u001b[38;5;241m=\u001b[39m df_asps_tb[[\u001b[38;5;124m'\u001b[39m\u001b[38;5;124ms_point\u001b[39m\u001b[38;5;124m'\u001b[39m, \u001b[38;5;124m'\u001b[39m\u001b[38;5;124msmain_chg_chr\u001b[39m\u001b[38;5;124m'\u001b[39m]]\u001b[38;5;241m.\u001b[39mapply(\u001b[38;5;28;01mlambda\u001b[39;00m x: x[\u001b[38;5;241m0\u001b[39m] \u001b[38;5;28;01mif\u001b[39;00m x[\u001b[38;5;241m1\u001b[39m] \u001b[38;5;241m==\u001b[39m \u001b[38;5;28;01mNone\u001b[39;00m \u001b[38;5;28;01melse\u001b[39;00m x[\u001b[38;5;241m1\u001b[39m], axis\u001b[38;5;241m=\u001b[39m\u001b[38;5;241m1\u001b[39m)\n",
      "\u001b[0;31mNameError\u001b[0m: name 'df_asps_tb' is not defined"
     ]
    }
   ],
   "source": [
    "df_asps_tb['fpoint_chr'] = df_asps_tb[['f_point', 'fmain_chg_chr']].apply(lambda x: x[0] if x[1] == None else x[1], axis=1)\n",
    "df_asps_tb['spoint_chr'] = df_asps_tb[['s_point', 'smain_chg_chr']].apply(lambda x: x[0] if x[1] == None else x[1], axis=1)"
   ]
  },
  {
   "cell_type": "code",
   "execution_count": null,
   "id": "73c8ef14-8b66-4454-8375-beb5a03f967f",
   "metadata": {},
   "outputs": [],
   "source": [
    "print('len - ', len(df_asps_tb.fpoint_chr.value_counts(dropna=False).keys().tolist()))\n",
    "str(df_asps_tb.fpoint_chr.value_counts(dropna=False).keys().tolist())"
   ]
  },
  {
   "cell_type": "code",
   "execution_count": null,
   "id": "90690a88-988d-4b55-94ab-a268263ed3ec",
   "metadata": {},
   "outputs": [],
   "source": [
    "print('len - ', len(df_asps_tb.spoint_chr.value_counts(dropna=False).keys().tolist()))\n",
    "str(df_asps_tb.spoint_chr.value_counts(dropna=False).keys().tolist())"
   ]
  },
  {
   "cell_type": "markdown",
   "id": "2cda1381-5fa9-4665-a178-5464bd1eb492",
   "metadata": {},
   "source": [
    "#### Add values by Secondary rules."
   ]
  },
  {
   "cell_type": "code",
   "execution_count": null,
   "id": "e8f15090-e5d9-45f3-acbb-d46ef195e1ee",
   "metadata": {},
   "outputs": [],
   "source": [
    "df_asps_tb['fsec_chg_chr'] = df_asps_tb[['f_point', 'fsec_ch']].apply(lambda x: StatDataPrepare.change_sec_characteristic_by_rules(x[0], x[1]), axis=1)\n",
    "df_asps_tb['ssec_chg_chr'] = df_asps_tb[['s_point', 'ssec_ch']].apply(lambda x: StatDataPrepare.change_sec_characteristic_by_rules(x[0], x[1]), axis=1)"
   ]
  },
  {
   "cell_type": "code",
   "execution_count": null,
   "id": "aa7628c9-19ec-4eb5-989f-71362a59db84",
   "metadata": {},
   "outputs": [],
   "source": [
    "df_asps_tb.fsec_chg_chr.value_counts(dropna=False)"
   ]
  },
  {
   "cell_type": "code",
   "execution_count": null,
   "id": "04f9ede3-0b84-4035-8d1d-7352ebc15db8",
   "metadata": {},
   "outputs": [],
   "source": [
    "df_asps_tb.ssec_chg_chr.value_counts(dropna=False)"
   ]
  },
  {
   "cell_type": "code",
   "execution_count": null,
   "id": "9cb5925a-1f84-463b-b2be-b08f00ef0040",
   "metadata": {},
   "outputs": [],
   "source": [
    "points_for_sec_chr_lt = ['Sun', 'Mercury', 'Venus', 'Mars', 'Jupiter']"
   ]
  },
  {
   "cell_type": "markdown",
   "id": "10315285-e5a6-4f28-b792-95c81359c049",
   "metadata": {},
   "source": [
    "#### Chek points without both characteristic"
   ]
  },
  {
   "cell_type": "code",
   "execution_count": null,
   "id": "36f84cce-fd83-4aff-98f6-2b8b2b27e4bd",
   "metadata": {},
   "outputs": [],
   "source": [
    "df_asps_tb[(df_asps_tb.f_point == 'Mercury') & (df_asps_tb.fmain_ch == ()) & (df_asps_tb.fsec_ch == ())].head()\n",
    "# Only 'Sun' haven't"
   ]
  },
  {
   "cell_type": "code",
   "execution_count": null,
   "id": "229b44fa-d5df-4c7f-821f-cb61ac126662",
   "metadata": {},
   "outputs": [],
   "source": [
    "df_asps_tb[(df_asps_tb.f_point == 'Mars') & df_asps_tb.fmain_chg_chr.isna() & df_asps_tb.fsec_chg_chr.isna()]"
   ]
  },
  {
   "cell_type": "code",
   "execution_count": null,
   "id": "e639fee9-edef-4e80-8922-1525ed6f2772",
   "metadata": {},
   "outputs": [],
   "source": [
    "df_asps_tb.fpoint_chr = df_asps_tb[['fpoint_chr', 'fsec_chg_chr']].apply(lambda x: x[1] if x[0] in points_for_sec_chr_lt and x[1] != None else x[0], axis=1)\n",
    "df_asps_tb.spoint_chr = df_asps_tb[['spoint_chr', 'ssec_chg_chr']].apply(lambda x: x[1] if x[0] in points_for_sec_chr_lt and x[1] != None else x[0], axis=1)"
   ]
  },
  {
   "cell_type": "code",
   "execution_count": null,
   "id": "a88d58d3-4c26-4553-b752-49152990f58a",
   "metadata": {},
   "outputs": [],
   "source": [
    "print('len - ', len(df_asps_tb.fpoint_chr.value_counts(dropna=False).keys().tolist()))\n",
    "str(df_asps_tb.fpoint_chr.value_counts(dropna=False).keys().tolist())"
   ]
  },
  {
   "cell_type": "code",
   "execution_count": null,
   "id": "71639698-1b76-4bba-b51b-f71dc7d4ac70",
   "metadata": {},
   "outputs": [],
   "source": [
    "print('len - ', len(df_asps_tb.spoint_chr.value_counts(dropna=False).keys().tolist()))\n",
    "str(df_asps_tb.spoint_chr.value_counts(dropna=False).keys().tolist())"
   ]
  },
  {
   "cell_type": "markdown",
   "id": "42a48d15-f7bb-4c75-aa0c-1e3e764cf53f",
   "metadata": {},
   "source": [
    "##### ****************************************************************************"
   ]
  },
  {
   "cell_type": "code",
   "execution_count": null,
   "id": "3b2bba91-58d9-48f4-b3a4-2556fbb5192e",
   "metadata": {},
   "outputs": [],
   "source": [
    "df_asps_tb['points_chr'] = df_asps_tb[['fpoint_chr', 'spoint_chr']].apply(lambda x: (x[0], x[1]), axis=1)"
   ]
  },
  {
   "cell_type": "code",
   "execution_count": null,
   "id": "581a6157-c2cc-4e06-8324-2dcff9f287a2",
   "metadata": {},
   "outputs": [],
   "source": [
    "df_asps_tb.points_chr.value_counts(dropna=False).count()"
   ]
  },
  {
   "cell_type": "code",
   "execution_count": null,
   "id": "72e79bcc-f3c3-4d1e-b9cf-b3d70f7ff101",
   "metadata": {},
   "outputs": [],
   "source": [
    "# df_asps_tb.points_chr.value_counts(dropna=False)"
   ]
  },
  {
   "cell_type": "code",
   "execution_count": null,
   "id": "77f13b4f-57b0-48fe-941c-8175a26e6a46",
   "metadata": {},
   "outputs": [],
   "source": [
    "df_asps_tb.head(1)"
   ]
  },
  {
   "cell_type": "code",
   "execution_count": null,
   "id": "3e47bdb8-a3ef-46b3-92a4-143989f6fb86",
   "metadata": {},
   "outputs": [],
   "source": [
    "df_asps_table = df_asps_tb.copy()"
   ]
  },
  {
   "cell_type": "code",
   "execution_count": null,
   "id": "fefda300-c900-4697-a0e6-599d5be059b5",
   "metadata": {},
   "outputs": [],
   "source": [
    "# Stop"
   ]
  },
  {
   "cell_type": "markdown",
   "id": "995ad660-6fbe-4cff-a565-b5fc75bfc18c",
   "metadata": {
    "tags": []
   },
   "source": [
    "#### Clear and restructurisation some description of aspects."
   ]
  },
  {
   "cell_type": "markdown",
   "id": "801f00c9-fbe1-4395-94c0-942eb9dcaf92",
   "metadata": {},
   "source": [
    "##### Create df all 'diff' - 'sing' aspects besides aspects of houses."
   ]
  },
  {
   "cell_type": "code",
   "execution_count": null,
   "id": "cd157145-67c2-4c75-a297-10b2907c32c2",
   "metadata": {},
   "outputs": [],
   "source": [
    "df_planets_sing_diff = df_asps_table[(~df_asps_table.f_point.isin(['Asc, Dess', 'MC', 'IC'])) & (df_asps_table.sing == 'diff')].copy()\n",
    "print('shape - ', df_planets_sing_diff.shape)\n",
    "df_planets_sing_diff.tail(3)"
   ]
  },
  {
   "cell_type": "code",
   "execution_count": null,
   "id": "5e78f451-434f-4eee-99fc-c9eecce02ba8",
   "metadata": {},
   "outputs": [],
   "source": [
    "# df_asps_table = df_asps_table[~df_asps_table.index.isin(df_planets_sing_diff.index)]\n",
    "print('shape - ', df_asps_table.shape)\n",
    "df_asps_table.tail(3)"
   ]
  },
  {
   "cell_type": "code",
   "execution_count": null,
   "id": "11930216-2367-4e45-8f91-b5f8c7d0f591",
   "metadata": {},
   "outputs": [],
   "source": [
    "df_planets_sing_diff.reset_index(drop=True, inplace=True)\n",
    "df_asps_table.reset_index(drop=True, inplace=True)"
   ]
  },
  {
   "cell_type": "markdown",
   "id": "3f4d8441-35d6-414d-a539-7361c65421ac",
   "metadata": {},
   "source": [
    "#### Create df 'Moon' divergent, with more 5 orbs and 'moon_conv' aspects."
   ]
  },
  {
   "cell_type": "code",
   "execution_count": null,
   "id": "b611d405-36f2-4250-a633-3859b6fe04d7",
   "metadata": {},
   "outputs": [],
   "source": [
    "df_moon_diver = df_asps_table[df_asps_table.approach.isin(['moon_diver', 'moon_diver_weak'])].copy()\n",
    "print('shape - ', df_moon_diver.shape)\n",
    "df_moon_diver.tail(3)"
   ]
  },
  {
   "cell_type": "code",
   "execution_count": null,
   "id": "ea166e50-623c-4f49-bb60-9cbca6f71548",
   "metadata": {},
   "outputs": [],
   "source": [
    "df_moon_more_orbs = df_asps_table[(df_asps_table.f_point == 'Moon') & (df_asps_table.tr_orb > 5)].copy()\n",
    "print('shape - ', df_moon_more_orbs.shape)\n",
    "df_moon_more_orbs.tail(3)"
   ]
  },
  {
   "cell_type": "code",
   "execution_count": null,
   "id": "785ecb4f-da2f-47b9-a0db-8725987f8516",
   "metadata": {},
   "outputs": [],
   "source": [
    "df_moon_conv_asps = df_asps_table[df_asps_table.approach.isin(['moon_conv'])].copy()\n",
    "print('shape - ', df_moon_conv_asps.shape)\n",
    "df_moon_conv_asps.tail(3)"
   ]
  },
  {
   "cell_type": "code",
   "execution_count": 226,
   "id": "fc5c0832-e01d-4798-b873-2ce001115cd0",
   "metadata": {},
   "outputs": [
    {
     "ename": "NameError",
     "evalue": "name 'df_asps_table' is not defined",
     "output_type": "error",
     "traceback": [
      "\u001b[0;31m---------------------------------------------------------------------------\u001b[0m",
      "\u001b[0;31mNameError\u001b[0m                                 Traceback (most recent call last)",
      "Input \u001b[0;32mIn [226]\u001b[0m, in \u001b[0;36m<cell line: 2>\u001b[0;34m()\u001b[0m\n\u001b[1;32m      1\u001b[0m \u001b[38;5;66;03m# df_asps_table = df_asps_table[(~df_asps_table.index.isin(df_moon_diver.index)) & (~df_asps_table.index.isin(df_moon_more_orbs.index)) & (~df_asps_table.index.isin(df_moon_conv_asps.index))].copy()\u001b[39;00m\n\u001b[0;32m----> 2\u001b[0m \u001b[38;5;28mprint\u001b[39m(\u001b[38;5;124m'\u001b[39m\u001b[38;5;124mshape - \u001b[39m\u001b[38;5;124m'\u001b[39m, \u001b[43mdf_asps_table\u001b[49m\u001b[38;5;241m.\u001b[39mshape)\n\u001b[1;32m      3\u001b[0m df_asps_table\u001b[38;5;241m.\u001b[39mtail(\u001b[38;5;241m3\u001b[39m)\n",
      "\u001b[0;31mNameError\u001b[0m: name 'df_asps_table' is not defined"
     ]
    }
   ],
   "source": [
    "# df_asps_table = df_asps_table[(~df_asps_table.index.isin(df_moon_diver.index)) & (~df_asps_table.index.isin(df_moon_more_orbs.index)) & (~df_asps_table.index.isin(df_moon_conv_asps.index))].copy()\n",
    "print('shape - ', df_asps_table.shape)\n",
    "df_asps_table.tail(3)"
   ]
  },
  {
   "cell_type": "code",
   "execution_count": null,
   "id": "e98e4ce9-e658-47ac-938e-751eb3d6d3a3",
   "metadata": {},
   "outputs": [],
   "source": [
    "df_asps_table[df_asps_table.f_point == 'Moon'].approach.value_counts(dropna=False)"
   ]
  },
  {
   "cell_type": "code",
   "execution_count": null,
   "id": "7ced4328-8a14-45d2-a0a1-4c835d8ee277",
   "metadata": {},
   "outputs": [],
   "source": [
    "df_moon_diver.reset_index(drop=True, inplace=True)\n",
    "df_moon_more_orbs.reset_index(drop=True, inplace=True)\n",
    "df_moon_conv_asps.reset_index(drop=True, inplace=True)\n",
    "df_asps_table.reset_index(drop=True, inplace=True)"
   ]
  },
  {
   "cell_type": "markdown",
   "id": "fab6151a-76b4-42a3-b06d-f301817a13fc",
   "metadata": {},
   "source": [
    "#### Create df aspect's points without characteristic"
   ]
  },
  {
   "cell_type": "code",
   "execution_count": null,
   "id": "005b4a9b-ce31-4a2e-9d34-b436bd3b4e3e",
   "metadata": {},
   "outputs": [],
   "source": [
    "str(df_asps_table.fpoint_chr.value_counts(dropna=False).keys().tolist())"
   ]
  },
  {
   "cell_type": "code",
   "execution_count": null,
   "id": "735686de-dada-4a10-b419-1778495c961c",
   "metadata": {},
   "outputs": [],
   "source": [
    "str(df_asps_table.spoint_chr.value_counts(dropna=False).keys().tolist())"
   ]
  },
  {
   "cell_type": "code",
   "execution_count": null,
   "id": "b558b134-1b31-438a-acf5-6add49a8e374",
   "metadata": {},
   "outputs": [],
   "source": [
    "point_chr_lt = ['Moon', 'Antes Moon', 'Pars Fortuna', 'Antes Pars Fortuna', 'Asc', 'Desc', 'MC', 'IC', 'Sun', 'Saturn', 'Uranus',  'Neptune', 'Pluto', 'ruler_desc', 'ruler_asc', 'ruler_ic', 'ruler_mc', \n",
    "                'ruler_pars_fortuna', 'North Node', 'South Node',  'antes_ruler_asc', 'antes_ruler_desc', 'antes_ruler_mc', 'antes_ruler_ic', 'Antes Saturn',  'Antes Uranus', 'Antes Pluto', 'Antes Neptune']"
   ]
  },
  {
   "cell_type": "code",
   "execution_count": null,
   "id": "88973e71-aa2d-47a3-a9d6-eb0e8d75fc85",
   "metadata": {},
   "outputs": [],
   "source": [
    "df_wt_charact = df_asps_table[(~df_asps_table.fpoint_chr.isin(point_chr_lt)) | (~df_asps_table.spoint_chr.isin(point_chr_lt))].copy()\n",
    "print('shape - ', df_wt_charact.shape)\n",
    "df_wt_charact.tail(3)"
   ]
  },
  {
   "cell_type": "code",
   "execution_count": null,
   "id": "ac373acc-416f-43ba-b38a-1a10c6ee7292",
   "metadata": {},
   "outputs": [],
   "source": [
    "# df_asps_table = df_asps_table[~df_asps_table.index.isin(df_wt_charact.index)].copy()\n",
    "print('shape - ', df_asps_table.shape)\n",
    "df_asps_table.tail(3)"
   ]
  },
  {
   "cell_type": "code",
   "execution_count": null,
   "id": "9084c15a-c8e3-4a0d-b50f-af1bbcbdc2d5",
   "metadata": {},
   "outputs": [],
   "source": [
    "df_wt_charact.reset_index(drop=True, inplace=True)\n",
    "df_asps_table.reset_index(drop=True, inplace=True)"
   ]
  },
  {
   "cell_type": "markdown",
   "id": "3491020b-2590-45b6-b8a2-d2cab795b69d",
   "metadata": {},
   "source": [
    "#### Create df divergent aspects for rulers and parses."
   ]
  },
  {
   "cell_type": "code",
   "execution_count": null,
   "id": "cacacb37-1d9c-4354-93b0-99abf0b5ebb4",
   "metadata": {},
   "outputs": [],
   "source": [
    "rulers_lt = ['ruler_desc', 'ruler_asc', 'ruler_ic', 'ruler_mc', 'ruler_pars_fortuna']\n",
    "pars_lt   = ['Pars Fortuna', 'Antes Pars Fortuna']"
   ]
  },
  {
   "cell_type": "code",
   "execution_count": null,
   "id": "8fd66484-c221-443c-848d-ef85e533c8c1",
   "metadata": {},
   "outputs": [],
   "source": [
    "df_asps_table.approach.value_counts()"
   ]
  },
  {
   "cell_type": "code",
   "execution_count": null,
   "id": "a55321bf-e319-4a81-a7d0-6c1d1e2b5552",
   "metadata": {},
   "outputs": [],
   "source": [
    "mask = (df_asps_table.approach.isin(['diver', 'diver_weak', 'diver_denide'])\n",
    "        & ((df_asps_table.fpoint_chr.isin(rulers_lt) & df_asps_table.spoint_chr.isin(pars_lt)) | (df_asps_table.spoint_chr.isin(rulers_lt) & df_asps_table.fpoint_chr.isin(pars_lt))))"
   ]
  },
  {
   "cell_type": "code",
   "execution_count": null,
   "id": "5bde8f7b-7f0f-40f5-8c4c-2132aa85237f",
   "metadata": {},
   "outputs": [],
   "source": [
    "df_rulers_diver_asps = df_asps_table[mask].copy()\n",
    "print('shape - ', df_rulers_diver_asps.shape)\n",
    "df_rulers_diver_asps.tail(3)"
   ]
  },
  {
   "cell_type": "code",
   "execution_count": null,
   "id": "03e87dd0-1b4f-4a25-847f-4a0d0e480743",
   "metadata": {},
   "outputs": [],
   "source": [
    "# df_asps_table = df_asps_table[~df_asps_table.index.isin(df_rulers_diver_asps.index)].copy()\n",
    "print('shape - ', df_asps_table.shape)\n",
    "df_asps_table.tail(3)"
   ]
  },
  {
   "cell_type": "code",
   "execution_count": null,
   "id": "ed60bd81-4d66-4ef8-b2d1-3ef0294145fb",
   "metadata": {},
   "outputs": [],
   "source": [
    "df_rulers_diver_asps.reset_index(drop=True, inplace=True)\n",
    "df_asps_table.reset_index(drop=True, inplace=True)"
   ]
  },
  {
   "cell_type": "markdown",
   "id": "67a47a97-6a84-434f-815e-1bc5a5629b65",
   "metadata": {},
   "source": [
    "#### Create df not determinate aspects of hight planets."
   ]
  },
  {
   "cell_type": "code",
   "execution_count": null,
   "id": "85750a0d-2232-4f6c-8475-123e5a698b25",
   "metadata": {},
   "outputs": [],
   "source": [
    "str(point_chr_lt)"
   ]
  },
  {
   "cell_type": "code",
   "execution_count": null,
   "id": "9b3ca1d4-bd37-41e2-b362-d9dc2162c752",
   "metadata": {},
   "outputs": [],
   "source": [
    "hight_planets        = ['Uranus', 'Neptune', 'Pluto', 'Antes Uranus', 'Antes Pluto', 'Antes Neptune']\n",
    "aspected_points_hpls = ['Asc', 'Desc', 'MC', 'IC',  'Pars Fortuna', 'Antes Pars Fortuna', 'ruler_pars_fortuna']"
   ]
  },
  {
   "cell_type": "code",
   "execution_count": null,
   "id": "992dc642-6700-41f4-9b7a-209899093804",
   "metadata": {},
   "outputs": [],
   "source": [
    "mask = (((df_asps_table.fpoint_chr.isin(hight_planets)) & (~df_asps_table.spoint_chr.isin(aspected_points_hpls))) | \n",
    "        ((df_asps_table.spoint_chr.isin(hight_planets)) & (~df_asps_table.fpoint_chr.isin(aspected_points_hpls))))\n",
    "\n",
    "df_not_determinate_hpls_asps = df_asps_table[mask]\n",
    "print('shape - ', df_not_determinate_hpls_asps.shape)\n",
    "df_not_determinate_hpls_asps.tail(3)"
   ]
  },
  {
   "cell_type": "code",
   "execution_count": null,
   "id": "c62c4e93-ab0f-4b90-8c5f-5fbdf37f825c",
   "metadata": {},
   "outputs": [],
   "source": [
    "# df_asps_table = df_asps_table[~df_asps_table.index.isin(df_not_determinate_hpls_asps.index)].copy()\n",
    "print('shape - ', df_asps_table.shape)\n",
    "df_asps_table.tail(3)"
   ]
  },
  {
   "cell_type": "code",
   "execution_count": 227,
   "id": "72d1d0ce-792f-4e70-b13a-1e2ac7c38c70",
   "metadata": {},
   "outputs": [
    {
     "ename": "NameError",
     "evalue": "name 'df_not_determinate_hpls_asps' is not defined",
     "output_type": "error",
     "traceback": [
      "\u001b[0;31m---------------------------------------------------------------------------\u001b[0m",
      "\u001b[0;31mNameError\u001b[0m                                 Traceback (most recent call last)",
      "Input \u001b[0;32mIn [227]\u001b[0m, in \u001b[0;36m<cell line: 1>\u001b[0;34m()\u001b[0m\n\u001b[0;32m----> 1\u001b[0m \u001b[43mdf_not_determinate_hpls_asps\u001b[49m\u001b[38;5;241m.\u001b[39mreset_index(drop\u001b[38;5;241m=\u001b[39m\u001b[38;5;28;01mTrue\u001b[39;00m, inplace\u001b[38;5;241m=\u001b[39m\u001b[38;5;28;01mTrue\u001b[39;00m)\n\u001b[1;32m      2\u001b[0m df_asps_table\u001b[38;5;241m.\u001b[39mreset_index(drop\u001b[38;5;241m=\u001b[39m\u001b[38;5;28;01mTrue\u001b[39;00m, inplace\u001b[38;5;241m=\u001b[39m\u001b[38;5;28;01mTrue\u001b[39;00m)\n",
      "\u001b[0;31mNameError\u001b[0m: name 'df_not_determinate_hpls_asps' is not defined"
     ]
    }
   ],
   "source": [
    "df_not_determinate_hpls_asps.reset_index(drop=True, inplace=True)\n",
    "df_asps_table.reset_index(drop=True, inplace=True)"
   ]
  },
  {
   "cell_type": "markdown",
   "id": "69d2a4f2-4434-46ac-9738-4760558967f1",
   "metadata": {
    "tags": []
   },
   "source": [
    "#### Statistic data win, drow, loss."
   ]
  },
  {
   "cell_type": "code",
   "execution_count": null,
   "id": "ecb5b468-85b6-42dc-b00c-d576e019c776",
   "metadata": {},
   "outputs": [],
   "source": [
    "df_uniq = df_asps_table.drop_duplicates(subset='game_id').reset_index(drop=True)\n",
    "print('shape - ', df_uniq.shape)\n",
    "coef_fav_win = round(df_uniq.shape[0] / df_uniq[df_uniq.result == 'fav_win'].shape[0], 2)\n",
    "print('df_coef fav_win       - ', coef_fav_win)\n",
    "coef_fav_drow_loss = round(df_uniq.shape[0]/(df_uniq[df_uniq.result=='fav_drow'].shape[0] + df_uniq[df_uniq.result=='fav_loss'].shape[0]),2)\n",
    "print('df_coef fav_drow_loss - ', coef_fav_drow_loss)\n",
    "coef_fav_drow = round(df_uniq.shape[0] / df_uniq[df_uniq.result=='fav_drow'].shape[0], 2)\n",
    "print('df_coef fav_drow      - ', coef_fav_drow)\n",
    "coef_fav_loss = round(df_uniq.shape[0] / df_uniq[df_uniq.result=='fav_loss'].shape[0], 2)\n",
    "print('df_coef fav_loss      - ', coef_fav_loss)"
   ]
  },
  {
   "cell_type": "markdown",
   "id": "2e707d34-b43f-4d62-bce7-2ced88b57574",
   "metadata": {},
   "source": [
    "#### Aspects research"
   ]
  },
  {
   "cell_type": "markdown",
   "id": "ddb51a83-ebf1-4525-9bbe-77a211617a5b",
   "metadata": {},
   "source": [
    "##### Orbs of Moon characteristic: ______ 0.3 <= 'max',  0.3 <= 1 - 'mid_max',  1 <= 2.5 - 'middle',  2.5 <= 4 - 'mid_min',  4 > 'min'\n",
    "##### All orbs of planets characteristic: __ 0.2 <= 'max',  0.2 <= 1 - 'mid_max',  1 <= 1.3 - 'middle',  1.3 <= 2 - 'mid_min',  2 > 'min'"
   ]
  },
  {
   "cell_type": "markdown",
   "id": "d9686c3e-6e75-4f2f-872e-767116c9c5ec",
   "metadata": {},
   "source": [
    "##### ****************************************************************************************************************************************"
   ]
  },
  {
   "cell_type": "markdown",
   "id": "235c2818-e28b-4a47-87e9-e69f4492d55d",
   "metadata": {},
   "source": [
    "##### All planets and Moon have aspects with different sings - ('diff' in 'sings' column ) and ('diff_sing' in 'den_point' column).\n",
    "##### Moon's orbs has (value > 5 deg, with 'den_point' - 'more_orb') and (bp_asp == 'yes' < 1 deg )- with 'diver' description. "
   ]
  },
  {
   "cell_type": "markdown",
   "id": "eb821ca3-fa7f-44f7-9e95-545074b7741f",
   "metadata": {},
   "source": [
    "#### 'Moon' aspects research"
   ]
  },
  {
   "cell_type": "code",
   "execution_count": null,
   "id": "f2e6de0a-e5ee-45d9-ad79-67f58639ac9f",
   "metadata": {},
   "outputs": [],
   "source": [
    "# df_asps_moon = df_asps_table[df_asps_table.f_point == 'Moon'].copy()\n",
    "# print('shape - ', df_asps_moon.shape)\n",
    "# df_asps_moon.tail(2)"
   ]
  },
  {
   "cell_type": "code",
   "execution_count": null,
   "id": "60f21db9-5b13-41c2-844c-b345039a1473",
   "metadata": {},
   "outputs": [],
   "source": [
    "# df_asps_moon.approach.value_counts(dropna=False)"
   ]
  },
  {
   "cell_type": "markdown",
   "id": "1820a8b3-1afa-4baa-9c1b-30a9404cd4bb",
   "metadata": {},
   "source": [
    "#### Hauses aspects research"
   ]
  },
  {
   "cell_type": "code",
   "execution_count": null,
   "id": "4550f369-9dd4-48a3-81ec-7de2f798d438",
   "metadata": {},
   "outputs": [],
   "source": [
    "# house_names    = ['Asc', 'Desc', 'MC', 'IC']\n",
    "# df_asps_houses = df_asps_table[df_asps_table.f_point.isin(house_names)].copy()\n",
    "# print('shape - ', df_asps_houses.shape)\n",
    "# df_asps_houses.tail(2)"
   ]
  },
  {
   "cell_type": "code",
   "execution_count": null,
   "id": "242fa0dd-5dac-4ca4-b5d8-0e80764ce5e4",
   "metadata": {},
   "outputs": [],
   "source": [
    "# df_asps_houses.approach.value_counts(dropna=False)"
   ]
  },
  {
   "cell_type": "code",
   "execution_count": null,
   "id": "1055edb8-f34d-48bf-a3a2-5f8ce20b01d4",
   "metadata": {},
   "outputs": [],
   "source": [
    "# df_asps_houses['chg_approach'] = df_asps_houses.approach.map(lambda x: 'in' if re.findall('in', x) else 'out')"
   ]
  },
  {
   "cell_type": "code",
   "execution_count": null,
   "id": "68f58b99-99e3-422e-b67b-f96ff28571ef",
   "metadata": {},
   "outputs": [],
   "source": [
    "# df_asps_houses.chg_approach.value_counts(dropna=False)"
   ]
  },
  {
   "cell_type": "markdown",
   "id": "9dc98bcf-cc9d-49cb-bd40-7921e4d90e4b",
   "metadata": {},
   "source": [
    "#### 'Saturn' and 'Antes Saturn' aspects research"
   ]
  },
  {
   "cell_type": "code",
   "execution_count": null,
   "id": "1f7cf93d-9ecc-4589-81d3-dc1573063bf5",
   "metadata": {},
   "outputs": [],
   "source": [
    "# mask = ((df_asps_table.f_point == 'Saturn') | (df_asps_table.f_point == 'Antes Saturn') | (df_asps_table.s_point == 'Saturn') | (df_asps_table.s_point == 'Antes Saturn'))\n",
    "# df_asps_saturn = df_asps_table[mask].copy()\n",
    "# print('shape - ', df_asps_saturn.shape)\n",
    "# df_asps_saturn.tail(2)"
   ]
  },
  {
   "cell_type": "markdown",
   "id": "5a6fa23c-25ec-45f7-91d6-5822e6c7af95",
   "metadata": {},
   "source": [
    "#### 'Sun' and 'Antes Sun' aspects research"
   ]
  },
  {
   "cell_type": "code",
   "execution_count": null,
   "id": "2f691381-6537-47ac-99e4-c42a992bb690",
   "metadata": {},
   "outputs": [],
   "source": [
    "# mask = ((df_asps_table.f_point == 'Sun') | (df_asps_table.f_point == 'Antes Sun') | (df_asps_table.s_point == 'Sun') | (df_asps_table.s_point == 'Antes Sun'))\n",
    "# df_asps_sun = df_asps_table[mask].copy()\n",
    "# print('shape - ', df_asps_sun.shape)\n",
    "# df_asps_sun.tail(2)"
   ]
  },
  {
   "cell_type": "markdown",
   "id": "f05807bf-0fb9-4591-b9aa-e1d8bbd4ecdf",
   "metadata": {},
   "source": [
    "#### Aspects without Moon, Sun and Saturn"
   ]
  },
  {
   "cell_type": "code",
   "execution_count": null,
   "id": "78962863-bb7c-4e62-9b51-14dab4389158",
   "metadata": {},
   "outputs": [],
   "source": [
    "# game_ids_lt = df_asps_moon.index.tolist() + df_asps_saturn.index.tolist() + df_asps_sun.index.tolist() + df_asps_houses.index.tolist()\n",
    "# df_asps_usual_pls = df_asps_table[~df_asps_table.index.isin(game_ids_lt)].copy()\n",
    "# print('shape - ', df_asps_usual_pls.shape)\n",
    "# df_asps_usual_pls.tail(2)"
   ]
  },
  {
   "cell_type": "markdown",
   "id": "68ad1764-8a26-4306-bfb6-07f8ba802097",
   "metadata": {},
   "source": [
    "#### Research statistic with experiments:"
   ]
  },
  {
   "cell_type": "code",
   "execution_count": null,
   "id": "6d2d53f2-dfa6-4b6c-9eed-f9a15979e4ac",
   "metadata": {},
   "outputs": [],
   "source": [
    "df_asps_table.head(1)"
   ]
  },
  {
   "cell_type": "code",
   "execution_count": null,
   "id": "780bf731-f4a1-4e6c-8b6e-145929af3b92",
   "metadata": {},
   "outputs": [],
   "source": [
    "df_experiments = df_asps_table # df_asps_usual_pls , df_asps_moon, df_asps_saturn, df_asps_sun, df_asps_houses\n",
    "col_names = ['points_chr', 'type'] # 'orb_char', 'ligue', 'approach', 'type'   for houses: 'chg_approach'\n",
    "\n",
    "gb_result_loss      = df_experiments.groupby(col_names).agg({'result': ['count', StatDataPrepare.fav_loss_count]}).reset_index()   \n",
    "gb_result_drow      = df_experiments.groupby(col_names).agg({'result': ['count', StatDataPrepare.fav_drow_count]}).reset_index()\n",
    "gb_result_drow_loss = df_experiments.groupby(col_names).agg({'result': ['count', StatDataPrepare.fav_drow_loss_count]}).reset_index() "
   ]
  },
  {
   "cell_type": "code",
   "execution_count": null,
   "id": "8eb42ea8-6c4b-4b0c-b07e-f1b4d3ca9613",
   "metadata": {
    "tags": []
   },
   "outputs": [],
   "source": [
    "print('coef_fav_drow_loss - ', coef_fav_drow_loss)\n",
    "print('coef_fav_drow      - ', coef_fav_drow)\n",
    "print('coef_fav_loss      - ', coef_fav_loss)"
   ]
  },
  {
   "cell_type": "code",
   "execution_count": null,
   "id": "fd518865-ea17-4145-9e1f-39a2e72aedcb",
   "metadata": {
    "tags": []
   },
   "outputs": [],
   "source": [
    "gb_result_loss['exp_loss']           = round(gb_result_loss[('result', 'count')] / coef_fav_loss) \n",
    "gb_result_loss['loss_coef_perc']     = round(gb_result_loss[('result', 'count')] / gb_result_loss[('result', 'fav_loss_count')], 2)\n",
    "gb_result_loss['loss_coef_perc_dev'] = round(100 * (gb_result_loss.loss_coef_perc / coef_fav_loss - 1))"
   ]
  },
  {
   "cell_type": "code",
   "execution_count": null,
   "id": "5985ad7b-bbde-438f-b980-5a24bb1fe28d",
   "metadata": {},
   "outputs": [],
   "source": [
    "gb_result_drow['exp_drow']           = round(gb_result_drow[('result', 'count')] / coef_fav_drow) \n",
    "gb_result_drow['drow_coef_perc']     = round(gb_result_drow[('result', 'count')] / gb_result_drow[('result', 'fav_drow_count')], 2)\n",
    "gb_result_drow['drow_coef_perc_dev'] = round(100 * (gb_result_drow.drow_coef_perc / coef_fav_drow - 1))"
   ]
  },
  {
   "cell_type": "code",
   "execution_count": null,
   "id": "56b0c53b-7538-4873-b2eb-2ef40168c795",
   "metadata": {},
   "outputs": [],
   "source": [
    "gb_result_drow_loss['exp_drow_loss']           = round(gb_result_drow_loss[('result', 'count')] / coef_fav_drow_loss) \n",
    "gb_result_drow_loss['drow_loss_coef_perc']     = round(gb_result_drow_loss[('result', 'count')] / gb_result_drow_loss[('result', 'fav_drow_loss_count')], 2)\n",
    "gb_result_drow_loss['drow_loss_coef_perc_dev'] = round(100 * (gb_result_drow_loss.drow_loss_coef_perc / coef_fav_drow_loss - 1))"
   ]
  },
  {
   "cell_type": "code",
   "execution_count": null,
   "id": "ff4e625a-f3b4-4984-8d01-34fa8abff49a",
   "metadata": {},
   "outputs": [],
   "source": [
    "col_names = [('result', 'fav_drow_count'), ('exp_drow',''), ('drow_coef_perc', ''), ('drow_coef_perc_dev', '')]\n",
    "gb_result = pd.merge(gb_result_loss, gb_result_drow[col_names], how='left', left_index=True, right_index=True)"
   ]
  },
  {
   "cell_type": "code",
   "execution_count": null,
   "id": "a01c90c5-63ff-4044-a885-b46b252557d5",
   "metadata": {},
   "outputs": [],
   "source": [
    "col_names = [('result', 'fav_drow_loss_count'), ('exp_drow_loss',''), ('drow_loss_coef_perc', ''), ('drow_loss_coef_perc_dev', '')]\n",
    "gb_result = pd.merge(gb_result, gb_result_drow_loss[col_names], how='left', left_index=True, right_index=True)"
   ]
  },
  {
   "cell_type": "code",
   "execution_count": 228,
   "id": "e90c109b-c782-45fe-8d4a-52e97380c329",
   "metadata": {},
   "outputs": [],
   "source": [
    "# Stop - aspects count 500"
   ]
  },
  {
   "cell_type": "code",
   "execution_count": 229,
   "id": "39c4c5e8-4a99-4cc5-9410-f83c618459de",
   "metadata": {},
   "outputs": [
    {
     "ename": "NameError",
     "evalue": "name 'gb_result' is not defined",
     "output_type": "error",
     "traceback": [
      "\u001b[0;31m---------------------------------------------------------------------------\u001b[0m",
      "\u001b[0;31mNameError\u001b[0m                                 Traceback (most recent call last)",
      "Input \u001b[0;32mIn [229]\u001b[0m, in \u001b[0;36m<cell line: 1>\u001b[0;34m()\u001b[0m\n\u001b[0;32m----> 1\u001b[0m gb_result \u001b[38;5;241m=\u001b[39m \u001b[43mgb_result\u001b[49m[gb_result[(\u001b[38;5;124m'\u001b[39m\u001b[38;5;124mresult\u001b[39m\u001b[38;5;124m'\u001b[39m, \u001b[38;5;124m'\u001b[39m\u001b[38;5;124mcount\u001b[39m\u001b[38;5;124m'\u001b[39m)] \u001b[38;5;241m>\u001b[39m \u001b[38;5;241m500\u001b[39m]\u001b[38;5;241m.\u001b[39msort_values(by\u001b[38;5;241m=\u001b[39m\u001b[38;5;124m'\u001b[39m\u001b[38;5;124mloss_coef_perc_dev\u001b[39m\u001b[38;5;124m'\u001b[39m, ascending\u001b[38;5;241m=\u001b[39m\u001b[38;5;28;01mFalse\u001b[39;00m)\n",
      "\u001b[0;31mNameError\u001b[0m: name 'gb_result' is not defined"
     ]
    }
   ],
   "source": [
    "gb_result = gb_result[gb_result[('result', 'count')] > 500].sort_values(by='loss_coef_perc_dev', ascending=False)"
   ]
  },
  {
   "cell_type": "code",
   "execution_count": null,
   "id": "9ddaa2e9-f176-49f6-b747-6f3b1d88d7ad",
   "metadata": {},
   "outputs": [],
   "source": [
    "# gb_result[gb_result.points_chr == ('Moon', 'Pars Fortuna')] #'Antes Pluto'"
   ]
  },
  {
   "cell_type": "code",
   "execution_count": null,
   "id": "33292f9e-09e8-44f7-a9c4-0b9abeaf318c",
   "metadata": {},
   "outputs": [],
   "source": [
    "gb_result['houses_features'] = gb_result[['points_chr', 'type']].apply(lambda x: (x[0][0] +'-'+ x[0][1] +'-'+ x[1]), axis=1) # chg_approach"
   ]
  },
  {
   "cell_type": "code",
   "execution_count": null,
   "id": "af67e677-70e6-43ef-a1cb-ab1abe7af798",
   "metadata": {},
   "outputs": [],
   "source": [
    "df_hauses_features = gb_result[['points_chr', 'type', 'loss_coef_perc_dev', 'drow_coef_perc_dev', 'drow_loss_coef_perc_dev', 'houses_features']].copy()\n",
    "df_hauses_features = df_hauses_features.droplevel(1, axis=1)\n",
    "print('shape - ', df_hauses_features.shape[0])\n",
    "df_hauses_features.sort_values('loss_coef_perc_dev', ascending=True).head(10)"
   ]
  },
  {
   "cell_type": "code",
   "execution_count": null,
   "id": "f1355754-8d0e-4888-83c6-a241d10c934e",
   "metadata": {},
   "outputs": [],
   "source": [
    "# Stop"
   ]
  },
  {
   "cell_type": "code",
   "execution_count": null,
   "id": "2d3b5e9e-f85e-4860-8963-e432c4924b5d",
   "metadata": {},
   "outputs": [],
   "source": [
    "# file = open('pickle_files/df_aspects_loss_drow_stat_count_more_500', 'wb')\n",
    "# pickle.dump(df_hauses_features, file)  \n",
    "# file.close()"
   ]
  },
  {
   "cell_type": "code",
   "execution_count": null,
   "id": "e48b9119-e256-4d11-a498-e88f684e80a2",
   "metadata": {},
   "outputs": [],
   "source": [
    "df_gr_asps_tb = pd.merge(df_asps_table, df_hauses_features, how='left', left_on=['points_chr', 'type'], right_on=['points_chr', 'type'])\n",
    "print('shape - ', df_gr_asps_tb.shape)\n",
    "df_gr_asps_tb.tail()"
   ]
  },
  {
   "cell_type": "code",
   "execution_count": null,
   "id": "e8dd2ceb-c6bd-451a-aab3-1171df26428e",
   "metadata": {},
   "outputs": [],
   "source": [
    "# file = open('pickle_files/df_aspects_tb_with_features_cr_10_08_2022', 'wb')\n",
    "# pickle.dump(df_gr_asps_tb, file)  \n",
    "# file.close()"
   ]
  },
  {
   "cell_type": "code",
   "execution_count": null,
   "id": "9694162c-1b67-4670-a1a0-c4a0c9cd80a3",
   "metadata": {},
   "outputs": [],
   "source": [
    "df_gr_asps_tb.houses_features = df_gr_asps_tb[['tr_orb', 'houses_features']].apply(lambda x: (x[1], x[0]), axis=1)"
   ]
  },
  {
   "cell_type": "code",
   "execution_count": null,
   "id": "364e498c-7558-43b5-9e5c-62e472880706",
   "metadata": {},
   "outputs": [],
   "source": [
    "df_gr_asps_tb.houses_features[0]"
   ]
  },
  {
   "cell_type": "code",
   "execution_count": null,
   "id": "971ca73a-6215-42e8-b872-45e093553881",
   "metadata": {},
   "outputs": [],
   "source": [
    "df_gr_asps_tb[df_gr_asps_tb.game_id == '1708335'].loss_coef_perc_dev.sum()"
   ]
  },
  {
   "cell_type": "code",
   "execution_count": null,
   "id": "432d0c1e-8fae-444f-b530-91964fb306e0",
   "metadata": {},
   "outputs": [],
   "source": [
    "print('shape - df_game_asps_loss_drow_stat - ', df_uniq.shape[0])"
   ]
  },
  {
   "cell_type": "code",
   "execution_count": null,
   "id": "a2e49be6-9a6c-49fa-a3f9-df0430e626af",
   "metadata": {},
   "outputs": [],
   "source": [
    "df_loss_drow_stat_sum = df_gr_asps_tb.groupby('game_id').agg({'loss_coef_perc_dev': 'sum', 'drow_coef_perc_dev': 'sum', 'drow_loss_coef_perc_dev': 'sum'}).reset_index() \n",
    "print('shape - ', df_loss_drow_stat_sum.shape)\n",
    "df_loss_drow_stat_sum"
   ]
  },
  {
   "cell_type": "code",
   "execution_count": null,
   "id": "588775bc-6449-4c3a-9f53-05aaa534465b",
   "metadata": {},
   "outputs": [],
   "source": [
    "# file = open('pickle_files/df_games_loss_drow_aspects_stat_cr_10_08_2022', 'wb')\n",
    "# pickle.dump(df_loss_drow_stat_sum, file)  \n",
    "# file.close()"
   ]
  },
  {
   "cell_type": "code",
   "execution_count": null,
   "id": "8d2a6029-6e99-481b-a1a5-9774c7e8d9ff",
   "metadata": {},
   "outputs": [],
   "source": [
    "df_game_asps_loss_drow_stat = pd.merge(df_uniq, df_loss_drow_stat_sum, how='left', left_on='game_id', right_on='game_id')\n",
    "print('shape - ', df_game_asps_loss_drow_stat.shape)\n",
    "df_game_asps_loss_drow_stat.tail()"
   ]
  },
  {
   "cell_type": "code",
   "execution_count": null,
   "id": "d0eadcd4-be04-43f4-a7c4-0ef61770ca90",
   "metadata": {},
   "outputs": [],
   "source": [
    "df_game_asps_loss_drow_stat.ligue.value_counts()"
   ]
  },
  {
   "cell_type": "code",
   "execution_count": null,
   "id": "67105aae-fdbf-4696-beae-c994313515ae",
   "metadata": {},
   "outputs": [],
   "source": [
    "df_exp = df_game_asps_loss_drow_stat[(df_game_asps_loss_drow_stat.loss_coef_perc_dev < -245)]#| (df_game_asps_loss_drow_stat.drow_loss_coef_perc_dev < -180)]\n",
    "print('shape - df_exp - ', df_exp.shape)\n",
    "coef_fav_win_exp = round(df_exp.shape[0] / df_exp[df_exp.result == 'fav_win'].shape[0], 2)\n",
    "print('df__exp fav_win_exp       - ', coef_fav_win_exp)\n",
    "coef_fav_drow_loss_exp = round(df_exp.shape[0]/(df_exp[df_exp.result=='fav_drow'].shape[0] + df_exp[df_exp.result=='fav_loss'].shape[0]),2)\n",
    "print('df_exp fav_drow_loss - ', coef_fav_drow_loss_exp)\n",
    "coef_fav_drow_exp = round(df_exp.shape[0] / df_exp[df_exp.result=='fav_drow'].shape[0], 2)\n",
    "print('df_exp fav_drow      - ', coef_fav_drow_exp)\n",
    "coef_fav_loss_exp = round(df_exp.shape[0] / df_exp[df_exp.result=='fav_loss'].shape[0], 2)\n",
    "print('df_exp fav_loss      - ', coef_fav_loss_exp)"
   ]
  },
  {
   "cell_type": "markdown",
   "id": "0ab05ed7-1a3a-45e1-87a0-ae8103e2e1fa",
   "metadata": {},
   "source": [
    "#### Change df coef with statistic data`"
   ]
  },
  {
   "cell_type": "code",
   "execution_count": null,
   "id": "1ae7a288-dd44-42eb-85fc-38e35bd93b1a",
   "metadata": {},
   "outputs": [],
   "source": [
    "coef_fav_loss / coef_fav_loss_exp"
   ]
  },
  {
   "cell_type": "markdown",
   "id": "c25dc7e5-b817-4c81-b804-667584319dc8",
   "metadata": {},
   "source": [
    "#### One day count of games with statistic"
   ]
  },
  {
   "cell_type": "code",
   "execution_count": null,
   "id": "762b750d-44aa-472a-af36-319fe1d40ff4",
   "metadata": {},
   "outputs": [],
   "source": [
    "df_exp.shape[0] / 16 / 12 / 4 # 16 - years, 12 - monthes, 4 - weeks"
   ]
  },
  {
   "cell_type": "markdown",
   "id": "a42c1440-0a11-4e74-96b8-0e28b80c818f",
   "metadata": {},
   "source": [
    "#### Create features:"
   ]
  },
  {
   "cell_type": "code",
   "execution_count": null,
   "id": "12142138-03c7-418d-9006-f291795be28f",
   "metadata": {},
   "outputs": [],
   "source": [
    "gb_game_features = df_gr_asps_tb.groupby('game_id').houses_features.apply(list).reset_index()\n",
    "print('shape - ', gb_game_features.shape)\n",
    "gb_game_features.tail()"
   ]
  },
  {
   "cell_type": "code",
   "execution_count": null,
   "id": "09a71a2c-b947-4891-99da-d182e876ae7d",
   "metadata": {},
   "outputs": [],
   "source": [
    "gb_game_features['houses_dicts'] = gb_game_features.houses_features.map(lambda x: {var[0]:var[1] for var in x})"
   ]
  },
  {
   "cell_type": "code",
   "execution_count": null,
   "id": "d247787e-681a-4134-9ba9-c386d8aed40c",
   "metadata": {},
   "outputs": [],
   "source": [
    "gb_game_features.houses_dicts"
   ]
  },
  {
   "cell_type": "code",
   "execution_count": null,
   "id": "f9b8756a-7b99-437e-bc3c-a266aa528b08",
   "metadata": {},
   "outputs": [],
   "source": [
    "all_houses_dicts_lt = gb_game_features.houses_dicts.tolist()"
   ]
  },
  {
   "cell_type": "code",
   "execution_count": null,
   "id": "ead61087-24e4-48d7-82ca-3dc0e6305ace",
   "metadata": {},
   "outputs": [],
   "source": [
    "all_houses_dicts_lt[0]"
   ]
  },
  {
   "cell_type": "code",
   "execution_count": null,
   "id": "765e2989-85fd-4fa4-93ae-cf9e9899832c",
   "metadata": {},
   "outputs": [],
   "source": [
    "df_games_features = pd.DataFrame.from_dict(all_houses_dicts_lt)"
   ]
  },
  {
   "cell_type": "code",
   "execution_count": null,
   "id": "546cd1c1-bb66-4cc2-99cf-6418e251a407",
   "metadata": {},
   "outputs": [],
   "source": [
    "len(df_games_features.columns)"
   ]
  },
  {
   "cell_type": "code",
   "execution_count": 230,
   "id": "8862ea58-43e1-428c-8af9-e59e49cb46d8",
   "metadata": {},
   "outputs": [
    {
     "ename": "NameError",
     "evalue": "name 'df_games_features' is not defined",
     "output_type": "error",
     "traceback": [
      "\u001b[0;31m---------------------------------------------------------------------------\u001b[0m",
      "\u001b[0;31mNameError\u001b[0m                                 Traceback (most recent call last)",
      "Input \u001b[0;32mIn [230]\u001b[0m, in \u001b[0;36m<cell line: 1>\u001b[0;34m()\u001b[0m\n\u001b[0;32m----> 1\u001b[0m \u001b[43mdf_games_features\u001b[49m\u001b[38;5;241m.\u001b[39mhead(\u001b[38;5;241m1\u001b[39m)\n",
      "\u001b[0;31mNameError\u001b[0m: name 'df_games_features' is not defined"
     ]
    }
   ],
   "source": [
    "df_games_features.head(1)"
   ]
  },
  {
   "cell_type": "code",
   "execution_count": null,
   "id": "a7b2c5c8-2569-4b31-89df-ed359e60a57d",
   "metadata": {},
   "outputs": [],
   "source": [
    "# df_games_features.fillna(0, inplace=True)"
   ]
  },
  {
   "cell_type": "code",
   "execution_count": null,
   "id": "c01d7116-1068-4b9f-b08e-9680d1b9bb67",
   "metadata": {},
   "outputs": [],
   "source": [
    "# df_games_features.columns = map(str.lower, df_games_features.columns)\n",
    "df_games_features.columns = df_games_features.columns.map(lambda x: re.sub(' ', '_', x))"
   ]
  },
  {
   "cell_type": "code",
   "execution_count": null,
   "id": "4e86c661-3b5a-4875-b9c1-192e5c406e49",
   "metadata": {},
   "outputs": [],
   "source": [
    "print('shape - ', df_games_features.shape)\n",
    "df_games_features.tail(3)"
   ]
  },
  {
   "cell_type": "code",
   "execution_count": null,
   "id": "9670566f-283d-4529-9fe5-c18d4a639280",
   "metadata": {},
   "outputs": [],
   "source": [
    "df_games_features = pd.merge(gb_game_features.game_id, df_games_features, how='left', left_index=True, right_index=True)"
   ]
  },
  {
   "cell_type": "code",
   "execution_count": null,
   "id": "ebd060a9-fa49-49dd-8a19-af53e7f01728",
   "metadata": {},
   "outputs": [],
   "source": [
    "print('shape - ', df_games_features.shape)\n",
    "df_games_features.tail(3)"
   ]
  },
  {
   "cell_type": "code",
   "execution_count": null,
   "id": "ca8ca745-18fa-4e4c-8254-fb0460eb5974",
   "metadata": {},
   "outputs": [],
   "source": [
    "df_uniq.result.value_counts(dropna=False)"
   ]
  },
  {
   "cell_type": "code",
   "execution_count": null,
   "id": "2aed7d70-0faf-4040-86cf-8a886a6b0a7c",
   "metadata": {},
   "outputs": [],
   "source": [
    "df_uniq['fav_loss']      = df_uniq.result.map(lambda x: 1 if x == 'fav_loss' else 0)\n",
    "df_uniq['fav_drow']      = df_uniq.result.map(lambda x: 1 if x == 'fav_drow' else 0)\n",
    "df_uniq['fav_loss_drow'] = df_uniq.result.map(lambda x: 1 if x == 'fav_loss' or x == 'fav_drow' else 0)"
   ]
  },
  {
   "cell_type": "code",
   "execution_count": null,
   "id": "3766c95d-ad04-4ec4-a0ee-067d3f6ab09b",
   "metadata": {},
   "outputs": [],
   "source": [
    "df_uniq.fav_loss.value_counts(dropna=False)"
   ]
  },
  {
   "cell_type": "code",
   "execution_count": null,
   "id": "4f3f578f-76e4-41f5-98a1-db9a10ecd607",
   "metadata": {},
   "outputs": [],
   "source": [
    "df_uniq.fav_drow.value_counts(dropna=False)"
   ]
  },
  {
   "cell_type": "code",
   "execution_count": null,
   "id": "c875e64c-3a1c-4763-8a7e-56b45d2aa462",
   "metadata": {},
   "outputs": [],
   "source": [
    "df_uniq.fav_loss_drow.value_counts(dropna=False)"
   ]
  },
  {
   "cell_type": "code",
   "execution_count": null,
   "id": "55c4f832-f7c1-44c3-9ca8-75a5bb735fbe",
   "metadata": {},
   "outputs": [],
   "source": [
    "col_names = ['game_id', 'fav_loss', 'fav_drow', 'fav_loss_drow']\n",
    "df_games_features = pd.merge(df_games_features, df_uniq[col_names], how='left', left_on='game_id', right_on='game_id')"
   ]
  },
  {
   "cell_type": "code",
   "execution_count": null,
   "id": "7891f297-c28f-4299-9b3d-f9198384a90b",
   "metadata": {},
   "outputs": [],
   "source": [
    "print('shape - ', df_games_features.shape)\n",
    "df_games_features.tail(3)"
   ]
  },
  {
   "cell_type": "code",
   "execution_count": null,
   "id": "f8c1689e-8aa9-43e5-9ddc-cf0702170bce",
   "metadata": {},
   "outputs": [],
   "source": [
    "# Stop"
   ]
  },
  {
   "cell_type": "code",
   "execution_count": null,
   "id": "140f4ccc-4b1f-4536-ade1-32441e4833fd",
   "metadata": {},
   "outputs": [],
   "source": [
    "# file = open('pickle_files/aspected_files/df_games_features_cr_22_09_2022', 'wb')\n",
    "# pickle.dump(df_games_features, file)  \n",
    "# file.close()"
   ]
  },
  {
   "cell_type": "markdown",
   "id": "182c38a8-de4b-44a7-89b4-8a2d53483696",
   "metadata": {},
   "source": [
    "#### Dataframes for reserch and additional special aspects."
   ]
  },
  {
   "cell_type": "markdown",
   "id": "4111fa27-5420-4589-9492-deaa0728aa13",
   "metadata": {},
   "source": [
    "#### df_planets_sing_diff, df_moon_diver , df_moon_more_orbs, df_moon_conv_asps, df_wt_charact, df_rulers_diver_asps, df_not_determinate_hpls_asps."
   ]
  },
  {
   "cell_type": "markdown",
   "id": "8acc108b-6687-4f81-a651-17fab6d4fc0f",
   "metadata": {},
   "source": [
    "#### Features importance"
   ]
  },
  {
   "cell_type": "code",
   "execution_count": null,
   "id": "17598e31-9879-444f-97f5-9d7cb43e08df",
   "metadata": {},
   "outputs": [],
   "source": [
    "df_hauses_features.tail()"
   ]
  },
  {
   "cell_type": "code",
   "execution_count": null,
   "id": "abf37cfc-f47a-4638-b223-04216eaab7c5",
   "metadata": {},
   "outputs": [],
   "source": [
    "loss_coef_plus_lt = df_hauses_features[df_hauses_features.loss_coef_perc_dev > 5].houses_features.values.tolist()\n",
    "print('len - loss_coef_plus_lt - ', len(loss_coef_plus_lt))\n",
    "str(loss_coef_plus_lt[:3])"
   ]
  },
  {
   "cell_type": "code",
   "execution_count": null,
   "id": "27529aab-0f29-449a-8630-f63d9c438d5f",
   "metadata": {},
   "outputs": [],
   "source": [
    "loss_coef_minus_lt = df_hauses_features[df_hauses_features.loss_coef_perc_dev < -5].houses_features.values.tolist()\n",
    "print('len - loss_coef_minus_lt - ', len(loss_coef_minus_lt))\n",
    "str(loss_coef_minus_lt[:3])"
   ]
  },
  {
   "cell_type": "code",
   "execution_count": 231,
   "id": "0f3c3c0b-7019-473f-9af1-4171f6e31581",
   "metadata": {},
   "outputs": [
    {
     "ename": "NameError",
     "evalue": "name 'loss_coef_plus_lt' is not defined",
     "output_type": "error",
     "traceback": [
      "\u001b[0;31m---------------------------------------------------------------------------\u001b[0m",
      "\u001b[0;31mNameError\u001b[0m                                 Traceback (most recent call last)",
      "Input \u001b[0;32mIn [231]\u001b[0m, in \u001b[0;36m<cell line: 1>\u001b[0;34m()\u001b[0m\n\u001b[0;32m----> 1\u001b[0m features_imp_lt \u001b[38;5;241m=\u001b[39m \u001b[43mloss_coef_plus_lt\u001b[49m \u001b[38;5;241m+\u001b[39m loss_coef_minus_lt\n\u001b[1;32m      2\u001b[0m \u001b[38;5;28mprint\u001b[39m(\u001b[38;5;124m'\u001b[39m\u001b[38;5;124mlen - features_imp_lt - \u001b[39m\u001b[38;5;124m'\u001b[39m, \u001b[38;5;28mlen\u001b[39m(features_imp_lt))\n\u001b[1;32m      3\u001b[0m \u001b[38;5;28mstr\u001b[39m(features_imp_lt[:\u001b[38;5;241m3\u001b[39m])\n",
      "\u001b[0;31mNameError\u001b[0m: name 'loss_coef_plus_lt' is not defined"
     ]
    }
   ],
   "source": [
    "features_imp_lt = loss_coef_plus_lt + loss_coef_minus_lt\n",
    "print('len - features_imp_lt - ', len(features_imp_lt))\n",
    "str(features_imp_lt[:3])"
   ]
  },
  {
   "cell_type": "code",
   "execution_count": null,
   "id": "05b659e1-ae06-4da1-9d45-ecc2a2b09508",
   "metadata": {},
   "outputs": [],
   "source": [
    "# file = open('pickle_files/aspected_files/lt_features_imp_pl_5_mn_5_cr_17_08_2022', 'wb')\n",
    "# pickle.dump(features_imp_lt, file)  \n",
    "# file.close()"
   ]
  },
  {
   "cell_type": "code",
   "execution_count": null,
   "id": "0f81b0c5-1544-4a5c-968e-6f22e67b16f1",
   "metadata": {},
   "outputs": [],
   "source": [
    "# Stop"
   ]
  },
  {
   "cell_type": "markdown",
   "id": "cfeb09d8-4fd8-414a-879a-c1585d0a734f",
   "metadata": {},
   "source": [
    "#### Find all not zero features from target == 1"
   ]
  },
  {
   "cell_type": "code",
   "execution_count": null,
   "id": "43ab9adb-d946-4485-ac86-7b41ca9a102f",
   "metadata": {},
   "outputs": [],
   "source": [
    "target_col = 'fav_loss'                    # *****************************************************************************************************\n",
    "target_inds_lt = df_games_features[df_games_features[target_col] == 1].index.tolist()\n",
    "print('len - ', len(target_inds_lt))\n",
    "target_inds_lt[:3]"
   ]
  },
  {
   "cell_type": "code",
   "execution_count": null,
   "id": "d31f2ecb-2371-4e18-a4d7-d24d1b84aeb2",
   "metadata": {},
   "outputs": [],
   "source": [
    "sr_target_features_dicts = gb_game_features[gb_game_features.index.isin(target_inds_lt)].houses_dicts\n",
    "sr_target_features_dicts.head(2)"
   ]
  },
  {
   "cell_type": "code",
   "execution_count": null,
   "id": "433727d4-ed33-472f-9c83-2486f7f0fd79",
   "metadata": {},
   "outputs": [],
   "source": [
    "target_features_lt = []\n",
    "_ = sr_target_features_dicts.map(lambda x: [target_features_lt.append(key) for key in x.keys()])"
   ]
  },
  {
   "cell_type": "code",
   "execution_count": null,
   "id": "6df90039-1bc7-4502-9278-ad5cd71092a2",
   "metadata": {},
   "outputs": [],
   "source": [
    "len(set(target_features_lt))"
   ]
  },
  {
   "cell_type": "code",
   "execution_count": null,
   "id": "e16aa1ea-07b5-469c-beca-3386d81c2e8a",
   "metadata": {},
   "outputs": [],
   "source": [
    "# Nearly all target features is in features."
   ]
  },
  {
   "cell_type": "markdown",
   "id": "5314de31-afff-4c54-9b2b-78ceb4384c73",
   "metadata": {},
   "source": [
    "#### Save csv files for PaperSpace"
   ]
  },
  {
   "cell_type": "code",
   "execution_count": null,
   "id": "1686ade1-5738-443a-81d3-d09e7621018f",
   "metadata": {},
   "outputs": [],
   "source": [
    "with open('/home/cryptobrahman/Own/football_competitions_research/pickle_files/aspected_files/df_games_features_cr_22_09_2022', 'rb') as f:\n",
    "    df_games_features = pickle.load(f)\n",
    "print('shape - ', df_games_features.shape)    "
   ]
  },
  {
   "cell_type": "code",
   "execution_count": null,
   "id": "9f70d2b1-f2a4-41b8-b184-25a9c4993321",
   "metadata": {},
   "outputs": [],
   "source": [
    "df_games_features.head()"
   ]
  },
  {
   "cell_type": "code",
   "execution_count": null,
   "id": "4ff92602-2367-404e-a07b-a3ffa2d020df",
   "metadata": {},
   "outputs": [],
   "source": [
    "# For getting col_names with num index in csv file:\n",
    "df_col_inds_names = pd.DataFrame(data=df_games_features.columns, columns=['col_names'])\n",
    "df_col_inds_names\n",
    "\n",
    "## df_col_inds_names.to_csv('files_paperspace/df_col_inds_names_cr_22_09_2022.csv', header=True, index=False)"
   ]
  },
  {
   "cell_type": "code",
   "execution_count": null,
   "id": "08ae79e5-8efb-4ee6-9b32-02cdb8f6cb50",
   "metadata": {},
   "outputs": [],
   "source": [
    "# with open('/home/cryptobrahman/Own/football_competitions_research/pickle_files/aspected_files/lt_features_imp_pl_5_mn_5_cr_17_08_2022', 'rb') as f:\n",
    "#     lt_features_imp = pickle.load(f)\n",
    "# print('len - ', len(lt_features_imp))  \n",
    "# str(lt_features_imp[:3])"
   ]
  },
  {
   "cell_type": "code",
   "execution_count": null,
   "id": "74bb8514-dae2-4629-91ce-ba5375412d74",
   "metadata": {},
   "outputs": [],
   "source": [
    "# lt_features_imp = [x.lower() for x in lt_features_imp]\n",
    "# lt_features_imp = [re.sub(' ', '_', x) for x in lt_features_imp] \n",
    "# str(lt_features_imp[:3])"
   ]
  },
  {
   "cell_type": "code",
   "execution_count": null,
   "id": "cba1809c-20e4-402f-8f3a-e04bdb3dbc85",
   "metadata": {},
   "outputs": [],
   "source": [
    "# inds_future_imp_cols = []\n",
    "# for ind, col in enumerate(df_games_features.columns):\n",
    "#     if col in lt_features_imp:\n",
    "#            inds_future_imp_cols.append(ind)"
   ]
  },
  {
   "cell_type": "code",
   "execution_count": null,
   "id": "fdf31c8e-cde4-4a5c-ba49-e2a7d34e86ba",
   "metadata": {},
   "outputs": [],
   "source": [
    "# print('len - ', len(inds_future_imp_cols))\n",
    "# inds_future_imp_cols[:3]"
   ]
  },
  {
   "cell_type": "code",
   "execution_count": null,
   "id": "ce77fb98-4fd2-410c-8c67-d5794fa9fa72",
   "metadata": {},
   "outputs": [],
   "source": [
    "# df_games_features.columns[5] in lt_features_imp"
   ]
  },
  {
   "cell_type": "code",
   "execution_count": null,
   "id": "4252ec8c-1da5-43ca-a59e-de7f12a0211a",
   "metadata": {},
   "outputs": [],
   "source": [
    "# with open('files_paperspace/lt_indexes_fut_imp_pl_5_mn_5_cr_17_08_2022.csv', 'w', newline='') as f:\n",
    "#     wr = csv.writer(f, quoting=csv.QUOTE_ALL)\n",
    "#     wr.writerow(inds_future_imp_cols)"
   ]
  },
  {
   "cell_type": "code",
   "execution_count": null,
   "id": "09a4d282-df8e-4305-a2c1-8b752bc9ec0c",
   "metadata": {},
   "outputs": [],
   "source": [
    "df_games_features.columns = range(len(df_games_features.columns))"
   ]
  },
  {
   "cell_type": "code",
   "execution_count": null,
   "id": "9ac1c207-df2c-4f01-96dd-2d0a7a014264",
   "metadata": {},
   "outputs": [],
   "source": [
    "# df_games_features.head(1)"
   ]
  },
  {
   "cell_type": "code",
   "execution_count": 232,
   "id": "c8f6ea85-16bb-4080-8001-3b76fe59cecf",
   "metadata": {},
   "outputs": [],
   "source": [
    "# df_games_features.rename(columns={0: 'id', 1462: 'l', 1463: 'd', 1464: 'ld'}, inplace=True)"
   ]
  },
  {
   "cell_type": "code",
   "execution_count": 233,
   "id": "9fceced2-04d6-455e-b459-67bb5193d76e",
   "metadata": {},
   "outputs": [
    {
     "ename": "NameError",
     "evalue": "name 'df_games_features' is not defined",
     "output_type": "error",
     "traceback": [
      "\u001b[0;31m---------------------------------------------------------------------------\u001b[0m",
      "\u001b[0;31mNameError\u001b[0m                                 Traceback (most recent call last)",
      "Input \u001b[0;32mIn [233]\u001b[0m, in \u001b[0;36m<cell line: 1>\u001b[0;34m()\u001b[0m\n\u001b[0;32m----> 1\u001b[0m \u001b[43mdf_games_features\u001b[49m\u001b[38;5;241m.\u001b[39mhead(\u001b[38;5;241m1\u001b[39m)\n",
      "\u001b[0;31mNameError\u001b[0m: name 'df_games_features' is not defined"
     ]
    }
   ],
   "source": [
    "df_games_features.head(1)"
   ]
  },
  {
   "cell_type": "code",
   "execution_count": null,
   "id": "8eaf1eaf-af8e-4e9f-af93-28365e049deb",
   "metadata": {},
   "outputs": [],
   "source": [
    "# df_games_features.to_csv('files_paperspace/df_paperspace_cr_22_09_2022.csv', header=True, index=False)"
   ]
  },
  {
   "cell_type": "code",
   "execution_count": null,
   "id": "5230033d-35e4-4374-a212-5a8769a5fe1c",
   "metadata": {},
   "outputs": [],
   "source": [
    "# df = pd.read_csv('files_paperspace/df_paperspace_cr_22_09_2022.csv')"
   ]
  },
  {
   "cell_type": "code",
   "execution_count": null,
   "id": "d0c23259-d748-43c2-8173-c45b32df72e6",
   "metadata": {},
   "outputs": [],
   "source": [
    "# df"
   ]
  },
  {
   "cell_type": "code",
   "execution_count": null,
   "id": "bd60ca44-3e01-43e5-95f4-08f890755ea6",
   "metadata": {},
   "outputs": [],
   "source": [
    "# with open('files_paperspace/lt_indexes_fut_imp_pl_5_mn_5_cr_17_08_2022.csv', newline='') as f:\n",
    "#     reader = csv.reader(f)\n",
    "#     col_inds_future_imp = list(reader)[0]\n",
    "#     col_inds_future_imp = list(map(int, col_inds_future_imp))\n",
    "\n",
    "# col_inds_future_imp[:3]    "
   ]
  }
 ],
 "metadata": {
  "kernelspec": {
   "display_name": "Python 3 (ipykernel)",
   "language": "python",
   "name": "python3"
  },
  "language_info": {
   "codemirror_mode": {
    "name": "ipython",
    "version": 3
   },
   "file_extension": ".py",
   "mimetype": "text/x-python",
   "name": "python",
   "nbconvert_exporter": "python",
   "pygments_lexer": "ipython3",
   "version": "3.9.19"
  }
 },
 "nbformat": 4,
 "nbformat_minor": 5
}

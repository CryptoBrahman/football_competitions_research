{
 "cells": [
  {
   "cell_type": "code",
   "execution_count": 5,
   "metadata": {},
   "outputs": [],
   "source": [
    "import pickle\n",
    "import datetime\n",
    "import pandas as pd\n",
    "import numpy as np\n",
    "import re\n",
    "pd.set_option('display.max_rows', 500)\n",
    "pd.set_option('display.max_columns', 500)\n",
    "pd.set_option('display.max_colwidth', 500)"
   ]
  },
  {
   "cell_type": "code",
   "execution_count": 6,
   "metadata": {},
   "outputs": [],
   "source": [
    "# number of col_names in list must be equal number of rows df\n",
    "def transform_columns_to_rows(df: pd.DataFrame, col_names: list):\n",
    "    pd_series = pd.DataFrame()\n",
    "    for i, col in zip(range(df.shape[0]), col_names):\n",
    "        pd_series[col] = df.stack()[i]\n",
    "    return pd_series "
   ]
  },
  {
   "cell_type": "code",
   "execution_count": 7,
   "metadata": {},
   "outputs": [],
   "source": [
    "with open('pickle_files/all_matches', 'rb') as f:\n",
    "    all_matches = pickle.load(f)"
   ]
  },
  {
   "cell_type": "code",
   "execution_count": 8,
   "metadata": {},
   "outputs": [],
   "source": [
    "df_to_transform = pd.DataFrame(all_matches)"
   ]
  },
  {
   "cell_type": "code",
   "execution_count": 9,
   "metadata": {},
   "outputs": [],
   "source": [
    "df = transform_columns_to_rows(df_to_transform, ['ligue_header', 'comp_id', 'season_id', 'game_utc', 'game_title','goals', 'game_status'])"
   ]
  },
  {
   "cell_type": "code",
   "execution_count": 10,
   "metadata": {},
   "outputs": [],
   "source": [
    "df.reset_index(inplace=True)\n",
    "df.rename(columns={'index':'game_id'}, inplace=True)"
   ]
  },
  {
   "cell_type": "code",
   "execution_count": 11,
   "metadata": {},
   "outputs": [
    {
     "data": {
      "text/html": [
       "<div>\n",
       "<style scoped>\n",
       "    .dataframe tbody tr th:only-of-type {\n",
       "        vertical-align: middle;\n",
       "    }\n",
       "\n",
       "    .dataframe tbody tr th {\n",
       "        vertical-align: top;\n",
       "    }\n",
       "\n",
       "    .dataframe thead th {\n",
       "        text-align: right;\n",
       "    }\n",
       "</style>\n",
       "<table border=\"1\" class=\"dataframe\">\n",
       "  <thead>\n",
       "    <tr style=\"text-align: right;\">\n",
       "      <th></th>\n",
       "      <th>game_id</th>\n",
       "      <th>ligue_header</th>\n",
       "      <th>comp_id</th>\n",
       "      <th>season_id</th>\n",
       "      <th>game_utc</th>\n",
       "      <th>game_title</th>\n",
       "      <th>goals</th>\n",
       "      <th>game_status</th>\n",
       "    </tr>\n",
       "  </thead>\n",
       "  <tbody>\n",
       "    <tr>\n",
       "      <th>0</th>\n",
       "      <td>1458512</td>\n",
       "      <td>Segunda División</td>\n",
       "      <td>707</td>\n",
       "      <td>306</td>\n",
       "      <td>26.03.2021 20:00</td>\n",
       "      <td>Sporting Gijón - Alcorcón</td>\n",
       "      <td>0:0</td>\n",
       "      <td>Finished</td>\n",
       "    </tr>\n",
       "    <tr>\n",
       "      <th>1</th>\n",
       "      <td>1458506</td>\n",
       "      <td>Segunda División</td>\n",
       "      <td>707</td>\n",
       "      <td>306</td>\n",
       "      <td>26.03.2021 22:00</td>\n",
       "      <td>Castellon - Espanyol</td>\n",
       "      <td>1:3</td>\n",
       "      <td>Finished</td>\n",
       "    </tr>\n",
       "    <tr>\n",
       "      <th>2</th>\n",
       "      <td>1459331</td>\n",
       "      <td>First League</td>\n",
       "      <td>435</td>\n",
       "      <td>306</td>\n",
       "      <td>26.03.2021 14:00</td>\n",
       "      <td>Mykolaiv - Alians Lypova Dolyna</td>\n",
       "      <td>2:0</td>\n",
       "      <td>Finished</td>\n",
       "    </tr>\n",
       "    <tr>\n",
       "      <th>3</th>\n",
       "      <td>1459330</td>\n",
       "      <td>First League</td>\n",
       "      <td>435</td>\n",
       "      <td>306</td>\n",
       "      <td>26.03.2021 14:00</td>\n",
       "      <td>Polessya - Krystal Kherson</td>\n",
       "      <td>1:1</td>\n",
       "      <td>Finished</td>\n",
       "    </tr>\n",
       "    <tr>\n",
       "      <th>4</th>\n",
       "      <td>1459334</td>\n",
       "      <td>First League</td>\n",
       "      <td>435</td>\n",
       "      <td>306</td>\n",
       "      <td>26.03.2021 15:00</td>\n",
       "      <td>Kremin - Hirnyk-Sport</td>\n",
       "      <td>1:1</td>\n",
       "      <td>Finished</td>\n",
       "    </tr>\n",
       "    <tr>\n",
       "      <th>...</th>\n",
       "      <td>...</td>\n",
       "      <td>...</td>\n",
       "      <td>...</td>\n",
       "      <td>...</td>\n",
       "      <td>...</td>\n",
       "      <td>...</td>\n",
       "      <td>...</td>\n",
       "      <td>...</td>\n",
       "    </tr>\n",
       "    <tr>\n",
       "      <th>543580</th>\n",
       "      <td>10934224</td>\n",
       "      <td>Torneo Federal A</td>\n",
       "      <td>455</td>\n",
       "      <td>38</td>\n",
       "      <td>04.11.2013 00:30</td>\n",
       "      <td>Juventud Unida Universitario - Union Mar del Plata</td>\n",
       "      <td>2:0</td>\n",
       "      <td>Finished</td>\n",
       "    </tr>\n",
       "    <tr>\n",
       "      <th>543581</th>\n",
       "      <td>10968262</td>\n",
       "      <td>Division di Honor</td>\n",
       "      <td>463</td>\n",
       "      <td>38</td>\n",
       "      <td>04.11.2013 01:00</td>\n",
       "      <td>Nacional da Madeira - Dakota</td>\n",
       "      <td>1:3</td>\n",
       "      <td>Finished</td>\n",
       "    </tr>\n",
       "    <tr>\n",
       "      <th>543582</th>\n",
       "      <td>10925170</td>\n",
       "      <td>Primera D Metropolitana</td>\n",
       "      <td>460</td>\n",
       "      <td>38</td>\n",
       "      <td>04.11.2013 19:30</td>\n",
       "      <td>Claypole - Argentino Rosario</td>\n",
       "      <td>0:1</td>\n",
       "      <td>Finished</td>\n",
       "    </tr>\n",
       "    <tr>\n",
       "      <th>543583</th>\n",
       "      <td>10960778</td>\n",
       "      <td>Argentino B</td>\n",
       "      <td>458</td>\n",
       "      <td>38</td>\n",
       "      <td>04.11.2013 01:00</td>\n",
       "      <td>Huracan San Rafael - Pacífico</td>\n",
       "      <td>3:0</td>\n",
       "      <td>Finished</td>\n",
       "    </tr>\n",
       "    <tr>\n",
       "      <th>543584</th>\n",
       "      <td>10961027</td>\n",
       "      <td>Argentino B</td>\n",
       "      <td>458</td>\n",
       "      <td>38</td>\n",
       "      <td>04.11.2013 20:00</td>\n",
       "      <td>Ferroviarios Corrientes - Atletico Parana</td>\n",
       "      <td>1:0</td>\n",
       "      <td>Finished</td>\n",
       "    </tr>\n",
       "  </tbody>\n",
       "</table>\n",
       "<p>543585 rows × 8 columns</p>\n",
       "</div>"
      ],
      "text/plain": [
       "         game_id             ligue_header comp_id season_id          game_utc  \\\n",
       "0        1458512         Segunda División     707       306  26.03.2021 20:00   \n",
       "1        1458506         Segunda División     707       306  26.03.2021 22:00   \n",
       "2        1459331             First League     435       306  26.03.2021 14:00   \n",
       "3        1459330             First League     435       306  26.03.2021 14:00   \n",
       "4        1459334             First League     435       306  26.03.2021 15:00   \n",
       "...          ...                      ...     ...       ...               ...   \n",
       "543580  10934224         Torneo Federal A     455        38  04.11.2013 00:30   \n",
       "543581  10968262        Division di Honor     463        38  04.11.2013 01:00   \n",
       "543582  10925170  Primera D Metropolitana     460        38  04.11.2013 19:30   \n",
       "543583  10960778              Argentino B     458        38  04.11.2013 01:00   \n",
       "543584  10961027              Argentino B     458        38  04.11.2013 20:00   \n",
       "\n",
       "                                                game_title goals game_status  \n",
       "0                                Sporting Gijón - Alcorcón   0:0    Finished  \n",
       "1                                     Castellon - Espanyol   1:3    Finished  \n",
       "2                          Mykolaiv - Alians Lypova Dolyna   2:0    Finished  \n",
       "3                               Polessya - Krystal Kherson   1:1    Finished  \n",
       "4                                    Kremin - Hirnyk-Sport   1:1    Finished  \n",
       "...                                                    ...   ...         ...  \n",
       "543580  Juventud Unida Universitario - Union Mar del Plata   2:0    Finished  \n",
       "543581                        Nacional da Madeira - Dakota   1:3    Finished  \n",
       "543582                        Claypole - Argentino Rosario   0:1    Finished  \n",
       "543583                       Huracan San Rafael - Pacífico   3:0    Finished  \n",
       "543584           Ferroviarios Corrientes - Atletico Parana   1:0    Finished  \n",
       "\n",
       "[543585 rows x 8 columns]"
      ]
     },
     "execution_count": 11,
     "metadata": {},
     "output_type": "execute_result"
    }
   ],
   "source": [
    "df"
   ]
  },
  {
   "cell_type": "code",
   "execution_count": 14,
   "metadata": {},
   "outputs": [],
   "source": [
    "main_ligues = pd.read_csv('main_ligues.csv')\n",
    "main_ligues = main_ligues.top_ligues.squeeze()"
   ]
  },
  {
   "cell_type": "code",
   "execution_count": 18,
   "metadata": {},
   "outputs": [],
   "source": [
    "df_main = df[df.ligue_header.isin(main_ligues)].reset_index(drop=True)"
   ]
  },
  {
   "cell_type": "code",
   "execution_count": 19,
   "metadata": {},
   "outputs": [
    {
     "data": {
      "text/plain": [
       "(353909, 8)"
      ]
     },
     "execution_count": 19,
     "metadata": {},
     "output_type": "execute_result"
    }
   ],
   "source": [
    "df_main.shape"
   ]
  },
  {
   "cell_type": "code",
   "execution_count": 25,
   "metadata": {},
   "outputs": [],
   "source": [
    "top_ligues_start = ['12', '13', '14', '15', '16', '17', '18', '419', '420', '454', '456', '474', '483', '485', '550', '554', '560', '565']\n",
    "top_ligues_end =  ['577', '581', '587', '591','596', '601', '677', '681', '684', '695', '699', '707', '712', '716', '723', '727'] "
   ]
  },
  {
   "cell_type": "code",
   "execution_count": 32,
   "metadata": {},
   "outputs": [],
   "source": [
    "second_igues_start = [ '419', '424', '435', '436', '437', '444', '446', '449', '450', '457', '459', '464', '473', '477', '491']\n",
    "second_igues_start_2  = ['493', '496', '498', '500', '502', '504', '507', '512', '516', '518', '523', '532', '539', '540', '542']\n",
    "second_ligues_middle = [ '544', '545', '546', '548', '551', '555', '562', '567', '576', '585', '586', '589', '595', '599', '602']\n",
    "second_ligues_middle_2 =  ['606', '621', '622', '625', '626', '628', '632', '634', '636', '637', '642', '646', '647', '648', '653']\n",
    "second_ligues_end = ['654', '655', '657', '659', '660', '667', '672', '674', '675', '676', '679', '685', '687', '691', '692', '697']\n",
    "second_ligues_end_2 = ['700', '703', '704', '714', '715', '720', '721', '725', '727', '733''735', '747', '761', '912', '1157', '1259'] "
   ]
  },
  {
   "cell_type": "code",
   "execution_count": 33,
   "metadata": {},
   "outputs": [],
   "source": [
    "# top_ligues_start and end\n",
    "df_top_ligues = df[df.comp_id.isin(top_ligues)]"
   ]
  },
  {
   "cell_type": "code",
   "execution_count": 34,
   "metadata": {},
   "outputs": [
    {
     "data": {
      "text/plain": [
       "(74706, 8)"
      ]
     },
     "execution_count": 34,
     "metadata": {},
     "output_type": "execute_result"
    }
   ],
   "source": [
    "df_top_ligues.shape"
   ]
  },
  {
   "cell_type": "code",
   "execution_count": 35,
   "metadata": {},
   "outputs": [],
   "source": [
    "# top_ligues_2_start, mddle, end\n",
    "df_top_ligues_2 = df[df.comp_id.isin(second_ligues)"
   ]
  },
  {
   "cell_type": "code",
   "execution_count": 36,
   "metadata": {},
   "outputs": [
    {
     "data": {
      "text/plain": [
       "(125237, 8)"
      ]
     },
     "execution_count": 36,
     "metadata": {},
     "output_type": "execute_result"
    }
   ],
   "source": [
    "df_top_ligues_2.shape"
   ]
  },
  {
   "cell_type": "code",
   "execution_count": null,
   "metadata": {},
   "outputs": [],
   "source": []
  }
 ],
 "metadata": {
  "kernelspec": {
   "display_name": "Python 3",
   "language": "python",
   "name": "python3"
  },
  "language_info": {
   "codemirror_mode": {
    "name": "ipython",
    "version": 3
   },
   "file_extension": ".py",
   "mimetype": "text/x-python",
   "name": "python",
   "nbconvert_exporter": "python",
   "pygments_lexer": "ipython3",
   "version": "3.8.5"
  }
 },
 "nbformat": 4,
 "nbformat_minor": 4
}

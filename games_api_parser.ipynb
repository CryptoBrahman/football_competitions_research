{
 "cells": [
  {
   "cell_type": "code",
   "execution_count": 1,
   "id": "9978c8f5-fa18-440e-83ee-6d95c596fd2e",
   "metadata": {},
   "outputs": [],
   "source": [
    "# For get tables of competitions \n",
    "# https://soccer365.ru/competitions/16/ - current tables\n",
    "# https://soccer365.ru/competitions/16/2017-2018/ - for seasons\n",
    "\n",
    "# html = requests.get('https://soccer365.me/?c=live&a=showtable&competition_id=483&season_id=307').content\n",
    "# <tr class=\"adv_kef_wgt_odd\">"
   ]
  },
  {
   "cell_type": "code",
   "execution_count": 1,
   "id": "wrong-therapist",
   "metadata": {
    "tags": []
   },
   "outputs": [],
   "source": [
    "import os\n",
    "import re\n",
    "import pickle\n",
    "import numpy as np\n",
    "import pandas as pd\n",
    "import pytz\n",
    "from datetime import datetime, timedelta\n",
    "\n",
    "from _html_parser import HtmlParser, ParsingDataPrepare, TableConstant\n",
    "\n",
    "pd.set_option('display.max_rows', 500)\n",
    "pd.set_option('display.max_columns', 500)\n",
    "pd.set_option('display.max_colwidth', 500)"
   ]
  },
  {
   "cell_type": "code",
   "execution_count": 2,
   "id": "4f2f4730-d51e-47ff-872b-0536f219509b",
   "metadata": {},
   "outputs": [],
   "source": [
    "%load_ext autoreload\n",
    "%autoreload 2"
   ]
  },
  {
   "cell_type": "markdown",
   "id": "3d04dac1-f3e4-4bb0-bb5a-a72913c8f28c",
   "metadata": {},
   "source": [
    "### Get games data"
   ]
  },
  {
   "cell_type": "code",
   "execution_count": 4,
   "id": "3d76411b-aa23-4bd6-bec6-526b78d44228",
   "metadata": {},
   "outputs": [
    {
     "data": {
      "text/plain": [
       "112"
      ]
     },
     "execution_count": 4,
     "metadata": {},
     "output_type": "execute_result"
    }
   ],
   "source": [
    "# Last date of season in EPL with correct datatime on 'soccer365.me': 15.08.1998\n",
    "# Format: start - %m/%d/%Y, end - %m/%d/%Y\n",
    "numdays = ParsingDataPrepare.count_days_by_dates('09/16/2022', '05/27/2022')\n",
    "numdays"
   ]
  },
  {
   "cell_type": "code",
   "execution_count": 6,
   "id": "aeb61b5d-b0b3-465d-a47b-f1cc3dacb553",
   "metadata": {},
   "outputs": [],
   "source": [
    "# from_26_05_2022_to_27_03_2021_games, from_26_03_2021_to_03_11_2013_games, from_02_11_2013_to_10_07_2005_games, from_09_07_2005_to_01_01_2000_games\n",
    "# from_29_12_1999_to_15_08_1998_games\n",
    "name = 'pickle_files/new_events/16_09_2022/from_16_09_2022_to_26_05_2022_games'   "
   ]
  },
  {
   "cell_type": "code",
   "execution_count": 10,
   "id": "vertical-alaska",
   "metadata": {},
   "outputs": [],
   "source": [
    "# HtmlParser.parsing_write_by_date(numdays=numdays, start_year=2022, start_month=9, start_day=16, file_name=name)"
   ]
  },
  {
   "cell_type": "code",
   "execution_count": 51,
   "id": "still-therapy",
   "metadata": {},
   "outputs": [],
   "source": [
    "with open(name, 'rb') as f:\n",
    "    games = pickle.load(f)"
   ]
  },
  {
   "cell_type": "code",
   "execution_count": 52,
   "id": "e7e2048b-04f3-4f72-9b08-62408b30a5a3",
   "metadata": {},
   "outputs": [
    {
     "data": {
      "text/plain": [
       "24863"
      ]
     },
     "execution_count": 52,
     "metadata": {},
     "output_type": "execute_result"
    }
   ],
   "source": [
    "len(games)"
   ]
  },
  {
   "cell_type": "code",
   "execution_count": 53,
   "id": "9fb86791-6e89-4702-b113-6523993bf6a8",
   "metadata": {},
   "outputs": [
    {
     "data": {
      "text/plain": [
       "(24863, 8)"
      ]
     },
     "execution_count": 53,
     "metadata": {},
     "output_type": "execute_result"
    }
   ],
   "source": [
    "df_to_transform = pd.DataFrame(games)\n",
    "df = ParsingDataPrepare.transform_columns_to_rows(df_to_transform, ['ligue_header', 'comp_id', 'season_id', 'game_utc', 'game_title','goals', 'game_status'])\n",
    "\n",
    "df.reset_index(inplace=True)\n",
    "df.rename(columns={'index':'game_id'}, inplace=True)\n",
    "df.shape"
   ]
  },
  {
   "cell_type": "markdown",
   "id": "3af3924d-22fe-4aac-bf4f-300362a3a51f",
   "metadata": {},
   "source": [
    "#### Check on 'soccer365' and change datatime if need '+3 utc' on 'utc'"
   ]
  },
  {
   "cell_type": "code",
   "execution_count": 54,
   "id": "b17d9185-45c2-475a-a0af-8b7e6cbe32b2",
   "metadata": {},
   "outputs": [
    {
     "data": {
      "text/html": [
       "<div>\n",
       "<style scoped>\n",
       "    .dataframe tbody tr th:only-of-type {\n",
       "        vertical-align: middle;\n",
       "    }\n",
       "\n",
       "    .dataframe tbody tr th {\n",
       "        vertical-align: top;\n",
       "    }\n",
       "\n",
       "    .dataframe thead th {\n",
       "        text-align: right;\n",
       "    }\n",
       "</style>\n",
       "<table border=\"1\" class=\"dataframe\">\n",
       "  <thead>\n",
       "    <tr style=\"text-align: right;\">\n",
       "      <th></th>\n",
       "      <th>game_id</th>\n",
       "      <th>ligue_header</th>\n",
       "      <th>comp_id</th>\n",
       "      <th>season_id</th>\n",
       "      <th>game_utc</th>\n",
       "      <th>game_title</th>\n",
       "      <th>goals</th>\n",
       "      <th>game_status</th>\n",
       "    </tr>\n",
       "  </thead>\n",
       "  <tbody>\n",
       "    <tr>\n",
       "      <th>0</th>\n",
       "      <td>1736289</td>\n",
       "      <td>Premier League</td>\n",
       "      <td>12</td>\n",
       "      <td>381</td>\n",
       "      <td>16.09.2022 22:00</td>\n",
       "      <td>Aston Villa - Southampton</td>\n",
       "      <td>1:0</td>\n",
       "      <td>Finished</td>\n",
       "    </tr>\n",
       "    <tr>\n",
       "      <th>1</th>\n",
       "      <td>1736296</td>\n",
       "      <td>Premier League</td>\n",
       "      <td>12</td>\n",
       "      <td>381</td>\n",
       "      <td>16.09.2022 22:00</td>\n",
       "      <td>Nottingham - Fulham</td>\n",
       "      <td>2:3</td>\n",
       "      <td>Finished</td>\n",
       "    </tr>\n",
       "    <tr>\n",
       "      <th>2</th>\n",
       "      <td>1747456</td>\n",
       "      <td>Serie A</td>\n",
       "      <td>15</td>\n",
       "      <td>381</td>\n",
       "      <td>16.09.2022 21:45</td>\n",
       "      <td>Salernitana - Lecce</td>\n",
       "      <td>1:2</td>\n",
       "      <td>Finished</td>\n",
       "    </tr>\n",
       "    <tr>\n",
       "      <th>3</th>\n",
       "      <td>1744353</td>\n",
       "      <td>Primera Division</td>\n",
       "      <td>16</td>\n",
       "      <td>381</td>\n",
       "      <td>16.09.2022 22:00</td>\n",
       "      <td>Real Valladolid - Cadiz</td>\n",
       "      <td>0:1</td>\n",
       "      <td>Finished</td>\n",
       "    </tr>\n",
       "    <tr>\n",
       "      <th>4</th>\n",
       "      <td>1748218</td>\n",
       "      <td>Segunda División</td>\n",
       "      <td>707</td>\n",
       "      <td>381</td>\n",
       "      <td>16.09.2022 22:00</td>\n",
       "      <td>Levante - Cartagena</td>\n",
       "      <td>0:1</td>\n",
       "      <td>Finished</td>\n",
       "    </tr>\n",
       "    <tr>\n",
       "      <th>...</th>\n",
       "      <td>...</td>\n",
       "      <td>...</td>\n",
       "      <td>...</td>\n",
       "      <td>...</td>\n",
       "      <td>...</td>\n",
       "      <td>...</td>\n",
       "      <td>...</td>\n",
       "      <td>...</td>\n",
       "    </tr>\n",
       "    <tr>\n",
       "      <th>24858</th>\n",
       "      <td>1607985</td>\n",
       "      <td>Landesliga</td>\n",
       "      <td>475</td>\n",
       "      <td>310</td>\n",
       "      <td>28.05.2022 18:30</td>\n",
       "      <td>Volders - Münster</td>\n",
       "      <td>0:1</td>\n",
       "      <td>Finished</td>\n",
       "    </tr>\n",
       "    <tr>\n",
       "      <th>24859</th>\n",
       "      <td>1607984</td>\n",
       "      <td>Landesliga</td>\n",
       "      <td>475</td>\n",
       "      <td>310</td>\n",
       "      <td>28.05.2022 18:30</td>\n",
       "      <td>Innsbrucker AC - Mils</td>\n",
       "      <td>3:2</td>\n",
       "      <td>Finished</td>\n",
       "    </tr>\n",
       "    <tr>\n",
       "      <th>24860</th>\n",
       "      <td>1607740</td>\n",
       "      <td>Landesliga</td>\n",
       "      <td>475</td>\n",
       "      <td>310</td>\n",
       "      <td>28.05.2022 19:00</td>\n",
       "      <td>St. Jakob - SAK Klagenfurt</td>\n",
       "      <td>0:1</td>\n",
       "      <td>Finished</td>\n",
       "    </tr>\n",
       "    <tr>\n",
       "      <th>24861</th>\n",
       "      <td>1607990</td>\n",
       "      <td>Landesliga</td>\n",
       "      <td>475</td>\n",
       "      <td>310</td>\n",
       "      <td>28.05.2022 19:30</td>\n",
       "      <td>Natters - Prutz / Serfaus</td>\n",
       "      <td>3:2</td>\n",
       "      <td>Finished</td>\n",
       "    </tr>\n",
       "    <tr>\n",
       "      <th>24862</th>\n",
       "      <td>1617486</td>\n",
       "      <td>Landesliga</td>\n",
       "      <td>475</td>\n",
       "      <td>310</td>\n",
       "      <td>28.05.2022 20:00</td>\n",
       "      <td>Pinkafeld - Parndorf</td>\n",
       "      <td>0:1</td>\n",
       "      <td>Finished</td>\n",
       "    </tr>\n",
       "  </tbody>\n",
       "</table>\n",
       "<p>24863 rows × 8 columns</p>\n",
       "</div>"
      ],
      "text/plain": [
       "       game_id      ligue_header comp_id season_id          game_utc  \\\n",
       "0      1736289    Premier League      12       381  16.09.2022 22:00   \n",
       "1      1736296    Premier League      12       381  16.09.2022 22:00   \n",
       "2      1747456           Serie A      15       381  16.09.2022 21:45   \n",
       "3      1744353  Primera Division      16       381  16.09.2022 22:00   \n",
       "4      1748218  Segunda División     707       381  16.09.2022 22:00   \n",
       "...        ...               ...     ...       ...               ...   \n",
       "24858  1607985        Landesliga     475       310  28.05.2022 18:30   \n",
       "24859  1607984        Landesliga     475       310  28.05.2022 18:30   \n",
       "24860  1607740        Landesliga     475       310  28.05.2022 19:00   \n",
       "24861  1607990        Landesliga     475       310  28.05.2022 19:30   \n",
       "24862  1617486        Landesliga     475       310  28.05.2022 20:00   \n",
       "\n",
       "                       game_title goals game_status  \n",
       "0       Aston Villa - Southampton   1:0    Finished  \n",
       "1             Nottingham - Fulham   2:3    Finished  \n",
       "2             Salernitana - Lecce   1:2    Finished  \n",
       "3         Real Valladolid - Cadiz   0:1    Finished  \n",
       "4             Levante - Cartagena   0:1    Finished  \n",
       "...                           ...   ...         ...  \n",
       "24858           Volders - Münster   0:1    Finished  \n",
       "24859       Innsbrucker AC - Mils   3:2    Finished  \n",
       "24860  St. Jakob - SAK Klagenfurt   0:1    Finished  \n",
       "24861   Natters - Prutz / Serfaus   3:2    Finished  \n",
       "24862        Pinkafeld - Parndorf   0:1    Finished  \n",
       "\n",
       "[24863 rows x 8 columns]"
      ]
     },
     "execution_count": 54,
     "metadata": {},
     "output_type": "execute_result"
    }
   ],
   "source": [
    "df"
   ]
  },
  {
   "cell_type": "code",
   "execution_count": 25,
   "id": "e2f1df40-eccb-48fa-a207-0915a03570ee",
   "metadata": {},
   "outputs": [],
   "source": [
    "# games.items()"
   ]
  },
  {
   "cell_type": "code",
   "execution_count": 55,
   "id": "129bed90-a042-43a2-848d-bc23c5548cb2",
   "metadata": {},
   "outputs": [],
   "source": [
    "utc = pytz.timezone('UTC')\n",
    "localtz = pytz.timezone('Europe/Kiev')\n",
    "\n",
    "err_time_keys = []\n",
    "for key, val in games.items():\n",
    "    if val[3][-3] != ':':    \n",
    "        err_time_keys.append(key)\n",
    "        continue  \n",
    "    d_time = datetime.strptime(val[3], \"%d.%m.%Y %H:%M\")\n",
    "    localtime = localtz.localize(d_time)\n",
    "    utctime = utc.normalize(localtime.astimezone(utc))    \n",
    "    games[key][3] = utctime.strftime('%d.%m.%Y %H:%M')"
   ]
  },
  {
   "cell_type": "code",
   "execution_count": 57,
   "id": "c3d03307-bc9b-4c34-a14f-9ec23412be33",
   "metadata": {},
   "outputs": [
    {
     "data": {
      "text/plain": [
       "570"
      ]
     },
     "execution_count": 57,
     "metadata": {},
     "output_type": "execute_result"
    }
   ],
   "source": [
    "len(err_time_keys)"
   ]
  },
  {
   "cell_type": "code",
   "execution_count": 59,
   "id": "ebcc0ce6-b22f-44e3-97d4-07283140d661",
   "metadata": {},
   "outputs": [
    {
     "data": {
      "text/plain": [
       "(24863, 8)"
      ]
     },
     "execution_count": 59,
     "metadata": {},
     "output_type": "execute_result"
    }
   ],
   "source": [
    "df_to_transform = pd.DataFrame(games)\n",
    "df = ParsingDataPrepare.transform_columns_to_rows(df_to_transform, ['ligue_header', 'comp_id', 'season_id', 'game_utc', 'game_title','goals', 'game_status'])\n",
    "\n",
    "df.reset_index(inplace=True)\n",
    "df.rename(columns={'index':'game_id'}, inplace=True)\n",
    "df.shape"
   ]
  },
  {
   "cell_type": "code",
   "execution_count": 64,
   "id": "c2d897bd-09db-4913-88d8-23e88587ff2c",
   "metadata": {},
   "outputs": [
    {
     "data": {
      "text/html": [
       "<div>\n",
       "<style scoped>\n",
       "    .dataframe tbody tr th:only-of-type {\n",
       "        vertical-align: middle;\n",
       "    }\n",
       "\n",
       "    .dataframe tbody tr th {\n",
       "        vertical-align: top;\n",
       "    }\n",
       "\n",
       "    .dataframe thead th {\n",
       "        text-align: right;\n",
       "    }\n",
       "</style>\n",
       "<table border=\"1\" class=\"dataframe\">\n",
       "  <thead>\n",
       "    <tr style=\"text-align: right;\">\n",
       "      <th></th>\n",
       "      <th>game_id</th>\n",
       "      <th>ligue_header</th>\n",
       "      <th>comp_id</th>\n",
       "      <th>season_id</th>\n",
       "      <th>game_utc</th>\n",
       "      <th>game_title</th>\n",
       "      <th>goals</th>\n",
       "      <th>game_status</th>\n",
       "    </tr>\n",
       "  </thead>\n",
       "  <tbody>\n",
       "    <tr>\n",
       "      <th>0</th>\n",
       "      <td>1736289</td>\n",
       "      <td>Premier League</td>\n",
       "      <td>12</td>\n",
       "      <td>381</td>\n",
       "      <td>16.09.2022 19:00</td>\n",
       "      <td>Aston Villa - Southampton</td>\n",
       "      <td>1:0</td>\n",
       "      <td>Finished</td>\n",
       "    </tr>\n",
       "    <tr>\n",
       "      <th>1</th>\n",
       "      <td>1736296</td>\n",
       "      <td>Premier League</td>\n",
       "      <td>12</td>\n",
       "      <td>381</td>\n",
       "      <td>16.09.2022 19:00</td>\n",
       "      <td>Nottingham - Fulham</td>\n",
       "      <td>2:3</td>\n",
       "      <td>Finished</td>\n",
       "    </tr>\n",
       "    <tr>\n",
       "      <th>2</th>\n",
       "      <td>1747456</td>\n",
       "      <td>Serie A</td>\n",
       "      <td>15</td>\n",
       "      <td>381</td>\n",
       "      <td>16.09.2022 18:45</td>\n",
       "      <td>Salernitana - Lecce</td>\n",
       "      <td>1:2</td>\n",
       "      <td>Finished</td>\n",
       "    </tr>\n",
       "    <tr>\n",
       "      <th>3</th>\n",
       "      <td>1744353</td>\n",
       "      <td>Primera Division</td>\n",
       "      <td>16</td>\n",
       "      <td>381</td>\n",
       "      <td>16.09.2022 19:00</td>\n",
       "      <td>Real Valladolid - Cadiz</td>\n",
       "      <td>0:1</td>\n",
       "      <td>Finished</td>\n",
       "    </tr>\n",
       "    <tr>\n",
       "      <th>4</th>\n",
       "      <td>1748218</td>\n",
       "      <td>Segunda División</td>\n",
       "      <td>707</td>\n",
       "      <td>381</td>\n",
       "      <td>16.09.2022 19:00</td>\n",
       "      <td>Levante - Cartagena</td>\n",
       "      <td>0:1</td>\n",
       "      <td>Finished</td>\n",
       "    </tr>\n",
       "    <tr>\n",
       "      <th>...</th>\n",
       "      <td>...</td>\n",
       "      <td>...</td>\n",
       "      <td>...</td>\n",
       "      <td>...</td>\n",
       "      <td>...</td>\n",
       "      <td>...</td>\n",
       "      <td>...</td>\n",
       "      <td>...</td>\n",
       "    </tr>\n",
       "    <tr>\n",
       "      <th>24288</th>\n",
       "      <td>1607985</td>\n",
       "      <td>Landesliga</td>\n",
       "      <td>475</td>\n",
       "      <td>310</td>\n",
       "      <td>28.05.2022 15:30</td>\n",
       "      <td>Volders - Münster</td>\n",
       "      <td>0:1</td>\n",
       "      <td>Finished</td>\n",
       "    </tr>\n",
       "    <tr>\n",
       "      <th>24289</th>\n",
       "      <td>1607984</td>\n",
       "      <td>Landesliga</td>\n",
       "      <td>475</td>\n",
       "      <td>310</td>\n",
       "      <td>28.05.2022 15:30</td>\n",
       "      <td>Innsbrucker AC - Mils</td>\n",
       "      <td>3:2</td>\n",
       "      <td>Finished</td>\n",
       "    </tr>\n",
       "    <tr>\n",
       "      <th>24290</th>\n",
       "      <td>1607740</td>\n",
       "      <td>Landesliga</td>\n",
       "      <td>475</td>\n",
       "      <td>310</td>\n",
       "      <td>28.05.2022 16:00</td>\n",
       "      <td>St. Jakob - SAK Klagenfurt</td>\n",
       "      <td>0:1</td>\n",
       "      <td>Finished</td>\n",
       "    </tr>\n",
       "    <tr>\n",
       "      <th>24291</th>\n",
       "      <td>1607990</td>\n",
       "      <td>Landesliga</td>\n",
       "      <td>475</td>\n",
       "      <td>310</td>\n",
       "      <td>28.05.2022 16:30</td>\n",
       "      <td>Natters - Prutz / Serfaus</td>\n",
       "      <td>3:2</td>\n",
       "      <td>Finished</td>\n",
       "    </tr>\n",
       "    <tr>\n",
       "      <th>24292</th>\n",
       "      <td>1617486</td>\n",
       "      <td>Landesliga</td>\n",
       "      <td>475</td>\n",
       "      <td>310</td>\n",
       "      <td>28.05.2022 17:00</td>\n",
       "      <td>Pinkafeld - Parndorf</td>\n",
       "      <td>0:1</td>\n",
       "      <td>Finished</td>\n",
       "    </tr>\n",
       "  </tbody>\n",
       "</table>\n",
       "<p>24293 rows × 8 columns</p>\n",
       "</div>"
      ],
      "text/plain": [
       "       game_id      ligue_header comp_id season_id          game_utc  \\\n",
       "0      1736289    Premier League      12       381  16.09.2022 19:00   \n",
       "1      1736296    Premier League      12       381  16.09.2022 19:00   \n",
       "2      1747456           Serie A      15       381  16.09.2022 18:45   \n",
       "3      1744353  Primera Division      16       381  16.09.2022 19:00   \n",
       "4      1748218  Segunda División     707       381  16.09.2022 19:00   \n",
       "...        ...               ...     ...       ...               ...   \n",
       "24288  1607985        Landesliga     475       310  28.05.2022 15:30   \n",
       "24289  1607984        Landesliga     475       310  28.05.2022 15:30   \n",
       "24290  1607740        Landesliga     475       310  28.05.2022 16:00   \n",
       "24291  1607990        Landesliga     475       310  28.05.2022 16:30   \n",
       "24292  1617486        Landesliga     475       310  28.05.2022 17:00   \n",
       "\n",
       "                       game_title goals game_status  \n",
       "0       Aston Villa - Southampton   1:0    Finished  \n",
       "1             Nottingham - Fulham   2:3    Finished  \n",
       "2             Salernitana - Lecce   1:2    Finished  \n",
       "3         Real Valladolid - Cadiz   0:1    Finished  \n",
       "4             Levante - Cartagena   0:1    Finished  \n",
       "...                           ...   ...         ...  \n",
       "24288           Volders - Münster   0:1    Finished  \n",
       "24289       Innsbrucker AC - Mils   3:2    Finished  \n",
       "24290  St. Jakob - SAK Klagenfurt   0:1    Finished  \n",
       "24291   Natters - Prutz / Serfaus   3:2    Finished  \n",
       "24292        Pinkafeld - Parndorf   0:1    Finished  \n",
       "\n",
       "[24293 rows x 8 columns]"
      ]
     },
     "execution_count": 64,
     "metadata": {},
     "output_type": "execute_result"
    }
   ],
   "source": [
    "df = df[~df.game_id.isin(err_time_keys)].copy()\n",
    "df.reset_index(drop=True, inplace=True)\n",
    "df"
   ]
  },
  {
   "cell_type": "code",
   "execution_count": 65,
   "id": "f2b061db-4cf7-45fa-b6a0-bd5e7e756744",
   "metadata": {},
   "outputs": [],
   "source": [
    "# Clearing data\n",
    "df_games = df[(df.game_status == 'Finished') & (df.game_utc.str.len() > 10)].copy()\n",
    "# Check for dublicates\n",
    "df_games.drop(columns=['game_status'], inplace=True)\n",
    "df_games.drop_duplicates(subset=['game_id'], inplace=True)\n",
    "df_games.drop_duplicates(subset=['game_utc', 'game_title'], inplace=True)"
   ]
  },
  {
   "cell_type": "code",
   "execution_count": 66,
   "id": "ab8bdd70-3cdf-49a8-b8cb-e8b1db31ab7c",
   "metadata": {},
   "outputs": [
    {
     "data": {
      "text/html": [
       "<div>\n",
       "<style scoped>\n",
       "    .dataframe tbody tr th:only-of-type {\n",
       "        vertical-align: middle;\n",
       "    }\n",
       "\n",
       "    .dataframe tbody tr th {\n",
       "        vertical-align: top;\n",
       "    }\n",
       "\n",
       "    .dataframe thead th {\n",
       "        text-align: right;\n",
       "    }\n",
       "</style>\n",
       "<table border=\"1\" class=\"dataframe\">\n",
       "  <thead>\n",
       "    <tr style=\"text-align: right;\">\n",
       "      <th></th>\n",
       "      <th>game_id</th>\n",
       "      <th>ligue_header</th>\n",
       "      <th>comp_id</th>\n",
       "      <th>season_id</th>\n",
       "      <th>game_utc</th>\n",
       "      <th>game_title</th>\n",
       "      <th>goals</th>\n",
       "    </tr>\n",
       "  </thead>\n",
       "  <tbody>\n",
       "    <tr>\n",
       "      <th>0</th>\n",
       "      <td>1736289</td>\n",
       "      <td>Premier League</td>\n",
       "      <td>12</td>\n",
       "      <td>381</td>\n",
       "      <td>16.09.2022 19:00</td>\n",
       "      <td>Aston Villa - Southampton</td>\n",
       "      <td>1:0</td>\n",
       "    </tr>\n",
       "    <tr>\n",
       "      <th>1</th>\n",
       "      <td>1736296</td>\n",
       "      <td>Premier League</td>\n",
       "      <td>12</td>\n",
       "      <td>381</td>\n",
       "      <td>16.09.2022 19:00</td>\n",
       "      <td>Nottingham - Fulham</td>\n",
       "      <td>2:3</td>\n",
       "    </tr>\n",
       "    <tr>\n",
       "      <th>2</th>\n",
       "      <td>1747456</td>\n",
       "      <td>Serie A</td>\n",
       "      <td>15</td>\n",
       "      <td>381</td>\n",
       "      <td>16.09.2022 18:45</td>\n",
       "      <td>Salernitana - Lecce</td>\n",
       "      <td>1:2</td>\n",
       "    </tr>\n",
       "    <tr>\n",
       "      <th>3</th>\n",
       "      <td>1744353</td>\n",
       "      <td>Primera Division</td>\n",
       "      <td>16</td>\n",
       "      <td>381</td>\n",
       "      <td>16.09.2022 19:00</td>\n",
       "      <td>Real Valladolid - Cadiz</td>\n",
       "      <td>0:1</td>\n",
       "    </tr>\n",
       "    <tr>\n",
       "      <th>4</th>\n",
       "      <td>1748218</td>\n",
       "      <td>Segunda División</td>\n",
       "      <td>707</td>\n",
       "      <td>381</td>\n",
       "      <td>16.09.2022 19:00</td>\n",
       "      <td>Levante - Cartagena</td>\n",
       "      <td>0:1</td>\n",
       "    </tr>\n",
       "    <tr>\n",
       "      <th>...</th>\n",
       "      <td>...</td>\n",
       "      <td>...</td>\n",
       "      <td>...</td>\n",
       "      <td>...</td>\n",
       "      <td>...</td>\n",
       "      <td>...</td>\n",
       "      <td>...</td>\n",
       "    </tr>\n",
       "    <tr>\n",
       "      <th>24288</th>\n",
       "      <td>1607985</td>\n",
       "      <td>Landesliga</td>\n",
       "      <td>475</td>\n",
       "      <td>310</td>\n",
       "      <td>28.05.2022 15:30</td>\n",
       "      <td>Volders - Münster</td>\n",
       "      <td>0:1</td>\n",
       "    </tr>\n",
       "    <tr>\n",
       "      <th>24289</th>\n",
       "      <td>1607984</td>\n",
       "      <td>Landesliga</td>\n",
       "      <td>475</td>\n",
       "      <td>310</td>\n",
       "      <td>28.05.2022 15:30</td>\n",
       "      <td>Innsbrucker AC - Mils</td>\n",
       "      <td>3:2</td>\n",
       "    </tr>\n",
       "    <tr>\n",
       "      <th>24290</th>\n",
       "      <td>1607740</td>\n",
       "      <td>Landesliga</td>\n",
       "      <td>475</td>\n",
       "      <td>310</td>\n",
       "      <td>28.05.2022 16:00</td>\n",
       "      <td>St. Jakob - SAK Klagenfurt</td>\n",
       "      <td>0:1</td>\n",
       "    </tr>\n",
       "    <tr>\n",
       "      <th>24291</th>\n",
       "      <td>1607990</td>\n",
       "      <td>Landesliga</td>\n",
       "      <td>475</td>\n",
       "      <td>310</td>\n",
       "      <td>28.05.2022 16:30</td>\n",
       "      <td>Natters - Prutz / Serfaus</td>\n",
       "      <td>3:2</td>\n",
       "    </tr>\n",
       "    <tr>\n",
       "      <th>24292</th>\n",
       "      <td>1617486</td>\n",
       "      <td>Landesliga</td>\n",
       "      <td>475</td>\n",
       "      <td>310</td>\n",
       "      <td>28.05.2022 17:00</td>\n",
       "      <td>Pinkafeld - Parndorf</td>\n",
       "      <td>0:1</td>\n",
       "    </tr>\n",
       "  </tbody>\n",
       "</table>\n",
       "<p>24292 rows × 7 columns</p>\n",
       "</div>"
      ],
      "text/plain": [
       "       game_id      ligue_header comp_id season_id          game_utc  \\\n",
       "0      1736289    Premier League      12       381  16.09.2022 19:00   \n",
       "1      1736296    Premier League      12       381  16.09.2022 19:00   \n",
       "2      1747456           Serie A      15       381  16.09.2022 18:45   \n",
       "3      1744353  Primera Division      16       381  16.09.2022 19:00   \n",
       "4      1748218  Segunda División     707       381  16.09.2022 19:00   \n",
       "...        ...               ...     ...       ...               ...   \n",
       "24288  1607985        Landesliga     475       310  28.05.2022 15:30   \n",
       "24289  1607984        Landesliga     475       310  28.05.2022 15:30   \n",
       "24290  1607740        Landesliga     475       310  28.05.2022 16:00   \n",
       "24291  1607990        Landesliga     475       310  28.05.2022 16:30   \n",
       "24292  1617486        Landesliga     475       310  28.05.2022 17:00   \n",
       "\n",
       "                       game_title goals  \n",
       "0       Aston Villa - Southampton   1:0  \n",
       "1             Nottingham - Fulham   2:3  \n",
       "2             Salernitana - Lecce   1:2  \n",
       "3         Real Valladolid - Cadiz   0:1  \n",
       "4             Levante - Cartagena   0:1  \n",
       "...                           ...   ...  \n",
       "24288           Volders - Münster   0:1  \n",
       "24289       Innsbrucker AC - Mils   3:2  \n",
       "24290  St. Jakob - SAK Klagenfurt   0:1  \n",
       "24291   Natters - Prutz / Serfaus   3:2  \n",
       "24292        Pinkafeld - Parndorf   0:1  \n",
       "\n",
       "[24292 rows x 7 columns]"
      ]
     },
     "execution_count": 66,
     "metadata": {},
     "output_type": "execute_result"
    }
   ],
   "source": [
    "df_games"
   ]
  },
  {
   "cell_type": "code",
   "execution_count": 67,
   "id": "4d59dc4b-7a24-4d5a-9196-577dfde5d976",
   "metadata": {},
   "outputs": [],
   "source": [
    "top_lgs = TableConstant.top_ligues\n",
    "sec_lgs = TableConstant.second_ligues\n",
    "\n",
    "df_games['ligue'] = np.where(df_games.comp_id.isin(top_lgs), 'top', np.where(df_games.comp_id.isin(sec_lgs), 'sec', 'thr'))"
   ]
  },
  {
   "cell_type": "code",
   "execution_count": 68,
   "id": "be8f29a4-30c4-4bd3-8a0d-7fba6a564e54",
   "metadata": {},
   "outputs": [
    {
     "data": {
      "text/plain": [
       "thr    16689\n",
       "sec     4714\n",
       "top     2889\n",
       "Name: ligue, dtype: int64"
      ]
     },
     "execution_count": 68,
     "metadata": {},
     "output_type": "execute_result"
    }
   ],
   "source": [
    "df_games.ligue.value_counts()"
   ]
  },
  {
   "cell_type": "code",
   "execution_count": 69,
   "id": "c4b23554-bf1e-4efa-b8b5-269350f1e237",
   "metadata": {},
   "outputs": [
    {
     "data": {
      "text/plain": [
       "(24292, 8)"
      ]
     },
     "execution_count": 69,
     "metadata": {},
     "output_type": "execute_result"
    }
   ],
   "source": [
    "df_games.reset_index(inplace=True, drop=True)\n",
    "df_games.shape"
   ]
  },
  {
   "cell_type": "code",
   "execution_count": 70,
   "id": "59c6ac84-a70c-4aec-8cda-b7ba8db8f2b6",
   "metadata": {},
   "outputs": [
    {
     "data": {
      "text/html": [
       "<div>\n",
       "<style scoped>\n",
       "    .dataframe tbody tr th:only-of-type {\n",
       "        vertical-align: middle;\n",
       "    }\n",
       "\n",
       "    .dataframe tbody tr th {\n",
       "        vertical-align: top;\n",
       "    }\n",
       "\n",
       "    .dataframe thead th {\n",
       "        text-align: right;\n",
       "    }\n",
       "</style>\n",
       "<table border=\"1\" class=\"dataframe\">\n",
       "  <thead>\n",
       "    <tr style=\"text-align: right;\">\n",
       "      <th></th>\n",
       "      <th>game_id</th>\n",
       "      <th>ligue_header</th>\n",
       "      <th>comp_id</th>\n",
       "      <th>season_id</th>\n",
       "      <th>game_utc</th>\n",
       "      <th>game_title</th>\n",
       "      <th>goals</th>\n",
       "      <th>ligue</th>\n",
       "    </tr>\n",
       "  </thead>\n",
       "  <tbody>\n",
       "    <tr>\n",
       "      <th>0</th>\n",
       "      <td>1736289</td>\n",
       "      <td>Premier League</td>\n",
       "      <td>12</td>\n",
       "      <td>381</td>\n",
       "      <td>16.09.2022 19:00</td>\n",
       "      <td>Aston Villa - Southampton</td>\n",
       "      <td>1:0</td>\n",
       "      <td>top</td>\n",
       "    </tr>\n",
       "    <tr>\n",
       "      <th>1</th>\n",
       "      <td>1736296</td>\n",
       "      <td>Premier League</td>\n",
       "      <td>12</td>\n",
       "      <td>381</td>\n",
       "      <td>16.09.2022 19:00</td>\n",
       "      <td>Nottingham - Fulham</td>\n",
       "      <td>2:3</td>\n",
       "      <td>top</td>\n",
       "    </tr>\n",
       "    <tr>\n",
       "      <th>2</th>\n",
       "      <td>1747456</td>\n",
       "      <td>Serie A</td>\n",
       "      <td>15</td>\n",
       "      <td>381</td>\n",
       "      <td>16.09.2022 18:45</td>\n",
       "      <td>Salernitana - Lecce</td>\n",
       "      <td>1:2</td>\n",
       "      <td>top</td>\n",
       "    </tr>\n",
       "    <tr>\n",
       "      <th>3</th>\n",
       "      <td>1744353</td>\n",
       "      <td>Primera Division</td>\n",
       "      <td>16</td>\n",
       "      <td>381</td>\n",
       "      <td>16.09.2022 19:00</td>\n",
       "      <td>Real Valladolid - Cadiz</td>\n",
       "      <td>0:1</td>\n",
       "      <td>top</td>\n",
       "    </tr>\n",
       "    <tr>\n",
       "      <th>4</th>\n",
       "      <td>1748218</td>\n",
       "      <td>Segunda División</td>\n",
       "      <td>707</td>\n",
       "      <td>381</td>\n",
       "      <td>16.09.2022 19:00</td>\n",
       "      <td>Levante - Cartagena</td>\n",
       "      <td>0:1</td>\n",
       "      <td>top</td>\n",
       "    </tr>\n",
       "    <tr>\n",
       "      <th>...</th>\n",
       "      <td>...</td>\n",
       "      <td>...</td>\n",
       "      <td>...</td>\n",
       "      <td>...</td>\n",
       "      <td>...</td>\n",
       "      <td>...</td>\n",
       "      <td>...</td>\n",
       "      <td>...</td>\n",
       "    </tr>\n",
       "    <tr>\n",
       "      <th>24287</th>\n",
       "      <td>1607985</td>\n",
       "      <td>Landesliga</td>\n",
       "      <td>475</td>\n",
       "      <td>310</td>\n",
       "      <td>28.05.2022 15:30</td>\n",
       "      <td>Volders - Münster</td>\n",
       "      <td>0:1</td>\n",
       "      <td>thr</td>\n",
       "    </tr>\n",
       "    <tr>\n",
       "      <th>24288</th>\n",
       "      <td>1607984</td>\n",
       "      <td>Landesliga</td>\n",
       "      <td>475</td>\n",
       "      <td>310</td>\n",
       "      <td>28.05.2022 15:30</td>\n",
       "      <td>Innsbrucker AC - Mils</td>\n",
       "      <td>3:2</td>\n",
       "      <td>thr</td>\n",
       "    </tr>\n",
       "    <tr>\n",
       "      <th>24289</th>\n",
       "      <td>1607740</td>\n",
       "      <td>Landesliga</td>\n",
       "      <td>475</td>\n",
       "      <td>310</td>\n",
       "      <td>28.05.2022 16:00</td>\n",
       "      <td>St. Jakob - SAK Klagenfurt</td>\n",
       "      <td>0:1</td>\n",
       "      <td>thr</td>\n",
       "    </tr>\n",
       "    <tr>\n",
       "      <th>24290</th>\n",
       "      <td>1607990</td>\n",
       "      <td>Landesliga</td>\n",
       "      <td>475</td>\n",
       "      <td>310</td>\n",
       "      <td>28.05.2022 16:30</td>\n",
       "      <td>Natters - Prutz / Serfaus</td>\n",
       "      <td>3:2</td>\n",
       "      <td>thr</td>\n",
       "    </tr>\n",
       "    <tr>\n",
       "      <th>24291</th>\n",
       "      <td>1617486</td>\n",
       "      <td>Landesliga</td>\n",
       "      <td>475</td>\n",
       "      <td>310</td>\n",
       "      <td>28.05.2022 17:00</td>\n",
       "      <td>Pinkafeld - Parndorf</td>\n",
       "      <td>0:1</td>\n",
       "      <td>thr</td>\n",
       "    </tr>\n",
       "  </tbody>\n",
       "</table>\n",
       "<p>24292 rows × 8 columns</p>\n",
       "</div>"
      ],
      "text/plain": [
       "       game_id      ligue_header comp_id season_id          game_utc  \\\n",
       "0      1736289    Premier League      12       381  16.09.2022 19:00   \n",
       "1      1736296    Premier League      12       381  16.09.2022 19:00   \n",
       "2      1747456           Serie A      15       381  16.09.2022 18:45   \n",
       "3      1744353  Primera Division      16       381  16.09.2022 19:00   \n",
       "4      1748218  Segunda División     707       381  16.09.2022 19:00   \n",
       "...        ...               ...     ...       ...               ...   \n",
       "24287  1607985        Landesliga     475       310  28.05.2022 15:30   \n",
       "24288  1607984        Landesliga     475       310  28.05.2022 15:30   \n",
       "24289  1607740        Landesliga     475       310  28.05.2022 16:00   \n",
       "24290  1607990        Landesliga     475       310  28.05.2022 16:30   \n",
       "24291  1617486        Landesliga     475       310  28.05.2022 17:00   \n",
       "\n",
       "                       game_title goals ligue  \n",
       "0       Aston Villa - Southampton   1:0   top  \n",
       "1             Nottingham - Fulham   2:3   top  \n",
       "2             Salernitana - Lecce   1:2   top  \n",
       "3         Real Valladolid - Cadiz   0:1   top  \n",
       "4             Levante - Cartagena   0:1   top  \n",
       "...                           ...   ...   ...  \n",
       "24287           Volders - Münster   0:1   thr  \n",
       "24288       Innsbrucker AC - Mils   3:2   thr  \n",
       "24289  St. Jakob - SAK Klagenfurt   0:1   thr  \n",
       "24290   Natters - Prutz / Serfaus   3:2   thr  \n",
       "24291        Pinkafeld - Parndorf   0:1   thr  \n",
       "\n",
       "[24292 rows x 8 columns]"
      ]
     },
     "execution_count": 70,
     "metadata": {},
     "output_type": "execute_result"
    }
   ],
   "source": [
    "df_games"
   ]
  },
  {
   "cell_type": "code",
   "execution_count": 72,
   "id": "632bf485-d7ca-4577-8fe9-8956e3dfa1ba",
   "metadata": {},
   "outputs": [],
   "source": [
    "# file = open('pickle_files/new_events/df_16_09_2022_to_26_05_2022_games', 'wb')\n",
    "# pickle.dump(df_games, file)  \n",
    "# file.close()"
   ]
  },
  {
   "cell_type": "markdown",
   "id": "0a47a010-d24b-451d-ab5e-7624dfbb80c3",
   "metadata": {},
   "source": [
    "### Get events data"
   ]
  },
  {
   "cell_type": "code",
   "execution_count": 50,
   "id": "3bc1666b-09d4-47e7-bd25-700ef99c9e16",
   "metadata": {},
   "outputs": [],
   "source": [
    "# with open('pickle_files/new_events/02_11_2013/df_02_11_2013_to_10_07_2005_games', 'rb') as f:\n",
    "#     df_load = pickle.load(f)"
   ]
  },
  {
   "cell_type": "code",
   "execution_count": 150,
   "id": "f9cc04b0-ac20-4523-9a5a-764eba8ccd8b",
   "metadata": {},
   "outputs": [],
   "source": [
    "# df_load"
   ]
  },
  {
   "cell_type": "code",
   "execution_count": 151,
   "id": "f558a3f8-ebb9-4d9e-b613-71a480479dbe",
   "metadata": {},
   "outputs": [],
   "source": [
    "# tls_one_ids_02_11_13 = ['12', '13', '14', '15', '16', '17', '18', '419', '420']\n",
    "# tls_two_ids_02_11_13 = ['454', '456', '474', '483', '485', '550', '554', '560', '565']\n",
    "# tls_three_ids_02_11_13 =  ['577', '581', '587', '591','596', '601', '677', '681'] \n",
    "# tls_four_ids_02_11_13 = ['684', '695', '699', '707', '712', '716', '723', '727'] "
   ]
  },
  {
   "cell_type": "code",
   "execution_count": 152,
   "id": "41fb8541-b861-4e19-a23c-49bf5636b0bb",
   "metadata": {},
   "outputs": [],
   "source": [
    "# tls_new_ids_26_03_21 = tls_one_new_ids_26_03_21 + tls_two_new_ids_26_03_21 + tls_three_new_ids_26_03_21 + tls_four_new_ids_26_03_21"
   ]
  },
  {
   "cell_type": "code",
   "execution_count": 153,
   "id": "1af2d1f9-50d6-4371-9f71-f33a27918337",
   "metadata": {},
   "outputs": [],
   "source": [
    "# sls_one_new_ids_26_03_21 = [ '419', '424', '435', '436', '437', '444', '446', '449', '450', '457', '459', '464', '473', '477', '491']\n",
    "# sls_two_new_ids_26_03_21  = ['493', '496', '498', '500', '502', '504', '507', '512', '516', '518', '523', '532', '539', '540', '542']\n",
    "# slm_one_new_ids_26_03_21 = [ '544', '545', '546', '548', '551', '555', '562', '567', '576', '585', '586', '589', '595', '599', '602']\n",
    "# slm_two_new_ids_26_03_21 =  ['606', '621', '622', '625', '626', '628', '632', '634', '636', '637', '642', '646', '647', '648', '653']\n",
    "# sle_one_new_ids_26_03_21 = ['654', '655', '657', '659', '660', '667', '672', '674', '675', '676', '679', '685', '687', '691', '692', '697']\n",
    "# sle_two_new_ids_26_03_21 = ['700', '703', '704', '714', '715', '720', '721', '725', '727', '733''735', '747', '761', '912', '1157', '1259'] "
   ]
  },
  {
   "cell_type": "code",
   "execution_count": 154,
   "id": "6442da1e-d2b3-4da3-bb93-5aa0d8306227",
   "metadata": {},
   "outputs": [],
   "source": [
    "# sls_new_ids_26_03_21 = sls_one_new_ids_26_03_21 + sls_two_new_ids_26_03_21 + slm_one_new_ids_26_03_21 + slm_two_new_ids_26_03_21 +\\\n",
    "#                        sle_one_new_ids_26_03_21 + sle_two_new_ids_26_03_21"
   ]
  },
  {
   "cell_type": "code",
   "execution_count": 155,
   "id": "90570618-af5d-43dd-8750-29aea1815123",
   "metadata": {},
   "outputs": [],
   "source": [
    "# tls_sls_new_ids_26_03_21 = tls_new_ids_26_03_21 + sls_new_ids_26_03_21"
   ]
  },
  {
   "cell_type": "code",
   "execution_count": 156,
   "id": "c767bfb8-2870-466c-8a79-27ef9f065a25",
   "metadata": {},
   "outputs": [],
   "source": [
    "# leagues      =  tls_four_ids_02_11_13\n",
    "# leagues_name = 'tls_four_ids_02_11_13'"
   ]
  },
  {
   "cell_type": "code",
   "execution_count": 157,
   "id": "f603368c-a581-44fa-9f0d-16132e985d0e",
   "metadata": {},
   "outputs": [],
   "source": [
    "# game_ids = df_load.game_id[df_load.comp_id.isin(leagues)].to_list()\n",
    "# len(game_ids)"
   ]
  },
  {
   "cell_type": "code",
   "execution_count": 158,
   "id": "945cc8e4-da8d-4de7-8d4b-8812050adffe",
   "metadata": {},
   "outputs": [],
   "source": [
    "# Aftar start script 'HtmlParser.find_game_events' all events save every 500 ids in files, in last save file has all events save before."
   ]
  },
  {
   "cell_type": "code",
   "execution_count": 159,
   "id": "c228cddb-1f56-4796-a412-069d8343dc16",
   "metadata": {},
   "outputs": [],
   "source": [
    "# HtmlParser.find_game_events(game_ids, name_saved_file = leagues_name)# \n",
    "\n",
    "# For check for last saved game_id\n",
    "# game_ids.index('1574921') \n",
    "# HtmlParser.find_game_events(game_ids[1500:], name_saved_file = leagues_name)"
   ]
  },
  {
   "cell_type": "code",
   "execution_count": 160,
   "id": "051ba22b-4299-4408-8bd9-d16438b4d076",
   "metadata": {},
   "outputs": [],
   "source": [
    "# with open('pickle_files/new_events/26_03_2021/events_old_ids/second_ligues_middle_2_10884423-Copy1', 'rb') as f:\n",
    "#     events_games = pickle.load(f)"
   ]
  },
  {
   "cell_type": "code",
   "execution_count": 161,
   "id": "214a1c39-61bc-46fa-afe3-8c8da01cd0e1",
   "metadata": {},
   "outputs": [],
   "source": [
    "# From_02_11_2013_to_10_07_2005_games\n",
    "# first id   count     name               last id\n",
    "# 10886833 - 501  -  tls_four_ids_02_11_13_10909409"
   ]
  },
  {
   "cell_type": "code",
   "execution_count": 162,
   "id": "53fef500-5d16-46bb-8c0e-4eb6e66e27ca",
   "metadata": {},
   "outputs": [],
   "source": [
    "# # 'teams_ids' column not in all events files\n",
    "# df_pickle = pd.DataFrame(events_games)\n",
    "# df_events = ParsingDataPrepare.transform_columns_to_rows(df_pickle, ['teams_ids', 'event_mins', 'event_desc', 'stats_dict', \n",
    "#                                                                      'city_country', 'viewers', 'weath_temp', 'bets'])\n",
    "\n",
    "# df_events.reset_index(inplace=True)\n",
    "# df_events.rename(columns={'index':'game_id'}, inplace=True)\n",
    "# df_events.shape"
   ]
  },
  {
   "cell_type": "code",
   "execution_count": 163,
   "id": "329be7cc-bd0b-4fca-a8c6-65279da8db2e",
   "metadata": {},
   "outputs": [],
   "source": [
    "# df_events.shape"
   ]
  },
  {
   "cell_type": "code",
   "execution_count": 164,
   "id": "8cabdaa2-a288-40e7-91b3-fe721292a19f",
   "metadata": {},
   "outputs": [],
   "source": [
    "# df_events.head()"
   ]
  },
  {
   "cell_type": "code",
   "execution_count": 165,
   "id": "976de309-5bf3-42ce-b0bb-c9463f1c3e39",
   "metadata": {},
   "outputs": [],
   "source": [
    "# Unite parsing events files in dataframe:"
   ]
  },
  {
   "cell_type": "code",
   "execution_count": 166,
   "id": "f09b5f63-491f-4a5b-9feb-00075c6beb5d",
   "metadata": {},
   "outputs": [],
   "source": [
    "# pickle_files/new_events/26_05_2022/events_ids/, \n",
    "# path = 'pickle_files/new_events/26_05_2022/events_ids/'\n",
    "# all_events_games = list()\n",
    "\n",
    "# for file in os.listdir(path):\n",
    "#     with open(path + file, 'rb') as f:\n",
    "#         events_games = pickle.load(f)\n",
    "#         all_events_games.append(events_games)"
   ]
  },
  {
   "cell_type": "code",
   "execution_count": 167,
   "id": "fbec9d75-84f8-4245-84f2-7fab69a5ab0c",
   "metadata": {},
   "outputs": [],
   "source": [
    "# len(all_events_games)"
   ]
  },
  {
   "cell_type": "code",
   "execution_count": 168,
   "id": "1fa355b4-dd3f-45e5-b2ae-236dfabefefa",
   "metadata": {},
   "outputs": [],
   "source": [
    "# # 'teams_ids' only for data after got 26_05_2022\n",
    "# df_list   = []\n",
    "# col_names = ['teams_ids', 'event_mins', 'event_hts_ats', 'stats_dict', 'city_country', 'viewers', 'weath_temp', 'bet_coefs']\n",
    "\n",
    "# for game in all_events_games:\n",
    "#     df_to_transform = pd.DataFrame(game)\n",
    "#     df_create = ParsingDataPrepare.transform_columns_to_rows(df_to_transform, col_names)\n",
    "    \n",
    "#     df_list.append(df_create)\n",
    "\n",
    "# df_events = pd.concat(df_list) "
   ]
  },
  {
   "cell_type": "code",
   "execution_count": 169,
   "id": "0cf472c4-4bc1-4f18-99d1-ead84b3aaf68",
   "metadata": {},
   "outputs": [],
   "source": [
    "# df_events = df_events.reset_index().rename(columns={'index': 'game_id'})"
   ]
  },
  {
   "cell_type": "code",
   "execution_count": 170,
   "id": "7b2d837b-a00d-4c99-a47b-62ae7457116f",
   "metadata": {},
   "outputs": [],
   "source": [
    "# df_events.head(1)"
   ]
  },
  {
   "cell_type": "code",
   "execution_count": 171,
   "id": "11375aff-f167-47e1-b172-bfa584a8591e",
   "metadata": {},
   "outputs": [],
   "source": [
    "# file = open('pickle_files/new_events/df_evns_26_05_2022_to_27_03_2021', 'wb')\n",
    "# pickle.dump(df_events, file)  \n",
    "# file.close()"
   ]
  },
  {
   "cell_type": "code",
   "execution_count": null,
   "id": "eb7b8cf0-066b-486a-be52-325fee5fee50",
   "metadata": {},
   "outputs": [],
   "source": []
  }
 ],
 "metadata": {
  "kernelspec": {
   "display_name": "Python 3 (ipykernel)",
   "language": "python",
   "name": "python3"
  },
  "language_info": {
   "codemirror_mode": {
    "name": "ipython",
    "version": 3
   },
   "file_extension": ".py",
   "mimetype": "text/x-python",
   "name": "python",
   "nbconvert_exporter": "python",
   "pygments_lexer": "ipython3",
   "version": "3.9.19"
  }
 },
 "nbformat": 4,
 "nbformat_minor": 5
}

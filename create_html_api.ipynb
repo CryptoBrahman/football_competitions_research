{
 "cells": [
  {
   "cell_type": "code",
   "execution_count": null,
   "metadata": {},
   "outputs": [],
   "source": [
    "###############################################################################################\n",
    "re.findall(r'\\n(.*?)\\n', ligue_header)\n",
    "arr = list(map(int, list_obj))\n",
    "time.sleep(60)\n",
    "season_comp_ids.insert(0, 'Friendly')\n",
    "\n",
    "[f(x) if condition else g(x) for x in sequence]\n",
    "[f(x) for x in sequence if condition] # without else\n",
    "\n",
    "foo_des = foo.descendants # for eaach class elements in part soup \n",
    "for d in foo_des:\n",
    "    if d.name == 'div' and d.get('class', 'opt r tb')\n",
    "\n",
    "for foo in soup.find_all('div', attrs={'class': 'foo'}):\n",
    "    bar = foo.find('div', attrs={'class': 'bar'})\n",
    "    print(bar.text)\n",
    "\n",
    "g = df.groupby('comp_id')['season_id'].agg(lambda x: x.unique().tolist())\n",
    "###############################################################################################"
   ]
  },
  {
   "cell_type": "code",
   "execution_count": 1,
   "metadata": {},
   "outputs": [],
   "source": [
    "import pickle\n",
    "import time\n",
    "import requests\n",
    "from bs4 import BeautifulSoup\n",
    "import pandas as pd\n",
    "import numpy as np\n",
    "import re\n",
    "import datetime\n",
    "from requests.exceptions import ConnectionError\n",
    "\n",
    "pd.set_option('display.max_rows', 500)\n",
    "pd.set_option('display.max_columns', 500)\n",
    "pd.set_option('display.max_colwidth', 500)"
   ]
  },
  {
   "cell_type": "code",
   "execution_count": 2,
   "metadata": {},
   "outputs": [],
   "source": [
    "# number of col_names in list must be equal number of rows df\n",
    "def transform_columns_to_rows(df: pd.DataFrame, col_names: list):\n",
    "    pd_series = pd.DataFrame()\n",
    "    for i, col in zip(range(df.shape[0]), col_names):\n",
    "        pd_series[col] = df.stack()[i]\n",
    "    return pd_series "
   ]
  },
  {
   "cell_type": "code",
   "execution_count": 3,
   "metadata": {},
   "outputs": [],
   "source": [
    "def transform_date(list_obj: list):\n",
    "    now = datetime.datetime.now()\n",
    "    dates = []\n",
    "    for obj in list_obj:\n",
    "        if re.search(r'[a-zA-Z]', obj):\n",
    "            date = ''.join(re.findall(r'[a-zA-Z]+', obj))\n",
    "        elif (len(obj) == 12) & (re.search(r'[a-zA-Z]', obj) is None):\n",
    "            date = obj.replace(',', '.' + str(now.year))\n",
    "        else: \n",
    "            date = obj[:6] + str(now.year)[:2] + obj[6:8] + obj[9:15]\n",
    "        dates.append(date)\n",
    "    return dates"
   ]
  },
  {
   "cell_type": "code",
   "execution_count": 4,
   "metadata": {},
   "outputs": [],
   "source": [
    "def double_slice_list(list_obj: list, septener: str):\n",
    "    k = 2\n",
    "    even = list_obj[k-1::k]\n",
    "    odd = list_obj[k-2::k]\n",
    "    all_res = []\n",
    "    for x, y in zip(odd, even):\n",
    "        res = x + septener + y\n",
    "        all_res.append(res)\n",
    "    return all_res"
   ]
  },
  {
   "cell_type": "code",
   "execution_count": 5,
   "metadata": {},
   "outputs": [],
   "source": [
    "def cut_part_of_string(str_obj: str, start_board: str, end_board: str):\n",
    "    reg_str =  start_board +'(.*?)' + end_board \n",
    "    return ''.join(re.findall(reg_str, str_obj))"
   ]
  },
  {
   "cell_type": "code",
   "execution_count": 6,
   "metadata": {},
   "outputs": [],
   "source": [
    "def scrape_html(str_url: str): \n",
    "    html = requests.get(str_url).content\n",
    "    soup = BeautifulSoup(html)\n",
    "    \n",
    "    all_matches_db = {}\n",
    "    for each_tb in soup.find_all('div', {'class': 'live_comptt_bd'}):\n",
    "        ligue_header = each_tb.find('div', {'class': 'block_header'}).get_text()\n",
    "        ligue_header = ''.join(re.findall(r'\\n (.*?)\\n', ligue_header))  \n",
    "        ligue_header =   'Friendly' if ligue_header == '' else ligue_header\n",
    "        \n",
    "        season_id = cut_part_of_string(str(each_tb),'season_id=', '\\'')\n",
    "        if (season_id == '') & (ligue_header != 'Friendly'):\n",
    "            season_id = 'Cup' \n",
    "        elif ligue_header == 'Friendly': \n",
    "            season_id = 'Friendly'\n",
    "        \n",
    "        comp_id = each_tb.get('id')[3:] \n",
    "        \n",
    "        game_ids = [x.get('dt-id') for x in each_tb.find_all('a', {'class': 'game_link'})]\n",
    "        \n",
    "        game_titles = [x.get('title') for x in each_tb.find_all('a', {'class': 'game_link'})]\n",
    "        \n",
    "        game_times_utc = [x.get_text() for x in each_tb.find_all('span', {'class': 'size10'})]\n",
    "        game_times_utc = transform_date(game_times_utc)\n",
    "        \n",
    "        game_statuses = [x if re.search('[a-zA-Z]', str(x)) else 'Finished' for x in game_times_utc]\n",
    "        \n",
    "        game_times_utc = [x[:16] for x in game_times_utc if re.search(r'[a-zA-Z]?', str(x))]\n",
    "        \n",
    "        all_goals = [x.get_text() for x in each_tb.find_all('div', {'class': 'gls'})]\n",
    "        all_goals = double_slice_list(all_goals, ':')\n",
    "\n",
    "        stages = [x.get_text() for x in each_tb.find_all('div', {'class': 'stage'})]\n",
    "        \n",
    "        matches = dict()\n",
    "        for game_id, game_utc, game_title, goals, game_status in zip(game_ids, game_times_utc, game_titles, all_goals, game_statuses): \n",
    "            matches.update({game_id: [ligue_header, comp_id, season_id, game_utc, game_title, goals, game_status]})\n",
    "            \n",
    "        all_matches_db.update(matches)\n",
    "        \n",
    "    return all_matches_db"
   ]
  },
  {
   "cell_type": "code",
   "execution_count": 7,
   "metadata": {},
   "outputs": [],
   "source": [
    "# 7-11-2013 last day with bet's data on soccer365, 2697 - days before now\n",
    "def create_date_list(numdays: int, start_year: int, start_month: int, start_day: int):\n",
    "    base = datetime.date(start_year, start_month, start_day)\n",
    "    date_list = [base - datetime.timedelta(days=x) for x in range(numdays)]\n",
    "    return date_list"
   ]
  },
  {
   "cell_type": "code",
   "execution_count": 8,
   "metadata": {},
   "outputs": [],
   "source": [
    "# function take url without date\n",
    "def parsing_write_by_date(numdays: int, start_year: int, start_month: int, start_day: int, start_url='https://soccer365.me/online/&date='):\n",
    "    date_list = create_date_list(numdays, start_year, start_month, start_day)\n",
    "    all_matches_db = {}\n",
    "    for date in date_list:\n",
    "        print(date)\n",
    "        main_url = start_url + str(date)\n",
    "        matches_db = scrape_html(main_url)\n",
    "        all_matches_db.update(matches_db)\n",
    "        time.sleep(3)\n",
    "    all_matches = open('all_matches', 'wb')\n",
    "    pickle.dump(all_matches_db, all_matches)  \n",
    "    all_matches.close()\n",
    "    return print('Data saved')"
   ]
  },
  {
   "cell_type": "code",
   "execution_count": 9,
   "metadata": {},
   "outputs": [],
   "source": [
    "# parsing_write_by_date(numdays=2700, start_year=2021, start_month=3, start_day=26)"
   ]
  },
  {
   "cell_type": "code",
   "execution_count": 9,
   "metadata": {},
   "outputs": [],
   "source": [
    "with open('all_matches', 'rb') as f:\n",
    "    all_matches = pickle.load(f)"
   ]
  },
  {
   "cell_type": "code",
   "execution_count": 10,
   "metadata": {},
   "outputs": [],
   "source": [
    "df_to_transform = pd.DataFrame(all_matches)"
   ]
  },
  {
   "cell_type": "code",
   "execution_count": 11,
   "metadata": {},
   "outputs": [],
   "source": [
    "df = transform_columns_to_rows(df_to_transform, ['ligue_header', 'comp_id', 'season_id', 'game_utc', 'game_title','goals', 'game_status'])"
   ]
  },
  {
   "cell_type": "code",
   "execution_count": 12,
   "metadata": {},
   "outputs": [],
   "source": [
    "df.reset_index(inplace=True)\n",
    "df.rename(columns={'index':'game_id'}, inplace=True)"
   ]
  },
  {
   "cell_type": "code",
   "execution_count": 13,
   "metadata": {},
   "outputs": [
    {
     "data": {
      "text/html": [
       "<div>\n",
       "<style scoped>\n",
       "    .dataframe tbody tr th:only-of-type {\n",
       "        vertical-align: middle;\n",
       "    }\n",
       "\n",
       "    .dataframe tbody tr th {\n",
       "        vertical-align: top;\n",
       "    }\n",
       "\n",
       "    .dataframe thead th {\n",
       "        text-align: right;\n",
       "    }\n",
       "</style>\n",
       "<table border=\"1\" class=\"dataframe\">\n",
       "  <thead>\n",
       "    <tr style=\"text-align: right;\">\n",
       "      <th></th>\n",
       "      <th>game_id</th>\n",
       "      <th>ligue_header</th>\n",
       "      <th>comp_id</th>\n",
       "      <th>season_id</th>\n",
       "      <th>game_utc</th>\n",
       "      <th>game_title</th>\n",
       "      <th>goals</th>\n",
       "      <th>game_status</th>\n",
       "    </tr>\n",
       "  </thead>\n",
       "  <tbody>\n",
       "    <tr>\n",
       "      <th>0</th>\n",
       "      <td>1458512</td>\n",
       "      <td>Segunda División</td>\n",
       "      <td>707</td>\n",
       "      <td>306</td>\n",
       "      <td>26.03.2021 20:00</td>\n",
       "      <td>Sporting Gijón - Alcorcón</td>\n",
       "      <td>0:0</td>\n",
       "      <td>Finished</td>\n",
       "    </tr>\n",
       "    <tr>\n",
       "      <th>1</th>\n",
       "      <td>1458506</td>\n",
       "      <td>Segunda División</td>\n",
       "      <td>707</td>\n",
       "      <td>306</td>\n",
       "      <td>26.03.2021 22:00</td>\n",
       "      <td>Castellon - Espanyol</td>\n",
       "      <td>1:3</td>\n",
       "      <td>Finished</td>\n",
       "    </tr>\n",
       "    <tr>\n",
       "      <th>2</th>\n",
       "      <td>1459331</td>\n",
       "      <td>First League</td>\n",
       "      <td>435</td>\n",
       "      <td>306</td>\n",
       "      <td>26.03.2021 14:00</td>\n",
       "      <td>Mykolaiv - Alians Lypova Dolyna</td>\n",
       "      <td>2:0</td>\n",
       "      <td>Finished</td>\n",
       "    </tr>\n",
       "    <tr>\n",
       "      <th>3</th>\n",
       "      <td>1459330</td>\n",
       "      <td>First League</td>\n",
       "      <td>435</td>\n",
       "      <td>306</td>\n",
       "      <td>26.03.2021 14:00</td>\n",
       "      <td>Polessya - Krystal Kherson</td>\n",
       "      <td>1:1</td>\n",
       "      <td>Finished</td>\n",
       "    </tr>\n",
       "    <tr>\n",
       "      <th>4</th>\n",
       "      <td>1459334</td>\n",
       "      <td>First League</td>\n",
       "      <td>435</td>\n",
       "      <td>306</td>\n",
       "      <td>26.03.2021 15:00</td>\n",
       "      <td>Kremin - Hirnyk-Sport</td>\n",
       "      <td>1:1</td>\n",
       "      <td>Finished</td>\n",
       "    </tr>\n",
       "    <tr>\n",
       "      <th>...</th>\n",
       "      <td>...</td>\n",
       "      <td>...</td>\n",
       "      <td>...</td>\n",
       "      <td>...</td>\n",
       "      <td>...</td>\n",
       "      <td>...</td>\n",
       "      <td>...</td>\n",
       "      <td>...</td>\n",
       "    </tr>\n",
       "    <tr>\n",
       "      <th>543580</th>\n",
       "      <td>10934224</td>\n",
       "      <td>Torneo Federal A</td>\n",
       "      <td>455</td>\n",
       "      <td>38</td>\n",
       "      <td>04.11.2013 00:30</td>\n",
       "      <td>Juventud Unida Universitario - Union Mar del Plata</td>\n",
       "      <td>2:0</td>\n",
       "      <td>Finished</td>\n",
       "    </tr>\n",
       "    <tr>\n",
       "      <th>543581</th>\n",
       "      <td>10968262</td>\n",
       "      <td>Division di Honor</td>\n",
       "      <td>463</td>\n",
       "      <td>38</td>\n",
       "      <td>04.11.2013 01:00</td>\n",
       "      <td>Nacional da Madeira - Dakota</td>\n",
       "      <td>1:3</td>\n",
       "      <td>Finished</td>\n",
       "    </tr>\n",
       "    <tr>\n",
       "      <th>543582</th>\n",
       "      <td>10925170</td>\n",
       "      <td>Primera D Metropolitana</td>\n",
       "      <td>460</td>\n",
       "      <td>38</td>\n",
       "      <td>04.11.2013 19:30</td>\n",
       "      <td>Claypole - Argentino Rosario</td>\n",
       "      <td>0:1</td>\n",
       "      <td>Finished</td>\n",
       "    </tr>\n",
       "    <tr>\n",
       "      <th>543583</th>\n",
       "      <td>10960778</td>\n",
       "      <td>Argentino B</td>\n",
       "      <td>458</td>\n",
       "      <td>38</td>\n",
       "      <td>04.11.2013 01:00</td>\n",
       "      <td>Huracan San Rafael - Pacífico</td>\n",
       "      <td>3:0</td>\n",
       "      <td>Finished</td>\n",
       "    </tr>\n",
       "    <tr>\n",
       "      <th>543584</th>\n",
       "      <td>10961027</td>\n",
       "      <td>Argentino B</td>\n",
       "      <td>458</td>\n",
       "      <td>38</td>\n",
       "      <td>04.11.2013 20:00</td>\n",
       "      <td>Ferroviarios Corrientes - Atletico Parana</td>\n",
       "      <td>1:0</td>\n",
       "      <td>Finished</td>\n",
       "    </tr>\n",
       "  </tbody>\n",
       "</table>\n",
       "<p>543585 rows × 8 columns</p>\n",
       "</div>"
      ],
      "text/plain": [
       "         game_id             ligue_header comp_id season_id          game_utc  \\\n",
       "0        1458512         Segunda División     707       306  26.03.2021 20:00   \n",
       "1        1458506         Segunda División     707       306  26.03.2021 22:00   \n",
       "2        1459331             First League     435       306  26.03.2021 14:00   \n",
       "3        1459330             First League     435       306  26.03.2021 14:00   \n",
       "4        1459334             First League     435       306  26.03.2021 15:00   \n",
       "...          ...                      ...     ...       ...               ...   \n",
       "543580  10934224         Torneo Federal A     455        38  04.11.2013 00:30   \n",
       "543581  10968262        Division di Honor     463        38  04.11.2013 01:00   \n",
       "543582  10925170  Primera D Metropolitana     460        38  04.11.2013 19:30   \n",
       "543583  10960778              Argentino B     458        38  04.11.2013 01:00   \n",
       "543584  10961027              Argentino B     458        38  04.11.2013 20:00   \n",
       "\n",
       "                                                game_title goals game_status  \n",
       "0                                Sporting Gijón - Alcorcón   0:0    Finished  \n",
       "1                                     Castellon - Espanyol   1:3    Finished  \n",
       "2                          Mykolaiv - Alians Lypova Dolyna   2:0    Finished  \n",
       "3                               Polessya - Krystal Kherson   1:1    Finished  \n",
       "4                                    Kremin - Hirnyk-Sport   1:1    Finished  \n",
       "...                                                    ...   ...         ...  \n",
       "543580  Juventud Unida Universitario - Union Mar del Plata   2:0    Finished  \n",
       "543581                        Nacional da Madeira - Dakota   1:3    Finished  \n",
       "543582                        Claypole - Argentino Rosario   0:1    Finished  \n",
       "543583                       Huracan San Rafael - Pacífico   3:0    Finished  \n",
       "543584           Ferroviarios Corrientes - Atletico Parana   1:0    Finished  \n",
       "\n",
       "[543585 rows x 8 columns]"
      ]
     },
     "execution_count": 13,
     "metadata": {},
     "output_type": "execute_result"
    }
   ],
   "source": [
    "df"
   ]
  },
  {
   "cell_type": "code",
   "execution_count": 14,
   "metadata": {},
   "outputs": [],
   "source": [
    "def find_game_events(game_ids: list, url='https://soccer365.me/games/', name_saved_file='events_games'):\n",
    "    events_dict = {}\n",
    "    for game_id, count in zip(game_ids, range(len(game_ids))):\n",
    "        try:\n",
    "            html = requests.get(url + game_id).content\n",
    "            soup = BeautifulSoup(html)\n",
    "\n",
    "            event_mins = [x.get_text() for x in soup.find_all('div', {'class':'event_min'})]\n",
    "            event_mins = [cut_part_of_string(str(x), '^', '\\'') for x in event_mins]\n",
    "            event_hts = [x.find('div') for x in soup.find_all('div', {'class':'event_ht'})]\n",
    "            event_hts = [cut_part_of_string(str(x), '=\\\"', '\\\">') for x in event_hts]\n",
    "            event_ats = [x.find('div') for x in soup.find_all('div', {'class':'event_at'})]\n",
    "            event_ats = [cut_part_of_string(str(x), '=\\\"', '\\\">') for x in event_ats]\n",
    "            event_hts_ats = [x if x != '' else y for x, y in zip(event_hts, event_ats)]\n",
    "            event_hts_ats = [cut_part_of_string(str(x), 'live_', '$') for x in event_hts_ats]\n",
    "\n",
    "            stats_items = soup.find_all(\"div\", {\"class\": \"stats_item\"})\n",
    "            stats_dict = []\n",
    "            for stats_item in stats_items:\n",
    "                stats_title = stats_item.find(\"div\", {\"class\": \"stats_title\"}).text\n",
    "                stats_inf_1 = stats_item.find_all(\"div\", {\"class\": \"stats_inf\"})[0].text\n",
    "                stats_inf_2 = stats_item.find_all(\"div\", {\"class\": \"stats_inf\"})[1].text\n",
    "                stats_list = stats_title, stats_inf_1, stats_inf_2\n",
    "                stats_dict.append(stats_list)\n",
    "\n",
    "            try:\n",
    "                preview_items = soup.find_all('div', {'class':'preview_item'})\n",
    "                city_country = preview_items[0].find_all('span', {'class':'min_gray'})[0].text\n",
    "            except (AttributeError, IndexError):   \n",
    "                preview_items = city_country = ''\n",
    "\n",
    "            try:\n",
    "                prview_weath_tmp = preview_items[0].find('span', {'class':'prview_weath_tmp'}).text\n",
    "                weather = cut_part_of_string(prview_weath_tmp, '^', '°')\n",
    "                temp = cut_part_of_string(prview_weath_tmp, '\\xa0\\xa0', '$')\n",
    "                weath_temp = weather, temp\n",
    "            except (AttributeError, IndexError):\n",
    "                prview_weath_tmp = weath_temp = ''\n",
    "\n",
    "            try:\n",
    "                viewers = cut_part_of_string(preview_items[1].text, ':', '$')\n",
    "            except (AttributeError, IndexError):\n",
    "                viewers = ''\n",
    "\n",
    "            time.sleep(1.5)\n",
    "            url_for_bets = url.replace('.me/', '.ru/')\n",
    "            bets_html = requests.get(url_for_bets + game_id).content\n",
    "            bets_soup = BeautifulSoup(bets_html)\n",
    "\n",
    "            bet_titeles = [x.get_text() for x in bets_soup.find_all('div', {'class':'odds_coeff_title'})]\n",
    "\n",
    "            try:\n",
    "                coeffs = [x.get_text() for x in bets_soup.find_all('div', {'class':'odds_coeff'})[:len(bet_titeles)]]\n",
    "            except (AttributeError, IndexError):\n",
    "                coeffs = ''\n",
    "\n",
    "            bet_coeffs = bet_titeles, coeffs\n",
    "\n",
    "            events = {game_id:[event_mins, event_hts_ats, stats_dict, city_country, viewers, weath_temp, bet_coeffs]}\n",
    "            events_dict.update(events)\n",
    "\n",
    "            if (count % 500 == 0) & (count != 0) | (game_id == game_ids[-1]):\n",
    "                print('Current_500_games_events_saved - {}'.format(game_id))\n",
    "\n",
    "                events_games = open('pickle_files/' + name_saved_file + '_' + game_id, 'wb')\n",
    "                pickle.dump(events_dict, events_games)  \n",
    "                events_games.close()\n",
    "                time.sleep(400) \n",
    "\n",
    "            time.sleep(1.5)    \n",
    "        except ConnectionError:\n",
    "            time.sleep(600) \n",
    "            find_game_events([game_id], name_saved_file=name_saved_file)\n",
    "\n",
    "    return print('Data saved with last id: {}'.format(game_id))"
   ]
  },
  {
   "cell_type": "code",
   "execution_count": 16,
   "metadata": {},
   "outputs": [],
   "source": [
    "# top_ligues_start_1 = ['12', '13', '14', '15', '16', '17', '18', '419', '420']\n",
    "# top_ligues_start_2 = ['454', '456', '474', '483', '485', '550', '554', '560', '565']"
   ]
  },
  {
   "cell_type": "code",
   "execution_count": 17,
   "metadata": {},
   "outputs": [],
   "source": [
    "# top_ligues_end =  ['577', '581', '587', '591','596', '601', '677', '681'] \n",
    "# top_ligues_end_2 = ['684', '695', '699', '707', '712', '716', '723', '727'] "
   ]
  },
  {
   "cell_type": "code",
   "execution_count": 15,
   "metadata": {},
   "outputs": [],
   "source": [
    "# second_ligues_start = [ '419', '424', '435', '436', '437', '444', '446', '449', '450', '457', '459', '464', '473', '477', '491']\n",
    "# second_ligues_start_2  = ['493', '496', '498', '500', '502', '504', '507', '512', '516', '518', '523', '532', '539', '540', '542']\n",
    "# second_ligues_middle = [ '544', '545', '546', '548', '551', '555', '562', '567', '576', '585', '586', '589', '595', '599', '602']\n",
    "# second_ligues_middle_2 =  ['606', '621', '622', '625', '626', '628', '632', '634', '636', '637', '642', '646', '647', '648', '653']\n",
    "# second_ligues_end = ['654', '655', '657', '659', '660', '667', '672', '674', '675', '676', '679', '685', '687', '691', '692', '697']\n",
    "second_ligues_end_2 = ['700', '703', '704', '714', '715', '720', '721', '725', '727', '733''735', '747', '761', '912', '1157', '1259'] "
   ]
  },
  {
   "cell_type": "code",
   "execution_count": 16,
   "metadata": {},
   "outputs": [],
   "source": [
    "leagues = second_ligues_end_2\n",
    "leagues_name = 'second_ligues_end_2'"
   ]
  },
  {
   "cell_type": "code",
   "execution_count": 17,
   "metadata": {},
   "outputs": [
    {
     "data": {
      "text/plain": [
       "16915"
      ]
     },
     "execution_count": 17,
     "metadata": {},
     "output_type": "execute_result"
    }
   ],
   "source": [
    "game_ids = df.game_id[df.comp_id.isin(leagues)].to_list()\n",
    "len(game_ids)"
   ]
  },
  {
   "cell_type": "code",
   "execution_count": 43,
   "metadata": {},
   "outputs": [],
   "source": [
    "# game_ids.index('10934906') "
   ]
  },
  {
   "cell_type": "code",
   "execution_count": 44,
   "metadata": {},
   "outputs": [],
   "source": [
    "# Start it sell\n",
    "# find_game_events(game_ids[16505:], name_saved_file=leagues_name)"
   ]
  },
  {
   "cell_type": "code",
   "execution_count": 39,
   "metadata": {},
   "outputs": [],
   "source": [
    "with open('pickle_files/second_ligues_end_2_10934879', 'rb') as f:\n",
    "    events_games = pickle.load(f)"
   ]
  },
  {
   "cell_type": "code",
   "execution_count": 40,
   "metadata": {},
   "outputs": [],
   "source": [
    "df_pickle = pd.DataFrame(events_games)"
   ]
  },
  {
   "cell_type": "code",
   "execution_count": 29,
   "metadata": {},
   "outputs": [],
   "source": [
    "# First game_id\n",
    "# 11967929 - 12997 - second_ligues_start_11967929\n",
    "# 11925466 - 5498  - second_ligues_start_10991305\n",
    "# 11258622 - 2000 - second_ligues_start__11028911\n",
    "# 10856567 - 3200 - second_ligues_start_10924530\n",
    "# 1507965 - 5500 - second_ligues_start_2_11935838\n",
    "# 11935833 - 4840 - second_ligues_start_2_10932840\n",
    "\n",
    "# 1445410 - 9500 - second_ligues_middle_12606526\n",
    "# 12606530 - 5500 - second_ligues_middle_11937265\n",
    "# 11937267 - 11630 - second_ligues_middle_10961666\n",
    "# 1521058 - 10000 - second_ligues_middle_2_12621697\n",
    "# 12621701 - 6500 - second_ligues_middle_2_11478148\n",
    "# 11511623 - 5500- second_ligues_middle_2_14513946\n",
    "# 11065258 - 2000 - second_ligues_middle_2_14385660\n",
    "# 10884541 - 650 - second_ligues_middle_2_10884423\n",
    "\n",
    "# 1427554 - 6000 - second_ligues_end_14128217\n",
    "# 14128214 - 500 - second_ligues_end_14145950\n",
    "# 14145944 - 5000 - second_ligues_end_11902890\n",
    "# 11914011 - 9000 - second_ligues_end_10869236\n",
    "# 11012263 - 2500 - second_ligues_end_10915569\n",
    "\n",
    "# 1533922 - 8000 - second_ligues_end_2_11907597\n",
    "# 511894218 - 500 - second_ligues_end_2_12558586\n",
    "# 12558685 - 6500 - second_ligues_end_2_10861138\n",
    "# 11057180 - 1000 - second_ligues_end_2_10932349\n",
    "# 10932346 - 500 - second_ligues_end_2_10934906\n",
    "# 10934905 - 409 - second_ligues_end_2_10625206\n",
    "\n",
    "# 1432501 - 7500 - top_ligues_end_12563304\n",
    "# 12563302 - 9130 - top_ligues_end_10911255\n",
    "# 12567313 - 9146 - top_ligues_end_2_10909453\n",
    "# 1458512 - 7500 - top_ligues_end_2_12567311\n",
    "# 1529443  - 19084 - top_ligues_start_2_1090378\n",
    "# 11920204 - 9495 - top_ligues_start_1_10900138\n",
    "# 1442836  - 2001 - top_ligues_start_1_14893395\n",
    "# 14893402 - 501  - top_ligues_start_1_14919434\n",
    "# 14919433 - 501  - top_ligues_start_1_14900239\n",
    "# 14900237 - 1001 - top_ligues_start_1_14101959\n",
    "# 14898253 - 1001 - top_ligues_start_1_14898150\n",
    "# 14898157 - 7995 - top_ligues_start_1_11920200"
   ]
  },
  {
   "cell_type": "code",
   "execution_count": 42,
   "metadata": {},
   "outputs": [],
   "source": [
    "# df_pickle"
   ]
  },
  {
   "cell_type": "code",
   "execution_count": 36,
   "metadata": {},
   "outputs": [],
   "source": [
    "df_pickle = transform_columns_to_rows(df_pickle, ['event_mins', 'event_hts_ats', 'stats_dict', 'city_country', 'viewers', 'weath_temp'])"
   ]
  },
  {
   "cell_type": "code",
   "execution_count": 37,
   "metadata": {},
   "outputs": [],
   "source": [
    "df_pickle.reset_index(inplace=True)\n",
    "df_pickle.rename(columns={'index':'game_id'}, inplace=True)"
   ]
  },
  {
   "cell_type": "code",
   "execution_count": 38,
   "metadata": {},
   "outputs": [
    {
     "data": {
      "text/plain": [
       "(409, 7)"
      ]
     },
     "execution_count": 38,
     "metadata": {},
     "output_type": "execute_result"
    }
   ],
   "source": [
    "df_pickle.shape"
   ]
  },
  {
   "cell_type": "code",
   "execution_count": 41,
   "metadata": {},
   "outputs": [
    {
     "data": {
      "text/html": [
       "<div>\n",
       "<style scoped>\n",
       "    .dataframe tbody tr th:only-of-type {\n",
       "        vertical-align: middle;\n",
       "    }\n",
       "\n",
       "    .dataframe tbody tr th {\n",
       "        vertical-align: top;\n",
       "    }\n",
       "\n",
       "    .dataframe thead th {\n",
       "        text-align: right;\n",
       "    }\n",
       "</style>\n",
       "<table border=\"1\" class=\"dataframe\">\n",
       "  <thead>\n",
       "    <tr style=\"text-align: right;\">\n",
       "      <th></th>\n",
       "      <th>game_id</th>\n",
       "      <th>event_mins</th>\n",
       "      <th>event_hts_ats</th>\n",
       "      <th>stats_dict</th>\n",
       "      <th>city_country</th>\n",
       "      <th>viewers</th>\n",
       "      <th>weath_temp</th>\n",
       "    </tr>\n",
       "  </thead>\n",
       "  <tbody>\n",
       "    <tr>\n",
       "      <th>2486</th>\n",
       "      <td>14411344</td>\n",
       "      <td>[]</td>\n",
       "      <td>[]</td>\n",
       "      <td>[]</td>\n",
       "      <td>Craiova, Romania</td>\n",
       "      <td></td>\n",
       "      <td>(+12, overcast)</td>\n",
       "    </tr>\n",
       "    <tr>\n",
       "      <th>2487</th>\n",
       "      <td>10952183</td>\n",
       "      <td>[18, 27, 38, 81]</td>\n",
       "      <td>[goal, goal, goal, pengoal]</td>\n",
       "      <td>[]</td>\n",
       "      <td>Romania</td>\n",
       "      <td></td>\n",
       "      <td></td>\n",
       "    </tr>\n",
       "    <tr>\n",
       "      <th>2488</th>\n",
       "      <td>14411345</td>\n",
       "      <td>[]</td>\n",
       "      <td>[]</td>\n",
       "      <td>[]</td>\n",
       "      <td>Romania</td>\n",
       "      <td></td>\n",
       "      <td></td>\n",
       "    </tr>\n",
       "    <tr>\n",
       "      <th>2489</th>\n",
       "      <td>10915568</td>\n",
       "      <td>[25, 32, 72, 88]</td>\n",
       "      <td>[yellowcard, yellowcard, yellowcard, pengoal]</td>\n",
       "      <td>[]</td>\n",
       "      <td>Jaroslavl, Russia</td>\n",
       "      <td></td>\n",
       "      <td>(+6, partly cloudy)</td>\n",
       "    </tr>\n",
       "    <tr>\n",
       "      <th>2490</th>\n",
       "      <td>10915569</td>\n",
       "      <td>[25, 50, 57, 62, 77, 90, 90]</td>\n",
       "      <td>[yellowcard, goal, yellowcard, yellowcard, yellowcard, yellowcard, yellowcard]</td>\n",
       "      <td>[]</td>\n",
       "      <td>Dzerzhinsk, Russia</td>\n",
       "      <td></td>\n",
       "      <td>(+2, light drizzle)</td>\n",
       "    </tr>\n",
       "  </tbody>\n",
       "</table>\n",
       "</div>"
      ],
      "text/plain": [
       "       game_id                    event_mins  \\\n",
       "2486  14411344                            []   \n",
       "2487  10952183              [18, 27, 38, 81]   \n",
       "2488  14411345                            []   \n",
       "2489  10915568              [25, 32, 72, 88]   \n",
       "2490  10915569  [25, 50, 57, 62, 77, 90, 90]   \n",
       "\n",
       "                                                                       event_hts_ats  \\\n",
       "2486                                                                              []   \n",
       "2487                                                     [goal, goal, goal, pengoal]   \n",
       "2488                                                                              []   \n",
       "2489                                   [yellowcard, yellowcard, yellowcard, pengoal]   \n",
       "2490  [yellowcard, goal, yellowcard, yellowcard, yellowcard, yellowcard, yellowcard]   \n",
       "\n",
       "     stats_dict        city_country viewers           weath_temp  \n",
       "2486         []    Craiova, Romania              (+12, overcast)  \n",
       "2487         []             Romania                               \n",
       "2488         []             Romania                               \n",
       "2489         []   Jaroslavl, Russia          (+6, partly cloudy)  \n",
       "2490         []  Dzerzhinsk, Russia          (+2, light drizzle)  "
      ]
     },
     "execution_count": 41,
     "metadata": {},
     "output_type": "execute_result"
    }
   ],
   "source": [
    "df_pickle.tail()"
   ]
  },
  {
   "cell_type": "markdown",
   "metadata": {},
   "source": [
    "################################################################################################################################"
   ]
  },
  {
   "cell_type": "code",
   "execution_count": null,
   "metadata": {},
   "outputs": [],
   "source": [
    "# For get tables of competitions \n",
    "# https://soccer365.ru/competitions/16/ - current tables\n",
    "# https://soccer365.ru/competitions/16/2017-2018/ - for seasons"
   ]
  },
  {
   "cell_type": "code",
   "execution_count": null,
   "metadata": {},
   "outputs": [],
   "source": [
    "# html = requests.get('https://soccer365.me/?c=live&a=showtable&competition_id=483&season_id=307').content\n",
    "# <tr class=\"adv_kef_wgt_odd\">"
   ]
  },
  {
   "cell_type": "code",
   "execution_count": 16,
   "metadata": {},
   "outputs": [
    {
     "data": {
      "text/html": [
       "<div>\n",
       "<style scoped>\n",
       "    .dataframe tbody tr th:only-of-type {\n",
       "        vertical-align: middle;\n",
       "    }\n",
       "\n",
       "    .dataframe tbody tr th {\n",
       "        vertical-align: top;\n",
       "    }\n",
       "\n",
       "    .dataframe thead th {\n",
       "        text-align: right;\n",
       "    }\n",
       "</style>\n",
       "<table border=\"1\" class=\"dataframe\">\n",
       "  <thead>\n",
       "    <tr style=\"text-align: right;\">\n",
       "      <th></th>\n",
       "      <th>game_id</th>\n",
       "      <th>ligue_header</th>\n",
       "      <th>comp_id</th>\n",
       "      <th>season_id</th>\n",
       "      <th>game_utc</th>\n",
       "      <th>game_title</th>\n",
       "      <th>goals</th>\n",
       "      <th>game_status</th>\n",
       "    </tr>\n",
       "  </thead>\n",
       "  <tbody>\n",
       "    <tr>\n",
       "      <th>151</th>\n",
       "      <td>1510009</td>\n",
       "      <td>Campeonato de Portugal</td>\n",
       "      <td>680</td>\n",
       "      <td>306</td>\n",
       "      <td>03.01.2021 13:00</td>\n",
       "      <td>Pevidem - Camacha</td>\n",
       "      <td>-:-</td>\n",
       "      <td>Finished</td>\n",
       "    </tr>\n",
       "  </tbody>\n",
       "</table>\n",
       "</div>"
      ],
      "text/plain": [
       "     game_id            ligue_header comp_id season_id          game_utc  \\\n",
       "151  1510009  Campeonato de Portugal     680       306  03.01.2021 13:00   \n",
       "\n",
       "            game_title goals game_status  \n",
       "151  Pevidem - Camacha   -:-    Finished  "
      ]
     },
     "execution_count": 16,
     "metadata": {},
     "output_type": "execute_result"
    }
   ],
   "source": [
    "# replace 'Finished' not 'Postponed' games wih '-:-' goals for 'Canseled'\n",
    "df[df.game_id == '1510009']"
   ]
  }
 ],
 "metadata": {
  "kernelspec": {
   "display_name": "Python 3",
   "language": "python",
   "name": "python3"
  },
  "language_info": {
   "codemirror_mode": {
    "name": "ipython",
    "version": 3
   },
   "file_extension": ".py",
   "mimetype": "text/x-python",
   "name": "python",
   "nbconvert_exporter": "python",
   "pygments_lexer": "ipython3",
   "version": "3.7.6"
  }
 },
 "nbformat": 4,
 "nbformat_minor": 5
}

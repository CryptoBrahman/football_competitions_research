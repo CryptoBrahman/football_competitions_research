{
 "cells": [
  {
   "cell_type": "code",
   "execution_count": 1,
   "metadata": {},
   "outputs": [],
   "source": [
    "import re\n",
    "import pickle\n",
    "import time\n",
    "import requests\n",
    "import pandas as pd\n",
    "from bs4 import BeautifulSoup\n",
    "\n",
    "from _html_parser import HtmlParser\n",
    "\n",
    "pd.set_option('display.max_rows', 500)\n",
    "pd.set_option('display.max_columns', 500)\n",
    "pd.set_option('display.max_colwidth', 500)"
   ]
  },
  {
   "cell_type": "code",
   "execution_count": 2,
   "metadata": {},
   "outputs": [],
   "source": [
    "%load_ext autoreload\n",
    "%autoreload 2"
   ]
  },
  {
   "cell_type": "code",
   "execution_count": 20,
   "metadata": {},
   "outputs": [],
   "source": [
    "with open('pickle_files/teams_data/tmd_26_05_2022/df_teams_cities_na_26_05_2022_third', 'rb') as f:\n",
    "    df_game_ids_na_cities = pickle.load(f)"
   ]
  },
  {
   "cell_type": "code",
   "execution_count": 6,
   "metadata": {},
   "outputs": [
    {
     "name": "stdout",
     "output_type": "stream",
     "text": [
      "shape -  149\n"
     ]
    },
    {
     "data": {
      "text/plain": [
       "array(['Nepal', 'Sinalunghese', 'Coimbra'], dtype=object)"
      ]
     },
     "execution_count": 6,
     "metadata": {},
     "output_type": "execute_result"
    }
   ],
   "source": [
    "teams_for_ids = df_game_ids_na_cities.f_team.values\n",
    "print('shape - ', len(teams_for_ids))\n",
    "teams_for_ids[-3:]"
   ]
  },
  {
   "cell_type": "markdown",
   "metadata": {},
   "source": [
    "#### Parsing teams ids"
   ]
  },
  {
   "cell_type": "code",
   "execution_count": 7,
   "metadata": {},
   "outputs": [
    {
     "name": "stdout",
     "output_type": "stream",
     "text": [
      "Current_1000_teams_ids_saved - Coimbra\n",
      "Teams ids saved with last name: Coimbra\n"
     ]
    }
   ],
   "source": [
    "HtmlParser.find_teams_ids(teams_for_ids) "
   ]
  },
  {
   "cell_type": "code",
   "execution_count": 8,
   "metadata": {},
   "outputs": [],
   "source": [
    "with open('pickle_files/teams_data/tmd_26_05_2022/teams_ids_na_cities_Coimbra', 'rb') as f:\n",
    "    lst_teams_ids = pickle.load(f)"
   ]
  },
  {
   "cell_type": "code",
   "execution_count": 9,
   "metadata": {},
   "outputs": [
    {
     "name": "stdout",
     "output_type": "stream",
     "text": [
      "shape -  149\n"
     ]
    },
    {
     "data": {
      "text/plain": [
       "[['Nepal', '7107'], ['Sinalunghese', '19864'], ['Coimbra', '14892']]"
      ]
     },
     "execution_count": 9,
     "metadata": {},
     "output_type": "execute_result"
    }
   ],
   "source": [
    "print('shape - ', len(lst_teams_ids))\n",
    "lst_teams_ids[-3:]"
   ]
  },
  {
   "cell_type": "code",
   "execution_count": 10,
   "metadata": {},
   "outputs": [],
   "source": [
    "teams_ids = [x[1] for x in lst_teams_ids if x[1] is not None]"
   ]
  },
  {
   "cell_type": "code",
   "execution_count": 11,
   "metadata": {},
   "outputs": [
    {
     "name": "stdout",
     "output_type": "stream",
     "text": [
      "shape -  136\n"
     ]
    },
    {
     "data": {
      "text/plain": [
       "['7107', '19864', '14892']"
      ]
     },
     "execution_count": 11,
     "metadata": {},
     "output_type": "execute_result"
    }
   ],
   "source": [
    "print('shape - ', len(teams_ids))\n",
    "teams_ids[-3:]"
   ]
  },
  {
   "cell_type": "code",
   "execution_count": 12,
   "metadata": {},
   "outputs": [],
   "source": [
    "lst_teams_wt_id = [x[0] for x in lst_teams_ids if x[1] is None]"
   ]
  },
  {
   "cell_type": "code",
   "execution_count": 13,
   "metadata": {},
   "outputs": [
    {
     "name": "stdout",
     "output_type": "stream",
     "text": [
      "shape -  13\n"
     ]
    },
    {
     "data": {
      "text/plain": [
       "['Minaj U19', 'Belaya Rus', 'Sputnik Rechitsa']"
      ]
     },
     "execution_count": 13,
     "metadata": {},
     "output_type": "execute_result"
    }
   ],
   "source": [
    "print('shape - ', len(lst_teams_wt_id))\n",
    "lst_teams_wt_id[-3:]"
   ]
  },
  {
   "cell_type": "code",
   "execution_count": 14,
   "metadata": {},
   "outputs": [],
   "source": [
    "# file = open('pickle_files/teams_data/lst_teams_wt_id_main', 'wb')\n",
    "# pickle.dump(lst_teams_wt_id, file)  \n",
    "# file.close()"
   ]
  },
  {
   "cell_type": "code",
   "execution_count": 14,
   "metadata": {},
   "outputs": [],
   "source": [
    "df_teams_ids           = pd.DataFrame(columns=['teams_ids', 'team'])\n",
    "df_teams_ids.teams_ids = [x[1] for x in lst_teams_ids]\n",
    "df_teams_ids.team      = [x[0] for x in lst_teams_ids]"
   ]
  },
  {
   "cell_type": "code",
   "execution_count": 15,
   "metadata": {},
   "outputs": [],
   "source": [
    "df_teams_ids = df_teams_ids.merge(df_game_ids_na_cities.country, how='left', left_index=True, right_index=True)"
   ]
  },
  {
   "cell_type": "code",
   "execution_count": 25,
   "metadata": {},
   "outputs": [
    {
     "data": {
      "text/html": [
       "<div>\n",
       "<style scoped>\n",
       "    .dataframe tbody tr th:only-of-type {\n",
       "        vertical-align: middle;\n",
       "    }\n",
       "\n",
       "    .dataframe tbody tr th {\n",
       "        vertical-align: top;\n",
       "    }\n",
       "\n",
       "    .dataframe thead th {\n",
       "        text-align: right;\n",
       "    }\n",
       "</style>\n",
       "<table border=\"1\" class=\"dataframe\">\n",
       "  <thead>\n",
       "    <tr style=\"text-align: right;\">\n",
       "      <th></th>\n",
       "      <th>teams_ids</th>\n",
       "      <th>team</th>\n",
       "      <th>country</th>\n",
       "    </tr>\n",
       "  </thead>\n",
       "  <tbody>\n",
       "    <tr>\n",
       "      <th>0</th>\n",
       "      <td>None</td>\n",
       "      <td>Lillestrøm</td>\n",
       "      <td>Norway</td>\n",
       "    </tr>\n",
       "    <tr>\n",
       "      <th>1</th>\n",
       "      <td>8631</td>\n",
       "      <td>HIFK</td>\n",
       "      <td>Finland</td>\n",
       "    </tr>\n",
       "    <tr>\n",
       "      <th>2</th>\n",
       "      <td>7556</td>\n",
       "      <td>Drogheda United</td>\n",
       "      <td>Republic of Ireland</td>\n",
       "    </tr>\n",
       "  </tbody>\n",
       "</table>\n",
       "</div>"
      ],
      "text/plain": [
       "  teams_ids             team              country\n",
       "0      None       Lillestrøm               Norway\n",
       "1      8631             HIFK              Finland\n",
       "2      7556  Drogheda United  Republic of Ireland"
      ]
     },
     "execution_count": 25,
     "metadata": {},
     "output_type": "execute_result"
    }
   ],
   "source": [
    "df_teams_ids.head(3)"
   ]
  },
  {
   "cell_type": "markdown",
   "metadata": {},
   "source": [
    "#### Parsing teams data"
   ]
  },
  {
   "cell_type": "code",
   "execution_count": 26,
   "metadata": {},
   "outputs": [
    {
     "name": "stdout",
     "output_type": "stream",
     "text": [
      "Current_500_teams_data_saved - 14892\n",
      "Teams data saved with last id: 14892\n"
     ]
    }
   ],
   "source": [
    "HtmlParser.find_teams_data(teams_ids[:])"
   ]
  },
  {
   "cell_type": "code",
   "execution_count": 27,
   "metadata": {},
   "outputs": [],
   "source": [
    "# teams_wiki_data_8636, teams_wiki_data_12683, teams_wiki_data_14892\n",
    "with open('pickle_files/teams_data/tmd_26_05_2022/teams_wiki_data_14892', 'rb') as f:\n",
    "    wiki_data = pickle.load(f)"
   ]
  },
  {
   "cell_type": "code",
   "execution_count": 28,
   "metadata": {},
   "outputs": [
    {
     "data": {
      "text/plain": [
       "136"
      ]
     },
     "execution_count": 28,
     "metadata": {},
     "output_type": "execute_result"
    }
   ],
   "source": [
    "len(wiki_data)"
   ]
  },
  {
   "cell_type": "code",
   "execution_count": 29,
   "metadata": {},
   "outputs": [
    {
     "data": {
      "text/plain": [
       "[('8228',\n",
       "  'Finn Harps Football Club are an Irish football club that play in the Premier Division of the League of Ireland, as of 2020. The club was founded in 1954 and elected to the league in 1969. However, it was technically founded on 30 November 1953.')]"
      ]
     },
     "execution_count": 29,
     "metadata": {},
     "output_type": "execute_result"
    }
   ],
   "source": [
    "wiki_data[2:3]"
   ]
  },
  {
   "cell_type": "code",
   "execution_count": 30,
   "metadata": {},
   "outputs": [],
   "source": [
    "df_wiki_data  = pd.DataFrame(wiki_data, columns=['teams_ids', 'tm_data'])\n",
    "df_teams_data = df_teams_ids.merge(df_wiki_data, how='left', left_on='teams_ids', right_on='teams_ids')"
   ]
  },
  {
   "cell_type": "code",
   "execution_count": 31,
   "metadata": {},
   "outputs": [],
   "source": [
    "df_teams_data.drop_duplicates(subset=['teams_ids', 'team'], inplace=True)\n",
    "df_teams_data.reset_index(drop=True, inplace=True)"
   ]
  },
  {
   "cell_type": "code",
   "execution_count": 33,
   "metadata": {},
   "outputs": [],
   "source": [
    "# df_teams_data"
   ]
  },
  {
   "cell_type": "markdown",
   "metadata": {},
   "source": [
    "#### Data clear"
   ]
  },
  {
   "cell_type": "code",
   "execution_count": 34,
   "metadata": {},
   "outputs": [],
   "source": [
    "data_is_a = df_teams_data.tm_data.map(lambda x: ''.join(HtmlParser.cut_part_of_string(x, 'is a', '\\.')) if re.findall('is a', str(x)) else None)"
   ]
  },
  {
   "cell_type": "code",
   "execution_count": 35,
   "metadata": {},
   "outputs": [],
   "source": [
    "data_based_in = data_is_a.map(lambda x: x if re.findall('(based in)|(city of)|(town of)|(located in)|(club from)|(club in)|(playing in)', str(x)) else None)"
   ]
  },
  {
   "cell_type": "code",
   "execution_count": 36,
   "metadata": {},
   "outputs": [],
   "source": [
    "data_based_in = data_based_in.map(lambda x: ''.join(HtmlParser.cut_part_of_string(x, 'city of ', '$')) if re.findall('city of', str(x)) else x)\n",
    "data_based_in = data_based_in.map(lambda x: ''.join(HtmlParser.cut_part_of_string(x, 'town of ', '$')) if re.findall('town of', str(x)) else x)\n",
    "data_based_in = data_based_in.map(lambda x: ''.join(HtmlParser.cut_part_of_string(x, 'located in ', '$')) if re.findall('located in', str(x)) else x)\n",
    "data_based_in = data_based_in.map(lambda x: ''.join(HtmlParser.cut_part_of_string(x, 'club from ', '$')) if re.findall('club from', str(x)) else x)\n",
    "data_based_in = data_based_in.map(lambda x: ''.join(HtmlParser.cut_part_of_string(x, 'club in ', '$')) if re.findall('club in', str(x)) else x)\n",
    "data_based_in = data_based_in.map(lambda x: ''.join(HtmlParser.cut_part_of_string(x, 'playing in ', '$')) if re.findall('playing in', str(x)) else x)\n",
    "data_based_in = data_based_in.map(lambda x: ''.join(HtmlParser.cut_part_of_string(x, 'based in ', '$')) if re.findall('based in', str(x)) else x)"
   ]
  },
  {
   "cell_type": "code",
   "execution_count": 37,
   "metadata": {},
   "outputs": [],
   "source": [
    "data_based_in = data_based_in.map(lambda x: ''.join(HtmlParser.cut_part_of_string(x, '^', ',')) if re.findall(',', str(x)) else x)"
   ]
  },
  {
   "cell_type": "code",
   "execution_count": 39,
   "metadata": {},
   "outputs": [],
   "source": [
    "# data_based_in"
   ]
  },
  {
   "cell_type": "code",
   "execution_count": 40,
   "metadata": {},
   "outputs": [],
   "source": [
    "df_teams_data['city'] = data_based_in.values"
   ]
  },
  {
   "cell_type": "code",
   "execution_count": 41,
   "metadata": {},
   "outputs": [
    {
     "name": "stdout",
     "output_type": "stream",
     "text": [
      "shape -  149\n"
     ]
    },
    {
     "data": {
      "text/html": [
       "<div>\n",
       "<style scoped>\n",
       "    .dataframe tbody tr th:only-of-type {\n",
       "        vertical-align: middle;\n",
       "    }\n",
       "\n",
       "    .dataframe tbody tr th {\n",
       "        vertical-align: top;\n",
       "    }\n",
       "\n",
       "    .dataframe thead th {\n",
       "        text-align: right;\n",
       "    }\n",
       "</style>\n",
       "<table border=\"1\" class=\"dataframe\">\n",
       "  <thead>\n",
       "    <tr style=\"text-align: right;\">\n",
       "      <th></th>\n",
       "      <th>teams_ids</th>\n",
       "      <th>team</th>\n",
       "      <th>country</th>\n",
       "      <th>tm_data</th>\n",
       "      <th>city</th>\n",
       "    </tr>\n",
       "  </thead>\n",
       "  <tbody>\n",
       "    <tr>\n",
       "      <th>0</th>\n",
       "      <td>None</td>\n",
       "      <td>Lillestrøm</td>\n",
       "      <td>Norway</td>\n",
       "      <td>NaN</td>\n",
       "      <td>None</td>\n",
       "    </tr>\n",
       "    <tr>\n",
       "      <th>1</th>\n",
       "      <td>8631</td>\n",
       "      <td>HIFK</td>\n",
       "      <td>Finland</td>\n",
       "      <td>HIFK, the Idrottsföreningen Kamraterna, Helsingfors (IFK, Helsingfors) rf (officially abbreviated IFK Helsingfors, colloquially often Helsingfors IFK or Helsingin IFK ) is a multi-sport association based in Helsinki, Finland.</td>\n",
       "      <td>Helsinki</td>\n",
       "    </tr>\n",
       "    <tr>\n",
       "      <th>2</th>\n",
       "      <td>7556</td>\n",
       "      <td>Drogheda United</td>\n",
       "      <td>Republic of Ireland</td>\n",
       "      <td>Drogheda United Football Club is an Irish association football club based in Drogheda, County Louth playing in the League of Ireland Premier Division. They play their home matches at Head In The Game Park.</td>\n",
       "      <td>the League of Ireland Premier Division</td>\n",
       "    </tr>\n",
       "  </tbody>\n",
       "</table>\n",
       "</div>"
      ],
      "text/plain": [
       "  teams_ids             team              country  \\\n",
       "0      None       Lillestrøm               Norway   \n",
       "1      8631             HIFK              Finland   \n",
       "2      7556  Drogheda United  Republic of Ireland   \n",
       "\n",
       "                                                                                                                                                                                                                             tm_data  \\\n",
       "0                                                                                                                                                                                                                                NaN   \n",
       "1  HIFK, the Idrottsföreningen Kamraterna, Helsingfors (IFK, Helsingfors) rf (officially abbreviated IFK Helsingfors, colloquially often Helsingfors IFK or Helsingin IFK ) is a multi-sport association based in Helsinki, Finland.   \n",
       "2                      Drogheda United Football Club is an Irish association football club based in Drogheda, County Louth playing in the League of Ireland Premier Division. They play their home matches at Head In The Game Park.   \n",
       "\n",
       "                                     city  \n",
       "0                                    None  \n",
       "1                                Helsinki  \n",
       "2  the League of Ireland Premier Division  "
      ]
     },
     "execution_count": 41,
     "metadata": {},
     "output_type": "execute_result"
    }
   ],
   "source": [
    "print('shape - ', df_teams_data.shape[0])\n",
    "df_teams_data.head(3)"
   ]
  },
  {
   "cell_type": "code",
   "execution_count": 43,
   "metadata": {},
   "outputs": [],
   "source": [
    "# df_teams_data.to_csv('csv_files/df_teams_data_26_05_2022_third.csv', index = None, header=True)"
   ]
  },
  {
   "cell_type": "markdown",
   "metadata": {},
   "source": [
    "#### Work after manual correct"
   ]
  },
  {
   "cell_type": "code",
   "execution_count": 3,
   "metadata": {},
   "outputs": [],
   "source": [
    "colnames = ['team_id', 'team', 'country', 'tm_data', 'city']"
   ]
  },
  {
   "cell_type": "code",
   "execution_count": 8,
   "metadata": {},
   "outputs": [],
   "source": [
    "df_after_corr = pd.read_csv('csv_files/df_teams_data_26_05_2022_third.csv', names=colnames, header=None, dtype=str)"
   ]
  },
  {
   "cell_type": "code",
   "execution_count": 10,
   "metadata": {},
   "outputs": [
    {
     "name": "stdout",
     "output_type": "stream",
     "text": [
      "shape -  146\n"
     ]
    },
    {
     "data": {
      "text/html": [
       "<div>\n",
       "<style scoped>\n",
       "    .dataframe tbody tr th:only-of-type {\n",
       "        vertical-align: middle;\n",
       "    }\n",
       "\n",
       "    .dataframe tbody tr th {\n",
       "        vertical-align: top;\n",
       "    }\n",
       "\n",
       "    .dataframe thead th {\n",
       "        text-align: right;\n",
       "    }\n",
       "</style>\n",
       "<table border=\"1\" class=\"dataframe\">\n",
       "  <thead>\n",
       "    <tr style=\"text-align: right;\">\n",
       "      <th></th>\n",
       "      <th>team_id</th>\n",
       "      <th>team</th>\n",
       "      <th>country</th>\n",
       "      <th>tm_data</th>\n",
       "      <th>city</th>\n",
       "    </tr>\n",
       "  </thead>\n",
       "  <tbody>\n",
       "    <tr>\n",
       "      <th>0</th>\n",
       "      <td>281</td>\n",
       "      <td>West Bromwich</td>\n",
       "      <td>England</td>\n",
       "      <td>West Bromwich Albion Football Club, commonly referred to as West Brom, is an English professional football club based in West Bromwich, West Midlands, England. They compete in the EFL Championship, the second tier of English football.</td>\n",
       "      <td>West Bromwich</td>\n",
       "    </tr>\n",
       "    <tr>\n",
       "      <th>1</th>\n",
       "      <td>14607</td>\n",
       "      <td>Volos</td>\n",
       "      <td>Greece</td>\n",
       "      <td>Volos Football Club is a Greek professional football club based in Volos, Magnesia, Greece. The club currently competes in the Super League, the first tier of football in Greece. Volos plays its home matches at the Panthessaliko Stadium.</td>\n",
       "      <td>Volos</td>\n",
       "    </tr>\n",
       "    <tr>\n",
       "      <th>2</th>\n",
       "      <td>8986</td>\n",
       "      <td>Dunkerque</td>\n",
       "      <td>France</td>\n",
       "      <td>USL Dunkerque is a French football club based in the commune of Dunkirk. It will compete in the Championnat National in the 2022–23 season. Their kit colours are white and blue, and they play their home matches at the Stade Marcel-Tribut.</td>\n",
       "      <td>Dunkirk</td>\n",
       "    </tr>\n",
       "  </tbody>\n",
       "</table>\n",
       "</div>"
      ],
      "text/plain": [
       "  team_id           team  country  \\\n",
       "0     281  West Bromwich  England   \n",
       "1   14607          Volos   Greece   \n",
       "2    8986      Dunkerque   France   \n",
       "\n",
       "                                                                                                                                                                                                                                          tm_data  \\\n",
       "0      West Bromwich Albion Football Club, commonly referred to as West Brom, is an English professional football club based in West Bromwich, West Midlands, England. They compete in the EFL Championship, the second tier of English football.   \n",
       "1   Volos Football Club is a Greek professional football club based in Volos, Magnesia, Greece. The club currently competes in the Super League, the first tier of football in Greece. Volos plays its home matches at the Panthessaliko Stadium.   \n",
       "2  USL Dunkerque is a French football club based in the commune of Dunkirk. It will compete in the Championnat National in the 2022–23 season. Their kit colours are white and blue, and they play their home matches at the Stade Marcel-Tribut.   \n",
       "\n",
       "            city  \n",
       "0  West Bromwich  \n",
       "1          Volos  \n",
       "2        Dunkirk  "
      ]
     },
     "execution_count": 10,
     "metadata": {},
     "output_type": "execute_result"
    }
   ],
   "source": [
    "print('shape - ', df_after_corr.shape[0])\n",
    "df_after_corr.head(3)"
   ]
  },
  {
   "cell_type": "code",
   "execution_count": 11,
   "metadata": {},
   "outputs": [
    {
     "name": "stdout",
     "output_type": "stream",
     "text": [
      "shape -  90\n"
     ]
    }
   ],
   "source": [
    "df_after_corr = df_after_corr[~df_after_corr.city.isin(['nd'])].copy().reset_index(drop=True)\n",
    "print('shape - ', df_after_corr.shape[0])"
   ]
  },
  {
   "cell_type": "code",
   "execution_count": 12,
   "metadata": {},
   "outputs": [],
   "source": [
    "df_after_corr.drop(columns='tm_data', inplace=True)"
   ]
  },
  {
   "cell_type": "code",
   "execution_count": 14,
   "metadata": {},
   "outputs": [
    {
     "data": {
      "text/html": [
       "<div>\n",
       "<style scoped>\n",
       "    .dataframe tbody tr th:only-of-type {\n",
       "        vertical-align: middle;\n",
       "    }\n",
       "\n",
       "    .dataframe tbody tr th {\n",
       "        vertical-align: top;\n",
       "    }\n",
       "\n",
       "    .dataframe thead th {\n",
       "        text-align: right;\n",
       "    }\n",
       "</style>\n",
       "<table border=\"1\" class=\"dataframe\">\n",
       "  <thead>\n",
       "    <tr style=\"text-align: right;\">\n",
       "      <th></th>\n",
       "      <th>team_id</th>\n",
       "      <th>team</th>\n",
       "      <th>country</th>\n",
       "      <th>city</th>\n",
       "    </tr>\n",
       "  </thead>\n",
       "  <tbody>\n",
       "    <tr>\n",
       "      <th>87</th>\n",
       "      <td>NaN</td>\n",
       "      <td>Bodø / Glimt</td>\n",
       "      <td>Norway</td>\n",
       "      <td>Bodø</td>\n",
       "    </tr>\n",
       "    <tr>\n",
       "      <th>88</th>\n",
       "      <td>10694</td>\n",
       "      <td>Jong Utrecht</td>\n",
       "      <td>Netherlands</td>\n",
       "      <td>Utrecht</td>\n",
       "    </tr>\n",
       "    <tr>\n",
       "      <th>89</th>\n",
       "      <td>NaN</td>\n",
       "      <td>Belaya Rus</td>\n",
       "      <td>Belarus</td>\n",
       "      <td>Dyatlovo</td>\n",
       "    </tr>\n",
       "  </tbody>\n",
       "</table>\n",
       "</div>"
      ],
      "text/plain": [
       "   team_id          team      country      city\n",
       "87     NaN  Bodø / Glimt       Norway      Bodø\n",
       "88   10694  Jong Utrecht  Netherlands   Utrecht\n",
       "89     NaN    Belaya Rus      Belarus  Dyatlovo"
      ]
     },
     "execution_count": 14,
     "metadata": {},
     "output_type": "execute_result"
    }
   ],
   "source": [
    "df_after_corr.tail(3)"
   ]
  },
  {
   "cell_type": "code",
   "execution_count": 16,
   "metadata": {},
   "outputs": [],
   "source": [
    "# file = open('pickle_files/teams_data/df_after_corr_26_05_2022_third', 'wb')\n",
    "# pickle.dump(df_after_corr, file)  \n",
    "# file.close()"
   ]
  }
 ],
 "metadata": {
  "kernelspec": {
   "display_name": "Python 3 (ipykernel)",
   "language": "python",
   "name": "python3"
  },
  "language_info": {
   "codemirror_mode": {
    "name": "ipython",
    "version": 3
   },
   "file_extension": ".py",
   "mimetype": "text/x-python",
   "name": "python",
   "nbconvert_exporter": "python",
   "pygments_lexer": "ipython3",
   "version": "3.9.7"
  }
 },
 "nbformat": 4,
 "nbformat_minor": 4
}

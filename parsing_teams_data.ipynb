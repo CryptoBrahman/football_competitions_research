{
 "cells": [
  {
   "cell_type": "code",
   "execution_count": 1,
   "metadata": {},
   "outputs": [],
   "source": [
    "import re\n",
    "import os\n",
    "import pickle\n",
    "import time\n",
    "import requests\n",
    "import numpy as np\n",
    "import pandas as pd\n",
    "from bs4 import BeautifulSoup\n",
    "\n",
    "from _html_parser import HtmlParser, ParsingDataPrepare\n",
    "\n",
    "pd.set_option('display.max_rows', 2000)\n",
    "pd.set_option('display.max_columns', 500)\n",
    "pd.set_option('display.max_colwidth', 500)"
   ]
  },
  {
   "cell_type": "code",
   "execution_count": 2,
   "metadata": {},
   "outputs": [],
   "source": [
    "%load_ext autoreload\n",
    "%autoreload 2"
   ]
  },
  {
   "cell_type": "markdown",
   "metadata": {},
   "source": [
    "### All teams data - new solution with work with 'full_data' file."
   ]
  },
  {
   "cell_type": "code",
   "execution_count": 3,
   "metadata": {},
   "outputs": [],
   "source": [
    "# with open('pickle_files/teams_data/df_full_teams_data_cr_11_10_2022', 'rb') as f:\n",
    "#     df_full_teams_data_cr_11_10_2022 = pickle.load(f)"
   ]
  },
  {
   "cell_type": "code",
   "execution_count": 4,
   "metadata": {},
   "outputs": [],
   "source": [
    "# print('shape - ', df_full_teams_data_cr_11_10_2022.shape)\n",
    "# df_full_teams_data_cr_11_10_2022.tail()"
   ]
  },
  {
   "cell_type": "code",
   "execution_count": 5,
   "metadata": {},
   "outputs": [],
   "source": [
    "# path = 'pickle_files/teams_data/tmd_16_09_2022/'\n",
    "# soccerway_tmd_16_09_2022 = []\n",
    "\n",
    "# for file in os.listdir(path):\n",
    "#     if file.startswith('soccerway_team_data'):\n",
    "#         with open(path + file, 'rb') as f:\n",
    "#             tm_data = pickle.load(f)\n",
    "#             soccerway_tmd_16_09_2022 = soccerway_tmd_16_09_2022 + tm_data\n",
    "\n",
    "# print('len - ', len(soccerway_tmd_16_09_2022))        "
   ]
  },
  {
   "cell_type": "code",
   "execution_count": 6,
   "metadata": {},
   "outputs": [],
   "source": [
    "# path = 'pickle_files/teams_data/tmd_26_03_2021/'\n",
    "# soccerway_tmd_26_03_2021 = []\n",
    "\n",
    "# for file in os.listdir(path):\n",
    "#     if file.startswith('soccerway_team_data'):\n",
    "#         with open(path + file, 'rb') as f:\n",
    "#             tm_data = pickle.load(f)\n",
    "#             soccerway_tmd_26_03_2021 = soccerway_tmd_26_03_2021 + tm_data\n",
    "\n",
    "# print('len - ', len(soccerway_tmd_26_03_2021))        "
   ]
  },
  {
   "cell_type": "code",
   "execution_count": 7,
   "metadata": {},
   "outputs": [],
   "source": [
    "# path = 'pickle_files/teams_data/tmd_02_11_2013/'\n",
    "# soccerway_tmd_02_11_2013 = []\n",
    "\n",
    "# for file in os.listdir(path):\n",
    "#     if file.startswith('soccerway_team_data'):\n",
    "#         with open(path + file, 'rb') as f:\n",
    "#             tm_data = pickle.load(f)\n",
    "#             soccerway_tmd_02_11_2013 = soccerway_tmd_02_11_2013 + tm_data\n",
    "\n",
    "# print('len - ', len(soccerway_tmd_02_11_2013))        "
   ]
  },
  {
   "cell_type": "code",
   "execution_count": 8,
   "metadata": {},
   "outputs": [],
   "source": [
    "# path = 'pickle_files/teams_data/tmd_09_07_2005/'\n",
    "# soccerway_tmd_09_07_2005 = []\n",
    "\n",
    "# for file in os.listdir(path):\n",
    "#     if file.startswith('soccerway_team_data'):\n",
    "#         with open(path + file, 'rb') as f:\n",
    "#             tm_data = pickle.load(f)\n",
    "#             soccerway_tmd_09_07_2005 = soccerway_tmd_09_07_2005 + tm_data\n",
    "\n",
    "# print('len - ', len(soccerway_tmd_09_07_2005))        "
   ]
  },
  {
   "cell_type": "code",
   "execution_count": 9,
   "metadata": {},
   "outputs": [],
   "source": [
    "# soccerway_tmd_exist = soccerway_tmd_16_09_2022 + soccerway_tmd_26_03_2021 + soccerway_tmd_02_11_2013 + soccerway_tmd_09_07_2005\n",
    "# print('len - ', len(soccerway_tmd_exist))\n",
    "# soccerway_tmd_exist[0]"
   ]
  },
  {
   "cell_type": "code",
   "execution_count": 10,
   "metadata": {},
   "outputs": [],
   "source": [
    "# df_soccerway_tmd_exist = pd.DataFrame.from_dict(soccerway_tmd_exist)\n",
    "# print('shape - ', df_soccerway_tmd_exist.shape)\n",
    "# df_soccerway_tmd_exist.rename(columns={0:'f_team', 1: 'country', 2: 'data'}, inplace=True)\n",
    "# df_soccerway_tmd_exist.tail(2)"
   ]
  },
  {
   "cell_type": "code",
   "execution_count": 11,
   "metadata": {},
   "outputs": [],
   "source": [
    "# df_soccerway_tmd_exist.drop_duplicates(subset=['f_team', 'country'], inplace=True)\n",
    "# print('shape - ', df_soccerway_tmd_exist.shape)"
   ]
  },
  {
   "cell_type": "markdown",
   "metadata": {},
   "source": [
    "#### Change different languages columns names for English"
   ]
  },
  {
   "cell_type": "code",
   "execution_count": 12,
   "metadata": {},
   "outputs": [],
   "source": [
    "# data_lt_exist = df_soccerway_tmd_exist.data.to_list()\n",
    "# data_lt_exist = [{'Team Name': 'nd'} if x == 'nd' else x for x in data_lt_exist]\n",
    "\n",
    "# for val in data_lt_exist:\n",
    "#     for key in list(val.keys()):\n",
    "#         if key in ['Adresse', 'Adresa', 'Alamat']:\n",
    "#             val['Address'] = val.pop(key)\n",
    "#         elif key in ['Land', 'Ţara', 'Negara']:\n",
    "#             val['Country'] = val.pop(key)\n",
    "#         elif key in ['Stadt', 'Oraş', 'Kota']:\n",
    "#             val['City'] = val.pop(key)\n",
    "#         elif key in ['Zuschauer', 'Capacitate', 'Kapasitas']:\n",
    "#             val['Capacity'] = val.pop(key)    \n",
    "#         elif key in ['Fondat', '', 'Didirikan']:\n",
    "#             val['Founded'] = val.pop(key)  \n",
    "#         elif key in ['Telefon', 'Telepon']:\n",
    "#             val['Phone'] = val.pop(key)\n",
    "#         elif key in ['Nume', 'Nama']:\n",
    "#             val['Name'] = val.pop(key) "
   ]
  },
  {
   "cell_type": "markdown",
   "metadata": {},
   "source": [
    "#### ****************************************************************"
   ]
  },
  {
   "cell_type": "code",
   "execution_count": 13,
   "metadata": {},
   "outputs": [],
   "source": [
    "# df_team_country_data_exist = pd.DataFrame.from_records(data_lt_exist)\n",
    "# df_team_country_data_exist.tail(1)"
   ]
  },
  {
   "cell_type": "code",
   "execution_count": 14,
   "metadata": {},
   "outputs": [],
   "source": [
    "# df_soccerway_tmd_exist.reset_index(drop=True, inplace=True)\n",
    "# df_soccerway_tmd_exist.tail(1)"
   ]
  },
  {
   "cell_type": "code",
   "execution_count": 15,
   "metadata": {},
   "outputs": [],
   "source": [
    "# print('shape - ', df_team_country_data_exist.shape)\n",
    "# print('shape - ', df_soccerway_tmd_exist.shape)"
   ]
  },
  {
   "cell_type": "code",
   "execution_count": 16,
   "metadata": {},
   "outputs": [],
   "source": [
    "# df_tmd_exist = df_soccerway_tmd_exist[['f_team', 'country']].merge(df_team_country_data_exist, how ='left', left_index=True, right_index=True)\n",
    "# print('shape - ', df_soccerway_tmd_exist.shape)"
   ]
  },
  {
   "cell_type": "code",
   "execution_count": 17,
   "metadata": {},
   "outputs": [],
   "source": [
    "# df_tmd_exist.rename(columns={'Country': 'country_prsng'}, inplace=True)"
   ]
  },
  {
   "cell_type": "code",
   "execution_count": 18,
   "metadata": {},
   "outputs": [],
   "source": [
    "# df_tmd_exist.columns = df_tmd_exist.columns.str.lower()"
   ]
  },
  {
   "cell_type": "code",
   "execution_count": 19,
   "metadata": {},
   "outputs": [],
   "source": [
    "# df_tmd_exist.tail()"
   ]
  },
  {
   "cell_type": "code",
   "execution_count": 20,
   "metadata": {},
   "outputs": [],
   "source": [
    "# df_tmd_not_exist = df_soccerway_tmd_exist[df_soccerway_tmd_exist.f_team.isin(df_tmd_main_created_18_09_2022.f_team)]"
   ]
  },
  {
   "cell_type": "code",
   "execution_count": 21,
   "metadata": {},
   "outputs": [],
   "source": [
    "# df_tmd_not_exist = df_tmd_main_created_18_09_2022[~df_tmd_main_created_18_09_2022.set_index(['f_team', 'country'])\n",
    "#                                                                                  .index.isin(df_soccerway_tmd_exist.set_index(['f_team', 'country']).index)]"
   ]
  },
  {
   "cell_type": "code",
   "execution_count": 22,
   "metadata": {},
   "outputs": [],
   "source": [
    "# print('shpe - ', df_tmd_not_exist.shape)\n",
    "# df_tmd_not_exist.tail(3)"
   ]
  },
  {
   "cell_type": "code",
   "execution_count": 23,
   "metadata": {},
   "outputs": [],
   "source": [
    "# teams_countries_lt = df_tmd_not_exist[['f_team', 'country']].values.tolist()"
   ]
  },
  {
   "cell_type": "markdown",
   "metadata": {},
   "source": [
    "### Parsing teams data if don't exist:"
   ]
  },
  {
   "cell_type": "code",
   "execution_count": 24,
   "metadata": {},
   "outputs": [],
   "source": [
    "with open('pickle_files/teams_data/tmd_bets_coef_w_events/df_teams_cities_na_bets_coef_with_events', 'rb') as f:\n",
    "    df_teams_na_cities = pickle.load(f)"
   ]
  },
  {
   "cell_type": "markdown",
   "metadata": {},
   "source": [
    "#### Parsing teams ids from soccer365"
   ]
  },
  {
   "cell_type": "code",
   "execution_count": 25,
   "metadata": {},
   "outputs": [],
   "source": [
    "# teams_for_ids = df_teams_na_cities.f_team.values\n",
    "# print('shape - ', len(teams_for_ids))\n",
    "# teams_for_ids[-3:]"
   ]
  },
  {
   "cell_type": "code",
   "execution_count": 26,
   "metadata": {},
   "outputs": [],
   "source": [
    "# HtmlParser.find_teams_ids(teams_for_ids[:]) "
   ]
  },
  {
   "cell_type": "code",
   "execution_count": 27,
   "metadata": {},
   "outputs": [],
   "source": [
    "# with open('pickle_files/teams_data/tmd_26_03_2021/teams_ids_na_cities_Waltersdorf', 'rb') as f:\n",
    "#     lst_teams_ids = pickle.load(f)"
   ]
  },
  {
   "cell_type": "code",
   "execution_count": 28,
   "metadata": {},
   "outputs": [],
   "source": [
    "# print('shape - ', len(lst_teams_ids))\n",
    "# lst_teams_ids[-3:]"
   ]
  },
  {
   "cell_type": "code",
   "execution_count": 29,
   "metadata": {},
   "outputs": [],
   "source": [
    "# teams_ids = [x[1] for x in lst_teams_ids if x[1] is not None]"
   ]
  },
  {
   "cell_type": "code",
   "execution_count": 30,
   "metadata": {},
   "outputs": [],
   "source": [
    "# print('shape - ', len(teams_ids))\n",
    "# teams_ids[-3:]"
   ]
  },
  {
   "cell_type": "code",
   "execution_count": 31,
   "metadata": {},
   "outputs": [],
   "source": [
    "# lst_teams_wt_id = [x[0] for x in lst_teams_ids if x[1] is None]"
   ]
  },
  {
   "cell_type": "code",
   "execution_count": 32,
   "metadata": {},
   "outputs": [],
   "source": [
    "# print('shape - ', len(lst_teams_wt_id))\n",
    "# lst_teams_wt_id[-3:]"
   ]
  },
  {
   "cell_type": "code",
   "execution_count": 33,
   "metadata": {},
   "outputs": [],
   "source": [
    "# df_teams_ids           = pd.DataFrame(columns=['teams_ids', 'team'])\n",
    "# df_teams_ids.teams_ids = [x[1] for x in lst_teams_ids]\n",
    "# df_teams_ids.team      = [x[0] for x in lst_teams_ids]"
   ]
  },
  {
   "cell_type": "code",
   "execution_count": 34,
   "metadata": {},
   "outputs": [],
   "source": [
    "# df_teams_ids = df_teams_ids.merge(df_game_ids_na_cities.country, how='left', left_index=True, right_index=True)"
   ]
  },
  {
   "cell_type": "code",
   "execution_count": 35,
   "metadata": {},
   "outputs": [],
   "source": [
    "# df_teams_ids.head(3)"
   ]
  },
  {
   "cell_type": "markdown",
   "metadata": {},
   "source": [
    "#### Parsing teams data from soccer365"
   ]
  },
  {
   "cell_type": "code",
   "execution_count": 36,
   "metadata": {},
   "outputs": [],
   "source": [
    "# HtmlParser.find_teams_data(teams_ids[:])"
   ]
  },
  {
   "cell_type": "code",
   "execution_count": 37,
   "metadata": {},
   "outputs": [],
   "source": [
    "# tmd_26_05_2022: (teams_wiki_data_8636, teams_wiki_data_12683, teams_wiki_data_14892), \n",
    "# with open('pickle_files/teams_data/tmd_26_03_2021/teams_wiki_data_7887', 'rb') as f:\n",
    "#     wiki_data = pickle.load(f)"
   ]
  },
  {
   "cell_type": "code",
   "execution_count": 38,
   "metadata": {},
   "outputs": [],
   "source": [
    "# len(wiki_data)"
   ]
  },
  {
   "cell_type": "code",
   "execution_count": 39,
   "metadata": {},
   "outputs": [],
   "source": [
    "# wiki_data[2:3]"
   ]
  },
  {
   "cell_type": "code",
   "execution_count": 40,
   "metadata": {},
   "outputs": [],
   "source": [
    "# df_wiki_data  = pd.DataFrame(wiki_data, columns=['teams_ids', 'tm_data'])\n",
    "# df_teams_data = df_teams_ids.merge(df_wiki_data, how='left', left_on='teams_ids', right_on='teams_ids')"
   ]
  },
  {
   "cell_type": "code",
   "execution_count": 41,
   "metadata": {},
   "outputs": [],
   "source": [
    "# df_teams_data.drop_duplicates(subset=['teams_ids', 'team'], inplace=True)\n",
    "# df_teams_data.reset_index(drop=True, inplace=True)"
   ]
  },
  {
   "cell_type": "code",
   "execution_count": 42,
   "metadata": {},
   "outputs": [],
   "source": [
    "# print('shape - ', df_teams_data.shape)\n",
    "# df_teams_data.head()"
   ]
  },
  {
   "cell_type": "markdown",
   "metadata": {},
   "source": [
    "#### Data clear soccer365"
   ]
  },
  {
   "cell_type": "code",
   "execution_count": 43,
   "metadata": {},
   "outputs": [],
   "source": [
    "# data_is_a = df_teams_data.tm_data.map(lambda x: ''.join(HtmlParser.cut_part_of_string(x, 'is a', '\\.')) if re.findall('is a', str(x)) else None)"
   ]
  },
  {
   "cell_type": "code",
   "execution_count": 44,
   "metadata": {},
   "outputs": [],
   "source": [
    "# data_based_in = data_is_a.map(lambda x: x if re.findall('(based in)|(city of)|(town of)|(located in)|(club from)|(club in)|(playing in)', str(x)) else None)"
   ]
  },
  {
   "cell_type": "code",
   "execution_count": 45,
   "metadata": {},
   "outputs": [],
   "source": [
    "# data_based_in = data_based_in.map(lambda x: ''.join(HtmlParser.cut_part_of_string(x, 'city of ', '$')) if re.findall('city of', str(x)) else x)\n",
    "# data_based_in = data_based_in.map(lambda x: ''.join(HtmlParser.cut_part_of_string(x, 'town of ', '$')) if re.findall('town of', str(x)) else x)\n",
    "# data_based_in = data_based_in.map(lambda x: ''.join(HtmlParser.cut_part_of_string(x, 'located in ', '$')) if re.findall('located in', str(x)) else x)\n",
    "# data_based_in = data_based_in.map(lambda x: ''.join(HtmlParser.cut_part_of_string(x, 'club from ', '$')) if re.findall('club from', str(x)) else x)\n",
    "# data_based_in = data_based_in.map(lambda x: ''.join(HtmlParser.cut_part_of_string(x, 'club in ', '$')) if re.findall('club in', str(x)) else x)\n",
    "# data_based_in = data_based_in.map(lambda x: ''.join(HtmlParser.cut_part_of_string(x, 'playing in ', '$')) if re.findall('playing in', str(x)) else x)\n",
    "# data_based_in = data_based_in.map(lambda x: ''.join(HtmlParser.cut_part_of_string(x, 'based in ', '$')) if re.findall('based in', str(x)) else x)"
   ]
  },
  {
   "cell_type": "code",
   "execution_count": 46,
   "metadata": {},
   "outputs": [],
   "source": [
    "# data_based_in = data_based_in.map(lambda x: ''.join(HtmlParser.cut_part_of_string(x, '^', ',')) if re.findall(',', str(x)) else x)"
   ]
  },
  {
   "cell_type": "code",
   "execution_count": 47,
   "metadata": {},
   "outputs": [],
   "source": [
    "## data_based_in"
   ]
  },
  {
   "cell_type": "code",
   "execution_count": 48,
   "metadata": {},
   "outputs": [],
   "source": [
    "# df_teams_data['city'] = data_based_in.values"
   ]
  },
  {
   "cell_type": "code",
   "execution_count": 49,
   "metadata": {},
   "outputs": [],
   "source": [
    "# print('shape - ', df_teams_data.shape[0])\n",
    "# df_teams_data.head(3)"
   ]
  },
  {
   "cell_type": "code",
   "execution_count": 50,
   "metadata": {},
   "outputs": [],
   "source": [
    "# df_teams_data.to_csv('csv_files/df_teams_data_26_03_2021_sec.csv', index = None, header=True)"
   ]
  },
  {
   "cell_type": "markdown",
   "metadata": {},
   "source": [
    "### Parsing data from soccerway"
   ]
  },
  {
   "cell_type": "code",
   "execution_count": 51,
   "metadata": {},
   "outputs": [],
   "source": [
    "teams_countries_lt = df_teams_na_cities.values.tolist()"
   ]
  },
  {
   "cell_type": "code",
   "execution_count": 52,
   "metadata": {},
   "outputs": [
    {
     "data": {
      "text/plain": [
       "1972"
      ]
     },
     "execution_count": 52,
     "metadata": {},
     "output_type": "execute_result"
    }
   ],
   "source": [
    "len(teams_countries_lt) "
   ]
  },
  {
   "cell_type": "code",
   "execution_count": 53,
   "metadata": {},
   "outputs": [
    {
     "data": {
      "text/plain": [
       "[['Botafogo Paraíba', 'Brazil'],\n",
       " ['Galway United', 'Republic of Ireland'],\n",
       " ['Costa del Este', 'Panama']]"
      ]
     },
     "execution_count": 53,
     "metadata": {},
     "output_type": "execute_result"
    }
   ],
   "source": [
    "teams_countries_lt[:3]"
   ]
  },
  {
   "cell_type": "code",
   "execution_count": 54,
   "metadata": {},
   "outputs": [
    {
     "data": {
      "text/plain": [
       "1972"
      ]
     },
     "execution_count": 54,
     "metadata": {},
     "output_type": "execute_result"
    }
   ],
   "source": [
    "unique_tc = [tuple(x) for x in teams_countries_lt]\n",
    "len(set(unique_tc))"
   ]
  },
  {
   "cell_type": "code",
   "execution_count": 55,
   "metadata": {},
   "outputs": [],
   "source": [
    "# 1 Stop *****************************************************************"
   ]
  },
  {
   "cell_type": "markdown",
   "metadata": {},
   "source": [
    "##### Google can block ip address as bot's requests"
   ]
  },
  {
   "cell_type": "code",
   "execution_count": 56,
   "metadata": {},
   "outputs": [],
   "source": [
    "# HtmlParser.find_google_soccerway_team_urls(teams_countries_lt, name_saved_file='soccerway_team_urls_tmd_bets_coef_w_events')"
   ]
  },
  {
   "cell_type": "code",
   "execution_count": 57,
   "metadata": {},
   "outputs": [],
   "source": [
    "with open('pickle_files/teams_data/tmd_bets_coef_w_events/soccerway_team_urls_tmd_bets_coef_w_events_Mozyr NPZ_Belarus', 'rb') as f:\n",
    "    teams_urls_lt = pickle.load(f)  "
   ]
  },
  {
   "cell_type": "code",
   "execution_count": 58,
   "metadata": {},
   "outputs": [
    {
     "name": "stdout",
     "output_type": "stream",
     "text": [
      "len -  1972\n"
     ]
    },
    {
     "data": {
      "text/plain": [
       "[['Botafogo Paraíba',\n",
       "  'Brazil',\n",
       "  'https://int.soccerway.com/teams/brazil/botafogo-futebol-clube-joao-pessoa/6112/']]"
      ]
     },
     "execution_count": 58,
     "metadata": {},
     "output_type": "execute_result"
    }
   ],
   "source": [
    "print('len - ', len(teams_urls_lt))\n",
    "teams_urls_lt[:1]"
   ]
  },
  {
   "cell_type": "code",
   "execution_count": 59,
   "metadata": {},
   "outputs": [],
   "source": [
    "df_urls = pd.DataFrame({'team':[x[0] for x in teams_urls_lt], 'country':[x[1] for x in teams_urls_lt], 'urls':[x[2] for x in teams_urls_lt]})"
   ]
  },
  {
   "cell_type": "code",
   "execution_count": 60,
   "metadata": {},
   "outputs": [
    {
     "name": "stdout",
     "output_type": "stream",
     "text": [
      "shape -  (1972, 3)\n"
     ]
    },
    {
     "data": {
      "text/html": [
       "<div>\n",
       "<style scoped>\n",
       "    .dataframe tbody tr th:only-of-type {\n",
       "        vertical-align: middle;\n",
       "    }\n",
       "\n",
       "    .dataframe tbody tr th {\n",
       "        vertical-align: top;\n",
       "    }\n",
       "\n",
       "    .dataframe thead th {\n",
       "        text-align: right;\n",
       "    }\n",
       "</style>\n",
       "<table border=\"1\" class=\"dataframe\">\n",
       "  <thead>\n",
       "    <tr style=\"text-align: right;\">\n",
       "      <th></th>\n",
       "      <th>team</th>\n",
       "      <th>country</th>\n",
       "      <th>urls</th>\n",
       "    </tr>\n",
       "  </thead>\n",
       "  <tbody>\n",
       "    <tr>\n",
       "      <th>1970</th>\n",
       "      <td>Bobovnya</td>\n",
       "      <td>Belarus</td>\n",
       "      <td>https://int.soccerway.com/teams/belarus/bobovnya/58363/</td>\n",
       "    </tr>\n",
       "    <tr>\n",
       "      <th>1971</th>\n",
       "      <td>Mozyr NPZ</td>\n",
       "      <td>Belarus</td>\n",
       "      <td>https://int.soccerway.com/teams/belarus/mozyr-npz/53411/</td>\n",
       "    </tr>\n",
       "  </tbody>\n",
       "</table>\n",
       "</div>"
      ],
      "text/plain": [
       "           team  country  \\\n",
       "1970   Bobovnya  Belarus   \n",
       "1971  Mozyr NPZ  Belarus   \n",
       "\n",
       "                                                          urls  \n",
       "1970   https://int.soccerway.com/teams/belarus/bobovnya/58363/  \n",
       "1971  https://int.soccerway.com/teams/belarus/mozyr-npz/53411/  "
      ]
     },
     "execution_count": 60,
     "metadata": {},
     "output_type": "execute_result"
    }
   ],
   "source": [
    "print('shape - ', df_urls.shape)\n",
    "df_urls.tail(2)"
   ]
  },
  {
   "cell_type": "code",
   "execution_count": 61,
   "metadata": {},
   "outputs": [],
   "source": [
    "df_urls.urls = df_urls.urls.map(lambda x: re.sub( '[a-z]*/$', '', x))"
   ]
  },
  {
   "cell_type": "markdown",
   "metadata": {},
   "source": [
    "#### Some urls have 'ru', 'ro' soccerway path for not English language. Fix it - columns have not English names and merge separately."
   ]
  },
  {
   "cell_type": "code",
   "execution_count": 62,
   "metadata": {},
   "outputs": [],
   "source": [
    "df_urls.urls = df_urls.urls.map(lambda x: re.sub('://ru', '://int', x))\n",
    "df_urls.urls = df_urls.urls.map(lambda x: re.sub('://ro', '://int', x))"
   ]
  },
  {
   "cell_type": "code",
   "execution_count": 63,
   "metadata": {},
   "outputs": [
    {
     "data": {
      "text/plain": [
       "{None}"
      ]
     },
     "execution_count": 63,
     "metadata": {},
     "output_type": "execute_result"
    }
   ],
   "source": [
    "ru_urls_lt = df_urls.urls.map(lambda x: x if ''.join(HtmlParser.cut_part_of_string(x, 'https://', '.soccerway.com')) == 'ru' else None).to_list()\n",
    "set(ru_urls_lt)"
   ]
  },
  {
   "cell_type": "markdown",
   "metadata": {},
   "source": [
    "##### Some urls have not soccerway team path and too cut"
   ]
  },
  {
   "cell_type": "code",
   "execution_count": 64,
   "metadata": {},
   "outputs": [],
   "source": [
    "sr_not_soccerway_teams_urls = df_urls.urls.map(lambda x: x if ''.join(HtmlParser.cut_part_of_string(x, 'soccerway.com/', '/')) != 'teams' else None)"
   ]
  },
  {
   "cell_type": "code",
   "execution_count": 65,
   "metadata": {},
   "outputs": [
    {
     "data": {
      "text/plain": [
       "206                                                  https://www.sofascore.com/team/football/tj-sokol-libis/207460\n",
       "470     https://int.soccerway.com/matches/2019/05/15/nigeria/premier-league/kada-city/akwa-united-fc/2967444/head2\n",
       "620                     https://int.soccerway.com/matches/2018/09/08/slovenia/3-snl/plama-podgrad/fc-koper/2885713\n",
       "1085                                                                         https://en.wikipedia.org/wiki/Kirkley\n",
       "1188                                                 https://www.fragrantica.ua/perfumes/Byredo/Sellier-58572.html\n",
       "1250                                                        https://int.soccerway.com/players/vasilije-baki/464187\n",
       "1348                                                      https://developer.mozilla.org/ru/docs/Web/HTML/Element/A\n",
       "1455                                                                                           https://sport.ua/uk\n",
       "Name: urls, dtype: object"
      ]
     },
     "execution_count": 65,
     "metadata": {},
     "output_type": "execute_result"
    }
   ],
   "source": [
    "sr_not_soccerway_teams_urls[~sr_not_soccerway_teams_urls.isna()]"
   ]
  },
  {
   "cell_type": "code",
   "execution_count": 66,
   "metadata": {},
   "outputs": [
    {
     "data": {
      "text/plain": [
       "'[206, 470, 620, 1085, 1188, 1250, 1348, 1455]'"
      ]
     },
     "execution_count": 66,
     "metadata": {},
     "output_type": "execute_result"
    }
   ],
   "source": [
    "sr_not_soccerway_teams_inds = sr_not_soccerway_teams_urls[~sr_not_soccerway_teams_urls.isna()].index.tolist()\n",
    "str(sr_not_soccerway_teams_inds)"
   ]
  },
  {
   "cell_type": "code",
   "execution_count": 67,
   "metadata": {},
   "outputs": [],
   "source": [
    "df_not_soccerway_teams = df_urls[['team', 'country']][df_urls.index.isin(sr_not_soccerway_teams_inds)]"
   ]
  },
  {
   "cell_type": "code",
   "execution_count": 68,
   "metadata": {},
   "outputs": [
    {
     "name": "stdout",
     "output_type": "stream",
     "text": [
      "len -  8\n"
     ]
    },
    {
     "data": {
      "text/plain": [
       "[('Sokol Libis', 'Czech Republic'),\n",
       " ('Kada City', 'Nigeria'),\n",
       " ('Plama Podgrad', 'Slovenia')]"
      ]
     },
     "execution_count": 68,
     "metadata": {},
     "output_type": "execute_result"
    }
   ],
   "source": [
    "## If 'not_soccerway_teams' is empty:\n",
    "# not_soccerway_teams = []\n",
    "## Else:\n",
    "not_soccerway_teams_lt = df_not_soccerway_teams.apply(lambda x: (x[0], x[1]), axis=1).tolist()\n",
    "print('len - ', len(not_soccerway_teams_lt))\n",
    "not_soccerway_teams_lt[:3]"
   ]
  },
  {
   "cell_type": "code",
   "execution_count": 69,
   "metadata": {},
   "outputs": [
    {
     "data": {
      "text/plain": [
       "1085                            https://en.wikipedia.org/wiki/Kirkley\n",
       "1188    https://www.fragrantica.ua/perfumes/Byredo/Sellier-58572.html\n",
       "1348         https://developer.mozilla.org/ru/docs/Web/HTML/Element/A\n",
       "1455                                              https://sport.ua/uk\n",
       "1766         https://www.soccerway.com/teams/france/olympique-saumur-\n",
       "1913                    https://int.soccerway.com/teams/austria/lask-\n",
       "Name: urls, dtype: object"
      ]
     },
     "execution_count": 69,
     "metadata": {},
     "output_type": "execute_result"
    }
   ],
   "source": [
    "# Error urls haven't '/' or any number in the end of string\n",
    "error_urls_lt = df_urls.urls.map(lambda x: None if re.findall(r'(\\d|/)$', x) else x)\n",
    "error_urls_lt[~error_urls_lt.isna()]"
   ]
  },
  {
   "cell_type": "code",
   "execution_count": 70,
   "metadata": {},
   "outputs": [
    {
     "data": {
      "text/plain": [
       "'[1085, 1188, 1348, 1455, 1766, 1913]'"
      ]
     },
     "execution_count": 70,
     "metadata": {},
     "output_type": "execute_result"
    }
   ],
   "source": [
    "error_urls_lt_inds = error_urls_lt[~error_urls_lt.isna()].index.tolist()\n",
    "str(error_urls_lt_inds)"
   ]
  },
  {
   "cell_type": "code",
   "execution_count": 71,
   "metadata": {},
   "outputs": [
    {
     "data": {
      "text/html": [
       "<div>\n",
       "<style scoped>\n",
       "    .dataframe tbody tr th:only-of-type {\n",
       "        vertical-align: middle;\n",
       "    }\n",
       "\n",
       "    .dataframe tbody tr th {\n",
       "        vertical-align: top;\n",
       "    }\n",
       "\n",
       "    .dataframe thead th {\n",
       "        text-align: right;\n",
       "    }\n",
       "</style>\n",
       "<table border=\"1\" class=\"dataframe\">\n",
       "  <thead>\n",
       "    <tr style=\"text-align: right;\">\n",
       "      <th></th>\n",
       "      <th>team</th>\n",
       "      <th>country</th>\n",
       "    </tr>\n",
       "  </thead>\n",
       "  <tbody>\n",
       "    <tr>\n",
       "      <th>1085</th>\n",
       "      <td>Kirkley &amp; Pakefield</td>\n",
       "      <td>England</td>\n",
       "    </tr>\n",
       "    <tr>\n",
       "      <th>1188</th>\n",
       "      <td>Sellier &amp; Bellot Vlašim</td>\n",
       "      <td>Colombia</td>\n",
       "    </tr>\n",
       "    <tr>\n",
       "      <th>1348</th>\n",
       "      <td>A&amp;N</td>\n",
       "      <td>Republic of Kosovo</td>\n",
       "    </tr>\n",
       "  </tbody>\n",
       "</table>\n",
       "</div>"
      ],
      "text/plain": [
       "                         team             country\n",
       "1085      Kirkley & Pakefield             England\n",
       "1188  Sellier & Bellot Vlašim            Colombia\n",
       "1348                      A&N  Republic of Kosovo"
      ]
     },
     "execution_count": 71,
     "metadata": {},
     "output_type": "execute_result"
    }
   ],
   "source": [
    "df_error_urls = df_urls[['team', 'country']][df_urls.index.isin(error_urls_lt_inds)]\n",
    "df_error_urls.head(3)"
   ]
  },
  {
   "cell_type": "code",
   "execution_count": 72,
   "metadata": {},
   "outputs": [
    {
     "name": "stdout",
     "output_type": "stream",
     "text": [
      "len -  6\n"
     ]
    },
    {
     "data": {
      "text/plain": [
       "[('Kirkley & Pakefield', 'England'),\n",
       " ('Sellier & Bellot Vlašim', 'Colombia'),\n",
       " ('A&N', 'Republic of Kosovo')]"
      ]
     },
     "execution_count": 72,
     "metadata": {},
     "output_type": "execute_result"
    }
   ],
   "source": [
    "## If 'df_error_urls' is empty:\n",
    "# error_urls_teams_lt = []\n",
    "## Else:\n",
    "error_urls_teams_lt = df_error_urls.apply(lambda x: (x[0], x[1]), axis=1).tolist()\n",
    "print('len - ', len(error_urls_teams_lt))\n",
    "error_urls_teams_lt[:3]"
   ]
  },
  {
   "cell_type": "code",
   "execution_count": 73,
   "metadata": {},
   "outputs": [
    {
     "name": "stdout",
     "output_type": "stream",
     "text": [
      "len -  10\n"
     ]
    },
    {
     "data": {
      "text/plain": [
       "\"[('Kirkley & Pakefield', 'England'), ('Sport & Leisure', 'Northern Ireland'), ('A&N', 'Republic of Kosovo'), ('Semendria', 'Serbia'), ('Olympique Saumur', 'France'), ('LASK Amateure', 'Austria'), ('Sokol Libis', 'Czech Republic'), ('Sellier & Bellot Vlašim', 'Colombia'), ('Kada City', 'Nigeria'), ('Plama Podgrad', 'Slovenia')]\""
      ]
     },
     "execution_count": 73,
     "metadata": {},
     "output_type": "execute_result"
    }
   ],
   "source": [
    "error_urls_names_lt = list(set(not_soccerway_teams_lt + error_urls_teams_lt))\n",
    "print('len - ', len(error_urls_names_lt))\n",
    "str(error_urls_names_lt)"
   ]
  },
  {
   "cell_type": "code",
   "execution_count": 74,
   "metadata": {},
   "outputs": [
    {
     "name": "stdout",
     "output_type": "stream",
     "text": [
      "len -  10\n"
     ]
    },
    {
     "data": {
      "text/plain": [
       "'[1250, 1188, 1348, 1766, 620, 206, 1455, 470, 1913, 1085]'"
      ]
     },
     "execution_count": 74,
     "metadata": {},
     "output_type": "execute_result"
    }
   ],
   "source": [
    "error_urls_inds_lt = list(set(sr_not_soccerway_teams_inds + error_urls_lt_inds))\n",
    "print('len - ', len(error_urls_inds_lt))\n",
    "str(error_urls_inds_lt)"
   ]
  },
  {
   "cell_type": "code",
   "execution_count": 75,
   "metadata": {},
   "outputs": [
    {
     "name": "stdout",
     "output_type": "stream",
     "text": [
      "shape - (1962, 3)\n"
     ]
    },
    {
     "data": {
      "text/html": [
       "<div>\n",
       "<style scoped>\n",
       "    .dataframe tbody tr th:only-of-type {\n",
       "        vertical-align: middle;\n",
       "    }\n",
       "\n",
       "    .dataframe tbody tr th {\n",
       "        vertical-align: top;\n",
       "    }\n",
       "\n",
       "    .dataframe thead th {\n",
       "        text-align: right;\n",
       "    }\n",
       "</style>\n",
       "<table border=\"1\" class=\"dataframe\">\n",
       "  <thead>\n",
       "    <tr style=\"text-align: right;\">\n",
       "      <th></th>\n",
       "      <th>team</th>\n",
       "      <th>country</th>\n",
       "      <th>urls</th>\n",
       "    </tr>\n",
       "  </thead>\n",
       "  <tbody>\n",
       "    <tr>\n",
       "      <th>1969</th>\n",
       "      <td>St. Louis City II</td>\n",
       "      <td>USA</td>\n",
       "      <td>https://int.soccerway.com/teams/united-states/st-louis-city-ii/58082</td>\n",
       "    </tr>\n",
       "    <tr>\n",
       "      <th>1970</th>\n",
       "      <td>Bobovnya</td>\n",
       "      <td>Belarus</td>\n",
       "      <td>https://int.soccerway.com/teams/belarus/bobovnya/58363</td>\n",
       "    </tr>\n",
       "    <tr>\n",
       "      <th>1971</th>\n",
       "      <td>Mozyr NPZ</td>\n",
       "      <td>Belarus</td>\n",
       "      <td>https://int.soccerway.com/teams/belarus/mozyr-npz/53411</td>\n",
       "    </tr>\n",
       "  </tbody>\n",
       "</table>\n",
       "</div>"
      ],
      "text/plain": [
       "                   team  country  \\\n",
       "1969  St. Louis City II      USA   \n",
       "1970           Bobovnya  Belarus   \n",
       "1971          Mozyr NPZ  Belarus   \n",
       "\n",
       "                                                                      urls  \n",
       "1969  https://int.soccerway.com/teams/united-states/st-louis-city-ii/58082  \n",
       "1970                https://int.soccerway.com/teams/belarus/bobovnya/58363  \n",
       "1971               https://int.soccerway.com/teams/belarus/mozyr-npz/53411  "
      ]
     },
     "execution_count": 75,
     "metadata": {},
     "output_type": "execute_result"
    }
   ],
   "source": [
    "df_corr_urls = df_urls[~df_urls.index.isin(error_urls_inds_lt)].copy()\n",
    "print('shape -', df_corr_urls.shape)\n",
    "df_corr_urls.tail(3)"
   ]
  },
  {
   "cell_type": "code",
   "execution_count": 76,
   "metadata": {},
   "outputs": [
    {
     "data": {
      "text/plain": [
       "[['Botafogo Paraíba',\n",
       "  'Brazil',\n",
       "  'https://int.soccerway.com/teams/brazil/botafogo-futebol-clube-joao-pessoa/6112'],\n",
       " ['Galway United',\n",
       "  'Republic of Ireland',\n",
       "  'https://int.soccerway.com/teams/ireland-republic/galway/26455']]"
      ]
     },
     "execution_count": 76,
     "metadata": {},
     "output_type": "execute_result"
    }
   ],
   "source": [
    "teams_urls_lt = df_corr_urls.apply(lambda x: list(x), axis=1).to_list()\n",
    "teams_urls_lt[:2]"
   ]
  },
  {
   "cell_type": "code",
   "execution_count": 77,
   "metadata": {},
   "outputs": [],
   "source": [
    "# 2 Stop **********************************************************************"
   ]
  },
  {
   "cell_type": "markdown",
   "metadata": {},
   "source": [
    "#### Some urls can't exist already and in teams_data_lt data == 'nd'"
   ]
  },
  {
   "cell_type": "code",
   "execution_count": 78,
   "metadata": {},
   "outputs": [],
   "source": [
    "# HtmlParser.find_teams_data_soccerway(teams_urls_lt, name_saved_file = 'soccerway_team_data_bets_coef_w_events')"
   ]
  },
  {
   "cell_type": "code",
   "execution_count": 79,
   "metadata": {},
   "outputs": [],
   "source": [
    "with open('pickle_files/teams_data/tmd_bets_coef_w_events/soccerway_team_data_bets_coef_w_events_Mozyr NPZ_Belarus', 'rb') as f:\n",
    "    teams_data_lt = pickle.load(f)   "
   ]
  },
  {
   "cell_type": "code",
   "execution_count": 80,
   "metadata": {},
   "outputs": [
    {
     "data": {
      "text/plain": [
       "1962"
      ]
     },
     "execution_count": 80,
     "metadata": {},
     "output_type": "execute_result"
    }
   ],
   "source": [
    "len(teams_data_lt)"
   ]
  },
  {
   "cell_type": "markdown",
   "metadata": {},
   "source": [
    "##### Change as 'nd' some errors urls with lang names from parsing list"
   ]
  },
  {
   "cell_type": "code",
   "execution_count": 81,
   "metadata": {},
   "outputs": [
    {
     "data": {
      "text/plain": [
       "{509}"
      ]
     },
     "execution_count": 81,
     "metadata": {},
     "output_type": "execute_result"
    }
   ],
   "source": [
    "inds = []\n",
    "for ind, x in enumerate(teams_data_lt):\n",
    "    if type(x[2]) is dict:\n",
    "        for key in x[2].keys():\n",
    "            if re.findall(r'[^.a-z A-Z-]', key):\n",
    "                inds.append(ind)\n",
    "inds = set(inds)  \n",
    "inds"
   ]
  },
  {
   "cell_type": "code",
   "execution_count": 82,
   "metadata": {},
   "outputs": [
    {
     "name": "stdout",
     "output_type": "stream",
     "text": [
      "['Kiwi', 'Brazil', 'nd']\n"
     ]
    }
   ],
   "source": [
    "for ind in inds:\n",
    "    teams_data_lt[ind][2] = 'nd'\n",
    "    print(teams_data_lt[ind])"
   ]
  },
  {
   "cell_type": "markdown",
   "metadata": {},
   "source": [
    "##### ******************************************"
   ]
  },
  {
   "cell_type": "code",
   "execution_count": 83,
   "metadata": {},
   "outputs": [
    {
     "name": "stdout",
     "output_type": "stream",
     "text": [
      "len -  5\n"
     ]
    },
    {
     "data": {
      "text/plain": [
       "[('Maccabi Yavne', 'Israel'),\n",
       " ('Kiwi', 'Brazil'),\n",
       " ('FC Hatvan', 'Hungary'),\n",
       " ('Bethune', 'France'),\n",
       " ('1910 Oradea', 'Romania')]"
      ]
     },
     "execution_count": 83,
     "metadata": {},
     "output_type": "execute_result"
    }
   ],
   "source": [
    "nd_data_lt = [(x[0], x[1]) for x in teams_data_lt if x[2] == 'nd']\n",
    "print('len - ', len(nd_data_lt))\n",
    "nd_data_lt"
   ]
  },
  {
   "cell_type": "markdown",
   "metadata": {},
   "source": [
    "#### Concatinate error urls team-country names with urls after parsing with 'nd' data and 'ids' too."
   ]
  },
  {
   "cell_type": "code",
   "execution_count": 84,
   "metadata": {},
   "outputs": [
    {
     "name": "stdout",
     "output_type": "stream",
     "text": [
      "len -  15\n"
     ]
    },
    {
     "data": {
      "text/plain": [
       "\"[('Kiwi', 'Brazil'), ('1910 Oradea', 'Romania'), ('Sport & Leisure', 'Northern Ireland'), ('Kirkley & Pakefield', 'England'), ('A&N', 'Republic of Kosovo'), ('Semendria', 'Serbia'), ('Olympique Saumur', 'France'), ('Bethune', 'France'), ('Sokol Libis', 'Czech Republic'), ('Sellier & Bellot Vlašim', 'Colombia'), ('FC Hatvan', 'Hungary'), ('Kada City', 'Nigeria'), ('Maccabi Yavne', 'Israel'), ('LASK Amateure', 'Austria'), ('Plama Podgrad', 'Slovenia')]\""
      ]
     },
     "execution_count": 84,
     "metadata": {},
     "output_type": "execute_result"
    }
   ],
   "source": [
    "error_urls_names_nd_data_lt = list(set(error_urls_names_lt + nd_data_lt))\n",
    "print('len - ', len(error_urls_names_nd_data_lt))\n",
    "str(error_urls_names_nd_data_lt)"
   ]
  },
  {
   "cell_type": "code",
   "execution_count": 85,
   "metadata": {},
   "outputs": [],
   "source": [
    "df_nd_data_inds = df_urls[['team', 'country']].apply(lambda x: x.index if (x[0], x[1]) in nd_data_lt else None, axis=1)"
   ]
  },
  {
   "cell_type": "code",
   "execution_count": 86,
   "metadata": {},
   "outputs": [
    {
     "name": "stdout",
     "output_type": "stream",
     "text": [
      "len -  5\n"
     ]
    },
    {
     "data": {
      "text/plain": [
       "[64, 511, 866, 1060, 1475]"
      ]
     },
     "execution_count": 86,
     "metadata": {},
     "output_type": "execute_result"
    }
   ],
   "source": [
    "nd_data_df_urls_inds = df_nd_data_inds[~df_nd_data_inds.isna()].index.tolist()\n",
    "print('len - ', len(nd_data_df_urls_inds))\n",
    "nd_data_df_urls_inds"
   ]
  },
  {
   "cell_type": "code",
   "execution_count": 87,
   "metadata": {},
   "outputs": [
    {
     "data": {
      "text/html": [
       "<div>\n",
       "<style scoped>\n",
       "    .dataframe tbody tr th:only-of-type {\n",
       "        vertical-align: middle;\n",
       "    }\n",
       "\n",
       "    .dataframe tbody tr th {\n",
       "        vertical-align: top;\n",
       "    }\n",
       "\n",
       "    .dataframe thead th {\n",
       "        text-align: right;\n",
       "    }\n",
       "</style>\n",
       "<table border=\"1\" class=\"dataframe\">\n",
       "  <thead>\n",
       "    <tr style=\"text-align: right;\">\n",
       "      <th></th>\n",
       "      <th>team</th>\n",
       "      <th>country</th>\n",
       "      <th>urls</th>\n",
       "    </tr>\n",
       "  </thead>\n",
       "  <tbody>\n",
       "    <tr>\n",
       "      <th>64</th>\n",
       "      <td>Maccabi Yavne</td>\n",
       "      <td>Israel</td>\n",
       "      <td>https://int.soccerway.com/teams/israel/maccabi-yavne/3092</td>\n",
       "    </tr>\n",
       "    <tr>\n",
       "      <th>511</th>\n",
       "      <td>Kiwi</td>\n",
       "      <td>Brazil</td>\n",
       "      <td>https://br.soccerway.com/teams/samoa/kiwi-fc/17403</td>\n",
       "    </tr>\n",
       "    <tr>\n",
       "      <th>866</th>\n",
       "      <td>FC Hatvan</td>\n",
       "      <td>Hungary</td>\n",
       "      <td>https://int.soccerway.com/teams/hungary/fc-hatvan/19696</td>\n",
       "    </tr>\n",
       "    <tr>\n",
       "      <th>1060</th>\n",
       "      <td>Bethune</td>\n",
       "      <td>France</td>\n",
       "      <td>https://int.soccerway.com/teams/france/bethune/32285/</td>\n",
       "    </tr>\n",
       "    <tr>\n",
       "      <th>1475</th>\n",
       "      <td>1910 Oradea</td>\n",
       "      <td>Romania</td>\n",
       "      <td>https://ca.soccerway.com/teams/romania/1910-oradea/51352</td>\n",
       "    </tr>\n",
       "  </tbody>\n",
       "</table>\n",
       "</div>"
      ],
      "text/plain": [
       "               team  country  \\\n",
       "64    Maccabi Yavne   Israel   \n",
       "511            Kiwi   Brazil   \n",
       "866       FC Hatvan  Hungary   \n",
       "1060        Bethune   France   \n",
       "1475    1910 Oradea  Romania   \n",
       "\n",
       "                                                           urls  \n",
       "64    https://int.soccerway.com/teams/israel/maccabi-yavne/3092  \n",
       "511          https://br.soccerway.com/teams/samoa/kiwi-fc/17403  \n",
       "866     https://int.soccerway.com/teams/hungary/fc-hatvan/19696  \n",
       "1060      https://int.soccerway.com/teams/france/bethune/32285/  \n",
       "1475   https://ca.soccerway.com/teams/romania/1910-oradea/51352  "
      ]
     },
     "execution_count": 87,
     "metadata": {},
     "output_type": "execute_result"
    }
   ],
   "source": [
    "df_corr_urls[df_corr_urls.index.isin(nd_data_df_urls_inds)]"
   ]
  },
  {
   "cell_type": "code",
   "execution_count": 88,
   "metadata": {},
   "outputs": [
    {
     "name": "stdout",
     "output_type": "stream",
     "text": [
      "len -  15\n"
     ]
    },
    {
     "data": {
      "text/plain": [
       "'[64, 1250, 866, 1188, 1348, 1766, 1060, 1475, 620, 206, 1455, 470, 1913, 1085, 511]'"
      ]
     },
     "execution_count": 88,
     "metadata": {},
     "output_type": "execute_result"
    }
   ],
   "source": [
    "error_urls_nd_data_inds_lt = list(set(error_urls_inds_lt + nd_data_df_urls_inds))\n",
    "print('len - ', len(error_urls_nd_data_inds_lt))\n",
    "str(error_urls_nd_data_inds_lt)"
   ]
  },
  {
   "cell_type": "markdown",
   "metadata": {},
   "source": [
    "#### Remove 'nd' data index from 'df_corr_urls'"
   ]
  },
  {
   "cell_type": "code",
   "execution_count": 89,
   "metadata": {},
   "outputs": [
    {
     "name": "stdout",
     "output_type": "stream",
     "text": [
      "shape - (1957, 3)\n"
     ]
    },
    {
     "data": {
      "text/html": [
       "<div>\n",
       "<style scoped>\n",
       "    .dataframe tbody tr th:only-of-type {\n",
       "        vertical-align: middle;\n",
       "    }\n",
       "\n",
       "    .dataframe tbody tr th {\n",
       "        vertical-align: top;\n",
       "    }\n",
       "\n",
       "    .dataframe thead th {\n",
       "        text-align: right;\n",
       "    }\n",
       "</style>\n",
       "<table border=\"1\" class=\"dataframe\">\n",
       "  <thead>\n",
       "    <tr style=\"text-align: right;\">\n",
       "      <th></th>\n",
       "      <th>team</th>\n",
       "      <th>country</th>\n",
       "      <th>urls</th>\n",
       "    </tr>\n",
       "  </thead>\n",
       "  <tbody>\n",
       "    <tr>\n",
       "      <th>1969</th>\n",
       "      <td>St. Louis City II</td>\n",
       "      <td>USA</td>\n",
       "      <td>https://int.soccerway.com/teams/united-states/st-louis-city-ii/58082</td>\n",
       "    </tr>\n",
       "    <tr>\n",
       "      <th>1970</th>\n",
       "      <td>Bobovnya</td>\n",
       "      <td>Belarus</td>\n",
       "      <td>https://int.soccerway.com/teams/belarus/bobovnya/58363</td>\n",
       "    </tr>\n",
       "    <tr>\n",
       "      <th>1971</th>\n",
       "      <td>Mozyr NPZ</td>\n",
       "      <td>Belarus</td>\n",
       "      <td>https://int.soccerway.com/teams/belarus/mozyr-npz/53411</td>\n",
       "    </tr>\n",
       "  </tbody>\n",
       "</table>\n",
       "</div>"
      ],
      "text/plain": [
       "                   team  country  \\\n",
       "1969  St. Louis City II      USA   \n",
       "1970           Bobovnya  Belarus   \n",
       "1971          Mozyr NPZ  Belarus   \n",
       "\n",
       "                                                                      urls  \n",
       "1969  https://int.soccerway.com/teams/united-states/st-louis-city-ii/58082  \n",
       "1970                https://int.soccerway.com/teams/belarus/bobovnya/58363  \n",
       "1971               https://int.soccerway.com/teams/belarus/mozyr-npz/53411  "
      ]
     },
     "execution_count": 89,
     "metadata": {},
     "output_type": "execute_result"
    }
   ],
   "source": [
    "df_corr_urls = df_corr_urls[~df_corr_urls.index.isin(nd_data_df_urls_inds)].copy()\n",
    "print('shape -', df_corr_urls.shape)\n",
    "df_corr_urls.tail(3)"
   ]
  },
  {
   "cell_type": "markdown",
   "metadata": {},
   "source": [
    "##### Remove index with 'nd' from 'teams_data_lt'"
   ]
  },
  {
   "cell_type": "code",
   "execution_count": 90,
   "metadata": {},
   "outputs": [],
   "source": [
    "teams_with_data_lt = [x for x in teams_data_lt if (x[0], x[1]) not in nd_data_lt]"
   ]
  },
  {
   "cell_type": "code",
   "execution_count": 91,
   "metadata": {},
   "outputs": [
    {
     "data": {
      "text/plain": [
       "1957"
      ]
     },
     "execution_count": 91,
     "metadata": {},
     "output_type": "execute_result"
    }
   ],
   "source": [
    "len(teams_with_data_lt)"
   ]
  },
  {
   "cell_type": "code",
   "execution_count": 92,
   "metadata": {},
   "outputs": [
    {
     "name": "stdout",
     "output_type": "stream",
     "text": [
      "shape -  (1957, 2)\n"
     ]
    },
    {
     "data": {
      "text/html": [
       "<div>\n",
       "<style scoped>\n",
       "    .dataframe tbody tr th:only-of-type {\n",
       "        vertical-align: middle;\n",
       "    }\n",
       "\n",
       "    .dataframe tbody tr th {\n",
       "        vertical-align: top;\n",
       "    }\n",
       "\n",
       "    .dataframe thead th {\n",
       "        text-align: right;\n",
       "    }\n",
       "</style>\n",
       "<table border=\"1\" class=\"dataframe\">\n",
       "  <thead>\n",
       "    <tr style=\"text-align: right;\">\n",
       "      <th></th>\n",
       "      <th>team</th>\n",
       "      <th>country</th>\n",
       "    </tr>\n",
       "  </thead>\n",
       "  <tbody>\n",
       "    <tr>\n",
       "      <th>1955</th>\n",
       "      <td>Bobovnya</td>\n",
       "      <td>Belarus</td>\n",
       "    </tr>\n",
       "    <tr>\n",
       "      <th>1956</th>\n",
       "      <td>Mozyr NPZ</td>\n",
       "      <td>Belarus</td>\n",
       "    </tr>\n",
       "  </tbody>\n",
       "</table>\n",
       "</div>"
      ],
      "text/plain": [
       "           team  country\n",
       "1955   Bobovnya  Belarus\n",
       "1956  Mozyr NPZ  Belarus"
      ]
     },
     "execution_count": 92,
     "metadata": {},
     "output_type": "execute_result"
    }
   ],
   "source": [
    "df_team_country = pd.DataFrame({'team': [x[0] for x in teams_with_data_lt], 'country': [x[1] for x in teams_with_data_lt]})\n",
    "print('shape - ', df_team_country.shape)\n",
    "df_team_country.tail(2)"
   ]
  },
  {
   "cell_type": "code",
   "execution_count": 93,
   "metadata": {},
   "outputs": [
    {
     "data": {
      "text/plain": [
       "\"[{'Team Name': 'Botafogo FC (João Pessoa)', 'Founded': '1931', 'Address': 'Maravilha do Contorno, Bairro Cristo Redentor 58010-000 João Pessoa, Paraíba', 'Country': 'Brazil', 'Phone': '+55 (83) 231 5547', 'Name': 'Estádio José Américo de Almeida Filho', 'City': 'João Pessoa, Paraíba', 'Capacity': '25770'}]\""
      ]
     },
     "execution_count": 93,
     "metadata": {},
     "output_type": "execute_result"
    }
   ],
   "source": [
    "data_lt = [x[2] for x in teams_with_data_lt]\n",
    "str(data_lt[:1])"
   ]
  },
  {
   "cell_type": "code",
   "execution_count": 94,
   "metadata": {},
   "outputs": [
    {
     "name": "stdout",
     "output_type": "stream",
     "text": [
      "shape -  (1957, 10)\n"
     ]
    },
    {
     "data": {
      "text/html": [
       "<div>\n",
       "<style scoped>\n",
       "    .dataframe tbody tr th:only-of-type {\n",
       "        vertical-align: middle;\n",
       "    }\n",
       "\n",
       "    .dataframe tbody tr th {\n",
       "        vertical-align: top;\n",
       "    }\n",
       "\n",
       "    .dataframe thead th {\n",
       "        text-align: right;\n",
       "    }\n",
       "</style>\n",
       "<table border=\"1\" class=\"dataframe\">\n",
       "  <thead>\n",
       "    <tr style=\"text-align: right;\">\n",
       "      <th></th>\n",
       "      <th>Team Name</th>\n",
       "      <th>Founded</th>\n",
       "      <th>Address</th>\n",
       "      <th>Country</th>\n",
       "      <th>Phone</th>\n",
       "      <th>Name</th>\n",
       "      <th>City</th>\n",
       "      <th>Capacity</th>\n",
       "      <th>E-mail</th>\n",
       "      <th>Fax</th>\n",
       "    </tr>\n",
       "  </thead>\n",
       "  <tbody>\n",
       "    <tr>\n",
       "      <th>1955</th>\n",
       "      <td>FK Bobovnya</td>\n",
       "      <td>NaN</td>\n",
       "      <td>Babownya (Bobovnya)</td>\n",
       "      <td>Belarus</td>\n",
       "      <td>NaN</td>\n",
       "      <td>NaN</td>\n",
       "      <td>NaN</td>\n",
       "      <td>NaN</td>\n",
       "      <td>NaN</td>\n",
       "      <td>NaN</td>\n",
       "    </tr>\n",
       "    <tr>\n",
       "      <th>1956</th>\n",
       "      <td>FK Mozyrskiy NPZ</td>\n",
       "      <td>NaN</td>\n",
       "      <td>Mazyr (Mozyr)</td>\n",
       "      <td>Belarus</td>\n",
       "      <td>NaN</td>\n",
       "      <td>NaN</td>\n",
       "      <td>NaN</td>\n",
       "      <td>NaN</td>\n",
       "      <td>NaN</td>\n",
       "      <td>NaN</td>\n",
       "    </tr>\n",
       "  </tbody>\n",
       "</table>\n",
       "</div>"
      ],
      "text/plain": [
       "             Team Name Founded              Address  Country Phone Name City  \\\n",
       "1955       FK Bobovnya     NaN  Babownya (Bobovnya)  Belarus   NaN  NaN  NaN   \n",
       "1956  FK Mozyrskiy NPZ     NaN        Mazyr (Mozyr)  Belarus   NaN  NaN  NaN   \n",
       "\n",
       "     Capacity E-mail  Fax  \n",
       "1955      NaN    NaN  NaN  \n",
       "1956      NaN    NaN  NaN  "
      ]
     },
     "execution_count": 94,
     "metadata": {},
     "output_type": "execute_result"
    }
   ],
   "source": [
    "df_team_data = pd.DataFrame.from_dict(data_lt)\n",
    "print('shape - ', df_team_data.shape)\n",
    "df_team_data.tail(2)"
   ]
  },
  {
   "cell_type": "code",
   "execution_count": 95,
   "metadata": {},
   "outputs": [
    {
     "data": {
      "text/plain": [
       "(75, 10)"
      ]
     },
     "execution_count": 95,
     "metadata": {},
     "output_type": "execute_result"
    }
   ],
   "source": [
    "df_team_data[df_team_data['Address'].isna() & df_team_data['City'].isna()].shape"
   ]
  },
  {
   "cell_type": "code",
   "execution_count": 96,
   "metadata": {},
   "outputs": [
    {
     "data": {
      "text/html": [
       "<div>\n",
       "<style scoped>\n",
       "    .dataframe tbody tr th:only-of-type {\n",
       "        vertical-align: middle;\n",
       "    }\n",
       "\n",
       "    .dataframe tbody tr th {\n",
       "        vertical-align: top;\n",
       "    }\n",
       "\n",
       "    .dataframe thead th {\n",
       "        text-align: right;\n",
       "    }\n",
       "</style>\n",
       "<table border=\"1\" class=\"dataframe\">\n",
       "  <thead>\n",
       "    <tr style=\"text-align: right;\">\n",
       "      <th></th>\n",
       "      <th>Team Name</th>\n",
       "      <th>Founded</th>\n",
       "      <th>Address</th>\n",
       "      <th>Country</th>\n",
       "      <th>Phone</th>\n",
       "      <th>Name</th>\n",
       "      <th>City</th>\n",
       "      <th>Capacity</th>\n",
       "      <th>E-mail</th>\n",
       "      <th>Fax</th>\n",
       "    </tr>\n",
       "  </thead>\n",
       "  <tbody>\n",
       "    <tr>\n",
       "      <th>23</th>\n",
       "      <td>IF Lödde</td>\n",
       "      <td>NaN</td>\n",
       "      <td>NaN</td>\n",
       "      <td>Sweden</td>\n",
       "      <td>NaN</td>\n",
       "      <td>NaN</td>\n",
       "      <td>NaN</td>\n",
       "      <td>NaN</td>\n",
       "      <td>NaN</td>\n",
       "      <td>NaN</td>\n",
       "    </tr>\n",
       "    <tr>\n",
       "      <th>26</th>\n",
       "      <td>FC Loon-Plage</td>\n",
       "      <td>NaN</td>\n",
       "      <td>NaN</td>\n",
       "      <td>France</td>\n",
       "      <td>NaN</td>\n",
       "      <td>NaN</td>\n",
       "      <td>NaN</td>\n",
       "      <td>NaN</td>\n",
       "      <td>NaN</td>\n",
       "      <td>NaN</td>\n",
       "    </tr>\n",
       "    <tr>\n",
       "      <th>86</th>\n",
       "      <td>Zalaszentgróti VFC</td>\n",
       "      <td>NaN</td>\n",
       "      <td>NaN</td>\n",
       "      <td>Hungary</td>\n",
       "      <td>NaN</td>\n",
       "      <td>NaN</td>\n",
       "      <td>NaN</td>\n",
       "      <td>NaN</td>\n",
       "      <td>NaN</td>\n",
       "      <td>NaN</td>\n",
       "    </tr>\n",
       "    <tr>\n",
       "      <th>204</th>\n",
       "      <td>Dvůr Králové</td>\n",
       "      <td>NaN</td>\n",
       "      <td>NaN</td>\n",
       "      <td>Czech Republic</td>\n",
       "      <td>NaN</td>\n",
       "      <td>NaN</td>\n",
       "      <td>NaN</td>\n",
       "      <td>NaN</td>\n",
       "      <td>NaN</td>\n",
       "      <td>NaN</td>\n",
       "    </tr>\n",
       "    <tr>\n",
       "      <th>283</th>\n",
       "      <td>La Fleche</td>\n",
       "      <td>NaN</td>\n",
       "      <td>NaN</td>\n",
       "      <td>France</td>\n",
       "      <td>NaN</td>\n",
       "      <td>NaN</td>\n",
       "      <td>NaN</td>\n",
       "      <td>NaN</td>\n",
       "      <td>NaN</td>\n",
       "      <td>NaN</td>\n",
       "    </tr>\n",
       "  </tbody>\n",
       "</table>\n",
       "</div>"
      ],
      "text/plain": [
       "              Team Name Founded Address         Country Phone Name City  \\\n",
       "23             IF Lödde     NaN     NaN          Sweden   NaN  NaN  NaN   \n",
       "26        FC Loon-Plage     NaN     NaN          France   NaN  NaN  NaN   \n",
       "86   Zalaszentgróti VFC     NaN     NaN         Hungary   NaN  NaN  NaN   \n",
       "204        Dvůr Králové     NaN     NaN  Czech Republic   NaN  NaN  NaN   \n",
       "283           La Fleche     NaN     NaN          France   NaN  NaN  NaN   \n",
       "\n",
       "    Capacity E-mail  Fax  \n",
       "23       NaN    NaN  NaN  \n",
       "26       NaN    NaN  NaN  \n",
       "86       NaN    NaN  NaN  \n",
       "204      NaN    NaN  NaN  \n",
       "283      NaN    NaN  NaN  "
      ]
     },
     "execution_count": 96,
     "metadata": {},
     "output_type": "execute_result"
    }
   ],
   "source": [
    "df_team_data[df_team_data['Address'].isna() & df_team_data['City'].isna()].head()"
   ]
  },
  {
   "cell_type": "code",
   "execution_count": 97,
   "metadata": {},
   "outputs": [],
   "source": [
    "# 3 Stop ************************************************************************************"
   ]
  },
  {
   "cell_type": "markdown",
   "metadata": {},
   "source": [
    "##### Check equal row numbers in 'df_team_country' 'df_team_data'"
   ]
  },
  {
   "cell_type": "code",
   "execution_count": 98,
   "metadata": {},
   "outputs": [
    {
     "name": "stdout",
     "output_type": "stream",
     "text": [
      "shape - df_team_country -  (1957, 2)\n",
      "shape - df_team_data    -  (1957, 10)\n"
     ]
    }
   ],
   "source": [
    "print('shape - df_team_country - ', df_team_country.shape)\n",
    "print('shape - df_team_data    - ', df_team_data.shape)"
   ]
  },
  {
   "cell_type": "code",
   "execution_count": 99,
   "metadata": {},
   "outputs": [
    {
     "name": "stdout",
     "output_type": "stream",
     "text": [
      "shape -  (1957, 12)\n"
     ]
    },
    {
     "data": {
      "text/html": [
       "<div>\n",
       "<style scoped>\n",
       "    .dataframe tbody tr th:only-of-type {\n",
       "        vertical-align: middle;\n",
       "    }\n",
       "\n",
       "    .dataframe tbody tr th {\n",
       "        vertical-align: top;\n",
       "    }\n",
       "\n",
       "    .dataframe thead th {\n",
       "        text-align: right;\n",
       "    }\n",
       "</style>\n",
       "<table border=\"1\" class=\"dataframe\">\n",
       "  <thead>\n",
       "    <tr style=\"text-align: right;\">\n",
       "      <th></th>\n",
       "      <th>team</th>\n",
       "      <th>country</th>\n",
       "      <th>Team Name</th>\n",
       "      <th>Founded</th>\n",
       "      <th>Address</th>\n",
       "      <th>Country</th>\n",
       "      <th>Phone</th>\n",
       "      <th>Name</th>\n",
       "      <th>City</th>\n",
       "      <th>Capacity</th>\n",
       "      <th>E-mail</th>\n",
       "      <th>Fax</th>\n",
       "    </tr>\n",
       "  </thead>\n",
       "  <tbody>\n",
       "    <tr>\n",
       "      <th>1955</th>\n",
       "      <td>Bobovnya</td>\n",
       "      <td>Belarus</td>\n",
       "      <td>FK Bobovnya</td>\n",
       "      <td>NaN</td>\n",
       "      <td>Babownya (Bobovnya)</td>\n",
       "      <td>Belarus</td>\n",
       "      <td>NaN</td>\n",
       "      <td>NaN</td>\n",
       "      <td>NaN</td>\n",
       "      <td>NaN</td>\n",
       "      <td>NaN</td>\n",
       "      <td>NaN</td>\n",
       "    </tr>\n",
       "    <tr>\n",
       "      <th>1956</th>\n",
       "      <td>Mozyr NPZ</td>\n",
       "      <td>Belarus</td>\n",
       "      <td>FK Mozyrskiy NPZ</td>\n",
       "      <td>NaN</td>\n",
       "      <td>Mazyr (Mozyr)</td>\n",
       "      <td>Belarus</td>\n",
       "      <td>NaN</td>\n",
       "      <td>NaN</td>\n",
       "      <td>NaN</td>\n",
       "      <td>NaN</td>\n",
       "      <td>NaN</td>\n",
       "      <td>NaN</td>\n",
       "    </tr>\n",
       "  </tbody>\n",
       "</table>\n",
       "</div>"
      ],
      "text/plain": [
       "           team  country         Team Name Founded              Address  \\\n",
       "1955   Bobovnya  Belarus       FK Bobovnya     NaN  Babownya (Bobovnya)   \n",
       "1956  Mozyr NPZ  Belarus  FK Mozyrskiy NPZ     NaN        Mazyr (Mozyr)   \n",
       "\n",
       "      Country Phone Name City Capacity E-mail  Fax  \n",
       "1955  Belarus   NaN  NaN  NaN      NaN    NaN  NaN  \n",
       "1956  Belarus   NaN  NaN  NaN      NaN    NaN  NaN  "
      ]
     },
     "execution_count": 99,
     "metadata": {},
     "output_type": "execute_result"
    }
   ],
   "source": [
    "df_team_country_data = pd.merge(df_team_country, df_team_data, how ='left', left_index=True, right_index=True)\n",
    "print('shape - ', df_team_country_data.shape)\n",
    "df_team_country_data.tail(2)"
   ]
  },
  {
   "cell_type": "code",
   "execution_count": 100,
   "metadata": {},
   "outputs": [],
   "source": [
    "df_team_country_data.rename(columns={'Country': 'country_prsng'}, inplace=True)"
   ]
  },
  {
   "cell_type": "code",
   "execution_count": 101,
   "metadata": {},
   "outputs": [],
   "source": [
    "df_team_country_data.columns = df_team_country_data.columns.str.lower()"
   ]
  },
  {
   "cell_type": "code",
   "execution_count": 102,
   "metadata": {},
   "outputs": [],
   "source": [
    "df_team_country_data.city = df_team_country_data[['address', 'city']].apply(lambda x: x[0] if pd.isna(x[1]) else x[1], axis=1)"
   ]
  },
  {
   "cell_type": "code",
   "execution_count": 103,
   "metadata": {},
   "outputs": [],
   "source": [
    "df_team_country_data.city = df_team_country_data.city.map(lambda x: re.sub(',.*', '', str(x)))"
   ]
  },
  {
   "cell_type": "code",
   "execution_count": 104,
   "metadata": {},
   "outputs": [],
   "source": [
    "df_team_country_data.city = df_team_country_data.city.map(lambda x: re.sub(' \\(.*', '', str(x)))"
   ]
  },
  {
   "cell_type": "code",
   "execution_count": 105,
   "metadata": {},
   "outputs": [],
   "source": [
    "df_team_country_data.city = df_team_country_data.city.map(lambda x: re.sub(' \\/.*', '', str(x)))"
   ]
  },
  {
   "cell_type": "code",
   "execution_count": 106,
   "metadata": {},
   "outputs": [],
   "source": [
    "df_team_country_data.city = df_team_country_data.city.map(lambda x: re.sub('^.*\\d* ', '', str(x)))"
   ]
  },
  {
   "cell_type": "code",
   "execution_count": 107,
   "metadata": {},
   "outputs": [],
   "source": [
    "df_team_country_data.city = df_team_country_data.city.map(lambda x: re.sub(' - .*', '', x))"
   ]
  },
  {
   "cell_type": "code",
   "execution_count": 108,
   "metadata": {},
   "outputs": [],
   "source": [
    "# 4 Stop **************************************************************"
   ]
  },
  {
   "cell_type": "markdown",
   "metadata": {
    "tags": []
   },
   "source": [
    "#### Visual check cities names. City with error names need to change it for 'nan', because it parsed in geocoder with central point of country coordinates."
   ]
  },
  {
   "cell_type": "code",
   "execution_count": 109,
   "metadata": {},
   "outputs": [],
   "source": [
    "for var in [113, 250, 399, 414, 450, 651, 730, 765, 831, 1009, 1140, 1185, 1310, 1543]:\n",
    "    df_team_country_data.city.loc[var] = 'nan'"
   ]
  },
  {
   "cell_type": "code",
   "execution_count": 110,
   "metadata": {},
   "outputs": [],
   "source": [
    "# df_team_country_data.city"
   ]
  },
  {
   "cell_type": "code",
   "execution_count": 111,
   "metadata": {},
   "outputs": [
    {
     "data": {
      "text/plain": [
       "(88, 12)"
      ]
     },
     "execution_count": 111,
     "metadata": {},
     "output_type": "execute_result"
    }
   ],
   "source": [
    "# Check 'nan' count and cities name\n",
    "df_team_country_data[df_team_country_data.city == 'nan'].shape"
   ]
  },
  {
   "cell_type": "code",
   "execution_count": 112,
   "metadata": {},
   "outputs": [
    {
     "data": {
      "text/html": [
       "<div>\n",
       "<style scoped>\n",
       "    .dataframe tbody tr th:only-of-type {\n",
       "        vertical-align: middle;\n",
       "    }\n",
       "\n",
       "    .dataframe tbody tr th {\n",
       "        vertical-align: top;\n",
       "    }\n",
       "\n",
       "    .dataframe thead th {\n",
       "        text-align: right;\n",
       "    }\n",
       "</style>\n",
       "<table border=\"1\" class=\"dataframe\">\n",
       "  <thead>\n",
       "    <tr style=\"text-align: right;\">\n",
       "      <th></th>\n",
       "      <th>team</th>\n",
       "      <th>country</th>\n",
       "      <th>team name</th>\n",
       "      <th>founded</th>\n",
       "      <th>address</th>\n",
       "      <th>country_prsng</th>\n",
       "      <th>phone</th>\n",
       "      <th>name</th>\n",
       "      <th>city</th>\n",
       "      <th>capacity</th>\n",
       "      <th>e-mail</th>\n",
       "      <th>fax</th>\n",
       "    </tr>\n",
       "  </thead>\n",
       "  <tbody>\n",
       "    <tr>\n",
       "      <th>1918</th>\n",
       "      <td>Manabita</td>\n",
       "      <td>Ecuador</td>\n",
       "      <td>Club Deportivo Unión Manabita</td>\n",
       "      <td>NaN</td>\n",
       "      <td>NaN</td>\n",
       "      <td>Ecuador</td>\n",
       "      <td>NaN</td>\n",
       "      <td>NaN</td>\n",
       "      <td>nan</td>\n",
       "      <td>NaN</td>\n",
       "      <td>NaN</td>\n",
       "      <td>NaN</td>\n",
       "    </tr>\n",
       "    <tr>\n",
       "      <th>1924</th>\n",
       "      <td>Puebla U20</td>\n",
       "      <td>Mexico</td>\n",
       "      <td>Puebla Under 20</td>\n",
       "      <td>NaN</td>\n",
       "      <td>NaN</td>\n",
       "      <td>Mexico</td>\n",
       "      <td>NaN</td>\n",
       "      <td>NaN</td>\n",
       "      <td>nan</td>\n",
       "      <td>NaN</td>\n",
       "      <td>NaN</td>\n",
       "      <td>NaN</td>\n",
       "    </tr>\n",
       "    <tr>\n",
       "      <th>1931</th>\n",
       "      <td>Tuv Buganuud</td>\n",
       "      <td>Mongolia</td>\n",
       "      <td>Tuv buganuud FC</td>\n",
       "      <td>NaN</td>\n",
       "      <td>NaN</td>\n",
       "      <td>Mongolia</td>\n",
       "      <td>NaN</td>\n",
       "      <td>NaN</td>\n",
       "      <td>nan</td>\n",
       "      <td>NaN</td>\n",
       "      <td>NaN</td>\n",
       "      <td>NaN</td>\n",
       "    </tr>\n",
       "    <tr>\n",
       "      <th>1935</th>\n",
       "      <td>Atletico Samborondon</td>\n",
       "      <td>Ecuador</td>\n",
       "      <td>Club Atlético Samborondón</td>\n",
       "      <td>NaN</td>\n",
       "      <td>NaN</td>\n",
       "      <td>Ecuador</td>\n",
       "      <td>NaN</td>\n",
       "      <td>NaN</td>\n",
       "      <td>nan</td>\n",
       "      <td>NaN</td>\n",
       "      <td>NaN</td>\n",
       "      <td>NaN</td>\n",
       "    </tr>\n",
       "    <tr>\n",
       "      <th>1948</th>\n",
       "      <td>Peñarol</td>\n",
       "      <td>Ecuador</td>\n",
       "      <td>Club Deportivo Peñarol</td>\n",
       "      <td>NaN</td>\n",
       "      <td>NaN</td>\n",
       "      <td>Ecuador</td>\n",
       "      <td>NaN</td>\n",
       "      <td>NaN</td>\n",
       "      <td>nan</td>\n",
       "      <td>NaN</td>\n",
       "      <td>NaN</td>\n",
       "      <td>NaN</td>\n",
       "    </tr>\n",
       "  </tbody>\n",
       "</table>\n",
       "</div>"
      ],
      "text/plain": [
       "                      team   country                      team name founded  \\\n",
       "1918              Manabita   Ecuador  Club Deportivo Unión Manabita     NaN   \n",
       "1924            Puebla U20    Mexico                Puebla Under 20     NaN   \n",
       "1931          Tuv Buganuud  Mongolia                Tuv buganuud FC     NaN   \n",
       "1935  Atletico Samborondon   Ecuador      Club Atlético Samborondón     NaN   \n",
       "1948               Peñarol   Ecuador         Club Deportivo Peñarol     NaN   \n",
       "\n",
       "     address country_prsng phone name city capacity e-mail  fax  \n",
       "1918     NaN       Ecuador   NaN  NaN  nan      NaN    NaN  NaN  \n",
       "1924     NaN        Mexico   NaN  NaN  nan      NaN    NaN  NaN  \n",
       "1931     NaN      Mongolia   NaN  NaN  nan      NaN    NaN  NaN  \n",
       "1935     NaN       Ecuador   NaN  NaN  nan      NaN    NaN  NaN  \n",
       "1948     NaN       Ecuador   NaN  NaN  nan      NaN    NaN  NaN  "
      ]
     },
     "execution_count": 112,
     "metadata": {},
     "output_type": "execute_result"
    }
   ],
   "source": [
    "df_team_country_data[df_team_country_data.city == 'nan'].tail()"
   ]
  },
  {
   "cell_type": "markdown",
   "metadata": {},
   "source": [
    "#### Check the 'City' in names after cut and remove these index from df_team_country_data for manual fix if exist:"
   ]
  },
  {
   "cell_type": "code",
   "execution_count": 113,
   "metadata": {},
   "outputs": [
    {
     "data": {
      "text/html": [
       "<div>\n",
       "<style scoped>\n",
       "    .dataframe tbody tr th:only-of-type {\n",
       "        vertical-align: middle;\n",
       "    }\n",
       "\n",
       "    .dataframe tbody tr th {\n",
       "        vertical-align: top;\n",
       "    }\n",
       "\n",
       "    .dataframe thead th {\n",
       "        text-align: right;\n",
       "    }\n",
       "</style>\n",
       "<table border=\"1\" class=\"dataframe\">\n",
       "  <thead>\n",
       "    <tr style=\"text-align: right;\">\n",
       "      <th></th>\n",
       "      <th>team</th>\n",
       "      <th>country</th>\n",
       "      <th>team name</th>\n",
       "      <th>founded</th>\n",
       "      <th>address</th>\n",
       "      <th>country_prsng</th>\n",
       "      <th>phone</th>\n",
       "      <th>name</th>\n",
       "      <th>city</th>\n",
       "      <th>capacity</th>\n",
       "      <th>e-mail</th>\n",
       "      <th>fax</th>\n",
       "    </tr>\n",
       "  </thead>\n",
       "  <tbody>\n",
       "    <tr>\n",
       "      <th>74</th>\n",
       "      <td>United City</td>\n",
       "      <td>Philippines</td>\n",
       "      <td>United City FC</td>\n",
       "      <td>NaN</td>\n",
       "      <td>Bacolod</td>\n",
       "      <td>Philippines</td>\n",
       "      <td>NaN</td>\n",
       "      <td>Panaad Stadium</td>\n",
       "      <td>City</td>\n",
       "      <td>15500</td>\n",
       "      <td>NaN</td>\n",
       "      <td>NaN</td>\n",
       "    </tr>\n",
       "    <tr>\n",
       "      <th>599</th>\n",
       "      <td>Davao Aguilas</td>\n",
       "      <td>Philippines</td>\n",
       "      <td>Davao Aguilas FC</td>\n",
       "      <td>NaN</td>\n",
       "      <td>Davao City</td>\n",
       "      <td>Philippines</td>\n",
       "      <td>NaN</td>\n",
       "      <td>Davao del Norte Sports and Tourism Complex</td>\n",
       "      <td>City</td>\n",
       "      <td>3000</td>\n",
       "      <td>NaN</td>\n",
       "      <td>NaN</td>\n",
       "    </tr>\n",
       "  </tbody>\n",
       "</table>\n",
       "</div>"
      ],
      "text/plain": [
       "              team      country         team name founded     address  \\\n",
       "74     United City  Philippines    United City FC     NaN     Bacolod   \n",
       "599  Davao Aguilas  Philippines  Davao Aguilas FC     NaN  Davao City   \n",
       "\n",
       "    country_prsng phone                                        name  city  \\\n",
       "74    Philippines   NaN                              Panaad Stadium  City   \n",
       "599   Philippines   NaN  Davao del Norte Sports and Tourism Complex  City   \n",
       "\n",
       "    capacity e-mail  fax  \n",
       "74     15500    NaN  NaN  \n",
       "599     3000    NaN  NaN  "
      ]
     },
     "execution_count": 113,
     "metadata": {},
     "output_type": "execute_result"
    }
   ],
   "source": [
    "df_team_country_data[df_team_country_data.city == 'City'].head(2)"
   ]
  },
  {
   "cell_type": "code",
   "execution_count": 114,
   "metadata": {},
   "outputs": [
    {
     "name": "stdout",
     "output_type": "stream",
     "text": [
      "shape -  4\n"
     ]
    },
    {
     "data": {
      "text/html": [
       "<div>\n",
       "<style scoped>\n",
       "    .dataframe tbody tr th:only-of-type {\n",
       "        vertical-align: middle;\n",
       "    }\n",
       "\n",
       "    .dataframe tbody tr th {\n",
       "        vertical-align: top;\n",
       "    }\n",
       "\n",
       "    .dataframe thead th {\n",
       "        text-align: right;\n",
       "    }\n",
       "</style>\n",
       "<table border=\"1\" class=\"dataframe\">\n",
       "  <thead>\n",
       "    <tr style=\"text-align: right;\">\n",
       "      <th></th>\n",
       "      <th>team</th>\n",
       "      <th>country</th>\n",
       "      <th>team name</th>\n",
       "      <th>founded</th>\n",
       "      <th>address</th>\n",
       "      <th>country_prsng</th>\n",
       "      <th>phone</th>\n",
       "      <th>name</th>\n",
       "      <th>city</th>\n",
       "      <th>capacity</th>\n",
       "      <th>e-mail</th>\n",
       "      <th>fax</th>\n",
       "    </tr>\n",
       "  </thead>\n",
       "  <tbody>\n",
       "    <tr>\n",
       "      <th>975</th>\n",
       "      <td>Rayo OKC</td>\n",
       "      <td>USA</td>\n",
       "      <td>Rayo OKC</td>\n",
       "      <td>2015</td>\n",
       "      <td>300 North Walker Avenue 73102 Oklahoma City</td>\n",
       "      <td>USA</td>\n",
       "      <td>+1 (405) 232 7296</td>\n",
       "      <td>Miller Stadium</td>\n",
       "      <td>City</td>\n",
       "      <td>7000</td>\n",
       "      <td>NaN</td>\n",
       "      <td>+1 (405) 232 7223</td>\n",
       "    </tr>\n",
       "    <tr>\n",
       "      <th>1511</th>\n",
       "      <td>Bay Cities</td>\n",
       "      <td>USA</td>\n",
       "      <td>Bay Cities FC</td>\n",
       "      <td>NaN</td>\n",
       "      <td>Redwood City, California</td>\n",
       "      <td>USA</td>\n",
       "      <td>NaN</td>\n",
       "      <td>NaN</td>\n",
       "      <td>City</td>\n",
       "      <td>NaN</td>\n",
       "      <td>NaN</td>\n",
       "      <td>NaN</td>\n",
       "    </tr>\n",
       "  </tbody>\n",
       "</table>\n",
       "</div>"
      ],
      "text/plain": [
       "            team country      team name founded  \\\n",
       "975     Rayo OKC     USA       Rayo OKC    2015   \n",
       "1511  Bay Cities     USA  Bay Cities FC     NaN   \n",
       "\n",
       "                                          address country_prsng  \\\n",
       "975   300 North Walker Avenue 73102 Oklahoma City           USA   \n",
       "1511                     Redwood City, California           USA   \n",
       "\n",
       "                  phone            name  city capacity e-mail  \\\n",
       "975   +1 (405) 232 7296  Miller Stadium  City     7000    NaN   \n",
       "1511                NaN             NaN  City      NaN    NaN   \n",
       "\n",
       "                    fax  \n",
       "975   +1 (405) 232 7223  \n",
       "1511                NaN  "
      ]
     },
     "execution_count": 114,
     "metadata": {},
     "output_type": "execute_result"
    }
   ],
   "source": [
    "df_incorrect_city_names_cut_inds = df_team_country_data[df_team_country_data.city == 'City']\n",
    "print('shape - ', len(df_incorrect_city_names_cut_inds))\n",
    "df_incorrect_city_names_cut_inds.tail(2)"
   ]
  },
  {
   "cell_type": "code",
   "execution_count": 115,
   "metadata": {},
   "outputs": [
    {
     "name": "stdout",
     "output_type": "stream",
     "text": [
      "shape -  1953\n"
     ]
    }
   ],
   "source": [
    "df_team_country_data = df_team_country_data[~df_team_country_data.index.isin(df_incorrect_city_names_cut_inds.index)].copy()\n",
    "print('shape - ', df_team_country_data.shape[0])"
   ]
  },
  {
   "cell_type": "markdown",
   "metadata": {},
   "source": [
    "##### Some right urls don't parsing data because haven't it."
   ]
  },
  {
   "cell_type": "code",
   "execution_count": 116,
   "metadata": {},
   "outputs": [],
   "source": [
    "# teams_with_data_lt[559]"
   ]
  },
  {
   "cell_type": "code",
   "execution_count": 117,
   "metadata": {},
   "outputs": [],
   "source": [
    "# [(ind, x) for ind, x in enumerate(teams_urls_lt) if x[0] == 'Bush Bucks']"
   ]
  },
  {
   "cell_type": "markdown",
   "metadata": {},
   "source": [
    "#### Create 'df_wt_cities' and remove rows from 'df_team_country_data' with 'nan' cities"
   ]
  },
  {
   "cell_type": "code",
   "execution_count": 118,
   "metadata": {},
   "outputs": [
    {
     "name": "stdout",
     "output_type": "stream",
     "text": [
      "shape -  (88, 12)\n"
     ]
    },
    {
     "data": {
      "text/html": [
       "<div>\n",
       "<style scoped>\n",
       "    .dataframe tbody tr th:only-of-type {\n",
       "        vertical-align: middle;\n",
       "    }\n",
       "\n",
       "    .dataframe tbody tr th {\n",
       "        vertical-align: top;\n",
       "    }\n",
       "\n",
       "    .dataframe thead th {\n",
       "        text-align: right;\n",
       "    }\n",
       "</style>\n",
       "<table border=\"1\" class=\"dataframe\">\n",
       "  <thead>\n",
       "    <tr style=\"text-align: right;\">\n",
       "      <th></th>\n",
       "      <th>team</th>\n",
       "      <th>country</th>\n",
       "      <th>team name</th>\n",
       "      <th>founded</th>\n",
       "      <th>address</th>\n",
       "      <th>country_prsng</th>\n",
       "      <th>phone</th>\n",
       "      <th>name</th>\n",
       "      <th>city</th>\n",
       "      <th>capacity</th>\n",
       "      <th>e-mail</th>\n",
       "      <th>fax</th>\n",
       "    </tr>\n",
       "  </thead>\n",
       "  <tbody>\n",
       "    <tr>\n",
       "      <th>85</th>\n",
       "      <td>Tuv Buganuud</td>\n",
       "      <td>Mongolia</td>\n",
       "      <td>Tuv buganuud FC</td>\n",
       "      <td>NaN</td>\n",
       "      <td>NaN</td>\n",
       "      <td>Mongolia</td>\n",
       "      <td>NaN</td>\n",
       "      <td>NaN</td>\n",
       "      <td>nan</td>\n",
       "      <td>NaN</td>\n",
       "      <td>NaN</td>\n",
       "      <td>NaN</td>\n",
       "    </tr>\n",
       "    <tr>\n",
       "      <th>86</th>\n",
       "      <td>Atletico Samborondon</td>\n",
       "      <td>Ecuador</td>\n",
       "      <td>Club Atlético Samborondón</td>\n",
       "      <td>NaN</td>\n",
       "      <td>NaN</td>\n",
       "      <td>Ecuador</td>\n",
       "      <td>NaN</td>\n",
       "      <td>NaN</td>\n",
       "      <td>nan</td>\n",
       "      <td>NaN</td>\n",
       "      <td>NaN</td>\n",
       "      <td>NaN</td>\n",
       "    </tr>\n",
       "    <tr>\n",
       "      <th>87</th>\n",
       "      <td>Peñarol</td>\n",
       "      <td>Ecuador</td>\n",
       "      <td>Club Deportivo Peñarol</td>\n",
       "      <td>NaN</td>\n",
       "      <td>NaN</td>\n",
       "      <td>Ecuador</td>\n",
       "      <td>NaN</td>\n",
       "      <td>NaN</td>\n",
       "      <td>nan</td>\n",
       "      <td>NaN</td>\n",
       "      <td>NaN</td>\n",
       "      <td>NaN</td>\n",
       "    </tr>\n",
       "  </tbody>\n",
       "</table>\n",
       "</div>"
      ],
      "text/plain": [
       "                    team   country                  team name founded address  \\\n",
       "85          Tuv Buganuud  Mongolia            Tuv buganuud FC     NaN     NaN   \n",
       "86  Atletico Samborondon   Ecuador  Club Atlético Samborondón     NaN     NaN   \n",
       "87               Peñarol   Ecuador     Club Deportivo Peñarol     NaN     NaN   \n",
       "\n",
       "   country_prsng phone name city capacity e-mail  fax  \n",
       "85      Mongolia   NaN  NaN  nan      NaN    NaN  NaN  \n",
       "86       Ecuador   NaN  NaN  nan      NaN    NaN  NaN  \n",
       "87       Ecuador   NaN  NaN  nan      NaN    NaN  NaN  "
      ]
     },
     "execution_count": 118,
     "metadata": {},
     "output_type": "execute_result"
    }
   ],
   "source": [
    "df_wt_cities = df_team_country_data[df_team_country_data.city == 'nan'].copy().reset_index(drop=True)\n",
    "print('shape - ', df_wt_cities.shape)\n",
    "df_wt_cities.tail(3)"
   ]
  },
  {
   "cell_type": "code",
   "execution_count": 119,
   "metadata": {},
   "outputs": [
    {
     "name": "stdout",
     "output_type": "stream",
     "text": [
      "shape -  (1953, 12)\n",
      "shape -  (1865, 12)\n"
     ]
    },
    {
     "data": {
      "text/html": [
       "<div>\n",
       "<style scoped>\n",
       "    .dataframe tbody tr th:only-of-type {\n",
       "        vertical-align: middle;\n",
       "    }\n",
       "\n",
       "    .dataframe tbody tr th {\n",
       "        vertical-align: top;\n",
       "    }\n",
       "\n",
       "    .dataframe thead th {\n",
       "        text-align: right;\n",
       "    }\n",
       "</style>\n",
       "<table border=\"1\" class=\"dataframe\">\n",
       "  <thead>\n",
       "    <tr style=\"text-align: right;\">\n",
       "      <th></th>\n",
       "      <th>team</th>\n",
       "      <th>country</th>\n",
       "      <th>team name</th>\n",
       "      <th>founded</th>\n",
       "      <th>address</th>\n",
       "      <th>country_prsng</th>\n",
       "      <th>phone</th>\n",
       "      <th>name</th>\n",
       "      <th>city</th>\n",
       "      <th>capacity</th>\n",
       "      <th>e-mail</th>\n",
       "      <th>fax</th>\n",
       "    </tr>\n",
       "  </thead>\n",
       "  <tbody>\n",
       "    <tr>\n",
       "      <th>1862</th>\n",
       "      <td>St. Louis City II</td>\n",
       "      <td>USA</td>\n",
       "      <td>St. Louis City SC II</td>\n",
       "      <td>NaN</td>\n",
       "      <td>St. Louis, Missouri</td>\n",
       "      <td>USA</td>\n",
       "      <td>NaN</td>\n",
       "      <td>NaN</td>\n",
       "      <td>Louis</td>\n",
       "      <td>NaN</td>\n",
       "      <td>NaN</td>\n",
       "      <td>NaN</td>\n",
       "    </tr>\n",
       "    <tr>\n",
       "      <th>1863</th>\n",
       "      <td>Bobovnya</td>\n",
       "      <td>Belarus</td>\n",
       "      <td>FK Bobovnya</td>\n",
       "      <td>NaN</td>\n",
       "      <td>Babownya (Bobovnya)</td>\n",
       "      <td>Belarus</td>\n",
       "      <td>NaN</td>\n",
       "      <td>NaN</td>\n",
       "      <td>Babownya</td>\n",
       "      <td>NaN</td>\n",
       "      <td>NaN</td>\n",
       "      <td>NaN</td>\n",
       "    </tr>\n",
       "    <tr>\n",
       "      <th>1864</th>\n",
       "      <td>Mozyr NPZ</td>\n",
       "      <td>Belarus</td>\n",
       "      <td>FK Mozyrskiy NPZ</td>\n",
       "      <td>NaN</td>\n",
       "      <td>Mazyr (Mozyr)</td>\n",
       "      <td>Belarus</td>\n",
       "      <td>NaN</td>\n",
       "      <td>NaN</td>\n",
       "      <td>Mazyr</td>\n",
       "      <td>NaN</td>\n",
       "      <td>NaN</td>\n",
       "      <td>NaN</td>\n",
       "    </tr>\n",
       "  </tbody>\n",
       "</table>\n",
       "</div>"
      ],
      "text/plain": [
       "                   team  country             team name founded  \\\n",
       "1862  St. Louis City II      USA  St. Louis City SC II     NaN   \n",
       "1863           Bobovnya  Belarus           FK Bobovnya     NaN   \n",
       "1864          Mozyr NPZ  Belarus      FK Mozyrskiy NPZ     NaN   \n",
       "\n",
       "                  address country_prsng phone name      city capacity e-mail  \\\n",
       "1862  St. Louis, Missouri           USA   NaN  NaN     Louis      NaN    NaN   \n",
       "1863  Babownya (Bobovnya)       Belarus   NaN  NaN  Babownya      NaN    NaN   \n",
       "1864        Mazyr (Mozyr)       Belarus   NaN  NaN     Mazyr      NaN    NaN   \n",
       "\n",
       "      fax  \n",
       "1862  NaN  \n",
       "1863  NaN  \n",
       "1864  NaN  "
      ]
     },
     "execution_count": 119,
     "metadata": {},
     "output_type": "execute_result"
    }
   ],
   "source": [
    "print('shape - ', df_team_country_data.shape)\n",
    "df_team_country_data = df_team_country_data[df_team_country_data.city != 'nan'].copy().reset_index(drop=True)\n",
    "print('shape - ', df_team_country_data.shape)\n",
    "df_team_country_data.tail(3)"
   ]
  },
  {
   "cell_type": "markdown",
   "metadata": {},
   "source": [
    "#### Create 'df_team_wt_data' from unite 'error_urls_names_nd_data_lt' and 'city', 'country' values from 'df_wt_cities'."
   ]
  },
  {
   "cell_type": "code",
   "execution_count": 120,
   "metadata": {},
   "outputs": [
    {
     "name": "stdout",
     "output_type": "stream",
     "text": [
      "len -  88\n"
     ]
    },
    {
     "data": {
      "text/plain": [
       "\"[('Lodde', 'Sweden'), ('Loon Plage', 'France'), ('Zalaszentgrot', 'Hungary'), ('Rijnvogels', 'Netherlands'), ('Dvur Kralove', 'Czech Republic'), ('Stroitel Kopyl', 'Belarus'), ('La Flèche', 'France'), ('AB Chelghoum Laïd', 'Algeria'), ('TOP Oss Amateurs', 'Netherlands'), ('Pesnica', 'Slovenia')]\""
      ]
     },
     "execution_count": 120,
     "metadata": {},
     "output_type": "execute_result"
    }
   ],
   "source": [
    "wt_cities_teams_lt = df_wt_cities[['team', 'country']].apply(lambda x: (x[0], x[1]), axis=1).tolist()\n",
    "print('len - ', len(wt_cities_teams_lt))\n",
    "str(wt_cities_teams_lt[:10])"
   ]
  },
  {
   "cell_type": "code",
   "execution_count": 121,
   "metadata": {},
   "outputs": [
    {
     "name": "stdout",
     "output_type": "stream",
     "text": [
      "len -  103\n"
     ]
    },
    {
     "data": {
      "text/plain": [
       "\"[('Lodde', 'Sweden'), ('Loon Plage', 'France'), ('Zalaszentgrot', 'Hungary'), ('Rijnvogels', 'Netherlands'), ('Dvur Kralove', 'Czech Republic'), ('Stroitel Kopyl', 'Belarus'), ('La Flèche', 'France'), ('AB Chelghoum Laïd', 'Algeria'), ('TOP Oss Amateurs', 'Netherlands'), ('Pesnica', 'Slovenia')]\""
      ]
     },
     "execution_count": 121,
     "metadata": {},
     "output_type": "execute_result"
    }
   ],
   "source": [
    "# If error_urls_names_nd_data_lt is empty:\n",
    "# for_manual_corr_lt =  wt_cities_teams_lt\n",
    "# Else:\n",
    "for_manual_corr_lt =  wt_cities_teams_lt + error_urls_names_nd_data_lt\n",
    "print('len - ', len(for_manual_corr_lt))\n",
    "str(for_manual_corr_lt[:10])"
   ]
  },
  {
   "cell_type": "code",
   "execution_count": 122,
   "metadata": {},
   "outputs": [
    {
     "name": "stdout",
     "output_type": "stream",
     "text": [
      "shape -  (103, 3)\n"
     ]
    },
    {
     "data": {
      "text/html": [
       "<div>\n",
       "<style scoped>\n",
       "    .dataframe tbody tr th:only-of-type {\n",
       "        vertical-align: middle;\n",
       "    }\n",
       "\n",
       "    .dataframe tbody tr th {\n",
       "        vertical-align: top;\n",
       "    }\n",
       "\n",
       "    .dataframe thead th {\n",
       "        text-align: right;\n",
       "    }\n",
       "</style>\n",
       "<table border=\"1\" class=\"dataframe\">\n",
       "  <thead>\n",
       "    <tr style=\"text-align: right;\">\n",
       "      <th></th>\n",
       "      <th>team</th>\n",
       "      <th>country</th>\n",
       "      <th>city</th>\n",
       "    </tr>\n",
       "  </thead>\n",
       "  <tbody>\n",
       "    <tr>\n",
       "      <th>101</th>\n",
       "      <td>LASK Amateure</td>\n",
       "      <td>Austria</td>\n",
       "      <td>None</td>\n",
       "    </tr>\n",
       "    <tr>\n",
       "      <th>102</th>\n",
       "      <td>Plama Podgrad</td>\n",
       "      <td>Slovenia</td>\n",
       "      <td>None</td>\n",
       "    </tr>\n",
       "  </tbody>\n",
       "</table>\n",
       "</div>"
      ],
      "text/plain": [
       "              team   country  city\n",
       "101  LASK Amateure   Austria  None\n",
       "102  Plama Podgrad  Slovenia  None"
      ]
     },
     "execution_count": 122,
     "metadata": {},
     "output_type": "execute_result"
    }
   ],
   "source": [
    "df_team_wt_data         = pd.DataFrame({'team': [x[0] for x in for_manual_corr_lt], 'country': [x[1] for x in for_manual_corr_lt]})\n",
    "df_team_wt_data['city'] = None\n",
    "print('shape - ', df_team_wt_data.shape)\n",
    "df_team_wt_data.tail(2)"
   ]
  },
  {
   "cell_type": "code",
   "execution_count": 123,
   "metadata": {},
   "outputs": [
    {
     "name": "stdout",
     "output_type": "stream",
     "text": [
      "shape -  (107, 12)\n"
     ]
    },
    {
     "data": {
      "text/html": [
       "<div>\n",
       "<style scoped>\n",
       "    .dataframe tbody tr th:only-of-type {\n",
       "        vertical-align: middle;\n",
       "    }\n",
       "\n",
       "    .dataframe tbody tr th {\n",
       "        vertical-align: top;\n",
       "    }\n",
       "\n",
       "    .dataframe thead th {\n",
       "        text-align: right;\n",
       "    }\n",
       "</style>\n",
       "<table border=\"1\" class=\"dataframe\">\n",
       "  <thead>\n",
       "    <tr style=\"text-align: right;\">\n",
       "      <th></th>\n",
       "      <th>team</th>\n",
       "      <th>country</th>\n",
       "      <th>city</th>\n",
       "      <th>team name</th>\n",
       "      <th>founded</th>\n",
       "      <th>address</th>\n",
       "      <th>country_prsng</th>\n",
       "      <th>phone</th>\n",
       "      <th>name</th>\n",
       "      <th>capacity</th>\n",
       "      <th>e-mail</th>\n",
       "      <th>fax</th>\n",
       "    </tr>\n",
       "  </thead>\n",
       "  <tbody>\n",
       "    <tr>\n",
       "      <th>975</th>\n",
       "      <td>Rayo OKC</td>\n",
       "      <td>USA</td>\n",
       "      <td>City</td>\n",
       "      <td>Rayo OKC</td>\n",
       "      <td>2015</td>\n",
       "      <td>300 North Walker Avenue 73102 Oklahoma City</td>\n",
       "      <td>USA</td>\n",
       "      <td>+1 (405) 232 7296</td>\n",
       "      <td>Miller Stadium</td>\n",
       "      <td>7000</td>\n",
       "      <td>NaN</td>\n",
       "      <td>+1 (405) 232 7223</td>\n",
       "    </tr>\n",
       "    <tr>\n",
       "      <th>1511</th>\n",
       "      <td>Bay Cities</td>\n",
       "      <td>USA</td>\n",
       "      <td>City</td>\n",
       "      <td>Bay Cities FC</td>\n",
       "      <td>NaN</td>\n",
       "      <td>Redwood City, California</td>\n",
       "      <td>USA</td>\n",
       "      <td>NaN</td>\n",
       "      <td>NaN</td>\n",
       "      <td>NaN</td>\n",
       "      <td>NaN</td>\n",
       "      <td>NaN</td>\n",
       "    </tr>\n",
       "  </tbody>\n",
       "</table>\n",
       "</div>"
      ],
      "text/plain": [
       "            team country  city      team name founded  \\\n",
       "975     Rayo OKC     USA  City       Rayo OKC    2015   \n",
       "1511  Bay Cities     USA  City  Bay Cities FC     NaN   \n",
       "\n",
       "                                          address country_prsng  \\\n",
       "975   300 North Walker Avenue 73102 Oklahoma City           USA   \n",
       "1511                     Redwood City, California           USA   \n",
       "\n",
       "                  phone            name capacity e-mail                fax  \n",
       "975   +1 (405) 232 7296  Miller Stadium     7000    NaN  +1 (405) 232 7223  \n",
       "1511                NaN             NaN      NaN    NaN                NaN  "
      ]
     },
     "execution_count": 123,
     "metadata": {},
     "output_type": "execute_result"
    }
   ],
   "source": [
    "# If exist df_incorrect_city_names_cut_inds:\n",
    "merge_columns = [x for x in df_incorrect_city_names_cut_inds.columns if x not in df_team_wt_data.columns]\n",
    "df_team_wt_data[merge_columns] = np.nan\n",
    "df_team_wt_data = pd.concat([df_team_wt_data, df_incorrect_city_names_cut_inds])\n",
    "print('shape - ', df_team_wt_data.shape)\n",
    "df_team_wt_data.tail(2)"
   ]
  },
  {
   "cell_type": "markdown",
   "metadata": {},
   "source": [
    "#### Compare df_tmd_not_exist.shape[0] == df_team_country_data.shape[0] + df_team_wt_data.shape[0]"
   ]
  },
  {
   "cell_type": "code",
   "execution_count": 124,
   "metadata": {},
   "outputs": [
    {
     "name": "stdout",
     "output_type": "stream",
     "text": [
      "shape -  1972\n"
     ]
    },
    {
     "data": {
      "text/plain": [
       "1972"
      ]
     },
     "execution_count": 124,
     "metadata": {},
     "output_type": "execute_result"
    }
   ],
   "source": [
    "print('shape - ', df_teams_na_cities.shape[0])\n",
    "df_team_country_data.shape[0] + df_team_wt_data.shape[0]"
   ]
  },
  {
   "cell_type": "code",
   "execution_count": 125,
   "metadata": {},
   "outputs": [],
   "source": [
    "# 5 Stop **********************************************************************************************************************************************"
   ]
  },
  {
   "cell_type": "markdown",
   "metadata": {},
   "source": [
    "#### Manual fixing teams and countries names in parsing data and add some data"
   ]
  },
  {
   "cell_type": "code",
   "execution_count": 126,
   "metadata": {},
   "outputs": [],
   "source": [
    "# df_team_wt_data.to_csv('csv_files/df_team_wt_data_bets_coef_w_events.csv', index = None, header=True)"
   ]
  },
  {
   "cell_type": "code",
   "execution_count": 127,
   "metadata": {},
   "outputs": [],
   "source": [
    "df_after_manual_corr = pd.read_csv('csv_files/bets_games/df_team_wt_data_bets_coef_w_events.csv', dtype=str) "
   ]
  },
  {
   "cell_type": "code",
   "execution_count": 128,
   "metadata": {},
   "outputs": [
    {
     "name": "stdout",
     "output_type": "stream",
     "text": [
      "shape -  (107, 12)\n"
     ]
    },
    {
     "data": {
      "text/html": [
       "<div>\n",
       "<style scoped>\n",
       "    .dataframe tbody tr th:only-of-type {\n",
       "        vertical-align: middle;\n",
       "    }\n",
       "\n",
       "    .dataframe tbody tr th {\n",
       "        vertical-align: top;\n",
       "    }\n",
       "\n",
       "    .dataframe thead th {\n",
       "        text-align: right;\n",
       "    }\n",
       "</style>\n",
       "<table border=\"1\" class=\"dataframe\">\n",
       "  <thead>\n",
       "    <tr style=\"text-align: right;\">\n",
       "      <th></th>\n",
       "      <th>team</th>\n",
       "      <th>country</th>\n",
       "      <th>city</th>\n",
       "      <th>team name</th>\n",
       "      <th>founded</th>\n",
       "      <th>address</th>\n",
       "      <th>country_prsng</th>\n",
       "      <th>phone</th>\n",
       "      <th>name</th>\n",
       "      <th>capacity</th>\n",
       "      <th>e-mail</th>\n",
       "      <th>fax</th>\n",
       "    </tr>\n",
       "  </thead>\n",
       "  <tbody>\n",
       "    <tr>\n",
       "      <th>105</th>\n",
       "      <td>Rayo OKC</td>\n",
       "      <td>USA</td>\n",
       "      <td>Oklahoma City</td>\n",
       "      <td>Rayo OKC</td>\n",
       "      <td>2015</td>\n",
       "      <td>300 North Walker Avenue 73102 Oklahoma City</td>\n",
       "      <td>USA</td>\n",
       "      <td>+1 (405) 232 7296</td>\n",
       "      <td>Miller Stadium</td>\n",
       "      <td>7000</td>\n",
       "      <td>NaN</td>\n",
       "      <td>+1 (405) 232 7223</td>\n",
       "    </tr>\n",
       "    <tr>\n",
       "      <th>106</th>\n",
       "      <td>Bay Cities</td>\n",
       "      <td>USA</td>\n",
       "      <td>Redwood City</td>\n",
       "      <td>Bay Cities FC</td>\n",
       "      <td>2021</td>\n",
       "      <td>Redwood City, California</td>\n",
       "      <td>USA</td>\n",
       "      <td>NaN</td>\n",
       "      <td>NaN</td>\n",
       "      <td>3500</td>\n",
       "      <td>NaN</td>\n",
       "      <td>NaN</td>\n",
       "    </tr>\n",
       "  </tbody>\n",
       "</table>\n",
       "</div>"
      ],
      "text/plain": [
       "           team country           city      team name founded  \\\n",
       "105    Rayo OKC     USA  Oklahoma City       Rayo OKC    2015   \n",
       "106  Bay Cities     USA   Redwood City  Bay Cities FC    2021   \n",
       "\n",
       "                                         address country_prsng  \\\n",
       "105  300 North Walker Avenue 73102 Oklahoma City           USA   \n",
       "106                     Redwood City, California           USA   \n",
       "\n",
       "                 phone            name capacity e-mail                fax  \n",
       "105  +1 (405) 232 7296  Miller Stadium     7000    NaN  +1 (405) 232 7223  \n",
       "106                NaN             NaN     3500    NaN                NaN  "
      ]
     },
     "execution_count": 128,
     "metadata": {},
     "output_type": "execute_result"
    }
   ],
   "source": [
    "print('shape - ', df_after_manual_corr.shape)\n",
    "df_after_manual_corr.tail(2)"
   ]
  },
  {
   "cell_type": "code",
   "execution_count": 129,
   "metadata": {},
   "outputs": [
    {
     "data": {
      "text/plain": [
       "'[]'"
      ]
     },
     "execution_count": 129,
     "metadata": {},
     "output_type": "execute_result"
    }
   ],
   "source": [
    "added_cols = [x for x in df_team_country_data.columns if x not in df_after_manual_corr.columns]\n",
    "str(added_cols)"
   ]
  },
  {
   "cell_type": "code",
   "execution_count": 130,
   "metadata": {},
   "outputs": [
    {
     "data": {
      "text/plain": [
       "\"Index(['team', 'country', 'team name', 'founded', 'address', 'country_prsng',\\n       'phone', 'name', 'city', 'capacity', 'e-mail', 'fax'],\\n      dtype='object')\""
      ]
     },
     "execution_count": 130,
     "metadata": {},
     "output_type": "execute_result"
    }
   ],
   "source": [
    "str(df_team_country_data.columns)"
   ]
  },
  {
   "cell_type": "code",
   "execution_count": 131,
   "metadata": {},
   "outputs": [],
   "source": [
    "# If don't exist df_incorrect_city_names_cut_inds:\n",
    "# df_after_manual_corr[[added_cols]] = None"
   ]
  },
  {
   "cell_type": "code",
   "execution_count": 132,
   "metadata": {},
   "outputs": [
    {
     "data": {
      "text/html": [
       "<div>\n",
       "<style scoped>\n",
       "    .dataframe tbody tr th:only-of-type {\n",
       "        vertical-align: middle;\n",
       "    }\n",
       "\n",
       "    .dataframe tbody tr th {\n",
       "        vertical-align: top;\n",
       "    }\n",
       "\n",
       "    .dataframe thead th {\n",
       "        text-align: right;\n",
       "    }\n",
       "</style>\n",
       "<table border=\"1\" class=\"dataframe\">\n",
       "  <thead>\n",
       "    <tr style=\"text-align: right;\">\n",
       "      <th></th>\n",
       "      <th>team</th>\n",
       "      <th>country</th>\n",
       "      <th>team name</th>\n",
       "      <th>founded</th>\n",
       "      <th>address</th>\n",
       "      <th>country_prsng</th>\n",
       "      <th>phone</th>\n",
       "      <th>name</th>\n",
       "      <th>city</th>\n",
       "      <th>capacity</th>\n",
       "      <th>e-mail</th>\n",
       "      <th>fax</th>\n",
       "    </tr>\n",
       "  </thead>\n",
       "  <tbody>\n",
       "  </tbody>\n",
       "</table>\n",
       "</div>"
      ],
      "text/plain": [
       "Empty DataFrame\n",
       "Columns: [team, country, team name, founded, address, country_prsng, phone, name, city, capacity, e-mail, fax]\n",
       "Index: []"
      ]
     },
     "execution_count": 132,
     "metadata": {},
     "output_type": "execute_result"
    }
   ],
   "source": [
    "df_team_country_data[df_team_country_data.duplicated(subset=['team', 'country'])]"
   ]
  },
  {
   "cell_type": "code",
   "execution_count": 133,
   "metadata": {},
   "outputs": [
    {
     "data": {
      "text/html": [
       "<div>\n",
       "<style scoped>\n",
       "    .dataframe tbody tr th:only-of-type {\n",
       "        vertical-align: middle;\n",
       "    }\n",
       "\n",
       "    .dataframe tbody tr th {\n",
       "        vertical-align: top;\n",
       "    }\n",
       "\n",
       "    .dataframe thead th {\n",
       "        text-align: right;\n",
       "    }\n",
       "</style>\n",
       "<table border=\"1\" class=\"dataframe\">\n",
       "  <thead>\n",
       "    <tr style=\"text-align: right;\">\n",
       "      <th></th>\n",
       "      <th>team</th>\n",
       "      <th>country</th>\n",
       "      <th>city</th>\n",
       "      <th>team name</th>\n",
       "      <th>founded</th>\n",
       "      <th>address</th>\n",
       "      <th>country_prsng</th>\n",
       "      <th>phone</th>\n",
       "      <th>name</th>\n",
       "      <th>capacity</th>\n",
       "      <th>e-mail</th>\n",
       "      <th>fax</th>\n",
       "    </tr>\n",
       "  </thead>\n",
       "  <tbody>\n",
       "  </tbody>\n",
       "</table>\n",
       "</div>"
      ],
      "text/plain": [
       "Empty DataFrame\n",
       "Columns: [team, country, city, team name, founded, address, country_prsng, phone, name, capacity, e-mail, fax]\n",
       "Index: []"
      ]
     },
     "execution_count": 133,
     "metadata": {},
     "output_type": "execute_result"
    }
   ],
   "source": [
    "df_after_manual_corr[df_after_manual_corr.duplicated(subset=['team', 'country'])]"
   ]
  },
  {
   "cell_type": "code",
   "execution_count": 134,
   "metadata": {},
   "outputs": [],
   "source": [
    "df_team_country_data_full = pd.concat([df_team_country_data, df_after_manual_corr], axis=0, ignore_index=True)"
   ]
  },
  {
   "cell_type": "code",
   "execution_count": 135,
   "metadata": {},
   "outputs": [
    {
     "data": {
      "text/html": [
       "<div>\n",
       "<style scoped>\n",
       "    .dataframe tbody tr th:only-of-type {\n",
       "        vertical-align: middle;\n",
       "    }\n",
       "\n",
       "    .dataframe tbody tr th {\n",
       "        vertical-align: top;\n",
       "    }\n",
       "\n",
       "    .dataframe thead th {\n",
       "        text-align: right;\n",
       "    }\n",
       "</style>\n",
       "<table border=\"1\" class=\"dataframe\">\n",
       "  <thead>\n",
       "    <tr style=\"text-align: right;\">\n",
       "      <th></th>\n",
       "      <th>team</th>\n",
       "      <th>country</th>\n",
       "      <th>team name</th>\n",
       "      <th>founded</th>\n",
       "      <th>address</th>\n",
       "      <th>country_prsng</th>\n",
       "      <th>phone</th>\n",
       "      <th>name</th>\n",
       "      <th>city</th>\n",
       "      <th>capacity</th>\n",
       "      <th>e-mail</th>\n",
       "      <th>fax</th>\n",
       "    </tr>\n",
       "  </thead>\n",
       "  <tbody>\n",
       "    <tr>\n",
       "      <th>1970</th>\n",
       "      <td>Rayo OKC</td>\n",
       "      <td>USA</td>\n",
       "      <td>Rayo OKC</td>\n",
       "      <td>2015</td>\n",
       "      <td>300 North Walker Avenue 73102 Oklahoma City</td>\n",
       "      <td>USA</td>\n",
       "      <td>+1 (405) 232 7296</td>\n",
       "      <td>Miller Stadium</td>\n",
       "      <td>Oklahoma City</td>\n",
       "      <td>7000</td>\n",
       "      <td>NaN</td>\n",
       "      <td>+1 (405) 232 7223</td>\n",
       "    </tr>\n",
       "    <tr>\n",
       "      <th>1971</th>\n",
       "      <td>Bay Cities</td>\n",
       "      <td>USA</td>\n",
       "      <td>Bay Cities FC</td>\n",
       "      <td>2021</td>\n",
       "      <td>Redwood City, California</td>\n",
       "      <td>USA</td>\n",
       "      <td>NaN</td>\n",
       "      <td>NaN</td>\n",
       "      <td>Redwood City</td>\n",
       "      <td>3500</td>\n",
       "      <td>NaN</td>\n",
       "      <td>NaN</td>\n",
       "    </tr>\n",
       "  </tbody>\n",
       "</table>\n",
       "</div>"
      ],
      "text/plain": [
       "            team country      team name founded  \\\n",
       "1970    Rayo OKC     USA       Rayo OKC    2015   \n",
       "1971  Bay Cities     USA  Bay Cities FC    2021   \n",
       "\n",
       "                                          address country_prsng  \\\n",
       "1970  300 North Walker Avenue 73102 Oklahoma City           USA   \n",
       "1971                     Redwood City, California           USA   \n",
       "\n",
       "                  phone            name           city capacity e-mail  \\\n",
       "1970  +1 (405) 232 7296  Miller Stadium  Oklahoma City     7000    NaN   \n",
       "1971                NaN             NaN   Redwood City     3500    NaN   \n",
       "\n",
       "                    fax  \n",
       "1970  +1 (405) 232 7223  \n",
       "1971                NaN  "
      ]
     },
     "execution_count": 135,
     "metadata": {},
     "output_type": "execute_result"
    }
   ],
   "source": [
    "df_team_country_data_full.tail(2)"
   ]
  },
  {
   "cell_type": "code",
   "execution_count": 136,
   "metadata": {},
   "outputs": [
    {
     "name": "stdout",
     "output_type": "stream",
     "text": [
      "shape - df_teams_na_cities        -  (1972, 2)\n",
      "shape - df_team_country_data_full -  (1972, 12)\n"
     ]
    },
    {
     "data": {
      "text/html": [
       "<div>\n",
       "<style scoped>\n",
       "    .dataframe tbody tr th:only-of-type {\n",
       "        vertical-align: middle;\n",
       "    }\n",
       "\n",
       "    .dataframe tbody tr th {\n",
       "        vertical-align: top;\n",
       "    }\n",
       "\n",
       "    .dataframe thead th {\n",
       "        text-align: right;\n",
       "    }\n",
       "</style>\n",
       "<table border=\"1\" class=\"dataframe\">\n",
       "  <thead>\n",
       "    <tr style=\"text-align: right;\">\n",
       "      <th></th>\n",
       "      <th>team</th>\n",
       "      <th>country</th>\n",
       "      <th>team name</th>\n",
       "      <th>founded</th>\n",
       "      <th>address</th>\n",
       "      <th>country_prsng</th>\n",
       "      <th>phone</th>\n",
       "      <th>name</th>\n",
       "      <th>city</th>\n",
       "      <th>capacity</th>\n",
       "      <th>e-mail</th>\n",
       "      <th>fax</th>\n",
       "    </tr>\n",
       "  </thead>\n",
       "  <tbody>\n",
       "    <tr>\n",
       "      <th>1970</th>\n",
       "      <td>Rayo OKC</td>\n",
       "      <td>USA</td>\n",
       "      <td>Rayo OKC</td>\n",
       "      <td>2015</td>\n",
       "      <td>300 North Walker Avenue 73102 Oklahoma City</td>\n",
       "      <td>USA</td>\n",
       "      <td>+1 (405) 232 7296</td>\n",
       "      <td>Miller Stadium</td>\n",
       "      <td>Oklahoma City</td>\n",
       "      <td>7000</td>\n",
       "      <td>NaN</td>\n",
       "      <td>+1 (405) 232 7223</td>\n",
       "    </tr>\n",
       "    <tr>\n",
       "      <th>1971</th>\n",
       "      <td>Bay Cities</td>\n",
       "      <td>USA</td>\n",
       "      <td>Bay Cities FC</td>\n",
       "      <td>2021</td>\n",
       "      <td>Redwood City, California</td>\n",
       "      <td>USA</td>\n",
       "      <td>NaN</td>\n",
       "      <td>NaN</td>\n",
       "      <td>Redwood City</td>\n",
       "      <td>3500</td>\n",
       "      <td>NaN</td>\n",
       "      <td>NaN</td>\n",
       "    </tr>\n",
       "  </tbody>\n",
       "</table>\n",
       "</div>"
      ],
      "text/plain": [
       "            team country      team name founded  \\\n",
       "1970    Rayo OKC     USA       Rayo OKC    2015   \n",
       "1971  Bay Cities     USA  Bay Cities FC    2021   \n",
       "\n",
       "                                          address country_prsng  \\\n",
       "1970  300 North Walker Avenue 73102 Oklahoma City           USA   \n",
       "1971                     Redwood City, California           USA   \n",
       "\n",
       "                  phone            name           city capacity e-mail  \\\n",
       "1970  +1 (405) 232 7296  Miller Stadium  Oklahoma City     7000    NaN   \n",
       "1971                NaN             NaN   Redwood City     3500    NaN   \n",
       "\n",
       "                    fax  \n",
       "1970  +1 (405) 232 7223  \n",
       "1971                NaN  "
      ]
     },
     "execution_count": 136,
     "metadata": {},
     "output_type": "execute_result"
    }
   ],
   "source": [
    "# df_team_country_data_full.shape[0] == df_teams_na_cities.shape[0]\n",
    "print('shape - df_teams_na_cities        - ', df_teams_na_cities.shape) #df_teams_na_cities.shape)\n",
    "print('shape - df_team_country_data_full - ', df_team_country_data_full.shape)\n",
    "df_team_country_data_full.tail(2)"
   ]
  },
  {
   "cell_type": "code",
   "execution_count": 137,
   "metadata": {},
   "outputs": [
    {
     "data": {
      "text/html": [
       "<div>\n",
       "<style scoped>\n",
       "    .dataframe tbody tr th:only-of-type {\n",
       "        vertical-align: middle;\n",
       "    }\n",
       "\n",
       "    .dataframe tbody tr th {\n",
       "        vertical-align: top;\n",
       "    }\n",
       "\n",
       "    .dataframe thead th {\n",
       "        text-align: right;\n",
       "    }\n",
       "</style>\n",
       "<table border=\"1\" class=\"dataframe\">\n",
       "  <thead>\n",
       "    <tr style=\"text-align: right;\">\n",
       "      <th></th>\n",
       "      <th>team</th>\n",
       "      <th>country</th>\n",
       "      <th>team name</th>\n",
       "      <th>founded</th>\n",
       "      <th>address</th>\n",
       "      <th>country_prsng</th>\n",
       "      <th>phone</th>\n",
       "      <th>name</th>\n",
       "      <th>city</th>\n",
       "      <th>capacity</th>\n",
       "      <th>e-mail</th>\n",
       "      <th>fax</th>\n",
       "    </tr>\n",
       "  </thead>\n",
       "  <tbody>\n",
       "    <tr>\n",
       "      <th>1912</th>\n",
       "      <td>Brda Dobrovo</td>\n",
       "      <td>Slovenia</td>\n",
       "      <td>NaN</td>\n",
       "      <td>1973</td>\n",
       "      <td>NaN</td>\n",
       "      <td>NaN</td>\n",
       "      <td>NaN</td>\n",
       "      <td>NaN</td>\n",
       "      <td>Dobrovo</td>\n",
       "      <td>600</td>\n",
       "      <td>NaN</td>\n",
       "      <td>NaN</td>\n",
       "    </tr>\n",
       "  </tbody>\n",
       "</table>\n",
       "</div>"
      ],
      "text/plain": [
       "              team   country team name founded address country_prsng phone  \\\n",
       "1912  Brda Dobrovo  Slovenia       NaN    1973     NaN           NaN   NaN   \n",
       "\n",
       "     name     city capacity e-mail  fax  \n",
       "1912  NaN  Dobrovo      600    NaN  NaN  "
      ]
     },
     "execution_count": 137,
     "metadata": {},
     "output_type": "execute_result"
    }
   ],
   "source": [
    "df_team_country_data_full[df_team_country_data_full.duplicated(subset=['team', 'country'])]"
   ]
  },
  {
   "cell_type": "code",
   "execution_count": 138,
   "metadata": {},
   "outputs": [
    {
     "name": "stdout",
     "output_type": "stream",
     "text": [
      "shape -  (1971, 12)\n"
     ]
    },
    {
     "data": {
      "text/html": [
       "<div>\n",
       "<style scoped>\n",
       "    .dataframe tbody tr th:only-of-type {\n",
       "        vertical-align: middle;\n",
       "    }\n",
       "\n",
       "    .dataframe tbody tr th {\n",
       "        vertical-align: top;\n",
       "    }\n",
       "\n",
       "    .dataframe thead th {\n",
       "        text-align: right;\n",
       "    }\n",
       "</style>\n",
       "<table border=\"1\" class=\"dataframe\">\n",
       "  <thead>\n",
       "    <tr style=\"text-align: right;\">\n",
       "      <th></th>\n",
       "      <th>team</th>\n",
       "      <th>country</th>\n",
       "      <th>team name</th>\n",
       "      <th>founded</th>\n",
       "      <th>address</th>\n",
       "      <th>country_prsng</th>\n",
       "      <th>phone</th>\n",
       "      <th>name</th>\n",
       "      <th>city</th>\n",
       "      <th>capacity</th>\n",
       "      <th>e-mail</th>\n",
       "      <th>fax</th>\n",
       "    </tr>\n",
       "  </thead>\n",
       "  <tbody>\n",
       "    <tr>\n",
       "      <th>1969</th>\n",
       "      <td>Rayo OKC</td>\n",
       "      <td>USA</td>\n",
       "      <td>Rayo OKC</td>\n",
       "      <td>2015</td>\n",
       "      <td>300 North Walker Avenue 73102 Oklahoma City</td>\n",
       "      <td>USA</td>\n",
       "      <td>+1 (405) 232 7296</td>\n",
       "      <td>Miller Stadium</td>\n",
       "      <td>Oklahoma City</td>\n",
       "      <td>7000</td>\n",
       "      <td>NaN</td>\n",
       "      <td>+1 (405) 232 7223</td>\n",
       "    </tr>\n",
       "    <tr>\n",
       "      <th>1970</th>\n",
       "      <td>Bay Cities</td>\n",
       "      <td>USA</td>\n",
       "      <td>Bay Cities FC</td>\n",
       "      <td>2021</td>\n",
       "      <td>Redwood City, California</td>\n",
       "      <td>USA</td>\n",
       "      <td>NaN</td>\n",
       "      <td>NaN</td>\n",
       "      <td>Redwood City</td>\n",
       "      <td>3500</td>\n",
       "      <td>NaN</td>\n",
       "      <td>NaN</td>\n",
       "    </tr>\n",
       "  </tbody>\n",
       "</table>\n",
       "</div>"
      ],
      "text/plain": [
       "            team country      team name founded  \\\n",
       "1969    Rayo OKC     USA       Rayo OKC    2015   \n",
       "1970  Bay Cities     USA  Bay Cities FC    2021   \n",
       "\n",
       "                                          address country_prsng  \\\n",
       "1969  300 North Walker Avenue 73102 Oklahoma City           USA   \n",
       "1970                     Redwood City, California           USA   \n",
       "\n",
       "                  phone            name           city capacity e-mail  \\\n",
       "1969  +1 (405) 232 7296  Miller Stadium  Oklahoma City     7000    NaN   \n",
       "1970                NaN             NaN   Redwood City     3500    NaN   \n",
       "\n",
       "                    fax  \n",
       "1969  +1 (405) 232 7223  \n",
       "1970                NaN  "
      ]
     },
     "execution_count": 138,
     "metadata": {},
     "output_type": "execute_result"
    }
   ],
   "source": [
    "df_team_country_data_full.drop_duplicates(subset=['team', 'country'], inplace=True, ignore_index=True)\n",
    "print('shape - ', df_team_country_data_full.shape)\n",
    "df_team_country_data_full.tail(2)"
   ]
  },
  {
   "cell_type": "code",
   "execution_count": 139,
   "metadata": {},
   "outputs": [],
   "source": [
    "df_team_country_data_full.rename(columns={'team': 'f_team'}, inplace=True)"
   ]
  },
  {
   "cell_type": "markdown",
   "metadata": {},
   "source": [
    "### Concatinate new and old full teams data."
   ]
  },
  {
   "cell_type": "code",
   "execution_count": 140,
   "metadata": {},
   "outputs": [],
   "source": [
    "# Stop "
   ]
  },
  {
   "cell_type": "code",
   "execution_count": 141,
   "metadata": {},
   "outputs": [],
   "source": [
    "with open('pickle_files/teams_data/df_full_teams_data_cr_11_10_2022', 'rb') as f:\n",
    "    df_teams_data = pickle.load(f)"
   ]
  },
  {
   "cell_type": "code",
   "execution_count": 142,
   "metadata": {},
   "outputs": [
    {
     "data": {
      "text/html": [
       "<div>\n",
       "<style scoped>\n",
       "    .dataframe tbody tr th:only-of-type {\n",
       "        vertical-align: middle;\n",
       "    }\n",
       "\n",
       "    .dataframe tbody tr th {\n",
       "        vertical-align: top;\n",
       "    }\n",
       "\n",
       "    .dataframe thead th {\n",
       "        text-align: right;\n",
       "    }\n",
       "</style>\n",
       "<table border=\"1\" class=\"dataframe\">\n",
       "  <thead>\n",
       "    <tr style=\"text-align: right;\">\n",
       "      <th></th>\n",
       "      <th>f_team</th>\n",
       "      <th>country</th>\n",
       "      <th>team name</th>\n",
       "      <th>founded</th>\n",
       "      <th>address</th>\n",
       "      <th>country_prsng</th>\n",
       "      <th>phone</th>\n",
       "      <th>fax</th>\n",
       "      <th>e-mail</th>\n",
       "      <th>name</th>\n",
       "      <th>city</th>\n",
       "      <th>capacity</th>\n",
       "    </tr>\n",
       "  </thead>\n",
       "  <tbody>\n",
       "    <tr>\n",
       "      <th>14523</th>\n",
       "      <td>Edmonton</td>\n",
       "      <td>USA</td>\n",
       "      <td>FC Edmonton</td>\n",
       "      <td>2010</td>\n",
       "      <td>9725-62 Avenue T6E 0E4 Edmonton, Alberta</td>\n",
       "      <td>Canada</td>\n",
       "      <td>+1 (780) 700 2600</td>\n",
       "      <td>+1 (780) 439 7557</td>\n",
       "      <td>info@fcedmonton.com</td>\n",
       "      <td>Clarke Field</td>\n",
       "      <td>Edmonton, Alberta</td>\n",
       "      <td>5000</td>\n",
       "    </tr>\n",
       "    <tr>\n",
       "      <th>14524</th>\n",
       "      <td>Calgary</td>\n",
       "      <td>USA</td>\n",
       "      <td>Calgary Foothills Soccer Club</td>\n",
       "      <td>1972</td>\n",
       "      <td>104, 3916 56th Avenue SE AB T2C 2B5 Calgary</td>\n",
       "      <td>Canada</td>\n",
       "      <td>NaN</td>\n",
       "      <td>NaN</td>\n",
       "      <td>NaN</td>\n",
       "      <td>Mount Royal University</td>\n",
       "      <td>Calgary, Alberta</td>\n",
       "      <td>2000</td>\n",
       "    </tr>\n",
       "  </tbody>\n",
       "</table>\n",
       "</div>"
      ],
      "text/plain": [
       "         f_team country                      team name founded  \\\n",
       "14523  Edmonton     USA                    FC Edmonton    2010   \n",
       "14524   Calgary     USA  Calgary Foothills Soccer Club    1972   \n",
       "\n",
       "                                           address country_prsng  \\\n",
       "14523     9725-62 Avenue T6E 0E4 Edmonton, Alberta        Canada   \n",
       "14524  104, 3916 56th Avenue SE AB T2C 2B5 Calgary        Canada   \n",
       "\n",
       "                   phone                fax               e-mail  \\\n",
       "14523  +1 (780) 700 2600  +1 (780) 439 7557  info@fcedmonton.com   \n",
       "14524                NaN                NaN                  NaN   \n",
       "\n",
       "                         name               city capacity  \n",
       "14523            Clarke Field  Edmonton, Alberta     5000  \n",
       "14524  Mount Royal University   Calgary, Alberta     2000  "
      ]
     },
     "execution_count": 142,
     "metadata": {},
     "output_type": "execute_result"
    }
   ],
   "source": [
    "df_teams_data.tail(2)"
   ]
  },
  {
   "cell_type": "code",
   "execution_count": 143,
   "metadata": {},
   "outputs": [],
   "source": [
    "df_teams_data.city = df_teams_data[['address', 'city']].apply(lambda x: x[0] if str(x[1]) == 'nan' else x[1], axis=1)"
   ]
  },
  {
   "cell_type": "code",
   "execution_count": 144,
   "metadata": {},
   "outputs": [
    {
     "name": "stdout",
     "output_type": "stream",
     "text": [
      "len -  102\n"
     ]
    },
    {
     "data": {
      "text/plain": [
       "Int64Index([9252, 9253, 9259], dtype='int64')"
      ]
     },
     "execution_count": 144,
     "metadata": {},
     "output_type": "execute_result"
    }
   ],
   "source": [
    "index1 = pd.MultiIndex.from_arrays([df_teams_data[col] for col in ['f_team', 'country']])\n",
    "index2 = pd.MultiIndex.from_arrays([df_team_country_data_full[col] for col in ['f_team', 'country']])\n",
    "dubl_index_w_data = df_teams_data.loc[index1.isin(index2)].index\n",
    "print('len - ', len(dubl_index_w_data))\n",
    "dubl_index_w_data[:3]"
   ]
  },
  {
   "cell_type": "code",
   "execution_count": 145,
   "metadata": {},
   "outputs": [
    {
     "data": {
      "text/plain": [
       "(14423, 12)"
      ]
     },
     "execution_count": 145,
     "metadata": {},
     "output_type": "execute_result"
    }
   ],
   "source": [
    "df_teams_data = df_teams_data[~df_teams_data.index.isin(dubl_index_w_data)].copy()\n",
    "df_teams_data.shape"
   ]
  },
  {
   "cell_type": "code",
   "execution_count": 146,
   "metadata": {},
   "outputs": [
    {
     "data": {
      "text/plain": [
       "f_team           297\n",
       "country          297\n",
       "team name        297\n",
       "founded            7\n",
       "address            0\n",
       "country_prsng    295\n",
       "phone              1\n",
       "fax                1\n",
       "e-mail             4\n",
       "name               0\n",
       "city               0\n",
       "capacity           0\n",
       "dtype: int64"
      ]
     },
     "execution_count": 146,
     "metadata": {},
     "output_type": "execute_result"
    }
   ],
   "source": [
    "df_teams_data[df_teams_data.city.isna()].count()"
   ]
  },
  {
   "cell_type": "code",
   "execution_count": 147,
   "metadata": {},
   "outputs": [
    {
     "name": "stdout",
     "output_type": "stream",
     "text": [
      "shape -  (16394, 12)\n"
     ]
    },
    {
     "data": {
      "text/html": [
       "<div>\n",
       "<style scoped>\n",
       "    .dataframe tbody tr th:only-of-type {\n",
       "        vertical-align: middle;\n",
       "    }\n",
       "\n",
       "    .dataframe tbody tr th {\n",
       "        vertical-align: top;\n",
       "    }\n",
       "\n",
       "    .dataframe thead th {\n",
       "        text-align: right;\n",
       "    }\n",
       "</style>\n",
       "<table border=\"1\" class=\"dataframe\">\n",
       "  <thead>\n",
       "    <tr style=\"text-align: right;\">\n",
       "      <th></th>\n",
       "      <th>f_team</th>\n",
       "      <th>country</th>\n",
       "      <th>team name</th>\n",
       "      <th>founded</th>\n",
       "      <th>address</th>\n",
       "      <th>country_prsng</th>\n",
       "      <th>phone</th>\n",
       "      <th>name</th>\n",
       "      <th>city</th>\n",
       "      <th>capacity</th>\n",
       "      <th>e-mail</th>\n",
       "      <th>fax</th>\n",
       "    </tr>\n",
       "  </thead>\n",
       "  <tbody>\n",
       "    <tr>\n",
       "      <th>16392</th>\n",
       "      <td>Edmonton</td>\n",
       "      <td>USA</td>\n",
       "      <td>FC Edmonton</td>\n",
       "      <td>2010</td>\n",
       "      <td>9725-62 Avenue T6E 0E4 Edmonton, Alberta</td>\n",
       "      <td>Canada</td>\n",
       "      <td>+1 (780) 700 2600</td>\n",
       "      <td>Clarke Field</td>\n",
       "      <td>Edmonton, Alberta</td>\n",
       "      <td>5000</td>\n",
       "      <td>info@fcedmonton.com</td>\n",
       "      <td>+1 (780) 439 7557</td>\n",
       "    </tr>\n",
       "    <tr>\n",
       "      <th>16393</th>\n",
       "      <td>Calgary</td>\n",
       "      <td>USA</td>\n",
       "      <td>Calgary Foothills Soccer Club</td>\n",
       "      <td>1972</td>\n",
       "      <td>104, 3916 56th Avenue SE AB T2C 2B5 Calgary</td>\n",
       "      <td>Canada</td>\n",
       "      <td>NaN</td>\n",
       "      <td>Mount Royal University</td>\n",
       "      <td>Calgary, Alberta</td>\n",
       "      <td>2000</td>\n",
       "      <td>NaN</td>\n",
       "      <td>NaN</td>\n",
       "    </tr>\n",
       "  </tbody>\n",
       "</table>\n",
       "</div>"
      ],
      "text/plain": [
       "         f_team country                      team name founded  \\\n",
       "16392  Edmonton     USA                    FC Edmonton    2010   \n",
       "16393   Calgary     USA  Calgary Foothills Soccer Club    1972   \n",
       "\n",
       "                                           address country_prsng  \\\n",
       "16392     9725-62 Avenue T6E 0E4 Edmonton, Alberta        Canada   \n",
       "16393  104, 3916 56th Avenue SE AB T2C 2B5 Calgary        Canada   \n",
       "\n",
       "                   phone                    name               city capacity  \\\n",
       "16392  +1 (780) 700 2600            Clarke Field  Edmonton, Alberta     5000   \n",
       "16393                NaN  Mount Royal University   Calgary, Alberta     2000   \n",
       "\n",
       "                    e-mail                fax  \n",
       "16392  info@fcedmonton.com  +1 (780) 439 7557  \n",
       "16393                  NaN                NaN  "
      ]
     },
     "execution_count": 147,
     "metadata": {},
     "output_type": "execute_result"
    }
   ],
   "source": [
    "df_teams_data_concat = pd.concat([df_team_country_data_full, df_teams_data], ignore_index=True)\n",
    "print('shape - ', df_teams_data_concat.shape)\n",
    "df_teams_data_concat.tail(2)"
   ]
  },
  {
   "cell_type": "code",
   "execution_count": 148,
   "metadata": {},
   "outputs": [],
   "source": [
    "# Fix cities with number and one ar two upper letters in name. ***************************************************"
   ]
  },
  {
   "cell_type": "code",
   "execution_count": 149,
   "metadata": {},
   "outputs": [
    {
     "data": {
      "text/html": [
       "<div>\n",
       "<style scoped>\n",
       "    .dataframe tbody tr th:only-of-type {\n",
       "        vertical-align: middle;\n",
       "    }\n",
       "\n",
       "    .dataframe tbody tr th {\n",
       "        vertical-align: top;\n",
       "    }\n",
       "\n",
       "    .dataframe thead th {\n",
       "        text-align: right;\n",
       "    }\n",
       "</style>\n",
       "<table border=\"1\" class=\"dataframe\">\n",
       "  <thead>\n",
       "    <tr style=\"text-align: right;\">\n",
       "      <th></th>\n",
       "      <th>f_team</th>\n",
       "      <th>country</th>\n",
       "      <th>team name</th>\n",
       "      <th>founded</th>\n",
       "      <th>address</th>\n",
       "      <th>country_prsng</th>\n",
       "      <th>phone</th>\n",
       "      <th>name</th>\n",
       "      <th>city</th>\n",
       "      <th>capacity</th>\n",
       "      <th>e-mail</th>\n",
       "      <th>fax</th>\n",
       "    </tr>\n",
       "  </thead>\n",
       "  <tbody>\n",
       "  </tbody>\n",
       "</table>\n",
       "</div>"
      ],
      "text/plain": [
       "Empty DataFrame\n",
       "Columns: [f_team, country, team name, founded, address, country_prsng, phone, name, city, capacity, e-mail, fax]\n",
       "Index: []"
      ]
     },
     "execution_count": 149,
     "metadata": {},
     "output_type": "execute_result"
    }
   ],
   "source": [
    "df_teams_data_concat[df_teams_data_concat.duplicated(subset=['f_team', 'country'])]"
   ]
  },
  {
   "cell_type": "code",
   "execution_count": 150,
   "metadata": {},
   "outputs": [
    {
     "name": "stdout",
     "output_type": "stream",
     "text": [
      "shape -  (297, 12)\n"
     ]
    },
    {
     "data": {
      "text/html": [
       "<div>\n",
       "<style scoped>\n",
       "    .dataframe tbody tr th:only-of-type {\n",
       "        vertical-align: middle;\n",
       "    }\n",
       "\n",
       "    .dataframe tbody tr th {\n",
       "        vertical-align: top;\n",
       "    }\n",
       "\n",
       "    .dataframe thead th {\n",
       "        text-align: right;\n",
       "    }\n",
       "</style>\n",
       "<table border=\"1\" class=\"dataframe\">\n",
       "  <thead>\n",
       "    <tr style=\"text-align: right;\">\n",
       "      <th></th>\n",
       "      <th>f_team</th>\n",
       "      <th>country</th>\n",
       "      <th>team name</th>\n",
       "      <th>founded</th>\n",
       "      <th>address</th>\n",
       "      <th>country_prsng</th>\n",
       "      <th>phone</th>\n",
       "      <th>name</th>\n",
       "      <th>city</th>\n",
       "      <th>capacity</th>\n",
       "      <th>e-mail</th>\n",
       "      <th>fax</th>\n",
       "    </tr>\n",
       "  </thead>\n",
       "  <tbody>\n",
       "    <tr>\n",
       "      <th>295</th>\n",
       "      <td>Brunei DS</td>\n",
       "      <td>Malaysia</td>\n",
       "      <td>Brunei DS</td>\n",
       "      <td>NaN</td>\n",
       "      <td>NaN</td>\n",
       "      <td>Malaysia</td>\n",
       "      <td>NaN</td>\n",
       "      <td>NaN</td>\n",
       "      <td>NaN</td>\n",
       "      <td>NaN</td>\n",
       "      <td>NaN</td>\n",
       "      <td>NaN</td>\n",
       "    </tr>\n",
       "    <tr>\n",
       "      <th>296</th>\n",
       "      <td>Selangor MKL</td>\n",
       "      <td>Malaysia</td>\n",
       "      <td>Selangor MK Land</td>\n",
       "      <td>NaN</td>\n",
       "      <td>NaN</td>\n",
       "      <td>Malaysia</td>\n",
       "      <td>NaN</td>\n",
       "      <td>NaN</td>\n",
       "      <td>NaN</td>\n",
       "      <td>NaN</td>\n",
       "      <td>NaN</td>\n",
       "      <td>NaN</td>\n",
       "    </tr>\n",
       "  </tbody>\n",
       "</table>\n",
       "</div>"
      ],
      "text/plain": [
       "           f_team   country         team name founded address country_prsng  \\\n",
       "295     Brunei DS  Malaysia         Brunei DS     NaN     NaN      Malaysia   \n",
       "296  Selangor MKL  Malaysia  Selangor MK Land     NaN     NaN      Malaysia   \n",
       "\n",
       "    phone name city capacity e-mail  fax  \n",
       "295   NaN  NaN  NaN      NaN    NaN  NaN  \n",
       "296   NaN  NaN  NaN      NaN    NaN  NaN  "
      ]
     },
     "execution_count": 150,
     "metadata": {},
     "output_type": "execute_result"
    }
   ],
   "source": [
    "df_full_tmd_city_na = df_teams_data_concat[df_teams_data_concat.city.isna()].reset_index(drop=True).copy()\n",
    "print('shape - ', df_full_tmd_city_na.shape)\n",
    "df_full_tmd_city_na.tail(2)"
   ]
  },
  {
   "cell_type": "code",
   "execution_count": 151,
   "metadata": {},
   "outputs": [],
   "source": [
    "# df_full_tmd_city_na.to_csv('csv_files/bets_games/df_full_tmd_city_na_23_10_2022.csv', index = None, header=True)"
   ]
  },
  {
   "cell_type": "code",
   "execution_count": 152,
   "metadata": {},
   "outputs": [],
   "source": [
    "# df_full_tmd_city_na_am_corr = pd.read_csv('csv_files/bets_games/df_full_tmd_city_na_23_10_2022.csv', dtype=str) "
   ]
  },
  {
   "cell_type": "code",
   "execution_count": 153,
   "metadata": {},
   "outputs": [
    {
     "name": "stdout",
     "output_type": "stream",
     "text": [
      "shape -  (16097, 12)\n"
     ]
    },
    {
     "data": {
      "text/html": [
       "<div>\n",
       "<style scoped>\n",
       "    .dataframe tbody tr th:only-of-type {\n",
       "        vertical-align: middle;\n",
       "    }\n",
       "\n",
       "    .dataframe tbody tr th {\n",
       "        vertical-align: top;\n",
       "    }\n",
       "\n",
       "    .dataframe thead th {\n",
       "        text-align: right;\n",
       "    }\n",
       "</style>\n",
       "<table border=\"1\" class=\"dataframe\">\n",
       "  <thead>\n",
       "    <tr style=\"text-align: right;\">\n",
       "      <th></th>\n",
       "      <th>f_team</th>\n",
       "      <th>country</th>\n",
       "      <th>team name</th>\n",
       "      <th>founded</th>\n",
       "      <th>address</th>\n",
       "      <th>country_prsng</th>\n",
       "      <th>phone</th>\n",
       "      <th>name</th>\n",
       "      <th>city</th>\n",
       "      <th>capacity</th>\n",
       "      <th>e-mail</th>\n",
       "      <th>fax</th>\n",
       "    </tr>\n",
       "  </thead>\n",
       "  <tbody>\n",
       "    <tr>\n",
       "      <th>16095</th>\n",
       "      <td>Edmonton</td>\n",
       "      <td>USA</td>\n",
       "      <td>FC Edmonton</td>\n",
       "      <td>2010</td>\n",
       "      <td>9725-62 Avenue T6E 0E4 Edmonton, Alberta</td>\n",
       "      <td>Canada</td>\n",
       "      <td>+1 (780) 700 2600</td>\n",
       "      <td>Clarke Field</td>\n",
       "      <td>Edmonton, Alberta</td>\n",
       "      <td>5000</td>\n",
       "      <td>info@fcedmonton.com</td>\n",
       "      <td>+1 (780) 439 7557</td>\n",
       "    </tr>\n",
       "    <tr>\n",
       "      <th>16096</th>\n",
       "      <td>Calgary</td>\n",
       "      <td>USA</td>\n",
       "      <td>Calgary Foothills Soccer Club</td>\n",
       "      <td>1972</td>\n",
       "      <td>104, 3916 56th Avenue SE AB T2C 2B5 Calgary</td>\n",
       "      <td>Canada</td>\n",
       "      <td>NaN</td>\n",
       "      <td>Mount Royal University</td>\n",
       "      <td>Calgary, Alberta</td>\n",
       "      <td>2000</td>\n",
       "      <td>NaN</td>\n",
       "      <td>NaN</td>\n",
       "    </tr>\n",
       "  </tbody>\n",
       "</table>\n",
       "</div>"
      ],
      "text/plain": [
       "         f_team country                      team name founded  \\\n",
       "16095  Edmonton     USA                    FC Edmonton    2010   \n",
       "16096   Calgary     USA  Calgary Foothills Soccer Club    1972   \n",
       "\n",
       "                                           address country_prsng  \\\n",
       "16095     9725-62 Avenue T6E 0E4 Edmonton, Alberta        Canada   \n",
       "16096  104, 3916 56th Avenue SE AB T2C 2B5 Calgary        Canada   \n",
       "\n",
       "                   phone                    name               city capacity  \\\n",
       "16095  +1 (780) 700 2600            Clarke Field  Edmonton, Alberta     5000   \n",
       "16096                NaN  Mount Royal University   Calgary, Alberta     2000   \n",
       "\n",
       "                    e-mail                fax  \n",
       "16095  info@fcedmonton.com  +1 (780) 439 7557  \n",
       "16096                  NaN                NaN  "
      ]
     },
     "execution_count": 153,
     "metadata": {},
     "output_type": "execute_result"
    }
   ],
   "source": [
    "df_teams_data_concat = df_teams_data_concat[~df_teams_data_concat.city.isna()].reset_index(drop=True).copy()\n",
    "print('shape - ', df_teams_data_concat.shape)\n",
    "df_teams_data_concat.tail(2)"
   ]
  },
  {
   "cell_type": "code",
   "execution_count": 227,
   "metadata": {},
   "outputs": [],
   "source": [
    "df_teams_data_concat.city = df_teams_data_concat.city.str.strip()"
   ]
  },
  {
   "cell_type": "code",
   "execution_count": 228,
   "metadata": {},
   "outputs": [
    {
     "data": {
      "text/plain": [
       "[]      16092\n",
       "[12]        1\n",
       "[84]        1\n",
       "[10]        1\n",
       "[35]        1\n",
       "[13]        1\n",
       "Name: city, dtype: int64"
      ]
     },
     "execution_count": 228,
     "metadata": {},
     "output_type": "execute_result"
    }
   ],
   "source": [
    "df_teams_data_concat.city.str.findall(r'^[0-9]\\d{1}?').value_counts()"
   ]
  },
  {
   "cell_type": "code",
   "execution_count": 217,
   "metadata": {},
   "outputs": [],
   "source": [
    "# df_teams_data_concat.city.str.findall(r'[0-9].*').value_counts()"
   ]
  },
  {
   "cell_type": "code",
   "execution_count": 224,
   "metadata": {},
   "outputs": [],
   "source": [
    "# df_teams_data_concat.city.str.findall(r'^[A-Z]*').value_counts()"
   ]
  },
  {
   "cell_type": "code",
   "execution_count": 229,
   "metadata": {},
   "outputs": [
    {
     "data": {
      "text/plain": [
       "[]                         15674\n",
       "[al-]                         56\n",
       "[İstanbul]                    46\n",
       "[ad-]                         20\n",
       "[ʿ]                           14\n",
       "[Örebro]                       8\n",
       "[İzmir]                        7\n",
       "[ẓabī]                         7\n",
       "[nd]                           7\n",
       "[d']                           6\n",
       "[Ålesund]                      5\n",
       "[Ħamrun]                       5\n",
       "[Århus]                        4\n",
       "[Šiauliai]                     4\n",
       "[Şımkent]                      4\n",
       "[Čačak]                        4\n",
       "[as-]                          3\n",
       "[Şımkent (]                    3\n",
       "[Štip]                         3\n",
       "[Łódź]                         3\n",
       "[Ḥalab]                        3\n",
       "[Águilas]                      3\n",
       "[İmişli]                       3\n",
       "[Český ]                       3\n",
       "[Šumen (]                      2\n",
       "[Şimleu ]                      2\n",
       "[vul. ]                        2\n",
       "[Świnoujście]                  2\n",
       "[le-]                          2\n",
       "[Šabac]                        2\n",
       "[Ōsaka]                        2\n",
       "[nell']                        2\n",
       "[Šid]                          2\n",
       "[Ḥimṣ]                         2\n",
       "[Čakovec]                      2\n",
       "[Şanlıurfa]                    2\n",
       "[Štěchovice]                   2\n",
       "[Ħamrun (]                     2\n",
       "[el-]                          2\n",
       "[İskenderun]                   2\n",
       "[Ávila]                        2\n",
       "[Žilina]                       2\n",
       "[s']                           2\n",
       "[ez-]                          2\n",
       "[Çorum]                        2\n",
       "[Žytkavičy]                    2\n",
       "[Épila]                        2\n",
       "[Évora]                        2\n",
       "[Östersund]                    2\n",
       "[Ústí]                         2\n",
       "[Şüvəlan]                      2\n",
       "[Žabokreky]                    2\n",
       "[Álftanes]                     2\n",
       "[Život-]                       2\n",
       "[Śląskie]                      2\n",
       "[Åkrehamn]                     2\n",
       "[Ñemby]                        2\n",
       "[Šaľa]                         2\n",
       "[Øystese]                      2\n",
       "[Çankırı]                      2\n",
       "[Štiavnica]                    2\n",
       "[Čepin]                        2\n",
       "[Ōita]                         2\n",
       "[Ólafsvik]                     2\n",
       "[Çorovodë]                     1\n",
       "[Åbyhøj]                       1\n",
       "[Ştefăneştii de ]              1\n",
       "[Çanakkale]                    1\n",
       "[Ħaż-Żabbar]                   1\n",
       "[Široki ]                      1\n",
       "[Črnomelj]                     1\n",
       "[Železný ]                     1\n",
       "[Žďár nad ]                    1\n",
       "[Žitorađa]                     1\n",
       "[Łowicz]                       1\n",
       "[Ålgård]                       1\n",
       "[Échirolles]                   1\n",
       "[Úvaly]                        1\n",
       "[Šenčur]                       1\n",
       "[Čáslav]                       1\n",
       "[Đồng ]                        1\n",
       "[Öskemen (]                    1\n",
       "[Ždírec nad ]                  1\n",
       "[Épernay]                      1\n",
       "[Çine]                         1\n",
       "[Ðakovo]                       1\n",
       "[Świętochłowice]               1\n",
       "[Öttevény]                     1\n",
       "[Živinice]                     1\n",
       "[Červeník]                     1\n",
       "[84427 ]                       1\n",
       "[Şotânga]                      1\n",
       "[Łomża]                        1\n",
       "[Čitluk]                       1\n",
       "[Čavle]                        1\n",
       "[Đakovo]                       1\n",
       "[Žrnovnica]                    1\n",
       "[3580 ]                        1\n",
       "[Żagań]                        1\n",
       "[Žatec]                        1\n",
       "[Ćuprija]                      1\n",
       "[ul. ]                         1\n",
       "[Čermeľská 1 040 01 ]          1\n",
       "[Športová 1972 951 31 ]        1\n",
       "[České ]                       1\n",
       "[Šamac]                        1\n",
       "[Ølstykke]                     1\n",
       "[Érezée]                       1\n",
       "[Äänekoski]                    1\n",
       "[101 ]                         1\n",
       "[1 ]                           1\n",
       "[Šurany]                       1\n",
       "[Íscar]                        1\n",
       "[Çerkezköy]                    1\n",
       "[Čilipi]                       1\n",
       "[Šentjur]                      1\n",
       "[Žepče]                        1\n",
       "[Čadca]                        1\n",
       "[Çlirim]                       1\n",
       "[Ózd]                          1\n",
       "[Čapljina]                     1\n",
       "[Šumperk]                      1\n",
       "[Évreux]                       1\n",
       "[Águia ]                       1\n",
       "[Åtvidaberg]                   1\n",
       "[Ågotnes]                      1\n",
       "[Ólafsfjörður]                 1\n",
       "[Åmål]                         1\n",
       "[İnegöl]                       1\n",
       "[Åfjord]                       1\n",
       "[Águeda]                       1\n",
       "[Úrsula]                       1\n",
       "[12]                           1\n",
       "[sull']                        1\n",
       "[Štětí]                        1\n",
       "[Śląska-]                      1\n",
       "[1]                            1\n",
       "[gld]                          1\n",
       "[Ängelholm]                    1\n",
       "[Žiri]                         1\n",
       "[Šibenik]                      1\n",
       "[Čelarevo]                     1\n",
       "[Žagarė]                       1\n",
       "[mesto]                        1\n",
       "[Ángeles]                      1\n",
       "[Šenkvice]                     1\n",
       "[Častkovce]                    1\n",
       "[Švošov]                       1\n",
       "[Łagów]                        1\n",
       "[Älmhult]                      1\n",
       "[']                            1\n",
       "[Łęczna]                       1\n",
       "[Äksi]                         1\n",
       "[Örnsköldsvik]                 1\n",
       "[Ông]                          1\n",
       "[Ústí nad ]                    1\n",
       "[Šamorín]                      1\n",
       "[Živanice]                     1\n",
       "['s-]                          1\n",
       "[Ždralovi]                     1\n",
       "[Čonoplja]                     1\n",
       "[Đurđevac]                     1\n",
       "[Županja]                      1\n",
       "[Érd]                          1\n",
       "[Şile]                         1\n",
       "[Říše]                         1\n",
       "[Åkersberga]                   1\n",
       "[8]                            1\n",
       "[Ħaż-Żebbuġ]                   1\n",
       "[Çarşamba]                     1\n",
       "[Álvaro]                       1\n",
       "[Écija]                        1\n",
       "[Étaples-sur-]                 1\n",
       "[Épinal]                       1\n",
       "[Ângelo]                       1\n",
       "[Ånge]                         1\n",
       "[Šilutė]                       1\n",
       "[Þorlákshöfn]                  1\n",
       "[Şəmkir]                       1\n",
       "[Ďarmoty]                      1\n",
       "[Álamo]                        1\n",
       "[Čížová]                       1\n",
       "[Ėkibastyz]                    1\n",
       "[Šariš]                        1\n",
       "[del-]                         1\n",
       "[1316 ]                        1\n",
       "Name: city, dtype: int64"
      ]
     },
     "execution_count": 229,
     "metadata": {},
     "output_type": "execute_result"
    }
   ],
   "source": [
    "df_teams_data_concat.city.str.findall(r'^[^A-Z]*').value_counts()"
   ]
  },
  {
   "cell_type": "code",
   "execution_count": 212,
   "metadata": {},
   "outputs": [
    {
     "data": {
      "text/html": [
       "<div>\n",
       "<style scoped>\n",
       "    .dataframe tbody tr th:only-of-type {\n",
       "        vertical-align: middle;\n",
       "    }\n",
       "\n",
       "    .dataframe tbody tr th {\n",
       "        vertical-align: top;\n",
       "    }\n",
       "\n",
       "    .dataframe thead th {\n",
       "        text-align: right;\n",
       "    }\n",
       "</style>\n",
       "<table border=\"1\" class=\"dataframe\">\n",
       "  <thead>\n",
       "    <tr style=\"text-align: right;\">\n",
       "      <th></th>\n",
       "      <th>f_team</th>\n",
       "      <th>country</th>\n",
       "      <th>team name</th>\n",
       "      <th>founded</th>\n",
       "      <th>address</th>\n",
       "      <th>country_prsng</th>\n",
       "      <th>phone</th>\n",
       "      <th>name</th>\n",
       "      <th>city</th>\n",
       "      <th>capacity</th>\n",
       "      <th>e-mail</th>\n",
       "      <th>fax</th>\n",
       "    </tr>\n",
       "  </thead>\n",
       "  <tbody>\n",
       "  </tbody>\n",
       "</table>\n",
       "</div>"
      ],
      "text/plain": [
       "Empty DataFrame\n",
       "Columns: [f_team, country, team name, founded, address, country_prsng, phone, name, city, capacity, e-mail, fax]\n",
       "Index: []"
      ]
     },
     "execution_count": 212,
     "metadata": {},
     "output_type": "execute_result"
    }
   ],
   "source": [
    "df_teams_data_concat[df_teams_data_concat.city == 13]"
   ]
  },
  {
   "cell_type": "code",
   "execution_count": 154,
   "metadata": {},
   "outputs": [
    {
     "ename": "SyntaxError",
     "evalue": "invalid syntax (658129006.py, line 1)",
     "output_type": "error",
     "traceback": [
      "\u001b[0;36m  Input \u001b[0;32mIn [154]\u001b[0;36m\u001b[0m\n\u001b[0;31m    6 Stop *************************************************************************************************\u001b[0m\n\u001b[0m      ^\u001b[0m\n\u001b[0;31mSyntaxError\u001b[0m\u001b[0;31m:\u001b[0m invalid syntax\n"
     ]
    }
   ],
   "source": [
    "6 Stop *************************************************************************************************"
   ]
  },
  {
   "cell_type": "code",
   "execution_count": null,
   "metadata": {},
   "outputs": [],
   "source": [
    "# file = open('pickle_files/teams_data/df_full_teams_data_cr_11_10_2022', 'wb')\n",
    "# pickle.dump(df_team_country_data_full, file)  \n",
    "# file.close()"
   ]
  },
  {
   "cell_type": "markdown",
   "metadata": {},
   "source": [
    "### Go to the 'teams_data.ipynb' - new solution with work with 'full_data' file."
   ]
  },
  {
   "cell_type": "markdown",
   "metadata": {},
   "source": [
    "#### 'Soccer365' work after manual correct for "
   ]
  },
  {
   "cell_type": "code",
   "execution_count": null,
   "metadata": {},
   "outputs": [],
   "source": [
    "# colnames = ['team_id', 'f_team', 'country', 'tm_data', 'city']"
   ]
  },
  {
   "cell_type": "code",
   "execution_count": null,
   "metadata": {},
   "outputs": [],
   "source": [
    "# df_after_corr = pd.read_csv('csv_files/df_teams_data_26_05_2022_four.csv', names=colnames, header=None, dtype=str)"
   ]
  },
  {
   "cell_type": "code",
   "execution_count": null,
   "metadata": {},
   "outputs": [],
   "source": [
    "# print('shape - ', df_after_corr.shape[0])\n",
    "# df_after_corr.head(3)"
   ]
  },
  {
   "cell_type": "code",
   "execution_count": null,
   "metadata": {},
   "outputs": [],
   "source": [
    "# df_after_corr.drop_duplicates(subset=['f_team', 'country'], inplace=True)\n",
    "# df_after_corr.reset_index(drop=True, inplace=True)"
   ]
  },
  {
   "cell_type": "code",
   "execution_count": null,
   "metadata": {},
   "outputs": [],
   "source": [
    "# df_after_corr.drop(columns='tm_data', inplace=True)"
   ]
  },
  {
   "cell_type": "code",
   "execution_count": null,
   "metadata": {},
   "outputs": [],
   "source": [
    "# df_after_corr.tail(3)"
   ]
  },
  {
   "cell_type": "code",
   "execution_count": null,
   "metadata": {},
   "outputs": [],
   "source": [
    "# file = open('pickle_files/teams_data/df_after_corr_26_05_2021_four', 'wb')\n",
    "# pickle.dump(df_after_corr, file)  \n",
    "# file.close()"
   ]
  }
 ],
 "metadata": {
  "kernelspec": {
   "display_name": "Python 3 (ipykernel)",
   "language": "python",
   "name": "python3"
  },
  "language_info": {
   "codemirror_mode": {
    "name": "ipython",
    "version": 3
   },
   "file_extension": ".py",
   "mimetype": "text/x-python",
   "name": "python",
   "nbconvert_exporter": "python",
   "pygments_lexer": "ipython3",
   "version": "3.9.17"
  }
 },
 "nbformat": 4,
 "nbformat_minor": 4
}

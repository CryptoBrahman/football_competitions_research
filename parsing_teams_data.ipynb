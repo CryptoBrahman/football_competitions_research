{
 "cells": [
  {
   "cell_type": "code",
   "execution_count": 1,
   "metadata": {},
   "outputs": [],
   "source": [
    "import re\n",
    "import pickle\n",
    "import time\n",
    "import requests\n",
    "import pandas as pd\n",
    "from bs4 import BeautifulSoup\n",
    "\n",
    "from _html_parser import HtmlParser\n",
    "\n",
    "pd.set_option('display.max_rows', 500)\n",
    "pd.set_option('display.max_columns', 500)\n",
    "pd.set_option('display.max_colwidth', 500)"
   ]
  },
  {
   "cell_type": "code",
   "execution_count": 2,
   "metadata": {},
   "outputs": [],
   "source": [
    "%load_ext autoreload\n",
    "%autoreload 2"
   ]
  },
  {
   "cell_type": "code",
   "execution_count": 3,
   "metadata": {},
   "outputs": [],
   "source": [
    "with open('pickle_files/teams_data/df_game_ids_na_cities', 'rb') as f:\n",
    "    df_game_ids_na_cities = pickle.load(f)"
   ]
  },
  {
   "cell_type": "code",
   "execution_count": 4,
   "metadata": {},
   "outputs": [],
   "source": [
    "df_game_ids_na_cities.reset_index(drop=True, inplace=True)"
   ]
  },
  {
   "cell_type": "code",
   "execution_count": 5,
   "metadata": {},
   "outputs": [
    {
     "data": {
      "text/html": [
       "<div>\n",
       "<style scoped>\n",
       "    .dataframe tbody tr th:only-of-type {\n",
       "        vertical-align: middle;\n",
       "    }\n",
       "\n",
       "    .dataframe tbody tr th {\n",
       "        vertical-align: top;\n",
       "    }\n",
       "\n",
       "    .dataframe thead th {\n",
       "        text-align: right;\n",
       "    }\n",
       "</style>\n",
       "<table border=\"1\" class=\"dataframe\">\n",
       "  <thead>\n",
       "    <tr style=\"text-align: right;\">\n",
       "      <th></th>\n",
       "      <th>game_id</th>\n",
       "      <th>f_com</th>\n",
       "    </tr>\n",
       "  </thead>\n",
       "  <tbody>\n",
       "    <tr>\n",
       "      <th>1338</th>\n",
       "      <td>10917426</td>\n",
       "      <td>SønderjyskE</td>\n",
       "    </tr>\n",
       "    <tr>\n",
       "      <th>1339</th>\n",
       "      <td>10915588</td>\n",
       "      <td>Neftekhimik</td>\n",
       "    </tr>\n",
       "    <tr>\n",
       "      <th>1340</th>\n",
       "      <td>10639504</td>\n",
       "      <td>Tauras</td>\n",
       "    </tr>\n",
       "  </tbody>\n",
       "</table>\n",
       "</div>"
      ],
      "text/plain": [
       "       game_id        f_com\n",
       "1338  10917426  SønderjyskE\n",
       "1339  10915588  Neftekhimik\n",
       "1340  10639504       Tauras"
      ]
     },
     "execution_count": 5,
     "metadata": {},
     "output_type": "execute_result"
    }
   ],
   "source": [
    "df_game_ids_na_cities.tail(3)"
   ]
  },
  {
   "cell_type": "code",
   "execution_count": 6,
   "metadata": {},
   "outputs": [
    {
     "data": {
      "text/plain": [
       "['1459330', '1459333']"
      ]
     },
     "execution_count": 6,
     "metadata": {},
     "output_type": "execute_result"
    }
   ],
   "source": [
    "str_inds = [str(x) for x in df_game_ids_na_cities.game_id]\n",
    "str_inds[:2]"
   ]
  },
  {
   "cell_type": "code",
   "execution_count": 7,
   "metadata": {},
   "outputs": [],
   "source": [
    "# HtmlParser.find_teams_ids(str_inds[1001:])"
   ]
  },
  {
   "cell_type": "code",
   "execution_count": 8,
   "metadata": {},
   "outputs": [],
   "source": [
    "with open('pickle_files/teams_data/teams_ids_na_cities_14198781', 'rb') as f:\n",
    "    teams_ids_1 = pickle.load(f)"
   ]
  },
  {
   "cell_type": "code",
   "execution_count": 9,
   "metadata": {},
   "outputs": [],
   "source": [
    "with open('pickle_files/teams_data/teams_ids_na_cities_10639504', 'rb') as f:\n",
    "    teams_ids_2 = pickle.load(f)"
   ]
  },
  {
   "cell_type": "code",
   "execution_count": 10,
   "metadata": {},
   "outputs": [],
   "source": [
    "teams_ids = teams_ids_1 + teams_ids_2"
   ]
  },
  {
   "cell_type": "code",
   "execution_count": 11,
   "metadata": {},
   "outputs": [],
   "source": [
    "df_teams_ids = pd.DataFrame(teams_ids, columns=['team_id', 'team'])\n",
    "df_teams_ids.reset_index(inplace=True)\n",
    "df_teams_ids.drop_duplicates(subset='team', keep='first', inplace=True)"
   ]
  },
  {
   "cell_type": "code",
   "execution_count": 12,
   "metadata": {},
   "outputs": [],
   "source": [
    "tm_ids = df_teams_ids.team_id.values"
   ]
  },
  {
   "cell_type": "code",
   "execution_count": 13,
   "metadata": {},
   "outputs": [],
   "source": [
    "# HtmlParser.find_teams_data(tm_ids)"
   ]
  },
  {
   "cell_type": "code",
   "execution_count": 14,
   "metadata": {},
   "outputs": [],
   "source": [
    "with open('pickle_files/teams_data/teams_wiki_data_7506', 'rb') as f:\n",
    "    wiki_data = pickle.load(f)"
   ]
  },
  {
   "cell_type": "code",
   "execution_count": 15,
   "metadata": {},
   "outputs": [
    {
     "data": {
      "text/plain": [
       "[('12433',\n",
       "  'FC Polissya Zhytomyr  is a Ukrainian football club based in Zhytomyr, Polesia. As of the 2020–21 season, it will play in the Ukrainian First League, the second tier of Ukrainian football, following promotion from the 2019–20 Ukrainian Second League. Their home were Spartak and Kolos stadiums.')]"
      ]
     },
     "execution_count": 15,
     "metadata": {},
     "output_type": "execute_result"
    }
   ],
   "source": [
    "wiki_data[:1]"
   ]
  },
  {
   "cell_type": "code",
   "execution_count": 141,
   "metadata": {},
   "outputs": [],
   "source": [
    "df_wiki_data = pd.DataFrame(wiki_data, columns=['team_id', 'tm_data'])\n",
    "df_wiki_data = df_wiki_data[df_wiki_data.index.isin(df_teams_ids.index)].copy()\n",
    "df_teams_data = df_teams_ids.merge(df_wiki_data, how='left')\n",
    "df_teams_data = df_teams_data[df_teams_data.tm_data.values != ''].copy()\n",
    "df_teams_data.drop_duplicates(subset='tm_data', keep='first', inplace=True)\n",
    "df_teams_data.index = df_teams_data['index'].values\n",
    "df_teams_data.drop(columns=['index'], inplace=True)\n",
    "df_teams_data = df_teams_data.merge(df_game_ids_na_cities.game_id, how='left', left_index=True, right_index=True)"
   ]
  },
  {
   "cell_type": "code",
   "execution_count": 142,
   "metadata": {},
   "outputs": [
    {
     "name": "stdout",
     "output_type": "stream",
     "text": [
      "1064\n"
     ]
    },
    {
     "data": {
      "text/html": [
       "<div>\n",
       "<style scoped>\n",
       "    .dataframe tbody tr th:only-of-type {\n",
       "        vertical-align: middle;\n",
       "    }\n",
       "\n",
       "    .dataframe tbody tr th {\n",
       "        vertical-align: top;\n",
       "    }\n",
       "\n",
       "    .dataframe thead th {\n",
       "        text-align: right;\n",
       "    }\n",
       "</style>\n",
       "<table border=\"1\" class=\"dataframe\">\n",
       "  <thead>\n",
       "    <tr style=\"text-align: right;\">\n",
       "      <th></th>\n",
       "      <th>team_id</th>\n",
       "      <th>team</th>\n",
       "      <th>tm_data</th>\n",
       "      <th>game_id</th>\n",
       "    </tr>\n",
       "  </thead>\n",
       "  <tbody>\n",
       "    <tr>\n",
       "      <th>1334</th>\n",
       "      <td>7233</td>\n",
       "      <td>Paulista</td>\n",
       "      <td>Paulista Futebol Clube, or Paulista as they are usually called, is a Brazilian football team from Jundiaí, in São Paulo, founded on 17 May 1909. They currently play in the Paulistão Segunda Divisão, the fourth tier of the São Paulo state league.</td>\n",
       "      <td>10862479</td>\n",
       "    </tr>\n",
       "    <tr>\n",
       "      <th>1336</th>\n",
       "      <td>7656</td>\n",
       "      <td>Pacífico</td>\n",
       "      <td>Club Deportivo Pacífico FC is a Peruvian football club. Based in the San Martín de Porres District, in the department of Lima, it plays in Peru's Second Division.</td>\n",
       "      <td>10633613</td>\n",
       "    </tr>\n",
       "    <tr>\n",
       "      <th>1337</th>\n",
       "      <td>7920</td>\n",
       "      <td>Guaratinguetá</td>\n",
       "      <td>Guaratinguetá Futebol Ltda., usually known simply as Guaratinguetá, was a Brazilian football club from Guaratinguetá, São Paulo state.</td>\n",
       "      <td>10625571</td>\n",
       "    </tr>\n",
       "    <tr>\n",
       "      <th>1338</th>\n",
       "      <td>7325</td>\n",
       "      <td>SønderjyskE</td>\n",
       "      <td>SønderjyskE is a Danish sport corporation. They have a football team (SønderjyskE Fodbold, based in Haderslev), two handball teams (SønderjyskE Håndbold, one male based in Sønderborg, one female based in Aabenraa) and an ice hockey team (SønderjyskE Ishockey, based in Vojens).</td>\n",
       "      <td>10917426</td>\n",
       "    </tr>\n",
       "    <tr>\n",
       "      <th>1340</th>\n",
       "      <td>7506</td>\n",
       "      <td>Tauras</td>\n",
       "      <td>FK Tauras is a Lithuanian football team from the city of Tauragė.</td>\n",
       "      <td>10639504</td>\n",
       "    </tr>\n",
       "  </tbody>\n",
       "</table>\n",
       "</div>"
      ],
      "text/plain": [
       "     team_id           team  \\\n",
       "1334    7233       Paulista   \n",
       "1336    7656       Pacífico   \n",
       "1337    7920  Guaratinguetá   \n",
       "1338    7325    SønderjyskE   \n",
       "1340    7506         Tauras   \n",
       "\n",
       "                                                                                                                                                                                                                                                                                    tm_data  \\\n",
       "1334                                  Paulista Futebol Clube, or Paulista as they are usually called, is a Brazilian football team from Jundiaí, in São Paulo, founded on 17 May 1909. They currently play in the Paulistão Segunda Divisão, the fourth tier of the São Paulo state league.   \n",
       "1336                                                                                                                     Club Deportivo Pacífico FC is a Peruvian football club. Based in the San Martín de Porres District, in the department of Lima, it plays in Peru's Second Division.   \n",
       "1337                                                                                                                                                 Guaratinguetá Futebol Ltda., usually known simply as Guaratinguetá, was a Brazilian football club from Guaratinguetá, São Paulo state.   \n",
       "1338  SønderjyskE is a Danish sport corporation. They have a football team (SønderjyskE Fodbold, based in Haderslev), two handball teams (SønderjyskE Håndbold, one male based in Sønderborg, one female based in Aabenraa) and an ice hockey team (SønderjyskE Ishockey, based in Vojens).   \n",
       "1340                                                                                                                                                                                                                      FK Tauras is a Lithuanian football team from the city of Tauragė.   \n",
       "\n",
       "       game_id  \n",
       "1334  10862479  \n",
       "1336  10633613  \n",
       "1337  10625571  \n",
       "1338  10917426  \n",
       "1340  10639504  "
      ]
     },
     "execution_count": 142,
     "metadata": {},
     "output_type": "execute_result"
    }
   ],
   "source": [
    "print(len(df_teams_data))\n",
    "df_teams_data.tail(5)"
   ]
  },
  {
   "cell_type": "code",
   "execution_count": 82,
   "metadata": {},
   "outputs": [],
   "source": [
    "df_teams_na_data = df_game_ids_na_cities[~df_game_ids_na_cities.index.isin(df_teams_data.index.values)].copy()"
   ]
  },
  {
   "cell_type": "code",
   "execution_count": 83,
   "metadata": {},
   "outputs": [
    {
     "data": {
      "text/plain": [
       "(277, 2)"
      ]
     },
     "execution_count": 83,
     "metadata": {},
     "output_type": "execute_result"
    }
   ],
   "source": [
    "df_teams_na_data.shape"
   ]
  },
  {
   "cell_type": "code",
   "execution_count": 63,
   "metadata": {},
   "outputs": [],
   "source": [
    "data_is_a = df_teams_data.tm_data.map(lambda x: ''.join(HtmlParser.cut_part_of_string(x, 'is a', '\\.')) if re.findall('is a', str(x)) else None)"
   ]
  },
  {
   "cell_type": "code",
   "execution_count": 37,
   "metadata": {},
   "outputs": [],
   "source": [
    "data_based_in = data_is_a.map(lambda x: x if re.findall('(based in)|(city of)|(town of)|(located in)|(club from)|(club in)|(playing in)', str(x)) else None)"
   ]
  },
  {
   "cell_type": "code",
   "execution_count": 23,
   "metadata": {},
   "outputs": [],
   "source": [
    "data_based_in = data_based_in.map(lambda x: ''.join(HtmlParser.cut_part_of_string(x, 'city of ', '$')) if re.findall('city of', str(x)) else x)\n",
    "data_based_in = data_based_in.map(lambda x: ''.join(HtmlParser.cut_part_of_string(x, 'town of ', '$')) if re.findall('town of', str(x)) else x)\n",
    "data_based_in = data_based_in.map(lambda x: ''.join(HtmlParser.cut_part_of_string(x, 'located in ', '$')) if re.findall('located in', str(x)) else x)\n",
    "data_based_in = data_based_in.map(lambda x: ''.join(HtmlParser.cut_part_of_string(x, 'club from ', '$')) if re.findall('club from', str(x)) else x)\n",
    "data_based_in = data_based_in.map(lambda x: ''.join(HtmlParser.cut_part_of_string(x, 'club in ', '$')) if re.findall('club in', str(x)) else x)\n",
    "data_based_in = data_based_in.map(lambda x: ''.join(HtmlParser.cut_part_of_string(x, 'playing in ', '$')) if re.findall('playing in', str(x)) else x)\n",
    "data_based_in = data_based_in.map(lambda x: ''.join(HtmlParser.cut_part_of_string(x, 'based in ', '$')) if re.findall('based in', str(x)) else x)"
   ]
  },
  {
   "cell_type": "code",
   "execution_count": 24,
   "metadata": {},
   "outputs": [],
   "source": [
    "data_based_in = data_based_in.map(lambda x: ''.join(HtmlParser.cut_part_of_string(x, '^', ',')) if re.findall(',', str(x)) else x)"
   ]
  },
  {
   "cell_type": "code",
   "execution_count": 72,
   "metadata": {},
   "outputs": [],
   "source": [
    "data_is_a = data_is_a.map(lambda x: re.sub(r'^n ', '', str(x)))\n",
    "data_is_a = data_is_a.map(lambda x: re.sub(r'^ ', '', str(x)))"
   ]
  },
  {
   "cell_type": "code",
   "execution_count": 138,
   "metadata": {},
   "outputs": [],
   "source": [
    "country = data_is_a.map(lambda x: ''.join(HtmlParser.cut_part_of_string(x, '^', ' ')))"
   ]
  },
  {
   "cell_type": "code",
   "execution_count": 139,
   "metadata": {},
   "outputs": [],
   "source": [
    "country = country.map(lambda x: re.sub('professional', '', str(x)))\n",
    "country = country.map(lambda x: re.sub('football', '', str(x)))"
   ]
  },
  {
   "cell_type": "code",
   "execution_count": 140,
   "metadata": {},
   "outputs": [],
   "source": [
    "df_country = country.map(lambda x: re.sub(r'n$', '', str(x))).to_frame(name='country')"
   ]
  },
  {
   "cell_type": "code",
   "execution_count": 143,
   "metadata": {},
   "outputs": [],
   "source": [
    "df_teams_data = df_teams_data.merge(df_based_in, how='left', left_index=True, right_index=True)\n",
    "df_teams_data = df_teams_data.merge(df_country, how='left', left_index=True, right_index=True)"
   ]
  },
  {
   "cell_type": "code",
   "execution_count": 145,
   "metadata": {},
   "outputs": [
    {
     "data": {
      "text/html": [
       "<div>\n",
       "<style scoped>\n",
       "    .dataframe tbody tr th:only-of-type {\n",
       "        vertical-align: middle;\n",
       "    }\n",
       "\n",
       "    .dataframe tbody tr th {\n",
       "        vertical-align: top;\n",
       "    }\n",
       "\n",
       "    .dataframe thead th {\n",
       "        text-align: right;\n",
       "    }\n",
       "</style>\n",
       "<table border=\"1\" class=\"dataframe\">\n",
       "  <thead>\n",
       "    <tr style=\"text-align: right;\">\n",
       "      <th></th>\n",
       "      <th>team_id</th>\n",
       "      <th>team</th>\n",
       "      <th>tm_data</th>\n",
       "      <th>game_id</th>\n",
       "      <th>city</th>\n",
       "      <th>country</th>\n",
       "    </tr>\n",
       "  </thead>\n",
       "  <tbody>\n",
       "    <tr>\n",
       "      <th>0</th>\n",
       "      <td>12433</td>\n",
       "      <td>Polessya</td>\n",
       "      <td>FC Polissya Zhytomyr  is a Ukrainian football club based in Zhytomyr, Polesia. As of the 2020–21 season, it will play in the Ukrainian First League, the second tier of Ukrainian football, following promotion from the 2019–20 Ukrainian Second League. Their home were Spartak and Kolos stadiums.</td>\n",
       "      <td>1459330</td>\n",
       "      <td>Zhytomyr</td>\n",
       "      <td>Ukrainia</td>\n",
       "    </tr>\n",
       "    <tr>\n",
       "      <th>1</th>\n",
       "      <td>7156</td>\n",
       "      <td>Kramatorsk</td>\n",
       "      <td>Football Club Kramatorsk is a professional Ukrainian football club from the city of Kramatorsk in Donetsk Oblast. The club takes its history from a factory team of the Old Kramatorsk Machine-building Plant (SKMZ).</td>\n",
       "      <td>1459333</td>\n",
       "      <td>Kramatorsk</td>\n",
       "      <td></td>\n",
       "    </tr>\n",
       "    <tr>\n",
       "      <th>2</th>\n",
       "      <td>8374</td>\n",
       "      <td>Lincoln City</td>\n",
       "      <td>Lincoln City Football Club is a professional association football club based in the city of Lincoln, Lincolnshire, England. The team compete in EFL League One, the third tier of the English football league system.</td>\n",
       "      <td>1445410</td>\n",
       "      <td>Lincoln</td>\n",
       "      <td></td>\n",
       "    </tr>\n",
       "  </tbody>\n",
       "</table>\n",
       "</div>"
      ],
      "text/plain": [
       "  team_id          team  \\\n",
       "0   12433      Polessya   \n",
       "1    7156    Kramatorsk   \n",
       "2    8374  Lincoln City   \n",
       "\n",
       "                                                                                                                                                                                                                                                                                                 tm_data  \\\n",
       "0  FC Polissya Zhytomyr  is a Ukrainian football club based in Zhytomyr, Polesia. As of the 2020–21 season, it will play in the Ukrainian First League, the second tier of Ukrainian football, following promotion from the 2019–20 Ukrainian Second League. Their home were Spartak and Kolos stadiums.   \n",
       "1                                                                                  Football Club Kramatorsk is a professional Ukrainian football club from the city of Kramatorsk in Donetsk Oblast. The club takes its history from a factory team of the Old Kramatorsk Machine-building Plant (SKMZ).   \n",
       "2                                                                                  Lincoln City Football Club is a professional association football club based in the city of Lincoln, Lincolnshire, England. The team compete in EFL League One, the third tier of the English football league system.   \n",
       "\n",
       "   game_id        city   country  \n",
       "0  1459330    Zhytomyr  Ukrainia  \n",
       "1  1459333  Kramatorsk            \n",
       "2  1445410     Lincoln            "
      ]
     },
     "execution_count": 145,
     "metadata": {},
     "output_type": "execute_result"
    }
   ],
   "source": [
    "df_teams_data.head(3)"
   ]
  },
  {
   "cell_type": "code",
   "execution_count": 148,
   "metadata": {},
   "outputs": [
    {
     "data": {
      "text/plain": [
       "             280\n",
       "Italia        71\n",
       "Brazilia      63\n",
       "Argentine     44\n",
       "Name: country, dtype: int64"
      ]
     },
     "execution_count": 148,
     "metadata": {},
     "output_type": "execute_result"
    }
   ],
   "source": [
    "df_teams_data.country.value_counts(dropna=False).head(4)"
   ]
  },
  {
   "cell_type": "code",
   "execution_count": 150,
   "metadata": {},
   "outputs": [],
   "source": [
    "# file = open('pickle_files/teams_data/df_teams_data', 'wb')\n",
    "# pickle.dump(df_teams_data, file)  \n",
    "# file.close()"
   ]
  },
  {
   "cell_type": "code",
   "execution_count": 153,
   "metadata": {},
   "outputs": [],
   "source": [
    "# with open('pickle_files/teams_data/df_teams_data', 'rb') as f:\n",
    "#     df_tm_data = pickle.load(f)"
   ]
  },
  {
   "cell_type": "code",
   "execution_count": 155,
   "metadata": {},
   "outputs": [],
   "source": [
    "# df_tm_data.to_csv('csv_files/df_teams_data.csv', index = None, header=True)"
   ]
  }
 ],
 "metadata": {
  "kernelspec": {
   "display_name": "Python 3 (ipykernel)",
   "language": "python",
   "name": "python3"
  },
  "language_info": {
   "codemirror_mode": {
    "name": "ipython",
    "version": 3
   },
   "file_extension": ".py",
   "mimetype": "text/x-python",
   "name": "python",
   "nbconvert_exporter": "python",
   "pygments_lexer": "ipython3",
   "version": "3.9.7"
  }
 },
 "nbformat": 4,
 "nbformat_minor": 4
}

{
 "cells": [
  {
   "cell_type": "code",
   "execution_count": 1,
   "metadata": {},
   "outputs": [],
   "source": [
    "import re\n",
    "import pickle\n",
    "import time\n",
    "import requests\n",
    "import pandas as pd\n",
    "from bs4 import BeautifulSoup\n",
    "\n",
    "from _html_parser import HtmlParser\n",
    "\n",
    "pd.set_option('display.max_rows', 500)\n",
    "pd.set_option('display.max_columns', 500)\n",
    "pd.set_option('display.max_colwidth', 500)"
   ]
  },
  {
   "cell_type": "code",
   "execution_count": 2,
   "metadata": {},
   "outputs": [],
   "source": [
    "%load_ext autoreload\n",
    "%autoreload 2"
   ]
  },
  {
   "cell_type": "code",
   "execution_count": 3,
   "metadata": {},
   "outputs": [],
   "source": [
    "with open('pickle_files/teams_data/tmd_26_03_2021/df_teams_cities_na_26_03_2021_sec', 'rb') as f:\n",
    "    df_game_ids_na_cities = pickle.load(f)"
   ]
  },
  {
   "cell_type": "code",
   "execution_count": 4,
   "metadata": {},
   "outputs": [
    {
     "name": "stdout",
     "output_type": "stream",
     "text": [
      "shape -  2283\n"
     ]
    },
    {
     "data": {
      "text/plain": [
       "array(['Pakistan Airlines', 'Habib Bank', 'Waltersdorf'], dtype=object)"
      ]
     },
     "execution_count": 4,
     "metadata": {},
     "output_type": "execute_result"
    }
   ],
   "source": [
    "teams_for_ids = df_game_ids_na_cities.f_team.values\n",
    "print('shape - ', len(teams_for_ids))\n",
    "teams_for_ids[-3:]"
   ]
  },
  {
   "cell_type": "markdown",
   "metadata": {},
   "source": [
    "#### Parsing teams ids"
   ]
  },
  {
   "cell_type": "code",
   "execution_count": 5,
   "metadata": {},
   "outputs": [],
   "source": [
    "# HtmlParser.find_teams_ids(teams_for_ids[:]) "
   ]
  },
  {
   "cell_type": "code",
   "execution_count": 6,
   "metadata": {},
   "outputs": [],
   "source": [
    "with open('pickle_files/teams_data/tmd_26_03_2021/teams_ids_na_cities_Waltersdorf', 'rb') as f:\n",
    "    lst_teams_ids = pickle.load(f)"
   ]
  },
  {
   "cell_type": "code",
   "execution_count": 7,
   "metadata": {},
   "outputs": [
    {
     "name": "stdout",
     "output_type": "stream",
     "text": [
      "shape -  2283\n"
     ]
    },
    {
     "data": {
      "text/plain": [
       "[['Pakistan Airlines', None], ['Habib Bank', None], ['Waltersdorf', None]]"
      ]
     },
     "execution_count": 7,
     "metadata": {},
     "output_type": "execute_result"
    }
   ],
   "source": [
    "print('shape - ', len(lst_teams_ids))\n",
    "lst_teams_ids[-3:]"
   ]
  },
  {
   "cell_type": "code",
   "execution_count": 8,
   "metadata": {},
   "outputs": [],
   "source": [
    "teams_ids = [x[1] for x in lst_teams_ids if x[1] is not None]"
   ]
  },
  {
   "cell_type": "code",
   "execution_count": 9,
   "metadata": {},
   "outputs": [
    {
     "name": "stdout",
     "output_type": "stream",
     "text": [
      "shape -  752\n"
     ]
    },
    {
     "data": {
      "text/plain": [
       "['11907', '19689', '7887']"
      ]
     },
     "execution_count": 9,
     "metadata": {},
     "output_type": "execute_result"
    }
   ],
   "source": [
    "print('shape - ', len(teams_ids))\n",
    "teams_ids[-3:]"
   ]
  },
  {
   "cell_type": "code",
   "execution_count": 10,
   "metadata": {},
   "outputs": [],
   "source": [
    "lst_teams_wt_id = [x[0] for x in lst_teams_ids if x[1] is None]"
   ]
  },
  {
   "cell_type": "code",
   "execution_count": 11,
   "metadata": {},
   "outputs": [
    {
     "name": "stdout",
     "output_type": "stream",
     "text": [
      "shape -  1531\n"
     ]
    },
    {
     "data": {
      "text/plain": [
       "['Pakistan Airlines', 'Habib Bank', 'Waltersdorf']"
      ]
     },
     "execution_count": 11,
     "metadata": {},
     "output_type": "execute_result"
    }
   ],
   "source": [
    "print('shape - ', len(lst_teams_wt_id))\n",
    "lst_teams_wt_id[-3:]"
   ]
  },
  {
   "cell_type": "code",
   "execution_count": 12,
   "metadata": {},
   "outputs": [],
   "source": [
    "df_teams_ids           = pd.DataFrame(columns=['teams_ids', 'team'])\n",
    "df_teams_ids.teams_ids = [x[1] for x in lst_teams_ids]\n",
    "df_teams_ids.team      = [x[0] for x in lst_teams_ids]"
   ]
  },
  {
   "cell_type": "code",
   "execution_count": 13,
   "metadata": {},
   "outputs": [],
   "source": [
    "df_teams_ids = df_teams_ids.merge(df_game_ids_na_cities.country, how='left', left_index=True, right_index=True)"
   ]
  },
  {
   "cell_type": "code",
   "execution_count": 14,
   "metadata": {},
   "outputs": [
    {
     "data": {
      "text/html": [
       "<div>\n",
       "<style scoped>\n",
       "    .dataframe tbody tr th:only-of-type {\n",
       "        vertical-align: middle;\n",
       "    }\n",
       "\n",
       "    .dataframe tbody tr th {\n",
       "        vertical-align: top;\n",
       "    }\n",
       "\n",
       "    .dataframe thead th {\n",
       "        text-align: right;\n",
       "    }\n",
       "</style>\n",
       "<table border=\"1\" class=\"dataframe\">\n",
       "  <thead>\n",
       "    <tr style=\"text-align: right;\">\n",
       "      <th></th>\n",
       "      <th>teams_ids</th>\n",
       "      <th>team</th>\n",
       "      <th>country</th>\n",
       "    </tr>\n",
       "  </thead>\n",
       "  <tbody>\n",
       "    <tr>\n",
       "      <th>0</th>\n",
       "      <td>None</td>\n",
       "      <td>Fortuna Becicherecu Mic</td>\n",
       "      <td>Romania</td>\n",
       "    </tr>\n",
       "    <tr>\n",
       "      <th>1</th>\n",
       "      <td>None</td>\n",
       "      <td>Concordia Chiajna II</td>\n",
       "      <td>Romania</td>\n",
       "    </tr>\n",
       "    <tr>\n",
       "      <th>2</th>\n",
       "      <td>10398</td>\n",
       "      <td>Flacara</td>\n",
       "      <td>Romania</td>\n",
       "    </tr>\n",
       "  </tbody>\n",
       "</table>\n",
       "</div>"
      ],
      "text/plain": [
       "  teams_ids                     team  country\n",
       "0      None  Fortuna Becicherecu Mic  Romania\n",
       "1      None     Concordia Chiajna II  Romania\n",
       "2     10398                  Flacara  Romania"
      ]
     },
     "execution_count": 14,
     "metadata": {},
     "output_type": "execute_result"
    }
   ],
   "source": [
    "df_teams_ids.head(3)"
   ]
  },
  {
   "cell_type": "markdown",
   "metadata": {},
   "source": [
    "#### Parsing teams data"
   ]
  },
  {
   "cell_type": "code",
   "execution_count": 15,
   "metadata": {},
   "outputs": [],
   "source": [
    "# HtmlParser.find_teams_data(teams_ids[:])"
   ]
  },
  {
   "cell_type": "code",
   "execution_count": 16,
   "metadata": {},
   "outputs": [],
   "source": [
    "# tmd_26_05_2022: (teams_wiki_data_8636, teams_wiki_data_12683, teams_wiki_data_14892), \n",
    "with open('pickle_files/teams_data/tmd_26_03_2021/teams_wiki_data_7887', 'rb') as f:\n",
    "    wiki_data = pickle.load(f)"
   ]
  },
  {
   "cell_type": "code",
   "execution_count": 17,
   "metadata": {},
   "outputs": [
    {
     "data": {
      "text/plain": [
       "752"
      ]
     },
     "execution_count": 17,
     "metadata": {},
     "output_type": "execute_result"
    }
   ],
   "source": [
    "len(wiki_data)"
   ]
  },
  {
   "cell_type": "code",
   "execution_count": 18,
   "metadata": {},
   "outputs": [
    {
     "data": {
      "text/plain": [
       "[('16569',\n",
       "  'Nakhon Pathom United Football Club, formerly known as Nakhon Pathom Football Club (Thai: สโมสรฟุตบอลจังหวัดนครปฐม), is a Thailand professional football club based in Nakhon Pathom province and currently play in Thai League 2. Their home stadium is Nakhon Pathom Municipality Sport School Stadium.')]"
      ]
     },
     "execution_count": 18,
     "metadata": {},
     "output_type": "execute_result"
    }
   ],
   "source": [
    "wiki_data[2:3]"
   ]
  },
  {
   "cell_type": "code",
   "execution_count": 19,
   "metadata": {},
   "outputs": [],
   "source": [
    "df_wiki_data  = pd.DataFrame(wiki_data, columns=['teams_ids', 'tm_data'])\n",
    "df_teams_data = df_teams_ids.merge(df_wiki_data, how='left', left_on='teams_ids', right_on='teams_ids')"
   ]
  },
  {
   "cell_type": "code",
   "execution_count": 20,
   "metadata": {},
   "outputs": [],
   "source": [
    "df_teams_data.drop_duplicates(subset=['teams_ids', 'team'], inplace=True)\n",
    "df_teams_data.reset_index(drop=True, inplace=True)"
   ]
  },
  {
   "cell_type": "code",
   "execution_count": 21,
   "metadata": {},
   "outputs": [
    {
     "name": "stdout",
     "output_type": "stream",
     "text": [
      "shape -  (2278, 4)\n"
     ]
    },
    {
     "data": {
      "text/html": [
       "<div>\n",
       "<style scoped>\n",
       "    .dataframe tbody tr th:only-of-type {\n",
       "        vertical-align: middle;\n",
       "    }\n",
       "\n",
       "    .dataframe tbody tr th {\n",
       "        vertical-align: top;\n",
       "    }\n",
       "\n",
       "    .dataframe thead th {\n",
       "        text-align: right;\n",
       "    }\n",
       "</style>\n",
       "<table border=\"1\" class=\"dataframe\">\n",
       "  <thead>\n",
       "    <tr style=\"text-align: right;\">\n",
       "      <th></th>\n",
       "      <th>teams_ids</th>\n",
       "      <th>team</th>\n",
       "      <th>country</th>\n",
       "      <th>tm_data</th>\n",
       "    </tr>\n",
       "  </thead>\n",
       "  <tbody>\n",
       "    <tr>\n",
       "      <th>0</th>\n",
       "      <td>None</td>\n",
       "      <td>Fortuna Becicherecu Mic</td>\n",
       "      <td>Romania</td>\n",
       "      <td>NaN</td>\n",
       "    </tr>\n",
       "    <tr>\n",
       "      <th>1</th>\n",
       "      <td>None</td>\n",
       "      <td>Concordia Chiajna II</td>\n",
       "      <td>Romania</td>\n",
       "      <td>NaN</td>\n",
       "    </tr>\n",
       "    <tr>\n",
       "      <th>2</th>\n",
       "      <td>10398</td>\n",
       "      <td>Flacara</td>\n",
       "      <td>Romania</td>\n",
       "      <td>Club Sportiv Municipal Flacăra Moreni,, commonly known as Flacăra Moreni or simply as Flacăra, is a Romanian football club based in Moreni, Dâmbovița County.</td>\n",
       "    </tr>\n",
       "    <tr>\n",
       "      <th>3</th>\n",
       "      <td>16570</td>\n",
       "      <td>Phrae United</td>\n",
       "      <td>Thailand</td>\n",
       "      <td>Phrae United Football Club is a Thai semi-professional football club based in Phrae Province. They currently play in Thai League 2.</td>\n",
       "    </tr>\n",
       "    <tr>\n",
       "      <th>4</th>\n",
       "      <td>16569</td>\n",
       "      <td>Nakhon Pathom</td>\n",
       "      <td>Thailand</td>\n",
       "      <td>Nakhon Pathom United Football Club, formerly known as Nakhon Pathom Football Club (Thai: สโมสรฟุตบอลจังหวัดนครปฐม), is a Thailand professional football club based in Nakhon Pathom province and currently play in Thai League 2. Their home stadium is Nakhon Pathom Municipality Sport School Stadium.</td>\n",
       "    </tr>\n",
       "  </tbody>\n",
       "</table>\n",
       "</div>"
      ],
      "text/plain": [
       "  teams_ids                     team   country  \\\n",
       "0      None  Fortuna Becicherecu Mic   Romania   \n",
       "1      None     Concordia Chiajna II   Romania   \n",
       "2     10398                  Flacara   Romania   \n",
       "3     16570             Phrae United  Thailand   \n",
       "4     16569            Nakhon Pathom  Thailand   \n",
       "\n",
       "                                                                                                                                                                                                                                                                                                    tm_data  \n",
       "0                                                                                                                                                                                                                                                                                                       NaN  \n",
       "1                                                                                                                                                                                                                                                                                                       NaN  \n",
       "2                                                                                                                                             Club Sportiv Municipal Flacăra Moreni,, commonly known as Flacăra Moreni or simply as Flacăra, is a Romanian football club based in Moreni, Dâmbovița County.  \n",
       "3                                                                                                                                                                       Phrae United Football Club is a Thai semi-professional football club based in Phrae Province. They currently play in Thai League 2.  \n",
       "4  Nakhon Pathom United Football Club, formerly known as Nakhon Pathom Football Club (Thai: สโมสรฟุตบอลจังหวัดนครปฐม), is a Thailand professional football club based in Nakhon Pathom province and currently play in Thai League 2. Their home stadium is Nakhon Pathom Municipality Sport School Stadium.  "
      ]
     },
     "execution_count": 21,
     "metadata": {},
     "output_type": "execute_result"
    }
   ],
   "source": [
    "print('shape - ', df_teams_data.shape)\n",
    "df_teams_data.head()"
   ]
  },
  {
   "cell_type": "markdown",
   "metadata": {},
   "source": [
    "#### Data clear"
   ]
  },
  {
   "cell_type": "code",
   "execution_count": 22,
   "metadata": {},
   "outputs": [],
   "source": [
    "data_is_a = df_teams_data.tm_data.map(lambda x: ''.join(HtmlParser.cut_part_of_string(x, 'is a', '\\.')) if re.findall('is a', str(x)) else None)"
   ]
  },
  {
   "cell_type": "code",
   "execution_count": 23,
   "metadata": {},
   "outputs": [],
   "source": [
    "data_based_in = data_is_a.map(lambda x: x if re.findall('(based in)|(city of)|(town of)|(located in)|(club from)|(club in)|(playing in)', str(x)) else None)"
   ]
  },
  {
   "cell_type": "code",
   "execution_count": 24,
   "metadata": {},
   "outputs": [],
   "source": [
    "data_based_in = data_based_in.map(lambda x: ''.join(HtmlParser.cut_part_of_string(x, 'city of ', '$')) if re.findall('city of', str(x)) else x)\n",
    "data_based_in = data_based_in.map(lambda x: ''.join(HtmlParser.cut_part_of_string(x, 'town of ', '$')) if re.findall('town of', str(x)) else x)\n",
    "data_based_in = data_based_in.map(lambda x: ''.join(HtmlParser.cut_part_of_string(x, 'located in ', '$')) if re.findall('located in', str(x)) else x)\n",
    "data_based_in = data_based_in.map(lambda x: ''.join(HtmlParser.cut_part_of_string(x, 'club from ', '$')) if re.findall('club from', str(x)) else x)\n",
    "data_based_in = data_based_in.map(lambda x: ''.join(HtmlParser.cut_part_of_string(x, 'club in ', '$')) if re.findall('club in', str(x)) else x)\n",
    "data_based_in = data_based_in.map(lambda x: ''.join(HtmlParser.cut_part_of_string(x, 'playing in ', '$')) if re.findall('playing in', str(x)) else x)\n",
    "data_based_in = data_based_in.map(lambda x: ''.join(HtmlParser.cut_part_of_string(x, 'based in ', '$')) if re.findall('based in', str(x)) else x)"
   ]
  },
  {
   "cell_type": "code",
   "execution_count": 25,
   "metadata": {},
   "outputs": [],
   "source": [
    "data_based_in = data_based_in.map(lambda x: ''.join(HtmlParser.cut_part_of_string(x, '^', ',')) if re.findall(',', str(x)) else x)"
   ]
  },
  {
   "cell_type": "code",
   "execution_count": 26,
   "metadata": {},
   "outputs": [],
   "source": [
    "# data_based_in"
   ]
  },
  {
   "cell_type": "code",
   "execution_count": 27,
   "metadata": {},
   "outputs": [],
   "source": [
    "df_teams_data['city'] = data_based_in.values"
   ]
  },
  {
   "cell_type": "code",
   "execution_count": 28,
   "metadata": {},
   "outputs": [
    {
     "name": "stdout",
     "output_type": "stream",
     "text": [
      "shape -  2278\n"
     ]
    },
    {
     "data": {
      "text/html": [
       "<div>\n",
       "<style scoped>\n",
       "    .dataframe tbody tr th:only-of-type {\n",
       "        vertical-align: middle;\n",
       "    }\n",
       "\n",
       "    .dataframe tbody tr th {\n",
       "        vertical-align: top;\n",
       "    }\n",
       "\n",
       "    .dataframe thead th {\n",
       "        text-align: right;\n",
       "    }\n",
       "</style>\n",
       "<table border=\"1\" class=\"dataframe\">\n",
       "  <thead>\n",
       "    <tr style=\"text-align: right;\">\n",
       "      <th></th>\n",
       "      <th>teams_ids</th>\n",
       "      <th>team</th>\n",
       "      <th>country</th>\n",
       "      <th>tm_data</th>\n",
       "      <th>city</th>\n",
       "    </tr>\n",
       "  </thead>\n",
       "  <tbody>\n",
       "    <tr>\n",
       "      <th>0</th>\n",
       "      <td>None</td>\n",
       "      <td>Fortuna Becicherecu Mic</td>\n",
       "      <td>Romania</td>\n",
       "      <td>NaN</td>\n",
       "      <td>None</td>\n",
       "    </tr>\n",
       "    <tr>\n",
       "      <th>1</th>\n",
       "      <td>None</td>\n",
       "      <td>Concordia Chiajna II</td>\n",
       "      <td>Romania</td>\n",
       "      <td>NaN</td>\n",
       "      <td>None</td>\n",
       "    </tr>\n",
       "    <tr>\n",
       "      <th>2</th>\n",
       "      <td>10398</td>\n",
       "      <td>Flacara</td>\n",
       "      <td>Romania</td>\n",
       "      <td>Club Sportiv Municipal Flacăra Moreni,, commonly known as Flacăra Moreni or simply as Flacăra, is a Romanian football club based in Moreni, Dâmbovița County.</td>\n",
       "      <td>Moreni</td>\n",
       "    </tr>\n",
       "  </tbody>\n",
       "</table>\n",
       "</div>"
      ],
      "text/plain": [
       "  teams_ids                     team  country  \\\n",
       "0      None  Fortuna Becicherecu Mic  Romania   \n",
       "1      None     Concordia Chiajna II  Romania   \n",
       "2     10398                  Flacara  Romania   \n",
       "\n",
       "                                                                                                                                                         tm_data  \\\n",
       "0                                                                                                                                                            NaN   \n",
       "1                                                                                                                                                            NaN   \n",
       "2  Club Sportiv Municipal Flacăra Moreni,, commonly known as Flacăra Moreni or simply as Flacăra, is a Romanian football club based in Moreni, Dâmbovița County.   \n",
       "\n",
       "     city  \n",
       "0    None  \n",
       "1    None  \n",
       "2  Moreni  "
      ]
     },
     "execution_count": 28,
     "metadata": {},
     "output_type": "execute_result"
    }
   ],
   "source": [
    "print('shape - ', df_teams_data.shape[0])\n",
    "df_teams_data.head(3)"
   ]
  },
  {
   "cell_type": "code",
   "execution_count": 29,
   "metadata": {},
   "outputs": [],
   "source": [
    "# df_teams_data.to_csv('csv_files/df_teams_data_26_03_2021_sec.csv', index = None, header=True)"
   ]
  },
  {
   "cell_type": "markdown",
   "metadata": {},
   "source": [
    "#### Parsing data from soccerway"
   ]
  },
  {
   "cell_type": "code",
   "execution_count": 38,
   "metadata": {},
   "outputs": [
    {
     "name": "stdout",
     "output_type": "stream",
     "text": [
      "shape -  (1531, 5)\n"
     ]
    },
    {
     "data": {
      "text/html": [
       "<div>\n",
       "<style scoped>\n",
       "    .dataframe tbody tr th:only-of-type {\n",
       "        vertical-align: middle;\n",
       "    }\n",
       "\n",
       "    .dataframe tbody tr th {\n",
       "        vertical-align: top;\n",
       "    }\n",
       "\n",
       "    .dataframe thead th {\n",
       "        text-align: right;\n",
       "    }\n",
       "</style>\n",
       "<table border=\"1\" class=\"dataframe\">\n",
       "  <thead>\n",
       "    <tr style=\"text-align: right;\">\n",
       "      <th></th>\n",
       "      <th>teams_ids</th>\n",
       "      <th>team</th>\n",
       "      <th>country</th>\n",
       "      <th>tm_data</th>\n",
       "      <th>city</th>\n",
       "    </tr>\n",
       "  </thead>\n",
       "  <tbody>\n",
       "    <tr>\n",
       "      <th>1528</th>\n",
       "      <td>None</td>\n",
       "      <td>Pakistan Airlines</td>\n",
       "      <td>Pakistan</td>\n",
       "      <td>NaN</td>\n",
       "      <td>None</td>\n",
       "    </tr>\n",
       "    <tr>\n",
       "      <th>1529</th>\n",
       "      <td>None</td>\n",
       "      <td>Habib Bank</td>\n",
       "      <td>Pakistan</td>\n",
       "      <td>NaN</td>\n",
       "      <td>None</td>\n",
       "    </tr>\n",
       "    <tr>\n",
       "      <th>1530</th>\n",
       "      <td>None</td>\n",
       "      <td>Waltersdorf</td>\n",
       "      <td>Germany</td>\n",
       "      <td>NaN</td>\n",
       "      <td>None</td>\n",
       "    </tr>\n",
       "  </tbody>\n",
       "</table>\n",
       "</div>"
      ],
      "text/plain": [
       "     teams_ids               team   country tm_data  city\n",
       "1528      None  Pakistan Airlines  Pakistan     NaN  None\n",
       "1529      None         Habib Bank  Pakistan     NaN  None\n",
       "1530      None        Waltersdorf   Germany     NaN  None"
      ]
     },
     "execution_count": 38,
     "metadata": {},
     "output_type": "execute_result"
    }
   ],
   "source": [
    "df_wt_data = df_teams_data[df_teams_data.teams_ids.isna()].copy().reset_index(drop=True)\n",
    "print('shape - ', df_wt_data.shape)\n",
    "df_wt_data.tail(3)"
   ]
  },
  {
   "cell_type": "code",
   "execution_count": null,
   "metadata": {},
   "outputs": [],
   "source": [
    "teams_countries_lt"
   ]
  },
  {
   "cell_type": "code",
   "execution_count": 82,
   "metadata": {},
   "outputs": [],
   "source": [
    "teams_countries_lt = df_wt_data[['team', 'country']].apply(lambda x: [x[0], x[1]], axis=1)"
   ]
  },
  {
   "cell_type": "code",
   "execution_count": 83,
   "metadata": {},
   "outputs": [
    {
     "data": {
      "text/plain": [
       "0    [Fortuna Becicherecu Mic, Romania]\n",
       "1       [Concordia Chiajna II, Romania]\n",
       "2          [Urania Baška Voda, Croatia]\n",
       "dtype: object"
      ]
     },
     "execution_count": 83,
     "metadata": {},
     "output_type": "execute_result"
    }
   ],
   "source": [
    "teams_countries_lt[:3]"
   ]
  },
  {
   "cell_type": "code",
   "execution_count": 98,
   "metadata": {},
   "outputs": [],
   "source": [
    "def extract_source(url):\n",
    "    headers = {'User-Agent': 'Mozilla/5.0'}\n",
    "    source=requests.get(url, headers=headers).text\n",
    "    return source"
   ]
  },
  {
   "cell_type": "code",
   "execution_count": 100,
   "metadata": {},
   "outputs": [],
   "source": [
    "# extract_source('https://int.soccerway.com/search/teams/?q=Waltersdorf')"
   ]
  },
  {
   "cell_type": "code",
   "execution_count": 116,
   "metadata": {},
   "outputs": [],
   "source": [
    "def find_soccerway_team_data(teams_countries_lt: list, url='https://int.soccerway.com/search/teams/?q=', name_saved_file='soccerway_teams_data'):\n",
    "    headers = {'User-Agent': 'Mozilla/5.0'}\n",
    "    team_data = []\n",
    "\n",
    "    for count, team_country in enumerate(teams_countries_lt):\n",
    "    \n",
    "        html = requests.get(url + team_country[0], headers=headers).content # + \n",
    "        soup = BeautifulSoup(html, \"html.parser\")\n",
    "\n",
    "        ul_find   = soup.find('ul', {'class':'tree search-results'})\n",
    "        span_find = re.sub(r'[^\\w]', '', ul_find.find('span', {'class':'meta'}).text)\n",
    "        \n",
    "        print(ul_find)"
   ]
  },
  {
   "cell_type": "code",
   "execution_count": null,
   "metadata": {},
   "outputs": [],
   "source": [
    "<span class=\"meta\">(Germany)</span>"
   ]
  },
  {
   "cell_type": "code",
   "execution_count": 117,
   "metadata": {},
   "outputs": [
    {
     "name": "stdout",
     "output_type": "stream",
     "text": [
      "<ul class=\"tree search-results\">\n",
      "<li><a href=\"/teams/belgium/koninklijke-atletiek-associatie-gent/214/\">Gent</a> <span class=\"meta\">(Belgium)</span></li>\n",
      "<li><a href=\"/teams/germany/dusseldorfer-tus-fortuna-1895-ev/1029/\">Fortuna Düsseldorf</a> <span class=\"meta\">(Germany)</span></li>\n",
      "<li><a href=\"/teams/netherlands/fortuna-sittard/1551/\">Fortuna Sittard</a> <span class=\"meta\">(Netherlands)</span></li>\n",
      "<li><a href=\"/teams/romania/poiana-campina/1805/\">Poiana</a> <span class=\"meta\">(Romania)</span></li>\n",
      "<li><a href=\"/teams/germany/sc-fortuna-koln/2367/\">Fortuna Köln</a> <span class=\"meta\">(Germany)</span></li>\n",
      "<li><a href=\"/teams/finland/hifk-soccer-helsinki/2432/\">HIFK</a> <span class=\"meta\">(Finland)</span></li>\n",
      "<li><a href=\"/teams/moldova/fortuna-pleseni/3374/\">Fortuna</a> <span class=\"meta\">(Moldova)</span></li>\n",
      "<li><a href=\"/teams/germany/spvgg-oberaussem-fortuna/5200/\">Oberaussem</a> <span class=\"meta\">(Germany)</span></li>\n",
      "<li><a href=\"/teams/norway/fortuna-aalesund-fk/5234/\">Fortuna Ålesund</a> <span class=\"meta\">(Norway)</span></li>\n",
      "<li><a href=\"/teams/netherlands/sv-fortuna-wormerveer/5289/\">Fortuna Wormerveer</a> <span class=\"meta\">(Netherlands)</span></li>\n",
      "<li><a href=\"/teams/denmark/dbk-fortuna-hjorring/5328/\">Fortuna Hjørring</a> <span class=\"meta\">(Denmark)</span></li>\n",
      "<li><a href=\"/teams/russia/fortuna-mytyshchi/6641/\">Fortuna Mytyshchi</a> <span class=\"meta\">(Russia)</span></li>\n",
      "<li><a href=\"/teams/netherlands/sv-fortuna-wormerveer-ii/7169/\">Fortuna Wormerveer II</a> <span class=\"meta\">(Netherlands)</span></li>\n",
      "<li><a href=\"/teams/gibraltar/manchester-united/7910/\">Manchester 62</a> <span class=\"meta\">(Gibraltar)</span></li>\n",
      "<li><a href=\"/teams/lithuania/fortuna-vilnius/8655/\">Fortuna Vilnius</a> <span class=\"meta\">(Lithuania)</span></li>\n",
      "<li><a href=\"/teams/germany/sc-fortuna-koln/8705/\">Fortuna Köln</a> <span class=\"meta\">(Germany)</span></li>\n",
      "<li><a href=\"/teams/germany/fortuna-dusseldorf-ii/8860/\">Fortuna Düsseldorf II</a> <span class=\"meta\">(Germany)</span></li>\n",
      "<li><a href=\"/teams/romania/acs-fortuna-covaci/9254/\">Fortuna Covaci</a> <span class=\"meta\">(Romania)</span></li>\n",
      "<li><a href=\"/teams/germany/djk-fortuna-dilkrath/9358/\">Fortuna Dilkrath</a> <span class=\"meta\">(Germany)</span></li>\n",
      "<li><a href=\"/teams/curacao/sv-hubentud-fortuna/10156/\">Fortuna Kura Piedra</a> <span class=\"meta\">(Curaçao)</span></li>\n",
      "</ul>\n",
      "<ul class=\"tree search-results\">\n",
      "<li><a href=\"/teams/switzerland/fc-concordia-basel/2191/\">Concordia Basel</a> <span class=\"meta\">(Switzerland)</span></li>\n",
      "<li><a href=\"/teams/netherlands/reeuwijkse-voetbalvereniging-concordia-1933/6495/\">RVC 33</a> <span class=\"meta\">(Netherlands)</span></li>\n",
      "<li><a href=\"/teams/switzerland/fc-concordia-basel/7224/\">Concordia Basel</a> <span class=\"meta\">(Switzerland)</span></li>\n",
      "<li><a href=\"/teams/argentina/atletico-colegiales-de-concordia/8560/\">Colegiales Concordia</a> <span class=\"meta\">(Argentina)</span></li>\n",
      "<li><a href=\"/teams/poland/concordia-piotrkow-trybunalski/8977/\">Piotrków Trybunalski</a> <span class=\"meta\">(Poland)</span></li>\n",
      "<li><a href=\"/teams/romania/cs-concordia-chiajna/9088/\">Concordia Chiajna</a> <span class=\"meta\">(Romania)</span></li>\n",
      "<li><a href=\"/teams/germany/sc-concordia-hamburg/11206/\">Concordia Hamburg</a> <span class=\"meta\">(Germany)</span></li>\n",
      "<li><a href=\"/teams/poland/mmks-concordia-elblag/11441/\">Concordia Elbląg</a> <span class=\"meta\">(Poland)</span></li>\n",
      "<li><a href=\"/teams/italy/sagittaria-julia/12133/\">Concordia</a> <span class=\"meta\">(Italy)</span></li>\n",
      "<li><a href=\"/teams/united-states/orange-county-blue-star/13233/\">Orange County Blue Star</a> <span class=\"meta\">(USA)</span></li>\n",
      "<li><a href=\"/teams/brazil/concordia-atletico-clube/17288/\">Concórdia</a> <span class=\"meta\">(Brazil)</span></li>\n",
      "<li><a href=\"/teams/romania/cs-concordia-chiajna-ii/19226/\">Concordia Chiajna II</a> <span class=\"meta\">(Romania)</span></li>\n",
      "<li><a href=\"/teams/argentina/club-sportivo-las-heras-de-concordia/19458/\">Las Heras Concordia</a> <span class=\"meta\">(Argentina)</span></li>\n",
      "<li><a href=\"/teams/netherlands/concordia-wehl/29341/\">Concordia Wehl</a> <span class=\"meta\">(Netherlands)</span></li>\n",
      "<li><a href=\"/teams/switzerland/fc-concordia-basel-ii/29761/\">Concordia Basel II</a> <span class=\"meta\">(Switzerland)</span></li>\n",
      "<li><a href=\"/teams/argentina/libertad-concordia/31367/\">Libertad Concordia</a> <span class=\"meta\">(Argentina)</span></li>\n",
      "<li><a href=\"/teams/germany/concordia-wiemelhausen/32201/\">Concordia Wiemelhausen</a> <span class=\"meta\">(Germany)</span></li>\n",
      "<li><a href=\"/teams/argentina/santa-maria-de-oro/36963/\">Santa María de Oro</a> <span class=\"meta\">(Argentina)</span></li>\n",
      "<li><a href=\"/teams/germany/concordia-schonkirchen/37021/\">Concordia Schönkirchen</a> <span class=\"meta\">(Germany)</span></li>\n",
      "<li><a href=\"/teams/germany/wittenauer-sc-concordia/37847/\">Wittenauer SC Concordia</a> <span class=\"meta\">(Germany)</span></li>\n",
      "</ul>\n",
      "<ul class=\"tree search-results\">\n",
      "<li><a href=\"/teams/switzerland/fc-urania-geneve-sport/8598/\">UGS</a> <span class=\"meta\">(Switzerland)</span></li>\n",
      "<li><a href=\"/teams/croatia/urania-baka-voda/40227/\">Urania Baška Voda</a> <span class=\"meta\">(Croatia)</span></li>\n",
      "</ul>\n"
     ]
    }
   ],
   "source": [
    "find_soccerway_team_data(teams_countries_lt[:3])"
   ]
  },
  {
   "cell_type": "code",
   "execution_count": null,
   "metadata": {},
   "outputs": [],
   "source": [
    "https://int.soccerway.com/search/teams/?q=Waltersdorf"
   ]
  },
  {
   "cell_type": "code",
   "execution_count": null,
   "metadata": {},
   "outputs": [],
   "source": [
    "'Waltersdorf'"
   ]
  },
  {
   "cell_type": "code",
   "execution_count": null,
   "metadata": {},
   "outputs": [],
   "source": [
    "<ul class=\"tree search-results\">"
   ]
  },
  {
   "cell_type": "code",
   "execution_count": null,
   "metadata": {},
   "outputs": [],
   "source": []
  },
  {
   "cell_type": "markdown",
   "metadata": {},
   "source": [
    "#### Work after manual correct"
   ]
  },
  {
   "cell_type": "code",
   "execution_count": 30,
   "metadata": {},
   "outputs": [],
   "source": [
    "colnames = ['team_id', 'f_team', 'country', 'tm_data', 'city']"
   ]
  },
  {
   "cell_type": "code",
   "execution_count": 31,
   "metadata": {},
   "outputs": [],
   "source": [
    "df_after_corr = pd.read_csv('csv_files/df_teams_data_26_05_2022_four.csv', names=colnames, header=None, dtype=str)"
   ]
  },
  {
   "cell_type": "code",
   "execution_count": 32,
   "metadata": {},
   "outputs": [
    {
     "name": "stdout",
     "output_type": "stream",
     "text": [
      "shape -  1586\n"
     ]
    },
    {
     "data": {
      "text/html": [
       "<div>\n",
       "<style scoped>\n",
       "    .dataframe tbody tr th:only-of-type {\n",
       "        vertical-align: middle;\n",
       "    }\n",
       "\n",
       "    .dataframe tbody tr th {\n",
       "        vertical-align: top;\n",
       "    }\n",
       "\n",
       "    .dataframe thead th {\n",
       "        text-align: right;\n",
       "    }\n",
       "</style>\n",
       "<table border=\"1\" class=\"dataframe\">\n",
       "  <thead>\n",
       "    <tr style=\"text-align: right;\">\n",
       "      <th></th>\n",
       "      <th>team_id</th>\n",
       "      <th>f_team</th>\n",
       "      <th>country</th>\n",
       "      <th>tm_data</th>\n",
       "      <th>city</th>\n",
       "    </tr>\n",
       "  </thead>\n",
       "  <tbody>\n",
       "    <tr>\n",
       "      <th>0</th>\n",
       "      <td>teams_ids</td>\n",
       "      <td>team</td>\n",
       "      <td>country</td>\n",
       "      <td>tm_data</td>\n",
       "      <td>city</td>\n",
       "    </tr>\n",
       "    <tr>\n",
       "      <th>1</th>\n",
       "      <td>NaN</td>\n",
       "      <td>RSV Eintracht 1949</td>\n",
       "      <td>Germany</td>\n",
       "      <td>NaN</td>\n",
       "      <td>Stahnsdorf</td>\n",
       "    </tr>\n",
       "    <tr>\n",
       "      <th>2</th>\n",
       "      <td>NaN</td>\n",
       "      <td>TuS Mechtersheim</td>\n",
       "      <td>Germany</td>\n",
       "      <td>NaN</td>\n",
       "      <td>Mechtersheim</td>\n",
       "    </tr>\n",
       "  </tbody>\n",
       "</table>\n",
       "</div>"
      ],
      "text/plain": [
       "     team_id              f_team  country  tm_data          city\n",
       "0  teams_ids                team  country  tm_data          city\n",
       "1        NaN  RSV Eintracht 1949  Germany      NaN    Stahnsdorf\n",
       "2        NaN    TuS Mechtersheim  Germany      NaN  Mechtersheim"
      ]
     },
     "execution_count": 32,
     "metadata": {},
     "output_type": "execute_result"
    }
   ],
   "source": [
    "print('shape - ', df_after_corr.shape[0])\n",
    "df_after_corr.head(3)"
   ]
  },
  {
   "cell_type": "code",
   "execution_count": 33,
   "metadata": {},
   "outputs": [],
   "source": [
    "df_after_corr.drop_duplicates(subset=['f_team', 'country'], inplace=True)\n",
    "df_after_corr.reset_index(drop=True, inplace=True)"
   ]
  },
  {
   "cell_type": "code",
   "execution_count": 34,
   "metadata": {},
   "outputs": [],
   "source": [
    "df_after_corr.drop(columns='tm_data', inplace=True)"
   ]
  },
  {
   "cell_type": "code",
   "execution_count": 35,
   "metadata": {},
   "outputs": [
    {
     "data": {
      "text/html": [
       "<div>\n",
       "<style scoped>\n",
       "    .dataframe tbody tr th:only-of-type {\n",
       "        vertical-align: middle;\n",
       "    }\n",
       "\n",
       "    .dataframe tbody tr th {\n",
       "        vertical-align: top;\n",
       "    }\n",
       "\n",
       "    .dataframe thead th {\n",
       "        text-align: right;\n",
       "    }\n",
       "</style>\n",
       "<table border=\"1\" class=\"dataframe\">\n",
       "  <thead>\n",
       "    <tr style=\"text-align: right;\">\n",
       "      <th></th>\n",
       "      <th>team_id</th>\n",
       "      <th>f_team</th>\n",
       "      <th>country</th>\n",
       "      <th>city</th>\n",
       "    </tr>\n",
       "  </thead>\n",
       "  <tbody>\n",
       "    <tr>\n",
       "      <th>1583</th>\n",
       "      <td>11391</td>\n",
       "      <td>Song Lam Nghe An</td>\n",
       "      <td>Vietnam</td>\n",
       "      <td>Vinh</td>\n",
       "    </tr>\n",
       "    <tr>\n",
       "      <th>1584</th>\n",
       "      <td>12529</td>\n",
       "      <td>Heidelberg United</td>\n",
       "      <td>Australia</td>\n",
       "      <td>Melbourne</td>\n",
       "    </tr>\n",
       "    <tr>\n",
       "      <th>1585</th>\n",
       "      <td>NaN</td>\n",
       "      <td>Mladost Medoševac</td>\n",
       "      <td>Serbia</td>\n",
       "      <td>Medoševac</td>\n",
       "    </tr>\n",
       "  </tbody>\n",
       "</table>\n",
       "</div>"
      ],
      "text/plain": [
       "     team_id             f_team    country       city\n",
       "1583   11391   Song Lam Nghe An    Vietnam       Vinh\n",
       "1584   12529  Heidelberg United  Australia  Melbourne\n",
       "1585     NaN  Mladost Medoševac     Serbia  Medoševac"
      ]
     },
     "execution_count": 35,
     "metadata": {},
     "output_type": "execute_result"
    }
   ],
   "source": [
    "df_after_corr.tail(3)"
   ]
  },
  {
   "cell_type": "code",
   "execution_count": 36,
   "metadata": {},
   "outputs": [],
   "source": [
    "# file = open('pickle_files/teams_data/df_after_corr_26_05_2022_four', 'wb')\n",
    "# pickle.dump(df_after_corr, file)  \n",
    "# file.close()"
   ]
  }
 ],
 "metadata": {
  "kernelspec": {
   "display_name": "Python 3 (ipykernel)",
   "language": "python",
   "name": "python3"
  },
  "language_info": {
   "codemirror_mode": {
    "name": "ipython",
    "version": 3
   },
   "file_extension": ".py",
   "mimetype": "text/x-python",
   "name": "python",
   "nbconvert_exporter": "python",
   "pygments_lexer": "ipython3",
   "version": "3.9.7"
  }
 },
 "nbformat": 4,
 "nbformat_minor": 4
}

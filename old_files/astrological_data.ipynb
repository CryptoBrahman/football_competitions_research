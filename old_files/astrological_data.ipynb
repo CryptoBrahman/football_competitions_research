{
 "cells": [
  {
   "cell_type": "code",
   "execution_count": 68,
   "id": "positive-sauce",
   "metadata": {},
   "outputs": [],
   "source": [
    "# https://github.com/flatangle/flatlib/tree/master/recipes"
   ]
  },
  {
   "cell_type": "code",
   "execution_count": 1,
   "id": "f46bcebd-6ed1-4857-b3df-6dc9ae571c9a",
   "metadata": {},
   "outputs": [],
   "source": [
    "import sys\n",
    "sys.path.append('/home/cryptobrahman/Own/football_competitions_research/own_modules/') \n",
    "sys.path.append('/mnt/KINGSTON_120/Own/football_competitions_research/own_modules/') "
   ]
  },
  {
   "cell_type": "code",
   "execution_count": 2,
   "id": "hidden-creativity",
   "metadata": {},
   "outputs": [],
   "source": [
    "from flatlib import aspects\n",
    "from flatlib import const\n",
    "from flatlib.chart import Chart\n",
    "from flatlib.datetime import Datetime\n",
    "from flatlib.geopos import GeoPos\n",
    "from flatlib.tools import arabicparts\n",
    "from flatlib.protocols import behavior\n",
    "from flatlib.tools.chartdynamics import ChartDynamics\n",
    "from flatlib.ephem import ephem\n",
    "from flatlib.dignities import essential"
   ]
  },
  {
   "cell_type": "code",
   "execution_count": 3,
   "id": "found-supplement",
   "metadata": {},
   "outputs": [],
   "source": [
    "date = Datetime('2021/06/13', '19:00', '+00:00')\n",
    "pos = GeoPos('50n22', '4e54')\n",
    "chart = Chart(date, pos)"
   ]
  },
  {
   "cell_type": "markdown",
   "id": "automated-journey",
   "metadata": {},
   "source": [
    "#### Get Houses"
   ]
  },
  {
   "cell_type": "code",
   "execution_count": 4,
   "id": "97f2cb0d-be6b-4456-9eb6-ef73c304cd37",
   "metadata": {},
   "outputs": [
    {
     "data": {
      "text/plain": [
       "'Leo'"
      ]
     },
     "execution_count": 4,
     "metadata": {},
     "output_type": "execute_result"
    }
   ],
   "source": [
    "moon = chart.get(const.MOON)\n",
    "moon.sign"
   ]
  },
  {
   "cell_type": "code",
   "execution_count": 9,
   "id": "9c0f13a1-8df1-4b51-8bc1-347ac30bbedc",
   "metadata": {},
   "outputs": [
    {
     "data": {
      "text/plain": [
       "<flatlib.object.GenericObject at 0x7efda85cdb50>"
      ]
     },
     "execution_count": 9,
     "metadata": {},
     "output_type": "execute_result"
    }
   ],
   "source": [
    "moon = chart.get(const.ASC)\n",
    "moon"
   ]
  },
  {
   "cell_type": "code",
   "execution_count": 6,
   "id": "30aba559-82f9-4dd3-8794-d83e753788e0",
   "metadata": {},
   "outputs": [
    {
     "ename": "TypeError",
     "evalue": "get() missing 1 required positional argument: 'ID'",
     "output_type": "error",
     "traceback": [
      "\u001b[0;31m---------------------------------------------------------------------------\u001b[0m",
      "\u001b[0;31mTypeError\u001b[0m                                 Traceback (most recent call last)",
      "Input \u001b[0;32mIn [6]\u001b[0m, in \u001b[0;36m<cell line: 1>\u001b[0;34m()\u001b[0m\n\u001b[0;32m----> 1\u001b[0m moon \u001b[38;5;241m=\u001b[39m \u001b[43mchart\u001b[49m\u001b[38;5;241;43m.\u001b[39;49m\u001b[43mget\u001b[49m\u001b[43m(\u001b[49m\u001b[43m)\u001b[49m\n\u001b[1;32m      2\u001b[0m moon\u001b[38;5;241m.\u001b[39mlon\n",
      "\u001b[0;31mTypeError\u001b[0m: get() missing 1 required positional argument: 'ID'"
     ]
    }
   ],
   "source": [
    "moon = chart.get()\n",
    "moon.lon"
   ]
  },
  {
   "cell_type": "code",
   "execution_count": 8,
   "id": "insured-queensland",
   "metadata": {},
   "outputs": [
    {
     "name": "stdout",
     "output_type": "stream",
     "text": [
      "<Asc Sagittarius +13:40:35> <Desc Gemini +13:40:35> <MC Libra +13:15:57> <IC Aries +13:15:57>\n"
     ]
    }
   ],
   "source": [
    "asc = chart.get(const.ASC)\n",
    "desc = chart.get(const.DESC)\n",
    "mc = chart.get(const.MC)\n",
    "ic = chart.get(const.IC)\n",
    "print(asc, desc, mc, ic)"
   ]
  },
  {
   "cell_type": "markdown",
   "id": "northern-compiler",
   "metadata": {},
   "source": [
    "#### Get Houses rullers"
   ]
  },
  {
   "cell_type": "code",
   "execution_count": 5,
   "id": "cellular-perception",
   "metadata": {},
   "outputs": [
    {
     "name": "stdout",
     "output_type": "stream",
     "text": [
      "<Jupiter Pisces +02:06:34 +00:01:19>\n"
     ]
    }
   ],
   "source": [
    "ascRulerID = essential.ruler(asc.sign)\n",
    "ascRuler = chart.get(ascRulerID)\n",
    "print(ascRuler)"
   ]
  },
  {
   "cell_type": "code",
   "execution_count": 8,
   "id": "atomic-elite",
   "metadata": {},
   "outputs": [],
   "source": [
    "sun = chart.get(const.SUN)\n",
    "moon = chart.get(const.MOON)"
   ]
  },
  {
   "cell_type": "code",
   "execution_count": 9,
   "id": "induced-timothy",
   "metadata": {},
   "outputs": [
    {
     "name": "stdout",
     "output_type": "stream",
     "text": [
      "mj_aspect:  <Moon Sun -1 None +00:00:00>\n",
      "mn_aspect:  <Moon Sun 36 Separative +01:20:51>\n"
     ]
    }
   ],
   "source": [
    "mj_aspect = aspects.getAspect(sun, moon, const.MAJOR_ASPECTS)\n",
    "print('mj_aspect: ', mj_aspect)\n",
    "mn_aspect = aspects.getAspect(sun, moon, const.MINOR_ASPECTS)\n",
    "print('mn_aspect: ', mn_aspect)"
   ]
  },
  {
   "cell_type": "code",
   "execution_count": 10,
   "id": "lesbian-indianapolis",
   "metadata": {},
   "outputs": [
    {
     "name": "stdout",
     "output_type": "stream",
     "text": [
      "moon_ven_aspect:  <Moon Venus -1 None +00:00:00>\n"
     ]
    }
   ],
   "source": [
    "moon_ven_aspect = aspects.getAspect(chart.get(const.MOON), chart.get(const.VENUS), const.MAJOR_ASPECTS)\n",
    "print('moon_ven_aspect: ', moon_ven_aspect)"
   ]
  },
  {
   "cell_type": "code",
   "execution_count": 11,
   "id": "suspended-scott",
   "metadata": {},
   "outputs": [
    {
     "name": "stdout",
     "output_type": "stream",
     "text": [
      "moon_asc_aspect:  <Moon Asc -1 None +00:00:00>\n"
     ]
    }
   ],
   "source": [
    "moon_asc_aspect = aspects.getAspect(chart.get(const.MOON), chart.get(const.ASC), const.MAJOR_ASPECTS)\n",
    "print('moon_asc_aspect: ', moon_asc_aspect)"
   ]
  },
  {
   "cell_type": "code",
   "execution_count": 12,
   "id": "immediate-annual",
   "metadata": {},
   "outputs": [
    {
     "name": "stdout",
     "output_type": "stream",
     "text": [
      "parsSpirit:  <Pars Spirit Scorpio +06:19:44>\n",
      "parsFortune:  <Pars Fortuna Capricorn +21:01:27>\n"
     ]
    }
   ],
   "source": [
    "parsSpirit = arabicparts.getPart(arabicparts.PARS_SPIRIT, chart)\n",
    "print('parsSpirit: ', parsSpirit) \n",
    "parsFortune = arabicparts.getPart(arabicparts.PARS_FORTUNA, chart)\n",
    "print('parsFortune: ', parsFortune)"
   ]
  },
  {
   "cell_type": "code",
   "execution_count": 7,
   "id": "separated-indian",
   "metadata": {},
   "outputs": [
    {
     "name": "stdout",
     "output_type": "stream",
     "text": [
      "['Planets in House1 or Conj Asc', ['Jupiter']]\n",
      "['Planets Conj Moon or Mercury', []]\n",
      "['Asc Ruler if aspected by its disposer', []]\n",
      "['Planets Asp Moon or Mercury', ['Venus', 'Mars', 'Jupiter', 'Saturn', 'Moon', 'Sun']]\n"
     ]
    }
   ],
   "source": [
    "# Behavior\n",
    "factors = behavior.compute(chart)\n",
    "for factor in factors:\n",
    "    print(factor)"
   ]
  },
  {
   "cell_type": "code",
   "execution_count": 8,
   "id": "tracked-shark",
   "metadata": {},
   "outputs": [
    {
     "name": "stdout",
     "output_type": "stream",
     "text": [
      "['ruler', 'dayTrip']\n",
      "['nightTrip']\n",
      "[('dayTrip', 'partTrip')]\n",
      "(None, {'id': 'Saturn', 'asp': 120, 'orb': 12.180626580527587})\n",
      "False\n"
     ]
    }
   ],
   "source": [
    "# Build ChartDynamics object\n",
    "dyn = ChartDynamics(chart)\n",
    "\n",
    "# Which dignities of Jupiter belong to Sun\n",
    "dign = dyn.inDignities(const.JUPITER, const.SUN)\n",
    "print(dign)   # ['dayTrip', 'ruler']\n",
    "\n",
    "# In which dignities Jupiter receives Mars\n",
    "dign = dyn.receives(const.JUPITER, const.MARS)\n",
    "print(dign)   # ['nightTrip']\n",
    "\n",
    "# Mutual receptions between Sun and Moon\n",
    "#  - Sun receives the Moon in diurnal triplicity\n",
    "#  - Moon receives the Sun in the participant triplicity\n",
    "dign = dyn.mutualReceptions(const.SUN, const.MOON)\n",
    "print(dign)   # [('dayTrip', 'partTrip')]\n",
    "\n",
    "# Last separation and next application of \n",
    "asps = dyn.immediateAspects(const.SUN, const.MAJOR_ASPECTS)\n",
    "print(asps)   # (None, {'id': 'Saturn', 'orb': 12.1391, 'asp': 120})\n",
    "\n",
    "# Void of course\n",
    "voc = dyn.isVOC(const.MERCURY)\n",
    "print(voc)    # False"
   ]
  },
  {
   "cell_type": "code",
   "execution_count": 9,
   "id": "large-teach",
   "metadata": {},
   "outputs": [
    {
     "name": "stdout",
     "output_type": "stream",
     "text": [
      "({'id': 'Mars', 'asp': 120, 'orb': 5.314023376556264}, {'id': 'Sun', 'asp': 90, 'orb': 0.919347335154896})\n"
     ]
    }
   ],
   "source": [
    "moon_asps = dyn.immediateAspects(const.MOON, const.MAJOR_ASPECTS)\n",
    "print(moon_asps)   # (None, {'id': 'Saturn', 'orb': 12.1391, 'asp': 120})"
   ]
  },
  {
   "cell_type": "code",
   "execution_count": 10,
   "id": "adverse-amplifier",
   "metadata": {},
   "outputs": [
    {
     "name": "stdout",
     "output_type": "stream",
     "text": [
      "next_lunar_eclipse:  <2015/04/04 12:00:17 00:00:00>\n",
      "prev_lunar_eclipse:  <2014/10/08 10:54:35 00:00:00>\n",
      "next_solar_eclipse:  <2015/03/20 09:45:40 00:00:00>\n",
      "prev_solar_eclipse:  <2015/03/20 09:45:40 00:00:00>\n"
     ]
    }
   ],
   "source": [
    "# Get the date of the maximum phase of the next global lunar eclipse\n",
    "next_lunar_eclipse = ephem.nextLunarEclipse(date)\n",
    "prev_lunar_eclipse = ephem.prevLunarEclipse(date)\n",
    "print('next_lunar_eclipse: ', next_lunar_eclipse)  \n",
    "print('prev_lunar_eclipse: ', prev_lunar_eclipse)  \n",
    "\n",
    "\n",
    "# Get the date of the maximum phase of the next global solar eclipse\n",
    "next_solar_eclipse = ephem.nextSolarEclipse(date)\n",
    "prev_solar_eclipse = ephem.nextSolarEclipse(date)\n",
    "print('next_solar_eclipse: ', next_solar_eclipse) \n",
    "print('prev_solar_eclipse: ', prev_solar_eclipse) "
   ]
  },
  {
   "cell_type": "code",
   "execution_count": 11,
   "id": "collaborative-inspection",
   "metadata": {},
   "outputs": [
    {
     "name": "stdout",
     "output_type": "stream",
     "text": [
      "Leo <Sun Pisces +22:44:55 +00:59:52>\n",
      "0\n",
      "0\n"
     ]
    }
   ],
   "source": [
    "# Get the Asc ruler\n",
    "asc = chart.get(const.ASC)\n",
    "ascRulerID = essential.ruler(asc.sign)\n",
    "ascRuler = chart.get(ascRulerID)\n",
    "print(asc.sign, ascRuler)   # <Mercury Pisces +00:48:57 +01:29:49>"
   ]
  },
  {
   "cell_type": "code",
   "execution_count": 12,
   "id": "owned-groove",
   "metadata": {},
   "outputs": [
    {
     "name": "stdout",
     "output_type": "stream",
     "text": [
      "Aquarius <Saturn Sagittarius +04:55:45 +00:00:06>\n"
     ]
    }
   ],
   "source": [
    "# Get the Dsc ruler\n",
    "dsc = chart.get(const.DESC)\n",
    "dscRulerID = essential.ruler(dsc.sign)\n",
    "dscRuler = chart.get(dscRulerID)\n",
    "print(dsc.sign, dscRuler)"
   ]
  },
  {
   "cell_type": "code",
   "execution_count": null,
   "id": "french-density",
   "metadata": {},
   "outputs": [],
   "source": []
  },
  {
   "cell_type": "code",
   "execution_count": null,
   "id": "greatest-testimony",
   "metadata": {},
   "outputs": [],
   "source": []
  },
  {
   "cell_type": "code",
   "execution_count": null,
   "id": "appropriate-worthy",
   "metadata": {},
   "outputs": [],
   "source": []
  },
  {
   "cell_type": "code",
   "execution_count": null,
   "id": "according-theta",
   "metadata": {},
   "outputs": [],
   "source": []
  },
  {
   "cell_type": "code",
   "execution_count": null,
   "id": "local-jones",
   "metadata": {},
   "outputs": [],
   "source": []
  }
 ],
 "metadata": {
  "kernelspec": {
   "display_name": "Python 3 (ipykernel)",
   "language": "python",
   "name": "python3"
  },
  "language_info": {
   "codemirror_mode": {
    "name": "ipython",
    "version": 3
   },
   "file_extension": ".py",
   "mimetype": "text/x-python",
   "name": "python",
   "nbconvert_exporter": "python",
   "pygments_lexer": "ipython3",
   "version": "3.9.18"
  }
 },
 "nbformat": 4,
 "nbformat_minor": 5
}

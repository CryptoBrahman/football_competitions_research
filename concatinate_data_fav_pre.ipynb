{
 "cells": [
  {
   "cell_type": "code",
   "execution_count": 1,
   "metadata": {},
   "outputs": [],
   "source": [
    "import os\n",
    "import re\n",
    "import pickle\n",
    "import datetime\n",
    "import pandas as pd\n",
    "import numpy as np\n",
    "\n",
    "from _html_parser import ParsingDataPrepare, TableConstant\n",
    "\n",
    "pd.set_option('display.max_rows', 20)\n",
    "pd.set_option('display.max_columns', 500)\n",
    "pd.set_option('display.max_colwidth', 500)"
   ]
  },
  {
   "cell_type": "code",
   "execution_count": 2,
   "metadata": {},
   "outputs": [],
   "source": [
    "%load_ext autoreload\n",
    "%autoreload 2"
   ]
  },
  {
   "cell_type": "markdown",
   "metadata": {},
   "source": [
    "#### Choose the date for dirs and files"
   ]
  },
  {
   "cell_type": "code",
   "execution_count": 5,
   "metadata": {},
   "outputs": [],
   "source": [
    "# Start from more time ('26_05_2022' -'27_03_2021'), ('26_03_2021' - '03_11_2013), ('02_11_2013' - '10_07_2005')\n",
    "dir_data = dir_data_start = '26_03_2021'\n",
    "dir_data_end = '03_11_2013'"
   ]
  },
  {
   "cell_type": "code",
   "execution_count": 6,
   "metadata": {},
   "outputs": [],
   "source": [
    "with open('pickle_files/new_events/'+ dir_data +'/df_'+ dir_data_start +'_to_'+ dir_data_end  +'_games', 'rb') as f:\n",
    "    df_games = pickle.load(f)"
   ]
  },
  {
   "cell_type": "code",
   "execution_count": 8,
   "metadata": {},
   "outputs": [
    {
     "data": {
      "text/html": [
       "<div>\n",
       "<style scoped>\n",
       "    .dataframe tbody tr th:only-of-type {\n",
       "        vertical-align: middle;\n",
       "    }\n",
       "\n",
       "    .dataframe tbody tr th {\n",
       "        vertical-align: top;\n",
       "    }\n",
       "\n",
       "    .dataframe thead th {\n",
       "        text-align: right;\n",
       "    }\n",
       "</style>\n",
       "<table border=\"1\" class=\"dataframe\">\n",
       "  <thead>\n",
       "    <tr style=\"text-align: right;\">\n",
       "      <th></th>\n",
       "      <th>game_id</th>\n",
       "      <th>ligue_header</th>\n",
       "      <th>comp_id</th>\n",
       "      <th>season_id</th>\n",
       "      <th>game_utc</th>\n",
       "      <th>game_title</th>\n",
       "      <th>goals</th>\n",
       "      <th>ligue</th>\n",
       "    </tr>\n",
       "  </thead>\n",
       "  <tbody>\n",
       "    <tr>\n",
       "      <th>0</th>\n",
       "      <td>1458512</td>\n",
       "      <td>Segunda División</td>\n",
       "      <td>707</td>\n",
       "      <td>306</td>\n",
       "      <td>26.03.2021 17:00</td>\n",
       "      <td>Sporting Gijón - Alcorcón</td>\n",
       "      <td>0:0</td>\n",
       "      <td>top</td>\n",
       "    </tr>\n",
       "    <tr>\n",
       "      <th>1</th>\n",
       "      <td>1458506</td>\n",
       "      <td>Segunda División</td>\n",
       "      <td>707</td>\n",
       "      <td>306</td>\n",
       "      <td>26.03.2021 19:00</td>\n",
       "      <td>Castellon - Espanyol</td>\n",
       "      <td>1:3</td>\n",
       "      <td>top</td>\n",
       "    </tr>\n",
       "    <tr>\n",
       "      <th>2</th>\n",
       "      <td>1459331</td>\n",
       "      <td>First League</td>\n",
       "      <td>435</td>\n",
       "      <td>306</td>\n",
       "      <td>26.03.2021 11:00</td>\n",
       "      <td>Mykolaiv - Alians Lypova Dolyna</td>\n",
       "      <td>2:0</td>\n",
       "      <td>sec</td>\n",
       "    </tr>\n",
       "    <tr>\n",
       "      <th>3</th>\n",
       "      <td>1459330</td>\n",
       "      <td>First League</td>\n",
       "      <td>435</td>\n",
       "      <td>306</td>\n",
       "      <td>26.03.2021 11:00</td>\n",
       "      <td>Polessya - Krystal Kherson</td>\n",
       "      <td>1:1</td>\n",
       "      <td>sec</td>\n",
       "    </tr>\n",
       "    <tr>\n",
       "      <th>4</th>\n",
       "      <td>1459334</td>\n",
       "      <td>First League</td>\n",
       "      <td>435</td>\n",
       "      <td>306</td>\n",
       "      <td>26.03.2021 12:00</td>\n",
       "      <td>Kremin - Hirnyk-Sport</td>\n",
       "      <td>1:1</td>\n",
       "      <td>sec</td>\n",
       "    </tr>\n",
       "    <tr>\n",
       "      <th>...</th>\n",
       "      <td>...</td>\n",
       "      <td>...</td>\n",
       "      <td>...</td>\n",
       "      <td>...</td>\n",
       "      <td>...</td>\n",
       "      <td>...</td>\n",
       "      <td>...</td>\n",
       "      <td>...</td>\n",
       "    </tr>\n",
       "    <tr>\n",
       "      <th>480417</th>\n",
       "      <td>14362043</td>\n",
       "      <td>Oberliga</td>\n",
       "      <td>428</td>\n",
       "      <td>38</td>\n",
       "      <td>09.11.2013 14:00</td>\n",
       "      <td>Jeddeloh - Osnabruck II</td>\n",
       "      <td>3:3</td>\n",
       "      <td>thr</td>\n",
       "    </tr>\n",
       "    <tr>\n",
       "      <th>480418</th>\n",
       "      <td>15052857</td>\n",
       "      <td>Premier League</td>\n",
       "      <td>670</td>\n",
       "      <td>3</td>\n",
       "      <td>06.11.2013 09:00</td>\n",
       "      <td>Karachi Port Trust - Khan Research Laboratories</td>\n",
       "      <td>0:2</td>\n",
       "      <td>thr</td>\n",
       "    </tr>\n",
       "    <tr>\n",
       "      <th>480419</th>\n",
       "      <td>15052851</td>\n",
       "      <td>Premier League</td>\n",
       "      <td>670</td>\n",
       "      <td>3</td>\n",
       "      <td>04.11.2013 09:00</td>\n",
       "      <td>Pakistan Navy - WAPDA FC</td>\n",
       "      <td>0:0</td>\n",
       "      <td>thr</td>\n",
       "    </tr>\n",
       "    <tr>\n",
       "      <th>480420</th>\n",
       "      <td>15052852</td>\n",
       "      <td>Premier League</td>\n",
       "      <td>670</td>\n",
       "      <td>3</td>\n",
       "      <td>04.11.2013 09:00</td>\n",
       "      <td>Afghan FC - Pakistan Army</td>\n",
       "      <td>0:0</td>\n",
       "      <td>thr</td>\n",
       "    </tr>\n",
       "    <tr>\n",
       "      <th>480421</th>\n",
       "      <td>15052853</td>\n",
       "      <td>Premier League</td>\n",
       "      <td>670</td>\n",
       "      <td>3</td>\n",
       "      <td>04.11.2013 09:00</td>\n",
       "      <td>Muslim - Khan Research Laboratories</td>\n",
       "      <td>1:1</td>\n",
       "      <td>thr</td>\n",
       "    </tr>\n",
       "  </tbody>\n",
       "</table>\n",
       "<p>480422 rows × 8 columns</p>\n",
       "</div>"
      ],
      "text/plain": [
       "         game_id      ligue_header comp_id season_id          game_utc  \\\n",
       "0        1458512  Segunda División     707       306  26.03.2021 17:00   \n",
       "1        1458506  Segunda División     707       306  26.03.2021 19:00   \n",
       "2        1459331      First League     435       306  26.03.2021 11:00   \n",
       "3        1459330      First League     435       306  26.03.2021 11:00   \n",
       "4        1459334      First League     435       306  26.03.2021 12:00   \n",
       "...          ...               ...     ...       ...               ...   \n",
       "480417  14362043          Oberliga     428        38  09.11.2013 14:00   \n",
       "480418  15052857    Premier League     670         3  06.11.2013 09:00   \n",
       "480419  15052851    Premier League     670         3  04.11.2013 09:00   \n",
       "480420  15052852    Premier League     670         3  04.11.2013 09:00   \n",
       "480421  15052853    Premier League     670         3  04.11.2013 09:00   \n",
       "\n",
       "                                             game_title goals ligue  \n",
       "0                             Sporting Gijón - Alcorcón   0:0   top  \n",
       "1                                  Castellon - Espanyol   1:3   top  \n",
       "2                       Mykolaiv - Alians Lypova Dolyna   2:0   sec  \n",
       "3                            Polessya - Krystal Kherson   1:1   sec  \n",
       "4                                 Kremin - Hirnyk-Sport   1:1   sec  \n",
       "...                                                 ...   ...   ...  \n",
       "480417                          Jeddeloh - Osnabruck II   3:3   thr  \n",
       "480418  Karachi Port Trust - Khan Research Laboratories   0:2   thr  \n",
       "480419                         Pakistan Navy - WAPDA FC   0:0   thr  \n",
       "480420                        Afghan FC - Pakistan Army   0:0   thr  \n",
       "480421              Muslim - Khan Research Laboratories   1:1   thr  \n",
       "\n",
       "[480422 rows x 8 columns]"
      ]
     },
     "execution_count": 8,
     "metadata": {},
     "output_type": "execute_result"
    }
   ],
   "source": [
    "df_games"
   ]
  },
  {
   "cell_type": "code",
   "execution_count": 9,
   "metadata": {},
   "outputs": [],
   "source": [
    "df_games['f_team'] = df_games.game_title.map(lambda x: str(x).split(' - ')[0])\n",
    "df_games['s_team'] = df_games.game_title.map(lambda x: str(x).split(' - ')[1])"
   ]
  },
  {
   "cell_type": "code",
   "execution_count": 10,
   "metadata": {},
   "outputs": [
    {
     "data": {
      "text/html": [
       "<div>\n",
       "<style scoped>\n",
       "    .dataframe tbody tr th:only-of-type {\n",
       "        vertical-align: middle;\n",
       "    }\n",
       "\n",
       "    .dataframe tbody tr th {\n",
       "        vertical-align: top;\n",
       "    }\n",
       "\n",
       "    .dataframe thead th {\n",
       "        text-align: right;\n",
       "    }\n",
       "</style>\n",
       "<table border=\"1\" class=\"dataframe\">\n",
       "  <thead>\n",
       "    <tr style=\"text-align: right;\">\n",
       "      <th></th>\n",
       "      <th>game_id</th>\n",
       "      <th>ligue_header</th>\n",
       "      <th>comp_id</th>\n",
       "      <th>season_id</th>\n",
       "      <th>game_utc</th>\n",
       "      <th>game_title</th>\n",
       "      <th>goals</th>\n",
       "      <th>ligue</th>\n",
       "      <th>f_team</th>\n",
       "      <th>s_team</th>\n",
       "    </tr>\n",
       "  </thead>\n",
       "  <tbody>\n",
       "    <tr>\n",
       "      <th>0</th>\n",
       "      <td>1458512</td>\n",
       "      <td>Segunda División</td>\n",
       "      <td>707</td>\n",
       "      <td>306</td>\n",
       "      <td>26.03.2021 17:00</td>\n",
       "      <td>Sporting Gijón - Alcorcón</td>\n",
       "      <td>0:0</td>\n",
       "      <td>top</td>\n",
       "      <td>Sporting Gijón</td>\n",
       "      <td>Alcorcón</td>\n",
       "    </tr>\n",
       "    <tr>\n",
       "      <th>1</th>\n",
       "      <td>1458506</td>\n",
       "      <td>Segunda División</td>\n",
       "      <td>707</td>\n",
       "      <td>306</td>\n",
       "      <td>26.03.2021 19:00</td>\n",
       "      <td>Castellon - Espanyol</td>\n",
       "      <td>1:3</td>\n",
       "      <td>top</td>\n",
       "      <td>Castellon</td>\n",
       "      <td>Espanyol</td>\n",
       "    </tr>\n",
       "    <tr>\n",
       "      <th>2</th>\n",
       "      <td>1459331</td>\n",
       "      <td>First League</td>\n",
       "      <td>435</td>\n",
       "      <td>306</td>\n",
       "      <td>26.03.2021 11:00</td>\n",
       "      <td>Mykolaiv - Alians Lypova Dolyna</td>\n",
       "      <td>2:0</td>\n",
       "      <td>sec</td>\n",
       "      <td>Mykolaiv</td>\n",
       "      <td>Alians Lypova Dolyna</td>\n",
       "    </tr>\n",
       "  </tbody>\n",
       "</table>\n",
       "</div>"
      ],
      "text/plain": [
       "   game_id      ligue_header comp_id season_id          game_utc  \\\n",
       "0  1458512  Segunda División     707       306  26.03.2021 17:00   \n",
       "1  1458506  Segunda División     707       306  26.03.2021 19:00   \n",
       "2  1459331      First League     435       306  26.03.2021 11:00   \n",
       "\n",
       "                        game_title goals ligue          f_team  \\\n",
       "0        Sporting Gijón - Alcorcón   0:0   top  Sporting Gijón   \n",
       "1             Castellon - Espanyol   1:3   top       Castellon   \n",
       "2  Mykolaiv - Alians Lypova Dolyna   2:0   sec        Mykolaiv   \n",
       "\n",
       "                 s_team  \n",
       "0              Alcorcón  \n",
       "1              Espanyol  \n",
       "2  Alians Lypova Dolyna  "
      ]
     },
     "execution_count": 10,
     "metadata": {},
     "output_type": "execute_result"
    }
   ],
   "source": [
    "df_games.head(3)"
   ]
  },
  {
   "cell_type": "markdown",
   "metadata": {},
   "source": [
    "#### Add competitions data "
   ]
  },
  {
   "cell_type": "code",
   "execution_count": 11,
   "metadata": {},
   "outputs": [],
   "source": [
    "with open('pickle_files/new_events/'+ dir_data +'/df_comp_tabs_'+ dir_data_start +'_all_lgs', 'rb') as f:\n",
    "    df_comp_tables = pickle.load(f)"
   ]
  },
  {
   "cell_type": "code",
   "execution_count": 12,
   "metadata": {},
   "outputs": [],
   "source": [
    "df_comp_tables.rename(columns={'team_name':'f_team'}, inplace=True)"
   ]
  },
  {
   "cell_type": "code",
   "execution_count": 13,
   "metadata": {},
   "outputs": [],
   "source": [
    "# Duble column for get data for each team\n",
    "df_comp_tables['s_team'] = df_comp_tables.f_team"
   ]
  },
  {
   "cell_type": "code",
   "execution_count": 14,
   "metadata": {},
   "outputs": [
    {
     "data": {
      "text/html": [
       "<div>\n",
       "<style scoped>\n",
       "    .dataframe tbody tr th:only-of-type {\n",
       "        vertical-align: middle;\n",
       "    }\n",
       "\n",
       "    .dataframe tbody tr th {\n",
       "        vertical-align: top;\n",
       "    }\n",
       "\n",
       "    .dataframe thead th {\n",
       "        text-align: right;\n",
       "    }\n",
       "</style>\n",
       "<table border=\"1\" class=\"dataframe\">\n",
       "  <thead>\n",
       "    <tr style=\"text-align: right;\">\n",
       "      <th></th>\n",
       "      <th>f_team</th>\n",
       "      <th>team_id</th>\n",
       "      <th>pos</th>\n",
       "      <th>pld</th>\n",
       "      <th>w</th>\n",
       "      <th>d</th>\n",
       "      <th>l</th>\n",
       "      <th>gf</th>\n",
       "      <th>ga</th>\n",
       "      <th>+/-</th>\n",
       "      <th>pts</th>\n",
       "      <th>comp_id</th>\n",
       "      <th>season_id</th>\n",
       "      <th>s_team</th>\n",
       "    </tr>\n",
       "  </thead>\n",
       "  <tbody>\n",
       "    <tr>\n",
       "      <th>0</th>\n",
       "      <td>Brazil U23</td>\n",
       "      <td>10614</td>\n",
       "      <td>1</td>\n",
       "      <td>3</td>\n",
       "      <td>1</td>\n",
       "      <td>2</td>\n",
       "      <td>0</td>\n",
       "      <td>4</td>\n",
       "      <td>0</td>\n",
       "      <td>+4</td>\n",
       "      <td>5</td>\n",
       "      <td>1016</td>\n",
       "      <td>179</td>\n",
       "      <td>Brazil U23</td>\n",
       "    </tr>\n",
       "    <tr>\n",
       "      <th>1</th>\n",
       "      <td>Denmark U23</td>\n",
       "      <td>10611</td>\n",
       "      <td>2</td>\n",
       "      <td>3</td>\n",
       "      <td>1</td>\n",
       "      <td>1</td>\n",
       "      <td>1</td>\n",
       "      <td>1</td>\n",
       "      <td>4</td>\n",
       "      <td>-3</td>\n",
       "      <td>4</td>\n",
       "      <td>1016</td>\n",
       "      <td>179</td>\n",
       "      <td>Denmark U23</td>\n",
       "    </tr>\n",
       "    <tr>\n",
       "      <th>2</th>\n",
       "      <td>Iraq U23</td>\n",
       "      <td>10610</td>\n",
       "      <td>3</td>\n",
       "      <td>3</td>\n",
       "      <td>0</td>\n",
       "      <td>3</td>\n",
       "      <td>0</td>\n",
       "      <td>1</td>\n",
       "      <td>1</td>\n",
       "      <td>0</td>\n",
       "      <td>3</td>\n",
       "      <td>1016</td>\n",
       "      <td>179</td>\n",
       "      <td>Iraq U23</td>\n",
       "    </tr>\n",
       "    <tr>\n",
       "      <th>3</th>\n",
       "      <td>South Africa U23</td>\n",
       "      <td>10615</td>\n",
       "      <td>4</td>\n",
       "      <td>3</td>\n",
       "      <td>0</td>\n",
       "      <td>2</td>\n",
       "      <td>1</td>\n",
       "      <td>1</td>\n",
       "      <td>2</td>\n",
       "      <td>-1</td>\n",
       "      <td>2</td>\n",
       "      <td>1016</td>\n",
       "      <td>179</td>\n",
       "      <td>South Africa U23</td>\n",
       "    </tr>\n",
       "    <tr>\n",
       "      <th>4</th>\n",
       "      <td>Nigeria U23</td>\n",
       "      <td>10621</td>\n",
       "      <td>1</td>\n",
       "      <td>3</td>\n",
       "      <td>2</td>\n",
       "      <td>0</td>\n",
       "      <td>1</td>\n",
       "      <td>6</td>\n",
       "      <td>6</td>\n",
       "      <td>0</td>\n",
       "      <td>6</td>\n",
       "      <td>1016</td>\n",
       "      <td>179</td>\n",
       "      <td>Nigeria U23</td>\n",
       "    </tr>\n",
       "  </tbody>\n",
       "</table>\n",
       "</div>"
      ],
      "text/plain": [
       "             f_team team_id pos pld  w  d  l gf ga +/- pts comp_id season_id  \\\n",
       "0        Brazil U23   10614   1   3  1  2  0  4  0  +4   5    1016       179   \n",
       "1       Denmark U23   10611   2   3  1  1  1  1  4  -3   4    1016       179   \n",
       "2          Iraq U23   10610   3   3  0  3  0  1  1   0   3    1016       179   \n",
       "3  South Africa U23   10615   4   3  0  2  1  1  2  -1   2    1016       179   \n",
       "4       Nigeria U23   10621   1   3  2  0  1  6  6   0   6    1016       179   \n",
       "\n",
       "             s_team  \n",
       "0        Brazil U23  \n",
       "1       Denmark U23  \n",
       "2          Iraq U23  \n",
       "3  South Africa U23  \n",
       "4       Nigeria U23  "
      ]
     },
     "execution_count": 14,
     "metadata": {},
     "output_type": "execute_result"
    }
   ],
   "source": [
    "df_comp_tables.head()"
   ]
  },
  {
   "cell_type": "code",
   "execution_count": 15,
   "metadata": {},
   "outputs": [],
   "source": [
    "df_fcom = pd.merge(left=df_games, right=df_comp_tables[['f_team','comp_id','season_id','pos', 'pts']], on=['f_team','comp_id','season_id'], how='left')\n",
    "df_fcom.rename(columns={'pos':'pos_f', 'pts':'pts_f'}, inplace=True)"
   ]
  },
  {
   "cell_type": "code",
   "execution_count": 16,
   "metadata": {},
   "outputs": [],
   "source": [
    "df_scom = pd.merge(left=df_games, right=df_comp_tables[['s_team','comp_id','season_id','pos', 'pts']], on=['s_team','comp_id','season_id'], how='left')\n",
    "df_scom.rename(columns={'pos':'pos_s', 'pts':'pts_s'}, inplace=True)"
   ]
  },
  {
   "cell_type": "code",
   "execution_count": 17,
   "metadata": {},
   "outputs": [],
   "source": [
    "df_games_tb = pd.merge(df_fcom, df_scom[['game_id', 'pos_s','pts_s']], how='left', left_on='game_id', right_on='game_id')"
   ]
  },
  {
   "cell_type": "code",
   "execution_count": 18,
   "metadata": {},
   "outputs": [],
   "source": [
    "df_games_tb.pos_f = pd.to_numeric(df_games_tb.pos_f, errors='coerce')\n",
    "df_games_tb.pos_s = pd.to_numeric(df_games_tb.pos_s, errors='coerce')\n",
    "df_games_tb.pts_f = pd.to_numeric(df_games_tb.pts_f, errors='coerce')\n",
    "df_games_tb.pts_s = pd.to_numeric(df_games_tb.pts_s, errors='coerce')"
   ]
  },
  {
   "cell_type": "code",
   "execution_count": 19,
   "metadata": {},
   "outputs": [],
   "source": [
    "df_games_tb['posf_poss'] = df_games_tb[['pos_f', 'pos_s']].apply(lambda x: str(x[0]).replace('.0', '') + ' - ' + str(x[1]).replace('.0', '') \\\n",
    "                                                                 if pd.notna(x[0]) and pd.notna(x[1]) else None, axis=1) \n",
    "df_games_tb['ptsf_ptss'] = df_games_tb[['pts_f', 'pts_s']].apply(lambda x: str(x[0]).replace('.0', '') + ' - ' + str(x[1]).replace('.0', '') \\\n",
    "                                                                 if pd.notna(x[0]) and pd.notna(x[1]) else None, axis=1) "
   ]
  },
  {
   "cell_type": "code",
   "execution_count": 20,
   "metadata": {},
   "outputs": [],
   "source": [
    "df_games_tb.drop(columns=['s_team'], inplace=True)"
   ]
  },
  {
   "cell_type": "code",
   "execution_count": 21,
   "metadata": {},
   "outputs": [],
   "source": [
    "df_games_tb.drop_duplicates(subset=['game_id'], inplace=True)"
   ]
  },
  {
   "cell_type": "code",
   "execution_count": 22,
   "metadata": {},
   "outputs": [],
   "source": [
    "df_games_tb.reset_index(drop=True, inplace=True)"
   ]
  },
  {
   "cell_type": "code",
   "execution_count": 23,
   "metadata": {},
   "outputs": [
    {
     "data": {
      "text/plain": [
       "None     66416\n",
       "1 - 2     3754\n",
       "2 - 1     3527\n",
       "3 - 1     3476\n",
       "Name: posf_poss, dtype: int64"
      ]
     },
     "execution_count": 23,
     "metadata": {},
     "output_type": "execute_result"
    }
   ],
   "source": [
    "df_games_tb.posf_poss.value_counts(dropna=False).head(4)"
   ]
  },
  {
   "cell_type": "code",
   "execution_count": 24,
   "metadata": {},
   "outputs": [
    {
     "data": {
      "text/plain": [
       "44 - 51    1\n",
       "53 - 34    1\n",
       "37 - 24    1\n",
       "39 - 8     1\n",
       "Name: posf_poss, dtype: int64"
      ]
     },
     "execution_count": 24,
     "metadata": {},
     "output_type": "execute_result"
    }
   ],
   "source": [
    "df_games_tb.posf_poss.value_counts(dropna=False).tail(4)"
   ]
  },
  {
   "cell_type": "code",
   "execution_count": 25,
   "metadata": {},
   "outputs": [],
   "source": [
    "df_comp_tables.pos = pd.to_numeric(df_comp_tables.pos, errors='coerce')\n",
    "df_comp_tables.pts = pd.to_numeric(df_comp_tables.pts, errors='coerce')\n",
    "\n",
    "df_max_pos = df_comp_tables.groupby(['comp_id', 'season_id'])['pos'].max().to_frame().reset_index()  \n",
    "df_max_pts = df_comp_tables.groupby(['comp_id', 'season_id'])['pts'].max().to_frame().reset_index() \n",
    "\n",
    "df_max_pos.rename(columns={'pos':'max_pos'}, inplace=True)\n",
    "df_max_pts.rename(columns={'pts':'max_pts'}, inplace=True)"
   ]
  },
  {
   "cell_type": "code",
   "execution_count": 26,
   "metadata": {},
   "outputs": [
    {
     "data": {
      "text/html": [
       "<div>\n",
       "<style scoped>\n",
       "    .dataframe tbody tr th:only-of-type {\n",
       "        vertical-align: middle;\n",
       "    }\n",
       "\n",
       "    .dataframe tbody tr th {\n",
       "        vertical-align: top;\n",
       "    }\n",
       "\n",
       "    .dataframe thead th {\n",
       "        text-align: right;\n",
       "    }\n",
       "</style>\n",
       "<table border=\"1\" class=\"dataframe\">\n",
       "  <thead>\n",
       "    <tr style=\"text-align: right;\">\n",
       "      <th></th>\n",
       "      <th>comp_id</th>\n",
       "      <th>season_id</th>\n",
       "      <th>max_pos</th>\n",
       "    </tr>\n",
       "  </thead>\n",
       "  <tbody>\n",
       "    <tr>\n",
       "      <th>0</th>\n",
       "      <td>1016</td>\n",
       "      <td>179</td>\n",
       "      <td>4</td>\n",
       "    </tr>\n",
       "    <tr>\n",
       "      <th>1</th>\n",
       "      <td>1019</td>\n",
       "      <td>173</td>\n",
       "      <td>4</td>\n",
       "    </tr>\n",
       "    <tr>\n",
       "      <th>2</th>\n",
       "      <td>1019</td>\n",
       "      <td>294</td>\n",
       "      <td>4</td>\n",
       "    </tr>\n",
       "  </tbody>\n",
       "</table>\n",
       "</div>"
      ],
      "text/plain": [
       "  comp_id season_id  max_pos\n",
       "0    1016       179        4\n",
       "1    1019       173        4\n",
       "2    1019       294        4"
      ]
     },
     "execution_count": 26,
     "metadata": {},
     "output_type": "execute_result"
    }
   ],
   "source": [
    "df_max_pos.head(3)"
   ]
  },
  {
   "cell_type": "code",
   "execution_count": 27,
   "metadata": {},
   "outputs": [
    {
     "data": {
      "text/html": [
       "<div>\n",
       "<style scoped>\n",
       "    .dataframe tbody tr th:only-of-type {\n",
       "        vertical-align: middle;\n",
       "    }\n",
       "\n",
       "    .dataframe tbody tr th {\n",
       "        vertical-align: top;\n",
       "    }\n",
       "\n",
       "    .dataframe thead th {\n",
       "        text-align: right;\n",
       "    }\n",
       "</style>\n",
       "<table border=\"1\" class=\"dataframe\">\n",
       "  <thead>\n",
       "    <tr style=\"text-align: right;\">\n",
       "      <th></th>\n",
       "      <th>comp_id</th>\n",
       "      <th>season_id</th>\n",
       "      <th>max_pts</th>\n",
       "    </tr>\n",
       "  </thead>\n",
       "  <tbody>\n",
       "    <tr>\n",
       "      <th>0</th>\n",
       "      <td>1016</td>\n",
       "      <td>179</td>\n",
       "      <td>7</td>\n",
       "    </tr>\n",
       "    <tr>\n",
       "      <th>1</th>\n",
       "      <td>1019</td>\n",
       "      <td>173</td>\n",
       "      <td>16</td>\n",
       "    </tr>\n",
       "    <tr>\n",
       "      <th>2</th>\n",
       "      <td>1019</td>\n",
       "      <td>294</td>\n",
       "      <td>16</td>\n",
       "    </tr>\n",
       "  </tbody>\n",
       "</table>\n",
       "</div>"
      ],
      "text/plain": [
       "  comp_id season_id  max_pts\n",
       "0    1016       179        7\n",
       "1    1019       173       16\n",
       "2    1019       294       16"
      ]
     },
     "execution_count": 27,
     "metadata": {},
     "output_type": "execute_result"
    }
   ],
   "source": [
    "df_max_pts.head(3)"
   ]
  },
  {
   "cell_type": "code",
   "execution_count": 28,
   "metadata": {},
   "outputs": [],
   "source": [
    "df_games_tb = df_games_tb.merge(df_max_pos, how='left', left_on=['comp_id', 'season_id'],  right_on=['comp_id', 'season_id'])\n",
    "df_games_tb = df_games_tb.merge(df_max_pts, how='left', left_on=['comp_id', 'season_id'],  right_on=['comp_id', 'season_id'])"
   ]
  },
  {
   "cell_type": "code",
   "execution_count": 29,
   "metadata": {},
   "outputs": [],
   "source": [
    "df_games_tb['fs_pos_max'] = df_games_tb[['posf_poss', 'max_pos']].apply(lambda x: str(x[0])+ ', ' + str(x[1]).replace('.0', '') \\\n",
    "                                                                                                                  if x[0] != None else None, axis=1)\n",
    "df_games_tb['fs_pts_max'] = df_games_tb[['ptsf_ptss', 'max_pts']].apply(lambda x: str(x[0])+ ', ' + str(x[1]).replace('.0', '') \\\n",
    "                                                                                                                  if x[0] != None else None, axis=1)"
   ]
  },
  {
   "cell_type": "code",
   "execution_count": 30,
   "metadata": {},
   "outputs": [],
   "source": [
    "df_games_tb.drop(columns=['posf_poss', 'ptsf_ptss', 'max_pts'], inplace=True)"
   ]
  },
  {
   "cell_type": "markdown",
   "metadata": {},
   "source": [
    "#### Concatinate dataframes with best and tables position coefficients"
   ]
  },
  {
   "cell_type": "code",
   "execution_count": 31,
   "metadata": {},
   "outputs": [
    {
     "data": {
      "text/plain": [
       "412663"
      ]
     },
     "execution_count": 31,
     "metadata": {},
     "output_type": "execute_result"
    }
   ],
   "source": [
    "df_power_coefs = df_games_tb[df_games_tb.max_pos >= 8].copy().reset_index(drop=True)\n",
    "df_power_coefs.shape[0]"
   ]
  },
  {
   "cell_type": "code",
   "execution_count": 32,
   "metadata": {},
   "outputs": [
    {
     "data": {
      "text/plain": [
       "20.0    68409\n",
       "16.0    57719\n",
       "18.0    55526\n",
       "12.0    39041\n",
       "24.0    33680\n",
       "        ...  \n",
       "28.0      378\n",
       "26.0      325\n",
       "27.0      257\n",
       "29.0      255\n",
       "34.0       61\n",
       "Name: max_pos, Length: 25, dtype: int64"
      ]
     },
     "execution_count": 32,
     "metadata": {},
     "output_type": "execute_result"
    }
   ],
   "source": [
    "df_power_coefs.max_pos.value_counts(dropna=False)"
   ]
  },
  {
   "cell_type": "code",
   "execution_count": 33,
   "metadata": {},
   "outputs": [],
   "source": [
    "df_power_coefs.drop(columns=['max_pos'], inplace=True)"
   ]
  },
  {
   "cell_type": "code",
   "execution_count": 34,
   "metadata": {},
   "outputs": [
    {
     "name": "stdout",
     "output_type": "stream",
     "text": [
      "shape -  412663\n"
     ]
    },
    {
     "data": {
      "text/html": [
       "<div>\n",
       "<style scoped>\n",
       "    .dataframe tbody tr th:only-of-type {\n",
       "        vertical-align: middle;\n",
       "    }\n",
       "\n",
       "    .dataframe tbody tr th {\n",
       "        vertical-align: top;\n",
       "    }\n",
       "\n",
       "    .dataframe thead th {\n",
       "        text-align: right;\n",
       "    }\n",
       "</style>\n",
       "<table border=\"1\" class=\"dataframe\">\n",
       "  <thead>\n",
       "    <tr style=\"text-align: right;\">\n",
       "      <th></th>\n",
       "      <th>game_id</th>\n",
       "      <th>ligue_header</th>\n",
       "      <th>comp_id</th>\n",
       "      <th>season_id</th>\n",
       "      <th>game_utc</th>\n",
       "      <th>game_title</th>\n",
       "      <th>goals</th>\n",
       "      <th>ligue</th>\n",
       "      <th>f_team</th>\n",
       "      <th>pos_f</th>\n",
       "      <th>pts_f</th>\n",
       "      <th>pos_s</th>\n",
       "      <th>pts_s</th>\n",
       "      <th>fs_pos_max</th>\n",
       "      <th>fs_pts_max</th>\n",
       "    </tr>\n",
       "  </thead>\n",
       "  <tbody>\n",
       "    <tr>\n",
       "      <th>412653</th>\n",
       "      <td>14359601</td>\n",
       "      <td>Oberliga</td>\n",
       "      <td>428</td>\n",
       "      <td>38</td>\n",
       "      <td>09.11.2013 12:30</td>\n",
       "      <td>Rot-WeiY Hadamar - FSV Frankfurt II</td>\n",
       "      <td>1:1</td>\n",
       "      <td>thr</td>\n",
       "      <td>Rot-WeiY Hadamar</td>\n",
       "      <td>6.0</td>\n",
       "      <td>55.0</td>\n",
       "      <td>5.0</td>\n",
       "      <td>56.0</td>\n",
       "      <td>6 - 5, 20</td>\n",
       "      <td>55 - 56, 96</td>\n",
       "    </tr>\n",
       "    <tr>\n",
       "      <th>412654</th>\n",
       "      <td>14365780</td>\n",
       "      <td>Oberliga</td>\n",
       "      <td>428</td>\n",
       "      <td>38</td>\n",
       "      <td>09.11.2013 12:30</td>\n",
       "      <td>Hauenstein - Burgbrohl</td>\n",
       "      <td>0:5</td>\n",
       "      <td>thr</td>\n",
       "      <td>Hauenstein</td>\n",
       "      <td>3.0</td>\n",
       "      <td>55.0</td>\n",
       "      <td>10.0</td>\n",
       "      <td>43.0</td>\n",
       "      <td>3 - 10, 20</td>\n",
       "      <td>55 - 43, 96</td>\n",
       "    </tr>\n",
       "    <tr>\n",
       "      <th>412655</th>\n",
       "      <td>14365782</td>\n",
       "      <td>Oberliga</td>\n",
       "      <td>428</td>\n",
       "      <td>38</td>\n",
       "      <td>09.11.2013 12:30</td>\n",
       "      <td>Rochling Volklingen - Hertha Wiesbach</td>\n",
       "      <td>0:3</td>\n",
       "      <td>thr</td>\n",
       "      <td>Rochling Volklingen</td>\n",
       "      <td>14.0</td>\n",
       "      <td>40.0</td>\n",
       "      <td>8.0</td>\n",
       "      <td>47.0</td>\n",
       "      <td>14 - 8, 20</td>\n",
       "      <td>40 - 47, 96</td>\n",
       "    </tr>\n",
       "    <tr>\n",
       "      <th>412656</th>\n",
       "      <td>14362982</td>\n",
       "      <td>Oberliga</td>\n",
       "      <td>428</td>\n",
       "      <td>38</td>\n",
       "      <td>09.11.2013 13:00</td>\n",
       "      <td>Malchower SV - Schоnberg</td>\n",
       "      <td>1:1</td>\n",
       "      <td>thr</td>\n",
       "      <td>Malchower SV</td>\n",
       "      <td>13.0</td>\n",
       "      <td>33.0</td>\n",
       "      <td>11.0</td>\n",
       "      <td>36.0</td>\n",
       "      <td>13 - 11, 20</td>\n",
       "      <td>33 - 36, 96</td>\n",
       "    </tr>\n",
       "    <tr>\n",
       "      <th>412657</th>\n",
       "      <td>14365783</td>\n",
       "      <td>Oberliga</td>\n",
       "      <td>428</td>\n",
       "      <td>38</td>\n",
       "      <td>09.11.2013 13:00</td>\n",
       "      <td>Mehring - Salmrohr</td>\n",
       "      <td>2:0</td>\n",
       "      <td>thr</td>\n",
       "      <td>Mehring</td>\n",
       "      <td>16.0</td>\n",
       "      <td>39.0</td>\n",
       "      <td>2.0</td>\n",
       "      <td>60.0</td>\n",
       "      <td>16 - 2, 20</td>\n",
       "      <td>39 - 60, 96</td>\n",
       "    </tr>\n",
       "    <tr>\n",
       "      <th>412658</th>\n",
       "      <td>14362043</td>\n",
       "      <td>Oberliga</td>\n",
       "      <td>428</td>\n",
       "      <td>38</td>\n",
       "      <td>09.11.2013 14:00</td>\n",
       "      <td>Jeddeloh - Osnabruck II</td>\n",
       "      <td>3:3</td>\n",
       "      <td>thr</td>\n",
       "      <td>Jeddeloh</td>\n",
       "      <td>10.0</td>\n",
       "      <td>41.0</td>\n",
       "      <td>4.0</td>\n",
       "      <td>46.0</td>\n",
       "      <td>10 - 4, 20</td>\n",
       "      <td>41 - 46, 96</td>\n",
       "    </tr>\n",
       "    <tr>\n",
       "      <th>412659</th>\n",
       "      <td>15052857</td>\n",
       "      <td>Premier League</td>\n",
       "      <td>670</td>\n",
       "      <td>3</td>\n",
       "      <td>06.11.2013 09:00</td>\n",
       "      <td>Karachi Port Trust - Khan Research Laboratories</td>\n",
       "      <td>0:2</td>\n",
       "      <td>thr</td>\n",
       "      <td>Karachi Port Trust</td>\n",
       "      <td>8.0</td>\n",
       "      <td>40.0</td>\n",
       "      <td>NaN</td>\n",
       "      <td>NaN</td>\n",
       "      <td>None</td>\n",
       "      <td>None</td>\n",
       "    </tr>\n",
       "    <tr>\n",
       "      <th>412660</th>\n",
       "      <td>15052851</td>\n",
       "      <td>Premier League</td>\n",
       "      <td>670</td>\n",
       "      <td>3</td>\n",
       "      <td>04.11.2013 09:00</td>\n",
       "      <td>Pakistan Navy - WAPDA FC</td>\n",
       "      <td>0:0</td>\n",
       "      <td>thr</td>\n",
       "      <td>Pakistan Navy</td>\n",
       "      <td>12.0</td>\n",
       "      <td>35.0</td>\n",
       "      <td>3.0</td>\n",
       "      <td>63.0</td>\n",
       "      <td>12 - 3, 16</td>\n",
       "      <td>35 - 63, 69</td>\n",
       "    </tr>\n",
       "    <tr>\n",
       "      <th>412661</th>\n",
       "      <td>15052852</td>\n",
       "      <td>Premier League</td>\n",
       "      <td>670</td>\n",
       "      <td>3</td>\n",
       "      <td>04.11.2013 09:00</td>\n",
       "      <td>Afghan FC - Pakistan Army</td>\n",
       "      <td>0:0</td>\n",
       "      <td>thr</td>\n",
       "      <td>Afghan FC</td>\n",
       "      <td>10.0</td>\n",
       "      <td>36.0</td>\n",
       "      <td>5.0</td>\n",
       "      <td>48.0</td>\n",
       "      <td>10 - 5, 16</td>\n",
       "      <td>36 - 48, 69</td>\n",
       "    </tr>\n",
       "    <tr>\n",
       "      <th>412662</th>\n",
       "      <td>15052853</td>\n",
       "      <td>Premier League</td>\n",
       "      <td>670</td>\n",
       "      <td>3</td>\n",
       "      <td>04.11.2013 09:00</td>\n",
       "      <td>Muslim - Khan Research Laboratories</td>\n",
       "      <td>1:1</td>\n",
       "      <td>thr</td>\n",
       "      <td>Muslim</td>\n",
       "      <td>7.0</td>\n",
       "      <td>44.0</td>\n",
       "      <td>NaN</td>\n",
       "      <td>NaN</td>\n",
       "      <td>None</td>\n",
       "      <td>None</td>\n",
       "    </tr>\n",
       "  </tbody>\n",
       "</table>\n",
       "</div>"
      ],
      "text/plain": [
       "         game_id    ligue_header comp_id season_id          game_utc  \\\n",
       "412653  14359601        Oberliga     428        38  09.11.2013 12:30   \n",
       "412654  14365780        Oberliga     428        38  09.11.2013 12:30   \n",
       "412655  14365782        Oberliga     428        38  09.11.2013 12:30   \n",
       "412656  14362982        Oberliga     428        38  09.11.2013 13:00   \n",
       "412657  14365783        Oberliga     428        38  09.11.2013 13:00   \n",
       "412658  14362043        Oberliga     428        38  09.11.2013 14:00   \n",
       "412659  15052857  Premier League     670         3  06.11.2013 09:00   \n",
       "412660  15052851  Premier League     670         3  04.11.2013 09:00   \n",
       "412661  15052852  Premier League     670         3  04.11.2013 09:00   \n",
       "412662  15052853  Premier League     670         3  04.11.2013 09:00   \n",
       "\n",
       "                                             game_title goals ligue  \\\n",
       "412653              Rot-WeiY Hadamar - FSV Frankfurt II   1:1   thr   \n",
       "412654                           Hauenstein - Burgbrohl   0:5   thr   \n",
       "412655            Rochling Volklingen - Hertha Wiesbach   0:3   thr   \n",
       "412656                         Malchower SV - Schоnberg   1:1   thr   \n",
       "412657                               Mehring - Salmrohr   2:0   thr   \n",
       "412658                          Jeddeloh - Osnabruck II   3:3   thr   \n",
       "412659  Karachi Port Trust - Khan Research Laboratories   0:2   thr   \n",
       "412660                         Pakistan Navy - WAPDA FC   0:0   thr   \n",
       "412661                        Afghan FC - Pakistan Army   0:0   thr   \n",
       "412662              Muslim - Khan Research Laboratories   1:1   thr   \n",
       "\n",
       "                     f_team  pos_f  pts_f  pos_s  pts_s   fs_pos_max  \\\n",
       "412653     Rot-WeiY Hadamar    6.0   55.0    5.0   56.0    6 - 5, 20   \n",
       "412654           Hauenstein    3.0   55.0   10.0   43.0   3 - 10, 20   \n",
       "412655  Rochling Volklingen   14.0   40.0    8.0   47.0   14 - 8, 20   \n",
       "412656         Malchower SV   13.0   33.0   11.0   36.0  13 - 11, 20   \n",
       "412657              Mehring   16.0   39.0    2.0   60.0   16 - 2, 20   \n",
       "412658             Jeddeloh   10.0   41.0    4.0   46.0   10 - 4, 20   \n",
       "412659   Karachi Port Trust    8.0   40.0    NaN    NaN         None   \n",
       "412660        Pakistan Navy   12.0   35.0    3.0   63.0   12 - 3, 16   \n",
       "412661            Afghan FC   10.0   36.0    5.0   48.0   10 - 5, 16   \n",
       "412662               Muslim    7.0   44.0    NaN    NaN         None   \n",
       "\n",
       "         fs_pts_max  \n",
       "412653  55 - 56, 96  \n",
       "412654  55 - 43, 96  \n",
       "412655  40 - 47, 96  \n",
       "412656  33 - 36, 96  \n",
       "412657  39 - 60, 96  \n",
       "412658  41 - 46, 96  \n",
       "412659         None  \n",
       "412660  35 - 63, 69  \n",
       "412661  36 - 48, 69  \n",
       "412662         None  "
      ]
     },
     "execution_count": 34,
     "metadata": {},
     "output_type": "execute_result"
    }
   ],
   "source": [
    "print('shape - ', df_power_coefs.shape[0])\n",
    "df_power_coefs.tail(10)"
   ]
  },
  {
   "cell_type": "code",
   "execution_count": 36,
   "metadata": {},
   "outputs": [],
   "source": [
    "# Stop"
   ]
  },
  {
   "cell_type": "markdown",
   "metadata": {},
   "source": [
    "#### Power coefficient  ' * ' :  2"
   ]
  },
  {
   "cell_type": "markdown",
   "metadata": {},
   "source": [
    "#### Power coefficient sum: -13 pts_f  (home_team = fav) < home_team_pts_f < + 13 pts_f  (home_team = pre)"
   ]
  },
  {
   "cell_type": "code",
   "execution_count": 37,
   "metadata": {},
   "outputs": [],
   "source": [
    "# pow_coef = 2\n",
    "# df_power_coefs['f_pow_pts'] = df_power_coefs[['pts_f', 'pts_s']].apply(lambda x: ParsingDataPrepare.roles_determinate([x[0], x[1]], pow_coef, 'max_point'), axis=1)"
   ]
  },
  {
   "cell_type": "code",
   "execution_count": 38,
   "metadata": {},
   "outputs": [],
   "source": [
    "sum_coef = 13\n",
    "df_power_coefs['f_pow_pts'] = df_power_coefs[['pts_f', 'pts_s']].apply(lambda x: ParsingDataPrepare.roles_determinate([x[0], x[1]], sum_coef, 'sum_point'), axis=1)"
   ]
  },
  {
   "cell_type": "code",
   "execution_count": 39,
   "metadata": {},
   "outputs": [
    {
     "data": {
      "text/plain": [
       "Neu    215965\n",
       "Fav     98585\n",
       "Pre     98113\n",
       "Name: f_pow_pts, dtype: int64"
      ]
     },
     "execution_count": 39,
     "metadata": {},
     "output_type": "execute_result"
    }
   ],
   "source": [
    "df_power_coefs.f_pow_pts.value_counts(dropna=False)"
   ]
  },
  {
   "cell_type": "code",
   "execution_count": 40,
   "metadata": {},
   "outputs": [],
   "source": [
    "df_power_coefs['f_pow'] = df_power_coefs.f_pow_pts"
   ]
  },
  {
   "cell_type": "code",
   "execution_count": 41,
   "metadata": {},
   "outputs": [],
   "source": [
    "df_power_coefs.drop(columns='f_pow_pts', inplace=True)"
   ]
  },
  {
   "cell_type": "code",
   "execution_count": 42,
   "metadata": {},
   "outputs": [],
   "source": [
    "df_fav_pre = df_power_coefs[df_power_coefs.f_pow.isin(['Fav', 'Pre'])].copy()"
   ]
  },
  {
   "cell_type": "code",
   "execution_count": 43,
   "metadata": {},
   "outputs": [],
   "source": [
    "# Stop"
   ]
  },
  {
   "cell_type": "markdown",
   "metadata": {},
   "source": [
    "#### Set description"
   ]
  },
  {
   "cell_type": "code",
   "execution_count": 44,
   "metadata": {},
   "outputs": [],
   "source": [
    "# 'pow_coef_2'\n",
    "df_fav_pre['desc'] = 'sum_coef_13'"
   ]
  },
  {
   "cell_type": "code",
   "execution_count": 45,
   "metadata": {},
   "outputs": [],
   "source": [
    "df_fav_pre.reset_index(drop=True, inplace=True)"
   ]
  },
  {
   "cell_type": "code",
   "execution_count": 46,
   "metadata": {},
   "outputs": [
    {
     "name": "stdout",
     "output_type": "stream",
     "text": [
      "shape -  196698\n"
     ]
    },
    {
     "data": {
      "text/html": [
       "<div>\n",
       "<style scoped>\n",
       "    .dataframe tbody tr th:only-of-type {\n",
       "        vertical-align: middle;\n",
       "    }\n",
       "\n",
       "    .dataframe tbody tr th {\n",
       "        vertical-align: top;\n",
       "    }\n",
       "\n",
       "    .dataframe thead th {\n",
       "        text-align: right;\n",
       "    }\n",
       "</style>\n",
       "<table border=\"1\" class=\"dataframe\">\n",
       "  <thead>\n",
       "    <tr style=\"text-align: right;\">\n",
       "      <th></th>\n",
       "      <th>game_id</th>\n",
       "      <th>ligue_header</th>\n",
       "      <th>comp_id</th>\n",
       "      <th>season_id</th>\n",
       "      <th>game_utc</th>\n",
       "      <th>game_title</th>\n",
       "      <th>goals</th>\n",
       "      <th>ligue</th>\n",
       "      <th>f_team</th>\n",
       "      <th>pos_f</th>\n",
       "      <th>pts_f</th>\n",
       "      <th>pos_s</th>\n",
       "      <th>pts_s</th>\n",
       "      <th>fs_pos_max</th>\n",
       "      <th>fs_pts_max</th>\n",
       "      <th>f_pow</th>\n",
       "      <th>desc</th>\n",
       "    </tr>\n",
       "  </thead>\n",
       "  <tbody>\n",
       "    <tr>\n",
       "      <th>196695</th>\n",
       "      <td>14354938</td>\n",
       "      <td>Oberliga</td>\n",
       "      <td>428</td>\n",
       "      <td>38</td>\n",
       "      <td>09.11.2013 12:30</td>\n",
       "      <td>Bremerhaven - Vatan Sport</td>\n",
       "      <td>6:1</td>\n",
       "      <td>thr</td>\n",
       "      <td>Bremerhaven</td>\n",
       "      <td>9.0</td>\n",
       "      <td>41.0</td>\n",
       "      <td>14.0</td>\n",
       "      <td>22.0</td>\n",
       "      <td>9 - 14, 20</td>\n",
       "      <td>41 - 22, 96</td>\n",
       "      <td>Fav</td>\n",
       "      <td>sum_coef_13</td>\n",
       "    </tr>\n",
       "    <tr>\n",
       "      <th>196696</th>\n",
       "      <td>14365783</td>\n",
       "      <td>Oberliga</td>\n",
       "      <td>428</td>\n",
       "      <td>38</td>\n",
       "      <td>09.11.2013 13:00</td>\n",
       "      <td>Mehring - Salmrohr</td>\n",
       "      <td>2:0</td>\n",
       "      <td>thr</td>\n",
       "      <td>Mehring</td>\n",
       "      <td>16.0</td>\n",
       "      <td>39.0</td>\n",
       "      <td>2.0</td>\n",
       "      <td>60.0</td>\n",
       "      <td>16 - 2, 20</td>\n",
       "      <td>39 - 60, 96</td>\n",
       "      <td>Pre</td>\n",
       "      <td>sum_coef_13</td>\n",
       "    </tr>\n",
       "    <tr>\n",
       "      <th>196697</th>\n",
       "      <td>15052851</td>\n",
       "      <td>Premier League</td>\n",
       "      <td>670</td>\n",
       "      <td>3</td>\n",
       "      <td>04.11.2013 09:00</td>\n",
       "      <td>Pakistan Navy - WAPDA FC</td>\n",
       "      <td>0:0</td>\n",
       "      <td>thr</td>\n",
       "      <td>Pakistan Navy</td>\n",
       "      <td>12.0</td>\n",
       "      <td>35.0</td>\n",
       "      <td>3.0</td>\n",
       "      <td>63.0</td>\n",
       "      <td>12 - 3, 16</td>\n",
       "      <td>35 - 63, 69</td>\n",
       "      <td>Pre</td>\n",
       "      <td>sum_coef_13</td>\n",
       "    </tr>\n",
       "  </tbody>\n",
       "</table>\n",
       "</div>"
      ],
      "text/plain": [
       "         game_id    ligue_header comp_id season_id          game_utc  \\\n",
       "196695  14354938        Oberliga     428        38  09.11.2013 12:30   \n",
       "196696  14365783        Oberliga     428        38  09.11.2013 13:00   \n",
       "196697  15052851  Premier League     670         3  04.11.2013 09:00   \n",
       "\n",
       "                       game_title goals ligue         f_team  pos_f  pts_f  \\\n",
       "196695  Bremerhaven - Vatan Sport   6:1   thr    Bremerhaven    9.0   41.0   \n",
       "196696         Mehring - Salmrohr   2:0   thr        Mehring   16.0   39.0   \n",
       "196697   Pakistan Navy - WAPDA FC   0:0   thr  Pakistan Navy   12.0   35.0   \n",
       "\n",
       "        pos_s  pts_s  fs_pos_max   fs_pts_max f_pow         desc  \n",
       "196695   14.0   22.0  9 - 14, 20  41 - 22, 96   Fav  sum_coef_13  \n",
       "196696    2.0   60.0  16 - 2, 20  39 - 60, 96   Pre  sum_coef_13  \n",
       "196697    3.0   63.0  12 - 3, 16  35 - 63, 69   Pre  sum_coef_13  "
      ]
     },
     "execution_count": 46,
     "metadata": {},
     "output_type": "execute_result"
    }
   ],
   "source": [
    "print('shape - ', df_fav_pre.shape[0])\n",
    "df_fav_pre.tail(3)"
   ]
  },
  {
   "cell_type": "code",
   "execution_count": 47,
   "metadata": {},
   "outputs": [],
   "source": [
    "df_for_cities = df_fav_pre.copy()"
   ]
  },
  {
   "cell_type": "code",
   "execution_count": 48,
   "metadata": {},
   "outputs": [
    {
     "data": {
      "text/plain": [
       "(196698, 17)"
      ]
     },
     "execution_count": 48,
     "metadata": {},
     "output_type": "execute_result"
    }
   ],
   "source": [
    "df_for_cities.shape"
   ]
  },
  {
   "cell_type": "code",
   "execution_count": 50,
   "metadata": {},
   "outputs": [],
   "source": [
    "# Stop"
   ]
  },
  {
   "cell_type": "markdown",
   "metadata": {},
   "source": [
    "#### Remove previous game_ids with 'pow_coef_2' description if exist."
   ]
  },
  {
   "cell_type": "code",
   "execution_count": 53,
   "metadata": {},
   "outputs": [
    {
     "name": "stdout",
     "output_type": "stream",
     "text": [
      "dir_data -  26_03_2021\n"
     ]
    }
   ],
   "source": [
    "print('dir_data - ', dir_data)\n",
    "with open('pickle_files/aspected_files/df_with_aspects_' + dir_data + '_f_pow_2', 'rb') as f:\n",
    "    df_with_asps = pickle.load(f)"
   ]
  },
  {
   "cell_type": "code",
   "execution_count": 54,
   "metadata": {},
   "outputs": [
    {
     "data": {
      "text/plain": [
       "(56017, 27)"
      ]
     },
     "execution_count": 54,
     "metadata": {},
     "output_type": "execute_result"
    }
   ],
   "source": [
    "df_with_asps.shape"
   ]
  },
  {
   "cell_type": "code",
   "execution_count": 55,
   "metadata": {},
   "outputs": [
    {
     "name": "stdout",
     "output_type": "stream",
     "text": [
      "shape -  (142454, 17)\n"
     ]
    },
    {
     "data": {
      "text/html": [
       "<div>\n",
       "<style scoped>\n",
       "    .dataframe tbody tr th:only-of-type {\n",
       "        vertical-align: middle;\n",
       "    }\n",
       "\n",
       "    .dataframe tbody tr th {\n",
       "        vertical-align: top;\n",
       "    }\n",
       "\n",
       "    .dataframe thead th {\n",
       "        text-align: right;\n",
       "    }\n",
       "</style>\n",
       "<table border=\"1\" class=\"dataframe\">\n",
       "  <thead>\n",
       "    <tr style=\"text-align: right;\">\n",
       "      <th></th>\n",
       "      <th>game_id</th>\n",
       "      <th>ligue_header</th>\n",
       "      <th>comp_id</th>\n",
       "      <th>season_id</th>\n",
       "      <th>game_utc</th>\n",
       "      <th>game_title</th>\n",
       "      <th>goals</th>\n",
       "      <th>ligue</th>\n",
       "      <th>f_team</th>\n",
       "      <th>pos_f</th>\n",
       "      <th>pts_f</th>\n",
       "      <th>pos_s</th>\n",
       "      <th>pts_s</th>\n",
       "      <th>fs_pos_max</th>\n",
       "      <th>fs_pts_max</th>\n",
       "      <th>f_pow</th>\n",
       "      <th>desc</th>\n",
       "    </tr>\n",
       "  </thead>\n",
       "  <tbody>\n",
       "    <tr>\n",
       "      <th>142451</th>\n",
       "      <td>14354938</td>\n",
       "      <td>Oberliga</td>\n",
       "      <td>428</td>\n",
       "      <td>38</td>\n",
       "      <td>09.11.2013 12:30</td>\n",
       "      <td>Bremerhaven - Vatan Sport</td>\n",
       "      <td>6:1</td>\n",
       "      <td>thr</td>\n",
       "      <td>Bremerhaven</td>\n",
       "      <td>9.0</td>\n",
       "      <td>41.0</td>\n",
       "      <td>14.0</td>\n",
       "      <td>22.0</td>\n",
       "      <td>9 - 14, 20</td>\n",
       "      <td>41 - 22, 96</td>\n",
       "      <td>Fav</td>\n",
       "      <td>sum_coef_13</td>\n",
       "    </tr>\n",
       "    <tr>\n",
       "      <th>142452</th>\n",
       "      <td>14365783</td>\n",
       "      <td>Oberliga</td>\n",
       "      <td>428</td>\n",
       "      <td>38</td>\n",
       "      <td>09.11.2013 13:00</td>\n",
       "      <td>Mehring - Salmrohr</td>\n",
       "      <td>2:0</td>\n",
       "      <td>thr</td>\n",
       "      <td>Mehring</td>\n",
       "      <td>16.0</td>\n",
       "      <td>39.0</td>\n",
       "      <td>2.0</td>\n",
       "      <td>60.0</td>\n",
       "      <td>16 - 2, 20</td>\n",
       "      <td>39 - 60, 96</td>\n",
       "      <td>Pre</td>\n",
       "      <td>sum_coef_13</td>\n",
       "    </tr>\n",
       "    <tr>\n",
       "      <th>142453</th>\n",
       "      <td>15052851</td>\n",
       "      <td>Premier League</td>\n",
       "      <td>670</td>\n",
       "      <td>3</td>\n",
       "      <td>04.11.2013 09:00</td>\n",
       "      <td>Pakistan Navy - WAPDA FC</td>\n",
       "      <td>0:0</td>\n",
       "      <td>thr</td>\n",
       "      <td>Pakistan Navy</td>\n",
       "      <td>12.0</td>\n",
       "      <td>35.0</td>\n",
       "      <td>3.0</td>\n",
       "      <td>63.0</td>\n",
       "      <td>12 - 3, 16</td>\n",
       "      <td>35 - 63, 69</td>\n",
       "      <td>Pre</td>\n",
       "      <td>sum_coef_13</td>\n",
       "    </tr>\n",
       "  </tbody>\n",
       "</table>\n",
       "</div>"
      ],
      "text/plain": [
       "         game_id    ligue_header comp_id season_id          game_utc  \\\n",
       "142451  14354938        Oberliga     428        38  09.11.2013 12:30   \n",
       "142452  14365783        Oberliga     428        38  09.11.2013 13:00   \n",
       "142453  15052851  Premier League     670         3  04.11.2013 09:00   \n",
       "\n",
       "                       game_title goals ligue         f_team  pos_f  pts_f  \\\n",
       "142451  Bremerhaven - Vatan Sport   6:1   thr    Bremerhaven    9.0   41.0   \n",
       "142452         Mehring - Salmrohr   2:0   thr        Mehring   16.0   39.0   \n",
       "142453   Pakistan Navy - WAPDA FC   0:0   thr  Pakistan Navy   12.0   35.0   \n",
       "\n",
       "        pos_s  pts_s  fs_pos_max   fs_pts_max f_pow         desc  \n",
       "142451   14.0   22.0  9 - 14, 20  41 - 22, 96   Fav  sum_coef_13  \n",
       "142452    2.0   60.0  16 - 2, 20  39 - 60, 96   Pre  sum_coef_13  \n",
       "142453    3.0   63.0  12 - 3, 16  35 - 63, 69   Pre  sum_coef_13  "
      ]
     },
     "execution_count": 55,
     "metadata": {},
     "output_type": "execute_result"
    }
   ],
   "source": [
    "df_for_cities = df_for_cities[~df_for_cities.game_id.isin(df_with_asps.game_id)].copy().reset_index(drop=True)\n",
    "print('shape - ', df_for_cities.shape)\n",
    "df_for_cities.tail(3)"
   ]
  },
  {
   "cell_type": "markdown",
   "metadata": {},
   "source": [
    "#### Add cities and countries. Got ids from 'soccer365' site. Check last created file."
   ]
  },
  {
   "cell_type": "code",
   "execution_count": 56,
   "metadata": {},
   "outputs": [],
   "source": [
    "with open('pickle_files/cities_countries/df_countries_champ_ids_created_20_07_22', 'rb') as f:\n",
    "    df_countries = pickle.load(f)"
   ]
  },
  {
   "cell_type": "code",
   "execution_count": 57,
   "metadata": {},
   "outputs": [],
   "source": [
    "df_countries.drop_duplicates(subset=['comp_id', 'country'], inplace=True)\n",
    "df_countries = df_countries[~df_countries.country.isin([''])]\n",
    "df_countries.reset_index(drop=True, inplace=True)"
   ]
  },
  {
   "cell_type": "code",
   "execution_count": 58,
   "metadata": {},
   "outputs": [
    {
     "name": "stdout",
     "output_type": "stream",
     "text": [
      "shape -  (385, 2)\n"
     ]
    },
    {
     "data": {
      "text/html": [
       "<div>\n",
       "<style scoped>\n",
       "    .dataframe tbody tr th:only-of-type {\n",
       "        vertical-align: middle;\n",
       "    }\n",
       "\n",
       "    .dataframe tbody tr th {\n",
       "        vertical-align: top;\n",
       "    }\n",
       "\n",
       "    .dataframe thead th {\n",
       "        text-align: right;\n",
       "    }\n",
       "</style>\n",
       "<table border=\"1\" class=\"dataframe\">\n",
       "  <thead>\n",
       "    <tr style=\"text-align: right;\">\n",
       "      <th></th>\n",
       "      <th>comp_id</th>\n",
       "      <th>country</th>\n",
       "    </tr>\n",
       "  </thead>\n",
       "  <tbody>\n",
       "    <tr>\n",
       "      <th>0</th>\n",
       "      <td>12</td>\n",
       "      <td>England</td>\n",
       "    </tr>\n",
       "    <tr>\n",
       "      <th>1</th>\n",
       "      <td>13</td>\n",
       "      <td>Russia</td>\n",
       "    </tr>\n",
       "    <tr>\n",
       "      <th>2</th>\n",
       "      <td>14</td>\n",
       "      <td>Ukraine</td>\n",
       "    </tr>\n",
       "    <tr>\n",
       "      <th>3</th>\n",
       "      <td>15</td>\n",
       "      <td>Italy</td>\n",
       "    </tr>\n",
       "    <tr>\n",
       "      <th>4</th>\n",
       "      <td>16</td>\n",
       "      <td>Spain</td>\n",
       "    </tr>\n",
       "    <tr>\n",
       "      <th>...</th>\n",
       "      <td>...</td>\n",
       "      <td>...</td>\n",
       "    </tr>\n",
       "    <tr>\n",
       "      <th>380</th>\n",
       "      <td>1199</td>\n",
       "      <td>nd</td>\n",
       "    </tr>\n",
       "    <tr>\n",
       "      <th>381</th>\n",
       "      <td>526</td>\n",
       "      <td>nd</td>\n",
       "    </tr>\n",
       "    <tr>\n",
       "      <th>382</th>\n",
       "      <td>780</td>\n",
       "      <td>nd</td>\n",
       "    </tr>\n",
       "    <tr>\n",
       "      <th>383</th>\n",
       "      <td>2062</td>\n",
       "      <td>Mexico</td>\n",
       "    </tr>\n",
       "    <tr>\n",
       "      <th>384</th>\n",
       "      <td>2076</td>\n",
       "      <td>nd</td>\n",
       "    </tr>\n",
       "  </tbody>\n",
       "</table>\n",
       "<p>385 rows × 2 columns</p>\n",
       "</div>"
      ],
      "text/plain": [
       "    comp_id  country\n",
       "0        12  England\n",
       "1        13   Russia\n",
       "2        14  Ukraine\n",
       "3        15    Italy\n",
       "4        16    Spain\n",
       "..      ...      ...\n",
       "380    1199       nd\n",
       "381     526       nd\n",
       "382     780       nd\n",
       "383    2062   Mexico\n",
       "384    2076       nd\n",
       "\n",
       "[385 rows x 2 columns]"
      ]
     },
     "execution_count": 58,
     "metadata": {},
     "output_type": "execute_result"
    }
   ],
   "source": [
    "print('shape - ', df_countries.shape)\n",
    "df_countries"
   ]
  },
  {
   "cell_type": "code",
   "execution_count": 59,
   "metadata": {},
   "outputs": [
    {
     "data": {
      "text/plain": [
       "'set()'"
      ]
     },
     "execution_count": 59,
     "metadata": {},
     "output_type": "execute_result"
    }
   ],
   "source": [
    "str(set(df_for_cities[~df_for_cities.comp_id.isin(df_countries.comp_id)].comp_id))"
   ]
  },
  {
   "cell_type": "code",
   "execution_count": null,
   "metadata": {},
   "outputs": [],
   "source": [
    "# '467':'Australia', 538':'Canada', '1695':'Kenya', '719':'Trinidad and Tobago', '583':'Gabon', '702':'Slovakia', '663':'New Zealand', '1074':'South Africa'\n",
    "# '1767':'USA', '594':'Haiti', '608':'Indonesia', '497':'Brazil', '696':'Senegal', '490':'Bhutan', '662':'Namibia', '480':'Barbados', '1078':'Guinea'\n",
    "# '1081':'Burkina Faso', '573':'Faroe Islands', '2062': 'Mexico'"
   ]
  },
  {
   "cell_type": "code",
   "execution_count": null,
   "metadata": {},
   "outputs": [],
   "source": [
    "# df_countries = df_countries.append({'comp_id':'2076', 'country':'nd'}, ignore_index=True)"
   ]
  },
  {
   "cell_type": "code",
   "execution_count": null,
   "metadata": {},
   "outputs": [],
   "source": [
    "# file = open('pickle_files/cities_countries/df_countries_champ_ids_created_20_07_22', 'wb')\n",
    "# pickle.dump(df_countries, file)  \n",
    "# file.close()"
   ]
  },
  {
   "cell_type": "code",
   "execution_count": 60,
   "metadata": {},
   "outputs": [
    {
     "name": "stdout",
     "output_type": "stream",
     "text": [
      "shape -  142454\n"
     ]
    },
    {
     "data": {
      "text/html": [
       "<div>\n",
       "<style scoped>\n",
       "    .dataframe tbody tr th:only-of-type {\n",
       "        vertical-align: middle;\n",
       "    }\n",
       "\n",
       "    .dataframe tbody tr th {\n",
       "        vertical-align: top;\n",
       "    }\n",
       "\n",
       "    .dataframe thead th {\n",
       "        text-align: right;\n",
       "    }\n",
       "</style>\n",
       "<table border=\"1\" class=\"dataframe\">\n",
       "  <thead>\n",
       "    <tr style=\"text-align: right;\">\n",
       "      <th></th>\n",
       "      <th>game_id</th>\n",
       "      <th>ligue_header</th>\n",
       "      <th>comp_id</th>\n",
       "      <th>season_id</th>\n",
       "      <th>game_utc</th>\n",
       "      <th>game_title</th>\n",
       "      <th>goals</th>\n",
       "      <th>ligue</th>\n",
       "      <th>f_team</th>\n",
       "      <th>pos_f</th>\n",
       "      <th>pts_f</th>\n",
       "      <th>pos_s</th>\n",
       "      <th>pts_s</th>\n",
       "      <th>fs_pos_max</th>\n",
       "      <th>fs_pts_max</th>\n",
       "      <th>f_pow</th>\n",
       "      <th>desc</th>\n",
       "    </tr>\n",
       "  </thead>\n",
       "  <tbody>\n",
       "    <tr>\n",
       "      <th>142451</th>\n",
       "      <td>14354938</td>\n",
       "      <td>Oberliga</td>\n",
       "      <td>428</td>\n",
       "      <td>38</td>\n",
       "      <td>09.11.2013 12:30</td>\n",
       "      <td>Bremerhaven - Vatan Sport</td>\n",
       "      <td>6:1</td>\n",
       "      <td>thr</td>\n",
       "      <td>Bremerhaven</td>\n",
       "      <td>9.0</td>\n",
       "      <td>41.0</td>\n",
       "      <td>14.0</td>\n",
       "      <td>22.0</td>\n",
       "      <td>9 - 14, 20</td>\n",
       "      <td>41 - 22, 96</td>\n",
       "      <td>Fav</td>\n",
       "      <td>sum_coef_13</td>\n",
       "    </tr>\n",
       "    <tr>\n",
       "      <th>142452</th>\n",
       "      <td>14365783</td>\n",
       "      <td>Oberliga</td>\n",
       "      <td>428</td>\n",
       "      <td>38</td>\n",
       "      <td>09.11.2013 13:00</td>\n",
       "      <td>Mehring - Salmrohr</td>\n",
       "      <td>2:0</td>\n",
       "      <td>thr</td>\n",
       "      <td>Mehring</td>\n",
       "      <td>16.0</td>\n",
       "      <td>39.0</td>\n",
       "      <td>2.0</td>\n",
       "      <td>60.0</td>\n",
       "      <td>16 - 2, 20</td>\n",
       "      <td>39 - 60, 96</td>\n",
       "      <td>Pre</td>\n",
       "      <td>sum_coef_13</td>\n",
       "    </tr>\n",
       "    <tr>\n",
       "      <th>142453</th>\n",
       "      <td>15052851</td>\n",
       "      <td>Premier League</td>\n",
       "      <td>670</td>\n",
       "      <td>3</td>\n",
       "      <td>04.11.2013 09:00</td>\n",
       "      <td>Pakistan Navy - WAPDA FC</td>\n",
       "      <td>0:0</td>\n",
       "      <td>thr</td>\n",
       "      <td>Pakistan Navy</td>\n",
       "      <td>12.0</td>\n",
       "      <td>35.0</td>\n",
       "      <td>3.0</td>\n",
       "      <td>63.0</td>\n",
       "      <td>12 - 3, 16</td>\n",
       "      <td>35 - 63, 69</td>\n",
       "      <td>Pre</td>\n",
       "      <td>sum_coef_13</td>\n",
       "    </tr>\n",
       "  </tbody>\n",
       "</table>\n",
       "</div>"
      ],
      "text/plain": [
       "         game_id    ligue_header comp_id season_id          game_utc  \\\n",
       "142451  14354938        Oberliga     428        38  09.11.2013 12:30   \n",
       "142452  14365783        Oberliga     428        38  09.11.2013 13:00   \n",
       "142453  15052851  Premier League     670         3  04.11.2013 09:00   \n",
       "\n",
       "                       game_title goals ligue         f_team  pos_f  pts_f  \\\n",
       "142451  Bremerhaven - Vatan Sport   6:1   thr    Bremerhaven    9.0   41.0   \n",
       "142452         Mehring - Salmrohr   2:0   thr        Mehring   16.0   39.0   \n",
       "142453   Pakistan Navy - WAPDA FC   0:0   thr  Pakistan Navy   12.0   35.0   \n",
       "\n",
       "        pos_s  pts_s  fs_pos_max   fs_pts_max f_pow         desc  \n",
       "142451   14.0   22.0  9 - 14, 20  41 - 22, 96   Fav  sum_coef_13  \n",
       "142452    2.0   60.0  16 - 2, 20  39 - 60, 96   Pre  sum_coef_13  \n",
       "142453    3.0   63.0  12 - 3, 16  35 - 63, 69   Pre  sum_coef_13  "
      ]
     },
     "execution_count": 60,
     "metadata": {},
     "output_type": "execute_result"
    }
   ],
   "source": [
    "print('shape - ', df_for_cities.shape[0])\n",
    "df_for_cities.tail(3)"
   ]
  },
  {
   "cell_type": "code",
   "execution_count": 61,
   "metadata": {},
   "outputs": [],
   "source": [
    "df_for_cities = df_for_cities.merge(df_countries, how='left', left_on='comp_id', right_on='comp_id')"
   ]
  },
  {
   "cell_type": "code",
   "execution_count": 62,
   "metadata": {},
   "outputs": [
    {
     "data": {
      "text/plain": [
       "(142454, 18)"
      ]
     },
     "execution_count": 62,
     "metadata": {},
     "output_type": "execute_result"
    }
   ],
   "source": [
    "df_for_cities.shape"
   ]
  },
  {
   "cell_type": "code",
   "execution_count": 63,
   "metadata": {},
   "outputs": [
    {
     "data": {
      "text/plain": [
       "Spain      22120\n",
       "England    17484\n",
       "Italy      11549\n",
       "Germany    11146\n",
       "Turkey      4594\n",
       "           ...  \n",
       "Cuba          12\n",
       "Namibia       10\n",
       "Aruba          5\n",
       "Canada         3\n",
       "Bhutan         2\n",
       "Name: country, Length: 139, dtype: int64"
      ]
     },
     "execution_count": 63,
     "metadata": {},
     "output_type": "execute_result"
    }
   ],
   "source": [
    "df_for_cities.country.value_counts(dropna=False)"
   ]
  },
  {
   "cell_type": "code",
   "execution_count": null,
   "metadata": {},
   "outputs": [],
   "source": [
    "# Stop"
   ]
  },
  {
   "cell_type": "markdown",
   "metadata": {},
   "source": [
    "#### Add new data. Check last created file."
   ]
  },
  {
   "cell_type": "code",
   "execution_count": 64,
   "metadata": {},
   "outputs": [],
   "source": [
    "with open('pickle_files/teams_data/df_tmd_main_created_22_07_2022', 'rb') as f:\n",
    "    df_teams_data = pickle.load(f)"
   ]
  },
  {
   "cell_type": "code",
   "execution_count": 65,
   "metadata": {},
   "outputs": [
    {
     "name": "stdout",
     "output_type": "stream",
     "text": [
      "shape -  9217\n"
     ]
    },
    {
     "data": {
      "text/html": [
       "<div>\n",
       "<style scoped>\n",
       "    .dataframe tbody tr th:only-of-type {\n",
       "        vertical-align: middle;\n",
       "    }\n",
       "\n",
       "    .dataframe tbody tr th {\n",
       "        vertical-align: top;\n",
       "    }\n",
       "\n",
       "    .dataframe thead th {\n",
       "        text-align: right;\n",
       "    }\n",
       "</style>\n",
       "<table border=\"1\" class=\"dataframe\">\n",
       "  <thead>\n",
       "    <tr style=\"text-align: right;\">\n",
       "      <th></th>\n",
       "      <th>f_team</th>\n",
       "      <th>team_id</th>\n",
       "      <th>country</th>\n",
       "      <th>city</th>\n",
       "    </tr>\n",
       "  </thead>\n",
       "  <tbody>\n",
       "    <tr>\n",
       "      <th>9214</th>\n",
       "      <td>Song Lam Nghe An</td>\n",
       "      <td>11391</td>\n",
       "      <td>Vietnam</td>\n",
       "      <td>Vinh</td>\n",
       "    </tr>\n",
       "    <tr>\n",
       "      <th>9215</th>\n",
       "      <td>Heidelberg United</td>\n",
       "      <td>12529</td>\n",
       "      <td>Australia</td>\n",
       "      <td>Melbourne</td>\n",
       "    </tr>\n",
       "    <tr>\n",
       "      <th>9216</th>\n",
       "      <td>Mladost Medoševac</td>\n",
       "      <td>NaN</td>\n",
       "      <td>Serbia</td>\n",
       "      <td>Medoševac</td>\n",
       "    </tr>\n",
       "  </tbody>\n",
       "</table>\n",
       "</div>"
      ],
      "text/plain": [
       "                 f_team team_id    country       city\n",
       "9214   Song Lam Nghe An   11391    Vietnam       Vinh\n",
       "9215  Heidelberg United   12529  Australia  Melbourne\n",
       "9216  Mladost Medoševac     NaN     Serbia  Medoševac"
      ]
     },
     "execution_count": 65,
     "metadata": {},
     "output_type": "execute_result"
    }
   ],
   "source": [
    "print('shape - ', df_teams_data.shape[0])\n",
    "df_teams_data.tail(3)"
   ]
  },
  {
   "cell_type": "code",
   "execution_count": 66,
   "metadata": {},
   "outputs": [
    {
     "data": {
      "text/html": [
       "<div>\n",
       "<style scoped>\n",
       "    .dataframe tbody tr th:only-of-type {\n",
       "        vertical-align: middle;\n",
       "    }\n",
       "\n",
       "    .dataframe tbody tr th {\n",
       "        vertical-align: top;\n",
       "    }\n",
       "\n",
       "    .dataframe thead th {\n",
       "        text-align: right;\n",
       "    }\n",
       "</style>\n",
       "<table border=\"1\" class=\"dataframe\">\n",
       "  <thead>\n",
       "    <tr style=\"text-align: right;\">\n",
       "      <th></th>\n",
       "      <th>f_team</th>\n",
       "      <th>team_id</th>\n",
       "      <th>country</th>\n",
       "      <th>city</th>\n",
       "    </tr>\n",
       "  </thead>\n",
       "  <tbody>\n",
       "  </tbody>\n",
       "</table>\n",
       "</div>"
      ],
      "text/plain": [
       "Empty DataFrame\n",
       "Columns: [f_team, team_id, country, city]\n",
       "Index: []"
      ]
     },
     "execution_count": 66,
     "metadata": {},
     "output_type": "execute_result"
    }
   ],
   "source": [
    "df_teams_data[df_teams_data.duplicated(subset=['f_team', 'country'])]"
   ]
  },
  {
   "cell_type": "code",
   "execution_count": 67,
   "metadata": {},
   "outputs": [],
   "source": [
    "df_teams_data.rename(columns={'team':'f_team'}, inplace=True)"
   ]
  },
  {
   "cell_type": "code",
   "execution_count": 68,
   "metadata": {},
   "outputs": [
    {
     "name": "stdout",
     "output_type": "stream",
     "text": [
      "shape -  142454\n",
      "shape -  142454\n"
     ]
    }
   ],
   "source": [
    "print('shape - ', df_for_cities.shape[0])\n",
    "df_for_cities = df_for_cities.merge(df_teams_data, how='left', left_on=['f_team', 'country'], right_on=['f_team', 'country'])\n",
    "print('shape - ', df_for_cities.shape[0])"
   ]
  },
  {
   "cell_type": "code",
   "execution_count": 69,
   "metadata": {},
   "outputs": [
    {
     "data": {
      "text/html": [
       "<div>\n",
       "<style scoped>\n",
       "    .dataframe tbody tr th:only-of-type {\n",
       "        vertical-align: middle;\n",
       "    }\n",
       "\n",
       "    .dataframe tbody tr th {\n",
       "        vertical-align: top;\n",
       "    }\n",
       "\n",
       "    .dataframe thead th {\n",
       "        text-align: right;\n",
       "    }\n",
       "</style>\n",
       "<table border=\"1\" class=\"dataframe\">\n",
       "  <thead>\n",
       "    <tr style=\"text-align: right;\">\n",
       "      <th></th>\n",
       "      <th>game_id</th>\n",
       "      <th>ligue_header</th>\n",
       "      <th>comp_id</th>\n",
       "      <th>season_id</th>\n",
       "      <th>game_utc</th>\n",
       "      <th>game_title</th>\n",
       "      <th>goals</th>\n",
       "      <th>ligue</th>\n",
       "      <th>f_team</th>\n",
       "      <th>pos_f</th>\n",
       "      <th>pts_f</th>\n",
       "      <th>pos_s</th>\n",
       "      <th>pts_s</th>\n",
       "      <th>fs_pos_max</th>\n",
       "      <th>fs_pts_max</th>\n",
       "      <th>f_pow</th>\n",
       "      <th>desc</th>\n",
       "      <th>country</th>\n",
       "      <th>team_id</th>\n",
       "      <th>city</th>\n",
       "    </tr>\n",
       "  </thead>\n",
       "  <tbody>\n",
       "    <tr>\n",
       "      <th>0</th>\n",
       "      <td>1458512</td>\n",
       "      <td>Segunda División</td>\n",
       "      <td>707</td>\n",
       "      <td>306</td>\n",
       "      <td>26.03.2021 17:00</td>\n",
       "      <td>Sporting Gijón - Alcorcón</td>\n",
       "      <td>0:0</td>\n",
       "      <td>top</td>\n",
       "      <td>Sporting Gijón</td>\n",
       "      <td>7.0</td>\n",
       "      <td>65.0</td>\n",
       "      <td>17.0</td>\n",
       "      <td>48.0</td>\n",
       "      <td>7 - 17, 22</td>\n",
       "      <td>65 - 48, 82</td>\n",
       "      <td>Fav</td>\n",
       "      <td>sum_coef_13</td>\n",
       "      <td>Spain</td>\n",
       "      <td>295</td>\n",
       "      <td>Gijón</td>\n",
       "    </tr>\n",
       "    <tr>\n",
       "      <th>1</th>\n",
       "      <td>1458506</td>\n",
       "      <td>Segunda División</td>\n",
       "      <td>707</td>\n",
       "      <td>306</td>\n",
       "      <td>26.03.2021 19:00</td>\n",
       "      <td>Castellon - Espanyol</td>\n",
       "      <td>1:3</td>\n",
       "      <td>top</td>\n",
       "      <td>Castellon</td>\n",
       "      <td>21.0</td>\n",
       "      <td>41.0</td>\n",
       "      <td>1.0</td>\n",
       "      <td>82.0</td>\n",
       "      <td>21 - 1, 22</td>\n",
       "      <td>41 - 82, 82</td>\n",
       "      <td>Pre</td>\n",
       "      <td>sum_coef_13</td>\n",
       "      <td>Spain</td>\n",
       "      <td>8183</td>\n",
       "      <td>Castellón de la Plana</td>\n",
       "    </tr>\n",
       "    <tr>\n",
       "      <th>2</th>\n",
       "      <td>1459334</td>\n",
       "      <td>First League</td>\n",
       "      <td>435</td>\n",
       "      <td>306</td>\n",
       "      <td>26.03.2021 12:00</td>\n",
       "      <td>Kremin - Hirnyk-Sport</td>\n",
       "      <td>1:1</td>\n",
       "      <td>sec</td>\n",
       "      <td>Kremin</td>\n",
       "      <td>15.0</td>\n",
       "      <td>24.0</td>\n",
       "      <td>9.0</td>\n",
       "      <td>38.0</td>\n",
       "      <td>15 - 9, 16</td>\n",
       "      <td>24 - 38, 68</td>\n",
       "      <td>Pre</td>\n",
       "      <td>sum_coef_13</td>\n",
       "      <td>Ukraine</td>\n",
       "      <td>8532</td>\n",
       "      <td>Kremenchuk</td>\n",
       "    </tr>\n",
       "  </tbody>\n",
       "</table>\n",
       "</div>"
      ],
      "text/plain": [
       "   game_id      ligue_header comp_id season_id          game_utc  \\\n",
       "0  1458512  Segunda División     707       306  26.03.2021 17:00   \n",
       "1  1458506  Segunda División     707       306  26.03.2021 19:00   \n",
       "2  1459334      First League     435       306  26.03.2021 12:00   \n",
       "\n",
       "                  game_title goals ligue          f_team  pos_f  pts_f  pos_s  \\\n",
       "0  Sporting Gijón - Alcorcón   0:0   top  Sporting Gijón    7.0   65.0   17.0   \n",
       "1       Castellon - Espanyol   1:3   top       Castellon   21.0   41.0    1.0   \n",
       "2      Kremin - Hirnyk-Sport   1:1   sec          Kremin   15.0   24.0    9.0   \n",
       "\n",
       "   pts_s  fs_pos_max   fs_pts_max f_pow         desc  country team_id  \\\n",
       "0   48.0  7 - 17, 22  65 - 48, 82   Fav  sum_coef_13    Spain     295   \n",
       "1   82.0  21 - 1, 22  41 - 82, 82   Pre  sum_coef_13    Spain    8183   \n",
       "2   38.0  15 - 9, 16  24 - 38, 68   Pre  sum_coef_13  Ukraine    8532   \n",
       "\n",
       "                    city  \n",
       "0                  Gijón  \n",
       "1  Castellón de la Plana  \n",
       "2             Kremenchuk  "
      ]
     },
     "execution_count": 69,
     "metadata": {},
     "output_type": "execute_result"
    }
   ],
   "source": [
    "df_for_cities.head(3)"
   ]
  },
  {
   "cell_type": "code",
   "execution_count": 70,
   "metadata": {},
   "outputs": [],
   "source": [
    "df_for_cities = df_for_cities[~df_for_cities.country.isin(['nd'])].reset_index(drop=True).copy()"
   ]
  },
  {
   "cell_type": "code",
   "execution_count": 71,
   "metadata": {},
   "outputs": [
    {
     "data": {
      "text/plain": [
       "NaN             8722\n",
       "Buenos Aires    1035\n",
       "London          1013\n",
       "Name: city, dtype: int64"
      ]
     },
     "execution_count": 71,
     "metadata": {},
     "output_type": "execute_result"
    }
   ],
   "source": [
    "df_for_cities.city.value_counts(dropna=False)[:3]"
   ]
  },
  {
   "cell_type": "markdown",
   "metadata": {},
   "source": [
    "#### Save this file and uncomment rows after manual adding cities and teams data"
   ]
  },
  {
   "cell_type": "code",
   "execution_count": null,
   "metadata": {},
   "outputs": [],
   "source": [
    "# Stop"
   ]
  },
  {
   "cell_type": "code",
   "execution_count": null,
   "metadata": {},
   "outputs": [],
   "source": [
    "# df_for_cities = df_for_cities[~df_for_cities.city.isna()].reset_index(drop=True).copy()"
   ]
  },
  {
   "cell_type": "code",
   "execution_count": null,
   "metadata": {},
   "outputs": [],
   "source": [
    "# df_for_cities = df_for_cities[~df_for_cities.city.isin(['nd'])].reset_index(drop=True).copy()"
   ]
  },
  {
   "cell_type": "code",
   "execution_count": null,
   "metadata": {},
   "outputs": [],
   "source": [
    "# df_for_cities"
   ]
  },
  {
   "cell_type": "code",
   "execution_count": null,
   "metadata": {},
   "outputs": [],
   "source": [
    "# df_for_geo_coords = df_for_cities.copy()\n",
    "# print('shape - ', df_for_geo_coords.shape[0])\n",
    "# df_for_geo_coords.tail(3)"
   ]
  },
  {
   "cell_type": "code",
   "execution_count": null,
   "metadata": {},
   "outputs": [],
   "source": [
    "# file = open('pickle_files/df_for_geo_coords_26_05_2022_sec', 'wb')\n",
    "# pickle.dump(df_for_geo_coords, file)  \n",
    "# file.close()"
   ]
  },
  {
   "cell_type": "markdown",
   "metadata": {},
   "source": [
    "#### For find teams with na cities"
   ]
  },
  {
   "cell_type": "code",
   "execution_count": 72,
   "metadata": {},
   "outputs": [],
   "source": [
    "df_na_cities = pd.DataFrame(df_for_cities[['f_team', 'country']][df_for_cities.city.isna()])"
   ]
  },
  {
   "cell_type": "code",
   "execution_count": 73,
   "metadata": {},
   "outputs": [],
   "source": [
    "df_na_cities = df_na_cities.drop_duplicates(subset=['f_team', 'country'], keep='first').reset_index(drop=True)"
   ]
  },
  {
   "cell_type": "code",
   "execution_count": 74,
   "metadata": {},
   "outputs": [
    {
     "data": {
      "text/html": [
       "<div>\n",
       "<style scoped>\n",
       "    .dataframe tbody tr th:only-of-type {\n",
       "        vertical-align: middle;\n",
       "    }\n",
       "\n",
       "    .dataframe tbody tr th {\n",
       "        vertical-align: top;\n",
       "    }\n",
       "\n",
       "    .dataframe thead th {\n",
       "        text-align: right;\n",
       "    }\n",
       "</style>\n",
       "<table border=\"1\" class=\"dataframe\">\n",
       "  <thead>\n",
       "    <tr style=\"text-align: right;\">\n",
       "      <th></th>\n",
       "      <th>f_team</th>\n",
       "      <th>country</th>\n",
       "    </tr>\n",
       "  </thead>\n",
       "  <tbody>\n",
       "    <tr>\n",
       "      <th>0</th>\n",
       "      <td>Fortuna Becicherecu Mic</td>\n",
       "      <td>Romania</td>\n",
       "    </tr>\n",
       "    <tr>\n",
       "      <th>1</th>\n",
       "      <td>Concordia Chiajna II</td>\n",
       "      <td>Romania</td>\n",
       "    </tr>\n",
       "    <tr>\n",
       "      <th>2</th>\n",
       "      <td>Flacara</td>\n",
       "      <td>Romania</td>\n",
       "    </tr>\n",
       "    <tr>\n",
       "      <th>3</th>\n",
       "      <td>Phrae United</td>\n",
       "      <td>Thailand</td>\n",
       "    </tr>\n",
       "    <tr>\n",
       "      <th>4</th>\n",
       "      <td>Nakhon Pathom</td>\n",
       "      <td>Thailand</td>\n",
       "    </tr>\n",
       "    <tr>\n",
       "      <th>...</th>\n",
       "      <td>...</td>\n",
       "      <td>...</td>\n",
       "    </tr>\n",
       "    <tr>\n",
       "      <th>2278</th>\n",
       "      <td>Lyallpur</td>\n",
       "      <td>Pakistan</td>\n",
       "    </tr>\n",
       "    <tr>\n",
       "      <th>2279</th>\n",
       "      <td>Pak Afghan Clearing</td>\n",
       "      <td>Pakistan</td>\n",
       "    </tr>\n",
       "    <tr>\n",
       "      <th>2280</th>\n",
       "      <td>Pakistan Airlines</td>\n",
       "      <td>Pakistan</td>\n",
       "    </tr>\n",
       "    <tr>\n",
       "      <th>2281</th>\n",
       "      <td>Habib Bank</td>\n",
       "      <td>Pakistan</td>\n",
       "    </tr>\n",
       "    <tr>\n",
       "      <th>2282</th>\n",
       "      <td>Waltersdorf</td>\n",
       "      <td>Germany</td>\n",
       "    </tr>\n",
       "  </tbody>\n",
       "</table>\n",
       "<p>2283 rows × 2 columns</p>\n",
       "</div>"
      ],
      "text/plain": [
       "                       f_team   country\n",
       "0     Fortuna Becicherecu Mic   Romania\n",
       "1        Concordia Chiajna II   Romania\n",
       "2                     Flacara   Romania\n",
       "3                Phrae United  Thailand\n",
       "4               Nakhon Pathom  Thailand\n",
       "...                       ...       ...\n",
       "2278                 Lyallpur  Pakistan\n",
       "2279      Pak Afghan Clearing  Pakistan\n",
       "2280        Pakistan Airlines  Pakistan\n",
       "2281               Habib Bank  Pakistan\n",
       "2282              Waltersdorf   Germany\n",
       "\n",
       "[2283 rows x 2 columns]"
      ]
     },
     "execution_count": 74,
     "metadata": {},
     "output_type": "execute_result"
    }
   ],
   "source": [
    "df_na_cities"
   ]
  },
  {
   "cell_type": "code",
   "execution_count": 75,
   "metadata": {},
   "outputs": [],
   "source": [
    "df_teams_counts_na = df_for_cities[df_for_cities.city.isna()].f_team.value_counts()"
   ]
  },
  {
   "cell_type": "code",
   "execution_count": 76,
   "metadata": {},
   "outputs": [],
   "source": [
    "numb = 0"
   ]
  },
  {
   "cell_type": "code",
   "execution_count": 77,
   "metadata": {},
   "outputs": [
    {
     "data": {
      "text/plain": [
       "2278"
      ]
     },
     "execution_count": 77,
     "metadata": {},
     "output_type": "execute_result"
    }
   ],
   "source": [
    "len(df_teams_counts_na[df_teams_counts_na >= numb])"
   ]
  },
  {
   "cell_type": "code",
   "execution_count": 78,
   "metadata": {},
   "outputs": [
    {
     "data": {
      "text/plain": [
       "8722"
      ]
     },
     "execution_count": 78,
     "metadata": {},
     "output_type": "execute_result"
    }
   ],
   "source": [
    "df_teams_counts_na[df_teams_counts_na >= numb].values.sum()"
   ]
  },
  {
   "cell_type": "code",
   "execution_count": 79,
   "metadata": {},
   "outputs": [
    {
     "data": {
      "text/plain": [
       "Dungannon                   43\n",
       "Thamesmead Town             41\n",
       "Paterna                     36\n",
       "Colwyn Bay                  35\n",
       "Babelsberg 03               31\n",
       "                            ..\n",
       "Serrano PB                   1\n",
       "Sidi Bouzid                  1\n",
       "Strasbourg II                1\n",
       "Eastern Suburbs Brisbane     1\n",
       "Waltersdorf                  1\n",
       "Name: f_team, Length: 2278, dtype: int64"
      ]
     },
     "execution_count": 79,
     "metadata": {},
     "output_type": "execute_result"
    }
   ],
   "source": [
    "df_teams_counts_na"
   ]
  },
  {
   "cell_type": "code",
   "execution_count": 80,
   "metadata": {},
   "outputs": [],
   "source": [
    "df_teams_counts_na_numb = df_teams_counts_na[df_teams_counts_na >= numb].index"
   ]
  },
  {
   "cell_type": "code",
   "execution_count": 81,
   "metadata": {},
   "outputs": [
    {
     "data": {
      "text/plain": [
       "Index(['Dungannon ', 'Thamesmead Town', 'Paterna', 'Colwyn Bay',\n",
       "       'Babelsberg 03 ', 'Groybardorf', 'Quintanar del Rey', 'Dnepr Smolensk',\n",
       "       'Crevillente', 'Toronto FC II',\n",
       "       ...\n",
       "       'Doze', 'Bilzerse Waltwilder', 'Olympique de Mandji',\n",
       "       'AS Pierrots Vauban Strasbourg', 'FC Lubumbashi sport', 'Serrano PB',\n",
       "       'Sidi Bouzid', 'Strasbourg II', 'Eastern Suburbs Brisbane',\n",
       "       'Waltersdorf'],\n",
       "      dtype='object', length=2278)"
      ]
     },
     "execution_count": 81,
     "metadata": {},
     "output_type": "execute_result"
    }
   ],
   "source": [
    "df_teams_counts_na_numb"
   ]
  },
  {
   "cell_type": "code",
   "execution_count": 82,
   "metadata": {},
   "outputs": [],
   "source": [
    "df_teams_cities_na = df_na_cities[df_na_cities.f_team.isin(df_teams_counts_na_numb)].reset_index(drop=True)"
   ]
  },
  {
   "cell_type": "code",
   "execution_count": 83,
   "metadata": {},
   "outputs": [
    {
     "data": {
      "text/html": [
       "<div>\n",
       "<style scoped>\n",
       "    .dataframe tbody tr th:only-of-type {\n",
       "        vertical-align: middle;\n",
       "    }\n",
       "\n",
       "    .dataframe tbody tr th {\n",
       "        vertical-align: top;\n",
       "    }\n",
       "\n",
       "    .dataframe thead th {\n",
       "        text-align: right;\n",
       "    }\n",
       "</style>\n",
       "<table border=\"1\" class=\"dataframe\">\n",
       "  <thead>\n",
       "    <tr style=\"text-align: right;\">\n",
       "      <th></th>\n",
       "      <th>f_team</th>\n",
       "      <th>country</th>\n",
       "    </tr>\n",
       "  </thead>\n",
       "  <tbody>\n",
       "    <tr>\n",
       "      <th>0</th>\n",
       "      <td>Fortuna Becicherecu Mic</td>\n",
       "      <td>Romania</td>\n",
       "    </tr>\n",
       "    <tr>\n",
       "      <th>1</th>\n",
       "      <td>Concordia Chiajna II</td>\n",
       "      <td>Romania</td>\n",
       "    </tr>\n",
       "    <tr>\n",
       "      <th>2</th>\n",
       "      <td>Flacara</td>\n",
       "      <td>Romania</td>\n",
       "    </tr>\n",
       "    <tr>\n",
       "      <th>3</th>\n",
       "      <td>Phrae United</td>\n",
       "      <td>Thailand</td>\n",
       "    </tr>\n",
       "    <tr>\n",
       "      <th>4</th>\n",
       "      <td>Nakhon Pathom</td>\n",
       "      <td>Thailand</td>\n",
       "    </tr>\n",
       "    <tr>\n",
       "      <th>...</th>\n",
       "      <td>...</td>\n",
       "      <td>...</td>\n",
       "    </tr>\n",
       "    <tr>\n",
       "      <th>2278</th>\n",
       "      <td>Lyallpur</td>\n",
       "      <td>Pakistan</td>\n",
       "    </tr>\n",
       "    <tr>\n",
       "      <th>2279</th>\n",
       "      <td>Pak Afghan Clearing</td>\n",
       "      <td>Pakistan</td>\n",
       "    </tr>\n",
       "    <tr>\n",
       "      <th>2280</th>\n",
       "      <td>Pakistan Airlines</td>\n",
       "      <td>Pakistan</td>\n",
       "    </tr>\n",
       "    <tr>\n",
       "      <th>2281</th>\n",
       "      <td>Habib Bank</td>\n",
       "      <td>Pakistan</td>\n",
       "    </tr>\n",
       "    <tr>\n",
       "      <th>2282</th>\n",
       "      <td>Waltersdorf</td>\n",
       "      <td>Germany</td>\n",
       "    </tr>\n",
       "  </tbody>\n",
       "</table>\n",
       "<p>2283 rows × 2 columns</p>\n",
       "</div>"
      ],
      "text/plain": [
       "                       f_team   country\n",
       "0     Fortuna Becicherecu Mic   Romania\n",
       "1        Concordia Chiajna II   Romania\n",
       "2                     Flacara   Romania\n",
       "3                Phrae United  Thailand\n",
       "4               Nakhon Pathom  Thailand\n",
       "...                       ...       ...\n",
       "2278                 Lyallpur  Pakistan\n",
       "2279      Pak Afghan Clearing  Pakistan\n",
       "2280        Pakistan Airlines  Pakistan\n",
       "2281               Habib Bank  Pakistan\n",
       "2282              Waltersdorf   Germany\n",
       "\n",
       "[2283 rows x 2 columns]"
      ]
     },
     "execution_count": 83,
     "metadata": {},
     "output_type": "execute_result"
    }
   ],
   "source": [
    "df_teams_cities_na"
   ]
  },
  {
   "cell_type": "code",
   "execution_count": 84,
   "metadata": {},
   "outputs": [
    {
     "data": {
      "text/plain": [
       "'26_03_2021'"
      ]
     },
     "execution_count": 84,
     "metadata": {},
     "output_type": "execute_result"
    }
   ],
   "source": [
    "dir_data"
   ]
  },
  {
   "cell_type": "code",
   "execution_count": 85,
   "metadata": {},
   "outputs": [
    {
     "data": {
      "text/plain": [
       "'sum_coef_13'"
      ]
     },
     "execution_count": 85,
     "metadata": {},
     "output_type": "execute_result"
    }
   ],
   "source": [
    "pow_coef_desc = df_fav_pre['desc'][0]\n",
    "pow_coef_desc"
   ]
  },
  {
   "cell_type": "code",
   "execution_count": 87,
   "metadata": {},
   "outputs": [],
   "source": [
    "# file = open('pickle_files/df_teams_cities_na_' + dir_data +'_'+ pow_coef_desc, 'wb')\n",
    "# pickle.dump(df_teams_cities_na, file)  \n",
    "# file.close()"
   ]
  }
 ],
 "metadata": {
  "kernelspec": {
   "display_name": "Python 3 (ipykernel)",
   "language": "python",
   "name": "python3"
  },
  "language_info": {
   "codemirror_mode": {
    "name": "ipython",
    "version": 3
   },
   "file_extension": ".py",
   "mimetype": "text/x-python",
   "name": "python",
   "nbconvert_exporter": "python",
   "pygments_lexer": "ipython3",
   "version": "3.9.7"
  }
 },
 "nbformat": 4,
 "nbformat_minor": 4
}

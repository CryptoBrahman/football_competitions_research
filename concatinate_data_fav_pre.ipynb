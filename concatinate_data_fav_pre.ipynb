{
 "cells": [
  {
   "cell_type": "code",
   "execution_count": 1,
   "metadata": {},
   "outputs": [],
   "source": [
    "import os\n",
    "import re\n",
    "import pickle\n",
    "import datetime\n",
    "import pandas as pd\n",
    "import numpy as np\n",
    "\n",
    "from _html_parser import ParsingDataPrepare, TableConstant\n",
    "\n",
    "pd.set_option('display.max_rows', 500)\n",
    "pd.set_option('display.max_columns', 500)\n",
    "pd.set_option('display.max_colwidth', 500)"
   ]
  },
  {
   "cell_type": "code",
   "execution_count": 2,
   "metadata": {},
   "outputs": [],
   "source": [
    "%load_ext autoreload\n",
    "%autoreload 2"
   ]
  },
  {
   "cell_type": "markdown",
   "metadata": {},
   "source": [
    "#### Choose the date for dirs and files"
   ]
  },
  {
   "cell_type": "code",
   "execution_count": 3,
   "metadata": {},
   "outputs": [],
   "source": [
    "# Start from more time ('26_05_2022' -'27_03_2021'), ('26_03_2021' - '03_11_2013)\n",
    "dir_data = dir_data_start = '26_05_2022'\n",
    "dir_data_end = '27_03_2021'"
   ]
  },
  {
   "cell_type": "code",
   "execution_count": 4,
   "metadata": {},
   "outputs": [],
   "source": [
    "with open('pickle_files/new_events/'+ dir_data +'/df_'+ dir_data_start +'_to_'+ dir_data_end  +'_games', 'rb') as f:\n",
    "    df_games = pickle.load(f)"
   ]
  },
  {
   "cell_type": "code",
   "execution_count": 5,
   "metadata": {},
   "outputs": [
    {
     "data": {
      "text/html": [
       "<div>\n",
       "<style scoped>\n",
       "    .dataframe tbody tr th:only-of-type {\n",
       "        vertical-align: middle;\n",
       "    }\n",
       "\n",
       "    .dataframe tbody tr th {\n",
       "        vertical-align: top;\n",
       "    }\n",
       "\n",
       "    .dataframe thead th {\n",
       "        text-align: right;\n",
       "    }\n",
       "</style>\n",
       "<table border=\"1\" class=\"dataframe\">\n",
       "  <thead>\n",
       "    <tr style=\"text-align: right;\">\n",
       "      <th></th>\n",
       "      <th>game_id</th>\n",
       "      <th>ligue_header</th>\n",
       "      <th>comp_id</th>\n",
       "      <th>season_id</th>\n",
       "      <th>game_utc</th>\n",
       "      <th>game_title</th>\n",
       "      <th>goals</th>\n",
       "      <th>ligue</th>\n",
       "    </tr>\n",
       "  </thead>\n",
       "  <tbody>\n",
       "    <tr>\n",
       "      <th>0</th>\n",
       "      <td>1729359</td>\n",
       "      <td>Ligue 1</td>\n",
       "      <td>18</td>\n",
       "      <td>310</td>\n",
       "      <td>26.05.2022 17:00</td>\n",
       "      <td>Auxerre - Saint-Etienne</td>\n",
       "      <td>1:1</td>\n",
       "      <td>top</td>\n",
       "    </tr>\n",
       "    <tr>\n",
       "      <th>1</th>\n",
       "      <td>1729393</td>\n",
       "      <td>Serie B</td>\n",
       "      <td>627</td>\n",
       "      <td>310</td>\n",
       "      <td>26.05.2022 18:30</td>\n",
       "      <td>Monza - Pisa</td>\n",
       "      <td>2:1</td>\n",
       "      <td>thr</td>\n",
       "    </tr>\n",
       "    <tr>\n",
       "      <th>2</th>\n",
       "      <td>1729388</td>\n",
       "      <td>Eredivisie</td>\n",
       "      <td>596</td>\n",
       "      <td>Cup</td>\n",
       "      <td>26.05.2022 18:00</td>\n",
       "      <td>Vitesse - AZ Alkmaar</td>\n",
       "      <td>2:1</td>\n",
       "      <td>top</td>\n",
       "    </tr>\n",
       "    <tr>\n",
       "      <th>3</th>\n",
       "      <td>1708335</td>\n",
       "      <td>Premier League</td>\n",
       "      <td>483</td>\n",
       "      <td>301</td>\n",
       "      <td>26.05.2022 15:00</td>\n",
       "      <td>FC Minsk - Arsenal Dzerzhinsk</td>\n",
       "      <td>2:0</td>\n",
       "      <td>top</td>\n",
       "    </tr>\n",
       "    <tr>\n",
       "      <th>4</th>\n",
       "      <td>1687458</td>\n",
       "      <td>Eliteserien</td>\n",
       "      <td>747</td>\n",
       "      <td>301</td>\n",
       "      <td>26.05.2022 16:00</td>\n",
       "      <td>Rosenborg - Haugesund</td>\n",
       "      <td>3:3</td>\n",
       "      <td>sec</td>\n",
       "    </tr>\n",
       "    <tr>\n",
       "      <th>...</th>\n",
       "      <td>...</td>\n",
       "      <td>...</td>\n",
       "      <td>...</td>\n",
       "      <td>...</td>\n",
       "      <td>...</td>\n",
       "      <td>...</td>\n",
       "      <td>...</td>\n",
       "      <td>...</td>\n",
       "    </tr>\n",
       "    <tr>\n",
       "      <th>91916</th>\n",
       "      <td>15197308</td>\n",
       "      <td>Primera Division</td>\n",
       "      <td>593</td>\n",
       "      <td>306</td>\n",
       "      <td>28.03.2021 17:00</td>\n",
       "      <td>Nueva Concepcion - Suchitepequez</td>\n",
       "      <td>1:1</td>\n",
       "      <td>thr</td>\n",
       "    </tr>\n",
       "    <tr>\n",
       "      <th>91917</th>\n",
       "      <td>15197309</td>\n",
       "      <td>Primera Division</td>\n",
       "      <td>593</td>\n",
       "      <td>306</td>\n",
       "      <td>28.03.2021 20:59</td>\n",
       "      <td>Deportivo San Pedro - Plataneros</td>\n",
       "      <td>2:1</td>\n",
       "      <td>thr</td>\n",
       "    </tr>\n",
       "    <tr>\n",
       "      <th>91918</th>\n",
       "      <td>15092974</td>\n",
       "      <td>National Football League</td>\n",
       "      <td>575</td>\n",
       "      <td>307</td>\n",
       "      <td>28.03.2021 03:00</td>\n",
       "      <td>Navua - Rewa</td>\n",
       "      <td>1:2</td>\n",
       "      <td>thr</td>\n",
       "    </tr>\n",
       "    <tr>\n",
       "      <th>91919</th>\n",
       "      <td>15092975</td>\n",
       "      <td>National Football League</td>\n",
       "      <td>575</td>\n",
       "      <td>307</td>\n",
       "      <td>28.03.2021 03:00</td>\n",
       "      <td>Ba - Lautoka</td>\n",
       "      <td>1:2</td>\n",
       "      <td>thr</td>\n",
       "    </tr>\n",
       "    <tr>\n",
       "      <th>91920</th>\n",
       "      <td>15092976</td>\n",
       "      <td>National Football League</td>\n",
       "      <td>575</td>\n",
       "      <td>307</td>\n",
       "      <td>28.03.2021 03:00</td>\n",
       "      <td>Nadi - Suva</td>\n",
       "      <td>1:0</td>\n",
       "      <td>thr</td>\n",
       "    </tr>\n",
       "  </tbody>\n",
       "</table>\n",
       "<p>91921 rows × 8 columns</p>\n",
       "</div>"
      ],
      "text/plain": [
       "        game_id              ligue_header comp_id season_id          game_utc  \\\n",
       "0       1729359                   Ligue 1      18       310  26.05.2022 17:00   \n",
       "1       1729393                   Serie B     627       310  26.05.2022 18:30   \n",
       "2       1729388                Eredivisie     596       Cup  26.05.2022 18:00   \n",
       "3       1708335            Premier League     483       301  26.05.2022 15:00   \n",
       "4       1687458               Eliteserien     747       301  26.05.2022 16:00   \n",
       "...         ...                       ...     ...       ...               ...   \n",
       "91916  15197308          Primera Division     593       306  28.03.2021 17:00   \n",
       "91917  15197309          Primera Division     593       306  28.03.2021 20:59   \n",
       "91918  15092974  National Football League     575       307  28.03.2021 03:00   \n",
       "91919  15092975  National Football League     575       307  28.03.2021 03:00   \n",
       "91920  15092976  National Football League     575       307  28.03.2021 03:00   \n",
       "\n",
       "                             game_title goals ligue  \n",
       "0               Auxerre - Saint-Etienne   1:1   top  \n",
       "1                          Monza - Pisa   2:1   thr  \n",
       "2                  Vitesse - AZ Alkmaar   2:1   top  \n",
       "3         FC Minsk - Arsenal Dzerzhinsk   2:0   top  \n",
       "4                 Rosenborg - Haugesund   3:3   sec  \n",
       "...                                 ...   ...   ...  \n",
       "91916  Nueva Concepcion - Suchitepequez   1:1   thr  \n",
       "91917  Deportivo San Pedro - Plataneros   2:1   thr  \n",
       "91918                      Navua - Rewa   1:2   thr  \n",
       "91919                      Ba - Lautoka   1:2   thr  \n",
       "91920                       Nadi - Suva   1:0   thr  \n",
       "\n",
       "[91921 rows x 8 columns]"
      ]
     },
     "execution_count": 5,
     "metadata": {},
     "output_type": "execute_result"
    }
   ],
   "source": [
    "df_games"
   ]
  },
  {
   "cell_type": "code",
   "execution_count": 6,
   "metadata": {},
   "outputs": [],
   "source": [
    "df_games['f_team'] = df_games.game_title.map(lambda x: str(x).split(' - ')[0])\n",
    "df_games['s_team'] = df_games.game_title.map(lambda x: str(x).split(' - ')[1])"
   ]
  },
  {
   "cell_type": "code",
   "execution_count": 7,
   "metadata": {},
   "outputs": [
    {
     "data": {
      "text/html": [
       "<div>\n",
       "<style scoped>\n",
       "    .dataframe tbody tr th:only-of-type {\n",
       "        vertical-align: middle;\n",
       "    }\n",
       "\n",
       "    .dataframe tbody tr th {\n",
       "        vertical-align: top;\n",
       "    }\n",
       "\n",
       "    .dataframe thead th {\n",
       "        text-align: right;\n",
       "    }\n",
       "</style>\n",
       "<table border=\"1\" class=\"dataframe\">\n",
       "  <thead>\n",
       "    <tr style=\"text-align: right;\">\n",
       "      <th></th>\n",
       "      <th>game_id</th>\n",
       "      <th>ligue_header</th>\n",
       "      <th>comp_id</th>\n",
       "      <th>season_id</th>\n",
       "      <th>game_utc</th>\n",
       "      <th>game_title</th>\n",
       "      <th>goals</th>\n",
       "      <th>ligue</th>\n",
       "      <th>f_team</th>\n",
       "      <th>s_team</th>\n",
       "    </tr>\n",
       "  </thead>\n",
       "  <tbody>\n",
       "    <tr>\n",
       "      <th>0</th>\n",
       "      <td>1729359</td>\n",
       "      <td>Ligue 1</td>\n",
       "      <td>18</td>\n",
       "      <td>310</td>\n",
       "      <td>26.05.2022 17:00</td>\n",
       "      <td>Auxerre - Saint-Etienne</td>\n",
       "      <td>1:1</td>\n",
       "      <td>top</td>\n",
       "      <td>Auxerre</td>\n",
       "      <td>Saint-Etienne</td>\n",
       "    </tr>\n",
       "    <tr>\n",
       "      <th>1</th>\n",
       "      <td>1729393</td>\n",
       "      <td>Serie B</td>\n",
       "      <td>627</td>\n",
       "      <td>310</td>\n",
       "      <td>26.05.2022 18:30</td>\n",
       "      <td>Monza - Pisa</td>\n",
       "      <td>2:1</td>\n",
       "      <td>thr</td>\n",
       "      <td>Monza</td>\n",
       "      <td>Pisa</td>\n",
       "    </tr>\n",
       "    <tr>\n",
       "      <th>2</th>\n",
       "      <td>1729388</td>\n",
       "      <td>Eredivisie</td>\n",
       "      <td>596</td>\n",
       "      <td>Cup</td>\n",
       "      <td>26.05.2022 18:00</td>\n",
       "      <td>Vitesse - AZ Alkmaar</td>\n",
       "      <td>2:1</td>\n",
       "      <td>top</td>\n",
       "      <td>Vitesse</td>\n",
       "      <td>AZ Alkmaar</td>\n",
       "    </tr>\n",
       "  </tbody>\n",
       "</table>\n",
       "</div>"
      ],
      "text/plain": [
       "   game_id ligue_header comp_id season_id          game_utc  \\\n",
       "0  1729359      Ligue 1      18       310  26.05.2022 17:00   \n",
       "1  1729393      Serie B     627       310  26.05.2022 18:30   \n",
       "2  1729388   Eredivisie     596       Cup  26.05.2022 18:00   \n",
       "\n",
       "                game_title goals ligue   f_team         s_team  \n",
       "0  Auxerre - Saint-Etienne   1:1   top  Auxerre  Saint-Etienne  \n",
       "1             Monza - Pisa   2:1   thr    Monza           Pisa  \n",
       "2     Vitesse - AZ Alkmaar   2:1   top  Vitesse     AZ Alkmaar  "
      ]
     },
     "execution_count": 7,
     "metadata": {},
     "output_type": "execute_result"
    }
   ],
   "source": [
    "df_games.head(3)"
   ]
  },
  {
   "cell_type": "markdown",
   "metadata": {},
   "source": [
    "#### Add competitions data "
   ]
  },
  {
   "cell_type": "code",
   "execution_count": 8,
   "metadata": {},
   "outputs": [],
   "source": [
    "with open('pickle_files/new_events/'+ dir_data +'/df_comp_tabs_'+ dir_data_start +'_all_lgs', 'rb') as f:\n",
    "    df_comp_tables = pickle.load(f)"
   ]
  },
  {
   "cell_type": "code",
   "execution_count": 9,
   "metadata": {},
   "outputs": [],
   "source": [
    "df_comp_tables.rename(columns={'team_name':'f_team'}, inplace=True)"
   ]
  },
  {
   "cell_type": "code",
   "execution_count": 10,
   "metadata": {},
   "outputs": [],
   "source": [
    "# Duble column for get data for each team\n",
    "df_comp_tables['s_team'] = df_comp_tables.f_team"
   ]
  },
  {
   "cell_type": "code",
   "execution_count": 11,
   "metadata": {},
   "outputs": [
    {
     "data": {
      "text/html": [
       "<div>\n",
       "<style scoped>\n",
       "    .dataframe tbody tr th:only-of-type {\n",
       "        vertical-align: middle;\n",
       "    }\n",
       "\n",
       "    .dataframe tbody tr th {\n",
       "        vertical-align: top;\n",
       "    }\n",
       "\n",
       "    .dataframe thead th {\n",
       "        text-align: right;\n",
       "    }\n",
       "</style>\n",
       "<table border=\"1\" class=\"dataframe\">\n",
       "  <thead>\n",
       "    <tr style=\"text-align: right;\">\n",
       "      <th></th>\n",
       "      <th>f_team</th>\n",
       "      <th>team_id</th>\n",
       "      <th>pos</th>\n",
       "      <th>pld</th>\n",
       "      <th>w</th>\n",
       "      <th>d</th>\n",
       "      <th>l</th>\n",
       "      <th>gf</th>\n",
       "      <th>ga</th>\n",
       "      <th>+/-</th>\n",
       "      <th>pts</th>\n",
       "      <th>comp_id</th>\n",
       "      <th>season_id</th>\n",
       "      <th>s_team</th>\n",
       "    </tr>\n",
       "  </thead>\n",
       "  <tbody>\n",
       "    <tr>\n",
       "      <th>0</th>\n",
       "      <td>Japan U23</td>\n",
       "      <td>10622</td>\n",
       "      <td>1</td>\n",
       "      <td>3</td>\n",
       "      <td>3</td>\n",
       "      <td>0</td>\n",
       "      <td>0</td>\n",
       "      <td>7</td>\n",
       "      <td>1</td>\n",
       "      <td>+6</td>\n",
       "      <td>9</td>\n",
       "      <td>1016</td>\n",
       "      <td>298</td>\n",
       "      <td>Japan U23</td>\n",
       "    </tr>\n",
       "    <tr>\n",
       "      <th>1</th>\n",
       "      <td>Mexico U23</td>\n",
       "      <td>9209</td>\n",
       "      <td>2</td>\n",
       "      <td>3</td>\n",
       "      <td>2</td>\n",
       "      <td>0</td>\n",
       "      <td>1</td>\n",
       "      <td>8</td>\n",
       "      <td>3</td>\n",
       "      <td>+5</td>\n",
       "      <td>6</td>\n",
       "      <td>1016</td>\n",
       "      <td>298</td>\n",
       "      <td>Mexico U23</td>\n",
       "    </tr>\n",
       "    <tr>\n",
       "      <th>2</th>\n",
       "      <td>France U23</td>\n",
       "      <td>10739</td>\n",
       "      <td>3</td>\n",
       "      <td>3</td>\n",
       "      <td>1</td>\n",
       "      <td>0</td>\n",
       "      <td>2</td>\n",
       "      <td>5</td>\n",
       "      <td>11</td>\n",
       "      <td>-6</td>\n",
       "      <td>3</td>\n",
       "      <td>1016</td>\n",
       "      <td>298</td>\n",
       "      <td>France U23</td>\n",
       "    </tr>\n",
       "    <tr>\n",
       "      <th>3</th>\n",
       "      <td>South Africa U23</td>\n",
       "      <td>10615</td>\n",
       "      <td>4</td>\n",
       "      <td>3</td>\n",
       "      <td>0</td>\n",
       "      <td>0</td>\n",
       "      <td>3</td>\n",
       "      <td>3</td>\n",
       "      <td>8</td>\n",
       "      <td>-5</td>\n",
       "      <td>0</td>\n",
       "      <td>1016</td>\n",
       "      <td>298</td>\n",
       "      <td>South Africa U23</td>\n",
       "    </tr>\n",
       "    <tr>\n",
       "      <th>4</th>\n",
       "      <td>South Korea U23</td>\n",
       "      <td>10609</td>\n",
       "      <td>1</td>\n",
       "      <td>3</td>\n",
       "      <td>2</td>\n",
       "      <td>0</td>\n",
       "      <td>1</td>\n",
       "      <td>10</td>\n",
       "      <td>1</td>\n",
       "      <td>+9</td>\n",
       "      <td>6</td>\n",
       "      <td>1016</td>\n",
       "      <td>298</td>\n",
       "      <td>South Korea U23</td>\n",
       "    </tr>\n",
       "  </tbody>\n",
       "</table>\n",
       "</div>"
      ],
      "text/plain": [
       "             f_team team_id pos pld  w  d  l  gf  ga +/- pts comp_id  \\\n",
       "0         Japan U23   10622   1   3  3  0  0   7   1  +6   9    1016   \n",
       "1        Mexico U23    9209   2   3  2  0  1   8   3  +5   6    1016   \n",
       "2        France U23   10739   3   3  1  0  2   5  11  -6   3    1016   \n",
       "3  South Africa U23   10615   4   3  0  0  3   3   8  -5   0    1016   \n",
       "4   South Korea U23   10609   1   3  2  0  1  10   1  +9   6    1016   \n",
       "\n",
       "  season_id            s_team  \n",
       "0       298         Japan U23  \n",
       "1       298        Mexico U23  \n",
       "2       298        France U23  \n",
       "3       298  South Africa U23  \n",
       "4       298   South Korea U23  "
      ]
     },
     "execution_count": 11,
     "metadata": {},
     "output_type": "execute_result"
    }
   ],
   "source": [
    "df_comp_tables.head()"
   ]
  },
  {
   "cell_type": "code",
   "execution_count": 12,
   "metadata": {},
   "outputs": [],
   "source": [
    "df_fcom = pd.merge(left=df_games, right=df_comp_tables[['f_team','comp_id','season_id','pos', 'pts']], on=['f_team','comp_id','season_id'], how='left')\n",
    "df_fcom.rename(columns={'pos':'pos_f', 'pts':'pts_f'}, inplace=True)"
   ]
  },
  {
   "cell_type": "code",
   "execution_count": 13,
   "metadata": {},
   "outputs": [],
   "source": [
    "df_scom = pd.merge(left=df_games, right=df_comp_tables[['s_team','comp_id','season_id','pos', 'pts']], on=['s_team','comp_id','season_id'], how='left')\n",
    "df_scom.rename(columns={'pos':'pos_s', 'pts':'pts_s'}, inplace=True)"
   ]
  },
  {
   "cell_type": "code",
   "execution_count": 14,
   "metadata": {},
   "outputs": [],
   "source": [
    "df_games_tb = pd.merge(df_fcom, df_scom[['game_id', 'pos_s','pts_s']], how='left', left_on='game_id', right_on='game_id')"
   ]
  },
  {
   "cell_type": "code",
   "execution_count": 15,
   "metadata": {},
   "outputs": [],
   "source": [
    "df_games_tb.pos_f = pd.to_numeric(df_games_tb.pos_f, errors='coerce')\n",
    "df_games_tb.pos_s = pd.to_numeric(df_games_tb.pos_s, errors='coerce')\n",
    "df_games_tb.pts_f = pd.to_numeric(df_games_tb.pts_f, errors='coerce')\n",
    "df_games_tb.pts_s = pd.to_numeric(df_games_tb.pts_s, errors='coerce')"
   ]
  },
  {
   "cell_type": "code",
   "execution_count": 16,
   "metadata": {},
   "outputs": [],
   "source": [
    "df_games_tb['posf_poss'] = df_games_tb[['pos_f', 'pos_s']].apply(lambda x: str(x[0]).replace('.0', '') + ' - ' + str(x[1]).replace('.0', '') \\\n",
    "                                                                 if pd.notna(x[0]) and pd.notna(x[1]) else None, axis=1) \n",
    "df_games_tb['ptsf_ptss'] = df_games_tb[['pts_f', 'pts_s']].apply(lambda x: str(x[0]).replace('.0', '') + ' - ' + str(x[1]).replace('.0', '') \\\n",
    "                                                                 if pd.notna(x[0]) and pd.notna(x[1]) else None, axis=1) "
   ]
  },
  {
   "cell_type": "code",
   "execution_count": 17,
   "metadata": {},
   "outputs": [],
   "source": [
    "df_games_tb.drop(columns=['s_team'], inplace=True)"
   ]
  },
  {
   "cell_type": "code",
   "execution_count": 18,
   "metadata": {},
   "outputs": [],
   "source": [
    "df_games_tb.drop_duplicates(subset=['game_id'], inplace=True)"
   ]
  },
  {
   "cell_type": "code",
   "execution_count": 19,
   "metadata": {},
   "outputs": [],
   "source": [
    "df_games_tb.reset_index(drop=True, inplace=True)"
   ]
  },
  {
   "cell_type": "code",
   "execution_count": 20,
   "metadata": {},
   "outputs": [
    {
     "data": {
      "text/plain": [
       "None     16922\n",
       "1 - 3      706\n",
       "1 - 2      692\n",
       "1 - 4      683\n",
       "Name: posf_poss, dtype: int64"
      ]
     },
     "execution_count": 20,
     "metadata": {},
     "output_type": "execute_result"
    }
   ],
   "source": [
    "df_games_tb.posf_poss.value_counts(dropna=False).head(4)"
   ]
  },
  {
   "cell_type": "code",
   "execution_count": 21,
   "metadata": {},
   "outputs": [
    {
     "data": {
      "text/plain": [
       "3 - 36     1\n",
       "17 - 37    1\n",
       "27 - 35    1\n",
       "21 - 27    1\n",
       "Name: posf_poss, dtype: int64"
      ]
     },
     "execution_count": 21,
     "metadata": {},
     "output_type": "execute_result"
    }
   ],
   "source": [
    "df_games_tb.posf_poss.value_counts(dropna=False).tail(4)"
   ]
  },
  {
   "cell_type": "code",
   "execution_count": 22,
   "metadata": {},
   "outputs": [],
   "source": [
    "df_comp_tables.pos = pd.to_numeric(df_comp_tables.pos, errors='coerce')\n",
    "df_comp_tables.pts = pd.to_numeric(df_comp_tables.pts, errors='coerce')\n",
    "\n",
    "df_max_pos = df_comp_tables.groupby(['comp_id', 'season_id'])['pos'].max().to_frame().reset_index()  \n",
    "df_max_pts = df_comp_tables.groupby(['comp_id', 'season_id'])['pts'].max().to_frame().reset_index() \n",
    "\n",
    "df_max_pos.rename(columns={'pos':'max_pos'}, inplace=True)\n",
    "df_max_pts.rename(columns={'pts':'max_pts'}, inplace=True)"
   ]
  },
  {
   "cell_type": "code",
   "execution_count": 23,
   "metadata": {},
   "outputs": [
    {
     "data": {
      "text/html": [
       "<div>\n",
       "<style scoped>\n",
       "    .dataframe tbody tr th:only-of-type {\n",
       "        vertical-align: middle;\n",
       "    }\n",
       "\n",
       "    .dataframe tbody tr th {\n",
       "        vertical-align: top;\n",
       "    }\n",
       "\n",
       "    .dataframe thead th {\n",
       "        text-align: right;\n",
       "    }\n",
       "</style>\n",
       "<table border=\"1\" class=\"dataframe\">\n",
       "  <thead>\n",
       "    <tr style=\"text-align: right;\">\n",
       "      <th></th>\n",
       "      <th>comp_id</th>\n",
       "      <th>season_id</th>\n",
       "      <th>max_pos</th>\n",
       "    </tr>\n",
       "  </thead>\n",
       "  <tbody>\n",
       "    <tr>\n",
       "      <th>0</th>\n",
       "      <td>1016</td>\n",
       "      <td>298</td>\n",
       "      <td>4</td>\n",
       "    </tr>\n",
       "    <tr>\n",
       "      <th>1</th>\n",
       "      <td>1019</td>\n",
       "      <td>310</td>\n",
       "      <td>4</td>\n",
       "    </tr>\n",
       "    <tr>\n",
       "      <th>2</th>\n",
       "      <td>1035</td>\n",
       "      <td>306</td>\n",
       "      <td>11</td>\n",
       "    </tr>\n",
       "  </tbody>\n",
       "</table>\n",
       "</div>"
      ],
      "text/plain": [
       "  comp_id season_id  max_pos\n",
       "0    1016       298        4\n",
       "1    1019       310        4\n",
       "2    1035       306       11"
      ]
     },
     "execution_count": 23,
     "metadata": {},
     "output_type": "execute_result"
    }
   ],
   "source": [
    "df_max_pos.head(3)"
   ]
  },
  {
   "cell_type": "code",
   "execution_count": 24,
   "metadata": {},
   "outputs": [
    {
     "data": {
      "text/html": [
       "<div>\n",
       "<style scoped>\n",
       "    .dataframe tbody tr th:only-of-type {\n",
       "        vertical-align: middle;\n",
       "    }\n",
       "\n",
       "    .dataframe tbody tr th {\n",
       "        vertical-align: top;\n",
       "    }\n",
       "\n",
       "    .dataframe thead th {\n",
       "        text-align: right;\n",
       "    }\n",
       "</style>\n",
       "<table border=\"1\" class=\"dataframe\">\n",
       "  <thead>\n",
       "    <tr style=\"text-align: right;\">\n",
       "      <th></th>\n",
       "      <th>comp_id</th>\n",
       "      <th>season_id</th>\n",
       "      <th>max_pts</th>\n",
       "    </tr>\n",
       "  </thead>\n",
       "  <tbody>\n",
       "    <tr>\n",
       "      <th>0</th>\n",
       "      <td>1016</td>\n",
       "      <td>298</td>\n",
       "      <td>9</td>\n",
       "    </tr>\n",
       "    <tr>\n",
       "      <th>1</th>\n",
       "      <td>1019</td>\n",
       "      <td>310</td>\n",
       "      <td>16</td>\n",
       "    </tr>\n",
       "    <tr>\n",
       "      <th>2</th>\n",
       "      <td>1035</td>\n",
       "      <td>306</td>\n",
       "      <td>28</td>\n",
       "    </tr>\n",
       "  </tbody>\n",
       "</table>\n",
       "</div>"
      ],
      "text/plain": [
       "  comp_id season_id  max_pts\n",
       "0    1016       298        9\n",
       "1    1019       310       16\n",
       "2    1035       306       28"
      ]
     },
     "execution_count": 24,
     "metadata": {},
     "output_type": "execute_result"
    }
   ],
   "source": [
    "df_max_pts.head(3)"
   ]
  },
  {
   "cell_type": "code",
   "execution_count": 25,
   "metadata": {},
   "outputs": [],
   "source": [
    "df_games_tb = df_games_tb.merge(df_max_pos, how='left', left_on=['comp_id', 'season_id'],  right_on=['comp_id', 'season_id'])\n",
    "df_games_tb = df_games_tb.merge(df_max_pts, how='left', left_on=['comp_id', 'season_id'],  right_on=['comp_id', 'season_id'])"
   ]
  },
  {
   "cell_type": "code",
   "execution_count": 26,
   "metadata": {},
   "outputs": [],
   "source": [
    "df_games_tb['fs_pos_max'] = df_games_tb[['posf_poss', 'max_pos']].apply(lambda x: str(x[0])+ ', ' + str(x[1]).replace('.0', '') \\\n",
    "                                                                                                                  if x[0] != None else None, axis=1)\n",
    "df_games_tb['fs_pts_max'] = df_games_tb[['ptsf_ptss', 'max_pts']].apply(lambda x: str(x[0])+ ', ' + str(x[1]).replace('.0', '') \\\n",
    "                                                                                                                  if x[0] != None else None, axis=1)"
   ]
  },
  {
   "cell_type": "code",
   "execution_count": 27,
   "metadata": {},
   "outputs": [],
   "source": [
    "df_games_tb.drop(columns=['posf_poss', 'ptsf_ptss', 'max_pts'], inplace=True)"
   ]
  },
  {
   "cell_type": "markdown",
   "metadata": {},
   "source": [
    "#### Add games events - don't use"
   ]
  },
  {
   "cell_type": "code",
   "execution_count": 28,
   "metadata": {},
   "outputs": [],
   "source": [
    "# with open('pickle_files/new_events/'+ dir_data +'/df_evns_'+ dir_data_start +'_to_'+ dir_data_end, 'rb') as f:\n",
    "#     df_events = pickle.load(f)"
   ]
  },
  {
   "cell_type": "code",
   "execution_count": 29,
   "metadata": {},
   "outputs": [],
   "source": [
    "# df_events.event_desc = df_events.event_desc.map(lambda x: [y[0]+y[-1] for y in x])"
   ]
  },
  {
   "cell_type": "code",
   "execution_count": 30,
   "metadata": {},
   "outputs": [],
   "source": [
    "# print('shape - ', df_events.shape[0])\n",
    "# df_events.head(2)"
   ]
  },
  {
   "cell_type": "code",
   "execution_count": 31,
   "metadata": {},
   "outputs": [],
   "source": [
    "# # Check max len stats_dict col for new names df's columns\n",
    "# maxlen_stats_dict = df_events.stats_dict.map(lambda x: len(x))\n",
    "# maxlen_stats_dict.max()"
   ]
  },
  {
   "cell_type": "code",
   "execution_count": 32,
   "metadata": {},
   "outputs": [],
   "source": [
    "# maxlen_stats_dict[maxlen_stats_dict == 19].head(2)"
   ]
  },
  {
   "cell_type": "code",
   "execution_count": 33,
   "metadata": {},
   "outputs": [],
   "source": [
    "# '2592' index with maxlen 'stats_dict' column\n",
    "# col_names = [x[0] for x in df_events.stats_dict[2592]]"
   ]
  },
  {
   "cell_type": "code",
   "execution_count": 34,
   "metadata": {},
   "outputs": [],
   "source": [
    "# str(col_names)"
   ]
  },
  {
   "cell_type": "code",
   "execution_count": 35,
   "metadata": {},
   "outputs": [],
   "source": [
    "# for col in col_names:\n",
    "#     df_events[col] = df_events.stats_dict.map(lambda x: ''.join([str(y[1]) + '-' + str(y[2]) for y in x if y[0] == col]))"
   ]
  },
  {
   "cell_type": "code",
   "execution_count": 36,
   "metadata": {},
   "outputs": [],
   "source": [
    "# df_events.drop(columns=['stats_dict', 'xG','Shots on target', 'Shots Blocked', 'Offsides', 'Pass', 'Pass percentage %', 'Free Kicks', \n",
    "#                         'Crosses', 'Tackles','Throw Ins'], inplace=True)"
   ]
  },
  {
   "cell_type": "code",
   "execution_count": 37,
   "metadata": {},
   "outputs": [],
   "source": [
    "# col_names = ['tm_1', 'tm_x', 'tm_2', 'ls_25', 'mr_25']\n",
    "\n",
    "# for ind, col in enumerate(col_names):\n",
    "#     df_events[col] = df_events.bets.map(lambda x: x[1][ind] if x[1] != [] else None)"
   ]
  },
  {
   "cell_type": "code",
   "execution_count": 38,
   "metadata": {},
   "outputs": [],
   "source": [
    "# df_events.tm_1 = pd.to_numeric(df_events.tm_1, errors='coerce')\n",
    "# df_events.tm_2 = pd.to_numeric(df_events.tm_2, errors='coerce')"
   ]
  },
  {
   "cell_type": "code",
   "execution_count": 39,
   "metadata": {},
   "outputs": [],
   "source": [
    "# df_events.drop(columns=['bets'], inplace=True)"
   ]
  },
  {
   "cell_type": "code",
   "execution_count": 40,
   "metadata": {},
   "outputs": [],
   "source": [
    "# df_events.columns = df_events.columns.str.lower()"
   ]
  },
  {
   "cell_type": "code",
   "execution_count": 41,
   "metadata": {},
   "outputs": [],
   "source": [
    "# df_events.rename(columns={'possession %':'poss', 'yellow cards':'yl_crd', 'red cards':'rd_crd', 'attacks (dangerous)':'att_dang'}, inplace=True)"
   ]
  },
  {
   "cell_type": "code",
   "execution_count": 42,
   "metadata": {},
   "outputs": [],
   "source": [
    "# print('shape - ', df_events.shape[0])\n",
    "# df_events.head(3)"
   ]
  },
  {
   "cell_type": "code",
   "execution_count": 43,
   "metadata": {},
   "outputs": [],
   "source": [
    "# main_ligues = pd.read_csv('csv_files/main_ligues.csv')\n",
    "# main_ligues = main_ligues.top_ligues.squeeze()\n",
    "# df_main = df[df.ligue_header.isin(main_ligues)].reset_index(drop=True)\n",
    "# df_main.shape\n",
    "# (353909, 8)"
   ]
  },
  {
   "cell_type": "markdown",
   "metadata": {},
   "source": [
    "#### Concatinate dataframes with best and tables position coefficients"
   ]
  },
  {
   "cell_type": "code",
   "execution_count": 44,
   "metadata": {},
   "outputs": [
    {
     "data": {
      "text/plain": [
       "74587"
      ]
     },
     "execution_count": 44,
     "metadata": {},
     "output_type": "execute_result"
    }
   ],
   "source": [
    "df_power_coefs = df_games_tb[df_games_tb.max_pos >= 8].copy().reset_index(drop=True)\n",
    "df_power_coefs.shape[0]"
   ]
  },
  {
   "cell_type": "code",
   "execution_count": 45,
   "metadata": {},
   "outputs": [],
   "source": [
    "# df_gms_events = df_games_tb.merge(df_events, left_on='game_id', right_on='game_id')"
   ]
  },
  {
   "cell_type": "code",
   "execution_count": 46,
   "metadata": {},
   "outputs": [],
   "source": [
    "# df_gms_events.shape[0]"
   ]
  },
  {
   "cell_type": "code",
   "execution_count": 47,
   "metadata": {},
   "outputs": [],
   "source": [
    "# df_games_tb_not_events = df_games_tb[~df_games_tb.game_id.isin(df_gms_events.game_id)]"
   ]
  },
  {
   "cell_type": "code",
   "execution_count": 48,
   "metadata": {},
   "outputs": [],
   "source": [
    "# df_games_tb_not_events.shape[0]"
   ]
  },
  {
   "cell_type": "code",
   "execution_count": 49,
   "metadata": {},
   "outputs": [],
   "source": [
    "# df_games_events = pd.concat([df_games_tb_not_events, df_gms_events], axis=0).reset_index(drop=True)"
   ]
  },
  {
   "cell_type": "code",
   "execution_count": 50,
   "metadata": {},
   "outputs": [],
   "source": [
    "# df_games_events.replace(to_replace=[np.nan], value=None, inplace=True)\n",
    "# df_games_events = df_games_events.fillna('',).replace([''], [None]).copy()"
   ]
  },
  {
   "cell_type": "code",
   "execution_count": 51,
   "metadata": {},
   "outputs": [],
   "source": [
    "# df_games_events.tm_2.value_counts(dropna=False).head(3)"
   ]
  },
  {
   "cell_type": "code",
   "execution_count": 52,
   "metadata": {},
   "outputs": [],
   "source": [
    "# df_games_events.fs_pos_max.value_counts(dropna=False).head(3)"
   ]
  },
  {
   "cell_type": "code",
   "execution_count": 53,
   "metadata": {},
   "outputs": [],
   "source": [
    "# df_power_coefs = df_games_events[(~df_games_events.tm_1.isna()) | (df_games_events.max_pos >= 8)].copy()"
   ]
  },
  {
   "cell_type": "code",
   "execution_count": 54,
   "metadata": {},
   "outputs": [],
   "source": [
    "# df_power_coefs.tm_1.value_counts(dropna=False)"
   ]
  },
  {
   "cell_type": "code",
   "execution_count": 55,
   "metadata": {},
   "outputs": [
    {
     "data": {
      "text/plain": [
       "20.0    16303\n",
       "16.0     9883\n",
       "18.0     8383\n",
       "12.0     7766\n",
       "10.0     5208\n",
       "21.0     4811\n",
       "14.0     4245\n",
       "17.0     3043\n",
       "22.0     2990\n",
       "24.0     1979\n",
       "8.0      1728\n",
       "19.0     1501\n",
       "23.0     1442\n",
       "9.0      1256\n",
       "13.0     1216\n",
       "11.0     1073\n",
       "15.0     1004\n",
       "26.0      325\n",
       "32.0      264\n",
       "37.0      167\n",
       "Name: max_pos, dtype: int64"
      ]
     },
     "execution_count": 55,
     "metadata": {},
     "output_type": "execute_result"
    }
   ],
   "source": [
    "df_power_coefs.max_pos.value_counts(dropna=False)"
   ]
  },
  {
   "cell_type": "code",
   "execution_count": 56,
   "metadata": {},
   "outputs": [],
   "source": [
    "df_power_coefs.drop(columns=['max_pos'], inplace=True)"
   ]
  },
  {
   "cell_type": "code",
   "execution_count": 57,
   "metadata": {},
   "outputs": [
    {
     "name": "stdout",
     "output_type": "stream",
     "text": [
      "shape -  74587\n"
     ]
    },
    {
     "data": {
      "text/html": [
       "<div>\n",
       "<style scoped>\n",
       "    .dataframe tbody tr th:only-of-type {\n",
       "        vertical-align: middle;\n",
       "    }\n",
       "\n",
       "    .dataframe tbody tr th {\n",
       "        vertical-align: top;\n",
       "    }\n",
       "\n",
       "    .dataframe thead th {\n",
       "        text-align: right;\n",
       "    }\n",
       "</style>\n",
       "<table border=\"1\" class=\"dataframe\">\n",
       "  <thead>\n",
       "    <tr style=\"text-align: right;\">\n",
       "      <th></th>\n",
       "      <th>game_id</th>\n",
       "      <th>ligue_header</th>\n",
       "      <th>comp_id</th>\n",
       "      <th>season_id</th>\n",
       "      <th>game_utc</th>\n",
       "      <th>game_title</th>\n",
       "      <th>goals</th>\n",
       "      <th>ligue</th>\n",
       "      <th>f_team</th>\n",
       "      <th>pos_f</th>\n",
       "      <th>pts_f</th>\n",
       "      <th>pos_s</th>\n",
       "      <th>pts_s</th>\n",
       "      <th>fs_pos_max</th>\n",
       "      <th>fs_pts_max</th>\n",
       "    </tr>\n",
       "  </thead>\n",
       "  <tbody>\n",
       "    <tr>\n",
       "      <th>74582</th>\n",
       "      <td>15197084</td>\n",
       "      <td>Birinci Divizion</td>\n",
       "      <td>476</td>\n",
       "      <td>306</td>\n",
       "      <td>28.03.2021 11:00</td>\n",
       "      <td>MOIK - Kapaz</td>\n",
       "      <td>4:1</td>\n",
       "      <td>thr</td>\n",
       "      <td>MOIK</td>\n",
       "      <td>10.0</td>\n",
       "      <td>20.0</td>\n",
       "      <td>8.0</td>\n",
       "      <td>28.0</td>\n",
       "      <td>10 - 8, 10</td>\n",
       "      <td>20 - 28, 64</td>\n",
       "    </tr>\n",
       "    <tr>\n",
       "      <th>74583</th>\n",
       "      <td>15197083</td>\n",
       "      <td>Birinci Divizion</td>\n",
       "      <td>476</td>\n",
       "      <td>306</td>\n",
       "      <td>28.03.2021 11:00</td>\n",
       "      <td>Neftchi II - Sumqayıt II</td>\n",
       "      <td>6:2</td>\n",
       "      <td>thr</td>\n",
       "      <td>Neftchi II</td>\n",
       "      <td>1.0</td>\n",
       "      <td>64.0</td>\n",
       "      <td>9.0</td>\n",
       "      <td>22.0</td>\n",
       "      <td>1 - 9, 10</td>\n",
       "      <td>64 - 22, 64</td>\n",
       "    </tr>\n",
       "    <tr>\n",
       "      <th>74584</th>\n",
       "      <td>15092974</td>\n",
       "      <td>National Football League</td>\n",
       "      <td>575</td>\n",
       "      <td>307</td>\n",
       "      <td>28.03.2021 03:00</td>\n",
       "      <td>Navua - Rewa</td>\n",
       "      <td>1:2</td>\n",
       "      <td>thr</td>\n",
       "      <td>Navua</td>\n",
       "      <td>7.0</td>\n",
       "      <td>9.0</td>\n",
       "      <td>2.0</td>\n",
       "      <td>25.0</td>\n",
       "      <td>7 - 2, 8</td>\n",
       "      <td>9 - 25, 30</td>\n",
       "    </tr>\n",
       "    <tr>\n",
       "      <th>74585</th>\n",
       "      <td>15092975</td>\n",
       "      <td>National Football League</td>\n",
       "      <td>575</td>\n",
       "      <td>307</td>\n",
       "      <td>28.03.2021 03:00</td>\n",
       "      <td>Ba - Lautoka</td>\n",
       "      <td>1:2</td>\n",
       "      <td>thr</td>\n",
       "      <td>Ba</td>\n",
       "      <td>3.0</td>\n",
       "      <td>22.0</td>\n",
       "      <td>1.0</td>\n",
       "      <td>30.0</td>\n",
       "      <td>3 - 1, 8</td>\n",
       "      <td>22 - 30, 30</td>\n",
       "    </tr>\n",
       "    <tr>\n",
       "      <th>74586</th>\n",
       "      <td>15092976</td>\n",
       "      <td>National Football League</td>\n",
       "      <td>575</td>\n",
       "      <td>307</td>\n",
       "      <td>28.03.2021 03:00</td>\n",
       "      <td>Nadi - Suva</td>\n",
       "      <td>1:0</td>\n",
       "      <td>thr</td>\n",
       "      <td>Nadi</td>\n",
       "      <td>6.0</td>\n",
       "      <td>15.0</td>\n",
       "      <td>4.0</td>\n",
       "      <td>21.0</td>\n",
       "      <td>6 - 4, 8</td>\n",
       "      <td>15 - 21, 30</td>\n",
       "    </tr>\n",
       "  </tbody>\n",
       "</table>\n",
       "</div>"
      ],
      "text/plain": [
       "        game_id              ligue_header comp_id season_id          game_utc  \\\n",
       "74582  15197084          Birinci Divizion     476       306  28.03.2021 11:00   \n",
       "74583  15197083          Birinci Divizion     476       306  28.03.2021 11:00   \n",
       "74584  15092974  National Football League     575       307  28.03.2021 03:00   \n",
       "74585  15092975  National Football League     575       307  28.03.2021 03:00   \n",
       "74586  15092976  National Football League     575       307  28.03.2021 03:00   \n",
       "\n",
       "                     game_title goals ligue      f_team  pos_f  pts_f  pos_s  \\\n",
       "74582              MOIK - Kapaz   4:1   thr        MOIK   10.0   20.0    8.0   \n",
       "74583  Neftchi II - Sumqayıt II   6:2   thr  Neftchi II    1.0   64.0    9.0   \n",
       "74584              Navua - Rewa   1:2   thr       Navua    7.0    9.0    2.0   \n",
       "74585              Ba - Lautoka   1:2   thr          Ba    3.0   22.0    1.0   \n",
       "74586               Nadi - Suva   1:0   thr        Nadi    6.0   15.0    4.0   \n",
       "\n",
       "       pts_s  fs_pos_max   fs_pts_max  \n",
       "74582   28.0  10 - 8, 10  20 - 28, 64  \n",
       "74583   22.0   1 - 9, 10  64 - 22, 64  \n",
       "74584   25.0    7 - 2, 8   9 - 25, 30  \n",
       "74585   30.0    3 - 1, 8  22 - 30, 30  \n",
       "74586   21.0    6 - 4, 8  15 - 21, 30  "
      ]
     },
     "execution_count": 57,
     "metadata": {},
     "output_type": "execute_result"
    }
   ],
   "source": [
    "print('shape - ', df_power_coefs.shape[0])\n",
    "df_power_coefs.tail()"
   ]
  },
  {
   "cell_type": "markdown",
   "metadata": {},
   "source": [
    "#### Power coefficient and statistic"
   ]
  },
  {
   "cell_type": "code",
   "execution_count": 58,
   "metadata": {},
   "outputs": [],
   "source": [
    "# pow_coef = 1.9\n",
    "# df_power_coefs['f_pow_bet'] = df_power_coefs[['tm_1', 'tm_2']].apply(lambda x: ParsingDataPrepare.roles_determinate([x[0], x[1]], pow_coef, 'min'), axis=1)"
   ]
  },
  {
   "cell_type": "code",
   "execution_count": 59,
   "metadata": {},
   "outputs": [],
   "source": [
    "# df_power_coefs.f_pow_bet.value_counts(dropna=False)"
   ]
  },
  {
   "cell_type": "code",
   "execution_count": 60,
   "metadata": {},
   "outputs": [],
   "source": [
    "# pow_coef = 1.95\n",
    "# df_power_coefs['f_pow_pos'] = df_power_coefs[['pos_f', 'pos_s']].apply(lambda x: ParsingDataPrepare.roles_determinate([x[0], x[1]], pow_coef, 'min'), axis=1)"
   ]
  },
  {
   "cell_type": "code",
   "execution_count": 61,
   "metadata": {},
   "outputs": [],
   "source": [
    "# df_power_coefs.f_pow_pos.value_counts(dropna=False)"
   ]
  },
  {
   "cell_type": "code",
   "execution_count": 62,
   "metadata": {},
   "outputs": [],
   "source": [
    "pow_coef = 2\n",
    "df_power_coefs['f_pow_pts'] = df_power_coefs[['pts_f', 'pts_s']].apply(lambda x: ParsingDataPrepare.roles_determinate([x[0], x[1]], pow_coef, 'max'), axis=1)"
   ]
  },
  {
   "cell_type": "code",
   "execution_count": 63,
   "metadata": {},
   "outputs": [
    {
     "data": {
      "text/plain": [
       "Neu    62256\n",
       "Pre     6172\n",
       "Fav     6159\n",
       "Name: f_pow_pts, dtype: int64"
      ]
     },
     "execution_count": 63,
     "metadata": {},
     "output_type": "execute_result"
    }
   ],
   "source": [
    "df_power_coefs.f_pow_pts.value_counts(dropna=False)"
   ]
  },
  {
   "cell_type": "code",
   "execution_count": 64,
   "metadata": {},
   "outputs": [],
   "source": [
    "df_power_coefs['f_pow'] = df_power_coefs.f_pow_pts"
   ]
  },
  {
   "cell_type": "code",
   "execution_count": 65,
   "metadata": {},
   "outputs": [],
   "source": [
    "# df_power_coefs.f_pow = df_power_coefs[['f_pow', 'f_pow_bet']].apply(lambda x: x[1] if x[0] == None and x[1] == 'Fav' else x[0], axis=1)"
   ]
  },
  {
   "cell_type": "code",
   "execution_count": 66,
   "metadata": {},
   "outputs": [],
   "source": [
    "# df_power_coefs.f_pow = df_power_coefs[['f_pow', 'f_pow_bet']].apply(lambda x: x[1] if x[0] == None and x[1] == 'Pre' else x[0], axis=1)"
   ]
  },
  {
   "cell_type": "code",
   "execution_count": 67,
   "metadata": {},
   "outputs": [
    {
     "data": {
      "text/plain": [
       "Neu    62256\n",
       "Pre     6172\n",
       "Fav     6159\n",
       "Name: f_pow, dtype: int64"
      ]
     },
     "execution_count": 67,
     "metadata": {},
     "output_type": "execute_result"
    }
   ],
   "source": [
    "df_power_coefs.f_pow.value_counts(dropna=False)"
   ]
  },
  {
   "cell_type": "code",
   "execution_count": 68,
   "metadata": {},
   "outputs": [],
   "source": [
    "df_power_coefs.drop(columns='f_pow_pts', inplace=True)"
   ]
  },
  {
   "cell_type": "code",
   "execution_count": 69,
   "metadata": {},
   "outputs": [],
   "source": [
    "df_fav_pre = df_power_coefs[df_power_coefs.f_pow.isin(['Fav', 'Pre'])].copy()"
   ]
  },
  {
   "cell_type": "code",
   "execution_count": 70,
   "metadata": {},
   "outputs": [],
   "source": [
    "df_fav_pre['desc'] = 'fav_pre'"
   ]
  },
  {
   "cell_type": "code",
   "execution_count": 71,
   "metadata": {},
   "outputs": [],
   "source": [
    "df_fav_pre.reset_index(drop=True, inplace=True)"
   ]
  },
  {
   "cell_type": "code",
   "execution_count": 72,
   "metadata": {},
   "outputs": [
    {
     "name": "stdout",
     "output_type": "stream",
     "text": [
      "shape -  12331\n"
     ]
    },
    {
     "data": {
      "text/html": [
       "<div>\n",
       "<style scoped>\n",
       "    .dataframe tbody tr th:only-of-type {\n",
       "        vertical-align: middle;\n",
       "    }\n",
       "\n",
       "    .dataframe tbody tr th {\n",
       "        vertical-align: top;\n",
       "    }\n",
       "\n",
       "    .dataframe thead th {\n",
       "        text-align: right;\n",
       "    }\n",
       "</style>\n",
       "<table border=\"1\" class=\"dataframe\">\n",
       "  <thead>\n",
       "    <tr style=\"text-align: right;\">\n",
       "      <th></th>\n",
       "      <th>game_id</th>\n",
       "      <th>ligue_header</th>\n",
       "      <th>comp_id</th>\n",
       "      <th>season_id</th>\n",
       "      <th>game_utc</th>\n",
       "      <th>game_title</th>\n",
       "      <th>goals</th>\n",
       "      <th>ligue</th>\n",
       "      <th>f_team</th>\n",
       "      <th>pos_f</th>\n",
       "      <th>pts_f</th>\n",
       "      <th>pos_s</th>\n",
       "      <th>pts_s</th>\n",
       "      <th>fs_pos_max</th>\n",
       "      <th>fs_pts_max</th>\n",
       "      <th>f_pow</th>\n",
       "      <th>desc</th>\n",
       "    </tr>\n",
       "  </thead>\n",
       "  <tbody>\n",
       "    <tr>\n",
       "      <th>12328</th>\n",
       "      <td>15109590</td>\n",
       "      <td>Thai League 1</td>\n",
       "      <td>718</td>\n",
       "      <td>298</td>\n",
       "      <td>28.03.2021 11:00</td>\n",
       "      <td>Rayong - Chonburi</td>\n",
       "      <td>1:1</td>\n",
       "      <td>thr</td>\n",
       "      <td>Rayong</td>\n",
       "      <td>16.0</td>\n",
       "      <td>15.0</td>\n",
       "      <td>12.0</td>\n",
       "      <td>32.0</td>\n",
       "      <td>16 - 12, 16</td>\n",
       "      <td>15 - 32, 77</td>\n",
       "      <td>Pre</td>\n",
       "      <td>fav_pre</td>\n",
       "    </tr>\n",
       "    <tr>\n",
       "      <th>12329</th>\n",
       "      <td>15197083</td>\n",
       "      <td>Birinci Divizion</td>\n",
       "      <td>476</td>\n",
       "      <td>306</td>\n",
       "      <td>28.03.2021 11:00</td>\n",
       "      <td>Neftchi II - Sumqayıt II</td>\n",
       "      <td>6:2</td>\n",
       "      <td>thr</td>\n",
       "      <td>Neftchi II</td>\n",
       "      <td>1.0</td>\n",
       "      <td>64.0</td>\n",
       "      <td>9.0</td>\n",
       "      <td>22.0</td>\n",
       "      <td>1 - 9, 10</td>\n",
       "      <td>64 - 22, 64</td>\n",
       "      <td>Fav</td>\n",
       "      <td>fav_pre</td>\n",
       "    </tr>\n",
       "    <tr>\n",
       "      <th>12330</th>\n",
       "      <td>15092974</td>\n",
       "      <td>National Football League</td>\n",
       "      <td>575</td>\n",
       "      <td>307</td>\n",
       "      <td>28.03.2021 03:00</td>\n",
       "      <td>Navua - Rewa</td>\n",
       "      <td>1:2</td>\n",
       "      <td>thr</td>\n",
       "      <td>Navua</td>\n",
       "      <td>7.0</td>\n",
       "      <td>9.0</td>\n",
       "      <td>2.0</td>\n",
       "      <td>25.0</td>\n",
       "      <td>7 - 2, 8</td>\n",
       "      <td>9 - 25, 30</td>\n",
       "      <td>Pre</td>\n",
       "      <td>fav_pre</td>\n",
       "    </tr>\n",
       "  </tbody>\n",
       "</table>\n",
       "</div>"
      ],
      "text/plain": [
       "        game_id              ligue_header comp_id season_id          game_utc  \\\n",
       "12328  15109590             Thai League 1     718       298  28.03.2021 11:00   \n",
       "12329  15197083          Birinci Divizion     476       306  28.03.2021 11:00   \n",
       "12330  15092974  National Football League     575       307  28.03.2021 03:00   \n",
       "\n",
       "                     game_title goals ligue      f_team  pos_f  pts_f  pos_s  \\\n",
       "12328         Rayong - Chonburi   1:1   thr      Rayong   16.0   15.0   12.0   \n",
       "12329  Neftchi II - Sumqayıt II   6:2   thr  Neftchi II    1.0   64.0    9.0   \n",
       "12330              Navua - Rewa   1:2   thr       Navua    7.0    9.0    2.0   \n",
       "\n",
       "       pts_s   fs_pos_max   fs_pts_max f_pow     desc  \n",
       "12328   32.0  16 - 12, 16  15 - 32, 77   Pre  fav_pre  \n",
       "12329   22.0    1 - 9, 10  64 - 22, 64   Fav  fav_pre  \n",
       "12330   25.0     7 - 2, 8   9 - 25, 30   Pre  fav_pre  "
      ]
     },
     "execution_count": 72,
     "metadata": {},
     "output_type": "execute_result"
    }
   ],
   "source": [
    "print('shape - ', df_fav_pre.shape[0])\n",
    "df_fav_pre.tail(3)"
   ]
  },
  {
   "cell_type": "code",
   "execution_count": 73,
   "metadata": {},
   "outputs": [],
   "source": [
    "# df_statistic = df_power_coefs[~df_power_coefs.event_mins.isna()].copy()"
   ]
  },
  {
   "cell_type": "code",
   "execution_count": 74,
   "metadata": {},
   "outputs": [],
   "source": [
    "# df_statistic = df_statistic[df_statistic.event_mins.map(lambda x: len(x) > 0)].copy()"
   ]
  },
  {
   "cell_type": "code",
   "execution_count": 75,
   "metadata": {},
   "outputs": [],
   "source": [
    "# df_statistic['desc'] = 'stat'"
   ]
  },
  {
   "cell_type": "code",
   "execution_count": 76,
   "metadata": {},
   "outputs": [],
   "source": [
    "# df_statistic.reset_index(drop=True, inplace=True)"
   ]
  },
  {
   "cell_type": "code",
   "execution_count": 77,
   "metadata": {},
   "outputs": [],
   "source": [
    "# print('shape - ', df_statistic.shape[0])\n",
    "# df_statistic.head(2)"
   ]
  },
  {
   "cell_type": "code",
   "execution_count": 78,
   "metadata": {},
   "outputs": [],
   "source": [
    "# df_for_cities = pd.concat([df_fav_pre, df_statistic]).reset_index(drop=True)\n",
    "df_for_cities = df_fav_pre.copy()"
   ]
  },
  {
   "cell_type": "code",
   "execution_count": 79,
   "metadata": {},
   "outputs": [
    {
     "data": {
      "text/plain": [
       "(12331, 17)"
      ]
     },
     "execution_count": 79,
     "metadata": {},
     "output_type": "execute_result"
    }
   ],
   "source": [
    "df_for_cities.shape"
   ]
  },
  {
   "cell_type": "code",
   "execution_count": 80,
   "metadata": {},
   "outputs": [],
   "source": [
    "# stop"
   ]
  },
  {
   "cell_type": "markdown",
   "metadata": {},
   "source": [
    "#### Add cities and countries"
   ]
  },
  {
   "cell_type": "code",
   "execution_count": 81,
   "metadata": {},
   "outputs": [],
   "source": [
    "with open('pickle_files/cities_countries/df_countries_champ_ids', 'rb') as f:\n",
    "    df_countries = pickle.load(f)"
   ]
  },
  {
   "cell_type": "code",
   "execution_count": 82,
   "metadata": {},
   "outputs": [],
   "source": [
    "df_countries.drop_duplicates(subset=['comp_id', 'country'], inplace=True)\n",
    "df_countries.reset_index(drop=True, inplace=True)"
   ]
  },
  {
   "cell_type": "code",
   "execution_count": 83,
   "metadata": {},
   "outputs": [
    {
     "data": {
      "text/html": [
       "<div>\n",
       "<style scoped>\n",
       "    .dataframe tbody tr th:only-of-type {\n",
       "        vertical-align: middle;\n",
       "    }\n",
       "\n",
       "    .dataframe tbody tr th {\n",
       "        vertical-align: top;\n",
       "    }\n",
       "\n",
       "    .dataframe thead th {\n",
       "        text-align: right;\n",
       "    }\n",
       "</style>\n",
       "<table border=\"1\" class=\"dataframe\">\n",
       "  <thead>\n",
       "    <tr style=\"text-align: right;\">\n",
       "      <th></th>\n",
       "      <th>comp_id</th>\n",
       "      <th>country</th>\n",
       "    </tr>\n",
       "  </thead>\n",
       "  <tbody>\n",
       "    <tr>\n",
       "      <th>0</th>\n",
       "      <td>12</td>\n",
       "      <td>England</td>\n",
       "    </tr>\n",
       "    <tr>\n",
       "      <th>1</th>\n",
       "      <td>13</td>\n",
       "      <td>Russia</td>\n",
       "    </tr>\n",
       "  </tbody>\n",
       "</table>\n",
       "</div>"
      ],
      "text/plain": [
       "  comp_id  country\n",
       "0      12  England\n",
       "1      13   Russia"
      ]
     },
     "execution_count": 83,
     "metadata": {},
     "output_type": "execute_result"
    }
   ],
   "source": [
    "df_countries.head(2)"
   ]
  },
  {
   "cell_type": "code",
   "execution_count": 84,
   "metadata": {},
   "outputs": [
    {
     "data": {
      "text/plain": [
       "(337, 2)"
      ]
     },
     "execution_count": 84,
     "metadata": {},
     "output_type": "execute_result"
    }
   ],
   "source": [
    "df_countries.shape"
   ]
  },
  {
   "cell_type": "code",
   "execution_count": 85,
   "metadata": {},
   "outputs": [
    {
     "data": {
      "text/plain": [
       "'set()'"
      ]
     },
     "execution_count": 85,
     "metadata": {},
     "output_type": "execute_result"
    }
   ],
   "source": [
    "str(set(df_for_cities[~df_for_cities.comp_id.isin(df_countries.comp_id)].comp_id))"
   ]
  },
  {
   "cell_type": "code",
   "execution_count": 86,
   "metadata": {},
   "outputs": [],
   "source": [
    "df_for_cities = df_for_cities.merge(df_countries, how='left', left_on='comp_id', right_on='comp_id')"
   ]
  },
  {
   "cell_type": "code",
   "execution_count": 87,
   "metadata": {},
   "outputs": [
    {
     "data": {
      "text/plain": [
       "(12331, 18)"
      ]
     },
     "execution_count": 87,
     "metadata": {},
     "output_type": "execute_result"
    }
   ],
   "source": [
    "df_for_cities.shape"
   ]
  },
  {
   "cell_type": "code",
   "execution_count": 88,
   "metadata": {},
   "outputs": [
    {
     "data": {
      "text/plain": [
       "Spain      1155\n",
       "England     823\n",
       "Germany     670\n",
       "Italy       670\n",
       "Russia      573\n",
       "Name: country, dtype: int64"
      ]
     },
     "execution_count": 88,
     "metadata": {},
     "output_type": "execute_result"
    }
   ],
   "source": [
    "df_for_cities.country.value_counts(dropna=False).head()"
   ]
  },
  {
   "cell_type": "code",
   "execution_count": 89,
   "metadata": {},
   "outputs": [],
   "source": [
    "# df_for_cities['city'] = df_for_cities.city_country.map(lambda x: str(x).split(', ')[0] if len(str(x).split(', ')) == 2 else None)"
   ]
  },
  {
   "cell_type": "code",
   "execution_count": 90,
   "metadata": {},
   "outputs": [],
   "source": [
    "# df_for_cities.city.value_counts(dropna=False)"
   ]
  },
  {
   "cell_type": "code",
   "execution_count": 91,
   "metadata": {},
   "outputs": [],
   "source": [
    "# df_for_cities.drop(columns=['city_country'], inplace=True)"
   ]
  },
  {
   "cell_type": "code",
   "execution_count": 93,
   "metadata": {},
   "outputs": [],
   "source": [
    "# stop"
   ]
  },
  {
   "cell_type": "markdown",
   "metadata": {},
   "source": [
    "#### Add new data"
   ]
  },
  {
   "cell_type": "code",
   "execution_count": 94,
   "metadata": {},
   "outputs": [],
   "source": [
    "with open('pickle_files/teams_data/df_tmd_main_created_29_06_2022', 'rb') as f:\n",
    "    df_teams_data = pickle.load(f)"
   ]
  },
  {
   "cell_type": "code",
   "execution_count": 95,
   "metadata": {},
   "outputs": [
    {
     "name": "stdout",
     "output_type": "stream",
     "text": [
      "shape -  4151\n"
     ]
    },
    {
     "data": {
      "text/html": [
       "<div>\n",
       "<style scoped>\n",
       "    .dataframe tbody tr th:only-of-type {\n",
       "        vertical-align: middle;\n",
       "    }\n",
       "\n",
       "    .dataframe tbody tr th {\n",
       "        vertical-align: top;\n",
       "    }\n",
       "\n",
       "    .dataframe thead th {\n",
       "        text-align: right;\n",
       "    }\n",
       "</style>\n",
       "<table border=\"1\" class=\"dataframe\">\n",
       "  <thead>\n",
       "    <tr style=\"text-align: right;\">\n",
       "      <th></th>\n",
       "      <th>team</th>\n",
       "      <th>team_id</th>\n",
       "      <th>country</th>\n",
       "      <th>city</th>\n",
       "    </tr>\n",
       "  </thead>\n",
       "  <tbody>\n",
       "    <tr>\n",
       "      <th>0</th>\n",
       "      <td>AaB</td>\n",
       "      <td>None</td>\n",
       "      <td>Denmark</td>\n",
       "      <td>Aalborg</td>\n",
       "    </tr>\n",
       "    <tr>\n",
       "      <th>1</th>\n",
       "      <td>Aalesund</td>\n",
       "      <td>None</td>\n",
       "      <td>Norway</td>\n",
       "      <td>Alesund</td>\n",
       "    </tr>\n",
       "    <tr>\n",
       "      <th>2</th>\n",
       "      <td>Aarau</td>\n",
       "      <td>None</td>\n",
       "      <td>Switzerland</td>\n",
       "      <td>Aarau</td>\n",
       "    </tr>\n",
       "  </tbody>\n",
       "</table>\n",
       "</div>"
      ],
      "text/plain": [
       "       team team_id      country     city\n",
       "0       AaB    None      Denmark  Aalborg\n",
       "1  Aalesund    None       Norway  Alesund\n",
       "2     Aarau    None  Switzerland    Aarau"
      ]
     },
     "execution_count": 95,
     "metadata": {},
     "output_type": "execute_result"
    }
   ],
   "source": [
    "print('shape - ', df_teams_data.shape[0])\n",
    "df_teams_data.head(3)"
   ]
  },
  {
   "cell_type": "code",
   "execution_count": 96,
   "metadata": {},
   "outputs": [],
   "source": [
    "df_teams_data.rename(columns={'team':'f_team'}, inplace=True)"
   ]
  },
  {
   "cell_type": "code",
   "execution_count": 97,
   "metadata": {},
   "outputs": [
    {
     "name": "stdout",
     "output_type": "stream",
     "text": [
      "shape -  12331\n",
      "shape -  12331\n"
     ]
    }
   ],
   "source": [
    "print('shape - ', df_for_cities.shape[0])\n",
    "df_for_cities = df_for_cities.merge(df_teams_data, how='left', left_on=['f_team', 'country'], right_on=['f_team', 'country'])\n",
    "print('shape - ', df_for_cities.shape[0])"
   ]
  },
  {
   "cell_type": "code",
   "execution_count": 98,
   "metadata": {},
   "outputs": [
    {
     "data": {
      "text/html": [
       "<div>\n",
       "<style scoped>\n",
       "    .dataframe tbody tr th:only-of-type {\n",
       "        vertical-align: middle;\n",
       "    }\n",
       "\n",
       "    .dataframe tbody tr th {\n",
       "        vertical-align: top;\n",
       "    }\n",
       "\n",
       "    .dataframe thead th {\n",
       "        text-align: right;\n",
       "    }\n",
       "</style>\n",
       "<table border=\"1\" class=\"dataframe\">\n",
       "  <thead>\n",
       "    <tr style=\"text-align: right;\">\n",
       "      <th></th>\n",
       "      <th>game_id</th>\n",
       "      <th>ligue_header</th>\n",
       "      <th>comp_id</th>\n",
       "      <th>season_id</th>\n",
       "      <th>game_utc</th>\n",
       "      <th>game_title</th>\n",
       "      <th>goals</th>\n",
       "      <th>ligue</th>\n",
       "      <th>f_team</th>\n",
       "      <th>pos_f</th>\n",
       "      <th>pts_f</th>\n",
       "      <th>pos_s</th>\n",
       "      <th>pts_s</th>\n",
       "      <th>fs_pos_max</th>\n",
       "      <th>fs_pts_max</th>\n",
       "      <th>f_pow</th>\n",
       "      <th>desc</th>\n",
       "      <th>country</th>\n",
       "      <th>team_id</th>\n",
       "      <th>city</th>\n",
       "    </tr>\n",
       "  </thead>\n",
       "  <tbody>\n",
       "    <tr>\n",
       "      <th>0</th>\n",
       "      <td>1708335</td>\n",
       "      <td>Premier League</td>\n",
       "      <td>483</td>\n",
       "      <td>301</td>\n",
       "      <td>26.05.2022 15:00</td>\n",
       "      <td>FC Minsk - Arsenal Dzerzhinsk</td>\n",
       "      <td>2:0</td>\n",
       "      <td>top</td>\n",
       "      <td>FC Minsk</td>\n",
       "      <td>4.0</td>\n",
       "      <td>19.0</td>\n",
       "      <td>15.0</td>\n",
       "      <td>4.0</td>\n",
       "      <td>4 - 15, 16</td>\n",
       "      <td>19 - 4, 23</td>\n",
       "      <td>Fav</td>\n",
       "      <td>fav_pre</td>\n",
       "      <td>Belarus</td>\n",
       "      <td>540</td>\n",
       "      <td>Minsk</td>\n",
       "    </tr>\n",
       "    <tr>\n",
       "      <th>1</th>\n",
       "      <td>1687696</td>\n",
       "      <td>OBOS liga</td>\n",
       "      <td>668</td>\n",
       "      <td>301</td>\n",
       "      <td>26.05.2022 15:00</td>\n",
       "      <td>Skeid - Sandnes Ulf</td>\n",
       "      <td>0:1</td>\n",
       "      <td>thr</td>\n",
       "      <td>Skeid</td>\n",
       "      <td>16.0</td>\n",
       "      <td>3.0</td>\n",
       "      <td>4.0</td>\n",
       "      <td>18.0</td>\n",
       "      <td>16 - 4, 16</td>\n",
       "      <td>3 - 18, 23</td>\n",
       "      <td>Pre</td>\n",
       "      <td>fav_pre</td>\n",
       "      <td>Norway</td>\n",
       "      <td>10294</td>\n",
       "      <td>Oslo</td>\n",
       "    </tr>\n",
       "    <tr>\n",
       "      <th>2</th>\n",
       "      <td>1687694</td>\n",
       "      <td>OBOS liga</td>\n",
       "      <td>668</td>\n",
       "      <td>301</td>\n",
       "      <td>26.05.2022 16:00</td>\n",
       "      <td>Kongsvinger - Brann</td>\n",
       "      <td>1:3</td>\n",
       "      <td>thr</td>\n",
       "      <td>Kongsvinger</td>\n",
       "      <td>13.0</td>\n",
       "      <td>7.0</td>\n",
       "      <td>1.0</td>\n",
       "      <td>23.0</td>\n",
       "      <td>13 - 1, 16</td>\n",
       "      <td>7 - 23, 23</td>\n",
       "      <td>Pre</td>\n",
       "      <td>fav_pre</td>\n",
       "      <td>Norway</td>\n",
       "      <td>None</td>\n",
       "      <td>Kongsvinger</td>\n",
       "    </tr>\n",
       "  </tbody>\n",
       "</table>\n",
       "</div>"
      ],
      "text/plain": [
       "   game_id    ligue_header comp_id season_id          game_utc  \\\n",
       "0  1708335  Premier League     483       301  26.05.2022 15:00   \n",
       "1  1687696       OBOS liga     668       301  26.05.2022 15:00   \n",
       "2  1687694       OBOS liga     668       301  26.05.2022 16:00   \n",
       "\n",
       "                      game_title goals ligue       f_team  pos_f  pts_f  \\\n",
       "0  FC Minsk - Arsenal Dzerzhinsk   2:0   top     FC Minsk    4.0   19.0   \n",
       "1            Skeid - Sandnes Ulf   0:1   thr        Skeid   16.0    3.0   \n",
       "2            Kongsvinger - Brann   1:3   thr  Kongsvinger   13.0    7.0   \n",
       "\n",
       "   pos_s  pts_s  fs_pos_max  fs_pts_max f_pow     desc  country team_id  \\\n",
       "0   15.0    4.0  4 - 15, 16  19 - 4, 23   Fav  fav_pre  Belarus     540   \n",
       "1    4.0   18.0  16 - 4, 16  3 - 18, 23   Pre  fav_pre   Norway   10294   \n",
       "2    1.0   23.0  13 - 1, 16  7 - 23, 23   Pre  fav_pre   Norway    None   \n",
       "\n",
       "          city  \n",
       "0        Minsk  \n",
       "1         Oslo  \n",
       "2  Kongsvinger  "
      ]
     },
     "execution_count": 98,
     "metadata": {},
     "output_type": "execute_result"
    }
   ],
   "source": [
    "df_for_cities.head(3)"
   ]
  },
  {
   "cell_type": "code",
   "execution_count": 99,
   "metadata": {},
   "outputs": [
    {
     "data": {
      "text/plain": [
       "NaN             3121\n",
       "Buenos Aires      59\n",
       "Yerevan           58\n",
       "Name: city, dtype: int64"
      ]
     },
     "execution_count": 99,
     "metadata": {},
     "output_type": "execute_result"
    }
   ],
   "source": [
    "df_for_cities.city.value_counts(dropna=False)[:3]"
   ]
  },
  {
   "cell_type": "code",
   "execution_count": 111,
   "metadata": {},
   "outputs": [
    {
     "name": "stdout",
     "output_type": "stream",
     "text": [
      "shape -  9210\n"
     ]
    },
    {
     "data": {
      "text/html": [
       "<div>\n",
       "<style scoped>\n",
       "    .dataframe tbody tr th:only-of-type {\n",
       "        vertical-align: middle;\n",
       "    }\n",
       "\n",
       "    .dataframe tbody tr th {\n",
       "        vertical-align: top;\n",
       "    }\n",
       "\n",
       "    .dataframe thead th {\n",
       "        text-align: right;\n",
       "    }\n",
       "</style>\n",
       "<table border=\"1\" class=\"dataframe\">\n",
       "  <thead>\n",
       "    <tr style=\"text-align: right;\">\n",
       "      <th></th>\n",
       "      <th>game_id</th>\n",
       "      <th>ligue_header</th>\n",
       "      <th>comp_id</th>\n",
       "      <th>season_id</th>\n",
       "      <th>game_utc</th>\n",
       "      <th>game_title</th>\n",
       "      <th>goals</th>\n",
       "      <th>ligue</th>\n",
       "      <th>f_team</th>\n",
       "      <th>pos_f</th>\n",
       "      <th>pts_f</th>\n",
       "      <th>pos_s</th>\n",
       "      <th>pts_s</th>\n",
       "      <th>fs_pos_max</th>\n",
       "      <th>fs_pts_max</th>\n",
       "      <th>f_pow</th>\n",
       "      <th>desc</th>\n",
       "      <th>country</th>\n",
       "      <th>team_id</th>\n",
       "      <th>city</th>\n",
       "    </tr>\n",
       "  </thead>\n",
       "  <tbody>\n",
       "    <tr>\n",
       "      <th>9207</th>\n",
       "      <td>15094094</td>\n",
       "      <td>C-League</td>\n",
       "      <td>535</td>\n",
       "      <td>307</td>\n",
       "      <td>28.03.2021 08:30</td>\n",
       "      <td>Asia Europe University - Police Commissary</td>\n",
       "      <td>3:2</td>\n",
       "      <td>thr</td>\n",
       "      <td>Asia Europe University</td>\n",
       "      <td>9.0</td>\n",
       "      <td>13.0</td>\n",
       "      <td>13.0</td>\n",
       "      <td>4.0</td>\n",
       "      <td>9 - 13, 13</td>\n",
       "      <td>13 - 4, 28</td>\n",
       "      <td>Fav</td>\n",
       "      <td>fav_pre</td>\n",
       "      <td>Cambodia</td>\n",
       "      <td>13409</td>\n",
       "      <td>Kandal</td>\n",
       "    </tr>\n",
       "    <tr>\n",
       "      <th>9208</th>\n",
       "      <td>15091817</td>\n",
       "      <td>Primera B Metropolitana</td>\n",
       "      <td>457</td>\n",
       "      <td>307</td>\n",
       "      <td>28.03.2021 19:30</td>\n",
       "      <td>Argentino Quilmes - Defensores Unidos</td>\n",
       "      <td>0:1</td>\n",
       "      <td>sec</td>\n",
       "      <td>Argentino Quilmes</td>\n",
       "      <td>3.0</td>\n",
       "      <td>0.0</td>\n",
       "      <td>7.0</td>\n",
       "      <td>46.0</td>\n",
       "      <td>3 - 7, 16</td>\n",
       "      <td>0 - 46, 61</td>\n",
       "      <td>Pre</td>\n",
       "      <td>fav_pre</td>\n",
       "      <td>Argentina</td>\n",
       "      <td>12788</td>\n",
       "      <td>Quilmes</td>\n",
       "    </tr>\n",
       "    <tr>\n",
       "      <th>9209</th>\n",
       "      <td>15197083</td>\n",
       "      <td>Birinci Divizion</td>\n",
       "      <td>476</td>\n",
       "      <td>306</td>\n",
       "      <td>28.03.2021 11:00</td>\n",
       "      <td>Neftchi II - Sumqayıt II</td>\n",
       "      <td>6:2</td>\n",
       "      <td>thr</td>\n",
       "      <td>Neftchi II</td>\n",
       "      <td>1.0</td>\n",
       "      <td>64.0</td>\n",
       "      <td>9.0</td>\n",
       "      <td>22.0</td>\n",
       "      <td>1 - 9, 10</td>\n",
       "      <td>64 - 22, 64</td>\n",
       "      <td>Fav</td>\n",
       "      <td>fav_pre</td>\n",
       "      <td>Azerbaijan</td>\n",
       "      <td>NaN</td>\n",
       "      <td>Baku</td>\n",
       "    </tr>\n",
       "  </tbody>\n",
       "</table>\n",
       "</div>"
      ],
      "text/plain": [
       "       game_id             ligue_header comp_id season_id          game_utc  \\\n",
       "9207  15094094                 C-League     535       307  28.03.2021 08:30   \n",
       "9208  15091817  Primera B Metropolitana     457       307  28.03.2021 19:30   \n",
       "9209  15197083         Birinci Divizion     476       306  28.03.2021 11:00   \n",
       "\n",
       "                                      game_title goals ligue  \\\n",
       "9207  Asia Europe University - Police Commissary   3:2   thr   \n",
       "9208       Argentino Quilmes - Defensores Unidos   0:1   sec   \n",
       "9209                    Neftchi II - Sumqayıt II   6:2   thr   \n",
       "\n",
       "                      f_team  pos_f  pts_f  pos_s  pts_s  fs_pos_max  \\\n",
       "9207  Asia Europe University    9.0   13.0   13.0    4.0  9 - 13, 13   \n",
       "9208       Argentino Quilmes    3.0    0.0    7.0   46.0   3 - 7, 16   \n",
       "9209              Neftchi II    1.0   64.0    9.0   22.0   1 - 9, 10   \n",
       "\n",
       "       fs_pts_max f_pow     desc     country team_id     city  \n",
       "9207   13 - 4, 28   Fav  fav_pre    Cambodia   13409   Kandal  \n",
       "9208   0 - 46, 61   Pre  fav_pre   Argentina   12788  Quilmes  \n",
       "9209  64 - 22, 64   Fav  fav_pre  Azerbaijan     NaN     Baku  "
      ]
     },
     "execution_count": 111,
     "metadata": {},
     "output_type": "execute_result"
    }
   ],
   "source": [
    "df_for_geo_coords_26_05_2022 = df_for_cities[~df_for_cities.city.isna()].copy().reset_index(drop=True)\n",
    "print('shape - ', df_for_geo_coords_26_05_2022.shape[0])\n",
    "df_for_geo_coords_26_05_2022.tail(3)"
   ]
  },
  {
   "cell_type": "code",
   "execution_count": 113,
   "metadata": {},
   "outputs": [],
   "source": [
    "# file = open('pickle_files/df_for_geo_coords_26_05_2022', 'wb')\n",
    "# pickle.dump(df_for_geo_coords_26_05_2022, file)  \n",
    "# file.close()"
   ]
  },
  {
   "cell_type": "markdown",
   "metadata": {},
   "source": [
    "#### For find teams with na cities"
   ]
  },
  {
   "cell_type": "code",
   "execution_count": 100,
   "metadata": {},
   "outputs": [],
   "source": [
    "# df_na_cities = pd.DataFrame(df_for_cities[['f_team', 'country']][df_for_cities.city.isna()])"
   ]
  },
  {
   "cell_type": "code",
   "execution_count": 101,
   "metadata": {},
   "outputs": [],
   "source": [
    "# df_na_cities = df_na_cities.drop_duplicates(subset=['f_team', 'country'], keep='first').reset_index(drop=True)"
   ]
  },
  {
   "cell_type": "code",
   "execution_count": 102,
   "metadata": {},
   "outputs": [],
   "source": [
    "# df_teams_counts_na = df_for_cities[df_for_cities.city.isna()].f_team.value_counts()"
   ]
  },
  {
   "cell_type": "code",
   "execution_count": 103,
   "metadata": {},
   "outputs": [],
   "source": [
    "# numb = 3"
   ]
  },
  {
   "cell_type": "code",
   "execution_count": 104,
   "metadata": {},
   "outputs": [],
   "source": [
    "# len(df_teams_counts_na[df_teams_counts_na >= numb])"
   ]
  },
  {
   "cell_type": "code",
   "execution_count": 105,
   "metadata": {},
   "outputs": [],
   "source": [
    "# df_teams_counts_na[df_teams_counts_na >= numb].values.sum()"
   ]
  },
  {
   "cell_type": "code",
   "execution_count": 106,
   "metadata": {},
   "outputs": [],
   "source": [
    "# df_teams_counts_na"
   ]
  },
  {
   "cell_type": "code",
   "execution_count": 107,
   "metadata": {},
   "outputs": [],
   "source": [
    "# df_teams_counts_na_numb = df_teams_counts_na[df_teams_counts_na >= numb].index"
   ]
  },
  {
   "cell_type": "code",
   "execution_count": 108,
   "metadata": {},
   "outputs": [],
   "source": [
    "# df_teams_counts_na_numb"
   ]
  },
  {
   "cell_type": "code",
   "execution_count": 109,
   "metadata": {},
   "outputs": [],
   "source": [
    "# df_teams_cities_na_26_05_2022_third = df_na_cities[df_na_cities.f_team.isin(df_teams_counts_na_numb)].reset_index(drop=True)"
   ]
  },
  {
   "cell_type": "code",
   "execution_count": 110,
   "metadata": {},
   "outputs": [],
   "source": [
    "# df_teams_cities_na_26_05_2022_third"
   ]
  },
  {
   "cell_type": "code",
   "execution_count": null,
   "metadata": {},
   "outputs": [],
   "source": [
    "# file = open('pickle_files/df_teams_cities_na_26_05_2022_third', 'wb')\n",
    "# pickle.dump(df_teams_cities_na_26_05_2022_third, file)  \n",
    "# file.close()"
   ]
  }
 ],
 "metadata": {
  "kernelspec": {
   "display_name": "Python 3 (ipykernel)",
   "language": "python",
   "name": "python3"
  },
  "language_info": {
   "codemirror_mode": {
    "name": "ipython",
    "version": 3
   },
   "file_extension": ".py",
   "mimetype": "text/x-python",
   "name": "python",
   "nbconvert_exporter": "python",
   "pygments_lexer": "ipython3",
   "version": "3.9.7"
  }
 },
 "nbformat": 4,
 "nbformat_minor": 4
}

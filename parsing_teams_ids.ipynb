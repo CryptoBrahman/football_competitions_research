{
 "cells": [
  {
   "cell_type": "code",
   "execution_count": 1,
   "metadata": {},
   "outputs": [],
   "source": [
    "import re\n",
    "import pickle\n",
    "import time\n",
    "import requests\n",
    "import pandas as pd\n",
    "from bs4 import BeautifulSoup\n",
    "\n",
    "from _html_parser import HtmlParser\n",
    "\n",
    "pd.set_option('display.max_rows', 500)\n",
    "pd.set_option('display.max_columns', 500)\n",
    "pd.set_option('display.max_colwidth', 500)"
   ]
  },
  {
   "cell_type": "code",
   "execution_count": 2,
   "metadata": {},
   "outputs": [],
   "source": [
    "%load_ext autoreload\n",
    "%autoreload 2"
   ]
  },
  {
   "cell_type": "code",
   "execution_count": 4,
   "metadata": {},
   "outputs": [],
   "source": [
    "with open('pickle_files/teams_data/df_game_ids_na_cities', 'rb') as f:\n",
    "    df_game_ids_na_cities = pickle.load(f)"
   ]
  },
  {
   "cell_type": "code",
   "execution_count": 5,
   "metadata": {},
   "outputs": [],
   "source": [
    "df_game_ids_na_cities.reset_index(drop=True, inplace=True)"
   ]
  },
  {
   "cell_type": "code",
   "execution_count": 6,
   "metadata": {},
   "outputs": [
    {
     "data": {
      "text/html": [
       "<div>\n",
       "<style scoped>\n",
       "    .dataframe tbody tr th:only-of-type {\n",
       "        vertical-align: middle;\n",
       "    }\n",
       "\n",
       "    .dataframe tbody tr th {\n",
       "        vertical-align: top;\n",
       "    }\n",
       "\n",
       "    .dataframe thead th {\n",
       "        text-align: right;\n",
       "    }\n",
       "</style>\n",
       "<table border=\"1\" class=\"dataframe\">\n",
       "  <thead>\n",
       "    <tr style=\"text-align: right;\">\n",
       "      <th></th>\n",
       "      <th>game_id</th>\n",
       "      <th>f_com</th>\n",
       "    </tr>\n",
       "  </thead>\n",
       "  <tbody>\n",
       "    <tr>\n",
       "      <th>1338</th>\n",
       "      <td>10917426</td>\n",
       "      <td>SønderjyskE</td>\n",
       "    </tr>\n",
       "    <tr>\n",
       "      <th>1339</th>\n",
       "      <td>10915588</td>\n",
       "      <td>Neftekhimik</td>\n",
       "    </tr>\n",
       "    <tr>\n",
       "      <th>1340</th>\n",
       "      <td>10639504</td>\n",
       "      <td>Tauras</td>\n",
       "    </tr>\n",
       "  </tbody>\n",
       "</table>\n",
       "</div>"
      ],
      "text/plain": [
       "       game_id        f_com\n",
       "1338  10917426  SønderjyskE\n",
       "1339  10915588  Neftekhimik\n",
       "1340  10639504       Tauras"
      ]
     },
     "execution_count": 6,
     "metadata": {},
     "output_type": "execute_result"
    }
   ],
   "source": [
    "df_game_ids_na_cities.tail(3)"
   ]
  },
  {
   "cell_type": "code",
   "execution_count": 7,
   "metadata": {},
   "outputs": [
    {
     "data": {
      "text/plain": [
       "['1459330', '1459333']"
      ]
     },
     "execution_count": 7,
     "metadata": {},
     "output_type": "execute_result"
    }
   ],
   "source": [
    "str_inds = [str(x) for x in df_game_ids_na_cities.game_id]\n",
    "str_inds[:2]"
   ]
  },
  {
   "cell_type": "code",
   "execution_count": 9,
   "metadata": {},
   "outputs": [],
   "source": [
    "# HtmlParser.find_teams_ids(str_inds[1001:])"
   ]
  },
  {
   "cell_type": "code",
   "execution_count": 11,
   "metadata": {},
   "outputs": [],
   "source": [
    "with open('pickle_files/teams_data/teams_ids_na_cities_14198781', 'rb') as f:\n",
    "    teams_ids_1 = pickle.load(f)"
   ]
  },
  {
   "cell_type": "code",
   "execution_count": 12,
   "metadata": {},
   "outputs": [],
   "source": [
    "with open('pickle_files/teams_data/teams_ids_na_cities_10639504', 'rb') as f:\n",
    "    teams_ids_2 = pickle.load(f)"
   ]
  },
  {
   "cell_type": "code",
   "execution_count": 13,
   "metadata": {},
   "outputs": [],
   "source": [
    "teams_ids = teams_ids_1 + teams_ids_2"
   ]
  },
  {
   "cell_type": "code",
   "execution_count": 14,
   "metadata": {},
   "outputs": [],
   "source": [
    "df_teams_ids = pd.DataFrame(teams_ids, columns=['team_id', 'team'])\n",
    "df_teams_ids.reset_index(inplace=True)\n",
    "df_teams_ids.drop_duplicates(subset='team', keep='first', inplace=True)"
   ]
  },
  {
   "cell_type": "code",
   "execution_count": 15,
   "metadata": {},
   "outputs": [],
   "source": [
    "tm_ids = df_teams_ids.team_id.values"
   ]
  },
  {
   "cell_type": "code",
   "execution_count": 16,
   "metadata": {},
   "outputs": [],
   "source": [
    "# HtmlParser.find_teams_data(tm_ids)"
   ]
  },
  {
   "cell_type": "code",
   "execution_count": 17,
   "metadata": {},
   "outputs": [],
   "source": [
    "with open('pickle_files/teams_data/teams_wiki_data_7506', 'rb') as f:\n",
    "    wiki_data = pickle.load(f)"
   ]
  },
  {
   "cell_type": "code",
   "execution_count": 18,
   "metadata": {},
   "outputs": [
    {
     "data": {
      "text/plain": [
       "[('12433',\n",
       "  'FC Polissya Zhytomyr  is a Ukrainian football club based in Zhytomyr, Polesia. As of the 2020–21 season, it will play in the Ukrainian First League, the second tier of Ukrainian football, following promotion from the 2019–20 Ukrainian Second League. Their home were Spartak and Kolos stadiums.')]"
      ]
     },
     "execution_count": 18,
     "metadata": {},
     "output_type": "execute_result"
    }
   ],
   "source": [
    "wiki_data[:1]"
   ]
  },
  {
   "cell_type": "code",
   "execution_count": 19,
   "metadata": {},
   "outputs": [],
   "source": [
    "df_wiki_data = pd.DataFrame(wiki_data, columns=['team_id', 'tm_data'])\n",
    "df_wiki_data = df_wiki_data[df_wiki_data.index.isin(df_teams_ids.index)].copy()\n",
    "df_teams_data = df_teams_ids.merge(df_wiki_data, how='left')\n",
    "df_teams_data = df_teams_data[df_teams_data.tm_data.values != ''].copy()\n",
    "df_teams_data.drop_duplicates(subset='tm_data', keep='first', inplace=True)\n",
    "df_teams_data.index = df_teams_data['index'].values\n",
    "df_teams_data.drop(columns=['index'], inplace=True)\n",
    "df_teams_data = df_teams_data.merge(df_game_ids_na_cities.game_id, how='left', left_index=True, right_index=True)"
   ]
  },
  {
   "cell_type": "code",
   "execution_count": 40,
   "metadata": {},
   "outputs": [
    {
     "name": "stdout",
     "output_type": "stream",
     "text": [
      "1064\n"
     ]
    },
    {
     "data": {
      "text/html": [
       "<div>\n",
       "<style scoped>\n",
       "    .dataframe tbody tr th:only-of-type {\n",
       "        vertical-align: middle;\n",
       "    }\n",
       "\n",
       "    .dataframe tbody tr th {\n",
       "        vertical-align: top;\n",
       "    }\n",
       "\n",
       "    .dataframe thead th {\n",
       "        text-align: right;\n",
       "    }\n",
       "</style>\n",
       "<table border=\"1\" class=\"dataframe\">\n",
       "  <thead>\n",
       "    <tr style=\"text-align: right;\">\n",
       "      <th></th>\n",
       "      <th>team_id</th>\n",
       "      <th>team</th>\n",
       "      <th>tm_data</th>\n",
       "      <th>game_id</th>\n",
       "    </tr>\n",
       "  </thead>\n",
       "  <tbody>\n",
       "    <tr>\n",
       "      <th>1334</th>\n",
       "      <td>7233</td>\n",
       "      <td>Paulista</td>\n",
       "      <td>Paulista Futebol Clube, or Paulista as they are usually called, is a Brazilian football team from Jundiaí, in São Paulo, founded on 17 May 1909. They currently play in the Paulistão Segunda Divisão, the fourth tier of the São Paulo state league.</td>\n",
       "      <td>10862479</td>\n",
       "    </tr>\n",
       "    <tr>\n",
       "      <th>1336</th>\n",
       "      <td>7656</td>\n",
       "      <td>Pacífico</td>\n",
       "      <td>Club Deportivo Pacífico FC is a Peruvian football club. Based in the San Martín de Porres District, in the department of Lima, it plays in Peru's Second Division.</td>\n",
       "      <td>10633613</td>\n",
       "    </tr>\n",
       "    <tr>\n",
       "      <th>1337</th>\n",
       "      <td>7920</td>\n",
       "      <td>Guaratinguetá</td>\n",
       "      <td>Guaratinguetá Futebol Ltda., usually known simply as Guaratinguetá, was a Brazilian football club from Guaratinguetá, São Paulo state.</td>\n",
       "      <td>10625571</td>\n",
       "    </tr>\n",
       "    <tr>\n",
       "      <th>1338</th>\n",
       "      <td>7325</td>\n",
       "      <td>SønderjyskE</td>\n",
       "      <td>SønderjyskE is a Danish sport corporation. They have a football team (SønderjyskE Fodbold, based in Haderslev), two handball teams (SønderjyskE Håndbold, one male based in Sønderborg, one female based in Aabenraa) and an ice hockey team (SønderjyskE Ishockey, based in Vojens).</td>\n",
       "      <td>10917426</td>\n",
       "    </tr>\n",
       "    <tr>\n",
       "      <th>1340</th>\n",
       "      <td>7506</td>\n",
       "      <td>Tauras</td>\n",
       "      <td>FK Tauras is a Lithuanian football team from the city of Tauragė.</td>\n",
       "      <td>10639504</td>\n",
       "    </tr>\n",
       "  </tbody>\n",
       "</table>\n",
       "</div>"
      ],
      "text/plain": [
       "     team_id           team  \\\n",
       "1334    7233       Paulista   \n",
       "1336    7656       Pacífico   \n",
       "1337    7920  Guaratinguetá   \n",
       "1338    7325    SønderjyskE   \n",
       "1340    7506         Tauras   \n",
       "\n",
       "                                                                                                                                                                                                                                                                                    tm_data  \\\n",
       "1334                                  Paulista Futebol Clube, or Paulista as they are usually called, is a Brazilian football team from Jundiaí, in São Paulo, founded on 17 May 1909. They currently play in the Paulistão Segunda Divisão, the fourth tier of the São Paulo state league.   \n",
       "1336                                                                                                                     Club Deportivo Pacífico FC is a Peruvian football club. Based in the San Martín de Porres District, in the department of Lima, it plays in Peru's Second Division.   \n",
       "1337                                                                                                                                                 Guaratinguetá Futebol Ltda., usually known simply as Guaratinguetá, was a Brazilian football club from Guaratinguetá, São Paulo state.   \n",
       "1338  SønderjyskE is a Danish sport corporation. They have a football team (SønderjyskE Fodbold, based in Haderslev), two handball teams (SønderjyskE Håndbold, one male based in Sønderborg, one female based in Aabenraa) and an ice hockey team (SønderjyskE Ishockey, based in Vojens).   \n",
       "1340                                                                                                                                                                                                                      FK Tauras is a Lithuanian football team from the city of Tauragė.   \n",
       "\n",
       "       game_id  \n",
       "1334  10862479  \n",
       "1336  10633613  \n",
       "1337  10625571  \n",
       "1338  10917426  \n",
       "1340  10639504  "
      ]
     },
     "execution_count": 40,
     "metadata": {},
     "output_type": "execute_result"
    }
   ],
   "source": [
    "print(len(df_teams_data))\n",
    "df_teams_data.tail(5)"
   ]
  },
  {
   "cell_type": "code",
   "execution_count": 21,
   "metadata": {},
   "outputs": [],
   "source": [
    "df_teams_na_data = df_game_ids_na_cities[~df_game_ids_na_cities.index.isin(df_teams_data.index.values)].copy()"
   ]
  },
  {
   "cell_type": "code",
   "execution_count": 22,
   "metadata": {},
   "outputs": [
    {
     "data": {
      "text/plain": [
       "(277, 2)"
      ]
     },
     "execution_count": 22,
     "metadata": {},
     "output_type": "execute_result"
    }
   ],
   "source": [
    "df_teams_na_data.shape"
   ]
  },
  {
   "cell_type": "code",
   "execution_count": 23,
   "metadata": {},
   "outputs": [],
   "source": [
    "# teams_data = open('pickle_files/teams_data/df_teams_na_data', 'wb')\n",
    "# pickle.dump(df_teams_na_data, teams_data)  \n",
    "# teams_data.close()"
   ]
  },
  {
   "cell_type": "code",
   "execution_count": 24,
   "metadata": {},
   "outputs": [],
   "source": [
    "data_is_a = df_teams_data.tm_data.map(lambda x: ''.join(HtmlParser.cut_part_of_string(x, 'is a', '\\.')) if re.findall('is a', str(x)) else None)"
   ]
  },
  {
   "cell_type": "code",
   "execution_count": 25,
   "metadata": {},
   "outputs": [],
   "source": [
    "data_based_in = data_is_a.map(lambda x: x if re.findall('(based in)|(city of)|(town of)|(located in)|(club from)|(club in)|(playing in)', str(x)) else None)"
   ]
  },
  {
   "cell_type": "code",
   "execution_count": 26,
   "metadata": {},
   "outputs": [],
   "source": [
    "data_based_in = data_based_in.map(lambda x: ''.join(HtmlParser.cut_part_of_string(x, 'city of ', '$')) if re.findall('city of', str(x)) else x)\n",
    "data_based_in = data_based_in.map(lambda x: ''.join(HtmlParser.cut_part_of_string(x, 'town of ', '$')) if re.findall('town of', str(x)) else x)\n",
    "data_based_in = data_based_in.map(lambda x: ''.join(HtmlParser.cut_part_of_string(x, 'located in ', '$')) if re.findall('located in', str(x)) else x)\n",
    "data_based_in = data_based_in.map(lambda x: ''.join(HtmlParser.cut_part_of_string(x, 'club from ', '$')) if re.findall('club from', str(x)) else x)\n",
    "data_based_in = data_based_in.map(lambda x: ''.join(HtmlParser.cut_part_of_string(x, 'club in ', '$')) if re.findall('club in', str(x)) else x)\n",
    "data_based_in = data_based_in.map(lambda x: ''.join(HtmlParser.cut_part_of_string(x, 'playing in ', '$')) if re.findall('playing in', str(x)) else x)\n",
    "data_based_in = data_based_in.map(lambda x: ''.join(HtmlParser.cut_part_of_string(x, 'based in ', '$')) if re.findall('based in', str(x)) else x)"
   ]
  },
  {
   "cell_type": "code",
   "execution_count": 27,
   "metadata": {},
   "outputs": [],
   "source": [
    "data_based_in = data_based_in.map(lambda x: ''.join(HtmlParser.cut_part_of_string(x, '^', ',')) if re.findall(',', str(x)) else x)"
   ]
  },
  {
   "cell_type": "code",
   "execution_count": 28,
   "metadata": {},
   "outputs": [],
   "source": [
    "# for ind, (x, y) in enumerate(zip(towns_list, t_list)):\n",
    "#     print(ind, x, y)"
   ]
  },
  {
   "cell_type": "code",
   "execution_count": 31,
   "metadata": {},
   "outputs": [],
   "source": [
    "# teams_data = open('pickle_files/teams_data/df_based_in', 'wb')\n",
    "# pickle.dump(df_based_in, teams_data)  \n",
    "# teams_data.close()"
   ]
  },
  {
   "cell_type": "code",
   "execution_count": 34,
   "metadata": {},
   "outputs": [],
   "source": [
    "with open('pickle_files/teams_data/df_based_in', 'rb') as f:\n",
    "    df_based_in = pickle.load(f)"
   ]
  },
  {
   "cell_type": "code",
   "execution_count": 35,
   "metadata": {},
   "outputs": [
    {
     "data": {
      "text/html": [
       "<div>\n",
       "<style scoped>\n",
       "    .dataframe tbody tr th:only-of-type {\n",
       "        vertical-align: middle;\n",
       "    }\n",
       "\n",
       "    .dataframe tbody tr th {\n",
       "        vertical-align: top;\n",
       "    }\n",
       "\n",
       "    .dataframe thead th {\n",
       "        text-align: right;\n",
       "    }\n",
       "</style>\n",
       "<table border=\"1\" class=\"dataframe\">\n",
       "  <thead>\n",
       "    <tr style=\"text-align: right;\">\n",
       "      <th></th>\n",
       "      <th>city</th>\n",
       "    </tr>\n",
       "  </thead>\n",
       "  <tbody>\n",
       "    <tr>\n",
       "      <th>0</th>\n",
       "      <td>Zhytomyr</td>\n",
       "    </tr>\n",
       "    <tr>\n",
       "      <th>1</th>\n",
       "      <td>Kramatorsk</td>\n",
       "    </tr>\n",
       "    <tr>\n",
       "      <th>2</th>\n",
       "      <td>Lincoln</td>\n",
       "    </tr>\n",
       "    <tr>\n",
       "      <th>3</th>\n",
       "      <td>Oss</td>\n",
       "    </tr>\n",
       "    <tr>\n",
       "      <th>4</th>\n",
       "      <td>None</td>\n",
       "    </tr>\n",
       "    <tr>\n",
       "      <th>...</th>\n",
       "      <td>...</td>\n",
       "    </tr>\n",
       "    <tr>\n",
       "      <th>1334</th>\n",
       "      <td>None</td>\n",
       "    </tr>\n",
       "    <tr>\n",
       "      <th>1336</th>\n",
       "      <td>None</td>\n",
       "    </tr>\n",
       "    <tr>\n",
       "      <th>1337</th>\n",
       "      <td>None</td>\n",
       "    </tr>\n",
       "    <tr>\n",
       "      <th>1338</th>\n",
       "      <td>None</td>\n",
       "    </tr>\n",
       "    <tr>\n",
       "      <th>1340</th>\n",
       "      <td>Tauragė</td>\n",
       "    </tr>\n",
       "  </tbody>\n",
       "</table>\n",
       "<p>1064 rows × 1 columns</p>\n",
       "</div>"
      ],
      "text/plain": [
       "            city\n",
       "0       Zhytomyr\n",
       "1     Kramatorsk\n",
       "2        Lincoln\n",
       "3            Oss\n",
       "4           None\n",
       "...          ...\n",
       "1334        None\n",
       "1336        None\n",
       "1337        None\n",
       "1338        None\n",
       "1340     Tauragė\n",
       "\n",
       "[1064 rows x 1 columns]"
      ]
     },
     "execution_count": 35,
     "metadata": {},
     "output_type": "execute_result"
    }
   ],
   "source": [
    "df_based_in"
   ]
  },
  {
   "cell_type": "code",
   "execution_count": 43,
   "metadata": {},
   "outputs": [],
   "source": [
    "df_teams_data = df_teams_data.merge(df_based_in, how='left', left_index=True, right_index=True)"
   ]
  },
  {
   "cell_type": "code",
   "execution_count": 44,
   "metadata": {},
   "outputs": [
    {
     "data": {
      "text/html": [
       "<div>\n",
       "<style scoped>\n",
       "    .dataframe tbody tr th:only-of-type {\n",
       "        vertical-align: middle;\n",
       "    }\n",
       "\n",
       "    .dataframe tbody tr th {\n",
       "        vertical-align: top;\n",
       "    }\n",
       "\n",
       "    .dataframe thead th {\n",
       "        text-align: right;\n",
       "    }\n",
       "</style>\n",
       "<table border=\"1\" class=\"dataframe\">\n",
       "  <thead>\n",
       "    <tr style=\"text-align: right;\">\n",
       "      <th></th>\n",
       "      <th>team_id</th>\n",
       "      <th>team</th>\n",
       "      <th>tm_data</th>\n",
       "      <th>game_id</th>\n",
       "      <th>city</th>\n",
       "    </tr>\n",
       "  </thead>\n",
       "  <tbody>\n",
       "    <tr>\n",
       "      <th>0</th>\n",
       "      <td>12433</td>\n",
       "      <td>Polessya</td>\n",
       "      <td>FC Polissya Zhytomyr  is a Ukrainian football club based in Zhytomyr, Polesia. As of the 2020–21 season, it will play in the Ukrainian First League, the second tier of Ukrainian football, following promotion from the 2019–20 Ukrainian Second League. Their home were Spartak and Kolos stadiums.</td>\n",
       "      <td>1459330</td>\n",
       "      <td>Zhytomyr</td>\n",
       "    </tr>\n",
       "    <tr>\n",
       "      <th>1</th>\n",
       "      <td>7156</td>\n",
       "      <td>Kramatorsk</td>\n",
       "      <td>Football Club Kramatorsk is a professional Ukrainian football club from the city of Kramatorsk in Donetsk Oblast. The club takes its history from a factory team of the Old Kramatorsk Machine-building Plant (SKMZ).</td>\n",
       "      <td>1459333</td>\n",
       "      <td>Kramatorsk</td>\n",
       "    </tr>\n",
       "    <tr>\n",
       "      <th>2</th>\n",
       "      <td>8374</td>\n",
       "      <td>Lincoln City</td>\n",
       "      <td>Lincoln City Football Club is a professional association football club based in the city of Lincoln, Lincolnshire, England. The team compete in EFL League One, the third tier of the English football league system.</td>\n",
       "      <td>1445410</td>\n",
       "      <td>Lincoln</td>\n",
       "    </tr>\n",
       "    <tr>\n",
       "      <th>3</th>\n",
       "      <td>7316</td>\n",
       "      <td>Oss</td>\n",
       "      <td>TOP Oss, is a professional association football club based in the town of Oss, North Brabant, Netherlands, that competes in the Eerste Divisie, the second tier of the Dutch football league system. Founded in 1928 as T.O.P.</td>\n",
       "      <td>1413367</td>\n",
       "      <td>Oss</td>\n",
       "    </tr>\n",
       "    <tr>\n",
       "      <th>4</th>\n",
       "      <td>7736</td>\n",
       "      <td>Sligo Rovers</td>\n",
       "      <td>Sligo Rovers Football Club is an Irish professional football club playing in the Premier Division of the League of Ireland. The club is based in Sligo in the west of Ireland. The club was founded in 1928 and have been in the League of Ireland since 1934.</td>\n",
       "      <td>1521056</td>\n",
       "      <td>None</td>\n",
       "    </tr>\n",
       "    <tr>\n",
       "      <th>...</th>\n",
       "      <td>...</td>\n",
       "      <td>...</td>\n",
       "      <td>...</td>\n",
       "      <td>...</td>\n",
       "      <td>...</td>\n",
       "    </tr>\n",
       "    <tr>\n",
       "      <th>1334</th>\n",
       "      <td>7233</td>\n",
       "      <td>Paulista</td>\n",
       "      <td>Paulista Futebol Clube, or Paulista as they are usually called, is a Brazilian football team from Jundiaí, in São Paulo, founded on 17 May 1909. They currently play in the Paulistão Segunda Divisão, the fourth tier of the São Paulo state league.</td>\n",
       "      <td>10862479</td>\n",
       "      <td>None</td>\n",
       "    </tr>\n",
       "    <tr>\n",
       "      <th>1336</th>\n",
       "      <td>7656</td>\n",
       "      <td>Pacífico</td>\n",
       "      <td>Club Deportivo Pacífico FC is a Peruvian football club. Based in the San Martín de Porres District, in the department of Lima, it plays in Peru's Second Division.</td>\n",
       "      <td>10633613</td>\n",
       "      <td>None</td>\n",
       "    </tr>\n",
       "    <tr>\n",
       "      <th>1337</th>\n",
       "      <td>7920</td>\n",
       "      <td>Guaratinguetá</td>\n",
       "      <td>Guaratinguetá Futebol Ltda., usually known simply as Guaratinguetá, was a Brazilian football club from Guaratinguetá, São Paulo state.</td>\n",
       "      <td>10625571</td>\n",
       "      <td>None</td>\n",
       "    </tr>\n",
       "    <tr>\n",
       "      <th>1338</th>\n",
       "      <td>7325</td>\n",
       "      <td>SønderjyskE</td>\n",
       "      <td>SønderjyskE is a Danish sport corporation. They have a football team (SønderjyskE Fodbold, based in Haderslev), two handball teams (SønderjyskE Håndbold, one male based in Sønderborg, one female based in Aabenraa) and an ice hockey team (SønderjyskE Ishockey, based in Vojens).</td>\n",
       "      <td>10917426</td>\n",
       "      <td>None</td>\n",
       "    </tr>\n",
       "    <tr>\n",
       "      <th>1340</th>\n",
       "      <td>7506</td>\n",
       "      <td>Tauras</td>\n",
       "      <td>FK Tauras is a Lithuanian football team from the city of Tauragė.</td>\n",
       "      <td>10639504</td>\n",
       "      <td>Tauragė</td>\n",
       "    </tr>\n",
       "  </tbody>\n",
       "</table>\n",
       "<p>1064 rows × 5 columns</p>\n",
       "</div>"
      ],
      "text/plain": [
       "     team_id           team  \\\n",
       "0      12433       Polessya   \n",
       "1       7156     Kramatorsk   \n",
       "2       8374   Lincoln City   \n",
       "3       7316            Oss   \n",
       "4       7736   Sligo Rovers   \n",
       "...      ...            ...   \n",
       "1334    7233       Paulista   \n",
       "1336    7656       Pacífico   \n",
       "1337    7920  Guaratinguetá   \n",
       "1338    7325    SønderjyskE   \n",
       "1340    7506         Tauras   \n",
       "\n",
       "                                                                                                                                                                                                                                                                                                    tm_data  \\\n",
       "0     FC Polissya Zhytomyr  is a Ukrainian football club based in Zhytomyr, Polesia. As of the 2020–21 season, it will play in the Ukrainian First League, the second tier of Ukrainian football, following promotion from the 2019–20 Ukrainian Second League. Their home were Spartak and Kolos stadiums.   \n",
       "1                                                                                     Football Club Kramatorsk is a professional Ukrainian football club from the city of Kramatorsk in Donetsk Oblast. The club takes its history from a factory team of the Old Kramatorsk Machine-building Plant (SKMZ).   \n",
       "2                                                                                     Lincoln City Football Club is a professional association football club based in the city of Lincoln, Lincolnshire, England. The team compete in EFL League One, the third tier of the English football league system.   \n",
       "3                                                                            TOP Oss, is a professional association football club based in the town of Oss, North Brabant, Netherlands, that competes in the Eerste Divisie, the second tier of the Dutch football league system. Founded in 1928 as T.O.P.   \n",
       "4                                            Sligo Rovers Football Club is an Irish professional football club playing in the Premier Division of the League of Ireland. The club is based in Sligo in the west of Ireland. The club was founded in 1928 and have been in the League of Ireland since 1934.   \n",
       "...                                                                                                                                                                                                                                                                                                     ...   \n",
       "1334                                                  Paulista Futebol Clube, or Paulista as they are usually called, is a Brazilian football team from Jundiaí, in São Paulo, founded on 17 May 1909. They currently play in the Paulistão Segunda Divisão, the fourth tier of the São Paulo state league.   \n",
       "1336                                                                                                                                     Club Deportivo Pacífico FC is a Peruvian football club. Based in the San Martín de Porres District, in the department of Lima, it plays in Peru's Second Division.   \n",
       "1337                                                                                                                                                                 Guaratinguetá Futebol Ltda., usually known simply as Guaratinguetá, was a Brazilian football club from Guaratinguetá, São Paulo state.   \n",
       "1338                  SønderjyskE is a Danish sport corporation. They have a football team (SønderjyskE Fodbold, based in Haderslev), two handball teams (SønderjyskE Håndbold, one male based in Sønderborg, one female based in Aabenraa) and an ice hockey team (SønderjyskE Ishockey, based in Vojens).   \n",
       "1340                                                                                                                                                                                                                                      FK Tauras is a Lithuanian football team from the city of Tauragė.   \n",
       "\n",
       "       game_id        city  \n",
       "0      1459330    Zhytomyr  \n",
       "1      1459333  Kramatorsk  \n",
       "2      1445410     Lincoln  \n",
       "3      1413367         Oss  \n",
       "4      1521056        None  \n",
       "...        ...         ...  \n",
       "1334  10862479        None  \n",
       "1336  10633613        None  \n",
       "1337  10625571        None  \n",
       "1338  10917426        None  \n",
       "1340  10639504     Tauragė  \n",
       "\n",
       "[1064 rows x 5 columns]"
      ]
     },
     "execution_count": 44,
     "metadata": {},
     "output_type": "execute_result"
    }
   ],
   "source": [
    "df_teams_data"
   ]
  },
  {
   "cell_type": "code",
   "execution_count": 1,
   "metadata": {},
   "outputs": [],
   "source": [
    "# df_teams_data.to_csv('csv_files/df_teams_data.csv', index = None, header=True)"
   ]
  },
  {
   "cell_type": "code",
   "execution_count": 32,
   "metadata": {},
   "outputs": [
    {
     "data": {
      "text/plain": [
       "[is a]          955\n",
       "[]               84\n",
       "[is a, is a]     25\n",
       "Name: tm_data, dtype: int64"
      ]
     },
     "execution_count": 32,
     "metadata": {},
     "output_type": "execute_result"
    }
   ],
   "source": [
    "tmp = df_teams_data.tm_data.map(lambda x: re.findall('is a', str(x)))\n",
    "tmp.value_counts()"
   ]
  },
  {
   "cell_type": "code",
   "execution_count": 33,
   "metadata": {},
   "outputs": [
    {
     "data": {
      "text/plain": [
       "[based in]                                  692\n",
       "[]                                          365\n",
       "[based in, based in]                          5\n",
       "[based in, based in, based in]                1\n",
       "[based in, based in, based in, based in]      1\n",
       "Name: tm_data, dtype: int64"
      ]
     },
     "execution_count": 33,
     "metadata": {},
     "output_type": "execute_result"
    }
   ],
   "source": [
    "tmp = df_teams_data.tm_data.map(lambda x: re.findall('based in', str(x)))\n",
    "tmp.value_counts()"
   ]
  },
  {
   "cell_type": "code",
   "execution_count": null,
   "metadata": {},
   "outputs": [],
   "source": []
  },
  {
   "cell_type": "code",
   "execution_count": null,
   "metadata": {},
   "outputs": [],
   "source": []
  }
 ],
 "metadata": {
  "kernelspec": {
   "display_name": "Python 3 (ipykernel)",
   "language": "python",
   "name": "python3"
  },
  "language_info": {
   "codemirror_mode": {
    "name": "ipython",
    "version": 3
   },
   "file_extension": ".py",
   "mimetype": "text/x-python",
   "name": "python",
   "nbconvert_exporter": "python",
   "pygments_lexer": "ipython3",
   "version": "3.9.7"
  }
 },
 "nbformat": 4,
 "nbformat_minor": 4
}

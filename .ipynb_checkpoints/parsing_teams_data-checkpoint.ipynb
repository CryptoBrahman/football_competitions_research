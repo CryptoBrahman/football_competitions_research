{
 "cells": [
  {
   "cell_type": "code",
   "execution_count": 1,
   "metadata": {},
   "outputs": [],
   "source": [
    "import re\n",
    "import pickle\n",
    "import time\n",
    "import requests\n",
    "import pandas as pd\n",
    "from bs4 import BeautifulSoup\n",
    "\n",
    "from _html_parser import HtmlParser\n",
    "\n",
    "pd.set_option('display.max_rows', 500)\n",
    "pd.set_option('display.max_columns', 500)\n",
    "pd.set_option('display.max_colwidth', 500)"
   ]
  },
  {
   "cell_type": "code",
   "execution_count": 2,
   "metadata": {},
   "outputs": [],
   "source": [
    "%load_ext autoreload\n",
    "%autoreload 2"
   ]
  },
  {
   "cell_type": "code",
   "execution_count": 20,
   "metadata": {},
   "outputs": [],
   "source": [
    "with open('pickle_files/teams_data/tmd_26_05_2022/df_teams_cities_na_26_05_2022_third', 'rb') as f:\n",
    "    df_game_ids_na_cities = pickle.load(f)"
   ]
  },
  {
   "cell_type": "code",
   "execution_count": 6,
   "metadata": {},
   "outputs": [
    {
     "name": "stdout",
     "output_type": "stream",
     "text": [
      "shape -  149\n"
     ]
    },
    {
     "data": {
      "text/plain": [
       "array(['Nepal', 'Sinalunghese', 'Coimbra'], dtype=object)"
      ]
     },
     "execution_count": 6,
     "metadata": {},
     "output_type": "execute_result"
    }
   ],
   "source": [
    "teams_for_ids = df_game_ids_na_cities.f_team.values\n",
    "print('shape - ', len(teams_for_ids))\n",
    "teams_for_ids[-3:]"
   ]
  },
  {
   "cell_type": "markdown",
   "metadata": {},
   "source": [
    "#### Parsing teams ids"
   ]
  },
  {
   "cell_type": "code",
   "execution_count": 7,
   "metadata": {},
   "outputs": [
    {
     "name": "stdout",
     "output_type": "stream",
     "text": [
      "Current_1000_teams_ids_saved - Coimbra\n",
      "Teams ids saved with last name: Coimbra\n"
     ]
    }
   ],
   "source": [
    "HtmlParser.find_teams_ids(teams_for_ids) "
   ]
  },
  {
   "cell_type": "code",
   "execution_count": 8,
   "metadata": {},
   "outputs": [],
   "source": [
    "with open('pickle_files/teams_data/tmd_26_05_2022/teams_ids_na_cities_Coimbra', 'rb') as f:\n",
    "    lst_teams_ids = pickle.load(f)"
   ]
  },
  {
   "cell_type": "code",
   "execution_count": 9,
   "metadata": {},
   "outputs": [
    {
     "name": "stdout",
     "output_type": "stream",
     "text": [
      "shape -  149\n"
     ]
    },
    {
     "data": {
      "text/plain": [
       "[['Nepal', '7107'], ['Sinalunghese', '19864'], ['Coimbra', '14892']]"
      ]
     },
     "execution_count": 9,
     "metadata": {},
     "output_type": "execute_result"
    }
   ],
   "source": [
    "print('shape - ', len(lst_teams_ids))\n",
    "lst_teams_ids[-3:]"
   ]
  },
  {
   "cell_type": "code",
   "execution_count": 10,
   "metadata": {},
   "outputs": [],
   "source": [
    "teams_ids = [x[1] for x in lst_teams_ids if x[1] is not None]"
   ]
  },
  {
   "cell_type": "code",
   "execution_count": 11,
   "metadata": {},
   "outputs": [
    {
     "name": "stdout",
     "output_type": "stream",
     "text": [
      "shape -  136\n"
     ]
    },
    {
     "data": {
      "text/plain": [
       "['7107', '19864', '14892']"
      ]
     },
     "execution_count": 11,
     "metadata": {},
     "output_type": "execute_result"
    }
   ],
   "source": [
    "print('shape - ', len(teams_ids))\n",
    "teams_ids[-3:]"
   ]
  },
  {
   "cell_type": "code",
   "execution_count": 12,
   "metadata": {},
   "outputs": [],
   "source": [
    "lst_teams_wt_id = [x[0] for x in lst_teams_ids if x[1] is None]"
   ]
  },
  {
   "cell_type": "code",
   "execution_count": 13,
   "metadata": {},
   "outputs": [
    {
     "name": "stdout",
     "output_type": "stream",
     "text": [
      "shape -  13\n"
     ]
    },
    {
     "data": {
      "text/plain": [
       "['Minaj U19', 'Belaya Rus', 'Sputnik Rechitsa']"
      ]
     },
     "execution_count": 13,
     "metadata": {},
     "output_type": "execute_result"
    }
   ],
   "source": [
    "print('shape - ', len(lst_teams_wt_id))\n",
    "lst_teams_wt_id[-3:]"
   ]
  },
  {
   "cell_type": "code",
   "execution_count": 14,
   "metadata": {},
   "outputs": [],
   "source": [
    "# file = open('pickle_files/teams_data/lst_teams_wt_id_main', 'wb')\n",
    "# pickle.dump(lst_teams_wt_id, file)  \n",
    "# file.close()"
   ]
  },
  {
   "cell_type": "code",
   "execution_count": 14,
   "metadata": {},
   "outputs": [],
   "source": [
    "df_teams_ids           = pd.DataFrame(columns=['teams_ids', 'team'])\n",
    "df_teams_ids.teams_ids = [x[1] for x in lst_teams_ids]\n",
    "df_teams_ids.team      = [x[0] for x in lst_teams_ids]"
   ]
  },
  {
   "cell_type": "code",
   "execution_count": 15,
   "metadata": {},
   "outputs": [],
   "source": [
    "df_teams_ids = df_teams_ids.merge(df_game_ids_na_cities.country, how='left', left_index=True, right_index=True)"
   ]
  },
  {
   "cell_type": "code",
   "execution_count": 25,
   "metadata": {},
   "outputs": [
    {
     "data": {
      "text/html": [
       "<div>\n",
       "<style scoped>\n",
       "    .dataframe tbody tr th:only-of-type {\n",
       "        vertical-align: middle;\n",
       "    }\n",
       "\n",
       "    .dataframe tbody tr th {\n",
       "        vertical-align: top;\n",
       "    }\n",
       "\n",
       "    .dataframe thead th {\n",
       "        text-align: right;\n",
       "    }\n",
       "</style>\n",
       "<table border=\"1\" class=\"dataframe\">\n",
       "  <thead>\n",
       "    <tr style=\"text-align: right;\">\n",
       "      <th></th>\n",
       "      <th>teams_ids</th>\n",
       "      <th>team</th>\n",
       "      <th>country</th>\n",
       "    </tr>\n",
       "  </thead>\n",
       "  <tbody>\n",
       "    <tr>\n",
       "      <th>0</th>\n",
       "      <td>None</td>\n",
       "      <td>Lillestrøm</td>\n",
       "      <td>Norway</td>\n",
       "    </tr>\n",
       "    <tr>\n",
       "      <th>1</th>\n",
       "      <td>8631</td>\n",
       "      <td>HIFK</td>\n",
       "      <td>Finland</td>\n",
       "    </tr>\n",
       "    <tr>\n",
       "      <th>2</th>\n",
       "      <td>7556</td>\n",
       "      <td>Drogheda United</td>\n",
       "      <td>Republic of Ireland</td>\n",
       "    </tr>\n",
       "  </tbody>\n",
       "</table>\n",
       "</div>"
      ],
      "text/plain": [
       "  teams_ids             team              country\n",
       "0      None       Lillestrøm               Norway\n",
       "1      8631             HIFK              Finland\n",
       "2      7556  Drogheda United  Republic of Ireland"
      ]
     },
     "execution_count": 25,
     "metadata": {},
     "output_type": "execute_result"
    }
   ],
   "source": [
    "df_teams_ids.head(3)"
   ]
  },
  {
   "cell_type": "markdown",
   "metadata": {},
   "source": [
    "#### Parsing teams data"
   ]
  },
  {
   "cell_type": "code",
   "execution_count": 26,
   "metadata": {},
   "outputs": [
    {
     "name": "stdout",
     "output_type": "stream",
     "text": [
      "Current_500_teams_data_saved - 14892\n",
      "Teams data saved with last id: 14892\n"
     ]
    }
   ],
   "source": [
    "HtmlParser.find_teams_data(teams_ids[:])"
   ]
  },
  {
   "cell_type": "code",
   "execution_count": 27,
   "metadata": {},
   "outputs": [],
   "source": [
    "# teams_wiki_data_8636, teams_wiki_data_12683, teams_wiki_data_14892\n",
    "with open('pickle_files/teams_data/tmd_26_05_2022/teams_wiki_data_14892', 'rb') as f:\n",
    "    wiki_data = pickle.load(f)"
   ]
  },
  {
   "cell_type": "code",
   "execution_count": 28,
   "metadata": {},
   "outputs": [
    {
     "data": {
      "text/plain": [
       "136"
      ]
     },
     "execution_count": 28,
     "metadata": {},
     "output_type": "execute_result"
    }
   ],
   "source": [
    "len(wiki_data)"
   ]
  },
  {
   "cell_type": "code",
   "execution_count": 29,
   "metadata": {},
   "outputs": [
    {
     "data": {
      "text/plain": [
       "[('8228',\n",
       "  'Finn Harps Football Club are an Irish football club that play in the Premier Division of the League of Ireland, as of 2020. The club was founded in 1954 and elected to the league in 1969. However, it was technically founded on 30 November 1953.')]"
      ]
     },
     "execution_count": 29,
     "metadata": {},
     "output_type": "execute_result"
    }
   ],
   "source": [
    "wiki_data[2:3]"
   ]
  },
  {
   "cell_type": "code",
   "execution_count": 30,
   "metadata": {},
   "outputs": [],
   "source": [
    "df_wiki_data  = pd.DataFrame(wiki_data, columns=['teams_ids', 'tm_data'])\n",
    "df_teams_data = df_teams_ids.merge(df_wiki_data, how='left', left_on='teams_ids', right_on='teams_ids')"
   ]
  },
  {
   "cell_type": "code",
   "execution_count": 31,
   "metadata": {},
   "outputs": [],
   "source": [
    "df_teams_data.drop_duplicates(subset=['teams_ids', 'team'], inplace=True)\n",
    "df_teams_data.reset_index(drop=True, inplace=True)"
   ]
  },
  {
   "cell_type": "code",
   "execution_count": 33,
   "metadata": {},
   "outputs": [],
   "source": [
    "# df_teams_data"
   ]
  },
  {
   "cell_type": "markdown",
   "metadata": {},
   "source": [
    "#### Data clear"
   ]
  },
  {
   "cell_type": "code",
   "execution_count": 34,
   "metadata": {},
   "outputs": [],
   "source": [
    "data_is_a = df_teams_data.tm_data.map(lambda x: ''.join(HtmlParser.cut_part_of_string(x, 'is a', '\\.')) if re.findall('is a', str(x)) else None)"
   ]
  },
  {
   "cell_type": "code",
   "execution_count": 35,
   "metadata": {},
   "outputs": [],
   "source": [
    "data_based_in = data_is_a.map(lambda x: x if re.findall('(based in)|(city of)|(town of)|(located in)|(club from)|(club in)|(playing in)', str(x)) else None)"
   ]
  },
  {
   "cell_type": "code",
   "execution_count": 36,
   "metadata": {},
   "outputs": [],
   "source": [
    "data_based_in = data_based_in.map(lambda x: ''.join(HtmlParser.cut_part_of_string(x, 'city of ', '$')) if re.findall('city of', str(x)) else x)\n",
    "data_based_in = data_based_in.map(lambda x: ''.join(HtmlParser.cut_part_of_string(x, 'town of ', '$')) if re.findall('town of', str(x)) else x)\n",
    "data_based_in = data_based_in.map(lambda x: ''.join(HtmlParser.cut_part_of_string(x, 'located in ', '$')) if re.findall('located in', str(x)) else x)\n",
    "data_based_in = data_based_in.map(lambda x: ''.join(HtmlParser.cut_part_of_string(x, 'club from ', '$')) if re.findall('club from', str(x)) else x)\n",
    "data_based_in = data_based_in.map(lambda x: ''.join(HtmlParser.cut_part_of_string(x, 'club in ', '$')) if re.findall('club in', str(x)) else x)\n",
    "data_based_in = data_based_in.map(lambda x: ''.join(HtmlParser.cut_part_of_string(x, 'playing in ', '$')) if re.findall('playing in', str(x)) else x)\n",
    "data_based_in = data_based_in.map(lambda x: ''.join(HtmlParser.cut_part_of_string(x, 'based in ', '$')) if re.findall('based in', str(x)) else x)"
   ]
  },
  {
   "cell_type": "code",
   "execution_count": 37,
   "metadata": {},
   "outputs": [],
   "source": [
    "data_based_in = data_based_in.map(lambda x: ''.join(HtmlParser.cut_part_of_string(x, '^', ',')) if re.findall(',', str(x)) else x)"
   ]
  },
  {
   "cell_type": "code",
   "execution_count": 39,
   "metadata": {},
   "outputs": [],
   "source": [
    "# data_based_in"
   ]
  },
  {
   "cell_type": "code",
   "execution_count": 40,
   "metadata": {},
   "outputs": [],
   "source": [
    "df_teams_data['city'] = data_based_in.values"
   ]
  },
  {
   "cell_type": "code",
   "execution_count": 41,
   "metadata": {},
   "outputs": [
    {
     "name": "stdout",
     "output_type": "stream",
     "text": [
      "shape -  149\n"
     ]
    },
    {
     "data": {
      "text/html": [
       "<div>\n",
       "<style scoped>\n",
       "    .dataframe tbody tr th:only-of-type {\n",
       "        vertical-align: middle;\n",
       "    }\n",
       "\n",
       "    .dataframe tbody tr th {\n",
       "        vertical-align: top;\n",
       "    }\n",
       "\n",
       "    .dataframe thead th {\n",
       "        text-align: right;\n",
       "    }\n",
       "</style>\n",
       "<table border=\"1\" class=\"dataframe\">\n",
       "  <thead>\n",
       "    <tr style=\"text-align: right;\">\n",
       "      <th></th>\n",
       "      <th>teams_ids</th>\n",
       "      <th>team</th>\n",
       "      <th>country</th>\n",
       "      <th>tm_data</th>\n",
       "      <th>city</th>\n",
       "    </tr>\n",
       "  </thead>\n",
       "  <tbody>\n",
       "    <tr>\n",
       "      <th>0</th>\n",
       "      <td>None</td>\n",
       "      <td>Lillestrøm</td>\n",
       "      <td>Norway</td>\n",
       "      <td>NaN</td>\n",
       "      <td>None</td>\n",
       "    </tr>\n",
       "    <tr>\n",
       "      <th>1</th>\n",
       "      <td>8631</td>\n",
       "      <td>HIFK</td>\n",
       "      <td>Finland</td>\n",
       "      <td>HIFK, the Idrottsföreningen Kamraterna, Helsingfors (IFK, Helsingfors) rf (officially abbreviated IFK Helsingfors, colloquially often Helsingfors IFK or Helsingin IFK ) is a multi-sport association based in Helsinki, Finland.</td>\n",
       "      <td>Helsinki</td>\n",
       "    </tr>\n",
       "    <tr>\n",
       "      <th>2</th>\n",
       "      <td>7556</td>\n",
       "      <td>Drogheda United</td>\n",
       "      <td>Republic of Ireland</td>\n",
       "      <td>Drogheda United Football Club is an Irish association football club based in Drogheda, County Louth playing in the League of Ireland Premier Division. They play their home matches at Head In The Game Park.</td>\n",
       "      <td>the League of Ireland Premier Division</td>\n",
       "    </tr>\n",
       "  </tbody>\n",
       "</table>\n",
       "</div>"
      ],
      "text/plain": [
       "  teams_ids             team              country  \\\n",
       "0      None       Lillestrøm               Norway   \n",
       "1      8631             HIFK              Finland   \n",
       "2      7556  Drogheda United  Republic of Ireland   \n",
       "\n",
       "                                                                                                                                                                                                                             tm_data  \\\n",
       "0                                                                                                                                                                                                                                NaN   \n",
       "1  HIFK, the Idrottsföreningen Kamraterna, Helsingfors (IFK, Helsingfors) rf (officially abbreviated IFK Helsingfors, colloquially often Helsingfors IFK or Helsingin IFK ) is a multi-sport association based in Helsinki, Finland.   \n",
       "2                      Drogheda United Football Club is an Irish association football club based in Drogheda, County Louth playing in the League of Ireland Premier Division. They play their home matches at Head In The Game Park.   \n",
       "\n",
       "                                     city  \n",
       "0                                    None  \n",
       "1                                Helsinki  \n",
       "2  the League of Ireland Premier Division  "
      ]
     },
     "execution_count": 41,
     "metadata": {},
     "output_type": "execute_result"
    }
   ],
   "source": [
    "print('shape - ', df_teams_data.shape[0])\n",
    "df_teams_data.head(3)"
   ]
  },
  {
   "cell_type": "code",
   "execution_count": 43,
   "metadata": {},
   "outputs": [],
   "source": [
    "# df_teams_data.to_csv('csv_files/df_teams_data_26_05_2022_third.csv', index = None, header=True)"
   ]
  },
  {
   "cell_type": "markdown",
   "metadata": {},
   "source": [
    "#### Work after manual correct"
   ]
  },
  {
   "cell_type": "code",
   "execution_count": 58,
   "metadata": {},
   "outputs": [],
   "source": [
    "colnames = ['teams_ids', 'team', 'country', 'tm_data', 'city']"
   ]
  },
  {
   "cell_type": "code",
   "execution_count": 59,
   "metadata": {},
   "outputs": [],
   "source": [
    "df_after_corr = pd.read_csv('csv_files/df_teams_data_26_05_2022_sec.csv', names=colnames, header=None)"
   ]
  },
  {
   "cell_type": "code",
   "execution_count": 62,
   "metadata": {},
   "outputs": [
    {
     "data": {
      "text/html": [
       "<div>\n",
       "<style scoped>\n",
       "    .dataframe tbody tr th:only-of-type {\n",
       "        vertical-align: middle;\n",
       "    }\n",
       "\n",
       "    .dataframe tbody tr th {\n",
       "        vertical-align: top;\n",
       "    }\n",
       "\n",
       "    .dataframe thead th {\n",
       "        text-align: right;\n",
       "    }\n",
       "</style>\n",
       "<table border=\"1\" class=\"dataframe\">\n",
       "  <thead>\n",
       "    <tr style=\"text-align: right;\">\n",
       "      <th></th>\n",
       "      <th>teams_ids</th>\n",
       "      <th>team</th>\n",
       "      <th>country</th>\n",
       "      <th>tm_data</th>\n",
       "      <th>city</th>\n",
       "    </tr>\n",
       "  </thead>\n",
       "  <tbody>\n",
       "  </tbody>\n",
       "</table>\n",
       "</div>"
      ],
      "text/plain": [
       "Empty DataFrame\n",
       "Columns: [teams_ids, team, country, tm_data, city]\n",
       "Index: []"
      ]
     },
     "execution_count": 62,
     "metadata": {},
     "output_type": "execute_result"
    }
   ],
   "source": [
    "df_after_corr[df_after_corr.teams_ids == 'teams_ids']"
   ]
  },
  {
   "cell_type": "code",
   "execution_count": 65,
   "metadata": {},
   "outputs": [],
   "source": [
    "df_after_corr.drop(1293, inplace=True)"
   ]
  },
  {
   "cell_type": "code",
   "execution_count": 66,
   "metadata": {},
   "outputs": [],
   "source": [
    "df_after_corr.reset_index(drop=True, inplace=True)"
   ]
  },
  {
   "cell_type": "code",
   "execution_count": 67,
   "metadata": {},
   "outputs": [
    {
     "data": {
      "text/html": [
       "<div>\n",
       "<style scoped>\n",
       "    .dataframe tbody tr th:only-of-type {\n",
       "        vertical-align: middle;\n",
       "    }\n",
       "\n",
       "    .dataframe tbody tr th {\n",
       "        vertical-align: top;\n",
       "    }\n",
       "\n",
       "    .dataframe thead th {\n",
       "        text-align: right;\n",
       "    }\n",
       "</style>\n",
       "<table border=\"1\" class=\"dataframe\">\n",
       "  <thead>\n",
       "    <tr style=\"text-align: right;\">\n",
       "      <th></th>\n",
       "      <th>teams_ids</th>\n",
       "      <th>team</th>\n",
       "      <th>country</th>\n",
       "      <th>tm_data</th>\n",
       "      <th>city</th>\n",
       "    </tr>\n",
       "  </thead>\n",
       "  <tbody>\n",
       "    <tr>\n",
       "      <th>0</th>\n",
       "      <td>7998</td>\n",
       "      <td>Magdeburg</td>\n",
       "      <td>Germany</td>\n",
       "      <td>1. FC Magdeburg is a German association football club based in the city of Magdeburg. The club was founded in 1965 and spent all but one season in East Germany top flight, the DDR-Oberliga, winning three championships and seven cup titles.</td>\n",
       "      <td>Magdeburg</td>\n",
       "    </tr>\n",
       "    <tr>\n",
       "      <th>1</th>\n",
       "      <td>9863</td>\n",
       "      <td>Koln II</td>\n",
       "      <td>Germany</td>\n",
       "      <td>1. Fußball-Club Köln 01/07 e. V. II, commonly known as simply 1. FC Köln II, is a German football team based in Cologne. It is the reserve team of German association football club 1. FC Köln.</td>\n",
       "      <td>Cologne</td>\n",
       "    </tr>\n",
       "    <tr>\n",
       "      <th>2</th>\n",
       "      <td>8056</td>\n",
       "      <td>Lokomotive Leipzig</td>\n",
       "      <td>Germany</td>\n",
       "      <td>1. Fußballclub Lokomotive Leipzig e.V. is a German football club based in the locality of Probstheida in the Südost borough of Leipzig, Saxony. The club may be more familiar to many of the country's football fans as the historic side VfB Leipzig the first national champion of Germany.</td>\n",
       "      <td>Leipzig</td>\n",
       "    </tr>\n",
       "    <tr>\n",
       "      <th>3</th>\n",
       "      <td>14511</td>\n",
       "      <td>Navad Urmia</td>\n",
       "      <td>Iran</td>\n",
       "      <td>90 Urmia Football Club is a professional football club based in Urmia, Iran actually  playing in the second tier Azadegan League. The club was founded in 2011 and joined the Azadegan League in August of 2018, after the transfer of Gostaresh Foulad F.C. to the city of Urmia.</td>\n",
       "      <td>Urmia</td>\n",
       "    </tr>\n",
       "    <tr>\n",
       "      <th>4</th>\n",
       "      <td>10571</td>\n",
       "      <td>Trento</td>\n",
       "      <td>Italy</td>\n",
       "      <td>A.C. Trento 1921 S.S.D. is an Italian football club, and the major club in Trento. Currently they play in Serie C Group A. In 2014 Società Sportiva Dilettantistica Trento Calcio 1921 S.r.l. went bankrupt. The sports title was transferred to A.C. Trento S.C.S.D.</td>\n",
       "      <td>Trento</td>\n",
       "    </tr>\n",
       "    <tr>\n",
       "      <th>...</th>\n",
       "      <td>...</td>\n",
       "      <td>...</td>\n",
       "      <td>...</td>\n",
       "      <td>...</td>\n",
       "      <td>...</td>\n",
       "    </tr>\n",
       "    <tr>\n",
       "      <th>1288</th>\n",
       "      <td>NaN</td>\n",
       "      <td>EPS</td>\n",
       "      <td>Finland</td>\n",
       "      <td>NaN</td>\n",
       "      <td>Espoo</td>\n",
       "    </tr>\n",
       "    <tr>\n",
       "      <th>1289</th>\n",
       "      <td>NaN</td>\n",
       "      <td>Ilves-Kissat</td>\n",
       "      <td>Finland</td>\n",
       "      <td>NaN</td>\n",
       "      <td>Tampere</td>\n",
       "    </tr>\n",
       "    <tr>\n",
       "      <th>1290</th>\n",
       "      <td>15282</td>\n",
       "      <td>RoPS II</td>\n",
       "      <td>Finland</td>\n",
       "      <td>NaN</td>\n",
       "      <td>Rovaniemi</td>\n",
       "    </tr>\n",
       "    <tr>\n",
       "      <th>1291</th>\n",
       "      <td>NaN</td>\n",
       "      <td>Atletico Cali</td>\n",
       "      <td>Colombia</td>\n",
       "      <td>NaN</td>\n",
       "      <td>Cali</td>\n",
       "    </tr>\n",
       "    <tr>\n",
       "      <th>1292</th>\n",
       "      <td>12683</td>\n",
       "      <td>Radnicki Pirot</td>\n",
       "      <td>Serbia</td>\n",
       "      <td>NaN</td>\n",
       "      <td>Pirot</td>\n",
       "    </tr>\n",
       "  </tbody>\n",
       "</table>\n",
       "<p>1293 rows × 5 columns</p>\n",
       "</div>"
      ],
      "text/plain": [
       "     teams_ids                team   country  \\\n",
       "0         7998           Magdeburg   Germany   \n",
       "1         9863             Koln II   Germany   \n",
       "2         8056  Lokomotive Leipzig   Germany   \n",
       "3        14511         Navad Urmia      Iran   \n",
       "4        10571              Trento     Italy   \n",
       "...        ...                 ...       ...   \n",
       "1288       NaN                 EPS   Finland   \n",
       "1289       NaN        Ilves-Kissat   Finland   \n",
       "1290     15282             RoPS II   Finland   \n",
       "1291       NaN       Atletico Cali  Colombia   \n",
       "1292     12683      Radnicki Pirot    Serbia   \n",
       "\n",
       "                                                                                                                                                                                                                                                                                            tm_data  \\\n",
       "0                                                   1. FC Magdeburg is a German association football club based in the city of Magdeburg. The club was founded in 1965 and spent all but one season in East Germany top flight, the DDR-Oberliga, winning three championships and seven cup titles.   \n",
       "1                                                                                                   1. Fußball-Club Köln 01/07 e. V. II, commonly known as simply 1. FC Köln II, is a German football team based in Cologne. It is the reserve team of German association football club 1. FC Köln.   \n",
       "2     1. Fußballclub Lokomotive Leipzig e.V. is a German football club based in the locality of Probstheida in the Südost borough of Leipzig, Saxony. The club may be more familiar to many of the country's football fans as the historic side VfB Leipzig the first national champion of Germany.   \n",
       "3                90 Urmia Football Club is a professional football club based in Urmia, Iran actually  playing in the second tier Azadegan League. The club was founded in 2011 and joined the Azadegan League in August of 2018, after the transfer of Gostaresh Foulad F.C. to the city of Urmia.   \n",
       "4                             A.C. Trento 1921 S.S.D. is an Italian football club, and the major club in Trento. Currently they play in Serie C Group A. In 2014 Società Sportiva Dilettantistica Trento Calcio 1921 S.r.l. went bankrupt. The sports title was transferred to A.C. Trento S.C.S.D.   \n",
       "...                                                                                                                                                                                                                                                                                             ...   \n",
       "1288                                                                                                                                                                                                                                                                                            NaN   \n",
       "1289                                                                                                                                                                                                                                                                                            NaN   \n",
       "1290                                                                                                                                                                                                                                                                                            NaN   \n",
       "1291                                                                                                                                                                                                                                                                                            NaN   \n",
       "1292                                                                                                                                                                                                                                                                                            NaN   \n",
       "\n",
       "           city  \n",
       "0     Magdeburg  \n",
       "1       Cologne  \n",
       "2       Leipzig  \n",
       "3         Urmia  \n",
       "4        Trento  \n",
       "...         ...  \n",
       "1288      Espoo  \n",
       "1289    Tampere  \n",
       "1290  Rovaniemi  \n",
       "1291       Cali  \n",
       "1292      Pirot  \n",
       "\n",
       "[1293 rows x 5 columns]"
      ]
     },
     "execution_count": 67,
     "metadata": {},
     "output_type": "execute_result"
    }
   ],
   "source": [
    "df_after_corr"
   ]
  },
  {
   "cell_type": "code",
   "execution_count": 68,
   "metadata": {},
   "outputs": [
    {
     "data": {
      "text/html": [
       "<div>\n",
       "<style scoped>\n",
       "    .dataframe tbody tr th:only-of-type {\n",
       "        vertical-align: middle;\n",
       "    }\n",
       "\n",
       "    .dataframe tbody tr th {\n",
       "        vertical-align: top;\n",
       "    }\n",
       "\n",
       "    .dataframe thead th {\n",
       "        text-align: right;\n",
       "    }\n",
       "</style>\n",
       "<table border=\"1\" class=\"dataframe\">\n",
       "  <thead>\n",
       "    <tr style=\"text-align: right;\">\n",
       "      <th></th>\n",
       "      <th>teams_ids</th>\n",
       "      <th>team</th>\n",
       "      <th>country</th>\n",
       "      <th>tm_data</th>\n",
       "      <th>city</th>\n",
       "    </tr>\n",
       "  </thead>\n",
       "  <tbody>\n",
       "  </tbody>\n",
       "</table>\n",
       "</div>"
      ],
      "text/plain": [
       "Empty DataFrame\n",
       "Columns: [teams_ids, team, country, tm_data, city]\n",
       "Index: []"
      ]
     },
     "execution_count": 68,
     "metadata": {},
     "output_type": "execute_result"
    }
   ],
   "source": [
    "df_after_corr[df_after_corr.city == 'nan']"
   ]
  },
  {
   "cell_type": "code",
   "execution_count": 70,
   "metadata": {},
   "outputs": [],
   "source": [
    "# file = open('pickle_files/teams_data/df_after_corr_26_05_2022_sec', 'wb')\n",
    "# pickle.dump(df_after_corr, file)  \n",
    "# file.close()"
   ]
  }
 ],
 "metadata": {
  "kernelspec": {
   "display_name": "Python 3 (ipykernel)",
   "language": "python",
   "name": "python3"
  },
  "language_info": {
   "codemirror_mode": {
    "name": "ipython",
    "version": 3
   },
   "file_extension": ".py",
   "mimetype": "text/x-python",
   "name": "python",
   "nbconvert_exporter": "python",
   "pygments_lexer": "ipython3",
   "version": "3.9.7"
  }
 },
 "nbformat": 4,
 "nbformat_minor": 4
}

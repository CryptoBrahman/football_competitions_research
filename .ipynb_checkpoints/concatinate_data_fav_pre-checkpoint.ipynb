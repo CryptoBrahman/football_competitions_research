{
 "cells": [
  {
   "cell_type": "code",
   "execution_count": 1,
   "metadata": {},
   "outputs": [],
   "source": [
    "import os\n",
    "import re\n",
    "import pickle\n",
    "import datetime\n",
    "import pandas as pd\n",
    "import numpy as np\n",
    "\n",
    "from _html_parser import ParsingDataPrepare, TableConstant\n",
    "\n",
    "pd.set_option('display.max_rows', 20)\n",
    "pd.set_option('display.max_columns', 500)\n",
    "pd.set_option('display.max_colwidth', 500)"
   ]
  },
  {
   "cell_type": "code",
   "execution_count": 2,
   "metadata": {},
   "outputs": [],
   "source": [
    "%load_ext autoreload\n",
    "%autoreload 2"
   ]
  },
  {
   "cell_type": "markdown",
   "metadata": {},
   "source": [
    "#### Choose the date for dirs and files"
   ]
  },
  {
   "cell_type": "code",
   "execution_count": 73,
   "metadata": {},
   "outputs": [],
   "source": [
    "# Start from more time ('26_05_2022' -'27_03_2021'), ('26_03_2021' - '03_11_2013)\n",
    "dir_data = dir_data_start = '26_05_2022'\n",
    "dir_data_end = '27_03_2021'"
   ]
  },
  {
   "cell_type": "code",
   "execution_count": 74,
   "metadata": {},
   "outputs": [],
   "source": [
    "with open('pickle_files/new_events/'+ dir_data +'/df_'+ dir_data_start +'_to_'+ dir_data_end  +'_games', 'rb') as f:\n",
    "    df_games = pickle.load(f)"
   ]
  },
  {
   "cell_type": "code",
   "execution_count": 75,
   "metadata": {},
   "outputs": [
    {
     "data": {
      "text/html": [
       "<div>\n",
       "<style scoped>\n",
       "    .dataframe tbody tr th:only-of-type {\n",
       "        vertical-align: middle;\n",
       "    }\n",
       "\n",
       "    .dataframe tbody tr th {\n",
       "        vertical-align: top;\n",
       "    }\n",
       "\n",
       "    .dataframe thead th {\n",
       "        text-align: right;\n",
       "    }\n",
       "</style>\n",
       "<table border=\"1\" class=\"dataframe\">\n",
       "  <thead>\n",
       "    <tr style=\"text-align: right;\">\n",
       "      <th></th>\n",
       "      <th>game_id</th>\n",
       "      <th>ligue_header</th>\n",
       "      <th>comp_id</th>\n",
       "      <th>season_id</th>\n",
       "      <th>game_utc</th>\n",
       "      <th>game_title</th>\n",
       "      <th>goals</th>\n",
       "      <th>ligue</th>\n",
       "    </tr>\n",
       "  </thead>\n",
       "  <tbody>\n",
       "    <tr>\n",
       "      <th>0</th>\n",
       "      <td>1729359</td>\n",
       "      <td>Ligue 1</td>\n",
       "      <td>18</td>\n",
       "      <td>310</td>\n",
       "      <td>26.05.2022 17:00</td>\n",
       "      <td>Auxerre - Saint-Etienne</td>\n",
       "      <td>1:1</td>\n",
       "      <td>top</td>\n",
       "    </tr>\n",
       "    <tr>\n",
       "      <th>1</th>\n",
       "      <td>1729393</td>\n",
       "      <td>Serie B</td>\n",
       "      <td>627</td>\n",
       "      <td>310</td>\n",
       "      <td>26.05.2022 18:30</td>\n",
       "      <td>Monza - Pisa</td>\n",
       "      <td>2:1</td>\n",
       "      <td>thr</td>\n",
       "    </tr>\n",
       "    <tr>\n",
       "      <th>2</th>\n",
       "      <td>1729388</td>\n",
       "      <td>Eredivisie</td>\n",
       "      <td>596</td>\n",
       "      <td>Cup</td>\n",
       "      <td>26.05.2022 18:00</td>\n",
       "      <td>Vitesse - AZ Alkmaar</td>\n",
       "      <td>2:1</td>\n",
       "      <td>top</td>\n",
       "    </tr>\n",
       "    <tr>\n",
       "      <th>3</th>\n",
       "      <td>1708335</td>\n",
       "      <td>Premier League</td>\n",
       "      <td>483</td>\n",
       "      <td>301</td>\n",
       "      <td>26.05.2022 15:00</td>\n",
       "      <td>FC Minsk - Arsenal Dzerzhinsk</td>\n",
       "      <td>2:0</td>\n",
       "      <td>top</td>\n",
       "    </tr>\n",
       "    <tr>\n",
       "      <th>4</th>\n",
       "      <td>1687458</td>\n",
       "      <td>Eliteserien</td>\n",
       "      <td>747</td>\n",
       "      <td>301</td>\n",
       "      <td>26.05.2022 16:00</td>\n",
       "      <td>Rosenborg - Haugesund</td>\n",
       "      <td>3:3</td>\n",
       "      <td>sec</td>\n",
       "    </tr>\n",
       "    <tr>\n",
       "      <th>...</th>\n",
       "      <td>...</td>\n",
       "      <td>...</td>\n",
       "      <td>...</td>\n",
       "      <td>...</td>\n",
       "      <td>...</td>\n",
       "      <td>...</td>\n",
       "      <td>...</td>\n",
       "      <td>...</td>\n",
       "    </tr>\n",
       "    <tr>\n",
       "      <th>91916</th>\n",
       "      <td>15197308</td>\n",
       "      <td>Primera Division</td>\n",
       "      <td>593</td>\n",
       "      <td>306</td>\n",
       "      <td>28.03.2021 17:00</td>\n",
       "      <td>Nueva Concepcion - Suchitepequez</td>\n",
       "      <td>1:1</td>\n",
       "      <td>thr</td>\n",
       "    </tr>\n",
       "    <tr>\n",
       "      <th>91917</th>\n",
       "      <td>15197309</td>\n",
       "      <td>Primera Division</td>\n",
       "      <td>593</td>\n",
       "      <td>306</td>\n",
       "      <td>28.03.2021 20:59</td>\n",
       "      <td>Deportivo San Pedro - Plataneros</td>\n",
       "      <td>2:1</td>\n",
       "      <td>thr</td>\n",
       "    </tr>\n",
       "    <tr>\n",
       "      <th>91918</th>\n",
       "      <td>15092974</td>\n",
       "      <td>National Football League</td>\n",
       "      <td>575</td>\n",
       "      <td>307</td>\n",
       "      <td>28.03.2021 03:00</td>\n",
       "      <td>Navua - Rewa</td>\n",
       "      <td>1:2</td>\n",
       "      <td>thr</td>\n",
       "    </tr>\n",
       "    <tr>\n",
       "      <th>91919</th>\n",
       "      <td>15092975</td>\n",
       "      <td>National Football League</td>\n",
       "      <td>575</td>\n",
       "      <td>307</td>\n",
       "      <td>28.03.2021 03:00</td>\n",
       "      <td>Ba - Lautoka</td>\n",
       "      <td>1:2</td>\n",
       "      <td>thr</td>\n",
       "    </tr>\n",
       "    <tr>\n",
       "      <th>91920</th>\n",
       "      <td>15092976</td>\n",
       "      <td>National Football League</td>\n",
       "      <td>575</td>\n",
       "      <td>307</td>\n",
       "      <td>28.03.2021 03:00</td>\n",
       "      <td>Nadi - Suva</td>\n",
       "      <td>1:0</td>\n",
       "      <td>thr</td>\n",
       "    </tr>\n",
       "  </tbody>\n",
       "</table>\n",
       "<p>91921 rows × 8 columns</p>\n",
       "</div>"
      ],
      "text/plain": [
       "        game_id              ligue_header comp_id season_id          game_utc  \\\n",
       "0       1729359                   Ligue 1      18       310  26.05.2022 17:00   \n",
       "1       1729393                   Serie B     627       310  26.05.2022 18:30   \n",
       "2       1729388                Eredivisie     596       Cup  26.05.2022 18:00   \n",
       "3       1708335            Premier League     483       301  26.05.2022 15:00   \n",
       "4       1687458               Eliteserien     747       301  26.05.2022 16:00   \n",
       "...         ...                       ...     ...       ...               ...   \n",
       "91916  15197308          Primera Division     593       306  28.03.2021 17:00   \n",
       "91917  15197309          Primera Division     593       306  28.03.2021 20:59   \n",
       "91918  15092974  National Football League     575       307  28.03.2021 03:00   \n",
       "91919  15092975  National Football League     575       307  28.03.2021 03:00   \n",
       "91920  15092976  National Football League     575       307  28.03.2021 03:00   \n",
       "\n",
       "                             game_title goals ligue  \n",
       "0               Auxerre - Saint-Etienne   1:1   top  \n",
       "1                          Monza - Pisa   2:1   thr  \n",
       "2                  Vitesse - AZ Alkmaar   2:1   top  \n",
       "3         FC Minsk - Arsenal Dzerzhinsk   2:0   top  \n",
       "4                 Rosenborg - Haugesund   3:3   sec  \n",
       "...                                 ...   ...   ...  \n",
       "91916  Nueva Concepcion - Suchitepequez   1:1   thr  \n",
       "91917  Deportivo San Pedro - Plataneros   2:1   thr  \n",
       "91918                      Navua - Rewa   1:2   thr  \n",
       "91919                      Ba - Lautoka   1:2   thr  \n",
       "91920                       Nadi - Suva   1:0   thr  \n",
       "\n",
       "[91921 rows x 8 columns]"
      ]
     },
     "execution_count": 75,
     "metadata": {},
     "output_type": "execute_result"
    }
   ],
   "source": [
    "df_games"
   ]
  },
  {
   "cell_type": "code",
   "execution_count": 76,
   "metadata": {},
   "outputs": [],
   "source": [
    "df_games['f_team'] = df_games.game_title.map(lambda x: str(x).split(' - ')[0])\n",
    "df_games['s_team'] = df_games.game_title.map(lambda x: str(x).split(' - ')[1])"
   ]
  },
  {
   "cell_type": "code",
   "execution_count": 77,
   "metadata": {},
   "outputs": [
    {
     "data": {
      "text/html": [
       "<div>\n",
       "<style scoped>\n",
       "    .dataframe tbody tr th:only-of-type {\n",
       "        vertical-align: middle;\n",
       "    }\n",
       "\n",
       "    .dataframe tbody tr th {\n",
       "        vertical-align: top;\n",
       "    }\n",
       "\n",
       "    .dataframe thead th {\n",
       "        text-align: right;\n",
       "    }\n",
       "</style>\n",
       "<table border=\"1\" class=\"dataframe\">\n",
       "  <thead>\n",
       "    <tr style=\"text-align: right;\">\n",
       "      <th></th>\n",
       "      <th>game_id</th>\n",
       "      <th>ligue_header</th>\n",
       "      <th>comp_id</th>\n",
       "      <th>season_id</th>\n",
       "      <th>game_utc</th>\n",
       "      <th>game_title</th>\n",
       "      <th>goals</th>\n",
       "      <th>ligue</th>\n",
       "      <th>f_team</th>\n",
       "      <th>s_team</th>\n",
       "    </tr>\n",
       "  </thead>\n",
       "  <tbody>\n",
       "    <tr>\n",
       "      <th>0</th>\n",
       "      <td>1729359</td>\n",
       "      <td>Ligue 1</td>\n",
       "      <td>18</td>\n",
       "      <td>310</td>\n",
       "      <td>26.05.2022 17:00</td>\n",
       "      <td>Auxerre - Saint-Etienne</td>\n",
       "      <td>1:1</td>\n",
       "      <td>top</td>\n",
       "      <td>Auxerre</td>\n",
       "      <td>Saint-Etienne</td>\n",
       "    </tr>\n",
       "    <tr>\n",
       "      <th>1</th>\n",
       "      <td>1729393</td>\n",
       "      <td>Serie B</td>\n",
       "      <td>627</td>\n",
       "      <td>310</td>\n",
       "      <td>26.05.2022 18:30</td>\n",
       "      <td>Monza - Pisa</td>\n",
       "      <td>2:1</td>\n",
       "      <td>thr</td>\n",
       "      <td>Monza</td>\n",
       "      <td>Pisa</td>\n",
       "    </tr>\n",
       "    <tr>\n",
       "      <th>2</th>\n",
       "      <td>1729388</td>\n",
       "      <td>Eredivisie</td>\n",
       "      <td>596</td>\n",
       "      <td>Cup</td>\n",
       "      <td>26.05.2022 18:00</td>\n",
       "      <td>Vitesse - AZ Alkmaar</td>\n",
       "      <td>2:1</td>\n",
       "      <td>top</td>\n",
       "      <td>Vitesse</td>\n",
       "      <td>AZ Alkmaar</td>\n",
       "    </tr>\n",
       "  </tbody>\n",
       "</table>\n",
       "</div>"
      ],
      "text/plain": [
       "   game_id ligue_header comp_id season_id          game_utc  \\\n",
       "0  1729359      Ligue 1      18       310  26.05.2022 17:00   \n",
       "1  1729393      Serie B     627       310  26.05.2022 18:30   \n",
       "2  1729388   Eredivisie     596       Cup  26.05.2022 18:00   \n",
       "\n",
       "                game_title goals ligue   f_team         s_team  \n",
       "0  Auxerre - Saint-Etienne   1:1   top  Auxerre  Saint-Etienne  \n",
       "1             Monza - Pisa   2:1   thr    Monza           Pisa  \n",
       "2     Vitesse - AZ Alkmaar   2:1   top  Vitesse     AZ Alkmaar  "
      ]
     },
     "execution_count": 77,
     "metadata": {},
     "output_type": "execute_result"
    }
   ],
   "source": [
    "df_games.head(3)"
   ]
  },
  {
   "cell_type": "markdown",
   "metadata": {},
   "source": [
    "#### Add competitions data "
   ]
  },
  {
   "cell_type": "code",
   "execution_count": 78,
   "metadata": {},
   "outputs": [],
   "source": [
    "with open('pickle_files/new_events/'+ dir_data +'/df_comp_tabs_'+ dir_data_start +'_all_lgs', 'rb') as f:\n",
    "    df_comp_tables = pickle.load(f)"
   ]
  },
  {
   "cell_type": "code",
   "execution_count": 79,
   "metadata": {},
   "outputs": [],
   "source": [
    "df_comp_tables.rename(columns={'team_name':'f_team'}, inplace=True)"
   ]
  },
  {
   "cell_type": "code",
   "execution_count": 80,
   "metadata": {},
   "outputs": [],
   "source": [
    "# Duble column for get data for each team\n",
    "df_comp_tables['s_team'] = df_comp_tables.f_team"
   ]
  },
  {
   "cell_type": "code",
   "execution_count": 81,
   "metadata": {},
   "outputs": [
    {
     "data": {
      "text/html": [
       "<div>\n",
       "<style scoped>\n",
       "    .dataframe tbody tr th:only-of-type {\n",
       "        vertical-align: middle;\n",
       "    }\n",
       "\n",
       "    .dataframe tbody tr th {\n",
       "        vertical-align: top;\n",
       "    }\n",
       "\n",
       "    .dataframe thead th {\n",
       "        text-align: right;\n",
       "    }\n",
       "</style>\n",
       "<table border=\"1\" class=\"dataframe\">\n",
       "  <thead>\n",
       "    <tr style=\"text-align: right;\">\n",
       "      <th></th>\n",
       "      <th>f_team</th>\n",
       "      <th>team_id</th>\n",
       "      <th>pos</th>\n",
       "      <th>pld</th>\n",
       "      <th>w</th>\n",
       "      <th>d</th>\n",
       "      <th>l</th>\n",
       "      <th>gf</th>\n",
       "      <th>ga</th>\n",
       "      <th>+/-</th>\n",
       "      <th>pts</th>\n",
       "      <th>comp_id</th>\n",
       "      <th>season_id</th>\n",
       "      <th>s_team</th>\n",
       "    </tr>\n",
       "  </thead>\n",
       "  <tbody>\n",
       "    <tr>\n",
       "      <th>0</th>\n",
       "      <td>Japan U23</td>\n",
       "      <td>10622</td>\n",
       "      <td>1</td>\n",
       "      <td>3</td>\n",
       "      <td>3</td>\n",
       "      <td>0</td>\n",
       "      <td>0</td>\n",
       "      <td>7</td>\n",
       "      <td>1</td>\n",
       "      <td>+6</td>\n",
       "      <td>9</td>\n",
       "      <td>1016</td>\n",
       "      <td>298</td>\n",
       "      <td>Japan U23</td>\n",
       "    </tr>\n",
       "    <tr>\n",
       "      <th>1</th>\n",
       "      <td>Mexico U23</td>\n",
       "      <td>9209</td>\n",
       "      <td>2</td>\n",
       "      <td>3</td>\n",
       "      <td>2</td>\n",
       "      <td>0</td>\n",
       "      <td>1</td>\n",
       "      <td>8</td>\n",
       "      <td>3</td>\n",
       "      <td>+5</td>\n",
       "      <td>6</td>\n",
       "      <td>1016</td>\n",
       "      <td>298</td>\n",
       "      <td>Mexico U23</td>\n",
       "    </tr>\n",
       "    <tr>\n",
       "      <th>2</th>\n",
       "      <td>France U23</td>\n",
       "      <td>10739</td>\n",
       "      <td>3</td>\n",
       "      <td>3</td>\n",
       "      <td>1</td>\n",
       "      <td>0</td>\n",
       "      <td>2</td>\n",
       "      <td>5</td>\n",
       "      <td>11</td>\n",
       "      <td>-6</td>\n",
       "      <td>3</td>\n",
       "      <td>1016</td>\n",
       "      <td>298</td>\n",
       "      <td>France U23</td>\n",
       "    </tr>\n",
       "    <tr>\n",
       "      <th>3</th>\n",
       "      <td>South Africa U23</td>\n",
       "      <td>10615</td>\n",
       "      <td>4</td>\n",
       "      <td>3</td>\n",
       "      <td>0</td>\n",
       "      <td>0</td>\n",
       "      <td>3</td>\n",
       "      <td>3</td>\n",
       "      <td>8</td>\n",
       "      <td>-5</td>\n",
       "      <td>0</td>\n",
       "      <td>1016</td>\n",
       "      <td>298</td>\n",
       "      <td>South Africa U23</td>\n",
       "    </tr>\n",
       "    <tr>\n",
       "      <th>4</th>\n",
       "      <td>South Korea U23</td>\n",
       "      <td>10609</td>\n",
       "      <td>1</td>\n",
       "      <td>3</td>\n",
       "      <td>2</td>\n",
       "      <td>0</td>\n",
       "      <td>1</td>\n",
       "      <td>10</td>\n",
       "      <td>1</td>\n",
       "      <td>+9</td>\n",
       "      <td>6</td>\n",
       "      <td>1016</td>\n",
       "      <td>298</td>\n",
       "      <td>South Korea U23</td>\n",
       "    </tr>\n",
       "  </tbody>\n",
       "</table>\n",
       "</div>"
      ],
      "text/plain": [
       "             f_team team_id pos pld  w  d  l  gf  ga +/- pts comp_id  \\\n",
       "0         Japan U23   10622   1   3  3  0  0   7   1  +6   9    1016   \n",
       "1        Mexico U23    9209   2   3  2  0  1   8   3  +5   6    1016   \n",
       "2        France U23   10739   3   3  1  0  2   5  11  -6   3    1016   \n",
       "3  South Africa U23   10615   4   3  0  0  3   3   8  -5   0    1016   \n",
       "4   South Korea U23   10609   1   3  2  0  1  10   1  +9   6    1016   \n",
       "\n",
       "  season_id            s_team  \n",
       "0       298         Japan U23  \n",
       "1       298        Mexico U23  \n",
       "2       298        France U23  \n",
       "3       298  South Africa U23  \n",
       "4       298   South Korea U23  "
      ]
     },
     "execution_count": 81,
     "metadata": {},
     "output_type": "execute_result"
    }
   ],
   "source": [
    "df_comp_tables.head()"
   ]
  },
  {
   "cell_type": "code",
   "execution_count": 82,
   "metadata": {},
   "outputs": [],
   "source": [
    "df_fcom = pd.merge(left=df_games, right=df_comp_tables[['f_team','comp_id','season_id','pos', 'pts']], on=['f_team','comp_id','season_id'], how='left')\n",
    "df_fcom.rename(columns={'pos':'pos_f', 'pts':'pts_f'}, inplace=True)"
   ]
  },
  {
   "cell_type": "code",
   "execution_count": 83,
   "metadata": {},
   "outputs": [],
   "source": [
    "df_scom = pd.merge(left=df_games, right=df_comp_tables[['s_team','comp_id','season_id','pos', 'pts']], on=['s_team','comp_id','season_id'], how='left')\n",
    "df_scom.rename(columns={'pos':'pos_s', 'pts':'pts_s'}, inplace=True)"
   ]
  },
  {
   "cell_type": "code",
   "execution_count": 84,
   "metadata": {},
   "outputs": [],
   "source": [
    "df_games_tb = pd.merge(df_fcom, df_scom[['game_id', 'pos_s','pts_s']], how='left', left_on='game_id', right_on='game_id')"
   ]
  },
  {
   "cell_type": "code",
   "execution_count": 85,
   "metadata": {},
   "outputs": [],
   "source": [
    "df_games_tb.pos_f = pd.to_numeric(df_games_tb.pos_f, errors='coerce')\n",
    "df_games_tb.pos_s = pd.to_numeric(df_games_tb.pos_s, errors='coerce')\n",
    "df_games_tb.pts_f = pd.to_numeric(df_games_tb.pts_f, errors='coerce')\n",
    "df_games_tb.pts_s = pd.to_numeric(df_games_tb.pts_s, errors='coerce')"
   ]
  },
  {
   "cell_type": "code",
   "execution_count": 86,
   "metadata": {},
   "outputs": [],
   "source": [
    "df_games_tb['posf_poss'] = df_games_tb[['pos_f', 'pos_s']].apply(lambda x: str(x[0]).replace('.0', '') + ' - ' + str(x[1]).replace('.0', '') \\\n",
    "                                                                 if pd.notna(x[0]) and pd.notna(x[1]) else None, axis=1) \n",
    "df_games_tb['ptsf_ptss'] = df_games_tb[['pts_f', 'pts_s']].apply(lambda x: str(x[0]).replace('.0', '') + ' - ' + str(x[1]).replace('.0', '') \\\n",
    "                                                                 if pd.notna(x[0]) and pd.notna(x[1]) else None, axis=1) "
   ]
  },
  {
   "cell_type": "code",
   "execution_count": 87,
   "metadata": {},
   "outputs": [],
   "source": [
    "df_games_tb.drop(columns=['s_team'], inplace=True)"
   ]
  },
  {
   "cell_type": "code",
   "execution_count": 88,
   "metadata": {},
   "outputs": [],
   "source": [
    "df_games_tb.drop_duplicates(subset=['game_id'], inplace=True)"
   ]
  },
  {
   "cell_type": "code",
   "execution_count": 89,
   "metadata": {},
   "outputs": [],
   "source": [
    "df_games_tb.reset_index(drop=True, inplace=True)"
   ]
  },
  {
   "cell_type": "code",
   "execution_count": 90,
   "metadata": {},
   "outputs": [
    {
     "data": {
      "text/plain": [
       "None     16922\n",
       "1 - 3      706\n",
       "1 - 2      692\n",
       "1 - 4      683\n",
       "Name: posf_poss, dtype: int64"
      ]
     },
     "execution_count": 90,
     "metadata": {},
     "output_type": "execute_result"
    }
   ],
   "source": [
    "df_games_tb.posf_poss.value_counts(dropna=False).head(4)"
   ]
  },
  {
   "cell_type": "code",
   "execution_count": 91,
   "metadata": {},
   "outputs": [
    {
     "data": {
      "text/plain": [
       "3 - 36     1\n",
       "17 - 37    1\n",
       "27 - 35    1\n",
       "21 - 27    1\n",
       "Name: posf_poss, dtype: int64"
      ]
     },
     "execution_count": 91,
     "metadata": {},
     "output_type": "execute_result"
    }
   ],
   "source": [
    "df_games_tb.posf_poss.value_counts(dropna=False).tail(4)"
   ]
  },
  {
   "cell_type": "code",
   "execution_count": 92,
   "metadata": {},
   "outputs": [],
   "source": [
    "df_comp_tables.pos = pd.to_numeric(df_comp_tables.pos, errors='coerce')\n",
    "df_comp_tables.pts = pd.to_numeric(df_comp_tables.pts, errors='coerce')\n",
    "\n",
    "df_max_pos = df_comp_tables.groupby(['comp_id', 'season_id'])['pos'].max().to_frame().reset_index()  \n",
    "df_max_pts = df_comp_tables.groupby(['comp_id', 'season_id'])['pts'].max().to_frame().reset_index() \n",
    "\n",
    "df_max_pos.rename(columns={'pos':'max_pos'}, inplace=True)\n",
    "df_max_pts.rename(columns={'pts':'max_pts'}, inplace=True)"
   ]
  },
  {
   "cell_type": "code",
   "execution_count": 93,
   "metadata": {},
   "outputs": [
    {
     "data": {
      "text/html": [
       "<div>\n",
       "<style scoped>\n",
       "    .dataframe tbody tr th:only-of-type {\n",
       "        vertical-align: middle;\n",
       "    }\n",
       "\n",
       "    .dataframe tbody tr th {\n",
       "        vertical-align: top;\n",
       "    }\n",
       "\n",
       "    .dataframe thead th {\n",
       "        text-align: right;\n",
       "    }\n",
       "</style>\n",
       "<table border=\"1\" class=\"dataframe\">\n",
       "  <thead>\n",
       "    <tr style=\"text-align: right;\">\n",
       "      <th></th>\n",
       "      <th>comp_id</th>\n",
       "      <th>season_id</th>\n",
       "      <th>max_pos</th>\n",
       "    </tr>\n",
       "  </thead>\n",
       "  <tbody>\n",
       "    <tr>\n",
       "      <th>0</th>\n",
       "      <td>1016</td>\n",
       "      <td>298</td>\n",
       "      <td>4</td>\n",
       "    </tr>\n",
       "    <tr>\n",
       "      <th>1</th>\n",
       "      <td>1019</td>\n",
       "      <td>310</td>\n",
       "      <td>4</td>\n",
       "    </tr>\n",
       "    <tr>\n",
       "      <th>2</th>\n",
       "      <td>1035</td>\n",
       "      <td>306</td>\n",
       "      <td>11</td>\n",
       "    </tr>\n",
       "  </tbody>\n",
       "</table>\n",
       "</div>"
      ],
      "text/plain": [
       "  comp_id season_id  max_pos\n",
       "0    1016       298        4\n",
       "1    1019       310        4\n",
       "2    1035       306       11"
      ]
     },
     "execution_count": 93,
     "metadata": {},
     "output_type": "execute_result"
    }
   ],
   "source": [
    "df_max_pos.head(3)"
   ]
  },
  {
   "cell_type": "code",
   "execution_count": 94,
   "metadata": {},
   "outputs": [
    {
     "data": {
      "text/html": [
       "<div>\n",
       "<style scoped>\n",
       "    .dataframe tbody tr th:only-of-type {\n",
       "        vertical-align: middle;\n",
       "    }\n",
       "\n",
       "    .dataframe tbody tr th {\n",
       "        vertical-align: top;\n",
       "    }\n",
       "\n",
       "    .dataframe thead th {\n",
       "        text-align: right;\n",
       "    }\n",
       "</style>\n",
       "<table border=\"1\" class=\"dataframe\">\n",
       "  <thead>\n",
       "    <tr style=\"text-align: right;\">\n",
       "      <th></th>\n",
       "      <th>comp_id</th>\n",
       "      <th>season_id</th>\n",
       "      <th>max_pts</th>\n",
       "    </tr>\n",
       "  </thead>\n",
       "  <tbody>\n",
       "    <tr>\n",
       "      <th>0</th>\n",
       "      <td>1016</td>\n",
       "      <td>298</td>\n",
       "      <td>9</td>\n",
       "    </tr>\n",
       "    <tr>\n",
       "      <th>1</th>\n",
       "      <td>1019</td>\n",
       "      <td>310</td>\n",
       "      <td>16</td>\n",
       "    </tr>\n",
       "    <tr>\n",
       "      <th>2</th>\n",
       "      <td>1035</td>\n",
       "      <td>306</td>\n",
       "      <td>28</td>\n",
       "    </tr>\n",
       "  </tbody>\n",
       "</table>\n",
       "</div>"
      ],
      "text/plain": [
       "  comp_id season_id  max_pts\n",
       "0    1016       298        9\n",
       "1    1019       310       16\n",
       "2    1035       306       28"
      ]
     },
     "execution_count": 94,
     "metadata": {},
     "output_type": "execute_result"
    }
   ],
   "source": [
    "df_max_pts.head(3)"
   ]
  },
  {
   "cell_type": "code",
   "execution_count": 95,
   "metadata": {},
   "outputs": [],
   "source": [
    "df_games_tb = df_games_tb.merge(df_max_pos, how='left', left_on=['comp_id', 'season_id'],  right_on=['comp_id', 'season_id'])\n",
    "df_games_tb = df_games_tb.merge(df_max_pts, how='left', left_on=['comp_id', 'season_id'],  right_on=['comp_id', 'season_id'])"
   ]
  },
  {
   "cell_type": "code",
   "execution_count": 96,
   "metadata": {},
   "outputs": [],
   "source": [
    "df_games_tb['fs_pos_max'] = df_games_tb[['posf_poss', 'max_pos']].apply(lambda x: str(x[0])+ ', ' + str(x[1]).replace('.0', '') \\\n",
    "                                                                                                                  if x[0] != None else None, axis=1)\n",
    "df_games_tb['fs_pts_max'] = df_games_tb[['ptsf_ptss', 'max_pts']].apply(lambda x: str(x[0])+ ', ' + str(x[1]).replace('.0', '') \\\n",
    "                                                                                                                  if x[0] != None else None, axis=1)"
   ]
  },
  {
   "cell_type": "code",
   "execution_count": 97,
   "metadata": {},
   "outputs": [],
   "source": [
    "df_games_tb.drop(columns=['posf_poss', 'ptsf_ptss', 'max_pts'], inplace=True)"
   ]
  },
  {
   "cell_type": "markdown",
   "metadata": {},
   "source": [
    "#### Concatinate dataframes with best and tables position coefficients"
   ]
  },
  {
   "cell_type": "code",
   "execution_count": 98,
   "metadata": {},
   "outputs": [
    {
     "data": {
      "text/plain": [
       "74587"
      ]
     },
     "execution_count": 98,
     "metadata": {},
     "output_type": "execute_result"
    }
   ],
   "source": [
    "df_power_coefs = df_games_tb[df_games_tb.max_pos >= 8].copy().reset_index(drop=True)\n",
    "df_power_coefs.shape[0]"
   ]
  },
  {
   "cell_type": "code",
   "execution_count": 99,
   "metadata": {},
   "outputs": [
    {
     "data": {
      "text/plain": [
       "20.0    16303\n",
       "16.0     9883\n",
       "18.0     8383\n",
       "12.0     7766\n",
       "10.0     5208\n",
       "21.0     4811\n",
       "14.0     4245\n",
       "17.0     3043\n",
       "22.0     2990\n",
       "24.0     1979\n",
       "8.0      1728\n",
       "19.0     1501\n",
       "23.0     1442\n",
       "9.0      1256\n",
       "13.0     1216\n",
       "11.0     1073\n",
       "15.0     1004\n",
       "26.0      325\n",
       "32.0      264\n",
       "37.0      167\n",
       "Name: max_pos, dtype: int64"
      ]
     },
     "execution_count": 99,
     "metadata": {},
     "output_type": "execute_result"
    }
   ],
   "source": [
    "df_power_coefs.max_pos.value_counts(dropna=False)"
   ]
  },
  {
   "cell_type": "code",
   "execution_count": 100,
   "metadata": {},
   "outputs": [],
   "source": [
    "df_power_coefs.drop(columns=['max_pos'], inplace=True)"
   ]
  },
  {
   "cell_type": "code",
   "execution_count": 101,
   "metadata": {},
   "outputs": [
    {
     "name": "stdout",
     "output_type": "stream",
     "text": [
      "shape -  74587\n"
     ]
    },
    {
     "data": {
      "text/html": [
       "<div>\n",
       "<style scoped>\n",
       "    .dataframe tbody tr th:only-of-type {\n",
       "        vertical-align: middle;\n",
       "    }\n",
       "\n",
       "    .dataframe tbody tr th {\n",
       "        vertical-align: top;\n",
       "    }\n",
       "\n",
       "    .dataframe thead th {\n",
       "        text-align: right;\n",
       "    }\n",
       "</style>\n",
       "<table border=\"1\" class=\"dataframe\">\n",
       "  <thead>\n",
       "    <tr style=\"text-align: right;\">\n",
       "      <th></th>\n",
       "      <th>game_id</th>\n",
       "      <th>ligue_header</th>\n",
       "      <th>comp_id</th>\n",
       "      <th>season_id</th>\n",
       "      <th>game_utc</th>\n",
       "      <th>game_title</th>\n",
       "      <th>goals</th>\n",
       "      <th>ligue</th>\n",
       "      <th>f_team</th>\n",
       "      <th>pos_f</th>\n",
       "      <th>pts_f</th>\n",
       "      <th>pos_s</th>\n",
       "      <th>pts_s</th>\n",
       "      <th>fs_pos_max</th>\n",
       "      <th>fs_pts_max</th>\n",
       "    </tr>\n",
       "  </thead>\n",
       "  <tbody>\n",
       "    <tr>\n",
       "      <th>74577</th>\n",
       "      <td>15109590</td>\n",
       "      <td>Thai League 1</td>\n",
       "      <td>718</td>\n",
       "      <td>298</td>\n",
       "      <td>28.03.2021 11:00</td>\n",
       "      <td>Rayong - Chonburi</td>\n",
       "      <td>1:1</td>\n",
       "      <td>thr</td>\n",
       "      <td>Rayong</td>\n",
       "      <td>16.0</td>\n",
       "      <td>15.0</td>\n",
       "      <td>12.0</td>\n",
       "      <td>32.0</td>\n",
       "      <td>16 - 12, 16</td>\n",
       "      <td>15 - 32, 77</td>\n",
       "    </tr>\n",
       "    <tr>\n",
       "      <th>74578</th>\n",
       "      <td>15109586</td>\n",
       "      <td>Thai League 1</td>\n",
       "      <td>718</td>\n",
       "      <td>298</td>\n",
       "      <td>28.03.2021 11:00</td>\n",
       "      <td>Buriram United - BEC Tero Sasana</td>\n",
       "      <td>2:0</td>\n",
       "      <td>thr</td>\n",
       "      <td>Buriram United</td>\n",
       "      <td>2.0</td>\n",
       "      <td>63.0</td>\n",
       "      <td>11.0</td>\n",
       "      <td>36.0</td>\n",
       "      <td>2 - 11, 16</td>\n",
       "      <td>63 - 36, 77</td>\n",
       "    </tr>\n",
       "    <tr>\n",
       "      <th>74579</th>\n",
       "      <td>15109592</td>\n",
       "      <td>Thai League 1</td>\n",
       "      <td>718</td>\n",
       "      <td>298</td>\n",
       "      <td>28.03.2021 11:00</td>\n",
       "      <td>Suphanburi (Tha) - Sukhothai</td>\n",
       "      <td>1:0</td>\n",
       "      <td>thr</td>\n",
       "      <td>Suphanburi (Tha)</td>\n",
       "      <td>13.0</td>\n",
       "      <td>30.0</td>\n",
       "      <td>14.0</td>\n",
       "      <td>28.0</td>\n",
       "      <td>13 - 14, 16</td>\n",
       "      <td>30 - 28, 77</td>\n",
       "    </tr>\n",
       "    <tr>\n",
       "      <th>74580</th>\n",
       "      <td>15080915</td>\n",
       "      <td>Liga Panameña</td>\n",
       "      <td>671</td>\n",
       "      <td>307</td>\n",
       "      <td>27.03.2021 23:00</td>\n",
       "      <td>Plaza Amador - CD Universitario Panama</td>\n",
       "      <td>2:2</td>\n",
       "      <td>thr</td>\n",
       "      <td>Plaza Amador</td>\n",
       "      <td>1.0</td>\n",
       "      <td>52.0</td>\n",
       "      <td>5.0</td>\n",
       "      <td>47.0</td>\n",
       "      <td>1 - 5, 12</td>\n",
       "      <td>52 - 47, 52</td>\n",
       "    </tr>\n",
       "    <tr>\n",
       "      <th>74581</th>\n",
       "      <td>15080961</td>\n",
       "      <td>Liga Panameña</td>\n",
       "      <td>671</td>\n",
       "      <td>307</td>\n",
       "      <td>27.03.2021 23:00</td>\n",
       "      <td>Herrera - Tauro</td>\n",
       "      <td>1:1</td>\n",
       "      <td>thr</td>\n",
       "      <td>Herrera</td>\n",
       "      <td>4.0</td>\n",
       "      <td>49.0</td>\n",
       "      <td>3.0</td>\n",
       "      <td>50.0</td>\n",
       "      <td>4 - 3, 12</td>\n",
       "      <td>49 - 50, 52</td>\n",
       "    </tr>\n",
       "    <tr>\n",
       "      <th>74582</th>\n",
       "      <td>15197084</td>\n",
       "      <td>Birinci Divizion</td>\n",
       "      <td>476</td>\n",
       "      <td>306</td>\n",
       "      <td>28.03.2021 11:00</td>\n",
       "      <td>MOIK - Kapaz</td>\n",
       "      <td>4:1</td>\n",
       "      <td>thr</td>\n",
       "      <td>MOIK</td>\n",
       "      <td>10.0</td>\n",
       "      <td>20.0</td>\n",
       "      <td>8.0</td>\n",
       "      <td>28.0</td>\n",
       "      <td>10 - 8, 10</td>\n",
       "      <td>20 - 28, 64</td>\n",
       "    </tr>\n",
       "    <tr>\n",
       "      <th>74583</th>\n",
       "      <td>15197083</td>\n",
       "      <td>Birinci Divizion</td>\n",
       "      <td>476</td>\n",
       "      <td>306</td>\n",
       "      <td>28.03.2021 11:00</td>\n",
       "      <td>Neftchi II - Sumqayıt II</td>\n",
       "      <td>6:2</td>\n",
       "      <td>thr</td>\n",
       "      <td>Neftchi II</td>\n",
       "      <td>1.0</td>\n",
       "      <td>64.0</td>\n",
       "      <td>9.0</td>\n",
       "      <td>22.0</td>\n",
       "      <td>1 - 9, 10</td>\n",
       "      <td>64 - 22, 64</td>\n",
       "    </tr>\n",
       "    <tr>\n",
       "      <th>74584</th>\n",
       "      <td>15092974</td>\n",
       "      <td>National Football League</td>\n",
       "      <td>575</td>\n",
       "      <td>307</td>\n",
       "      <td>28.03.2021 03:00</td>\n",
       "      <td>Navua - Rewa</td>\n",
       "      <td>1:2</td>\n",
       "      <td>thr</td>\n",
       "      <td>Navua</td>\n",
       "      <td>7.0</td>\n",
       "      <td>9.0</td>\n",
       "      <td>2.0</td>\n",
       "      <td>25.0</td>\n",
       "      <td>7 - 2, 8</td>\n",
       "      <td>9 - 25, 30</td>\n",
       "    </tr>\n",
       "    <tr>\n",
       "      <th>74585</th>\n",
       "      <td>15092975</td>\n",
       "      <td>National Football League</td>\n",
       "      <td>575</td>\n",
       "      <td>307</td>\n",
       "      <td>28.03.2021 03:00</td>\n",
       "      <td>Ba - Lautoka</td>\n",
       "      <td>1:2</td>\n",
       "      <td>thr</td>\n",
       "      <td>Ba</td>\n",
       "      <td>3.0</td>\n",
       "      <td>22.0</td>\n",
       "      <td>1.0</td>\n",
       "      <td>30.0</td>\n",
       "      <td>3 - 1, 8</td>\n",
       "      <td>22 - 30, 30</td>\n",
       "    </tr>\n",
       "    <tr>\n",
       "      <th>74586</th>\n",
       "      <td>15092976</td>\n",
       "      <td>National Football League</td>\n",
       "      <td>575</td>\n",
       "      <td>307</td>\n",
       "      <td>28.03.2021 03:00</td>\n",
       "      <td>Nadi - Suva</td>\n",
       "      <td>1:0</td>\n",
       "      <td>thr</td>\n",
       "      <td>Nadi</td>\n",
       "      <td>6.0</td>\n",
       "      <td>15.0</td>\n",
       "      <td>4.0</td>\n",
       "      <td>21.0</td>\n",
       "      <td>6 - 4, 8</td>\n",
       "      <td>15 - 21, 30</td>\n",
       "    </tr>\n",
       "  </tbody>\n",
       "</table>\n",
       "</div>"
      ],
      "text/plain": [
       "        game_id              ligue_header comp_id season_id          game_utc  \\\n",
       "74577  15109590             Thai League 1     718       298  28.03.2021 11:00   \n",
       "74578  15109586             Thai League 1     718       298  28.03.2021 11:00   \n",
       "74579  15109592             Thai League 1     718       298  28.03.2021 11:00   \n",
       "74580  15080915             Liga Panameña     671       307  27.03.2021 23:00   \n",
       "74581  15080961             Liga Panameña     671       307  27.03.2021 23:00   \n",
       "74582  15197084          Birinci Divizion     476       306  28.03.2021 11:00   \n",
       "74583  15197083          Birinci Divizion     476       306  28.03.2021 11:00   \n",
       "74584  15092974  National Football League     575       307  28.03.2021 03:00   \n",
       "74585  15092975  National Football League     575       307  28.03.2021 03:00   \n",
       "74586  15092976  National Football League     575       307  28.03.2021 03:00   \n",
       "\n",
       "                                   game_title goals ligue            f_team  \\\n",
       "74577                       Rayong - Chonburi   1:1   thr            Rayong   \n",
       "74578        Buriram United - BEC Tero Sasana   2:0   thr    Buriram United   \n",
       "74579            Suphanburi (Tha) - Sukhothai   1:0   thr  Suphanburi (Tha)   \n",
       "74580  Plaza Amador - CD Universitario Panama   2:2   thr      Plaza Amador   \n",
       "74581                         Herrera - Tauro   1:1   thr           Herrera   \n",
       "74582                            MOIK - Kapaz   4:1   thr              MOIK   \n",
       "74583                Neftchi II - Sumqayıt II   6:2   thr        Neftchi II   \n",
       "74584                            Navua - Rewa   1:2   thr             Navua   \n",
       "74585                            Ba - Lautoka   1:2   thr                Ba   \n",
       "74586                             Nadi - Suva   1:0   thr              Nadi   \n",
       "\n",
       "       pos_f  pts_f  pos_s  pts_s   fs_pos_max   fs_pts_max  \n",
       "74577   16.0   15.0   12.0   32.0  16 - 12, 16  15 - 32, 77  \n",
       "74578    2.0   63.0   11.0   36.0   2 - 11, 16  63 - 36, 77  \n",
       "74579   13.0   30.0   14.0   28.0  13 - 14, 16  30 - 28, 77  \n",
       "74580    1.0   52.0    5.0   47.0    1 - 5, 12  52 - 47, 52  \n",
       "74581    4.0   49.0    3.0   50.0    4 - 3, 12  49 - 50, 52  \n",
       "74582   10.0   20.0    8.0   28.0   10 - 8, 10  20 - 28, 64  \n",
       "74583    1.0   64.0    9.0   22.0    1 - 9, 10  64 - 22, 64  \n",
       "74584    7.0    9.0    2.0   25.0     7 - 2, 8   9 - 25, 30  \n",
       "74585    3.0   22.0    1.0   30.0     3 - 1, 8  22 - 30, 30  \n",
       "74586    6.0   15.0    4.0   21.0     6 - 4, 8  15 - 21, 30  "
      ]
     },
     "execution_count": 101,
     "metadata": {},
     "output_type": "execute_result"
    }
   ],
   "source": [
    "print('shape - ', df_power_coefs.shape[0])\n",
    "df_power_coefs.tail(10)"
   ]
  },
  {
   "cell_type": "markdown",
   "metadata": {},
   "source": [
    "#### Power coefficient  ' * ' :  2"
   ]
  },
  {
   "cell_type": "markdown",
   "metadata": {},
   "source": [
    "#### Power coefficient sum: -13 pts_f  (home_team = fav) < home_team_pts_f < + 13 pts_f  (home_team = pre)"
   ]
  },
  {
   "cell_type": "code",
   "execution_count": 102,
   "metadata": {},
   "outputs": [],
   "source": [
    "# pow_coef = 2\n",
    "# df_power_coefs['f_pow_pts'] = df_power_coefs[['pts_f', 'pts_s']].apply(lambda x: ParsingDataPrepare.roles_determinate([x[0], x[1]], pow_coef, 'max_point'), axis=1)"
   ]
  },
  {
   "cell_type": "code",
   "execution_count": 103,
   "metadata": {},
   "outputs": [],
   "source": [
    "sum_coef = 13\n",
    "df_power_coefs['f_pow_pts'] = df_power_coefs[['pts_f', 'pts_s']].apply(lambda x: ParsingDataPrepare.roles_determinate([x[0], x[1]], sum_coef, 'sum_point'), axis=1)"
   ]
  },
  {
   "cell_type": "code",
   "execution_count": 104,
   "metadata": {},
   "outputs": [
    {
     "data": {
      "text/plain": [
       "Neu    40086\n",
       "Pre    17291\n",
       "Fav    17210\n",
       "Name: f_pow_pts, dtype: int64"
      ]
     },
     "execution_count": 104,
     "metadata": {},
     "output_type": "execute_result"
    }
   ],
   "source": [
    "df_power_coefs.f_pow_pts.value_counts(dropna=False)"
   ]
  },
  {
   "cell_type": "code",
   "execution_count": 105,
   "metadata": {},
   "outputs": [],
   "source": [
    "df_power_coefs['f_pow'] = df_power_coefs.f_pow_pts"
   ]
  },
  {
   "cell_type": "code",
   "execution_count": 106,
   "metadata": {},
   "outputs": [],
   "source": [
    "df_power_coefs.drop(columns='f_pow_pts', inplace=True)"
   ]
  },
  {
   "cell_type": "code",
   "execution_count": 107,
   "metadata": {},
   "outputs": [],
   "source": [
    "df_fav_pre = df_power_coefs[df_power_coefs.f_pow.isin(['Fav', 'Pre'])].copy()"
   ]
  },
  {
   "cell_type": "code",
   "execution_count": 108,
   "metadata": {},
   "outputs": [],
   "source": [
    "# Stop"
   ]
  },
  {
   "cell_type": "markdown",
   "metadata": {},
   "source": [
    "#### Set description"
   ]
  },
  {
   "cell_type": "code",
   "execution_count": 109,
   "metadata": {},
   "outputs": [],
   "source": [
    "# 'pow_coef_2'\n",
    "df_fav_pre['desc'] = 'sum_coef_13'"
   ]
  },
  {
   "cell_type": "code",
   "execution_count": 110,
   "metadata": {},
   "outputs": [],
   "source": [
    "df_fav_pre.reset_index(drop=True, inplace=True)"
   ]
  },
  {
   "cell_type": "code",
   "execution_count": 111,
   "metadata": {},
   "outputs": [
    {
     "name": "stdout",
     "output_type": "stream",
     "text": [
      "shape -  34501\n"
     ]
    },
    {
     "data": {
      "text/html": [
       "<div>\n",
       "<style scoped>\n",
       "    .dataframe tbody tr th:only-of-type {\n",
       "        vertical-align: middle;\n",
       "    }\n",
       "\n",
       "    .dataframe tbody tr th {\n",
       "        vertical-align: top;\n",
       "    }\n",
       "\n",
       "    .dataframe thead th {\n",
       "        text-align: right;\n",
       "    }\n",
       "</style>\n",
       "<table border=\"1\" class=\"dataframe\">\n",
       "  <thead>\n",
       "    <tr style=\"text-align: right;\">\n",
       "      <th></th>\n",
       "      <th>game_id</th>\n",
       "      <th>ligue_header</th>\n",
       "      <th>comp_id</th>\n",
       "      <th>season_id</th>\n",
       "      <th>game_utc</th>\n",
       "      <th>game_title</th>\n",
       "      <th>goals</th>\n",
       "      <th>ligue</th>\n",
       "      <th>f_team</th>\n",
       "      <th>pos_f</th>\n",
       "      <th>pts_f</th>\n",
       "      <th>pos_s</th>\n",
       "      <th>pts_s</th>\n",
       "      <th>fs_pos_max</th>\n",
       "      <th>fs_pts_max</th>\n",
       "      <th>f_pow</th>\n",
       "      <th>desc</th>\n",
       "    </tr>\n",
       "  </thead>\n",
       "  <tbody>\n",
       "    <tr>\n",
       "      <th>34498</th>\n",
       "      <td>15109586</td>\n",
       "      <td>Thai League 1</td>\n",
       "      <td>718</td>\n",
       "      <td>298</td>\n",
       "      <td>28.03.2021 11:00</td>\n",
       "      <td>Buriram United - BEC Tero Sasana</td>\n",
       "      <td>2:0</td>\n",
       "      <td>thr</td>\n",
       "      <td>Buriram United</td>\n",
       "      <td>2.0</td>\n",
       "      <td>63.0</td>\n",
       "      <td>11.0</td>\n",
       "      <td>36.0</td>\n",
       "      <td>2 - 11, 16</td>\n",
       "      <td>63 - 36, 77</td>\n",
       "      <td>Fav</td>\n",
       "      <td>sum_coef_13</td>\n",
       "    </tr>\n",
       "    <tr>\n",
       "      <th>34499</th>\n",
       "      <td>15197083</td>\n",
       "      <td>Birinci Divizion</td>\n",
       "      <td>476</td>\n",
       "      <td>306</td>\n",
       "      <td>28.03.2021 11:00</td>\n",
       "      <td>Neftchi II - Sumqayıt II</td>\n",
       "      <td>6:2</td>\n",
       "      <td>thr</td>\n",
       "      <td>Neftchi II</td>\n",
       "      <td>1.0</td>\n",
       "      <td>64.0</td>\n",
       "      <td>9.0</td>\n",
       "      <td>22.0</td>\n",
       "      <td>1 - 9, 10</td>\n",
       "      <td>64 - 22, 64</td>\n",
       "      <td>Fav</td>\n",
       "      <td>sum_coef_13</td>\n",
       "    </tr>\n",
       "    <tr>\n",
       "      <th>34500</th>\n",
       "      <td>15092974</td>\n",
       "      <td>National Football League</td>\n",
       "      <td>575</td>\n",
       "      <td>307</td>\n",
       "      <td>28.03.2021 03:00</td>\n",
       "      <td>Navua - Rewa</td>\n",
       "      <td>1:2</td>\n",
       "      <td>thr</td>\n",
       "      <td>Navua</td>\n",
       "      <td>7.0</td>\n",
       "      <td>9.0</td>\n",
       "      <td>2.0</td>\n",
       "      <td>25.0</td>\n",
       "      <td>7 - 2, 8</td>\n",
       "      <td>9 - 25, 30</td>\n",
       "      <td>Pre</td>\n",
       "      <td>sum_coef_13</td>\n",
       "    </tr>\n",
       "  </tbody>\n",
       "</table>\n",
       "</div>"
      ],
      "text/plain": [
       "        game_id              ligue_header comp_id season_id          game_utc  \\\n",
       "34498  15109586             Thai League 1     718       298  28.03.2021 11:00   \n",
       "34499  15197083          Birinci Divizion     476       306  28.03.2021 11:00   \n",
       "34500  15092974  National Football League     575       307  28.03.2021 03:00   \n",
       "\n",
       "                             game_title goals ligue          f_team  pos_f  \\\n",
       "34498  Buriram United - BEC Tero Sasana   2:0   thr  Buriram United    2.0   \n",
       "34499          Neftchi II - Sumqayıt II   6:2   thr      Neftchi II    1.0   \n",
       "34500                      Navua - Rewa   1:2   thr           Navua    7.0   \n",
       "\n",
       "       pts_f  pos_s  pts_s  fs_pos_max   fs_pts_max f_pow         desc  \n",
       "34498   63.0   11.0   36.0  2 - 11, 16  63 - 36, 77   Fav  sum_coef_13  \n",
       "34499   64.0    9.0   22.0   1 - 9, 10  64 - 22, 64   Fav  sum_coef_13  \n",
       "34500    9.0    2.0   25.0    7 - 2, 8   9 - 25, 30   Pre  sum_coef_13  "
      ]
     },
     "execution_count": 111,
     "metadata": {},
     "output_type": "execute_result"
    }
   ],
   "source": [
    "print('shape - ', df_fav_pre.shape[0])\n",
    "df_fav_pre.tail(3)"
   ]
  },
  {
   "cell_type": "code",
   "execution_count": 112,
   "metadata": {},
   "outputs": [],
   "source": [
    "df_for_cities = df_fav_pre.copy()"
   ]
  },
  {
   "cell_type": "code",
   "execution_count": 113,
   "metadata": {},
   "outputs": [
    {
     "data": {
      "text/plain": [
       "(34501, 17)"
      ]
     },
     "execution_count": 113,
     "metadata": {},
     "output_type": "execute_result"
    }
   ],
   "source": [
    "df_for_cities.shape"
   ]
  },
  {
   "cell_type": "code",
   "execution_count": 114,
   "metadata": {},
   "outputs": [],
   "source": [
    "# Stop"
   ]
  },
  {
   "cell_type": "markdown",
   "metadata": {},
   "source": [
    "#### Remove previous game_ids with 'pow_coef_2' description if exist."
   ]
  },
  {
   "cell_type": "code",
   "execution_count": 115,
   "metadata": {},
   "outputs": [
    {
     "name": "stdout",
     "output_type": "stream",
     "text": [
      "dir_data -  26_05_2022\n"
     ]
    }
   ],
   "source": [
    "print('dir_data - ', dir_data)\n",
    "with open('pickle_files/aspected_files/df_with_aspects_' + dir_data, 'rb') as f:\n",
    "    df_with_asps = pickle.load(f)"
   ]
  },
  {
   "cell_type": "code",
   "execution_count": 116,
   "metadata": {},
   "outputs": [
    {
     "data": {
      "text/plain": [
       "(8947, 27)"
      ]
     },
     "execution_count": 116,
     "metadata": {},
     "output_type": "execute_result"
    }
   ],
   "source": [
    "df_with_asps.shape"
   ]
  },
  {
   "cell_type": "code",
   "execution_count": 117,
   "metadata": {},
   "outputs": [
    {
     "name": "stdout",
     "output_type": "stream",
     "text": [
      "shape -  (26040, 17)\n"
     ]
    },
    {
     "data": {
      "text/html": [
       "<div>\n",
       "<style scoped>\n",
       "    .dataframe tbody tr th:only-of-type {\n",
       "        vertical-align: middle;\n",
       "    }\n",
       "\n",
       "    .dataframe tbody tr th {\n",
       "        vertical-align: top;\n",
       "    }\n",
       "\n",
       "    .dataframe thead th {\n",
       "        text-align: right;\n",
       "    }\n",
       "</style>\n",
       "<table border=\"1\" class=\"dataframe\">\n",
       "  <thead>\n",
       "    <tr style=\"text-align: right;\">\n",
       "      <th></th>\n",
       "      <th>game_id</th>\n",
       "      <th>ligue_header</th>\n",
       "      <th>comp_id</th>\n",
       "      <th>season_id</th>\n",
       "      <th>game_utc</th>\n",
       "      <th>game_title</th>\n",
       "      <th>goals</th>\n",
       "      <th>ligue</th>\n",
       "      <th>f_team</th>\n",
       "      <th>pos_f</th>\n",
       "      <th>pts_f</th>\n",
       "      <th>pos_s</th>\n",
       "      <th>pts_s</th>\n",
       "      <th>fs_pos_max</th>\n",
       "      <th>fs_pts_max</th>\n",
       "      <th>f_pow</th>\n",
       "      <th>desc</th>\n",
       "    </tr>\n",
       "  </thead>\n",
       "  <tbody>\n",
       "    <tr>\n",
       "      <th>26037</th>\n",
       "      <td>15109590</td>\n",
       "      <td>Thai League 1</td>\n",
       "      <td>718</td>\n",
       "      <td>298</td>\n",
       "      <td>28.03.2021 11:00</td>\n",
       "      <td>Rayong - Chonburi</td>\n",
       "      <td>1:1</td>\n",
       "      <td>thr</td>\n",
       "      <td>Rayong</td>\n",
       "      <td>16.0</td>\n",
       "      <td>15.0</td>\n",
       "      <td>12.0</td>\n",
       "      <td>32.0</td>\n",
       "      <td>16 - 12, 16</td>\n",
       "      <td>15 - 32, 77</td>\n",
       "      <td>Pre</td>\n",
       "      <td>sum_coef_13</td>\n",
       "    </tr>\n",
       "    <tr>\n",
       "      <th>26038</th>\n",
       "      <td>15109586</td>\n",
       "      <td>Thai League 1</td>\n",
       "      <td>718</td>\n",
       "      <td>298</td>\n",
       "      <td>28.03.2021 11:00</td>\n",
       "      <td>Buriram United - BEC Tero Sasana</td>\n",
       "      <td>2:0</td>\n",
       "      <td>thr</td>\n",
       "      <td>Buriram United</td>\n",
       "      <td>2.0</td>\n",
       "      <td>63.0</td>\n",
       "      <td>11.0</td>\n",
       "      <td>36.0</td>\n",
       "      <td>2 - 11, 16</td>\n",
       "      <td>63 - 36, 77</td>\n",
       "      <td>Fav</td>\n",
       "      <td>sum_coef_13</td>\n",
       "    </tr>\n",
       "    <tr>\n",
       "      <th>26039</th>\n",
       "      <td>15092974</td>\n",
       "      <td>National Football League</td>\n",
       "      <td>575</td>\n",
       "      <td>307</td>\n",
       "      <td>28.03.2021 03:00</td>\n",
       "      <td>Navua - Rewa</td>\n",
       "      <td>1:2</td>\n",
       "      <td>thr</td>\n",
       "      <td>Navua</td>\n",
       "      <td>7.0</td>\n",
       "      <td>9.0</td>\n",
       "      <td>2.0</td>\n",
       "      <td>25.0</td>\n",
       "      <td>7 - 2, 8</td>\n",
       "      <td>9 - 25, 30</td>\n",
       "      <td>Pre</td>\n",
       "      <td>sum_coef_13</td>\n",
       "    </tr>\n",
       "  </tbody>\n",
       "</table>\n",
       "</div>"
      ],
      "text/plain": [
       "        game_id              ligue_header comp_id season_id          game_utc  \\\n",
       "26037  15109590             Thai League 1     718       298  28.03.2021 11:00   \n",
       "26038  15109586             Thai League 1     718       298  28.03.2021 11:00   \n",
       "26039  15092974  National Football League     575       307  28.03.2021 03:00   \n",
       "\n",
       "                             game_title goals ligue          f_team  pos_f  \\\n",
       "26037                 Rayong - Chonburi   1:1   thr          Rayong   16.0   \n",
       "26038  Buriram United - BEC Tero Sasana   2:0   thr  Buriram United    2.0   \n",
       "26039                      Navua - Rewa   1:2   thr           Navua    7.0   \n",
       "\n",
       "       pts_f  pos_s  pts_s   fs_pos_max   fs_pts_max f_pow         desc  \n",
       "26037   15.0   12.0   32.0  16 - 12, 16  15 - 32, 77   Pre  sum_coef_13  \n",
       "26038   63.0   11.0   36.0   2 - 11, 16  63 - 36, 77   Fav  sum_coef_13  \n",
       "26039    9.0    2.0   25.0     7 - 2, 8   9 - 25, 30   Pre  sum_coef_13  "
      ]
     },
     "execution_count": 117,
     "metadata": {},
     "output_type": "execute_result"
    }
   ],
   "source": [
    "df_for_cities = df_for_cities[~df_for_cities.game_id.isin(df_with_asps.game_id)].copy().reset_index(drop=True)\n",
    "print('shape - ', df_for_cities.shape)\n",
    "df_for_cities.tail(3)"
   ]
  },
  {
   "cell_type": "markdown",
   "metadata": {},
   "source": [
    "#### Add cities and countries. Got ids from 'soccer365' site. Check last created file."
   ]
  },
  {
   "cell_type": "code",
   "execution_count": 118,
   "metadata": {},
   "outputs": [],
   "source": [
    "with open('pickle_files/cities_countries/df_countries_champ_ids_created_20_07_22', 'rb') as f:\n",
    "    df_countries = pickle.load(f)"
   ]
  },
  {
   "cell_type": "code",
   "execution_count": 119,
   "metadata": {},
   "outputs": [],
   "source": [
    "df_countries.drop_duplicates(subset=['comp_id', 'country'], inplace=True)\n",
    "df_countries = df_countries[~df_countries.country.isin([''])]\n",
    "df_countries.reset_index(drop=True, inplace=True)"
   ]
  },
  {
   "cell_type": "code",
   "execution_count": 120,
   "metadata": {},
   "outputs": [
    {
     "name": "stdout",
     "output_type": "stream",
     "text": [
      "shape -  (385, 2)\n"
     ]
    },
    {
     "data": {
      "text/html": [
       "<div>\n",
       "<style scoped>\n",
       "    .dataframe tbody tr th:only-of-type {\n",
       "        vertical-align: middle;\n",
       "    }\n",
       "\n",
       "    .dataframe tbody tr th {\n",
       "        vertical-align: top;\n",
       "    }\n",
       "\n",
       "    .dataframe thead th {\n",
       "        text-align: right;\n",
       "    }\n",
       "</style>\n",
       "<table border=\"1\" class=\"dataframe\">\n",
       "  <thead>\n",
       "    <tr style=\"text-align: right;\">\n",
       "      <th></th>\n",
       "      <th>comp_id</th>\n",
       "      <th>country</th>\n",
       "    </tr>\n",
       "  </thead>\n",
       "  <tbody>\n",
       "    <tr>\n",
       "      <th>0</th>\n",
       "      <td>12</td>\n",
       "      <td>England</td>\n",
       "    </tr>\n",
       "    <tr>\n",
       "      <th>1</th>\n",
       "      <td>13</td>\n",
       "      <td>Russia</td>\n",
       "    </tr>\n",
       "    <tr>\n",
       "      <th>2</th>\n",
       "      <td>14</td>\n",
       "      <td>Ukraine</td>\n",
       "    </tr>\n",
       "    <tr>\n",
       "      <th>3</th>\n",
       "      <td>15</td>\n",
       "      <td>Italy</td>\n",
       "    </tr>\n",
       "    <tr>\n",
       "      <th>4</th>\n",
       "      <td>16</td>\n",
       "      <td>Spain</td>\n",
       "    </tr>\n",
       "    <tr>\n",
       "      <th>...</th>\n",
       "      <td>...</td>\n",
       "      <td>...</td>\n",
       "    </tr>\n",
       "    <tr>\n",
       "      <th>380</th>\n",
       "      <td>1199</td>\n",
       "      <td>nd</td>\n",
       "    </tr>\n",
       "    <tr>\n",
       "      <th>381</th>\n",
       "      <td>526</td>\n",
       "      <td>nd</td>\n",
       "    </tr>\n",
       "    <tr>\n",
       "      <th>382</th>\n",
       "      <td>780</td>\n",
       "      <td>nd</td>\n",
       "    </tr>\n",
       "    <tr>\n",
       "      <th>383</th>\n",
       "      <td>2062</td>\n",
       "      <td>Mexico</td>\n",
       "    </tr>\n",
       "    <tr>\n",
       "      <th>384</th>\n",
       "      <td>2076</td>\n",
       "      <td>nd</td>\n",
       "    </tr>\n",
       "  </tbody>\n",
       "</table>\n",
       "<p>385 rows × 2 columns</p>\n",
       "</div>"
      ],
      "text/plain": [
       "    comp_id  country\n",
       "0        12  England\n",
       "1        13   Russia\n",
       "2        14  Ukraine\n",
       "3        15    Italy\n",
       "4        16    Spain\n",
       "..      ...      ...\n",
       "380    1199       nd\n",
       "381     526       nd\n",
       "382     780       nd\n",
       "383    2062   Mexico\n",
       "384    2076       nd\n",
       "\n",
       "[385 rows x 2 columns]"
      ]
     },
     "execution_count": 120,
     "metadata": {},
     "output_type": "execute_result"
    }
   ],
   "source": [
    "print('shape - ', df_countries.shape)\n",
    "df_countries"
   ]
  },
  {
   "cell_type": "code",
   "execution_count": 121,
   "metadata": {},
   "outputs": [
    {
     "data": {
      "text/plain": [
       "'set()'"
      ]
     },
     "execution_count": 121,
     "metadata": {},
     "output_type": "execute_result"
    }
   ],
   "source": [
    "str(set(df_for_cities[~df_for_cities.comp_id.isin(df_countries.comp_id)].comp_id))"
   ]
  },
  {
   "cell_type": "code",
   "execution_count": 122,
   "metadata": {},
   "outputs": [],
   "source": [
    "# '467':'Australia', 538':'Canada', '1695':'Kenya', '719':'Trinidad and Tobago', '583':'Gabon', '702':'Slovakia', '663':'New Zealand', '1074':'South Africa'\n",
    "# '1767':'USA', '594':'Haiti', '608':'Indonesia', '497':'Brazil', '696':'Senegal', '490':'Bhutan', '662':'Namibia', '480':'Barbados', '1078':'Guinea'\n",
    "# '1081':'Burkina Faso', '573':'Faroe Islands', '2062': 'Mexico'"
   ]
  },
  {
   "cell_type": "code",
   "execution_count": 123,
   "metadata": {},
   "outputs": [],
   "source": [
    "# df_countries = df_countries.append({'comp_id':'2076', 'country':'nd'}, ignore_index=True)"
   ]
  },
  {
   "cell_type": "code",
   "execution_count": 124,
   "metadata": {},
   "outputs": [],
   "source": [
    "# file = open('pickle_files/cities_countries/df_countries_champ_ids_created_20_07_22', 'wb')\n",
    "# pickle.dump(df_countries, file)  \n",
    "# file.close()"
   ]
  },
  {
   "cell_type": "code",
   "execution_count": 125,
   "metadata": {},
   "outputs": [
    {
     "name": "stdout",
     "output_type": "stream",
     "text": [
      "shape -  26040\n"
     ]
    },
    {
     "data": {
      "text/html": [
       "<div>\n",
       "<style scoped>\n",
       "    .dataframe tbody tr th:only-of-type {\n",
       "        vertical-align: middle;\n",
       "    }\n",
       "\n",
       "    .dataframe tbody tr th {\n",
       "        vertical-align: top;\n",
       "    }\n",
       "\n",
       "    .dataframe thead th {\n",
       "        text-align: right;\n",
       "    }\n",
       "</style>\n",
       "<table border=\"1\" class=\"dataframe\">\n",
       "  <thead>\n",
       "    <tr style=\"text-align: right;\">\n",
       "      <th></th>\n",
       "      <th>game_id</th>\n",
       "      <th>ligue_header</th>\n",
       "      <th>comp_id</th>\n",
       "      <th>season_id</th>\n",
       "      <th>game_utc</th>\n",
       "      <th>game_title</th>\n",
       "      <th>goals</th>\n",
       "      <th>ligue</th>\n",
       "      <th>f_team</th>\n",
       "      <th>pos_f</th>\n",
       "      <th>pts_f</th>\n",
       "      <th>pos_s</th>\n",
       "      <th>pts_s</th>\n",
       "      <th>fs_pos_max</th>\n",
       "      <th>fs_pts_max</th>\n",
       "      <th>f_pow</th>\n",
       "      <th>desc</th>\n",
       "    </tr>\n",
       "  </thead>\n",
       "  <tbody>\n",
       "    <tr>\n",
       "      <th>26037</th>\n",
       "      <td>15109590</td>\n",
       "      <td>Thai League 1</td>\n",
       "      <td>718</td>\n",
       "      <td>298</td>\n",
       "      <td>28.03.2021 11:00</td>\n",
       "      <td>Rayong - Chonburi</td>\n",
       "      <td>1:1</td>\n",
       "      <td>thr</td>\n",
       "      <td>Rayong</td>\n",
       "      <td>16.0</td>\n",
       "      <td>15.0</td>\n",
       "      <td>12.0</td>\n",
       "      <td>32.0</td>\n",
       "      <td>16 - 12, 16</td>\n",
       "      <td>15 - 32, 77</td>\n",
       "      <td>Pre</td>\n",
       "      <td>sum_coef_13</td>\n",
       "    </tr>\n",
       "    <tr>\n",
       "      <th>26038</th>\n",
       "      <td>15109586</td>\n",
       "      <td>Thai League 1</td>\n",
       "      <td>718</td>\n",
       "      <td>298</td>\n",
       "      <td>28.03.2021 11:00</td>\n",
       "      <td>Buriram United - BEC Tero Sasana</td>\n",
       "      <td>2:0</td>\n",
       "      <td>thr</td>\n",
       "      <td>Buriram United</td>\n",
       "      <td>2.0</td>\n",
       "      <td>63.0</td>\n",
       "      <td>11.0</td>\n",
       "      <td>36.0</td>\n",
       "      <td>2 - 11, 16</td>\n",
       "      <td>63 - 36, 77</td>\n",
       "      <td>Fav</td>\n",
       "      <td>sum_coef_13</td>\n",
       "    </tr>\n",
       "    <tr>\n",
       "      <th>26039</th>\n",
       "      <td>15092974</td>\n",
       "      <td>National Football League</td>\n",
       "      <td>575</td>\n",
       "      <td>307</td>\n",
       "      <td>28.03.2021 03:00</td>\n",
       "      <td>Navua - Rewa</td>\n",
       "      <td>1:2</td>\n",
       "      <td>thr</td>\n",
       "      <td>Navua</td>\n",
       "      <td>7.0</td>\n",
       "      <td>9.0</td>\n",
       "      <td>2.0</td>\n",
       "      <td>25.0</td>\n",
       "      <td>7 - 2, 8</td>\n",
       "      <td>9 - 25, 30</td>\n",
       "      <td>Pre</td>\n",
       "      <td>sum_coef_13</td>\n",
       "    </tr>\n",
       "  </tbody>\n",
       "</table>\n",
       "</div>"
      ],
      "text/plain": [
       "        game_id              ligue_header comp_id season_id          game_utc  \\\n",
       "26037  15109590             Thai League 1     718       298  28.03.2021 11:00   \n",
       "26038  15109586             Thai League 1     718       298  28.03.2021 11:00   \n",
       "26039  15092974  National Football League     575       307  28.03.2021 03:00   \n",
       "\n",
       "                             game_title goals ligue          f_team  pos_f  \\\n",
       "26037                 Rayong - Chonburi   1:1   thr          Rayong   16.0   \n",
       "26038  Buriram United - BEC Tero Sasana   2:0   thr  Buriram United    2.0   \n",
       "26039                      Navua - Rewa   1:2   thr           Navua    7.0   \n",
       "\n",
       "       pts_f  pos_s  pts_s   fs_pos_max   fs_pts_max f_pow         desc  \n",
       "26037   15.0   12.0   32.0  16 - 12, 16  15 - 32, 77   Pre  sum_coef_13  \n",
       "26038   63.0   11.0   36.0   2 - 11, 16  63 - 36, 77   Fav  sum_coef_13  \n",
       "26039    9.0    2.0   25.0     7 - 2, 8   9 - 25, 30   Pre  sum_coef_13  "
      ]
     },
     "execution_count": 125,
     "metadata": {},
     "output_type": "execute_result"
    }
   ],
   "source": [
    "print('shape - ', df_for_cities.shape[0])\n",
    "df_for_cities.tail(3)"
   ]
  },
  {
   "cell_type": "code",
   "execution_count": 126,
   "metadata": {},
   "outputs": [],
   "source": [
    "df_for_cities = df_for_cities.merge(df_countries, how='left', left_on='comp_id', right_on='comp_id')"
   ]
  },
  {
   "cell_type": "code",
   "execution_count": 127,
   "metadata": {},
   "outputs": [
    {
     "data": {
      "text/plain": [
       "(26040, 18)"
      ]
     },
     "execution_count": 127,
     "metadata": {},
     "output_type": "execute_result"
    }
   ],
   "source": [
    "df_for_cities.shape"
   ]
  },
  {
   "cell_type": "code",
   "execution_count": 128,
   "metadata": {},
   "outputs": [
    {
     "data": {
      "text/plain": [
       "Spain       3580\n",
       "England     2894\n",
       "Italy       2369\n",
       "Germany     1746\n",
       "Russia       771\n",
       "            ... \n",
       "Tunisia        2\n",
       "Pakistan       2\n",
       "Haiti          2\n",
       "Suriname       2\n",
       "Guinea         1\n",
       "Name: country, Length: 133, dtype: int64"
      ]
     },
     "execution_count": 128,
     "metadata": {},
     "output_type": "execute_result"
    }
   ],
   "source": [
    "df_for_cities.country.value_counts(dropna=False)"
   ]
  },
  {
   "cell_type": "code",
   "execution_count": 129,
   "metadata": {},
   "outputs": [],
   "source": [
    "# Stop"
   ]
  },
  {
   "cell_type": "markdown",
   "metadata": {},
   "source": [
    "#### Add new data. Check last created file."
   ]
  },
  {
   "cell_type": "code",
   "execution_count": 131,
   "metadata": {},
   "outputs": [],
   "source": [
    "with open('pickle_files/teams_data/df_tmd_main_created_22_07_2022', 'rb') as f:\n",
    "    df_teams_data = pickle.load(f)"
   ]
  },
  {
   "cell_type": "code",
   "execution_count": 132,
   "metadata": {},
   "outputs": [
    {
     "name": "stdout",
     "output_type": "stream",
     "text": [
      "shape -  9217\n"
     ]
    },
    {
     "data": {
      "text/html": [
       "<div>\n",
       "<style scoped>\n",
       "    .dataframe tbody tr th:only-of-type {\n",
       "        vertical-align: middle;\n",
       "    }\n",
       "\n",
       "    .dataframe tbody tr th {\n",
       "        vertical-align: top;\n",
       "    }\n",
       "\n",
       "    .dataframe thead th {\n",
       "        text-align: right;\n",
       "    }\n",
       "</style>\n",
       "<table border=\"1\" class=\"dataframe\">\n",
       "  <thead>\n",
       "    <tr style=\"text-align: right;\">\n",
       "      <th></th>\n",
       "      <th>f_team</th>\n",
       "      <th>team_id</th>\n",
       "      <th>country</th>\n",
       "      <th>city</th>\n",
       "    </tr>\n",
       "  </thead>\n",
       "  <tbody>\n",
       "    <tr>\n",
       "      <th>9214</th>\n",
       "      <td>Song Lam Nghe An</td>\n",
       "      <td>11391</td>\n",
       "      <td>Vietnam</td>\n",
       "      <td>Vinh</td>\n",
       "    </tr>\n",
       "    <tr>\n",
       "      <th>9215</th>\n",
       "      <td>Heidelberg United</td>\n",
       "      <td>12529</td>\n",
       "      <td>Australia</td>\n",
       "      <td>Melbourne</td>\n",
       "    </tr>\n",
       "    <tr>\n",
       "      <th>9216</th>\n",
       "      <td>Mladost Medoševac</td>\n",
       "      <td>NaN</td>\n",
       "      <td>Serbia</td>\n",
       "      <td>Medoševac</td>\n",
       "    </tr>\n",
       "  </tbody>\n",
       "</table>\n",
       "</div>"
      ],
      "text/plain": [
       "                 f_team team_id    country       city\n",
       "9214   Song Lam Nghe An   11391    Vietnam       Vinh\n",
       "9215  Heidelberg United   12529  Australia  Melbourne\n",
       "9216  Mladost Medoševac     NaN     Serbia  Medoševac"
      ]
     },
     "execution_count": 132,
     "metadata": {},
     "output_type": "execute_result"
    }
   ],
   "source": [
    "print('shape - ', df_teams_data.shape[0])\n",
    "df_teams_data.tail(3)"
   ]
  },
  {
   "cell_type": "code",
   "execution_count": 133,
   "metadata": {},
   "outputs": [
    {
     "data": {
      "text/html": [
       "<div>\n",
       "<style scoped>\n",
       "    .dataframe tbody tr th:only-of-type {\n",
       "        vertical-align: middle;\n",
       "    }\n",
       "\n",
       "    .dataframe tbody tr th {\n",
       "        vertical-align: top;\n",
       "    }\n",
       "\n",
       "    .dataframe thead th {\n",
       "        text-align: right;\n",
       "    }\n",
       "</style>\n",
       "<table border=\"1\" class=\"dataframe\">\n",
       "  <thead>\n",
       "    <tr style=\"text-align: right;\">\n",
       "      <th></th>\n",
       "      <th>f_team</th>\n",
       "      <th>team_id</th>\n",
       "      <th>country</th>\n",
       "      <th>city</th>\n",
       "    </tr>\n",
       "  </thead>\n",
       "  <tbody>\n",
       "  </tbody>\n",
       "</table>\n",
       "</div>"
      ],
      "text/plain": [
       "Empty DataFrame\n",
       "Columns: [f_team, team_id, country, city]\n",
       "Index: []"
      ]
     },
     "execution_count": 133,
     "metadata": {},
     "output_type": "execute_result"
    }
   ],
   "source": [
    "df_teams_data[df_teams_data.duplicated(subset=['f_team', 'country'])]"
   ]
  },
  {
   "cell_type": "code",
   "execution_count": 134,
   "metadata": {},
   "outputs": [],
   "source": [
    "df_teams_data.rename(columns={'team':'f_team'}, inplace=True)"
   ]
  },
  {
   "cell_type": "code",
   "execution_count": 135,
   "metadata": {},
   "outputs": [
    {
     "name": "stdout",
     "output_type": "stream",
     "text": [
      "shape -  26040\n",
      "shape -  26040\n"
     ]
    }
   ],
   "source": [
    "print('shape - ', df_for_cities.shape[0])\n",
    "df_for_cities = df_for_cities.merge(df_teams_data, how='left', left_on=['f_team', 'country'], right_on=['f_team', 'country'])\n",
    "print('shape - ', df_for_cities.shape[0])"
   ]
  },
  {
   "cell_type": "code",
   "execution_count": 136,
   "metadata": {},
   "outputs": [
    {
     "data": {
      "text/html": [
       "<div>\n",
       "<style scoped>\n",
       "    .dataframe tbody tr th:only-of-type {\n",
       "        vertical-align: middle;\n",
       "    }\n",
       "\n",
       "    .dataframe tbody tr th {\n",
       "        vertical-align: top;\n",
       "    }\n",
       "\n",
       "    .dataframe thead th {\n",
       "        text-align: right;\n",
       "    }\n",
       "</style>\n",
       "<table border=\"1\" class=\"dataframe\">\n",
       "  <thead>\n",
       "    <tr style=\"text-align: right;\">\n",
       "      <th></th>\n",
       "      <th>game_id</th>\n",
       "      <th>ligue_header</th>\n",
       "      <th>comp_id</th>\n",
       "      <th>season_id</th>\n",
       "      <th>game_utc</th>\n",
       "      <th>game_title</th>\n",
       "      <th>goals</th>\n",
       "      <th>ligue</th>\n",
       "      <th>f_team</th>\n",
       "      <th>pos_f</th>\n",
       "      <th>pts_f</th>\n",
       "      <th>pos_s</th>\n",
       "      <th>pts_s</th>\n",
       "      <th>fs_pos_max</th>\n",
       "      <th>fs_pts_max</th>\n",
       "      <th>f_pow</th>\n",
       "      <th>desc</th>\n",
       "      <th>country</th>\n",
       "      <th>team_id</th>\n",
       "      <th>city</th>\n",
       "    </tr>\n",
       "  </thead>\n",
       "  <tbody>\n",
       "    <tr>\n",
       "      <th>0</th>\n",
       "      <td>1600750</td>\n",
       "      <td>FNL-2</td>\n",
       "      <td>1147</td>\n",
       "      <td>310</td>\n",
       "      <td>26.05.2022 15:00</td>\n",
       "      <td>Chernomorets Novorossiysk - Druzhba</td>\n",
       "      <td>5:1</td>\n",
       "      <td>thr</td>\n",
       "      <td>Chernomorets Novorossiysk</td>\n",
       "      <td>5.0</td>\n",
       "      <td>60.0</td>\n",
       "      <td>11.0</td>\n",
       "      <td>32.0</td>\n",
       "      <td>5 - 11, 17</td>\n",
       "      <td>60 - 32, 80</td>\n",
       "      <td>Fav</td>\n",
       "      <td>sum_coef_13</td>\n",
       "      <td>Russia</td>\n",
       "      <td>7407</td>\n",
       "      <td>Novorossiysk</td>\n",
       "    </tr>\n",
       "    <tr>\n",
       "      <th>1</th>\n",
       "      <td>1627637</td>\n",
       "      <td>Superliga</td>\n",
       "      <td>447</td>\n",
       "      <td>310</td>\n",
       "      <td>26.05.2022 15:00</td>\n",
       "      <td>Skenderbeu - Teuta Durrës</td>\n",
       "      <td>0:0</td>\n",
       "      <td>thr</td>\n",
       "      <td>Skenderbeu</td>\n",
       "      <td>10.0</td>\n",
       "      <td>26.0</td>\n",
       "      <td>6.0</td>\n",
       "      <td>50.0</td>\n",
       "      <td>10 - 6, 10</td>\n",
       "      <td>26 - 50, 73</td>\n",
       "      <td>Pre</td>\n",
       "      <td>sum_coef_13</td>\n",
       "      <td>Albania</td>\n",
       "      <td>734</td>\n",
       "      <td>Korçë</td>\n",
       "    </tr>\n",
       "    <tr>\n",
       "      <th>2</th>\n",
       "      <td>1627640</td>\n",
       "      <td>Superliga</td>\n",
       "      <td>447</td>\n",
       "      <td>310</td>\n",
       "      <td>26.05.2022 15:00</td>\n",
       "      <td>Tirana - Kukësi</td>\n",
       "      <td>2:3</td>\n",
       "      <td>thr</td>\n",
       "      <td>Tirana</td>\n",
       "      <td>1.0</td>\n",
       "      <td>73.0</td>\n",
       "      <td>4.0</td>\n",
       "      <td>55.0</td>\n",
       "      <td>1 - 4, 10</td>\n",
       "      <td>73 - 55, 73</td>\n",
       "      <td>Fav</td>\n",
       "      <td>sum_coef_13</td>\n",
       "      <td>Albania</td>\n",
       "      <td>None</td>\n",
       "      <td>Tirana</td>\n",
       "    </tr>\n",
       "  </tbody>\n",
       "</table>\n",
       "</div>"
      ],
      "text/plain": [
       "   game_id ligue_header comp_id season_id          game_utc  \\\n",
       "0  1600750        FNL-2    1147       310  26.05.2022 15:00   \n",
       "1  1627637    Superliga     447       310  26.05.2022 15:00   \n",
       "2  1627640    Superliga     447       310  26.05.2022 15:00   \n",
       "\n",
       "                            game_title goals ligue                     f_team  \\\n",
       "0  Chernomorets Novorossiysk - Druzhba   5:1   thr  Chernomorets Novorossiysk   \n",
       "1            Skenderbeu - Teuta Durrës   0:0   thr                 Skenderbeu   \n",
       "2                      Tirana - Kukësi   2:3   thr                     Tirana   \n",
       "\n",
       "   pos_f  pts_f  pos_s  pts_s  fs_pos_max   fs_pts_max f_pow         desc  \\\n",
       "0    5.0   60.0   11.0   32.0  5 - 11, 17  60 - 32, 80   Fav  sum_coef_13   \n",
       "1   10.0   26.0    6.0   50.0  10 - 6, 10  26 - 50, 73   Pre  sum_coef_13   \n",
       "2    1.0   73.0    4.0   55.0   1 - 4, 10  73 - 55, 73   Fav  sum_coef_13   \n",
       "\n",
       "   country team_id          city  \n",
       "0   Russia    7407  Novorossiysk  \n",
       "1  Albania     734         Korçë  \n",
       "2  Albania    None        Tirana  "
      ]
     },
     "execution_count": 136,
     "metadata": {},
     "output_type": "execute_result"
    }
   ],
   "source": [
    "df_for_cities.head(3)"
   ]
  },
  {
   "cell_type": "code",
   "execution_count": 137,
   "metadata": {},
   "outputs": [],
   "source": [
    "df_for_cities = df_for_cities[~df_for_cities.country.isin(['nd'])].reset_index(drop=True).copy()"
   ]
  },
  {
   "cell_type": "code",
   "execution_count": 138,
   "metadata": {},
   "outputs": [
    {
     "data": {
      "text/plain": [
       "London          193\n",
       "Madrid          185\n",
       "Buenos Aires    143\n",
       "Name: city, dtype: int64"
      ]
     },
     "execution_count": 138,
     "metadata": {},
     "output_type": "execute_result"
    }
   ],
   "source": [
    "df_for_cities.city.value_counts(dropna=False)[:3]"
   ]
  },
  {
   "cell_type": "markdown",
   "metadata": {},
   "source": [
    "#### Save this file and uncomment rows after manual adding cities and teams data"
   ]
  },
  {
   "cell_type": "code",
   "execution_count": 140,
   "metadata": {},
   "outputs": [],
   "source": [
    "# Stop"
   ]
  },
  {
   "cell_type": "code",
   "execution_count": 148,
   "metadata": {},
   "outputs": [],
   "source": [
    "# df_for_cities = df_for_cities[~df_for_cities.city.isna()].reset_index(drop=True).copy()"
   ]
  },
  {
   "cell_type": "code",
   "execution_count": 149,
   "metadata": {},
   "outputs": [],
   "source": [
    "# df_for_cities = df_for_cities[~df_for_cities.city.isin(['nd'])].reset_index(drop=True).copy()"
   ]
  },
  {
   "cell_type": "code",
   "execution_count": 150,
   "metadata": {},
   "outputs": [],
   "source": [
    "# df_for_cities"
   ]
  },
  {
   "cell_type": "code",
   "execution_count": 147,
   "metadata": {},
   "outputs": [],
   "source": [
    "# df_for_geo_coords = df_for_cities.copy()\n",
    "# print('shape - ', df_for_geo_coords.shape[0])\n",
    "# df_for_geo_coords.tail(3)"
   ]
  },
  {
   "cell_type": "code",
   "execution_count": 146,
   "metadata": {},
   "outputs": [],
   "source": [
    "# file = open('pickle_files/df_for_geo_coords_26_05_2022_sec', 'wb')\n",
    "# pickle.dump(df_for_geo_coords, file)  \n",
    "# file.close()"
   ]
  },
  {
   "cell_type": "markdown",
   "metadata": {},
   "source": [
    "#### For find teams with na cities"
   ]
  },
  {
   "cell_type": "code",
   "execution_count": null,
   "metadata": {},
   "outputs": [],
   "source": [
    "# df_na_cities = pd.DataFrame(df_for_cities[['f_team', 'country']][df_for_cities.city.isna()])"
   ]
  },
  {
   "cell_type": "code",
   "execution_count": null,
   "metadata": {},
   "outputs": [],
   "source": [
    "# df_na_cities = df_na_cities.drop_duplicates(subset=['f_team', 'country'], keep='first').reset_index(drop=True)"
   ]
  },
  {
   "cell_type": "code",
   "execution_count": null,
   "metadata": {},
   "outputs": [],
   "source": [
    "# df_na_cities"
   ]
  },
  {
   "cell_type": "code",
   "execution_count": null,
   "metadata": {},
   "outputs": [],
   "source": [
    "# df_teams_counts_na = df_for_cities[df_for_cities.city.isna()].f_team.value_counts()"
   ]
  },
  {
   "cell_type": "code",
   "execution_count": null,
   "metadata": {},
   "outputs": [],
   "source": [
    "# numb = 0"
   ]
  },
  {
   "cell_type": "code",
   "execution_count": null,
   "metadata": {},
   "outputs": [],
   "source": [
    "# len(df_teams_counts_na[df_teams_counts_na >= numb])"
   ]
  },
  {
   "cell_type": "code",
   "execution_count": null,
   "metadata": {},
   "outputs": [],
   "source": [
    "# df_teams_counts_na[df_teams_counts_na >= numb].values.sum()"
   ]
  },
  {
   "cell_type": "code",
   "execution_count": null,
   "metadata": {},
   "outputs": [],
   "source": [
    "# df_teams_counts_na"
   ]
  },
  {
   "cell_type": "code",
   "execution_count": null,
   "metadata": {},
   "outputs": [],
   "source": [
    "# df_teams_counts_na_numb = df_teams_counts_na[df_teams_counts_na >= numb].index"
   ]
  },
  {
   "cell_type": "code",
   "execution_count": null,
   "metadata": {},
   "outputs": [],
   "source": [
    "# df_teams_counts_na_numb"
   ]
  },
  {
   "cell_type": "code",
   "execution_count": null,
   "metadata": {},
   "outputs": [],
   "source": [
    "# df_teams_cities_na = df_na_cities[df_na_cities.f_team.isin(df_teams_counts_na_numb)].reset_index(drop=True)"
   ]
  },
  {
   "cell_type": "code",
   "execution_count": null,
   "metadata": {},
   "outputs": [],
   "source": [
    "# df_teams_cities_na"
   ]
  },
  {
   "cell_type": "code",
   "execution_count": null,
   "metadata": {},
   "outputs": [],
   "source": [
    "# dir_data"
   ]
  },
  {
   "cell_type": "code",
   "execution_count": null,
   "metadata": {},
   "outputs": [],
   "source": [
    "# file = open('pickle_files/df_teams_cities_na_' + dir_data, 'wb')\n",
    "# pickle.dump(df_teams_cities_na, file)  \n",
    "# file.close()"
   ]
  }
 ],
 "metadata": {
  "kernelspec": {
   "display_name": "Python 3 (ipykernel)",
   "language": "python",
   "name": "python3"
  },
  "language_info": {
   "codemirror_mode": {
    "name": "ipython",
    "version": 3
   },
   "file_extension": ".py",
   "mimetype": "text/x-python",
   "name": "python",
   "nbconvert_exporter": "python",
   "pygments_lexer": "ipython3",
   "version": "3.9.7"
  }
 },
 "nbformat": 4,
 "nbformat_minor": 4
}

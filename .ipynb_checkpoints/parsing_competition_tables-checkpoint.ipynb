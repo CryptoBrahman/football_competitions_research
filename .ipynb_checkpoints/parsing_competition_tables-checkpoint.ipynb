{
 "cells": [
  {
   "cell_type": "code",
   "execution_count": 2,
   "id": "about-pakistan",
   "metadata": {},
   "outputs": [],
   "source": [
    "import pickle\n",
    "import pandas as pd\n",
    "from _html_parser import HtmlParser, ParsingDataPrepare, TableConstant\n",
    "\n",
    "pd.set_option('display.max_rows', 10)\n",
    "pd.set_option('display.max_columns', 500)\n",
    "pd.set_option('display.max_colwidth', 500)"
   ]
  },
  {
   "cell_type": "code",
   "execution_count": 3,
   "id": "116e5aa8-2c17-4aff-bd28-579d6688de5d",
   "metadata": {},
   "outputs": [],
   "source": [
    "%load_ext autoreload\n",
    "%autoreload 2"
   ]
  },
  {
   "cell_type": "markdown",
   "id": "grand-windows",
   "metadata": {},
   "source": [
    "### Competitions tables parser"
   ]
  },
  {
   "cell_type": "code",
   "execution_count": 157,
   "id": "neutral-medication",
   "metadata": {},
   "outputs": [],
   "source": [
    "# df_26_05_2022_to_27_03_2021_games, df_26_03_2021_to_03_11_2013_games, df_02_11_2013_to_10_07_2005_games, df_09_07_2005_to_01_01_2000_games\n",
    "# df_29_12_1999_to_15_08_1998_games\n",
    "with open('pickle_files/new_events/26_03_2021/df_26_03_2021_to_03_11_2013_games', 'rb') as f:\n",
    "    df_games = pickle.load(f)"
   ]
  },
  {
   "cell_type": "code",
   "execution_count": 158,
   "id": "a737b6c7-639d-4e9a-bd70-c85a88283f1f",
   "metadata": {},
   "outputs": [
    {
     "data": {
      "text/html": [
       "<div>\n",
       "<style scoped>\n",
       "    .dataframe tbody tr th:only-of-type {\n",
       "        vertical-align: middle;\n",
       "    }\n",
       "\n",
       "    .dataframe tbody tr th {\n",
       "        vertical-align: top;\n",
       "    }\n",
       "\n",
       "    .dataframe thead th {\n",
       "        text-align: right;\n",
       "    }\n",
       "</style>\n",
       "<table border=\"1\" class=\"dataframe\">\n",
       "  <thead>\n",
       "    <tr style=\"text-align: right;\">\n",
       "      <th></th>\n",
       "      <th>game_id</th>\n",
       "      <th>ligue_header</th>\n",
       "      <th>comp_id</th>\n",
       "      <th>season_id</th>\n",
       "      <th>game_utc</th>\n",
       "      <th>game_title</th>\n",
       "      <th>goals</th>\n",
       "      <th>ligue</th>\n",
       "    </tr>\n",
       "  </thead>\n",
       "  <tbody>\n",
       "    <tr>\n",
       "      <th>0</th>\n",
       "      <td>1458512</td>\n",
       "      <td>Segunda División</td>\n",
       "      <td>707</td>\n",
       "      <td>306</td>\n",
       "      <td>26.03.2021 17:00</td>\n",
       "      <td>Sporting Gijón - Alcorcón</td>\n",
       "      <td>0:0</td>\n",
       "      <td>top</td>\n",
       "    </tr>\n",
       "    <tr>\n",
       "      <th>1</th>\n",
       "      <td>1458506</td>\n",
       "      <td>Segunda División</td>\n",
       "      <td>707</td>\n",
       "      <td>306</td>\n",
       "      <td>26.03.2021 19:00</td>\n",
       "      <td>Castellon - Espanyol</td>\n",
       "      <td>1:3</td>\n",
       "      <td>top</td>\n",
       "    </tr>\n",
       "    <tr>\n",
       "      <th>2</th>\n",
       "      <td>1459331</td>\n",
       "      <td>First League</td>\n",
       "      <td>435</td>\n",
       "      <td>306</td>\n",
       "      <td>26.03.2021 11:00</td>\n",
       "      <td>Mykolaiv - Alians Lypova Dolyna</td>\n",
       "      <td>2:0</td>\n",
       "      <td>sec</td>\n",
       "    </tr>\n",
       "    <tr>\n",
       "      <th>3</th>\n",
       "      <td>1459330</td>\n",
       "      <td>First League</td>\n",
       "      <td>435</td>\n",
       "      <td>306</td>\n",
       "      <td>26.03.2021 11:00</td>\n",
       "      <td>Polessya - Krystal Kherson</td>\n",
       "      <td>1:1</td>\n",
       "      <td>sec</td>\n",
       "    </tr>\n",
       "    <tr>\n",
       "      <th>4</th>\n",
       "      <td>1459334</td>\n",
       "      <td>First League</td>\n",
       "      <td>435</td>\n",
       "      <td>306</td>\n",
       "      <td>26.03.2021 12:00</td>\n",
       "      <td>Kremin - Hirnyk-Sport</td>\n",
       "      <td>1:1</td>\n",
       "      <td>sec</td>\n",
       "    </tr>\n",
       "    <tr>\n",
       "      <th>...</th>\n",
       "      <td>...</td>\n",
       "      <td>...</td>\n",
       "      <td>...</td>\n",
       "      <td>...</td>\n",
       "      <td>...</td>\n",
       "      <td>...</td>\n",
       "      <td>...</td>\n",
       "      <td>...</td>\n",
       "    </tr>\n",
       "    <tr>\n",
       "      <th>480417</th>\n",
       "      <td>14362043</td>\n",
       "      <td>Oberliga</td>\n",
       "      <td>428</td>\n",
       "      <td>38</td>\n",
       "      <td>09.11.2013 14:00</td>\n",
       "      <td>Jeddeloh - Osnabruck II</td>\n",
       "      <td>3:3</td>\n",
       "      <td>thr</td>\n",
       "    </tr>\n",
       "    <tr>\n",
       "      <th>480418</th>\n",
       "      <td>15052857</td>\n",
       "      <td>Premier League</td>\n",
       "      <td>670</td>\n",
       "      <td>3</td>\n",
       "      <td>06.11.2013 09:00</td>\n",
       "      <td>Karachi Port Trust - Khan Research Laboratories</td>\n",
       "      <td>0:2</td>\n",
       "      <td>thr</td>\n",
       "    </tr>\n",
       "    <tr>\n",
       "      <th>480419</th>\n",
       "      <td>15052851</td>\n",
       "      <td>Premier League</td>\n",
       "      <td>670</td>\n",
       "      <td>3</td>\n",
       "      <td>04.11.2013 09:00</td>\n",
       "      <td>Pakistan Navy - WAPDA FC</td>\n",
       "      <td>0:0</td>\n",
       "      <td>thr</td>\n",
       "    </tr>\n",
       "    <tr>\n",
       "      <th>480420</th>\n",
       "      <td>15052852</td>\n",
       "      <td>Premier League</td>\n",
       "      <td>670</td>\n",
       "      <td>3</td>\n",
       "      <td>04.11.2013 09:00</td>\n",
       "      <td>Afghan FC - Pakistan Army</td>\n",
       "      <td>0:0</td>\n",
       "      <td>thr</td>\n",
       "    </tr>\n",
       "    <tr>\n",
       "      <th>480421</th>\n",
       "      <td>15052853</td>\n",
       "      <td>Premier League</td>\n",
       "      <td>670</td>\n",
       "      <td>3</td>\n",
       "      <td>04.11.2013 09:00</td>\n",
       "      <td>Muslim - Khan Research Laboratories</td>\n",
       "      <td>1:1</td>\n",
       "      <td>thr</td>\n",
       "    </tr>\n",
       "  </tbody>\n",
       "</table>\n",
       "<p>480422 rows × 8 columns</p>\n",
       "</div>"
      ],
      "text/plain": [
       "         game_id      ligue_header comp_id season_id          game_utc  \\\n",
       "0        1458512  Segunda División     707       306  26.03.2021 17:00   \n",
       "1        1458506  Segunda División     707       306  26.03.2021 19:00   \n",
       "2        1459331      First League     435       306  26.03.2021 11:00   \n",
       "3        1459330      First League     435       306  26.03.2021 11:00   \n",
       "4        1459334      First League     435       306  26.03.2021 12:00   \n",
       "...          ...               ...     ...       ...               ...   \n",
       "480417  14362043          Oberliga     428        38  09.11.2013 14:00   \n",
       "480418  15052857    Premier League     670         3  06.11.2013 09:00   \n",
       "480419  15052851    Premier League     670         3  04.11.2013 09:00   \n",
       "480420  15052852    Premier League     670         3  04.11.2013 09:00   \n",
       "480421  15052853    Premier League     670         3  04.11.2013 09:00   \n",
       "\n",
       "                                             game_title goals ligue  \n",
       "0                             Sporting Gijón - Alcorcón   0:0   top  \n",
       "1                                  Castellon - Espanyol   1:3   top  \n",
       "2                       Mykolaiv - Alians Lypova Dolyna   2:0   sec  \n",
       "3                            Polessya - Krystal Kherson   1:1   sec  \n",
       "4                                 Kremin - Hirnyk-Sport   1:1   sec  \n",
       "...                                                 ...   ...   ...  \n",
       "480417                          Jeddeloh - Osnabruck II   3:3   thr  \n",
       "480418  Karachi Port Trust - Khan Research Laboratories   0:2   thr  \n",
       "480419                         Pakistan Navy - WAPDA FC   0:0   thr  \n",
       "480420                        Afghan FC - Pakistan Army   0:0   thr  \n",
       "480421              Muslim - Khan Research Laboratories   1:1   thr  \n",
       "\n",
       "[480422 rows x 8 columns]"
      ]
     },
     "execution_count": 158,
     "metadata": {},
     "output_type": "execute_result"
    }
   ],
   "source": [
    "df_games"
   ]
  },
  {
   "cell_type": "code",
   "execution_count": 57,
   "id": "environmental-compound",
   "metadata": {},
   "outputs": [],
   "source": [
    "comp_seasons = ParsingDataPrepare.competition_season_ids(df_games)"
   ]
  },
  {
   "cell_type": "code",
   "execution_count": 58,
   "id": "9a527e47-5bf5-499c-b9d2-382bb21ab69e",
   "metadata": {},
   "outputs": [
    {
     "data": {
      "text/plain": [
       "('19', [])"
      ]
     },
     "execution_count": 58,
     "metadata": {},
     "output_type": "execute_result"
    }
   ],
   "source": [
    "list(comp_seasons.keys())[3], list(comp_seasons.values())[3]"
   ]
  },
  {
   "cell_type": "code",
   "execution_count": 59,
   "id": "242ae94c-b86f-4b58-9cc0-d8710a93df17",
   "metadata": {},
   "outputs": [
    {
     "data": {
      "text/plain": [
       "22"
      ]
     },
     "execution_count": 59,
     "metadata": {},
     "output_type": "execute_result"
    }
   ],
   "source": [
    "len(comp_seasons)"
   ]
  },
  {
   "cell_type": "code",
   "execution_count": 60,
   "id": "psychological-landscape",
   "metadata": {},
   "outputs": [],
   "source": [
    "dict_seasons = dict((x, y) for x, y in comp_seasons.items() if y != [])"
   ]
  },
  {
   "cell_type": "code",
   "execution_count": 62,
   "id": "4a9274d8-061b-443d-b1c9-ed4fe4969a50",
   "metadata": {},
   "outputs": [],
   "source": [
    "# dict_seasons"
   ]
  },
  {
   "cell_type": "code",
   "execution_count": 63,
   "id": "seeing-review",
   "metadata": {},
   "outputs": [
    {
     "data": {
      "text/plain": [
       "('17', ['43', '44'])"
      ]
     },
     "execution_count": 63,
     "metadata": {},
     "output_type": "execute_result"
    }
   ],
   "source": [
    "list(dict_seasons.keys())[2], list(dict_seasons.values())[2] "
   ]
  },
  {
   "cell_type": "code",
   "execution_count": 1,
   "id": "critical-hammer",
   "metadata": {},
   "outputs": [],
   "source": [
    "# comp_tables = HtmlParser.parsing_competition_tables(dict_seasons)"
   ]
  },
  {
   "cell_type": "code",
   "execution_count": 65,
   "id": "1204ed4a-4d54-463a-9280-a65c456f2388",
   "metadata": {},
   "outputs": [
    {
     "data": {
      "text/plain": [
       "7"
      ]
     },
     "execution_count": 65,
     "metadata": {},
     "output_type": "execute_result"
    }
   ],
   "source": [
    "len(comp_tables)"
   ]
  },
  {
   "cell_type": "code",
   "execution_count": 67,
   "id": "finite-swing",
   "metadata": {},
   "outputs": [],
   "source": [
    "# comp_tables"
   ]
  },
  {
   "cell_type": "code",
   "execution_count": 68,
   "id": "ff70ee7f-4435-4bfd-b034-11e789e55e77",
   "metadata": {},
   "outputs": [],
   "source": [
    "df_comp_tables = ParsingDataPrepare.create_df_comp_tables(comp_tables)"
   ]
  },
  {
   "cell_type": "code",
   "execution_count": 71,
   "id": "59616092-1896-4873-a750-40bc77f0416b",
   "metadata": {},
   "outputs": [
    {
     "data": {
      "text/html": [
       "<div>\n",
       "<style scoped>\n",
       "    .dataframe tbody tr th:only-of-type {\n",
       "        vertical-align: middle;\n",
       "    }\n",
       "\n",
       "    .dataframe tbody tr th {\n",
       "        vertical-align: top;\n",
       "    }\n",
       "\n",
       "    .dataframe thead th {\n",
       "        text-align: right;\n",
       "    }\n",
       "</style>\n",
       "<table border=\"1\" class=\"dataframe\">\n",
       "  <thead>\n",
       "    <tr style=\"text-align: right;\">\n",
       "      <th></th>\n",
       "      <th>team_name</th>\n",
       "      <th>team_id</th>\n",
       "      <th>pos</th>\n",
       "      <th>pld</th>\n",
       "      <th>w</th>\n",
       "      <th>d</th>\n",
       "      <th>l</th>\n",
       "      <th>gf</th>\n",
       "      <th>ga</th>\n",
       "      <th>+/-</th>\n",
       "      <th>pts</th>\n",
       "      <th>comp_id</th>\n",
       "      <th>season_id</th>\n",
       "    </tr>\n",
       "  </thead>\n",
       "  <tbody>\n",
       "    <tr>\n",
       "      <th>0</th>\n",
       "      <td>Man Utd</td>\n",
       "      <td>92</td>\n",
       "      <td>1</td>\n",
       "      <td>38</td>\n",
       "      <td>28</td>\n",
       "      <td>7</td>\n",
       "      <td>3</td>\n",
       "      <td>97</td>\n",
       "      <td>45</td>\n",
       "      <td>+52</td>\n",
       "      <td>91</td>\n",
       "      <td>12</td>\n",
       "      <td>43</td>\n",
       "    </tr>\n",
       "    <tr>\n",
       "      <th>1</th>\n",
       "      <td>Arsenal</td>\n",
       "      <td>2</td>\n",
       "      <td>2</td>\n",
       "      <td>38</td>\n",
       "      <td>22</td>\n",
       "      <td>7</td>\n",
       "      <td>9</td>\n",
       "      <td>73</td>\n",
       "      <td>43</td>\n",
       "      <td>+30</td>\n",
       "      <td>73</td>\n",
       "      <td>12</td>\n",
       "      <td>43</td>\n",
       "    </tr>\n",
       "    <tr>\n",
       "      <th>2</th>\n",
       "      <td>Leeds United</td>\n",
       "      <td>6930</td>\n",
       "      <td>3</td>\n",
       "      <td>38</td>\n",
       "      <td>21</td>\n",
       "      <td>6</td>\n",
       "      <td>11</td>\n",
       "      <td>58</td>\n",
       "      <td>43</td>\n",
       "      <td>+15</td>\n",
       "      <td>69</td>\n",
       "      <td>12</td>\n",
       "      <td>43</td>\n",
       "    </tr>\n",
       "    <tr>\n",
       "      <th>3</th>\n",
       "      <td>Liverpool</td>\n",
       "      <td>79</td>\n",
       "      <td>4</td>\n",
       "      <td>38</td>\n",
       "      <td>19</td>\n",
       "      <td>10</td>\n",
       "      <td>9</td>\n",
       "      <td>51</td>\n",
       "      <td>30</td>\n",
       "      <td>+21</td>\n",
       "      <td>67</td>\n",
       "      <td>12</td>\n",
       "      <td>43</td>\n",
       "    </tr>\n",
       "    <tr>\n",
       "      <th>4</th>\n",
       "      <td>Chelsea</td>\n",
       "      <td>184</td>\n",
       "      <td>5</td>\n",
       "      <td>38</td>\n",
       "      <td>18</td>\n",
       "      <td>11</td>\n",
       "      <td>9</td>\n",
       "      <td>53</td>\n",
       "      <td>34</td>\n",
       "      <td>+19</td>\n",
       "      <td>65</td>\n",
       "      <td>12</td>\n",
       "      <td>43</td>\n",
       "    </tr>\n",
       "    <tr>\n",
       "      <th>...</th>\n",
       "      <td>...</td>\n",
       "      <td>...</td>\n",
       "      <td>...</td>\n",
       "      <td>...</td>\n",
       "      <td>...</td>\n",
       "      <td>...</td>\n",
       "      <td>...</td>\n",
       "      <td>...</td>\n",
       "      <td>...</td>\n",
       "      <td>...</td>\n",
       "      <td>...</td>\n",
       "      <td>...</td>\n",
       "      <td>...</td>\n",
       "    </tr>\n",
       "    <tr>\n",
       "      <th>192</th>\n",
       "      <td>Dinamo MVD</td>\n",
       "      <td>18604</td>\n",
       "      <td>4</td>\n",
       "      <td>3</td>\n",
       "      <td>0</td>\n",
       "      <td>0</td>\n",
       "      <td>3</td>\n",
       "      <td>1</td>\n",
       "      <td>7</td>\n",
       "      <td>-6</td>\n",
       "      <td>0</td>\n",
       "      <td>837</td>\n",
       "      <td>31</td>\n",
       "    </tr>\n",
       "    <tr>\n",
       "      <th>193</th>\n",
       "      <td>Spartak Moscow II</td>\n",
       "      <td>7511</td>\n",
       "      <td>1</td>\n",
       "      <td>3</td>\n",
       "      <td>3</td>\n",
       "      <td>0</td>\n",
       "      <td>0</td>\n",
       "      <td>5</td>\n",
       "      <td>1</td>\n",
       "      <td>+4</td>\n",
       "      <td>9</td>\n",
       "      <td>837</td>\n",
       "      <td>31</td>\n",
       "    </tr>\n",
       "    <tr>\n",
       "      <th>194</th>\n",
       "      <td>Spartak Erevan</td>\n",
       "      <td>10442</td>\n",
       "      <td>2</td>\n",
       "      <td>3</td>\n",
       "      <td>2</td>\n",
       "      <td>0</td>\n",
       "      <td>1</td>\n",
       "      <td>4</td>\n",
       "      <td>3</td>\n",
       "      <td>+1</td>\n",
       "      <td>6</td>\n",
       "      <td>837</td>\n",
       "      <td>31</td>\n",
       "    </tr>\n",
       "    <tr>\n",
       "      <th>195</th>\n",
       "      <td>Spartak Semey</td>\n",
       "      <td>8271</td>\n",
       "      <td>3</td>\n",
       "      <td>3</td>\n",
       "      <td>0</td>\n",
       "      <td>1</td>\n",
       "      <td>2</td>\n",
       "      <td>3</td>\n",
       "      <td>5</td>\n",
       "      <td>-2</td>\n",
       "      <td>1</td>\n",
       "      <td>837</td>\n",
       "      <td>31</td>\n",
       "    </tr>\n",
       "    <tr>\n",
       "      <th>196</th>\n",
       "      <td>Varzob</td>\n",
       "      <td>18605</td>\n",
       "      <td>4</td>\n",
       "      <td>3</td>\n",
       "      <td>0</td>\n",
       "      <td>1</td>\n",
       "      <td>2</td>\n",
       "      <td>2</td>\n",
       "      <td>5</td>\n",
       "      <td>-3</td>\n",
       "      <td>1</td>\n",
       "      <td>837</td>\n",
       "      <td>31</td>\n",
       "    </tr>\n",
       "  </tbody>\n",
       "</table>\n",
       "<p>197 rows × 13 columns</p>\n",
       "</div>"
      ],
      "text/plain": [
       "             team_name team_id pos pld   w   d   l  gf  ga  +/- pts comp_id  \\\n",
       "0              Man Utd      92   1  38  28   7   3  97  45  +52  91      12   \n",
       "1              Arsenal       2   2  38  22   7   9  73  43  +30  73      12   \n",
       "2         Leeds United    6930   3  38  21   6  11  58  43  +15  69      12   \n",
       "3            Liverpool      79   4  38  19  10   9  51  30  +21  67      12   \n",
       "4              Chelsea     184   5  38  18  11   9  53  34  +19  65      12   \n",
       "..                 ...     ...  ..  ..  ..  ..  ..  ..  ..  ...  ..     ...   \n",
       "192         Dinamo MVD   18604   4   3   0   0   3   1   7   -6   0     837   \n",
       "193  Spartak Moscow II    7511   1   3   3   0   0   5   1   +4   9     837   \n",
       "194     Spartak Erevan   10442   2   3   2   0   1   4   3   +1   6     837   \n",
       "195      Spartak Semey    8271   3   3   0   1   2   3   5   -2   1     837   \n",
       "196             Varzob   18605   4   3   0   1   2   2   5   -3   1     837   \n",
       "\n",
       "    season_id  \n",
       "0          43  \n",
       "1          43  \n",
       "2          43  \n",
       "3          43  \n",
       "4          43  \n",
       "..        ...  \n",
       "192        31  \n",
       "193        31  \n",
       "194        31  \n",
       "195        31  \n",
       "196        31  \n",
       "\n",
       "[197 rows x 13 columns]"
      ]
     },
     "execution_count": 71,
     "metadata": {},
     "output_type": "execute_result"
    }
   ],
   "source": [
    "df_comp_tables"
   ]
  },
  {
   "cell_type": "markdown",
   "id": "4cbddb83-1d2e-465a-840d-e50dbca5cf21",
   "metadata": {},
   "source": [
    "#### Fix and clear data incorrect"
   ]
  },
  {
   "cell_type": "code",
   "execution_count": 72,
   "id": "1da39925-3160-4ae9-b00b-9e25924c3c6c",
   "metadata": {},
   "outputs": [
    {
     "data": {
      "text/plain": [
       "1     26\n",
       "4     25\n",
       "3     23\n",
       "2     17\n",
       "5     16\n",
       "      ..\n",
       "13     6\n",
       "12     6\n",
       "10     6\n",
       "19     2\n",
       "20     2\n",
       "Name: pos, Length: 20, dtype: int64"
      ]
     },
     "execution_count": 72,
     "metadata": {},
     "output_type": "execute_result"
    }
   ],
   "source": [
    "df_comp_tables.pos.value_counts(dropna=False)"
   ]
  },
  {
   "cell_type": "code",
   "execution_count": 29,
   "id": "297914e4-b58e-4959-a8a1-446145aa990b",
   "metadata": {},
   "outputs": [],
   "source": [
    "# df_comp_tables[df_comp_tables.pos == '364']"
   ]
  },
  {
   "cell_type": "code",
   "execution_count": 74,
   "id": "involved-agenda",
   "metadata": {},
   "outputs": [],
   "source": [
    "# file = open('pickle_files/new_events/df_comp_tabs_29_12_1999_all_lgs', 'wb')\n",
    "# pickle.dump(df_comp_tables, file)  \n",
    "# file.close()"
   ]
  },
  {
   "cell_type": "code",
   "execution_count": 76,
   "id": "frozen-local",
   "metadata": {},
   "outputs": [],
   "source": [
    "with open('pickle_files/new_events/df_comp_tabs_29_12_1999_all_lgs', 'rb') as f:\n",
    "    df_comp_tabs = pickle.load(f)"
   ]
  },
  {
   "cell_type": "code",
   "execution_count": 4,
   "id": "undefined-teddy",
   "metadata": {},
   "outputs": [],
   "source": [
    "# df_comp_tabs"
   ]
  },
  {
   "cell_type": "markdown",
   "id": "33ed03c9-3b25-418c-9493-06ecfbd3aa8a",
   "metadata": {},
   "source": [
    "#### Parsing countries names"
   ]
  },
  {
   "cell_type": "code",
   "execution_count": 49,
   "id": "18cf2216-502e-479a-9180-7a0c276c334f",
   "metadata": {},
   "outputs": [],
   "source": [
    "comp_tables_ids = TableConstant.top_ligues + TableConstant.second_ligues"
   ]
  },
  {
   "cell_type": "code",
   "execution_count": 50,
   "id": "35823ca5-eb79-4eee-bc83-0c957d9f155a",
   "metadata": {},
   "outputs": [
    {
     "data": {
      "text/plain": [
       "\"['12', '13', '14', '15', '16', '17', '18', '419', '420', '454', '456', '474', '483', '485', '550', '554', '560', '565', '577', '581', '587', '591', '596', '601', '677', '681', '684', '695', '699', '707', '712', '716', '723', '727', '419', '424', '435', '436', '437', '444', '446', '449', '450', '457', '459', '464', '473', '477', '491', '493', '496', '498', '500', '502', '504', '507', '512', '516', '518', '523', '532', '539', '540', '542', '544', '545', '546', '548', '551', '555', '562', '567', '576', '585', '586', '589', '595', '599', '602', '606', '621', '622', '625', '626', '628', '632', '634', '636', '637', '642', '646', '647', '648', '653', '654', '655', '657', '659', '660', '667', '672', '674', '675', '676', '679', '685', '687', '691', '692', '697', '700', '703', '704', '714', '715', '720', '721', '725', '727', '733', '735', '747', '761', '912', '1157', '1259']\""
      ]
     },
     "execution_count": 50,
     "metadata": {},
     "output_type": "execute_result"
    }
   ],
   "source": [
    "# 491 493\n",
    "str(comp_tables_ids)"
   ]
  },
  {
   "cell_type": "code",
   "execution_count": 1,
   "id": "45e60b3b-ef9f-4768-b36c-97db7f5f437f",
   "metadata": {},
   "outputs": [],
   "source": [
    "third_comps = ['521', '549', '1349', '718', '2071', '572', '574', '1083', '1294', '627', '1358', '1548', '501', '453', '645', '1310', '556', '668', '669', \n",
    "     '520', '598', '588', '666', '1609', '582', '921', '780', '1628', '604', '508', '698', '505', '462', '482', '652', '566', '693', '1794', '1855',\n",
    "     '630', '623', '448', '590', '593', '433', '541', '680', '734', '600', '737', '910', '1190', '791', '682', '787', '729', '431', '515', '2076', '643', \n",
    "     '1084', '535', '503', '732', '717', '511', '1147', '1342', '584', '706', '579', '1981', '447', '536', '465', '442', '925', '1926', '522', '519', \n",
    "     '476', '571', '558', '603', '671', '914', '1785', '726', '445', '635', '1508', '568', '481', '553', '868', '638', '919', '570', '557', '489', '561',\n",
    "     '472', '1035', '495', '506', '1085', '499', '452', '923', '1672', '651', '722', '530', '1791', '484', '1687', '689', '1322', '686', '741', '678', \n",
    "     '624', '461', '475', '683', '1333', '569', '728', '650', '1717', '552', '640', '528', '690', '694', '597', '631', '428', '1538', '1723', '547', '670',\n",
    "     '1304', '427', '418', '471', '705', '1242', '1041', '466', '920', '1038', '804', '664', '487', '2070', '641', '2063', '724', '673', '492', '559', \n",
    "     '709', '463', '469', '1317', '575', '661', '738', '656', '1299', '517', '2066', '580', '494', '644', '478', '441', '1922', '880', '713', '1284', '468',\n",
    "     '2074', '973', '1080', '578', '701', '513', '711', '649', '607', '425', '451', '460', '658', '665', '440', '708', '479', '486', '533', '1917', '605', \n",
    "     '1261', '162', '1779', '710', '534', '731', '443', '1075', '527']"
   ]
  },
  {
   "cell_type": "code",
   "execution_count": 12,
   "id": "f783fd81-0737-4085-b98b-b42b6e9d6e14",
   "metadata": {},
   "outputs": [
    {
     "name": "stdout",
     "output_type": "stream",
     "text": [
      "All_countries_names_saved - 527\n",
      "All countries names saved with last id: 527\n"
     ]
    }
   ],
   "source": [
    "HtmlParser.find_countries_names(third_comps)"
   ]
  },
  {
   "cell_type": "code",
   "execution_count": 13,
   "id": "87fc03fe-ef36-4e29-a40d-ad870bea1f5b",
   "metadata": {},
   "outputs": [],
   "source": [
    "with open('pickle_files/countries_names_527', 'rb') as f:\n",
    "    country_names_ids = pickle.load(f)"
   ]
  },
  {
   "cell_type": "code",
   "execution_count": 15,
   "id": "237675d7-b677-45d1-87dc-81d404ffe5e6",
   "metadata": {},
   "outputs": [],
   "source": [
    "# country_names_ids"
   ]
  },
  {
   "cell_type": "code",
   "execution_count": 16,
   "id": "3127490b-8e6a-4220-be01-d05b1171649d",
   "metadata": {},
   "outputs": [],
   "source": [
    "ids   = []\n",
    "names = []\n",
    "\n",
    "for country in country_names_ids:\n",
    "    val = list(country.values())\n",
    "    ids.append(val[0])\n",
    "    names.append(val[1])\n",
    "\n",
    "df_countries = pd.DataFrame({'comp_id': ids, 'country': names})"
   ]
  },
  {
   "cell_type": "code",
   "execution_count": 17,
   "id": "52f8b4da-6d29-40b9-9010-a9786ea1ef86",
   "metadata": {},
   "outputs": [
    {
     "data": {
      "text/html": [
       "<div>\n",
       "<style scoped>\n",
       "    .dataframe tbody tr th:only-of-type {\n",
       "        vertical-align: middle;\n",
       "    }\n",
       "\n",
       "    .dataframe tbody tr th {\n",
       "        vertical-align: top;\n",
       "    }\n",
       "\n",
       "    .dataframe thead th {\n",
       "        text-align: right;\n",
       "    }\n",
       "</style>\n",
       "<table border=\"1\" class=\"dataframe\">\n",
       "  <thead>\n",
       "    <tr style=\"text-align: right;\">\n",
       "      <th></th>\n",
       "      <th>comp_id</th>\n",
       "      <th>contry_name</th>\n",
       "    </tr>\n",
       "  </thead>\n",
       "  <tbody>\n",
       "    <tr>\n",
       "      <th>0</th>\n",
       "      <td>521</td>\n",
       "      <td>Brazil</td>\n",
       "    </tr>\n",
       "    <tr>\n",
       "      <th>1</th>\n",
       "      <td>549</td>\n",
       "      <td>Croatia</td>\n",
       "    </tr>\n",
       "    <tr>\n",
       "      <th>2</th>\n",
       "      <td>1349</td>\n",
       "      <td>Japan</td>\n",
       "    </tr>\n",
       "    <tr>\n",
       "      <th>3</th>\n",
       "      <td>718</td>\n",
       "      <td>Thailand</td>\n",
       "    </tr>\n",
       "    <tr>\n",
       "      <th>4</th>\n",
       "      <td>2071</td>\n",
       "      <td>USA</td>\n",
       "    </tr>\n",
       "    <tr>\n",
       "      <th>...</th>\n",
       "      <td>...</td>\n",
       "      <td>...</td>\n",
       "    </tr>\n",
       "    <tr>\n",
       "      <th>208</th>\n",
       "      <td>534</td>\n",
       "      <td>Bulgaria</td>\n",
       "    </tr>\n",
       "    <tr>\n",
       "      <th>209</th>\n",
       "      <td>731</td>\n",
       "      <td>Uzbekistan</td>\n",
       "    </tr>\n",
       "    <tr>\n",
       "      <th>210</th>\n",
       "      <td>443</td>\n",
       "      <td>Brazil</td>\n",
       "    </tr>\n",
       "    <tr>\n",
       "      <th>211</th>\n",
       "      <td>1075</td>\n",
       "      <td>Tanzania</td>\n",
       "    </tr>\n",
       "    <tr>\n",
       "      <th>212</th>\n",
       "      <td>527</td>\n",
       "      <td>Brazil</td>\n",
       "    </tr>\n",
       "  </tbody>\n",
       "</table>\n",
       "<p>213 rows × 2 columns</p>\n",
       "</div>"
      ],
      "text/plain": [
       "    comp_id contry_name\n",
       "0       521      Brazil\n",
       "1       549     Croatia\n",
       "2      1349       Japan\n",
       "3       718    Thailand\n",
       "4      2071         USA\n",
       "..      ...         ...\n",
       "208     534    Bulgaria\n",
       "209     731  Uzbekistan\n",
       "210     443      Brazil\n",
       "211    1075    Tanzania\n",
       "212     527      Brazil\n",
       "\n",
       "[213 rows x 2 columns]"
      ]
     },
     "execution_count": 17,
     "metadata": {},
     "output_type": "execute_result"
    }
   ],
   "source": [
    "df_countries"
   ]
  },
  {
   "cell_type": "code",
   "execution_count": 10,
   "id": "73fe1319-03c9-4661-9bbc-053aac15ca2a",
   "metadata": {},
   "outputs": [],
   "source": [
    "with open('pickle_files/df_countries_ids', 'rb') as f:\n",
    "    df_countries_names = pickle.load(f)"
   ]
  },
  {
   "cell_type": "code",
   "execution_count": 19,
   "id": "f1e62cac-b30d-467f-a8fa-9eaf5efe0f54",
   "metadata": {},
   "outputs": [],
   "source": [
    "df_cntrs_nms = pd.concat([df_countries_names, df_countries])"
   ]
  },
  {
   "cell_type": "code",
   "execution_count": null,
   "id": "e3365922-212f-4dd9-a2fb-e78dac760667",
   "metadata": {},
   "outputs": [],
   "source": [
    "df_cntrs_nms.drop_duplicates(subset=['comp_id', 'country'], inplace=True)"
   ]
  },
  {
   "cell_type": "code",
   "execution_count": 21,
   "id": "ac64ca79-5807-4404-8a10-7a654334ba87",
   "metadata": {},
   "outputs": [],
   "source": [
    "df_cntrs_nms.reset_index(drop=True, inplace=True)"
   ]
  },
  {
   "cell_type": "code",
   "execution_count": 7,
   "id": "a25a98db-9871-4bb4-be94-954df30b71c3",
   "metadata": {},
   "outputs": [
    {
     "data": {
      "text/html": [
       "<div>\n",
       "<style scoped>\n",
       "    .dataframe tbody tr th:only-of-type {\n",
       "        vertical-align: middle;\n",
       "    }\n",
       "\n",
       "    .dataframe tbody tr th {\n",
       "        vertical-align: top;\n",
       "    }\n",
       "\n",
       "    .dataframe thead th {\n",
       "        text-align: right;\n",
       "    }\n",
       "</style>\n",
       "<table border=\"1\" class=\"dataframe\">\n",
       "  <thead>\n",
       "    <tr style=\"text-align: right;\">\n",
       "      <th></th>\n",
       "      <th>comp_id</th>\n",
       "      <th>country</th>\n",
       "    </tr>\n",
       "  </thead>\n",
       "  <tbody>\n",
       "    <tr>\n",
       "      <th>0</th>\n",
       "      <td>12</td>\n",
       "      <td>England</td>\n",
       "    </tr>\n",
       "    <tr>\n",
       "      <th>1</th>\n",
       "      <td>13</td>\n",
       "      <td>Russia</td>\n",
       "    </tr>\n",
       "    <tr>\n",
       "      <th>2</th>\n",
       "      <td>14</td>\n",
       "      <td>Ukraine</td>\n",
       "    </tr>\n",
       "    <tr>\n",
       "      <th>3</th>\n",
       "      <td>15</td>\n",
       "      <td>Italy</td>\n",
       "    </tr>\n",
       "    <tr>\n",
       "      <th>4</th>\n",
       "      <td>16</td>\n",
       "      <td>Spain</td>\n",
       "    </tr>\n",
       "    <tr>\n",
       "      <th>...</th>\n",
       "      <td>...</td>\n",
       "      <td>...</td>\n",
       "    </tr>\n",
       "    <tr>\n",
       "      <th>334</th>\n",
       "      <td>534</td>\n",
       "      <td>Bulgaria</td>\n",
       "    </tr>\n",
       "    <tr>\n",
       "      <th>335</th>\n",
       "      <td>731</td>\n",
       "      <td>Uzbekistan</td>\n",
       "    </tr>\n",
       "    <tr>\n",
       "      <th>336</th>\n",
       "      <td>443</td>\n",
       "      <td>Brazil</td>\n",
       "    </tr>\n",
       "    <tr>\n",
       "      <th>337</th>\n",
       "      <td>1075</td>\n",
       "      <td>Tanzania</td>\n",
       "    </tr>\n",
       "    <tr>\n",
       "      <th>338</th>\n",
       "      <td>527</td>\n",
       "      <td>Brazil</td>\n",
       "    </tr>\n",
       "  </tbody>\n",
       "</table>\n",
       "<p>339 rows × 2 columns</p>\n",
       "</div>"
      ],
      "text/plain": [
       "    comp_id     country\n",
       "0        12     England\n",
       "1        13      Russia\n",
       "2        14     Ukraine\n",
       "3        15       Italy\n",
       "4        16       Spain\n",
       "..      ...         ...\n",
       "334     534    Bulgaria\n",
       "335     731  Uzbekistan\n",
       "336     443      Brazil\n",
       "337    1075    Tanzania\n",
       "338     527      Brazil\n",
       "\n",
       "[339 rows x 2 columns]"
      ]
     },
     "execution_count": 11,
     "metadata": {},
     "output_type": "execute_result"
    }
   ],
   "source": [
    "df_cntrs_nms"
   ]
  },
  {
   "cell_type": "code",
   "execution_count": 9,
   "id": "33185fbc-8be2-48be-a6f2-3ba060d8fcf4",
   "metadata": {},
   "outputs": [],
   "source": [
    "# file = open('pickle_files/df_countries_ids', 'wb')\n",
    "# pickle.dump(df_cntrs_nms, file)  \n",
    "# file.close()"
   ]
  }
 ],
 "metadata": {
  "kernelspec": {
   "display_name": "Python 3 (ipykernel)",
   "language": "python",
   "name": "python3"
  },
  "language_info": {
   "codemirror_mode": {
    "name": "ipython",
    "version": 3
   },
   "file_extension": ".py",
   "mimetype": "text/x-python",
   "name": "python",
   "nbconvert_exporter": "python",
   "pygments_lexer": "ipython3",
   "version": "3.9.7"
  }
 },
 "nbformat": 4,
 "nbformat_minor": 5
}

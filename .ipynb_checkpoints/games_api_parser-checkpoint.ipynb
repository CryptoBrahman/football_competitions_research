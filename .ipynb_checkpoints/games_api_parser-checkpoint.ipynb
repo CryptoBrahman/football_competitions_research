{
 "cells": [
  {
   "cell_type": "code",
   "execution_count": 1,
   "id": "9978c8f5-fa18-440e-83ee-6d95c596fd2e",
   "metadata": {},
   "outputs": [],
   "source": [
    "# For get tables of competitions \n",
    "# https://soccer365.ru/competitions/16/ - current tables\n",
    "# https://soccer365.ru/competitions/16/2017-2018/ - for seasons\n",
    "\n",
    "# html = requests.get('https://soccer365.me/?c=live&a=showtable&competition_id=483&season_id=307').content\n",
    "# <tr class=\"adv_kef_wgt_odd\">"
   ]
  },
  {
   "cell_type": "code",
   "execution_count": 2,
   "id": "wrong-therapist",
   "metadata": {},
   "outputs": [],
   "source": [
    "import pickle\n",
    "import pandas as pd\n",
    "\n",
    "from _html_parser import HtmlParser, ParsingDataPrepare\n",
    "\n",
    "pd.set_option('display.max_rows', 500)\n",
    "pd.set_option('display.max_columns', 500)\n",
    "pd.set_option('display.max_colwidth', 500)"
   ]
  },
  {
   "cell_type": "code",
   "execution_count": 3,
   "id": "4f2f4730-d51e-47ff-872b-0536f219509b",
   "metadata": {},
   "outputs": [],
   "source": [
    "%load_ext autoreload\n",
    "%autoreload 2"
   ]
  },
  {
   "cell_type": "code",
   "execution_count": 4,
   "id": "3d76411b-aa23-4bd6-bec6-526b78d44228",
   "metadata": {},
   "outputs": [
    {
     "data": {
      "text/plain": [
       "425"
      ]
     },
     "execution_count": 4,
     "metadata": {},
     "output_type": "execute_result"
    }
   ],
   "source": [
    "numdays = HtmlParser.count_days_by_dates('5/26/2022', '3/27/2021')\n",
    "numdays"
   ]
  },
  {
   "cell_type": "code",
   "execution_count": 5,
   "id": "aeb61b5d-b0b3-465d-a47b-f1cc3dacb553",
   "metadata": {},
   "outputs": [],
   "source": [
    "name = 'pickle_files/from_26_05_2022_to_27_03_2021_matches'"
   ]
  },
  {
   "cell_type": "code",
   "execution_count": 6,
   "id": "vertical-alaska",
   "metadata": {},
   "outputs": [],
   "source": [
    "# HtmlParser.parsing_write_by_date(numdays=1, start_year=2022, start_month=5, start_day=26, file_name=name)"
   ]
  },
  {
   "cell_type": "code",
   "execution_count": 7,
   "id": "still-therapy",
   "metadata": {},
   "outputs": [],
   "source": [
    "with open(name, 'rb') as f:\n",
    "    matches = pickle.load(f)"
   ]
  },
  {
   "cell_type": "code",
   "execution_count": 8,
   "id": "9fb86791-6e89-4702-b113-6523993bf6a8",
   "metadata": {},
   "outputs": [
    {
     "data": {
      "text/plain": [
       "(94267, 8)"
      ]
     },
     "execution_count": 8,
     "metadata": {},
     "output_type": "execute_result"
    }
   ],
   "source": [
    "df_to_transform = pd.DataFrame(matches)\n",
    "df = ParsingDataPrepare.transform_columns_to_rows(df_to_transform, ['ligue_header', 'comp_id', 'season_id', 'game_utc', 'game_title','goals', 'game_status'])\n",
    "\n",
    "df.reset_index(inplace=True)\n",
    "df.rename(columns={'index':'game_id'}, inplace=True)\n",
    "df.shape"
   ]
  },
  {
   "cell_type": "code",
   "execution_count": 9,
   "id": "f2b061db-4cf7-45fa-b6a0-bd5e7e756744",
   "metadata": {},
   "outputs": [
    {
     "data": {
      "text/plain": [
       "(91921, 8)"
      ]
     },
     "execution_count": 9,
     "metadata": {},
     "output_type": "execute_result"
    }
   ],
   "source": [
    "df_finished = df.loc[df.game_status == 'Finished']\n",
    "df_finished.shape"
   ]
  },
  {
   "cell_type": "code",
   "execution_count": 10,
   "id": "f558a3f8-ebb9-4d9e-b613-71a480479dbe",
   "metadata": {},
   "outputs": [],
   "source": [
    "# tls_one_26_05_2022 = ['12', '13', '14', '15', '16', '17', '18', '419', '420']\n",
    "# tls_two_26_05_2022 = ['454', '456', '474', '483', '485', '550', '554', '560', '565']\n",
    "# tls_three_26_05_2022 =  ['577', '581', '587', '591','596', '601', '677', '681'] \n",
    "# tls_four_26_05_2022 = ['684', '695', '699', '707', '712', '716', '723', '727'] "
   ]
  },
  {
   "cell_type": "code",
   "execution_count": 11,
   "id": "1af2d1f9-50d6-4371-9f71-f33a27918337",
   "metadata": {},
   "outputs": [],
   "source": [
    "# sls_one_26_05_2022 = [ '419', '424', '435', '436', '437', '444', '446', '449', '450', '457', '459', '464', '473', '477', '491']\n",
    "# sls_two_26_05_2022  = ['493', '496', '498', '500', '502', '504', '507', '512', '516', '518', '523', '532', '539', '540', '542']\n",
    "# slm_one_26_05_2022 = [ '544', '545', '546', '548', '551', '555', '562', '567', '576', '585', '586', '589', '595', '599', '602']\n",
    "# slm_two_26_05_2022 =  ['606', '621', '622', '625', '626', '628', '632', '634', '636', '637', '642', '646', '647', '648', '653']\n",
    "# sle_one_6_05_2022 = ['654', '655', '657', '659', '660', '667', '672', '674', '675', '676', '679', '685', '687', '691', '692', '697']\n",
    "sle_two_6_05_2022 = ['700', '703', '704', '714', '715', '720', '721', '725', '727', '733''735', '747', '761', '912', '1157', '1259'] "
   ]
  },
  {
   "cell_type": "code",
   "execution_count": 12,
   "id": "c767bfb8-2870-466c-8a79-27ef9f065a25",
   "metadata": {},
   "outputs": [],
   "source": [
    "leagues      =  sle_two_6_05_2022\n",
    "leagues_name = 'sle_two_6_05_2022'"
   ]
  },
  {
   "cell_type": "code",
   "execution_count": 13,
   "id": "f603368c-a581-44fa-9f0d-16132e985d0e",
   "metadata": {},
   "outputs": [
    {
     "data": {
      "text/plain": [
       "2729"
      ]
     },
     "execution_count": 13,
     "metadata": {},
     "output_type": "execute_result"
    }
   ],
   "source": [
    "game_ids = df_finished.game_id[df_finished.comp_id.isin(leagues)].to_list()\n",
    "len(game_ids)"
   ]
  },
  {
   "cell_type": "code",
   "execution_count": 14,
   "id": "945cc8e4-da8d-4de7-8d4b-8812050adffe",
   "metadata": {},
   "outputs": [],
   "source": [
    "# Aftar start script 'HtmlParser.find_game_events' all events save every 500 ids in files, in last save file has all events save before."
   ]
  },
  {
   "cell_type": "code",
   "execution_count": 51,
   "id": "c228cddb-1f56-4796-a412-069d8343dc16",
   "metadata": {},
   "outputs": [],
   "source": [
    "# HtmlParser.find_game_events(game_ids, name_saved_file = leagues_name)\n",
    "\n",
    "# For check for last saved game_id\n",
    "# game_ids.index('1574921') \n",
    "# HtmlParser.find_game_events(game_ids[1500:], name_saved_file = leagues_name)"
   ]
  },
  {
   "cell_type": "code",
   "execution_count": 52,
   "id": "214a1c39-61bc-46fa-afe3-8c8da01cd0e1",
   "metadata": {},
   "outputs": [],
   "source": [
    "# tls_one_26_05_2022 count - 3688\n",
    "\n",
    "# first id   count     name               last id\n",
    "# 1729359  - 3000    - tls_one_26_05_2022_15098186 \n",
    "# 15098192 -  687    - tls_one_26_05_2022_15178134\n",
    "# 1708335  - 3000    - tls_two_26_05_2022_15144810\n",
    "# 15144811 -  328    - tls_two_26_05_2022_15105932\n",
    "# 1729388  - 1500    - tls_tree_26_05_2022_1564802\n",
    "# 1564798  - 1249    - tls_tree_26_05_2022_15174120\n",
    "# 1729417  - 2995    - tls_four_26_05_2022_15178565\n",
    "# 1706044  - 1000    - sls_one_26_05_2022_1680670\n",
    "# 1680666  - 3551    - sls_one_26_05_2022_15091822\n",
    "# 1701820  - 1500    - sls_two_26_05_2022_15096918\n",
    "# 15096917 - 385     - sls_two_26_05_2022_15091222\n",
    "# 1686866  - 2000    - slm_one_26_05_2022_1559813\n",
    "# 15080693 - 2262    - slm_one_26_05_2022_15160228\n",
    "# 1729511  - 4000    - slm_two_26_05_2022_15092582\n",
    "# 15092738 - 403     - slm_two_26_05_2022_15191028\n",
    "# 1687458  - 500     - sle_two_6_05_2022_1596922\n",
    "# 1716495  - 1000    - sle_two_6_05_2022_15101770\n",
    "# 15101770 - 1228    - sle_two_6_05_2022_15110666"
   ]
  },
  {
   "cell_type": "code",
   "execution_count": 45,
   "id": "051ba22b-4299-4408-8bd9-d16438b4d076",
   "metadata": {},
   "outputs": [],
   "source": [
    "with open('pickle_files/sle_two_6_05_2022_1596922', 'rb') as f:\n",
    "    events_games = pickle.load(f)"
   ]
  },
  {
   "cell_type": "code",
   "execution_count": 46,
   "id": "53fef500-5d16-46bb-8c0e-4eb6e66e27ca",
   "metadata": {},
   "outputs": [
    {
     "data": {
      "text/plain": [
       "(501, 8)"
      ]
     },
     "execution_count": 46,
     "metadata": {},
     "output_type": "execute_result"
    }
   ],
   "source": [
    "df_pickle = pd.DataFrame(events_games)\n",
    "df_events = ParsingDataPrepare.transform_columns_to_rows(df_pickle, ['event_mins', 'event_hts_ats', 'stats_dict', \n",
    "                                                                     'city_country', 'viewers', 'weath_temp', 'bets'])\n",
    "\n",
    "df_events.reset_index(inplace=True)\n",
    "df_events.rename(columns={'index':'game_id'}, inplace=True)\n",
    "df_events.shape"
   ]
  },
  {
   "cell_type": "code",
   "execution_count": 47,
   "id": "cdc440f7-eb95-42a2-82bd-c0f8cf70038f",
   "metadata": {},
   "outputs": [
    {
     "data": {
      "text/html": [
       "<div>\n",
       "<style scoped>\n",
       "    .dataframe tbody tr th:only-of-type {\n",
       "        vertical-align: middle;\n",
       "    }\n",
       "\n",
       "    .dataframe tbody tr th {\n",
       "        vertical-align: top;\n",
       "    }\n",
       "\n",
       "    .dataframe thead th {\n",
       "        text-align: right;\n",
       "    }\n",
       "</style>\n",
       "<table border=\"1\" class=\"dataframe\">\n",
       "  <thead>\n",
       "    <tr style=\"text-align: right;\">\n",
       "      <th></th>\n",
       "      <th>game_id</th>\n",
       "      <th>event_mins</th>\n",
       "      <th>event_hts_ats</th>\n",
       "      <th>stats_dict</th>\n",
       "      <th>city_country</th>\n",
       "      <th>viewers</th>\n",
       "      <th>weath_temp</th>\n",
       "      <th>bets</th>\n",
       "    </tr>\n",
       "  </thead>\n",
       "  <tbody>\n",
       "    <tr>\n",
       "      <th>0</th>\n",
       "      <td>1687458</td>\n",
       "      <td>[10, 20, 35, 40, 47, 47, 48, 54, 60, 74, 81]</td>\n",
       "      <td>[pengoal, goal, goal, goal, yellowcard, yellowcard, yellowcard, goal, yellowcard, owngoal, yellowcard]</td>\n",
       "      <td>[(Shots, 13, 9), (Shots on target, 6, 5), (Shots Blocked, 1, 2), (Saves, 2, 3), (Possession %, 59, 41), (Corner, 7, 4), (Fouls, 11, 15), (Offsides, 2, 2), (Yellow cards, 1, 4), (Red cards, 0, 0), (Attacks, 139, 83), (Attacks (Dangerous), 53, 27), (Pass, 498, 355), (Pass percentage %, 77, 68), (Free Kicks, 17, 12), (Throw Ins, 29, 19), (Tackles, 20, 15)]</td>\n",
       "      <td>Trondheim, Norway</td>\n",
       "      <td>11,076</td>\n",
       "      <td>(+12, partly cloudy)</td>\n",
       "      <td>([1, X, 2, ТМ 2.5, ТБ 2.5], [1.47, 4.50, 5.90, 2.33, 1.59])</td>\n",
       "    </tr>\n",
       "    <tr>\n",
       "      <th>1</th>\n",
       "      <td>1687459</td>\n",
       "      <td>[51, 66, 68, 83]</td>\n",
       "      <td>[goal, goal, goal, yellowcard]</td>\n",
       "      <td>[(Shots, 16, 17), (Shots on target, 6, 8), (Shots Blocked, 2, 3), (Saves, 6, 5), (Possession %, 61, 39), (Corner, 6, 4), (Fouls, 9, 5), (Offsides, 0, 1), (Yellow cards, 0, 1), (Red cards, 0, 0), (Attacks, 161, 82), (Attacks (Dangerous), 106, 35), (Pass, 641, 425), (Pass percentage %, 87, 77), (Free Kicks, 6, 9), (Throw Ins, 23, 11), (Tackles, 12, 16)]</td>\n",
       "      <td>Sarpsborg, Norway</td>\n",
       "      <td>4,635</td>\n",
       "      <td>(+17, sunny)</td>\n",
       "      <td>([1, X, 2, ТМ 2.5, ТБ 2.5], [2.78, 3.64, 2.21, 2.39, 1.53])</td>\n",
       "    </tr>\n",
       "    <tr>\n",
       "      <th>2</th>\n",
       "      <td>1729415</td>\n",
       "      <td>[8, 11, 39, +, 51, 59, 72, 86]</td>\n",
       "      <td>[goal, goal, goal, pengoal, goal, yellowcard, goal, goal]</td>\n",
       "      <td>[(Shots, 10, 14), (Shots on target, 5, 8), (Saves, 3, 3), (Possession %, 50, 50), (Corner, 5, 4), (Yellow cards, 1, 0), (Red cards, 0, 0), (Attacks, 89, 112), (Attacks (Dangerous), 50, 58), (Free Kicks, 15, 12), (Throw Ins, 18, 30)]</td>\n",
       "      <td>Slovenia</td>\n",
       "      <td></td>\n",
       "      <td></td>\n",
       "      <td>([1, X, 2, ТМ 2.5, ТБ 2.5], [2.42, 3.32, 2.47, 1.83, 1.97])</td>\n",
       "    </tr>\n",
       "    <tr>\n",
       "      <th>3</th>\n",
       "      <td>1728547</td>\n",
       "      <td>[11, 11, 22, 63, 90]</td>\n",
       "      <td>[pengoal, yellowcard, goal, yellowcard, goal]</td>\n",
       "      <td>[(Shots, 9, 17), (Shots on target, 1, 5), (Shots Blocked, 4, 7), (Saves, 3, 0), (Possession %, 54, 46), (Corner, 6, 5), (Fouls, 16, 8), (Offsides, 1, 1), (Yellow cards, 0, 2), (Red cards, 0, 0), (Attacks, 93, 77), (Attacks (Dangerous), 62, 50), (Pass, 338, 302), (Pass percentage %, 77, 76), (Tackles, 16, 17)]</td>\n",
       "      <td></td>\n",
       "      <td></td>\n",
       "      <td></td>\n",
       "      <td>([1, X, 2, ТМ 2.5, ТБ 2.5], [2.16, 3.86, 2.89, 2.72, 1.40])</td>\n",
       "    </tr>\n",
       "    <tr>\n",
       "      <th>4</th>\n",
       "      <td>1728545</td>\n",
       "      <td>[2, 6, 41, +, 50, 53, 77, +]</td>\n",
       "      <td>[redcard, pengoal, redcard, yellowcard, redcard, goal, yellowcard, yellowcard]</td>\n",
       "      <td>[]</td>\n",
       "      <td></td>\n",
       "      <td></td>\n",
       "      <td></td>\n",
       "      <td>([], [])</td>\n",
       "    </tr>\n",
       "  </tbody>\n",
       "</table>\n",
       "</div>"
      ],
      "text/plain": [
       "   game_id                                    event_mins  \\\n",
       "0  1687458  [10, 20, 35, 40, 47, 47, 48, 54, 60, 74, 81]   \n",
       "1  1687459                              [51, 66, 68, 83]   \n",
       "2  1729415                [8, 11, 39, +, 51, 59, 72, 86]   \n",
       "3  1728547                          [11, 11, 22, 63, 90]   \n",
       "4  1728545                  [2, 6, 41, +, 50, 53, 77, +]   \n",
       "\n",
       "                                                                                            event_hts_ats  \\\n",
       "0  [pengoal, goal, goal, goal, yellowcard, yellowcard, yellowcard, goal, yellowcard, owngoal, yellowcard]   \n",
       "1                                                                          [goal, goal, goal, yellowcard]   \n",
       "2                                               [goal, goal, goal, pengoal, goal, yellowcard, goal, goal]   \n",
       "3                                                           [pengoal, yellowcard, goal, yellowcard, goal]   \n",
       "4                          [redcard, pengoal, redcard, yellowcard, redcard, goal, yellowcard, yellowcard]   \n",
       "\n",
       "                                                                                                                                                                                                                                                                                                                                                            stats_dict  \\\n",
       "0  [(Shots, 13, 9), (Shots on target, 6, 5), (Shots Blocked, 1, 2), (Saves, 2, 3), (Possession %, 59, 41), (Corner, 7, 4), (Fouls, 11, 15), (Offsides, 2, 2), (Yellow cards, 1, 4), (Red cards, 0, 0), (Attacks, 139, 83), (Attacks (Dangerous), 53, 27), (Pass, 498, 355), (Pass percentage %, 77, 68), (Free Kicks, 17, 12), (Throw Ins, 29, 19), (Tackles, 20, 15)]   \n",
       "1    [(Shots, 16, 17), (Shots on target, 6, 8), (Shots Blocked, 2, 3), (Saves, 6, 5), (Possession %, 61, 39), (Corner, 6, 4), (Fouls, 9, 5), (Offsides, 0, 1), (Yellow cards, 0, 1), (Red cards, 0, 0), (Attacks, 161, 82), (Attacks (Dangerous), 106, 35), (Pass, 641, 425), (Pass percentage %, 87, 77), (Free Kicks, 6, 9), (Throw Ins, 23, 11), (Tackles, 12, 16)]   \n",
       "2                                                                                                                             [(Shots, 10, 14), (Shots on target, 5, 8), (Saves, 3, 3), (Possession %, 50, 50), (Corner, 5, 4), (Yellow cards, 1, 0), (Red cards, 0, 0), (Attacks, 89, 112), (Attacks (Dangerous), 50, 58), (Free Kicks, 15, 12), (Throw Ins, 18, 30)]   \n",
       "3                                               [(Shots, 9, 17), (Shots on target, 1, 5), (Shots Blocked, 4, 7), (Saves, 3, 0), (Possession %, 54, 46), (Corner, 6, 5), (Fouls, 16, 8), (Offsides, 1, 1), (Yellow cards, 0, 2), (Red cards, 0, 0), (Attacks, 93, 77), (Attacks (Dangerous), 62, 50), (Pass, 338, 302), (Pass percentage %, 77, 76), (Tackles, 16, 17)]   \n",
       "4                                                                                                                                                                                                                                                                                                                                                                   []   \n",
       "\n",
       "        city_country viewers            weath_temp  \\\n",
       "0  Trondheim, Norway  11,076  (+12, partly cloudy)   \n",
       "1  Sarpsborg, Norway   4,635          (+17, sunny)   \n",
       "2           Slovenia                                 \n",
       "3                                                    \n",
       "4                                                    \n",
       "\n",
       "                                                          bets  \n",
       "0  ([1, X, 2, ТМ 2.5, ТБ 2.5], [1.47, 4.50, 5.90, 2.33, 1.59])  \n",
       "1  ([1, X, 2, ТМ 2.5, ТБ 2.5], [2.78, 3.64, 2.21, 2.39, 1.53])  \n",
       "2  ([1, X, 2, ТМ 2.5, ТБ 2.5], [2.42, 3.32, 2.47, 1.83, 1.97])  \n",
       "3  ([1, X, 2, ТМ 2.5, ТБ 2.5], [2.16, 3.86, 2.89, 2.72, 1.40])  \n",
       "4                                                     ([], [])  "
      ]
     },
     "execution_count": 47,
     "metadata": {},
     "output_type": "execute_result"
    }
   ],
   "source": [
    "df_events.head()"
   ]
  },
  {
   "cell_type": "code",
   "execution_count": 48,
   "id": "329be7cc-bd0b-4fca-a8c6-65279da8db2e",
   "metadata": {},
   "outputs": [
    {
     "data": {
      "text/plain": [
       "(501, 8)"
      ]
     },
     "execution_count": 48,
     "metadata": {},
     "output_type": "execute_result"
    }
   ],
   "source": [
    "df_events.shape"
   ]
  },
  {
   "cell_type": "code",
   "execution_count": 49,
   "id": "8cabdaa2-a288-40e7-91b3-fe721292a19f",
   "metadata": {},
   "outputs": [
    {
     "data": {
      "text/html": [
       "<div>\n",
       "<style scoped>\n",
       "    .dataframe tbody tr th:only-of-type {\n",
       "        vertical-align: middle;\n",
       "    }\n",
       "\n",
       "    .dataframe tbody tr th {\n",
       "        vertical-align: top;\n",
       "    }\n",
       "\n",
       "    .dataframe thead th {\n",
       "        text-align: right;\n",
       "    }\n",
       "</style>\n",
       "<table border=\"1\" class=\"dataframe\">\n",
       "  <thead>\n",
       "    <tr style=\"text-align: right;\">\n",
       "      <th></th>\n",
       "      <th>game_id</th>\n",
       "      <th>event_mins</th>\n",
       "      <th>event_hts_ats</th>\n",
       "      <th>stats_dict</th>\n",
       "      <th>city_country</th>\n",
       "      <th>viewers</th>\n",
       "      <th>weath_temp</th>\n",
       "      <th>bets</th>\n",
       "    </tr>\n",
       "  </thead>\n",
       "  <tbody>\n",
       "    <tr>\n",
       "      <th>0</th>\n",
       "      <td>1687458</td>\n",
       "      <td>[10, 20, 35, 40, 47, 47, 48, 54, 60, 74, 81]</td>\n",
       "      <td>[pengoal, goal, goal, goal, yellowcard, yellowcard, yellowcard, goal, yellowcard, owngoal, yellowcard]</td>\n",
       "      <td>[(Shots, 13, 9), (Shots on target, 6, 5), (Shots Blocked, 1, 2), (Saves, 2, 3), (Possession %, 59, 41), (Corner, 7, 4), (Fouls, 11, 15), (Offsides, 2, 2), (Yellow cards, 1, 4), (Red cards, 0, 0), (Attacks, 139, 83), (Attacks (Dangerous), 53, 27), (Pass, 498, 355), (Pass percentage %, 77, 68), (Free Kicks, 17, 12), (Throw Ins, 29, 19), (Tackles, 20, 15)]</td>\n",
       "      <td>Trondheim, Norway</td>\n",
       "      <td>11,076</td>\n",
       "      <td>(+12, partly cloudy)</td>\n",
       "      <td>([1, X, 2, ТМ 2.5, ТБ 2.5], [1.47, 4.50, 5.90, 2.33, 1.59])</td>\n",
       "    </tr>\n",
       "    <tr>\n",
       "      <th>1</th>\n",
       "      <td>1687459</td>\n",
       "      <td>[51, 66, 68, 83]</td>\n",
       "      <td>[goal, goal, goal, yellowcard]</td>\n",
       "      <td>[(Shots, 16, 17), (Shots on target, 6, 8), (Shots Blocked, 2, 3), (Saves, 6, 5), (Possession %, 61, 39), (Corner, 6, 4), (Fouls, 9, 5), (Offsides, 0, 1), (Yellow cards, 0, 1), (Red cards, 0, 0), (Attacks, 161, 82), (Attacks (Dangerous), 106, 35), (Pass, 641, 425), (Pass percentage %, 87, 77), (Free Kicks, 6, 9), (Throw Ins, 23, 11), (Tackles, 12, 16)]</td>\n",
       "      <td>Sarpsborg, Norway</td>\n",
       "      <td>4,635</td>\n",
       "      <td>(+17, sunny)</td>\n",
       "      <td>([1, X, 2, ТМ 2.5, ТБ 2.5], [2.78, 3.64, 2.21, 2.39, 1.53])</td>\n",
       "    </tr>\n",
       "    <tr>\n",
       "      <th>2</th>\n",
       "      <td>1729415</td>\n",
       "      <td>[8, 11, 39, +, 51, 59, 72, 86]</td>\n",
       "      <td>[goal, goal, goal, pengoal, goal, yellowcard, goal, goal]</td>\n",
       "      <td>[(Shots, 10, 14), (Shots on target, 5, 8), (Saves, 3, 3), (Possession %, 50, 50), (Corner, 5, 4), (Yellow cards, 1, 0), (Red cards, 0, 0), (Attacks, 89, 112), (Attacks (Dangerous), 50, 58), (Free Kicks, 15, 12), (Throw Ins, 18, 30)]</td>\n",
       "      <td>Slovenia</td>\n",
       "      <td></td>\n",
       "      <td></td>\n",
       "      <td>([1, X, 2, ТМ 2.5, ТБ 2.5], [2.42, 3.32, 2.47, 1.83, 1.97])</td>\n",
       "    </tr>\n",
       "    <tr>\n",
       "      <th>3</th>\n",
       "      <td>1728547</td>\n",
       "      <td>[11, 11, 22, 63, 90]</td>\n",
       "      <td>[pengoal, yellowcard, goal, yellowcard, goal]</td>\n",
       "      <td>[(Shots, 9, 17), (Shots on target, 1, 5), (Shots Blocked, 4, 7), (Saves, 3, 0), (Possession %, 54, 46), (Corner, 6, 5), (Fouls, 16, 8), (Offsides, 1, 1), (Yellow cards, 0, 2), (Red cards, 0, 0), (Attacks, 93, 77), (Attacks (Dangerous), 62, 50), (Pass, 338, 302), (Pass percentage %, 77, 76), (Tackles, 16, 17)]</td>\n",
       "      <td></td>\n",
       "      <td></td>\n",
       "      <td></td>\n",
       "      <td>([1, X, 2, ТМ 2.5, ТБ 2.5], [2.16, 3.86, 2.89, 2.72, 1.40])</td>\n",
       "    </tr>\n",
       "    <tr>\n",
       "      <th>4</th>\n",
       "      <td>1728545</td>\n",
       "      <td>[2, 6, 41, +, 50, 53, 77, +]</td>\n",
       "      <td>[redcard, pengoal, redcard, yellowcard, redcard, goal, yellowcard, yellowcard]</td>\n",
       "      <td>[]</td>\n",
       "      <td></td>\n",
       "      <td></td>\n",
       "      <td></td>\n",
       "      <td>([], [])</td>\n",
       "    </tr>\n",
       "  </tbody>\n",
       "</table>\n",
       "</div>"
      ],
      "text/plain": [
       "   game_id                                    event_mins  \\\n",
       "0  1687458  [10, 20, 35, 40, 47, 47, 48, 54, 60, 74, 81]   \n",
       "1  1687459                              [51, 66, 68, 83]   \n",
       "2  1729415                [8, 11, 39, +, 51, 59, 72, 86]   \n",
       "3  1728547                          [11, 11, 22, 63, 90]   \n",
       "4  1728545                  [2, 6, 41, +, 50, 53, 77, +]   \n",
       "\n",
       "                                                                                            event_hts_ats  \\\n",
       "0  [pengoal, goal, goal, goal, yellowcard, yellowcard, yellowcard, goal, yellowcard, owngoal, yellowcard]   \n",
       "1                                                                          [goal, goal, goal, yellowcard]   \n",
       "2                                               [goal, goal, goal, pengoal, goal, yellowcard, goal, goal]   \n",
       "3                                                           [pengoal, yellowcard, goal, yellowcard, goal]   \n",
       "4                          [redcard, pengoal, redcard, yellowcard, redcard, goal, yellowcard, yellowcard]   \n",
       "\n",
       "                                                                                                                                                                                                                                                                                                                                                            stats_dict  \\\n",
       "0  [(Shots, 13, 9), (Shots on target, 6, 5), (Shots Blocked, 1, 2), (Saves, 2, 3), (Possession %, 59, 41), (Corner, 7, 4), (Fouls, 11, 15), (Offsides, 2, 2), (Yellow cards, 1, 4), (Red cards, 0, 0), (Attacks, 139, 83), (Attacks (Dangerous), 53, 27), (Pass, 498, 355), (Pass percentage %, 77, 68), (Free Kicks, 17, 12), (Throw Ins, 29, 19), (Tackles, 20, 15)]   \n",
       "1    [(Shots, 16, 17), (Shots on target, 6, 8), (Shots Blocked, 2, 3), (Saves, 6, 5), (Possession %, 61, 39), (Corner, 6, 4), (Fouls, 9, 5), (Offsides, 0, 1), (Yellow cards, 0, 1), (Red cards, 0, 0), (Attacks, 161, 82), (Attacks (Dangerous), 106, 35), (Pass, 641, 425), (Pass percentage %, 87, 77), (Free Kicks, 6, 9), (Throw Ins, 23, 11), (Tackles, 12, 16)]   \n",
       "2                                                                                                                             [(Shots, 10, 14), (Shots on target, 5, 8), (Saves, 3, 3), (Possession %, 50, 50), (Corner, 5, 4), (Yellow cards, 1, 0), (Red cards, 0, 0), (Attacks, 89, 112), (Attacks (Dangerous), 50, 58), (Free Kicks, 15, 12), (Throw Ins, 18, 30)]   \n",
       "3                                               [(Shots, 9, 17), (Shots on target, 1, 5), (Shots Blocked, 4, 7), (Saves, 3, 0), (Possession %, 54, 46), (Corner, 6, 5), (Fouls, 16, 8), (Offsides, 1, 1), (Yellow cards, 0, 2), (Red cards, 0, 0), (Attacks, 93, 77), (Attacks (Dangerous), 62, 50), (Pass, 338, 302), (Pass percentage %, 77, 76), (Tackles, 16, 17)]   \n",
       "4                                                                                                                                                                                                                                                                                                                                                                   []   \n",
       "\n",
       "        city_country viewers            weath_temp  \\\n",
       "0  Trondheim, Norway  11,076  (+12, partly cloudy)   \n",
       "1  Sarpsborg, Norway   4,635          (+17, sunny)   \n",
       "2           Slovenia                                 \n",
       "3                                                    \n",
       "4                                                    \n",
       "\n",
       "                                                          bets  \n",
       "0  ([1, X, 2, ТМ 2.5, ТБ 2.5], [1.47, 4.50, 5.90, 2.33, 1.59])  \n",
       "1  ([1, X, 2, ТМ 2.5, ТБ 2.5], [2.78, 3.64, 2.21, 2.39, 1.53])  \n",
       "2  ([1, X, 2, ТМ 2.5, ТБ 2.5], [2.42, 3.32, 2.47, 1.83, 1.97])  \n",
       "3  ([1, X, 2, ТМ 2.5, ТБ 2.5], [2.16, 3.86, 2.89, 2.72, 1.40])  \n",
       "4                                                     ([], [])  "
      ]
     },
     "execution_count": 49,
     "metadata": {},
     "output_type": "execute_result"
    }
   ],
   "source": [
    "df_events.head()"
   ]
  },
  {
   "cell_type": "code",
   "execution_count": 50,
   "id": "cdcede96-96a9-48a5-ac10-231e01b91d60",
   "metadata": {},
   "outputs": [],
   "source": [
    "# First events from all_matches\n",
    "# 11967929 - 12997 - second_ligues_start_11967929\n",
    "# 11925466 - 5498  - second_ligues_start_10991305\n",
    "# 11258622 - 2000 - second_ligues_start__11028911\n",
    "# 10856567 - 3200 - second_ligues_start_10924530\n",
    "# 1507965 - 5500 - second_ligues_start_2_11935838\n",
    "# 11935833 - 4840 - second_ligues_start_2_10932840\n",
    "\n",
    "# 1445410 - 9500 - second_ligues_middle_12606526\n",
    "# 12606530 - 5500 - second_ligues_middle_11937265\n",
    "# 11937267 - 11630 - second_ligues_middle_10961666\n",
    "# 1521058 - 10000 - second_ligues_middle_2_12621697\n",
    "# 12621701 - 6500 - second_ligues_middle_2_11478148\n",
    "# 11511623 - 5500- second_ligues_middle_2_14513946\n",
    "# 11065258 - 2000 - second_ligues_middle_2_14385660\n",
    "# 10884541 - 650 - second_ligues_middle_2_10884423\n",
    "\n",
    "# 1427554 - 6000 - second_ligues_end_14128217\n",
    "# 14128214 - 500 - second_ligues_end_14145950\n",
    "# 14145944 - 5000 - second_ligues_end_11902890\n",
    "# 11914011 - 9000 - second_ligues_end_10869236\n",
    "# 11012263 - 2500 - second_ligues_end_10915569\n",
    "\n",
    "# 1533922 - 8000 - second_ligues_end_2_11907597\n",
    "# 511894218 - 500 - second_ligues_end_2_12558586\n",
    "# 12558685 - 6500 - second_ligues_end_2_10861138\n",
    "# 11057180 - 1000 - second_ligues_end_2_10932349\n",
    "# 10932346 - 500 - second_ligues_end_2_10934906\n",
    "# 10934905 - 409 - second_ligues_end_2_10625206\n",
    "\n",
    "# 1432501 - 7500 - top_ligues_end_12563304\n",
    "# 12563302 - 9130 - top_ligues_end_10911255\n",
    "# 12567313 - 9146 - top_ligues_end_2_10909453\n",
    "# 1458512 - 7500 - top_ligues_end_2_12567311\n",
    "# 1529443  - 19084 - top_ligues_start_2_1090378\n",
    "# 11920204 - 9495 - top_ligues_start_1_10900138\n",
    "# 1442836  - 2001 - top_ligues_start_1_14893395\n",
    "# 14893402 - 501  - top_ligues_start_1_14919434\n",
    "# 14919433 - 501  - top_ligues_start_1_14900239\n",
    "# 14900237 - 1001 - top_ligues_start_1_14101959\n",
    "# 14898253 - 1001 - top_ligues_start_1_14898150\n",
    "# 14898157 - 7995 - top_ligues_start_1_11920200"
   ]
  }
 ],
 "metadata": {
  "kernelspec": {
   "display_name": "Python 3 (ipykernel)",
   "language": "python",
   "name": "python3"
  },
  "language_info": {
   "codemirror_mode": {
    "name": "ipython",
    "version": 3
   },
   "file_extension": ".py",
   "mimetype": "text/x-python",
   "name": "python",
   "nbconvert_exporter": "python",
   "pygments_lexer": "ipython3",
   "version": "3.9.7"
  }
 },
 "nbformat": 4,
 "nbformat_minor": 5
}

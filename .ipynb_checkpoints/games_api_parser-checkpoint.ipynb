{
 "cells": [
  {
   "cell_type": "code",
   "execution_count": 1,
   "id": "9978c8f5-fa18-440e-83ee-6d95c596fd2e",
   "metadata": {},
   "outputs": [],
   "source": [
    "# For get tables of competitions \n",
    "# https://soccer365.ru/competitions/16/ - current tables\n",
    "# https://soccer365.ru/competitions/16/2017-2018/ - for seasons\n",
    "\n",
    "# html = requests.get('https://soccer365.me/?c=live&a=showtable&competition_id=483&season_id=307').content\n",
    "# <tr class=\"adv_kef_wgt_odd\">"
   ]
  },
  {
   "cell_type": "code",
   "execution_count": 1,
   "id": "wrong-therapist",
   "metadata": {},
   "outputs": [],
   "source": [
    "import os\n",
    "import re\n",
    "import pickle\n",
    "import numpy as np\n",
    "import pandas as pd\n",
    "\n",
    "from _html_parser import HtmlParser, ParsingDataPrepare, TableConstant\n",
    "\n",
    "pd.set_option('display.max_rows', 500)\n",
    "pd.set_option('display.max_columns', 500)\n",
    "pd.set_option('display.max_colwidth', 500)"
   ]
  },
  {
   "cell_type": "code",
   "execution_count": 2,
   "id": "4f2f4730-d51e-47ff-872b-0536f219509b",
   "metadata": {},
   "outputs": [],
   "source": [
    "%load_ext autoreload\n",
    "%autoreload 2"
   ]
  },
  {
   "cell_type": "code",
   "execution_count": 3,
   "id": "3d76411b-aa23-4bd6-bec6-526b78d44228",
   "metadata": {},
   "outputs": [
    {
     "data": {
      "text/plain": [
       "501"
      ]
     },
     "execution_count": 3,
     "metadata": {},
     "output_type": "execute_result"
    }
   ],
   "source": [
    "# Last date of season in EPL with correct datatime on 'soccer365.me': 15.08.1998\n",
    "# Format: start - %m/%d/%Y, end - %m/%d/%Y\n",
    "numdays = ParsingDataPrepare.count_days_by_dates('12/29/1999', '08/15/1998')\n",
    "numdays"
   ]
  },
  {
   "cell_type": "code",
   "execution_count": 3,
   "id": "aeb61b5d-b0b3-465d-a47b-f1cc3dacb553",
   "metadata": {},
   "outputs": [],
   "source": [
    "# from_26_05_2022_to_27_03_2021_games, from_26_03_2021_to_03_11_2013_games, from_02_11_2013_to_10_07_2005_games, from_09_07_2005_to_01_01_2000_games\n",
    "# from_29_12_1999_to_15_08_1998_games\n",
    "name = 'pickle_files/new_events/from_29_12_1999_to_15_08_1998_games'   "
   ]
  },
  {
   "cell_type": "code",
   "execution_count": 4,
   "id": "vertical-alaska",
   "metadata": {},
   "outputs": [
    {
     "name": "stdout",
     "output_type": "stream",
     "text": [
      "1999-12-29\n",
      "Data is saved\n"
     ]
    }
   ],
   "source": [
    "HtmlParser.parsing_write_by_date(numdays=1, start_year=1999, start_month=12, start_day=29, file_name=name)"
   ]
  },
  {
   "cell_type": "code",
   "execution_count": 17,
   "id": "still-therapy",
   "metadata": {},
   "outputs": [],
   "source": [
    "with open(name, 'rb') as f:\n",
    "    games = pickle.load(f)"
   ]
  },
  {
   "cell_type": "code",
   "execution_count": 18,
   "id": "e7e2048b-04f3-4f72-9b08-62408b30a5a3",
   "metadata": {},
   "outputs": [
    {
     "data": {
      "text/plain": [
       "2"
      ]
     },
     "execution_count": 18,
     "metadata": {},
     "output_type": "execute_result"
    }
   ],
   "source": [
    "len(games)"
   ]
  },
  {
   "cell_type": "markdown",
   "id": "3af3924d-22fe-4aac-bf4f-300362a3a51f",
   "metadata": {},
   "source": [
    "#### Check and change datatime if need '+3 utc' on 'utc'"
   ]
  },
  {
   "cell_type": "code",
   "execution_count": 7,
   "id": "129bed90-a042-43a2-848d-bc23c5548cb2",
   "metadata": {},
   "outputs": [],
   "source": [
    "# import pytz\n",
    "# utc = pytz.timezone('UTC')\n",
    "# localtz = pytz.timezone('Europe/Kiev')\n",
    "# # pytz.all_timezones\n",
    "# from datetime import datetime, timedelta\n",
    "\n",
    "# for key, val in games.items():\n",
    "#     if val[3] in ['Cancelled', 'Postponed', 'Awarded', 'Stopped', 'Delayed']:\n",
    "#         continue\n",
    "#     d_time = datetime.strptime(val[3], \"%d.%m.%Y %H:%M\")\n",
    "#     localtime = localtz.localize(d_time)\n",
    "#     utctime = utc.normalize(localtime.astimezone(utc))    \n",
    "#     games[key][3] = utctime.strftime('%d.%m.%Y %H:%M')"
   ]
  },
  {
   "cell_type": "code",
   "execution_count": 19,
   "id": "9fb86791-6e89-4702-b113-6523993bf6a8",
   "metadata": {},
   "outputs": [
    {
     "data": {
      "text/plain": [
       "(2, 8)"
      ]
     },
     "execution_count": 19,
     "metadata": {},
     "output_type": "execute_result"
    }
   ],
   "source": [
    "df_to_transform = pd.DataFrame(games)\n",
    "df = ParsingDataPrepare.transform_columns_to_rows(df_to_transform, ['ligue_header', 'comp_id', 'season_id', 'game_utc', 'game_title','goals', 'game_status'])\n",
    "\n",
    "df.reset_index(inplace=True)\n",
    "df.rename(columns={'index':'game_id'}, inplace=True)\n",
    "df.shape"
   ]
  },
  {
   "cell_type": "code",
   "execution_count": 23,
   "id": "b17d9185-45c2-475a-a0af-8b7e6cbe32b2",
   "metadata": {},
   "outputs": [],
   "source": [
    "# df"
   ]
  },
  {
   "cell_type": "code",
   "execution_count": 21,
   "id": "f2b061db-4cf7-45fa-b6a0-bd5e7e756744",
   "metadata": {},
   "outputs": [],
   "source": [
    "# Clearing data\n",
    "df_games = df[(df.game_status == 'Finished') & (df.game_utc.str.len() > 10)].copy()\n",
    "# Check for dublicates\n",
    "df_games.drop(columns=['game_status'], inplace=True)\n",
    "df_games.drop_duplicates(subset=['game_id'], inplace=True)\n",
    "df_games.drop_duplicates(subset=['game_utc', 'game_title'], inplace=True)"
   ]
  },
  {
   "cell_type": "code",
   "execution_count": 21,
   "id": "4d59dc4b-7a24-4d5a-9196-577dfde5d976",
   "metadata": {},
   "outputs": [],
   "source": [
    "top_lgs = TableConstant.top_ligues\n",
    "sec_lgs = TableConstant.second_ligues\n",
    "\n",
    "df_games['ligue'] = np.where(df_games.comp_id.isin(top_lgs), 'top', np.where(df_games.comp_id.isin(sec_lgs), 'sec', 'thr'))"
   ]
  },
  {
   "cell_type": "code",
   "execution_count": 22,
   "id": "be8f29a4-30c4-4bd3-8a0d-7fba6a564e54",
   "metadata": {},
   "outputs": [
    {
     "data": {
      "text/plain": [
       "top    17983\n",
       "thr    11339\n",
       "sec     4188\n",
       "Name: ligue, dtype: int64"
      ]
     },
     "execution_count": 22,
     "metadata": {},
     "output_type": "execute_result"
    }
   ],
   "source": [
    "df_games.ligue.value_counts()"
   ]
  },
  {
   "cell_type": "code",
   "execution_count": 23,
   "id": "c4b23554-bf1e-4efa-b8b5-269350f1e237",
   "metadata": {},
   "outputs": [
    {
     "data": {
      "text/plain": [
       "(33510, 8)"
      ]
     },
     "execution_count": 23,
     "metadata": {},
     "output_type": "execute_result"
    }
   ],
   "source": [
    "df_games.reset_index(inplace=True, drop=True)\n",
    "df_games.shape"
   ]
  },
  {
   "cell_type": "code",
   "execution_count": 26,
   "id": "59c6ac84-a70c-4aec-8cda-b7ba8db8f2b6",
   "metadata": {},
   "outputs": [
    {
     "data": {
      "text/html": [
       "<div>\n",
       "<style scoped>\n",
       "    .dataframe tbody tr th:only-of-type {\n",
       "        vertical-align: middle;\n",
       "    }\n",
       "\n",
       "    .dataframe tbody tr th {\n",
       "        vertical-align: top;\n",
       "    }\n",
       "\n",
       "    .dataframe thead th {\n",
       "        text-align: right;\n",
       "    }\n",
       "</style>\n",
       "<table border=\"1\" class=\"dataframe\">\n",
       "  <thead>\n",
       "    <tr style=\"text-align: right;\">\n",
       "      <th></th>\n",
       "      <th>game_id</th>\n",
       "      <th>ligue_header</th>\n",
       "      <th>comp_id</th>\n",
       "      <th>season_id</th>\n",
       "      <th>game_utc</th>\n",
       "      <th>game_title</th>\n",
       "      <th>goals</th>\n",
       "      <th>ligue</th>\n",
       "    </tr>\n",
       "  </thead>\n",
       "  <tbody>\n",
       "    <tr>\n",
       "      <th>0</th>\n",
       "      <td>10761221</td>\n",
       "      <td>Premier Liga</td>\n",
       "      <td>13</td>\n",
       "      <td>19</td>\n",
       "      <td>09.07.2005 10:00</td>\n",
       "      <td>Spartak Moscow - Lokomotiv Moscow</td>\n",
       "      <td>1:2</td>\n",
       "      <td>top</td>\n",
       "    </tr>\n",
       "    <tr>\n",
       "      <th>1</th>\n",
       "      <td>10761218</td>\n",
       "      <td>Premier Liga</td>\n",
       "      <td>13</td>\n",
       "      <td>19</td>\n",
       "      <td>09.07.2005 13:00</td>\n",
       "      <td>Amkar - Torpedo Moscow</td>\n",
       "      <td>0:0</td>\n",
       "      <td>top</td>\n",
       "    </tr>\n",
       "    <tr>\n",
       "      <th>2</th>\n",
       "      <td>10761217</td>\n",
       "      <td>Premier Liga</td>\n",
       "      <td>13</td>\n",
       "      <td>19</td>\n",
       "      <td>09.07.2005 14:00</td>\n",
       "      <td>FK Rostov - Zenit Petersburg</td>\n",
       "      <td>0:1</td>\n",
       "      <td>top</td>\n",
       "    </tr>\n",
       "    <tr>\n",
       "      <th>3</th>\n",
       "      <td>10761216</td>\n",
       "      <td>Premier Liga</td>\n",
       "      <td>13</td>\n",
       "      <td>19</td>\n",
       "      <td>09.07.2005 14:00</td>\n",
       "      <td>Alania Vladikavkaz - CSKA Moscow</td>\n",
       "      <td>1:1</td>\n",
       "      <td>top</td>\n",
       "    </tr>\n",
       "    <tr>\n",
       "      <th>4</th>\n",
       "      <td>10761219</td>\n",
       "      <td>Premier Liga</td>\n",
       "      <td>13</td>\n",
       "      <td>19</td>\n",
       "      <td>09.07.2005 14:00</td>\n",
       "      <td>Rubin Kazan - Shinnik</td>\n",
       "      <td>2:0</td>\n",
       "      <td>top</td>\n",
       "    </tr>\n",
       "    <tr>\n",
       "      <th>...</th>\n",
       "      <td>...</td>\n",
       "      <td>...</td>\n",
       "      <td>...</td>\n",
       "      <td>...</td>\n",
       "      <td>...</td>\n",
       "      <td>...</td>\n",
       "      <td>...</td>\n",
       "      <td>...</td>\n",
       "    </tr>\n",
       "    <tr>\n",
       "      <th>33505</th>\n",
       "      <td>10742696</td>\n",
       "      <td>Premier League</td>\n",
       "      <td>12</td>\n",
       "      <td>43</td>\n",
       "      <td>03.01.2000 19:00</td>\n",
       "      <td>Everton - Leicester City</td>\n",
       "      <td>2:2</td>\n",
       "      <td>top</td>\n",
       "    </tr>\n",
       "    <tr>\n",
       "      <th>33506</th>\n",
       "      <td>10742700</td>\n",
       "      <td>Premier League</td>\n",
       "      <td>12</td>\n",
       "      <td>43</td>\n",
       "      <td>03.01.2000 19:00</td>\n",
       "      <td>Southampton - Bradford City</td>\n",
       "      <td>1:0</td>\n",
       "      <td>top</td>\n",
       "    </tr>\n",
       "    <tr>\n",
       "      <th>33507</th>\n",
       "      <td>10742702</td>\n",
       "      <td>Premier League</td>\n",
       "      <td>12</td>\n",
       "      <td>43</td>\n",
       "      <td>03.01.2000 19:00</td>\n",
       "      <td>Wimbledon - Sunderland</td>\n",
       "      <td>1:0</td>\n",
       "      <td>top</td>\n",
       "    </tr>\n",
       "    <tr>\n",
       "      <th>33508</th>\n",
       "      <td>10742697</td>\n",
       "      <td>Premier League</td>\n",
       "      <td>12</td>\n",
       "      <td>43</td>\n",
       "      <td>03.01.2000 19:00</td>\n",
       "      <td>Leeds United - Aston Villa</td>\n",
       "      <td>1:2</td>\n",
       "      <td>top</td>\n",
       "    </tr>\n",
       "    <tr>\n",
       "      <th>33509</th>\n",
       "      <td>10742695</td>\n",
       "      <td>Premier League</td>\n",
       "      <td>12</td>\n",
       "      <td>43</td>\n",
       "      <td>03.01.2000 19:00</td>\n",
       "      <td>Derby County - Watford</td>\n",
       "      <td>2:0</td>\n",
       "      <td>top</td>\n",
       "    </tr>\n",
       "  </tbody>\n",
       "</table>\n",
       "<p>33510 rows × 8 columns</p>\n",
       "</div>"
      ],
      "text/plain": [
       "        game_id    ligue_header comp_id season_id          game_utc  \\\n",
       "0      10761221    Premier Liga      13        19  09.07.2005 10:00   \n",
       "1      10761218    Premier Liga      13        19  09.07.2005 13:00   \n",
       "2      10761217    Premier Liga      13        19  09.07.2005 14:00   \n",
       "3      10761216    Premier Liga      13        19  09.07.2005 14:00   \n",
       "4      10761219    Premier Liga      13        19  09.07.2005 14:00   \n",
       "...         ...             ...     ...       ...               ...   \n",
       "33505  10742696  Premier League      12        43  03.01.2000 19:00   \n",
       "33506  10742700  Premier League      12        43  03.01.2000 19:00   \n",
       "33507  10742702  Premier League      12        43  03.01.2000 19:00   \n",
       "33508  10742697  Premier League      12        43  03.01.2000 19:00   \n",
       "33509  10742695  Premier League      12        43  03.01.2000 19:00   \n",
       "\n",
       "                              game_title goals ligue  \n",
       "0      Spartak Moscow - Lokomotiv Moscow   1:2   top  \n",
       "1                 Amkar - Torpedo Moscow   0:0   top  \n",
       "2           FK Rostov - Zenit Petersburg   0:1   top  \n",
       "3       Alania Vladikavkaz - CSKA Moscow   1:1   top  \n",
       "4                  Rubin Kazan - Shinnik   2:0   top  \n",
       "...                                  ...   ...   ...  \n",
       "33505           Everton - Leicester City   2:2   top  \n",
       "33506        Southampton - Bradford City   1:0   top  \n",
       "33507             Wimbledon - Sunderland   1:0   top  \n",
       "33508         Leeds United - Aston Villa   1:2   top  \n",
       "33509             Derby County - Watford   2:0   top  \n",
       "\n",
       "[33510 rows x 8 columns]"
      ]
     },
     "execution_count": 26,
     "metadata": {},
     "output_type": "execute_result"
    }
   ],
   "source": [
    "df_games"
   ]
  },
  {
   "cell_type": "code",
   "execution_count": 30,
   "id": "632bf485-d7ca-4577-8fe9-8956e3dfa1ba",
   "metadata": {},
   "outputs": [],
   "source": [
    "# file = open('pickle_files/new_events/df_09_07_2005_to_01_01_2000_games', 'wb')\n",
    "# pickle.dump(df_games, file)  \n",
    "# file.close()"
   ]
  },
  {
   "cell_type": "code",
   "execution_count": 28,
   "id": "3bc1666b-09d4-47e7-bd25-700ef99c9e16",
   "metadata": {},
   "outputs": [],
   "source": [
    "with open('pickle_files/new_events/df_09_07_2005_to_01_01_2000_games', 'rb') as f:\n",
    "    df_load = pickle.load(f)"
   ]
  },
  {
   "cell_type": "code",
   "execution_count": 29,
   "id": "f9cc04b0-ac20-4523-9a5a-764eba8ccd8b",
   "metadata": {},
   "outputs": [
    {
     "data": {
      "text/html": [
       "<div>\n",
       "<style scoped>\n",
       "    .dataframe tbody tr th:only-of-type {\n",
       "        vertical-align: middle;\n",
       "    }\n",
       "\n",
       "    .dataframe tbody tr th {\n",
       "        vertical-align: top;\n",
       "    }\n",
       "\n",
       "    .dataframe thead th {\n",
       "        text-align: right;\n",
       "    }\n",
       "</style>\n",
       "<table border=\"1\" class=\"dataframe\">\n",
       "  <thead>\n",
       "    <tr style=\"text-align: right;\">\n",
       "      <th></th>\n",
       "      <th>game_id</th>\n",
       "      <th>ligue_header</th>\n",
       "      <th>comp_id</th>\n",
       "      <th>season_id</th>\n",
       "      <th>game_utc</th>\n",
       "      <th>game_title</th>\n",
       "      <th>goals</th>\n",
       "      <th>ligue</th>\n",
       "    </tr>\n",
       "  </thead>\n",
       "  <tbody>\n",
       "    <tr>\n",
       "      <th>0</th>\n",
       "      <td>10761221</td>\n",
       "      <td>Premier Liga</td>\n",
       "      <td>13</td>\n",
       "      <td>19</td>\n",
       "      <td>09.07.2005 10:00</td>\n",
       "      <td>Spartak Moscow - Lokomotiv Moscow</td>\n",
       "      <td>1:2</td>\n",
       "      <td>top</td>\n",
       "    </tr>\n",
       "    <tr>\n",
       "      <th>1</th>\n",
       "      <td>10761218</td>\n",
       "      <td>Premier Liga</td>\n",
       "      <td>13</td>\n",
       "      <td>19</td>\n",
       "      <td>09.07.2005 13:00</td>\n",
       "      <td>Amkar - Torpedo Moscow</td>\n",
       "      <td>0:0</td>\n",
       "      <td>top</td>\n",
       "    </tr>\n",
       "    <tr>\n",
       "      <th>2</th>\n",
       "      <td>10761217</td>\n",
       "      <td>Premier Liga</td>\n",
       "      <td>13</td>\n",
       "      <td>19</td>\n",
       "      <td>09.07.2005 14:00</td>\n",
       "      <td>FK Rostov - Zenit Petersburg</td>\n",
       "      <td>0:1</td>\n",
       "      <td>top</td>\n",
       "    </tr>\n",
       "    <tr>\n",
       "      <th>3</th>\n",
       "      <td>10761216</td>\n",
       "      <td>Premier Liga</td>\n",
       "      <td>13</td>\n",
       "      <td>19</td>\n",
       "      <td>09.07.2005 14:00</td>\n",
       "      <td>Alania Vladikavkaz - CSKA Moscow</td>\n",
       "      <td>1:1</td>\n",
       "      <td>top</td>\n",
       "    </tr>\n",
       "    <tr>\n",
       "      <th>4</th>\n",
       "      <td>10761219</td>\n",
       "      <td>Premier Liga</td>\n",
       "      <td>13</td>\n",
       "      <td>19</td>\n",
       "      <td>09.07.2005 14:00</td>\n",
       "      <td>Rubin Kazan - Shinnik</td>\n",
       "      <td>2:0</td>\n",
       "      <td>top</td>\n",
       "    </tr>\n",
       "    <tr>\n",
       "      <th>...</th>\n",
       "      <td>...</td>\n",
       "      <td>...</td>\n",
       "      <td>...</td>\n",
       "      <td>...</td>\n",
       "      <td>...</td>\n",
       "      <td>...</td>\n",
       "      <td>...</td>\n",
       "      <td>...</td>\n",
       "    </tr>\n",
       "    <tr>\n",
       "      <th>33505</th>\n",
       "      <td>10742696</td>\n",
       "      <td>Premier League</td>\n",
       "      <td>12</td>\n",
       "      <td>43</td>\n",
       "      <td>03.01.2000 19:00</td>\n",
       "      <td>Everton - Leicester City</td>\n",
       "      <td>2:2</td>\n",
       "      <td>top</td>\n",
       "    </tr>\n",
       "    <tr>\n",
       "      <th>33506</th>\n",
       "      <td>10742700</td>\n",
       "      <td>Premier League</td>\n",
       "      <td>12</td>\n",
       "      <td>43</td>\n",
       "      <td>03.01.2000 19:00</td>\n",
       "      <td>Southampton - Bradford City</td>\n",
       "      <td>1:0</td>\n",
       "      <td>top</td>\n",
       "    </tr>\n",
       "    <tr>\n",
       "      <th>33507</th>\n",
       "      <td>10742702</td>\n",
       "      <td>Premier League</td>\n",
       "      <td>12</td>\n",
       "      <td>43</td>\n",
       "      <td>03.01.2000 19:00</td>\n",
       "      <td>Wimbledon - Sunderland</td>\n",
       "      <td>1:0</td>\n",
       "      <td>top</td>\n",
       "    </tr>\n",
       "    <tr>\n",
       "      <th>33508</th>\n",
       "      <td>10742697</td>\n",
       "      <td>Premier League</td>\n",
       "      <td>12</td>\n",
       "      <td>43</td>\n",
       "      <td>03.01.2000 19:00</td>\n",
       "      <td>Leeds United - Aston Villa</td>\n",
       "      <td>1:2</td>\n",
       "      <td>top</td>\n",
       "    </tr>\n",
       "    <tr>\n",
       "      <th>33509</th>\n",
       "      <td>10742695</td>\n",
       "      <td>Premier League</td>\n",
       "      <td>12</td>\n",
       "      <td>43</td>\n",
       "      <td>03.01.2000 19:00</td>\n",
       "      <td>Derby County - Watford</td>\n",
       "      <td>2:0</td>\n",
       "      <td>top</td>\n",
       "    </tr>\n",
       "  </tbody>\n",
       "</table>\n",
       "<p>33510 rows × 8 columns</p>\n",
       "</div>"
      ],
      "text/plain": [
       "        game_id    ligue_header comp_id season_id          game_utc  \\\n",
       "0      10761221    Premier Liga      13        19  09.07.2005 10:00   \n",
       "1      10761218    Premier Liga      13        19  09.07.2005 13:00   \n",
       "2      10761217    Premier Liga      13        19  09.07.2005 14:00   \n",
       "3      10761216    Premier Liga      13        19  09.07.2005 14:00   \n",
       "4      10761219    Premier Liga      13        19  09.07.2005 14:00   \n",
       "...         ...             ...     ...       ...               ...   \n",
       "33505  10742696  Premier League      12        43  03.01.2000 19:00   \n",
       "33506  10742700  Premier League      12        43  03.01.2000 19:00   \n",
       "33507  10742702  Premier League      12        43  03.01.2000 19:00   \n",
       "33508  10742697  Premier League      12        43  03.01.2000 19:00   \n",
       "33509  10742695  Premier League      12        43  03.01.2000 19:00   \n",
       "\n",
       "                              game_title goals ligue  \n",
       "0      Spartak Moscow - Lokomotiv Moscow   1:2   top  \n",
       "1                 Amkar - Torpedo Moscow   0:0   top  \n",
       "2           FK Rostov - Zenit Petersburg   0:1   top  \n",
       "3       Alania Vladikavkaz - CSKA Moscow   1:1   top  \n",
       "4                  Rubin Kazan - Shinnik   2:0   top  \n",
       "...                                  ...   ...   ...  \n",
       "33505           Everton - Leicester City   2:2   top  \n",
       "33506        Southampton - Bradford City   1:0   top  \n",
       "33507             Wimbledon - Sunderland   1:0   top  \n",
       "33508         Leeds United - Aston Villa   1:2   top  \n",
       "33509             Derby County - Watford   2:0   top  \n",
       "\n",
       "[33510 rows x 8 columns]"
      ]
     },
     "execution_count": 29,
     "metadata": {},
     "output_type": "execute_result"
    }
   ],
   "source": [
    "# df_load"
   ]
  },
  {
   "cell_type": "code",
   "execution_count": 533,
   "id": "f558a3f8-ebb9-4d9e-b613-71a480479dbe",
   "metadata": {},
   "outputs": [],
   "source": [
    "tls_one_new_ids_26_03_21 = ['12', '13', '14', '15', '16', '17', '18', '419', '420']\n",
    "# tls_two_new_ids_26_03_21 = ['454', '456', '474', '483', '485', '550', '554', '560', '565']\n",
    "# tls_three_new_ids_26_03_21 =  ['577', '581', '587', '591','596', '601', '677', '681'] \n",
    "# tls_four_new_ids_26_03_21 = ['684', '695', '699', '707', '712', '716', '723', '727'] "
   ]
  },
  {
   "cell_type": "code",
   "execution_count": 534,
   "id": "41fb8541-b861-4e19-a23c-49bf5636b0bb",
   "metadata": {},
   "outputs": [],
   "source": [
    "# tls_new_ids_26_03_21 = tls_one_new_ids_26_03_21 + tls_two_new_ids_26_03_21 + tls_three_new_ids_26_03_21 + tls_four_new_ids_26_03_21"
   ]
  },
  {
   "cell_type": "code",
   "execution_count": 537,
   "id": "1af2d1f9-50d6-4371-9f71-f33a27918337",
   "metadata": {},
   "outputs": [],
   "source": [
    "# sls_one_new_ids_26_03_21 = [ '419', '424', '435', '436', '437', '444', '446', '449', '450', '457', '459', '464', '473', '477', '491']\n",
    "# sls_two_new_ids_26_03_21  = ['493', '496', '498', '500', '502', '504', '507', '512', '516', '518', '523', '532', '539', '540', '542']\n",
    "# slm_one_new_ids_26_03_21 = [ '544', '545', '546', '548', '551', '555', '562', '567', '576', '585', '586', '589', '595', '599', '602']\n",
    "# slm_two_new_ids_26_03_21 =  ['606', '621', '622', '625', '626', '628', '632', '634', '636', '637', '642', '646', '647', '648', '653']\n",
    "# sle_one_new_ids_26_03_21 = ['654', '655', '657', '659', '660', '667', '672', '674', '675', '676', '679', '685', '687', '691', '692', '697']\n",
    "# sle_two_new_ids_26_03_21 = ['700', '703', '704', '714', '715', '720', '721', '725', '727', '733''735', '747', '761', '912', '1157', '1259'] "
   ]
  },
  {
   "cell_type": "code",
   "execution_count": 539,
   "id": "6442da1e-d2b3-4da3-bb93-5aa0d8306227",
   "metadata": {},
   "outputs": [],
   "source": [
    "# sls_new_ids_26_03_21 = sls_one_new_ids_26_03_21 + sls_two_new_ids_26_03_21 + slm_one_new_ids_26_03_21 + slm_two_new_ids_26_03_21 +\\\n",
    "#                        sle_one_new_ids_26_03_21 + sle_two_new_ids_26_03_21"
   ]
  },
  {
   "cell_type": "code",
   "execution_count": 540,
   "id": "90570618-af5d-43dd-8750-29aea1815123",
   "metadata": {},
   "outputs": [],
   "source": [
    "# tls_sls_new_ids_26_03_21 = tls_new_ids_26_03_21 + sls_new_ids_26_03_21"
   ]
  },
  {
   "cell_type": "code",
   "execution_count": 541,
   "id": "c767bfb8-2870-466c-8a79-27ef9f065a25",
   "metadata": {},
   "outputs": [],
   "source": [
    "leagues      =  tls_sls_new_ids_26_03_21\n",
    "leagues_name = 'tls_sls_new_ids_26_03_21'"
   ]
  },
  {
   "cell_type": "code",
   "execution_count": 542,
   "id": "f603368c-a581-44fa-9f0d-16132e985d0e",
   "metadata": {},
   "outputs": [
    {
     "data": {
      "text/plain": [
       "2967"
      ]
     },
     "execution_count": 542,
     "metadata": {},
     "output_type": "execute_result"
    }
   ],
   "source": [
    "game_ids = df_load.game_id[df_load.comp_id.isin(leagues)].to_list()\n",
    "len(game_ids)"
   ]
  },
  {
   "cell_type": "code",
   "execution_count": null,
   "id": "945cc8e4-da8d-4de7-8d4b-8812050adffe",
   "metadata": {},
   "outputs": [],
   "source": [
    "# Aftar start script 'HtmlParser.find_game_events' all events save every 500 ids in files, in last save file has all events save before."
   ]
  },
  {
   "cell_type": "code",
   "execution_count": 12,
   "id": "c228cddb-1f56-4796-a412-069d8343dc16",
   "metadata": {},
   "outputs": [],
   "source": [
    "# HtmlParser.find_game_events(game_ids, name_saved_file = leagues_name)\n",
    "\n",
    "# For check for last saved game_id\n",
    "# game_ids.index('1574921') \n",
    "# HtmlParser.find_game_events(game_ids[1500:], name_saved_file = leagues_name)"
   ]
  },
  {
   "cell_type": "code",
   "execution_count": null,
   "id": "214a1c39-61bc-46fa-afe3-8c8da01cd0e1",
   "metadata": {},
   "outputs": [],
   "source": [
    "# From_26_05_2022_to_27_03_2021_matches\n",
    "# first id   count     name               last id"
   ]
  },
  {
   "cell_type": "code",
   "execution_count": 3,
   "id": "051ba22b-4299-4408-8bd9-d16438b4d076",
   "metadata": {},
   "outputs": [],
   "source": [
    "with open('pickle_files/tls_sls_new_ids_26_03_21_10903796', 'rb') as f:\n",
    "    events_games = pickle.load(f)"
   ]
  },
  {
   "cell_type": "code",
   "execution_count": 4,
   "id": "53fef500-5d16-46bb-8c0e-4eb6e66e27ca",
   "metadata": {},
   "outputs": [
    {
     "data": {
      "text/plain": [
       "(2967, 8)"
      ]
     },
     "execution_count": 4,
     "metadata": {},
     "output_type": "execute_result"
    }
   ],
   "source": [
    "df_pickle = pd.DataFrame(events_games)\n",
    "df_events = ParsingDataPrepare.transform_columns_to_rows(df_pickle, ['event_mins', 'event_desc', 'stats_dict', \n",
    "                                                                     'city_country', 'viewers', 'weath_temp', 'bets'])\n",
    "\n",
    "df_events.reset_index(inplace=True)\n",
    "df_events.rename(columns={'index':'game_id'}, inplace=True)\n",
    "df_events.shape"
   ]
  },
  {
   "cell_type": "code",
   "execution_count": 5,
   "id": "cdc440f7-eb95-42a2-82bd-c0f8cf70038f",
   "metadata": {},
   "outputs": [
    {
     "data": {
      "text/html": [
       "<div>\n",
       "<style scoped>\n",
       "    .dataframe tbody tr th:only-of-type {\n",
       "        vertical-align: middle;\n",
       "    }\n",
       "\n",
       "    .dataframe tbody tr th {\n",
       "        vertical-align: top;\n",
       "    }\n",
       "\n",
       "    .dataframe thead th {\n",
       "        text-align: right;\n",
       "    }\n",
       "</style>\n",
       "<table border=\"1\" class=\"dataframe\">\n",
       "  <thead>\n",
       "    <tr style=\"text-align: right;\">\n",
       "      <th></th>\n",
       "      <th>game_id</th>\n",
       "      <th>event_mins</th>\n",
       "      <th>event_hts_ats</th>\n",
       "      <th>stats_dict</th>\n",
       "      <th>city_country</th>\n",
       "      <th>viewers</th>\n",
       "      <th>weath_temp</th>\n",
       "      <th>bets</th>\n",
       "    </tr>\n",
       "  </thead>\n",
       "  <tbody>\n",
       "    <tr>\n",
       "      <th>0</th>\n",
       "      <td>15179178</td>\n",
       "      <td>[8, 23, 38, 54, 77, 80, +, +]</td>\n",
       "      <td>[goal, yellowcard, yellowcard, yellowcard, yellowred, goal, yellowcard, yellowcard]</td>\n",
       "      <td>[]</td>\n",
       "      <td>Odessa, Ukraine</td>\n",
       "      <td>0</td>\n",
       "      <td>(+23, partly cloudy)</td>\n",
       "      <td>([], [])</td>\n",
       "    </tr>\n",
       "    <tr>\n",
       "      <th>1</th>\n",
       "      <td>15179176</td>\n",
       "      <td>[]</td>\n",
       "      <td>[]</td>\n",
       "      <td>[]</td>\n",
       "      <td></td>\n",
       "      <td></td>\n",
       "      <td></td>\n",
       "      <td>([], [])</td>\n",
       "    </tr>\n",
       "    <tr>\n",
       "      <th>2</th>\n",
       "      <td>15080421</td>\n",
       "      <td>[47, 89, +, +, +]</td>\n",
       "      <td>[goal, yellowcard, yellowcard, yellowcard, yellowcard]</td>\n",
       "      <td>[(Shots, 9, 13), (Shots on target, 3, 4), (Shots Blocked, 3, 5), (Saves, 4, 2), (Possession %, 49, 51), (Corner, 5, 5), (Fouls, 7, 16), (Offsides, 0, 3), (Yellow cards, 2, 2), (Red cards, 0, 0), (Attacks, 94, 113), (Attacks (Dangerous), 61, 75), (Pass, 410, 403), (Tackles, 8, 6)]</td>\n",
       "      <td></td>\n",
       "      <td></td>\n",
       "      <td></td>\n",
       "      <td>([1, X, 2, ТМ 2.5, ТБ 2.5], [2.36, 3.08, 3.13, 1.52, 2.60])</td>\n",
       "    </tr>\n",
       "    <tr>\n",
       "      <th>3</th>\n",
       "      <td>15079064</td>\n",
       "      <td>[]</td>\n",
       "      <td>[]</td>\n",
       "      <td>[]</td>\n",
       "      <td></td>\n",
       "      <td></td>\n",
       "      <td></td>\n",
       "      <td>([], [])</td>\n",
       "    </tr>\n",
       "    <tr>\n",
       "      <th>4</th>\n",
       "      <td>15079063</td>\n",
       "      <td>[22, 26, 31, 65, 81, 87]</td>\n",
       "      <td>[yellowcard, goal, yellowcard, goal, yellowcard, yellowcard]</td>\n",
       "      <td>[(Shots, 3, 6), (Shots on target, 1, 2), (Possession %, 0, 0), (Corner, 8, 3), (Yellow cards, 2, 2), (Red cards, 0, 0), (Attacks, 109, 77), (Attacks (Dangerous), 45, 20)]</td>\n",
       "      <td></td>\n",
       "      <td></td>\n",
       "      <td></td>\n",
       "      <td>([1, X, 2, ТМ 2.5, ТБ 2.5], [1.86, 3.16, 4.50, 1.43, 2.87])</td>\n",
       "    </tr>\n",
       "  </tbody>\n",
       "</table>\n",
       "</div>"
      ],
      "text/plain": [
       "    game_id                     event_mins  \\\n",
       "0  15179178  [8, 23, 38, 54, 77, 80, +, +]   \n",
       "1  15179176                             []   \n",
       "2  15080421              [47, 89, +, +, +]   \n",
       "3  15079064                             []   \n",
       "4  15079063       [22, 26, 31, 65, 81, 87]   \n",
       "\n",
       "                                                                         event_hts_ats  \\\n",
       "0  [goal, yellowcard, yellowcard, yellowcard, yellowred, goal, yellowcard, yellowcard]   \n",
       "1                                                                                   []   \n",
       "2                               [goal, yellowcard, yellowcard, yellowcard, yellowcard]   \n",
       "3                                                                                   []   \n",
       "4                         [yellowcard, goal, yellowcard, goal, yellowcard, yellowcard]   \n",
       "\n",
       "                                                                                                                                                                                                                                                                                 stats_dict  \\\n",
       "0                                                                                                                                                                                                                                                                                        []   \n",
       "1                                                                                                                                                                                                                                                                                        []   \n",
       "2  [(Shots, 9, 13), (Shots on target, 3, 4), (Shots Blocked, 3, 5), (Saves, 4, 2), (Possession %, 49, 51), (Corner, 5, 5), (Fouls, 7, 16), (Offsides, 0, 3), (Yellow cards, 2, 2), (Red cards, 0, 0), (Attacks, 94, 113), (Attacks (Dangerous), 61, 75), (Pass, 410, 403), (Tackles, 8, 6)]   \n",
       "3                                                                                                                                                                                                                                                                                        []   \n",
       "4                                                                                                                [(Shots, 3, 6), (Shots on target, 1, 2), (Possession %, 0, 0), (Corner, 8, 3), (Yellow cards, 2, 2), (Red cards, 0, 0), (Attacks, 109, 77), (Attacks (Dangerous), 45, 20)]   \n",
       "\n",
       "      city_country viewers            weath_temp  \\\n",
       "0  Odessa, Ukraine       0  (+23, partly cloudy)   \n",
       "1                                                  \n",
       "2                                                  \n",
       "3                                                  \n",
       "4                                                  \n",
       "\n",
       "                                                          bets  \n",
       "0                                                     ([], [])  \n",
       "1                                                     ([], [])  \n",
       "2  ([1, X, 2, ТМ 2.5, ТБ 2.5], [2.36, 3.08, 3.13, 1.52, 2.60])  \n",
       "3                                                     ([], [])  \n",
       "4  ([1, X, 2, ТМ 2.5, ТБ 2.5], [1.86, 3.16, 4.50, 1.43, 2.87])  "
      ]
     },
     "execution_count": 5,
     "metadata": {},
     "output_type": "execute_result"
    }
   ],
   "source": [
    "df_events.head()"
   ]
  },
  {
   "cell_type": "code",
   "execution_count": 6,
   "id": "329be7cc-bd0b-4fca-a8c6-65279da8db2e",
   "metadata": {},
   "outputs": [
    {
     "data": {
      "text/plain": [
       "(2967, 8)"
      ]
     },
     "execution_count": 6,
     "metadata": {},
     "output_type": "execute_result"
    }
   ],
   "source": [
    "df_events.shape"
   ]
  },
  {
   "cell_type": "code",
   "execution_count": 11,
   "id": "8cabdaa2-a288-40e7-91b3-fe721292a19f",
   "metadata": {},
   "outputs": [
    {
     "data": {
      "text/html": [
       "<div>\n",
       "<style scoped>\n",
       "    .dataframe tbody tr th:only-of-type {\n",
       "        vertical-align: middle;\n",
       "    }\n",
       "\n",
       "    .dataframe tbody tr th {\n",
       "        vertical-align: top;\n",
       "    }\n",
       "\n",
       "    .dataframe thead th {\n",
       "        text-align: right;\n",
       "    }\n",
       "</style>\n",
       "<table border=\"1\" class=\"dataframe\">\n",
       "  <thead>\n",
       "    <tr style=\"text-align: right;\">\n",
       "      <th></th>\n",
       "      <th>game_id</th>\n",
       "      <th>event_mins</th>\n",
       "      <th>event_hts_ats</th>\n",
       "      <th>stats_dict</th>\n",
       "      <th>city_country</th>\n",
       "      <th>viewers</th>\n",
       "      <th>weath_temp</th>\n",
       "      <th>bets</th>\n",
       "    </tr>\n",
       "  </thead>\n",
       "  <tbody>\n",
       "    <tr>\n",
       "      <th>0</th>\n",
       "      <td>15179178</td>\n",
       "      <td>[8, 23, 38, 54, 77, 80, +, +]</td>\n",
       "      <td>[goal, yellowcard, yellowcard, yellowcard, yellowred, goal, yellowcard, yellowcard]</td>\n",
       "      <td>[]</td>\n",
       "      <td>Odessa, Ukraine</td>\n",
       "      <td>0</td>\n",
       "      <td>(+23, partly cloudy)</td>\n",
       "      <td>([], [])</td>\n",
       "    </tr>\n",
       "    <tr>\n",
       "      <th>1</th>\n",
       "      <td>15179176</td>\n",
       "      <td>[]</td>\n",
       "      <td>[]</td>\n",
       "      <td>[]</td>\n",
       "      <td></td>\n",
       "      <td></td>\n",
       "      <td></td>\n",
       "      <td>([], [])</td>\n",
       "    </tr>\n",
       "    <tr>\n",
       "      <th>2</th>\n",
       "      <td>15080421</td>\n",
       "      <td>[47, 89, +, +, +]</td>\n",
       "      <td>[goal, yellowcard, yellowcard, yellowcard, yellowcard]</td>\n",
       "      <td>[(Shots, 9, 13), (Shots on target, 3, 4), (Shots Blocked, 3, 5), (Saves, 4, 2), (Possession %, 49, 51), (Corner, 5, 5), (Fouls, 7, 16), (Offsides, 0, 3), (Yellow cards, 2, 2), (Red cards, 0, 0), (Attacks, 94, 113), (Attacks (Dangerous), 61, 75), (Pass, 410, 403), (Tackles, 8, 6)]</td>\n",
       "      <td></td>\n",
       "      <td></td>\n",
       "      <td></td>\n",
       "      <td>([1, X, 2, ТМ 2.5, ТБ 2.5], [2.36, 3.08, 3.13, 1.52, 2.60])</td>\n",
       "    </tr>\n",
       "    <tr>\n",
       "      <th>3</th>\n",
       "      <td>15079064</td>\n",
       "      <td>[]</td>\n",
       "      <td>[]</td>\n",
       "      <td>[]</td>\n",
       "      <td></td>\n",
       "      <td></td>\n",
       "      <td></td>\n",
       "      <td>([], [])</td>\n",
       "    </tr>\n",
       "    <tr>\n",
       "      <th>4</th>\n",
       "      <td>15079063</td>\n",
       "      <td>[22, 26, 31, 65, 81, 87]</td>\n",
       "      <td>[yellowcard, goal, yellowcard, goal, yellowcard, yellowcard]</td>\n",
       "      <td>[(Shots, 3, 6), (Shots on target, 1, 2), (Possession %, 0, 0), (Corner, 8, 3), (Yellow cards, 2, 2), (Red cards, 0, 0), (Attacks, 109, 77), (Attacks (Dangerous), 45, 20)]</td>\n",
       "      <td></td>\n",
       "      <td></td>\n",
       "      <td></td>\n",
       "      <td>([1, X, 2, ТМ 2.5, ТБ 2.5], [1.86, 3.16, 4.50, 1.43, 2.87])</td>\n",
       "    </tr>\n",
       "  </tbody>\n",
       "</table>\n",
       "</div>"
      ],
      "text/plain": [
       "    game_id                     event_mins  \\\n",
       "0  15179178  [8, 23, 38, 54, 77, 80, +, +]   \n",
       "1  15179176                             []   \n",
       "2  15080421              [47, 89, +, +, +]   \n",
       "3  15079064                             []   \n",
       "4  15079063       [22, 26, 31, 65, 81, 87]   \n",
       "\n",
       "                                                                         event_hts_ats  \\\n",
       "0  [goal, yellowcard, yellowcard, yellowcard, yellowred, goal, yellowcard, yellowcard]   \n",
       "1                                                                                   []   \n",
       "2                               [goal, yellowcard, yellowcard, yellowcard, yellowcard]   \n",
       "3                                                                                   []   \n",
       "4                         [yellowcard, goal, yellowcard, goal, yellowcard, yellowcard]   \n",
       "\n",
       "                                                                                                                                                                                                                                                                                 stats_dict  \\\n",
       "0                                                                                                                                                                                                                                                                                        []   \n",
       "1                                                                                                                                                                                                                                                                                        []   \n",
       "2  [(Shots, 9, 13), (Shots on target, 3, 4), (Shots Blocked, 3, 5), (Saves, 4, 2), (Possession %, 49, 51), (Corner, 5, 5), (Fouls, 7, 16), (Offsides, 0, 3), (Yellow cards, 2, 2), (Red cards, 0, 0), (Attacks, 94, 113), (Attacks (Dangerous), 61, 75), (Pass, 410, 403), (Tackles, 8, 6)]   \n",
       "3                                                                                                                                                                                                                                                                                        []   \n",
       "4                                                                                                                [(Shots, 3, 6), (Shots on target, 1, 2), (Possession %, 0, 0), (Corner, 8, 3), (Yellow cards, 2, 2), (Red cards, 0, 0), (Attacks, 109, 77), (Attacks (Dangerous), 45, 20)]   \n",
       "\n",
       "      city_country viewers            weath_temp  \\\n",
       "0  Odessa, Ukraine       0  (+23, partly cloudy)   \n",
       "1                                                  \n",
       "2                                                  \n",
       "3                                                  \n",
       "4                                                  \n",
       "\n",
       "                                                          bets  \n",
       "0                                                     ([], [])  \n",
       "1                                                     ([], [])  \n",
       "2  ([1, X, 2, ТМ 2.5, ТБ 2.5], [2.36, 3.08, 3.13, 1.52, 2.60])  \n",
       "3                                                     ([], [])  \n",
       "4  ([1, X, 2, ТМ 2.5, ТБ 2.5], [1.86, 3.16, 4.50, 1.43, 2.87])  "
      ]
     },
     "execution_count": 11,
     "metadata": {},
     "output_type": "execute_result"
    }
   ],
   "source": [
    "df_events.head()"
   ]
  },
  {
   "cell_type": "markdown",
   "id": "ba97fc40-ad25-4807-8f3e-e84aa9f7ad18",
   "metadata": {},
   "source": [
    "#### Unite parsing events files in dataframe:"
   ]
  },
  {
   "cell_type": "code",
   "execution_count": 26,
   "id": "f09b5f63-491f-4a5b-9feb-00075c6beb5d",
   "metadata": {},
   "outputs": [],
   "source": [
    "# pickle_files/new_events/26_05_2022/events_ids/, \n",
    "path = 'pickle_files/new_events/26_05_2022/events_ids/'\n",
    "all_events_games = list()\n",
    "\n",
    "for file in os.listdir(path):\n",
    "    with open(path + file, 'rb') as f:\n",
    "        events_games = pickle.load(f)\n",
    "        all_events_games.append(events_games)"
   ]
  },
  {
   "cell_type": "code",
   "execution_count": 28,
   "id": "fbec9d75-84f8-4245-84f2-7fab69a5ab0c",
   "metadata": {},
   "outputs": [
    {
     "data": {
      "text/plain": [
       "27"
      ]
     },
     "execution_count": 28,
     "metadata": {},
     "output_type": "execute_result"
    }
   ],
   "source": [
    "len(all_events_games)"
   ]
  },
  {
   "cell_type": "code",
   "execution_count": 36,
   "id": "1fa355b4-dd3f-45e5-b2ae-236dfabefefa",
   "metadata": {},
   "outputs": [],
   "source": [
    "df_list   = []\n",
    "col_names = ['event_mins', 'event_hts_ats', 'stats_dict', 'city_country', 'viewers', 'weath_temp', 'bet_coefs']\n",
    "\n",
    "for game in all_events_games:\n",
    "    df_to_transform = pd.DataFrame(game)\n",
    "    df_create = ParsingDataPrepare.transform_columns_to_rows(df_to_transform, col_names)\n",
    "    \n",
    "    df_list.append(df_create)\n",
    "\n",
    "df_events = pd.concat(df_list) "
   ]
  },
  {
   "cell_type": "code",
   "execution_count": 37,
   "id": "0cf472c4-4bc1-4f18-99d1-ead84b3aaf68",
   "metadata": {},
   "outputs": [],
   "source": [
    "df_events = df_events.reset_index().rename(columns={'index': 'game_id'})"
   ]
  },
  {
   "cell_type": "code",
   "execution_count": 39,
   "id": "7b2d837b-a00d-4c99-a47b-62ae7457116f",
   "metadata": {},
   "outputs": [
    {
     "data": {
      "text/html": [
       "<div>\n",
       "<style scoped>\n",
       "    .dataframe tbody tr th:only-of-type {\n",
       "        vertical-align: middle;\n",
       "    }\n",
       "\n",
       "    .dataframe tbody tr th {\n",
       "        vertical-align: top;\n",
       "    }\n",
       "\n",
       "    .dataframe thead th {\n",
       "        text-align: right;\n",
       "    }\n",
       "</style>\n",
       "<table border=\"1\" class=\"dataframe\">\n",
       "  <thead>\n",
       "    <tr style=\"text-align: right;\">\n",
       "      <th></th>\n",
       "      <th>game_id</th>\n",
       "      <th>event_mins</th>\n",
       "      <th>event_hts_ats</th>\n",
       "      <th>stats_dict</th>\n",
       "      <th>city_country</th>\n",
       "      <th>viewers</th>\n",
       "      <th>weath_temp</th>\n",
       "      <th>bet_coefs</th>\n",
       "    </tr>\n",
       "  </thead>\n",
       "  <tbody>\n",
       "    <tr>\n",
       "      <th>0</th>\n",
       "      <td>1729343</td>\n",
       "      <td>[5, 31, 39, 42, 64, 85, +]</td>\n",
       "      <td>[goal, pengoal, goal, yellowcard, yellowcard, yellowcard, yellowcard]</td>\n",
       "      <td>[(Shots, 15, 23), (Shots on target, 5, 5), (Shots Blocked, 6, 3), (Saves, 5, 2), (Possession %, 40, 60), (Corner, 5, 7), (Fouls, 18, 11), (Offsides, 0, 0), (Yellow cards, 3, 1), (Red cards, 0, 0), (Attacks, 84, 114), (Attacks (Dangerous), 26, 69), (Free Kicks, 14, 27)]</td>\n",
       "      <td></td>\n",
       "      <td></td>\n",
       "      <td></td>\n",
       "      <td>([1, X, 2, ТМ 2.5, ТБ 2.5], [2.08, 3.16, 3.90, 1.63, 2.39])</td>\n",
       "    </tr>\n",
       "  </tbody>\n",
       "</table>\n",
       "</div>"
      ],
      "text/plain": [
       "   game_id                  event_mins  \\\n",
       "0  1729343  [5, 31, 39, 42, 64, 85, +]   \n",
       "\n",
       "                                                           event_hts_ats  \\\n",
       "0  [goal, pengoal, goal, yellowcard, yellowcard, yellowcard, yellowcard]   \n",
       "\n",
       "                                                                                                                                                                                                                                                                      stats_dict  \\\n",
       "0  [(Shots, 15, 23), (Shots on target, 5, 5), (Shots Blocked, 6, 3), (Saves, 5, 2), (Possession %, 40, 60), (Corner, 5, 7), (Fouls, 18, 11), (Offsides, 0, 0), (Yellow cards, 3, 1), (Red cards, 0, 0), (Attacks, 84, 114), (Attacks (Dangerous), 26, 69), (Free Kicks, 14, 27)]   \n",
       "\n",
       "  city_country viewers weath_temp  \\\n",
       "0                                   \n",
       "\n",
       "                                                     bet_coefs  \n",
       "0  ([1, X, 2, ТМ 2.5, ТБ 2.5], [2.08, 3.16, 3.90, 1.63, 2.39])  "
      ]
     },
     "execution_count": 39,
     "metadata": {},
     "output_type": "execute_result"
    }
   ],
   "source": [
    "df_events.head(1)"
   ]
  },
  {
   "cell_type": "code",
   "execution_count": 41,
   "id": "11375aff-f167-47e1-b172-bfa584a8591e",
   "metadata": {},
   "outputs": [],
   "source": [
    "# file = open('pickle_files/new_events/df_evns_26_05_2022_to_27_03_2021', 'wb')\n",
    "# pickle.dump(df_events, file)  \n",
    "# file.close()"
   ]
  },
  {
   "cell_type": "code",
   "execution_count": 16,
   "id": "cdcede96-96a9-48a5-ac10-231e01b91d60",
   "metadata": {},
   "outputs": [],
   "source": [
    "# Events from_26_03_2021_to_03_11_2013_matches:\n",
    "# new ids:\n",
    "# first id   count     name                   last id\n",
    "# 15179178 - 2967  - tls_sls_new_ids_26_03_21_10903796\n",
    "# old ids:\n",
    "# 11967929 - 12997 - second_ligues_start_11967929\n",
    "# 11925466 - 5498  - second_ligues_start_10991305\n",
    "# 11258622 - 2000 - second_ligues_start__11028911\n",
    "# 10856567 - 3200 - second_ligues_start_10924530\n",
    "# 1507965 - 5500 - second_ligues_start_2_11935838\n",
    "# 11935833 - 4840 - second_ligues_start_2_10932840\n",
    "\n",
    "# 1445410 - 9500 - second_ligues_middle_12606526\n",
    "# 12606530 - 5500 - second_ligues_middle_11937265\n",
    "# 11937267 - 11630 - second_ligues_middle_10961666\n",
    "# 1521058 - 10000 - second_ligues_middle_2_12621697\n",
    "# 12621701 - 6500 - second_ligues_middle_2_11478148\n",
    "# 11511623 - 5500- second_ligues_middle_2_14513946\n",
    "# 11065258 - 2000 - second_ligues_middle_2_14385660\n",
    "# 10884541 - 650 - second_ligues_middle_2_10884423\n",
    "\n",
    "# 1427554 - 6000 - second_ligues_end_14128217\n",
    "# 14128214 - 500 - second_ligues_end_14145950\n",
    "# 14145944 - 5000 - second_ligues_end_11902890\n",
    "# 11914011 - 9000 - second_ligues_end_10869236\n",
    "# 11012263 - 2500 - second_ligues_end_10915569\n",
    "\n",
    "# 1533922 - 8000 - second_ligues_end_2_11907597\n",
    "# 511894218 - 500 - second_ligues_end_2_12558586\n",
    "# 12558685 - 6500 - second_ligues_end_2_10861138\n",
    "# 11057180 - 1000 - second_ligues_end_2_10932349\n",
    "# 10932346 - 500 - second_ligues_end_2_10934906\n",
    "# 10934905 - 409 - second_ligues_end_2_10625206\n",
    "\n",
    "# 1432501 - 7500 - top_ligues_end_12563304\n",
    "# 12563302 - 9130 - top_ligues_end_10911255\n",
    "# 12567313 - 9146 - top_ligues_end_2_10909453\n",
    "# 1458512 - 7500 - top_ligues_end_2_12567311\n",
    "# 1529443  - 19084 - top_ligues_start_2_1090378\n",
    "# 11920204 - 9495 - top_ligues_start_1_10900138\n",
    "# 1442836  - 2001 - top_ligues_start_1_14893395\n",
    "# 14893402 - 501  - top_ligues_start_1_14919434\n",
    "# 14919433 - 501  - top_ligues_start_1_14900239\n",
    "# 14900237 - 1001 - top_ligues_start_1_14101959\n",
    "# 14898253 - 1001 - top_ligues_start_1_14898150\n",
    "# 14898157 - 7995 - top_ligues_start_1_11920200\n",
    "\n",
    "# From_26_05_2022_to_27_03_2021_matches\n",
    "# first id   count     name               last id\n",
    "# 1729359  - 3000    - tls_one_26_05_2022_15098186 \n",
    "# 15098192 -  687    - tls_one_26_05_2022_15178134\n",
    "# 1708335  - 3000    - tls_two_26_05_2022_15144810\n",
    "# 15144811 -  328    - tls_two_26_05_2022_15105932\n",
    "# 1729388  - 1500    - tls_tree_26_05_2022_1564802\n",
    "# 1564798  - 1249    - tls_tree_26_05_2022_15174120\n",
    "# 1729417  - 2995    - tls_four_26_05_2022_15178565\n",
    "# 1706044  - 1000    - sls_one_26_05_2022_1680670\n",
    "# 1680666  - 3551    - sls_one_26_05_2022_15091822\n",
    "# 1701820  - 1500    - sls_two_26_05_2022_15096918\n",
    "# 15096917 - 385     - sls_two_26_05_2022_15091222\n",
    "# 1686866  - 2000    - slm_one_26_05_2022_1559813\n",
    "# 15080693 - 2262    - slm_one_26_05_2022_15160228\n",
    "# 1729511  - 4000    - slm_two_26_05_2022_15092582\n",
    "# 15092738 - 403     - slm_two_26_05_2022_15191028\n",
    "# 1687458  - 500     - sle_two_6_05_2022_1596922\n",
    "# 1716495  - 1000    - sle_two_6_05_2022_15101770\n",
    "# 15101770 - 1228    - sle_two_6_05_2022_15110666"
   ]
  }
 ],
 "metadata": {
  "kernelspec": {
   "display_name": "Python 3 (ipykernel)",
   "language": "python",
   "name": "python3"
  },
  "language_info": {
   "codemirror_mode": {
    "name": "ipython",
    "version": 3
   },
   "file_extension": ".py",
   "mimetype": "text/x-python",
   "name": "python",
   "nbconvert_exporter": "python",
   "pygments_lexer": "ipython3",
   "version": "3.9.7"
  }
 },
 "nbformat": 4,
 "nbformat_minor": 5
}

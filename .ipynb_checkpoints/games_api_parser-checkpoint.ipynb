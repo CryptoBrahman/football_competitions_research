{
 "cells": [
  {
   "cell_type": "code",
   "execution_count": 1,
   "id": "9978c8f5-fa18-440e-83ee-6d95c596fd2e",
   "metadata": {},
   "outputs": [],
   "source": [
    "# For get tables of competitions \n",
    "# https://soccer365.ru/competitions/16/ - current tables\n",
    "# https://soccer365.ru/competitions/16/2017-2018/ - for seasons\n",
    "\n",
    "# html = requests.get('https://soccer365.me/?c=live&a=showtable&competition_id=483&season_id=307').content\n",
    "# <tr class=\"adv_kef_wgt_odd\">"
   ]
  },
  {
   "cell_type": "code",
   "execution_count": 1,
   "id": "wrong-therapist",
   "metadata": {
    "tags": []
   },
   "outputs": [],
   "source": [
    "import os\n",
    "import re\n",
    "import pickle\n",
    "import numpy as np\n",
    "import pandas as pd\n",
    "\n",
    "from _html_parser import HtmlParser, ParsingDataPrepare, TableConstant\n",
    "\n",
    "pd.set_option('display.max_rows', 500)\n",
    "pd.set_option('display.max_columns', 500)\n",
    "pd.set_option('display.max_colwidth', 500)"
   ]
  },
  {
   "cell_type": "code",
   "execution_count": 2,
   "id": "4f2f4730-d51e-47ff-872b-0536f219509b",
   "metadata": {},
   "outputs": [],
   "source": [
    "%load_ext autoreload\n",
    "%autoreload 2"
   ]
  },
  {
   "cell_type": "markdown",
   "id": "3d04dac1-f3e4-4bb0-bb5a-a72913c8f28c",
   "metadata": {},
   "source": [
    "### Get games data"
   ]
  },
  {
   "cell_type": "code",
   "execution_count": 3,
   "id": "3d76411b-aa23-4bd6-bec6-526b78d44228",
   "metadata": {},
   "outputs": [
    {
     "data": {
      "text/plain": [
       "501"
      ]
     },
     "execution_count": 3,
     "metadata": {},
     "output_type": "execute_result"
    }
   ],
   "source": [
    "# Last date of season in EPL with correct datatime on 'soccer365.me': 15.08.1998\n",
    "# Format: start - %m/%d/%Y, end - %m/%d/%Y\n",
    "numdays = ParsingDataPrepare.count_days_by_dates('12/29/1999', '08/15/1998')\n",
    "numdays"
   ]
  },
  {
   "cell_type": "code",
   "execution_count": 4,
   "id": "aeb61b5d-b0b3-465d-a47b-f1cc3dacb553",
   "metadata": {},
   "outputs": [],
   "source": [
    "# from_26_05_2022_to_27_03_2021_games, from_26_03_2021_to_03_11_2013_games, from_02_11_2013_to_10_07_2005_games, from_09_07_2005_to_01_01_2000_games\n",
    "# from_29_12_1999_to_15_08_1998_games\n",
    "name = 'pickle_files/new_events/02_11_2013/from_02_11_2013_to_10_07_2005_games'   "
   ]
  },
  {
   "cell_type": "code",
   "execution_count": 6,
   "id": "vertical-alaska",
   "metadata": {},
   "outputs": [],
   "source": [
    "# HtmlParser.parsing_write_by_date(numdays=numdays, start_year=1999, start_month=12, start_day=29, file_name=name)"
   ]
  },
  {
   "cell_type": "code",
   "execution_count": 5,
   "id": "still-therapy",
   "metadata": {},
   "outputs": [],
   "source": [
    "with open(name, 'rb') as f:\n",
    "    games = pickle.load(f)"
   ]
  },
  {
   "cell_type": "code",
   "execution_count": 6,
   "id": "e7e2048b-04f3-4f72-9b08-62408b30a5a3",
   "metadata": {},
   "outputs": [
    {
     "data": {
      "text/plain": [
       "475589"
      ]
     },
     "execution_count": 6,
     "metadata": {},
     "output_type": "execute_result"
    }
   ],
   "source": [
    "len(games)"
   ]
  },
  {
   "cell_type": "markdown",
   "id": "3af3924d-22fe-4aac-bf4f-300362a3a51f",
   "metadata": {},
   "source": [
    "#### Check and change datatime if need '+3 utc' on 'utc'"
   ]
  },
  {
   "cell_type": "code",
   "execution_count": 12,
   "id": "129bed90-a042-43a2-848d-bc23c5548cb2",
   "metadata": {},
   "outputs": [],
   "source": [
    "# import pytz\n",
    "# utc = pytz.timezone('UTC')\n",
    "# localtz = pytz.timezone('Europe/Kiev')\n",
    "# # pytz.all_timezones\n",
    "# from datetime import datetime, timedelta\n",
    "\n",
    "# for key, val in games.items():\n",
    "#     if val[3] in ['Cancelled', 'Postponed', 'Awarded', 'Stopped', 'Delayed']:\n",
    "#         continue\n",
    "#     d_time = datetime.strptime(val[3], \"%d.%m.%Y %H:%M\")\n",
    "#     localtime = localtz.localize(d_time)\n",
    "#     utctime = utc.normalize(localtime.astimezone(utc))    \n",
    "#     games[key][3] = utctime.strftime('%d.%m.%Y %H:%M')"
   ]
  },
  {
   "cell_type": "code",
   "execution_count": 7,
   "id": "9fb86791-6e89-4702-b113-6523993bf6a8",
   "metadata": {},
   "outputs": [
    {
     "data": {
      "text/plain": [
       "(475589, 8)"
      ]
     },
     "execution_count": 7,
     "metadata": {},
     "output_type": "execute_result"
    }
   ],
   "source": [
    "df_to_transform = pd.DataFrame(games)\n",
    "df = ParsingDataPrepare.transform_columns_to_rows(df_to_transform, ['ligue_header', 'comp_id', 'season_id', 'game_utc', 'game_title','goals', 'game_status'])\n",
    "\n",
    "df.reset_index(inplace=True)\n",
    "df.rename(columns={'index':'game_id'}, inplace=True)\n",
    "df.shape"
   ]
  },
  {
   "cell_type": "code",
   "execution_count": 14,
   "id": "b17d9185-45c2-475a-a0af-8b7e6cbe32b2",
   "metadata": {},
   "outputs": [],
   "source": [
    "# df"
   ]
  },
  {
   "cell_type": "code",
   "execution_count": 15,
   "id": "f2b061db-4cf7-45fa-b6a0-bd5e7e756744",
   "metadata": {},
   "outputs": [],
   "source": [
    "# Clearing data\n",
    "df_games = df[(df.game_status == 'Finished') & (df.game_utc.str.len() > 10)].copy()\n",
    "# Check for dublicates\n",
    "df_games.drop(columns=['game_status'], inplace=True)\n",
    "df_games.drop_duplicates(subset=['game_id'], inplace=True)\n",
    "df_games.drop_duplicates(subset=['game_utc', 'game_title'], inplace=True)"
   ]
  },
  {
   "cell_type": "code",
   "execution_count": 16,
   "id": "4d59dc4b-7a24-4d5a-9196-577dfde5d976",
   "metadata": {},
   "outputs": [],
   "source": [
    "top_lgs = TableConstant.top_ligues\n",
    "sec_lgs = TableConstant.second_ligues\n",
    "\n",
    "df_games['ligue'] = np.where(df_games.comp_id.isin(top_lgs), 'top', np.where(df_games.comp_id.isin(sec_lgs), 'sec', 'thr'))"
   ]
  },
  {
   "cell_type": "code",
   "execution_count": 17,
   "id": "be8f29a4-30c4-4bd3-8a0d-7fba6a564e54",
   "metadata": {},
   "outputs": [
    {
     "data": {
      "text/plain": [
       "thr    274101\n",
       "sec    119207\n",
       "top     81096\n",
       "Name: ligue, dtype: int64"
      ]
     },
     "execution_count": 17,
     "metadata": {},
     "output_type": "execute_result"
    }
   ],
   "source": [
    "df_games.ligue.value_counts()"
   ]
  },
  {
   "cell_type": "code",
   "execution_count": 18,
   "id": "c4b23554-bf1e-4efa-b8b5-269350f1e237",
   "metadata": {},
   "outputs": [
    {
     "data": {
      "text/plain": [
       "(474404, 8)"
      ]
     },
     "execution_count": 18,
     "metadata": {},
     "output_type": "execute_result"
    }
   ],
   "source": [
    "df_games.reset_index(inplace=True, drop=True)\n",
    "df_games.shape"
   ]
  },
  {
   "cell_type": "code",
   "execution_count": 19,
   "id": "59c6ac84-a70c-4aec-8cda-b7ba8db8f2b6",
   "metadata": {},
   "outputs": [
    {
     "data": {
      "text/html": [
       "<div>\n",
       "<style scoped>\n",
       "    .dataframe tbody tr th:only-of-type {\n",
       "        vertical-align: middle;\n",
       "    }\n",
       "\n",
       "    .dataframe tbody tr th {\n",
       "        vertical-align: top;\n",
       "    }\n",
       "\n",
       "    .dataframe thead th {\n",
       "        text-align: right;\n",
       "    }\n",
       "</style>\n",
       "<table border=\"1\" class=\"dataframe\">\n",
       "  <thead>\n",
       "    <tr style=\"text-align: right;\">\n",
       "      <th></th>\n",
       "      <th>game_id</th>\n",
       "      <th>ligue_header</th>\n",
       "      <th>comp_id</th>\n",
       "      <th>season_id</th>\n",
       "      <th>game_utc</th>\n",
       "      <th>game_title</th>\n",
       "      <th>goals</th>\n",
       "      <th>ligue</th>\n",
       "    </tr>\n",
       "  </thead>\n",
       "  <tbody>\n",
       "    <tr>\n",
       "      <th>0</th>\n",
       "      <td>10899688</td>\n",
       "      <td>Premier League</td>\n",
       "      <td>12</td>\n",
       "      <td>38</td>\n",
       "      <td>02.11.2013 14:45</td>\n",
       "      <td>Newcastle Utd - Chelsea</td>\n",
       "      <td>2:0</td>\n",
       "      <td>top</td>\n",
       "    </tr>\n",
       "    <tr>\n",
       "      <th>1</th>\n",
       "      <td>10899687</td>\n",
       "      <td>Premier League</td>\n",
       "      <td>12</td>\n",
       "      <td>38</td>\n",
       "      <td>02.11.2013 17:00</td>\n",
       "      <td>Manchester City - Norwich</td>\n",
       "      <td>7:0</td>\n",
       "      <td>top</td>\n",
       "    </tr>\n",
       "    <tr>\n",
       "      <th>2</th>\n",
       "      <td>10899685</td>\n",
       "      <td>Premier League</td>\n",
       "      <td>12</td>\n",
       "      <td>38</td>\n",
       "      <td>02.11.2013 17:00</td>\n",
       "      <td>Fulham - Manchester United</td>\n",
       "      <td>1:3</td>\n",
       "      <td>top</td>\n",
       "    </tr>\n",
       "    <tr>\n",
       "      <th>3</th>\n",
       "      <td>10899686</td>\n",
       "      <td>Premier League</td>\n",
       "      <td>12</td>\n",
       "      <td>38</td>\n",
       "      <td>02.11.2013 17:00</td>\n",
       "      <td>Hull City - Sunderland</td>\n",
       "      <td>1:0</td>\n",
       "      <td>top</td>\n",
       "    </tr>\n",
       "    <tr>\n",
       "      <th>4</th>\n",
       "      <td>10899690</td>\n",
       "      <td>Premier League</td>\n",
       "      <td>12</td>\n",
       "      <td>38</td>\n",
       "      <td>02.11.2013 17:00</td>\n",
       "      <td>West Bromwich - Crystal Palace</td>\n",
       "      <td>2:0</td>\n",
       "      <td>top</td>\n",
       "    </tr>\n",
       "    <tr>\n",
       "      <th>...</th>\n",
       "      <td>...</td>\n",
       "      <td>...</td>\n",
       "      <td>...</td>\n",
       "      <td>...</td>\n",
       "      <td>...</td>\n",
       "      <td>...</td>\n",
       "      <td>...</td>\n",
       "      <td>...</td>\n",
       "    </tr>\n",
       "    <tr>\n",
       "      <th>474399</th>\n",
       "      <td>10134933</td>\n",
       "      <td>Premier League</td>\n",
       "      <td>644</td>\n",
       "      <td>20</td>\n",
       "      <td>11.07.2005 23:59</td>\n",
       "      <td>Al Shat - Al-Ittihad Tripoli</td>\n",
       "      <td>0:1</td>\n",
       "      <td>thr</td>\n",
       "    </tr>\n",
       "    <tr>\n",
       "      <th>474400</th>\n",
       "      <td>10134934</td>\n",
       "      <td>Premier League</td>\n",
       "      <td>644</td>\n",
       "      <td>20</td>\n",
       "      <td>11.07.2005 23:59</td>\n",
       "      <td>Al-Sowaihili - Al-Madina</td>\n",
       "      <td>4:0</td>\n",
       "      <td>thr</td>\n",
       "    </tr>\n",
       "    <tr>\n",
       "      <th>474401</th>\n",
       "      <td>10134932</td>\n",
       "      <td>Premier League</td>\n",
       "      <td>644</td>\n",
       "      <td>20</td>\n",
       "      <td>11.07.2005 23:59</td>\n",
       "      <td>Al-Ouroba - Al Hilal</td>\n",
       "      <td>5:2</td>\n",
       "      <td>thr</td>\n",
       "    </tr>\n",
       "    <tr>\n",
       "      <th>474402</th>\n",
       "      <td>10134935</td>\n",
       "      <td>Premier League</td>\n",
       "      <td>644</td>\n",
       "      <td>20</td>\n",
       "      <td>11.07.2005 23:59</td>\n",
       "      <td>Wefaq - Al-Akhdar</td>\n",
       "      <td>0:0</td>\n",
       "      <td>thr</td>\n",
       "    </tr>\n",
       "    <tr>\n",
       "      <th>474403</th>\n",
       "      <td>10134936</td>\n",
       "      <td>Premier League</td>\n",
       "      <td>644</td>\n",
       "      <td>20</td>\n",
       "      <td>11.07.2005 23:59</td>\n",
       "      <td>Al-Tahaddi - Al-Mustaqbal</td>\n",
       "      <td>0:3</td>\n",
       "      <td>thr</td>\n",
       "    </tr>\n",
       "  </tbody>\n",
       "</table>\n",
       "<p>474404 rows × 8 columns</p>\n",
       "</div>"
      ],
      "text/plain": [
       "         game_id    ligue_header comp_id season_id          game_utc  \\\n",
       "0       10899688  Premier League      12        38  02.11.2013 14:45   \n",
       "1       10899687  Premier League      12        38  02.11.2013 17:00   \n",
       "2       10899685  Premier League      12        38  02.11.2013 17:00   \n",
       "3       10899686  Premier League      12        38  02.11.2013 17:00   \n",
       "4       10899690  Premier League      12        38  02.11.2013 17:00   \n",
       "...          ...             ...     ...       ...               ...   \n",
       "474399  10134933  Premier League     644        20  11.07.2005 23:59   \n",
       "474400  10134934  Premier League     644        20  11.07.2005 23:59   \n",
       "474401  10134932  Premier League     644        20  11.07.2005 23:59   \n",
       "474402  10134935  Premier League     644        20  11.07.2005 23:59   \n",
       "474403  10134936  Premier League     644        20  11.07.2005 23:59   \n",
       "\n",
       "                            game_title goals ligue  \n",
       "0              Newcastle Utd - Chelsea   2:0   top  \n",
       "1            Manchester City - Norwich   7:0   top  \n",
       "2           Fulham - Manchester United   1:3   top  \n",
       "3               Hull City - Sunderland   1:0   top  \n",
       "4       West Bromwich - Crystal Palace   2:0   top  \n",
       "...                                ...   ...   ...  \n",
       "474399    Al Shat - Al-Ittihad Tripoli   0:1   thr  \n",
       "474400        Al-Sowaihili - Al-Madina   4:0   thr  \n",
       "474401            Al-Ouroba - Al Hilal   5:2   thr  \n",
       "474402               Wefaq - Al-Akhdar   0:0   thr  \n",
       "474403       Al-Tahaddi - Al-Mustaqbal   0:3   thr  \n",
       "\n",
       "[474404 rows x 8 columns]"
      ]
     },
     "execution_count": 19,
     "metadata": {},
     "output_type": "execute_result"
    }
   ],
   "source": [
    "df_games"
   ]
  },
  {
   "cell_type": "code",
   "execution_count": 20,
   "id": "632bf485-d7ca-4577-8fe9-8956e3dfa1ba",
   "metadata": {},
   "outputs": [],
   "source": [
    "# file = open('pickle_files/new_events/df_29_12_1999_to_15_08_1998_games', 'wb')\n",
    "# pickle.dump(df_games, file)  \n",
    "# file.close()"
   ]
  },
  {
   "cell_type": "markdown",
   "id": "be1e34c1-01c5-4436-ba87-63d189af83c6",
   "metadata": {},
   "source": [
    "### Get events data"
   ]
  },
  {
   "cell_type": "code",
   "execution_count": 3,
   "id": "3bc1666b-09d4-47e7-bd25-700ef99c9e16",
   "metadata": {},
   "outputs": [],
   "source": [
    "with open('pickle_files/new_events/02_11_2013/df_02_11_2013_to_10_07_2005_games', 'rb') as f:\n",
    "    df_load = pickle.load(f)"
   ]
  },
  {
   "cell_type": "code",
   "execution_count": 5,
   "id": "f9cc04b0-ac20-4523-9a5a-764eba8ccd8b",
   "metadata": {},
   "outputs": [],
   "source": [
    "# df_load"
   ]
  },
  {
   "cell_type": "code",
   "execution_count": 4,
   "id": "f558a3f8-ebb9-4d9e-b613-71a480479dbe",
   "metadata": {},
   "outputs": [],
   "source": [
    "# tls_one_ids_02_11_13 = ['12', '13', '14', '15', '16', '17', '18', '419', '420']\n",
    "# tls_two_ids_02_11_13 = ['454', '456', '474', '483', '485', '550', '554', '560', '565']\n",
    "tls_three_ids_02_11_13 =  ['577', '581', '587', '591','596', '601', '677', '681'] \n",
    "# tls_four_new_ids_26_03_21 = ['684', '695', '699', '707', '712', '716', '723', '727'] "
   ]
  },
  {
   "cell_type": "code",
   "execution_count": 24,
   "id": "41fb8541-b861-4e19-a23c-49bf5636b0bb",
   "metadata": {},
   "outputs": [],
   "source": [
    "# tls_new_ids_26_03_21 = tls_one_new_ids_26_03_21 + tls_two_new_ids_26_03_21 + tls_three_new_ids_26_03_21 + tls_four_new_ids_26_03_21"
   ]
  },
  {
   "cell_type": "code",
   "execution_count": 25,
   "id": "1af2d1f9-50d6-4371-9f71-f33a27918337",
   "metadata": {},
   "outputs": [],
   "source": [
    "# sls_one_new_ids_26_03_21 = [ '419', '424', '435', '436', '437', '444', '446', '449', '450', '457', '459', '464', '473', '477', '491']\n",
    "# sls_two_new_ids_26_03_21  = ['493', '496', '498', '500', '502', '504', '507', '512', '516', '518', '523', '532', '539', '540', '542']\n",
    "# slm_one_new_ids_26_03_21 = [ '544', '545', '546', '548', '551', '555', '562', '567', '576', '585', '586', '589', '595', '599', '602']\n",
    "# slm_two_new_ids_26_03_21 =  ['606', '621', '622', '625', '626', '628', '632', '634', '636', '637', '642', '646', '647', '648', '653']\n",
    "# sle_one_new_ids_26_03_21 = ['654', '655', '657', '659', '660', '667', '672', '674', '675', '676', '679', '685', '687', '691', '692', '697']\n",
    "# sle_two_new_ids_26_03_21 = ['700', '703', '704', '714', '715', '720', '721', '725', '727', '733''735', '747', '761', '912', '1157', '1259'] "
   ]
  },
  {
   "cell_type": "code",
   "execution_count": 26,
   "id": "6442da1e-d2b3-4da3-bb93-5aa0d8306227",
   "metadata": {},
   "outputs": [],
   "source": [
    "# sls_new_ids_26_03_21 = sls_one_new_ids_26_03_21 + sls_two_new_ids_26_03_21 + slm_one_new_ids_26_03_21 + slm_two_new_ids_26_03_21 +\\\n",
    "#                        sle_one_new_ids_26_03_21 + sle_two_new_ids_26_03_21"
   ]
  },
  {
   "cell_type": "code",
   "execution_count": 27,
   "id": "90570618-af5d-43dd-8750-29aea1815123",
   "metadata": {},
   "outputs": [],
   "source": [
    "# tls_sls_new_ids_26_03_21 = tls_new_ids_26_03_21 + sls_new_ids_26_03_21"
   ]
  },
  {
   "cell_type": "code",
   "execution_count": 5,
   "id": "c767bfb8-2870-466c-8a79-27ef9f065a25",
   "metadata": {},
   "outputs": [],
   "source": [
    "leagues      =  tls_three_ids_02_11_13\n",
    "leagues_name = 'tls_three_ids_02_11_13'"
   ]
  },
  {
   "cell_type": "code",
   "execution_count": 6,
   "id": "f603368c-a581-44fa-9f0d-16132e985d0e",
   "metadata": {},
   "outputs": [
    {
     "data": {
      "text/plain": [
       "17896"
      ]
     },
     "execution_count": 6,
     "metadata": {},
     "output_type": "execute_result"
    }
   ],
   "source": [
    "game_ids = df_load.game_id[df_load.comp_id.isin(leagues)].to_list()\n",
    "len(game_ids)"
   ]
  },
  {
   "cell_type": "code",
   "execution_count": 30,
   "id": "945cc8e4-da8d-4de7-8d4b-8812050adffe",
   "metadata": {},
   "outputs": [],
   "source": [
    "# Aftar start script 'HtmlParser.find_game_events' all events save every 500 ids in files, in last save file has all events save before."
   ]
  },
  {
   "cell_type": "code",
   "execution_count": null,
   "id": "c228cddb-1f56-4796-a412-069d8343dc16",
   "metadata": {},
   "outputs": [],
   "source": [
    "HtmlParser.find_game_events(game_ids[8001:], name_saved_file = leagues_name)\n",
    "\n",
    "# For check for last saved game_id\n",
    "# game_ids.index('1574921') \n",
    "# HtmlParser.find_game_events(game_ids[1500:], name_saved_file = leagues_name)"
   ]
  },
  {
   "cell_type": "code",
   "execution_count": 8,
   "id": "051ba22b-4299-4408-8bd9-d16438b4d076",
   "metadata": {},
   "outputs": [],
   "source": [
    "with open('pickle_files/tls_three_ids_02_11_13_10478055', 'rb') as f:\n",
    "    events_games = pickle.load(f)"
   ]
  },
  {
   "cell_type": "code",
   "execution_count": 9,
   "id": "214a1c39-61bc-46fa-afe3-8c8da01cd0e1",
   "metadata": {},
   "outputs": [],
   "source": [
    "# From_02_11_2013_to_10_07_2005_games\n",
    "# first id   count     name               last id\n",
    "# 10912069 - 8001 -  tls_three_ids_02_11_13_10478055"
   ]
  },
  {
   "cell_type": "code",
   "execution_count": 10,
   "id": "53fef500-5d16-46bb-8c0e-4eb6e66e27ca",
   "metadata": {},
   "outputs": [
    {
     "data": {
      "text/plain": [
       "(8001, 9)"
      ]
     },
     "execution_count": 10,
     "metadata": {},
     "output_type": "execute_result"
    }
   ],
   "source": [
    "# 'teams_ids' column not in all events files\n",
    "df_pickle = pd.DataFrame(events_games)\n",
    "df_events = ParsingDataPrepare.transform_columns_to_rows(df_pickle, ['teams_ids', 'event_mins', 'event_desc', 'stats_dict', \n",
    "                                                                     'city_country', 'viewers', 'weath_temp', 'bets'])\n",
    "\n",
    "df_events.reset_index(inplace=True)\n",
    "df_events.rename(columns={'index':'game_id'}, inplace=True)\n",
    "df_events.shape"
   ]
  },
  {
   "cell_type": "code",
   "execution_count": 11,
   "id": "cdc440f7-eb95-42a2-82bd-c0f8cf70038f",
   "metadata": {},
   "outputs": [
    {
     "data": {
      "text/html": [
       "<div>\n",
       "<style scoped>\n",
       "    .dataframe tbody tr th:only-of-type {\n",
       "        vertical-align: middle;\n",
       "    }\n",
       "\n",
       "    .dataframe tbody tr th {\n",
       "        vertical-align: top;\n",
       "    }\n",
       "\n",
       "    .dataframe thead th {\n",
       "        text-align: right;\n",
       "    }\n",
       "</style>\n",
       "<table border=\"1\" class=\"dataframe\">\n",
       "  <thead>\n",
       "    <tr style=\"text-align: right;\">\n",
       "      <th></th>\n",
       "      <th>game_id</th>\n",
       "      <th>teams_ids</th>\n",
       "      <th>event_mins</th>\n",
       "      <th>event_desc</th>\n",
       "      <th>stats_dict</th>\n",
       "      <th>city_country</th>\n",
       "      <th>viewers</th>\n",
       "      <th>weath_temp</th>\n",
       "      <th>bets</th>\n",
       "    </tr>\n",
       "  </thead>\n",
       "  <tbody>\n",
       "    <tr>\n",
       "      <th>0</th>\n",
       "      <td>10912069</td>\n",
       "      <td>8075 - 123</td>\n",
       "      <td>[4, 5, 7, 13, 26, 33, 34, 58, 61, 66, 79, 84, +, +, +]</td>\n",
       "      <td>[yellowcard, yellowcard, yellowcard, goal, yellowcard, yellowred, goal, goal, goal, yellowcard, mispen, goal, yellowcard, redcard, yellowcard]</td>\n",
       "      <td>[(Shots, 2, 9), (Shots on target, 2, 9), (Saves, 6, 1), (Possession %, 28, 72), (Corner, 3, 8), (Fouls, 13, 16), (Offsides, 2, 3), (Yellow cards, 0, 0), (Red cards, 0, 0), (Pass percentage %, 63.33, 88.79)]</td>\n",
       "      <td>Lisbon, Portugal</td>\n",
       "      <td>6,992</td>\n",
       "      <td>(+17, partly cloudy)</td>\n",
       "      <td>([1, X, 2, ТМ 2.5, ТБ 2.5], [14.00, 6.45, 1.22, 2.18, 1.65])</td>\n",
       "    </tr>\n",
       "    <tr>\n",
       "      <th>1</th>\n",
       "      <td>10912070</td>\n",
       "      <td>6887 - 153</td>\n",
       "      <td>[5, 33, 38, 52, 89, 90, +]</td>\n",
       "      <td>[goal, yellowcard, goal, yellowcard, yellowcard, yellowcard, yellowcard]</td>\n",
       "      <td>[(Shots, 2, 4), (Shots on target, 2, 4), (Saves, 3, 1), (Possession %, 32, 68), (Corner, 4, 8), (Fouls, 16, 15), (Offsides, 2, 2), (Yellow cards, 0, 0), (Red cards, 0, 0), (Pass percentage %, 76.87, 87.21)]</td>\n",
       "      <td>Funchal, Portugal</td>\n",
       "      <td>6,221</td>\n",
       "      <td>(+18, partly cloudy)</td>\n",
       "      <td>([1, X, 2, ТМ 2.5, ТБ 2.5], [6.50, 4.10, 1.54, 1.94, 1.95])</td>\n",
       "    </tr>\n",
       "    <tr>\n",
       "      <th>2</th>\n",
       "      <td>10903429</td>\n",
       "      <td>202 - 6</td>\n",
       "      <td>[15, 24, 52, 56, 73, 73, 76, 87]</td>\n",
       "      <td>[goal, yellowcard, goal, goal, yellowcard, yellowcard, yellowcard, goal]</td>\n",
       "      <td>[(Shots, 13, 14), (Shots on target, 6, 5), (Shots Blocked, 3, 0), (Saves, 3, 4), (Possession %, 38, 62), (Corner, 5, 6), (Fouls, 7, 7), (Offsides, 0, 1), (Yellow cards, 0, 4), (Red cards, 0, 0), (Counterattacks, 2, 1), (Free Kicks, 8, 7), (Goal Kicks, 13, 4), (Throw Ins, 23, 17), (Crosses, 8, 17), (Treatment, 1, 0)]</td>\n",
       "      <td>Arnhem, Netherlands</td>\n",
       "      <td>18,920</td>\n",
       "      <td>(+14, overcast)</td>\n",
       "      <td>([1, X, 2, ТМ 2.5, ТБ 2.5], [5.25, 4.84, 1.54, 2.99, 1.37])</td>\n",
       "    </tr>\n",
       "    <tr>\n",
       "      <th>3</th>\n",
       "      <td>10903430</td>\n",
       "      <td>537 - 249</td>\n",
       "      <td>[58, 72, 89]</td>\n",
       "      <td>[goal, goal, goal]</td>\n",
       "      <td>[(Shots, 20, 3), (Shots on target, 6, 2), (Shots Blocked, 5, 0), (Saves, 1, 4), (Possession %, 68, 32), (Corner, 17, 0), (Fouls, 5, 6), (Offsides, 1, 2), (Yellow cards, 0, 0), (Red cards, 0, 0), (Counterattacks, 1, 0), (Free Kicks, 8, 6), (Goal Kicks, 1, 9), (Throw Ins, 20, 22), (Crosses, 55, 6), (Treatment, 0, 8)]</td>\n",
       "      <td>Alkmaar, Netherlands</td>\n",
       "      <td>0</td>\n",
       "      <td>(+19, sunny)</td>\n",
       "      <td>([1, X, 2, ТМ 2.5, ТБ 2.5], [1.11, 10.00, 22.00, 3.78, 1.25])</td>\n",
       "    </tr>\n",
       "    <tr>\n",
       "      <th>4</th>\n",
       "      <td>10903431</td>\n",
       "      <td>6974 - 159</td>\n",
       "      <td>[]</td>\n",
       "      <td>[]</td>\n",
       "      <td>[]</td>\n",
       "      <td>Nijmegen, Netherlands</td>\n",
       "      <td></td>\n",
       "      <td>(+15, overcast)</td>\n",
       "      <td>([], [])</td>\n",
       "    </tr>\n",
       "  </tbody>\n",
       "</table>\n",
       "</div>"
      ],
      "text/plain": [
       "    game_id   teams_ids  \\\n",
       "0  10912069  8075 - 123   \n",
       "1  10912070  6887 - 153   \n",
       "2  10903429     202 - 6   \n",
       "3  10903430   537 - 249   \n",
       "4  10903431  6974 - 159   \n",
       "\n",
       "                                               event_mins  \\\n",
       "0  [4, 5, 7, 13, 26, 33, 34, 58, 61, 66, 79, 84, +, +, +]   \n",
       "1                              [5, 33, 38, 52, 89, 90, +]   \n",
       "2                        [15, 24, 52, 56, 73, 73, 76, 87]   \n",
       "3                                            [58, 72, 89]   \n",
       "4                                                      []   \n",
       "\n",
       "                                                                                                                                       event_desc  \\\n",
       "0  [yellowcard, yellowcard, yellowcard, goal, yellowcard, yellowred, goal, goal, goal, yellowcard, mispen, goal, yellowcard, redcard, yellowcard]   \n",
       "1                                                                        [goal, yellowcard, goal, yellowcard, yellowcard, yellowcard, yellowcard]   \n",
       "2                                                                        [goal, yellowcard, goal, goal, yellowcard, yellowcard, yellowcard, goal]   \n",
       "3                                                                                                                              [goal, goal, goal]   \n",
       "4                                                                                                                                              []   \n",
       "\n",
       "                                                                                                                                                                                                                                                                                                                      stats_dict  \\\n",
       "0                                                                                                                 [(Shots, 2, 9), (Shots on target, 2, 9), (Saves, 6, 1), (Possession %, 28, 72), (Corner, 3, 8), (Fouls, 13, 16), (Offsides, 2, 3), (Yellow cards, 0, 0), (Red cards, 0, 0), (Pass percentage %, 63.33, 88.79)]   \n",
       "1                                                                                                                 [(Shots, 2, 4), (Shots on target, 2, 4), (Saves, 3, 1), (Possession %, 32, 68), (Corner, 4, 8), (Fouls, 16, 15), (Offsides, 2, 2), (Yellow cards, 0, 0), (Red cards, 0, 0), (Pass percentage %, 76.87, 87.21)]   \n",
       "2  [(Shots, 13, 14), (Shots on target, 6, 5), (Shots Blocked, 3, 0), (Saves, 3, 4), (Possession %, 38, 62), (Corner, 5, 6), (Fouls, 7, 7), (Offsides, 0, 1), (Yellow cards, 0, 4), (Red cards, 0, 0), (Counterattacks, 2, 1), (Free Kicks, 8, 7), (Goal Kicks, 13, 4), (Throw Ins, 23, 17), (Crosses, 8, 17), (Treatment, 1, 0)]   \n",
       "3   [(Shots, 20, 3), (Shots on target, 6, 2), (Shots Blocked, 5, 0), (Saves, 1, 4), (Possession %, 68, 32), (Corner, 17, 0), (Fouls, 5, 6), (Offsides, 1, 2), (Yellow cards, 0, 0), (Red cards, 0, 0), (Counterattacks, 1, 0), (Free Kicks, 8, 6), (Goal Kicks, 1, 9), (Throw Ins, 20, 22), (Crosses, 55, 6), (Treatment, 0, 8)]   \n",
       "4                                                                                                                                                                                                                                                                                                                             []   \n",
       "\n",
       "            city_country viewers            weath_temp  \\\n",
       "0       Lisbon, Portugal   6,992  (+17, partly cloudy)   \n",
       "1      Funchal, Portugal   6,221  (+18, partly cloudy)   \n",
       "2    Arnhem, Netherlands  18,920       (+14, overcast)   \n",
       "3   Alkmaar, Netherlands       0          (+19, sunny)   \n",
       "4  Nijmegen, Netherlands               (+15, overcast)   \n",
       "\n",
       "                                                            bets  \n",
       "0   ([1, X, 2, ТМ 2.5, ТБ 2.5], [14.00, 6.45, 1.22, 2.18, 1.65])  \n",
       "1    ([1, X, 2, ТМ 2.5, ТБ 2.5], [6.50, 4.10, 1.54, 1.94, 1.95])  \n",
       "2    ([1, X, 2, ТМ 2.5, ТБ 2.5], [5.25, 4.84, 1.54, 2.99, 1.37])  \n",
       "3  ([1, X, 2, ТМ 2.5, ТБ 2.5], [1.11, 10.00, 22.00, 3.78, 1.25])  \n",
       "4                                                       ([], [])  "
      ]
     },
     "execution_count": 11,
     "metadata": {},
     "output_type": "execute_result"
    }
   ],
   "source": [
    "df_events.head()"
   ]
  },
  {
   "cell_type": "code",
   "execution_count": 12,
   "id": "329be7cc-bd0b-4fca-a8c6-65279da8db2e",
   "metadata": {},
   "outputs": [
    {
     "data": {
      "text/plain": [
       "(8001, 9)"
      ]
     },
     "execution_count": 12,
     "metadata": {},
     "output_type": "execute_result"
    }
   ],
   "source": [
    "df_events.shape"
   ]
  },
  {
   "cell_type": "code",
   "execution_count": 13,
   "id": "8cabdaa2-a288-40e7-91b3-fe721292a19f",
   "metadata": {},
   "outputs": [
    {
     "data": {
      "text/html": [
       "<div>\n",
       "<style scoped>\n",
       "    .dataframe tbody tr th:only-of-type {\n",
       "        vertical-align: middle;\n",
       "    }\n",
       "\n",
       "    .dataframe tbody tr th {\n",
       "        vertical-align: top;\n",
       "    }\n",
       "\n",
       "    .dataframe thead th {\n",
       "        text-align: right;\n",
       "    }\n",
       "</style>\n",
       "<table border=\"1\" class=\"dataframe\">\n",
       "  <thead>\n",
       "    <tr style=\"text-align: right;\">\n",
       "      <th></th>\n",
       "      <th>game_id</th>\n",
       "      <th>teams_ids</th>\n",
       "      <th>event_mins</th>\n",
       "      <th>event_desc</th>\n",
       "      <th>stats_dict</th>\n",
       "      <th>city_country</th>\n",
       "      <th>viewers</th>\n",
       "      <th>weath_temp</th>\n",
       "      <th>bets</th>\n",
       "    </tr>\n",
       "  </thead>\n",
       "  <tbody>\n",
       "    <tr>\n",
       "      <th>0</th>\n",
       "      <td>10912069</td>\n",
       "      <td>8075 - 123</td>\n",
       "      <td>[4, 5, 7, 13, 26, 33, 34, 58, 61, 66, 79, 84, +, +, +]</td>\n",
       "      <td>[yellowcard, yellowcard, yellowcard, goal, yellowcard, yellowred, goal, goal, goal, yellowcard, mispen, goal, yellowcard, redcard, yellowcard]</td>\n",
       "      <td>[(Shots, 2, 9), (Shots on target, 2, 9), (Saves, 6, 1), (Possession %, 28, 72), (Corner, 3, 8), (Fouls, 13, 16), (Offsides, 2, 3), (Yellow cards, 0, 0), (Red cards, 0, 0), (Pass percentage %, 63.33, 88.79)]</td>\n",
       "      <td>Lisbon, Portugal</td>\n",
       "      <td>6,992</td>\n",
       "      <td>(+17, partly cloudy)</td>\n",
       "      <td>([1, X, 2, ТМ 2.5, ТБ 2.5], [14.00, 6.45, 1.22, 2.18, 1.65])</td>\n",
       "    </tr>\n",
       "    <tr>\n",
       "      <th>1</th>\n",
       "      <td>10912070</td>\n",
       "      <td>6887 - 153</td>\n",
       "      <td>[5, 33, 38, 52, 89, 90, +]</td>\n",
       "      <td>[goal, yellowcard, goal, yellowcard, yellowcard, yellowcard, yellowcard]</td>\n",
       "      <td>[(Shots, 2, 4), (Shots on target, 2, 4), (Saves, 3, 1), (Possession %, 32, 68), (Corner, 4, 8), (Fouls, 16, 15), (Offsides, 2, 2), (Yellow cards, 0, 0), (Red cards, 0, 0), (Pass percentage %, 76.87, 87.21)]</td>\n",
       "      <td>Funchal, Portugal</td>\n",
       "      <td>6,221</td>\n",
       "      <td>(+18, partly cloudy)</td>\n",
       "      <td>([1, X, 2, ТМ 2.5, ТБ 2.5], [6.50, 4.10, 1.54, 1.94, 1.95])</td>\n",
       "    </tr>\n",
       "    <tr>\n",
       "      <th>2</th>\n",
       "      <td>10903429</td>\n",
       "      <td>202 - 6</td>\n",
       "      <td>[15, 24, 52, 56, 73, 73, 76, 87]</td>\n",
       "      <td>[goal, yellowcard, goal, goal, yellowcard, yellowcard, yellowcard, goal]</td>\n",
       "      <td>[(Shots, 13, 14), (Shots on target, 6, 5), (Shots Blocked, 3, 0), (Saves, 3, 4), (Possession %, 38, 62), (Corner, 5, 6), (Fouls, 7, 7), (Offsides, 0, 1), (Yellow cards, 0, 4), (Red cards, 0, 0), (Counterattacks, 2, 1), (Free Kicks, 8, 7), (Goal Kicks, 13, 4), (Throw Ins, 23, 17), (Crosses, 8, 17), (Treatment, 1, 0)]</td>\n",
       "      <td>Arnhem, Netherlands</td>\n",
       "      <td>18,920</td>\n",
       "      <td>(+14, overcast)</td>\n",
       "      <td>([1, X, 2, ТМ 2.5, ТБ 2.5], [5.25, 4.84, 1.54, 2.99, 1.37])</td>\n",
       "    </tr>\n",
       "    <tr>\n",
       "      <th>3</th>\n",
       "      <td>10903430</td>\n",
       "      <td>537 - 249</td>\n",
       "      <td>[58, 72, 89]</td>\n",
       "      <td>[goal, goal, goal]</td>\n",
       "      <td>[(Shots, 20, 3), (Shots on target, 6, 2), (Shots Blocked, 5, 0), (Saves, 1, 4), (Possession %, 68, 32), (Corner, 17, 0), (Fouls, 5, 6), (Offsides, 1, 2), (Yellow cards, 0, 0), (Red cards, 0, 0), (Counterattacks, 1, 0), (Free Kicks, 8, 6), (Goal Kicks, 1, 9), (Throw Ins, 20, 22), (Crosses, 55, 6), (Treatment, 0, 8)]</td>\n",
       "      <td>Alkmaar, Netherlands</td>\n",
       "      <td>0</td>\n",
       "      <td>(+19, sunny)</td>\n",
       "      <td>([1, X, 2, ТМ 2.5, ТБ 2.5], [1.11, 10.00, 22.00, 3.78, 1.25])</td>\n",
       "    </tr>\n",
       "    <tr>\n",
       "      <th>4</th>\n",
       "      <td>10903431</td>\n",
       "      <td>6974 - 159</td>\n",
       "      <td>[]</td>\n",
       "      <td>[]</td>\n",
       "      <td>[]</td>\n",
       "      <td>Nijmegen, Netherlands</td>\n",
       "      <td></td>\n",
       "      <td>(+15, overcast)</td>\n",
       "      <td>([], [])</td>\n",
       "    </tr>\n",
       "  </tbody>\n",
       "</table>\n",
       "</div>"
      ],
      "text/plain": [
       "    game_id   teams_ids  \\\n",
       "0  10912069  8075 - 123   \n",
       "1  10912070  6887 - 153   \n",
       "2  10903429     202 - 6   \n",
       "3  10903430   537 - 249   \n",
       "4  10903431  6974 - 159   \n",
       "\n",
       "                                               event_mins  \\\n",
       "0  [4, 5, 7, 13, 26, 33, 34, 58, 61, 66, 79, 84, +, +, +]   \n",
       "1                              [5, 33, 38, 52, 89, 90, +]   \n",
       "2                        [15, 24, 52, 56, 73, 73, 76, 87]   \n",
       "3                                            [58, 72, 89]   \n",
       "4                                                      []   \n",
       "\n",
       "                                                                                                                                       event_desc  \\\n",
       "0  [yellowcard, yellowcard, yellowcard, goal, yellowcard, yellowred, goal, goal, goal, yellowcard, mispen, goal, yellowcard, redcard, yellowcard]   \n",
       "1                                                                        [goal, yellowcard, goal, yellowcard, yellowcard, yellowcard, yellowcard]   \n",
       "2                                                                        [goal, yellowcard, goal, goal, yellowcard, yellowcard, yellowcard, goal]   \n",
       "3                                                                                                                              [goal, goal, goal]   \n",
       "4                                                                                                                                              []   \n",
       "\n",
       "                                                                                                                                                                                                                                                                                                                      stats_dict  \\\n",
       "0                                                                                                                 [(Shots, 2, 9), (Shots on target, 2, 9), (Saves, 6, 1), (Possession %, 28, 72), (Corner, 3, 8), (Fouls, 13, 16), (Offsides, 2, 3), (Yellow cards, 0, 0), (Red cards, 0, 0), (Pass percentage %, 63.33, 88.79)]   \n",
       "1                                                                                                                 [(Shots, 2, 4), (Shots on target, 2, 4), (Saves, 3, 1), (Possession %, 32, 68), (Corner, 4, 8), (Fouls, 16, 15), (Offsides, 2, 2), (Yellow cards, 0, 0), (Red cards, 0, 0), (Pass percentage %, 76.87, 87.21)]   \n",
       "2  [(Shots, 13, 14), (Shots on target, 6, 5), (Shots Blocked, 3, 0), (Saves, 3, 4), (Possession %, 38, 62), (Corner, 5, 6), (Fouls, 7, 7), (Offsides, 0, 1), (Yellow cards, 0, 4), (Red cards, 0, 0), (Counterattacks, 2, 1), (Free Kicks, 8, 7), (Goal Kicks, 13, 4), (Throw Ins, 23, 17), (Crosses, 8, 17), (Treatment, 1, 0)]   \n",
       "3   [(Shots, 20, 3), (Shots on target, 6, 2), (Shots Blocked, 5, 0), (Saves, 1, 4), (Possession %, 68, 32), (Corner, 17, 0), (Fouls, 5, 6), (Offsides, 1, 2), (Yellow cards, 0, 0), (Red cards, 0, 0), (Counterattacks, 1, 0), (Free Kicks, 8, 6), (Goal Kicks, 1, 9), (Throw Ins, 20, 22), (Crosses, 55, 6), (Treatment, 0, 8)]   \n",
       "4                                                                                                                                                                                                                                                                                                                             []   \n",
       "\n",
       "            city_country viewers            weath_temp  \\\n",
       "0       Lisbon, Portugal   6,992  (+17, partly cloudy)   \n",
       "1      Funchal, Portugal   6,221  (+18, partly cloudy)   \n",
       "2    Arnhem, Netherlands  18,920       (+14, overcast)   \n",
       "3   Alkmaar, Netherlands       0          (+19, sunny)   \n",
       "4  Nijmegen, Netherlands               (+15, overcast)   \n",
       "\n",
       "                                                            bets  \n",
       "0   ([1, X, 2, ТМ 2.5, ТБ 2.5], [14.00, 6.45, 1.22, 2.18, 1.65])  \n",
       "1    ([1, X, 2, ТМ 2.5, ТБ 2.5], [6.50, 4.10, 1.54, 1.94, 1.95])  \n",
       "2    ([1, X, 2, ТМ 2.5, ТБ 2.5], [5.25, 4.84, 1.54, 2.99, 1.37])  \n",
       "3  ([1, X, 2, ТМ 2.5, ТБ 2.5], [1.11, 10.00, 22.00, 3.78, 1.25])  \n",
       "4                                                       ([], [])  "
      ]
     },
     "execution_count": 13,
     "metadata": {},
     "output_type": "execute_result"
    }
   ],
   "source": [
    "df_events.head()"
   ]
  },
  {
   "cell_type": "markdown",
   "id": "ba97fc40-ad25-4807-8f3e-e84aa9f7ad18",
   "metadata": {},
   "source": [
    "#### Unite parsing events files in dataframe:"
   ]
  },
  {
   "cell_type": "code",
   "execution_count": 14,
   "id": "e0854c20-e385-45aa-8eff-6a44ac221a61",
   "metadata": {},
   "outputs": [
    {
     "ename": "NameError",
     "evalue": "name 'stop' is not defined",
     "output_type": "error",
     "traceback": [
      "\u001b[0;31m---------------------------------------------------------------------------\u001b[0m",
      "\u001b[0;31mNameError\u001b[0m                                 Traceback (most recent call last)",
      "Input \u001b[0;32mIn [14]\u001b[0m, in \u001b[0;36m<module>\u001b[0;34m\u001b[0m\n\u001b[0;32m----> 1\u001b[0m \u001b[43mstop\u001b[49m\n",
      "\u001b[0;31mNameError\u001b[0m: name 'stop' is not defined"
     ]
    }
   ],
   "source": [
    "stop"
   ]
  },
  {
   "cell_type": "code",
   "execution_count": null,
   "id": "f09b5f63-491f-4a5b-9feb-00075c6beb5d",
   "metadata": {},
   "outputs": [],
   "source": [
    "# pickle_files/new_events/26_05_2022/events_ids/, \n",
    "path = 'pickle_files/new_events/26_05_2022/events_ids/'\n",
    "all_events_games = list()\n",
    "\n",
    "for file in os.listdir(path):\n",
    "    with open(path + file, 'rb') as f:\n",
    "        events_games = pickle.load(f)\n",
    "        all_events_games.append(events_games)"
   ]
  },
  {
   "cell_type": "code",
   "execution_count": null,
   "id": "fbec9d75-84f8-4245-84f2-7fab69a5ab0c",
   "metadata": {},
   "outputs": [],
   "source": [
    "len(all_events_games)"
   ]
  },
  {
   "cell_type": "code",
   "execution_count": null,
   "id": "1fa355b4-dd3f-45e5-b2ae-236dfabefefa",
   "metadata": {},
   "outputs": [],
   "source": [
    "df_list   = []\n",
    "col_names = ['teams_ids', 'event_mins', 'event_hts_ats', 'stats_dict', 'city_country', 'viewers', 'weath_temp', 'bet_coefs']\n",
    "\n",
    "for game in all_events_games:\n",
    "    df_to_transform = pd.DataFrame(game)\n",
    "    df_create = ParsingDataPrepare.transform_columns_to_rows(df_to_transform, col_names)\n",
    "    \n",
    "    df_list.append(df_create)\n",
    "\n",
    "df_events = pd.concat(df_list) "
   ]
  },
  {
   "cell_type": "code",
   "execution_count": null,
   "id": "0cf472c4-4bc1-4f18-99d1-ead84b3aaf68",
   "metadata": {},
   "outputs": [],
   "source": [
    "df_events = df_events.reset_index().rename(columns={'index': 'game_id'})"
   ]
  },
  {
   "cell_type": "code",
   "execution_count": null,
   "id": "7b2d837b-a00d-4c99-a47b-62ae7457116f",
   "metadata": {},
   "outputs": [],
   "source": [
    "df_events.head(1)"
   ]
  },
  {
   "cell_type": "code",
   "execution_count": null,
   "id": "11375aff-f167-47e1-b172-bfa584a8591e",
   "metadata": {},
   "outputs": [],
   "source": [
    "# file = open('pickle_files/new_events/df_evns_26_05_2022_to_27_03_2021', 'wb')\n",
    "# pickle.dump(df_events, file)  \n",
    "# file.close()"
   ]
  }
 ],
 "metadata": {
  "kernelspec": {
   "display_name": "Python 3 (ipykernel)",
   "language": "python",
   "name": "python3"
  },
  "language_info": {
   "codemirror_mode": {
    "name": "ipython",
    "version": 3
   },
   "file_extension": ".py",
   "mimetype": "text/x-python",
   "name": "python",
   "nbconvert_exporter": "python",
   "pygments_lexer": "ipython3",
   "version": "3.9.7"
  }
 },
 "nbformat": 4,
 "nbformat_minor": 5
}

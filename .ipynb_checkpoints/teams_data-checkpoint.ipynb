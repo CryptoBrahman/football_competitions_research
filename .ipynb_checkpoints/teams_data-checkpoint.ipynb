{
 "cells": [
  {
   "cell_type": "code",
   "execution_count": 1,
   "metadata": {},
   "outputs": [],
   "source": [
    "import pandas as pd\n",
    "import numpy as np\n",
    "import re\n",
    "import unicodedata\n",
    "import pickle"
   ]
  },
  {
   "cell_type": "code",
   "execution_count": 2,
   "metadata": {},
   "outputs": [],
   "source": [
    "pd.set_option('display.max_colwidth', 1000)\n",
    "pd.set_option('display.max_rows', 400)"
   ]
  },
  {
   "cell_type": "code",
   "execution_count": 60,
   "metadata": {},
   "outputs": [],
   "source": [
    "data = pd.read_table('text_files/football-city-html.txt') "
   ]
  },
  {
   "cell_type": "code",
   "execution_count": 61,
   "metadata": {},
   "outputs": [],
   "source": [
    "df = data.rename(columns={\"</div>\": \"data\"})"
   ]
  },
  {
   "cell_type": "code",
   "execution_count": 62,
   "metadata": {},
   "outputs": [],
   "source": [
    "terms = ['col-sm-6 col-xs-6', 'col-sm-3 hidden-xs', '/modules/images/flags/']"
   ]
  },
  {
   "cell_type": "code",
   "execution_count": 63,
   "metadata": {},
   "outputs": [],
   "source": [
    "df = df[df.data.str.contains('|'.join(terms))] "
   ]
  },
  {
   "cell_type": "code",
   "execution_count": 64,
   "metadata": {},
   "outputs": [],
   "source": [
    "df.drop(index=5, inplace=True)"
   ]
  },
  {
   "cell_type": "code",
   "execution_count": 65,
   "metadata": {},
   "outputs": [
    {
     "data": {
      "text/plain": [
       "(5782, 1)"
      ]
     },
     "execution_count": 65,
     "metadata": {},
     "output_type": "execute_result"
    }
   ],
   "source": [
    "df.shape"
   ]
  },
  {
   "cell_type": "code",
   "execution_count": 66,
   "metadata": {},
   "outputs": [
    {
     "data": {
      "text/html": [
       "<div>\n",
       "<style scoped>\n",
       "    .dataframe tbody tr th:only-of-type {\n",
       "        vertical-align: middle;\n",
       "    }\n",
       "\n",
       "    .dataframe tbody tr th {\n",
       "        vertical-align: top;\n",
       "    }\n",
       "\n",
       "    .dataframe thead th {\n",
       "        text-align: right;\n",
       "    }\n",
       "</style>\n",
       "<table border=\"1\" class=\"dataframe\">\n",
       "  <thead>\n",
       "    <tr style=\"text-align: right;\">\n",
       "      <th></th>\n",
       "      <th>data</th>\n",
       "    </tr>\n",
       "  </thead>\n",
       "  <tbody>\n",
       "    <tr>\n",
       "      <th>13</th>\n",
       "      <td>&lt;div class=\"col-sm-6 col-xs-6\"&gt;&lt;b&gt;AaB&lt;/b&gt;&lt;/div&gt;</td>\n",
       "    </tr>\n",
       "    <tr>\n",
       "      <th>18</th>\n",
       "      <td>&lt;img src=\"/modules/images/flags/_56.png\" alt=\"Denmark\" title=\"Denmark\"&gt;</td>\n",
       "    </tr>\n",
       "    <tr>\n",
       "      <th>20</th>\n",
       "      <td>&lt;div class=\"col-sm-3 hidden-xs\"&gt;Aalborg&lt;/div&gt;</td>\n",
       "    </tr>\n",
       "    <tr>\n",
       "      <th>27</th>\n",
       "      <td>&lt;div class=\"col-sm-6 col-xs-6\"&gt;&lt;b&gt;Aalesund&lt;/b&gt;&lt;/div&gt;</td>\n",
       "    </tr>\n",
       "    <tr>\n",
       "      <th>32</th>\n",
       "      <td>&lt;img src=\"/modules/images/flags/_140.png\" alt=\"Norway\" title=\"Norway\"&gt;</td>\n",
       "    </tr>\n",
       "    <tr>\n",
       "      <th>...</th>\n",
       "      <td>...</td>\n",
       "    </tr>\n",
       "    <tr>\n",
       "      <th>27134</th>\n",
       "      <td>&lt;img src=\"/modules/images/flags/_181.png\" alt=\"Switzerland\" title=\"Switzerland\"&gt;</td>\n",
       "    </tr>\n",
       "    <tr>\n",
       "      <th>27136</th>\n",
       "      <td>&lt;div class=\"col-sm-3 hidden-xs\"&gt;Bern&lt;/div&gt;</td>\n",
       "    </tr>\n",
       "    <tr>\n",
       "      <th>27143</th>\n",
       "      <td>&lt;div class=\"col-sm-6 col-xs-6\"&gt;&lt;b&gt;Young Buffaloes&lt;/b&gt;&lt;/div&gt;</td>\n",
       "    </tr>\n",
       "    <tr>\n",
       "      <th>27148</th>\n",
       "      <td>&lt;img src=\"/modules/images/flags/_179.png\" alt=\"Swaziland\" title=\"Swaziland\"&gt;</td>\n",
       "    </tr>\n",
       "    <tr>\n",
       "      <th>27150</th>\n",
       "      <td>&lt;div class=\"col-sm-3 hidden-xs\"&gt;Manzini&lt;/div&gt;</td>\n",
       "    </tr>\n",
       "  </tbody>\n",
       "</table>\n",
       "<p>5782 rows × 1 columns</p>\n",
       "</div>"
      ],
      "text/plain": [
       "                                                                                   data\n",
       "13                                      <div class=\"col-sm-6 col-xs-6\"><b>AaB</b></div>\n",
       "18              <img src=\"/modules/images/flags/_56.png\" alt=\"Denmark\" title=\"Denmark\">\n",
       "20                                        <div class=\"col-sm-3 hidden-xs\">Aalborg</div>\n",
       "27                                 <div class=\"col-sm-6 col-xs-6\"><b>Aalesund</b></div>\n",
       "32               <img src=\"/modules/images/flags/_140.png\" alt=\"Norway\" title=\"Norway\">\n",
       "...                                                                                 ...\n",
       "27134  <img src=\"/modules/images/flags/_181.png\" alt=\"Switzerland\" title=\"Switzerland\">\n",
       "27136                                        <div class=\"col-sm-3 hidden-xs\">Bern</div>\n",
       "27143                       <div class=\"col-sm-6 col-xs-6\"><b>Young Buffaloes</b></div>\n",
       "27148      <img src=\"/modules/images/flags/_179.png\" alt=\"Swaziland\" title=\"Swaziland\">\n",
       "27150                                     <div class=\"col-sm-3 hidden-xs\">Manzini</div>\n",
       "\n",
       "[5782 rows x 1 columns]"
      ]
     },
     "execution_count": 66,
     "metadata": {},
     "output_type": "execute_result"
    }
   ],
   "source": [
    "df"
   ]
  },
  {
   "cell_type": "code",
   "execution_count": 67,
   "metadata": {},
   "outputs": [],
   "source": [
    "pattern = '|'.join(['<div class=\\\"col-sm-6 col-xs-6\\\"><b>', '<img src=\\\"/modules/images/flags/_', '<div class=\\\"col-sm-3 hidden-xs\\\">', '</b>', '</div>'])"
   ]
  },
  {
   "cell_type": "code",
   "execution_count": 68,
   "metadata": {},
   "outputs": [
    {
     "name": "stderr",
     "output_type": "stream",
     "text": [
      "/tmp/ipykernel_22694/2799521911.py:1: FutureWarning: The default value of regex will change from True to False in a future version.\n",
      "  df.data = df.data.str.replace(pattern, '')\n"
     ]
    }
   ],
   "source": [
    "df.data = df.data.str.replace(pattern, '')"
   ]
  },
  {
   "cell_type": "code",
   "execution_count": 69,
   "metadata": {},
   "outputs": [],
   "source": [
    "def removing_patterns(df: pd.DataFrame, col_names: list, patern: str):\n",
    "    df[col_names].apply(lambda x: str(x) if re.search(pattern, str(x)) is None else re.findall(pattern, str(x)))\n",
    "    return df"
   ]
  },
  {
   "cell_type": "code",
   "execution_count": 70,
   "metadata": {},
   "outputs": [],
   "source": [
    "pattern = r'\\\"[\\s|\\w]+\\\">$'\n",
    "df = removing_patterns(df, list(df), pattern)"
   ]
  },
  {
   "cell_type": "code",
   "execution_count": 71,
   "metadata": {},
   "outputs": [],
   "source": [
    "def find_no_utf_symbols(sr: pd.Series):\n",
    "    find_symols = r'[^.a-zA-Z0-9)(&\"\\s>;<=,-/}{\\']'\n",
    "    rare_symbols = sr.map(lambda x: ''.join(re.findall(find_symols, str(x))))\n",
    "    return rare_symbols"
   ]
  },
  {
   "cell_type": "code",
   "execution_count": 72,
   "metadata": {},
   "outputs": [],
   "source": [
    "rare_symbols = find_no_utf_symbols(df.data)"
   ]
  },
  {
   "cell_type": "code",
   "execution_count": 73,
   "metadata": {},
   "outputs": [
    {
     "data": {
      "text/plain": [
       "\"{'', 'šéá', 'Ō', 'ôô', 'ăă', 'ê', 'čŠ', 'áá', 'ëë', 'Łóź', 'ăţ', 'îş', 'áň', 'ėž', 'æ', 'È', 'ãç', 'áž', 'çğ', 'úí', 'ć', 'šá', 'ëçë', 'áí', 'í', 'éï', 'ġā', 'ı', 'à', 'Í', 'ăăş', 'Ñú', 'āā', 'ăăăş', 'ãí', 'éë', 'ış', 'º', 'óñ', 'öä', 'łł', 'É', 'ěříž', 'øø', 'ī', 'âá', 'àò', 'é', 'íá', 'ľ', 'ľý', 'ýí', 'ń', 'ţ', 'ź', 'éé', 'ä', 'š', 'Śś', 'đ', 'ą', 'Şüə', 'íð', 'ðæ', 'ę', 'łó', 'çã', 'İÖİ', 'čš', 'ážá', 'çş', 'è', 'ří', 'ủầộ', '’éé', 'Šľ', 'àộ', 'č', 'ú', 'ā', 'žň', 'žíš', 'šňé', 'óã', 'ıçğ', 'ýŽáš', 'î', 'əə', 'Şı', 'ū', 'Š', 'šýš', 'ééá', 'óŁę', 'šć', 'áó', 'ľé', 'ó', 'ç', 'Łę', 'ž', 'ď', 'âş', 'ş', 'ľč', 'žá', 'ęó', 'íáé', 'ūẓī', 'ığ', 'şş', 'ğ', 'čí', 'Žž', 'ží', 'ãã', 'çöüü', 'éá', 'õ', 'óú', 'íí', 'ýá', 'óó', 'üü', 'Å', 'ýŽ', 'óę', 'ë', 'äé', 'ʿā', 'ññ', 'ü', 'å', 'ė', 'çë', 'öö', 'ă', 'óá', 'éó', 'áš', 'ø', 'ł', 'ää', 'šáá', 'éšě', 'ô', 'ñ', 'ġāī', 'ș', 'ïé', 'íš', 'ā’', 'Ž', 'ō', 'ň', '’', 'ã', 'ï', 'áŠ', 'əəə', 'āḍ', 'â', 'ööö', 'éḥ', 'ö', 'Čč', 'ýáš', 'İ', 'ř', 'áé', 'öð', 'Ħ', 'á', 'ðø'}\""
      ]
     },
     "execution_count": 73,
     "metadata": {},
     "output_type": "execute_result"
    }
   ],
   "source": [
    "str(set(rare_symbols))"
   ]
  },
  {
   "cell_type": "code",
   "execution_count": 74,
   "metadata": {},
   "outputs": [],
   "source": [
    "all_symbols = []\n",
    "for symbol in rare_symbols:\n",
    "    symbols = ''.join(symbol)\n",
    "    all_symbols.append(symbols)\n",
    "all_symbols = str(all_symbols)\n",
    "all_symbols = ''.join(set(str(all_symbols)))\n",
    "all_symbols = all_symbols.replace(' ', '')\n",
    "all_symbols = all_symbols.replace(']', '')\n",
    "all_symbols = all_symbols.replace('[', '')\n",
    "all_symbols = all_symbols.replace(',', '')\n",
    "all_symbols = all_symbols.replace('\\'', '')"
   ]
  },
  {
   "cell_type": "code",
   "execution_count": 75,
   "metadata": {},
   "outputs": [
    {
     "data": {
      "text/plain": [
       "'ʿŌầêŁæÈćíıŞàÍºŚÉộīəéľńţźäðšđąęèḍḥčòúāîūŠóçďžşğõýÅëÑġüåėČăøłôñșěŽśōň’ãẓïâöủİÖřĦá'"
      ]
     },
     "execution_count": 75,
     "metadata": {},
     "output_type": "execute_result"
    }
   ],
   "source": [
    "all_symbols"
   ]
  },
  {
   "cell_type": "code",
   "execution_count": 76,
   "metadata": {},
   "outputs": [],
   "source": [
    "pattern_2 = r'^[0-9]+.png'\n",
    "pattern_3 = r'title=\\\"(.+?)\\\"'"
   ]
  },
  {
   "cell_type": "code",
   "execution_count": 77,
   "metadata": {},
   "outputs": [],
   "source": [
    "df = df.data.apply(lambda x: ''.join(re.findall(pattern_3, str(x)) if re.search(pattern_2, str(x)) is not None else x))"
   ]
  },
  {
   "cell_type": "code",
   "execution_count": 78,
   "metadata": {},
   "outputs": [],
   "source": [
    "df = pd.DataFrame(df)"
   ]
  },
  {
   "cell_type": "code",
   "execution_count": 79,
   "metadata": {},
   "outputs": [
    {
     "data": {
      "text/plain": [
       "(5782, 1)"
      ]
     },
     "execution_count": 79,
     "metadata": {},
     "output_type": "execute_result"
    }
   ],
   "source": [
    "df.shape"
   ]
  },
  {
   "cell_type": "code",
   "execution_count": 80,
   "metadata": {},
   "outputs": [
    {
     "data": {
      "text/html": [
       "<div>\n",
       "<style scoped>\n",
       "    .dataframe tbody tr th:only-of-type {\n",
       "        vertical-align: middle;\n",
       "    }\n",
       "\n",
       "    .dataframe tbody tr th {\n",
       "        vertical-align: top;\n",
       "    }\n",
       "\n",
       "    .dataframe thead th {\n",
       "        text-align: right;\n",
       "    }\n",
       "</style>\n",
       "<table border=\"1\" class=\"dataframe\">\n",
       "  <thead>\n",
       "    <tr style=\"text-align: right;\">\n",
       "      <th></th>\n",
       "      <th>data</th>\n",
       "    </tr>\n",
       "  </thead>\n",
       "  <tbody>\n",
       "    <tr>\n",
       "      <th>3067</th>\n",
       "      <td></td>\n",
       "    </tr>\n",
       "  </tbody>\n",
       "</table>\n",
       "</div>"
      ],
      "text/plain": [
       "     data\n",
       "3067     "
      ]
     },
     "execution_count": 80,
     "metadata": {},
     "output_type": "execute_result"
    }
   ],
   "source": [
    "df.iloc[648:649,:]"
   ]
  },
  {
   "cell_type": "code",
   "execution_count": 81,
   "metadata": {},
   "outputs": [],
   "source": [
    "df.data.replace('', np.nan, inplace=True)"
   ]
  },
  {
   "cell_type": "code",
   "execution_count": 82,
   "metadata": {},
   "outputs": [],
   "source": [
    "df.dropna(subset=['data'], inplace=True)"
   ]
  },
  {
   "cell_type": "code",
   "execution_count": 83,
   "metadata": {},
   "outputs": [
    {
     "data": {
      "text/plain": [
       "(5757, 1)"
      ]
     },
     "execution_count": 83,
     "metadata": {},
     "output_type": "execute_result"
    }
   ],
   "source": [
    "df.shape"
   ]
  },
  {
   "cell_type": "code",
   "execution_count": 84,
   "metadata": {},
   "outputs": [],
   "source": [
    "def str_decode(str_obj: str):\n",
    "    normalized = unicodedata.normalize('NFD', str_obj)\n",
    "    decode_str = u\"\".join([c for c in normalized if not unicodedata.combining(c)])\n",
    "    return decode_str"
   ]
  },
  {
   "cell_type": "code",
   "execution_count": 85,
   "metadata": {},
   "outputs": [],
   "source": [
    "df.data = df.data.apply(lambda x: str_decode(x))"
   ]
  },
  {
   "cell_type": "code",
   "execution_count": 86,
   "metadata": {},
   "outputs": [],
   "source": [
    "rare_symbols_keys = {'ł':'l','Ł':'L','º':'','ʿ':'\\'','ə':'e','Ħ':'H','đ':'d','’':'\\'','ı':'i','æ':'a','ð':'d','ø':'o'}\n",
    "\n",
    "def replace_rare_symbols(df: pd.DataFrame, col_name: str, dict_obj: dict):\n",
    "    for k, v in rare_symbols_keys.items():\n",
    "        df[col_name] = df[col_name].apply(lambda x: x.replace(k, v) if re.search(k, str(x)) else x)\n",
    "    return df[col_name]       "
   ]
  },
  {
   "cell_type": "code",
   "execution_count": 87,
   "metadata": {},
   "outputs": [],
   "source": [
    "df.data = replace_rare_symbols(df, 'data', rare_symbols_keys)"
   ]
  },
  {
   "cell_type": "code",
   "execution_count": 88,
   "metadata": {},
   "outputs": [
    {
     "data": {
      "text/html": [
       "<div>\n",
       "<style scoped>\n",
       "    .dataframe tbody tr th:only-of-type {\n",
       "        vertical-align: middle;\n",
       "    }\n",
       "\n",
       "    .dataframe tbody tr th {\n",
       "        vertical-align: top;\n",
       "    }\n",
       "\n",
       "    .dataframe thead th {\n",
       "        text-align: right;\n",
       "    }\n",
       "</style>\n",
       "<table border=\"1\" class=\"dataframe\">\n",
       "  <thead>\n",
       "    <tr style=\"text-align: right;\">\n",
       "      <th></th>\n",
       "      <th>data</th>\n",
       "    </tr>\n",
       "  </thead>\n",
       "  <tbody>\n",
       "    <tr>\n",
       "      <th>13</th>\n",
       "      <td>AaB</td>\n",
       "    </tr>\n",
       "    <tr>\n",
       "      <th>18</th>\n",
       "      <td>Denmark</td>\n",
       "    </tr>\n",
       "    <tr>\n",
       "      <th>20</th>\n",
       "      <td>Aalborg</td>\n",
       "    </tr>\n",
       "  </tbody>\n",
       "</table>\n",
       "</div>"
      ],
      "text/plain": [
       "       data\n",
       "13      AaB\n",
       "18  Denmark\n",
       "20  Aalborg"
      ]
     },
     "execution_count": 88,
     "metadata": {},
     "output_type": "execute_result"
    }
   ],
   "source": [
    "df.head(3)"
   ]
  },
  {
   "cell_type": "code",
   "execution_count": 89,
   "metadata": {},
   "outputs": [],
   "source": [
    "df.reset_index(inplace=True)"
   ]
  },
  {
   "cell_type": "code",
   "execution_count": 90,
   "metadata": {},
   "outputs": [],
   "source": [
    "df.drop('index', axis=1, inplace=True)"
   ]
  },
  {
   "cell_type": "code",
   "execution_count": 91,
   "metadata": {},
   "outputs": [],
   "source": [
    "club, country, city = df[0::3], df[1::3], df[2::3]"
   ]
  },
  {
   "cell_type": "code",
   "execution_count": 92,
   "metadata": {},
   "outputs": [],
   "source": [
    "table_df = pd.concat([club.reset_index(drop=True), country.reset_index(drop=True), city.reset_index(drop=True)], axis=1)"
   ]
  },
  {
   "cell_type": "code",
   "execution_count": 93,
   "metadata": {},
   "outputs": [],
   "source": [
    "table_df.columns.values[0] = \"team\"\n",
    "table_df.columns.values[1] = \"country\"\n",
    "table_df.columns.values[2] = \"city\""
   ]
  },
  {
   "cell_type": "code",
   "execution_count": 94,
   "metadata": {},
   "outputs": [
    {
     "data": {
      "text/plain": [
       "(1919, 3)"
      ]
     },
     "execution_count": 94,
     "metadata": {},
     "output_type": "execute_result"
    }
   ],
   "source": [
    "table_df.shape"
   ]
  },
  {
   "cell_type": "code",
   "execution_count": 95,
   "metadata": {},
   "outputs": [],
   "source": [
    "df = table_df.copy()"
   ]
  },
  {
   "cell_type": "code",
   "execution_count": 96,
   "metadata": {},
   "outputs": [],
   "source": [
    "# take city.values from hooks for transcription\n",
    "df.city = df.city.map(lambda x: ''.join(re.findall(r'\\((.*?)\\)', x)) if re.search(r'\\(', x) else x)"
   ]
  },
  {
   "cell_type": "code",
   "execution_count": 97,
   "metadata": {},
   "outputs": [],
   "source": [
    "# remove Buenos Aires districts\n",
    "buenos_pattern = 'Buenos'\n",
    "df.city = df.city.apply(lambda x: x if re.search(buenos_pattern, str(x)) is None else 'Buenos Aires')"
   ]
  },
  {
   "cell_type": "code",
   "execution_count": 98,
   "metadata": {},
   "outputs": [],
   "source": [
    "# take city.values before '/'\n",
    "df.city = df.city.map(lambda x: ''.join(re.findall(r'^(.*?)/', x)) if re.search(r'\\/', x) else x)"
   ]
  },
  {
   "cell_type": "code",
   "execution_count": 99,
   "metadata": {},
   "outputs": [],
   "source": [
    "# take city.values before ',' without districts\n",
    "df.city = df.city.map(lambda x: ''.join(re.findall(r'^(.*?),', x)) if re.search(r',', x) else x)"
   ]
  },
  {
   "cell_type": "code",
   "execution_count": 100,
   "metadata": {},
   "outputs": [],
   "source": [
    "# rename 'D.F.' at 'Mexico'\n",
    "mexico_pattern = 'D.F.'\n",
    "df.city = df.city.apply(lambda x: x if re.search(mexico_pattern, str(x)) is None else 'Mexico')"
   ]
  },
  {
   "cell_type": "code",
   "execution_count": 101,
   "metadata": {},
   "outputs": [],
   "source": [
    "df['teams_ids'] = None"
   ]
  },
  {
   "cell_type": "code",
   "execution_count": 102,
   "metadata": {},
   "outputs": [],
   "source": [
    "df.insert(1, 'teams_ids', df.pop('teams_ids'))"
   ]
  },
  {
   "cell_type": "code",
   "execution_count": 103,
   "metadata": {},
   "outputs": [
    {
     "data": {
      "text/html": [
       "<div>\n",
       "<style scoped>\n",
       "    .dataframe tbody tr th:only-of-type {\n",
       "        vertical-align: middle;\n",
       "    }\n",
       "\n",
       "    .dataframe tbody tr th {\n",
       "        vertical-align: top;\n",
       "    }\n",
       "\n",
       "    .dataframe thead th {\n",
       "        text-align: right;\n",
       "    }\n",
       "</style>\n",
       "<table border=\"1\" class=\"dataframe\">\n",
       "  <thead>\n",
       "    <tr style=\"text-align: right;\">\n",
       "      <th></th>\n",
       "      <th>team</th>\n",
       "      <th>teams_ids</th>\n",
       "      <th>country</th>\n",
       "      <th>city</th>\n",
       "    </tr>\n",
       "  </thead>\n",
       "  <tbody>\n",
       "    <tr>\n",
       "      <th>0</th>\n",
       "      <td>AaB</td>\n",
       "      <td>None</td>\n",
       "      <td>Denmark</td>\n",
       "      <td>Aalborg</td>\n",
       "    </tr>\n",
       "    <tr>\n",
       "      <th>1</th>\n",
       "      <td>Aalesund</td>\n",
       "      <td>None</td>\n",
       "      <td>Norway</td>\n",
       "      <td>Alesund</td>\n",
       "    </tr>\n",
       "    <tr>\n",
       "      <th>2</th>\n",
       "      <td>Aarau</td>\n",
       "      <td>None</td>\n",
       "      <td>Switzerland</td>\n",
       "      <td>Aarau</td>\n",
       "    </tr>\n",
       "    <tr>\n",
       "      <th>3</th>\n",
       "      <td>ABC</td>\n",
       "      <td>None</td>\n",
       "      <td>Brazil</td>\n",
       "      <td>Natal</td>\n",
       "    </tr>\n",
       "    <tr>\n",
       "      <th>4</th>\n",
       "      <td>Aberdeen</td>\n",
       "      <td>None</td>\n",
       "      <td>Scotland</td>\n",
       "      <td>Aberdeen</td>\n",
       "    </tr>\n",
       "  </tbody>\n",
       "</table>\n",
       "</div>"
      ],
      "text/plain": [
       "       team teams_ids      country      city\n",
       "0       AaB      None      Denmark   Aalborg\n",
       "1  Aalesund      None       Norway   Alesund\n",
       "2     Aarau      None  Switzerland     Aarau\n",
       "3       ABC      None       Brazil     Natal\n",
       "4  Aberdeen      None     Scotland  Aberdeen"
      ]
     },
     "execution_count": 103,
     "metadata": {},
     "output_type": "execute_result"
    }
   ],
   "source": [
    "df.head()"
   ]
  },
  {
   "cell_type": "code",
   "execution_count": 104,
   "metadata": {},
   "outputs": [
    {
     "data": {
      "text/html": [
       "<div>\n",
       "<style scoped>\n",
       "    .dataframe tbody tr th:only-of-type {\n",
       "        vertical-align: middle;\n",
       "    }\n",
       "\n",
       "    .dataframe tbody tr th {\n",
       "        vertical-align: top;\n",
       "    }\n",
       "\n",
       "    .dataframe thead th {\n",
       "        text-align: right;\n",
       "    }\n",
       "</style>\n",
       "<table border=\"1\" class=\"dataframe\">\n",
       "  <thead>\n",
       "    <tr style=\"text-align: right;\">\n",
       "      <th></th>\n",
       "      <th>team</th>\n",
       "      <th>teams_ids</th>\n",
       "      <th>country</th>\n",
       "      <th>city</th>\n",
       "    </tr>\n",
       "  </thead>\n",
       "  <tbody>\n",
       "    <tr>\n",
       "      <th>1914</th>\n",
       "      <td>Yokohama</td>\n",
       "      <td>None</td>\n",
       "      <td>Japan</td>\n",
       "      <td>Yokohama</td>\n",
       "    </tr>\n",
       "    <tr>\n",
       "      <th>1915</th>\n",
       "      <td>Yokohama F. Marinos</td>\n",
       "      <td>None</td>\n",
       "      <td>Japan</td>\n",
       "      <td>Yokohama</td>\n",
       "    </tr>\n",
       "    <tr>\n",
       "      <th>1916</th>\n",
       "      <td>Young Africans</td>\n",
       "      <td>None</td>\n",
       "      <td>Tanzania</td>\n",
       "      <td>Dar-es-Salaam</td>\n",
       "    </tr>\n",
       "    <tr>\n",
       "      <th>1917</th>\n",
       "      <td>Young Boys</td>\n",
       "      <td>None</td>\n",
       "      <td>Switzerland</td>\n",
       "      <td>Bern</td>\n",
       "    </tr>\n",
       "    <tr>\n",
       "      <th>1918</th>\n",
       "      <td>Young Buffaloes</td>\n",
       "      <td>None</td>\n",
       "      <td>Swaziland</td>\n",
       "      <td>Manzini</td>\n",
       "    </tr>\n",
       "  </tbody>\n",
       "</table>\n",
       "</div>"
      ],
      "text/plain": [
       "                     team teams_ids      country           city\n",
       "1914             Yokohama      None        Japan       Yokohama\n",
       "1915  Yokohama F. Marinos      None        Japan       Yokohama\n",
       "1916       Young Africans      None     Tanzania  Dar-es-Salaam\n",
       "1917           Young Boys      None  Switzerland           Bern\n",
       "1918      Young Buffaloes      None    Swaziland        Manzini"
      ]
     },
     "execution_count": 104,
     "metadata": {},
     "output_type": "execute_result"
    }
   ],
   "source": [
    "df.tail()"
   ]
  },
  {
   "cell_type": "code",
   "execution_count": 105,
   "metadata": {},
   "outputs": [],
   "source": [
    "df.drop_duplicates(subset=['team', 'country'], inplace=True)"
   ]
  },
  {
   "cell_type": "code",
   "execution_count": 106,
   "metadata": {},
   "outputs": [
    {
     "data": {
      "text/plain": [
       "River Plate        3\n",
       "Nacional           3\n",
       "Independiente      2\n",
       "Everton            2\n",
       "Rudar              2\n",
       "                  ..\n",
       "Fenerbahce         1\n",
       "Fello Star         1\n",
       "Feirense           1\n",
       "FCSB               1\n",
       "Young Buffaloes    1\n",
       "Name: team, Length: 1887, dtype: int64"
      ]
     },
     "execution_count": 106,
     "metadata": {},
     "output_type": "execute_result"
    }
   ],
   "source": [
    "df.team.value_counts()"
   ]
  },
  {
   "cell_type": "code",
   "execution_count": 107,
   "metadata": {},
   "outputs": [],
   "source": [
    "df.reset_index(drop=True, inplace=True)"
   ]
  },
  {
   "cell_type": "code",
   "execution_count": 108,
   "metadata": {},
   "outputs": [
    {
     "data": {
      "text/html": [
       "<div>\n",
       "<style scoped>\n",
       "    .dataframe tbody tr th:only-of-type {\n",
       "        vertical-align: middle;\n",
       "    }\n",
       "\n",
       "    .dataframe tbody tr th {\n",
       "        vertical-align: top;\n",
       "    }\n",
       "\n",
       "    .dataframe thead th {\n",
       "        text-align: right;\n",
       "    }\n",
       "</style>\n",
       "<table border=\"1\" class=\"dataframe\">\n",
       "  <thead>\n",
       "    <tr style=\"text-align: right;\">\n",
       "      <th></th>\n",
       "      <th>team</th>\n",
       "      <th>teams_ids</th>\n",
       "      <th>country</th>\n",
       "      <th>city</th>\n",
       "    </tr>\n",
       "  </thead>\n",
       "  <tbody>\n",
       "    <tr>\n",
       "      <th>0</th>\n",
       "      <td>AaB</td>\n",
       "      <td>None</td>\n",
       "      <td>Denmark</td>\n",
       "      <td>Aalborg</td>\n",
       "    </tr>\n",
       "    <tr>\n",
       "      <th>1</th>\n",
       "      <td>Aalesund</td>\n",
       "      <td>None</td>\n",
       "      <td>Norway</td>\n",
       "      <td>Alesund</td>\n",
       "    </tr>\n",
       "    <tr>\n",
       "      <th>2</th>\n",
       "      <td>Aarau</td>\n",
       "      <td>None</td>\n",
       "      <td>Switzerland</td>\n",
       "      <td>Aarau</td>\n",
       "    </tr>\n",
       "    <tr>\n",
       "      <th>3</th>\n",
       "      <td>ABC</td>\n",
       "      <td>None</td>\n",
       "      <td>Brazil</td>\n",
       "      <td>Natal</td>\n",
       "    </tr>\n",
       "    <tr>\n",
       "      <th>4</th>\n",
       "      <td>Aberdeen</td>\n",
       "      <td>None</td>\n",
       "      <td>Scotland</td>\n",
       "      <td>Aberdeen</td>\n",
       "    </tr>\n",
       "    <tr>\n",
       "      <th>...</th>\n",
       "      <td>...</td>\n",
       "      <td>...</td>\n",
       "      <td>...</td>\n",
       "      <td>...</td>\n",
       "    </tr>\n",
       "    <tr>\n",
       "      <th>1900</th>\n",
       "      <td>Yokohama</td>\n",
       "      <td>None</td>\n",
       "      <td>Japan</td>\n",
       "      <td>Yokohama</td>\n",
       "    </tr>\n",
       "    <tr>\n",
       "      <th>1901</th>\n",
       "      <td>Yokohama F. Marinos</td>\n",
       "      <td>None</td>\n",
       "      <td>Japan</td>\n",
       "      <td>Yokohama</td>\n",
       "    </tr>\n",
       "    <tr>\n",
       "      <th>1902</th>\n",
       "      <td>Young Africans</td>\n",
       "      <td>None</td>\n",
       "      <td>Tanzania</td>\n",
       "      <td>Dar-es-Salaam</td>\n",
       "    </tr>\n",
       "    <tr>\n",
       "      <th>1903</th>\n",
       "      <td>Young Boys</td>\n",
       "      <td>None</td>\n",
       "      <td>Switzerland</td>\n",
       "      <td>Bern</td>\n",
       "    </tr>\n",
       "    <tr>\n",
       "      <th>1904</th>\n",
       "      <td>Young Buffaloes</td>\n",
       "      <td>None</td>\n",
       "      <td>Swaziland</td>\n",
       "      <td>Manzini</td>\n",
       "    </tr>\n",
       "  </tbody>\n",
       "</table>\n",
       "<p>1905 rows × 4 columns</p>\n",
       "</div>"
      ],
      "text/plain": [
       "                     team teams_ids      country           city\n",
       "0                     AaB      None      Denmark        Aalborg\n",
       "1                Aalesund      None       Norway        Alesund\n",
       "2                   Aarau      None  Switzerland          Aarau\n",
       "3                     ABC      None       Brazil          Natal\n",
       "4                Aberdeen      None     Scotland       Aberdeen\n",
       "...                   ...       ...          ...            ...\n",
       "1900             Yokohama      None        Japan       Yokohama\n",
       "1901  Yokohama F. Marinos      None        Japan       Yokohama\n",
       "1902       Young Africans      None     Tanzania  Dar-es-Salaam\n",
       "1903           Young Boys      None  Switzerland           Bern\n",
       "1904      Young Buffaloes      None    Swaziland        Manzini\n",
       "\n",
       "[1905 rows x 4 columns]"
      ]
     },
     "execution_count": 108,
     "metadata": {},
     "output_type": "execute_result"
    }
   ],
   "source": [
    "df"
   ]
  },
  {
   "cell_type": "code",
   "execution_count": 163,
   "metadata": {},
   "outputs": [],
   "source": [
    "# with open('pickle_files/df_teams_data_main', 'wb') as f:\n",
    "#     pickle.dump(df, f)"
   ]
  },
  {
   "cell_type": "markdown",
   "metadata": {},
   "source": [
    "### Add teams data"
   ]
  },
  {
   "cell_type": "code",
   "execution_count": 3,
   "metadata": {},
   "outputs": [],
   "source": [
    "with open('pickle_files/teams_data/df_tmd_main_created_17_06_22', 'rb') as f:\n",
    "    df_teams_data = pickle.load(f)"
   ]
  },
  {
   "cell_type": "code",
   "execution_count": 4,
   "metadata": {},
   "outputs": [
    {
     "data": {
      "text/html": [
       "<div>\n",
       "<style scoped>\n",
       "    .dataframe tbody tr th:only-of-type {\n",
       "        vertical-align: middle;\n",
       "    }\n",
       "\n",
       "    .dataframe tbody tr th {\n",
       "        vertical-align: top;\n",
       "    }\n",
       "\n",
       "    .dataframe thead th {\n",
       "        text-align: right;\n",
       "    }\n",
       "</style>\n",
       "<table border=\"1\" class=\"dataframe\">\n",
       "  <thead>\n",
       "    <tr style=\"text-align: right;\">\n",
       "      <th></th>\n",
       "      <th>team</th>\n",
       "      <th>teams_ids</th>\n",
       "      <th>country</th>\n",
       "      <th>city</th>\n",
       "    </tr>\n",
       "  </thead>\n",
       "  <tbody>\n",
       "    <tr>\n",
       "      <th>0</th>\n",
       "      <td>1. FC Saarbrücken</td>\n",
       "      <td>8086</td>\n",
       "      <td>Germany</td>\n",
       "      <td>Saarbrücken</td>\n",
       "    </tr>\n",
       "    <tr>\n",
       "      <th>1</th>\n",
       "      <td>12 de Octubre</td>\n",
       "      <td>15355</td>\n",
       "      <td>Paraguay</td>\n",
       "      <td>Itauguá</td>\n",
       "    </tr>\n",
       "    <tr>\n",
       "      <th>2</th>\n",
       "      <td>3 de Febrero</td>\n",
       "      <td>8778</td>\n",
       "      <td>Paraguay</td>\n",
       "      <td>Alto Paraná</td>\n",
       "    </tr>\n",
       "    <tr>\n",
       "      <th>3</th>\n",
       "      <td>AS Aïn M'lila</td>\n",
       "      <td>13337</td>\n",
       "      <td>Algeria</td>\n",
       "      <td>Aïn M'lila</td>\n",
       "    </tr>\n",
       "    <tr>\n",
       "      <th>4</th>\n",
       "      <td>AS Viterbese Castrense</td>\n",
       "      <td>10889</td>\n",
       "      <td>Italy</td>\n",
       "      <td>Viterbo</td>\n",
       "    </tr>\n",
       "    <tr>\n",
       "      <th>...</th>\n",
       "      <td>...</td>\n",
       "      <td>...</td>\n",
       "      <td>...</td>\n",
       "      <td>...</td>\n",
       "    </tr>\n",
       "    <tr>\n",
       "      <th>2820</th>\n",
       "      <td>Yokohama</td>\n",
       "      <td>None</td>\n",
       "      <td>Japan</td>\n",
       "      <td>Yokohama</td>\n",
       "    </tr>\n",
       "    <tr>\n",
       "      <th>2821</th>\n",
       "      <td>Yokohama F. Marinos</td>\n",
       "      <td>None</td>\n",
       "      <td>Japan</td>\n",
       "      <td>Yokohama</td>\n",
       "    </tr>\n",
       "    <tr>\n",
       "      <th>2822</th>\n",
       "      <td>Young Africans</td>\n",
       "      <td>None</td>\n",
       "      <td>Tanzania</td>\n",
       "      <td>Dar-es-Salaam</td>\n",
       "    </tr>\n",
       "    <tr>\n",
       "      <th>2823</th>\n",
       "      <td>Young Boys</td>\n",
       "      <td>None</td>\n",
       "      <td>Switzerland</td>\n",
       "      <td>Bern</td>\n",
       "    </tr>\n",
       "    <tr>\n",
       "      <th>2824</th>\n",
       "      <td>Young Buffaloes</td>\n",
       "      <td>None</td>\n",
       "      <td>Swaziland</td>\n",
       "      <td>Manzini</td>\n",
       "    </tr>\n",
       "  </tbody>\n",
       "</table>\n",
       "<p>2825 rows × 4 columns</p>\n",
       "</div>"
      ],
      "text/plain": [
       "                        team teams_ids      country           city\n",
       "0          1. FC Saarbrücken      8086      Germany    Saarbrücken\n",
       "1              12 de Octubre     15355     Paraguay        Itauguá\n",
       "2               3 de Febrero      8778     Paraguay    Alto Paraná\n",
       "3              AS Aïn M'lila     13337      Algeria     Aïn M'lila\n",
       "4     AS Viterbese Castrense     10889        Italy        Viterbo\n",
       "...                      ...       ...          ...            ...\n",
       "2820                Yokohama      None        Japan       Yokohama\n",
       "2821     Yokohama F. Marinos      None        Japan       Yokohama\n",
       "2822          Young Africans      None     Tanzania  Dar-es-Salaam\n",
       "2823              Young Boys      None  Switzerland           Bern\n",
       "2824         Young Buffaloes      None    Swaziland        Manzini\n",
       "\n",
       "[2825 rows x 4 columns]"
      ]
     },
     "execution_count": 4,
     "metadata": {},
     "output_type": "execute_result"
    }
   ],
   "source": [
    "df_teams_data"
   ]
  },
  {
   "cell_type": "code",
   "execution_count": 36,
   "metadata": {},
   "outputs": [],
   "source": [
    " with open('pickle_files/teams_data/tmd_26_05_2022/df_tmd_corected_26_05_2022_sec', 'rb') as f:\n",
    "    df_new_data = pickle.load(f)"
   ]
  },
  {
   "cell_type": "code",
   "execution_count": 37,
   "metadata": {},
   "outputs": [
    {
     "name": "stdout",
     "output_type": "stream",
     "text": [
      "shape -  1293\n"
     ]
    },
    {
     "data": {
      "text/html": [
       "<div>\n",
       "<style scoped>\n",
       "    .dataframe tbody tr th:only-of-type {\n",
       "        vertical-align: middle;\n",
       "    }\n",
       "\n",
       "    .dataframe tbody tr th {\n",
       "        vertical-align: top;\n",
       "    }\n",
       "\n",
       "    .dataframe thead th {\n",
       "        text-align: right;\n",
       "    }\n",
       "</style>\n",
       "<table border=\"1\" class=\"dataframe\">\n",
       "  <thead>\n",
       "    <tr style=\"text-align: right;\">\n",
       "      <th></th>\n",
       "      <th>teams_ids</th>\n",
       "      <th>team</th>\n",
       "      <th>country</th>\n",
       "      <th>tm_data</th>\n",
       "      <th>city</th>\n",
       "    </tr>\n",
       "  </thead>\n",
       "  <tbody>\n",
       "    <tr>\n",
       "      <th>0</th>\n",
       "      <td>7998</td>\n",
       "      <td>Magdeburg</td>\n",
       "      <td>Germany</td>\n",
       "      <td>1. FC Magdeburg is a German association football club based in the city of Magdeburg. The club was founded in 1965 and spent all but one season in East Germany top flight, the DDR-Oberliga, winning three championships and seven cup titles.</td>\n",
       "      <td>Magdeburg</td>\n",
       "    </tr>\n",
       "    <tr>\n",
       "      <th>1</th>\n",
       "      <td>9863</td>\n",
       "      <td>Koln II</td>\n",
       "      <td>Germany</td>\n",
       "      <td>1. Fußball-Club Köln 01/07 e. V. II, commonly known as simply 1. FC Köln II, is a German football team based in Cologne. It is the reserve team of German association football club 1. FC Köln.</td>\n",
       "      <td>Cologne</td>\n",
       "    </tr>\n",
       "  </tbody>\n",
       "</table>\n",
       "</div>"
      ],
      "text/plain": [
       "  teams_ids       team  country  \\\n",
       "0      7998  Magdeburg  Germany   \n",
       "1      9863    Koln II  Germany   \n",
       "\n",
       "                                                                                                                                                                                                                                           tm_data  \\\n",
       "0  1. FC Magdeburg is a German association football club based in the city of Magdeburg. The club was founded in 1965 and spent all but one season in East Germany top flight, the DDR-Oberliga, winning three championships and seven cup titles.   \n",
       "1                                                  1. Fußball-Club Köln 01/07 e. V. II, commonly known as simply 1. FC Köln II, is a German football team based in Cologne. It is the reserve team of German association football club 1. FC Köln.   \n",
       "\n",
       "        city  \n",
       "0  Magdeburg  \n",
       "1    Cologne  "
      ]
     },
     "execution_count": 37,
     "metadata": {},
     "output_type": "execute_result"
    }
   ],
   "source": [
    "print('shape - ', df_new_data.shape[0])\n",
    "df_new_data.head(2)"
   ]
  },
  {
   "cell_type": "code",
   "execution_count": 38,
   "metadata": {},
   "outputs": [],
   "source": [
    "df_new_main = df_new_data[['team', 'teams_ids', 'country', 'city']].copy()"
   ]
  },
  {
   "cell_type": "code",
   "execution_count": 39,
   "metadata": {},
   "outputs": [
    {
     "data": {
      "text/plain": [
       "(1293, 4)"
      ]
     },
     "execution_count": 39,
     "metadata": {},
     "output_type": "execute_result"
    }
   ],
   "source": [
    "df_new_main.drop_duplicates(subset=['team', 'country'], inplace=True)\n",
    "df_new_main.reset_index(drop=True, inplace=True)\n",
    "df_new_main.shape"
   ]
  },
  {
   "cell_type": "code",
   "execution_count": 40,
   "metadata": {},
   "outputs": [],
   "source": [
    "df_new_main.team    = df_new_main.team.map(lambda x: str(x).lstrip().rstrip())\n",
    "df_new_main.country = df_new_main.country.map(lambda x: str(x).lstrip().rstrip())\n",
    "df_new_main.city    = df_new_main.city.map(lambda x: str(x).lstrip().rstrip())"
   ]
  },
  {
   "cell_type": "code",
   "execution_count": 41,
   "metadata": {},
   "outputs": [
    {
     "data": {
      "text/plain": [
       "Magdeburg           1\n",
       "Luparense           1\n",
       "Sofán               1\n",
       "Gelbison Cilento    1\n",
       "Abdish-Ata          1\n",
       "Name: team, dtype: int64"
      ]
     },
     "execution_count": 41,
     "metadata": {},
     "output_type": "execute_result"
    }
   ],
   "source": [
    "df_new_main.team.value_counts(dropna=False).head()"
   ]
  },
  {
   "cell_type": "code",
   "execution_count": 42,
   "metadata": {},
   "outputs": [
    {
     "data": {
      "text/plain": [
       "Spain      128\n",
       "Brazil      74\n",
       "Russia      74\n",
       "England     70\n",
       "Italy       67\n",
       "Name: country, dtype: int64"
      ]
     },
     "execution_count": 42,
     "metadata": {},
     "output_type": "execute_result"
    }
   ],
   "source": [
    "df_new_main.country.value_counts(dropna=False).head()"
   ]
  },
  {
   "cell_type": "code",
   "execution_count": 43,
   "metadata": {},
   "outputs": [
    {
     "data": {
      "text/plain": [
       "Ghana      1\n",
       "Aruba      1\n",
       "Nepal      1\n",
       "Lebanon    1\n",
       "Malta      1\n",
       "Name: country, dtype: int64"
      ]
     },
     "execution_count": 43,
     "metadata": {},
     "output_type": "execute_result"
    }
   ],
   "source": [
    "df_new_main.country.value_counts(dropna=False).tail()"
   ]
  },
  {
   "cell_type": "code",
   "execution_count": 44,
   "metadata": {},
   "outputs": [
    {
     "data": {
      "text/plain": [
       "nd              63\n",
       "Buenos Aires    11\n",
       "Moscow          10\n",
       "Dhaka            9\n",
       "Berlin           6\n",
       "Name: city, dtype: int64"
      ]
     },
     "execution_count": 44,
     "metadata": {},
     "output_type": "execute_result"
    }
   ],
   "source": [
    "df_new_main.city.value_counts(dropna=False).head()"
   ]
  },
  {
   "cell_type": "code",
   "execution_count": 45,
   "metadata": {},
   "outputs": [
    {
     "data": {
      "text/html": [
       "<div>\n",
       "<style scoped>\n",
       "    .dataframe tbody tr th:only-of-type {\n",
       "        vertical-align: middle;\n",
       "    }\n",
       "\n",
       "    .dataframe tbody tr th {\n",
       "        vertical-align: top;\n",
       "    }\n",
       "\n",
       "    .dataframe thead th {\n",
       "        text-align: right;\n",
       "    }\n",
       "</style>\n",
       "<table border=\"1\" class=\"dataframe\">\n",
       "  <thead>\n",
       "    <tr style=\"text-align: right;\">\n",
       "      <th></th>\n",
       "      <th>team</th>\n",
       "      <th>teams_ids</th>\n",
       "      <th>country</th>\n",
       "      <th>city</th>\n",
       "    </tr>\n",
       "  </thead>\n",
       "  <tbody>\n",
       "  </tbody>\n",
       "</table>\n",
       "</div>"
      ],
      "text/plain": [
       "Empty DataFrame\n",
       "Columns: [team, teams_ids, country, city]\n",
       "Index: []"
      ]
     },
     "execution_count": 45,
     "metadata": {},
     "output_type": "execute_result"
    }
   ],
   "source": [
    "# After csv formating - 'nan'\n",
    "df_new_main[df_new_main.city == 'nan']"
   ]
  },
  {
   "cell_type": "code",
   "execution_count": null,
   "metadata": {},
   "outputs": [],
   "source": [
    "# Check this names \n",
    "# Korea Republic = South Korea, China PR = China, Czech Republic = Czechia, Republic of Ireland = Ireland, FYR Macedonia = North Macedonia\n",
    "# df.loc[885:885, 'city'] = 'Stuttgart'\n",
    "# df[df.country == 'Hong Kong'] \n",
    "# df.country = df.country.map(lambda x: 'North Macedonia' if x == 'FYR Macedonia' else x)"
   ]
  },
  {
   "cell_type": "code",
   "execution_count": null,
   "metadata": {},
   "outputs": [],
   "source": [
    "# with open('pickle_files/df_main_corected_26_05_2022', 'wb') as f:\n",
    "#     pickle.dump(df_new_main, f)"
   ]
  },
  {
   "cell_type": "code",
   "execution_count": 47,
   "metadata": {},
   "outputs": [
    {
     "data": {
      "text/html": [
       "<div>\n",
       "<style scoped>\n",
       "    .dataframe tbody tr th:only-of-type {\n",
       "        vertical-align: middle;\n",
       "    }\n",
       "\n",
       "    .dataframe tbody tr th {\n",
       "        vertical-align: top;\n",
       "    }\n",
       "\n",
       "    .dataframe thead th {\n",
       "        text-align: right;\n",
       "    }\n",
       "</style>\n",
       "<table border=\"1\" class=\"dataframe\">\n",
       "  <thead>\n",
       "    <tr style=\"text-align: right;\">\n",
       "      <th></th>\n",
       "      <th>team</th>\n",
       "      <th>teams_ids</th>\n",
       "      <th>country</th>\n",
       "      <th>city</th>\n",
       "    </tr>\n",
       "  </thead>\n",
       "  <tbody>\n",
       "    <tr>\n",
       "      <th>0</th>\n",
       "      <td>Magdeburg</td>\n",
       "      <td>7998</td>\n",
       "      <td>Germany</td>\n",
       "      <td>Magdeburg</td>\n",
       "    </tr>\n",
       "    <tr>\n",
       "      <th>1</th>\n",
       "      <td>Koln II</td>\n",
       "      <td>9863</td>\n",
       "      <td>Germany</td>\n",
       "      <td>Cologne</td>\n",
       "    </tr>\n",
       "    <tr>\n",
       "      <th>2</th>\n",
       "      <td>Lokomotive Leipzig</td>\n",
       "      <td>8056</td>\n",
       "      <td>Germany</td>\n",
       "      <td>Leipzig</td>\n",
       "    </tr>\n",
       "    <tr>\n",
       "      <th>3</th>\n",
       "      <td>Navad Urmia</td>\n",
       "      <td>14511</td>\n",
       "      <td>Iran</td>\n",
       "      <td>Urmia</td>\n",
       "    </tr>\n",
       "    <tr>\n",
       "      <th>4</th>\n",
       "      <td>Trento</td>\n",
       "      <td>10571</td>\n",
       "      <td>Italy</td>\n",
       "      <td>Trento</td>\n",
       "    </tr>\n",
       "    <tr>\n",
       "      <th>...</th>\n",
       "      <td>...</td>\n",
       "      <td>...</td>\n",
       "      <td>...</td>\n",
       "      <td>...</td>\n",
       "    </tr>\n",
       "    <tr>\n",
       "      <th>1288</th>\n",
       "      <td>EPS</td>\n",
       "      <td>NaN</td>\n",
       "      <td>Finland</td>\n",
       "      <td>Espoo</td>\n",
       "    </tr>\n",
       "    <tr>\n",
       "      <th>1289</th>\n",
       "      <td>Ilves-Kissat</td>\n",
       "      <td>NaN</td>\n",
       "      <td>Finland</td>\n",
       "      <td>Tampere</td>\n",
       "    </tr>\n",
       "    <tr>\n",
       "      <th>1290</th>\n",
       "      <td>RoPS II</td>\n",
       "      <td>15282</td>\n",
       "      <td>Finland</td>\n",
       "      <td>Rovaniemi</td>\n",
       "    </tr>\n",
       "    <tr>\n",
       "      <th>1291</th>\n",
       "      <td>Atletico Cali</td>\n",
       "      <td>NaN</td>\n",
       "      <td>Colombia</td>\n",
       "      <td>Cali</td>\n",
       "    </tr>\n",
       "    <tr>\n",
       "      <th>1292</th>\n",
       "      <td>Radnicki Pirot</td>\n",
       "      <td>12683</td>\n",
       "      <td>Serbia</td>\n",
       "      <td>Pirot</td>\n",
       "    </tr>\n",
       "  </tbody>\n",
       "</table>\n",
       "<p>1293 rows × 4 columns</p>\n",
       "</div>"
      ],
      "text/plain": [
       "                    team teams_ids   country       city\n",
       "0              Magdeburg      7998   Germany  Magdeburg\n",
       "1                Koln II      9863   Germany    Cologne\n",
       "2     Lokomotive Leipzig      8056   Germany    Leipzig\n",
       "3            Navad Urmia     14511      Iran      Urmia\n",
       "4                 Trento     10571     Italy     Trento\n",
       "...                  ...       ...       ...        ...\n",
       "1288                 EPS       NaN   Finland      Espoo\n",
       "1289        Ilves-Kissat       NaN   Finland    Tampere\n",
       "1290             RoPS II     15282   Finland  Rovaniemi\n",
       "1291       Atletico Cali       NaN  Colombia       Cali\n",
       "1292      Radnicki Pirot     12683    Serbia      Pirot\n",
       "\n",
       "[1293 rows x 4 columns]"
      ]
     },
     "execution_count": 47,
     "metadata": {},
     "output_type": "execute_result"
    }
   ],
   "source": [
    "df_new_main"
   ]
  },
  {
   "cell_type": "code",
   "execution_count": 48,
   "metadata": {},
   "outputs": [
    {
     "data": {
      "text/html": [
       "<div>\n",
       "<style scoped>\n",
       "    .dataframe tbody tr th:only-of-type {\n",
       "        vertical-align: middle;\n",
       "    }\n",
       "\n",
       "    .dataframe tbody tr th {\n",
       "        vertical-align: top;\n",
       "    }\n",
       "\n",
       "    .dataframe thead th {\n",
       "        text-align: right;\n",
       "    }\n",
       "</style>\n",
       "<table border=\"1\" class=\"dataframe\">\n",
       "  <thead>\n",
       "    <tr style=\"text-align: right;\">\n",
       "      <th></th>\n",
       "      <th>team</th>\n",
       "      <th>teams_ids</th>\n",
       "      <th>country</th>\n",
       "      <th>city</th>\n",
       "    </tr>\n",
       "  </thead>\n",
       "  <tbody>\n",
       "    <tr>\n",
       "      <th>0</th>\n",
       "      <td>1. FC Saarbrücken</td>\n",
       "      <td>8086</td>\n",
       "      <td>Germany</td>\n",
       "      <td>Saarbrücken</td>\n",
       "    </tr>\n",
       "    <tr>\n",
       "      <th>1</th>\n",
       "      <td>12 de Octubre</td>\n",
       "      <td>15355</td>\n",
       "      <td>Paraguay</td>\n",
       "      <td>Itauguá</td>\n",
       "    </tr>\n",
       "    <tr>\n",
       "      <th>2</th>\n",
       "      <td>3 de Febrero</td>\n",
       "      <td>8778</td>\n",
       "      <td>Paraguay</td>\n",
       "      <td>Alto Paraná</td>\n",
       "    </tr>\n",
       "    <tr>\n",
       "      <th>3</th>\n",
       "      <td>AS Aïn M'lila</td>\n",
       "      <td>13337</td>\n",
       "      <td>Algeria</td>\n",
       "      <td>Aïn M'lila</td>\n",
       "    </tr>\n",
       "    <tr>\n",
       "      <th>4</th>\n",
       "      <td>AS Viterbese Castrense</td>\n",
       "      <td>10889</td>\n",
       "      <td>Italy</td>\n",
       "      <td>Viterbo</td>\n",
       "    </tr>\n",
       "    <tr>\n",
       "      <th>...</th>\n",
       "      <td>...</td>\n",
       "      <td>...</td>\n",
       "      <td>...</td>\n",
       "      <td>...</td>\n",
       "    </tr>\n",
       "    <tr>\n",
       "      <th>2820</th>\n",
       "      <td>Yokohama</td>\n",
       "      <td>None</td>\n",
       "      <td>Japan</td>\n",
       "      <td>Yokohama</td>\n",
       "    </tr>\n",
       "    <tr>\n",
       "      <th>2821</th>\n",
       "      <td>Yokohama F. Marinos</td>\n",
       "      <td>None</td>\n",
       "      <td>Japan</td>\n",
       "      <td>Yokohama</td>\n",
       "    </tr>\n",
       "    <tr>\n",
       "      <th>2822</th>\n",
       "      <td>Young Africans</td>\n",
       "      <td>None</td>\n",
       "      <td>Tanzania</td>\n",
       "      <td>Dar-es-Salaam</td>\n",
       "    </tr>\n",
       "    <tr>\n",
       "      <th>2823</th>\n",
       "      <td>Young Boys</td>\n",
       "      <td>None</td>\n",
       "      <td>Switzerland</td>\n",
       "      <td>Bern</td>\n",
       "    </tr>\n",
       "    <tr>\n",
       "      <th>2824</th>\n",
       "      <td>Young Buffaloes</td>\n",
       "      <td>None</td>\n",
       "      <td>Swaziland</td>\n",
       "      <td>Manzini</td>\n",
       "    </tr>\n",
       "  </tbody>\n",
       "</table>\n",
       "<p>2825 rows × 4 columns</p>\n",
       "</div>"
      ],
      "text/plain": [
       "                        team teams_ids      country           city\n",
       "0          1. FC Saarbrücken      8086      Germany    Saarbrücken\n",
       "1              12 de Octubre     15355     Paraguay        Itauguá\n",
       "2               3 de Febrero      8778     Paraguay    Alto Paraná\n",
       "3              AS Aïn M'lila     13337      Algeria     Aïn M'lila\n",
       "4     AS Viterbese Castrense     10889        Italy        Viterbo\n",
       "...                      ...       ...          ...            ...\n",
       "2820                Yokohama      None        Japan       Yokohama\n",
       "2821     Yokohama F. Marinos      None        Japan       Yokohama\n",
       "2822          Young Africans      None     Tanzania  Dar-es-Salaam\n",
       "2823              Young Boys      None  Switzerland           Bern\n",
       "2824         Young Buffaloes      None    Swaziland        Manzini\n",
       "\n",
       "[2825 rows x 4 columns]"
      ]
     },
     "execution_count": 48,
     "metadata": {},
     "output_type": "execute_result"
    }
   ],
   "source": [
    "df_teams_data"
   ]
  },
  {
   "cell_type": "code",
   "execution_count": 49,
   "metadata": {},
   "outputs": [
    {
     "data": {
      "text/plain": [
       "(4117, 4)"
      ]
     },
     "execution_count": 49,
     "metadata": {},
     "output_type": "execute_result"
    }
   ],
   "source": [
    "df_main = pd.concat([df_teams_data, df_new_main], ignore_index=True)\n",
    "df_main.drop_duplicates(subset=['team', 'country'], inplace=True)\n",
    "df_main.reset_index(drop=True, inplace=True)\n",
    "df_main.shape"
   ]
  },
  {
   "cell_type": "code",
   "execution_count": 52,
   "metadata": {},
   "outputs": [
    {
     "data": {
      "text/plain": [
       "None    1761\n",
       "NaN      313\n",
       "8086       1\n",
       "Name: teams_ids, dtype: int64"
      ]
     },
     "execution_count": 52,
     "metadata": {},
     "output_type": "execute_result"
    }
   ],
   "source": [
    "df_main.teams_ids.value_counts(dropna=False).head(3)"
   ]
  },
  {
   "cell_type": "code",
   "execution_count": 53,
   "metadata": {},
   "outputs": [],
   "source": [
    "# with open('pickle_files/teams_data/df_tmd_created_21_06_22', 'wb') as f:\n",
    "#     pickle.dump(df_main, f)"
   ]
  },
  {
   "cell_type": "code",
   "execution_count": null,
   "metadata": {},
   "outputs": [],
   "source": [
    "# club = 'Vila Nova'\n",
    "# country = 'Brazil'\n",
    "# city = 'Goiania'\n",
    "\n",
    "# new_club = {'club':club, 'club_country':country, 'club_city':city}\n",
    "# new_club = pd.DataFrame([new_club])\n",
    "# print(new_club)\n",
    "# df_for_add = pd.concat([df_for_add, new_club], ignore_index=True)"
   ]
  }
 ],
 "metadata": {
  "kernelspec": {
   "display_name": "Python 3 (ipykernel)",
   "language": "python",
   "name": "python3"
  },
  "language_info": {
   "codemirror_mode": {
    "name": "ipython",
    "version": 3
   },
   "file_extension": ".py",
   "mimetype": "text/x-python",
   "name": "python",
   "nbconvert_exporter": "python",
   "pygments_lexer": "ipython3",
   "version": "3.9.7"
  }
 },
 "nbformat": 4,
 "nbformat_minor": 4
}

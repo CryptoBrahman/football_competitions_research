{
 "cells": [
  {
   "cell_type": "code",
   "execution_count": 70,
   "metadata": {},
   "outputs": [],
   "source": [
    "import pandas as pd\n",
    "import numpy as np\n",
    "import re\n",
    "import unicodedata\n",
    "import pickle"
   ]
  },
  {
   "cell_type": "code",
   "execution_count": 71,
   "metadata": {},
   "outputs": [],
   "source": [
    "pd.set_option('display.max_colwidth', 1000)\n",
    "pd.set_option('display.max_rows', 2000)"
   ]
  },
  {
   "cell_type": "code",
   "execution_count": 72,
   "metadata": {},
   "outputs": [],
   "source": [
    "data = pd.read_table('text_files/football-city-html.txt') "
   ]
  },
  {
   "cell_type": "code",
   "execution_count": 73,
   "metadata": {},
   "outputs": [],
   "source": [
    "df = data.rename(columns={\"</div>\": \"data\"})"
   ]
  },
  {
   "cell_type": "code",
   "execution_count": 74,
   "metadata": {},
   "outputs": [],
   "source": [
    "terms = ['col-sm-6 col-xs-6', 'col-sm-3 hidden-xs', '/modules/images/flags/']"
   ]
  },
  {
   "cell_type": "code",
   "execution_count": 75,
   "metadata": {},
   "outputs": [],
   "source": [
    "df = df[df.data.str.contains('|'.join(terms))] "
   ]
  },
  {
   "cell_type": "code",
   "execution_count": 76,
   "metadata": {},
   "outputs": [],
   "source": [
    "df.drop(index=5, inplace=True)"
   ]
  },
  {
   "cell_type": "code",
   "execution_count": 77,
   "metadata": {},
   "outputs": [
    {
     "data": {
      "text/plain": [
       "(5782, 1)"
      ]
     },
     "execution_count": 77,
     "metadata": {},
     "output_type": "execute_result"
    }
   ],
   "source": [
    "df.shape"
   ]
  },
  {
   "cell_type": "code",
   "execution_count": 78,
   "metadata": {},
   "outputs": [
    {
     "data": {
      "text/html": [
       "<div>\n",
       "<style scoped>\n",
       "    .dataframe tbody tr th:only-of-type {\n",
       "        vertical-align: middle;\n",
       "    }\n",
       "\n",
       "    .dataframe tbody tr th {\n",
       "        vertical-align: top;\n",
       "    }\n",
       "\n",
       "    .dataframe thead th {\n",
       "        text-align: right;\n",
       "    }\n",
       "</style>\n",
       "<table border=\"1\" class=\"dataframe\">\n",
       "  <thead>\n",
       "    <tr style=\"text-align: right;\">\n",
       "      <th></th>\n",
       "      <th>data</th>\n",
       "    </tr>\n",
       "  </thead>\n",
       "  <tbody>\n",
       "    <tr>\n",
       "      <th>13</th>\n",
       "      <td>&lt;div class=\"col-sm-6 col-xs-6\"&gt;&lt;b&gt;AaB&lt;/b&gt;&lt;/div&gt;</td>\n",
       "    </tr>\n",
       "    <tr>\n",
       "      <th>18</th>\n",
       "      <td>&lt;img src=\"/modules/images/flags/_56.png\" alt=\"Denmark\" title=\"Denmark\"&gt;</td>\n",
       "    </tr>\n",
       "    <tr>\n",
       "      <th>20</th>\n",
       "      <td>&lt;div class=\"col-sm-3 hidden-xs\"&gt;Aalborg&lt;/div&gt;</td>\n",
       "    </tr>\n",
       "    <tr>\n",
       "      <th>27</th>\n",
       "      <td>&lt;div class=\"col-sm-6 col-xs-6\"&gt;&lt;b&gt;Aalesund&lt;/b&gt;&lt;/div&gt;</td>\n",
       "    </tr>\n",
       "    <tr>\n",
       "      <th>32</th>\n",
       "      <td>&lt;img src=\"/modules/images/flags/_140.png\" alt=\"Norway\" title=\"Norway\"&gt;</td>\n",
       "    </tr>\n",
       "    <tr>\n",
       "      <th>...</th>\n",
       "      <td>...</td>\n",
       "    </tr>\n",
       "    <tr>\n",
       "      <th>27134</th>\n",
       "      <td>&lt;img src=\"/modules/images/flags/_181.png\" alt=\"Switzerland\" title=\"Switzerland\"&gt;</td>\n",
       "    </tr>\n",
       "    <tr>\n",
       "      <th>27136</th>\n",
       "      <td>&lt;div class=\"col-sm-3 hidden-xs\"&gt;Bern&lt;/div&gt;</td>\n",
       "    </tr>\n",
       "    <tr>\n",
       "      <th>27143</th>\n",
       "      <td>&lt;div class=\"col-sm-6 col-xs-6\"&gt;&lt;b&gt;Young Buffaloes&lt;/b&gt;&lt;/div&gt;</td>\n",
       "    </tr>\n",
       "    <tr>\n",
       "      <th>27148</th>\n",
       "      <td>&lt;img src=\"/modules/images/flags/_179.png\" alt=\"Swaziland\" title=\"Swaziland\"&gt;</td>\n",
       "    </tr>\n",
       "    <tr>\n",
       "      <th>27150</th>\n",
       "      <td>&lt;div class=\"col-sm-3 hidden-xs\"&gt;Manzini&lt;/div&gt;</td>\n",
       "    </tr>\n",
       "  </tbody>\n",
       "</table>\n",
       "<p>5782 rows × 1 columns</p>\n",
       "</div>"
      ],
      "text/plain": [
       "                                                                                   data\n",
       "13                                      <div class=\"col-sm-6 col-xs-6\"><b>AaB</b></div>\n",
       "18              <img src=\"/modules/images/flags/_56.png\" alt=\"Denmark\" title=\"Denmark\">\n",
       "20                                        <div class=\"col-sm-3 hidden-xs\">Aalborg</div>\n",
       "27                                 <div class=\"col-sm-6 col-xs-6\"><b>Aalesund</b></div>\n",
       "32               <img src=\"/modules/images/flags/_140.png\" alt=\"Norway\" title=\"Norway\">\n",
       "...                                                                                 ...\n",
       "27134  <img src=\"/modules/images/flags/_181.png\" alt=\"Switzerland\" title=\"Switzerland\">\n",
       "27136                                        <div class=\"col-sm-3 hidden-xs\">Bern</div>\n",
       "27143                       <div class=\"col-sm-6 col-xs-6\"><b>Young Buffaloes</b></div>\n",
       "27148      <img src=\"/modules/images/flags/_179.png\" alt=\"Swaziland\" title=\"Swaziland\">\n",
       "27150                                     <div class=\"col-sm-3 hidden-xs\">Manzini</div>\n",
       "\n",
       "[5782 rows x 1 columns]"
      ]
     },
     "execution_count": 78,
     "metadata": {},
     "output_type": "execute_result"
    }
   ],
   "source": [
    "df"
   ]
  },
  {
   "cell_type": "code",
   "execution_count": 79,
   "metadata": {},
   "outputs": [],
   "source": [
    "pattern = '|'.join(['<div class=\\\"col-sm-6 col-xs-6\\\"><b>', '<img src=\\\"/modules/images/flags/_', '<div class=\\\"col-sm-3 hidden-xs\\\">', '</b>', '</div>'])"
   ]
  },
  {
   "cell_type": "code",
   "execution_count": 80,
   "metadata": {},
   "outputs": [
    {
     "name": "stderr",
     "output_type": "stream",
     "text": [
      "/tmp/ipykernel_61773/2799521911.py:1: FutureWarning: The default value of regex will change from True to False in a future version.\n",
      "  df.data = df.data.str.replace(pattern, '')\n"
     ]
    }
   ],
   "source": [
    "df.data = df.data.str.replace(pattern, '')"
   ]
  },
  {
   "cell_type": "code",
   "execution_count": 82,
   "metadata": {},
   "outputs": [],
   "source": [
    "def removing_patterns(df: pd.DataFrame, col_names: list, patern: str):\n",
    "    df[col_names].apply(lambda x: str(x) if re.search(pattern, str(x)) is None else re.findall(pattern, str(x)))\n",
    "    return df"
   ]
  },
  {
   "cell_type": "code",
   "execution_count": 83,
   "metadata": {},
   "outputs": [],
   "source": [
    "pattern = r'\\\"[\\s|\\w]+\\\">$'\n",
    "df = removing_patterns(df, list(df), pattern)"
   ]
  },
  {
   "cell_type": "code",
   "execution_count": 85,
   "metadata": {},
   "outputs": [],
   "source": [
    "def find_no_utf_symbols(sr: pd.Series):\n",
    "    find_symols = r'[^.a-zA-Z0-9)(&\"\\s>;<=,-/}{\\']'\n",
    "    rare_symbols = sr.map(lambda x: ''.join(re.findall(find_symols, str(x))))\n",
    "    return rare_symbols"
   ]
  },
  {
   "cell_type": "code",
   "execution_count": 86,
   "metadata": {},
   "outputs": [],
   "source": [
    "rare_symbols = find_no_utf_symbols(df.data)"
   ]
  },
  {
   "cell_type": "code",
   "execution_count": 87,
   "metadata": {},
   "outputs": [
    {
     "data": {
      "text/plain": [
       "\"{'', 'šá', 'í', 'ññ', 'çã', 'šć', 'ö', 'ïé', 'ë', 'āḍ', 'é', 'ñ', 'çğ', 'ă', 'ó', 'Ħ', 'İÖİ', 'ü', 'óę', 'ýáš', 'óó', 'áé', 'žá', 'ěříž', 'îş', 'ãç', 'ä', 'ľý', 'ööö', 'äé', 'ūẓī', 'øø', 'âá', 'íáé', 'æ', 'å', 'ří', 'áň', 'Å', '’éé', 'ęó', 'çë', 'çöüü', 'óú', 'ää', 'É', 'āā', 'ţ', 'ġāī', 'Şüə', 'ď', 'ī', 'šňé', 'íš', 'è', 'éá', 'ø', 'ç', 'ãí', 'šýš', 'Šľ', 'ã', 'á', 'ëë', 'öö', 'žíš', 'ł', 'ā’', 'ï', 'š', 'Łóź', 'Žž', 'şş', 'ážá', 'əəə', 'ź', 'Ñú', 'öð', 'ô', 'łł', 'ū', 'ľ', 'áž', 'Şı', 'ığ', 'éḥ', 'áš', 'íí', 'áá', 'éë', 'íð', 'ýá', 'È', 'ō', 'ééá', 'ýŽ', 'šéá', 'ř', 'ľé', 'ôô', 'łó', 'žň', 'ýí', 'č', 'àộ', 'đ', 'Í', 'áí', 'əə', 'âş', 'º', 'ðæ', 'Ō', 'ış', 'Ž', 'óñ', 'ê', 'î', 'Śś', 'ủầộ', 'ž', 'ıçğ', 'ş', 'öä', 'ġā', 'Š', 'čš', 'óŁę', 'ć', 'éó', 'ı', 'ăă', 'ãã', 'čí', 'ń', 'àò', 'éé', 'ș', 'óã', 'ą', 'ā', 'úí', 'ăăş', 'ʿā', 'Łę', 'áó', 'üü', 'ðø', 'ýŽáš', 'Čč', 'čŠ', 'ė', 'ăăăş', 'óá', '’', 'éšě', 'â', 'õ', 'šáá', 'ň', 'ėž', 'íá', 'à', 'ğ', 'İ', 'ę', 'áŠ', 'ăţ', 'ľč', 'éï', 'ú', 'ëçë', 'çş', 'ží'}\""
      ]
     },
     "execution_count": 87,
     "metadata": {},
     "output_type": "execute_result"
    }
   ],
   "source": [
    "str(set(rare_symbols))"
   ]
  },
  {
   "cell_type": "code",
   "execution_count": 88,
   "metadata": {},
   "outputs": [],
   "source": [
    "all_symbols = []\n",
    "for symbol in rare_symbols:\n",
    "    symbols = ''.join(symbol)\n",
    "    all_symbols.append(symbols)\n",
    "all_symbols = str(all_symbols)\n",
    "all_symbols = ''.join(set(str(all_symbols)))\n",
    "all_symbols = all_symbols.replace(' ', '')\n",
    "all_symbols = all_symbols.replace(']', '')\n",
    "all_symbols = all_symbols.replace('[', '')\n",
    "all_symbols = all_symbols.replace(',', '')\n",
    "all_symbols = all_symbols.replace('\\'', '')"
   ]
  },
  {
   "cell_type": "code",
   "execution_count": 89,
   "metadata": {},
   "outputs": [
    {
     "data": {
      "text/plain": [
       "'íöëéñýăóüĦŞộÑäæåḥÅÉţďīèġøçãáòłïŁšČźôūľěÈōŚřÍčđºŌḍŽêîžşủəẓŠʿćıầńșąśāÖėðň’âõàğİęú'"
      ]
     },
     "execution_count": 89,
     "metadata": {},
     "output_type": "execute_result"
    }
   ],
   "source": [
    "all_symbols"
   ]
  },
  {
   "cell_type": "code",
   "execution_count": 90,
   "metadata": {},
   "outputs": [],
   "source": [
    "pattern_2 = r'^[0-9]+.png'\n",
    "pattern_3 = r'title=\\\"(.+?)\\\"'"
   ]
  },
  {
   "cell_type": "code",
   "execution_count": 91,
   "metadata": {},
   "outputs": [],
   "source": [
    "df = df.data.apply(lambda x: ''.join(re.findall(pattern_3, str(x)) if re.search(pattern_2, str(x)) is not None else x))"
   ]
  },
  {
   "cell_type": "code",
   "execution_count": 92,
   "metadata": {},
   "outputs": [],
   "source": [
    "df = pd.DataFrame(df)"
   ]
  },
  {
   "cell_type": "code",
   "execution_count": 93,
   "metadata": {},
   "outputs": [
    {
     "data": {
      "text/plain": [
       "(5782, 1)"
      ]
     },
     "execution_count": 93,
     "metadata": {},
     "output_type": "execute_result"
    }
   ],
   "source": [
    "df.shape"
   ]
  },
  {
   "cell_type": "code",
   "execution_count": 94,
   "metadata": {},
   "outputs": [
    {
     "data": {
      "text/html": [
       "<div>\n",
       "<style scoped>\n",
       "    .dataframe tbody tr th:only-of-type {\n",
       "        vertical-align: middle;\n",
       "    }\n",
       "\n",
       "    .dataframe tbody tr th {\n",
       "        vertical-align: top;\n",
       "    }\n",
       "\n",
       "    .dataframe thead th {\n",
       "        text-align: right;\n",
       "    }\n",
       "</style>\n",
       "<table border=\"1\" class=\"dataframe\">\n",
       "  <thead>\n",
       "    <tr style=\"text-align: right;\">\n",
       "      <th></th>\n",
       "      <th>data</th>\n",
       "    </tr>\n",
       "  </thead>\n",
       "  <tbody>\n",
       "    <tr>\n",
       "      <th>3067</th>\n",
       "      <td></td>\n",
       "    </tr>\n",
       "  </tbody>\n",
       "</table>\n",
       "</div>"
      ],
      "text/plain": [
       "     data\n",
       "3067     "
      ]
     },
     "execution_count": 94,
     "metadata": {},
     "output_type": "execute_result"
    }
   ],
   "source": [
    "df.iloc[648:649,:]"
   ]
  },
  {
   "cell_type": "code",
   "execution_count": 95,
   "metadata": {},
   "outputs": [],
   "source": [
    "df.data.replace('', np.nan, inplace=True)"
   ]
  },
  {
   "cell_type": "code",
   "execution_count": 96,
   "metadata": {},
   "outputs": [],
   "source": [
    "df.dropna(subset=['data'], inplace=True)"
   ]
  },
  {
   "cell_type": "code",
   "execution_count": 97,
   "metadata": {},
   "outputs": [
    {
     "data": {
      "text/plain": [
       "(5757, 1)"
      ]
     },
     "execution_count": 97,
     "metadata": {},
     "output_type": "execute_result"
    }
   ],
   "source": [
    "df.shape"
   ]
  },
  {
   "cell_type": "code",
   "execution_count": 98,
   "metadata": {},
   "outputs": [],
   "source": [
    "def str_decode(str_obj: str):\n",
    "    normalized = unicodedata.normalize('NFD', str_obj)\n",
    "    decode_str = u\"\".join([c for c in normalized if not unicodedata.combining(c)])\n",
    "    return decode_str"
   ]
  },
  {
   "cell_type": "code",
   "execution_count": 99,
   "metadata": {},
   "outputs": [],
   "source": [
    "df.data = df.data.apply(lambda x: str_decode(x))"
   ]
  },
  {
   "cell_type": "code",
   "execution_count": 44,
   "metadata": {},
   "outputs": [],
   "source": [
    "rare_symbols_keys = {'ł':'l','Ł':'L','º':'','ʿ':'\\'','ə':'e','Ħ':'H','đ':'d','’':'\\'','ı':'i','æ':'a','ð':'d','ø':'o'}\n",
    "\n",
    "def replace_rare_symbols(df: pd.DataFrame, col_name: str, dict_obj: dict):\n",
    "    for k, v in rare_symbols_keys.items():\n",
    "        df[col_name] = df[col_name].apply(lambda x: x.replace(k, v) if re.search(k, str(x)) else x)\n",
    "    return df[col_name]       "
   ]
  },
  {
   "cell_type": "code",
   "execution_count": 45,
   "metadata": {},
   "outputs": [],
   "source": [
    "df.data = replace_rare_symbols(df, 'data', rare_symbols_keys)"
   ]
  },
  {
   "cell_type": "code",
   "execution_count": 100,
   "metadata": {},
   "outputs": [
    {
     "data": {
      "text/html": [
       "<div>\n",
       "<style scoped>\n",
       "    .dataframe tbody tr th:only-of-type {\n",
       "        vertical-align: middle;\n",
       "    }\n",
       "\n",
       "    .dataframe tbody tr th {\n",
       "        vertical-align: top;\n",
       "    }\n",
       "\n",
       "    .dataframe thead th {\n",
       "        text-align: right;\n",
       "    }\n",
       "</style>\n",
       "<table border=\"1\" class=\"dataframe\">\n",
       "  <thead>\n",
       "    <tr style=\"text-align: right;\">\n",
       "      <th></th>\n",
       "      <th>data</th>\n",
       "    </tr>\n",
       "  </thead>\n",
       "  <tbody>\n",
       "    <tr>\n",
       "      <th>13</th>\n",
       "      <td>AaB</td>\n",
       "    </tr>\n",
       "    <tr>\n",
       "      <th>18</th>\n",
       "      <td>Denmark</td>\n",
       "    </tr>\n",
       "    <tr>\n",
       "      <th>20</th>\n",
       "      <td>Aalborg</td>\n",
       "    </tr>\n",
       "  </tbody>\n",
       "</table>\n",
       "</div>"
      ],
      "text/plain": [
       "       data\n",
       "13      AaB\n",
       "18  Denmark\n",
       "20  Aalborg"
      ]
     },
     "execution_count": 100,
     "metadata": {},
     "output_type": "execute_result"
    }
   ],
   "source": [
    "df.head(3)"
   ]
  },
  {
   "cell_type": "code",
   "execution_count": 101,
   "metadata": {},
   "outputs": [],
   "source": [
    "df.reset_index(inplace=True)"
   ]
  },
  {
   "cell_type": "code",
   "execution_count": 102,
   "metadata": {},
   "outputs": [],
   "source": [
    "df.drop('index', axis=1, inplace=True)"
   ]
  },
  {
   "cell_type": "code",
   "execution_count": 103,
   "metadata": {},
   "outputs": [],
   "source": [
    "club, country, city = df[0::3], df[1::3], df[2::3]"
   ]
  },
  {
   "cell_type": "code",
   "execution_count": 104,
   "metadata": {},
   "outputs": [],
   "source": [
    "table_df = pd.concat([club.reset_index(drop=True), country.reset_index(drop=True), city.reset_index(drop=True)], axis=1)"
   ]
  },
  {
   "cell_type": "code",
   "execution_count": 105,
   "metadata": {},
   "outputs": [],
   "source": [
    "table_df.columns.values[0] = \"club\"\n",
    "table_df.columns.values[1] = \"country\"\n",
    "table_df.columns.values[2] = \"city\""
   ]
  },
  {
   "cell_type": "code",
   "execution_count": 106,
   "metadata": {},
   "outputs": [
    {
     "data": {
      "text/plain": [
       "(1919, 3)"
      ]
     },
     "execution_count": 106,
     "metadata": {},
     "output_type": "execute_result"
    }
   ],
   "source": [
    "table_df.shape"
   ]
  },
  {
   "cell_type": "code",
   "execution_count": 107,
   "metadata": {},
   "outputs": [],
   "source": [
    "df = table_df.copy()"
   ]
  },
  {
   "cell_type": "code",
   "execution_count": 108,
   "metadata": {},
   "outputs": [],
   "source": [
    "# take city.values from hooks for transcription\n",
    "df.city = df.city.map(lambda x: ''.join(re.findall(r'\\((.*?)\\)', x)) if re.search(r'\\(', x) else x)"
   ]
  },
  {
   "cell_type": "code",
   "execution_count": 109,
   "metadata": {},
   "outputs": [],
   "source": [
    "# remove Buenos Aires districts\n",
    "buenos_pattern = 'Buenos'\n",
    "df.city = df.city.apply(lambda x: x if re.search(buenos_pattern, str(x)) is None else 'Buenos Aires')"
   ]
  },
  {
   "cell_type": "code",
   "execution_count": 110,
   "metadata": {},
   "outputs": [],
   "source": [
    "# take city.values before '/'\n",
    "df.city = df.city.map(lambda x: ''.join(re.findall(r'^(.*?)/', x)) if re.search(r'\\/', x) else x)"
   ]
  },
  {
   "cell_type": "code",
   "execution_count": 111,
   "metadata": {},
   "outputs": [],
   "source": [
    "# take city.values before ',' without districts\n",
    "df.city = df.city.map(lambda x: ''.join(re.findall(r'^(.*?),', x)) if re.search(r',', x) else x)"
   ]
  },
  {
   "cell_type": "code",
   "execution_count": 112,
   "metadata": {},
   "outputs": [],
   "source": [
    "# rename 'D.F.' at 'Mexico'\n",
    "mexico_pattern = 'D.F.'\n",
    "df.city = df.city.apply(lambda x: x if re.search(mexico_pattern, str(x)) is None else 'Mexico')"
   ]
  },
  {
   "cell_type": "code",
   "execution_count": 113,
   "metadata": {},
   "outputs": [
    {
     "data": {
      "text/html": [
       "<div>\n",
       "<style scoped>\n",
       "    .dataframe tbody tr th:only-of-type {\n",
       "        vertical-align: middle;\n",
       "    }\n",
       "\n",
       "    .dataframe tbody tr th {\n",
       "        vertical-align: top;\n",
       "    }\n",
       "\n",
       "    .dataframe thead th {\n",
       "        text-align: right;\n",
       "    }\n",
       "</style>\n",
       "<table border=\"1\" class=\"dataframe\">\n",
       "  <thead>\n",
       "    <tr style=\"text-align: right;\">\n",
       "      <th></th>\n",
       "      <th>club</th>\n",
       "      <th>country</th>\n",
       "      <th>city</th>\n",
       "    </tr>\n",
       "  </thead>\n",
       "  <tbody>\n",
       "    <tr>\n",
       "      <th>0</th>\n",
       "      <td>AaB</td>\n",
       "      <td>Denmark</td>\n",
       "      <td>Aalborg</td>\n",
       "    </tr>\n",
       "    <tr>\n",
       "      <th>1</th>\n",
       "      <td>Aalesund</td>\n",
       "      <td>Norway</td>\n",
       "      <td>Alesund</td>\n",
       "    </tr>\n",
       "    <tr>\n",
       "      <th>2</th>\n",
       "      <td>Aarau</td>\n",
       "      <td>Switzerland</td>\n",
       "      <td>Aarau</td>\n",
       "    </tr>\n",
       "    <tr>\n",
       "      <th>3</th>\n",
       "      <td>ABC</td>\n",
       "      <td>Brazil</td>\n",
       "      <td>Natal</td>\n",
       "    </tr>\n",
       "    <tr>\n",
       "      <th>4</th>\n",
       "      <td>Aberdeen</td>\n",
       "      <td>Scotland</td>\n",
       "      <td>Aberdeen</td>\n",
       "    </tr>\n",
       "  </tbody>\n",
       "</table>\n",
       "</div>"
      ],
      "text/plain": [
       "       club      country      city\n",
       "0       AaB      Denmark   Aalborg\n",
       "1  Aalesund       Norway   Alesund\n",
       "2     Aarau  Switzerland     Aarau\n",
       "3       ABC       Brazil     Natal\n",
       "4  Aberdeen     Scotland  Aberdeen"
      ]
     },
     "execution_count": 113,
     "metadata": {},
     "output_type": "execute_result"
    }
   ],
   "source": [
    "df.head()"
   ]
  },
  {
   "cell_type": "code",
   "execution_count": 114,
   "metadata": {},
   "outputs": [
    {
     "data": {
      "text/html": [
       "<div>\n",
       "<style scoped>\n",
       "    .dataframe tbody tr th:only-of-type {\n",
       "        vertical-align: middle;\n",
       "    }\n",
       "\n",
       "    .dataframe tbody tr th {\n",
       "        vertical-align: top;\n",
       "    }\n",
       "\n",
       "    .dataframe thead th {\n",
       "        text-align: right;\n",
       "    }\n",
       "</style>\n",
       "<table border=\"1\" class=\"dataframe\">\n",
       "  <thead>\n",
       "    <tr style=\"text-align: right;\">\n",
       "      <th></th>\n",
       "      <th>club</th>\n",
       "      <th>country</th>\n",
       "      <th>city</th>\n",
       "    </tr>\n",
       "  </thead>\n",
       "  <tbody>\n",
       "    <tr>\n",
       "      <th>1914</th>\n",
       "      <td>Yokohama</td>\n",
       "      <td>Japan</td>\n",
       "      <td>Yokohama</td>\n",
       "    </tr>\n",
       "    <tr>\n",
       "      <th>1915</th>\n",
       "      <td>Yokohama F. Marinos</td>\n",
       "      <td>Japan</td>\n",
       "      <td>Yokohama</td>\n",
       "    </tr>\n",
       "    <tr>\n",
       "      <th>1916</th>\n",
       "      <td>Young Africans</td>\n",
       "      <td>Tanzania</td>\n",
       "      <td>Dar-es-Salaam</td>\n",
       "    </tr>\n",
       "    <tr>\n",
       "      <th>1917</th>\n",
       "      <td>Young Boys</td>\n",
       "      <td>Switzerland</td>\n",
       "      <td>Bern</td>\n",
       "    </tr>\n",
       "    <tr>\n",
       "      <th>1918</th>\n",
       "      <td>Young Buffaloes</td>\n",
       "      <td>Swaziland</td>\n",
       "      <td>Manzini</td>\n",
       "    </tr>\n",
       "  </tbody>\n",
       "</table>\n",
       "</div>"
      ],
      "text/plain": [
       "                     club      country           city\n",
       "1914             Yokohama        Japan       Yokohama\n",
       "1915  Yokohama F. Marinos        Japan       Yokohama\n",
       "1916       Young Africans     Tanzania  Dar-es-Salaam\n",
       "1917           Young Boys  Switzerland           Bern\n",
       "1918      Young Buffaloes    Swaziland        Manzini"
      ]
     },
     "execution_count": 114,
     "metadata": {},
     "output_type": "execute_result"
    }
   ],
   "source": [
    "df.tail()"
   ]
  },
  {
   "cell_type": "code",
   "execution_count": 62,
   "metadata": {},
   "outputs": [],
   "source": [
    "# with open('pickle_files/df', 'wb') as f:\n",
    "#     pickle.dump(df, f)"
   ]
  },
  {
   "cell_type": "markdown",
   "metadata": {},
   "source": [
    "### Add teams data"
   ]
  },
  {
   "cell_type": "code",
   "execution_count": 115,
   "metadata": {},
   "outputs": [],
   "source": [
    "# with open('pickle_files/df_teams_data', 'rb') as f:\n",
    "#     df_for_add = pickle.load(f)"
   ]
  },
  {
   "cell_type": "code",
   "execution_count": 65,
   "metadata": {},
   "outputs": [
    {
     "data": {
      "text/plain": [
       "(1919, 3)"
      ]
     },
     "execution_count": 65,
     "metadata": {},
     "output_type": "execute_result"
    }
   ],
   "source": [
    "df_for_add.shape"
   ]
  },
  {
   "cell_type": "code",
   "execution_count": 66,
   "metadata": {},
   "outputs": [
    {
     "name": "stdout",
     "output_type": "stream",
     "text": [
      "        club club_country club_city\n",
      "0  Vila Nova       Brazil   Goiania\n"
     ]
    }
   ],
   "source": [
    "club = 'Vila Nova'\n",
    "country = 'Brazil'\n",
    "city = 'Goiania'\n",
    "\n",
    "new_club = {'club':club, 'club_country':country, 'club_city':city}\n",
    "new_club = pd.DataFrame([new_club])\n",
    "print(new_club)\n",
    "df_for_add = pd.concat([df_for_add, new_club], ignore_index=True)"
   ]
  },
  {
   "cell_type": "code",
   "execution_count": 67,
   "metadata": {},
   "outputs": [
    {
     "data": {
      "text/plain": [
       "(1920, 5)"
      ]
     },
     "execution_count": 67,
     "metadata": {},
     "output_type": "execute_result"
    }
   ],
   "source": [
    "df_for_add.sort_values(by='club', ascending=True, inplace=True)\n",
    "df_for_add.reset_index(drop=True, inplace=True)\n",
    "df_for_add.shape"
   ]
  },
  {
   "cell_type": "code",
   "execution_count": 68,
   "metadata": {},
   "outputs": [
    {
     "data": {
      "text/html": [
       "<div>\n",
       "<style scoped>\n",
       "    .dataframe tbody tr th:only-of-type {\n",
       "        vertical-align: middle;\n",
       "    }\n",
       "\n",
       "    .dataframe tbody tr th {\n",
       "        vertical-align: top;\n",
       "    }\n",
       "\n",
       "    .dataframe thead th {\n",
       "        text-align: right;\n",
       "    }\n",
       "</style>\n",
       "<table border=\"1\" class=\"dataframe\">\n",
       "  <thead>\n",
       "    <tr style=\"text-align: right;\">\n",
       "      <th></th>\n",
       "      <th>club</th>\n",
       "      <th>country</th>\n",
       "      <th>city</th>\n",
       "      <th>club_country</th>\n",
       "      <th>club_city</th>\n",
       "    </tr>\n",
       "  </thead>\n",
       "  <tbody>\n",
       "    <tr>\n",
       "      <th>1828</th>\n",
       "      <td>Vila Nova</td>\n",
       "      <td>NaN</td>\n",
       "      <td>NaN</td>\n",
       "      <td>Brazil</td>\n",
       "      <td>Goiania</td>\n",
       "    </tr>\n",
       "  </tbody>\n",
       "</table>\n",
       "</div>"
      ],
      "text/plain": [
       "           club country city club_country club_city\n",
       "1828  Vila Nova     NaN  NaN       Brazil   Goiania"
      ]
     },
     "execution_count": 68,
     "metadata": {},
     "output_type": "execute_result"
    }
   ],
   "source": [
    "df_for_add[df_for_add.club == club]"
   ]
  },
  {
   "cell_type": "code",
   "execution_count": 69,
   "metadata": {},
   "outputs": [],
   "source": [
    "# with open('pickle_files/df_teams_data', 'wb') as f:\n",
    "#     pickle.dump(df_for_add, f)"
   ]
  }
 ],
 "metadata": {
  "kernelspec": {
   "display_name": "Python 3 (ipykernel)",
   "language": "python",
   "name": "python3"
  },
  "language_info": {
   "codemirror_mode": {
    "name": "ipython",
    "version": 3
   },
   "file_extension": ".py",
   "mimetype": "text/x-python",
   "name": "python",
   "nbconvert_exporter": "python",
   "pygments_lexer": "ipython3",
   "version": "3.9.7"
  }
 },
 "nbformat": 4,
 "nbformat_minor": 4
}

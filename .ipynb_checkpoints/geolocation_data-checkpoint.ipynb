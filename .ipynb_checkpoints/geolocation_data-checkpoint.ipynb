{
 "cells": [
  {
   "cell_type": "code",
   "execution_count": 1,
   "metadata": {},
   "outputs": [],
   "source": [
    "import re\n",
    "import os\n",
    "import pandas as pd\n",
    "import numpy as np\n",
    "import unicodedata\n",
    "import pickle\n",
    "from cities_coordinates import CityCoordinator\n",
    "\n",
    "from _html_parser import HtmlParser, ParsingDataPrepare\n",
    "\n",
    "pd.set_option('display.max_colwidth', 1000)\n",
    "pd.set_option('display.max_columns', 50)\n",
    "pd.set_option('display.max_rows', 50)"
   ]
  },
  {
   "cell_type": "code",
   "execution_count": 2,
   "metadata": {},
   "outputs": [],
   "source": [
    "%load_ext autoreload\n",
    "%autoreload 2"
   ]
  },
  {
   "cell_type": "code",
   "execution_count": 3,
   "metadata": {},
   "outputs": [],
   "source": [
    "df_country_code = pd.read_csv('csv_files/wikipedia-iso-country-codes.csv') "
   ]
  },
  {
   "cell_type": "code",
   "execution_count": 4,
   "metadata": {},
   "outputs": [
    {
     "data": {
      "text/plain": [
       "(246, 5)"
      ]
     },
     "execution_count": 4,
     "metadata": {},
     "output_type": "execute_result"
    }
   ],
   "source": [
    "df_country_code.columns = [x.lower() for x in df_country_code.columns]\n",
    "df_country_code['alpha-2 code'] = df_country_code['alpha-2 code'].map(lambda x: str(x).lower())\n",
    "df_country_code.rename(columns={'english short name lower case':'country', 'alpha-2 code':'iso_code'}, inplace=True)\n",
    "df_country_code.iso_code = df_country_code.iso_code.str.upper()\n",
    "df_country_code.shape"
   ]
  },
  {
   "cell_type": "code",
   "execution_count": 5,
   "metadata": {},
   "outputs": [
    {
     "data": {
      "text/html": [
       "<div>\n",
       "<style scoped>\n",
       "    .dataframe tbody tr th:only-of-type {\n",
       "        vertical-align: middle;\n",
       "    }\n",
       "\n",
       "    .dataframe tbody tr th {\n",
       "        vertical-align: top;\n",
       "    }\n",
       "\n",
       "    .dataframe thead th {\n",
       "        text-align: right;\n",
       "    }\n",
       "</style>\n",
       "<table border=\"1\" class=\"dataframe\">\n",
       "  <thead>\n",
       "    <tr style=\"text-align: right;\">\n",
       "      <th></th>\n",
       "      <th>country</th>\n",
       "      <th>iso_code</th>\n",
       "      <th>alpha-3 code</th>\n",
       "      <th>numeric code</th>\n",
       "      <th>iso 3166-2</th>\n",
       "    </tr>\n",
       "  </thead>\n",
       "  <tbody>\n",
       "    <tr>\n",
       "      <th>0</th>\n",
       "      <td>Afghanistan</td>\n",
       "      <td>AF</td>\n",
       "      <td>AFG</td>\n",
       "      <td>4</td>\n",
       "      <td>ISO 3166-2:AF</td>\n",
       "    </tr>\n",
       "    <tr>\n",
       "      <th>1</th>\n",
       "      <td>Åland Islands</td>\n",
       "      <td>AX</td>\n",
       "      <td>ALA</td>\n",
       "      <td>248</td>\n",
       "      <td>ISO 3166-2:AX</td>\n",
       "    </tr>\n",
       "    <tr>\n",
       "      <th>2</th>\n",
       "      <td>Albania</td>\n",
       "      <td>AL</td>\n",
       "      <td>ALB</td>\n",
       "      <td>8</td>\n",
       "      <td>ISO 3166-2:AL</td>\n",
       "    </tr>\n",
       "  </tbody>\n",
       "</table>\n",
       "</div>"
      ],
      "text/plain": [
       "         country iso_code alpha-3 code  numeric code     iso 3166-2\n",
       "0    Afghanistan       AF          AFG             4  ISO 3166-2:AF\n",
       "1  Åland Islands       AX          ALA           248  ISO 3166-2:AX\n",
       "2        Albania       AL          ALB             8  ISO 3166-2:AL"
      ]
     },
     "execution_count": 5,
     "metadata": {},
     "output_type": "execute_result"
    }
   ],
   "source": [
    "df_country_code.head(3)"
   ]
  },
  {
   "cell_type": "code",
   "execution_count": 6,
   "metadata": {},
   "outputs": [
    {
     "data": {
      "text/html": [
       "<div>\n",
       "<style scoped>\n",
       "    .dataframe tbody tr th:only-of-type {\n",
       "        vertical-align: middle;\n",
       "    }\n",
       "\n",
       "    .dataframe tbody tr th {\n",
       "        vertical-align: top;\n",
       "    }\n",
       "\n",
       "    .dataframe thead th {\n",
       "        text-align: right;\n",
       "    }\n",
       "</style>\n",
       "<table border=\"1\" class=\"dataframe\">\n",
       "  <thead>\n",
       "    <tr style=\"text-align: right;\">\n",
       "      <th></th>\n",
       "      <th>country</th>\n",
       "      <th>iso_code</th>\n",
       "      <th>alpha-3 code</th>\n",
       "      <th>numeric code</th>\n",
       "      <th>iso 3166-2</th>\n",
       "    </tr>\n",
       "  </thead>\n",
       "  <tbody>\n",
       "    <tr>\n",
       "      <th>151</th>\n",
       "      <td>Namibia</td>\n",
       "      <td>NAN</td>\n",
       "      <td>NAM</td>\n",
       "      <td>516</td>\n",
       "      <td>ISO 3166-2:NA</td>\n",
       "    </tr>\n",
       "  </tbody>\n",
       "</table>\n",
       "</div>"
      ],
      "text/plain": [
       "     country iso_code alpha-3 code  numeric code     iso 3166-2\n",
       "151  Namibia      NAN          NAM           516  ISO 3166-2:NA"
      ]
     },
     "execution_count": 6,
     "metadata": {},
     "output_type": "execute_result"
    }
   ],
   "source": [
    "df_country_code[df_country_code.iso_code.isin(['NAN'])]"
   ]
  },
  {
   "cell_type": "code",
   "execution_count": 7,
   "metadata": {},
   "outputs": [],
   "source": [
    "df_country_code.loc[151:151, 'iso_code'] = 'NA'"
   ]
  },
  {
   "cell_type": "code",
   "execution_count": 8,
   "metadata": {},
   "outputs": [
    {
     "data": {
      "text/html": [
       "<div>\n",
       "<style scoped>\n",
       "    .dataframe tbody tr th:only-of-type {\n",
       "        vertical-align: middle;\n",
       "    }\n",
       "\n",
       "    .dataframe tbody tr th {\n",
       "        vertical-align: top;\n",
       "    }\n",
       "\n",
       "    .dataframe thead th {\n",
       "        text-align: right;\n",
       "    }\n",
       "</style>\n",
       "<table border=\"1\" class=\"dataframe\">\n",
       "  <thead>\n",
       "    <tr style=\"text-align: right;\">\n",
       "      <th></th>\n",
       "      <th>country</th>\n",
       "      <th>iso_code</th>\n",
       "      <th>alpha-3 code</th>\n",
       "      <th>numeric code</th>\n",
       "      <th>iso 3166-2</th>\n",
       "    </tr>\n",
       "  </thead>\n",
       "  <tbody>\n",
       "  </tbody>\n",
       "</table>\n",
       "</div>"
      ],
      "text/plain": [
       "Empty DataFrame\n",
       "Columns: [country, iso_code, alpha-3 code, numeric code, iso 3166-2]\n",
       "Index: []"
      ]
     },
     "execution_count": 8,
     "metadata": {},
     "output_type": "execute_result"
    }
   ],
   "source": [
    "df_country_code[df_country_code.country.isin(['England', 'Northern Ireland', 'Scotland', 'Wales'])]"
   ]
  },
  {
   "cell_type": "code",
   "execution_count": 9,
   "metadata": {},
   "outputs": [],
   "source": [
    "with open('pickle_files/cities_countries/cities_data_26_05_2022/df_for_geo_coords_26_05_2022_sec', 'rb') as f:\n",
    "    df_for_coords = pickle.load(f)"
   ]
  },
  {
   "cell_type": "markdown",
   "metadata": {},
   "source": [
    "#### Remove some countries"
   ]
  },
  {
   "cell_type": "code",
   "execution_count": 10,
   "metadata": {},
   "outputs": [
    {
     "name": "stdout",
     "output_type": "stream",
     "text": [
      "shape -  25697\n",
      "shape -  25044\n"
     ]
    }
   ],
   "source": [
    "# Remove USA country because many cities have twice locations in different states, 'Republic of Kosovo' - doesn't have iso_code, 'Syria' - not sure at game's location\n",
    "print('shape - ', df_for_coords.shape[0])\n",
    "df_for_coords = df_for_coords[~df_for_coords.country.isin(['USA', 'Republic of Kosovo', 'Syria'])].copy()\n",
    "print('shape - ', df_for_coords.shape[0])"
   ]
  },
  {
   "cell_type": "code",
   "execution_count": 11,
   "metadata": {},
   "outputs": [],
   "source": [
    "#  For teams dataframe appoint iso_code:\n",
    "# ['England', 'Wales', 'Scotland', 'Northern Ireland'] - 'GB'\n",
    "\n",
    "# For world cities dataframe renames countries:\n",
    "# 'Tanzania, United Republic of' - Tanzania, 'Moldova, Republic of' - 'Moldova',\n",
    "# 'Congo, the Democratic Republic of the' - 'Congo DR', 'United States Of America' - 'USA', 'Syrian Arab Republic' - 'Syria',\n",
    "# 'China' - 'China PR', 'Korea, Republic of (South Korea) - 'Korea Republic', 'Macedonia, the former Yugoslav Republic of' - 'FYR Macedonia', \n",
    "# 'Bosnia and Herzegovina' - 'Bosnia-Herzegovina', 'Ireland' - 'Republic of Ireland', 'Libyan Arab Jamahiriya' - 'Libya', \n",
    "# 'Côte d'Ivoire' - 'Ivory Coast'"
   ]
  },
  {
   "cell_type": "code",
   "execution_count": 12,
   "metadata": {},
   "outputs": [],
   "source": [
    "countries_chng = {'Tanzania, United Republic of':'Tanzania', 'Moldova, Republic of':'Moldova',\n",
    "                  'Congo, the Democratic Republic of the':'Congo DR', 'United States Of America':'USA', 'Syrian Arab Republic':'Syria',\n",
    "                  'China':'China PR', 'Korea, Republic of (South Korea)':'Korea Republic', 'Macedonia, the former Yugoslav Republic of':'FYR Macedonia', \n",
    "                  'Bosnia and Herzegovina':'Bosnia-Herzegovina', 'Ireland':'Republic of Ireland', 'Libyan Arab Jamahiriya':'Libya',\n",
    "                  'Côte d\\'Ivoire':'Ivory Coast', 'Brunei Darussalam':'Brunei'}"
   ]
  },
  {
   "cell_type": "code",
   "execution_count": 13,
   "metadata": {},
   "outputs": [],
   "source": [
    "df_country_code.country = df_country_code.country.map(lambda x: countries_chng[x] if x in countries_chng.keys() else x)"
   ]
  },
  {
   "cell_type": "code",
   "execution_count": 14,
   "metadata": {},
   "outputs": [
    {
     "data": {
      "text/plain": [
       "(25044, 21)"
      ]
     },
     "execution_count": 14,
     "metadata": {},
     "output_type": "execute_result"
    }
   ],
   "source": [
    "df_for_coords = df_for_coords.merge(df_country_code[['country', 'iso_code']], how='left', left_on=['country'], right_on=['country'])\n",
    "df_for_coords.shape"
   ]
  },
  {
   "cell_type": "code",
   "execution_count": 15,
   "metadata": {},
   "outputs": [
    {
     "data": {
      "text/plain": [
       "array(['England', 'Scotland', 'Northern Ireland', 'Wales'], dtype=object)"
      ]
     },
     "execution_count": 15,
     "metadata": {},
     "output_type": "execute_result"
    }
   ],
   "source": [
    "df_for_coords[~df_for_coords.country.isin(df_country_code.country.unique())].country.unique()"
   ]
  },
  {
   "cell_type": "code",
   "execution_count": 16,
   "metadata": {},
   "outputs": [],
   "source": [
    "british_list           = ['England', 'Northern Ireland', 'Scotland', 'Wales']\n",
    "df_for_coords.iso_code = df_for_coords[['country', 'iso_code']].apply(lambda x: 'GB' if x[0] in british_list else x[1], axis=1)"
   ]
  },
  {
   "cell_type": "code",
   "execution_count": 17,
   "metadata": {},
   "outputs": [
    {
     "data": {
      "text/plain": [
       "array([], shape=(0, 21), dtype=object)"
      ]
     },
     "execution_count": 17,
     "metadata": {},
     "output_type": "execute_result"
    }
   ],
   "source": [
    "df_for_coords[df_for_coords.iso_code.isna()].values"
   ]
  },
  {
   "cell_type": "code",
   "execution_count": 18,
   "metadata": {},
   "outputs": [
    {
     "data": {
      "text/html": [
       "<div>\n",
       "<style scoped>\n",
       "    .dataframe tbody tr th:only-of-type {\n",
       "        vertical-align: middle;\n",
       "    }\n",
       "\n",
       "    .dataframe tbody tr th {\n",
       "        vertical-align: top;\n",
       "    }\n",
       "\n",
       "    .dataframe thead th {\n",
       "        text-align: right;\n",
       "    }\n",
       "</style>\n",
       "<table border=\"1\" class=\"dataframe\">\n",
       "  <thead>\n",
       "    <tr style=\"text-align: right;\">\n",
       "      <th></th>\n",
       "      <th>game_id</th>\n",
       "      <th>ligue_header</th>\n",
       "      <th>comp_id</th>\n",
       "      <th>season_id</th>\n",
       "      <th>game_utc</th>\n",
       "      <th>game_title</th>\n",
       "      <th>goals</th>\n",
       "      <th>ligue</th>\n",
       "      <th>f_team</th>\n",
       "      <th>pos_f</th>\n",
       "      <th>pts_f</th>\n",
       "      <th>pos_s</th>\n",
       "      <th>pts_s</th>\n",
       "      <th>fs_pos_max</th>\n",
       "      <th>fs_pts_max</th>\n",
       "      <th>f_pow</th>\n",
       "      <th>desc</th>\n",
       "      <th>country</th>\n",
       "      <th>team_id</th>\n",
       "      <th>city</th>\n",
       "      <th>iso_code</th>\n",
       "    </tr>\n",
       "  </thead>\n",
       "  <tbody>\n",
       "    <tr>\n",
       "      <th>0</th>\n",
       "      <td>1600750</td>\n",
       "      <td>FNL-2</td>\n",
       "      <td>1147</td>\n",
       "      <td>310</td>\n",
       "      <td>26.05.2022 15:00</td>\n",
       "      <td>Chernomorets Novorossiysk - Druzhba</td>\n",
       "      <td>5:1</td>\n",
       "      <td>thr</td>\n",
       "      <td>Chernomorets Novorossiysk</td>\n",
       "      <td>5.0</td>\n",
       "      <td>60.0</td>\n",
       "      <td>11.0</td>\n",
       "      <td>32.0</td>\n",
       "      <td>5 - 11, 17</td>\n",
       "      <td>60 - 32, 80</td>\n",
       "      <td>Fav</td>\n",
       "      <td>sum_coef_13</td>\n",
       "      <td>Russia</td>\n",
       "      <td>7407</td>\n",
       "      <td>Novorossiysk</td>\n",
       "      <td>RU</td>\n",
       "    </tr>\n",
       "    <tr>\n",
       "      <th>1</th>\n",
       "      <td>1627637</td>\n",
       "      <td>Superliga</td>\n",
       "      <td>447</td>\n",
       "      <td>310</td>\n",
       "      <td>26.05.2022 15:00</td>\n",
       "      <td>Skenderbeu - Teuta Durrës</td>\n",
       "      <td>0:0</td>\n",
       "      <td>thr</td>\n",
       "      <td>Skenderbeu</td>\n",
       "      <td>10.0</td>\n",
       "      <td>26.0</td>\n",
       "      <td>6.0</td>\n",
       "      <td>50.0</td>\n",
       "      <td>10 - 6, 10</td>\n",
       "      <td>26 - 50, 73</td>\n",
       "      <td>Pre</td>\n",
       "      <td>sum_coef_13</td>\n",
       "      <td>Albania</td>\n",
       "      <td>734</td>\n",
       "      <td>Korçë</td>\n",
       "      <td>AL</td>\n",
       "    </tr>\n",
       "    <tr>\n",
       "      <th>2</th>\n",
       "      <td>1627640</td>\n",
       "      <td>Superliga</td>\n",
       "      <td>447</td>\n",
       "      <td>310</td>\n",
       "      <td>26.05.2022 15:00</td>\n",
       "      <td>Tirana - Kukësi</td>\n",
       "      <td>2:3</td>\n",
       "      <td>thr</td>\n",
       "      <td>Tirana</td>\n",
       "      <td>1.0</td>\n",
       "      <td>73.0</td>\n",
       "      <td>4.0</td>\n",
       "      <td>55.0</td>\n",
       "      <td>1 - 4, 10</td>\n",
       "      <td>73 - 55, 73</td>\n",
       "      <td>Fav</td>\n",
       "      <td>sum_coef_13</td>\n",
       "      <td>Albania</td>\n",
       "      <td>None</td>\n",
       "      <td>Tirana</td>\n",
       "      <td>AL</td>\n",
       "    </tr>\n",
       "  </tbody>\n",
       "</table>\n",
       "</div>"
      ],
      "text/plain": [
       "   game_id ligue_header comp_id season_id          game_utc  \\\n",
       "0  1600750        FNL-2    1147       310  26.05.2022 15:00   \n",
       "1  1627637    Superliga     447       310  26.05.2022 15:00   \n",
       "2  1627640    Superliga     447       310  26.05.2022 15:00   \n",
       "\n",
       "                            game_title goals ligue                     f_team  \\\n",
       "0  Chernomorets Novorossiysk - Druzhba   5:1   thr  Chernomorets Novorossiysk   \n",
       "1            Skenderbeu - Teuta Durrës   0:0   thr                 Skenderbeu   \n",
       "2                      Tirana - Kukësi   2:3   thr                     Tirana   \n",
       "\n",
       "   pos_f  pts_f  pos_s  pts_s  fs_pos_max   fs_pts_max f_pow         desc  \\\n",
       "0    5.0   60.0   11.0   32.0  5 - 11, 17  60 - 32, 80   Fav  sum_coef_13   \n",
       "1   10.0   26.0    6.0   50.0  10 - 6, 10  26 - 50, 73   Pre  sum_coef_13   \n",
       "2    1.0   73.0    4.0   55.0   1 - 4, 10  73 - 55, 73   Fav  sum_coef_13   \n",
       "\n",
       "   country team_id          city iso_code  \n",
       "0   Russia    7407  Novorossiysk       RU  \n",
       "1  Albania     734         Korçë       AL  \n",
       "2  Albania    None        Tirana       AL  "
      ]
     },
     "execution_count": 18,
     "metadata": {},
     "output_type": "execute_result"
    }
   ],
   "source": [
    "df_for_coords.head(3)"
   ]
  },
  {
   "cell_type": "markdown",
   "metadata": {},
   "source": [
    "#### Check last file version"
   ]
  },
  {
   "cell_type": "code",
   "execution_count": 22,
   "metadata": {},
   "outputs": [],
   "source": [
    "with open('pickle_files/cities_countries/df_uniq_cities_coords_created_18_07_22', 'rb') as f:\n",
    "    df_uniq_cities_coords = pickle.load(f)"
   ]
  },
  {
   "cell_type": "code",
   "execution_count": 23,
   "metadata": {},
   "outputs": [
    {
     "name": "stdout",
     "output_type": "stream",
     "text": [
      "shape -  4951\n"
     ]
    },
    {
     "data": {
      "text/html": [
       "<div>\n",
       "<style scoped>\n",
       "    .dataframe tbody tr th:only-of-type {\n",
       "        vertical-align: middle;\n",
       "    }\n",
       "\n",
       "    .dataframe tbody tr th {\n",
       "        vertical-align: top;\n",
       "    }\n",
       "\n",
       "    .dataframe thead th {\n",
       "        text-align: right;\n",
       "    }\n",
       "</style>\n",
       "<table border=\"1\" class=\"dataframe\">\n",
       "  <thead>\n",
       "    <tr style=\"text-align: right;\">\n",
       "      <th></th>\n",
       "      <th>city</th>\n",
       "      <th>iso_code</th>\n",
       "      <th>country</th>\n",
       "      <th>longitude</th>\n",
       "      <th>latitude</th>\n",
       "      <th>lat</th>\n",
       "      <th>lon</th>\n",
       "    </tr>\n",
       "  </thead>\n",
       "  <tbody>\n",
       "    <tr>\n",
       "      <th>4948</th>\n",
       "      <td>Laval in western France</td>\n",
       "      <td>FR</td>\n",
       "      <td>France</td>\n",
       "      <td>-0.768900</td>\n",
       "      <td>48.073300</td>\n",
       "      <td>48n4</td>\n",
       "      <td>0w46</td>\n",
       "    </tr>\n",
       "    <tr>\n",
       "      <th>4949</th>\n",
       "      <td>Totness</td>\n",
       "      <td>SR</td>\n",
       "      <td>Suriname</td>\n",
       "      <td>-56.329167</td>\n",
       "      <td>5.877500</td>\n",
       "      <td>5n52</td>\n",
       "      <td>56w19</td>\n",
       "    </tr>\n",
       "    <tr>\n",
       "      <th>4950</th>\n",
       "      <td>Mafeteng</td>\n",
       "      <td>LS</td>\n",
       "      <td>Lesotho</td>\n",
       "      <td>27.250000</td>\n",
       "      <td>-29.816667</td>\n",
       "      <td>29s49</td>\n",
       "      <td>27e15</td>\n",
       "    </tr>\n",
       "  </tbody>\n",
       "</table>\n",
       "</div>"
      ],
      "text/plain": [
       "                         city iso_code   country  longitude   latitude    lat  \\\n",
       "4948  Laval in western France       FR    France  -0.768900  48.073300   48n4   \n",
       "4949                  Totness       SR  Suriname -56.329167   5.877500   5n52   \n",
       "4950                 Mafeteng       LS   Lesotho  27.250000 -29.816667  29s49   \n",
       "\n",
       "        lon  \n",
       "4948   0w46  \n",
       "4949  56w19  \n",
       "4950  27e15  "
      ]
     },
     "execution_count": 23,
     "metadata": {},
     "output_type": "execute_result"
    }
   ],
   "source": [
    "print('shape - ', df_uniq_cities_coords.shape[0])\n",
    "df_uniq_cities_coords.tail(3)"
   ]
  },
  {
   "cell_type": "code",
   "execution_count": 24,
   "metadata": {},
   "outputs": [
    {
     "name": "stdout",
     "output_type": "stream",
     "text": [
      "shape -  25044\n"
     ]
    }
   ],
   "source": [
    "col_names = ['city', 'iso_code', 'country']\n",
    "df_for_coords = df_for_coords.merge(df_uniq_cities_coords, how='left', left_on=col_names, right_on=col_names)\n",
    "print('shape - ', df_for_coords.shape[0])"
   ]
  },
  {
   "cell_type": "code",
   "execution_count": 25,
   "metadata": {},
   "outputs": [
    {
     "data": {
      "text/html": [
       "<div>\n",
       "<style scoped>\n",
       "    .dataframe tbody tr th:only-of-type {\n",
       "        vertical-align: middle;\n",
       "    }\n",
       "\n",
       "    .dataframe tbody tr th {\n",
       "        vertical-align: top;\n",
       "    }\n",
       "\n",
       "    .dataframe thead th {\n",
       "        text-align: right;\n",
       "    }\n",
       "</style>\n",
       "<table border=\"1\" class=\"dataframe\">\n",
       "  <thead>\n",
       "    <tr style=\"text-align: right;\">\n",
       "      <th></th>\n",
       "      <th>game_id</th>\n",
       "      <th>ligue_header</th>\n",
       "      <th>comp_id</th>\n",
       "      <th>season_id</th>\n",
       "      <th>game_utc</th>\n",
       "      <th>game_title</th>\n",
       "      <th>goals</th>\n",
       "      <th>ligue</th>\n",
       "      <th>f_team</th>\n",
       "      <th>pos_f</th>\n",
       "      <th>pts_f</th>\n",
       "      <th>pos_s</th>\n",
       "      <th>pts_s</th>\n",
       "      <th>fs_pos_max</th>\n",
       "      <th>fs_pts_max</th>\n",
       "      <th>f_pow</th>\n",
       "      <th>desc</th>\n",
       "      <th>country</th>\n",
       "      <th>team_id</th>\n",
       "      <th>city</th>\n",
       "      <th>iso_code</th>\n",
       "      <th>longitude</th>\n",
       "      <th>latitude</th>\n",
       "      <th>lat</th>\n",
       "      <th>lon</th>\n",
       "    </tr>\n",
       "  </thead>\n",
       "  <tbody>\n",
       "    <tr>\n",
       "      <th>0</th>\n",
       "      <td>1600750</td>\n",
       "      <td>FNL-2</td>\n",
       "      <td>1147</td>\n",
       "      <td>310</td>\n",
       "      <td>26.05.2022 15:00</td>\n",
       "      <td>Chernomorets Novorossiysk - Druzhba</td>\n",
       "      <td>5:1</td>\n",
       "      <td>thr</td>\n",
       "      <td>Chernomorets Novorossiysk</td>\n",
       "      <td>5.0</td>\n",
       "      <td>60.0</td>\n",
       "      <td>11.0</td>\n",
       "      <td>32.0</td>\n",
       "      <td>5 - 11, 17</td>\n",
       "      <td>60 - 32, 80</td>\n",
       "      <td>Fav</td>\n",
       "      <td>sum_coef_13</td>\n",
       "      <td>Russia</td>\n",
       "      <td>7407</td>\n",
       "      <td>Novorossiysk</td>\n",
       "      <td>RU</td>\n",
       "      <td>37.76752</td>\n",
       "      <td>44.72439</td>\n",
       "      <td>44n43</td>\n",
       "      <td>37e46</td>\n",
       "    </tr>\n",
       "    <tr>\n",
       "      <th>1</th>\n",
       "      <td>1627637</td>\n",
       "      <td>Superliga</td>\n",
       "      <td>447</td>\n",
       "      <td>310</td>\n",
       "      <td>26.05.2022 15:00</td>\n",
       "      <td>Skenderbeu - Teuta Durrës</td>\n",
       "      <td>0:0</td>\n",
       "      <td>thr</td>\n",
       "      <td>Skenderbeu</td>\n",
       "      <td>10.0</td>\n",
       "      <td>26.0</td>\n",
       "      <td>6.0</td>\n",
       "      <td>50.0</td>\n",
       "      <td>10 - 6, 10</td>\n",
       "      <td>26 - 50, 73</td>\n",
       "      <td>Pre</td>\n",
       "      <td>sum_coef_13</td>\n",
       "      <td>Albania</td>\n",
       "      <td>734</td>\n",
       "      <td>Korçë</td>\n",
       "      <td>AL</td>\n",
       "      <td>20.78083</td>\n",
       "      <td>40.61861</td>\n",
       "      <td>40n37</td>\n",
       "      <td>20e46</td>\n",
       "    </tr>\n",
       "    <tr>\n",
       "      <th>2</th>\n",
       "      <td>1627640</td>\n",
       "      <td>Superliga</td>\n",
       "      <td>447</td>\n",
       "      <td>310</td>\n",
       "      <td>26.05.2022 15:00</td>\n",
       "      <td>Tirana - Kukësi</td>\n",
       "      <td>2:3</td>\n",
       "      <td>thr</td>\n",
       "      <td>Tirana</td>\n",
       "      <td>1.0</td>\n",
       "      <td>73.0</td>\n",
       "      <td>4.0</td>\n",
       "      <td>55.0</td>\n",
       "      <td>1 - 4, 10</td>\n",
       "      <td>73 - 55, 73</td>\n",
       "      <td>Fav</td>\n",
       "      <td>sum_coef_13</td>\n",
       "      <td>Albania</td>\n",
       "      <td>None</td>\n",
       "      <td>Tirana</td>\n",
       "      <td>AL</td>\n",
       "      <td>19.81889</td>\n",
       "      <td>41.32750</td>\n",
       "      <td>41n19</td>\n",
       "      <td>19e49</td>\n",
       "    </tr>\n",
       "  </tbody>\n",
       "</table>\n",
       "</div>"
      ],
      "text/plain": [
       "   game_id ligue_header comp_id season_id          game_utc  \\\n",
       "0  1600750        FNL-2    1147       310  26.05.2022 15:00   \n",
       "1  1627637    Superliga     447       310  26.05.2022 15:00   \n",
       "2  1627640    Superliga     447       310  26.05.2022 15:00   \n",
       "\n",
       "                            game_title goals ligue                     f_team  \\\n",
       "0  Chernomorets Novorossiysk - Druzhba   5:1   thr  Chernomorets Novorossiysk   \n",
       "1            Skenderbeu - Teuta Durrës   0:0   thr                 Skenderbeu   \n",
       "2                      Tirana - Kukësi   2:3   thr                     Tirana   \n",
       "\n",
       "   pos_f  pts_f  pos_s  pts_s  fs_pos_max   fs_pts_max f_pow         desc  \\\n",
       "0    5.0   60.0   11.0   32.0  5 - 11, 17  60 - 32, 80   Fav  sum_coef_13   \n",
       "1   10.0   26.0    6.0   50.0  10 - 6, 10  26 - 50, 73   Pre  sum_coef_13   \n",
       "2    1.0   73.0    4.0   55.0   1 - 4, 10  73 - 55, 73   Fav  sum_coef_13   \n",
       "\n",
       "   country team_id          city iso_code  longitude  latitude    lat    lon  \n",
       "0   Russia    7407  Novorossiysk       RU   37.76752  44.72439  44n43  37e46  \n",
       "1  Albania     734         Korçë       AL   20.78083  40.61861  40n37  20e46  \n",
       "2  Albania    None        Tirana       AL   19.81889  41.32750  41n19  19e49  "
      ]
     },
     "execution_count": 25,
     "metadata": {},
     "output_type": "execute_result"
    }
   ],
   "source": [
    "df_for_coords.head(3)"
   ]
  },
  {
   "cell_type": "code",
   "execution_count": 26,
   "metadata": {},
   "outputs": [
    {
     "name": "stdout",
     "output_type": "stream",
     "text": [
      "shape -  25044\n",
      "shape -  22217\n"
     ]
    }
   ],
   "source": [
    "print('shape - ', df_for_coords.shape[0])\n",
    "df_include_coords = df_for_coords[~df_for_coords.longitude.isna()].copy().reset_index(drop=True)\n",
    "print('shape - ', df_include_coords.shape[0])"
   ]
  },
  {
   "cell_type": "code",
   "execution_count": 27,
   "metadata": {},
   "outputs": [
    {
     "name": "stdout",
     "output_type": "stream",
     "text": [
      "shape -  (2827, 25)\n"
     ]
    }
   ],
   "source": [
    "df_wt_coords = df_for_coords[df_for_coords.longitude.isna()].copy().reset_index(drop=True)\n",
    "print('shape - ', df_wt_coords.shape)"
   ]
  },
  {
   "cell_type": "code",
   "execution_count": 28,
   "metadata": {},
   "outputs": [
    {
     "name": "stdout",
     "output_type": "stream",
     "text": [
      "shape -  (992, 3)\n"
     ]
    },
    {
     "data": {
      "text/html": [
       "<div>\n",
       "<style scoped>\n",
       "    .dataframe tbody tr th:only-of-type {\n",
       "        vertical-align: middle;\n",
       "    }\n",
       "\n",
       "    .dataframe tbody tr th {\n",
       "        vertical-align: top;\n",
       "    }\n",
       "\n",
       "    .dataframe thead th {\n",
       "        text-align: right;\n",
       "    }\n",
       "</style>\n",
       "<table border=\"1\" class=\"dataframe\">\n",
       "  <thead>\n",
       "    <tr style=\"text-align: right;\">\n",
       "      <th></th>\n",
       "      <th>city</th>\n",
       "      <th>iso_code</th>\n",
       "      <th>country</th>\n",
       "    </tr>\n",
       "  </thead>\n",
       "  <tbody>\n",
       "    <tr>\n",
       "      <th>0</th>\n",
       "      <td>A Estrada</td>\n",
       "      <td>ES</td>\n",
       "      <td>Spain</td>\n",
       "    </tr>\n",
       "    <tr>\n",
       "      <th>1</th>\n",
       "      <td>Abobo</td>\n",
       "      <td>CI</td>\n",
       "      <td>Ivory Coast</td>\n",
       "    </tr>\n",
       "    <tr>\n",
       "      <th>2</th>\n",
       "      <td>Abu Halifa</td>\n",
       "      <td>KW</td>\n",
       "      <td>Kuwait</td>\n",
       "    </tr>\n",
       "  </tbody>\n",
       "</table>\n",
       "</div>"
      ],
      "text/plain": [
       "         city iso_code      country\n",
       "0   A Estrada       ES        Spain\n",
       "1       Abobo       CI  Ivory Coast\n",
       "2  Abu Halifa       KW       Kuwait"
      ]
     },
     "execution_count": 28,
     "metadata": {},
     "output_type": "execute_result"
    }
   ],
   "source": [
    "df_uniq_city_wt_coords = df_wt_coords[['country', 'city', 'iso_code']].groupby(by=['city', 'iso_code']).first().reset_index()\n",
    "print('shape - ', df_uniq_city_wt_coords.shape)\n",
    "df_uniq_city_wt_coords.head(3)"
   ]
  },
  {
   "cell_type": "code",
   "execution_count": 29,
   "metadata": {},
   "outputs": [
    {
     "data": {
      "text/html": [
       "<div>\n",
       "<style scoped>\n",
       "    .dataframe tbody tr th:only-of-type {\n",
       "        vertical-align: middle;\n",
       "    }\n",
       "\n",
       "    .dataframe tbody tr th {\n",
       "        vertical-align: top;\n",
       "    }\n",
       "\n",
       "    .dataframe thead th {\n",
       "        text-align: right;\n",
       "    }\n",
       "</style>\n",
       "<table border=\"1\" class=\"dataframe\">\n",
       "  <thead>\n",
       "    <tr style=\"text-align: right;\">\n",
       "      <th></th>\n",
       "      <th>city</th>\n",
       "      <th>iso_code</th>\n",
       "      <th>country</th>\n",
       "    </tr>\n",
       "  </thead>\n",
       "  <tbody>\n",
       "  </tbody>\n",
       "</table>\n",
       "</div>"
      ],
      "text/plain": [
       "Empty DataFrame\n",
       "Columns: [city, iso_code, country]\n",
       "Index: []"
      ]
     },
     "execution_count": 29,
     "metadata": {},
     "output_type": "execute_result"
    }
   ],
   "source": [
    "df_uniq_city_wt_coords[df_uniq_city_wt_coords.duplicated(subset=['city', 'iso_code'])]"
   ]
  },
  {
   "cell_type": "markdown",
   "metadata": {},
   "source": [
    "#### Get first geo coordinates from CityCoordinator()"
   ]
  },
  {
   "cell_type": "code",
   "execution_count": 30,
   "metadata": {},
   "outputs": [],
   "source": [
    "# labrary example\n",
    "c = CityCoordinator()\n",
    "# c.get_city(city_name=\"London\", country_code_iso=\"GB\")"
   ]
  },
  {
   "cell_type": "code",
   "execution_count": 31,
   "metadata": {},
   "outputs": [
    {
     "data": {
      "text/plain": [
       "ES    70\n",
       "DE    70\n",
       "GB    63\n",
       "IT    62\n",
       "AT    38\n",
       "      ..\n",
       "GN     1\n",
       "GR     1\n",
       "KW     1\n",
       "CN     1\n",
       "IE     1\n",
       "Name: iso_code, Length: 96, dtype: int64"
      ]
     },
     "execution_count": 31,
     "metadata": {},
     "output_type": "execute_result"
    }
   ],
   "source": [
    "df_uniq_city_wt_coords.iso_code.value_counts(dropna=False)"
   ]
  },
  {
   "cell_type": "code",
   "execution_count": 32,
   "metadata": {},
   "outputs": [],
   "source": [
    "df_for_loc = df_uniq_city_wt_coords[['city', 'iso_code']].apply(lambda x: c.get_city(city_name=x[0], country_code_iso=x[1]), axis=1)"
   ]
  },
  {
   "cell_type": "code",
   "execution_count": 33,
   "metadata": {},
   "outputs": [
    {
     "data": {
      "text/plain": [
       "0            {'country_iso_code': 'ES', 'city_name': 'A Estrada', 'location': {'lon': '-8.48842', 'lat': '42.68911'}}\n",
       "1                  {'country_iso_code': 'CI', 'city_name': 'Abobo', 'location': {'lon': '-4.0159', 'lat': '5.41613'}}\n",
       "2                                                                                                                None\n",
       "3             {'country_iso_code': 'ES', 'city_name': 'Aceuchal', 'location': {'lon': '-6.48636', 'lat': '38.64627'}}\n",
       "4                {'country_iso_code': 'DE', 'city_name': 'Achern', 'location': {'lon': '8.07607', 'lat': '48.63115'}}\n",
       "                                                            ...                                                      \n",
       "987            {'country_iso_code': 'SK', 'city_name': 'Šamorín', 'location': {'lon': '17.30972', 'lat': '48.03015'}}\n",
       "988    {'country_iso_code': 'SI', 'city_name': 'Šmartno ob Paki', 'location': {'lon': '15.03333', 'lat': '46.33333'}}\n",
       "989         {'country_iso_code': 'CZ', 'city_name': 'Štěchovice', 'location': {'lon': '14.40543', 'lat': '49.85109'}}\n",
       "990             {'country_iso_code': 'MT', 'city_name': 'Żebbuġ', 'location': {'lon': '14.23583', 'lat': '36.07222'}}\n",
       "991                                                                                                              None\n",
       "Length: 992, dtype: object"
      ]
     },
     "execution_count": 33,
     "metadata": {},
     "output_type": "execute_result"
    }
   ],
   "source": [
    "df_for_loc"
   ]
  },
  {
   "cell_type": "code",
   "execution_count": 34,
   "metadata": {},
   "outputs": [],
   "source": [
    "location  = [x['location'] if x != None else None for x in df_for_loc]\n",
    "longitude = [x['lon'] if x != None else None for x in location]\n",
    "latitude  = [x['lat'] if x != None else None for x in location]"
   ]
  },
  {
   "cell_type": "code",
   "execution_count": 35,
   "metadata": {},
   "outputs": [],
   "source": [
    "df_uniq_city_wt_coords['longitude'] = longitude\n",
    "df_uniq_city_wt_coords['latitude']  = latitude"
   ]
  },
  {
   "cell_type": "code",
   "execution_count": 36,
   "metadata": {},
   "outputs": [
    {
     "name": "stdout",
     "output_type": "stream",
     "text": [
      "shape -  992\n"
     ]
    },
    {
     "data": {
      "text/html": [
       "<div>\n",
       "<style scoped>\n",
       "    .dataframe tbody tr th:only-of-type {\n",
       "        vertical-align: middle;\n",
       "    }\n",
       "\n",
       "    .dataframe tbody tr th {\n",
       "        vertical-align: top;\n",
       "    }\n",
       "\n",
       "    .dataframe thead th {\n",
       "        text-align: right;\n",
       "    }\n",
       "</style>\n",
       "<table border=\"1\" class=\"dataframe\">\n",
       "  <thead>\n",
       "    <tr style=\"text-align: right;\">\n",
       "      <th></th>\n",
       "      <th>city</th>\n",
       "      <th>iso_code</th>\n",
       "      <th>country</th>\n",
       "      <th>longitude</th>\n",
       "      <th>latitude</th>\n",
       "    </tr>\n",
       "  </thead>\n",
       "  <tbody>\n",
       "    <tr>\n",
       "      <th>0</th>\n",
       "      <td>A Estrada</td>\n",
       "      <td>ES</td>\n",
       "      <td>Spain</td>\n",
       "      <td>-8.48842</td>\n",
       "      <td>42.68911</td>\n",
       "    </tr>\n",
       "    <tr>\n",
       "      <th>1</th>\n",
       "      <td>Abobo</td>\n",
       "      <td>CI</td>\n",
       "      <td>Ivory Coast</td>\n",
       "      <td>-4.0159</td>\n",
       "      <td>5.41613</td>\n",
       "    </tr>\n",
       "    <tr>\n",
       "      <th>2</th>\n",
       "      <td>Abu Halifa</td>\n",
       "      <td>KW</td>\n",
       "      <td>Kuwait</td>\n",
       "      <td>None</td>\n",
       "      <td>None</td>\n",
       "    </tr>\n",
       "  </tbody>\n",
       "</table>\n",
       "</div>"
      ],
      "text/plain": [
       "         city iso_code      country longitude  latitude\n",
       "0   A Estrada       ES        Spain  -8.48842  42.68911\n",
       "1       Abobo       CI  Ivory Coast   -4.0159   5.41613\n",
       "2  Abu Halifa       KW       Kuwait      None      None"
      ]
     },
     "execution_count": 36,
     "metadata": {},
     "output_type": "execute_result"
    }
   ],
   "source": [
    "print('shape - ', df_uniq_city_wt_coords.shape[0])\n",
    "df_uniq_city_wt_coords.head(3)"
   ]
  },
  {
   "cell_type": "code",
   "execution_count": 37,
   "metadata": {},
   "outputs": [
    {
     "name": "stdout",
     "output_type": "stream",
     "text": [
      "shape -  712\n"
     ]
    }
   ],
   "source": [
    "df_uniq_city_new = df_uniq_city_wt_coords[~df_uniq_city_wt_coords.longitude.isna()].copy().reset_index(drop=True)\n",
    "print('shape - ', df_uniq_city_new.shape[0])"
   ]
  },
  {
   "cell_type": "code",
   "execution_count": 38,
   "metadata": {},
   "outputs": [
    {
     "name": "stdout",
     "output_type": "stream",
     "text": [
      "shape -  280\n"
     ]
    }
   ],
   "source": [
    "df_city_for_geolocator = df_uniq_city_wt_coords[df_uniq_city_wt_coords.longitude.isna()].copy().reset_index(drop=True)\n",
    "print('shape - ', df_city_for_geolocator.shape[0])"
   ]
  },
  {
   "cell_type": "code",
   "execution_count": 39,
   "metadata": {},
   "outputs": [
    {
     "data": {
      "text/html": [
       "<div>\n",
       "<style scoped>\n",
       "    .dataframe tbody tr th:only-of-type {\n",
       "        vertical-align: middle;\n",
       "    }\n",
       "\n",
       "    .dataframe tbody tr th {\n",
       "        vertical-align: top;\n",
       "    }\n",
       "\n",
       "    .dataframe thead th {\n",
       "        text-align: right;\n",
       "    }\n",
       "</style>\n",
       "<table border=\"1\" class=\"dataframe\">\n",
       "  <thead>\n",
       "    <tr style=\"text-align: right;\">\n",
       "      <th></th>\n",
       "      <th>city</th>\n",
       "      <th>iso_code</th>\n",
       "      <th>country</th>\n",
       "      <th>longitude</th>\n",
       "      <th>latitude</th>\n",
       "    </tr>\n",
       "  </thead>\n",
       "  <tbody>\n",
       "    <tr>\n",
       "      <th>0</th>\n",
       "      <td>Abu Halifa</td>\n",
       "      <td>KW</td>\n",
       "      <td>Kuwait</td>\n",
       "      <td>None</td>\n",
       "      <td>None</td>\n",
       "    </tr>\n",
       "    <tr>\n",
       "      <th>1</th>\n",
       "      <td>Ajdabya</td>\n",
       "      <td>LY</td>\n",
       "      <td>Libya</td>\n",
       "      <td>None</td>\n",
       "      <td>None</td>\n",
       "    </tr>\n",
       "    <tr>\n",
       "      <th>2</th>\n",
       "      <td>Al Bukayriyah</td>\n",
       "      <td>SA</td>\n",
       "      <td>Saudi Arabia</td>\n",
       "      <td>None</td>\n",
       "      <td>None</td>\n",
       "    </tr>\n",
       "  </tbody>\n",
       "</table>\n",
       "</div>"
      ],
      "text/plain": [
       "            city iso_code       country longitude latitude\n",
       "0     Abu Halifa       KW        Kuwait      None     None\n",
       "1        Ajdabya       LY         Libya      None     None\n",
       "2  Al Bukayriyah       SA  Saudi Arabia      None     None"
      ]
     },
     "execution_count": 39,
     "metadata": {},
     "output_type": "execute_result"
    }
   ],
   "source": [
    "df_city_for_geolocator.head(3)"
   ]
  },
  {
   "cell_type": "code",
   "execution_count": 40,
   "metadata": {},
   "outputs": [],
   "source": [
    "cities_countries = list(df_city_for_geolocator[['city', 'country']].apply(lambda x: (x[0], x[1]), axis=1))"
   ]
  },
  {
   "cell_type": "code",
   "execution_count": 41,
   "metadata": {},
   "outputs": [
    {
     "data": {
      "text/plain": [
       "[('Čonoplja', 'Serbia'),\n",
       " ('Śląsk Wrocław', 'Poland'),\n",
       " ('Županja in Slavonia', 'Croatia')]"
      ]
     },
     "execution_count": 41,
     "metadata": {},
     "output_type": "execute_result"
    }
   ],
   "source": [
    "cities_countries[-3:]"
   ]
  },
  {
   "cell_type": "markdown",
   "metadata": {},
   "source": [
    "#### Parsing coords from geolocator"
   ]
  },
  {
   "cell_type": "code",
   "execution_count": 42,
   "metadata": {},
   "outputs": [],
   "source": [
    "for i, city in enumerate(cities_countries):\n",
    "    if city[0] == 'Ciudad de Florida':\n",
    "        print(i, city)"
   ]
  },
  {
   "cell_type": "code",
   "execution_count": 43,
   "metadata": {},
   "outputs": [
    {
     "data": {
      "text/plain": [
       "[('Abu Halifa', 'Kuwait'), ('Ajdabya', 'Libya')]"
      ]
     },
     "execution_count": 43,
     "metadata": {},
     "output_type": "execute_result"
    }
   ],
   "source": [
    "cities_countries[:2] "
   ]
  },
  {
   "cell_type": "markdown",
   "metadata": {},
   "source": [
    "#### Fix errors in the cities or countries names during parsing:\n",
    "##### GeocoderUnavailable: Max retries exceeded with url: /search?q=the+city+Odense%2CDenmark"
   ]
  },
  {
   "cell_type": "code",
   "execution_count": 46,
   "metadata": {},
   "outputs": [],
   "source": [
    "for x, y in enumerate(cities_countries[:]):\n",
    "    if y[0] == 'the city Odense':\n",
    "        print(x, y)"
   ]
  },
  {
   "cell_type": "code",
   "execution_count": 47,
   "metadata": {},
   "outputs": [],
   "source": [
    "# cities_countries[273] = ('Odense', 'Denmark')"
   ]
  },
  {
   "cell_type": "code",
   "execution_count": null,
   "metadata": {},
   "outputs": [],
   "source": [
    "# HtmlParser.cities_data_with_geocoordinates(cities_countries[201:], name_saved_file='cities_data_26_05_2022')\n",
    "# All cities data saved with last names: ('Žižkov', 'Czech Republic')"
   ]
  },
  {
   "cell_type": "code",
   "execution_count": null,
   "metadata": {},
   "outputs": [],
   "source": [
    "## If parser save data in one file start this open file code and don't use remainder_data.\n",
    "# with open('pickle_files/cities_countries/cities_data_26_03_2021_Selemet_Moldova', 'rb') as f:\n",
    "#     cities_data = pickle.load(f)"
   ]
  },
  {
   "cell_type": "code",
   "execution_count": 48,
   "metadata": {},
   "outputs": [],
   "source": [
    "with open('pickle_files/cities_countries/cities_data_26_05_2022_Pullach_Germany', 'rb') as f:\n",
    "    cities_data_1 = pickle.load(f)"
   ]
  },
  {
   "cell_type": "code",
   "execution_count": 49,
   "metadata": {},
   "outputs": [],
   "source": [
    "with open('pickle_files/cities_countries/cities_data_26_05_2022_Županja in Slavonia_Croatia', 'rb') as f:\n",
    "    cities_data_2 = pickle.load(f)"
   ]
  },
  {
   "cell_type": "code",
   "execution_count": 50,
   "metadata": {},
   "outputs": [],
   "source": [
    "all_cities_data = cities_data_1 + cities_data_2"
   ]
  },
  {
   "cell_type": "code",
   "execution_count": 51,
   "metadata": {},
   "outputs": [
    {
     "data": {
      "text/plain": [
       "280"
      ]
     },
     "execution_count": 51,
     "metadata": {},
     "output_type": "execute_result"
    }
   ],
   "source": [
    "len(all_cities_data)"
   ]
  },
  {
   "cell_type": "markdown",
   "metadata": {},
   "source": [
    "#### This parser needs to start until len(remainder_data) == 0, if haven't errors"
   ]
  },
  {
   "cell_type": "code",
   "execution_count": null,
   "metadata": {},
   "outputs": [],
   "source": [
    "# path = 'pickle_files/cities_countries/cities_data_26_03_2021/'\n",
    "# all_cities_data = []\n",
    "\n",
    "# for file in os.listdir(path):\n",
    "#     if file.startswith('cities_data'):\n",
    "#         with open(path + file, 'rb') as f:\n",
    "#             cities_data = pickle.load(f)\n",
    "#             all_cities_data = all_cities_data + cities_data"
   ]
  },
  {
   "cell_type": "code",
   "execution_count": 52,
   "metadata": {},
   "outputs": [
    {
     "data": {
      "text/plain": [
       "280"
      ]
     },
     "execution_count": 52,
     "metadata": {},
     "output_type": "execute_result"
    }
   ],
   "source": [
    "len(all_cities_data)"
   ]
  },
  {
   "cell_type": "code",
   "execution_count": 53,
   "metadata": {},
   "outputs": [
    {
     "data": {
      "text/plain": [
       "280"
      ]
     },
     "execution_count": 53,
     "metadata": {},
     "output_type": "execute_result"
    }
   ],
   "source": [
    "all_unique_data = []\n",
    "\n",
    "for city_data in all_cities_data:\n",
    "    if city_data not in all_unique_data:\n",
    "        all_unique_data.append(city_data)\n",
    "\n",
    "len(all_unique_data)        "
   ]
  },
  {
   "cell_type": "code",
   "execution_count": 54,
   "metadata": {},
   "outputs": [
    {
     "data": {
      "text/plain": [
       "0"
      ]
     },
     "execution_count": 54,
     "metadata": {},
     "output_type": "execute_result"
    }
   ],
   "source": [
    "remainder_data = cities_countries.copy()\n",
    "\n",
    "for city_data in all_unique_data:\n",
    "    remainder_data.remove(city_data[0])\n",
    "    \n",
    "len(remainder_data)    "
   ]
  },
  {
   "cell_type": "code",
   "execution_count": 55,
   "metadata": {},
   "outputs": [
    {
     "data": {
      "text/plain": [
       "[]"
      ]
     },
     "execution_count": 55,
     "metadata": {},
     "output_type": "execute_result"
    }
   ],
   "source": [
    "remainder_data"
   ]
  },
  {
   "cell_type": "code",
   "execution_count": null,
   "metadata": {},
   "outputs": [],
   "source": [
    "# HtmlParser.cities_data_with_geocoordinates(remainder_data, name_saved_file='cities_data_26_03_2021')"
   ]
  },
  {
   "cell_type": "markdown",
   "metadata": {},
   "source": [
    "#### Adding error parser city's name data deleted beefore if need"
   ]
  },
  {
   "cell_type": "code",
   "execution_count": null,
   "metadata": {},
   "outputs": [],
   "source": [
    "# all_unique_data.insert(-1, [('Ciudad de Florida', 'Uruguay'), None])"
   ]
  },
  {
   "cell_type": "code",
   "execution_count": 56,
   "metadata": {},
   "outputs": [],
   "source": [
    "cities_data = all_unique_data.copy()"
   ]
  },
  {
   "cell_type": "code",
   "execution_count": 57,
   "metadata": {},
   "outputs": [
    {
     "data": {
      "text/plain": [
       "280"
      ]
     },
     "execution_count": 57,
     "metadata": {},
     "output_type": "execute_result"
    }
   ],
   "source": [
    "len(cities_data)"
   ]
  },
  {
   "cell_type": "code",
   "execution_count": 58,
   "metadata": {},
   "outputs": [
    {
     "data": {
      "text/plain": [
       "[[('Śląsk Wrocław', 'Poland'),\n",
       "  Location(Kibice Razem Śląsk Wrocław, Szewska, Dzielnica Czterech Wyznań, Osiedle Stare Miasto, Wrocław, województwo dolnośląskie, 50-151, Polska, (51.1107923, 17.0347956, 0.0))],\n",
       " [('Županja in Slavonia', 'Croatia'), None]]"
      ]
     },
     "execution_count": 58,
     "metadata": {},
     "output_type": "execute_result"
    }
   ],
   "source": [
    "cities_data[-2:]"
   ]
  },
  {
   "cell_type": "code",
   "execution_count": 59,
   "metadata": {},
   "outputs": [],
   "source": [
    "list_cities, list_countries, list_data = [], [], []\n",
    "\n",
    "for data in cities_data:\n",
    "    list_cities.append(data[0][0])\n",
    "    list_countries.append(data[0][1])\n",
    "    if data[1] != None:\n",
    "        list_data.append([data[1].latitude, data[1].longitude])\n",
    "    else:\n",
    "        list_data.append([None, None])"
   ]
  },
  {
   "cell_type": "code",
   "execution_count": 60,
   "metadata": {},
   "outputs": [],
   "source": [
    "list_lat = [x[0] for x in list_data]\n",
    "list_lon = [x[1] for x in list_data]"
   ]
  },
  {
   "cell_type": "code",
   "execution_count": 61,
   "metadata": {},
   "outputs": [],
   "source": [
    "df_coord_parsing = pd.DataFrame({'city':list_cities, 'country':list_countries, 'latitude':list_lat, 'longitude':list_lon})"
   ]
  },
  {
   "cell_type": "code",
   "execution_count": 62,
   "metadata": {},
   "outputs": [
    {
     "data": {
      "text/html": [
       "<div>\n",
       "<style scoped>\n",
       "    .dataframe tbody tr th:only-of-type {\n",
       "        vertical-align: middle;\n",
       "    }\n",
       "\n",
       "    .dataframe tbody tr th {\n",
       "        vertical-align: top;\n",
       "    }\n",
       "\n",
       "    .dataframe thead th {\n",
       "        text-align: right;\n",
       "    }\n",
       "</style>\n",
       "<table border=\"1\" class=\"dataframe\">\n",
       "  <thead>\n",
       "    <tr style=\"text-align: right;\">\n",
       "      <th></th>\n",
       "      <th>city</th>\n",
       "      <th>country</th>\n",
       "      <th>latitude</th>\n",
       "      <th>longitude</th>\n",
       "    </tr>\n",
       "  </thead>\n",
       "  <tbody>\n",
       "    <tr>\n",
       "      <th>0</th>\n",
       "      <td>Abu Halifa</td>\n",
       "      <td>Kuwait</td>\n",
       "      <td>29.130114</td>\n",
       "      <td>48.124021</td>\n",
       "    </tr>\n",
       "    <tr>\n",
       "      <th>1</th>\n",
       "      <td>Ajdabya</td>\n",
       "      <td>Libya</td>\n",
       "      <td>30.755004</td>\n",
       "      <td>20.223326</td>\n",
       "    </tr>\n",
       "    <tr>\n",
       "      <th>2</th>\n",
       "      <td>Al Bukayriyah</td>\n",
       "      <td>Saudi Arabia</td>\n",
       "      <td>26.139618</td>\n",
       "      <td>43.657703</td>\n",
       "    </tr>\n",
       "    <tr>\n",
       "      <th>3</th>\n",
       "      <td>Al-Abyar</td>\n",
       "      <td>Libya</td>\n",
       "      <td>32.189645</td>\n",
       "      <td>20.594509</td>\n",
       "    </tr>\n",
       "    <tr>\n",
       "      <th>4</th>\n",
       "      <td>Al-Musannah</td>\n",
       "      <td>Oman</td>\n",
       "      <td>23.739567</td>\n",
       "      <td>57.645387</td>\n",
       "    </tr>\n",
       "    <tr>\n",
       "      <th>...</th>\n",
       "      <td>...</td>\n",
       "      <td>...</td>\n",
       "      <td>...</td>\n",
       "      <td>...</td>\n",
       "    </tr>\n",
       "    <tr>\n",
       "      <th>275</th>\n",
       "      <td>Ñemby in the Central Department</td>\n",
       "      <td>Paraguay</td>\n",
       "      <td>NaN</td>\n",
       "      <td>NaN</td>\n",
       "    </tr>\n",
       "    <tr>\n",
       "      <th>276</th>\n",
       "      <td>Østerbro</td>\n",
       "      <td>Denmark</td>\n",
       "      <td>55.705084</td>\n",
       "      <td>12.582614</td>\n",
       "    </tr>\n",
       "    <tr>\n",
       "      <th>277</th>\n",
       "      <td>Čonoplja</td>\n",
       "      <td>Serbia</td>\n",
       "      <td>45.812126</td>\n",
       "      <td>19.248848</td>\n",
       "    </tr>\n",
       "    <tr>\n",
       "      <th>278</th>\n",
       "      <td>Śląsk Wrocław</td>\n",
       "      <td>Poland</td>\n",
       "      <td>51.110792</td>\n",
       "      <td>17.034796</td>\n",
       "    </tr>\n",
       "    <tr>\n",
       "      <th>279</th>\n",
       "      <td>Županja in Slavonia</td>\n",
       "      <td>Croatia</td>\n",
       "      <td>NaN</td>\n",
       "      <td>NaN</td>\n",
       "    </tr>\n",
       "  </tbody>\n",
       "</table>\n",
       "<p>280 rows × 4 columns</p>\n",
       "</div>"
      ],
      "text/plain": [
       "                                city       country   latitude  longitude\n",
       "0                         Abu Halifa        Kuwait  29.130114  48.124021\n",
       "1                            Ajdabya         Libya  30.755004  20.223326\n",
       "2                      Al Bukayriyah  Saudi Arabia  26.139618  43.657703\n",
       "3                           Al-Abyar         Libya  32.189645  20.594509\n",
       "4                        Al-Musannah          Oman  23.739567  57.645387\n",
       "..                               ...           ...        ...        ...\n",
       "275  Ñemby in the Central Department      Paraguay        NaN        NaN\n",
       "276                         Østerbro       Denmark  55.705084  12.582614\n",
       "277                         Čonoplja        Serbia  45.812126  19.248848\n",
       "278                    Śląsk Wrocław        Poland  51.110792  17.034796\n",
       "279              Županja in Slavonia       Croatia        NaN        NaN\n",
       "\n",
       "[280 rows x 4 columns]"
      ]
     },
     "execution_count": 62,
     "metadata": {},
     "output_type": "execute_result"
    }
   ],
   "source": [
    "df_coord_parsing"
   ]
  },
  {
   "cell_type": "code",
   "execution_count": 68,
   "metadata": {},
   "outputs": [],
   "source": [
    "# df_city_for_geolocator"
   ]
  },
  {
   "cell_type": "code",
   "execution_count": 65,
   "metadata": {},
   "outputs": [
    {
     "name": "stdout",
     "output_type": "stream",
     "text": [
      "shape - df_city_for_geolocator -  280\n",
      "shape - df_coord_parsing       -  280\n"
     ]
    }
   ],
   "source": [
    "print('shape - df_city_for_geolocator - ', df_city_for_geolocator.shape[0])\n",
    "print('shape - df_coord_parsing       - ', df_coord_parsing.shape[0])"
   ]
  },
  {
   "cell_type": "code",
   "execution_count": 66,
   "metadata": {},
   "outputs": [],
   "source": [
    "col_names = ['iso_code', 'city', 'country']\n",
    "df_coord_parsing = df_coord_parsing.merge(df_city_for_geolocator[col_names], how='left', left_on=['city', 'country'], right_on=['city', 'country'])"
   ]
  },
  {
   "cell_type": "code",
   "execution_count": 69,
   "metadata": {},
   "outputs": [
    {
     "name": "stdout",
     "output_type": "stream",
     "text": [
      "shape -  234\n"
     ]
    },
    {
     "data": {
      "text/html": [
       "<div>\n",
       "<style scoped>\n",
       "    .dataframe tbody tr th:only-of-type {\n",
       "        vertical-align: middle;\n",
       "    }\n",
       "\n",
       "    .dataframe tbody tr th {\n",
       "        vertical-align: top;\n",
       "    }\n",
       "\n",
       "    .dataframe thead th {\n",
       "        text-align: right;\n",
       "    }\n",
       "</style>\n",
       "<table border=\"1\" class=\"dataframe\">\n",
       "  <thead>\n",
       "    <tr style=\"text-align: right;\">\n",
       "      <th></th>\n",
       "      <th>city</th>\n",
       "      <th>country</th>\n",
       "      <th>latitude</th>\n",
       "      <th>longitude</th>\n",
       "      <th>iso_code</th>\n",
       "    </tr>\n",
       "  </thead>\n",
       "  <tbody>\n",
       "    <tr>\n",
       "      <th>0</th>\n",
       "      <td>Abu Halifa</td>\n",
       "      <td>Kuwait</td>\n",
       "      <td>29.130114</td>\n",
       "      <td>48.124021</td>\n",
       "      <td>KW</td>\n",
       "    </tr>\n",
       "    <tr>\n",
       "      <th>1</th>\n",
       "      <td>Ajdabya</td>\n",
       "      <td>Libya</td>\n",
       "      <td>30.755004</td>\n",
       "      <td>20.223326</td>\n",
       "      <td>LY</td>\n",
       "    </tr>\n",
       "    <tr>\n",
       "      <th>2</th>\n",
       "      <td>Al Bukayriyah</td>\n",
       "      <td>Saudi Arabia</td>\n",
       "      <td>26.139618</td>\n",
       "      <td>43.657703</td>\n",
       "      <td>SA</td>\n",
       "    </tr>\n",
       "  </tbody>\n",
       "</table>\n",
       "</div>"
      ],
      "text/plain": [
       "            city       country   latitude  longitude iso_code\n",
       "0     Abu Halifa        Kuwait  29.130114  48.124021       KW\n",
       "1        Ajdabya         Libya  30.755004  20.223326       LY\n",
       "2  Al Bukayriyah  Saudi Arabia  26.139618  43.657703       SA"
      ]
     },
     "execution_count": 69,
     "metadata": {},
     "output_type": "execute_result"
    }
   ],
   "source": [
    "df_coord_prs = df_coord_parsing[~df_coord_parsing.latitude.isna()].copy()\n",
    "print('shape - ', df_coord_prs.shape[0])\n",
    "df_coord_prs.head(3)"
   ]
  },
  {
   "cell_type": "code",
   "execution_count": 70,
   "metadata": {},
   "outputs": [
    {
     "name": "stdout",
     "output_type": "stream",
     "text": [
      "shape -  946\n"
     ]
    }
   ],
   "source": [
    "df_uniq_city_new = pd.concat([df_uniq_city_new, df_coord_prs]).reset_index(drop=True)\n",
    "print('shape - ', df_uniq_city_new.shape[0])"
   ]
  },
  {
   "cell_type": "code",
   "execution_count": 71,
   "metadata": {},
   "outputs": [
    {
     "name": "stdout",
     "output_type": "stream",
     "text": [
      "shape -  46\n"
     ]
    }
   ],
   "source": [
    "df_manual_adding = df_coord_parsing[df_coord_parsing.latitude.isna()].copy().reset_index(drop=True)\n",
    "print('shape - ', df_manual_adding.shape[0])"
   ]
  },
  {
   "cell_type": "markdown",
   "metadata": {},
   "source": [
    "#### Format fixing errors in cities names: 'error_name' : 'fixing_name'"
   ]
  },
  {
   "cell_type": "code",
   "execution_count": 73,
   "metadata": {},
   "outputs": [],
   "source": [
    "# df_manual_adding"
   ]
  },
  {
   "cell_type": "markdown",
   "metadata": {},
   "source": [
    "### Manual adding cities coordinates and fixing teams data."
   ]
  },
  {
   "cell_type": "code",
   "execution_count": null,
   "metadata": {},
   "outputs": [],
   "source": [
    "# df_manual_adding.to_csv('csv_files/df_cities_manual_adding_26_05_2022_four.csv', header=True, index=False)"
   ]
  },
  {
   "cell_type": "markdown",
   "metadata": {},
   "source": [
    "#### Latitude North-South, Longitude - East-West"
   ]
  },
  {
   "cell_type": "code",
   "execution_count": 75,
   "metadata": {},
   "outputs": [],
   "source": [
    "# df_wt_coords"
   ]
  },
  {
   "cell_type": "code",
   "execution_count": 255,
   "metadata": {},
   "outputs": [],
   "source": [
    "# Fix some citie's errors names - 'the Eerste divisie', and change it in manual adding file.\n",
    "# Errors countries names or if one city name has multiple teams - need to change manual in 'df_wt_coords' file and don't use ':' in manual adding file.\n",
    "# df_wt_coords[df_wt_coords.city == 'the Eerste divisie']\n",
    "# df_wt_coords[df_wt_coords.f_team == 'Roda']"
   ]
  },
  {
   "cell_type": "markdown",
   "metadata": {},
   "source": [
    "#### Change error country name for some cities and after that change country name and iso_code in df_for_manual:"
   ]
  },
  {
   "cell_type": "code",
   "execution_count": 77,
   "metadata": {},
   "outputs": [],
   "source": [
    "# df_country_code[df_country_code.iso_code == 'BN']"
   ]
  },
  {
   "cell_type": "code",
   "execution_count": 256,
   "metadata": {},
   "outputs": [],
   "source": [
    "# df_country_code[df_country_code.country == 'Lesotho']"
   ]
  },
  {
   "cell_type": "code",
   "execution_count": 153,
   "metadata": {},
   "outputs": [],
   "source": [
    "# df_wt_coords.loc[df_wt_coords[df_wt_coords.city == 'Bandar Seri Begawan'].index, 'country']  = 'Brunei'\n",
    "# df_wt_coords.loc[df_wt_coords[df_wt_coords.city == 'Bandar Seri Begawan'].index, 'iso_code'] = 'BR'\n",
    "# df_wt_coords.loc[df_wt_coords[df_wt_coords.f_team == 'Zebras'].index, 'city'] = 'Warwick Parish'\n",
    "# df_wt_coords.loc[df_wt_coords[df_wt_coords.f_team == 'Al Ittihad'].index, 'country']  = 'Saudi Arabia'\n",
    "# df_wt_coords.loc[df_wt_coords[df_wt_coords.f_team == 'Al Ittihad'].index, 'iso_code'] = 'SA'"
   ]
  },
  {
   "cell_type": "code",
   "execution_count": 79,
   "metadata": {},
   "outputs": [],
   "source": [
    "# file = open('pickle_files/df_wt_coords_before_manual_add_26_03_2021', 'wb')\n",
    "# pickle.dump(df_wt_coords, file)  \n",
    "# file.close()"
   ]
  },
  {
   "cell_type": "markdown",
   "metadata": {},
   "source": [
    "#### Fix team data:"
   ]
  },
  {
   "cell_type": "code",
   "execution_count": 283,
   "metadata": {},
   "outputs": [],
   "source": [
    "# df_teams_data_main\n",
    "with open('pickle_files/teams_data/df_tmd_main_created_22_07_2022', 'rb') as f:\n",
    "    df_teams_data_main = pickle.load(f)"
   ]
  },
  {
   "cell_type": "code",
   "execution_count": 285,
   "metadata": {},
   "outputs": [],
   "source": [
    "# df_teams_data_main.shape"
   ]
  },
  {
   "cell_type": "code",
   "execution_count": 249,
   "metadata": {},
   "outputs": [
    {
     "data": {
      "text/html": [
       "<div>\n",
       "<style scoped>\n",
       "    .dataframe tbody tr th:only-of-type {\n",
       "        vertical-align: middle;\n",
       "    }\n",
       "\n",
       "    .dataframe tbody tr th {\n",
       "        vertical-align: top;\n",
       "    }\n",
       "\n",
       "    .dataframe thead th {\n",
       "        text-align: right;\n",
       "    }\n",
       "</style>\n",
       "<table border=\"1\" class=\"dataframe\">\n",
       "  <thead>\n",
       "    <tr style=\"text-align: right;\">\n",
       "      <th></th>\n",
       "      <th>f_team</th>\n",
       "      <th>team_id</th>\n",
       "      <th>country</th>\n",
       "      <th>city</th>\n",
       "    </tr>\n",
       "  </thead>\n",
       "  <tbody>\n",
       "    <tr>\n",
       "      <th>4119</th>\n",
       "      <td>Drogheda United</td>\n",
       "      <td>7556</td>\n",
       "      <td>Republic of Ireland</td>\n",
       "      <td>the League of Ireland Premier Division</td>\n",
       "    </tr>\n",
       "  </tbody>\n",
       "</table>\n",
       "</div>"
      ],
      "text/plain": [
       "               f_team team_id              country  \\\n",
       "4119  Drogheda United    7556  Republic of Ireland   \n",
       "\n",
       "                                        city  \n",
       "4119  the League of Ireland Premier Division  "
      ]
     },
     "execution_count": 249,
     "metadata": {},
     "output_type": "execute_result"
    }
   ],
   "source": [
    "df_teams_data_main[df_teams_data_main.city == 'the League of Ireland Premier Division']"
   ]
  },
  {
   "cell_type": "code",
   "execution_count": null,
   "metadata": {},
   "outputs": [],
   "source": [
    "# df_teams_data_main.drop([7188], inplace=True)\n",
    "# df_teams_data_main.reset_index(drop=True, inplace=True)"
   ]
  },
  {
   "cell_type": "code",
   "execution_count": null,
   "metadata": {},
   "outputs": [],
   "source": [
    "# df_teams_data_main[df_teams_data_main.team == 'Aigle Noir']"
   ]
  },
  {
   "cell_type": "code",
   "execution_count": 252,
   "metadata": {},
   "outputs": [
    {
     "data": {
      "text/plain": [
       "'Drogheda'"
      ]
     },
     "execution_count": 252,
     "metadata": {},
     "output_type": "execute_result"
    }
   ],
   "source": [
    "df_teams_data_main.loc[4119].city #= 'Drogheda'"
   ]
  },
  {
   "cell_type": "code",
   "execution_count": null,
   "metadata": {},
   "outputs": [],
   "source": [
    "# df_teams_data_main.loc[7201].country #= 'Lesotho'"
   ]
  },
  {
   "cell_type": "code",
   "execution_count": 254,
   "metadata": {},
   "outputs": [],
   "source": [
    "# file = open('pickle_files/df_tmd_main_created_22_07_2022', 'wb')\n",
    "# pickle.dump(df_teams_data_main, file)  \n",
    "# file.close()"
   ]
  },
  {
   "cell_type": "markdown",
   "metadata": {},
   "source": [
    "#### After manual adding"
   ]
  },
  {
   "cell_type": "code",
   "execution_count": 257,
   "metadata": {},
   "outputs": [],
   "source": [
    "df_manual_adding = pd.read_csv('csv_files/df_cities_manual_adding_26_05_2022_four.csv', dtype=str)"
   ]
  },
  {
   "cell_type": "code",
   "execution_count": 258,
   "metadata": {},
   "outputs": [
    {
     "data": {
      "text/html": [
       "<div>\n",
       "<style scoped>\n",
       "    .dataframe tbody tr th:only-of-type {\n",
       "        vertical-align: middle;\n",
       "    }\n",
       "\n",
       "    .dataframe tbody tr th {\n",
       "        vertical-align: top;\n",
       "    }\n",
       "\n",
       "    .dataframe thead th {\n",
       "        text-align: right;\n",
       "    }\n",
       "</style>\n",
       "<table border=\"1\" class=\"dataframe\">\n",
       "  <thead>\n",
       "    <tr style=\"text-align: right;\">\n",
       "      <th></th>\n",
       "      <th>city</th>\n",
       "      <th>country</th>\n",
       "      <th>latitude</th>\n",
       "      <th>longitude</th>\n",
       "      <th>iso_code</th>\n",
       "    </tr>\n",
       "  </thead>\n",
       "  <tbody>\n",
       "    <tr>\n",
       "      <th>0</th>\n",
       "      <td>Al-Qasim City:Al-Qasim</td>\n",
       "      <td>Iraq</td>\n",
       "      <td>32.301389</td>\n",
       "      <td>44.689167</td>\n",
       "      <td>IQ</td>\n",
       "    </tr>\n",
       "    <tr>\n",
       "      <th>1</th>\n",
       "      <td>Albufeira</td>\n",
       "      <td>Spain</td>\n",
       "      <td>37.089722</td>\n",
       "      <td>-8.245833</td>\n",
       "      <td>ES</td>\n",
       "    </tr>\n",
       "    <tr>\n",
       "      <th>2</th>\n",
       "      <td>Arnhem</td>\n",
       "      <td>Burkina Faso</td>\n",
       "      <td>51.983333</td>\n",
       "      <td>5.916667</td>\n",
       "      <td>BF</td>\n",
       "    </tr>\n",
       "  </tbody>\n",
       "</table>\n",
       "</div>"
      ],
      "text/plain": [
       "                     city       country   latitude   longitude iso_code\n",
       "0  Al-Qasim City:Al-Qasim          Iraq  32.301389  44.689167        IQ\n",
       "1               Albufeira         Spain  37.089722  -8.245833        ES\n",
       "2                  Arnhem  Burkina Faso  51.983333   5.916667        BF"
      ]
     },
     "execution_count": 258,
     "metadata": {},
     "output_type": "execute_result"
    }
   ],
   "source": [
    "df_manual_adding.head(3)"
   ]
  },
  {
   "cell_type": "code",
   "execution_count": 259,
   "metadata": {},
   "outputs": [
    {
     "data": {
      "text/plain": [
       "'[\"Al-Qasim City\\':\\'Al-Qasim\", \"Becerril de Campos in the autonomous community of Castile and León\\':\\'Becerril de Campos\", \"Belenenses II\\':\\'Lisbon\", \"Beograde\\':\\'Belgrade\", \"Birmingham\\':\\'Bweyogerere\", \"Botola\\':\\'Zemamra\", \"Botola Pro Inwi\\':\\'Mohammedia\", \"Bunschotenlso\\':\\'Bunschoten\", \"Buzău\\':\\'Vacaria\", \"Cherkassy\\':\\'na\", \"Gwelup in Perth\\':\\' Perth\", \"Hai Ouled Smail\\':\\'Teleghma\", \"Kant\\':\\'Krasnasielski\", \"Karagiannia\\':\\'Kozani\", \"Kerkrade\\':\\'La Roda\", \"Kibungo\\':\\'Troyes\", \"Kolkata\\':\\'Oranjestad\", \"Le Robert\\':\\'na\", \"Linafoot\\':\\'Kindu\", \"Pagranichnaja\\':\\'nd\", \"Paragominas in Pará\\':\\'Paragominas\", \"Saint Petersberg\\':\\'Saint Petersburg\", \"Sekolah Tinggi Ilmu Kepolisian\\':\\'Jakarta\", \"Sfântu Gheorghe\\':\\'Otok\", \"Strassen\\':\\'Veldhoven\", \"Yaypan\\':\\'Turkistan\", \"Zagreb\\':\\'Ljubljana\", \"no determine\\':\\'Bishkek\", \"the Betrideildin\\':\\'Trongisvágur\", \"the Eerste divisie\\':\\'Doetinchem\", \"the League of Ireland Premier Division\\':\\'Drogheda\", \"Ñemby in the Central Department\\':\\'Ñemby\", \"Županja in Slavonia\\':\\'Županja\"]'"
      ]
     },
     "execution_count": 259,
     "metadata": {},
     "output_type": "execute_result"
    }
   ],
   "source": [
    "rename_lst = list(df_manual_adding.city.map(lambda x: x if re.findall(':', str(x)) else None))\n",
    "rename_lst = [x for x in rename_lst if x != None]\n",
    "rename_lst = [re.sub(':', '\\':\\'', x) for x in rename_lst]\n",
    "str(rename_lst)"
   ]
  },
  {
   "cell_type": "code",
   "execution_count": 260,
   "metadata": {},
   "outputs": [],
   "source": [
    "rename_dict = {}\n",
    "keys_vals_lst      = []\n",
    "\n",
    "for x in rename_lst:\n",
    "    keys_vals = x.split('\\':\\'')\n",
    "    keys_vals_lst.append(keys_vals)\n",
    "\n",
    "for key_val in keys_vals_lst:\n",
    "    rename_dict[key_val[0]] = key_val[1]"
   ]
  },
  {
   "cell_type": "markdown",
   "metadata": {},
   "source": [
    "#### Change errors in cities or countries name for df_wt_coords"
   ]
  },
  {
   "cell_type": "code",
   "execution_count": 261,
   "metadata": {},
   "outputs": [
    {
     "data": {
      "text/plain": [
       "\"{'Al-Qasim City': 'Al-Qasim', 'Becerril de Campos in the autonomous community of Castile and León': 'Becerril de Campos', 'Belenenses II': 'Lisbon', 'Beograde': 'Belgrade', 'Birmingham': 'Bweyogerere', 'Botola': 'Zemamra', 'Botola Pro Inwi': 'Mohammedia', 'Bunschotenlso': 'Bunschoten', 'Buzău': 'Vacaria', 'Cherkassy': 'na', 'Gwelup in Perth': ' Perth', 'Hai Ouled Smail': 'Teleghma', 'Kant': 'Krasnasielski', 'Karagiannia': 'Kozani', 'Kerkrade': 'La Roda', 'Kibungo': 'Troyes', 'Kolkata': 'Oranjestad', 'Le Robert': 'na', 'Linafoot': 'Kindu', 'Pagranichnaja': 'nd', 'Paragominas in Pará': 'Paragominas', 'Saint Petersberg': 'Saint Petersburg', 'Sekolah Tinggi Ilmu Kepolisian': 'Jakarta', 'Sfântu Gheorghe': 'Otok', 'Strassen': 'Veldhoven', 'Yaypan': 'Turkistan', 'Zagreb': 'Ljubljana', 'no determine': 'Bishkek', 'the Betrideildin': 'Trongisvágur', 'the Eerste divisie': 'Doetinchem', 'the League of Ireland Premier Division': 'Drogheda', 'Ñemby in the Central Department': 'Ñemby', 'Županja in Slavonia': 'Županja'}\""
      ]
     },
     "execution_count": 261,
     "metadata": {},
     "output_type": "execute_result"
    }
   ],
   "source": [
    "str(rename_dict)"
   ]
  },
  {
   "cell_type": "code",
   "execution_count": 262,
   "metadata": {},
   "outputs": [],
   "source": [
    "df_wt_coords.city = df_wt_coords.city.map(lambda x: rename_dict[x] if x in rename_dict.keys() else x)"
   ]
  },
  {
   "cell_type": "code",
   "execution_count": 265,
   "metadata": {},
   "outputs": [],
   "source": [
    "# df_wt_coords[df_wt_coords.city == 'Al-Qasim']"
   ]
  },
  {
   "cell_type": "markdown",
   "metadata": {},
   "source": [
    "#### Clear manual data"
   ]
  },
  {
   "cell_type": "code",
   "execution_count": 266,
   "metadata": {},
   "outputs": [],
   "source": [
    "df_manual_adding.city = df_manual_adding.city.map(lambda x: rename_dict[x] if x in rename_dict.keys() else x)\n",
    "df_manual_adding.city = df_manual_adding.city.map(lambda x: x.split(':')[1] if re.findall(':', x) else x)"
   ]
  },
  {
   "cell_type": "code",
   "execution_count": 267,
   "metadata": {},
   "outputs": [],
   "source": [
    "df_manual_adding.latitude  = df_manual_adding.latitude.str.strip()\n",
    "df_manual_adding.longitude = df_manual_adding.longitude.str.strip()"
   ]
  },
  {
   "cell_type": "code",
   "execution_count": 268,
   "metadata": {},
   "outputs": [
    {
     "name": "stdout",
     "output_type": "stream",
     "text": [
      "shape -  46\n",
      "shape -  45\n"
     ]
    }
   ],
   "source": [
    "print('shape - ', df_manual_adding.shape[0])\n",
    "df_manual_adding = df_manual_adding[~df_manual_adding.city.isin(['nd'])].copy().reset_index(drop=True)\n",
    "print('shape - ', df_manual_adding.shape[0])"
   ]
  },
  {
   "cell_type": "code",
   "execution_count": 269,
   "metadata": {},
   "outputs": [
    {
     "name": "stdout",
     "output_type": "stream",
     "text": [
      "shape -  946\n",
      "shape -  991\n"
     ]
    }
   ],
   "source": [
    "print('shape - ', df_uniq_city_new.shape[0])\n",
    "df_uniq_city_new = pd.concat([df_uniq_city_new, df_manual_adding]).reset_index(drop=True)\n",
    "print('shape - ', df_uniq_city_new.shape[0])"
   ]
  },
  {
   "cell_type": "code",
   "execution_count": 270,
   "metadata": {},
   "outputs": [
    {
     "name": "stdout",
     "output_type": "stream",
     "text": [
      "shape -  989\n"
     ]
    }
   ],
   "source": [
    "df_uniq_city_new.drop_duplicates(subset=['city', 'iso_code', 'country'], inplace=True, ignore_index=True)\n",
    "print('shape - ', df_uniq_city_new.shape[0])"
   ]
  },
  {
   "cell_type": "code",
   "execution_count": 271,
   "metadata": {},
   "outputs": [
    {
     "data": {
      "text/html": [
       "<div>\n",
       "<style scoped>\n",
       "    .dataframe tbody tr th:only-of-type {\n",
       "        vertical-align: middle;\n",
       "    }\n",
       "\n",
       "    .dataframe tbody tr th {\n",
       "        vertical-align: top;\n",
       "    }\n",
       "\n",
       "    .dataframe thead th {\n",
       "        text-align: right;\n",
       "    }\n",
       "</style>\n",
       "<table border=\"1\" class=\"dataframe\">\n",
       "  <thead>\n",
       "    <tr style=\"text-align: right;\">\n",
       "      <th></th>\n",
       "      <th>city</th>\n",
       "      <th>iso_code</th>\n",
       "      <th>country</th>\n",
       "      <th>longitude</th>\n",
       "      <th>latitude</th>\n",
       "    </tr>\n",
       "  </thead>\n",
       "  <tbody>\n",
       "    <tr>\n",
       "      <th>956</th>\n",
       "      <td>na</td>\n",
       "      <td>BY</td>\n",
       "      <td>Belarus</td>\n",
       "      <td>NaN</td>\n",
       "      <td>NaN</td>\n",
       "    </tr>\n",
       "    <tr>\n",
       "      <th>970</th>\n",
       "      <td>na</td>\n",
       "      <td>ES</td>\n",
       "      <td>Spain</td>\n",
       "      <td>NaN</td>\n",
       "      <td>NaN</td>\n",
       "    </tr>\n",
       "  </tbody>\n",
       "</table>\n",
       "</div>"
      ],
      "text/plain": [
       "    city iso_code  country longitude latitude\n",
       "956   na       BY  Belarus       NaN      NaN\n",
       "970   na       ES    Spain       NaN      NaN"
      ]
     },
     "execution_count": 271,
     "metadata": {},
     "output_type": "execute_result"
    }
   ],
   "source": [
    "df_uniq_city_new[(df_uniq_city_new.longitude.isna())|df_uniq_city_new.latitude.isna()]"
   ]
  },
  {
   "cell_type": "code",
   "execution_count": 275,
   "metadata": {},
   "outputs": [
    {
     "data": {
      "text/plain": [
       "(987, 5)"
      ]
     },
     "execution_count": 275,
     "metadata": {},
     "output_type": "execute_result"
    }
   ],
   "source": [
    "df_uniq_city_new = df_uniq_city_new[df_uniq_city_new.city != 'na'].copy().reset_index(drop=True)\n",
    "df_uniq_city_new.shape"
   ]
  },
  {
   "cell_type": "markdown",
   "metadata": {},
   "source": [
    "### Lat_lon"
   ]
  },
  {
   "cell_type": "code",
   "execution_count": null,
   "metadata": {},
   "outputs": [],
   "source": [
    "# palmyra = LatLon(Latitude(42.4833333), Longitude(1.4666667)) # Location of Palmyra Atoll in decimal degrees\n",
    "# palmyra = Lat# Change cities names errors in dataframe:Lon(5.8833, -162.0833) # Same thing but simpler!\n",
    "# palmyra = LatLon(Latitude(degree = 5, minute = 52, second = 59.88), Longitude(degree = -162, minute = -4.998) # or more complicated!\n",
    "# cordinates = palmyra.to_string('d% %m% %S% %H') # Print coordinates to degree minute second\n",
    "# ('5 52 59.88 N', '162 4 59.88 W')"
   ]
  },
  {
   "cell_type": "code",
   "execution_count": 276,
   "metadata": {},
   "outputs": [],
   "source": [
    "df_uniq_city_new['lat'], df_uniq_city_new['lon'] = ParsingDataPrepare.lat_lon_calculate(df_uniq_city_new, col_lat='latitude', col_lon='longitude')"
   ]
  },
  {
   "cell_type": "code",
   "execution_count": 277,
   "metadata": {},
   "outputs": [
    {
     "name": "stdout",
     "output_type": "stream",
     "text": [
      "shape -  (987, 7)\n"
     ]
    },
    {
     "data": {
      "text/html": [
       "<div>\n",
       "<style scoped>\n",
       "    .dataframe tbody tr th:only-of-type {\n",
       "        vertical-align: middle;\n",
       "    }\n",
       "\n",
       "    .dataframe tbody tr th {\n",
       "        vertical-align: top;\n",
       "    }\n",
       "\n",
       "    .dataframe thead th {\n",
       "        text-align: right;\n",
       "    }\n",
       "</style>\n",
       "<table border=\"1\" class=\"dataframe\">\n",
       "  <thead>\n",
       "    <tr style=\"text-align: right;\">\n",
       "      <th></th>\n",
       "      <th>city</th>\n",
       "      <th>iso_code</th>\n",
       "      <th>country</th>\n",
       "      <th>longitude</th>\n",
       "      <th>latitude</th>\n",
       "      <th>lat</th>\n",
       "      <th>lon</th>\n",
       "    </tr>\n",
       "  </thead>\n",
       "  <tbody>\n",
       "    <tr>\n",
       "      <th>0</th>\n",
       "      <td>A Estrada</td>\n",
       "      <td>ES</td>\n",
       "      <td>Spain</td>\n",
       "      <td>-8.48842</td>\n",
       "      <td>42.68911</td>\n",
       "      <td>42n41</td>\n",
       "      <td>8w29</td>\n",
       "    </tr>\n",
       "    <tr>\n",
       "      <th>1</th>\n",
       "      <td>Abobo</td>\n",
       "      <td>CI</td>\n",
       "      <td>Ivory Coast</td>\n",
       "      <td>-4.01590</td>\n",
       "      <td>5.41613</td>\n",
       "      <td>5n24</td>\n",
       "      <td>4w0</td>\n",
       "    </tr>\n",
       "    <tr>\n",
       "      <th>2</th>\n",
       "      <td>Aceuchal</td>\n",
       "      <td>ES</td>\n",
       "      <td>Spain</td>\n",
       "      <td>-6.48636</td>\n",
       "      <td>38.64627</td>\n",
       "      <td>38n38</td>\n",
       "      <td>6w29</td>\n",
       "    </tr>\n",
       "  </tbody>\n",
       "</table>\n",
       "</div>"
      ],
      "text/plain": [
       "        city iso_code      country  longitude  latitude    lat   lon\n",
       "0  A Estrada       ES        Spain   -8.48842  42.68911  42n41  8w29\n",
       "1      Abobo       CI  Ivory Coast   -4.01590   5.41613   5n24   4w0\n",
       "2   Aceuchal       ES        Spain   -6.48636  38.64627  38n38  6w29"
      ]
     },
     "execution_count": 277,
     "metadata": {},
     "output_type": "execute_result"
    }
   ],
   "source": [
    "print('shape - ', df_uniq_city_new.shape)\n",
    "df_uniq_city_new.head(3)"
   ]
  },
  {
   "cell_type": "markdown",
   "metadata": {
    "tags": []
   },
   "source": [
    "#### Concatinate old dataset with new data"
   ]
  },
  {
   "cell_type": "code",
   "execution_count": 278,
   "metadata": {},
   "outputs": [
    {
     "name": "stdout",
     "output_type": "stream",
     "text": [
      "shape -  4951\n",
      "shape -  5938\n"
     ]
    },
    {
     "data": {
      "text/html": [
       "<div>\n",
       "<style scoped>\n",
       "    .dataframe tbody tr th:only-of-type {\n",
       "        vertical-align: middle;\n",
       "    }\n",
       "\n",
       "    .dataframe tbody tr th {\n",
       "        vertical-align: top;\n",
       "    }\n",
       "\n",
       "    .dataframe thead th {\n",
       "        text-align: right;\n",
       "    }\n",
       "</style>\n",
       "<table border=\"1\" class=\"dataframe\">\n",
       "  <thead>\n",
       "    <tr style=\"text-align: right;\">\n",
       "      <th></th>\n",
       "      <th>city</th>\n",
       "      <th>iso_code</th>\n",
       "      <th>country</th>\n",
       "      <th>longitude</th>\n",
       "      <th>latitude</th>\n",
       "      <th>lat</th>\n",
       "      <th>lon</th>\n",
       "    </tr>\n",
       "  </thead>\n",
       "  <tbody>\n",
       "    <tr>\n",
       "      <th>5935</th>\n",
       "      <td>Drogheda</td>\n",
       "      <td>IE</td>\n",
       "      <td>Republic of Ireland</td>\n",
       "      <td>-6.3525</td>\n",
       "      <td>53.7150</td>\n",
       "      <td>53n42</td>\n",
       "      <td>6w21</td>\n",
       "    </tr>\n",
       "    <tr>\n",
       "      <th>5936</th>\n",
       "      <td>Ñemby</td>\n",
       "      <td>PY</td>\n",
       "      <td>Paraguay</td>\n",
       "      <td>-57.5443</td>\n",
       "      <td>-25.3935</td>\n",
       "      <td>25s23</td>\n",
       "      <td>57w32</td>\n",
       "    </tr>\n",
       "    <tr>\n",
       "      <th>5937</th>\n",
       "      <td>Županja</td>\n",
       "      <td>HR</td>\n",
       "      <td>Croatia</td>\n",
       "      <td>18.7000</td>\n",
       "      <td>45.0700</td>\n",
       "      <td>45n4</td>\n",
       "      <td>18e41</td>\n",
       "    </tr>\n",
       "  </tbody>\n",
       "</table>\n",
       "</div>"
      ],
      "text/plain": [
       "          city iso_code              country  longitude  latitude    lat  \\\n",
       "5935  Drogheda       IE  Republic of Ireland    -6.3525   53.7150  53n42   \n",
       "5936     Ñemby       PY             Paraguay   -57.5443  -25.3935  25s23   \n",
       "5937   Županja       HR              Croatia    18.7000   45.0700   45n4   \n",
       "\n",
       "        lon  \n",
       "5935   6w21  \n",
       "5936  57w32  \n",
       "5937  18e41  "
      ]
     },
     "execution_count": 278,
     "metadata": {},
     "output_type": "execute_result"
    }
   ],
   "source": [
    "print('shape - ', df_uniq_cities_coords.shape[0])\n",
    "df_uniq_cities_coords = pd.concat([df_uniq_cities_coords, df_uniq_city_new]).reset_index(drop=True)\n",
    "print('shape - ', df_uniq_cities_coords.shape[0])\n",
    "df_uniq_cities_coords.tail(3)"
   ]
  },
  {
   "cell_type": "code",
   "execution_count": 279,
   "metadata": {},
   "outputs": [],
   "source": [
    "df_uniq_cities_coords.drop_duplicates(subset=['city', 'iso_code', 'country'], inplace=True, ignore_index=True)"
   ]
  },
  {
   "cell_type": "code",
   "execution_count": 280,
   "metadata": {},
   "outputs": [
    {
     "name": "stdout",
     "output_type": "stream",
     "text": [
      "shape -  (5924, 7)\n"
     ]
    }
   ],
   "source": [
    "print('shape - ', df_uniq_cities_coords.shape)"
   ]
  },
  {
   "cell_type": "code",
   "execution_count": 282,
   "metadata": {},
   "outputs": [],
   "source": [
    "# file = open('pickle_files/cities_countries/df_uniq_cities_coords_created_23_07_2022', 'wb')\n",
    "# pickle.dump(df_uniq_cities_coords, file)  \n",
    "# file.close()"
   ]
  },
  {
   "cell_type": "markdown",
   "metadata": {
    "tags": []
   },
   "source": [
    "#### Concatinate all dataframes with coordinates"
   ]
  },
  {
   "cell_type": "code",
   "execution_count": 286,
   "metadata": {},
   "outputs": [],
   "source": [
    "df_wt_coords.drop(columns=['longitude',\t'latitude',\t'lat', 'lon'], inplace=True)"
   ]
  },
  {
   "cell_type": "code",
   "execution_count": 287,
   "metadata": {},
   "outputs": [
    {
     "name": "stdout",
     "output_type": "stream",
     "text": [
      "shape -  (2827, 21)\n",
      "shape -  (2827, 25)\n"
     ]
    }
   ],
   "source": [
    "print('shape - ', df_wt_coords.shape)\n",
    "cols_merge = ['city', 'iso_code', 'country']\n",
    "df_coords  = df_wt_coords.merge(df_uniq_city_new, how='left', left_on=cols_merge, right_on=cols_merge)\n",
    "print('shape - ', df_coords.shape)"
   ]
  },
  {
   "cell_type": "code",
   "execution_count": 288,
   "metadata": {},
   "outputs": [
    {
     "name": "stdout",
     "output_type": "stream",
     "text": [
      "shape -  (2827, 25)\n",
      "shape -  (2812, 25)\n"
     ]
    }
   ],
   "source": [
    "print('shape - ', df_coords.shape)\n",
    "df_coords  = df_coords[(~df_coords.longitude.isna()) & (~df_coords.latitude.isna())].copy()\n",
    "print('shape - ', df_coords.shape)"
   ]
  },
  {
   "cell_type": "code",
   "execution_count": 289,
   "metadata": {},
   "outputs": [
    {
     "name": "stdout",
     "output_type": "stream",
     "text": [
      "shape -  (2812, 25)\n",
      "shape -  (2812, 25)\n"
     ]
    }
   ],
   "source": [
    "print('shape - ', df_coords.shape)\n",
    "df_coords = df_coords[~df_coords.city.isin(['nd'])].copy().reset_index(drop=True)\n",
    "print('shape - ', df_coords.shape)"
   ]
  },
  {
   "cell_type": "code",
   "execution_count": 290,
   "metadata": {},
   "outputs": [
    {
     "name": "stdout",
     "output_type": "stream",
     "text": [
      "shape -  (22217, 25)\n",
      "shape -  (25029, 25)\n"
     ]
    }
   ],
   "source": [
    "print('shape - ', df_include_coords.shape)\n",
    "df_include_coords = pd.concat([df_include_coords, df_coords]).reset_index(drop=True)\n",
    "print('shape - ', df_include_coords.shape)"
   ]
  },
  {
   "cell_type": "code",
   "execution_count": 291,
   "metadata": {},
   "outputs": [
    {
     "data": {
      "text/plain": [
       "array([], shape=(0, 25), dtype=object)"
      ]
     },
     "execution_count": 291,
     "metadata": {},
     "output_type": "execute_result"
    }
   ],
   "source": [
    "df_include_coords[(df_include_coords.longitude.isna()) | (df_include_coords.latitude.isna())].values"
   ]
  },
  {
   "cell_type": "markdown",
   "metadata": {},
   "source": [
    "#### Check equal cities for each team"
   ]
  },
  {
   "cell_type": "code",
   "execution_count": 292,
   "metadata": {},
   "outputs": [],
   "source": [
    "df_fteam_cities = df_coords.groupby('f_team').agg({'city':'unique'}).reset_index()"
   ]
  },
  {
   "cell_type": "code",
   "execution_count": 295,
   "metadata": {},
   "outputs": [
    {
     "data": {
      "text/html": [
       "<div>\n",
       "<style scoped>\n",
       "    .dataframe tbody tr th:only-of-type {\n",
       "        vertical-align: middle;\n",
       "    }\n",
       "\n",
       "    .dataframe tbody tr th {\n",
       "        vertical-align: top;\n",
       "    }\n",
       "\n",
       "    .dataframe thead th {\n",
       "        text-align: right;\n",
       "    }\n",
       "</style>\n",
       "<table border=\"1\" class=\"dataframe\">\n",
       "  <thead>\n",
       "    <tr style=\"text-align: right;\">\n",
       "      <th></th>\n",
       "      <th>f_team</th>\n",
       "      <th>city</th>\n",
       "    </tr>\n",
       "  </thead>\n",
       "  <tbody>\n",
       "    <tr>\n",
       "      <th>0</th>\n",
       "      <td>1954 Kelkit Belediyespor</td>\n",
       "      <td>[Kelkit]</td>\n",
       "    </tr>\n",
       "    <tr>\n",
       "      <th>1</th>\n",
       "      <td>2 de Mayo</td>\n",
       "      <td>[Pedro Juan Caballero]</td>\n",
       "    </tr>\n",
       "    <tr>\n",
       "      <th>2</th>\n",
       "      <td>AC Leon</td>\n",
       "      <td>[Vimercate]</td>\n",
       "    </tr>\n",
       "  </tbody>\n",
       "</table>\n",
       "</div>"
      ],
      "text/plain": [
       "                     f_team                    city\n",
       "0  1954 Kelkit Belediyespor                [Kelkit]\n",
       "1                 2 de Mayo  [Pedro Juan Caballero]\n",
       "2                   AC Leon             [Vimercate]"
      ]
     },
     "execution_count": 295,
     "metadata": {},
     "output_type": "execute_result"
    }
   ],
   "source": [
    "df_fteam_cities.head(3)"
   ]
  },
  {
   "cell_type": "code",
   "execution_count": 296,
   "metadata": {},
   "outputs": [
    {
     "data": {
      "text/plain": [
       "2"
      ]
     },
     "execution_count": 296,
     "metadata": {},
     "output_type": "execute_result"
    }
   ],
   "source": [
    "len_city_lst = df_fteam_cities.city.map(lambda x: len(x))\n",
    "max(len_city_lst) # must could == 1"
   ]
  },
  {
   "cell_type": "code",
   "execution_count": 317,
   "metadata": {},
   "outputs": [
    {
     "name": "stdout",
     "output_type": "stream",
     "text": [
      "['Mbour' 'Dakar']\n"
     ]
    }
   ],
   "source": [
    "# if max(len_city_lst) > 1 need check team for different countries names:\n",
    "for lt_city in df_fteam_cities.city:\n",
    "    if len(lt_city) > 1:\n",
    "        print(lt_city)"
   ]
  },
  {
   "cell_type": "code",
   "execution_count": 312,
   "metadata": {},
   "outputs": [],
   "source": [
    "# df_teams_data_main[df_teams_data_main.city == 'Mbour' ]"
   ]
  },
  {
   "cell_type": "code",
   "execution_count": 313,
   "metadata": {},
   "outputs": [],
   "source": [
    "# df_teams_data_main[df_teams_data_main.city == 'Dakar' ]"
   ]
  },
  {
   "cell_type": "code",
   "execution_count": 315,
   "metadata": {},
   "outputs": [
    {
     "data": {
      "text/html": [
       "<div>\n",
       "<style scoped>\n",
       "    .dataframe tbody tr th:only-of-type {\n",
       "        vertical-align: middle;\n",
       "    }\n",
       "\n",
       "    .dataframe tbody tr th {\n",
       "        vertical-align: top;\n",
       "    }\n",
       "\n",
       "    .dataframe thead th {\n",
       "        text-align: right;\n",
       "    }\n",
       "</style>\n",
       "<table border=\"1\" class=\"dataframe\">\n",
       "  <thead>\n",
       "    <tr style=\"text-align: right;\">\n",
       "      <th></th>\n",
       "      <th>f_team</th>\n",
       "      <th>city</th>\n",
       "    </tr>\n",
       "  </thead>\n",
       "  <tbody>\n",
       "    <tr>\n",
       "      <th>253</th>\n",
       "      <td>Douanes</td>\n",
       "      <td>[Mbour, Dakar]</td>\n",
       "    </tr>\n",
       "  </tbody>\n",
       "</table>\n",
       "</div>"
      ],
      "text/plain": [
       "      f_team            city\n",
       "253  Douanes  [Mbour, Dakar]"
      ]
     },
     "execution_count": 315,
     "metadata": {},
     "output_type": "execute_result"
    }
   ],
   "source": [
    "df_fteam_cities[df_fteam_cities.f_team == 'Douanes']"
   ]
  },
  {
   "cell_type": "code",
   "execution_count": 316,
   "metadata": {},
   "outputs": [
    {
     "data": {
      "text/html": [
       "<div>\n",
       "<style scoped>\n",
       "    .dataframe tbody tr th:only-of-type {\n",
       "        vertical-align: middle;\n",
       "    }\n",
       "\n",
       "    .dataframe tbody tr th {\n",
       "        vertical-align: top;\n",
       "    }\n",
       "\n",
       "    .dataframe thead th {\n",
       "        text-align: right;\n",
       "    }\n",
       "</style>\n",
       "<table border=\"1\" class=\"dataframe\">\n",
       "  <thead>\n",
       "    <tr style=\"text-align: right;\">\n",
       "      <th></th>\n",
       "      <th>game_id</th>\n",
       "      <th>ligue_header</th>\n",
       "      <th>comp_id</th>\n",
       "      <th>season_id</th>\n",
       "      <th>game_utc</th>\n",
       "      <th>game_title</th>\n",
       "      <th>goals</th>\n",
       "      <th>ligue</th>\n",
       "      <th>f_team</th>\n",
       "      <th>pos_f</th>\n",
       "      <th>pts_f</th>\n",
       "      <th>pos_s</th>\n",
       "      <th>pts_s</th>\n",
       "      <th>fs_pos_max</th>\n",
       "      <th>fs_pts_max</th>\n",
       "      <th>f_pow</th>\n",
       "      <th>desc</th>\n",
       "      <th>country</th>\n",
       "      <th>team_id</th>\n",
       "      <th>city</th>\n",
       "      <th>iso_code</th>\n",
       "      <th>longitude</th>\n",
       "      <th>latitude</th>\n",
       "      <th>lat</th>\n",
       "      <th>lon</th>\n",
       "    </tr>\n",
       "  </thead>\n",
       "  <tbody>\n",
       "    <tr>\n",
       "      <th>24406</th>\n",
       "      <td>15209963</td>\n",
       "      <td>Ligue 1</td>\n",
       "      <td>696</td>\n",
       "      <td>306</td>\n",
       "      <td>11.07.2021 17:00</td>\n",
       "      <td>Douanes - Generation Foot</td>\n",
       "      <td>1:1</td>\n",
       "      <td>thr</td>\n",
       "      <td>Douanes</td>\n",
       "      <td>8.0</td>\n",
       "      <td>30.0</td>\n",
       "      <td>3.0</td>\n",
       "      <td>46.0</td>\n",
       "      <td>8 - 3, 14</td>\n",
       "      <td>30 - 46, 52</td>\n",
       "      <td>Pre</td>\n",
       "      <td>sum_coef_13</td>\n",
       "      <td>Senegal</td>\n",
       "      <td>None</td>\n",
       "      <td>Mbour</td>\n",
       "      <td>SN</td>\n",
       "      <td>-16.829798</td>\n",
       "      <td>14.385877</td>\n",
       "      <td>14n23</td>\n",
       "      <td>16w49</td>\n",
       "    </tr>\n",
       "    <tr>\n",
       "      <th>24524</th>\n",
       "      <td>15192934</td>\n",
       "      <td>Premier League</td>\n",
       "      <td>1081</td>\n",
       "      <td>306</td>\n",
       "      <td>23.06.2021 16:00</td>\n",
       "      <td>Douanes - ASFA-Yennenga</td>\n",
       "      <td>3:2</td>\n",
       "      <td>thr</td>\n",
       "      <td>Douanes</td>\n",
       "      <td>1.0</td>\n",
       "      <td>64.0</td>\n",
       "      <td>6.0</td>\n",
       "      <td>45.0</td>\n",
       "      <td>1 - 6, 18</td>\n",
       "      <td>64 - 45, 64</td>\n",
       "      <td>Fav</td>\n",
       "      <td>sum_coef_13</td>\n",
       "      <td>Burkina Faso</td>\n",
       "      <td>14453</td>\n",
       "      <td>Dakar</td>\n",
       "      <td>BF</td>\n",
       "      <td>-17.486199</td>\n",
       "      <td>14.717922</td>\n",
       "      <td>14n43</td>\n",
       "      <td>17w29</td>\n",
       "    </tr>\n",
       "    <tr>\n",
       "      <th>24601</th>\n",
       "      <td>15209933</td>\n",
       "      <td>Ligue 1</td>\n",
       "      <td>696</td>\n",
       "      <td>306</td>\n",
       "      <td>13.06.2021 17:00</td>\n",
       "      <td>Douanes - Teungueth</td>\n",
       "      <td>0:4</td>\n",
       "      <td>thr</td>\n",
       "      <td>Douanes</td>\n",
       "      <td>8.0</td>\n",
       "      <td>30.0</td>\n",
       "      <td>1.0</td>\n",
       "      <td>52.0</td>\n",
       "      <td>8 - 1, 14</td>\n",
       "      <td>30 - 52, 52</td>\n",
       "      <td>Pre</td>\n",
       "      <td>sum_coef_13</td>\n",
       "      <td>Senegal</td>\n",
       "      <td>None</td>\n",
       "      <td>Mbour</td>\n",
       "      <td>SN</td>\n",
       "      <td>-16.829798</td>\n",
       "      <td>14.385877</td>\n",
       "      <td>14n23</td>\n",
       "      <td>16w49</td>\n",
       "    </tr>\n",
       "  </tbody>\n",
       "</table>\n",
       "</div>"
      ],
      "text/plain": [
       "        game_id    ligue_header comp_id season_id          game_utc  \\\n",
       "24406  15209963         Ligue 1     696       306  11.07.2021 17:00   \n",
       "24524  15192934  Premier League    1081       306  23.06.2021 16:00   \n",
       "24601  15209933         Ligue 1     696       306  13.06.2021 17:00   \n",
       "\n",
       "                      game_title goals ligue   f_team  pos_f  pts_f  pos_s  \\\n",
       "24406  Douanes - Generation Foot   1:1   thr  Douanes    8.0   30.0    3.0   \n",
       "24524    Douanes - ASFA-Yennenga   3:2   thr  Douanes    1.0   64.0    6.0   \n",
       "24601        Douanes - Teungueth   0:4   thr  Douanes    8.0   30.0    1.0   \n",
       "\n",
       "       pts_s fs_pos_max   fs_pts_max f_pow         desc       country team_id  \\\n",
       "24406   46.0  8 - 3, 14  30 - 46, 52   Pre  sum_coef_13       Senegal    None   \n",
       "24524   45.0  1 - 6, 18  64 - 45, 64   Fav  sum_coef_13  Burkina Faso   14453   \n",
       "24601   52.0  8 - 1, 14  30 - 52, 52   Pre  sum_coef_13       Senegal    None   \n",
       "\n",
       "        city iso_code  longitude   latitude    lat    lon  \n",
       "24406  Mbour       SN -16.829798  14.385877  14n23  16w49  \n",
       "24524  Dakar       BF -17.486199  14.717922  14n43  17w29  \n",
       "24601  Mbour       SN -16.829798  14.385877  14n23  16w49  "
      ]
     },
     "execution_count": 316,
     "metadata": {},
     "output_type": "execute_result"
    }
   ],
   "source": [
    "df_include_coords[df_include_coords.f_team == 'Douanes']"
   ]
  },
  {
   "cell_type": "code",
   "execution_count": 320,
   "metadata": {},
   "outputs": [
    {
     "name": "stdout",
     "output_type": "stream",
     "text": [
      "shape -  (25029, 25)\n"
     ]
    },
    {
     "data": {
      "text/html": [
       "<div>\n",
       "<style scoped>\n",
       "    .dataframe tbody tr th:only-of-type {\n",
       "        vertical-align: middle;\n",
       "    }\n",
       "\n",
       "    .dataframe tbody tr th {\n",
       "        vertical-align: top;\n",
       "    }\n",
       "\n",
       "    .dataframe thead th {\n",
       "        text-align: right;\n",
       "    }\n",
       "</style>\n",
       "<table border=\"1\" class=\"dataframe\">\n",
       "  <thead>\n",
       "    <tr style=\"text-align: right;\">\n",
       "      <th></th>\n",
       "      <th>game_id</th>\n",
       "      <th>ligue_header</th>\n",
       "      <th>comp_id</th>\n",
       "      <th>season_id</th>\n",
       "      <th>game_utc</th>\n",
       "      <th>game_title</th>\n",
       "      <th>goals</th>\n",
       "      <th>ligue</th>\n",
       "      <th>f_team</th>\n",
       "      <th>pos_f</th>\n",
       "      <th>pts_f</th>\n",
       "      <th>pos_s</th>\n",
       "      <th>pts_s</th>\n",
       "      <th>fs_pos_max</th>\n",
       "      <th>fs_pts_max</th>\n",
       "      <th>f_pow</th>\n",
       "      <th>desc</th>\n",
       "      <th>country</th>\n",
       "      <th>team_id</th>\n",
       "      <th>city</th>\n",
       "      <th>iso_code</th>\n",
       "      <th>longitude</th>\n",
       "      <th>latitude</th>\n",
       "      <th>lat</th>\n",
       "      <th>lon</th>\n",
       "    </tr>\n",
       "  </thead>\n",
       "  <tbody>\n",
       "    <tr>\n",
       "      <th>25026</th>\n",
       "      <td>15164040</td>\n",
       "      <td>Srpska Liga</td>\n",
       "      <td>698</td>\n",
       "      <td>306</td>\n",
       "      <td>28.03.2021 13:30</td>\n",
       "      <td>Zeleznicar Lajkovac - Sloboda Užice</td>\n",
       "      <td>1:0</td>\n",
       "      <td>thr</td>\n",
       "      <td>Zeleznicar Lajkovac</td>\n",
       "      <td>15.0</td>\n",
       "      <td>36.0</td>\n",
       "      <td>4.0</td>\n",
       "      <td>57.0</td>\n",
       "      <td>15 - 4, 20</td>\n",
       "      <td>36 - 57, 94</td>\n",
       "      <td>Pre</td>\n",
       "      <td>sum_coef_13</td>\n",
       "      <td>Serbia</td>\n",
       "      <td>NaN</td>\n",
       "      <td>Lajkovac</td>\n",
       "      <td>RS</td>\n",
       "      <td>20.165280</td>\n",
       "      <td>44.36944</td>\n",
       "      <td>44n22</td>\n",
       "      <td>20e9</td>\n",
       "    </tr>\n",
       "    <tr>\n",
       "      <th>25027</th>\n",
       "      <td>15147393</td>\n",
       "      <td>Third Division</td>\n",
       "      <td>553</td>\n",
       "      <td>306</td>\n",
       "      <td>28.03.2021 12:30</td>\n",
       "      <td>Ormideia - O Kormakitis</td>\n",
       "      <td>2:0</td>\n",
       "      <td>thr</td>\n",
       "      <td>Ormideia</td>\n",
       "      <td>8.0</td>\n",
       "      <td>40.0</td>\n",
       "      <td>16.0</td>\n",
       "      <td>16.0</td>\n",
       "      <td>8 - 16, 16</td>\n",
       "      <td>40 - 16, 68</td>\n",
       "      <td>Fav</td>\n",
       "      <td>sum_coef_13</td>\n",
       "      <td>Cyprus</td>\n",
       "      <td>NaN</td>\n",
       "      <td>Ormideia</td>\n",
       "      <td>CY</td>\n",
       "      <td>33.775628</td>\n",
       "      <td>34.99351</td>\n",
       "      <td>34n59</td>\n",
       "      <td>33e46</td>\n",
       "    </tr>\n",
       "    <tr>\n",
       "      <th>25028</th>\n",
       "      <td>15109589</td>\n",
       "      <td>Thai League 1</td>\n",
       "      <td>718</td>\n",
       "      <td>298</td>\n",
       "      <td>28.03.2021 11:00</td>\n",
       "      <td>Prachuap - Bangkok United</td>\n",
       "      <td>0:1</td>\n",
       "      <td>thr</td>\n",
       "      <td>Prachuap</td>\n",
       "      <td>10.0</td>\n",
       "      <td>37.0</td>\n",
       "      <td>5.0</td>\n",
       "      <td>51.0</td>\n",
       "      <td>10 - 5, 16</td>\n",
       "      <td>37 - 51, 77</td>\n",
       "      <td>Pre</td>\n",
       "      <td>sum_coef_13</td>\n",
       "      <td>Thailand</td>\n",
       "      <td>13605</td>\n",
       "      <td>Prachuap Khiri Khan</td>\n",
       "      <td>TH</td>\n",
       "      <td>99.784100</td>\n",
       "      <td>11.82098</td>\n",
       "      <td>11n49</td>\n",
       "      <td>99e47</td>\n",
       "    </tr>\n",
       "  </tbody>\n",
       "</table>\n",
       "</div>"
      ],
      "text/plain": [
       "        game_id    ligue_header comp_id season_id          game_utc  \\\n",
       "25026  15164040     Srpska Liga     698       306  28.03.2021 13:30   \n",
       "25027  15147393  Third Division     553       306  28.03.2021 12:30   \n",
       "25028  15109589   Thai League 1     718       298  28.03.2021 11:00   \n",
       "\n",
       "                                game_title goals ligue               f_team  \\\n",
       "25026  Zeleznicar Lajkovac - Sloboda Užice   1:0   thr  Zeleznicar Lajkovac   \n",
       "25027              Ormideia - O Kormakitis   2:0   thr             Ormideia   \n",
       "25028            Prachuap - Bangkok United   0:1   thr             Prachuap   \n",
       "\n",
       "       pos_f  pts_f  pos_s  pts_s  fs_pos_max   fs_pts_max f_pow         desc  \\\n",
       "25026   15.0   36.0    4.0   57.0  15 - 4, 20  36 - 57, 94   Pre  sum_coef_13   \n",
       "25027    8.0   40.0   16.0   16.0  8 - 16, 16  40 - 16, 68   Fav  sum_coef_13   \n",
       "25028   10.0   37.0    5.0   51.0  10 - 5, 16  37 - 51, 77   Pre  sum_coef_13   \n",
       "\n",
       "        country team_id                 city iso_code  longitude  latitude  \\\n",
       "25026    Serbia     NaN             Lajkovac       RS  20.165280  44.36944   \n",
       "25027    Cyprus     NaN             Ormideia       CY  33.775628  34.99351   \n",
       "25028  Thailand   13605  Prachuap Khiri Khan       TH  99.784100  11.82098   \n",
       "\n",
       "         lat    lon  \n",
       "25026  44n22   20e9  \n",
       "25027  34n59  33e46  \n",
       "25028  11n49  99e47  "
      ]
     },
     "execution_count": 320,
     "metadata": {},
     "output_type": "execute_result"
    }
   ],
   "source": [
    "print('shape - ', df_include_coords.shape)\n",
    "df_include_coords.tail(3)"
   ]
  },
  {
   "cell_type": "code",
   "execution_count": 319,
   "metadata": {},
   "outputs": [],
   "source": [
    "# file = open('pickle_files/cities_countries/df_with_geo_coords_26_05_2022_sum_coef_13', 'wb')\n",
    "# pickle.dump(df_include_coords, file)  \n",
    "# file.close()"
   ]
  },
  {
   "cell_type": "markdown",
   "metadata": {},
   "source": [
    "##### Example"
   ]
  },
  {
   "cell_type": "code",
   "execution_count": null,
   "metadata": {},
   "outputs": [],
   "source": [
    "# Exempl\n",
    "from  geopy.geocoders import Nominatim\n",
    "geolocator = Nominatim(user_agent=\"Your_Name\")\n",
    "\n",
    "city =\"Russia\"\n",
    "country =\"Perm\"\n",
    "loc = geolocator.geocode(city+','+ country)\n",
    "lat = loc.latitude\n",
    "long = loc.longitude\n",
    "\n",
    "print(lat, long)"
   ]
  }
 ],
 "metadata": {
  "kernelspec": {
   "display_name": "Python 3 (ipykernel)",
   "language": "python",
   "name": "python3"
  },
  "language_info": {
   "codemirror_mode": {
    "name": "ipython",
    "version": 3
   },
   "file_extension": ".py",
   "mimetype": "text/x-python",
   "name": "python",
   "nbconvert_exporter": "python",
   "pygments_lexer": "ipython3",
   "version": "3.9.7"
  }
 },
 "nbformat": 4,
 "nbformat_minor": 4
}

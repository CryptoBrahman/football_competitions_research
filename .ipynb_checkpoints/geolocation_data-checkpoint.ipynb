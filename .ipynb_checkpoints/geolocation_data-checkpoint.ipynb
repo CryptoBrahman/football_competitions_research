{
 "cells": [
  {
   "cell_type": "code",
   "execution_count": 40,
   "metadata": {},
   "outputs": [],
   "source": [
    "import re\n",
    "import pandas as pd\n",
    "import numpy as np\n",
    "import unicodedata\n",
    "import pickle\n",
    "from cities_coordinates import CityCoordinator\n",
    "\n",
    "from _html_parser import HtmlParser, ParsingDataPrepare\n",
    "\n",
    "pd.set_option('display.max_colwidth', 1000)\n",
    "pd.set_option('display.max_rows', 20)"
   ]
  },
  {
   "cell_type": "code",
   "execution_count": 43,
   "metadata": {},
   "outputs": [
    {
     "name": "stdout",
     "output_type": "stream",
     "text": [
      "The autoreload extension is already loaded. To reload it, use:\n",
      "  %reload_ext autoreload\n"
     ]
    }
   ],
   "source": [
    "%load_ext autoreload"
   ]
  },
  {
   "cell_type": "code",
   "execution_count": 3,
   "metadata": {},
   "outputs": [],
   "source": [
    "df_country_code = pd.read_csv('csv_files/wikipedia-iso-country-codes.csv') "
   ]
  },
  {
   "cell_type": "code",
   "execution_count": 4,
   "metadata": {},
   "outputs": [
    {
     "data": {
      "text/plain": [
       "(246, 5)"
      ]
     },
     "execution_count": 4,
     "metadata": {},
     "output_type": "execute_result"
    }
   ],
   "source": [
    "df_country_code.columns = [x.lower() for x in df_country_code.columns]\n",
    "df_country_code['alpha-2 code'] = df_country_code['alpha-2 code'].map(lambda x: str(x).lower())\n",
    "df_country_code.rename(columns={'english short name lower case':'country', 'alpha-2 code':'iso_code'}, inplace=True)\n",
    "df_country_code.iso_code = df_country_code.iso_code.str.upper()\n",
    "df_country_code.shape"
   ]
  },
  {
   "cell_type": "code",
   "execution_count": 5,
   "metadata": {},
   "outputs": [
    {
     "data": {
      "text/html": [
       "<div>\n",
       "<style scoped>\n",
       "    .dataframe tbody tr th:only-of-type {\n",
       "        vertical-align: middle;\n",
       "    }\n",
       "\n",
       "    .dataframe tbody tr th {\n",
       "        vertical-align: top;\n",
       "    }\n",
       "\n",
       "    .dataframe thead th {\n",
       "        text-align: right;\n",
       "    }\n",
       "</style>\n",
       "<table border=\"1\" class=\"dataframe\">\n",
       "  <thead>\n",
       "    <tr style=\"text-align: right;\">\n",
       "      <th></th>\n",
       "      <th>country</th>\n",
       "      <th>iso_code</th>\n",
       "      <th>alpha-3 code</th>\n",
       "      <th>numeric code</th>\n",
       "      <th>iso 3166-2</th>\n",
       "    </tr>\n",
       "  </thead>\n",
       "  <tbody>\n",
       "    <tr>\n",
       "      <th>0</th>\n",
       "      <td>Afghanistan</td>\n",
       "      <td>AF</td>\n",
       "      <td>AFG</td>\n",
       "      <td>4</td>\n",
       "      <td>ISO 3166-2:AF</td>\n",
       "    </tr>\n",
       "    <tr>\n",
       "      <th>1</th>\n",
       "      <td>Åland Islands</td>\n",
       "      <td>AX</td>\n",
       "      <td>ALA</td>\n",
       "      <td>248</td>\n",
       "      <td>ISO 3166-2:AX</td>\n",
       "    </tr>\n",
       "    <tr>\n",
       "      <th>2</th>\n",
       "      <td>Albania</td>\n",
       "      <td>AL</td>\n",
       "      <td>ALB</td>\n",
       "      <td>8</td>\n",
       "      <td>ISO 3166-2:AL</td>\n",
       "    </tr>\n",
       "  </tbody>\n",
       "</table>\n",
       "</div>"
      ],
      "text/plain": [
       "         country iso_code alpha-3 code  numeric code     iso 3166-2\n",
       "0    Afghanistan       AF          AFG             4  ISO 3166-2:AF\n",
       "1  Åland Islands       AX          ALA           248  ISO 3166-2:AX\n",
       "2        Albania       AL          ALB             8  ISO 3166-2:AL"
      ]
     },
     "execution_count": 5,
     "metadata": {},
     "output_type": "execute_result"
    }
   ],
   "source": [
    "df_country_code.head(3)"
   ]
  },
  {
   "cell_type": "code",
   "execution_count": 6,
   "metadata": {},
   "outputs": [],
   "source": [
    "with open('pickle_files/cities_countries/df_for_geo_coords_26_05_2022', 'rb') as f:\n",
    "    df_wt_coords = pickle.load(f)"
   ]
  },
  {
   "cell_type": "code",
   "execution_count": 7,
   "metadata": {},
   "outputs": [
    {
     "name": "stdout",
     "output_type": "stream",
     "text": [
      "shape -  39069\n",
      "shape -  38474\n"
     ]
    }
   ],
   "source": [
    "# Remove USA country because many cities have twice locations in different states, 'Republic of Kosovo' - doesn't have iso_code\n",
    "print('shape - ', df_wt_coords.shape[0])\n",
    "df_wt_coords = df_wt_coords[~df_wt_coords.country.isin(['USA', 'Republic of Kosovo'])].copy()\n",
    "print('shape - ', df_wt_coords.shape[0])"
   ]
  },
  {
   "cell_type": "code",
   "execution_count": 8,
   "metadata": {},
   "outputs": [
    {
     "data": {
      "text/plain": [
       "(38474, 41)"
      ]
     },
     "execution_count": 8,
     "metadata": {},
     "output_type": "execute_result"
    }
   ],
   "source": [
    "df_wt_coords = df_wt_coords.merge(df_country_code[['country', 'iso_code']], how='left', left_on=['country'], right_on=['country'])\n",
    "df_wt_coords.shape"
   ]
  },
  {
   "cell_type": "code",
   "execution_count": 9,
   "metadata": {},
   "outputs": [
    {
     "data": {
      "text/html": [
       "<div>\n",
       "<style scoped>\n",
       "    .dataframe tbody tr th:only-of-type {\n",
       "        vertical-align: middle;\n",
       "    }\n",
       "\n",
       "    .dataframe tbody tr th {\n",
       "        vertical-align: top;\n",
       "    }\n",
       "\n",
       "    .dataframe thead th {\n",
       "        text-align: right;\n",
       "    }\n",
       "</style>\n",
       "<table border=\"1\" class=\"dataframe\">\n",
       "  <thead>\n",
       "    <tr style=\"text-align: right;\">\n",
       "      <th></th>\n",
       "      <th>game_id</th>\n",
       "      <th>ligue_header</th>\n",
       "      <th>comp_id</th>\n",
       "      <th>season_id</th>\n",
       "      <th>game_utc</th>\n",
       "      <th>game_title</th>\n",
       "      <th>goals</th>\n",
       "      <th>ligue</th>\n",
       "      <th>f_team</th>\n",
       "      <th>pos_f</th>\n",
       "      <th>...</th>\n",
       "      <th>tm_2</th>\n",
       "      <th>ls_25</th>\n",
       "      <th>mr_25</th>\n",
       "      <th>f_pow_bet</th>\n",
       "      <th>f_pow_pts</th>\n",
       "      <th>f_pow</th>\n",
       "      <th>desc</th>\n",
       "      <th>country</th>\n",
       "      <th>city</th>\n",
       "      <th>iso_code</th>\n",
       "    </tr>\n",
       "  </thead>\n",
       "  <tbody>\n",
       "    <tr>\n",
       "      <th>0</th>\n",
       "      <td>1687696</td>\n",
       "      <td>OBOS liga</td>\n",
       "      <td>668</td>\n",
       "      <td>301</td>\n",
       "      <td>26.05.2022 15:00</td>\n",
       "      <td>Skeid - Sandnes Ulf</td>\n",
       "      <td>0:1</td>\n",
       "      <td>thr</td>\n",
       "      <td>Skeid</td>\n",
       "      <td>16.0</td>\n",
       "      <td>...</td>\n",
       "      <td>None</td>\n",
       "      <td>None</td>\n",
       "      <td>None</td>\n",
       "      <td>None</td>\n",
       "      <td>Pre</td>\n",
       "      <td>Pre</td>\n",
       "      <td>fav_pre</td>\n",
       "      <td>Norway</td>\n",
       "      <td>Oslo</td>\n",
       "      <td>NO</td>\n",
       "    </tr>\n",
       "    <tr>\n",
       "      <th>1</th>\n",
       "      <td>1687694</td>\n",
       "      <td>OBOS liga</td>\n",
       "      <td>668</td>\n",
       "      <td>301</td>\n",
       "      <td>26.05.2022 16:00</td>\n",
       "      <td>Kongsvinger - Brann</td>\n",
       "      <td>1:3</td>\n",
       "      <td>thr</td>\n",
       "      <td>Kongsvinger</td>\n",
       "      <td>13.0</td>\n",
       "      <td>...</td>\n",
       "      <td>None</td>\n",
       "      <td>None</td>\n",
       "      <td>None</td>\n",
       "      <td>None</td>\n",
       "      <td>Pre</td>\n",
       "      <td>Pre</td>\n",
       "      <td>fav_pre</td>\n",
       "      <td>Norway</td>\n",
       "      <td>Kongsvinger</td>\n",
       "      <td>NO</td>\n",
       "    </tr>\n",
       "    <tr>\n",
       "      <th>2</th>\n",
       "      <td>1687692</td>\n",
       "      <td>OBOS liga</td>\n",
       "      <td>668</td>\n",
       "      <td>301</td>\n",
       "      <td>26.05.2022 16:00</td>\n",
       "      <td>Bryne - Stabaek</td>\n",
       "      <td>0:0</td>\n",
       "      <td>thr</td>\n",
       "      <td>Bryne</td>\n",
       "      <td>12.0</td>\n",
       "      <td>...</td>\n",
       "      <td>None</td>\n",
       "      <td>None</td>\n",
       "      <td>None</td>\n",
       "      <td>None</td>\n",
       "      <td>Pre</td>\n",
       "      <td>Pre</td>\n",
       "      <td>fav_pre</td>\n",
       "      <td>Norway</td>\n",
       "      <td>Bryne</td>\n",
       "      <td>NO</td>\n",
       "    </tr>\n",
       "  </tbody>\n",
       "</table>\n",
       "<p>3 rows × 41 columns</p>\n",
       "</div>"
      ],
      "text/plain": [
       "   game_id ligue_header comp_id season_id          game_utc  \\\n",
       "0  1687696    OBOS liga     668       301  26.05.2022 15:00   \n",
       "1  1687694    OBOS liga     668       301  26.05.2022 16:00   \n",
       "2  1687692    OBOS liga     668       301  26.05.2022 16:00   \n",
       "\n",
       "            game_title goals ligue       f_team pos_f  ...  tm_2 ls_25 mr_25  \\\n",
       "0  Skeid - Sandnes Ulf   0:1   thr        Skeid  16.0  ...  None  None  None   \n",
       "1  Kongsvinger - Brann   1:3   thr  Kongsvinger  13.0  ...  None  None  None   \n",
       "2      Bryne - Stabaek   0:0   thr        Bryne  12.0  ...  None  None  None   \n",
       "\n",
       "  f_pow_bet f_pow_pts f_pow     desc country         city iso_code  \n",
       "0      None       Pre   Pre  fav_pre  Norway         Oslo       NO  \n",
       "1      None       Pre   Pre  fav_pre  Norway  Kongsvinger       NO  \n",
       "2      None       Pre   Pre  fav_pre  Norway        Bryne       NO  \n",
       "\n",
       "[3 rows x 41 columns]"
      ]
     },
     "execution_count": 9,
     "metadata": {},
     "output_type": "execute_result"
    }
   ],
   "source": [
    "df_wt_coords.head(3)"
   ]
  },
  {
   "cell_type": "code",
   "execution_count": 10,
   "metadata": {},
   "outputs": [
    {
     "data": {
      "text/plain": [
       "\"['Moldova', 'Republic of Ireland', 'FYR Macedonia', 'Syria', 'Libya', 'Congo DR', 'Tanzania', 'England', 'Wales', 'Korea Republic', 'Ivory Coast', 'Bosnia-Herzegovina', 'China PR', 'Scotland', 'Northern Ireland']\""
      ]
     },
     "execution_count": 10,
     "metadata": {},
     "output_type": "execute_result"
    }
   ],
   "source": [
    "country_wt_iso = list(set(df_wt_coords[df_wt_coords.iso_code.isna()].country.values))\n",
    "str(country_wt_iso)"
   ]
  },
  {
   "cell_type": "code",
   "execution_count": 11,
   "metadata": {},
   "outputs": [],
   "source": [
    "#  For teams dataframe:\n",
    "# ['England', 'Wales', 'Scotland', 'Northern Ireland'] - 'United Kingdom'\n",
    "\n",
    "# For world cities dataframe:\n",
    "# 'Tanzania, United Republic of' - Tanzania, 'Moldova, Republic of' - 'Moldova',\n",
    "# 'Congo, the Democratic Republic of the' - 'Congo DR', 'United States Of America' - 'USA', 'Syrian Arab Republic' - 'Syria',\n",
    "# 'China' - 'China PR', 'Korea, Republic of (South Korea) - 'Korea Republic', 'Macedonia, the former Yugoslav Republic of' - 'FYR Macedonia', \n",
    "# 'Bosnia and Herzegovina' - 'Bosnia-Herzegovina', 'Ireland' - 'Republic of Ireland', 'Libyan Arab Jamahiriya' - 'Libya', \n",
    "# 'Côte d'Ivoire' - 'Ivory Coast'"
   ]
  },
  {
   "cell_type": "code",
   "execution_count": 12,
   "metadata": {},
   "outputs": [
    {
     "data": {
      "text/html": [
       "<div>\n",
       "<style scoped>\n",
       "    .dataframe tbody tr th:only-of-type {\n",
       "        vertical-align: middle;\n",
       "    }\n",
       "\n",
       "    .dataframe tbody tr th {\n",
       "        vertical-align: top;\n",
       "    }\n",
       "\n",
       "    .dataframe thead th {\n",
       "        text-align: right;\n",
       "    }\n",
       "</style>\n",
       "<table border=\"1\" class=\"dataframe\">\n",
       "  <thead>\n",
       "    <tr style=\"text-align: right;\">\n",
       "      <th></th>\n",
       "      <th>country</th>\n",
       "      <th>iso_code</th>\n",
       "      <th>alpha-3 code</th>\n",
       "      <th>numeric code</th>\n",
       "      <th>iso 3166-2</th>\n",
       "    </tr>\n",
       "  </thead>\n",
       "  <tbody>\n",
       "    <tr>\n",
       "      <th>195</th>\n",
       "      <td>Serbia</td>\n",
       "      <td>RS</td>\n",
       "      <td>SRB</td>\n",
       "      <td>688</td>\n",
       "      <td>ISO 3166-2:RS</td>\n",
       "    </tr>\n",
       "  </tbody>\n",
       "</table>\n",
       "</div>"
      ],
      "text/plain": [
       "    country iso_code alpha-3 code  numeric code     iso 3166-2\n",
       "195  Serbia       RS          SRB           688  ISO 3166-2:RS"
      ]
     },
     "execution_count": 12,
     "metadata": {},
     "output_type": "execute_result"
    }
   ],
   "source": [
    "df_country_code[df_country_code.country == 'Serbia']"
   ]
  },
  {
   "cell_type": "code",
   "execution_count": 13,
   "metadata": {},
   "outputs": [],
   "source": [
    "british_list          = ['England', 'Northern Ireland', 'Scotland', 'Wales']\n",
    "df_wt_coords.iso_code = df_wt_coords[['country', 'iso_code']].apply(lambda x: 'GB' if x[0] in british_list else x[1], axis=1)"
   ]
  },
  {
   "cell_type": "code",
   "execution_count": 14,
   "metadata": {},
   "outputs": [],
   "source": [
    "countries_chng = {'Tanzania, United Republic of':'Tanzania', 'Moldova, Republic of':'Moldova',\n",
    "                  'Congo, the Democratic Republic of the':'Congo DR', 'United States Of America':'USA', 'Syrian Arab Republic':'Syria',\n",
    "                  'China':'China PR', 'Korea, Republic of (South Korea)':'Korea Republic', 'Macedonia, the former Yugoslav Republic of':'FYR Macedonia', \n",
    "                  'Bosnia and Herzegovina':'Bosnia-Herzegovina', 'Ireland':'Republic of Ireland', 'Libyan Arab Jamahiriya':'Libya',\n",
    "                  'Côte d\\'Ivoire':'Ivory Coast'}"
   ]
  },
  {
   "cell_type": "code",
   "execution_count": 15,
   "metadata": {},
   "outputs": [],
   "source": [
    "df_country_code.country = df_country_code.country.map(lambda x: countries_chng[x] if x in countries_chng.keys() else x)"
   ]
  },
  {
   "cell_type": "code",
   "execution_count": 16,
   "metadata": {},
   "outputs": [],
   "source": [
    "df_wt_coords.drop(columns=['iso_code'], inplace=True)"
   ]
  },
  {
   "cell_type": "code",
   "execution_count": 17,
   "metadata": {},
   "outputs": [
    {
     "data": {
      "text/plain": [
       "(38474, 41)"
      ]
     },
     "execution_count": 17,
     "metadata": {},
     "output_type": "execute_result"
    }
   ],
   "source": [
    "df_wt_coords = df_wt_coords.merge(df_country_code[['country', 'iso_code']], how='left', left_on=['country'], right_on=['country'])\n",
    "df_wt_coords.shape"
   ]
  },
  {
   "cell_type": "code",
   "execution_count": 18,
   "metadata": {},
   "outputs": [
    {
     "data": {
      "text/plain": [
       "\"['England', 'Wales', 'Scotland', 'Northern Ireland']\""
      ]
     },
     "execution_count": 18,
     "metadata": {},
     "output_type": "execute_result"
    }
   ],
   "source": [
    "# Changed there counties on 'GB' yet\n",
    "country_wt_iso = list(set(df_wt_coords[df_wt_coords.iso_code.isna()].country.values))\n",
    "str(country_wt_iso)"
   ]
  },
  {
   "cell_type": "code",
   "execution_count": 19,
   "metadata": {},
   "outputs": [
    {
     "data": {
      "text/html": [
       "<div>\n",
       "<style scoped>\n",
       "    .dataframe tbody tr th:only-of-type {\n",
       "        vertical-align: middle;\n",
       "    }\n",
       "\n",
       "    .dataframe tbody tr th {\n",
       "        vertical-align: top;\n",
       "    }\n",
       "\n",
       "    .dataframe thead th {\n",
       "        text-align: right;\n",
       "    }\n",
       "</style>\n",
       "<table border=\"1\" class=\"dataframe\">\n",
       "  <thead>\n",
       "    <tr style=\"text-align: right;\">\n",
       "      <th></th>\n",
       "      <th>city</th>\n",
       "      <th>iso_code</th>\n",
       "      <th>country</th>\n",
       "    </tr>\n",
       "  </thead>\n",
       "  <tbody>\n",
       "    <tr>\n",
       "      <th>0</th>\n",
       "      <td>A Coruña</td>\n",
       "      <td>ES</td>\n",
       "      <td>Spain</td>\n",
       "    </tr>\n",
       "    <tr>\n",
       "      <th>1</th>\n",
       "      <td>Aalborg</td>\n",
       "      <td>DK</td>\n",
       "      <td>Denmark</td>\n",
       "    </tr>\n",
       "    <tr>\n",
       "      <th>2</th>\n",
       "      <td>Aarau</td>\n",
       "      <td>CH</td>\n",
       "      <td>Switzerland</td>\n",
       "    </tr>\n",
       "  </tbody>\n",
       "</table>\n",
       "</div>"
      ],
      "text/plain": [
       "       city iso_code      country\n",
       "0  A Coruña       ES        Spain\n",
       "1   Aalborg       DK      Denmark\n",
       "2     Aarau       CH  Switzerland"
      ]
     },
     "execution_count": 19,
     "metadata": {},
     "output_type": "execute_result"
    }
   ],
   "source": [
    "df_uniq_city_iso = df_wt_coords[['country', 'city', 'iso_code']].groupby(by=['city', 'iso_code']).first().reset_index()\n",
    "df_uniq_city_iso.head(3)"
   ]
  },
  {
   "cell_type": "code",
   "execution_count": 23,
   "metadata": {},
   "outputs": [],
   "source": [
    "# labrary example\n",
    "c = CityCoordinator()\n",
    "# c.get_city(city_name=\"London\", country_code_iso=\"GB\")"
   ]
  },
  {
   "cell_type": "code",
   "execution_count": 24,
   "metadata": {},
   "outputs": [],
   "source": [
    "df_for_loc = df_uniq_city_iso[['city', 'iso_code']].apply(lambda x: c.get_city(city_name=x[0], country_code_iso=x[1]), axis=1)"
   ]
  },
  {
   "cell_type": "code",
   "execution_count": 25,
   "metadata": {},
   "outputs": [
    {
     "data": {
      "text/plain": [
       "{'lon': '-8.396', 'lat': '43.37135'}"
      ]
     },
     "execution_count": 25,
     "metadata": {},
     "output_type": "execute_result"
    }
   ],
   "source": [
    "df_for_loc[0]['location']"
   ]
  },
  {
   "cell_type": "code",
   "execution_count": 26,
   "metadata": {},
   "outputs": [],
   "source": [
    "location = [x['location'] if x != None else None for x in df_for_loc]\n",
    "lon      = [x['lon'] if x != None else None for x in location]\n",
    "lat      = [x['lat'] if x != None else None for x in location]"
   ]
  },
  {
   "cell_type": "code",
   "execution_count": 27,
   "metadata": {},
   "outputs": [],
   "source": [
    "df_uniq_city_iso['lon'] = lon\n",
    "df_uniq_city_iso['lat'] = lat"
   ]
  },
  {
   "cell_type": "code",
   "execution_count": 34,
   "metadata": {},
   "outputs": [
    {
     "data": {
      "text/html": [
       "<div>\n",
       "<style scoped>\n",
       "    .dataframe tbody tr th:only-of-type {\n",
       "        vertical-align: middle;\n",
       "    }\n",
       "\n",
       "    .dataframe tbody tr th {\n",
       "        vertical-align: top;\n",
       "    }\n",
       "\n",
       "    .dataframe thead th {\n",
       "        text-align: right;\n",
       "    }\n",
       "</style>\n",
       "<table border=\"1\" class=\"dataframe\">\n",
       "  <thead>\n",
       "    <tr style=\"text-align: right;\">\n",
       "      <th></th>\n",
       "      <th>city</th>\n",
       "      <th>iso_code</th>\n",
       "      <th>country</th>\n",
       "      <th>lon</th>\n",
       "      <th>lat</th>\n",
       "    </tr>\n",
       "  </thead>\n",
       "  <tbody>\n",
       "    <tr>\n",
       "      <th>5</th>\n",
       "      <td>Abo</td>\n",
       "      <td>FI</td>\n",
       "      <td>Finland</td>\n",
       "      <td>None</td>\n",
       "      <td>None</td>\n",
       "    </tr>\n",
       "    <tr>\n",
       "      <th>8</th>\n",
       "      <td>Accre</td>\n",
       "      <td>IL</td>\n",
       "      <td>Israel</td>\n",
       "      <td>None</td>\n",
       "      <td>None</td>\n",
       "    </tr>\n",
       "    <tr>\n",
       "      <th>13</th>\n",
       "      <td>Adjara</td>\n",
       "      <td>GE</td>\n",
       "      <td>Georgia</td>\n",
       "      <td>None</td>\n",
       "      <td>None</td>\n",
       "    </tr>\n",
       "    <tr>\n",
       "      <th>18</th>\n",
       "      <td>Agrinio</td>\n",
       "      <td>GR</td>\n",
       "      <td>Greece</td>\n",
       "      <td>None</td>\n",
       "      <td>None</td>\n",
       "    </tr>\n",
       "    <tr>\n",
       "      <th>21</th>\n",
       "      <td>Ahwaz</td>\n",
       "      <td>IR</td>\n",
       "      <td>Iran</td>\n",
       "      <td>None</td>\n",
       "      <td>None</td>\n",
       "    </tr>\n",
       "    <tr>\n",
       "      <th>...</th>\n",
       "      <td>...</td>\n",
       "      <td>...</td>\n",
       "      <td>...</td>\n",
       "      <td>...</td>\n",
       "      <td>...</td>\n",
       "    </tr>\n",
       "    <tr>\n",
       "      <th>2243</th>\n",
       "      <td>Óbuda</td>\n",
       "      <td>HU</td>\n",
       "      <td>Hungary</td>\n",
       "      <td>None</td>\n",
       "      <td>None</td>\n",
       "    </tr>\n",
       "    <tr>\n",
       "      <th>2246</th>\n",
       "      <td>Östergötland</td>\n",
       "      <td>SE</td>\n",
       "      <td>Sweden</td>\n",
       "      <td>None</td>\n",
       "      <td>None</td>\n",
       "    </tr>\n",
       "    <tr>\n",
       "      <th>2248</th>\n",
       "      <td>Újpest</td>\n",
       "      <td>HU</td>\n",
       "      <td>Hungary</td>\n",
       "      <td>None</td>\n",
       "      <td>None</td>\n",
       "    </tr>\n",
       "    <tr>\n",
       "      <th>2253</th>\n",
       "      <td>İstanbul</td>\n",
       "      <td>TR</td>\n",
       "      <td>Turkey</td>\n",
       "      <td>None</td>\n",
       "      <td>None</td>\n",
       "    </tr>\n",
       "    <tr>\n",
       "      <th>2261</th>\n",
       "      <td>Štip</td>\n",
       "      <td>MK</td>\n",
       "      <td>FYR Macedonia</td>\n",
       "      <td>None</td>\n",
       "      <td>None</td>\n",
       "    </tr>\n",
       "  </tbody>\n",
       "</table>\n",
       "<p>669 rows × 5 columns</p>\n",
       "</div>"
      ],
      "text/plain": [
       "              city iso_code        country   lon   lat\n",
       "5              Abo       FI        Finland  None  None\n",
       "8            Accre       IL         Israel  None  None\n",
       "13          Adjara       GE        Georgia  None  None\n",
       "18         Agrinio       GR         Greece  None  None\n",
       "21           Ahwaz       IR           Iran  None  None\n",
       "...            ...      ...            ...   ...   ...\n",
       "2243         Óbuda       HU        Hungary  None  None\n",
       "2246  Östergötland       SE         Sweden  None  None\n",
       "2248        Újpest       HU        Hungary  None  None\n",
       "2253      İstanbul       TR         Turkey  None  None\n",
       "2261          Štip       MK  FYR Macedonia  None  None\n",
       "\n",
       "[669 rows x 5 columns]"
      ]
     },
     "execution_count": 34,
     "metadata": {},
     "output_type": "execute_result"
    }
   ],
   "source": [
    "df_wt_coord = df_uniq_city_iso[df_uniq_city_iso.lon.isna()]\n",
    "df_wt_coord"
   ]
  },
  {
   "cell_type": "code",
   "execution_count": 35,
   "metadata": {},
   "outputs": [
    {
     "data": {
      "text/plain": [
       "[array(['Abo', 'Finland'], dtype=object)]"
      ]
     },
     "execution_count": 35,
     "metadata": {},
     "output_type": "execute_result"
    }
   ],
   "source": [
    "list(df_wt_coord.loc[5:5, ['city', 'country']].values)"
   ]
  },
  {
   "cell_type": "code",
   "execution_count": 36,
   "metadata": {},
   "outputs": [],
   "source": [
    "cities_countries = list(df_wt_coord[['city', 'country']].apply(lambda x: (x[0], x[1]), axis=1))"
   ]
  },
  {
   "cell_type": "code",
   "execution_count": 37,
   "metadata": {},
   "outputs": [
    {
     "data": {
      "text/plain": [
       "True"
      ]
     },
     "execution_count": 37,
     "metadata": {},
     "output_type": "execute_result"
    }
   ],
   "source": [
    "('Štip', 'FYR Macedonia') == cities_countries[-1]"
   ]
  },
  {
   "cell_type": "code",
   "execution_count": 54,
   "metadata": {},
   "outputs": [],
   "source": [
    "tmp_st_ct = cities_countries[:10]"
   ]
  },
  {
   "cell_type": "code",
   "execution_count": 50,
   "metadata": {},
   "outputs": [],
   "source": [
    "# import time\n",
    "# from  geopy.geocoders import Nominatim\n",
    "# geolocator = Nominatim(user_agent=\"Your_Name\")\n",
    "\n",
    "# # cities_countries - list of tuples: ('Štip', 'FYR Macedonia')\n",
    "# def cities_data_with_geocoordinates(cities_countries: list, name_saved_file='cities_data_26_05_2022'):\n",
    "#     cities_data = []\n",
    "\n",
    "#     for city_country, count in zip(cities_countries, range(len(cities_countries))):\n",
    "#         try:\n",
    "#             data = geolocator.geocode(city_country[0] +','+ city_country[1])\n",
    "#             cities_data.append([tuple(city_country), data])     \n",
    "\n",
    "#             if ((count % 500 == 0) & (count != 0)) | (city_country == cities_countries[-1]):  \n",
    "#                 print('Cities_data_saved - {}'.format(city_country))\n",
    "\n",
    "#                 file = open('pickle_files/cities_countries/' + name_saved_file + '_' + str(city_country[0]) + '_' + str(city_country[1]), 'wb')\n",
    "#                 pickle.dump(cities_data, file)  \n",
    "#                 file.close() \n",
    "\n",
    "#             time.sleep(2)\n",
    "\n",
    "#         except ConnectionError:\n",
    "#             time.sleep(300)       \n",
    "\n",
    "#     return print('All cities data saved with last names: {}'.format(city_country))"
   ]
  },
  {
   "cell_type": "code",
   "execution_count": 53,
   "metadata": {},
   "outputs": [],
   "source": [
    "# cities_countries"
   ]
  },
  {
   "cell_type": "code",
   "execution_count": 51,
   "metadata": {},
   "outputs": [
    {
     "ename": "KeyboardInterrupt",
     "evalue": "",
     "output_type": "error",
     "traceback": [
      "\u001b[0;31m---------------------------------------------------------------------------\u001b[0m",
      "\u001b[0;31mKeyboardInterrupt\u001b[0m                         Traceback (most recent call last)",
      "Input \u001b[0;32mIn [51]\u001b[0m, in \u001b[0;36m<module>\u001b[0;34m\u001b[0m\n\u001b[0;32m----> 1\u001b[0m \u001b[43mcities_data_with_geocoordinates\u001b[49m\u001b[43m(\u001b[49m\u001b[43mcities_countries\u001b[49m\u001b[43m)\u001b[49m\n",
      "Input \u001b[0;32mIn [50]\u001b[0m, in \u001b[0;36mcities_data_with_geocoordinates\u001b[0;34m(cities_countries, name_saved_file)\u001b[0m\n\u001b[1;32m     18\u001b[0m         pickle\u001b[38;5;241m.\u001b[39mdump(cities_data, file)  \n\u001b[1;32m     19\u001b[0m         file\u001b[38;5;241m.\u001b[39mclose() \n\u001b[0;32m---> 21\u001b[0m     \u001b[43mtime\u001b[49m\u001b[38;5;241;43m.\u001b[39;49m\u001b[43msleep\u001b[49m\u001b[43m(\u001b[49m\u001b[38;5;241;43m2\u001b[39;49m\u001b[43m)\u001b[49m\n\u001b[1;32m     23\u001b[0m \u001b[38;5;28;01mexcept\u001b[39;00m \u001b[38;5;167;01mConnectionError\u001b[39;00m:\n\u001b[1;32m     24\u001b[0m     time\u001b[38;5;241m.\u001b[39msleep(\u001b[38;5;241m300\u001b[39m)       \n",
      "\u001b[0;31mKeyboardInterrupt\u001b[0m: "
     ]
    }
   ],
   "source": [
    "HtmlParser.cities_data_with_geocoordinates(tmp_st_ct)"
   ]
  },
  {
   "cell_type": "code",
   "execution_count": null,
   "metadata": {},
   "outputs": [],
   "source": []
  },
  {
   "cell_type": "markdown",
   "metadata": {},
   "source": [
    "### Lat_lon"
   ]
  },
  {
   "cell_type": "code",
   "execution_count": null,
   "metadata": {},
   "outputs": [],
   "source": [
    "# palmyra = LatLon(Latitude(42.4833333), Longitude(1.4666667)) # Location of Palmyra Atoll in decimal degrees\n",
    "# palmyra = LatLon(5.8833, -162.0833) # Same thing but simpler!\n",
    "# palmyra = LatLon(Latitude(degree = 5, minute = 52, second = 59.88), Longitude(degree = -162, minute = -4.998) # or more complicated!\n",
    "# cordinates = palmyra.to_string('d% %m% %S% %H') # Print coordinates to degree minute second\n",
    "# ('5 52 59.88 N', '162 4 59.88 W')"
   ]
  },
  {
   "cell_type": "code",
   "execution_count": null,
   "metadata": {},
   "outputs": [],
   "source": [
    "# df = df_world_cities[['latitude', 'longitude']].copy()"
   ]
  },
  {
   "cell_type": "code",
   "execution_count": null,
   "metadata": {},
   "outputs": [],
   "source": [
    "# df_world_cities['lat'], df_world_cities['lon'] = ParsingDataPrepare.lat_lon_calculate(df_world_cities)"
   ]
  },
  {
   "cell_type": "code",
   "execution_count": null,
   "metadata": {},
   "outputs": [],
   "source": [
    "# df_world_cities"
   ]
  },
  {
   "cell_type": "code",
   "execution_count": null,
   "metadata": {},
   "outputs": [],
   "source": []
  },
  {
   "cell_type": "code",
   "execution_count": null,
   "metadata": {},
   "outputs": [],
   "source": []
  },
  {
   "cell_type": "code",
   "execution_count": null,
   "metadata": {},
   "outputs": [],
   "source": []
  },
  {
   "cell_type": "code",
   "execution_count": null,
   "metadata": {},
   "outputs": [],
   "source": [
    "with open('pickle_files/cities_countries/cities_data_26_05_2022_Bou Saâda_Algeria', 'rb') as f:\n",
    "    cities_data = pickle.load(f)"
   ]
  },
  {
   "cell_type": "code",
   "execution_count": null,
   "metadata": {},
   "outputs": [],
   "source": [
    "len(cities_data)"
   ]
  },
  {
   "cell_type": "code",
   "execution_count": null,
   "metadata": {},
   "outputs": [],
   "source": [
    "cities_data[:3]"
   ]
  },
  {
   "cell_type": "code",
   "execution_count": null,
   "metadata": {},
   "outputs": [],
   "source": [
    "list_cities, list_countries, list_data = [], [], []\n",
    "\n",
    "for data in cities_data:\n",
    "    list_cities.append(data[0][0])\n",
    "    list_countries.append(data[0][1])\n",
    "    if data[1] != None:\n",
    "        list_data.append([data[1].latitude, data[1].longitude])\n",
    "    else:\n",
    "        list_data.append([None, None])"
   ]
  },
  {
   "cell_type": "code",
   "execution_count": null,
   "metadata": {},
   "outputs": [],
   "source": [
    "list_lat = [x[0] for x in list_data]\n",
    "list_lon = [x[1] for x in list_data]"
   ]
  },
  {
   "cell_type": "code",
   "execution_count": null,
   "metadata": {},
   "outputs": [],
   "source": [
    "df_data = pd.DataFrame({'country':list_countries, 'city':list_cities, 'latitude':list_lat, 'longitude':list_lon})"
   ]
  },
  {
   "cell_type": "code",
   "execution_count": null,
   "metadata": {},
   "outputs": [],
   "source": [
    "df_data['population'] = None\n",
    "df_data.insert(2, 'population', df_data.pop('population'))"
   ]
  },
  {
   "cell_type": "code",
   "execution_count": null,
   "metadata": {},
   "outputs": [],
   "source": [
    "df_data.shape"
   ]
  },
  {
   "cell_type": "code",
   "execution_count": null,
   "metadata": {},
   "outputs": [],
   "source": [
    "df_data = df_data[(~df_data.latitude.isna()) | (~df_data.longitude.isna())].copy()\n",
    "df_data.reset_index(drop=True, inplace=True)"
   ]
  },
  {
   "cell_type": "code",
   "execution_count": null,
   "metadata": {},
   "outputs": [],
   "source": [
    "df_lat_lon = df_data[['latitude', 'longitude']].copy()"
   ]
  },
  {
   "cell_type": "code",
   "execution_count": null,
   "metadata": {},
   "outputs": [],
   "source": [
    "df_data['lat'], df_data['lon'] = ParsingDataPrepare.lat_lon_calculate(df_lat_lon)"
   ]
  },
  {
   "cell_type": "code",
   "execution_count": null,
   "metadata": {},
   "outputs": [],
   "source": [
    "# df_data"
   ]
  },
  {
   "cell_type": "code",
   "execution_count": null,
   "metadata": {},
   "outputs": [],
   "source": [
    "# file = open('pickle_files/cities_countries/df_world_cities_3_own', 'wb')\n",
    "# pickle.dump(df_data, file)  \n",
    "# file.close()"
   ]
  },
  {
   "cell_type": "code",
   "execution_count": null,
   "metadata": {},
   "outputs": [],
   "source": [
    "# Exempl\n",
    "from  geopy.geocoders import Nominatim\n",
    "geolocator = Nominatim(user_agent=\"Your_Name\")\n",
    "\n",
    "city =\"Russia\"\n",
    "country =\"Perm\"\n",
    "loc = geolocator.geocode(city+','+ country)\n",
    "lat = loc.latitude\n",
    "long = loc.longitude\n",
    "\n",
    "print(lat, long)"
   ]
  },
  {
   "cell_type": "code",
   "execution_count": null,
   "metadata": {},
   "outputs": [],
   "source": []
  },
  {
   "cell_type": "code",
   "execution_count": null,
   "metadata": {},
   "outputs": [],
   "source": [
    "# find_c = df_country_code.country.apply(lambda x: x if re.findall(r'Macedonia', str(x)) else None)\n",
    "# find_c.value_counts()"
   ]
  },
  {
   "cell_type": "code",
   "execution_count": null,
   "metadata": {},
   "outputs": [],
   "source": [
    "# df_country_code[df_country_code.country == 'Macedonia, the former Yugoslav Republic of']"
   ]
  },
  {
   "cell_type": "code",
   "execution_count": null,
   "metadata": {},
   "outputs": [],
   "source": []
  },
  {
   "cell_type": "code",
   "execution_count": null,
   "metadata": {},
   "outputs": [],
   "source": [
    "df_wt_coords = df_wt_coords.merge(df_iso_codes, how='left', left_on=['country'], right_on=['country'])\n",
    "df_wt_coords.shape"
   ]
  },
  {
   "cell_type": "code",
   "execution_count": null,
   "metadata": {},
   "outputs": [],
   "source": [
    "df_wt_coords.iso_code = df_wt_coords[['iso_code', 'iso_code_own']].apply(lambda x: x[1] if pd.isna(x[0]) else x[0], axis=1)"
   ]
  },
  {
   "cell_type": "code",
   "execution_count": null,
   "metadata": {},
   "outputs": [],
   "source": [
    "df_wt_coords[df_wt_coords.iso_code.isna()]"
   ]
  },
  {
   "cell_type": "code",
   "execution_count": null,
   "metadata": {},
   "outputs": [],
   "source": [
    "# df_location = df_wt_coords[['city', 'iso_code']].apply(lambda x: c.get_city(city_name=x[0], country_code_iso=x[1]), axis=1)"
   ]
  },
  {
   "cell_type": "code",
   "execution_count": null,
   "metadata": {},
   "outputs": [],
   "source": [
    "df_tmp"
   ]
  },
  {
   "cell_type": "code",
   "execution_count": null,
   "metadata": {},
   "outputs": [],
   "source": [
    "df_countries = df_wt_coords[df_wt_coords.iso_code.isna()].country"
   ]
  },
  {
   "cell_type": "code",
   "execution_count": null,
   "metadata": {},
   "outputs": [],
   "source": [
    "df_countries.drop_duplicates(inplace=True)"
   ]
  },
  {
   "cell_type": "code",
   "execution_count": null,
   "metadata": {},
   "outputs": [],
   "source": [
    "df_countries.values"
   ]
  },
  {
   "cell_type": "code",
   "execution_count": null,
   "metadata": {},
   "outputs": [],
   "source": []
  }
 ],
 "metadata": {
  "kernelspec": {
   "display_name": "Python 3 (ipykernel)",
   "language": "python",
   "name": "python3"
  },
  "language_info": {
   "codemirror_mode": {
    "name": "ipython",
    "version": 3
   },
   "file_extension": ".py",
   "mimetype": "text/x-python",
   "name": "python",
   "nbconvert_exporter": "python",
   "pygments_lexer": "ipython3",
   "version": "3.9.7"
  }
 },
 "nbformat": 4,
 "nbformat_minor": 4
}

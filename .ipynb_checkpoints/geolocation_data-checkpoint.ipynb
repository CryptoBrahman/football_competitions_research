{
 "cells": [
  {
   "cell_type": "code",
   "execution_count": 1,
   "metadata": {},
   "outputs": [],
   "source": [
    "import re\n",
    "import pandas as pd\n",
    "import numpy as np\n",
    "import unicodedata\n",
    "import pickle\n",
    "from cities_coordinates import CityCoordinator\n",
    "\n",
    "from _html_parser import HtmlParser, ParsingDataPrepare\n",
    "\n",
    "pd.set_option('display.max_colwidth', 1000)\n",
    "pd.set_option('display.max_columns', 50)\n",
    "pd.set_option('display.max_rows', 50)"
   ]
  },
  {
   "cell_type": "code",
   "execution_count": 2,
   "metadata": {},
   "outputs": [],
   "source": [
    "%load_ext autoreload\n",
    "%autoreload 2"
   ]
  },
  {
   "cell_type": "code",
   "execution_count": 3,
   "metadata": {},
   "outputs": [],
   "source": [
    "df_country_code = pd.read_csv('csv_files/wikipedia-iso-country-codes.csv') "
   ]
  },
  {
   "cell_type": "code",
   "execution_count": 4,
   "metadata": {},
   "outputs": [
    {
     "data": {
      "text/plain": [
       "(246, 5)"
      ]
     },
     "execution_count": 4,
     "metadata": {},
     "output_type": "execute_result"
    }
   ],
   "source": [
    "df_country_code.columns = [x.lower() for x in df_country_code.columns]\n",
    "df_country_code['alpha-2 code'] = df_country_code['alpha-2 code'].map(lambda x: str(x).lower())\n",
    "df_country_code.rename(columns={'english short name lower case':'country', 'alpha-2 code':'iso_code'}, inplace=True)\n",
    "df_country_code.iso_code = df_country_code.iso_code.str.upper()\n",
    "df_country_code.shape"
   ]
  },
  {
   "cell_type": "code",
   "execution_count": 5,
   "metadata": {},
   "outputs": [
    {
     "data": {
      "text/html": [
       "<div>\n",
       "<style scoped>\n",
       "    .dataframe tbody tr th:only-of-type {\n",
       "        vertical-align: middle;\n",
       "    }\n",
       "\n",
       "    .dataframe tbody tr th {\n",
       "        vertical-align: top;\n",
       "    }\n",
       "\n",
       "    .dataframe thead th {\n",
       "        text-align: right;\n",
       "    }\n",
       "</style>\n",
       "<table border=\"1\" class=\"dataframe\">\n",
       "  <thead>\n",
       "    <tr style=\"text-align: right;\">\n",
       "      <th></th>\n",
       "      <th>country</th>\n",
       "      <th>iso_code</th>\n",
       "      <th>alpha-3 code</th>\n",
       "      <th>numeric code</th>\n",
       "      <th>iso 3166-2</th>\n",
       "    </tr>\n",
       "  </thead>\n",
       "  <tbody>\n",
       "    <tr>\n",
       "      <th>0</th>\n",
       "      <td>Afghanistan</td>\n",
       "      <td>AF</td>\n",
       "      <td>AFG</td>\n",
       "      <td>4</td>\n",
       "      <td>ISO 3166-2:AF</td>\n",
       "    </tr>\n",
       "    <tr>\n",
       "      <th>1</th>\n",
       "      <td>Åland Islands</td>\n",
       "      <td>AX</td>\n",
       "      <td>ALA</td>\n",
       "      <td>248</td>\n",
       "      <td>ISO 3166-2:AX</td>\n",
       "    </tr>\n",
       "    <tr>\n",
       "      <th>2</th>\n",
       "      <td>Albania</td>\n",
       "      <td>AL</td>\n",
       "      <td>ALB</td>\n",
       "      <td>8</td>\n",
       "      <td>ISO 3166-2:AL</td>\n",
       "    </tr>\n",
       "  </tbody>\n",
       "</table>\n",
       "</div>"
      ],
      "text/plain": [
       "         country iso_code alpha-3 code  numeric code     iso 3166-2\n",
       "0    Afghanistan       AF          AFG             4  ISO 3166-2:AF\n",
       "1  Åland Islands       AX          ALA           248  ISO 3166-2:AX\n",
       "2        Albania       AL          ALB             8  ISO 3166-2:AL"
      ]
     },
     "execution_count": 5,
     "metadata": {},
     "output_type": "execute_result"
    }
   ],
   "source": [
    "df_country_code.head(3)"
   ]
  },
  {
   "cell_type": "code",
   "execution_count": 6,
   "metadata": {},
   "outputs": [
    {
     "data": {
      "text/html": [
       "<div>\n",
       "<style scoped>\n",
       "    .dataframe tbody tr th:only-of-type {\n",
       "        vertical-align: middle;\n",
       "    }\n",
       "\n",
       "    .dataframe tbody tr th {\n",
       "        vertical-align: top;\n",
       "    }\n",
       "\n",
       "    .dataframe thead th {\n",
       "        text-align: right;\n",
       "    }\n",
       "</style>\n",
       "<table border=\"1\" class=\"dataframe\">\n",
       "  <thead>\n",
       "    <tr style=\"text-align: right;\">\n",
       "      <th></th>\n",
       "      <th>country</th>\n",
       "      <th>iso_code</th>\n",
       "      <th>alpha-3 code</th>\n",
       "      <th>numeric code</th>\n",
       "      <th>iso 3166-2</th>\n",
       "    </tr>\n",
       "  </thead>\n",
       "  <tbody>\n",
       "  </tbody>\n",
       "</table>\n",
       "</div>"
      ],
      "text/plain": [
       "Empty DataFrame\n",
       "Columns: [country, iso_code, alpha-3 code, numeric code, iso 3166-2]\n",
       "Index: []"
      ]
     },
     "execution_count": 6,
     "metadata": {},
     "output_type": "execute_result"
    }
   ],
   "source": [
    "df_country_code[df_country_code.country.isin(['England', 'Northern Ireland', 'Scotland', 'Wales'])]"
   ]
  },
  {
   "cell_type": "code",
   "execution_count": 7,
   "metadata": {},
   "outputs": [],
   "source": [
    "with open('pickle_files/cities_countries/df_for_geo_coords_26_05_2022', 'rb') as f:\n",
    "    df_for_coords = pickle.load(f)"
   ]
  },
  {
   "cell_type": "markdown",
   "metadata": {},
   "source": [
    "#### Remove some countries"
   ]
  },
  {
   "cell_type": "code",
   "execution_count": 8,
   "metadata": {},
   "outputs": [
    {
     "name": "stdout",
     "output_type": "stream",
     "text": [
      "shape -  9210\n",
      "shape -  9002\n"
     ]
    }
   ],
   "source": [
    "# Remove USA country because many cities have twice locations in different states, 'Republic of Kosovo' - doesn't have iso_code, 'Syria' - not sure at coords\n",
    "print('shape - ', df_for_coords.shape[0])\n",
    "df_for_coords = df_for_coords[~df_for_coords.country.isin(['USA', 'Republic of Kosovo', 'Syria'])].copy()\n",
    "print('shape - ', df_for_coords.shape[0])"
   ]
  },
  {
   "cell_type": "code",
   "execution_count": 9,
   "metadata": {},
   "outputs": [],
   "source": [
    "#  For teams dataframe appoint iso_code:\n",
    "# ['England', 'Wales', 'Scotland', 'Northern Ireland'] - 'GB'\n",
    "\n",
    "# For world cities dataframe renames countries:\n",
    "# 'Tanzania, United Republic of' - Tanzania, 'Moldova, Republic of' - 'Moldova',\n",
    "# 'Congo, the Democratic Republic of the' - 'Congo DR', 'United States Of America' - 'USA', 'Syrian Arab Republic' - 'Syria',\n",
    "# 'China' - 'China PR', 'Korea, Republic of (South Korea) - 'Korea Republic', 'Macedonia, the former Yugoslav Republic of' - 'FYR Macedonia', \n",
    "# 'Bosnia and Herzegovina' - 'Bosnia-Herzegovina', 'Ireland' - 'Republic of Ireland', 'Libyan Arab Jamahiriya' - 'Libya', \n",
    "# 'Côte d'Ivoire' - 'Ivory Coast'"
   ]
  },
  {
   "cell_type": "code",
   "execution_count": 10,
   "metadata": {},
   "outputs": [],
   "source": [
    "countries_chng = {'Tanzania, United Republic of':'Tanzania', 'Moldova, Republic of':'Moldova',\n",
    "                  'Congo, the Democratic Republic of the':'Congo DR', 'United States Of America':'USA', 'Syrian Arab Republic':'Syria',\n",
    "                  'China':'China PR', 'Korea, Republic of (South Korea)':'Korea Republic', 'Macedonia, the former Yugoslav Republic of':'FYR Macedonia', \n",
    "                  'Bosnia and Herzegovina':'Bosnia-Herzegovina', 'Ireland':'Republic of Ireland', 'Libyan Arab Jamahiriya':'Libya',\n",
    "                  'Côte d\\'Ivoire':'Ivory Coast'}"
   ]
  },
  {
   "cell_type": "code",
   "execution_count": 11,
   "metadata": {},
   "outputs": [],
   "source": [
    "df_country_code.country = df_country_code.country.map(lambda x: countries_chng[x] if x in countries_chng.keys() else x)"
   ]
  },
  {
   "cell_type": "code",
   "execution_count": 12,
   "metadata": {},
   "outputs": [
    {
     "data": {
      "text/plain": [
       "(9002, 21)"
      ]
     },
     "execution_count": 12,
     "metadata": {},
     "output_type": "execute_result"
    }
   ],
   "source": [
    "df_for_coords = df_for_coords.merge(df_country_code[['country', 'iso_code']], how='left', left_on=['country'], right_on=['country'])\n",
    "df_for_coords.shape"
   ]
  },
  {
   "cell_type": "code",
   "execution_count": 13,
   "metadata": {},
   "outputs": [
    {
     "data": {
      "text/plain": [
       "array(['England', 'Scotland', 'Northern Ireland', 'Wales'], dtype=object)"
      ]
     },
     "execution_count": 13,
     "metadata": {},
     "output_type": "execute_result"
    }
   ],
   "source": [
    "df_for_coords[~df_for_coords.country.isin(df_country_code.country.unique())].country.unique()"
   ]
  },
  {
   "cell_type": "code",
   "execution_count": 14,
   "metadata": {},
   "outputs": [],
   "source": [
    "british_list           = ['England', 'Northern Ireland', 'Scotland', 'Wales']\n",
    "df_for_coords.iso_code = df_for_coords[['country', 'iso_code']].apply(lambda x: 'GB' if x[0] in british_list else x[1], axis=1)"
   ]
  },
  {
   "cell_type": "code",
   "execution_count": 15,
   "metadata": {},
   "outputs": [
    {
     "data": {
      "text/plain": [
       "array([], shape=(0, 21), dtype=object)"
      ]
     },
     "execution_count": 15,
     "metadata": {},
     "output_type": "execute_result"
    }
   ],
   "source": [
    "df_for_coords[df_for_coords.iso_code.isna()].values"
   ]
  },
  {
   "cell_type": "code",
   "execution_count": 16,
   "metadata": {},
   "outputs": [
    {
     "data": {
      "text/html": [
       "<div>\n",
       "<style scoped>\n",
       "    .dataframe tbody tr th:only-of-type {\n",
       "        vertical-align: middle;\n",
       "    }\n",
       "\n",
       "    .dataframe tbody tr th {\n",
       "        vertical-align: top;\n",
       "    }\n",
       "\n",
       "    .dataframe thead th {\n",
       "        text-align: right;\n",
       "    }\n",
       "</style>\n",
       "<table border=\"1\" class=\"dataframe\">\n",
       "  <thead>\n",
       "    <tr style=\"text-align: right;\">\n",
       "      <th></th>\n",
       "      <th>game_id</th>\n",
       "      <th>ligue_header</th>\n",
       "      <th>comp_id</th>\n",
       "      <th>season_id</th>\n",
       "      <th>game_utc</th>\n",
       "      <th>game_title</th>\n",
       "      <th>goals</th>\n",
       "      <th>ligue</th>\n",
       "      <th>f_team</th>\n",
       "      <th>pos_f</th>\n",
       "      <th>pts_f</th>\n",
       "      <th>pos_s</th>\n",
       "      <th>pts_s</th>\n",
       "      <th>fs_pos_max</th>\n",
       "      <th>fs_pts_max</th>\n",
       "      <th>f_pow</th>\n",
       "      <th>desc</th>\n",
       "      <th>country</th>\n",
       "      <th>team_id</th>\n",
       "      <th>city</th>\n",
       "      <th>iso_code</th>\n",
       "    </tr>\n",
       "  </thead>\n",
       "  <tbody>\n",
       "    <tr>\n",
       "      <th>0</th>\n",
       "      <td>1708335</td>\n",
       "      <td>Premier League</td>\n",
       "      <td>483</td>\n",
       "      <td>301</td>\n",
       "      <td>26.05.2022 15:00</td>\n",
       "      <td>FC Minsk - Arsenal Dzerzhinsk</td>\n",
       "      <td>2:0</td>\n",
       "      <td>top</td>\n",
       "      <td>FC Minsk</td>\n",
       "      <td>4.0</td>\n",
       "      <td>19.0</td>\n",
       "      <td>15.0</td>\n",
       "      <td>4.0</td>\n",
       "      <td>4 - 15, 16</td>\n",
       "      <td>19 - 4, 23</td>\n",
       "      <td>Fav</td>\n",
       "      <td>fav_pre</td>\n",
       "      <td>Belarus</td>\n",
       "      <td>540</td>\n",
       "      <td>Minsk</td>\n",
       "      <td>BY</td>\n",
       "    </tr>\n",
       "    <tr>\n",
       "      <th>1</th>\n",
       "      <td>1687696</td>\n",
       "      <td>OBOS liga</td>\n",
       "      <td>668</td>\n",
       "      <td>301</td>\n",
       "      <td>26.05.2022 15:00</td>\n",
       "      <td>Skeid - Sandnes Ulf</td>\n",
       "      <td>0:1</td>\n",
       "      <td>thr</td>\n",
       "      <td>Skeid</td>\n",
       "      <td>16.0</td>\n",
       "      <td>3.0</td>\n",
       "      <td>4.0</td>\n",
       "      <td>18.0</td>\n",
       "      <td>16 - 4, 16</td>\n",
       "      <td>3 - 18, 23</td>\n",
       "      <td>Pre</td>\n",
       "      <td>fav_pre</td>\n",
       "      <td>Norway</td>\n",
       "      <td>10294</td>\n",
       "      <td>Oslo</td>\n",
       "      <td>NO</td>\n",
       "    </tr>\n",
       "    <tr>\n",
       "      <th>2</th>\n",
       "      <td>1687694</td>\n",
       "      <td>OBOS liga</td>\n",
       "      <td>668</td>\n",
       "      <td>301</td>\n",
       "      <td>26.05.2022 16:00</td>\n",
       "      <td>Kongsvinger - Brann</td>\n",
       "      <td>1:3</td>\n",
       "      <td>thr</td>\n",
       "      <td>Kongsvinger</td>\n",
       "      <td>13.0</td>\n",
       "      <td>7.0</td>\n",
       "      <td>1.0</td>\n",
       "      <td>23.0</td>\n",
       "      <td>13 - 1, 16</td>\n",
       "      <td>7 - 23, 23</td>\n",
       "      <td>Pre</td>\n",
       "      <td>fav_pre</td>\n",
       "      <td>Norway</td>\n",
       "      <td>None</td>\n",
       "      <td>Kongsvinger</td>\n",
       "      <td>NO</td>\n",
       "    </tr>\n",
       "  </tbody>\n",
       "</table>\n",
       "</div>"
      ],
      "text/plain": [
       "   game_id    ligue_header comp_id season_id          game_utc  \\\n",
       "0  1708335  Premier League     483       301  26.05.2022 15:00   \n",
       "1  1687696       OBOS liga     668       301  26.05.2022 15:00   \n",
       "2  1687694       OBOS liga     668       301  26.05.2022 16:00   \n",
       "\n",
       "                      game_title goals ligue       f_team  pos_f  pts_f  \\\n",
       "0  FC Minsk - Arsenal Dzerzhinsk   2:0   top     FC Minsk    4.0   19.0   \n",
       "1            Skeid - Sandnes Ulf   0:1   thr        Skeid   16.0    3.0   \n",
       "2            Kongsvinger - Brann   1:3   thr  Kongsvinger   13.0    7.0   \n",
       "\n",
       "   pos_s  pts_s  fs_pos_max  fs_pts_max f_pow     desc  country team_id  \\\n",
       "0   15.0    4.0  4 - 15, 16  19 - 4, 23   Fav  fav_pre  Belarus     540   \n",
       "1    4.0   18.0  16 - 4, 16  3 - 18, 23   Pre  fav_pre   Norway   10294   \n",
       "2    1.0   23.0  13 - 1, 16  7 - 23, 23   Pre  fav_pre   Norway    None   \n",
       "\n",
       "          city iso_code  \n",
       "0        Minsk       BY  \n",
       "1         Oslo       NO  \n",
       "2  Kongsvinger       NO  "
      ]
     },
     "execution_count": 16,
     "metadata": {},
     "output_type": "execute_result"
    }
   ],
   "source": [
    "df_for_coords.head(3)"
   ]
  },
  {
   "cell_type": "code",
   "execution_count": 17,
   "metadata": {},
   "outputs": [],
   "source": [
    "with open('pickle_files/cities_countries/df_uniq_cities_coords_created_28_06_22', 'rb') as f:\n",
    "    df_uniq_cities_coords = pickle.load(f)"
   ]
  },
  {
   "cell_type": "code",
   "execution_count": 18,
   "metadata": {},
   "outputs": [
    {
     "name": "stdout",
     "output_type": "stream",
     "text": [
      "shape -  2251\n"
     ]
    },
    {
     "data": {
      "text/html": [
       "<div>\n",
       "<style scoped>\n",
       "    .dataframe tbody tr th:only-of-type {\n",
       "        vertical-align: middle;\n",
       "    }\n",
       "\n",
       "    .dataframe tbody tr th {\n",
       "        vertical-align: top;\n",
       "    }\n",
       "\n",
       "    .dataframe thead th {\n",
       "        text-align: right;\n",
       "    }\n",
       "</style>\n",
       "<table border=\"1\" class=\"dataframe\">\n",
       "  <thead>\n",
       "    <tr style=\"text-align: right;\">\n",
       "      <th></th>\n",
       "      <th>city</th>\n",
       "      <th>iso_code</th>\n",
       "      <th>country</th>\n",
       "      <th>longitude</th>\n",
       "      <th>latitude</th>\n",
       "      <th>lat</th>\n",
       "      <th>lon</th>\n",
       "    </tr>\n",
       "  </thead>\n",
       "  <tbody>\n",
       "    <tr>\n",
       "      <th>2248</th>\n",
       "      <td>Tvøroyri</td>\n",
       "      <td>FO</td>\n",
       "      <td>Faroe Islands</td>\n",
       "      <td>-6.803333</td>\n",
       "      <td>61.555833</td>\n",
       "      <td>61n33</td>\n",
       "      <td>6w48</td>\n",
       "    </tr>\n",
       "    <tr>\n",
       "      <th>2249</th>\n",
       "      <td>Ñemby</td>\n",
       "      <td>PY</td>\n",
       "      <td>Paraguay</td>\n",
       "      <td>-57.544300</td>\n",
       "      <td>-25.393500</td>\n",
       "      <td>25s23</td>\n",
       "      <td>57w32</td>\n",
       "    </tr>\n",
       "    <tr>\n",
       "      <th>2250</th>\n",
       "      <td>Štip</td>\n",
       "      <td>MK</td>\n",
       "      <td>FYR Macedonia</td>\n",
       "      <td>22.193558</td>\n",
       "      <td>41.737503</td>\n",
       "      <td>41n44</td>\n",
       "      <td>22e11</td>\n",
       "    </tr>\n",
       "  </tbody>\n",
       "</table>\n",
       "</div>"
      ],
      "text/plain": [
       "          city iso_code        country  longitude   latitude    lat    lon\n",
       "2248  Tvøroyri       FO  Faroe Islands  -6.803333  61.555833  61n33   6w48\n",
       "2249     Ñemby       PY       Paraguay -57.544300 -25.393500  25s23  57w32\n",
       "2250      Štip       MK  FYR Macedonia  22.193558  41.737503  41n44  22e11"
      ]
     },
     "execution_count": 18,
     "metadata": {},
     "output_type": "execute_result"
    }
   ],
   "source": [
    "print('shape - ', df_uniq_cities_coords.shape[0])\n",
    "df_uniq_cities_coords.tail(3)"
   ]
  },
  {
   "cell_type": "code",
   "execution_count": 19,
   "metadata": {},
   "outputs": [
    {
     "name": "stdout",
     "output_type": "stream",
     "text": [
      "shape -  9002\n"
     ]
    }
   ],
   "source": [
    "col_names = ['city', 'iso_code', 'country']\n",
    "df_for_coords = df_for_coords.merge(df_uniq_cities_coords, how='left', left_on=col_names, right_on=col_names)\n",
    "print('shape - ', df_for_coords.shape[0])"
   ]
  },
  {
   "cell_type": "code",
   "execution_count": 20,
   "metadata": {},
   "outputs": [
    {
     "data": {
      "text/html": [
       "<div>\n",
       "<style scoped>\n",
       "    .dataframe tbody tr th:only-of-type {\n",
       "        vertical-align: middle;\n",
       "    }\n",
       "\n",
       "    .dataframe tbody tr th {\n",
       "        vertical-align: top;\n",
       "    }\n",
       "\n",
       "    .dataframe thead th {\n",
       "        text-align: right;\n",
       "    }\n",
       "</style>\n",
       "<table border=\"1\" class=\"dataframe\">\n",
       "  <thead>\n",
       "    <tr style=\"text-align: right;\">\n",
       "      <th></th>\n",
       "      <th>game_id</th>\n",
       "      <th>ligue_header</th>\n",
       "      <th>comp_id</th>\n",
       "      <th>season_id</th>\n",
       "      <th>game_utc</th>\n",
       "      <th>game_title</th>\n",
       "      <th>goals</th>\n",
       "      <th>ligue</th>\n",
       "      <th>f_team</th>\n",
       "      <th>pos_f</th>\n",
       "      <th>pts_f</th>\n",
       "      <th>pos_s</th>\n",
       "      <th>pts_s</th>\n",
       "      <th>fs_pos_max</th>\n",
       "      <th>fs_pts_max</th>\n",
       "      <th>f_pow</th>\n",
       "      <th>desc</th>\n",
       "      <th>country</th>\n",
       "      <th>team_id</th>\n",
       "      <th>city</th>\n",
       "      <th>iso_code</th>\n",
       "      <th>longitude</th>\n",
       "      <th>latitude</th>\n",
       "      <th>lat</th>\n",
       "      <th>lon</th>\n",
       "    </tr>\n",
       "  </thead>\n",
       "  <tbody>\n",
       "    <tr>\n",
       "      <th>0</th>\n",
       "      <td>1708335</td>\n",
       "      <td>Premier League</td>\n",
       "      <td>483</td>\n",
       "      <td>301</td>\n",
       "      <td>26.05.2022 15:00</td>\n",
       "      <td>FC Minsk - Arsenal Dzerzhinsk</td>\n",
       "      <td>2:0</td>\n",
       "      <td>top</td>\n",
       "      <td>FC Minsk</td>\n",
       "      <td>4.0</td>\n",
       "      <td>19.0</td>\n",
       "      <td>15.0</td>\n",
       "      <td>4.0</td>\n",
       "      <td>4 - 15, 16</td>\n",
       "      <td>19 - 4, 23</td>\n",
       "      <td>Fav</td>\n",
       "      <td>fav_pre</td>\n",
       "      <td>Belarus</td>\n",
       "      <td>540</td>\n",
       "      <td>Minsk</td>\n",
       "      <td>BY</td>\n",
       "      <td>27.56667</td>\n",
       "      <td>53.90000</td>\n",
       "      <td>53n53</td>\n",
       "      <td>27e34</td>\n",
       "    </tr>\n",
       "    <tr>\n",
       "      <th>1</th>\n",
       "      <td>1687696</td>\n",
       "      <td>OBOS liga</td>\n",
       "      <td>668</td>\n",
       "      <td>301</td>\n",
       "      <td>26.05.2022 15:00</td>\n",
       "      <td>Skeid - Sandnes Ulf</td>\n",
       "      <td>0:1</td>\n",
       "      <td>thr</td>\n",
       "      <td>Skeid</td>\n",
       "      <td>16.0</td>\n",
       "      <td>3.0</td>\n",
       "      <td>4.0</td>\n",
       "      <td>18.0</td>\n",
       "      <td>16 - 4, 16</td>\n",
       "      <td>3 - 18, 23</td>\n",
       "      <td>Pre</td>\n",
       "      <td>fav_pre</td>\n",
       "      <td>Norway</td>\n",
       "      <td>10294</td>\n",
       "      <td>Oslo</td>\n",
       "      <td>NO</td>\n",
       "      <td>10.74609</td>\n",
       "      <td>59.91273</td>\n",
       "      <td>59n54</td>\n",
       "      <td>10e44</td>\n",
       "    </tr>\n",
       "    <tr>\n",
       "      <th>2</th>\n",
       "      <td>1687694</td>\n",
       "      <td>OBOS liga</td>\n",
       "      <td>668</td>\n",
       "      <td>301</td>\n",
       "      <td>26.05.2022 16:00</td>\n",
       "      <td>Kongsvinger - Brann</td>\n",
       "      <td>1:3</td>\n",
       "      <td>thr</td>\n",
       "      <td>Kongsvinger</td>\n",
       "      <td>13.0</td>\n",
       "      <td>7.0</td>\n",
       "      <td>1.0</td>\n",
       "      <td>23.0</td>\n",
       "      <td>13 - 1, 16</td>\n",
       "      <td>7 - 23, 23</td>\n",
       "      <td>Pre</td>\n",
       "      <td>fav_pre</td>\n",
       "      <td>Norway</td>\n",
       "      <td>None</td>\n",
       "      <td>Kongsvinger</td>\n",
       "      <td>NO</td>\n",
       "      <td>11.99772</td>\n",
       "      <td>60.19049</td>\n",
       "      <td>60n11</td>\n",
       "      <td>11e59</td>\n",
       "    </tr>\n",
       "  </tbody>\n",
       "</table>\n",
       "</div>"
      ],
      "text/plain": [
       "   game_id    ligue_header comp_id season_id          game_utc  \\\n",
       "0  1708335  Premier League     483       301  26.05.2022 15:00   \n",
       "1  1687696       OBOS liga     668       301  26.05.2022 15:00   \n",
       "2  1687694       OBOS liga     668       301  26.05.2022 16:00   \n",
       "\n",
       "                      game_title goals ligue       f_team  pos_f  pts_f  \\\n",
       "0  FC Minsk - Arsenal Dzerzhinsk   2:0   top     FC Minsk    4.0   19.0   \n",
       "1            Skeid - Sandnes Ulf   0:1   thr        Skeid   16.0    3.0   \n",
       "2            Kongsvinger - Brann   1:3   thr  Kongsvinger   13.0    7.0   \n",
       "\n",
       "   pos_s  pts_s  fs_pos_max  fs_pts_max f_pow     desc  country team_id  \\\n",
       "0   15.0    4.0  4 - 15, 16  19 - 4, 23   Fav  fav_pre  Belarus     540   \n",
       "1    4.0   18.0  16 - 4, 16  3 - 18, 23   Pre  fav_pre   Norway   10294   \n",
       "2    1.0   23.0  13 - 1, 16  7 - 23, 23   Pre  fav_pre   Norway    None   \n",
       "\n",
       "          city iso_code  longitude  latitude    lat    lon  \n",
       "0        Minsk       BY   27.56667  53.90000  53n53  27e34  \n",
       "1         Oslo       NO   10.74609  59.91273  59n54  10e44  \n",
       "2  Kongsvinger       NO   11.99772  60.19049  60n11  11e59  "
      ]
     },
     "execution_count": 20,
     "metadata": {},
     "output_type": "execute_result"
    }
   ],
   "source": [
    "df_for_coords.head(3)"
   ]
  },
  {
   "cell_type": "code",
   "execution_count": 21,
   "metadata": {},
   "outputs": [
    {
     "name": "stdout",
     "output_type": "stream",
     "text": [
      "shape -  9002\n",
      "shape -  7977\n"
     ]
    }
   ],
   "source": [
    "print('shape - ', df_for_coords.shape[0])\n",
    "df_include_coords = df_for_coords[~df_for_coords.longitude.isna()].copy().reset_index(drop=True)\n",
    "print('shape - ', df_include_coords.shape[0])"
   ]
  },
  {
   "cell_type": "code",
   "execution_count": 22,
   "metadata": {},
   "outputs": [
    {
     "name": "stdout",
     "output_type": "stream",
     "text": [
      "shape -  (1025, 25)\n"
     ]
    }
   ],
   "source": [
    "df_wt_coords = df_for_coords[df_for_coords.longitude.isna()].copy().reset_index(drop=True)\n",
    "print('shape - ', df_wt_coords.shape)"
   ]
  },
  {
   "cell_type": "code",
   "execution_count": 23,
   "metadata": {},
   "outputs": [
    {
     "name": "stdout",
     "output_type": "stream",
     "text": [
      "shape -  (216, 3)\n"
     ]
    },
    {
     "data": {
      "text/html": [
       "<div>\n",
       "<style scoped>\n",
       "    .dataframe tbody tr th:only-of-type {\n",
       "        vertical-align: middle;\n",
       "    }\n",
       "\n",
       "    .dataframe tbody tr th {\n",
       "        vertical-align: top;\n",
       "    }\n",
       "\n",
       "    .dataframe thead th {\n",
       "        text-align: right;\n",
       "    }\n",
       "</style>\n",
       "<table border=\"1\" class=\"dataframe\">\n",
       "  <thead>\n",
       "    <tr style=\"text-align: right;\">\n",
       "      <th></th>\n",
       "      <th>city</th>\n",
       "      <th>iso_code</th>\n",
       "      <th>country</th>\n",
       "    </tr>\n",
       "  </thead>\n",
       "  <tbody>\n",
       "    <tr>\n",
       "      <th>0</th>\n",
       "      <td>'s-Hertogenbosch</td>\n",
       "      <td>NL</td>\n",
       "      <td>Netherlands</td>\n",
       "    </tr>\n",
       "    <tr>\n",
       "      <th>1</th>\n",
       "      <td>Aberdeen</td>\n",
       "      <td>GB</td>\n",
       "      <td>Scotland</td>\n",
       "    </tr>\n",
       "    <tr>\n",
       "      <th>2</th>\n",
       "      <td>Aberystwyth</td>\n",
       "      <td>GB</td>\n",
       "      <td>Wales</td>\n",
       "    </tr>\n",
       "  </tbody>\n",
       "</table>\n",
       "</div>"
      ],
      "text/plain": [
       "               city iso_code      country\n",
       "0  's-Hertogenbosch       NL  Netherlands\n",
       "1          Aberdeen       GB     Scotland\n",
       "2       Aberystwyth       GB        Wales"
      ]
     },
     "execution_count": 23,
     "metadata": {},
     "output_type": "execute_result"
    }
   ],
   "source": [
    "df_uniq_city_wt_coords = df_wt_coords[['country', 'city', 'iso_code']].groupby(by=['city', 'iso_code']).first().reset_index()\n",
    "print('shape - ', df_uniq_city_wt_coords.shape)\n",
    "df_uniq_city_wt_coords.head(3)"
   ]
  },
  {
   "cell_type": "code",
   "execution_count": 24,
   "metadata": {},
   "outputs": [
    {
     "data": {
      "text/html": [
       "<div>\n",
       "<style scoped>\n",
       "    .dataframe tbody tr th:only-of-type {\n",
       "        vertical-align: middle;\n",
       "    }\n",
       "\n",
       "    .dataframe tbody tr th {\n",
       "        vertical-align: top;\n",
       "    }\n",
       "\n",
       "    .dataframe thead th {\n",
       "        text-align: right;\n",
       "    }\n",
       "</style>\n",
       "<table border=\"1\" class=\"dataframe\">\n",
       "  <thead>\n",
       "    <tr style=\"text-align: right;\">\n",
       "      <th></th>\n",
       "      <th>city</th>\n",
       "      <th>iso_code</th>\n",
       "      <th>country</th>\n",
       "    </tr>\n",
       "  </thead>\n",
       "  <tbody>\n",
       "  </tbody>\n",
       "</table>\n",
       "</div>"
      ],
      "text/plain": [
       "Empty DataFrame\n",
       "Columns: [city, iso_code, country]\n",
       "Index: []"
      ]
     },
     "execution_count": 24,
     "metadata": {},
     "output_type": "execute_result"
    }
   ],
   "source": [
    "df_uniq_city_wt_coords[df_uniq_city_wt_coords.duplicated(subset=['city', 'iso_code'])]"
   ]
  },
  {
   "cell_type": "markdown",
   "metadata": {},
   "source": [
    "#### Get first geo coordinates from CityCoordinator()"
   ]
  },
  {
   "cell_type": "code",
   "execution_count": 25,
   "metadata": {},
   "outputs": [],
   "source": [
    "# labrary example\n",
    "c = CityCoordinator()\n",
    "# c.get_city(city_name=\"London\", country_code_iso=\"GB\")"
   ]
  },
  {
   "cell_type": "code",
   "execution_count": 26,
   "metadata": {},
   "outputs": [],
   "source": [
    "df_for_loc = df_uniq_city_wt_coords[['city', 'iso_code']].apply(lambda x: c.get_city(city_name=x[0], country_code_iso=x[1]), axis=1)"
   ]
  },
  {
   "cell_type": "code",
   "execution_count": 27,
   "metadata": {},
   "outputs": [
    {
     "data": {
      "text/plain": [
       "{'lon': '5.30417', 'lat': '51.69917'}"
      ]
     },
     "execution_count": 27,
     "metadata": {},
     "output_type": "execute_result"
    }
   ],
   "source": [
    "df_for_loc[0]['location']"
   ]
  },
  {
   "cell_type": "code",
   "execution_count": 28,
   "metadata": {},
   "outputs": [],
   "source": [
    "location  = [x['location'] if x != None else None for x in df_for_loc]\n",
    "longitude = [x['lon'] if x != None else None for x in location]\n",
    "latitude  = [x['lat'] if x != None else None for x in location]"
   ]
  },
  {
   "cell_type": "code",
   "execution_count": 29,
   "metadata": {},
   "outputs": [],
   "source": [
    "df_uniq_city_wt_coords['longitude'] = longitude\n",
    "df_uniq_city_wt_coords['latitude']  = latitude"
   ]
  },
  {
   "cell_type": "code",
   "execution_count": 30,
   "metadata": {},
   "outputs": [
    {
     "name": "stdout",
     "output_type": "stream",
     "text": [
      "shape -  216\n"
     ]
    },
    {
     "data": {
      "text/html": [
       "<div>\n",
       "<style scoped>\n",
       "    .dataframe tbody tr th:only-of-type {\n",
       "        vertical-align: middle;\n",
       "    }\n",
       "\n",
       "    .dataframe tbody tr th {\n",
       "        vertical-align: top;\n",
       "    }\n",
       "\n",
       "    .dataframe thead th {\n",
       "        text-align: right;\n",
       "    }\n",
       "</style>\n",
       "<table border=\"1\" class=\"dataframe\">\n",
       "  <thead>\n",
       "    <tr style=\"text-align: right;\">\n",
       "      <th></th>\n",
       "      <th>city</th>\n",
       "      <th>iso_code</th>\n",
       "      <th>country</th>\n",
       "      <th>longitude</th>\n",
       "      <th>latitude</th>\n",
       "    </tr>\n",
       "  </thead>\n",
       "  <tbody>\n",
       "    <tr>\n",
       "      <th>0</th>\n",
       "      <td>'s-Hertogenbosch</td>\n",
       "      <td>NL</td>\n",
       "      <td>Netherlands</td>\n",
       "      <td>5.30417</td>\n",
       "      <td>51.69917</td>\n",
       "    </tr>\n",
       "    <tr>\n",
       "      <th>1</th>\n",
       "      <td>Aberdeen</td>\n",
       "      <td>GB</td>\n",
       "      <td>Scotland</td>\n",
       "      <td>-2.09814</td>\n",
       "      <td>57.14369</td>\n",
       "    </tr>\n",
       "    <tr>\n",
       "      <th>2</th>\n",
       "      <td>Aberystwyth</td>\n",
       "      <td>GB</td>\n",
       "      <td>Wales</td>\n",
       "      <td>-4.08292</td>\n",
       "      <td>52.41548</td>\n",
       "    </tr>\n",
       "  </tbody>\n",
       "</table>\n",
       "</div>"
      ],
      "text/plain": [
       "               city iso_code      country longitude  latitude\n",
       "0  's-Hertogenbosch       NL  Netherlands   5.30417  51.69917\n",
       "1          Aberdeen       GB     Scotland  -2.09814  57.14369\n",
       "2       Aberystwyth       GB        Wales  -4.08292  52.41548"
      ]
     },
     "execution_count": 30,
     "metadata": {},
     "output_type": "execute_result"
    }
   ],
   "source": [
    "print('shape - ', df_uniq_city_wt_coords.shape[0])\n",
    "df_uniq_city_wt_coords.head(3)"
   ]
  },
  {
   "cell_type": "code",
   "execution_count": 31,
   "metadata": {},
   "outputs": [
    {
     "name": "stdout",
     "output_type": "stream",
     "text": [
      "shape -  163\n"
     ]
    }
   ],
   "source": [
    "df_uniq_city_new = df_uniq_city_wt_coords[~df_uniq_city_wt_coords.longitude.isna()].copy().reset_index(drop=True)\n",
    "print('shape - ', df_uniq_city_new.shape[0])"
   ]
  },
  {
   "cell_type": "code",
   "execution_count": 32,
   "metadata": {},
   "outputs": [
    {
     "name": "stdout",
     "output_type": "stream",
     "text": [
      "shape -  53\n"
     ]
    }
   ],
   "source": [
    "df_city_for_geolocator = df_uniq_city_wt_coords[df_uniq_city_wt_coords.longitude.isna()].copy().reset_index(drop=True)\n",
    "print('shape - ', df_city_for_geolocator.shape[0])"
   ]
  },
  {
   "cell_type": "code",
   "execution_count": 33,
   "metadata": {},
   "outputs": [
    {
     "data": {
      "text/html": [
       "<div>\n",
       "<style scoped>\n",
       "    .dataframe tbody tr th:only-of-type {\n",
       "        vertical-align: middle;\n",
       "    }\n",
       "\n",
       "    .dataframe tbody tr th {\n",
       "        vertical-align: top;\n",
       "    }\n",
       "\n",
       "    .dataframe thead th {\n",
       "        text-align: right;\n",
       "    }\n",
       "</style>\n",
       "<table border=\"1\" class=\"dataframe\">\n",
       "  <thead>\n",
       "    <tr style=\"text-align: right;\">\n",
       "      <th></th>\n",
       "      <th>city</th>\n",
       "      <th>iso_code</th>\n",
       "      <th>country</th>\n",
       "      <th>longitude</th>\n",
       "      <th>latitude</th>\n",
       "    </tr>\n",
       "  </thead>\n",
       "  <tbody>\n",
       "    <tr>\n",
       "      <th>0</th>\n",
       "      <td>Aue-Bad Schlema</td>\n",
       "      <td>DE</td>\n",
       "      <td>Germany</td>\n",
       "      <td>None</td>\n",
       "      <td>None</td>\n",
       "    </tr>\n",
       "    <tr>\n",
       "      <th>1</th>\n",
       "      <td>Bab Ben Gashier</td>\n",
       "      <td>LY</td>\n",
       "      <td>Libya</td>\n",
       "      <td>None</td>\n",
       "      <td>None</td>\n",
       "    </tr>\n",
       "    <tr>\n",
       "      <th>2</th>\n",
       "      <td>Ballybofe</td>\n",
       "      <td>IE</td>\n",
       "      <td>Republic of Ireland</td>\n",
       "      <td>None</td>\n",
       "      <td>None</td>\n",
       "    </tr>\n",
       "  </tbody>\n",
       "</table>\n",
       "</div>"
      ],
      "text/plain": [
       "              city iso_code              country longitude latitude\n",
       "0  Aue-Bad Schlema       DE              Germany      None     None\n",
       "1  Bab Ben Gashier       LY                Libya      None     None\n",
       "2        Ballybofe       IE  Republic of Ireland      None     None"
      ]
     },
     "execution_count": 33,
     "metadata": {},
     "output_type": "execute_result"
    }
   ],
   "source": [
    "df_city_for_geolocator.head(3)"
   ]
  },
  {
   "cell_type": "code",
   "execution_count": 34,
   "metadata": {},
   "outputs": [],
   "source": [
    "cities_countries = list(df_city_for_geolocator[['city', 'country']].apply(lambda x: (x[0], x[1]), axis=1))"
   ]
  },
  {
   "cell_type": "code",
   "execution_count": 35,
   "metadata": {},
   "outputs": [
    {
     "data": {
      "text/plain": [
       "[('the city Odense', 'Denmark'),\n",
       " ('Ñemby in the Central Department', 'Paraguay'),\n",
       " ('Žižkov', 'Czech Republic')]"
      ]
     },
     "execution_count": 35,
     "metadata": {},
     "output_type": "execute_result"
    }
   ],
   "source": [
    "cities_countries[-3:]"
   ]
  },
  {
   "cell_type": "markdown",
   "metadata": {},
   "source": [
    "#### Parsing from geolocator"
   ]
  },
  {
   "cell_type": "code",
   "execution_count": 36,
   "metadata": {},
   "outputs": [],
   "source": [
    "# HtmlParser.cities_data_with_geocoordinates(cities_countries)\n",
    "# All cities data saved with last names: ('Žižkov', 'Czech Republic')"
   ]
  },
  {
   "cell_type": "code",
   "execution_count": 37,
   "metadata": {},
   "outputs": [],
   "source": [
    "with open('pickle_files/cities_countries/cities_data_26_05_2022_Žižkov_Czech_Republic', 'rb') as f:\n",
    "    cities_data = pickle.load(f)"
   ]
  },
  {
   "cell_type": "code",
   "execution_count": 38,
   "metadata": {},
   "outputs": [
    {
     "data": {
      "text/plain": [
       "[[('Aue-Bad Schlema', 'Germany'),\n",
       "  Location(Aue-Bad Schlema, Erzgebirgskreis, Sachsen, Deutschland, (50.6039112, 12.683981, 0.0))],\n",
       " [('Bab Ben Gashier', 'Libya'), None]]"
      ]
     },
     "execution_count": 38,
     "metadata": {},
     "output_type": "execute_result"
    }
   ],
   "source": [
    "cities_data[:2]"
   ]
  },
  {
   "cell_type": "code",
   "execution_count": 39,
   "metadata": {},
   "outputs": [],
   "source": [
    "list_cities, list_countries, list_data = [], [], []\n",
    "\n",
    "for data in cities_data:\n",
    "    list_cities.append(data[0][0])\n",
    "    list_countries.append(data[0][1])\n",
    "    if data[1] != None:\n",
    "        list_data.append([data[1].latitude, data[1].longitude])\n",
    "    else:\n",
    "        list_data.append([None, None])"
   ]
  },
  {
   "cell_type": "code",
   "execution_count": 40,
   "metadata": {},
   "outputs": [],
   "source": [
    "list_lat = [x[0] for x in list_data]\n",
    "list_lon = [x[1] for x in list_data]"
   ]
  },
  {
   "cell_type": "code",
   "execution_count": 41,
   "metadata": {},
   "outputs": [],
   "source": [
    "df_coord_parsing = pd.DataFrame({'city':list_cities, 'country':list_countries, 'latitude':list_lat, 'longitude':list_lon})"
   ]
  },
  {
   "cell_type": "code",
   "execution_count": 42,
   "metadata": {},
   "outputs": [
    {
     "name": "stdout",
     "output_type": "stream",
     "text": [
      "shape - df_city_for_geolocator -  53\n",
      "shape - df_coord_parsing       -  53\n"
     ]
    }
   ],
   "source": [
    "print('shape - df_city_for_geolocator - ', df_city_for_geolocator.shape[0])\n",
    "print('shape - df_coord_parsing       - ', df_coord_parsing.shape[0])"
   ]
  },
  {
   "cell_type": "code",
   "execution_count": 43,
   "metadata": {},
   "outputs": [],
   "source": [
    "df_coord_parsing = df_coord_parsing.merge(df_city_for_geolocator.iso_code, how='left', left_index=True, right_index=True)"
   ]
  },
  {
   "cell_type": "code",
   "execution_count": 44,
   "metadata": {},
   "outputs": [
    {
     "name": "stdout",
     "output_type": "stream",
     "text": [
      "shape -  36\n"
     ]
    },
    {
     "data": {
      "text/html": [
       "<div>\n",
       "<style scoped>\n",
       "    .dataframe tbody tr th:only-of-type {\n",
       "        vertical-align: middle;\n",
       "    }\n",
       "\n",
       "    .dataframe tbody tr th {\n",
       "        vertical-align: top;\n",
       "    }\n",
       "\n",
       "    .dataframe thead th {\n",
       "        text-align: right;\n",
       "    }\n",
       "</style>\n",
       "<table border=\"1\" class=\"dataframe\">\n",
       "  <thead>\n",
       "    <tr style=\"text-align: right;\">\n",
       "      <th></th>\n",
       "      <th>city</th>\n",
       "      <th>country</th>\n",
       "      <th>latitude</th>\n",
       "      <th>longitude</th>\n",
       "      <th>iso_code</th>\n",
       "    </tr>\n",
       "  </thead>\n",
       "  <tbody>\n",
       "    <tr>\n",
       "      <th>0</th>\n",
       "      <td>Aue-Bad Schlema</td>\n",
       "      <td>Germany</td>\n",
       "      <td>50.603911</td>\n",
       "      <td>12.683981</td>\n",
       "      <td>DE</td>\n",
       "    </tr>\n",
       "    <tr>\n",
       "      <th>3</th>\n",
       "      <td>Bishop's Stortford</td>\n",
       "      <td>England</td>\n",
       "      <td>51.872880</td>\n",
       "      <td>0.158782</td>\n",
       "      <td>GB</td>\n",
       "    </tr>\n",
       "    <tr>\n",
       "      <th>4</th>\n",
       "      <td>Borisov</td>\n",
       "      <td>Belarus</td>\n",
       "      <td>54.224066</td>\n",
       "      <td>28.511785</td>\n",
       "      <td>BY</td>\n",
       "    </tr>\n",
       "  </tbody>\n",
       "</table>\n",
       "</div>"
      ],
      "text/plain": [
       "                 city  country   latitude  longitude iso_code\n",
       "0     Aue-Bad Schlema  Germany  50.603911  12.683981       DE\n",
       "3  Bishop's Stortford  England  51.872880   0.158782       GB\n",
       "4             Borisov  Belarus  54.224066  28.511785       BY"
      ]
     },
     "execution_count": 44,
     "metadata": {},
     "output_type": "execute_result"
    }
   ],
   "source": [
    "df_coord_prs = df_coord_parsing[~df_coord_parsing.latitude.isna()].copy()\n",
    "print('shape - ', df_coord_prs.shape[0])\n",
    "df_coord_prs.head(3)"
   ]
  },
  {
   "cell_type": "code",
   "execution_count": 45,
   "metadata": {},
   "outputs": [
    {
     "name": "stdout",
     "output_type": "stream",
     "text": [
      "shape -  199\n"
     ]
    }
   ],
   "source": [
    "df_uniq_city_new = pd.concat([df_uniq_city_new, df_coord_prs]).reset_index(drop=True)\n",
    "print('shape - ', df_uniq_city_new.shape[0])"
   ]
  },
  {
   "cell_type": "code",
   "execution_count": 46,
   "metadata": {},
   "outputs": [
    {
     "name": "stdout",
     "output_type": "stream",
     "text": [
      "shape -  17\n"
     ]
    }
   ],
   "source": [
    "df_manual_adding = df_coord_parsing[df_coord_parsing.latitude.isna()].copy().reset_index(drop=True)\n",
    "print('shape - ', df_manual_adding.shape[0])"
   ]
  },
  {
   "cell_type": "code",
   "execution_count": 47,
   "metadata": {},
   "outputs": [],
   "source": [
    "# df_manual_adding"
   ]
  },
  {
   "cell_type": "markdown",
   "metadata": {},
   "source": [
    "### Manual adding cities coordinates and fixing teams data"
   ]
  },
  {
   "cell_type": "code",
   "execution_count": 48,
   "metadata": {},
   "outputs": [],
   "source": [
    "# df_manual_adding.to_csv('csv_files/df_cities_manual_adding_26_05_2022.csv', header=True, index=False)"
   ]
  },
  {
   "cell_type": "markdown",
   "metadata": {},
   "source": [
    "#### Latitude North-South, Longitude - East-West"
   ]
  },
  {
   "cell_type": "code",
   "execution_count": 49,
   "metadata": {},
   "outputs": [],
   "source": [
    "df_manual_adding = pd.read_csv('csv_files/df_cities_manual_adding_26_05_2022.csv', dtype=str)"
   ]
  },
  {
   "cell_type": "code",
   "execution_count": 50,
   "metadata": {},
   "outputs": [
    {
     "data": {
      "text/plain": [
       "'[\"Bab Ben Gashier\\':\\'Tripoli\", \"Hai Ouled Smail\\':\\'nd\", \"Laval in western France\\':\\'Laval\", \"MariehamnAland\\':\\'Mariehamn\", \"Pagranichnaja\\':\\'nd\", \"no define\\':\\'nd\", \"no determinate\\':\\'nd\", \"no determine\\':\\'nd\", \"the Betrideildin\\':\\'nd\", \"the League of Ireland Premier Division\\':\\'nd\", \"the city Odense\\':\\'Odense\", \"Ñemby in the Central Department\\':\\'Ñemby\", \"Ydrenewydd\\':\\'Newtown\"]'"
      ]
     },
     "execution_count": 50,
     "metadata": {},
     "output_type": "execute_result"
    }
   ],
   "source": [
    "cities_rename_lst = list(df_manual_adding.city.map(lambda x: x if re.findall(':', str(x)) else None))\n",
    "cities_rename_lst = [x for x in cities_rename_lst if x != None]\n",
    "cities_rename_lst = [re.sub(':', '\\':\\'', x) for x in cities_rename_lst]\n",
    "str(cities_rename_lst)"
   ]
  },
  {
   "cell_type": "code",
   "execution_count": 51,
   "metadata": {},
   "outputs": [],
   "source": [
    "cities_rename_dict = {}\n",
    "keys_vals_lst      = []\n",
    "\n",
    "for x in cities_rename_lst:\n",
    "    keys_vals = x.split('\\':\\'')\n",
    "    keys_vals_lst.append(keys_vals)\n",
    "\n",
    "for key_val in keys_vals_lst:\n",
    "    cities_rename_dict[key_val[0]] = key_val[1]"
   ]
  },
  {
   "cell_type": "markdown",
   "metadata": {},
   "source": [
    "#### Change errors in cities or countries name for df_wt_coords"
   ]
  },
  {
   "cell_type": "code",
   "execution_count": 52,
   "metadata": {},
   "outputs": [
    {
     "data": {
      "text/plain": [
       "\"{'Bab Ben Gashier': 'Tripoli', 'Hai Ouled Smail': 'nd', 'Laval in western France': 'Laval', 'MariehamnAland': 'Mariehamn', 'Pagranichnaja': 'nd', 'no define': 'nd', 'no determinate': 'nd', 'no determine': 'nd', 'the Betrideildin': 'nd', 'the League of Ireland Premier Division': 'nd', 'the city Odense': 'Odense', 'Ñemby in the Central Department': 'Ñemby', 'Ydrenewydd': 'Newtown'}\""
      ]
     },
     "execution_count": 52,
     "metadata": {},
     "output_type": "execute_result"
    }
   ],
   "source": [
    "str(cities_rename_dict)"
   ]
  },
  {
   "cell_type": "code",
   "execution_count": 53,
   "metadata": {},
   "outputs": [],
   "source": [
    "df_wt_coords.city = ParsingDataPrepare.replace_rare_symbols(df_wt_coords, col_name='city', dict_obj=cities_rename_dict).copy()"
   ]
  },
  {
   "cell_type": "markdown",
   "metadata": {},
   "source": [
    "#### Clear manual data"
   ]
  },
  {
   "cell_type": "code",
   "execution_count": 54,
   "metadata": {},
   "outputs": [],
   "source": [
    "df_manual_adding.city = ParsingDataPrepare.replace_rare_symbols(df_manual_adding, col_name='city', dict_obj=cities_rename_dict).copy()\n",
    "df_manual_adding.city = df_manual_adding.city.map(lambda x: x.split(':')[0] if re.findall(':', x) else x)"
   ]
  },
  {
   "cell_type": "code",
   "execution_count": 55,
   "metadata": {},
   "outputs": [],
   "source": [
    "df_manual_adding.latitude  = df_manual_adding.latitude.str.strip()\n",
    "df_manual_adding.longitude = df_manual_adding.longitude.str.strip()"
   ]
  },
  {
   "cell_type": "code",
   "execution_count": 56,
   "metadata": {},
   "outputs": [
    {
     "name": "stdout",
     "output_type": "stream",
     "text": [
      "shape -  24\n",
      "shape -  17\n"
     ]
    }
   ],
   "source": [
    "print('shape - ', df_manual_adding.shape[0])\n",
    "df_manual_adding = df_manual_adding[~df_manual_adding.city.isin(['nd'])].copy().reset_index(drop=True)\n",
    "print('shape - ', df_manual_adding.shape[0])"
   ]
  },
  {
   "cell_type": "code",
   "execution_count": 57,
   "metadata": {},
   "outputs": [
    {
     "name": "stdout",
     "output_type": "stream",
     "text": [
      "shape -  199\n",
      "shape -  216\n"
     ]
    }
   ],
   "source": [
    "print('shape - ', df_uniq_city_new.shape[0])\n",
    "df_uniq_city_new = pd.concat([df_uniq_city_new, df_manual_adding]).reset_index(drop=True)\n",
    "print('shape - ', df_uniq_city_new.shape[0])"
   ]
  },
  {
   "cell_type": "code",
   "execution_count": 58,
   "metadata": {},
   "outputs": [
    {
     "name": "stdout",
     "output_type": "stream",
     "text": [
      "shape -  216\n"
     ]
    }
   ],
   "source": [
    "df_uniq_city_new.drop_duplicates(subset=['city', 'iso_code', 'country'], inplace=True, ignore_index=True)\n",
    "print('shape - ', df_uniq_city_new.shape[0])"
   ]
  },
  {
   "cell_type": "code",
   "execution_count": 59,
   "metadata": {},
   "outputs": [
    {
     "data": {
      "text/html": [
       "<div>\n",
       "<style scoped>\n",
       "    .dataframe tbody tr th:only-of-type {\n",
       "        vertical-align: middle;\n",
       "    }\n",
       "\n",
       "    .dataframe tbody tr th {\n",
       "        vertical-align: top;\n",
       "    }\n",
       "\n",
       "    .dataframe thead th {\n",
       "        text-align: right;\n",
       "    }\n",
       "</style>\n",
       "<table border=\"1\" class=\"dataframe\">\n",
       "  <thead>\n",
       "    <tr style=\"text-align: right;\">\n",
       "      <th></th>\n",
       "      <th>city</th>\n",
       "      <th>iso_code</th>\n",
       "      <th>country</th>\n",
       "      <th>longitude</th>\n",
       "      <th>latitude</th>\n",
       "    </tr>\n",
       "  </thead>\n",
       "  <tbody>\n",
       "  </tbody>\n",
       "</table>\n",
       "</div>"
      ],
      "text/plain": [
       "Empty DataFrame\n",
       "Columns: [city, iso_code, country, longitude, latitude]\n",
       "Index: []"
      ]
     },
     "execution_count": 59,
     "metadata": {},
     "output_type": "execute_result"
    }
   ],
   "source": [
    "df_uniq_city_new[(df_uniq_city_new.longitude.isna())|df_uniq_city_new.latitude.isna()]"
   ]
  },
  {
   "cell_type": "markdown",
   "metadata": {},
   "source": [
    "### Lat_lon"
   ]
  },
  {
   "cell_type": "code",
   "execution_count": 60,
   "metadata": {},
   "outputs": [],
   "source": [
    "# palmyra = LatLon(Latitude(42.4833333), Longitude(1.4666667)) # Location of Palmyra Atoll in decimal degrees\n",
    "# palmyra = Lat# Change cities names errors in dataframe:Lon(5.8833, -162.0833) # Same thing but simpler!\n",
    "# palmyra = LatLon(Latitude(degree = 5, minute = 52, second = 59.88), Longitude(degree = -162, minute = -4.998) # or more complicated!\n",
    "# cordinates = palmyra.to_string('d% %m% %S% %H') # Print coordinates to degree minute second\n",
    "# ('5 52 59.88 N', '162 4 59.88 W')"
   ]
  },
  {
   "cell_type": "code",
   "execution_count": 61,
   "metadata": {},
   "outputs": [],
   "source": [
    "df_uniq_city_new['lat'], df_uniq_city_new['lon'] = ParsingDataPrepare.lat_lon_calculate(df_uniq_city_new, col_lat='latitude', col_lon='longitude')"
   ]
  },
  {
   "cell_type": "code",
   "execution_count": 62,
   "metadata": {},
   "outputs": [
    {
     "data": {
      "text/html": [
       "<div>\n",
       "<style scoped>\n",
       "    .dataframe tbody tr th:only-of-type {\n",
       "        vertical-align: middle;\n",
       "    }\n",
       "\n",
       "    .dataframe tbody tr th {\n",
       "        vertical-align: top;\n",
       "    }\n",
       "\n",
       "    .dataframe thead th {\n",
       "        text-align: right;\n",
       "    }\n",
       "</style>\n",
       "<table border=\"1\" class=\"dataframe\">\n",
       "  <thead>\n",
       "    <tr style=\"text-align: right;\">\n",
       "      <th></th>\n",
       "      <th>city</th>\n",
       "      <th>iso_code</th>\n",
       "      <th>country</th>\n",
       "      <th>longitude</th>\n",
       "      <th>latitude</th>\n",
       "      <th>lat</th>\n",
       "      <th>lon</th>\n",
       "    </tr>\n",
       "  </thead>\n",
       "  <tbody>\n",
       "    <tr>\n",
       "      <th>0</th>\n",
       "      <td>'s-Hertogenbosch</td>\n",
       "      <td>NL</td>\n",
       "      <td>Netherlands</td>\n",
       "      <td>5.30417</td>\n",
       "      <td>51.69917</td>\n",
       "      <td>51n41</td>\n",
       "      <td>5e18</td>\n",
       "    </tr>\n",
       "    <tr>\n",
       "      <th>1</th>\n",
       "      <td>Aberdeen</td>\n",
       "      <td>GB</td>\n",
       "      <td>Scotland</td>\n",
       "      <td>-2.09814</td>\n",
       "      <td>57.14369</td>\n",
       "      <td>57n8</td>\n",
       "      <td>2w5</td>\n",
       "    </tr>\n",
       "    <tr>\n",
       "      <th>2</th>\n",
       "      <td>Aberystwyth</td>\n",
       "      <td>GB</td>\n",
       "      <td>Wales</td>\n",
       "      <td>-4.08292</td>\n",
       "      <td>52.41548</td>\n",
       "      <td>52n24</td>\n",
       "      <td>4w4</td>\n",
       "    </tr>\n",
       "  </tbody>\n",
       "</table>\n",
       "</div>"
      ],
      "text/plain": [
       "               city iso_code      country  longitude  latitude    lat   lon\n",
       "0  's-Hertogenbosch       NL  Netherlands    5.30417  51.69917  51n41  5e18\n",
       "1          Aberdeen       GB     Scotland   -2.09814  57.14369   57n8   2w5\n",
       "2       Aberystwyth       GB        Wales   -4.08292  52.41548  52n24   4w4"
      ]
     },
     "execution_count": 62,
     "metadata": {},
     "output_type": "execute_result"
    }
   ],
   "source": [
    "df_uniq_city_new.head(3)"
   ]
  },
  {
   "cell_type": "markdown",
   "metadata": {
    "tags": []
   },
   "source": [
    "#### Concatinate old dataset with new data"
   ]
  },
  {
   "cell_type": "code",
   "execution_count": 63,
   "metadata": {},
   "outputs": [
    {
     "name": "stdout",
     "output_type": "stream",
     "text": [
      "shape -  2251\n",
      "shape -  2467\n"
     ]
    },
    {
     "data": {
      "text/html": [
       "<div>\n",
       "<style scoped>\n",
       "    .dataframe tbody tr th:only-of-type {\n",
       "        vertical-align: middle;\n",
       "    }\n",
       "\n",
       "    .dataframe tbody tr th {\n",
       "        vertical-align: top;\n",
       "    }\n",
       "\n",
       "    .dataframe thead th {\n",
       "        text-align: right;\n",
       "    }\n",
       "</style>\n",
       "<table border=\"1\" class=\"dataframe\">\n",
       "  <thead>\n",
       "    <tr style=\"text-align: right;\">\n",
       "      <th></th>\n",
       "      <th>city</th>\n",
       "      <th>iso_code</th>\n",
       "      <th>country</th>\n",
       "      <th>longitude</th>\n",
       "      <th>latitude</th>\n",
       "      <th>lat</th>\n",
       "      <th>lon</th>\n",
       "    </tr>\n",
       "  </thead>\n",
       "  <tbody>\n",
       "    <tr>\n",
       "      <th>2464</th>\n",
       "      <td>Ñemby</td>\n",
       "      <td>PY</td>\n",
       "      <td>Paraguay</td>\n",
       "      <td>-57.5443</td>\n",
       "      <td>-25.3935</td>\n",
       "      <td>25s23</td>\n",
       "      <td>57w32</td>\n",
       "    </tr>\n",
       "    <tr>\n",
       "      <th>2465</th>\n",
       "      <td>Cei Conna</td>\n",
       "      <td>GB</td>\n",
       "      <td>Wales</td>\n",
       "      <td>-3.0570</td>\n",
       "      <td>53.2180</td>\n",
       "      <td>53n13</td>\n",
       "      <td>3w3</td>\n",
       "    </tr>\n",
       "    <tr>\n",
       "      <th>2466</th>\n",
       "      <td>Newtown</td>\n",
       "      <td>GB</td>\n",
       "      <td>Wales</td>\n",
       "      <td>-3.3141</td>\n",
       "      <td>52.5132</td>\n",
       "      <td>52n30</td>\n",
       "      <td>3w18</td>\n",
       "    </tr>\n",
       "  </tbody>\n",
       "</table>\n",
       "</div>"
      ],
      "text/plain": [
       "           city iso_code   country  longitude  latitude    lat    lon\n",
       "2464      Ñemby       PY  Paraguay   -57.5443  -25.3935  25s23  57w32\n",
       "2465  Cei Conna       GB     Wales    -3.0570   53.2180  53n13    3w3\n",
       "2466    Newtown       GB     Wales    -3.3141   52.5132  52n30   3w18"
      ]
     },
     "execution_count": 63,
     "metadata": {},
     "output_type": "execute_result"
    }
   ],
   "source": [
    "print('shape - ', df_uniq_cities_coords.shape[0])\n",
    "df_uniq_cities_coords = pd.concat([df_uniq_cities_coords, df_uniq_city_new]).reset_index(drop=True)\n",
    "print('shape - ', df_uniq_cities_coords.shape[0])\n",
    "df_uniq_cities_coords.tail(3)"
   ]
  },
  {
   "cell_type": "code",
   "execution_count": 64,
   "metadata": {},
   "outputs": [],
   "source": [
    "df_uniq_cities_coords.drop_duplicates(subset=['city', 'iso_code', 'country'], inplace=True, ignore_index=True)"
   ]
  },
  {
   "cell_type": "code",
   "execution_count": 65,
   "metadata": {},
   "outputs": [
    {
     "name": "stdout",
     "output_type": "stream",
     "text": [
      "shape -  (2455, 7)\n"
     ]
    }
   ],
   "source": [
    "print('shape - ', df_uniq_cities_coords.shape)"
   ]
  },
  {
   "cell_type": "code",
   "execution_count": 66,
   "metadata": {},
   "outputs": [],
   "source": [
    "# file = open('pickle_files/cities_countries/df_uniq_cities_coords_created_30_06_22', 'wb')\n",
    "# pickle.dump(df_uniq_cities_coords, file)  \n",
    "# file.close()"
   ]
  },
  {
   "cell_type": "markdown",
   "metadata": {
    "tags": []
   },
   "source": [
    "#### Concatinate all dataframes with coordinates"
   ]
  },
  {
   "cell_type": "code",
   "execution_count": 69,
   "metadata": {},
   "outputs": [],
   "source": [
    "df_wt_coords.drop(columns=['longitude',\t'latitude',\t'lat', 'lon'], inplace=True)"
   ]
  },
  {
   "cell_type": "code",
   "execution_count": 70,
   "metadata": {},
   "outputs": [
    {
     "name": "stdout",
     "output_type": "stream",
     "text": [
      "shape -  (1025, 21)\n",
      "shape -  (1025, 25)\n"
     ]
    }
   ],
   "source": [
    "print('shape - ', df_wt_coords.shape)\n",
    "cols_merge = ['city', 'iso_code', 'country']\n",
    "df_coords  = df_wt_coords.merge(df_uniq_city_new, how='left', left_on=cols_merge, right_on=cols_merge)\n",
    "print('shape - ', df_coords.shape)"
   ]
  },
  {
   "cell_type": "code",
   "execution_count": 72,
   "metadata": {},
   "outputs": [
    {
     "name": "stdout",
     "output_type": "stream",
     "text": [
      "shape -  (1025, 25)\n",
      "shape -  (996, 25)\n"
     ]
    }
   ],
   "source": [
    "print('shape - ', df_coords.shape)\n",
    "df_coords  = df_coords[(~df_coords.longitude.isna()) & (~df_coords.latitude.isna())].copy()\n",
    "print('shape - ', df_coords.shape)"
   ]
  },
  {
   "cell_type": "code",
   "execution_count": 73,
   "metadata": {},
   "outputs": [
    {
     "name": "stdout",
     "output_type": "stream",
     "text": [
      "shape -  (996, 25)\n",
      "shape -  (996, 25)\n"
     ]
    }
   ],
   "source": [
    "print('shape - ', df_coords.shape)\n",
    "df_coords = df_coords[~df_coords.city.isin(['nd'])].copy().reset_index(drop=True)\n",
    "print('shape - ', df_coords.shape)"
   ]
  },
  {
   "cell_type": "code",
   "execution_count": 74,
   "metadata": {},
   "outputs": [
    {
     "name": "stdout",
     "output_type": "stream",
     "text": [
      "shape -  (7977, 25)\n",
      "shape -  (8973, 25)\n"
     ]
    }
   ],
   "source": [
    "print('shape - ', df_include_coords.shape)\n",
    "df_include_coords = pd.concat([df_include_coords, df_coords]).reset_index(drop=True)\n",
    "print('shape - ', df_include_coords.shape)"
   ]
  },
  {
   "cell_type": "code",
   "execution_count": 76,
   "metadata": {},
   "outputs": [
    {
     "data": {
      "text/plain": [
       "array([], shape=(0, 25), dtype=object)"
      ]
     },
     "execution_count": 76,
     "metadata": {},
     "output_type": "execute_result"
    }
   ],
   "source": [
    "df_include_coords[(df_include_coords.longitude.isna()) | (df_include_coords.latitude.isna())].values"
   ]
  },
  {
   "cell_type": "markdown",
   "metadata": {},
   "source": [
    "#### Check equal cities for each team"
   ]
  },
  {
   "cell_type": "code",
   "execution_count": 84,
   "metadata": {},
   "outputs": [],
   "source": [
    "df_fteam_cities = df_coords.groupby('f_team').agg({'city':'unique'}).reset_index()"
   ]
  },
  {
   "cell_type": "code",
   "execution_count": 86,
   "metadata": {},
   "outputs": [
    {
     "data": {
      "text/html": [
       "<div>\n",
       "<style scoped>\n",
       "    .dataframe tbody tr th:only-of-type {\n",
       "        vertical-align: middle;\n",
       "    }\n",
       "\n",
       "    .dataframe tbody tr th {\n",
       "        vertical-align: top;\n",
       "    }\n",
       "\n",
       "    .dataframe thead th {\n",
       "        text-align: right;\n",
       "    }\n",
       "</style>\n",
       "<table border=\"1\" class=\"dataframe\">\n",
       "  <thead>\n",
       "    <tr style=\"text-align: right;\">\n",
       "      <th></th>\n",
       "      <th>f_team</th>\n",
       "      <th>city</th>\n",
       "    </tr>\n",
       "  </thead>\n",
       "  <tbody>\n",
       "    <tr>\n",
       "      <th>0</th>\n",
       "      <td>1. FC Slovacko</td>\n",
       "      <td>[Uherské Hradiště]</td>\n",
       "    </tr>\n",
       "    <tr>\n",
       "      <th>1</th>\n",
       "      <td>AFC Bournemouth</td>\n",
       "      <td>[Bournemouth]</td>\n",
       "    </tr>\n",
       "    <tr>\n",
       "      <th>2</th>\n",
       "      <td>Aberdeen</td>\n",
       "      <td>[Aberdeen]</td>\n",
       "    </tr>\n",
       "  </tbody>\n",
       "</table>\n",
       "</div>"
      ],
      "text/plain": [
       "            f_team                city\n",
       "0   1. FC Slovacko  [Uherské Hradiště]\n",
       "1  AFC Bournemouth       [Bournemouth]\n",
       "2         Aberdeen          [Aberdeen]"
      ]
     },
     "execution_count": 86,
     "metadata": {},
     "output_type": "execute_result"
    }
   ],
   "source": [
    "df_fteam_cities.head(3)"
   ]
  },
  {
   "cell_type": "code",
   "execution_count": 91,
   "metadata": {},
   "outputs": [
    {
     "data": {
      "text/plain": [
       "1"
      ]
     },
     "execution_count": 91,
     "metadata": {},
     "output_type": "execute_result"
    }
   ],
   "source": [
    "len_city_lst = df_fteam_cities.city.map(lambda x: len(x))\n",
    "max(len_city_lst)"
   ]
  },
  {
   "cell_type": "code",
   "execution_count": 94,
   "metadata": {},
   "outputs": [
    {
     "name": "stdout",
     "output_type": "stream",
     "text": [
      "shape -  (8973, 25)\n"
     ]
    },
    {
     "data": {
      "text/html": [
       "<div>\n",
       "<style scoped>\n",
       "    .dataframe tbody tr th:only-of-type {\n",
       "        vertical-align: middle;\n",
       "    }\n",
       "\n",
       "    .dataframe tbody tr th {\n",
       "        vertical-align: top;\n",
       "    }\n",
       "\n",
       "    .dataframe thead th {\n",
       "        text-align: right;\n",
       "    }\n",
       "</style>\n",
       "<table border=\"1\" class=\"dataframe\">\n",
       "  <thead>\n",
       "    <tr style=\"text-align: right;\">\n",
       "      <th></th>\n",
       "      <th>game_id</th>\n",
       "      <th>ligue_header</th>\n",
       "      <th>comp_id</th>\n",
       "      <th>season_id</th>\n",
       "      <th>game_utc</th>\n",
       "      <th>game_title</th>\n",
       "      <th>goals</th>\n",
       "      <th>ligue</th>\n",
       "      <th>f_team</th>\n",
       "      <th>pos_f</th>\n",
       "      <th>pts_f</th>\n",
       "      <th>pos_s</th>\n",
       "      <th>pts_s</th>\n",
       "      <th>fs_pos_max</th>\n",
       "      <th>fs_pts_max</th>\n",
       "      <th>f_pow</th>\n",
       "      <th>desc</th>\n",
       "      <th>country</th>\n",
       "      <th>team_id</th>\n",
       "      <th>city</th>\n",
       "      <th>iso_code</th>\n",
       "      <th>longitude</th>\n",
       "      <th>latitude</th>\n",
       "      <th>lat</th>\n",
       "      <th>lon</th>\n",
       "    </tr>\n",
       "  </thead>\n",
       "  <tbody>\n",
       "    <tr>\n",
       "      <th>8970</th>\n",
       "      <td>15143801</td>\n",
       "      <td>League Two</td>\n",
       "      <td>694</td>\n",
       "      <td>306</td>\n",
       "      <td>30.03.2021 18:45</td>\n",
       "      <td>Brechin City - Elgin City</td>\n",
       "      <td>1:2</td>\n",
       "      <td>thr</td>\n",
       "      <td>Brechin City</td>\n",
       "      <td>10.0</td>\n",
       "      <td>6.0</td>\n",
       "      <td>5.0</td>\n",
       "      <td>29.0</td>\n",
       "      <td>10 - 5, 10</td>\n",
       "      <td>6 - 29, 48</td>\n",
       "      <td>Pre</td>\n",
       "      <td>fav_pre</td>\n",
       "      <td>Scotland</td>\n",
       "      <td>None</td>\n",
       "      <td>Brechin</td>\n",
       "      <td>GB</td>\n",
       "      <td>-2.65729</td>\n",
       "      <td>56.72993</td>\n",
       "      <td>56n43</td>\n",
       "      <td>2w39</td>\n",
       "    </tr>\n",
       "    <tr>\n",
       "      <th>8971</th>\n",
       "      <td>15143803</td>\n",
       "      <td>League Two</td>\n",
       "      <td>694</td>\n",
       "      <td>306</td>\n",
       "      <td>30.03.2021 18:45</td>\n",
       "      <td>Cowdenbeath - Edinburgh City</td>\n",
       "      <td>1:3</td>\n",
       "      <td>thr</td>\n",
       "      <td>Cowdenbeath</td>\n",
       "      <td>9.0</td>\n",
       "      <td>14.0</td>\n",
       "      <td>2.0</td>\n",
       "      <td>35.0</td>\n",
       "      <td>9 - 2, 10</td>\n",
       "      <td>14 - 35, 48</td>\n",
       "      <td>Pre</td>\n",
       "      <td>fav_pre</td>\n",
       "      <td>Scotland</td>\n",
       "      <td>8843</td>\n",
       "      <td>Cowdenbeath</td>\n",
       "      <td>GB</td>\n",
       "      <td>-3.34426</td>\n",
       "      <td>56.11194</td>\n",
       "      <td>56n6</td>\n",
       "      <td>3w20</td>\n",
       "    </tr>\n",
       "    <tr>\n",
       "      <th>8972</th>\n",
       "      <td>15136213</td>\n",
       "      <td>Eerste Divisie</td>\n",
       "      <td>595</td>\n",
       "      <td>306</td>\n",
       "      <td>29.03.2021 19:00</td>\n",
       "      <td>Den Bosch - Go Ahead Eagles</td>\n",
       "      <td>3:3</td>\n",
       "      <td>sec</td>\n",
       "      <td>Den Bosch</td>\n",
       "      <td>19.0</td>\n",
       "      <td>32.0</td>\n",
       "      <td>2.0</td>\n",
       "      <td>77.0</td>\n",
       "      <td>19 - 2, 20</td>\n",
       "      <td>32 - 77, 92</td>\n",
       "      <td>Pre</td>\n",
       "      <td>fav_pre</td>\n",
       "      <td>Netherlands</td>\n",
       "      <td>None</td>\n",
       "      <td>'s-Hertogenbosch</td>\n",
       "      <td>NL</td>\n",
       "      <td>5.30417</td>\n",
       "      <td>51.69917</td>\n",
       "      <td>51n41</td>\n",
       "      <td>5e18</td>\n",
       "    </tr>\n",
       "  </tbody>\n",
       "</table>\n",
       "</div>"
      ],
      "text/plain": [
       "       game_id    ligue_header comp_id season_id          game_utc  \\\n",
       "8970  15143801      League Two     694       306  30.03.2021 18:45   \n",
       "8971  15143803      League Two     694       306  30.03.2021 18:45   \n",
       "8972  15136213  Eerste Divisie     595       306  29.03.2021 19:00   \n",
       "\n",
       "                        game_title goals ligue        f_team  pos_f  pts_f  \\\n",
       "8970     Brechin City - Elgin City   1:2   thr  Brechin City   10.0    6.0   \n",
       "8971  Cowdenbeath - Edinburgh City   1:3   thr   Cowdenbeath    9.0   14.0   \n",
       "8972   Den Bosch - Go Ahead Eagles   3:3   sec     Den Bosch   19.0   32.0   \n",
       "\n",
       "      pos_s  pts_s  fs_pos_max   fs_pts_max f_pow     desc      country  \\\n",
       "8970    5.0   29.0  10 - 5, 10   6 - 29, 48   Pre  fav_pre     Scotland   \n",
       "8971    2.0   35.0   9 - 2, 10  14 - 35, 48   Pre  fav_pre     Scotland   \n",
       "8972    2.0   77.0  19 - 2, 20  32 - 77, 92   Pre  fav_pre  Netherlands   \n",
       "\n",
       "     team_id              city iso_code  longitude  latitude    lat   lon  \n",
       "8970    None           Brechin       GB   -2.65729  56.72993  56n43  2w39  \n",
       "8971    8843       Cowdenbeath       GB   -3.34426  56.11194   56n6  3w20  \n",
       "8972    None  's-Hertogenbosch       NL    5.30417  51.69917  51n41  5e18  "
      ]
     },
     "execution_count": 94,
     "metadata": {},
     "output_type": "execute_result"
    }
   ],
   "source": [
    "print('shape - ', df_include_coords.shape)\n",
    "df_include_coords.tail(3)"
   ]
  },
  {
   "cell_type": "code",
   "execution_count": 96,
   "metadata": {},
   "outputs": [],
   "source": [
    "# file = open('pickle_files/cities_countries/df_with_geo_coords_26_05_2022', 'wb')\n",
    "# pickle.dump(df_include_coords, file)  \n",
    "# file.close()"
   ]
  },
  {
   "cell_type": "markdown",
   "metadata": {},
   "source": [
    "##### Example"
   ]
  },
  {
   "cell_type": "code",
   "execution_count": null,
   "metadata": {},
   "outputs": [],
   "source": [
    "# Exempl\n",
    "from  geopy.geocoders import Nominatim\n",
    "geolocator = Nominatim(user_agent=\"Your_Name\")\n",
    "\n",
    "city =\"Russia\"\n",
    "country =\"Perm\"\n",
    "loc = geolocator.geocode(city+','+ country)\n",
    "lat = loc.latitude\n",
    "long = loc.longitude\n",
    "\n",
    "print(lat, long)"
   ]
  }
 ],
 "metadata": {
  "kernelspec": {
   "display_name": "Python 3 (ipykernel)",
   "language": "python",
   "name": "python3"
  },
  "language_info": {
   "codemirror_mode": {
    "name": "ipython",
    "version": 3
   },
   "file_extension": ".py",
   "mimetype": "text/x-python",
   "name": "python",
   "nbconvert_exporter": "python",
   "pygments_lexer": "ipython3",
   "version": "3.9.7"
  }
 },
 "nbformat": 4,
 "nbformat_minor": 4
}

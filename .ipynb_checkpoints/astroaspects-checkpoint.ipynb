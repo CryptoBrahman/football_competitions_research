{
 "cells": [
  {
   "cell_type": "code",
   "execution_count": 1,
   "metadata": {},
   "outputs": [],
   "source": [
    "import sys\n",
    "sys.path.append('/home/cryptobrahman/Own/football_competitions_research/own_modules/') \n",
    "sys.path.append('/mnt/KINGSTON_120/Own/football_competitions_research/own_modules/') "
   ]
  },
  {
   "cell_type": "code",
   "execution_count": 2,
   "metadata": {},
   "outputs": [],
   "source": [
    "import pandas as pd\n",
    "import numpy as np\n",
    "from numpy import arange, isclose\n",
    "from copy import deepcopy\n",
    "\n",
    "from flatlib import const\n",
    "from flatlib import aspects\n",
    "from flatlib.chart import Chart\n",
    "from flatlib.datetime import Datetime\n",
    "from flatlib.geopos import GeoPos\n",
    "from flatlib.object import GenericObject\n",
    "from flatlib.tools.chartdynamics import ChartDynamics\n",
    "from flatlib.tools import arabicparts\n",
    "from flatlib.dignities import essential\n",
    "\n",
    "from _astro_constants import AstrologicalConstants, AstrologicalPoints, TransformDoubleValues, ObjectsPrepare, AspectsPrepare, AspectsClearing\n",
    "\n",
    "pd.set_option('display.max_columns', 200)  # or 1000\n",
    "pd.set_option('display.max_rows', 200)  # or 1000\n",
    "pd.set_option('display.max_colwidth', 100)  # or 199"
   ]
  },
  {
   "cell_type": "code",
   "execution_count": 3,
   "metadata": {},
   "outputs": [],
   "source": [
    "%load_ext autoreload\n",
    "%autoreload 2"
   ]
  },
  {
   "cell_type": "code",
   "execution_count": 4,
   "metadata": {},
   "outputs": [
    {
     "data": {
      "text/html": [
       "<div>\n",
       "<style scoped>\n",
       "    .dataframe tbody tr th:only-of-type {\n",
       "        vertical-align: middle;\n",
       "    }\n",
       "\n",
       "    .dataframe tbody tr th {\n",
       "        vertical-align: top;\n",
       "    }\n",
       "\n",
       "    .dataframe thead th {\n",
       "        text-align: right;\n",
       "    }\n",
       "</style>\n",
       "<table border=\"1\" class=\"dataframe\">\n",
       "  <thead>\n",
       "    <tr style=\"text-align: right;\">\n",
       "      <th></th>\n",
       "      <th>date</th>\n",
       "      <th>utc_time</th>\n",
       "      <th>lon</th>\n",
       "      <th>lat</th>\n",
       "    </tr>\n",
       "  </thead>\n",
       "  <tbody>\n",
       "    <tr>\n",
       "      <th>0</th>\n",
       "      <td>2015/03/13</td>\n",
       "      <td>14:00</td>\n",
       "      <td>38n32</td>\n",
       "      <td>8w54</td>\n",
       "    </tr>\n",
       "    <tr>\n",
       "      <th>1</th>\n",
       "      <td>2016/05/23</td>\n",
       "      <td>12:30</td>\n",
       "      <td>08n07</td>\n",
       "      <td>18e14</td>\n",
       "    </tr>\n",
       "    <tr>\n",
       "      <th>2</th>\n",
       "      <td>2018/10/03</td>\n",
       "      <td>00:15</td>\n",
       "      <td>14s42</td>\n",
       "      <td>36w04</td>\n",
       "    </tr>\n",
       "  </tbody>\n",
       "</table>\n",
       "</div>"
      ],
      "text/plain": [
       "         date utc_time    lon    lat\n",
       "0  2015/03/13    14:00  38n32   8w54\n",
       "1  2016/05/23    12:30  08n07  18e14\n",
       "2  2018/10/03    00:15  14s42  36w04"
      ]
     },
     "execution_count": 4,
     "metadata": {},
     "output_type": "execute_result"
    }
   ],
   "source": [
    "data = {'date':['2015/03/13', '2016/05/23', '2018/10/03'], 'utc_time':['14:00', '12:30', '00:15'], 'lon':['38n32', '08n07', '14s42'], 'lat':['8w54', '18e14','36w04']}\n",
    "df = pd.DataFrame(data)\n",
    "df"
   ]
  },
  {
   "cell_type": "markdown",
   "metadata": {},
   "source": [
    "### Get astrological objects"
   ]
  },
  {
   "cell_type": "code",
   "execution_count": 5,
   "metadata": {},
   "outputs": [],
   "source": [
    "df['charts'] = AstrologicalPoints.charts_calculate(df, 'date', 'utc_time', 'lon', 'lat')"
   ]
  },
  {
   "cell_type": "code",
   "execution_count": 6,
   "metadata": {},
   "outputs": [
    {
     "data": {
      "text/plain": [
       "0    <flatlib.chart.Chart object at 0x7f0b0a891790>\n",
       "1    <flatlib.chart.Chart object at 0x7f0b0a8917c0>\n",
       "2    <flatlib.chart.Chart object at 0x7f0b0a8917f0>\n",
       "Name: charts, dtype: object"
      ]
     },
     "execution_count": 6,
     "metadata": {},
     "output_type": "execute_result"
    }
   ],
   "source": [
    "df.charts"
   ]
  },
  {
   "cell_type": "code",
   "execution_count": 7,
   "metadata": {},
   "outputs": [
    {
     "data": {
      "text/plain": [
       "\"['SUN', 'MOON', 'SATURN', 'URANUS', 'NEPTUNE', 'PLUTO', 'CHIRON', 'NORTH_NODE', 'SOUTH_NODE']\""
      ]
     },
     "execution_count": 7,
     "metadata": {},
     "output_type": "execute_result"
    }
   ],
   "source": [
    "necessary_constants = AstrologicalConstants.necessary_constants\n",
    "str(necessary_constants)"
   ]
  },
  {
   "cell_type": "code",
   "execution_count": 8,
   "metadata": {},
   "outputs": [
    {
     "data": {
      "text/plain": [
       "\"['ASC', 'DESC', 'MC', 'IC', 'PARS_FORTUNA']\""
      ]
     },
     "execution_count": 8,
     "metadata": {},
     "output_type": "execute_result"
    }
   ],
   "source": [
    "rulers_constants = AstrologicalConstants.rulers_constants\n",
    "str(rulers_constants)"
   ]
  },
  {
   "cell_type": "code",
   "execution_count": 9,
   "metadata": {},
   "outputs": [
    {
     "data": {
      "text/plain": [
       "\"['moon', 'ruler_asc', 'ruler_desc', 'ruler_mc', 'ruler_ic', 'pars_fortuna', 'uranus', 'neptune', 'pluto', 'chiron']\""
      ]
     },
     "execution_count": 9,
     "metadata": {},
     "output_type": "execute_result"
    }
   ],
   "source": [
    "antes_objects = AstrologicalConstants.for_antes_objects\n",
    "str(antes_objects)"
   ]
  },
  {
   "cell_type": "code",
   "execution_count": 10,
   "metadata": {},
   "outputs": [
    {
     "data": {
      "text/plain": [
       "\"['PARS_SPIRIT', 'PARS_GLORY', 'PARS_CREST', 'PARS_ROCK']\""
      ]
     },
     "execution_count": 10,
     "metadata": {},
     "output_type": "execute_result"
    }
   ],
   "source": [
    "pars_constants = AstrologicalConstants.pars_constants\n",
    "str(pars_constants)"
   ]
  },
  {
   "cell_type": "code",
   "execution_count": 11,
   "metadata": {},
   "outputs": [
    {
     "data": {
      "text/plain": [
       "['ruler_asc', 'ruler_desc', 'ruler_mc', 'ruler_ic', 'ruler_pars_fortuna']"
      ]
     },
     "execution_count": 11,
     "metadata": {},
     "output_type": "execute_result"
    }
   ],
   "source": [
    "rulers_constant_col_names = AstrologicalPoints.rulers_col_names(rulers_constants)\n",
    "rulers_constant_col_names"
   ]
  },
  {
   "cell_type": "code",
   "execution_count": 12,
   "metadata": {},
   "outputs": [
    {
     "data": {
      "text/plain": [
       "\"['ruler_pars_spirit', 'ruler_pars_glory', 'ruler_pars_crest', 'ruler_pars_rock', 'ruler_antes_pars_fortuna']\""
      ]
     },
     "execution_count": 12,
     "metadata": {},
     "output_type": "execute_result"
    }
   ],
   "source": [
    "rulers_pars_col_names = AstrologicalPoints.rulers_col_names(pars_constants)\n",
    "rulers_pars_col_names.append('ruler_antes_pars_fortuna')\n",
    "str(rulers_pars_col_names)"
   ]
  },
  {
   "cell_type": "code",
   "execution_count": 13,
   "metadata": {},
   "outputs": [],
   "source": [
    "for obj in rulers_constants + necessary_constants + pars_constants:\n",
    "    df[str.lower(obj)] = AstrologicalPoints.calculate_astro_objects(df.charts, obj)"
   ]
  },
  {
   "cell_type": "code",
   "execution_count": 14,
   "metadata": {},
   "outputs": [],
   "source": [
    "for name, obj in zip(rulers_constant_col_names, rulers_constants):\n",
    "    obj = str.lower(obj)\n",
    "    df[name] = AstrologicalPoints.ruler_of_object(df[obj])\n",
    "    df[name] = AstrologicalPoints.chart_object_attributes(df, 'charts', name)"
   ]
  },
  {
   "cell_type": "code",
   "execution_count": 15,
   "metadata": {},
   "outputs": [],
   "source": [
    "for obj in antes_objects:\n",
    "    antes_name = 'antes_' + obj\n",
    "    df[antes_name] = AstrologicalPoints.antes_objects_calc(df, obj)"
   ]
  },
  {
   "cell_type": "code",
   "execution_count": 16,
   "metadata": {},
   "outputs": [],
   "source": [
    "antes_objects = []\n",
    "\n",
    "for col in df.columns:\n",
    "    if col.startswith('antes'):\n",
    "        AstrologicalPoints.rename_antes_objects(df, col)\n",
    "        antes_objects.append(col)      "
   ]
  },
  {
   "cell_type": "code",
   "execution_count": 17,
   "metadata": {},
   "outputs": [],
   "source": [
    "pars_constants.append('ANTES_PARS_FORTUNA')"
   ]
  },
  {
   "cell_type": "code",
   "execution_count": 18,
   "metadata": {},
   "outputs": [],
   "source": [
    "for name, obj in zip(rulers_pars_col_names, pars_constants):\n",
    "    obj = str.lower(obj)\n",
    "    df[name] = AstrologicalPoints.ruler_of_object(df[obj])\n",
    "    df[name] = AstrologicalPoints.chart_object_attributes(df, 'charts', name)"
   ]
  },
  {
   "cell_type": "code",
   "execution_count": 19,
   "metadata": {},
   "outputs": [
    {
     "data": {
      "text/plain": [
       "['asc', 'desc', 'mc', 'ic']"
      ]
     },
     "execution_count": 19,
     "metadata": {},
     "output_type": "execute_result"
    }
   ],
   "source": [
    "houses_objects = AstrologicalConstants.houses_objects\n",
    "houses_objects"
   ]
  },
  {
   "cell_type": "code",
   "execution_count": 20,
   "metadata": {},
   "outputs": [
    {
     "data": {
      "text/plain": [
       "\"['antes_moon', 'antes_ruler_asc', 'antes_ruler_desc', 'antes_ruler_mc', 'antes_ruler_ic', 'antes_pars_fortuna', 'antes_uranus', 'antes_neptune', 'antes_pluto', 'antes_chiron']\""
      ]
     },
     "execution_count": 20,
     "metadata": {},
     "output_type": "execute_result"
    }
   ],
   "source": [
    "str(antes_objects)"
   ]
  },
  {
   "cell_type": "code",
   "execution_count": 21,
   "metadata": {},
   "outputs": [
    {
     "data": {
      "text/plain": [
       "\"['pars_fortuna', 'pars_spirit', 'pars_glory', 'pars_crest', 'pars_rock']\""
      ]
     },
     "execution_count": 21,
     "metadata": {},
     "output_type": "execute_result"
    }
   ],
   "source": [
    "pars_objects = AstrologicalConstants.pars_objects\n",
    "str(pars_objects)"
   ]
  },
  {
   "cell_type": "code",
   "execution_count": 22,
   "metadata": {},
   "outputs": [
    {
     "data": {
      "text/plain": [
       "\"['ruler_asc', 'ruler_desc', 'ruler_mc', 'ruler_ic', 'ruler_pars_fortuna', 'ruler_antes_pars_fortuna', 'ruler_pars_spirit', 'ruler_pars_glory', 'ruler_pars_crest', 'ruler_pars_rock']\""
      ]
     },
     "execution_count": 22,
     "metadata": {},
     "output_type": "execute_result"
    }
   ],
   "source": [
    "ruler_objects = AstrologicalConstants.ruler_objects\n",
    "str(ruler_objects)"
   ]
  },
  {
   "cell_type": "code",
   "execution_count": 23,
   "metadata": {},
   "outputs": [
    {
     "data": {
      "text/plain": [
       "\"['moon', 'sun', 'saturn', 'uranus', 'neptune', 'pluto', 'chiron', 'north_node', 'south_node']\""
      ]
     },
     "execution_count": 23,
     "metadata": {},
     "output_type": "execute_result"
    }
   ],
   "source": [
    "main_objects = AstrologicalConstants.main_objects\n",
    "str(main_objects)"
   ]
  },
  {
   "cell_type": "code",
   "execution_count": 24,
   "metadata": {},
   "outputs": [
    {
     "name": "stdout",
     "output_type": "stream",
     "text": [
      "38\n"
     ]
    },
    {
     "data": {
      "text/plain": [
       "\"['asc', 'desc', 'mc', 'ic', 'antes_moon', 'antes_ruler_asc', 'antes_ruler_desc', 'antes_ruler_mc', 'antes_ruler_ic', 'antes_pars_fortuna', 'antes_uranus', 'antes_neptune', 'antes_pluto', 'antes_chiron', 'pars_fortuna', 'pars_spirit', 'pars_glory', 'pars_crest', 'pars_rock', 'ruler_asc', 'ruler_desc', 'ruler_mc', 'ruler_ic', 'ruler_pars_fortuna', 'ruler_antes_pars_fortuna', 'ruler_pars_spirit', 'ruler_pars_glory', 'ruler_pars_crest', 'ruler_pars_rock', 'moon', 'sun', 'saturn', 'uranus', 'neptune', 'pluto', 'chiron', 'north_node', 'south_node']\""
      ]
     },
     "execution_count": 24,
     "metadata": {},
     "output_type": "execute_result"
    }
   ],
   "source": [
    "cols_for_id = houses_objects + antes_objects + pars_objects + ruler_objects + main_objects \n",
    "print(len(cols_for_id))\n",
    "str(cols_for_id)"
   ]
  },
  {
   "cell_type": "code",
   "execution_count": 25,
   "metadata": {},
   "outputs": [],
   "source": [
    "df['id_for_aspects'] = AstrologicalPoints.id_for_aspekts(df, cols_for_id)"
   ]
  },
  {
   "cell_type": "code",
   "execution_count": 26,
   "metadata": {},
   "outputs": [],
   "source": [
    "df['transform_id'] = df.id_for_aspects.map(lambda x: TransformDoubleValues(x).conbine_class_methods())"
   ]
  },
  {
   "cell_type": "code",
   "execution_count": 27,
   "metadata": {},
   "outputs": [],
   "source": [
    "df.drop(columns='id_for_aspects', inplace=True)"
   ]
  },
  {
   "cell_type": "code",
   "execution_count": 28,
   "metadata": {},
   "outputs": [
    {
     "data": {
      "text/html": [
       "<div>\n",
       "<style scoped>\n",
       "    .dataframe tbody tr th:only-of-type {\n",
       "        vertical-align: middle;\n",
       "    }\n",
       "\n",
       "    .dataframe tbody tr th {\n",
       "        vertical-align: top;\n",
       "    }\n",
       "\n",
       "    .dataframe thead th {\n",
       "        text-align: right;\n",
       "    }\n",
       "</style>\n",
       "<table border=\"1\" class=\"dataframe\">\n",
       "  <thead>\n",
       "    <tr style=\"text-align: right;\">\n",
       "      <th></th>\n",
       "      <th>date</th>\n",
       "      <th>utc_time</th>\n",
       "      <th>lon</th>\n",
       "      <th>lat</th>\n",
       "      <th>charts</th>\n",
       "      <th>asc</th>\n",
       "      <th>desc</th>\n",
       "      <th>mc</th>\n",
       "      <th>ic</th>\n",
       "      <th>pars_fortuna</th>\n",
       "      <th>sun</th>\n",
       "      <th>moon</th>\n",
       "      <th>saturn</th>\n",
       "      <th>uranus</th>\n",
       "      <th>neptune</th>\n",
       "      <th>pluto</th>\n",
       "      <th>chiron</th>\n",
       "      <th>north_node</th>\n",
       "      <th>south_node</th>\n",
       "      <th>pars_spirit</th>\n",
       "      <th>pars_glory</th>\n",
       "      <th>pars_crest</th>\n",
       "      <th>pars_rock</th>\n",
       "      <th>ruler_asc</th>\n",
       "      <th>ruler_desc</th>\n",
       "      <th>ruler_mc</th>\n",
       "      <th>ruler_ic</th>\n",
       "      <th>ruler_pars_fortuna</th>\n",
       "      <th>antes_moon</th>\n",
       "      <th>antes_ruler_asc</th>\n",
       "      <th>antes_ruler_desc</th>\n",
       "      <th>antes_ruler_mc</th>\n",
       "      <th>antes_ruler_ic</th>\n",
       "      <th>antes_pars_fortuna</th>\n",
       "      <th>antes_uranus</th>\n",
       "      <th>antes_neptune</th>\n",
       "      <th>antes_pluto</th>\n",
       "      <th>antes_chiron</th>\n",
       "      <th>ruler_pars_spirit</th>\n",
       "      <th>ruler_pars_glory</th>\n",
       "      <th>ruler_pars_crest</th>\n",
       "      <th>ruler_pars_rock</th>\n",
       "      <th>ruler_antes_pars_fortuna</th>\n",
       "      <th>transform_id</th>\n",
       "    </tr>\n",
       "  </thead>\n",
       "  <tbody>\n",
       "    <tr>\n",
       "      <th>0</th>\n",
       "      <td>2015/03/13</td>\n",
       "      <td>14:00</td>\n",
       "      <td>38n32</td>\n",
       "      <td>8w54</td>\n",
       "      <td>&lt;flatlib.chart.Chart object at 0x7f0b0a891790&gt;</td>\n",
       "      <td>&lt;Asc Cancer +27:24:38&gt;</td>\n",
       "      <td>&lt;Desc Capricorn +27:24:38&gt;</td>\n",
       "      <td>&lt;MC Aries +13:01:44&gt;</td>\n",
       "      <td>&lt;IC Libra +13:01:44&gt;</td>\n",
       "      <td>&lt;Pars Fortuna Aries +25:28:18 +00:00:00&gt;</td>\n",
       "      <td>&lt;Sun Pisces +22:39:56 +00:59:52&gt;</td>\n",
       "      <td>&lt;Moon Sagittarius +20:43:35 +13:13:02&gt;</td>\n",
       "      <td>&lt;Saturn Sagittarius +04:55:45 +00:00:06&gt;</td>\n",
       "      <td>&lt;Uranus Aries +15:06:33 +00:03:14&gt;</td>\n",
       "      <td>&lt;Neptune Pisces +07:50:38 +00:02:13&gt;</td>\n",
       "      <td>&lt;Pluto Capricorn +15:14:35 +00:01:02&gt;</td>\n",
       "      <td>&lt;Chiron Pisces +17:36:15 +00:03:43&gt;</td>\n",
       "      <td>&lt;North Node Libra +11:08:52 -00:03:11&gt;</td>\n",
       "      <td>&lt;South Node Aries +11:08:52 -00:03:11&gt;</td>\n",
       "      <td>&lt;Pars Spirit Libra +29:20:59 +00:00:00&gt;</td>\n",
       "      <td>&lt;Pars Glory Sagittarius +18:23:55 +00:00:00&gt;</td>\n",
       "      <td>&lt;Pars Crest Sagittarius +08:56:02 +00:00:00&gt;</td>\n",
       "      <td>&lt;Pars Rock Aries +09:40:27 +00:00:00&gt;</td>\n",
       "      <td>&lt;Moon Sagittarius +20:43:35 +13:13:02&gt;</td>\n",
       "      <td>&lt;Saturn Sagittarius +04:55:45 +00:00:06&gt;</td>\n",
       "      <td>&lt;Mars Aries +16:27:08 +00:45:19&gt;</td>\n",
       "      <td>&lt;Venus Aries +25:21:06 +01:12:41&gt;</td>\n",
       "      <td>&lt;Mars Aries +16:27:08 +00:45:19&gt;</td>\n",
       "      <td>&lt;Antes Moon Capricorn +09:16:25 +13:13:02&gt;</td>\n",
       "      <td>&lt;Antes Moon Capricorn +09:16:25 +13:13:02&gt;</td>\n",
       "      <td>&lt;Antes Saturn Capricorn +25:04:15 +00:00:06&gt;</td>\n",
       "      <td>&lt;Antes Mars Virgo +13:32:52 +00:45:19&gt;</td>\n",
       "      <td>&lt;Antes Venus Virgo +04:38:54 +01:12:41&gt;</td>\n",
       "      <td>&lt;Antes Pars Fortuna Virgo +04:31:42 +00:00:00&gt;</td>\n",
       "      <td>&lt;Antes Uranus Virgo +14:53:27 +00:03:14&gt;</td>\n",
       "      <td>&lt;Antes Neptune Libra +22:09:22 +00:02:13&gt;</td>\n",
       "      <td>&lt;Antes Pluto Sagittarius +14:45:25 +00:01:02&gt;</td>\n",
       "      <td>&lt;Antes Chiron Libra +12:23:45 +00:03:43&gt;</td>\n",
       "      <td>&lt;Venus Aries +25:21:06 +01:12:41&gt;</td>\n",
       "      <td>&lt;Jupiter Leo +13:39:12 -00:04:47&gt;</td>\n",
       "      <td>&lt;Jupiter Leo +13:39:12 -00:04:47&gt;</td>\n",
       "      <td>&lt;Mars Aries +16:27:08 +00:45:19&gt;</td>\n",
       "      <td>&lt;Mercury Pisces +00:37:44 +01:29:39&gt;</td>\n",
       "      <td>[(asc, Asc), (desc, Desc), (mc, MC), (ic, IC), (antes_ruler_desc, Antes Saturn), (antes_ruler_mc...</td>\n",
       "    </tr>\n",
       "    <tr>\n",
       "      <th>1</th>\n",
       "      <td>2016/05/23</td>\n",
       "      <td>12:30</td>\n",
       "      <td>08n07</td>\n",
       "      <td>18e14</td>\n",
       "      <td>&lt;flatlib.chart.Chart object at 0x7f0b0a8917c0&gt;</td>\n",
       "      <td>&lt;Asc Virgo +27:12:45&gt;</td>\n",
       "      <td>&lt;Desc Pisces +27:12:45&gt;</td>\n",
       "      <td>&lt;MC Gemini +27:30:28&gt;</td>\n",
       "      <td>&lt;IC Sagittarius +27:30:28&gt;</td>\n",
       "      <td>&lt;Pars Fortuna Aries +15:36:29 +00:00:00&gt;</td>\n",
       "      <td>&lt;Sun Gemini +02:47:58 +00:57:39&gt;</td>\n",
       "      <td>&lt;Moon Sagittarius +21:11:41 +12:19:41&gt;</td>\n",
       "      <td>&lt;Saturn Sagittarius +13:54:21 -00:04:19&gt;</td>\n",
       "      <td>&lt;Uranus Aries +22:47:40 +00:02:49&gt;</td>\n",
       "      <td>&lt;Neptune Pisces +11:54:55 +00:00:42&gt;</td>\n",
       "      <td>&lt;Pluto Capricorn +17:11:35 -00:00:57&gt;</td>\n",
       "      <td>&lt;Chiron Pisces +24:43:00 +00:01:47&gt;</td>\n",
       "      <td>&lt;North Node Virgo +18:00:29 -00:03:11&gt;</td>\n",
       "      <td>&lt;South Node Pisces +18:00:29 -00:03:11&gt;</td>\n",
       "      <td>&lt;Pars Spirit Pisces +08:49:02 +00:00:00&gt;</td>\n",
       "      <td>&lt;Pars Glory Capricorn +07:57:50 +00:00:00&gt;</td>\n",
       "      <td>&lt;Pars Crest Virgo +14:43:46 +00:00:00&gt;</td>\n",
       "      <td>&lt;Pars Rock Aries +08:19:08 +00:00:00&gt;</td>\n",
       "      <td>&lt;Mercury Taurus +14:22:23 +00:04:22&gt;</td>\n",
       "      <td>&lt;Jupiter Virgo +13:33:03 +00:02:30&gt;</td>\n",
       "      <td>&lt;Mercury Taurus +14:22:23 +00:04:22&gt;</td>\n",
       "      <td>&lt;Jupiter Virgo +13:33:03 +00:02:30&gt;</td>\n",
       "      <td>&lt;Mars Sagittarius +01:25:22 -00:21:00&gt;</td>\n",
       "      <td>&lt;Antes Moon Capricorn +08:48:19 +12:19:41&gt;</td>\n",
       "      <td>&lt;Antes Mercury Leo +15:37:37 +00:04:22&gt;</td>\n",
       "      <td>&lt;Antes Jupiter Aries +16:26:57 +00:02:30&gt;</td>\n",
       "      <td>&lt;Antes Mercury Leo +15:37:37 +00:04:22&gt;</td>\n",
       "      <td>&lt;Antes Jupiter Aries +16:26:57 +00:02:30&gt;</td>\n",
       "      <td>&lt;Antes Pars Fortuna Virgo +14:23:31 +00:00:00&gt;</td>\n",
       "      <td>&lt;Antes Uranus Virgo +07:12:20 +00:02:49&gt;</td>\n",
       "      <td>&lt;Antes Neptune Libra +18:05:05 +00:00:42&gt;</td>\n",
       "      <td>&lt;Antes Pluto Sagittarius +12:48:25 -00:00:57&gt;</td>\n",
       "      <td>&lt;Antes Chiron Libra +05:17:00 +00:01:47&gt;</td>\n",
       "      <td>&lt;Jupiter Virgo +13:33:03 +00:02:30&gt;</td>\n",
       "      <td>&lt;Saturn Sagittarius +13:54:21 -00:04:19&gt;</td>\n",
       "      <td>&lt;Mercury Taurus +14:22:23 +00:04:22&gt;</td>\n",
       "      <td>&lt;Mars Sagittarius +01:25:22 -00:21:00&gt;</td>\n",
       "      <td>&lt;Mercury Taurus +14:22:23 +00:04:22&gt;</td>\n",
       "      <td>[(asc, Asc), (desc, Desc), (mc, MC), (ic, IC), (antes_moon, Antes Moon), (antes_pars_fortuna, An...</td>\n",
       "    </tr>\n",
       "    <tr>\n",
       "      <th>2</th>\n",
       "      <td>2018/10/03</td>\n",
       "      <td>00:15</td>\n",
       "      <td>14s42</td>\n",
       "      <td>36w04</td>\n",
       "      <td>&lt;flatlib.chart.Chart object at 0x7f0b0a8917f0&gt;</td>\n",
       "      <td>&lt;Asc Gemini +05:25:08&gt;</td>\n",
       "      <td>&lt;Desc Sagittarius +05:25:08&gt;</td>\n",
       "      <td>&lt;MC Pisces +07:39:39&gt;</td>\n",
       "      <td>&lt;IC Virgo +07:39:39&gt;</td>\n",
       "      <td>&lt;Pars Fortuna Pisces +13:18:26 +00:00:00&gt;</td>\n",
       "      <td>&lt;Sun Libra +09:44:33 +00:59:03&gt;</td>\n",
       "      <td>&lt;Moon Cancer +17:37:52 +14:05:52&gt;</td>\n",
       "      <td>&lt;Saturn Capricorn +03:06:46 +00:02:33&gt;</td>\n",
       "      <td>&lt;Uranus Taurus +01:23:25 -00:02:14&gt;</td>\n",
       "      <td>&lt;Neptune Pisces +14:24:42 -00:01:27&gt;</td>\n",
       "      <td>&lt;Pluto Capricorn +18:45:26 +00:00:03&gt;</td>\n",
       "      <td>&lt;Chiron Pisces +29:41:06 -00:02:40&gt;</td>\n",
       "      <td>&lt;North Node Leo +02:19:59 -00:03:11&gt;</td>\n",
       "      <td>&lt;South Node Aquarius +02:19:59 -00:03:11&gt;</td>\n",
       "      <td>&lt;Pars Spirit Leo +27:31:49 +00:00:00&gt;</td>\n",
       "      <td>&lt;Pars Glory Aries +22:42:34 +00:00:00&gt;</td>\n",
       "      <td>&lt;Pars Crest Taurus +01:46:57 +00:00:00&gt;</td>\n",
       "      <td>&lt;Pars Rock Pisces +12:02:55 +00:00:00&gt;</td>\n",
       "      <td>&lt;Mercury Libra +18:46:13 +01:38:51&gt;</td>\n",
       "      <td>&lt;Jupiter Scorpio +22:27:07 +00:11:21&gt;</td>\n",
       "      <td>&lt;Jupiter Scorpio +22:27:07 +00:11:21&gt;</td>\n",
       "      <td>&lt;Mercury Libra +18:46:13 +01:38:51&gt;</td>\n",
       "      <td>&lt;Jupiter Scorpio +22:27:07 +00:11:21&gt;</td>\n",
       "      <td>&lt;Antes Moon Gemini +12:22:08 +14:05:52&gt;</td>\n",
       "      <td>&lt;Antes Mercury Pisces +11:13:47 +01:38:51&gt;</td>\n",
       "      <td>&lt;Antes Jupiter Aquarius +07:32:53 +00:11:21&gt;</td>\n",
       "      <td>&lt;Antes Jupiter Aquarius +07:32:53 +00:11:21&gt;</td>\n",
       "      <td>&lt;Antes Mercury Pisces +11:13:47 +01:38:51&gt;</td>\n",
       "      <td>&lt;Antes Pars Fortuna Libra +16:41:34 +00:00:00&gt;</td>\n",
       "      <td>&lt;Antes Uranus Leo +28:36:35 -00:02:14&gt;</td>\n",
       "      <td>&lt;Antes Neptune Libra +15:35:18 -00:01:27&gt;</td>\n",
       "      <td>&lt;Antes Pluto Sagittarius +11:14:34 +00:00:03&gt;</td>\n",
       "      <td>&lt;Antes Chiron Libra +00:18:54 -00:02:40&gt;</td>\n",
       "      <td>&lt;Sun Libra +09:44:33 +00:59:03&gt;</td>\n",
       "      <td>&lt;Mars Aquarius +06:44:56 +00:24:26&gt;</td>\n",
       "      <td>&lt;Venus Scorpio +10:41:31 +00:06:19&gt;</td>\n",
       "      <td>&lt;Jupiter Scorpio +22:27:07 +00:11:21&gt;</td>\n",
       "      <td>&lt;Venus Scorpio +10:41:31 +00:06:19&gt;</td>\n",
       "      <td>[(asc, Asc), (desc, Desc), (mc, MC), (ic, IC), (antes_moon, Antes Moon), (antes_pars_fortuna, An...</td>\n",
       "    </tr>\n",
       "  </tbody>\n",
       "</table>\n",
       "</div>"
      ],
      "text/plain": [
       "         date utc_time    lon    lat  \\\n",
       "0  2015/03/13    14:00  38n32   8w54   \n",
       "1  2016/05/23    12:30  08n07  18e14   \n",
       "2  2018/10/03    00:15  14s42  36w04   \n",
       "\n",
       "                                           charts                     asc  \\\n",
       "0  <flatlib.chart.Chart object at 0x7f0b0a891790>  <Asc Cancer +27:24:38>   \n",
       "1  <flatlib.chart.Chart object at 0x7f0b0a8917c0>   <Asc Virgo +27:12:45>   \n",
       "2  <flatlib.chart.Chart object at 0x7f0b0a8917f0>  <Asc Gemini +05:25:08>   \n",
       "\n",
       "                           desc                     mc  \\\n",
       "0    <Desc Capricorn +27:24:38>   <MC Aries +13:01:44>   \n",
       "1       <Desc Pisces +27:12:45>  <MC Gemini +27:30:28>   \n",
       "2  <Desc Sagittarius +05:25:08>  <MC Pisces +07:39:39>   \n",
       "\n",
       "                           ic                               pars_fortuna  \\\n",
       "0        <IC Libra +13:01:44>   <Pars Fortuna Aries +25:28:18 +00:00:00>   \n",
       "1  <IC Sagittarius +27:30:28>   <Pars Fortuna Aries +15:36:29 +00:00:00>   \n",
       "2        <IC Virgo +07:39:39>  <Pars Fortuna Pisces +13:18:26 +00:00:00>   \n",
       "\n",
       "                                sun                                    moon  \\\n",
       "0  <Sun Pisces +22:39:56 +00:59:52>  <Moon Sagittarius +20:43:35 +13:13:02>   \n",
       "1  <Sun Gemini +02:47:58 +00:57:39>  <Moon Sagittarius +21:11:41 +12:19:41>   \n",
       "2   <Sun Libra +09:44:33 +00:59:03>       <Moon Cancer +17:37:52 +14:05:52>   \n",
       "\n",
       "                                     saturn  \\\n",
       "0  <Saturn Sagittarius +04:55:45 +00:00:06>   \n",
       "1  <Saturn Sagittarius +13:54:21 -00:04:19>   \n",
       "2    <Saturn Capricorn +03:06:46 +00:02:33>   \n",
       "\n",
       "                                uranus                               neptune  \\\n",
       "0   <Uranus Aries +15:06:33 +00:03:14>  <Neptune Pisces +07:50:38 +00:02:13>   \n",
       "1   <Uranus Aries +22:47:40 +00:02:49>  <Neptune Pisces +11:54:55 +00:00:42>   \n",
       "2  <Uranus Taurus +01:23:25 -00:02:14>  <Neptune Pisces +14:24:42 -00:01:27>   \n",
       "\n",
       "                                   pluto                               chiron  \\\n",
       "0  <Pluto Capricorn +15:14:35 +00:01:02>  <Chiron Pisces +17:36:15 +00:03:43>   \n",
       "1  <Pluto Capricorn +17:11:35 -00:00:57>  <Chiron Pisces +24:43:00 +00:01:47>   \n",
       "2  <Pluto Capricorn +18:45:26 +00:00:03>  <Chiron Pisces +29:41:06 -00:02:40>   \n",
       "\n",
       "                               north_node  \\\n",
       "0  <North Node Libra +11:08:52 -00:03:11>   \n",
       "1  <North Node Virgo +18:00:29 -00:03:11>   \n",
       "2    <North Node Leo +02:19:59 -00:03:11>   \n",
       "\n",
       "                                  south_node  \\\n",
       "0     <South Node Aries +11:08:52 -00:03:11>   \n",
       "1    <South Node Pisces +18:00:29 -00:03:11>   \n",
       "2  <South Node Aquarius +02:19:59 -00:03:11>   \n",
       "\n",
       "                                pars_spirit  \\\n",
       "0   <Pars Spirit Libra +29:20:59 +00:00:00>   \n",
       "1  <Pars Spirit Pisces +08:49:02 +00:00:00>   \n",
       "2     <Pars Spirit Leo +27:31:49 +00:00:00>   \n",
       "\n",
       "                                     pars_glory  \\\n",
       "0  <Pars Glory Sagittarius +18:23:55 +00:00:00>   \n",
       "1    <Pars Glory Capricorn +07:57:50 +00:00:00>   \n",
       "2        <Pars Glory Aries +22:42:34 +00:00:00>   \n",
       "\n",
       "                                     pars_crest  \\\n",
       "0  <Pars Crest Sagittarius +08:56:02 +00:00:00>   \n",
       "1        <Pars Crest Virgo +14:43:46 +00:00:00>   \n",
       "2       <Pars Crest Taurus +01:46:57 +00:00:00>   \n",
       "\n",
       "                                pars_rock  \\\n",
       "0   <Pars Rock Aries +09:40:27 +00:00:00>   \n",
       "1   <Pars Rock Aries +08:19:08 +00:00:00>   \n",
       "2  <Pars Rock Pisces +12:02:55 +00:00:00>   \n",
       "\n",
       "                                ruler_asc  \\\n",
       "0  <Moon Sagittarius +20:43:35 +13:13:02>   \n",
       "1    <Mercury Taurus +14:22:23 +00:04:22>   \n",
       "2     <Mercury Libra +18:46:13 +01:38:51>   \n",
       "\n",
       "                                 ruler_desc  \\\n",
       "0  <Saturn Sagittarius +04:55:45 +00:00:06>   \n",
       "1       <Jupiter Virgo +13:33:03 +00:02:30>   \n",
       "2     <Jupiter Scorpio +22:27:07 +00:11:21>   \n",
       "\n",
       "                                ruler_mc                             ruler_ic  \\\n",
       "0       <Mars Aries +16:27:08 +00:45:19>    <Venus Aries +25:21:06 +01:12:41>   \n",
       "1   <Mercury Taurus +14:22:23 +00:04:22>  <Jupiter Virgo +13:33:03 +00:02:30>   \n",
       "2  <Jupiter Scorpio +22:27:07 +00:11:21>  <Mercury Libra +18:46:13 +01:38:51>   \n",
       "\n",
       "                       ruler_pars_fortuna  \\\n",
       "0        <Mars Aries +16:27:08 +00:45:19>   \n",
       "1  <Mars Sagittarius +01:25:22 -00:21:00>   \n",
       "2   <Jupiter Scorpio +22:27:07 +00:11:21>   \n",
       "\n",
       "                                   antes_moon  \\\n",
       "0  <Antes Moon Capricorn +09:16:25 +13:13:02>   \n",
       "1  <Antes Moon Capricorn +08:48:19 +12:19:41>   \n",
       "2     <Antes Moon Gemini +12:22:08 +14:05:52>   \n",
       "\n",
       "                              antes_ruler_asc  \\\n",
       "0  <Antes Moon Capricorn +09:16:25 +13:13:02>   \n",
       "1     <Antes Mercury Leo +15:37:37 +00:04:22>   \n",
       "2  <Antes Mercury Pisces +11:13:47 +01:38:51>   \n",
       "\n",
       "                               antes_ruler_desc  \\\n",
       "0  <Antes Saturn Capricorn +25:04:15 +00:00:06>   \n",
       "1     <Antes Jupiter Aries +16:26:57 +00:02:30>   \n",
       "2  <Antes Jupiter Aquarius +07:32:53 +00:11:21>   \n",
       "\n",
       "                                 antes_ruler_mc  \\\n",
       "0        <Antes Mars Virgo +13:32:52 +00:45:19>   \n",
       "1       <Antes Mercury Leo +15:37:37 +00:04:22>   \n",
       "2  <Antes Jupiter Aquarius +07:32:53 +00:11:21>   \n",
       "\n",
       "                               antes_ruler_ic  \\\n",
       "0     <Antes Venus Virgo +04:38:54 +01:12:41>   \n",
       "1   <Antes Jupiter Aries +16:26:57 +00:02:30>   \n",
       "2  <Antes Mercury Pisces +11:13:47 +01:38:51>   \n",
       "\n",
       "                               antes_pars_fortuna  \\\n",
       "0  <Antes Pars Fortuna Virgo +04:31:42 +00:00:00>   \n",
       "1  <Antes Pars Fortuna Virgo +14:23:31 +00:00:00>   \n",
       "2  <Antes Pars Fortuna Libra +16:41:34 +00:00:00>   \n",
       "\n",
       "                               antes_uranus  \\\n",
       "0  <Antes Uranus Virgo +14:53:27 +00:03:14>   \n",
       "1  <Antes Uranus Virgo +07:12:20 +00:02:49>   \n",
       "2    <Antes Uranus Leo +28:36:35 -00:02:14>   \n",
       "\n",
       "                               antes_neptune  \\\n",
       "0  <Antes Neptune Libra +22:09:22 +00:02:13>   \n",
       "1  <Antes Neptune Libra +18:05:05 +00:00:42>   \n",
       "2  <Antes Neptune Libra +15:35:18 -00:01:27>   \n",
       "\n",
       "                                     antes_pluto  \\\n",
       "0  <Antes Pluto Sagittarius +14:45:25 +00:01:02>   \n",
       "1  <Antes Pluto Sagittarius +12:48:25 -00:00:57>   \n",
       "2  <Antes Pluto Sagittarius +11:14:34 +00:00:03>   \n",
       "\n",
       "                               antes_chiron  \\\n",
       "0  <Antes Chiron Libra +12:23:45 +00:03:43>   \n",
       "1  <Antes Chiron Libra +05:17:00 +00:01:47>   \n",
       "2  <Antes Chiron Libra +00:18:54 -00:02:40>   \n",
       "\n",
       "                     ruler_pars_spirit  \\\n",
       "0    <Venus Aries +25:21:06 +01:12:41>   \n",
       "1  <Jupiter Virgo +13:33:03 +00:02:30>   \n",
       "2      <Sun Libra +09:44:33 +00:59:03>   \n",
       "\n",
       "                           ruler_pars_glory  \\\n",
       "0         <Jupiter Leo +13:39:12 -00:04:47>   \n",
       "1  <Saturn Sagittarius +13:54:21 -00:04:19>   \n",
       "2       <Mars Aquarius +06:44:56 +00:24:26>   \n",
       "\n",
       "                       ruler_pars_crest  \\\n",
       "0     <Jupiter Leo +13:39:12 -00:04:47>   \n",
       "1  <Mercury Taurus +14:22:23 +00:04:22>   \n",
       "2   <Venus Scorpio +10:41:31 +00:06:19>   \n",
       "\n",
       "                          ruler_pars_rock  \\\n",
       "0        <Mars Aries +16:27:08 +00:45:19>   \n",
       "1  <Mars Sagittarius +01:25:22 -00:21:00>   \n",
       "2   <Jupiter Scorpio +22:27:07 +00:11:21>   \n",
       "\n",
       "               ruler_antes_pars_fortuna  \\\n",
       "0  <Mercury Pisces +00:37:44 +01:29:39>   \n",
       "1  <Mercury Taurus +14:22:23 +00:04:22>   \n",
       "2   <Venus Scorpio +10:41:31 +00:06:19>   \n",
       "\n",
       "                                                                                          transform_id  \n",
       "0  [(asc, Asc), (desc, Desc), (mc, MC), (ic, IC), (antes_ruler_desc, Antes Saturn), (antes_ruler_mc...  \n",
       "1  [(asc, Asc), (desc, Desc), (mc, MC), (ic, IC), (antes_moon, Antes Moon), (antes_pars_fortuna, An...  \n",
       "2  [(asc, Asc), (desc, Desc), (mc, MC), (ic, IC), (antes_moon, Antes Moon), (antes_pars_fortuna, An...  "
      ]
     },
     "execution_count": 28,
     "metadata": {},
     "output_type": "execute_result"
    }
   ],
   "source": [
    "df"
   ]
  },
  {
   "cell_type": "markdown",
   "metadata": {},
   "source": [
    "### Calculate aspects"
   ]
  },
  {
   "cell_type": "code",
   "execution_count": 73,
   "metadata": {},
   "outputs": [],
   "source": [
    "row_number = 2\n",
    "objects = ObjectsPrepare(df.iloc[row_number]).conbine_class_methods()"
   ]
  },
  {
   "cell_type": "code",
   "execution_count": 74,
   "metadata": {},
   "outputs": [
    {
     "data": {
      "text/plain": [
       "[122.33296981914047]"
      ]
     },
     "execution_count": 74,
     "metadata": {},
     "output_type": "execute_result"
    }
   ],
   "source": [
    "[x.lon  for x in objects if x.id == 'North Node']"
   ]
  },
  {
   "cell_type": "code",
   "execution_count": 75,
   "metadata": {},
   "outputs": [
    {
     "data": {
      "text/plain": [
       "\"['Asc', 'Desc', 'MC', 'IC', 'Pars Fortuna', 'Sun', 'Moon', 'Saturn', 'Uranus', 'Neptune', 'Pluto', 'Chiron', 'North Node', 'South Node', 'Pars Spirit', 'Pars Glory', 'Pars Crest', 'Pars Rock', 'Mercury', 'Jupiter', 'Antes Moon', 'Antes Mercury', 'Antes Jupiter', 'Antes Pars Fortuna', 'Antes Uranus', 'Antes Neptune', 'Antes Pluto', 'Antes Chiron', 'Mars', 'Venus']\""
      ]
     },
     "execution_count": 75,
     "metadata": {},
     "output_type": "execute_result"
    }
   ],
   "source": [
    "x = [x.id for x in objects]\n",
    "str(x)"
   ]
  },
  {
   "cell_type": "code",
   "execution_count": 76,
   "metadata": {},
   "outputs": [],
   "source": [
    "for x in objects: \n",
    "    if x.id == 'Mercury':\n",
    "        x.lon = 358  \n",
    "    if x.id == 'Antes Mercury':    \n",
    "        x.lon = 357\n",
    "    if x.id == 'Sun':    \n",
    "        x.lon = 123   \n",
    "    if x.id == 'Antes Pluto':    \n",
    "        x.lon = 289"
   ]
  },
  {
   "cell_type": "code",
   "execution_count": 77,
   "metadata": {},
   "outputs": [
    {
     "data": {
      "text/plain": [
       "[0, 30, 60, 90, 120, 150, 180, 210, 240, 270, 300, 330, 360]"
      ]
     },
     "execution_count": 77,
     "metadata": {},
     "output_type": "execute_result"
    }
   ],
   "source": [
    "singles_degrees = AstrologicalConstants.singles_degrees\n",
    "singles_degrees"
   ]
  },
  {
   "cell_type": "code",
   "execution_count": 78,
   "metadata": {},
   "outputs": [],
   "source": [
    "houses_remove_objs = []\n",
    "moon_remove_objs   = ['Asc', 'Desc', 'MC', 'IC', 'Uranus', 'Neptune', 'Pluto', 'Chiron', 'North Node', 'South Node', 'Antes Moon','Antes Uranus', \n",
    "                      'Antes Neptune', 'Antes Pluto', 'Antes Chiron']\n",
    "main_remove_objs   = ['Asc', 'Desc', 'MC', 'IC', 'Moon', 'Antes Moon']"
   ]
  },
  {
   "cell_type": "code",
   "execution_count": 79,
   "metadata": {},
   "outputs": [],
   "source": [
    "houses_aspect_degs = {'Con': 0}\n",
    "moon_aspect_degs = AstrologicalConstants.aspekts_degrees\n",
    "main_aspect_degs = {'Con': 0, 'Opp': 180}"
   ]
  },
  {
   "cell_type": "code",
   "execution_count": 80,
   "metadata": {},
   "outputs": [],
   "source": [
    "house_ids = ['Asc', 'Desc', 'MC', 'IC'] "
   ]
  },
  {
   "cell_type": "code",
   "execution_count": 81,
   "metadata": {},
   "outputs": [],
   "source": [
    "house_objs, moon_objs, main_objs = objects.copy(),objects.copy(), objects.copy()     "
   ]
  },
  {
   "cell_type": "code",
   "execution_count": 82,
   "metadata": {},
   "outputs": [],
   "source": [
    "all_aspects = []"
   ]
  },
  {
   "cell_type": "code",
   "execution_count": 83,
   "metadata": {},
   "outputs": [],
   "source": [
    "moon_asp_after = AspectsPrepare.object_aspects('Moon', moon_objs, moon_remove_objs, moon_aspect_degs)\n",
    "moon_asp_before = AspectsPrepare.object_aspects('Moon', moon_objs, moon_remove_objs, moon_aspect_degs, before_point_asp='yes', before_orb=1)\n",
    "all_aspects.append(moon_asp_after)\n",
    "all_aspects.append(moon_asp_before)"
   ]
  },
  {
   "cell_type": "code",
   "execution_count": 84,
   "metadata": {},
   "outputs": [],
   "source": [
    "for h_obj in house_ids:\n",
    "    house_asp_after = AspectsPrepare.object_aspects(h_obj, house_objs, houses_remove_objs, houses_aspect_degs, before_point_asp='no', after_orb=3)\n",
    "    house_asp_before = AspectsPrepare.object_aspects(h_obj, house_objs, houses_remove_objs, houses_aspect_degs, before_point_asp='yes', before_orb=3)\n",
    "    all_aspects.append(house_asp_after)\n",
    "    all_aspects.append(house_asp_before)"
   ]
  },
  {
   "cell_type": "code",
   "execution_count": 85,
   "metadata": {},
   "outputs": [],
   "source": [
    "for m_obj in objects:\n",
    "    main_asp_after = AspectsPrepare.object_aspects(m_obj.id, main_objs, main_remove_objs, main_aspect_degs, before_point_asp='no', after_orb=3)\n",
    "    main_asp_before = AspectsPrepare.object_aspects(m_obj.id, main_objs, main_remove_objs, main_aspect_degs, before_point_asp='yes', before_orb=3)\n",
    "    all_aspects.append(main_asp_after)\n",
    "    all_aspects.append(main_asp_before)"
   ]
  },
  {
   "cell_type": "code",
   "execution_count": 86,
   "metadata": {},
   "outputs": [],
   "source": [
    "for asp in all_aspects:\n",
    "    if asp != None and any(var['f_point'] == 'Asc' and var['s_point'] == 'Pluto' for var in asp):\n",
    "        asc_pluto = asp\n",
    "    else:  \n",
    "        asc_pluto = []\n",
    "    \n",
    "if asc_pluto == []:\n",
    "    for obj in objects:\n",
    "        if obj.id == 'Asc' or obj.id == 'Pluto':\n",
    "            asc_pluto.append(obj) \n",
    "\n",
    "    asc_pluto_asp_after = AspectsPrepare.object_aspects('Asc', asc_pluto, houses_remove_objs, houses_aspect_degs, before_point_asp='no', after_orb=20)\n",
    "    all_aspects.append(asc_pluto_asp_after)"
   ]
  },
  {
   "cell_type": "code",
   "execution_count": 87,
   "metadata": {},
   "outputs": [],
   "source": [
    "# all_aspects"
   ]
  },
  {
   "cell_type": "code",
   "execution_count": 88,
   "metadata": {},
   "outputs": [],
   "source": [
    "all_aspects_full = AspectsPrepare.transform_dict_list_type(all_aspects)"
   ]
  },
  {
   "cell_type": "code",
   "execution_count": 89,
   "metadata": {},
   "outputs": [],
   "source": [
    "AspectsClearing.remove_duplicate_aspects(all_aspects_full)\n",
    "AspectsClearing.remove_antes_unimportant_aspects(all_aspects_full)\n",
    "AspectsClearing.remove_node_opposition(all_aspects_full)\n",
    "AspectsClearing.remove_antes_with_own_nat_point_aspects(all_aspects_full)"
   ]
  },
  {
   "cell_type": "code",
   "execution_count": null,
   "metadata": {},
   "outputs": [],
   "source": []
  },
  {
   "cell_type": "code",
   "execution_count": 90,
   "metadata": {},
   "outputs": [],
   "source": [
    "tuple_list = df.transform_id[row_number]"
   ]
  },
  {
   "cell_type": "code",
   "execution_count": 91,
   "metadata": {},
   "outputs": [],
   "source": [
    "# The Moon can't be ruler\n",
    "def find_rulers_and_pars(tuple_list: list):\n",
    "    rulers_dict = dict()\n",
    "    \n",
    "    for var in tuple_list:\n",
    "        var_list = var[0].split('_&_')\n",
    "        for obj in var_list:\n",
    "            if obj.startswith('ruler_'):\n",
    "                rulers_dict[obj] = var[1]\n",
    "    \n",
    "    list_objs = set(list(rulers_dict.values()))\n",
    "    points = dict()\n",
    "    all_ruler_points = dict()\n",
    "    \n",
    "    for obj in list_objs:\n",
    "        if obj == 'Moon':\n",
    "            continue\n",
    "        incl_obj = []\n",
    "        incl_part = []\n",
    "        for key, val in rulers_dict.items():\n",
    "            if obj == val:\n",
    "                incl_obj.append(key)\n",
    "                ch_key = key.replace('ruler_','').replace('_', ' ').title()\n",
    "                if ch_key in ['Ic', 'Mc']:\n",
    "                    ch_key = ch_key.upper()\n",
    "                incl_part.append(ch_key)\n",
    "                points[obj] = (incl_obj, incl_part)\n",
    "                all_ruler_points.update(points)\n",
    "    \n",
    "    return all_ruler_points            "
   ]
  },
  {
   "cell_type": "code",
   "execution_count": 92,
   "metadata": {},
   "outputs": [],
   "source": [
    "def find_rulers_parses_aspects(list_aspects: list, tuple_list: list):\n",
    "    rulers_dict = find_rulers_and_pars(tuple_list)\n",
    "    rulers_aspects = []\n",
    "    \n",
    "    for key, values in rulers_dict.items():\n",
    "        \n",
    "        for asp in list_aspects:\n",
    "            if asp['f_point'] == key or asp['s_point'] == key:\n",
    "                for val in values[1]:\n",
    "                    if asp['f_point'] == val or asp['s_point'] == val: \n",
    "                        rulers_aspects.append(asp)\n",
    "                        ind = values[1].index(val)\n",
    "                        asp['charact'] = values[0][ind]\n",
    "                        asp['all_characts'] = values[0]\n",
    "            \n",
    "    return rulers_aspects           "
   ]
  },
  {
   "cell_type": "code",
   "execution_count": 93,
   "metadata": {},
   "outputs": [],
   "source": [
    "def find_other_long_in_range_long_orb(objects: object, f_point: str, f_point_lon: float, s_point: str, asp_orb: int, asp_type: str, asp_sing: str,\n",
    "                                      before_point_asp = 'no'):\n",
    "    objs_longs = [{'id': x.id, 'lon': x.lon} for x in objects]\n",
    "    all_find = []\n",
    "    all_ids = []\n",
    "    \n",
    "    for obj in objs_longs:\n",
    "        if obj['id'] == f_point or obj['id'] == s_point:\n",
    "            continue\n",
    "        \n",
    "        asp_deg = AstrologicalConstants.aspekts_degrees.get(asp_type)\n",
    "        obj_lon_degs = AspectsPrepare.pos_neg_points_orb(f_point_lon, asp_orb, asp_deg, before_point_asp)\n",
    "        \n",
    "        if any(isclose(round(obj['lon'], 2), arange(round(x[0], 2), round(x[1], 2), 0.01)).any() for x in obj_lon_degs):\n",
    "            all_find.append(1)\n",
    "            all_ids.append(obj['id'])\n",
    "        else:\n",
    "            all_find.append(0)\n",
    "   \n",
    "    if 1 in all_find:\n",
    "        return ['yes', all_ids]\n",
    "    else:\n",
    "        return ['no', all_ids]"
   ]
  },
  {
   "cell_type": "code",
   "execution_count": 94,
   "metadata": {},
   "outputs": [],
   "source": [
    "def find_moon_parts_conv_aspects(list_aspects: list):\n",
    "    parts = AstrologicalConstants.parts\n",
    "    all_moon_asps = []\n",
    "    \n",
    "    for asp in list_aspects:\n",
    "        if asp['f_point'] == 'Moon' and asp['s_point'] in parts and asp['approach'] == 'conv' and asp['sing'] == 'equal':\n",
    "            all_moon_asps.append(asp)\n",
    "     \n",
    "    return all_moon_asps"
   ]
  },
  {
   "cell_type": "code",
   "execution_count": 95,
   "metadata": {},
   "outputs": [],
   "source": [
    "def supplement_houses_and_parts_rulers_aspects(objects: object, list_aspects: list, tuple_list: list):\n",
    "    find_asps = find_rulers_parses_aspects(all_aspects_full, tuple_list)\n",
    "    mp_aspects = find_moon_parts_conv_aspects(list_aspects)\n",
    "    houses_ids = ['Asc', 'Dsc', 'IC', 'MC']\n",
    "    \n",
    "    for asp in find_asps:\n",
    "        if asp['sing'] == 'diff':\n",
    "            if asp['f_point'] in houses_ids:\n",
    "                approach = asp['approach'] + '_weak'\n",
    "            else:\n",
    "                approach = asp['approach'] + '_denide'\n",
    "            \n",
    "            asp['approach'] = approach\n",
    "            asp['den_point'] = ['diff_sing']\n",
    "        else: \n",
    "            find_long = find_other_long_in_range_long_orb(objects, asp['f_point'], asp['longs'][0], asp['s_point'], asp['orb'], \n",
    "                                                      asp['type'], asp['sing'], asp['bp_asp'])\n",
    "            type_appr = asp['approach'].split('_')\n",
    "                \n",
    "            if any(asp['f_point'] == mp_asp['s_point'] or asp['s_point'] == mp_asp['s_point'] for mp_asp in mp_aspects) and \\\n",
    "            asp['f_point'] not in houses_ids:\n",
    "                for mp_aspect in mp_aspects:\n",
    "                    if asp['f_point'] == mp_aspect['s_point'] or asp['s_point'] == mp_aspect['s_point']:\n",
    "                        approach = asp['approach'] + '_denide'\n",
    "                        \n",
    "                        asp['approach'] = approach\n",
    "                        asp['den_point'] = ['Moon', [mp_aspect['type'], mp_aspect['tr_orb']]]\n",
    "            \n",
    "            elif 'conv' in type_appr: \n",
    "                if find_long[0] == 'yes':\n",
    "                    if asp['f_point'] in houses_ids:\n",
    "                        approach = asp['approach'] + '_weak'\n",
    "                    else:   \n",
    "                        approach = asp['approach'] + '_denide'\n",
    "                else:   \n",
    "                    approach = asp['approach'] + '_compl'\n",
    "\n",
    "                asp['approach'] = approach\n",
    "                asp['den_point'] = find_long[1]\n",
    "            \n",
    "            elif 'diver' in type_appr:\n",
    "                if asp['f_point'] in houses_ids:\n",
    "                    approach = asp['approach'] + '_weak'\n",
    "                else:\n",
    "                    if find_long[0] == 'yes':\n",
    "                        approach = asp['approach'] + '_denide'\n",
    "                    else:   \n",
    "                        approach = asp['approach'] + '_weak'\n",
    "\n",
    "                asp['approach'] = approach\n",
    "                asp['den_point'] = find_long[1]      "
   ]
  },
  {
   "cell_type": "code",
   "execution_count": 96,
   "metadata": {},
   "outputs": [],
   "source": [
    "supplement_houses_and_parts_rulers_aspects(objects, all_aspects_full, tuple_list)"
   ]
  },
  {
   "cell_type": "code",
   "execution_count": 97,
   "metadata": {},
   "outputs": [],
   "source": [
    "def supplement_conv_stat_aspects(objects: object, list_aspects: list):\n",
    "    characts = ['conv', 'stat', 'in_conv', 'in_stat', 'out_conv', 'out_stat', 'out_diver', 'in_diver']\n",
    "    \n",
    "    for asp in list_aspects:\n",
    "        if asp['f_point'] == 'Moon':\n",
    "            continue\n",
    "        if asp['approach'] not in characts:\n",
    "            continue\n",
    "\n",
    "        if asp['sing'] == 'diff':\n",
    "            if asp['approach'] in characts[2:]:\n",
    "                approach = asp['approach'] + '_weak'\n",
    "            else: \n",
    "                approach = asp['approach'] + '_denide'\n",
    "            \n",
    "            asp['approach'] = approach\n",
    "            asp['den_point'] = ['diff_sing']\n",
    "            continue \n",
    "        else:\n",
    "            find_long = find_other_long_in_range_long_orb(objects, asp['f_point'], asp['longs'][0], asp['s_point'], asp['orb'], \n",
    "                                                          asp['type'], asp['sing'], asp['bp_asp'])\n",
    "            if find_long[0] == 'yes': \n",
    "                approach = asp['approach'] + '_weak'\n",
    "            \n",
    "                asp['approach'] = approach\n",
    "                asp['den_point'] = find_long[1]\n",
    "            else:\n",
    "                continue"
   ]
  },
  {
   "cell_type": "code",
   "execution_count": 98,
   "metadata": {},
   "outputs": [],
   "source": [
    "supplement_conv_stat_aspects(objects, all_aspects_full)"
   ]
  },
  {
   "cell_type": "code",
   "execution_count": 99,
   "metadata": {},
   "outputs": [],
   "source": [
    "def unite_converge_asp_orbs(f_point: str, s_point: str, list_aspects: list):   \n",
    "    short_asp_list = []\n",
    "    \n",
    "    for asp in list_aspects:\n",
    "        if asp['approach'] == 'conv': \n",
    "            var = [asp['f_point'], asp['s_point'], asp['orb']]\n",
    "            short_asp_list.append(var)\n",
    "        else:\n",
    "            if asp['f_point'] == f_point and asp['s_point'] == s_point:\n",
    "                return asp['orb']\n",
    "                          \n",
    "    all_orbs = []\n",
    "    points = []\n",
    "\n",
    "    for short_asp in short_asp_list:\n",
    "        points.append(short_asp[0])\n",
    "        points.append(short_asp[1])\n",
    "\n",
    "    points = list(set(points))\n",
    "\n",
    "    for point in points:\n",
    "        for asp_cp in short_asp_list:\n",
    "            if any(point == x for x in asp_cp):\n",
    "                all_orbs.append([point, asp_cp[2]])  \n",
    "\n",
    "    all_uniq_orbs = dict()\n",
    "    uniq_orbs = dict()\n",
    "\n",
    "    for point in points:\n",
    "        point_list = []\n",
    "        for var in all_orbs:\n",
    "            if var[0] == point:\n",
    "                point_list.append(var[1])\n",
    "                uniq_orbs[point] = point_list\n",
    "                all_uniq_orbs.update(uniq_orbs)    \n",
    "\n",
    "    concat_orbs = []\n",
    "    concat_points = [f_point, s_point]\n",
    "\n",
    "    for key, var in all_uniq_orbs.items(): \n",
    "        if key in concat_points:\n",
    "            for x in var:\n",
    "                concat_orbs.append(x)\n",
    "\n",
    "    concat_orbs = list(set(concat_orbs))            \n",
    "        \n",
    "            \n",
    "    return concat_orbs"
   ]
  },
  {
   "cell_type": "code",
   "execution_count": 100,
   "metadata": {},
   "outputs": [],
   "source": [
    "# def compl_denide_charact():\n",
    "#         unite_asps = unite_converge_asp_orbs(asp['f_point'], asp['s_point'], list_aspects)\n",
    "        \n",
    "#         if any(asp['orb'] > x for x in unite_asps):\n",
    "#             asp['approach'] = 'conv_denide'\n",
    "#         else:\n",
    "#             asp['approach'] = 'conv_compl' \n",
    "        \n",
    "#         asp['unite_asps'] = unite_asps"
   ]
  },
  {
   "cell_type": "code",
   "execution_count": 101,
   "metadata": {},
   "outputs": [],
   "source": [
    "all_concat_orbs = []\n",
    "for asp in all_aspects_full:\n",
    "    concat_orbs = unite_converge_asp_orbs(asp['f_point'], asp['s_point'], all_aspects_full)\n",
    "    all_concat_orbs.append(concat_orbs)"
   ]
  },
  {
   "cell_type": "code",
   "execution_count": 102,
   "metadata": {},
   "outputs": [
    {
     "data": {
      "text/plain": [
       "{'Mercury': (['ruler_asc', 'ruler_ic'], ['Asc', 'IC']),\n",
       " 'Sun': (['ruler_pars_spirit'], ['Pars Spirit']),\n",
       " 'Mars': (['ruler_pars_glory'], ['Pars Glory']),\n",
       " 'Venus': (['ruler_antes_pars_fortuna', 'ruler_pars_crest'],\n",
       "  ['Antes Pars Fortuna', 'Pars Crest']),\n",
       " 'Jupiter': (['ruler_desc',\n",
       "   'ruler_mc',\n",
       "   'ruler_pars_fortuna',\n",
       "   'ruler_pars_rock'],\n",
       "  ['Desc', 'MC', 'Pars Fortuna', 'Pars Rock'])}"
      ]
     },
     "execution_count": 102,
     "metadata": {},
     "output_type": "execute_result"
    }
   ],
   "source": [
    "rulers = find_rulers_and_pars(tuple_list)\n",
    "rulers"
   ]
  },
  {
   "cell_type": "code",
   "execution_count": 103,
   "metadata": {},
   "outputs": [],
   "source": [
    "def moon_complete_denide_weak_aspects(objects: object, list_aspects: list, tuple_list: list):\n",
    "    for asp in list_aspects:\n",
    "        if asp['f_point'] != 'Moon':\n",
    "            continue\n",
    "        if asp['sing'] == 'diff':\n",
    "            approach = 'moon_'+ asp['approach'] +'_denide'\n",
    "            \n",
    "            asp['approach'] = approach\n",
    "            asp['den_point'] = ['diff_sing']\n",
    "        \n",
    "        if asp['approach'] == 'diver':\n",
    "            find_long = find_other_long_in_range_long_orb(objects, asp['f_point'], asp['longs'][0], asp['s_point'], asp['orb'], \n",
    "                                                           asp['type'], asp['sing'], asp['bp_asp'])\n",
    "            if find_long[0] == 'yes':\n",
    "                approach = 'moon_'+ asp['approach'] +'_weak'\n",
    "                \n",
    "                asp['approach'] = approach\n",
    "                asp['den_point'] = find_long[1]\n",
    "            else:\n",
    "                approach = 'moon_'+ asp['approach']\n",
    "                \n",
    "                asp['approach'] = approach\n",
    "                asp['den_point'] = find_long[1]\n",
    "                         "
   ]
  },
  {
   "cell_type": "code",
   "execution_count": 104,
   "metadata": {},
   "outputs": [],
   "source": [
    "# moon_complete_denide_weak_aspects(objects, all_aspects_full, tuple_list)"
   ]
  },
  {
   "cell_type": "code",
   "execution_count": 105,
   "metadata": {},
   "outputs": [],
   "source": [
    "# remove_antes_unimportant_aspects(all_aspects_full)"
   ]
  },
  {
   "cell_type": "code",
   "execution_count": 106,
   "metadata": {},
   "outputs": [],
   "source": [
    "# If natural points aspect don't exist.\n",
    "# def remove_mirror_antes_aspects(list_aspects: list):   \n",
    "#     active_planets = AstrologicalConstants.active_planets\n",
    "\n",
    "#     only_antes_asps = []\n",
    "#     for a_asp in list_aspects:\n",
    "#         if a_asp['f_point'] == 'Moon':\n",
    "#             continue\n",
    "#         print(a_asp)"
   ]
  },
  {
   "cell_type": "code",
   "execution_count": 107,
   "metadata": {},
   "outputs": [
    {
     "name": "stdout",
     "output_type": "stream",
     "text": [
      "{'f_point': 'Moon', 's_point': 'Jupiter', 'type': 'Trin', 'approach': 'conv', 'sing': 'equal', 'orb': 4.82, 'tr_orb': 4.49, 'longs': [107.63, 232.45], 'bp_asp': 'no'}\n",
      "{'f_point': 'Moon', 's_point': 'Pars Glory', 'type': 'Sque', 'approach': 'conv', 'sing': 'equal', 'orb': 5.08, 'tr_orb': 5.05, 'longs': [107.63, 22.71], 'bp_asp': 'no'}\n",
      "{'f_point': 'Moon', 's_point': 'Antes Pars Fortuna', 'type': 'Sque', 'approach': 'diver', 'sing': 'equal', 'orb': 0.94, 'tr_orb': 0.56, 'longs': [107.63, 196.69], 'bp_asp': 'yes'}\n",
      "{'f_point': 'Pars Fortuna', 's_point': 'Neptune', 'type': 'Con', 'approach': 'conv', 'sing': 'equal', 'orb': 1.1, 'tr_orb': 1.06, 'longs': [343.31, 344.41], 'bp_asp': 'no'}\n",
      "{'f_point': 'Pars Fortuna', 's_point': 'Pars Rock', 'type': 'Con', 'approach': 'stat', 'sing': 'equal', 'orb': 1.26, 'tr_orb': 1.16, 'longs': [343.31, 342.05], 'bp_asp': 'yes'}\n",
      "{'f_point': 'Sun', 's_point': 'North Node', 'type': 'Con', 'approach': 'diver', 'sing': 'equal', 'orb': 0.67, 'tr_orb': 0.4, 'longs': [123, 122.33], 'bp_asp': 'yes'}\n",
      "{'f_point': 'Uranus', 's_point': 'Pars Crest', 'type': 'Con', 'approach': 'diver', 'sing': 'equal', 'orb': 0.39, 'tr_orb': 0.23, 'longs': [31.39, 31.78], 'bp_asp': 'no'}\n",
      "{'f_point': 'Neptune', 's_point': 'Pars Rock', 'type': 'Con', 'approach': 'conv_weak', 'sing': 'equal', 'orb': 2.36, 'tr_orb': 2.22, 'longs': [344.41, 342.05], 'bp_asp': 'yes', 'den_point': ['Pars Fortuna']}\n",
      "{'f_point': 'Chiron', 's_point': 'Mercury', 'type': 'Con', 'approach': 'conv', 'sing': 'equal', 'orb': 1.69, 'tr_orb': 1.41, 'longs': [359.69, 358], 'bp_asp': 'yes'}\n",
      "{'f_point': 'Pars Spirit', 's_point': 'Antes Uranus', 'type': 'Con', 'approach': 'stat', 'sing': 'equal', 'orb': 1.08, 'tr_orb': 1.05, 'longs': [147.53, 148.61], 'bp_asp': 'no'}\n",
      "{'f_point': 'Antes Jupiter', 's_point': 'Mars', 'type': 'Con', 'approach': 'conv', 'sing': 'equal', 'orb': 0.8, 'tr_orb': 0.48, 'longs': [307.55, 306.75], 'bp_asp': 'yes'}\n"
     ]
    }
   ],
   "source": [
    "for x in (all_aspects_full):\n",
    "    print(x)"
   ]
  },
  {
   "cell_type": "code",
   "execution_count": 109,
   "metadata": {},
   "outputs": [],
   "source": [
    "# for x in objects:\n",
    "#     if x.id == 'Mars':\n",
    "#         x.lon = 1\n",
    "#     if x.id == 'Pluto':\n",
    "#         x.lon = 2      "
   ]
  },
  {
   "cell_type": "code",
   "execution_count": 110,
   "metadata": {},
   "outputs": [],
   "source": [
    "# Moon aspects by specific points (houses rulers, there antes and parts)\n",
    "# Only last aspect by house ruler and first aspect by fortuna pars and it antes is - 'moon_conv_compl'"
   ]
  },
  {
   "cell_type": "code",
   "execution_count": 111,
   "metadata": {},
   "outputs": [],
   "source": [
    "# Create new columns for each object, five clasess for favorite's advantsge and orbs's  -----------\n",
    "\n",
    "# Rules for aspekts:\n",
    "# Antes Moon - only for house conuction\n",
    "# Antes has only house rulers planets, higher planets and Parse Fortuna.\n",
    "\n",
    "# Moon aspects by specific points (houses rulers, there antes and fortuna parts with it antes):\n",
    "# 'moon_conv_compl' - Moon first aspect by fortuna parses(and it antes) or last aspect to houses rulers, -------\n",
    "# 'moon_conv_compl_weak' - if other point located and specific points aspect between 'moon_conv_compl' aspect, ---------\n",
    "# 'moon_conv_weak' - for last antes house rulers and other specific points aspects, ----------\n",
    "# 'moon_conv_denide' - if aspect sing: 'diff'\n",
    "# 'moon_diver', 'moon_diver_weak' - for divergent Moon aspects.\n",
    "\n",
    "# Houses rulers and parts rulers aspects are aspecting own parts(houses):\n",
    "# 'conv_compl', (conv_in_compl', conv_out_compl') - approuch parts(houses) rulers aspecting own parts(houses) without Moon's aspect at part \n",
    "# 'conv_denide', (conv_in_weak', conv_out_weak') - if parts(houses) rulers has other early conversation aspect(Moon include) or locate in different sings\n",
    "# 'diver_weak', (diver_in_weak', diver_out_weak') - if aspect is divergent\n",
    "# 'diver_denide' - if pars ruler has divergent aspect and it has previos con aspect\n",
    "\n",
    "# Other 'conv' and 'stat' aspects:\n",
    "# 'conv_denide', 'stat_denide' - if points locate in different sings.\n",
    "# 'conv_weak', 'stat_weak', ('in_conv_weak', 'out_conv_weak', 'in_stat_weak', 'out_stat_weak') - weakened aspects with the other long point \n",
    "# located beetwen points longs. \n",
    "\n",
    "# Remove: \n",
    "# If exist aspect between natural points - remove all unimportant aspects with anteses:\n",
    "#   Stay - ('Mars' con 'Venus') or ('Mars' opp 'Venus')\n",
    "#   Remove aspects ('Mars' opp 'Antes Venus', 'Mars' opp 'Antes Mars', ' Venus' opp 'Antes Mars', 'Venus' opp 'Antes Venus', 'Antes Mars' opp 'Antes Venus')\n",
    "# If exist mirror aspect between natural and antes point without aspect between natural points: ----------\n",
    "#   Required to stay aspect with septener's planet: ('Mars' con 'Antes Chiron') and ('Chiron' con 'Antes Mars') - stay ('Mars' con 'Antes Chiron')\n",
    "#   if it aspect has two septener's planet stay rulers: 'Asc', 'Dsc' or 'Pars Fortuna' otherwise stay any aspect: \n",
    "#   ('Mars' opp 'Antes Venus') and ('Venus' opp 'Antes Mars') - stay any one.\n",
    "# Antes aspect by own planet without natural points aspect ('Mars' con 'Antes Mars')\n",
    "\n",
    "# Remove houses antes aspects -----"
   ]
  },
  {
   "cell_type": "code",
   "execution_count": 112,
   "metadata": {},
   "outputs": [
    {
     "data": {
      "text/plain": [
       "<flatlib.chart.Chart at 0x7f0b0a891790>"
      ]
     },
     "execution_count": 112,
     "metadata": {},
     "output_type": "execute_result"
    }
   ],
   "source": [
    "chart = df.charts.values[0]\n",
    "chart"
   ]
  },
  {
   "cell_type": "code",
   "execution_count": 113,
   "metadata": {},
   "outputs": [],
   "source": [
    "asc = chart.get(const.ASC)"
   ]
  },
  {
   "cell_type": "code",
   "execution_count": 114,
   "metadata": {},
   "outputs": [],
   "source": [
    "from flatlib.object import Object"
   ]
  },
  {
   "cell_type": "code",
   "execution_count": 115,
   "metadata": {},
   "outputs": [],
   "source": [
    "asc_obj = Object.fromDict({'id': asc.id, 'sign': asc.sign, 'signlon': asc.signlon, 'lonspeed': 0, 'orb': asc.orb})"
   ]
  }
 ],
 "metadata": {
  "kernelspec": {
   "display_name": "Python 3 (ipykernel)",
   "language": "python",
   "name": "python3"
  },
  "language_info": {
   "codemirror_mode": {
    "name": "ipython",
    "version": 3
   },
   "file_extension": ".py",
   "mimetype": "text/x-python",
   "name": "python",
   "nbconvert_exporter": "python",
   "pygments_lexer": "ipython3",
   "version": "3.9.7"
  }
 },
 "nbformat": 4,
 "nbformat_minor": 4
}

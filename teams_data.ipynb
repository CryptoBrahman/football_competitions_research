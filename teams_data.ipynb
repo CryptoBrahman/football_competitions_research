{
 "cells": [
  {
   "cell_type": "code",
   "execution_count": 1,
   "metadata": {},
   "outputs": [],
   "source": [
    "import pandas as pd\n",
    "import numpy as np\n",
    "import re\n",
    "import unicodedata\n",
    "import pickle"
   ]
  },
  {
   "cell_type": "code",
   "execution_count": 2,
   "metadata": {},
   "outputs": [],
   "source": [
    "pd.set_option('display.max_colwidth', 1000)\n",
    "pd.set_option('display.max_rows', 400)"
   ]
  },
  {
   "cell_type": "code",
   "execution_count": 60,
   "metadata": {},
   "outputs": [],
   "source": [
    "data = pd.read_table('text_files/football-city-html.txt') "
   ]
  },
  {
   "cell_type": "code",
   "execution_count": 61,
   "metadata": {},
   "outputs": [],
   "source": [
    "df = data.rename(columns={\"</div>\": \"data\"})"
   ]
  },
  {
   "cell_type": "code",
   "execution_count": 62,
   "metadata": {},
   "outputs": [],
   "source": [
    "terms = ['col-sm-6 col-xs-6', 'col-sm-3 hidden-xs', '/modules/images/flags/']"
   ]
  },
  {
   "cell_type": "code",
   "execution_count": 63,
   "metadata": {},
   "outputs": [],
   "source": [
    "df = df[df.data.str.contains('|'.join(terms))] "
   ]
  },
  {
   "cell_type": "code",
   "execution_count": 64,
   "metadata": {},
   "outputs": [],
   "source": [
    "df.drop(index=5, inplace=True)"
   ]
  },
  {
   "cell_type": "code",
   "execution_count": 65,
   "metadata": {},
   "outputs": [
    {
     "data": {
      "text/plain": [
       "(5782, 1)"
      ]
     },
     "execution_count": 65,
     "metadata": {},
     "output_type": "execute_result"
    }
   ],
   "source": [
    "df.shape"
   ]
  },
  {
   "cell_type": "code",
   "execution_count": 66,
   "metadata": {},
   "outputs": [
    {
     "data": {
      "text/html": [
       "<div>\n",
       "<style scoped>\n",
       "    .dataframe tbody tr th:only-of-type {\n",
       "        vertical-align: middle;\n",
       "    }\n",
       "\n",
       "    .dataframe tbody tr th {\n",
       "        vertical-align: top;\n",
       "    }\n",
       "\n",
       "    .dataframe thead th {\n",
       "        text-align: right;\n",
       "    }\n",
       "</style>\n",
       "<table border=\"1\" class=\"dataframe\">\n",
       "  <thead>\n",
       "    <tr style=\"text-align: right;\">\n",
       "      <th></th>\n",
       "      <th>data</th>\n",
       "    </tr>\n",
       "  </thead>\n",
       "  <tbody>\n",
       "    <tr>\n",
       "      <th>13</th>\n",
       "      <td>&lt;div class=\"col-sm-6 col-xs-6\"&gt;&lt;b&gt;AaB&lt;/b&gt;&lt;/div&gt;</td>\n",
       "    </tr>\n",
       "    <tr>\n",
       "      <th>18</th>\n",
       "      <td>&lt;img src=\"/modules/images/flags/_56.png\" alt=\"Denmark\" title=\"Denmark\"&gt;</td>\n",
       "    </tr>\n",
       "    <tr>\n",
       "      <th>20</th>\n",
       "      <td>&lt;div class=\"col-sm-3 hidden-xs\"&gt;Aalborg&lt;/div&gt;</td>\n",
       "    </tr>\n",
       "    <tr>\n",
       "      <th>27</th>\n",
       "      <td>&lt;div class=\"col-sm-6 col-xs-6\"&gt;&lt;b&gt;Aalesund&lt;/b&gt;&lt;/div&gt;</td>\n",
       "    </tr>\n",
       "    <tr>\n",
       "      <th>32</th>\n",
       "      <td>&lt;img src=\"/modules/images/flags/_140.png\" alt=\"Norway\" title=\"Norway\"&gt;</td>\n",
       "    </tr>\n",
       "    <tr>\n",
       "      <th>...</th>\n",
       "      <td>...</td>\n",
       "    </tr>\n",
       "    <tr>\n",
       "      <th>27134</th>\n",
       "      <td>&lt;img src=\"/modules/images/flags/_181.png\" alt=\"Switzerland\" title=\"Switzerland\"&gt;</td>\n",
       "    </tr>\n",
       "    <tr>\n",
       "      <th>27136</th>\n",
       "      <td>&lt;div class=\"col-sm-3 hidden-xs\"&gt;Bern&lt;/div&gt;</td>\n",
       "    </tr>\n",
       "    <tr>\n",
       "      <th>27143</th>\n",
       "      <td>&lt;div class=\"col-sm-6 col-xs-6\"&gt;&lt;b&gt;Young Buffaloes&lt;/b&gt;&lt;/div&gt;</td>\n",
       "    </tr>\n",
       "    <tr>\n",
       "      <th>27148</th>\n",
       "      <td>&lt;img src=\"/modules/images/flags/_179.png\" alt=\"Swaziland\" title=\"Swaziland\"&gt;</td>\n",
       "    </tr>\n",
       "    <tr>\n",
       "      <th>27150</th>\n",
       "      <td>&lt;div class=\"col-sm-3 hidden-xs\"&gt;Manzini&lt;/div&gt;</td>\n",
       "    </tr>\n",
       "  </tbody>\n",
       "</table>\n",
       "<p>5782 rows × 1 columns</p>\n",
       "</div>"
      ],
      "text/plain": [
       "                                                                                   data\n",
       "13                                      <div class=\"col-sm-6 col-xs-6\"><b>AaB</b></div>\n",
       "18              <img src=\"/modules/images/flags/_56.png\" alt=\"Denmark\" title=\"Denmark\">\n",
       "20                                        <div class=\"col-sm-3 hidden-xs\">Aalborg</div>\n",
       "27                                 <div class=\"col-sm-6 col-xs-6\"><b>Aalesund</b></div>\n",
       "32               <img src=\"/modules/images/flags/_140.png\" alt=\"Norway\" title=\"Norway\">\n",
       "...                                                                                 ...\n",
       "27134  <img src=\"/modules/images/flags/_181.png\" alt=\"Switzerland\" title=\"Switzerland\">\n",
       "27136                                        <div class=\"col-sm-3 hidden-xs\">Bern</div>\n",
       "27143                       <div class=\"col-sm-6 col-xs-6\"><b>Young Buffaloes</b></div>\n",
       "27148      <img src=\"/modules/images/flags/_179.png\" alt=\"Swaziland\" title=\"Swaziland\">\n",
       "27150                                     <div class=\"col-sm-3 hidden-xs\">Manzini</div>\n",
       "\n",
       "[5782 rows x 1 columns]"
      ]
     },
     "execution_count": 66,
     "metadata": {},
     "output_type": "execute_result"
    }
   ],
   "source": [
    "df"
   ]
  },
  {
   "cell_type": "code",
   "execution_count": 67,
   "metadata": {},
   "outputs": [],
   "source": [
    "pattern = '|'.join(['<div class=\\\"col-sm-6 col-xs-6\\\"><b>', '<img src=\\\"/modules/images/flags/_', '<div class=\\\"col-sm-3 hidden-xs\\\">', '</b>', '</div>'])"
   ]
  },
  {
   "cell_type": "code",
   "execution_count": 68,
   "metadata": {},
   "outputs": [
    {
     "name": "stderr",
     "output_type": "stream",
     "text": [
      "/tmp/ipykernel_22694/2799521911.py:1: FutureWarning: The default value of regex will change from True to False in a future version.\n",
      "  df.data = df.data.str.replace(pattern, '')\n"
     ]
    }
   ],
   "source": [
    "df.data = df.data.str.replace(pattern, '')"
   ]
  },
  {
   "cell_type": "code",
   "execution_count": 69,
   "metadata": {},
   "outputs": [],
   "source": [
    "def removing_patterns(df: pd.DataFrame, col_names: list, patern: str):\n",
    "    df[col_names].apply(lambda x: str(x) if re.search(pattern, str(x)) is None else re.findall(pattern, str(x)))\n",
    "    return df"
   ]
  },
  {
   "cell_type": "code",
   "execution_count": 70,
   "metadata": {},
   "outputs": [],
   "source": [
    "pattern = r'\\\"[\\s|\\w]+\\\">$'\n",
    "df = removing_patterns(df, list(df), pattern)"
   ]
  },
  {
   "cell_type": "code",
   "execution_count": 71,
   "metadata": {},
   "outputs": [],
   "source": [
    "def find_no_utf_symbols(sr: pd.Series):\n",
    "    find_symols = r'[^.a-zA-Z0-9)(&\"\\s>;<=,-/}{\\']'\n",
    "    rare_symbols = sr.map(lambda x: ''.join(re.findall(find_symols, str(x))))\n",
    "    return rare_symbols"
   ]
  },
  {
   "cell_type": "code",
   "execution_count": 72,
   "metadata": {},
   "outputs": [],
   "source": [
    "rare_symbols = find_no_utf_symbols(df.data)"
   ]
  },
  {
   "cell_type": "code",
   "execution_count": 73,
   "metadata": {},
   "outputs": [
    {
     "data": {
      "text/plain": [
       "\"{'', 'šéá', 'Ō', 'ôô', 'ăă', 'ê', 'čŠ', 'áá', 'ëë', 'Łóź', 'ăţ', 'îş', 'áň', 'ėž', 'æ', 'È', 'ãç', 'áž', 'çğ', 'úí', 'ć', 'šá', 'ëçë', 'áí', 'í', 'éï', 'ġā', 'ı', 'à', 'Í', 'ăăş', 'Ñú', 'āā', 'ăăăş', 'ãí', 'éë', 'ış', 'º', 'óñ', 'öä', 'łł', 'É', 'ěříž', 'øø', 'ī', 'âá', 'àò', 'é', 'íá', 'ľ', 'ľý', 'ýí', 'ń', 'ţ', 'ź', 'éé', 'ä', 'š', 'Śś', 'đ', 'ą', 'Şüə', 'íð', 'ðæ', 'ę', 'łó', 'çã', 'İÖİ', 'čš', 'ážá', 'çş', 'è', 'ří', 'ủầộ', '’éé', 'Šľ', 'àộ', 'č', 'ú', 'ā', 'žň', 'žíš', 'šňé', 'óã', 'ıçğ', 'ýŽáš', 'î', 'əə', 'Şı', 'ū', 'Š', 'šýš', 'ééá', 'óŁę', 'šć', 'áó', 'ľé', 'ó', 'ç', 'Łę', 'ž', 'ď', 'âş', 'ş', 'ľč', 'žá', 'ęó', 'íáé', 'ūẓī', 'ığ', 'şş', 'ğ', 'čí', 'Žž', 'ží', 'ãã', 'çöüü', 'éá', 'õ', 'óú', 'íí', 'ýá', 'óó', 'üü', 'Å', 'ýŽ', 'óę', 'ë', 'äé', 'ʿā', 'ññ', 'ü', 'å', 'ė', 'çë', 'öö', 'ă', 'óá', 'éó', 'áš', 'ø', 'ł', 'ää', 'šáá', 'éšě', 'ô', 'ñ', 'ġāī', 'ș', 'ïé', 'íš', 'ā’', 'Ž', 'ō', 'ň', '’', 'ã', 'ï', 'áŠ', 'əəə', 'āḍ', 'â', 'ööö', 'éḥ', 'ö', 'Čč', 'ýáš', 'İ', 'ř', 'áé', 'öð', 'Ħ', 'á', 'ðø'}\""
      ]
     },
     "execution_count": 73,
     "metadata": {},
     "output_type": "execute_result"
    }
   ],
   "source": [
    "str(set(rare_symbols))"
   ]
  },
  {
   "cell_type": "code",
   "execution_count": 74,
   "metadata": {},
   "outputs": [],
   "source": [
    "all_symbols = []\n",
    "for symbol in rare_symbols:\n",
    "    symbols = ''.join(symbol)\n",
    "    all_symbols.append(symbols)\n",
    "all_symbols = str(all_symbols)\n",
    "all_symbols = ''.join(set(str(all_symbols)))\n",
    "all_symbols = all_symbols.replace(' ', '')\n",
    "all_symbols = all_symbols.replace(']', '')\n",
    "all_symbols = all_symbols.replace('[', '')\n",
    "all_symbols = all_symbols.replace(',', '')\n",
    "all_symbols = all_symbols.replace('\\'', '')"
   ]
  },
  {
   "cell_type": "code",
   "execution_count": 75,
   "metadata": {},
   "outputs": [
    {
     "data": {
      "text/plain": [
       "'ʿŌầêŁæÈćíıŞàÍºŚÉộīəéľńţźäðšđąęèḍḥčòúāîūŠóçďžşğõýÅëÑġüåėČăøłôñșěŽśōň’ãẓïâöủİÖřĦá'"
      ]
     },
     "execution_count": 75,
     "metadata": {},
     "output_type": "execute_result"
    }
   ],
   "source": [
    "all_symbols"
   ]
  },
  {
   "cell_type": "code",
   "execution_count": 76,
   "metadata": {},
   "outputs": [],
   "source": [
    "pattern_2 = r'^[0-9]+.png'\n",
    "pattern_3 = r'title=\\\"(.+?)\\\"'"
   ]
  },
  {
   "cell_type": "code",
   "execution_count": 77,
   "metadata": {},
   "outputs": [],
   "source": [
    "df = df.data.apply(lambda x: ''.join(re.findall(pattern_3, str(x)) if re.search(pattern_2, str(x)) is not None else x))"
   ]
  },
  {
   "cell_type": "code",
   "execution_count": 78,
   "metadata": {},
   "outputs": [],
   "source": [
    "df = pd.DataFrame(df)"
   ]
  },
  {
   "cell_type": "code",
   "execution_count": 79,
   "metadata": {},
   "outputs": [
    {
     "data": {
      "text/plain": [
       "(5782, 1)"
      ]
     },
     "execution_count": 79,
     "metadata": {},
     "output_type": "execute_result"
    }
   ],
   "source": [
    "df.shape"
   ]
  },
  {
   "cell_type": "code",
   "execution_count": 80,
   "metadata": {},
   "outputs": [
    {
     "data": {
      "text/html": [
       "<div>\n",
       "<style scoped>\n",
       "    .dataframe tbody tr th:only-of-type {\n",
       "        vertical-align: middle;\n",
       "    }\n",
       "\n",
       "    .dataframe tbody tr th {\n",
       "        vertical-align: top;\n",
       "    }\n",
       "\n",
       "    .dataframe thead th {\n",
       "        text-align: right;\n",
       "    }\n",
       "</style>\n",
       "<table border=\"1\" class=\"dataframe\">\n",
       "  <thead>\n",
       "    <tr style=\"text-align: right;\">\n",
       "      <th></th>\n",
       "      <th>data</th>\n",
       "    </tr>\n",
       "  </thead>\n",
       "  <tbody>\n",
       "    <tr>\n",
       "      <th>3067</th>\n",
       "      <td></td>\n",
       "    </tr>\n",
       "  </tbody>\n",
       "</table>\n",
       "</div>"
      ],
      "text/plain": [
       "     data\n",
       "3067     "
      ]
     },
     "execution_count": 80,
     "metadata": {},
     "output_type": "execute_result"
    }
   ],
   "source": [
    "df.iloc[648:649,:]"
   ]
  },
  {
   "cell_type": "code",
   "execution_count": 81,
   "metadata": {},
   "outputs": [],
   "source": [
    "df.data.replace('', np.nan, inplace=True)"
   ]
  },
  {
   "cell_type": "code",
   "execution_count": 82,
   "metadata": {},
   "outputs": [],
   "source": [
    "df.dropna(subset=['data'], inplace=True)"
   ]
  },
  {
   "cell_type": "code",
   "execution_count": 83,
   "metadata": {},
   "outputs": [
    {
     "data": {
      "text/plain": [
       "(5757, 1)"
      ]
     },
     "execution_count": 83,
     "metadata": {},
     "output_type": "execute_result"
    }
   ],
   "source": [
    "df.shape"
   ]
  },
  {
   "cell_type": "code",
   "execution_count": 84,
   "metadata": {},
   "outputs": [],
   "source": [
    "def str_decode(str_obj: str):\n",
    "    normalized = unicodedata.normalize('NFD', str_obj)\n",
    "    decode_str = u\"\".join([c for c in normalized if not unicodedata.combining(c)])\n",
    "    return decode_str"
   ]
  },
  {
   "cell_type": "code",
   "execution_count": 85,
   "metadata": {},
   "outputs": [],
   "source": [
    "df.data = df.data.apply(lambda x: str_decode(x))"
   ]
  },
  {
   "cell_type": "code",
   "execution_count": 86,
   "metadata": {},
   "outputs": [],
   "source": [
    "rare_symbols_keys = {'ł':'l','Ł':'L','º':'','ʿ':'\\'','ə':'e','Ħ':'H','đ':'d','’':'\\'','ı':'i','æ':'a','ð':'d','ø':'o'}\n",
    "\n",
    "def replace_rare_symbols(df: pd.DataFrame, col_name: str, dict_obj: dict):\n",
    "    for k, v in rare_symbols_keys.items():\n",
    "        df[col_name] = df[col_name].apply(lambda x: x.replace(k, v) if re.search(k, str(x)) else x)\n",
    "    return df[col_name]       "
   ]
  },
  {
   "cell_type": "code",
   "execution_count": 87,
   "metadata": {},
   "outputs": [],
   "source": [
    "df.data = replace_rare_symbols(df, 'data', rare_symbols_keys)"
   ]
  },
  {
   "cell_type": "code",
   "execution_count": 88,
   "metadata": {},
   "outputs": [
    {
     "data": {
      "text/html": [
       "<div>\n",
       "<style scoped>\n",
       "    .dataframe tbody tr th:only-of-type {\n",
       "        vertical-align: middle;\n",
       "    }\n",
       "\n",
       "    .dataframe tbody tr th {\n",
       "        vertical-align: top;\n",
       "    }\n",
       "\n",
       "    .dataframe thead th {\n",
       "        text-align: right;\n",
       "    }\n",
       "</style>\n",
       "<table border=\"1\" class=\"dataframe\">\n",
       "  <thead>\n",
       "    <tr style=\"text-align: right;\">\n",
       "      <th></th>\n",
       "      <th>data</th>\n",
       "    </tr>\n",
       "  </thead>\n",
       "  <tbody>\n",
       "    <tr>\n",
       "      <th>13</th>\n",
       "      <td>AaB</td>\n",
       "    </tr>\n",
       "    <tr>\n",
       "      <th>18</th>\n",
       "      <td>Denmark</td>\n",
       "    </tr>\n",
       "    <tr>\n",
       "      <th>20</th>\n",
       "      <td>Aalborg</td>\n",
       "    </tr>\n",
       "  </tbody>\n",
       "</table>\n",
       "</div>"
      ],
      "text/plain": [
       "       data\n",
       "13      AaB\n",
       "18  Denmark\n",
       "20  Aalborg"
      ]
     },
     "execution_count": 88,
     "metadata": {},
     "output_type": "execute_result"
    }
   ],
   "source": [
    "df.head(3)"
   ]
  },
  {
   "cell_type": "code",
   "execution_count": 89,
   "metadata": {},
   "outputs": [],
   "source": [
    "df.reset_index(inplace=True)"
   ]
  },
  {
   "cell_type": "code",
   "execution_count": 90,
   "metadata": {},
   "outputs": [],
   "source": [
    "df.drop('index', axis=1, inplace=True)"
   ]
  },
  {
   "cell_type": "code",
   "execution_count": 91,
   "metadata": {},
   "outputs": [],
   "source": [
    "club, country, city = df[0::3], df[1::3], df[2::3]"
   ]
  },
  {
   "cell_type": "code",
   "execution_count": 92,
   "metadata": {},
   "outputs": [],
   "source": [
    "table_df = pd.concat([club.reset_index(drop=True), country.reset_index(drop=True), city.reset_index(drop=True)], axis=1)"
   ]
  },
  {
   "cell_type": "code",
   "execution_count": 93,
   "metadata": {},
   "outputs": [],
   "source": [
    "table_df.columns.values[0] = \"team\"\n",
    "table_df.columns.values[1] = \"country\"\n",
    "table_df.columns.values[2] = \"city\""
   ]
  },
  {
   "cell_type": "code",
   "execution_count": 94,
   "metadata": {},
   "outputs": [
    {
     "data": {
      "text/plain": [
       "(1919, 3)"
      ]
     },
     "execution_count": 94,
     "metadata": {},
     "output_type": "execute_result"
    }
   ],
   "source": [
    "table_df.shape"
   ]
  },
  {
   "cell_type": "code",
   "execution_count": 95,
   "metadata": {},
   "outputs": [],
   "source": [
    "df = table_df.copy()"
   ]
  },
  {
   "cell_type": "code",
   "execution_count": 96,
   "metadata": {},
   "outputs": [],
   "source": [
    "# take city.values from hooks for transcription\n",
    "df.city = df.city.map(lambda x: ''.join(re.findall(r'\\((.*?)\\)', x)) if re.search(r'\\(', x) else x)"
   ]
  },
  {
   "cell_type": "code",
   "execution_count": 97,
   "metadata": {},
   "outputs": [],
   "source": [
    "# remove Buenos Aires districts\n",
    "buenos_pattern = 'Buenos'\n",
    "df.city = df.city.apply(lambda x: x if re.search(buenos_pattern, str(x)) is None else 'Buenos Aires')"
   ]
  },
  {
   "cell_type": "code",
   "execution_count": 98,
   "metadata": {},
   "outputs": [],
   "source": [
    "# take city.values before '/'\n",
    "df.city = df.city.map(lambda x: ''.join(re.findall(r'^(.*?)/', x)) if re.search(r'\\/', x) else x)"
   ]
  },
  {
   "cell_type": "code",
   "execution_count": 99,
   "metadata": {},
   "outputs": [],
   "source": [
    "# take city.values before ',' without districts\n",
    "df.city = df.city.map(lambda x: ''.join(re.findall(r'^(.*?),', x)) if re.search(r',', x) else x)"
   ]
  },
  {
   "cell_type": "code",
   "execution_count": 100,
   "metadata": {},
   "outputs": [],
   "source": [
    "# rename 'D.F.' at 'Mexico'\n",
    "mexico_pattern = 'D.F.'\n",
    "df.city = df.city.apply(lambda x: x if re.search(mexico_pattern, str(x)) is None else 'Mexico')"
   ]
  },
  {
   "cell_type": "code",
   "execution_count": 101,
   "metadata": {},
   "outputs": [],
   "source": [
    "df['team_id'] = None"
   ]
  },
  {
   "cell_type": "code",
   "execution_count": 102,
   "metadata": {},
   "outputs": [],
   "source": [
    "df.insert(1, 'team_id', df.pop('teams_ids'))"
   ]
  },
  {
   "cell_type": "code",
   "execution_count": 103,
   "metadata": {},
   "outputs": [
    {
     "data": {
      "text/html": [
       "<div>\n",
       "<style scoped>\n",
       "    .dataframe tbody tr th:only-of-type {\n",
       "        vertical-align: middle;\n",
       "    }\n",
       "\n",
       "    .dataframe tbody tr th {\n",
       "        vertical-align: top;\n",
       "    }\n",
       "\n",
       "    .dataframe thead th {\n",
       "        text-align: right;\n",
       "    }\n",
       "</style>\n",
       "<table border=\"1\" class=\"dataframe\">\n",
       "  <thead>\n",
       "    <tr style=\"text-align: right;\">\n",
       "      <th></th>\n",
       "      <th>team</th>\n",
       "      <th>teams_ids</th>\n",
       "      <th>country</th>\n",
       "      <th>city</th>\n",
       "    </tr>\n",
       "  </thead>\n",
       "  <tbody>\n",
       "    <tr>\n",
       "      <th>0</th>\n",
       "      <td>AaB</td>\n",
       "      <td>None</td>\n",
       "      <td>Denmark</td>\n",
       "      <td>Aalborg</td>\n",
       "    </tr>\n",
       "    <tr>\n",
       "      <th>1</th>\n",
       "      <td>Aalesund</td>\n",
       "      <td>None</td>\n",
       "      <td>Norway</td>\n",
       "      <td>Alesund</td>\n",
       "    </tr>\n",
       "    <tr>\n",
       "      <th>2</th>\n",
       "      <td>Aarau</td>\n",
       "      <td>None</td>\n",
       "      <td>Switzerland</td>\n",
       "      <td>Aarau</td>\n",
       "    </tr>\n",
       "    <tr>\n",
       "      <th>3</th>\n",
       "      <td>ABC</td>\n",
       "      <td>None</td>\n",
       "      <td>Brazil</td>\n",
       "      <td>Natal</td>\n",
       "    </tr>\n",
       "    <tr>\n",
       "      <th>4</th>\n",
       "      <td>Aberdeen</td>\n",
       "      <td>None</td>\n",
       "      <td>Scotland</td>\n",
       "      <td>Aberdeen</td>\n",
       "    </tr>\n",
       "  </tbody>\n",
       "</table>\n",
       "</div>"
      ],
      "text/plain": [
       "       team teams_ids      country      city\n",
       "0       AaB      None      Denmark   Aalborg\n",
       "1  Aalesund      None       Norway   Alesund\n",
       "2     Aarau      None  Switzerland     Aarau\n",
       "3       ABC      None       Brazil     Natal\n",
       "4  Aberdeen      None     Scotland  Aberdeen"
      ]
     },
     "execution_count": 103,
     "metadata": {},
     "output_type": "execute_result"
    }
   ],
   "source": [
    "df.head()"
   ]
  },
  {
   "cell_type": "code",
   "execution_count": 104,
   "metadata": {},
   "outputs": [
    {
     "data": {
      "text/html": [
       "<div>\n",
       "<style scoped>\n",
       "    .dataframe tbody tr th:only-of-type {\n",
       "        vertical-align: middle;\n",
       "    }\n",
       "\n",
       "    .dataframe tbody tr th {\n",
       "        vertical-align: top;\n",
       "    }\n",
       "\n",
       "    .dataframe thead th {\n",
       "        text-align: right;\n",
       "    }\n",
       "</style>\n",
       "<table border=\"1\" class=\"dataframe\">\n",
       "  <thead>\n",
       "    <tr style=\"text-align: right;\">\n",
       "      <th></th>\n",
       "      <th>team</th>\n",
       "      <th>teams_ids</th>\n",
       "      <th>country</th>\n",
       "      <th>city</th>\n",
       "    </tr>\n",
       "  </thead>\n",
       "  <tbody>\n",
       "    <tr>\n",
       "      <th>1914</th>\n",
       "      <td>Yokohama</td>\n",
       "      <td>None</td>\n",
       "      <td>Japan</td>\n",
       "      <td>Yokohama</td>\n",
       "    </tr>\n",
       "    <tr>\n",
       "      <th>1915</th>\n",
       "      <td>Yokohama F. Marinos</td>\n",
       "      <td>None</td>\n",
       "      <td>Japan</td>\n",
       "      <td>Yokohama</td>\n",
       "    </tr>\n",
       "    <tr>\n",
       "      <th>1916</th>\n",
       "      <td>Young Africans</td>\n",
       "      <td>None</td>\n",
       "      <td>Tanzania</td>\n",
       "      <td>Dar-es-Salaam</td>\n",
       "    </tr>\n",
       "    <tr>\n",
       "      <th>1917</th>\n",
       "      <td>Young Boys</td>\n",
       "      <td>None</td>\n",
       "      <td>Switzerland</td>\n",
       "      <td>Bern</td>\n",
       "    </tr>\n",
       "    <tr>\n",
       "      <th>1918</th>\n",
       "      <td>Young Buffaloes</td>\n",
       "      <td>None</td>\n",
       "      <td>Swaziland</td>\n",
       "      <td>Manzini</td>\n",
       "    </tr>\n",
       "  </tbody>\n",
       "</table>\n",
       "</div>"
      ],
      "text/plain": [
       "                     team teams_ids      country           city\n",
       "1914             Yokohama      None        Japan       Yokohama\n",
       "1915  Yokohama F. Marinos      None        Japan       Yokohama\n",
       "1916       Young Africans      None     Tanzania  Dar-es-Salaam\n",
       "1917           Young Boys      None  Switzerland           Bern\n",
       "1918      Young Buffaloes      None    Swaziland        Manzini"
      ]
     },
     "execution_count": 104,
     "metadata": {},
     "output_type": "execute_result"
    }
   ],
   "source": [
    "df.tail()"
   ]
  },
  {
   "cell_type": "code",
   "execution_count": 105,
   "metadata": {},
   "outputs": [],
   "source": [
    "df.drop_duplicates(subset=['team', 'country'], inplace=True)"
   ]
  },
  {
   "cell_type": "code",
   "execution_count": 106,
   "metadata": {},
   "outputs": [
    {
     "data": {
      "text/plain": [
       "River Plate        3\n",
       "Nacional           3\n",
       "Independiente      2\n",
       "Everton            2\n",
       "Rudar              2\n",
       "                  ..\n",
       "Fenerbahce         1\n",
       "Fello Star         1\n",
       "Feirense           1\n",
       "FCSB               1\n",
       "Young Buffaloes    1\n",
       "Name: team, Length: 1887, dtype: int64"
      ]
     },
     "execution_count": 106,
     "metadata": {},
     "output_type": "execute_result"
    }
   ],
   "source": [
    "df.team.value_counts()"
   ]
  },
  {
   "cell_type": "code",
   "execution_count": 107,
   "metadata": {},
   "outputs": [],
   "source": [
    "df.reset_index(drop=True, inplace=True)"
   ]
  },
  {
   "cell_type": "code",
   "execution_count": 108,
   "metadata": {},
   "outputs": [
    {
     "data": {
      "text/html": [
       "<div>\n",
       "<style scoped>\n",
       "    .dataframe tbody tr th:only-of-type {\n",
       "        vertical-align: middle;\n",
       "    }\n",
       "\n",
       "    .dataframe tbody tr th {\n",
       "        vertical-align: top;\n",
       "    }\n",
       "\n",
       "    .dataframe thead th {\n",
       "        text-align: right;\n",
       "    }\n",
       "</style>\n",
       "<table border=\"1\" class=\"dataframe\">\n",
       "  <thead>\n",
       "    <tr style=\"text-align: right;\">\n",
       "      <th></th>\n",
       "      <th>team</th>\n",
       "      <th>teams_ids</th>\n",
       "      <th>country</th>\n",
       "      <th>city</th>\n",
       "    </tr>\n",
       "  </thead>\n",
       "  <tbody>\n",
       "    <tr>\n",
       "      <th>0</th>\n",
       "      <td>AaB</td>\n",
       "      <td>None</td>\n",
       "      <td>Denmark</td>\n",
       "      <td>Aalborg</td>\n",
       "    </tr>\n",
       "    <tr>\n",
       "      <th>1</th>\n",
       "      <td>Aalesund</td>\n",
       "      <td>None</td>\n",
       "      <td>Norway</td>\n",
       "      <td>Alesund</td>\n",
       "    </tr>\n",
       "    <tr>\n",
       "      <th>2</th>\n",
       "      <td>Aarau</td>\n",
       "      <td>None</td>\n",
       "      <td>Switzerland</td>\n",
       "      <td>Aarau</td>\n",
       "    </tr>\n",
       "    <tr>\n",
       "      <th>3</th>\n",
       "      <td>ABC</td>\n",
       "      <td>None</td>\n",
       "      <td>Brazil</td>\n",
       "      <td>Natal</td>\n",
       "    </tr>\n",
       "    <tr>\n",
       "      <th>4</th>\n",
       "      <td>Aberdeen</td>\n",
       "      <td>None</td>\n",
       "      <td>Scotland</td>\n",
       "      <td>Aberdeen</td>\n",
       "    </tr>\n",
       "    <tr>\n",
       "      <th>...</th>\n",
       "      <td>...</td>\n",
       "      <td>...</td>\n",
       "      <td>...</td>\n",
       "      <td>...</td>\n",
       "    </tr>\n",
       "    <tr>\n",
       "      <th>1900</th>\n",
       "      <td>Yokohama</td>\n",
       "      <td>None</td>\n",
       "      <td>Japan</td>\n",
       "      <td>Yokohama</td>\n",
       "    </tr>\n",
       "    <tr>\n",
       "      <th>1901</th>\n",
       "      <td>Yokohama F. Marinos</td>\n",
       "      <td>None</td>\n",
       "      <td>Japan</td>\n",
       "      <td>Yokohama</td>\n",
       "    </tr>\n",
       "    <tr>\n",
       "      <th>1902</th>\n",
       "      <td>Young Africans</td>\n",
       "      <td>None</td>\n",
       "      <td>Tanzania</td>\n",
       "      <td>Dar-es-Salaam</td>\n",
       "    </tr>\n",
       "    <tr>\n",
       "      <th>1903</th>\n",
       "      <td>Young Boys</td>\n",
       "      <td>None</td>\n",
       "      <td>Switzerland</td>\n",
       "      <td>Bern</td>\n",
       "    </tr>\n",
       "    <tr>\n",
       "      <th>1904</th>\n",
       "      <td>Young Buffaloes</td>\n",
       "      <td>None</td>\n",
       "      <td>Swaziland</td>\n",
       "      <td>Manzini</td>\n",
       "    </tr>\n",
       "  </tbody>\n",
       "</table>\n",
       "<p>1905 rows × 4 columns</p>\n",
       "</div>"
      ],
      "text/plain": [
       "                     team teams_ids      country           city\n",
       "0                     AaB      None      Denmark        Aalborg\n",
       "1                Aalesund      None       Norway        Alesund\n",
       "2                   Aarau      None  Switzerland          Aarau\n",
       "3                     ABC      None       Brazil          Natal\n",
       "4                Aberdeen      None     Scotland       Aberdeen\n",
       "...                   ...       ...          ...            ...\n",
       "1900             Yokohama      None        Japan       Yokohama\n",
       "1901  Yokohama F. Marinos      None        Japan       Yokohama\n",
       "1902       Young Africans      None     Tanzania  Dar-es-Salaam\n",
       "1903           Young Boys      None  Switzerland           Bern\n",
       "1904      Young Buffaloes      None    Swaziland        Manzini\n",
       "\n",
       "[1905 rows x 4 columns]"
      ]
     },
     "execution_count": 108,
     "metadata": {},
     "output_type": "execute_result"
    }
   ],
   "source": [
    "df"
   ]
  },
  {
   "cell_type": "code",
   "execution_count": 163,
   "metadata": {},
   "outputs": [],
   "source": [
    "# with open('pickle_files/df_teams_data_main', 'wb') as f:\n",
    "#     pickle.dump(df, f)"
   ]
  },
  {
   "cell_type": "markdown",
   "metadata": {},
   "source": [
    "### Add teams data"
   ]
  },
  {
   "cell_type": "code",
   "execution_count": 3,
   "metadata": {},
   "outputs": [],
   "source": [
    "# df_teams_data_main\n",
    "with open('pickle_files/teams_data/df_tmd_main_created_28_06_2022', 'rb') as f:\n",
    "    df_teams_data_main = pickle.load(f)"
   ]
  },
  {
   "cell_type": "code",
   "execution_count": 4,
   "metadata": {},
   "outputs": [
    {
     "name": "stdout",
     "output_type": "stream",
     "text": [
      "shape -  4062\n"
     ]
    },
    {
     "data": {
      "text/html": [
       "<div>\n",
       "<style scoped>\n",
       "    .dataframe tbody tr th:only-of-type {\n",
       "        vertical-align: middle;\n",
       "    }\n",
       "\n",
       "    .dataframe tbody tr th {\n",
       "        vertical-align: top;\n",
       "    }\n",
       "\n",
       "    .dataframe thead th {\n",
       "        text-align: right;\n",
       "    }\n",
       "</style>\n",
       "<table border=\"1\" class=\"dataframe\">\n",
       "  <thead>\n",
       "    <tr style=\"text-align: right;\">\n",
       "      <th></th>\n",
       "      <th>team</th>\n",
       "      <th>team_id</th>\n",
       "      <th>country</th>\n",
       "      <th>city</th>\n",
       "    </tr>\n",
       "  </thead>\n",
       "  <tbody>\n",
       "    <tr>\n",
       "      <th>0</th>\n",
       "      <td>AaB</td>\n",
       "      <td>None</td>\n",
       "      <td>Denmark</td>\n",
       "      <td>Aalborg</td>\n",
       "    </tr>\n",
       "    <tr>\n",
       "      <th>1</th>\n",
       "      <td>Aalesund</td>\n",
       "      <td>None</td>\n",
       "      <td>Norway</td>\n",
       "      <td>Alesund</td>\n",
       "    </tr>\n",
       "    <tr>\n",
       "      <th>2</th>\n",
       "      <td>Aarau</td>\n",
       "      <td>None</td>\n",
       "      <td>Switzerland</td>\n",
       "      <td>Aarau</td>\n",
       "    </tr>\n",
       "  </tbody>\n",
       "</table>\n",
       "</div>"
      ],
      "text/plain": [
       "       team team_id      country     city\n",
       "0       AaB    None      Denmark  Aalborg\n",
       "1  Aalesund    None       Norway  Alesund\n",
       "2     Aarau    None  Switzerland    Aarau"
      ]
     },
     "execution_count": 4,
     "metadata": {},
     "output_type": "execute_result"
    }
   ],
   "source": [
    "print('shape - ', df_teams_data_main.shape[0])\n",
    "df_teams_data_main.head(3)"
   ]
  },
  {
   "cell_type": "code",
   "execution_count": 6,
   "metadata": {},
   "outputs": [],
   "source": [
    "with open('pickle_files/teams_data/tmd_26_05_2022/df_after_corr_26_05_2022_third', 'rb') as f:\n",
    "    df_tmd_26_05_2022 = pickle.load(f)"
   ]
  },
  {
   "cell_type": "code",
   "execution_count": 7,
   "metadata": {},
   "outputs": [
    {
     "name": "stdout",
     "output_type": "stream",
     "text": [
      "shape -  90\n"
     ]
    },
    {
     "data": {
      "text/html": [
       "<div>\n",
       "<style scoped>\n",
       "    .dataframe tbody tr th:only-of-type {\n",
       "        vertical-align: middle;\n",
       "    }\n",
       "\n",
       "    .dataframe tbody tr th {\n",
       "        vertical-align: top;\n",
       "    }\n",
       "\n",
       "    .dataframe thead th {\n",
       "        text-align: right;\n",
       "    }\n",
       "</style>\n",
       "<table border=\"1\" class=\"dataframe\">\n",
       "  <thead>\n",
       "    <tr style=\"text-align: right;\">\n",
       "      <th></th>\n",
       "      <th>team_id</th>\n",
       "      <th>team</th>\n",
       "      <th>country</th>\n",
       "      <th>city</th>\n",
       "    </tr>\n",
       "  </thead>\n",
       "  <tbody>\n",
       "    <tr>\n",
       "      <th>0</th>\n",
       "      <td>281</td>\n",
       "      <td>West Bromwich</td>\n",
       "      <td>England</td>\n",
       "      <td>West Bromwich</td>\n",
       "    </tr>\n",
       "    <tr>\n",
       "      <th>1</th>\n",
       "      <td>14607</td>\n",
       "      <td>Volos</td>\n",
       "      <td>Greece</td>\n",
       "      <td>Volos</td>\n",
       "    </tr>\n",
       "    <tr>\n",
       "      <th>2</th>\n",
       "      <td>8986</td>\n",
       "      <td>Dunkerque</td>\n",
       "      <td>France</td>\n",
       "      <td>Dunkirk</td>\n",
       "    </tr>\n",
       "  </tbody>\n",
       "</table>\n",
       "</div>"
      ],
      "text/plain": [
       "  team_id           team  country           city\n",
       "0     281  West Bromwich  England  West Bromwich\n",
       "1   14607          Volos   Greece          Volos\n",
       "2    8986      Dunkerque   France        Dunkirk"
      ]
     },
     "execution_count": 7,
     "metadata": {},
     "output_type": "execute_result"
    }
   ],
   "source": [
    "print('shape - ', df_tmd_26_05_2022.shape[0])\n",
    "df_tmd_26_05_2022.head(3)"
   ]
  },
  {
   "cell_type": "code",
   "execution_count": 8,
   "metadata": {},
   "outputs": [],
   "source": [
    "df_teams_data = pd.concat([df_teams_data_main, df_tmd_26_05_2022]).reset_index(drop=True)"
   ]
  },
  {
   "cell_type": "code",
   "execution_count": 9,
   "metadata": {},
   "outputs": [
    {
     "name": "stdout",
     "output_type": "stream",
     "text": [
      "shape -  4152\n"
     ]
    },
    {
     "data": {
      "text/html": [
       "<div>\n",
       "<style scoped>\n",
       "    .dataframe tbody tr th:only-of-type {\n",
       "        vertical-align: middle;\n",
       "    }\n",
       "\n",
       "    .dataframe tbody tr th {\n",
       "        vertical-align: top;\n",
       "    }\n",
       "\n",
       "    .dataframe thead th {\n",
       "        text-align: right;\n",
       "    }\n",
       "</style>\n",
       "<table border=\"1\" class=\"dataframe\">\n",
       "  <thead>\n",
       "    <tr style=\"text-align: right;\">\n",
       "      <th></th>\n",
       "      <th>team</th>\n",
       "      <th>team_id</th>\n",
       "      <th>country</th>\n",
       "      <th>city</th>\n",
       "    </tr>\n",
       "  </thead>\n",
       "  <tbody>\n",
       "    <tr>\n",
       "      <th>0</th>\n",
       "      <td>AaB</td>\n",
       "      <td>None</td>\n",
       "      <td>Denmark</td>\n",
       "      <td>Aalborg</td>\n",
       "    </tr>\n",
       "    <tr>\n",
       "      <th>1</th>\n",
       "      <td>Aalesund</td>\n",
       "      <td>None</td>\n",
       "      <td>Norway</td>\n",
       "      <td>Alesund</td>\n",
       "    </tr>\n",
       "    <tr>\n",
       "      <th>2</th>\n",
       "      <td>Aarau</td>\n",
       "      <td>None</td>\n",
       "      <td>Switzerland</td>\n",
       "      <td>Aarau</td>\n",
       "    </tr>\n",
       "  </tbody>\n",
       "</table>\n",
       "</div>"
      ],
      "text/plain": [
       "       team team_id      country     city\n",
       "0       AaB    None      Denmark  Aalborg\n",
       "1  Aalesund    None       Norway  Alesund\n",
       "2     Aarau    None  Switzerland    Aarau"
      ]
     },
     "execution_count": 9,
     "metadata": {},
     "output_type": "execute_result"
    }
   ],
   "source": [
    "print('shape - ', df_teams_data.shape[0])\n",
    "df_teams_data.head(3)"
   ]
  },
  {
   "cell_type": "code",
   "execution_count": 10,
   "metadata": {},
   "outputs": [],
   "source": [
    "df_teams_data.team    = df_teams_data.team.str.strip()\n",
    "df_teams_data.country = df_teams_data.country.str.strip()\n",
    "df_teams_data.city    = df_teams_data.city.str.strip()"
   ]
  },
  {
   "cell_type": "code",
   "execution_count": 11,
   "metadata": {},
   "outputs": [
    {
     "data": {
      "text/plain": [
       "River Plate         3\n",
       "Nacional            3\n",
       "Shandong Taishan    2\n",
       "Rudar               2\n",
       "Al Orubah           2\n",
       "Name: team, dtype: int64"
      ]
     },
     "execution_count": 11,
     "metadata": {},
     "output_type": "execute_result"
    }
   ],
   "source": [
    "df_teams_data.team.value_counts(dropna=False).head()"
   ]
  },
  {
   "cell_type": "code",
   "execution_count": 12,
   "metadata": {},
   "outputs": [
    {
     "data": {
      "text/plain": [
       "Italy      186\n",
       "Spain      176\n",
       "Brazil     174\n",
       "England    150\n",
       "Germany    130\n",
       "Name: country, dtype: int64"
      ]
     },
     "execution_count": 12,
     "metadata": {},
     "output_type": "execute_result"
    }
   ],
   "source": [
    "df_teams_data.country.value_counts(dropna=False).head()"
   ]
  },
  {
   "cell_type": "code",
   "execution_count": 13,
   "metadata": {},
   "outputs": [
    {
     "data": {
      "text/plain": [
       "South Sudan      1\n",
       "Liechtenstein    1\n",
       "Mauritius        1\n",
       "Malawi           1\n",
       "Benin            1\n",
       "Name: country, dtype: int64"
      ]
     },
     "execution_count": 13,
     "metadata": {},
     "output_type": "execute_result"
    }
   ],
   "source": [
    "df_teams_data.country.value_counts(dropna=False).tail()"
   ]
  },
  {
   "cell_type": "code",
   "execution_count": 14,
   "metadata": {},
   "outputs": [
    {
     "data": {
      "text/plain": [
       "Buenos Aires    55\n",
       "Montevideo      30\n",
       "Cairo           17\n",
       "London          14\n",
       "Yerevan         13\n",
       "Name: city, dtype: int64"
      ]
     },
     "execution_count": 14,
     "metadata": {},
     "output_type": "execute_result"
    }
   ],
   "source": [
    "df_teams_data.city.value_counts(dropna=False).head()"
   ]
  },
  {
   "cell_type": "code",
   "execution_count": 15,
   "metadata": {},
   "outputs": [],
   "source": [
    "df_teams_data = df_teams_data[~df_teams_data.city.isin(['nd'])].copy().reset_index(drop=True)"
   ]
  },
  {
   "cell_type": "code",
   "execution_count": 16,
   "metadata": {},
   "outputs": [
    {
     "name": "stdout",
     "output_type": "stream",
     "text": [
      "shape -  4152\n"
     ]
    },
    {
     "data": {
      "text/html": [
       "<div>\n",
       "<style scoped>\n",
       "    .dataframe tbody tr th:only-of-type {\n",
       "        vertical-align: middle;\n",
       "    }\n",
       "\n",
       "    .dataframe tbody tr th {\n",
       "        vertical-align: top;\n",
       "    }\n",
       "\n",
       "    .dataframe thead th {\n",
       "        text-align: right;\n",
       "    }\n",
       "</style>\n",
       "<table border=\"1\" class=\"dataframe\">\n",
       "  <thead>\n",
       "    <tr style=\"text-align: right;\">\n",
       "      <th></th>\n",
       "      <th>team</th>\n",
       "      <th>team_id</th>\n",
       "      <th>country</th>\n",
       "      <th>city</th>\n",
       "    </tr>\n",
       "  </thead>\n",
       "  <tbody>\n",
       "    <tr>\n",
       "      <th>0</th>\n",
       "      <td>AaB</td>\n",
       "      <td>None</td>\n",
       "      <td>Denmark</td>\n",
       "      <td>Aalborg</td>\n",
       "    </tr>\n",
       "    <tr>\n",
       "      <th>1</th>\n",
       "      <td>Aalesund</td>\n",
       "      <td>None</td>\n",
       "      <td>Norway</td>\n",
       "      <td>Alesund</td>\n",
       "    </tr>\n",
       "    <tr>\n",
       "      <th>2</th>\n",
       "      <td>Aarau</td>\n",
       "      <td>None</td>\n",
       "      <td>Switzerland</td>\n",
       "      <td>Aarau</td>\n",
       "    </tr>\n",
       "  </tbody>\n",
       "</table>\n",
       "</div>"
      ],
      "text/plain": [
       "       team team_id      country     city\n",
       "0       AaB    None      Denmark  Aalborg\n",
       "1  Aalesund    None       Norway  Alesund\n",
       "2     Aarau    None  Switzerland    Aarau"
      ]
     },
     "execution_count": 16,
     "metadata": {},
     "output_type": "execute_result"
    }
   ],
   "source": [
    "print('shape - ', df_teams_data.shape[0])\n",
    "df_teams_data.head(3)"
   ]
  },
  {
   "cell_type": "code",
   "execution_count": 17,
   "metadata": {},
   "outputs": [
    {
     "data": {
      "text/html": [
       "<div>\n",
       "<style scoped>\n",
       "    .dataframe tbody tr th:only-of-type {\n",
       "        vertical-align: middle;\n",
       "    }\n",
       "\n",
       "    .dataframe tbody tr th {\n",
       "        vertical-align: top;\n",
       "    }\n",
       "\n",
       "    .dataframe thead th {\n",
       "        text-align: right;\n",
       "    }\n",
       "</style>\n",
       "<table border=\"1\" class=\"dataframe\">\n",
       "  <thead>\n",
       "    <tr style=\"text-align: right;\">\n",
       "      <th></th>\n",
       "      <th>team</th>\n",
       "      <th>team_id</th>\n",
       "      <th>country</th>\n",
       "      <th>city</th>\n",
       "    </tr>\n",
       "  </thead>\n",
       "  <tbody>\n",
       "  </tbody>\n",
       "</table>\n",
       "</div>"
      ],
      "text/plain": [
       "Empty DataFrame\n",
       "Columns: [team, team_id, country, city]\n",
       "Index: []"
      ]
     },
     "execution_count": 17,
     "metadata": {},
     "output_type": "execute_result"
    }
   ],
   "source": [
    "# After csv formating - 'nan'\n",
    "df_teams_data[df_teams_data.city == 'nan']"
   ]
  },
  {
   "cell_type": "code",
   "execution_count": 18,
   "metadata": {},
   "outputs": [],
   "source": [
    "dbl_teams_lst = df_teams_data[df_teams_data.duplicated(subset=['team', 'country'])].team"
   ]
  },
  {
   "cell_type": "code",
   "execution_count": 19,
   "metadata": {},
   "outputs": [
    {
     "data": {
      "text/plain": [
       "4122    Dungannon\n",
       "Name: team, dtype: object"
      ]
     },
     "execution_count": 19,
     "metadata": {},
     "output_type": "execute_result"
    }
   ],
   "source": [
    "dbl_teams_lst[:3]"
   ]
  },
  {
   "cell_type": "code",
   "execution_count": 20,
   "metadata": {},
   "outputs": [],
   "source": [
    "df_teams_uniq = df_teams_data[~df_teams_data.team.isin(dbl_teams_lst)].copy().reset_index(drop=True)"
   ]
  },
  {
   "cell_type": "code",
   "execution_count": 21,
   "metadata": {},
   "outputs": [
    {
     "name": "stdout",
     "output_type": "stream",
     "text": [
      "shape -  4150\n"
     ]
    },
    {
     "data": {
      "text/html": [
       "<div>\n",
       "<style scoped>\n",
       "    .dataframe tbody tr th:only-of-type {\n",
       "        vertical-align: middle;\n",
       "    }\n",
       "\n",
       "    .dataframe tbody tr th {\n",
       "        vertical-align: top;\n",
       "    }\n",
       "\n",
       "    .dataframe thead th {\n",
       "        text-align: right;\n",
       "    }\n",
       "</style>\n",
       "<table border=\"1\" class=\"dataframe\">\n",
       "  <thead>\n",
       "    <tr style=\"text-align: right;\">\n",
       "      <th></th>\n",
       "      <th>team</th>\n",
       "      <th>team_id</th>\n",
       "      <th>country</th>\n",
       "      <th>city</th>\n",
       "    </tr>\n",
       "  </thead>\n",
       "  <tbody>\n",
       "    <tr>\n",
       "      <th>0</th>\n",
       "      <td>AaB</td>\n",
       "      <td>None</td>\n",
       "      <td>Denmark</td>\n",
       "      <td>Aalborg</td>\n",
       "    </tr>\n",
       "    <tr>\n",
       "      <th>1</th>\n",
       "      <td>Aalesund</td>\n",
       "      <td>None</td>\n",
       "      <td>Norway</td>\n",
       "      <td>Alesund</td>\n",
       "    </tr>\n",
       "    <tr>\n",
       "      <th>2</th>\n",
       "      <td>Aarau</td>\n",
       "      <td>None</td>\n",
       "      <td>Switzerland</td>\n",
       "      <td>Aarau</td>\n",
       "    </tr>\n",
       "  </tbody>\n",
       "</table>\n",
       "</div>"
      ],
      "text/plain": [
       "       team team_id      country     city\n",
       "0       AaB    None      Denmark  Aalborg\n",
       "1  Aalesund    None       Norway  Alesund\n",
       "2     Aarau    None  Switzerland    Aarau"
      ]
     },
     "execution_count": 21,
     "metadata": {},
     "output_type": "execute_result"
    }
   ],
   "source": [
    "print('shape - ', df_teams_uniq.shape[0])\n",
    "df_teams_uniq.head(3)"
   ]
  },
  {
   "cell_type": "code",
   "execution_count": 22,
   "metadata": {},
   "outputs": [],
   "source": [
    "df_teams_dbl = df_teams_data[df_teams_data.team.isin(dbl_teams_lst)].copy().reset_index(drop=True)"
   ]
  },
  {
   "cell_type": "code",
   "execution_count": 23,
   "metadata": {},
   "outputs": [
    {
     "name": "stdout",
     "output_type": "stream",
     "text": [
      "shape -  2\n"
     ]
    },
    {
     "data": {
      "text/html": [
       "<div>\n",
       "<style scoped>\n",
       "    .dataframe tbody tr th:only-of-type {\n",
       "        vertical-align: middle;\n",
       "    }\n",
       "\n",
       "    .dataframe tbody tr th {\n",
       "        vertical-align: top;\n",
       "    }\n",
       "\n",
       "    .dataframe thead th {\n",
       "        text-align: right;\n",
       "    }\n",
       "</style>\n",
       "<table border=\"1\" class=\"dataframe\">\n",
       "  <thead>\n",
       "    <tr style=\"text-align: right;\">\n",
       "      <th></th>\n",
       "      <th>team</th>\n",
       "      <th>team_id</th>\n",
       "      <th>country</th>\n",
       "      <th>city</th>\n",
       "    </tr>\n",
       "  </thead>\n",
       "  <tbody>\n",
       "    <tr>\n",
       "      <th>0</th>\n",
       "      <td>Dungannon</td>\n",
       "      <td>9703</td>\n",
       "      <td>Northern Ireland</td>\n",
       "      <td>Dungannon</td>\n",
       "    </tr>\n",
       "    <tr>\n",
       "      <th>1</th>\n",
       "      <td>Dungannon</td>\n",
       "      <td>9703</td>\n",
       "      <td>Northern Ireland</td>\n",
       "      <td>the NIFL Premiership</td>\n",
       "    </tr>\n",
       "  </tbody>\n",
       "</table>\n",
       "</div>"
      ],
      "text/plain": [
       "        team team_id           country                  city\n",
       "0  Dungannon    9703  Northern Ireland             Dungannon\n",
       "1  Dungannon    9703  Northern Ireland  the NIFL Premiership"
      ]
     },
     "execution_count": 23,
     "metadata": {},
     "output_type": "execute_result"
    }
   ],
   "source": [
    "print('shape - ', df_teams_dbl.shape[0])\n",
    "df_teams_dbl.head(3)"
   ]
  },
  {
   "cell_type": "code",
   "execution_count": 24,
   "metadata": {},
   "outputs": [
    {
     "name": "stdout",
     "output_type": "stream",
     "text": [
      "shape -  2\n"
     ]
    }
   ],
   "source": [
    "df_teams_dbl = df_teams_dbl[~df_teams_dbl.team_id.isna()].copy()\n",
    "print('shape - ', df_teams_dbl.shape[0])"
   ]
  },
  {
   "cell_type": "code",
   "execution_count": 25,
   "metadata": {},
   "outputs": [
    {
     "name": "stdout",
     "output_type": "stream",
     "text": [
      "shape -  1\n"
     ]
    }
   ],
   "source": [
    "df_teams_dbl.drop_duplicates(subset=['team', 'country'], inplace=True)\n",
    "print('shape - ', df_teams_dbl.shape[0])"
   ]
  },
  {
   "cell_type": "code",
   "execution_count": 26,
   "metadata": {},
   "outputs": [
    {
     "data": {
      "text/html": [
       "<div>\n",
       "<style scoped>\n",
       "    .dataframe tbody tr th:only-of-type {\n",
       "        vertical-align: middle;\n",
       "    }\n",
       "\n",
       "    .dataframe tbody tr th {\n",
       "        vertical-align: top;\n",
       "    }\n",
       "\n",
       "    .dataframe thead th {\n",
       "        text-align: right;\n",
       "    }\n",
       "</style>\n",
       "<table border=\"1\" class=\"dataframe\">\n",
       "  <thead>\n",
       "    <tr style=\"text-align: right;\">\n",
       "      <th></th>\n",
       "      <th>team</th>\n",
       "      <th>team_id</th>\n",
       "      <th>country</th>\n",
       "      <th>city</th>\n",
       "    </tr>\n",
       "  </thead>\n",
       "  <tbody>\n",
       "    <tr>\n",
       "      <th>0</th>\n",
       "      <td>Dungannon</td>\n",
       "      <td>9703</td>\n",
       "      <td>Northern Ireland</td>\n",
       "      <td>Dungannon</td>\n",
       "    </tr>\n",
       "  </tbody>\n",
       "</table>\n",
       "</div>"
      ],
      "text/plain": [
       "        team team_id           country       city\n",
       "0  Dungannon    9703  Northern Ireland  Dungannon"
      ]
     },
     "execution_count": 26,
     "metadata": {},
     "output_type": "execute_result"
    }
   ],
   "source": [
    "df_teams_dbl"
   ]
  },
  {
   "cell_type": "code",
   "execution_count": 27,
   "metadata": {},
   "outputs": [
    {
     "name": "stdout",
     "output_type": "stream",
     "text": [
      "shape -  4151\n"
     ]
    },
    {
     "data": {
      "text/html": [
       "<div>\n",
       "<style scoped>\n",
       "    .dataframe tbody tr th:only-of-type {\n",
       "        vertical-align: middle;\n",
       "    }\n",
       "\n",
       "    .dataframe tbody tr th {\n",
       "        vertical-align: top;\n",
       "    }\n",
       "\n",
       "    .dataframe thead th {\n",
       "        text-align: right;\n",
       "    }\n",
       "</style>\n",
       "<table border=\"1\" class=\"dataframe\">\n",
       "  <thead>\n",
       "    <tr style=\"text-align: right;\">\n",
       "      <th></th>\n",
       "      <th>team</th>\n",
       "      <th>team_id</th>\n",
       "      <th>country</th>\n",
       "      <th>city</th>\n",
       "    </tr>\n",
       "  </thead>\n",
       "  <tbody>\n",
       "    <tr>\n",
       "      <th>0</th>\n",
       "      <td>AaB</td>\n",
       "      <td>None</td>\n",
       "      <td>Denmark</td>\n",
       "      <td>Aalborg</td>\n",
       "    </tr>\n",
       "    <tr>\n",
       "      <th>1</th>\n",
       "      <td>Aalesund</td>\n",
       "      <td>None</td>\n",
       "      <td>Norway</td>\n",
       "      <td>Alesund</td>\n",
       "    </tr>\n",
       "    <tr>\n",
       "      <th>2</th>\n",
       "      <td>Aarau</td>\n",
       "      <td>None</td>\n",
       "      <td>Switzerland</td>\n",
       "      <td>Aarau</td>\n",
       "    </tr>\n",
       "  </tbody>\n",
       "</table>\n",
       "</div>"
      ],
      "text/plain": [
       "       team team_id      country     city\n",
       "0       AaB    None      Denmark  Aalborg\n",
       "1  Aalesund    None       Norway  Alesund\n",
       "2     Aarau    None  Switzerland    Aarau"
      ]
     },
     "execution_count": 27,
     "metadata": {},
     "output_type": "execute_result"
    }
   ],
   "source": [
    "df_tmd_main = pd.concat([df_teams_uniq, df_teams_dbl]).reset_index(drop=True)\n",
    "print('shape - ', df_tmd_main.shape[0])\n",
    "df_tmd_main.head(3)"
   ]
  },
  {
   "cell_type": "code",
   "execution_count": null,
   "metadata": {},
   "outputs": [],
   "source": [
    "# Check this names \n",
    "# Korea Republic = South Korea, China PR = China, Czech Republic = Czechia, Republic of Ireland = Ireland, FYR Macedonia = North Macedonia\n",
    "# df.loc[885:885, 'city'] = 'Stuttgart'\n",
    "# df[df.country == 'Hong Kong'] \n",
    "# df.country = df.country.map(lambda x: 'North Macedonia' if x == 'FYR Macedonia' else x)"
   ]
  },
  {
   "cell_type": "code",
   "execution_count": 29,
   "metadata": {},
   "outputs": [],
   "source": [
    "# file = open('pickle_files/df_tmd_main_created_29_06_2022', 'wb')\n",
    "# pickle.dump(df_tmd_main, file)  \n",
    "# file.close()"
   ]
  },
  {
   "cell_type": "code",
   "execution_count": null,
   "metadata": {},
   "outputs": [],
   "source": [
    "# club = 'Vila Nova'\n",
    "# country = 'Brazil'\n",
    "# city = 'Goiania'\n",
    "\n",
    "# new_club = {'club':club, 'club_country':country, 'club_city':city}\n",
    "# new_club = pd.DataFrame([new_club])\n",
    "# print(new_club)\n",
    "# df_for_add = pd.concat([df_for_add, new_club], ignore_index=True)"
   ]
  }
 ],
 "metadata": {
  "kernelspec": {
   "display_name": "Python 3 (ipykernel)",
   "language": "python",
   "name": "python3"
  },
  "language_info": {
   "codemirror_mode": {
    "name": "ipython",
    "version": 3
   },
   "file_extension": ".py",
   "mimetype": "text/x-python",
   "name": "python",
   "nbconvert_exporter": "python",
   "pygments_lexer": "ipython3",
   "version": "3.9.7"
  }
 },
 "nbformat": 4,
 "nbformat_minor": 4
}

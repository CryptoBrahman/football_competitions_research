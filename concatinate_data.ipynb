{
 "cells": [
  {
   "cell_type": "code",
   "execution_count": 1,
   "metadata": {},
   "outputs": [],
   "source": [
    "import os\n",
    "import re\n",
    "import pickle\n",
    "import datetime\n",
    "import pandas as pd\n",
    "import numpy as np\n",
    "\n",
    "from _html_parser import ParsingDataPrepare, TableConstant\n",
    "\n",
    "pd.set_option('display.max_rows', 500)\n",
    "pd.set_option('display.max_columns', 500)\n",
    "pd.set_option('display.max_colwidth', 500)"
   ]
  },
  {
   "cell_type": "code",
   "execution_count": 2,
   "metadata": {},
   "outputs": [],
   "source": [
    "%load_ext autoreload\n",
    "%autoreload 2"
   ]
  },
  {
   "cell_type": "markdown",
   "metadata": {},
   "source": [
    "#### Choose the date for dirs and files"
   ]
  },
  {
   "cell_type": "code",
   "execution_count": 3,
   "metadata": {},
   "outputs": [],
   "source": [
    "# Start from more time ('26_05_2022' -'27_03_2021'), ('26_03_2021' - '03_11_2013)\n",
    "dir_data = dir_data_start = '26_05_2022'\n",
    "dir_data_end = '27_03_2021'"
   ]
  },
  {
   "cell_type": "code",
   "execution_count": 4,
   "metadata": {},
   "outputs": [],
   "source": [
    "with open('pickle_files/new_events/'+ dir_data +'/df_'+ dir_data_start +'_to_'+ dir_data_end  +'_games', 'rb') as f:\n",
    "    df_games = pickle.load(f)"
   ]
  },
  {
   "cell_type": "code",
   "execution_count": 5,
   "metadata": {},
   "outputs": [
    {
     "data": {
      "text/html": [
       "<div>\n",
       "<style scoped>\n",
       "    .dataframe tbody tr th:only-of-type {\n",
       "        vertical-align: middle;\n",
       "    }\n",
       "\n",
       "    .dataframe tbody tr th {\n",
       "        vertical-align: top;\n",
       "    }\n",
       "\n",
       "    .dataframe thead th {\n",
       "        text-align: right;\n",
       "    }\n",
       "</style>\n",
       "<table border=\"1\" class=\"dataframe\">\n",
       "  <thead>\n",
       "    <tr style=\"text-align: right;\">\n",
       "      <th></th>\n",
       "      <th>game_id</th>\n",
       "      <th>ligue_header</th>\n",
       "      <th>comp_id</th>\n",
       "      <th>season_id</th>\n",
       "      <th>game_utc</th>\n",
       "      <th>game_title</th>\n",
       "      <th>goals</th>\n",
       "      <th>ligue</th>\n",
       "    </tr>\n",
       "  </thead>\n",
       "  <tbody>\n",
       "    <tr>\n",
       "      <th>0</th>\n",
       "      <td>1729359</td>\n",
       "      <td>Ligue 1</td>\n",
       "      <td>18</td>\n",
       "      <td>310</td>\n",
       "      <td>26.05.2022 17:00</td>\n",
       "      <td>Auxerre - Saint-Etienne</td>\n",
       "      <td>1:1</td>\n",
       "      <td>top</td>\n",
       "    </tr>\n",
       "    <tr>\n",
       "      <th>1</th>\n",
       "      <td>1729393</td>\n",
       "      <td>Serie B</td>\n",
       "      <td>627</td>\n",
       "      <td>310</td>\n",
       "      <td>26.05.2022 18:30</td>\n",
       "      <td>Monza - Pisa</td>\n",
       "      <td>2:1</td>\n",
       "      <td>thr</td>\n",
       "    </tr>\n",
       "    <tr>\n",
       "      <th>2</th>\n",
       "      <td>1729388</td>\n",
       "      <td>Eredivisie</td>\n",
       "      <td>596</td>\n",
       "      <td>Cup</td>\n",
       "      <td>26.05.2022 18:00</td>\n",
       "      <td>Vitesse - AZ Alkmaar</td>\n",
       "      <td>2:1</td>\n",
       "      <td>top</td>\n",
       "    </tr>\n",
       "    <tr>\n",
       "      <th>3</th>\n",
       "      <td>1708335</td>\n",
       "      <td>Premier League</td>\n",
       "      <td>483</td>\n",
       "      <td>301</td>\n",
       "      <td>26.05.2022 15:00</td>\n",
       "      <td>FC Minsk - Arsenal Dzerzhinsk</td>\n",
       "      <td>2:0</td>\n",
       "      <td>top</td>\n",
       "    </tr>\n",
       "    <tr>\n",
       "      <th>4</th>\n",
       "      <td>1687458</td>\n",
       "      <td>Eliteserien</td>\n",
       "      <td>747</td>\n",
       "      <td>301</td>\n",
       "      <td>26.05.2022 16:00</td>\n",
       "      <td>Rosenborg - Haugesund</td>\n",
       "      <td>3:3</td>\n",
       "      <td>sec</td>\n",
       "    </tr>\n",
       "    <tr>\n",
       "      <th>...</th>\n",
       "      <td>...</td>\n",
       "      <td>...</td>\n",
       "      <td>...</td>\n",
       "      <td>...</td>\n",
       "      <td>...</td>\n",
       "      <td>...</td>\n",
       "      <td>...</td>\n",
       "      <td>...</td>\n",
       "    </tr>\n",
       "    <tr>\n",
       "      <th>91916</th>\n",
       "      <td>15197308</td>\n",
       "      <td>Primera Division</td>\n",
       "      <td>593</td>\n",
       "      <td>306</td>\n",
       "      <td>28.03.2021 17:00</td>\n",
       "      <td>Nueva Concepcion - Suchitepequez</td>\n",
       "      <td>1:1</td>\n",
       "      <td>thr</td>\n",
       "    </tr>\n",
       "    <tr>\n",
       "      <th>91917</th>\n",
       "      <td>15197309</td>\n",
       "      <td>Primera Division</td>\n",
       "      <td>593</td>\n",
       "      <td>306</td>\n",
       "      <td>28.03.2021 20:59</td>\n",
       "      <td>Deportivo San Pedro - Plataneros</td>\n",
       "      <td>2:1</td>\n",
       "      <td>thr</td>\n",
       "    </tr>\n",
       "    <tr>\n",
       "      <th>91918</th>\n",
       "      <td>15092974</td>\n",
       "      <td>National Football League</td>\n",
       "      <td>575</td>\n",
       "      <td>307</td>\n",
       "      <td>28.03.2021 03:00</td>\n",
       "      <td>Navua - Rewa</td>\n",
       "      <td>1:2</td>\n",
       "      <td>thr</td>\n",
       "    </tr>\n",
       "    <tr>\n",
       "      <th>91919</th>\n",
       "      <td>15092975</td>\n",
       "      <td>National Football League</td>\n",
       "      <td>575</td>\n",
       "      <td>307</td>\n",
       "      <td>28.03.2021 03:00</td>\n",
       "      <td>Ba - Lautoka</td>\n",
       "      <td>1:2</td>\n",
       "      <td>thr</td>\n",
       "    </tr>\n",
       "    <tr>\n",
       "      <th>91920</th>\n",
       "      <td>15092976</td>\n",
       "      <td>National Football League</td>\n",
       "      <td>575</td>\n",
       "      <td>307</td>\n",
       "      <td>28.03.2021 03:00</td>\n",
       "      <td>Nadi - Suva</td>\n",
       "      <td>1:0</td>\n",
       "      <td>thr</td>\n",
       "    </tr>\n",
       "  </tbody>\n",
       "</table>\n",
       "<p>91921 rows × 8 columns</p>\n",
       "</div>"
      ],
      "text/plain": [
       "        game_id              ligue_header comp_id season_id          game_utc  \\\n",
       "0       1729359                   Ligue 1      18       310  26.05.2022 17:00   \n",
       "1       1729393                   Serie B     627       310  26.05.2022 18:30   \n",
       "2       1729388                Eredivisie     596       Cup  26.05.2022 18:00   \n",
       "3       1708335            Premier League     483       301  26.05.2022 15:00   \n",
       "4       1687458               Eliteserien     747       301  26.05.2022 16:00   \n",
       "...         ...                       ...     ...       ...               ...   \n",
       "91916  15197308          Primera Division     593       306  28.03.2021 17:00   \n",
       "91917  15197309          Primera Division     593       306  28.03.2021 20:59   \n",
       "91918  15092974  National Football League     575       307  28.03.2021 03:00   \n",
       "91919  15092975  National Football League     575       307  28.03.2021 03:00   \n",
       "91920  15092976  National Football League     575       307  28.03.2021 03:00   \n",
       "\n",
       "                             game_title goals ligue  \n",
       "0               Auxerre - Saint-Etienne   1:1   top  \n",
       "1                          Monza - Pisa   2:1   thr  \n",
       "2                  Vitesse - AZ Alkmaar   2:1   top  \n",
       "3         FC Minsk - Arsenal Dzerzhinsk   2:0   top  \n",
       "4                 Rosenborg - Haugesund   3:3   sec  \n",
       "...                                 ...   ...   ...  \n",
       "91916  Nueva Concepcion - Suchitepequez   1:1   thr  \n",
       "91917  Deportivo San Pedro - Plataneros   2:1   thr  \n",
       "91918                      Navua - Rewa   1:2   thr  \n",
       "91919                      Ba - Lautoka   1:2   thr  \n",
       "91920                       Nadi - Suva   1:0   thr  \n",
       "\n",
       "[91921 rows x 8 columns]"
      ]
     },
     "execution_count": 5,
     "metadata": {},
     "output_type": "execute_result"
    }
   ],
   "source": [
    "df_games"
   ]
  },
  {
   "cell_type": "code",
   "execution_count": 6,
   "metadata": {},
   "outputs": [],
   "source": [
    "df_games['f_team'] = df_games.game_title.map(lambda x: str(x).split(' - ')[0])\n",
    "df_games['s_team'] = df_games.game_title.map(lambda x: str(x).split(' - ')[1])"
   ]
  },
  {
   "cell_type": "code",
   "execution_count": 7,
   "metadata": {},
   "outputs": [
    {
     "data": {
      "text/html": [
       "<div>\n",
       "<style scoped>\n",
       "    .dataframe tbody tr th:only-of-type {\n",
       "        vertical-align: middle;\n",
       "    }\n",
       "\n",
       "    .dataframe tbody tr th {\n",
       "        vertical-align: top;\n",
       "    }\n",
       "\n",
       "    .dataframe thead th {\n",
       "        text-align: right;\n",
       "    }\n",
       "</style>\n",
       "<table border=\"1\" class=\"dataframe\">\n",
       "  <thead>\n",
       "    <tr style=\"text-align: right;\">\n",
       "      <th></th>\n",
       "      <th>game_id</th>\n",
       "      <th>ligue_header</th>\n",
       "      <th>comp_id</th>\n",
       "      <th>season_id</th>\n",
       "      <th>game_utc</th>\n",
       "      <th>game_title</th>\n",
       "      <th>goals</th>\n",
       "      <th>ligue</th>\n",
       "      <th>f_team</th>\n",
       "      <th>s_team</th>\n",
       "    </tr>\n",
       "  </thead>\n",
       "  <tbody>\n",
       "    <tr>\n",
       "      <th>0</th>\n",
       "      <td>1729359</td>\n",
       "      <td>Ligue 1</td>\n",
       "      <td>18</td>\n",
       "      <td>310</td>\n",
       "      <td>26.05.2022 17:00</td>\n",
       "      <td>Auxerre - Saint-Etienne</td>\n",
       "      <td>1:1</td>\n",
       "      <td>top</td>\n",
       "      <td>Auxerre</td>\n",
       "      <td>Saint-Etienne</td>\n",
       "    </tr>\n",
       "    <tr>\n",
       "      <th>1</th>\n",
       "      <td>1729393</td>\n",
       "      <td>Serie B</td>\n",
       "      <td>627</td>\n",
       "      <td>310</td>\n",
       "      <td>26.05.2022 18:30</td>\n",
       "      <td>Monza - Pisa</td>\n",
       "      <td>2:1</td>\n",
       "      <td>thr</td>\n",
       "      <td>Monza</td>\n",
       "      <td>Pisa</td>\n",
       "    </tr>\n",
       "    <tr>\n",
       "      <th>2</th>\n",
       "      <td>1729388</td>\n",
       "      <td>Eredivisie</td>\n",
       "      <td>596</td>\n",
       "      <td>Cup</td>\n",
       "      <td>26.05.2022 18:00</td>\n",
       "      <td>Vitesse - AZ Alkmaar</td>\n",
       "      <td>2:1</td>\n",
       "      <td>top</td>\n",
       "      <td>Vitesse</td>\n",
       "      <td>AZ Alkmaar</td>\n",
       "    </tr>\n",
       "  </tbody>\n",
       "</table>\n",
       "</div>"
      ],
      "text/plain": [
       "   game_id ligue_header comp_id season_id          game_utc  \\\n",
       "0  1729359      Ligue 1      18       310  26.05.2022 17:00   \n",
       "1  1729393      Serie B     627       310  26.05.2022 18:30   \n",
       "2  1729388   Eredivisie     596       Cup  26.05.2022 18:00   \n",
       "\n",
       "                game_title goals ligue   f_team         s_team  \n",
       "0  Auxerre - Saint-Etienne   1:1   top  Auxerre  Saint-Etienne  \n",
       "1             Monza - Pisa   2:1   thr    Monza           Pisa  \n",
       "2     Vitesse - AZ Alkmaar   2:1   top  Vitesse     AZ Alkmaar  "
      ]
     },
     "execution_count": 7,
     "metadata": {},
     "output_type": "execute_result"
    }
   ],
   "source": [
    "df_games.head(3)"
   ]
  },
  {
   "cell_type": "markdown",
   "metadata": {},
   "source": [
    "#### Add competitions data "
   ]
  },
  {
   "cell_type": "code",
   "execution_count": 8,
   "metadata": {},
   "outputs": [],
   "source": [
    "with open('pickle_files/new_events/'+ dir_data +'/df_comp_tabs_'+ dir_data_start +'_all_lgs', 'rb') as f:\n",
    "    df_comp_tables = pickle.load(f)"
   ]
  },
  {
   "cell_type": "code",
   "execution_count": 9,
   "metadata": {},
   "outputs": [],
   "source": [
    "df_comp_tables.rename(columns={'team_name':'f_team'}, inplace=True)"
   ]
  },
  {
   "cell_type": "code",
   "execution_count": 10,
   "metadata": {},
   "outputs": [],
   "source": [
    "# Duble column for get data for each team\n",
    "df_comp_tables['s_team'] = df_comp_tables.f_team"
   ]
  },
  {
   "cell_type": "code",
   "execution_count": 11,
   "metadata": {},
   "outputs": [
    {
     "data": {
      "text/html": [
       "<div>\n",
       "<style scoped>\n",
       "    .dataframe tbody tr th:only-of-type {\n",
       "        vertical-align: middle;\n",
       "    }\n",
       "\n",
       "    .dataframe tbody tr th {\n",
       "        vertical-align: top;\n",
       "    }\n",
       "\n",
       "    .dataframe thead th {\n",
       "        text-align: right;\n",
       "    }\n",
       "</style>\n",
       "<table border=\"1\" class=\"dataframe\">\n",
       "  <thead>\n",
       "    <tr style=\"text-align: right;\">\n",
       "      <th></th>\n",
       "      <th>f_team</th>\n",
       "      <th>team_id</th>\n",
       "      <th>pos</th>\n",
       "      <th>pld</th>\n",
       "      <th>w</th>\n",
       "      <th>d</th>\n",
       "      <th>l</th>\n",
       "      <th>gf</th>\n",
       "      <th>ga</th>\n",
       "      <th>+/-</th>\n",
       "      <th>pts</th>\n",
       "      <th>comp_id</th>\n",
       "      <th>season_id</th>\n",
       "      <th>s_team</th>\n",
       "    </tr>\n",
       "  </thead>\n",
       "  <tbody>\n",
       "    <tr>\n",
       "      <th>0</th>\n",
       "      <td>Japan U23</td>\n",
       "      <td>10622</td>\n",
       "      <td>1</td>\n",
       "      <td>3</td>\n",
       "      <td>3</td>\n",
       "      <td>0</td>\n",
       "      <td>0</td>\n",
       "      <td>7</td>\n",
       "      <td>1</td>\n",
       "      <td>+6</td>\n",
       "      <td>9</td>\n",
       "      <td>1016</td>\n",
       "      <td>298</td>\n",
       "      <td>Japan U23</td>\n",
       "    </tr>\n",
       "    <tr>\n",
       "      <th>1</th>\n",
       "      <td>Mexico U23</td>\n",
       "      <td>9209</td>\n",
       "      <td>2</td>\n",
       "      <td>3</td>\n",
       "      <td>2</td>\n",
       "      <td>0</td>\n",
       "      <td>1</td>\n",
       "      <td>8</td>\n",
       "      <td>3</td>\n",
       "      <td>+5</td>\n",
       "      <td>6</td>\n",
       "      <td>1016</td>\n",
       "      <td>298</td>\n",
       "      <td>Mexico U23</td>\n",
       "    </tr>\n",
       "    <tr>\n",
       "      <th>2</th>\n",
       "      <td>France U23</td>\n",
       "      <td>10739</td>\n",
       "      <td>3</td>\n",
       "      <td>3</td>\n",
       "      <td>1</td>\n",
       "      <td>0</td>\n",
       "      <td>2</td>\n",
       "      <td>5</td>\n",
       "      <td>11</td>\n",
       "      <td>-6</td>\n",
       "      <td>3</td>\n",
       "      <td>1016</td>\n",
       "      <td>298</td>\n",
       "      <td>France U23</td>\n",
       "    </tr>\n",
       "    <tr>\n",
       "      <th>3</th>\n",
       "      <td>South Africa U23</td>\n",
       "      <td>10615</td>\n",
       "      <td>4</td>\n",
       "      <td>3</td>\n",
       "      <td>0</td>\n",
       "      <td>0</td>\n",
       "      <td>3</td>\n",
       "      <td>3</td>\n",
       "      <td>8</td>\n",
       "      <td>-5</td>\n",
       "      <td>0</td>\n",
       "      <td>1016</td>\n",
       "      <td>298</td>\n",
       "      <td>South Africa U23</td>\n",
       "    </tr>\n",
       "    <tr>\n",
       "      <th>4</th>\n",
       "      <td>South Korea U23</td>\n",
       "      <td>10609</td>\n",
       "      <td>1</td>\n",
       "      <td>3</td>\n",
       "      <td>2</td>\n",
       "      <td>0</td>\n",
       "      <td>1</td>\n",
       "      <td>10</td>\n",
       "      <td>1</td>\n",
       "      <td>+9</td>\n",
       "      <td>6</td>\n",
       "      <td>1016</td>\n",
       "      <td>298</td>\n",
       "      <td>South Korea U23</td>\n",
       "    </tr>\n",
       "  </tbody>\n",
       "</table>\n",
       "</div>"
      ],
      "text/plain": [
       "             f_team team_id pos pld  w  d  l  gf  ga +/- pts comp_id  \\\n",
       "0         Japan U23   10622   1   3  3  0  0   7   1  +6   9    1016   \n",
       "1        Mexico U23    9209   2   3  2  0  1   8   3  +5   6    1016   \n",
       "2        France U23   10739   3   3  1  0  2   5  11  -6   3    1016   \n",
       "3  South Africa U23   10615   4   3  0  0  3   3   8  -5   0    1016   \n",
       "4   South Korea U23   10609   1   3  2  0  1  10   1  +9   6    1016   \n",
       "\n",
       "  season_id            s_team  \n",
       "0       298         Japan U23  \n",
       "1       298        Mexico U23  \n",
       "2       298        France U23  \n",
       "3       298  South Africa U23  \n",
       "4       298   South Korea U23  "
      ]
     },
     "execution_count": 11,
     "metadata": {},
     "output_type": "execute_result"
    }
   ],
   "source": [
    "df_comp_tables.head()"
   ]
  },
  {
   "cell_type": "code",
   "execution_count": 12,
   "metadata": {},
   "outputs": [],
   "source": [
    "df_fcom = pd.merge(left=df_games, right=df_comp_tables[['f_team','comp_id','season_id','pos', 'pts']], on=['f_team','comp_id','season_id'], how='left')\n",
    "df_fcom.rename(columns={'pos':'pos_f', 'pts':'pts_f'}, inplace=True)"
   ]
  },
  {
   "cell_type": "code",
   "execution_count": 13,
   "metadata": {},
   "outputs": [],
   "source": [
    "df_scom = pd.merge(left=df_games, right=df_comp_tables[['s_team','comp_id','season_id','pos', 'pts']], on=['s_team','comp_id','season_id'], how='left')\n",
    "df_scom.rename(columns={'pos':'pos_s', 'pts':'pts_s'}, inplace=True)"
   ]
  },
  {
   "cell_type": "code",
   "execution_count": 14,
   "metadata": {},
   "outputs": [],
   "source": [
    "df_games_tb = pd.merge(df_fcom, df_scom[['game_id', 'pos_s','pts_s']], how='left', left_on='game_id', right_on='game_id')"
   ]
  },
  {
   "cell_type": "code",
   "execution_count": 15,
   "metadata": {},
   "outputs": [],
   "source": [
    "df_games_tb.pos_f = pd.to_numeric(df_games_tb.pos_f, errors='coerce')\n",
    "df_games_tb.pos_s = pd.to_numeric(df_games_tb.pos_s, errors='coerce')\n",
    "df_games_tb.pts_f = pd.to_numeric(df_games_tb.pts_f, errors='coerce')\n",
    "df_games_tb.pts_s = pd.to_numeric(df_games_tb.pts_s, errors='coerce')"
   ]
  },
  {
   "cell_type": "code",
   "execution_count": 16,
   "metadata": {},
   "outputs": [],
   "source": [
    "df_games_tb['posf_poss'] = df_games_tb[['pos_f', 'pos_s']].apply(lambda x: str(x[0]).replace('.0', '') + ' - ' + str(x[1]).replace('.0', '') \\\n",
    "                                                                 if pd.notna(x[0]) and pd.notna(x[1]) else None, axis=1) \n",
    "df_games_tb['ptsf_ptss'] = df_games_tb[['pts_f', 'pts_s']].apply(lambda x: str(x[0]).replace('.0', '') + ' - ' + str(x[1]).replace('.0', '') \\\n",
    "                                                                 if pd.notna(x[0]) and pd.notna(x[1]) else None, axis=1) "
   ]
  },
  {
   "cell_type": "code",
   "execution_count": 17,
   "metadata": {},
   "outputs": [],
   "source": [
    "df_games_tb.drop(columns=['s_team'], inplace=True)"
   ]
  },
  {
   "cell_type": "code",
   "execution_count": 18,
   "metadata": {},
   "outputs": [],
   "source": [
    "df_games_tb.drop_duplicates(subset=['game_id'], inplace=True)"
   ]
  },
  {
   "cell_type": "code",
   "execution_count": 19,
   "metadata": {},
   "outputs": [],
   "source": [
    "df_games_tb.reset_index(drop=True, inplace=True)"
   ]
  },
  {
   "cell_type": "code",
   "execution_count": 20,
   "metadata": {},
   "outputs": [
    {
     "data": {
      "text/plain": [
       "None     16922\n",
       "1 - 3      706\n",
       "1 - 2      692\n",
       "1 - 4      683\n",
       "Name: posf_poss, dtype: int64"
      ]
     },
     "execution_count": 20,
     "metadata": {},
     "output_type": "execute_result"
    }
   ],
   "source": [
    "df_games_tb.posf_poss.value_counts(dropna=False).head(4)"
   ]
  },
  {
   "cell_type": "code",
   "execution_count": 21,
   "metadata": {},
   "outputs": [
    {
     "data": {
      "text/plain": [
       "3 - 36     1\n",
       "17 - 37    1\n",
       "27 - 35    1\n",
       "21 - 27    1\n",
       "Name: posf_poss, dtype: int64"
      ]
     },
     "execution_count": 21,
     "metadata": {},
     "output_type": "execute_result"
    }
   ],
   "source": [
    "df_games_tb.posf_poss.value_counts(dropna=False).tail(4)"
   ]
  },
  {
   "cell_type": "code",
   "execution_count": 22,
   "metadata": {},
   "outputs": [],
   "source": [
    "df_comp_tables.pos = pd.to_numeric(df_comp_tables.pos, errors='coerce')\n",
    "df_comp_tables.pts = pd.to_numeric(df_comp_tables.pts, errors='coerce')\n",
    "\n",
    "df_max_pos = df_comp_tables.groupby(['comp_id', 'season_id'])['pos'].max().to_frame().reset_index()  \n",
    "df_max_pts = df_comp_tables.groupby(['comp_id', 'season_id'])['pts'].max().to_frame().reset_index() \n",
    "\n",
    "df_max_pos.rename(columns={'pos':'max_pos'}, inplace=True)\n",
    "df_max_pts.rename(columns={'pts':'max_pts'}, inplace=True)"
   ]
  },
  {
   "cell_type": "code",
   "execution_count": 23,
   "metadata": {},
   "outputs": [
    {
     "data": {
      "text/html": [
       "<div>\n",
       "<style scoped>\n",
       "    .dataframe tbody tr th:only-of-type {\n",
       "        vertical-align: middle;\n",
       "    }\n",
       "\n",
       "    .dataframe tbody tr th {\n",
       "        vertical-align: top;\n",
       "    }\n",
       "\n",
       "    .dataframe thead th {\n",
       "        text-align: right;\n",
       "    }\n",
       "</style>\n",
       "<table border=\"1\" class=\"dataframe\">\n",
       "  <thead>\n",
       "    <tr style=\"text-align: right;\">\n",
       "      <th></th>\n",
       "      <th>comp_id</th>\n",
       "      <th>season_id</th>\n",
       "      <th>max_pos</th>\n",
       "    </tr>\n",
       "  </thead>\n",
       "  <tbody>\n",
       "    <tr>\n",
       "      <th>0</th>\n",
       "      <td>1016</td>\n",
       "      <td>298</td>\n",
       "      <td>4</td>\n",
       "    </tr>\n",
       "    <tr>\n",
       "      <th>1</th>\n",
       "      <td>1019</td>\n",
       "      <td>310</td>\n",
       "      <td>4</td>\n",
       "    </tr>\n",
       "    <tr>\n",
       "      <th>2</th>\n",
       "      <td>1035</td>\n",
       "      <td>306</td>\n",
       "      <td>11</td>\n",
       "    </tr>\n",
       "  </tbody>\n",
       "</table>\n",
       "</div>"
      ],
      "text/plain": [
       "  comp_id season_id  max_pos\n",
       "0    1016       298        4\n",
       "1    1019       310        4\n",
       "2    1035       306       11"
      ]
     },
     "execution_count": 23,
     "metadata": {},
     "output_type": "execute_result"
    }
   ],
   "source": [
    "df_max_pos.head(3)"
   ]
  },
  {
   "cell_type": "code",
   "execution_count": 24,
   "metadata": {},
   "outputs": [
    {
     "data": {
      "text/html": [
       "<div>\n",
       "<style scoped>\n",
       "    .dataframe tbody tr th:only-of-type {\n",
       "        vertical-align: middle;\n",
       "    }\n",
       "\n",
       "    .dataframe tbody tr th {\n",
       "        vertical-align: top;\n",
       "    }\n",
       "\n",
       "    .dataframe thead th {\n",
       "        text-align: right;\n",
       "    }\n",
       "</style>\n",
       "<table border=\"1\" class=\"dataframe\">\n",
       "  <thead>\n",
       "    <tr style=\"text-align: right;\">\n",
       "      <th></th>\n",
       "      <th>comp_id</th>\n",
       "      <th>season_id</th>\n",
       "      <th>max_pts</th>\n",
       "    </tr>\n",
       "  </thead>\n",
       "  <tbody>\n",
       "    <tr>\n",
       "      <th>0</th>\n",
       "      <td>1016</td>\n",
       "      <td>298</td>\n",
       "      <td>9</td>\n",
       "    </tr>\n",
       "    <tr>\n",
       "      <th>1</th>\n",
       "      <td>1019</td>\n",
       "      <td>310</td>\n",
       "      <td>16</td>\n",
       "    </tr>\n",
       "    <tr>\n",
       "      <th>2</th>\n",
       "      <td>1035</td>\n",
       "      <td>306</td>\n",
       "      <td>28</td>\n",
       "    </tr>\n",
       "  </tbody>\n",
       "</table>\n",
       "</div>"
      ],
      "text/plain": [
       "  comp_id season_id  max_pts\n",
       "0    1016       298        9\n",
       "1    1019       310       16\n",
       "2    1035       306       28"
      ]
     },
     "execution_count": 24,
     "metadata": {},
     "output_type": "execute_result"
    }
   ],
   "source": [
    "df_max_pts.head(3)"
   ]
  },
  {
   "cell_type": "code",
   "execution_count": 25,
   "metadata": {},
   "outputs": [],
   "source": [
    "df_games_tb = df_games_tb.merge(df_max_pos, how='left', left_on=['comp_id', 'season_id'],  right_on=['comp_id', 'season_id'])\n",
    "df_games_tb = df_games_tb.merge(df_max_pts, how='left', left_on=['comp_id', 'season_id'],  right_on=['comp_id', 'season_id'])"
   ]
  },
  {
   "cell_type": "code",
   "execution_count": 26,
   "metadata": {},
   "outputs": [],
   "source": [
    "df_games_tb['fs_pos_max'] = df_games_tb[['posf_poss', 'max_pos']].apply(lambda x: str(x[0])+ ', ' + str(x[1]).replace('.0', '') \\\n",
    "                                                                                                                  if x[0] != None else None, axis=1)\n",
    "df_games_tb['fs_pts_max'] = df_games_tb[['ptsf_ptss', 'max_pts']].apply(lambda x: str(x[0])+ ', ' + str(x[1]).replace('.0', '') \\\n",
    "                                                                                                                  if x[0] != None else None, axis=1)"
   ]
  },
  {
   "cell_type": "code",
   "execution_count": 27,
   "metadata": {},
   "outputs": [],
   "source": [
    "df_games_tb.drop(columns=['posf_poss', 'ptsf_ptss', 'max_pts'], inplace=True)"
   ]
  },
  {
   "cell_type": "markdown",
   "metadata": {},
   "source": [
    "#### Add games events"
   ]
  },
  {
   "cell_type": "code",
   "execution_count": 28,
   "metadata": {},
   "outputs": [],
   "source": [
    "with open('pickle_files/new_events/'+ dir_data +'/df_evns_'+ dir_data_start +'_to_'+ dir_data_end, 'rb') as f:\n",
    "    df_events = pickle.load(f)"
   ]
  },
  {
   "cell_type": "code",
   "execution_count": 29,
   "metadata": {},
   "outputs": [],
   "source": [
    "df_events.event_desc = df_events.event_desc.map(lambda x: [y[0]+y[-1] for y in x])"
   ]
  },
  {
   "cell_type": "code",
   "execution_count": 30,
   "metadata": {},
   "outputs": [
    {
     "name": "stdout",
     "output_type": "stream",
     "text": [
      "shape -  33890\n"
     ]
    },
    {
     "data": {
      "text/html": [
       "<div>\n",
       "<style scoped>\n",
       "    .dataframe tbody tr th:only-of-type {\n",
       "        vertical-align: middle;\n",
       "    }\n",
       "\n",
       "    .dataframe tbody tr th {\n",
       "        vertical-align: top;\n",
       "    }\n",
       "\n",
       "    .dataframe thead th {\n",
       "        text-align: right;\n",
       "    }\n",
       "</style>\n",
       "<table border=\"1\" class=\"dataframe\">\n",
       "  <thead>\n",
       "    <tr style=\"text-align: right;\">\n",
       "      <th></th>\n",
       "      <th>game_id</th>\n",
       "      <th>teams_ids</th>\n",
       "      <th>event_mins</th>\n",
       "      <th>event_desc</th>\n",
       "      <th>stats_dict</th>\n",
       "      <th>city_country</th>\n",
       "      <th>viewers</th>\n",
       "      <th>weath_temp</th>\n",
       "      <th>bets</th>\n",
       "    </tr>\n",
       "  </thead>\n",
       "  <tbody>\n",
       "    <tr>\n",
       "      <th>0</th>\n",
       "      <td>1729343</td>\n",
       "      <td>None</td>\n",
       "      <td>[5, 31, 39, 42, 64, 85, +]</td>\n",
       "      <td>[gl, pl, gl, yd, yd, yd, yd]</td>\n",
       "      <td>[(Shots, 15, 23), (Shots on target, 5, 5), (Shots Blocked, 6, 3), (Saves, 5, 2), (Possession %, 40, 60), (Corner, 5, 7), (Fouls, 18, 11), (Offsides, 0, 0), (Yellow cards, 3, 1), (Red cards, 0, 0), (Attacks, 84, 114), (Attacks (Dangerous), 26, 69), (Free Kicks, 14, 27)]</td>\n",
       "      <td></td>\n",
       "      <td></td>\n",
       "      <td></td>\n",
       "      <td>([1, X, 2, ТМ 2.5, ТБ 2.5], [2.08, 3.16, 3.90, 1.63, 2.39])</td>\n",
       "    </tr>\n",
       "    <tr>\n",
       "      <th>1</th>\n",
       "      <td>1729390</td>\n",
       "      <td>None</td>\n",
       "      <td>[9, 41, 58, 69, 71, 72, 81, 89]</td>\n",
       "      <td>[yd, gl, yd, yd, gl, yd, yd, yd]</td>\n",
       "      <td>[(Shots, 13, 14), (Shots on target, 3, 6), (Shots Blocked, 6, 2), (Saves, 4, 3), (Possession %, 54, 46), (Corner, 8, 2), (Fouls, 11, 8), (Offsides, 7, 1), (Yellow cards, 3, 3), (Red cards, 1, 0), (Attacks, 93, 94), (Attacks (Dangerous), 65, 34), (Free Kicks, 9, 18)]</td>\n",
       "      <td></td>\n",
       "      <td></td>\n",
       "      <td></td>\n",
       "      <td>([1, X, 2, ТМ 2.5, ТБ 2.5], [1.95, 3.56, 3.82, 1.99, 1.89])</td>\n",
       "    </tr>\n",
       "  </tbody>\n",
       "</table>\n",
       "</div>"
      ],
      "text/plain": [
       "   game_id teams_ids                       event_mins  \\\n",
       "0  1729343      None       [5, 31, 39, 42, 64, 85, +]   \n",
       "1  1729390      None  [9, 41, 58, 69, 71, 72, 81, 89]   \n",
       "\n",
       "                         event_desc  \\\n",
       "0      [gl, pl, gl, yd, yd, yd, yd]   \n",
       "1  [yd, gl, yd, yd, gl, yd, yd, yd]   \n",
       "\n",
       "                                                                                                                                                                                                                                                                      stats_dict  \\\n",
       "0  [(Shots, 15, 23), (Shots on target, 5, 5), (Shots Blocked, 6, 3), (Saves, 5, 2), (Possession %, 40, 60), (Corner, 5, 7), (Fouls, 18, 11), (Offsides, 0, 0), (Yellow cards, 3, 1), (Red cards, 0, 0), (Attacks, 84, 114), (Attacks (Dangerous), 26, 69), (Free Kicks, 14, 27)]   \n",
       "1     [(Shots, 13, 14), (Shots on target, 3, 6), (Shots Blocked, 6, 2), (Saves, 4, 3), (Possession %, 54, 46), (Corner, 8, 2), (Fouls, 11, 8), (Offsides, 7, 1), (Yellow cards, 3, 3), (Red cards, 1, 0), (Attacks, 93, 94), (Attacks (Dangerous), 65, 34), (Free Kicks, 9, 18)]   \n",
       "\n",
       "  city_country viewers weath_temp  \\\n",
       "0                                   \n",
       "1                                   \n",
       "\n",
       "                                                          bets  \n",
       "0  ([1, X, 2, ТМ 2.5, ТБ 2.5], [2.08, 3.16, 3.90, 1.63, 2.39])  \n",
       "1  ([1, X, 2, ТМ 2.5, ТБ 2.5], [1.95, 3.56, 3.82, 1.99, 1.89])  "
      ]
     },
     "execution_count": 30,
     "metadata": {},
     "output_type": "execute_result"
    }
   ],
   "source": [
    "print('shape - ', df_events.shape[0])\n",
    "df_events.head(2)"
   ]
  },
  {
   "cell_type": "code",
   "execution_count": 31,
   "metadata": {},
   "outputs": [
    {
     "data": {
      "text/plain": [
       "19"
      ]
     },
     "execution_count": 31,
     "metadata": {},
     "output_type": "execute_result"
    }
   ],
   "source": [
    "# Check max len stats_dict col for new names df's columns\n",
    "maxlen_stats_dict = df_events.stats_dict.map(lambda x: len(x))\n",
    "maxlen_stats_dict.max()"
   ]
  },
  {
   "cell_type": "code",
   "execution_count": 32,
   "metadata": {},
   "outputs": [
    {
     "data": {
      "text/plain": [
       "2592    19\n",
       "8728    19\n",
       "Name: stats_dict, dtype: int64"
      ]
     },
     "execution_count": 32,
     "metadata": {},
     "output_type": "execute_result"
    }
   ],
   "source": [
    "maxlen_stats_dict[maxlen_stats_dict == 19].head(2)"
   ]
  },
  {
   "cell_type": "code",
   "execution_count": 33,
   "metadata": {},
   "outputs": [],
   "source": [
    "# '2592' index with maxlen 'stats_dict' column\n",
    "col_names = [x[0] for x in df_events.stats_dict[2592]]"
   ]
  },
  {
   "cell_type": "code",
   "execution_count": 34,
   "metadata": {},
   "outputs": [
    {
     "data": {
      "text/plain": [
       "\"['xG', 'Shots', 'Shots on target', 'Shots Blocked', 'Saves', 'Possession %', 'Corner', 'Fouls', 'Offsides', 'Yellow cards', 'Red cards', 'Attacks', 'Attacks (Dangerous)', 'Pass', 'Pass percentage %', 'Free Kicks', 'Throw Ins', 'Crosses', 'Tackles']\""
      ]
     },
     "execution_count": 34,
     "metadata": {},
     "output_type": "execute_result"
    }
   ],
   "source": [
    "str(col_names)"
   ]
  },
  {
   "cell_type": "code",
   "execution_count": 35,
   "metadata": {},
   "outputs": [],
   "source": [
    "for col in col_names:\n",
    "    df_events[col] = df_events.stats_dict.map(lambda x: ''.join([str(y[1]) + '-' + str(y[2]) for y in x if y[0] == col]))"
   ]
  },
  {
   "cell_type": "code",
   "execution_count": 36,
   "metadata": {},
   "outputs": [],
   "source": [
    "df_events.drop(columns=['stats_dict', 'xG','Shots on target', 'Shots Blocked', 'Offsides', 'Pass', 'Pass percentage %', 'Free Kicks', \n",
    "                        'Crosses', 'Tackles','Throw Ins'], inplace=True)"
   ]
  },
  {
   "cell_type": "code",
   "execution_count": 37,
   "metadata": {},
   "outputs": [],
   "source": [
    "col_names = ['tm_1', 'tm_x', 'tm_2', 'ls_25', 'mr_25']\n",
    "\n",
    "for ind, col in enumerate(col_names):\n",
    "    df_events[col] = df_events.bets.map(lambda x: x[1][ind] if x[1] != [] else None)"
   ]
  },
  {
   "cell_type": "code",
   "execution_count": 38,
   "metadata": {},
   "outputs": [],
   "source": [
    "df_events.tm_1 = pd.to_numeric(df_events.tm_1, errors='coerce')\n",
    "df_events.tm_2 = pd.to_numeric(df_events.tm_2, errors='coerce')"
   ]
  },
  {
   "cell_type": "code",
   "execution_count": 39,
   "metadata": {},
   "outputs": [],
   "source": [
    "df_events.drop(columns=['bets'], inplace=True)"
   ]
  },
  {
   "cell_type": "code",
   "execution_count": 40,
   "metadata": {},
   "outputs": [],
   "source": [
    "df_events.columns = df_events.columns.str.lower()"
   ]
  },
  {
   "cell_type": "code",
   "execution_count": 41,
   "metadata": {},
   "outputs": [],
   "source": [
    "df_events.rename(columns={'possession %':'poss', 'yellow cards':'yl_crd', 'red cards':'rd_crd', 'attacks (dangerous)':'att_dang'}, inplace=True)"
   ]
  },
  {
   "cell_type": "code",
   "execution_count": 42,
   "metadata": {},
   "outputs": [
    {
     "name": "stdout",
     "output_type": "stream",
     "text": [
      "shape -  33890\n"
     ]
    },
    {
     "data": {
      "text/html": [
       "<div>\n",
       "<style scoped>\n",
       "    .dataframe tbody tr th:only-of-type {\n",
       "        vertical-align: middle;\n",
       "    }\n",
       "\n",
       "    .dataframe tbody tr th {\n",
       "        vertical-align: top;\n",
       "    }\n",
       "\n",
       "    .dataframe thead th {\n",
       "        text-align: right;\n",
       "    }\n",
       "</style>\n",
       "<table border=\"1\" class=\"dataframe\">\n",
       "  <thead>\n",
       "    <tr style=\"text-align: right;\">\n",
       "      <th></th>\n",
       "      <th>game_id</th>\n",
       "      <th>teams_ids</th>\n",
       "      <th>event_mins</th>\n",
       "      <th>event_desc</th>\n",
       "      <th>city_country</th>\n",
       "      <th>viewers</th>\n",
       "      <th>weath_temp</th>\n",
       "      <th>shots</th>\n",
       "      <th>saves</th>\n",
       "      <th>poss</th>\n",
       "      <th>corner</th>\n",
       "      <th>fouls</th>\n",
       "      <th>yl_crd</th>\n",
       "      <th>rd_crd</th>\n",
       "      <th>attacks</th>\n",
       "      <th>att_dang</th>\n",
       "      <th>tm_1</th>\n",
       "      <th>tm_x</th>\n",
       "      <th>tm_2</th>\n",
       "      <th>ls_25</th>\n",
       "      <th>mr_25</th>\n",
       "    </tr>\n",
       "  </thead>\n",
       "  <tbody>\n",
       "    <tr>\n",
       "      <th>0</th>\n",
       "      <td>1729343</td>\n",
       "      <td>None</td>\n",
       "      <td>[5, 31, 39, 42, 64, 85, +]</td>\n",
       "      <td>[gl, pl, gl, yd, yd, yd, yd]</td>\n",
       "      <td></td>\n",
       "      <td></td>\n",
       "      <td></td>\n",
       "      <td>15-23</td>\n",
       "      <td>5-2</td>\n",
       "      <td>40-60</td>\n",
       "      <td>5-7</td>\n",
       "      <td>18-11</td>\n",
       "      <td>3-1</td>\n",
       "      <td>0-0</td>\n",
       "      <td>84-114</td>\n",
       "      <td>26-69</td>\n",
       "      <td>2.08</td>\n",
       "      <td>3.16</td>\n",
       "      <td>3.90</td>\n",
       "      <td>1.63</td>\n",
       "      <td>2.39</td>\n",
       "    </tr>\n",
       "    <tr>\n",
       "      <th>1</th>\n",
       "      <td>1729390</td>\n",
       "      <td>None</td>\n",
       "      <td>[9, 41, 58, 69, 71, 72, 81, 89]</td>\n",
       "      <td>[yd, gl, yd, yd, gl, yd, yd, yd]</td>\n",
       "      <td></td>\n",
       "      <td></td>\n",
       "      <td></td>\n",
       "      <td>13-14</td>\n",
       "      <td>4-3</td>\n",
       "      <td>54-46</td>\n",
       "      <td>8-2</td>\n",
       "      <td>11-8</td>\n",
       "      <td>3-3</td>\n",
       "      <td>1-0</td>\n",
       "      <td>93-94</td>\n",
       "      <td>65-34</td>\n",
       "      <td>1.95</td>\n",
       "      <td>3.56</td>\n",
       "      <td>3.82</td>\n",
       "      <td>1.99</td>\n",
       "      <td>1.89</td>\n",
       "    </tr>\n",
       "    <tr>\n",
       "      <th>2</th>\n",
       "      <td>1729506</td>\n",
       "      <td>None</td>\n",
       "      <td>[8, 37, 40, 45, +, +, +, 58, 83, +, +]</td>\n",
       "      <td>[gl, yd, yd, pl, yd, yd, gl, yd, rd, yd, yd]</td>\n",
       "      <td></td>\n",
       "      <td></td>\n",
       "      <td></td>\n",
       "      <td>21-11</td>\n",
       "      <td>1-4</td>\n",
       "      <td>65-35</td>\n",
       "      <td>2-1</td>\n",
       "      <td>16-8</td>\n",
       "      <td>4-3</td>\n",
       "      <td>0-1</td>\n",
       "      <td>107-91</td>\n",
       "      <td>46-26</td>\n",
       "      <td>1.63</td>\n",
       "      <td>3.78</td>\n",
       "      <td>5.10</td>\n",
       "      <td>1.78</td>\n",
       "      <td>2.13</td>\n",
       "    </tr>\n",
       "  </tbody>\n",
       "</table>\n",
       "</div>"
      ],
      "text/plain": [
       "   game_id teams_ids                              event_mins  \\\n",
       "0  1729343      None              [5, 31, 39, 42, 64, 85, +]   \n",
       "1  1729390      None         [9, 41, 58, 69, 71, 72, 81, 89]   \n",
       "2  1729506      None  [8, 37, 40, 45, +, +, +, 58, 83, +, +]   \n",
       "\n",
       "                                     event_desc city_country viewers  \\\n",
       "0                  [gl, pl, gl, yd, yd, yd, yd]                        \n",
       "1              [yd, gl, yd, yd, gl, yd, yd, yd]                        \n",
       "2  [gl, yd, yd, pl, yd, yd, gl, yd, rd, yd, yd]                        \n",
       "\n",
       "  weath_temp  shots saves   poss corner  fouls yl_crd rd_crd attacks att_dang  \\\n",
       "0             15-23   5-2  40-60    5-7  18-11    3-1    0-0  84-114    26-69   \n",
       "1             13-14   4-3  54-46    8-2   11-8    3-3    1-0   93-94    65-34   \n",
       "2             21-11   1-4  65-35    2-1   16-8    4-3    0-1  107-91    46-26   \n",
       "\n",
       "   tm_1  tm_x  tm_2 ls_25 mr_25  \n",
       "0  2.08  3.16  3.90  1.63  2.39  \n",
       "1  1.95  3.56  3.82  1.99  1.89  \n",
       "2  1.63  3.78  5.10  1.78  2.13  "
      ]
     },
     "execution_count": 42,
     "metadata": {},
     "output_type": "execute_result"
    }
   ],
   "source": [
    "print('shape - ', df_events.shape[0])\n",
    "df_events.head(3)"
   ]
  },
  {
   "cell_type": "code",
   "execution_count": 43,
   "metadata": {},
   "outputs": [],
   "source": [
    "# main_ligues = pd.read_csv('csv_files/main_ligues.csv')\n",
    "# main_ligues = main_ligues.top_ligues.squeeze()\n",
    "# df_main = df[df.ligue_header.isin(main_ligues)].reset_index(drop=True)\n",
    "# df_main.shape\n",
    "# (353909, 8)"
   ]
  },
  {
   "cell_type": "markdown",
   "metadata": {},
   "source": [
    "#### Concatinate dataframes with best and tables position coefficients"
   ]
  },
  {
   "cell_type": "code",
   "execution_count": 44,
   "metadata": {},
   "outputs": [
    {
     "data": {
      "text/plain": [
       "91921"
      ]
     },
     "execution_count": 44,
     "metadata": {},
     "output_type": "execute_result"
    }
   ],
   "source": [
    "df_games_tb.shape[0]"
   ]
  },
  {
   "cell_type": "code",
   "execution_count": 45,
   "metadata": {},
   "outputs": [],
   "source": [
    "df_gms_events = df_games_tb.merge(df_events, left_on='game_id', right_on='game_id')"
   ]
  },
  {
   "cell_type": "code",
   "execution_count": 46,
   "metadata": {},
   "outputs": [
    {
     "data": {
      "text/plain": [
       "33890"
      ]
     },
     "execution_count": 46,
     "metadata": {},
     "output_type": "execute_result"
    }
   ],
   "source": [
    "df_gms_events.shape[0]"
   ]
  },
  {
   "cell_type": "code",
   "execution_count": 47,
   "metadata": {},
   "outputs": [],
   "source": [
    "df_games_tb_not_events = df_games_tb[~df_games_tb.game_id.isin(df_gms_events.game_id)]"
   ]
  },
  {
   "cell_type": "code",
   "execution_count": 48,
   "metadata": {},
   "outputs": [
    {
     "data": {
      "text/plain": [
       "58031"
      ]
     },
     "execution_count": 48,
     "metadata": {},
     "output_type": "execute_result"
    }
   ],
   "source": [
    "df_games_tb_not_events.shape[0]"
   ]
  },
  {
   "cell_type": "code",
   "execution_count": 49,
   "metadata": {},
   "outputs": [],
   "source": [
    "df_games_events = pd.concat([df_games_tb_not_events, df_gms_events], axis=0).reset_index(drop=True)"
   ]
  },
  {
   "cell_type": "code",
   "execution_count": 50,
   "metadata": {},
   "outputs": [],
   "source": [
    "df_games_events.replace(to_replace=[np.nan], value=None, inplace=True)\n",
    "df_games_events = df_games_events.fillna('',).replace([''], [None]).copy()"
   ]
  },
  {
   "cell_type": "code",
   "execution_count": 51,
   "metadata": {},
   "outputs": [
    {
     "data": {
      "text/plain": [
       "NaN     63027\n",
       "3.24      176\n",
       "3.34      168\n",
       "Name: tm_2, dtype: int64"
      ]
     },
     "execution_count": 51,
     "metadata": {},
     "output_type": "execute_result"
    }
   ],
   "source": [
    "df_games_events.tm_2.value_counts(dropna=False).head(3)"
   ]
  },
  {
   "cell_type": "code",
   "execution_count": 52,
   "metadata": {},
   "outputs": [
    {
     "data": {
      "text/plain": [
       "None        16922\n",
       "1 - 2, 4      146\n",
       "1 - 3, 4      144\n",
       "Name: fs_pos_max, dtype: int64"
      ]
     },
     "execution_count": 52,
     "metadata": {},
     "output_type": "execute_result"
    }
   ],
   "source": [
    "df_games_events.fs_pos_max.value_counts(dropna=False).head(3)"
   ]
  },
  {
   "cell_type": "code",
   "execution_count": 53,
   "metadata": {},
   "outputs": [],
   "source": [
    "df_power_coefs = df_games_events[(~df_games_events.tm_1.isna()) | (df_games_events.max_pos >= 8)].copy()"
   ]
  },
  {
   "cell_type": "code",
   "execution_count": 54,
   "metadata": {},
   "outputs": [
    {
     "data": {
      "text/plain": [
       "NaN      46491\n",
       "2.00       228\n",
       "1.80       207\n",
       "1.68       206\n",
       "1.40       199\n",
       "         ...  \n",
       "5.22         1\n",
       "3.23         1\n",
       "6.49         1\n",
       "87.00        1\n",
       "4.59         1\n",
       "Name: tm_1, Length: 586, dtype: int64"
      ]
     },
     "execution_count": 54,
     "metadata": {},
     "output_type": "execute_result"
    }
   ],
   "source": [
    "df_power_coefs.tm_1.value_counts(dropna=False)"
   ]
  },
  {
   "cell_type": "code",
   "execution_count": 55,
   "metadata": {},
   "outputs": [
    {
     "data": {
      "text/plain": [
       "20.0    16303\n",
       "16.0     9883\n",
       "18.0     8383\n",
       "12.0     7766\n",
       "10.0     5208\n",
       "21.0     4811\n",
       "14.0     4245\n",
       "17.0     3043\n",
       "22.0     2990\n",
       "24.0     1979\n",
       "8.0      1728\n",
       "19.0     1501\n",
       "23.0     1442\n",
       "9.0      1256\n",
       "13.0     1216\n",
       "11.0     1073\n",
       "15.0     1004\n",
       "NaN       482\n",
       "26.0      325\n",
       "32.0      264\n",
       "37.0      167\n",
       "4.0       134\n",
       "7.0       128\n",
       "6.0        54\n",
       "Name: max_pos, dtype: int64"
      ]
     },
     "execution_count": 55,
     "metadata": {},
     "output_type": "execute_result"
    }
   ],
   "source": [
    "df_power_coefs.max_pos.value_counts(dropna=False)"
   ]
  },
  {
   "cell_type": "code",
   "execution_count": 56,
   "metadata": {},
   "outputs": [],
   "source": [
    "df_power_coefs.reset_index(drop=True, inplace=True)"
   ]
  },
  {
   "cell_type": "code",
   "execution_count": 57,
   "metadata": {},
   "outputs": [],
   "source": [
    "df_power_coefs.drop(columns=['max_pos'], inplace=True)"
   ]
  },
  {
   "cell_type": "code",
   "execution_count": 58,
   "metadata": {},
   "outputs": [
    {
     "name": "stdout",
     "output_type": "stream",
     "text": [
      "shape -  75385\n"
     ]
    },
    {
     "data": {
      "text/html": [
       "<div>\n",
       "<style scoped>\n",
       "    .dataframe tbody tr th:only-of-type {\n",
       "        vertical-align: middle;\n",
       "    }\n",
       "\n",
       "    .dataframe tbody tr th {\n",
       "        vertical-align: top;\n",
       "    }\n",
       "\n",
       "    .dataframe thead th {\n",
       "        text-align: right;\n",
       "    }\n",
       "</style>\n",
       "<table border=\"1\" class=\"dataframe\">\n",
       "  <thead>\n",
       "    <tr style=\"text-align: right;\">\n",
       "      <th></th>\n",
       "      <th>game_id</th>\n",
       "      <th>ligue_header</th>\n",
       "      <th>comp_id</th>\n",
       "      <th>season_id</th>\n",
       "      <th>game_utc</th>\n",
       "      <th>game_title</th>\n",
       "      <th>goals</th>\n",
       "      <th>ligue</th>\n",
       "      <th>f_team</th>\n",
       "      <th>pos_f</th>\n",
       "      <th>pts_f</th>\n",
       "      <th>pos_s</th>\n",
       "      <th>pts_s</th>\n",
       "      <th>fs_pos_max</th>\n",
       "      <th>fs_pts_max</th>\n",
       "      <th>teams_ids</th>\n",
       "      <th>event_mins</th>\n",
       "      <th>event_desc</th>\n",
       "      <th>city_country</th>\n",
       "      <th>viewers</th>\n",
       "      <th>weath_temp</th>\n",
       "      <th>shots</th>\n",
       "      <th>saves</th>\n",
       "      <th>poss</th>\n",
       "      <th>corner</th>\n",
       "      <th>fouls</th>\n",
       "      <th>yl_crd</th>\n",
       "      <th>rd_crd</th>\n",
       "      <th>attacks</th>\n",
       "      <th>att_dang</th>\n",
       "      <th>tm_1</th>\n",
       "      <th>tm_x</th>\n",
       "      <th>tm_2</th>\n",
       "      <th>ls_25</th>\n",
       "      <th>mr_25</th>\n",
       "    </tr>\n",
       "  </thead>\n",
       "  <tbody>\n",
       "    <tr>\n",
       "      <th>75380</th>\n",
       "      <td>15093756</td>\n",
       "      <td>Primera C Metropolitana</td>\n",
       "      <td>459</td>\n",
       "      <td>307</td>\n",
       "      <td>28.03.2021 19:30</td>\n",
       "      <td>Lujan - Excursionistas</td>\n",
       "      <td>1:3</td>\n",
       "      <td>sec</td>\n",
       "      <td>Lujan</td>\n",
       "      <td>12.0</td>\n",
       "      <td>44.0</td>\n",
       "      <td>8.0</td>\n",
       "      <td>54.0</td>\n",
       "      <td>12 - 8, 19</td>\n",
       "      <td>44 - 54, 64</td>\n",
       "      <td>None</td>\n",
       "      <td>[3, 34, 42, 83]</td>\n",
       "      <td>[gl, gl, gl, gl]</td>\n",
       "      <td>None</td>\n",
       "      <td>None</td>\n",
       "      <td>None</td>\n",
       "      <td>9-7</td>\n",
       "      <td>None</td>\n",
       "      <td>0-0</td>\n",
       "      <td>6-5</td>\n",
       "      <td>None</td>\n",
       "      <td>2-2</td>\n",
       "      <td>0-0</td>\n",
       "      <td>98-108</td>\n",
       "      <td>93-72</td>\n",
       "      <td>1.84</td>\n",
       "      <td>3.28</td>\n",
       "      <td>4.26</td>\n",
       "      <td>1.55</td>\n",
       "      <td>2.26</td>\n",
       "    </tr>\n",
       "    <tr>\n",
       "      <th>75381</th>\n",
       "      <td>15093755</td>\n",
       "      <td>Primera C Metropolitana</td>\n",
       "      <td>459</td>\n",
       "      <td>307</td>\n",
       "      <td>28.03.2021 19:30</td>\n",
       "      <td>Ferrocarril Midland - Berazategui</td>\n",
       "      <td>2:1</td>\n",
       "      <td>sec</td>\n",
       "      <td>Ferrocarril Midland</td>\n",
       "      <td>16.0</td>\n",
       "      <td>36.0</td>\n",
       "      <td>5.0</td>\n",
       "      <td>55.0</td>\n",
       "      <td>16 - 5, 19</td>\n",
       "      <td>36 - 55, 64</td>\n",
       "      <td>None</td>\n",
       "      <td>[33, +, 88]</td>\n",
       "      <td>[gl, gl, rd]</td>\n",
       "      <td>None</td>\n",
       "      <td>None</td>\n",
       "      <td>None</td>\n",
       "      <td>9-9</td>\n",
       "      <td>None</td>\n",
       "      <td>0-0</td>\n",
       "      <td>6-8</td>\n",
       "      <td>13-14</td>\n",
       "      <td>3-3</td>\n",
       "      <td>0-1</td>\n",
       "      <td>119-152</td>\n",
       "      <td>72-78</td>\n",
       "      <td>2.66</td>\n",
       "      <td>2.67</td>\n",
       "      <td>2.96</td>\n",
       "      <td>1.51</td>\n",
       "      <td>2.56</td>\n",
       "    </tr>\n",
       "    <tr>\n",
       "      <th>75382</th>\n",
       "      <td>15093754</td>\n",
       "      <td>Primera C Metropolitana</td>\n",
       "      <td>459</td>\n",
       "      <td>307</td>\n",
       "      <td>28.03.2021 19:30</td>\n",
       "      <td>Atletico Atlas - Leandro Niceforo Alem</td>\n",
       "      <td>2:0</td>\n",
       "      <td>sec</td>\n",
       "      <td>Atletico Atlas</td>\n",
       "      <td>11.0</td>\n",
       "      <td>47.0</td>\n",
       "      <td>18.0</td>\n",
       "      <td>30.0</td>\n",
       "      <td>11 - 18, 19</td>\n",
       "      <td>47 - 30, 64</td>\n",
       "      <td>None</td>\n",
       "      <td>[]</td>\n",
       "      <td>[]</td>\n",
       "      <td>None</td>\n",
       "      <td>None</td>\n",
       "      <td>None</td>\n",
       "      <td>None</td>\n",
       "      <td>None</td>\n",
       "      <td>None</td>\n",
       "      <td>None</td>\n",
       "      <td>None</td>\n",
       "      <td>None</td>\n",
       "      <td>None</td>\n",
       "      <td>None</td>\n",
       "      <td>None</td>\n",
       "      <td>None</td>\n",
       "      <td>None</td>\n",
       "      <td>None</td>\n",
       "      <td>None</td>\n",
       "      <td>None</td>\n",
       "    </tr>\n",
       "    <tr>\n",
       "      <th>75383</th>\n",
       "      <td>15091817</td>\n",
       "      <td>Primera B Metropolitana</td>\n",
       "      <td>457</td>\n",
       "      <td>307</td>\n",
       "      <td>28.03.2021 19:30</td>\n",
       "      <td>Argentino Quilmes - Defensores Unidos</td>\n",
       "      <td>0:1</td>\n",
       "      <td>sec</td>\n",
       "      <td>Argentino Quilmes</td>\n",
       "      <td>3.0</td>\n",
       "      <td>0.0</td>\n",
       "      <td>7.0</td>\n",
       "      <td>46.0</td>\n",
       "      <td>3 - 7, 16</td>\n",
       "      <td>0 - 46, 61</td>\n",
       "      <td>None</td>\n",
       "      <td>[]</td>\n",
       "      <td>[]</td>\n",
       "      <td>None</td>\n",
       "      <td>None</td>\n",
       "      <td>None</td>\n",
       "      <td>None</td>\n",
       "      <td>None</td>\n",
       "      <td>None</td>\n",
       "      <td>None</td>\n",
       "      <td>None</td>\n",
       "      <td>None</td>\n",
       "      <td>None</td>\n",
       "      <td>None</td>\n",
       "      <td>None</td>\n",
       "      <td>None</td>\n",
       "      <td>None</td>\n",
       "      <td>None</td>\n",
       "      <td>None</td>\n",
       "      <td>None</td>\n",
       "    </tr>\n",
       "    <tr>\n",
       "      <th>75384</th>\n",
       "      <td>15091822</td>\n",
       "      <td>Primera B Metropolitana</td>\n",
       "      <td>457</td>\n",
       "      <td>307</td>\n",
       "      <td>28.03.2021 19:30</td>\n",
       "      <td>Canuelas - UAI Urquiza</td>\n",
       "      <td>4:1</td>\n",
       "      <td>sec</td>\n",
       "      <td>Canuelas</td>\n",
       "      <td>1.0</td>\n",
       "      <td>4.0</td>\n",
       "      <td>1.0</td>\n",
       "      <td>3.0</td>\n",
       "      <td>1 - 1, 16</td>\n",
       "      <td>4 - 3, 61</td>\n",
       "      <td>None</td>\n",
       "      <td>[]</td>\n",
       "      <td>[]</td>\n",
       "      <td>None</td>\n",
       "      <td>None</td>\n",
       "      <td>None</td>\n",
       "      <td>None</td>\n",
       "      <td>None</td>\n",
       "      <td>None</td>\n",
       "      <td>None</td>\n",
       "      <td>None</td>\n",
       "      <td>None</td>\n",
       "      <td>None</td>\n",
       "      <td>None</td>\n",
       "      <td>None</td>\n",
       "      <td>None</td>\n",
       "      <td>None</td>\n",
       "      <td>None</td>\n",
       "      <td>None</td>\n",
       "      <td>None</td>\n",
       "    </tr>\n",
       "  </tbody>\n",
       "</table>\n",
       "</div>"
      ],
      "text/plain": [
       "        game_id             ligue_header comp_id season_id          game_utc  \\\n",
       "75380  15093756  Primera C Metropolitana     459       307  28.03.2021 19:30   \n",
       "75381  15093755  Primera C Metropolitana     459       307  28.03.2021 19:30   \n",
       "75382  15093754  Primera C Metropolitana     459       307  28.03.2021 19:30   \n",
       "75383  15091817  Primera B Metropolitana     457       307  28.03.2021 19:30   \n",
       "75384  15091822  Primera B Metropolitana     457       307  28.03.2021 19:30   \n",
       "\n",
       "                                   game_title goals ligue  \\\n",
       "75380                  Lujan - Excursionistas   1:3   sec   \n",
       "75381       Ferrocarril Midland - Berazategui   2:1   sec   \n",
       "75382  Atletico Atlas - Leandro Niceforo Alem   2:0   sec   \n",
       "75383   Argentino Quilmes - Defensores Unidos   0:1   sec   \n",
       "75384                  Canuelas - UAI Urquiza   4:1   sec   \n",
       "\n",
       "                    f_team pos_f pts_f pos_s pts_s   fs_pos_max   fs_pts_max  \\\n",
       "75380                Lujan  12.0  44.0   8.0  54.0   12 - 8, 19  44 - 54, 64   \n",
       "75381  Ferrocarril Midland  16.0  36.0   5.0  55.0   16 - 5, 19  36 - 55, 64   \n",
       "75382       Atletico Atlas  11.0  47.0  18.0  30.0  11 - 18, 19  47 - 30, 64   \n",
       "75383    Argentino Quilmes   3.0   0.0   7.0  46.0    3 - 7, 16   0 - 46, 61   \n",
       "75384             Canuelas   1.0   4.0   1.0   3.0    1 - 1, 16    4 - 3, 61   \n",
       "\n",
       "      teams_ids       event_mins        event_desc city_country viewers  \\\n",
       "75380      None  [3, 34, 42, 83]  [gl, gl, gl, gl]         None    None   \n",
       "75381      None      [33, +, 88]      [gl, gl, rd]         None    None   \n",
       "75382      None               []                []         None    None   \n",
       "75383      None               []                []         None    None   \n",
       "75384      None               []                []         None    None   \n",
       "\n",
       "      weath_temp shots saves  poss corner  fouls yl_crd rd_crd  attacks  \\\n",
       "75380       None   9-7  None   0-0    6-5   None    2-2    0-0   98-108   \n",
       "75381       None   9-9  None   0-0    6-8  13-14    3-3    0-1  119-152   \n",
       "75382       None  None  None  None   None   None   None   None     None   \n",
       "75383       None  None  None  None   None   None   None   None     None   \n",
       "75384       None  None  None  None   None   None   None   None     None   \n",
       "\n",
       "      att_dang  tm_1  tm_x  tm_2 ls_25 mr_25  \n",
       "75380    93-72  1.84  3.28  4.26  1.55  2.26  \n",
       "75381    72-78  2.66  2.67  2.96  1.51  2.56  \n",
       "75382     None  None  None  None  None  None  \n",
       "75383     None  None  None  None  None  None  \n",
       "75384     None  None  None  None  None  None  "
      ]
     },
     "execution_count": 58,
     "metadata": {},
     "output_type": "execute_result"
    }
   ],
   "source": [
    "print('shape - ', df_power_coefs.shape[0])\n",
    "df_power_coefs.tail()"
   ]
  },
  {
   "cell_type": "markdown",
   "metadata": {},
   "source": [
    "#### Power coefficient and statistic"
   ]
  },
  {
   "cell_type": "code",
   "execution_count": 59,
   "metadata": {},
   "outputs": [],
   "source": [
    "pow_coef = 1.9\n",
    "df_power_coefs['f_pow_bet'] = df_power_coefs[['tm_1', 'tm_2']].apply(lambda x: ParsingDataPrepare.roles_determinate([x[0], x[1]], pow_coef, 'min'), axis=1)"
   ]
  },
  {
   "cell_type": "code",
   "execution_count": 60,
   "metadata": {},
   "outputs": [
    {
     "data": {
      "text/plain": [
       "None    46491\n",
       "Neu     13906\n",
       "Fav     10996\n",
       "Pre      3992\n",
       "Name: f_pow_bet, dtype: int64"
      ]
     },
     "execution_count": 60,
     "metadata": {},
     "output_type": "execute_result"
    }
   ],
   "source": [
    "df_power_coefs.f_pow_bet.value_counts(dropna=False)"
   ]
  },
  {
   "cell_type": "code",
   "execution_count": 61,
   "metadata": {},
   "outputs": [],
   "source": [
    "# pow_coef = 1.95\n",
    "# df_power_coefs['f_pow_pos'] = df_power_coefs[['pos_f', 'pos_s']].apply(lambda x: ParsingDataPrepare.roles_determinate([x[0], x[1]], pow_coef, 'min'), axis=1)"
   ]
  },
  {
   "cell_type": "code",
   "execution_count": 62,
   "metadata": {},
   "outputs": [],
   "source": [
    "# df_power_coefs.f_pow_pos.value_counts(dropna=False)"
   ]
  },
  {
   "cell_type": "code",
   "execution_count": 63,
   "metadata": {},
   "outputs": [],
   "source": [
    "pow_coef = 2\n",
    "df_power_coefs['f_pow_pts'] = df_power_coefs[['pts_f', 'pts_s']].apply(lambda x: ParsingDataPrepare.roles_determinate([x[0], x[1]], pow_coef, 'max'), axis=1)"
   ]
  },
  {
   "cell_type": "code",
   "execution_count": 64,
   "metadata": {},
   "outputs": [
    {
     "data": {
      "text/plain": [
       "Neu     59899\n",
       "Pre      6209\n",
       "Fav      6192\n",
       "None     3085\n",
       "Name: f_pow_pts, dtype: int64"
      ]
     },
     "execution_count": 64,
     "metadata": {},
     "output_type": "execute_result"
    }
   ],
   "source": [
    "df_power_coefs.f_pow_pts.value_counts(dropna=False)"
   ]
  },
  {
   "cell_type": "code",
   "execution_count": 65,
   "metadata": {},
   "outputs": [],
   "source": [
    "df_power_coefs['f_pow'] = df_power_coefs.f_pow_pts"
   ]
  },
  {
   "cell_type": "code",
   "execution_count": 66,
   "metadata": {},
   "outputs": [],
   "source": [
    "df_power_coefs.f_pow = df_power_coefs[['f_pow', 'f_pow_bet']].apply(lambda x: x[1] if x[0] == None and x[1] == 'Fav' else x[0], axis=1)"
   ]
  },
  {
   "cell_type": "code",
   "execution_count": 67,
   "metadata": {},
   "outputs": [],
   "source": [
    "df_power_coefs.f_pow = df_power_coefs[['f_pow', 'f_pow_bet']].apply(lambda x: x[1] if x[0] == None and x[1] == 'Pre' else x[0], axis=1)"
   ]
  },
  {
   "cell_type": "code",
   "execution_count": 68,
   "metadata": {},
   "outputs": [
    {
     "data": {
      "text/plain": [
       "Neu     59899\n",
       "Fav      6834\n",
       "Pre      6387\n",
       "None     2265\n",
       "Name: f_pow, dtype: int64"
      ]
     },
     "execution_count": 68,
     "metadata": {},
     "output_type": "execute_result"
    }
   ],
   "source": [
    "df_power_coefs.f_pow.value_counts(dropna=False)"
   ]
  },
  {
   "cell_type": "code",
   "execution_count": 69,
   "metadata": {},
   "outputs": [],
   "source": [
    "df_fav_pre = df_power_coefs[df_power_coefs.f_pow.isin(['Fav', 'Pre'])].copy()"
   ]
  },
  {
   "cell_type": "code",
   "execution_count": 70,
   "metadata": {},
   "outputs": [],
   "source": [
    "df_fav_pre['desc'] = 'fav_pre'"
   ]
  },
  {
   "cell_type": "code",
   "execution_count": 71,
   "metadata": {},
   "outputs": [],
   "source": [
    "df_fav_pre.reset_index(drop=True, inplace=True)"
   ]
  },
  {
   "cell_type": "code",
   "execution_count": 72,
   "metadata": {},
   "outputs": [
    {
     "name": "stdout",
     "output_type": "stream",
     "text": [
      "shape -  13221\n"
     ]
    },
    {
     "data": {
      "text/html": [
       "<div>\n",
       "<style scoped>\n",
       "    .dataframe tbody tr th:only-of-type {\n",
       "        vertical-align: middle;\n",
       "    }\n",
       "\n",
       "    .dataframe tbody tr th {\n",
       "        vertical-align: top;\n",
       "    }\n",
       "\n",
       "    .dataframe thead th {\n",
       "        text-align: right;\n",
       "    }\n",
       "</style>\n",
       "<table border=\"1\" class=\"dataframe\">\n",
       "  <thead>\n",
       "    <tr style=\"text-align: right;\">\n",
       "      <th></th>\n",
       "      <th>game_id</th>\n",
       "      <th>ligue_header</th>\n",
       "      <th>comp_id</th>\n",
       "      <th>season_id</th>\n",
       "      <th>game_utc</th>\n",
       "      <th>game_title</th>\n",
       "      <th>goals</th>\n",
       "      <th>ligue</th>\n",
       "      <th>f_team</th>\n",
       "      <th>pos_f</th>\n",
       "      <th>pts_f</th>\n",
       "      <th>pos_s</th>\n",
       "      <th>pts_s</th>\n",
       "      <th>fs_pos_max</th>\n",
       "      <th>fs_pts_max</th>\n",
       "      <th>teams_ids</th>\n",
       "      <th>event_mins</th>\n",
       "      <th>event_desc</th>\n",
       "      <th>city_country</th>\n",
       "      <th>viewers</th>\n",
       "      <th>weath_temp</th>\n",
       "      <th>shots</th>\n",
       "      <th>saves</th>\n",
       "      <th>poss</th>\n",
       "      <th>corner</th>\n",
       "      <th>fouls</th>\n",
       "      <th>yl_crd</th>\n",
       "      <th>rd_crd</th>\n",
       "      <th>attacks</th>\n",
       "      <th>att_dang</th>\n",
       "      <th>tm_1</th>\n",
       "      <th>tm_x</th>\n",
       "      <th>tm_2</th>\n",
       "      <th>ls_25</th>\n",
       "      <th>mr_25</th>\n",
       "      <th>f_pow_bet</th>\n",
       "      <th>f_pow_pts</th>\n",
       "      <th>f_pow</th>\n",
       "      <th>desc</th>\n",
       "    </tr>\n",
       "  </thead>\n",
       "  <tbody>\n",
       "    <tr>\n",
       "      <th>13218</th>\n",
       "      <td>15079926</td>\n",
       "      <td>Campeonato Catarinense</td>\n",
       "      <td>504</td>\n",
       "      <td>307</td>\n",
       "      <td>28.03.2021 19:00</td>\n",
       "      <td>Figueirense - Chapecoense</td>\n",
       "      <td>1:3</td>\n",
       "      <td>sec</td>\n",
       "      <td>Figueirense</td>\n",
       "      <td>8.0</td>\n",
       "      <td>11.0</td>\n",
       "      <td>1.0</td>\n",
       "      <td>26.0</td>\n",
       "      <td>8 - 1, 12</td>\n",
       "      <td>11 - 26, 26</td>\n",
       "      <td>None</td>\n",
       "      <td>[10, 11, 34, 44, 64, 65, 86, 86]</td>\n",
       "      <td>[yd, yd, yd, yd, yd, yd, gl, yd]</td>\n",
       "      <td>Chapeco, Brazil</td>\n",
       "      <td>None</td>\n",
       "      <td>(+12, light drizzle)</td>\n",
       "      <td>4-1</td>\n",
       "      <td>None</td>\n",
       "      <td>0-0</td>\n",
       "      <td>7-0</td>\n",
       "      <td>None</td>\n",
       "      <td>1-3</td>\n",
       "      <td>0-0</td>\n",
       "      <td>29-21</td>\n",
       "      <td>13-7</td>\n",
       "      <td>2.08</td>\n",
       "      <td>3.11</td>\n",
       "      <td>3.56</td>\n",
       "      <td>1.55</td>\n",
       "      <td>2.44</td>\n",
       "      <td>Neu</td>\n",
       "      <td>Pre</td>\n",
       "      <td>Pre</td>\n",
       "      <td>fav_pre</td>\n",
       "    </tr>\n",
       "    <tr>\n",
       "      <th>13219</th>\n",
       "      <td>15091267</td>\n",
       "      <td>Campeonato Paranaense</td>\n",
       "      <td>516</td>\n",
       "      <td>307</td>\n",
       "      <td>28.03.2021 13:00</td>\n",
       "      <td>Coritiba - Cascavel CR</td>\n",
       "      <td>2:1</td>\n",
       "      <td>sec</td>\n",
       "      <td>Coritiba</td>\n",
       "      <td>9.0</td>\n",
       "      <td>14.0</td>\n",
       "      <td>12.0</td>\n",
       "      <td>4.0</td>\n",
       "      <td>9 - 12, 12</td>\n",
       "      <td>14 - 4, 23</td>\n",
       "      <td>None</td>\n",
       "      <td>[11, 17, 26, 40, 62, 68, 74, 80, 83, 85, 87, +, +]</td>\n",
       "      <td>[yd, yd, gl, yd, gl, yd, yd, yd, yd, gl, yd, yd, rd]</td>\n",
       "      <td>None</td>\n",
       "      <td>None</td>\n",
       "      <td>None</td>\n",
       "      <td>None</td>\n",
       "      <td>None</td>\n",
       "      <td>None</td>\n",
       "      <td>None</td>\n",
       "      <td>None</td>\n",
       "      <td>None</td>\n",
       "      <td>None</td>\n",
       "      <td>None</td>\n",
       "      <td>None</td>\n",
       "      <td>None</td>\n",
       "      <td>None</td>\n",
       "      <td>None</td>\n",
       "      <td>None</td>\n",
       "      <td>None</td>\n",
       "      <td>None</td>\n",
       "      <td>Fav</td>\n",
       "      <td>Fav</td>\n",
       "      <td>fav_pre</td>\n",
       "    </tr>\n",
       "    <tr>\n",
       "      <th>13220</th>\n",
       "      <td>15091817</td>\n",
       "      <td>Primera B Metropolitana</td>\n",
       "      <td>457</td>\n",
       "      <td>307</td>\n",
       "      <td>28.03.2021 19:30</td>\n",
       "      <td>Argentino Quilmes - Defensores Unidos</td>\n",
       "      <td>0:1</td>\n",
       "      <td>sec</td>\n",
       "      <td>Argentino Quilmes</td>\n",
       "      <td>3.0</td>\n",
       "      <td>0.0</td>\n",
       "      <td>7.0</td>\n",
       "      <td>46.0</td>\n",
       "      <td>3 - 7, 16</td>\n",
       "      <td>0 - 46, 61</td>\n",
       "      <td>None</td>\n",
       "      <td>[]</td>\n",
       "      <td>[]</td>\n",
       "      <td>None</td>\n",
       "      <td>None</td>\n",
       "      <td>None</td>\n",
       "      <td>None</td>\n",
       "      <td>None</td>\n",
       "      <td>None</td>\n",
       "      <td>None</td>\n",
       "      <td>None</td>\n",
       "      <td>None</td>\n",
       "      <td>None</td>\n",
       "      <td>None</td>\n",
       "      <td>None</td>\n",
       "      <td>None</td>\n",
       "      <td>None</td>\n",
       "      <td>None</td>\n",
       "      <td>None</td>\n",
       "      <td>None</td>\n",
       "      <td>None</td>\n",
       "      <td>Pre</td>\n",
       "      <td>Pre</td>\n",
       "      <td>fav_pre</td>\n",
       "    </tr>\n",
       "  </tbody>\n",
       "</table>\n",
       "</div>"
      ],
      "text/plain": [
       "        game_id             ligue_header comp_id season_id          game_utc  \\\n",
       "13218  15079926   Campeonato Catarinense     504       307  28.03.2021 19:00   \n",
       "13219  15091267    Campeonato Paranaense     516       307  28.03.2021 13:00   \n",
       "13220  15091817  Primera B Metropolitana     457       307  28.03.2021 19:30   \n",
       "\n",
       "                                  game_title goals ligue             f_team  \\\n",
       "13218              Figueirense - Chapecoense   1:3   sec        Figueirense   \n",
       "13219                 Coritiba - Cascavel CR   2:1   sec           Coritiba   \n",
       "13220  Argentino Quilmes - Defensores Unidos   0:1   sec  Argentino Quilmes   \n",
       "\n",
       "      pos_f pts_f pos_s pts_s  fs_pos_max   fs_pts_max teams_ids  \\\n",
       "13218   8.0  11.0   1.0  26.0   8 - 1, 12  11 - 26, 26      None   \n",
       "13219   9.0  14.0  12.0   4.0  9 - 12, 12   14 - 4, 23      None   \n",
       "13220   3.0   0.0   7.0  46.0   3 - 7, 16   0 - 46, 61      None   \n",
       "\n",
       "                                               event_mins  \\\n",
       "13218                    [10, 11, 34, 44, 64, 65, 86, 86]   \n",
       "13219  [11, 17, 26, 40, 62, 68, 74, 80, 83, 85, 87, +, +]   \n",
       "13220                                                  []   \n",
       "\n",
       "                                                 event_desc     city_country  \\\n",
       "13218                      [yd, yd, yd, yd, yd, yd, gl, yd]  Chapeco, Brazil   \n",
       "13219  [yd, yd, gl, yd, gl, yd, yd, yd, yd, gl, yd, yd, rd]             None   \n",
       "13220                                                    []             None   \n",
       "\n",
       "      viewers            weath_temp shots saves  poss corner fouls yl_crd  \\\n",
       "13218    None  (+12, light drizzle)   4-1  None   0-0    7-0  None    1-3   \n",
       "13219    None                  None  None  None  None   None  None   None   \n",
       "13220    None                  None  None  None  None   None  None   None   \n",
       "\n",
       "      rd_crd attacks att_dang  tm_1  tm_x  tm_2 ls_25 mr_25 f_pow_bet  \\\n",
       "13218    0-0   29-21     13-7  2.08  3.11  3.56  1.55  2.44       Neu   \n",
       "13219   None    None     None  None  None  None  None  None      None   \n",
       "13220   None    None     None  None  None  None  None  None      None   \n",
       "\n",
       "      f_pow_pts f_pow     desc  \n",
       "13218       Pre   Pre  fav_pre  \n",
       "13219       Fav   Fav  fav_pre  \n",
       "13220       Pre   Pre  fav_pre  "
      ]
     },
     "execution_count": 72,
     "metadata": {},
     "output_type": "execute_result"
    }
   ],
   "source": [
    "print('shape - ', df_fav_pre.shape[0])\n",
    "df_fav_pre.tail(3)"
   ]
  },
  {
   "cell_type": "code",
   "execution_count": 73,
   "metadata": {},
   "outputs": [],
   "source": [
    "df_statistic = df_power_coefs[~df_power_coefs.event_mins.isna()].copy()"
   ]
  },
  {
   "cell_type": "code",
   "execution_count": 74,
   "metadata": {},
   "outputs": [],
   "source": [
    "df_statistic = df_statistic[df_statistic.event_mins.map(lambda x: len(x) > 0)].copy()"
   ]
  },
  {
   "cell_type": "code",
   "execution_count": 75,
   "metadata": {},
   "outputs": [],
   "source": [
    "df_statistic['desc'] = 'stat'"
   ]
  },
  {
   "cell_type": "code",
   "execution_count": 76,
   "metadata": {},
   "outputs": [],
   "source": [
    "df_statistic.reset_index(drop=True, inplace=True)"
   ]
  },
  {
   "cell_type": "code",
   "execution_count": 77,
   "metadata": {},
   "outputs": [
    {
     "name": "stdout",
     "output_type": "stream",
     "text": [
      "shape -  28966\n"
     ]
    },
    {
     "data": {
      "text/html": [
       "<div>\n",
       "<style scoped>\n",
       "    .dataframe tbody tr th:only-of-type {\n",
       "        vertical-align: middle;\n",
       "    }\n",
       "\n",
       "    .dataframe tbody tr th {\n",
       "        vertical-align: top;\n",
       "    }\n",
       "\n",
       "    .dataframe thead th {\n",
       "        text-align: right;\n",
       "    }\n",
       "</style>\n",
       "<table border=\"1\" class=\"dataframe\">\n",
       "  <thead>\n",
       "    <tr style=\"text-align: right;\">\n",
       "      <th></th>\n",
       "      <th>game_id</th>\n",
       "      <th>ligue_header</th>\n",
       "      <th>comp_id</th>\n",
       "      <th>season_id</th>\n",
       "      <th>game_utc</th>\n",
       "      <th>game_title</th>\n",
       "      <th>goals</th>\n",
       "      <th>ligue</th>\n",
       "      <th>f_team</th>\n",
       "      <th>pos_f</th>\n",
       "      <th>pts_f</th>\n",
       "      <th>pos_s</th>\n",
       "      <th>pts_s</th>\n",
       "      <th>fs_pos_max</th>\n",
       "      <th>fs_pts_max</th>\n",
       "      <th>teams_ids</th>\n",
       "      <th>event_mins</th>\n",
       "      <th>event_desc</th>\n",
       "      <th>city_country</th>\n",
       "      <th>viewers</th>\n",
       "      <th>weath_temp</th>\n",
       "      <th>shots</th>\n",
       "      <th>saves</th>\n",
       "      <th>poss</th>\n",
       "      <th>corner</th>\n",
       "      <th>fouls</th>\n",
       "      <th>yl_crd</th>\n",
       "      <th>rd_crd</th>\n",
       "      <th>attacks</th>\n",
       "      <th>att_dang</th>\n",
       "      <th>tm_1</th>\n",
       "      <th>tm_x</th>\n",
       "      <th>tm_2</th>\n",
       "      <th>ls_25</th>\n",
       "      <th>mr_25</th>\n",
       "      <th>f_pow_bet</th>\n",
       "      <th>f_pow_pts</th>\n",
       "      <th>f_pow</th>\n",
       "      <th>desc</th>\n",
       "    </tr>\n",
       "  </thead>\n",
       "  <tbody>\n",
       "    <tr>\n",
       "      <th>0</th>\n",
       "      <td>1729359</td>\n",
       "      <td>Ligue 1</td>\n",
       "      <td>18</td>\n",
       "      <td>310</td>\n",
       "      <td>26.05.2022 17:00</td>\n",
       "      <td>Auxerre - Saint-Etienne</td>\n",
       "      <td>1:1</td>\n",
       "      <td>top</td>\n",
       "      <td>Auxerre</td>\n",
       "      <td>None</td>\n",
       "      <td>None</td>\n",
       "      <td>18.0</td>\n",
       "      <td>32.0</td>\n",
       "      <td>None</td>\n",
       "      <td>None</td>\n",
       "      <td>None</td>\n",
       "      <td>[51, 76, 89, +, +, +, +, +, +, +, +, +, +]</td>\n",
       "      <td>[gl, gl, yd, pm, pg, pg, pg, pg, pg, pg, pg, pg, pg]</td>\n",
       "      <td>Saint-Etienne, France</td>\n",
       "      <td>None</td>\n",
       "      <td>(+18, sunny)</td>\n",
       "      <td>19-13</td>\n",
       "      <td>1-8</td>\n",
       "      <td>50-50</td>\n",
       "      <td>12-2</td>\n",
       "      <td>10-11</td>\n",
       "      <td>0-1</td>\n",
       "      <td>0-0</td>\n",
       "      <td>200-122</td>\n",
       "      <td>69-45</td>\n",
       "      <td>2.02</td>\n",
       "      <td>3.44</td>\n",
       "      <td>3.54</td>\n",
       "      <td>1.73</td>\n",
       "      <td>2.11</td>\n",
       "      <td>Neu</td>\n",
       "      <td>None</td>\n",
       "      <td>None</td>\n",
       "      <td>stat</td>\n",
       "    </tr>\n",
       "    <tr>\n",
       "      <th>1</th>\n",
       "      <td>1729388</td>\n",
       "      <td>Eredivisie</td>\n",
       "      <td>596</td>\n",
       "      <td>Cup</td>\n",
       "      <td>26.05.2022 18:00</td>\n",
       "      <td>Vitesse - AZ Alkmaar</td>\n",
       "      <td>2:1</td>\n",
       "      <td>top</td>\n",
       "      <td>Vitesse</td>\n",
       "      <td>None</td>\n",
       "      <td>None</td>\n",
       "      <td>None</td>\n",
       "      <td>None</td>\n",
       "      <td>None</td>\n",
       "      <td>None</td>\n",
       "      <td>None</td>\n",
       "      <td>[3, 8, 13, 29, 41, 52, 69, 69, 75, 78, 89]</td>\n",
       "      <td>[gl, yd, gl, yd, gl, gl, yd, yd, gl, gl, gl]</td>\n",
       "      <td>Alkmaar, Netherlands</td>\n",
       "      <td>15,222</td>\n",
       "      <td>(+14, light rain)</td>\n",
       "      <td>21-14</td>\n",
       "      <td>4-8</td>\n",
       "      <td>53-47</td>\n",
       "      <td>7-6</td>\n",
       "      <td>8-12</td>\n",
       "      <td>1-3</td>\n",
       "      <td>0-0</td>\n",
       "      <td>None</td>\n",
       "      <td>None</td>\n",
       "      <td>1.71</td>\n",
       "      <td>4.00</td>\n",
       "      <td>4.7</td>\n",
       "      <td>2.08</td>\n",
       "      <td>1.83</td>\n",
       "      <td>Fav</td>\n",
       "      <td>None</td>\n",
       "      <td>Fav</td>\n",
       "      <td>stat</td>\n",
       "    </tr>\n",
       "  </tbody>\n",
       "</table>\n",
       "</div>"
      ],
      "text/plain": [
       "   game_id ligue_header comp_id season_id          game_utc  \\\n",
       "0  1729359      Ligue 1      18       310  26.05.2022 17:00   \n",
       "1  1729388   Eredivisie     596       Cup  26.05.2022 18:00   \n",
       "\n",
       "                game_title goals ligue   f_team pos_f pts_f pos_s pts_s  \\\n",
       "0  Auxerre - Saint-Etienne   1:1   top  Auxerre  None  None  18.0  32.0   \n",
       "1     Vitesse - AZ Alkmaar   2:1   top  Vitesse  None  None  None  None   \n",
       "\n",
       "  fs_pos_max fs_pts_max teams_ids                                  event_mins  \\\n",
       "0       None       None      None  [51, 76, 89, +, +, +, +, +, +, +, +, +, +]   \n",
       "1       None       None      None  [3, 8, 13, 29, 41, 52, 69, 69, 75, 78, 89]   \n",
       "\n",
       "                                             event_desc  \\\n",
       "0  [gl, gl, yd, pm, pg, pg, pg, pg, pg, pg, pg, pg, pg]   \n",
       "1          [gl, yd, gl, yd, gl, gl, yd, yd, gl, gl, gl]   \n",
       "\n",
       "            city_country viewers         weath_temp  shots saves   poss  \\\n",
       "0  Saint-Etienne, France    None       (+18, sunny)  19-13   1-8  50-50   \n",
       "1   Alkmaar, Netherlands  15,222  (+14, light rain)  21-14   4-8  53-47   \n",
       "\n",
       "  corner  fouls yl_crd rd_crd  attacks att_dang  tm_1  tm_x  tm_2 ls_25 mr_25  \\\n",
       "0   12-2  10-11    0-1    0-0  200-122    69-45  2.02  3.44  3.54  1.73  2.11   \n",
       "1    7-6   8-12    1-3    0-0     None     None  1.71  4.00   4.7  2.08  1.83   \n",
       "\n",
       "  f_pow_bet f_pow_pts f_pow  desc  \n",
       "0       Neu      None  None  stat  \n",
       "1       Fav      None   Fav  stat  "
      ]
     },
     "execution_count": 77,
     "metadata": {},
     "output_type": "execute_result"
    }
   ],
   "source": [
    "print('shape - ', df_statistic.shape[0])\n",
    "df_statistic.head(2)"
   ]
  },
  {
   "cell_type": "code",
   "execution_count": 78,
   "metadata": {},
   "outputs": [],
   "source": [
    "df_for_cities = pd.concat([df_fav_pre, df_statistic]).reset_index(drop=True)"
   ]
  },
  {
   "cell_type": "code",
   "execution_count": 79,
   "metadata": {},
   "outputs": [
    {
     "data": {
      "text/plain": [
       "(42187, 39)"
      ]
     },
     "execution_count": 79,
     "metadata": {},
     "output_type": "execute_result"
    }
   ],
   "source": [
    "df_for_cities.shape"
   ]
  },
  {
   "cell_type": "code",
   "execution_count": 80,
   "metadata": {},
   "outputs": [],
   "source": [
    "# stop"
   ]
  },
  {
   "cell_type": "markdown",
   "metadata": {},
   "source": [
    "#### Add cities and countries"
   ]
  },
  {
   "cell_type": "code",
   "execution_count": 82,
   "metadata": {},
   "outputs": [],
   "source": [
    "with open('pickle_files/df_countries_champ_ids', 'rb') as f:\n",
    "    df_countries = pickle.load(f)"
   ]
  },
  {
   "cell_type": "code",
   "execution_count": 83,
   "metadata": {},
   "outputs": [],
   "source": [
    "df_countries.drop_duplicates(subset=['comp_id', 'country'], inplace=True)\n",
    "df_countries.reset_index(drop=True, inplace=True)"
   ]
  },
  {
   "cell_type": "code",
   "execution_count": 84,
   "metadata": {},
   "outputs": [
    {
     "data": {
      "text/html": [
       "<div>\n",
       "<style scoped>\n",
       "    .dataframe tbody tr th:only-of-type {\n",
       "        vertical-align: middle;\n",
       "    }\n",
       "\n",
       "    .dataframe tbody tr th {\n",
       "        vertical-align: top;\n",
       "    }\n",
       "\n",
       "    .dataframe thead th {\n",
       "        text-align: right;\n",
       "    }\n",
       "</style>\n",
       "<table border=\"1\" class=\"dataframe\">\n",
       "  <thead>\n",
       "    <tr style=\"text-align: right;\">\n",
       "      <th></th>\n",
       "      <th>comp_id</th>\n",
       "      <th>country</th>\n",
       "    </tr>\n",
       "  </thead>\n",
       "  <tbody>\n",
       "    <tr>\n",
       "      <th>0</th>\n",
       "      <td>12</td>\n",
       "      <td>England</td>\n",
       "    </tr>\n",
       "    <tr>\n",
       "      <th>1</th>\n",
       "      <td>13</td>\n",
       "      <td>Russia</td>\n",
       "    </tr>\n",
       "  </tbody>\n",
       "</table>\n",
       "</div>"
      ],
      "text/plain": [
       "  comp_id  country\n",
       "0      12  England\n",
       "1      13   Russia"
      ]
     },
     "execution_count": 84,
     "metadata": {},
     "output_type": "execute_result"
    }
   ],
   "source": [
    "df_countries.head(2)"
   ]
  },
  {
   "cell_type": "code",
   "execution_count": 85,
   "metadata": {},
   "outputs": [
    {
     "data": {
      "text/plain": [
       "(337, 2)"
      ]
     },
     "execution_count": 85,
     "metadata": {},
     "output_type": "execute_result"
    }
   ],
   "source": [
    "df_countries.shape"
   ]
  },
  {
   "cell_type": "code",
   "execution_count": 86,
   "metadata": {},
   "outputs": [
    {
     "data": {
      "text/plain": [
       "'set()'"
      ]
     },
     "execution_count": 86,
     "metadata": {},
     "output_type": "execute_result"
    }
   ],
   "source": [
    "str(set(df_for_cities[~df_for_cities.comp_id.isin(df_countries.comp_id)].comp_id))"
   ]
  },
  {
   "cell_type": "code",
   "execution_count": 87,
   "metadata": {},
   "outputs": [],
   "source": [
    "df_for_cities = df_for_cities.merge(df_countries, how='left', left_on='comp_id', right_on='comp_id')"
   ]
  },
  {
   "cell_type": "code",
   "execution_count": 88,
   "metadata": {},
   "outputs": [
    {
     "data": {
      "text/plain": [
       "(42187, 40)"
      ]
     },
     "execution_count": 88,
     "metadata": {},
     "output_type": "execute_result"
    }
   ],
   "source": [
    "df_for_cities.shape"
   ]
  },
  {
   "cell_type": "code",
   "execution_count": 89,
   "metadata": {},
   "outputs": [
    {
     "data": {
      "text/plain": [
       "England    2719\n",
       "Italy      2549\n",
       "Spain      2240\n",
       "Germany    1897\n",
       "Brazil     1876\n",
       "Name: country, dtype: int64"
      ]
     },
     "execution_count": 89,
     "metadata": {},
     "output_type": "execute_result"
    }
   ],
   "source": [
    "df_for_cities.country.value_counts(dropna=False).head()"
   ]
  },
  {
   "cell_type": "code",
   "execution_count": 90,
   "metadata": {},
   "outputs": [],
   "source": [
    "df_for_cities['city'] = df_for_cities.city_country.map(lambda x: str(x).split(', ')[0] if len(str(x).split(', ')) == 2 else None)"
   ]
  },
  {
   "cell_type": "code",
   "execution_count": 91,
   "metadata": {},
   "outputs": [
    {
     "data": {
      "text/plain": [
       "None           24380\n",
       "London           283\n",
       "Istanbul         150\n",
       "Sao Paulo        141\n",
       "Prague           133\n",
       "               ...  \n",
       "Como               1\n",
       "Vinnytsia          1\n",
       "Rijeka             1\n",
       "Fredrikstad        1\n",
       "Mouscron           1\n",
       "Name: city, Length: 699, dtype: int64"
      ]
     },
     "execution_count": 91,
     "metadata": {},
     "output_type": "execute_result"
    }
   ],
   "source": [
    "df_for_cities.city.value_counts(dropna=False)"
   ]
  },
  {
   "cell_type": "code",
   "execution_count": 92,
   "metadata": {},
   "outputs": [],
   "source": [
    "df_for_cities.drop(columns=['city_country'], inplace=True)"
   ]
  },
  {
   "cell_type": "markdown",
   "metadata": {},
   "source": [
    "#### Add new data"
   ]
  },
  {
   "cell_type": "code",
   "execution_count": 93,
   "metadata": {},
   "outputs": [],
   "source": [
    "with open('pickle_files/teams_data/df_tmd_main_created_21_06_22', 'rb') as f:\n",
    "    df_teams_data = pickle.load(f)"
   ]
  },
  {
   "cell_type": "code",
   "execution_count": 94,
   "metadata": {},
   "outputs": [],
   "source": [
    "df_teams_data.rename(columns={'team':'f_team', 'teams_ids':'teams_ids_tm', 'city':'city_tm'}, inplace=True)"
   ]
  },
  {
   "cell_type": "code",
   "execution_count": 95,
   "metadata": {},
   "outputs": [
    {
     "name": "stdout",
     "output_type": "stream",
     "text": [
      "shape -  4117\n"
     ]
    },
    {
     "data": {
      "text/html": [
       "<div>\n",
       "<style scoped>\n",
       "    .dataframe tbody tr th:only-of-type {\n",
       "        vertical-align: middle;\n",
       "    }\n",
       "\n",
       "    .dataframe tbody tr th {\n",
       "        vertical-align: top;\n",
       "    }\n",
       "\n",
       "    .dataframe thead th {\n",
       "        text-align: right;\n",
       "    }\n",
       "</style>\n",
       "<table border=\"1\" class=\"dataframe\">\n",
       "  <thead>\n",
       "    <tr style=\"text-align: right;\">\n",
       "      <th></th>\n",
       "      <th>f_team</th>\n",
       "      <th>teams_ids_tm</th>\n",
       "      <th>country</th>\n",
       "      <th>city_tm</th>\n",
       "    </tr>\n",
       "  </thead>\n",
       "  <tbody>\n",
       "    <tr>\n",
       "      <th>0</th>\n",
       "      <td>1. FC Saarbrücken</td>\n",
       "      <td>8086</td>\n",
       "      <td>Germany</td>\n",
       "      <td>Saarbrücken</td>\n",
       "    </tr>\n",
       "    <tr>\n",
       "      <th>1</th>\n",
       "      <td>12 de Octubre</td>\n",
       "      <td>15355</td>\n",
       "      <td>Paraguay</td>\n",
       "      <td>Itauguá</td>\n",
       "    </tr>\n",
       "    <tr>\n",
       "      <th>2</th>\n",
       "      <td>3 de Febrero</td>\n",
       "      <td>8778</td>\n",
       "      <td>Paraguay</td>\n",
       "      <td>Alto Paraná</td>\n",
       "    </tr>\n",
       "  </tbody>\n",
       "</table>\n",
       "</div>"
      ],
      "text/plain": [
       "              f_team teams_ids_tm   country      city_tm\n",
       "0  1. FC Saarbrücken         8086   Germany  Saarbrücken\n",
       "1      12 de Octubre        15355  Paraguay      Itauguá\n",
       "2       3 de Febrero         8778  Paraguay  Alto Paraná"
      ]
     },
     "execution_count": 95,
     "metadata": {},
     "output_type": "execute_result"
    }
   ],
   "source": [
    "print('shape - ', df_teams_data.shape[0])\n",
    "df_teams_data.head(3)"
   ]
  },
  {
   "cell_type": "code",
   "execution_count": 96,
   "metadata": {},
   "outputs": [],
   "source": [
    "df_for_cities = df_for_cities.merge(df_teams_data, how='left', left_on=['f_team', 'country'], right_on=['f_team', 'country'])"
   ]
  },
  {
   "cell_type": "code",
   "execution_count": 97,
   "metadata": {},
   "outputs": [
    {
     "data": {
      "text/plain": [
       "(42187, 42)"
      ]
     },
     "execution_count": 97,
     "metadata": {},
     "output_type": "execute_result"
    }
   ],
   "source": [
    "df_for_cities.shape"
   ]
  },
  {
   "cell_type": "code",
   "execution_count": 98,
   "metadata": {},
   "outputs": [
    {
     "data": {
      "text/plain": [
       "None        24380\n",
       "London        283\n",
       "Istanbul      150\n",
       "Name: city, dtype: int64"
      ]
     },
     "execution_count": 98,
     "metadata": {},
     "output_type": "execute_result"
    }
   ],
   "source": [
    "df_for_cities.city.value_counts(dropna=False)[:3]"
   ]
  },
  {
   "cell_type": "code",
   "execution_count": 99,
   "metadata": {},
   "outputs": [],
   "source": [
    "df_for_cities.city = df_for_cities[['city', 'city_tm']].apply(lambda x: x[0] if pd.notna(x[0]) else x[1], axis=1)"
   ]
  },
  {
   "cell_type": "code",
   "execution_count": 100,
   "metadata": {},
   "outputs": [
    {
     "data": {
      "text/plain": [
       "NaN             3118\n",
       "Buenos Aires     357\n",
       "London           298\n",
       "Name: city, dtype: int64"
      ]
     },
     "execution_count": 100,
     "metadata": {},
     "output_type": "execute_result"
    }
   ],
   "source": [
    "df_for_cities.city.value_counts(dropna=False).head(3)"
   ]
  },
  {
   "cell_type": "code",
   "execution_count": 101,
   "metadata": {},
   "outputs": [
    {
     "data": {
      "text/plain": [
       "None    42187\n",
       "Name: teams_ids, dtype: int64"
      ]
     },
     "execution_count": 101,
     "metadata": {},
     "output_type": "execute_result"
    }
   ],
   "source": [
    "df_for_cities.teams_ids.value_counts(dropna=False).head(3)"
   ]
  },
  {
   "cell_type": "code",
   "execution_count": 102,
   "metadata": {},
   "outputs": [],
   "source": [
    "df_for_cities.teams_ids = df_for_cities[['teams_ids', 'teams_ids_tm']].apply(lambda x: x[0] if pd.notna(x[0]) else x[1], axis=1)"
   ]
  },
  {
   "cell_type": "code",
   "execution_count": 103,
   "metadata": {},
   "outputs": [
    {
     "data": {
      "text/plain": [
       "None     13071\n",
       "NaN       9936\n",
       "15713       41\n",
       "Name: teams_ids, dtype: int64"
      ]
     },
     "execution_count": 103,
     "metadata": {},
     "output_type": "execute_result"
    }
   ],
   "source": [
    "df_for_cities.teams_ids.value_counts(dropna=False).head(3)"
   ]
  },
  {
   "cell_type": "code",
   "execution_count": 104,
   "metadata": {},
   "outputs": [],
   "source": [
    "df_for_cities.drop(columns=['city_tm', 'teams_ids_tm'], inplace=True)"
   ]
  },
  {
   "cell_type": "code",
   "execution_count": 105,
   "metadata": {},
   "outputs": [
    {
     "name": "stdout",
     "output_type": "stream",
     "text": [
      "shape -  42187\n"
     ]
    }
   ],
   "source": [
    "print('shape - ', df_for_cities.shape[0])"
   ]
  },
  {
   "cell_type": "code",
   "execution_count": 106,
   "metadata": {},
   "outputs": [],
   "source": [
    "df_for_cities = df_for_cities[(~df_for_cities.country.isna()) & (~df_for_cities.city.isna())].copy()"
   ]
  },
  {
   "cell_type": "code",
   "execution_count": 107,
   "metadata": {},
   "outputs": [
    {
     "name": "stdout",
     "output_type": "stream",
     "text": [
      "shape -  (39069, 40)\n"
     ]
    },
    {
     "data": {
      "text/html": [
       "<div>\n",
       "<style scoped>\n",
       "    .dataframe tbody tr th:only-of-type {\n",
       "        vertical-align: middle;\n",
       "    }\n",
       "\n",
       "    .dataframe tbody tr th {\n",
       "        vertical-align: top;\n",
       "    }\n",
       "\n",
       "    .dataframe thead th {\n",
       "        text-align: right;\n",
       "    }\n",
       "</style>\n",
       "<table border=\"1\" class=\"dataframe\">\n",
       "  <thead>\n",
       "    <tr style=\"text-align: right;\">\n",
       "      <th></th>\n",
       "      <th>game_id</th>\n",
       "      <th>ligue_header</th>\n",
       "      <th>comp_id</th>\n",
       "      <th>season_id</th>\n",
       "      <th>game_utc</th>\n",
       "      <th>game_title</th>\n",
       "      <th>goals</th>\n",
       "      <th>ligue</th>\n",
       "      <th>f_team</th>\n",
       "      <th>pos_f</th>\n",
       "      <th>pts_f</th>\n",
       "      <th>pos_s</th>\n",
       "      <th>pts_s</th>\n",
       "      <th>fs_pos_max</th>\n",
       "      <th>fs_pts_max</th>\n",
       "      <th>teams_ids</th>\n",
       "      <th>event_mins</th>\n",
       "      <th>event_desc</th>\n",
       "      <th>viewers</th>\n",
       "      <th>weath_temp</th>\n",
       "      <th>shots</th>\n",
       "      <th>saves</th>\n",
       "      <th>poss</th>\n",
       "      <th>corner</th>\n",
       "      <th>fouls</th>\n",
       "      <th>yl_crd</th>\n",
       "      <th>rd_crd</th>\n",
       "      <th>attacks</th>\n",
       "      <th>att_dang</th>\n",
       "      <th>tm_1</th>\n",
       "      <th>tm_x</th>\n",
       "      <th>tm_2</th>\n",
       "      <th>ls_25</th>\n",
       "      <th>mr_25</th>\n",
       "      <th>f_pow_bet</th>\n",
       "      <th>f_pow_pts</th>\n",
       "      <th>f_pow</th>\n",
       "      <th>desc</th>\n",
       "      <th>country</th>\n",
       "      <th>city</th>\n",
       "    </tr>\n",
       "  </thead>\n",
       "  <tbody>\n",
       "    <tr>\n",
       "      <th>39066</th>\n",
       "      <td>15093752</td>\n",
       "      <td>Primera C Metropolitana</td>\n",
       "      <td>459</td>\n",
       "      <td>307</td>\n",
       "      <td>28.03.2021 19:30</td>\n",
       "      <td>Lamadrid - Ituzaingo</td>\n",
       "      <td>1:3</td>\n",
       "      <td>sec</td>\n",
       "      <td>Lamadrid</td>\n",
       "      <td>14.0</td>\n",
       "      <td>42.0</td>\n",
       "      <td>1.0</td>\n",
       "      <td>64.0</td>\n",
       "      <td>14 - 1, 19</td>\n",
       "      <td>42 - 64, 64</td>\n",
       "      <td>14357</td>\n",
       "      <td>[60, 67]</td>\n",
       "      <td>[gl, gl]</td>\n",
       "      <td>None</td>\n",
       "      <td>None</td>\n",
       "      <td>None</td>\n",
       "      <td>None</td>\n",
       "      <td>None</td>\n",
       "      <td>None</td>\n",
       "      <td>None</td>\n",
       "      <td>None</td>\n",
       "      <td>None</td>\n",
       "      <td>None</td>\n",
       "      <td>None</td>\n",
       "      <td>2.19</td>\n",
       "      <td>2.98</td>\n",
       "      <td>3.44</td>\n",
       "      <td>1.44</td>\n",
       "      <td>2.55</td>\n",
       "      <td>Neu</td>\n",
       "      <td>Neu</td>\n",
       "      <td>Neu</td>\n",
       "      <td>stat</td>\n",
       "      <td>Argentina</td>\n",
       "      <td>Villa Devoto</td>\n",
       "    </tr>\n",
       "    <tr>\n",
       "      <th>39067</th>\n",
       "      <td>15093756</td>\n",
       "      <td>Primera C Metropolitana</td>\n",
       "      <td>459</td>\n",
       "      <td>307</td>\n",
       "      <td>28.03.2021 19:30</td>\n",
       "      <td>Lujan - Excursionistas</td>\n",
       "      <td>1:3</td>\n",
       "      <td>sec</td>\n",
       "      <td>Lujan</td>\n",
       "      <td>12.0</td>\n",
       "      <td>44.0</td>\n",
       "      <td>8.0</td>\n",
       "      <td>54.0</td>\n",
       "      <td>12 - 8, 19</td>\n",
       "      <td>44 - 54, 64</td>\n",
       "      <td>12783</td>\n",
       "      <td>[3, 34, 42, 83]</td>\n",
       "      <td>[gl, gl, gl, gl]</td>\n",
       "      <td>None</td>\n",
       "      <td>None</td>\n",
       "      <td>9-7</td>\n",
       "      <td>None</td>\n",
       "      <td>0-0</td>\n",
       "      <td>6-5</td>\n",
       "      <td>None</td>\n",
       "      <td>2-2</td>\n",
       "      <td>0-0</td>\n",
       "      <td>98-108</td>\n",
       "      <td>93-72</td>\n",
       "      <td>1.84</td>\n",
       "      <td>3.28</td>\n",
       "      <td>4.26</td>\n",
       "      <td>1.55</td>\n",
       "      <td>2.26</td>\n",
       "      <td>Fav</td>\n",
       "      <td>Neu</td>\n",
       "      <td>Neu</td>\n",
       "      <td>stat</td>\n",
       "      <td>Argentina</td>\n",
       "      <td>Luján</td>\n",
       "    </tr>\n",
       "    <tr>\n",
       "      <th>39068</th>\n",
       "      <td>15093755</td>\n",
       "      <td>Primera C Metropolitana</td>\n",
       "      <td>459</td>\n",
       "      <td>307</td>\n",
       "      <td>28.03.2021 19:30</td>\n",
       "      <td>Ferrocarril Midland - Berazategui</td>\n",
       "      <td>2:1</td>\n",
       "      <td>sec</td>\n",
       "      <td>Ferrocarril Midland</td>\n",
       "      <td>16.0</td>\n",
       "      <td>36.0</td>\n",
       "      <td>5.0</td>\n",
       "      <td>55.0</td>\n",
       "      <td>16 - 5, 19</td>\n",
       "      <td>36 - 55, 64</td>\n",
       "      <td>NaN</td>\n",
       "      <td>[33, +, 88]</td>\n",
       "      <td>[gl, gl, rd]</td>\n",
       "      <td>None</td>\n",
       "      <td>None</td>\n",
       "      <td>9-9</td>\n",
       "      <td>None</td>\n",
       "      <td>0-0</td>\n",
       "      <td>6-8</td>\n",
       "      <td>13-14</td>\n",
       "      <td>3-3</td>\n",
       "      <td>0-1</td>\n",
       "      <td>119-152</td>\n",
       "      <td>72-78</td>\n",
       "      <td>2.66</td>\n",
       "      <td>2.67</td>\n",
       "      <td>2.96</td>\n",
       "      <td>1.51</td>\n",
       "      <td>2.56</td>\n",
       "      <td>Neu</td>\n",
       "      <td>Neu</td>\n",
       "      <td>Neu</td>\n",
       "      <td>stat</td>\n",
       "      <td>Argentina</td>\n",
       "      <td>Buenos Aires</td>\n",
       "    </tr>\n",
       "  </tbody>\n",
       "</table>\n",
       "</div>"
      ],
      "text/plain": [
       "        game_id             ligue_header comp_id season_id          game_utc  \\\n",
       "39066  15093752  Primera C Metropolitana     459       307  28.03.2021 19:30   \n",
       "39067  15093756  Primera C Metropolitana     459       307  28.03.2021 19:30   \n",
       "39068  15093755  Primera C Metropolitana     459       307  28.03.2021 19:30   \n",
       "\n",
       "                              game_title goals ligue               f_team  \\\n",
       "39066               Lamadrid - Ituzaingo   1:3   sec             Lamadrid   \n",
       "39067             Lujan - Excursionistas   1:3   sec                Lujan   \n",
       "39068  Ferrocarril Midland - Berazategui   2:1   sec  Ferrocarril Midland   \n",
       "\n",
       "      pos_f pts_f pos_s pts_s  fs_pos_max   fs_pts_max teams_ids  \\\n",
       "39066  14.0  42.0   1.0  64.0  14 - 1, 19  42 - 64, 64     14357   \n",
       "39067  12.0  44.0   8.0  54.0  12 - 8, 19  44 - 54, 64     12783   \n",
       "39068  16.0  36.0   5.0  55.0  16 - 5, 19  36 - 55, 64       NaN   \n",
       "\n",
       "            event_mins        event_desc viewers weath_temp shots saves  poss  \\\n",
       "39066         [60, 67]          [gl, gl]    None       None  None  None  None   \n",
       "39067  [3, 34, 42, 83]  [gl, gl, gl, gl]    None       None   9-7  None   0-0   \n",
       "39068      [33, +, 88]      [gl, gl, rd]    None       None   9-9  None   0-0   \n",
       "\n",
       "      corner  fouls yl_crd rd_crd  attacks att_dang  tm_1  tm_x  tm_2 ls_25  \\\n",
       "39066   None   None   None   None     None     None  2.19  2.98  3.44  1.44   \n",
       "39067    6-5   None    2-2    0-0   98-108    93-72  1.84  3.28  4.26  1.55   \n",
       "39068    6-8  13-14    3-3    0-1  119-152    72-78  2.66  2.67  2.96  1.51   \n",
       "\n",
       "      mr_25 f_pow_bet f_pow_pts f_pow  desc    country          city  \n",
       "39066  2.55       Neu       Neu   Neu  stat  Argentina  Villa Devoto  \n",
       "39067  2.26       Fav       Neu   Neu  stat  Argentina         Luján  \n",
       "39068  2.56       Neu       Neu   Neu  stat  Argentina  Buenos Aires  "
      ]
     },
     "execution_count": 107,
     "metadata": {},
     "output_type": "execute_result"
    }
   ],
   "source": [
    "df_for_cities.reset_index(drop=True, inplace=True)\n",
    "print('shape - ', df_for_cities.shape)\n",
    "df_for_cities.tail(3)"
   ]
  },
  {
   "cell_type": "markdown",
   "metadata": {},
   "source": [
    "#### For find teams with na cities"
   ]
  },
  {
   "cell_type": "code",
   "execution_count": 108,
   "metadata": {},
   "outputs": [],
   "source": [
    "# df_na_cities = pd.DataFrame(df_for_cities[['f_team', 'country']][df_for_cities.city.isna()])"
   ]
  },
  {
   "cell_type": "code",
   "execution_count": 109,
   "metadata": {},
   "outputs": [],
   "source": [
    "# df_na_cities = df_na_cities.drop_duplicates(subset=['f_team', 'country'], keep='first')\n",
    "# df_na_cities.reset_index(drop=True, inplace=True)"
   ]
  },
  {
   "cell_type": "code",
   "execution_count": 110,
   "metadata": {},
   "outputs": [],
   "source": [
    "# df_teams_counts_na = df_for_cities[df_for_cities.city.isna()].f_team.value_counts()"
   ]
  },
  {
   "cell_type": "code",
   "execution_count": 111,
   "metadata": {},
   "outputs": [],
   "source": [
    "# numb = 3"
   ]
  },
  {
   "cell_type": "code",
   "execution_count": 112,
   "metadata": {},
   "outputs": [],
   "source": [
    "# len(df_teams_counts_na[df_teams_counts_na >= numb])"
   ]
  },
  {
   "cell_type": "code",
   "execution_count": 113,
   "metadata": {},
   "outputs": [],
   "source": [
    "# df_teams_counts_na[df_teams_counts_na >= numb].values.sum()"
   ]
  },
  {
   "cell_type": "code",
   "execution_count": 114,
   "metadata": {},
   "outputs": [],
   "source": [
    "# df_teams_counts_na"
   ]
  },
  {
   "cell_type": "code",
   "execution_count": 115,
   "metadata": {},
   "outputs": [],
   "source": [
    "# df_teams_counts_na_numb = df_teams_counts_na[df_teams_counts_na >= numb].index"
   ]
  },
  {
   "cell_type": "code",
   "execution_count": 116,
   "metadata": {},
   "outputs": [],
   "source": [
    "# df_teams_counts_na_numb"
   ]
  },
  {
   "cell_type": "code",
   "execution_count": 117,
   "metadata": {},
   "outputs": [],
   "source": [
    "# df_teams_cities_na_26_05_2022_second = df_na_cities[df_na_cities.f_team.isin(df_teams_counts_na_numb)]\n",
    "# df_teams_cities_na_26_05_2022_second.reset_index(drop=True, inplace=True)"
   ]
  },
  {
   "cell_type": "code",
   "execution_count": 118,
   "metadata": {},
   "outputs": [],
   "source": [
    "# df_teams_cities_na_26_05_2022_second"
   ]
  },
  {
   "cell_type": "code",
   "execution_count": 119,
   "metadata": {},
   "outputs": [],
   "source": [
    "# file = open('pickle_files/df_teams_cities_na_26_05_2022_second', 'wb')\n",
    "# pickle.dump(df_teams_cities_na_26_05_2022_second, file)  \n",
    "# file.close()"
   ]
  },
  {
   "cell_type": "markdown",
   "metadata": {},
   "source": [
    "#### Save file for geo coordinates"
   ]
  },
  {
   "cell_type": "code",
   "execution_count": 126,
   "metadata": {},
   "outputs": [],
   "source": [
    "# file = open('pickle_files/df_for_geo_coords_26_05_2022', 'wb')\n",
    "# pickle.dump(df_for_cities, file)  \n",
    "# file.close()"
   ]
  },
  {
   "cell_type": "markdown",
   "metadata": {},
   "source": [
    "#### For find rows without coordinates"
   ]
  },
  {
   "cell_type": "code",
   "execution_count": null,
   "metadata": {},
   "outputs": [],
   "source": [
    "# df_wt_coords = df_for_cities[df_for_cities.lon.isna()][['country', 'city']]"
   ]
  },
  {
   "cell_type": "code",
   "execution_count": null,
   "metadata": {},
   "outputs": [],
   "source": [
    "# df_wt_coords.shape[0]"
   ]
  },
  {
   "cell_type": "code",
   "execution_count": null,
   "metadata": {},
   "outputs": [],
   "source": [
    "# df_wt_coords.drop_duplicates(subset=['country',\t'city'], inplace=True)\n",
    "# df_wt_coords = df_wt_coords[df_wt_coords.city != 'nd'].copy()\n",
    "# df_wt_coords.reset_index(drop=True, inplace=True)\n",
    "# df_wt_coords.head()"
   ]
  },
  {
   "cell_type": "code",
   "execution_count": null,
   "metadata": {},
   "outputs": [],
   "source": [
    "# df_wt_coords.shape"
   ]
  },
  {
   "cell_type": "code",
   "execution_count": null,
   "metadata": {},
   "outputs": [],
   "source": [
    "# file = open('pickle_files/df_wt_coords_26_05_2022', 'wb')\n",
    "# pickle.dump(df_wt_coords, file)  \n",
    "# file.close()"
   ]
  },
  {
   "cell_type": "code",
   "execution_count": null,
   "metadata": {},
   "outputs": [],
   "source": [
    "# df_wt_coords.country.value_counts(dropna=False).head()"
   ]
  },
  {
   "cell_type": "code",
   "execution_count": null,
   "metadata": {},
   "outputs": [],
   "source": [
    "# for_cities_countries   = list(set(df_for_cities.country.values))\n",
    "# world_cities_countries = list(set(df_world_cities.country.values))"
   ]
  },
  {
   "cell_type": "code",
   "execution_count": null,
   "metadata": {},
   "outputs": [],
   "source": [
    "# world_not_in = list(set(df_world_cities[~df_world_cities.country.isin(for_cities_countries)].country.values))\n",
    "# ', '.join(world_not_in)"
   ]
  },
  {
   "cell_type": "code",
   "execution_count": null,
   "metadata": {},
   "outputs": [],
   "source": [
    "# for_not_in = list(set(df_for_cities[~df_for_cities.country.isin(world_cities_countries)].country.values))\n",
    "# for_not_in"
   ]
  },
  {
   "cell_type": "code",
   "execution_count": null,
   "metadata": {},
   "outputs": [],
   "source": [
    "# find_c = df_world_cities.country.apply(lambda x: x if re.findall(r'Congo', str(x)) else None)\n",
    "# find_c.value_counts()"
   ]
  }
 ],
 "metadata": {
  "kernelspec": {
   "display_name": "Python 3 (ipykernel)",
   "language": "python",
   "name": "python3"
  },
  "language_info": {
   "codemirror_mode": {
    "name": "ipython",
    "version": 3
   },
   "file_extension": ".py",
   "mimetype": "text/x-python",
   "name": "python",
   "nbconvert_exporter": "python",
   "pygments_lexer": "ipython3",
   "version": "3.9.7"
  }
 },
 "nbformat": 4,
 "nbformat_minor": 4
}

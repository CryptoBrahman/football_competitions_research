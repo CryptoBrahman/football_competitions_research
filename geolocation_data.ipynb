{
 "cells": [
  {
   "cell_type": "code",
   "execution_count": 1,
   "metadata": {},
   "outputs": [],
   "source": [
    "import re\n",
    "import os\n",
    "import pandas as pd\n",
    "import numpy as np\n",
    "import unicodedata\n",
    "import pickle\n",
    "from cities_coordinates import CityCoordinator\n",
    "\n",
    "from _html_parser import HtmlParser, ParsingDataPrepare\n",
    "\n",
    "pd.set_option('display.max_colwidth', 1000)\n",
    "pd.set_option('display.max_columns', 50)\n",
    "pd.set_option('display.max_rows', 500)"
   ]
  },
  {
   "cell_type": "code",
   "execution_count": 2,
   "metadata": {},
   "outputs": [],
   "source": [
    "%load_ext autoreload\n",
    "%autoreload 2"
   ]
  },
  {
   "cell_type": "code",
   "execution_count": 3,
   "metadata": {},
   "outputs": [],
   "source": [
    "df_country_code = pd.read_csv('csv_files/wikipedia-iso-country-codes.csv') "
   ]
  },
  {
   "cell_type": "code",
   "execution_count": 4,
   "metadata": {},
   "outputs": [
    {
     "data": {
      "text/plain": [
       "(246, 5)"
      ]
     },
     "execution_count": 4,
     "metadata": {},
     "output_type": "execute_result"
    }
   ],
   "source": [
    "df_country_code.columns = [x.lower() for x in df_country_code.columns]\n",
    "df_country_code['alpha-2 code'] = df_country_code['alpha-2 code'].map(lambda x: str(x).lower())\n",
    "df_country_code.rename(columns={'english short name lower case':'country', 'alpha-2 code':'iso_code'}, inplace=True)\n",
    "df_country_code.iso_code = df_country_code.iso_code.str.upper()\n",
    "df_country_code.shape"
   ]
  },
  {
   "cell_type": "code",
   "execution_count": 5,
   "metadata": {},
   "outputs": [
    {
     "data": {
      "text/html": [
       "<div>\n",
       "<style scoped>\n",
       "    .dataframe tbody tr th:only-of-type {\n",
       "        vertical-align: middle;\n",
       "    }\n",
       "\n",
       "    .dataframe tbody tr th {\n",
       "        vertical-align: top;\n",
       "    }\n",
       "\n",
       "    .dataframe thead th {\n",
       "        text-align: right;\n",
       "    }\n",
       "</style>\n",
       "<table border=\"1\" class=\"dataframe\">\n",
       "  <thead>\n",
       "    <tr style=\"text-align: right;\">\n",
       "      <th></th>\n",
       "      <th>country</th>\n",
       "      <th>iso_code</th>\n",
       "      <th>alpha-3 code</th>\n",
       "      <th>numeric code</th>\n",
       "      <th>iso 3166-2</th>\n",
       "    </tr>\n",
       "  </thead>\n",
       "  <tbody>\n",
       "    <tr>\n",
       "      <th>0</th>\n",
       "      <td>Afghanistan</td>\n",
       "      <td>AF</td>\n",
       "      <td>AFG</td>\n",
       "      <td>4</td>\n",
       "      <td>ISO 3166-2:AF</td>\n",
       "    </tr>\n",
       "    <tr>\n",
       "      <th>1</th>\n",
       "      <td>Åland Islands</td>\n",
       "      <td>AX</td>\n",
       "      <td>ALA</td>\n",
       "      <td>248</td>\n",
       "      <td>ISO 3166-2:AX</td>\n",
       "    </tr>\n",
       "    <tr>\n",
       "      <th>2</th>\n",
       "      <td>Albania</td>\n",
       "      <td>AL</td>\n",
       "      <td>ALB</td>\n",
       "      <td>8</td>\n",
       "      <td>ISO 3166-2:AL</td>\n",
       "    </tr>\n",
       "  </tbody>\n",
       "</table>\n",
       "</div>"
      ],
      "text/plain": [
       "         country iso_code alpha-3 code  numeric code     iso 3166-2\n",
       "0    Afghanistan       AF          AFG             4  ISO 3166-2:AF\n",
       "1  Åland Islands       AX          ALA           248  ISO 3166-2:AX\n",
       "2        Albania       AL          ALB             8  ISO 3166-2:AL"
      ]
     },
     "execution_count": 5,
     "metadata": {},
     "output_type": "execute_result"
    }
   ],
   "source": [
    "df_country_code.head(3)"
   ]
  },
  {
   "cell_type": "code",
   "execution_count": 6,
   "metadata": {},
   "outputs": [
    {
     "data": {
      "text/html": [
       "<div>\n",
       "<style scoped>\n",
       "    .dataframe tbody tr th:only-of-type {\n",
       "        vertical-align: middle;\n",
       "    }\n",
       "\n",
       "    .dataframe tbody tr th {\n",
       "        vertical-align: top;\n",
       "    }\n",
       "\n",
       "    .dataframe thead th {\n",
       "        text-align: right;\n",
       "    }\n",
       "</style>\n",
       "<table border=\"1\" class=\"dataframe\">\n",
       "  <thead>\n",
       "    <tr style=\"text-align: right;\">\n",
       "      <th></th>\n",
       "      <th>country</th>\n",
       "      <th>iso_code</th>\n",
       "      <th>alpha-3 code</th>\n",
       "      <th>numeric code</th>\n",
       "      <th>iso 3166-2</th>\n",
       "    </tr>\n",
       "  </thead>\n",
       "  <tbody>\n",
       "    <tr>\n",
       "      <th>151</th>\n",
       "      <td>Namibia</td>\n",
       "      <td>NAN</td>\n",
       "      <td>NAM</td>\n",
       "      <td>516</td>\n",
       "      <td>ISO 3166-2:NA</td>\n",
       "    </tr>\n",
       "  </tbody>\n",
       "</table>\n",
       "</div>"
      ],
      "text/plain": [
       "     country iso_code alpha-3 code  numeric code     iso 3166-2\n",
       "151  Namibia      NAN          NAM           516  ISO 3166-2:NA"
      ]
     },
     "execution_count": 6,
     "metadata": {},
     "output_type": "execute_result"
    }
   ],
   "source": [
    "df_country_code[df_country_code.iso_code.isin(['NAN'])]"
   ]
  },
  {
   "cell_type": "code",
   "execution_count": 7,
   "metadata": {},
   "outputs": [],
   "source": [
    "df_country_code.loc[151:151, 'iso_code'] = 'NA'"
   ]
  },
  {
   "cell_type": "code",
   "execution_count": 8,
   "metadata": {},
   "outputs": [
    {
     "data": {
      "text/html": [
       "<div>\n",
       "<style scoped>\n",
       "    .dataframe tbody tr th:only-of-type {\n",
       "        vertical-align: middle;\n",
       "    }\n",
       "\n",
       "    .dataframe tbody tr th {\n",
       "        vertical-align: top;\n",
       "    }\n",
       "\n",
       "    .dataframe thead th {\n",
       "        text-align: right;\n",
       "    }\n",
       "</style>\n",
       "<table border=\"1\" class=\"dataframe\">\n",
       "  <thead>\n",
       "    <tr style=\"text-align: right;\">\n",
       "      <th></th>\n",
       "      <th>country</th>\n",
       "      <th>iso_code</th>\n",
       "      <th>alpha-3 code</th>\n",
       "      <th>numeric code</th>\n",
       "      <th>iso 3166-2</th>\n",
       "    </tr>\n",
       "  </thead>\n",
       "  <tbody>\n",
       "  </tbody>\n",
       "</table>\n",
       "</div>"
      ],
      "text/plain": [
       "Empty DataFrame\n",
       "Columns: [country, iso_code, alpha-3 code, numeric code, iso 3166-2]\n",
       "Index: []"
      ]
     },
     "execution_count": 8,
     "metadata": {},
     "output_type": "execute_result"
    }
   ],
   "source": [
    "df_country_code[df_country_code.country.isin(['England', 'Northern Ireland', 'Scotland', 'Wales'])]"
   ]
  },
  {
   "cell_type": "markdown",
   "metadata": {},
   "source": [
    "#### Add file for geocords"
   ]
  },
  {
   "cell_type": "code",
   "execution_count": 10,
   "metadata": {},
   "outputs": [],
   "source": [
    "# 1 Stop *********************************************************************************"
   ]
  },
  {
   "cell_type": "code",
   "execution_count": 11,
   "metadata": {},
   "outputs": [],
   "source": [
    "with open('pickle_files/cities_countries/df_for_geo_coords_21_10_2022_bets_coef', 'rb') as f:\n",
    "    df_for_coords = pickle.load(f)"
   ]
  },
  {
   "cell_type": "code",
   "execution_count": null,
   "metadata": {},
   "outputs": [],
   "source": [
    "# df_for_coords = pd.concat([df_for_coords_1, df_for_coords_2], axis=0, ignore_index=True)"
   ]
  },
  {
   "cell_type": "code",
   "execution_count": 12,
   "metadata": {},
   "outputs": [
    {
     "data": {
      "text/html": [
       "<div>\n",
       "<style scoped>\n",
       "    .dataframe tbody tr th:only-of-type {\n",
       "        vertical-align: middle;\n",
       "    }\n",
       "\n",
       "    .dataframe tbody tr th {\n",
       "        vertical-align: top;\n",
       "    }\n",
       "\n",
       "    .dataframe thead th {\n",
       "        text-align: right;\n",
       "    }\n",
       "</style>\n",
       "<table border=\"1\" class=\"dataframe\">\n",
       "  <thead>\n",
       "    <tr style=\"text-align: right;\">\n",
       "      <th></th>\n",
       "      <th>game_id</th>\n",
       "      <th>ligue_header</th>\n",
       "      <th>comp_id</th>\n",
       "      <th>season_id</th>\n",
       "      <th>game_utc</th>\n",
       "      <th>goals</th>\n",
       "      <th>ligue</th>\n",
       "      <th>f_team</th>\n",
       "      <th>s_team</th>\n",
       "      <th>pos_f</th>\n",
       "      <th>pts_f</th>\n",
       "      <th>pos_s</th>\n",
       "      <th>pts_s</th>\n",
       "      <th>max_pos</th>\n",
       "      <th>max_pts</th>\n",
       "      <th>1</th>\n",
       "      <th>X</th>\n",
       "      <th>2</th>\n",
       "      <th>ТМ 2.5</th>\n",
       "      <th>ТБ 2.5</th>\n",
       "      <th>first_g</th>\n",
       "      <th>owngoal</th>\n",
       "      <th>mispen</th>\n",
       "      <th>redcard</th>\n",
       "      <th>ct_cards</th>\n",
       "      <th>f_pow</th>\n",
       "      <th>desc</th>\n",
       "      <th>ct_goals</th>\n",
       "      <th>founded</th>\n",
       "      <th>capacity</th>\n",
       "      <th>city</th>\n",
       "      <th>country</th>\n",
       "    </tr>\n",
       "  </thead>\n",
       "  <tbody>\n",
       "    <tr>\n",
       "      <th>0</th>\n",
       "      <td>1458512</td>\n",
       "      <td>Segunda División</td>\n",
       "      <td>707</td>\n",
       "      <td>306</td>\n",
       "      <td>26.03.2021 17:00</td>\n",
       "      <td>0:0</td>\n",
       "      <td>top</td>\n",
       "      <td>Sporting Gijón</td>\n",
       "      <td>Alcorcón</td>\n",
       "      <td>7.0</td>\n",
       "      <td>65.0</td>\n",
       "      <td>17.0</td>\n",
       "      <td>48.0</td>\n",
       "      <td>22.0</td>\n",
       "      <td>82.0</td>\n",
       "      <td>1.95</td>\n",
       "      <td>2.77</td>\n",
       "      <td>4.72</td>\n",
       "      <td>1.33</td>\n",
       "      <td>3.08</td>\n",
       "      <td>None</td>\n",
       "      <td>0.0</td>\n",
       "      <td>0.0</td>\n",
       "      <td>0.0</td>\n",
       "      <td>2.0</td>\n",
       "      <td>Fav</td>\n",
       "      <td>with_events</td>\n",
       "      <td>0</td>\n",
       "      <td>1905</td>\n",
       "      <td>29538</td>\n",
       "      <td>Gijon</td>\n",
       "      <td>Spain</td>\n",
       "    </tr>\n",
       "    <tr>\n",
       "      <th>1</th>\n",
       "      <td>1458506</td>\n",
       "      <td>Segunda División</td>\n",
       "      <td>707</td>\n",
       "      <td>306</td>\n",
       "      <td>26.03.2021 19:00</td>\n",
       "      <td>1:3</td>\n",
       "      <td>top</td>\n",
       "      <td>Castellon</td>\n",
       "      <td>Espanyol</td>\n",
       "      <td>21.0</td>\n",
       "      <td>41.0</td>\n",
       "      <td>1.0</td>\n",
       "      <td>82.0</td>\n",
       "      <td>22.0</td>\n",
       "      <td>82.0</td>\n",
       "      <td>6.06</td>\n",
       "      <td>3.64</td>\n",
       "      <td>1.62</td>\n",
       "      <td>1.61</td>\n",
       "      <td>2.28</td>\n",
       "      <td>13</td>\n",
       "      <td>0.0</td>\n",
       "      <td>0.0</td>\n",
       "      <td>1.0</td>\n",
       "      <td>4.0</td>\n",
       "      <td>Pre</td>\n",
       "      <td>with_events</td>\n",
       "      <td>4</td>\n",
       "      <td>1922</td>\n",
       "      <td>14485</td>\n",
       "      <td>Castellon de la Plana</td>\n",
       "      <td>Spain</td>\n",
       "    </tr>\n",
       "    <tr>\n",
       "      <th>2</th>\n",
       "      <td>1459331</td>\n",
       "      <td>First League</td>\n",
       "      <td>435</td>\n",
       "      <td>306</td>\n",
       "      <td>26.03.2021 11:00</td>\n",
       "      <td>2:0</td>\n",
       "      <td>sec</td>\n",
       "      <td>Mykolaiv</td>\n",
       "      <td>Alians Lypova Dolyna</td>\n",
       "      <td>4.0</td>\n",
       "      <td>53.0</td>\n",
       "      <td>6.0</td>\n",
       "      <td>51.0</td>\n",
       "      <td>16.0</td>\n",
       "      <td>68.0</td>\n",
       "      <td>1.82</td>\n",
       "      <td>3.42</td>\n",
       "      <td>3.80</td>\n",
       "      <td>1.84</td>\n",
       "      <td>1.90</td>\n",
       "      <td>39</td>\n",
       "      <td>0.0</td>\n",
       "      <td>0.0</td>\n",
       "      <td>1.0</td>\n",
       "      <td>8.0</td>\n",
       "      <td>Fav</td>\n",
       "      <td>with_events</td>\n",
       "      <td>2</td>\n",
       "      <td>1920</td>\n",
       "      <td>25175</td>\n",
       "      <td>Mykolajiv</td>\n",
       "      <td>Ukraine</td>\n",
       "    </tr>\n",
       "    <tr>\n",
       "      <th>3</th>\n",
       "      <td>1459330</td>\n",
       "      <td>First League</td>\n",
       "      <td>435</td>\n",
       "      <td>306</td>\n",
       "      <td>26.03.2021 11:00</td>\n",
       "      <td>1:1</td>\n",
       "      <td>sec</td>\n",
       "      <td>Polessya</td>\n",
       "      <td>Krystal Kherson</td>\n",
       "      <td>11.0</td>\n",
       "      <td>35.0</td>\n",
       "      <td>16.0</td>\n",
       "      <td>13.0</td>\n",
       "      <td>16.0</td>\n",
       "      <td>68.0</td>\n",
       "      <td>1.40</td>\n",
       "      <td>3.84</td>\n",
       "      <td>7.70</td>\n",
       "      <td>1.76</td>\n",
       "      <td>1.97</td>\n",
       "      <td>9</td>\n",
       "      <td>0.0</td>\n",
       "      <td>0.0</td>\n",
       "      <td>0.0</td>\n",
       "      <td>6.0</td>\n",
       "      <td>Fav</td>\n",
       "      <td>with_events</td>\n",
       "      <td>2</td>\n",
       "      <td>NaN</td>\n",
       "      <td>11021</td>\n",
       "      <td>Zhytomyr</td>\n",
       "      <td>Ukraine</td>\n",
       "    </tr>\n",
       "    <tr>\n",
       "      <th>4</th>\n",
       "      <td>1459334</td>\n",
       "      <td>First League</td>\n",
       "      <td>435</td>\n",
       "      <td>306</td>\n",
       "      <td>26.03.2021 12:00</td>\n",
       "      <td>1:1</td>\n",
       "      <td>sec</td>\n",
       "      <td>Kremin</td>\n",
       "      <td>Hirnyk-Sport</td>\n",
       "      <td>15.0</td>\n",
       "      <td>24.0</td>\n",
       "      <td>9.0</td>\n",
       "      <td>38.0</td>\n",
       "      <td>16.0</td>\n",
       "      <td>68.0</td>\n",
       "      <td>3.08</td>\n",
       "      <td>3.26</td>\n",
       "      <td>2.12</td>\n",
       "      <td>1.73</td>\n",
       "      <td>2.00</td>\n",
       "      <td>22</td>\n",
       "      <td>0.0</td>\n",
       "      <td>0.0</td>\n",
       "      <td>1.0</td>\n",
       "      <td>7.0</td>\n",
       "      <td>Pre</td>\n",
       "      <td>with_events</td>\n",
       "      <td>2</td>\n",
       "      <td>1959</td>\n",
       "      <td>2200</td>\n",
       "      <td>Kremenchuk</td>\n",
       "      <td>Ukraine</td>\n",
       "    </tr>\n",
       "    <tr>\n",
       "      <th>...</th>\n",
       "      <td>...</td>\n",
       "      <td>...</td>\n",
       "      <td>...</td>\n",
       "      <td>...</td>\n",
       "      <td>...</td>\n",
       "      <td>...</td>\n",
       "      <td>...</td>\n",
       "      <td>...</td>\n",
       "      <td>...</td>\n",
       "      <td>...</td>\n",
       "      <td>...</td>\n",
       "      <td>...</td>\n",
       "      <td>...</td>\n",
       "      <td>...</td>\n",
       "      <td>...</td>\n",
       "      <td>...</td>\n",
       "      <td>...</td>\n",
       "      <td>...</td>\n",
       "      <td>...</td>\n",
       "      <td>...</td>\n",
       "      <td>...</td>\n",
       "      <td>...</td>\n",
       "      <td>...</td>\n",
       "      <td>...</td>\n",
       "      <td>...</td>\n",
       "      <td>...</td>\n",
       "      <td>...</td>\n",
       "      <td>...</td>\n",
       "      <td>...</td>\n",
       "      <td>...</td>\n",
       "      <td>...</td>\n",
       "      <td>...</td>\n",
       "    </tr>\n",
       "    <tr>\n",
       "      <th>407100</th>\n",
       "      <td>1728561</td>\n",
       "      <td>Premier League</td>\n",
       "      <td>623</td>\n",
       "      <td>310</td>\n",
       "      <td>28.05.2022 13:00</td>\n",
       "      <td>0:1</td>\n",
       "      <td>thr</td>\n",
       "      <td>Amanat Baghdad</td>\n",
       "      <td>Al Minaa</td>\n",
       "      <td>17.0</td>\n",
       "      <td>35.0</td>\n",
       "      <td>19.0</td>\n",
       "      <td>26.0</td>\n",
       "      <td>20.0</td>\n",
       "      <td>91.0</td>\n",
       "      <td>2.06</td>\n",
       "      <td>3.10</td>\n",
       "      <td>3.66</td>\n",
       "      <td>1.52</td>\n",
       "      <td>2.53</td>\n",
       "      <td>40</td>\n",
       "      <td>0.0</td>\n",
       "      <td>0.0</td>\n",
       "      <td>1.0</td>\n",
       "      <td>0.0</td>\n",
       "      <td>Fav</td>\n",
       "      <td>with_events</td>\n",
       "      <td>1</td>\n",
       "      <td>1957</td>\n",
       "      <td>3000</td>\n",
       "      <td>Baġdād</td>\n",
       "      <td>Iraq</td>\n",
       "    </tr>\n",
       "    <tr>\n",
       "      <th>407101</th>\n",
       "      <td>1728563</td>\n",
       "      <td>Premier League</td>\n",
       "      <td>623</td>\n",
       "      <td>310</td>\n",
       "      <td>28.05.2022 15:30</td>\n",
       "      <td>2:1</td>\n",
       "      <td>thr</td>\n",
       "      <td>Arbil</td>\n",
       "      <td>Al Sinaah</td>\n",
       "      <td>11.0</td>\n",
       "      <td>43.0</td>\n",
       "      <td>16.0</td>\n",
       "      <td>35.0</td>\n",
       "      <td>20.0</td>\n",
       "      <td>91.0</td>\n",
       "      <td>NaN</td>\n",
       "      <td>NaN</td>\n",
       "      <td>NaN</td>\n",
       "      <td>NaN</td>\n",
       "      <td>NaN</td>\n",
       "      <td>21</td>\n",
       "      <td>0.0</td>\n",
       "      <td>0.0</td>\n",
       "      <td>0.0</td>\n",
       "      <td>0.0</td>\n",
       "      <td>Nodeterm</td>\n",
       "      <td>with_events</td>\n",
       "      <td>3</td>\n",
       "      <td>1968</td>\n",
       "      <td>40000</td>\n",
       "      <td>Arbil</td>\n",
       "      <td>Iraq</td>\n",
       "    </tr>\n",
       "    <tr>\n",
       "      <th>407102</th>\n",
       "      <td>1728564</td>\n",
       "      <td>Premier League</td>\n",
       "      <td>623</td>\n",
       "      <td>310</td>\n",
       "      <td>28.05.2022 15:30</td>\n",
       "      <td>1:1</td>\n",
       "      <td>thr</td>\n",
       "      <td>Naft Maysan</td>\n",
       "      <td>Al Diwaniya</td>\n",
       "      <td>14.0</td>\n",
       "      <td>39.0</td>\n",
       "      <td>18.0</td>\n",
       "      <td>32.0</td>\n",
       "      <td>20.0</td>\n",
       "      <td>91.0</td>\n",
       "      <td>NaN</td>\n",
       "      <td>NaN</td>\n",
       "      <td>NaN</td>\n",
       "      <td>NaN</td>\n",
       "      <td>NaN</td>\n",
       "      <td>2</td>\n",
       "      <td>0.0</td>\n",
       "      <td>0.0</td>\n",
       "      <td>0.0</td>\n",
       "      <td>0.0</td>\n",
       "      <td>Nodeterm</td>\n",
       "      <td>with_events</td>\n",
       "      <td>2</td>\n",
       "      <td>NaN</td>\n",
       "      <td>25000</td>\n",
       "      <td>Amarah</td>\n",
       "      <td>Iraq</td>\n",
       "    </tr>\n",
       "    <tr>\n",
       "      <th>407103</th>\n",
       "      <td>1728565</td>\n",
       "      <td>Premier League</td>\n",
       "      <td>623</td>\n",
       "      <td>310</td>\n",
       "      <td>28.05.2022 18:00</td>\n",
       "      <td>3:1</td>\n",
       "      <td>thr</td>\n",
       "      <td>Al Talaba</td>\n",
       "      <td>Samarra FC</td>\n",
       "      <td>2.0</td>\n",
       "      <td>66.0</td>\n",
       "      <td>20.0</td>\n",
       "      <td>11.0</td>\n",
       "      <td>20.0</td>\n",
       "      <td>91.0</td>\n",
       "      <td>1.26</td>\n",
       "      <td>5.15</td>\n",
       "      <td>10.00</td>\n",
       "      <td>1.92</td>\n",
       "      <td>1.88</td>\n",
       "      <td>1</td>\n",
       "      <td>0.0</td>\n",
       "      <td>0.0</td>\n",
       "      <td>0.0</td>\n",
       "      <td>0.0</td>\n",
       "      <td>Fav</td>\n",
       "      <td>with_events</td>\n",
       "      <td>4</td>\n",
       "      <td>1977</td>\n",
       "      <td>40000</td>\n",
       "      <td>Baġdād</td>\n",
       "      <td>Iraq</td>\n",
       "    </tr>\n",
       "    <tr>\n",
       "      <th>407104</th>\n",
       "      <td>1607740</td>\n",
       "      <td>Landesliga</td>\n",
       "      <td>475</td>\n",
       "      <td>310</td>\n",
       "      <td>28.05.2022 16:00</td>\n",
       "      <td>0:1</td>\n",
       "      <td>thr</td>\n",
       "      <td>St. Jakob</td>\n",
       "      <td>SAK Klagenfurt</td>\n",
       "      <td>9.0</td>\n",
       "      <td>44.0</td>\n",
       "      <td>2.0</td>\n",
       "      <td>54.0</td>\n",
       "      <td>18.0</td>\n",
       "      <td>77.0</td>\n",
       "      <td>2.82</td>\n",
       "      <td>3.30</td>\n",
       "      <td>2.22</td>\n",
       "      <td>2.26</td>\n",
       "      <td>1.56</td>\n",
       "      <td>None</td>\n",
       "      <td>0.0</td>\n",
       "      <td>0.0</td>\n",
       "      <td>0.0</td>\n",
       "      <td>0.0</td>\n",
       "      <td>Pre</td>\n",
       "      <td>with_events</td>\n",
       "      <td>1</td>\n",
       "      <td>1970</td>\n",
       "      <td>1500</td>\n",
       "      <td>Rosental</td>\n",
       "      <td>Austria</td>\n",
       "    </tr>\n",
       "  </tbody>\n",
       "</table>\n",
       "<p>407105 rows × 32 columns</p>\n",
       "</div>"
      ],
      "text/plain": [
       "        game_id      ligue_header comp_id season_id          game_utc goals  \\\n",
       "0       1458512  Segunda División     707       306  26.03.2021 17:00   0:0   \n",
       "1       1458506  Segunda División     707       306  26.03.2021 19:00   1:3   \n",
       "2       1459331      First League     435       306  26.03.2021 11:00   2:0   \n",
       "3       1459330      First League     435       306  26.03.2021 11:00   1:1   \n",
       "4       1459334      First League     435       306  26.03.2021 12:00   1:1   \n",
       "...         ...               ...     ...       ...               ...   ...   \n",
       "407100  1728561    Premier League     623       310  28.05.2022 13:00   0:1   \n",
       "407101  1728563    Premier League     623       310  28.05.2022 15:30   2:1   \n",
       "407102  1728564    Premier League     623       310  28.05.2022 15:30   1:1   \n",
       "407103  1728565    Premier League     623       310  28.05.2022 18:00   3:1   \n",
       "407104  1607740        Landesliga     475       310  28.05.2022 16:00   0:1   \n",
       "\n",
       "       ligue          f_team                s_team  pos_f  pts_f  pos_s  \\\n",
       "0        top  Sporting Gijón              Alcorcón    7.0   65.0   17.0   \n",
       "1        top       Castellon              Espanyol   21.0   41.0    1.0   \n",
       "2        sec        Mykolaiv  Alians Lypova Dolyna    4.0   53.0    6.0   \n",
       "3        sec        Polessya       Krystal Kherson   11.0   35.0   16.0   \n",
       "4        sec          Kremin          Hirnyk-Sport   15.0   24.0    9.0   \n",
       "...      ...             ...                   ...    ...    ...    ...   \n",
       "407100   thr  Amanat Baghdad              Al Minaa   17.0   35.0   19.0   \n",
       "407101   thr           Arbil             Al Sinaah   11.0   43.0   16.0   \n",
       "407102   thr     Naft Maysan           Al Diwaniya   14.0   39.0   18.0   \n",
       "407103   thr       Al Talaba            Samarra FC    2.0   66.0   20.0   \n",
       "407104   thr       St. Jakob        SAK Klagenfurt    9.0   44.0    2.0   \n",
       "\n",
       "        pts_s  max_pos  max_pts     1     X      2  ТМ 2.5  ТБ 2.5 first_g  \\\n",
       "0        48.0     22.0     82.0  1.95  2.77   4.72    1.33    3.08    None   \n",
       "1        82.0     22.0     82.0  6.06  3.64   1.62    1.61    2.28      13   \n",
       "2        51.0     16.0     68.0  1.82  3.42   3.80    1.84    1.90      39   \n",
       "3        13.0     16.0     68.0  1.40  3.84   7.70    1.76    1.97       9   \n",
       "4        38.0     16.0     68.0  3.08  3.26   2.12    1.73    2.00      22   \n",
       "...       ...      ...      ...   ...   ...    ...     ...     ...     ...   \n",
       "407100   26.0     20.0     91.0  2.06  3.10   3.66    1.52    2.53      40   \n",
       "407101   35.0     20.0     91.0   NaN   NaN    NaN     NaN     NaN      21   \n",
       "407102   32.0     20.0     91.0   NaN   NaN    NaN     NaN     NaN       2   \n",
       "407103   11.0     20.0     91.0  1.26  5.15  10.00    1.92    1.88       1   \n",
       "407104   54.0     18.0     77.0  2.82  3.30   2.22    2.26    1.56    None   \n",
       "\n",
       "        owngoal  mispen  redcard  ct_cards     f_pow         desc  ct_goals  \\\n",
       "0           0.0     0.0      0.0       2.0       Fav  with_events         0   \n",
       "1           0.0     0.0      1.0       4.0       Pre  with_events         4   \n",
       "2           0.0     0.0      1.0       8.0       Fav  with_events         2   \n",
       "3           0.0     0.0      0.0       6.0       Fav  with_events         2   \n",
       "4           0.0     0.0      1.0       7.0       Pre  with_events         2   \n",
       "...         ...     ...      ...       ...       ...          ...       ...   \n",
       "407100      0.0     0.0      1.0       0.0       Fav  with_events         1   \n",
       "407101      0.0     0.0      0.0       0.0  Nodeterm  with_events         3   \n",
       "407102      0.0     0.0      0.0       0.0  Nodeterm  with_events         2   \n",
       "407103      0.0     0.0      0.0       0.0       Fav  with_events         4   \n",
       "407104      0.0     0.0      0.0       0.0       Pre  with_events         1   \n",
       "\n",
       "       founded capacity                   city    country  \n",
       "0         1905    29538                  Gijon    Spain    \n",
       "1         1922    14485  Castellon de la Plana    Spain    \n",
       "2         1920    25175              Mykolajiv    Ukraine  \n",
       "3          NaN    11021               Zhytomyr  Ukraine    \n",
       "4         1959     2200             Kremenchuk  Ukraine    \n",
       "...        ...      ...                    ...        ...  \n",
       "407100    1957     3000                 Baġdād       Iraq  \n",
       "407101    1968    40000                  Arbil       Iraq  \n",
       "407102     NaN    25000                 Amarah       Iraq  \n",
       "407103    1977    40000                 Baġdād       Iraq  \n",
       "407104    1970     1500               Rosental    Austria  \n",
       "\n",
       "[407105 rows x 32 columns]"
      ]
     },
     "execution_count": 12,
     "metadata": {},
     "output_type": "execute_result"
    }
   ],
   "source": [
    "df_for_coords"
   ]
  },
  {
   "cell_type": "markdown",
   "metadata": {},
   "source": [
    "#### Remove some countries"
   ]
  },
  {
   "cell_type": "code",
   "execution_count": 13,
   "metadata": {},
   "outputs": [
    {
     "name": "stdout",
     "output_type": "stream",
     "text": [
      "shape -  407105\n",
      "shape -  403262\n"
     ]
    }
   ],
   "source": [
    "# Remove USA country because many cities have twice locations in different states, 'Republic of Kosovo' - doesn't have iso_code, 'Syria' - not sure at game's location\n",
    "print('shape - ', df_for_coords.shape[0])\n",
    "df_for_coords = df_for_coords[~df_for_coords.country.isin(['USA', 'Republic of Kosovo', 'Syria'])].copy()\n",
    "print('shape - ', df_for_coords.shape[0])"
   ]
  },
  {
   "cell_type": "code",
   "execution_count": null,
   "metadata": {},
   "outputs": [],
   "source": [
    "#  For teams dataframe appoint iso_code:\n",
    "# ['England', 'Wales', 'Scotland', 'Northern Ireland'] - 'GB'\n",
    "\n",
    "# For world cities dataframe renames countries:\n",
    "# 'Tanzania, United Republic of' - Tanzania, 'Moldova, Republic of' - 'Moldova',\n",
    "# 'Congo, the Democratic Republic of the' - 'Congo DR', 'United States Of America' - 'USA', 'Syrian Arab Republic' - 'Syria',\n",
    "# 'China' - 'China PR', 'Korea, Republic of (South Korea) - 'Korea Republic', 'Macedonia, the former Yugoslav Republic of' - 'FYR Macedonia', \n",
    "# 'Bosnia and Herzegovina' - 'Bosnia-Herzegovina', 'Ireland' - 'Republic of Ireland', 'Libyan Arab Jamahiriya' - 'Libya', \n",
    "# 'Côte d'Ivoire' - 'Ivory Coast'"
   ]
  },
  {
   "cell_type": "code",
   "execution_count": 14,
   "metadata": {},
   "outputs": [],
   "source": [
    "countries_chng = {'Tanzania, United Republic of':'Tanzania', 'Moldova, Republic of':'Moldova',\n",
    "                  'Congo, the Democratic Republic of the':'Congo DR', 'United States Of America':'USA', 'Syrian Arab Republic':'Syria',\n",
    "                  'China':'China PR', 'Korea, Republic of (South Korea)':'Korea Republic', 'Macedonia, the former Yugoslav Republic of':'FYR Macedonia', \n",
    "                  'Bosnia and Herzegovina':'Bosnia-Herzegovina', 'Ireland':'Republic of Ireland', 'Libyan Arab Jamahiriya':'Libya',\n",
    "                  'Côte d\\'Ivoire':'Ivory Coast', 'Brunei Darussalam':'Brunei'}"
   ]
  },
  {
   "cell_type": "code",
   "execution_count": 15,
   "metadata": {},
   "outputs": [],
   "source": [
    "df_country_code.country = df_country_code.country.map(lambda x: countries_chng[x] if x in countries_chng.keys() else x)"
   ]
  },
  {
   "cell_type": "code",
   "execution_count": 16,
   "metadata": {},
   "outputs": [
    {
     "data": {
      "text/plain": [
       "(403262, 33)"
      ]
     },
     "execution_count": 16,
     "metadata": {},
     "output_type": "execute_result"
    }
   ],
   "source": [
    "df_for_coords = df_for_coords.merge(df_country_code[['country', 'iso_code']], how='left', left_on=['country'], right_on=['country'])\n",
    "df_for_coords.shape"
   ]
  },
  {
   "cell_type": "code",
   "execution_count": 17,
   "metadata": {},
   "outputs": [
    {
     "data": {
      "text/plain": [
       "array(['Spain\\xa0\\xa0', 'Ukraine\\xa0\\xa0', 'United Kingdom\\xa0\\xa0',\n",
       "       'Australia\\xa0\\xa0', 'Portugal\\xa0\\xa0', 'Netherlands\\xa0\\xa0',\n",
       "       'Republic of Ireland\\xa0\\xa0', 'Brazil\\xa0\\xa0', 'Israel\\xa0\\xa0',\n",
       "       'Russia\\xa0\\xa0', 'Colombia\\xa0\\xa0', 'Germany\\xa0\\xa0',\n",
       "       'Turkey\\xa0\\xa0', 'Albania\\xa0\\xa0', 'England', 'France\\xa0\\xa0',\n",
       "       'Northern Ireland\\xa0\\xa0', 'Northern Ireland', 'Scotland',\n",
       "       'Bulgaria\\xa0\\xa0', 'Italy\\xa0\\xa0', 'Belgium\\xa0\\xa0',\n",
       "       'Belarus\\xa0\\xa0', 'Greece\\xa0\\xa0', 'Austria\\xa0\\xa0',\n",
       "       'Romania\\xa0\\xa0', 'Croatia\\xa0\\xa0', 'Denmark\\xa0\\xa0',\n",
       "       'Switzerland\\xa0\\xa0', 'Poland\\xa0\\xa0', 'Czech Republic\\xa0\\xa0',\n",
       "       'Serbia\\xa0\\xa0', 'Georgia\\xa0\\xa0', 'Mexico\\xa0\\xa0',\n",
       "       'Slovakia\\xa0\\xa0', 'Wales\\xa0\\xa0', 'Scotland\\xa0\\xa0',\n",
       "       'Kazakhstan\\xa0\\xa0', 'Korea Republic\\xa0\\xa0',\n",
       "       'Argentina\\xa0\\xa0', 'Saudi Arabia\\xa0\\xa0', 'Cyprus\\xa0\\xa0',\n",
       "       'Uruguay\\xa0\\xa0', 'Armenia\\xa0\\xa0', 'Iran\\xa0\\xa0',\n",
       "       'Singapore\\xa0\\xa0', 'Wales', 'United Arab Emirates\\xa0\\xa0',\n",
       "       'Honduras\\xa0\\xa0', 'Uzbekistan\\xa0\\xa0',\n",
       "       'Bosnia-Herzegovina\\xa0\\xa0', 'Kuwait\\xa0\\xa0', 'Monaco\\xa0\\xa0',\n",
       "       'Hungary\\xa0\\xa0', 'Liechtenstein\\xa0\\xa0', 'Azerbaijan\\xa0\\xa0',\n",
       "       'Sweden\\xa0\\xa0', 'Slovenia\\xa0\\xa0', 'Costa Rica\\xa0\\xa0',\n",
       "       'Qatar\\xa0\\xa0', 'Iceland\\xa0\\xa0', 'Montenegro\\xa0\\xa0',\n",
       "       'India\\xa0\\xa0', 'Malta\\xa0\\xa0', 'Luxembourg\\xa0\\xa0',\n",
       "       'Bahrain\\xa0\\xa0', 'Japan\\xa0\\xa0', 'Bangladesh\\xa0\\xa0',\n",
       "       'Thailand\\xa0\\xa0', 'Nicaragua\\xa0\\xa0', 'Morocco\\xa0\\xa0',\n",
       "       'Ghana\\xa0\\xa0', 'Oman\\xa0\\xa0', 'Egypt\\xa0\\xa0',\n",
       "       'South Africa\\xa0\\xa0', 'Chile\\xa0\\xa0', 'Jordan\\xa0\\xa0',\n",
       "       'Tunisia\\xa0\\xa0', 'Bolivia\\xa0\\xa0', 'Norway\\xa0\\xa0',\n",
       "       'USA\\xa0\\xa0', 'Latvia\\xa0\\xa0', 'Venezuela\\xa0\\xa0',\n",
       "       'Faroe Islands\\xa0\\xa0', 'Guatemala\\xa0\\xa0', 'Lithuania\\xa0\\xa0',\n",
       "       'Estonia\\xa0\\xa0', 'Finland\\xa0\\xa0', 'China PR\\xa0\\xa0',\n",
       "       'Moldova\\xa0\\xa0', 'Canada\\xa0\\xa0', 'Tajikistan\\xa0\\xa0',\n",
       "       'New Zealand\\xa0\\xa0', 'Panama\\xa0\\xa0', 'Indonesia\\xa0\\xa0',\n",
       "       'Botswana\\xa0\\xa0', 'Brunei Darussalam\\xa0\\xa0',\n",
       "       'Ivory Coast\\xa0\\xa0', 'Vietnam\\xa0\\xa0', 'Jamaica\\xa0\\xa0',\n",
       "       'Cameroon\\xa0\\xa0', 'Lebanon\\xa0\\xa0', 'Iraq\\xa0\\xa0',\n",
       "       'Cambodia\\xa0\\xa0', 'San Marino\\xa0\\xa0', 'FYR Macedonia\\xa0\\xa0',\n",
       "       'Senegal\\xa0\\xa0', 'Crimea\\xa0\\xa0', 'Angola\\xa0\\xa0',\n",
       "       'Mongolia\\xa0\\xa0', 'Kyrgyzstan\\xa0\\xa0', 'Andorra\\xa0\\xa0',\n",
       "       'Bhutan\\xa0\\xa0'], dtype=object)"
      ]
     },
     "execution_count": 17,
     "metadata": {},
     "output_type": "execute_result"
    }
   ],
   "source": [
    "df_for_coords[~df_for_coords.country.isin(df_country_code.country.unique())].country.unique()"
   ]
  },
  {
   "cell_type": "code",
   "execution_count": 18,
   "metadata": {},
   "outputs": [],
   "source": [
    "british_list           = ['England', 'Northern Ireland', 'Scotland', 'Wales']\n",
    "df_for_coords.iso_code = df_for_coords[['country', 'iso_code']].apply(lambda x: 'GB' if x[0] in british_list else x[1], axis=1)"
   ]
  },
  {
   "cell_type": "code",
   "execution_count": 19,
   "metadata": {},
   "outputs": [
    {
     "data": {
      "text/plain": [
       "array([['1458512', 'Segunda División', '707', ..., 'Gijon',\n",
       "        'Spain\\xa0\\xa0', nan],\n",
       "       ['1458506', 'Segunda División', '707', ...,\n",
       "        'Castellon de la Plana', 'Spain\\xa0\\xa0', nan],\n",
       "       ['1459330', 'First League', '435', ..., 'Zhytomyr',\n",
       "        'Ukraine\\xa0\\xa0', nan],\n",
       "       ...,\n",
       "       ['1718809', '1. Division', '635', ..., 'Kyzylorda',\n",
       "        'Kazakhstan\\xa0\\xa0', nan],\n",
       "       ['1705744', 'Campeonato Brasileiro C', '527', ...,\n",
       "        'Florianopolis', 'Brazil\\xa0\\xa0', nan],\n",
       "       ['1603939', 'Championnat National 2', '579', ..., 'Metz',\n",
       "        'France\\xa0\\xa0', nan]], dtype=object)"
      ]
     },
     "execution_count": 19,
     "metadata": {},
     "output_type": "execute_result"
    }
   ],
   "source": [
    "df_for_coords[df_for_coords.iso_code.isna()].values"
   ]
  },
  {
   "cell_type": "code",
   "execution_count": 20,
   "metadata": {},
   "outputs": [
    {
     "data": {
      "text/html": [
       "<div>\n",
       "<style scoped>\n",
       "    .dataframe tbody tr th:only-of-type {\n",
       "        vertical-align: middle;\n",
       "    }\n",
       "\n",
       "    .dataframe tbody tr th {\n",
       "        vertical-align: top;\n",
       "    }\n",
       "\n",
       "    .dataframe thead th {\n",
       "        text-align: right;\n",
       "    }\n",
       "</style>\n",
       "<table border=\"1\" class=\"dataframe\">\n",
       "  <thead>\n",
       "    <tr style=\"text-align: right;\">\n",
       "      <th></th>\n",
       "      <th>game_id</th>\n",
       "      <th>ligue_header</th>\n",
       "      <th>comp_id</th>\n",
       "      <th>season_id</th>\n",
       "      <th>game_utc</th>\n",
       "      <th>goals</th>\n",
       "      <th>ligue</th>\n",
       "      <th>f_team</th>\n",
       "      <th>s_team</th>\n",
       "      <th>pos_f</th>\n",
       "      <th>pts_f</th>\n",
       "      <th>pos_s</th>\n",
       "      <th>pts_s</th>\n",
       "      <th>max_pos</th>\n",
       "      <th>max_pts</th>\n",
       "      <th>1</th>\n",
       "      <th>X</th>\n",
       "      <th>2</th>\n",
       "      <th>ТМ 2.5</th>\n",
       "      <th>ТБ 2.5</th>\n",
       "      <th>first_g</th>\n",
       "      <th>owngoal</th>\n",
       "      <th>mispen</th>\n",
       "      <th>redcard</th>\n",
       "      <th>ct_cards</th>\n",
       "      <th>f_pow</th>\n",
       "      <th>desc</th>\n",
       "      <th>ct_goals</th>\n",
       "      <th>founded</th>\n",
       "      <th>capacity</th>\n",
       "      <th>city</th>\n",
       "      <th>country</th>\n",
       "      <th>iso_code</th>\n",
       "    </tr>\n",
       "  </thead>\n",
       "  <tbody>\n",
       "    <tr>\n",
       "      <th>0</th>\n",
       "      <td>1458512</td>\n",
       "      <td>Segunda División</td>\n",
       "      <td>707</td>\n",
       "      <td>306</td>\n",
       "      <td>26.03.2021 17:00</td>\n",
       "      <td>0:0</td>\n",
       "      <td>top</td>\n",
       "      <td>Sporting Gijón</td>\n",
       "      <td>Alcorcón</td>\n",
       "      <td>7.0</td>\n",
       "      <td>65.0</td>\n",
       "      <td>17.0</td>\n",
       "      <td>48.0</td>\n",
       "      <td>22.0</td>\n",
       "      <td>82.0</td>\n",
       "      <td>1.95</td>\n",
       "      <td>2.77</td>\n",
       "      <td>4.72</td>\n",
       "      <td>1.33</td>\n",
       "      <td>3.08</td>\n",
       "      <td>None</td>\n",
       "      <td>0.0</td>\n",
       "      <td>0.0</td>\n",
       "      <td>0.0</td>\n",
       "      <td>2.0</td>\n",
       "      <td>Fav</td>\n",
       "      <td>with_events</td>\n",
       "      <td>0</td>\n",
       "      <td>1905</td>\n",
       "      <td>29538</td>\n",
       "      <td>Gijon</td>\n",
       "      <td>Spain</td>\n",
       "      <td>NaN</td>\n",
       "    </tr>\n",
       "    <tr>\n",
       "      <th>1</th>\n",
       "      <td>1458506</td>\n",
       "      <td>Segunda División</td>\n",
       "      <td>707</td>\n",
       "      <td>306</td>\n",
       "      <td>26.03.2021 19:00</td>\n",
       "      <td>1:3</td>\n",
       "      <td>top</td>\n",
       "      <td>Castellon</td>\n",
       "      <td>Espanyol</td>\n",
       "      <td>21.0</td>\n",
       "      <td>41.0</td>\n",
       "      <td>1.0</td>\n",
       "      <td>82.0</td>\n",
       "      <td>22.0</td>\n",
       "      <td>82.0</td>\n",
       "      <td>6.06</td>\n",
       "      <td>3.64</td>\n",
       "      <td>1.62</td>\n",
       "      <td>1.61</td>\n",
       "      <td>2.28</td>\n",
       "      <td>13</td>\n",
       "      <td>0.0</td>\n",
       "      <td>0.0</td>\n",
       "      <td>1.0</td>\n",
       "      <td>4.0</td>\n",
       "      <td>Pre</td>\n",
       "      <td>with_events</td>\n",
       "      <td>4</td>\n",
       "      <td>1922</td>\n",
       "      <td>14485</td>\n",
       "      <td>Castellon de la Plana</td>\n",
       "      <td>Spain</td>\n",
       "      <td>NaN</td>\n",
       "    </tr>\n",
       "    <tr>\n",
       "      <th>2</th>\n",
       "      <td>1459331</td>\n",
       "      <td>First League</td>\n",
       "      <td>435</td>\n",
       "      <td>306</td>\n",
       "      <td>26.03.2021 11:00</td>\n",
       "      <td>2:0</td>\n",
       "      <td>sec</td>\n",
       "      <td>Mykolaiv</td>\n",
       "      <td>Alians Lypova Dolyna</td>\n",
       "      <td>4.0</td>\n",
       "      <td>53.0</td>\n",
       "      <td>6.0</td>\n",
       "      <td>51.0</td>\n",
       "      <td>16.0</td>\n",
       "      <td>68.0</td>\n",
       "      <td>1.82</td>\n",
       "      <td>3.42</td>\n",
       "      <td>3.80</td>\n",
       "      <td>1.84</td>\n",
       "      <td>1.90</td>\n",
       "      <td>39</td>\n",
       "      <td>0.0</td>\n",
       "      <td>0.0</td>\n",
       "      <td>1.0</td>\n",
       "      <td>8.0</td>\n",
       "      <td>Fav</td>\n",
       "      <td>with_events</td>\n",
       "      <td>2</td>\n",
       "      <td>1920</td>\n",
       "      <td>25175</td>\n",
       "      <td>Mykolajiv</td>\n",
       "      <td>Ukraine</td>\n",
       "      <td>UA</td>\n",
       "    </tr>\n",
       "  </tbody>\n",
       "</table>\n",
       "</div>"
      ],
      "text/plain": [
       "   game_id      ligue_header comp_id season_id          game_utc goals ligue  \\\n",
       "0  1458512  Segunda División     707       306  26.03.2021 17:00   0:0   top   \n",
       "1  1458506  Segunda División     707       306  26.03.2021 19:00   1:3   top   \n",
       "2  1459331      First League     435       306  26.03.2021 11:00   2:0   sec   \n",
       "\n",
       "           f_team                s_team  pos_f  pts_f  pos_s  pts_s  max_pos  \\\n",
       "0  Sporting Gijón              Alcorcón    7.0   65.0   17.0   48.0     22.0   \n",
       "1       Castellon              Espanyol   21.0   41.0    1.0   82.0     22.0   \n",
       "2        Mykolaiv  Alians Lypova Dolyna    4.0   53.0    6.0   51.0     16.0   \n",
       "\n",
       "   max_pts     1     X     2  ТМ 2.5  ТБ 2.5 first_g  owngoal  mispen  \\\n",
       "0     82.0  1.95  2.77  4.72    1.33    3.08    None      0.0     0.0   \n",
       "1     82.0  6.06  3.64  1.62    1.61    2.28      13      0.0     0.0   \n",
       "2     68.0  1.82  3.42  3.80    1.84    1.90      39      0.0     0.0   \n",
       "\n",
       "   redcard  ct_cards f_pow         desc  ct_goals founded capacity  \\\n",
       "0      0.0       2.0   Fav  with_events         0    1905    29538   \n",
       "1      1.0       4.0   Pre  with_events         4    1922    14485   \n",
       "2      1.0       8.0   Fav  with_events         2    1920    25175   \n",
       "\n",
       "                    city  country iso_code  \n",
       "0                  Gijon  Spain        NaN  \n",
       "1  Castellon de la Plana  Spain        NaN  \n",
       "2              Mykolajiv  Ukraine       UA  "
      ]
     },
     "execution_count": 20,
     "metadata": {},
     "output_type": "execute_result"
    }
   ],
   "source": [
    "df_for_coords.head(3)"
   ]
  },
  {
   "cell_type": "markdown",
   "metadata": {},
   "source": [
    "#### Check last file version"
   ]
  },
  {
   "cell_type": "code",
   "execution_count": 21,
   "metadata": {},
   "outputs": [],
   "source": [
    "with open('pickle_files/cities_countries/df_uniq_cities_coords_created_16_09_2022', 'rb') as f:\n",
    "    df_uniq_cities_coords = pickle.load(f)"
   ]
  },
  {
   "cell_type": "code",
   "execution_count": 22,
   "metadata": {},
   "outputs": [
    {
     "name": "stdout",
     "output_type": "stream",
     "text": [
      "shape -  8873\n"
     ]
    },
    {
     "data": {
      "text/html": [
       "<div>\n",
       "<style scoped>\n",
       "    .dataframe tbody tr th:only-of-type {\n",
       "        vertical-align: middle;\n",
       "    }\n",
       "\n",
       "    .dataframe tbody tr th {\n",
       "        vertical-align: top;\n",
       "    }\n",
       "\n",
       "    .dataframe thead th {\n",
       "        text-align: right;\n",
       "    }\n",
       "</style>\n",
       "<table border=\"1\" class=\"dataframe\">\n",
       "  <thead>\n",
       "    <tr style=\"text-align: right;\">\n",
       "      <th></th>\n",
       "      <th>city</th>\n",
       "      <th>iso_code</th>\n",
       "      <th>country</th>\n",
       "      <th>longitude</th>\n",
       "      <th>latitude</th>\n",
       "      <th>lat</th>\n",
       "      <th>lon</th>\n",
       "    </tr>\n",
       "  </thead>\n",
       "  <tbody>\n",
       "    <tr>\n",
       "      <th>8870</th>\n",
       "      <td>Meerbeeke</td>\n",
       "      <td>BE</td>\n",
       "      <td>Belgium</td>\n",
       "      <td>4.040278</td>\n",
       "      <td>50.824444</td>\n",
       "      <td>50n49</td>\n",
       "      <td>4e2</td>\n",
       "    </tr>\n",
       "    <tr>\n",
       "      <th>8871</th>\n",
       "      <td>Siheung-si</td>\n",
       "      <td>KR</td>\n",
       "      <td>Korea Republic</td>\n",
       "      <td>126.802887</td>\n",
       "      <td>37.379800</td>\n",
       "      <td>37n22</td>\n",
       "      <td>126e48</td>\n",
       "    </tr>\n",
       "    <tr>\n",
       "      <th>8872</th>\n",
       "      <td>Urozhaynaya</td>\n",
       "      <td>BY</td>\n",
       "      <td>Belarus</td>\n",
       "      <td>26.106700</td>\n",
       "      <td>53.678700</td>\n",
       "      <td>53n40</td>\n",
       "      <td>26e6</td>\n",
       "    </tr>\n",
       "  </tbody>\n",
       "</table>\n",
       "</div>"
      ],
      "text/plain": [
       "             city iso_code         country   longitude   latitude    lat  \\\n",
       "8870    Meerbeeke       BE         Belgium    4.040278  50.824444  50n49   \n",
       "8871   Siheung-si       KR  Korea Republic  126.802887  37.379800  37n22   \n",
       "8872  Urozhaynaya       BY         Belarus   26.106700  53.678700  53n40   \n",
       "\n",
       "         lon  \n",
       "8870     4e2  \n",
       "8871  126e48  \n",
       "8872    26e6  "
      ]
     },
     "execution_count": 22,
     "metadata": {},
     "output_type": "execute_result"
    }
   ],
   "source": [
    "print('shape - ', df_uniq_cities_coords.shape[0])\n",
    "df_uniq_cities_coords.tail(3)"
   ]
  },
  {
   "cell_type": "code",
   "execution_count": 23,
   "metadata": {},
   "outputs": [
    {
     "name": "stdout",
     "output_type": "stream",
     "text": [
      "shape -  403262\n"
     ]
    }
   ],
   "source": [
    "col_names = ['city', 'iso_code', 'country']\n",
    "df_for_coords = df_for_coords.merge(df_uniq_cities_coords, how='left', left_on=col_names, right_on=col_names)\n",
    "print('shape - ', df_for_coords.shape[0])"
   ]
  },
  {
   "cell_type": "code",
   "execution_count": 24,
   "metadata": {},
   "outputs": [
    {
     "data": {
      "text/html": [
       "<div>\n",
       "<style scoped>\n",
       "    .dataframe tbody tr th:only-of-type {\n",
       "        vertical-align: middle;\n",
       "    }\n",
       "\n",
       "    .dataframe tbody tr th {\n",
       "        vertical-align: top;\n",
       "    }\n",
       "\n",
       "    .dataframe thead th {\n",
       "        text-align: right;\n",
       "    }\n",
       "</style>\n",
       "<table border=\"1\" class=\"dataframe\">\n",
       "  <thead>\n",
       "    <tr style=\"text-align: right;\">\n",
       "      <th></th>\n",
       "      <th>game_id</th>\n",
       "      <th>ligue_header</th>\n",
       "      <th>comp_id</th>\n",
       "      <th>season_id</th>\n",
       "      <th>game_utc</th>\n",
       "      <th>goals</th>\n",
       "      <th>ligue</th>\n",
       "      <th>f_team</th>\n",
       "      <th>s_team</th>\n",
       "      <th>pos_f</th>\n",
       "      <th>pts_f</th>\n",
       "      <th>pos_s</th>\n",
       "      <th>pts_s</th>\n",
       "      <th>max_pos</th>\n",
       "      <th>max_pts</th>\n",
       "      <th>1</th>\n",
       "      <th>X</th>\n",
       "      <th>2</th>\n",
       "      <th>ТМ 2.5</th>\n",
       "      <th>ТБ 2.5</th>\n",
       "      <th>first_g</th>\n",
       "      <th>owngoal</th>\n",
       "      <th>mispen</th>\n",
       "      <th>redcard</th>\n",
       "      <th>ct_cards</th>\n",
       "      <th>f_pow</th>\n",
       "      <th>desc</th>\n",
       "      <th>ct_goals</th>\n",
       "      <th>founded</th>\n",
       "      <th>capacity</th>\n",
       "      <th>city</th>\n",
       "      <th>country</th>\n",
       "      <th>iso_code</th>\n",
       "      <th>longitude</th>\n",
       "      <th>latitude</th>\n",
       "      <th>lat</th>\n",
       "      <th>lon</th>\n",
       "    </tr>\n",
       "  </thead>\n",
       "  <tbody>\n",
       "    <tr>\n",
       "      <th>0</th>\n",
       "      <td>1458512</td>\n",
       "      <td>Segunda División</td>\n",
       "      <td>707</td>\n",
       "      <td>306</td>\n",
       "      <td>26.03.2021 17:00</td>\n",
       "      <td>0:0</td>\n",
       "      <td>top</td>\n",
       "      <td>Sporting Gijón</td>\n",
       "      <td>Alcorcón</td>\n",
       "      <td>7.0</td>\n",
       "      <td>65.0</td>\n",
       "      <td>17.0</td>\n",
       "      <td>48.0</td>\n",
       "      <td>22.0</td>\n",
       "      <td>82.0</td>\n",
       "      <td>1.95</td>\n",
       "      <td>2.77</td>\n",
       "      <td>4.72</td>\n",
       "      <td>1.33</td>\n",
       "      <td>3.08</td>\n",
       "      <td>None</td>\n",
       "      <td>0.0</td>\n",
       "      <td>0.0</td>\n",
       "      <td>0.0</td>\n",
       "      <td>2.0</td>\n",
       "      <td>Fav</td>\n",
       "      <td>with_events</td>\n",
       "      <td>0</td>\n",
       "      <td>1905</td>\n",
       "      <td>29538</td>\n",
       "      <td>Gijon</td>\n",
       "      <td>Spain</td>\n",
       "      <td>NaN</td>\n",
       "      <td>NaN</td>\n",
       "      <td>NaN</td>\n",
       "      <td>NaN</td>\n",
       "      <td>NaN</td>\n",
       "    </tr>\n",
       "    <tr>\n",
       "      <th>1</th>\n",
       "      <td>1458506</td>\n",
       "      <td>Segunda División</td>\n",
       "      <td>707</td>\n",
       "      <td>306</td>\n",
       "      <td>26.03.2021 19:00</td>\n",
       "      <td>1:3</td>\n",
       "      <td>top</td>\n",
       "      <td>Castellon</td>\n",
       "      <td>Espanyol</td>\n",
       "      <td>21.0</td>\n",
       "      <td>41.0</td>\n",
       "      <td>1.0</td>\n",
       "      <td>82.0</td>\n",
       "      <td>22.0</td>\n",
       "      <td>82.0</td>\n",
       "      <td>6.06</td>\n",
       "      <td>3.64</td>\n",
       "      <td>1.62</td>\n",
       "      <td>1.61</td>\n",
       "      <td>2.28</td>\n",
       "      <td>13</td>\n",
       "      <td>0.0</td>\n",
       "      <td>0.0</td>\n",
       "      <td>1.0</td>\n",
       "      <td>4.0</td>\n",
       "      <td>Pre</td>\n",
       "      <td>with_events</td>\n",
       "      <td>4</td>\n",
       "      <td>1922</td>\n",
       "      <td>14485</td>\n",
       "      <td>Castellon de la Plana</td>\n",
       "      <td>Spain</td>\n",
       "      <td>NaN</td>\n",
       "      <td>NaN</td>\n",
       "      <td>NaN</td>\n",
       "      <td>NaN</td>\n",
       "      <td>NaN</td>\n",
       "    </tr>\n",
       "    <tr>\n",
       "      <th>2</th>\n",
       "      <td>1459331</td>\n",
       "      <td>First League</td>\n",
       "      <td>435</td>\n",
       "      <td>306</td>\n",
       "      <td>26.03.2021 11:00</td>\n",
       "      <td>2:0</td>\n",
       "      <td>sec</td>\n",
       "      <td>Mykolaiv</td>\n",
       "      <td>Alians Lypova Dolyna</td>\n",
       "      <td>4.0</td>\n",
       "      <td>53.0</td>\n",
       "      <td>6.0</td>\n",
       "      <td>51.0</td>\n",
       "      <td>16.0</td>\n",
       "      <td>68.0</td>\n",
       "      <td>1.82</td>\n",
       "      <td>3.42</td>\n",
       "      <td>3.80</td>\n",
       "      <td>1.84</td>\n",
       "      <td>1.90</td>\n",
       "      <td>39</td>\n",
       "      <td>0.0</td>\n",
       "      <td>0.0</td>\n",
       "      <td>1.0</td>\n",
       "      <td>8.0</td>\n",
       "      <td>Fav</td>\n",
       "      <td>with_events</td>\n",
       "      <td>2</td>\n",
       "      <td>1920</td>\n",
       "      <td>25175</td>\n",
       "      <td>Mykolajiv</td>\n",
       "      <td>Ukraine</td>\n",
       "      <td>UA</td>\n",
       "      <td>NaN</td>\n",
       "      <td>NaN</td>\n",
       "      <td>NaN</td>\n",
       "      <td>NaN</td>\n",
       "    </tr>\n",
       "  </tbody>\n",
       "</table>\n",
       "</div>"
      ],
      "text/plain": [
       "   game_id      ligue_header comp_id season_id          game_utc goals ligue  \\\n",
       "0  1458512  Segunda División     707       306  26.03.2021 17:00   0:0   top   \n",
       "1  1458506  Segunda División     707       306  26.03.2021 19:00   1:3   top   \n",
       "2  1459331      First League     435       306  26.03.2021 11:00   2:0   sec   \n",
       "\n",
       "           f_team                s_team  pos_f  pts_f  pos_s  pts_s  max_pos  \\\n",
       "0  Sporting Gijón              Alcorcón    7.0   65.0   17.0   48.0     22.0   \n",
       "1       Castellon              Espanyol   21.0   41.0    1.0   82.0     22.0   \n",
       "2        Mykolaiv  Alians Lypova Dolyna    4.0   53.0    6.0   51.0     16.0   \n",
       "\n",
       "   max_pts     1     X     2  ТМ 2.5  ТБ 2.5 first_g  owngoal  mispen  \\\n",
       "0     82.0  1.95  2.77  4.72    1.33    3.08    None      0.0     0.0   \n",
       "1     82.0  6.06  3.64  1.62    1.61    2.28      13      0.0     0.0   \n",
       "2     68.0  1.82  3.42  3.80    1.84    1.90      39      0.0     0.0   \n",
       "\n",
       "   redcard  ct_cards f_pow         desc  ct_goals founded capacity  \\\n",
       "0      0.0       2.0   Fav  with_events         0    1905    29538   \n",
       "1      1.0       4.0   Pre  with_events         4    1922    14485   \n",
       "2      1.0       8.0   Fav  with_events         2    1920    25175   \n",
       "\n",
       "                    city  country iso_code  longitude  latitude  lat  lon  \n",
       "0                  Gijon  Spain        NaN        NaN       NaN  NaN  NaN  \n",
       "1  Castellon de la Plana  Spain        NaN        NaN       NaN  NaN  NaN  \n",
       "2              Mykolajiv  Ukraine       UA        NaN       NaN  NaN  NaN  "
      ]
     },
     "execution_count": 24,
     "metadata": {},
     "output_type": "execute_result"
    }
   ],
   "source": [
    "df_for_coords.head(3)"
   ]
  },
  {
   "cell_type": "code",
   "execution_count": 25,
   "metadata": {},
   "outputs": [
    {
     "name": "stdout",
     "output_type": "stream",
     "text": [
      "shape -  403262\n",
      "shape -  201427\n"
     ]
    }
   ],
   "source": [
    "print('shape - ', df_for_coords.shape[0])\n",
    "df_include_coords = df_for_coords[~df_for_coords.longitude.isna()].copy().reset_index(drop=True)\n",
    "print('shape - ', df_include_coords.shape[0])"
   ]
  },
  {
   "cell_type": "code",
   "execution_count": 26,
   "metadata": {},
   "outputs": [
    {
     "name": "stdout",
     "output_type": "stream",
     "text": [
      "shape -  (201835, 37)\n"
     ]
    }
   ],
   "source": [
    "df_wt_coords = df_for_coords[df_for_coords.longitude.isna()].copy().reset_index(drop=True)\n",
    "print('shape - ', df_wt_coords.shape)"
   ]
  },
  {
   "cell_type": "code",
   "execution_count": 27,
   "metadata": {},
   "outputs": [
    {
     "name": "stdout",
     "output_type": "stream",
     "text": [
      "shape -  (1331, 3)\n"
     ]
    },
    {
     "data": {
      "text/html": [
       "<div>\n",
       "<style scoped>\n",
       "    .dataframe tbody tr th:only-of-type {\n",
       "        vertical-align: middle;\n",
       "    }\n",
       "\n",
       "    .dataframe tbody tr th {\n",
       "        vertical-align: top;\n",
       "    }\n",
       "\n",
       "    .dataframe thead th {\n",
       "        text-align: right;\n",
       "    }\n",
       "</style>\n",
       "<table border=\"1\" class=\"dataframe\">\n",
       "  <thead>\n",
       "    <tr style=\"text-align: right;\">\n",
       "      <th></th>\n",
       "      <th>city</th>\n",
       "      <th>iso_code</th>\n",
       "      <th>country</th>\n",
       "    </tr>\n",
       "  </thead>\n",
       "  <tbody>\n",
       "    <tr>\n",
       "      <th>0</th>\n",
       "      <td>Fuente de Cantos</td>\n",
       "      <td>ES</td>\n",
       "      <td>Spain</td>\n",
       "    </tr>\n",
       "    <tr>\n",
       "      <th>1</th>\n",
       "      <td>'Akko</td>\n",
       "      <td>IL</td>\n",
       "      <td>Israel</td>\n",
       "    </tr>\n",
       "    <tr>\n",
       "      <th>2</th>\n",
       "      <td>Aba</td>\n",
       "      <td>NG</td>\n",
       "      <td>Nigeria</td>\n",
       "    </tr>\n",
       "  </tbody>\n",
       "</table>\n",
       "</div>"
      ],
      "text/plain": [
       "                   city iso_code  country\n",
       "0      Fuente de Cantos       ES    Spain\n",
       "1                 'Akko       IL   Israel\n",
       "2                   Aba       NG  Nigeria"
      ]
     },
     "execution_count": 27,
     "metadata": {},
     "output_type": "execute_result"
    }
   ],
   "source": [
    "df_uniq_city_wt_coords = df_wt_coords[['country', 'city', 'iso_code']].groupby(by=['city', 'iso_code']).first().reset_index()\n",
    "print('shape - ', df_uniq_city_wt_coords.shape)\n",
    "df_uniq_city_wt_coords.head(3)"
   ]
  },
  {
   "cell_type": "code",
   "execution_count": 28,
   "metadata": {},
   "outputs": [
    {
     "data": {
      "text/html": [
       "<div>\n",
       "<style scoped>\n",
       "    .dataframe tbody tr th:only-of-type {\n",
       "        vertical-align: middle;\n",
       "    }\n",
       "\n",
       "    .dataframe tbody tr th {\n",
       "        vertical-align: top;\n",
       "    }\n",
       "\n",
       "    .dataframe thead th {\n",
       "        text-align: right;\n",
       "    }\n",
       "</style>\n",
       "<table border=\"1\" class=\"dataframe\">\n",
       "  <thead>\n",
       "    <tr style=\"text-align: right;\">\n",
       "      <th></th>\n",
       "      <th>city</th>\n",
       "      <th>iso_code</th>\n",
       "      <th>country</th>\n",
       "    </tr>\n",
       "  </thead>\n",
       "  <tbody>\n",
       "  </tbody>\n",
       "</table>\n",
       "</div>"
      ],
      "text/plain": [
       "Empty DataFrame\n",
       "Columns: [city, iso_code, country]\n",
       "Index: []"
      ]
     },
     "execution_count": 28,
     "metadata": {},
     "output_type": "execute_result"
    }
   ],
   "source": [
    "df_uniq_city_wt_coords[df_uniq_city_wt_coords.duplicated(subset=['city', 'iso_code'])]"
   ]
  },
  {
   "cell_type": "code",
   "execution_count": null,
   "metadata": {},
   "outputs": [],
   "source": [
    "# 2 Stop *****************************************************"
   ]
  },
  {
   "cell_type": "markdown",
   "metadata": {},
   "source": [
    "#### Get first geo coordinates from CityCoordinator()"
   ]
  },
  {
   "cell_type": "code",
   "execution_count": 29,
   "metadata": {},
   "outputs": [],
   "source": [
    "# labrary example\n",
    "c = CityCoordinator()\n",
    "# c.get_city(city_name=\"London\", country_code_iso=\"GB\")"
   ]
  },
  {
   "cell_type": "code",
   "execution_count": 31,
   "metadata": {},
   "outputs": [],
   "source": [
    "# df_uniq_city_wt_coords.iso_code.value_counts(dropna=False)"
   ]
  },
  {
   "cell_type": "markdown",
   "metadata": {},
   "source": [
    "#### If 'df_uniq_city_wt_coords' is empty go to 'Lat_lon' section"
   ]
  },
  {
   "cell_type": "code",
   "execution_count": 32,
   "metadata": {},
   "outputs": [],
   "source": [
    "df_for_loc = df_uniq_city_wt_coords[['city', 'iso_code']].apply(lambda x: c.get_city(city_name=x[0], country_code_iso=x[1]), axis=1)"
   ]
  },
  {
   "cell_type": "code",
   "execution_count": null,
   "metadata": {},
   "outputs": [],
   "source": [
    "# df_for_loc"
   ]
  },
  {
   "cell_type": "code",
   "execution_count": 33,
   "metadata": {},
   "outputs": [],
   "source": [
    "location  = [x['location'] if x != None else None for x in df_for_loc]\n",
    "longitude = [x['lon'] if x != None else None for x in location]\n",
    "latitude  = [x['lat'] if x != None else None for x in location]"
   ]
  },
  {
   "cell_type": "code",
   "execution_count": 34,
   "metadata": {},
   "outputs": [],
   "source": [
    "df_uniq_city_wt_coords['longitude'] = longitude\n",
    "df_uniq_city_wt_coords['latitude']  = latitude"
   ]
  },
  {
   "cell_type": "code",
   "execution_count": 35,
   "metadata": {},
   "outputs": [
    {
     "name": "stdout",
     "output_type": "stream",
     "text": [
      "shape -  1331\n"
     ]
    },
    {
     "data": {
      "text/html": [
       "<div>\n",
       "<style scoped>\n",
       "    .dataframe tbody tr th:only-of-type {\n",
       "        vertical-align: middle;\n",
       "    }\n",
       "\n",
       "    .dataframe tbody tr th {\n",
       "        vertical-align: top;\n",
       "    }\n",
       "\n",
       "    .dataframe thead th {\n",
       "        text-align: right;\n",
       "    }\n",
       "</style>\n",
       "<table border=\"1\" class=\"dataframe\">\n",
       "  <thead>\n",
       "    <tr style=\"text-align: right;\">\n",
       "      <th></th>\n",
       "      <th>city</th>\n",
       "      <th>iso_code</th>\n",
       "      <th>country</th>\n",
       "      <th>longitude</th>\n",
       "      <th>latitude</th>\n",
       "    </tr>\n",
       "  </thead>\n",
       "  <tbody>\n",
       "    <tr>\n",
       "      <th>0</th>\n",
       "      <td>Fuente de Cantos</td>\n",
       "      <td>ES</td>\n",
       "      <td>Spain</td>\n",
       "      <td>None</td>\n",
       "      <td>None</td>\n",
       "    </tr>\n",
       "    <tr>\n",
       "      <th>1</th>\n",
       "      <td>'Akko</td>\n",
       "      <td>IL</td>\n",
       "      <td>Israel</td>\n",
       "      <td>None</td>\n",
       "      <td>None</td>\n",
       "    </tr>\n",
       "    <tr>\n",
       "      <th>2</th>\n",
       "      <td>Aba</td>\n",
       "      <td>NG</td>\n",
       "      <td>Nigeria</td>\n",
       "      <td>7.36667</td>\n",
       "      <td>5.10658</td>\n",
       "    </tr>\n",
       "  </tbody>\n",
       "</table>\n",
       "</div>"
      ],
      "text/plain": [
       "                   city iso_code  country longitude latitude\n",
       "0      Fuente de Cantos       ES    Spain      None     None\n",
       "1                 'Akko       IL   Israel      None     None\n",
       "2                   Aba       NG  Nigeria   7.36667  5.10658"
      ]
     },
     "execution_count": 35,
     "metadata": {},
     "output_type": "execute_result"
    }
   ],
   "source": [
    "print('shape - ', df_uniq_city_wt_coords.shape[0])\n",
    "df_uniq_city_wt_coords.head(3)"
   ]
  },
  {
   "cell_type": "code",
   "execution_count": 36,
   "metadata": {},
   "outputs": [
    {
     "name": "stdout",
     "output_type": "stream",
     "text": [
      "shape -  353\n"
     ]
    }
   ],
   "source": [
    "df_uniq_city_new = df_uniq_city_wt_coords[~df_uniq_city_wt_coords.longitude.isna()].copy().reset_index(drop=True)\n",
    "print('shape - ', df_uniq_city_new.shape[0])"
   ]
  },
  {
   "cell_type": "code",
   "execution_count": 37,
   "metadata": {},
   "outputs": [
    {
     "name": "stdout",
     "output_type": "stream",
     "text": [
      "shape -  978\n"
     ]
    }
   ],
   "source": [
    "df_city_for_geolocator = df_uniq_city_wt_coords[df_uniq_city_wt_coords.longitude.isna()].copy().reset_index(drop=True)\n",
    "print('shape - ', df_city_for_geolocator.shape[0])"
   ]
  },
  {
   "cell_type": "code",
   "execution_count": 38,
   "metadata": {},
   "outputs": [
    {
     "data": {
      "text/html": [
       "<div>\n",
       "<style scoped>\n",
       "    .dataframe tbody tr th:only-of-type {\n",
       "        vertical-align: middle;\n",
       "    }\n",
       "\n",
       "    .dataframe tbody tr th {\n",
       "        vertical-align: top;\n",
       "    }\n",
       "\n",
       "    .dataframe thead th {\n",
       "        text-align: right;\n",
       "    }\n",
       "</style>\n",
       "<table border=\"1\" class=\"dataframe\">\n",
       "  <thead>\n",
       "    <tr style=\"text-align: right;\">\n",
       "      <th></th>\n",
       "      <th>city</th>\n",
       "      <th>iso_code</th>\n",
       "      <th>country</th>\n",
       "      <th>longitude</th>\n",
       "      <th>latitude</th>\n",
       "    </tr>\n",
       "  </thead>\n",
       "  <tbody>\n",
       "    <tr>\n",
       "      <th>0</th>\n",
       "      <td>Fuente de Cantos</td>\n",
       "      <td>ES</td>\n",
       "      <td>Spain</td>\n",
       "      <td>None</td>\n",
       "      <td>None</td>\n",
       "    </tr>\n",
       "    <tr>\n",
       "      <th>1</th>\n",
       "      <td>'Akko</td>\n",
       "      <td>IL</td>\n",
       "      <td>Israel</td>\n",
       "      <td>None</td>\n",
       "      <td>None</td>\n",
       "    </tr>\n",
       "    <tr>\n",
       "      <th>2</th>\n",
       "      <td>Ababa</td>\n",
       "      <td>ET</td>\n",
       "      <td>Ethiopia</td>\n",
       "      <td>None</td>\n",
       "      <td>None</td>\n",
       "    </tr>\n",
       "  </tbody>\n",
       "</table>\n",
       "</div>"
      ],
      "text/plain": [
       "                   city iso_code   country longitude latitude\n",
       "0      Fuente de Cantos       ES     Spain      None     None\n",
       "1                 'Akko       IL    Israel      None     None\n",
       "2                 Ababa       ET  Ethiopia      None     None"
      ]
     },
     "execution_count": 38,
     "metadata": {},
     "output_type": "execute_result"
    }
   ],
   "source": [
    "df_city_for_geolocator.head(3)"
   ]
  },
  {
   "cell_type": "code",
   "execution_count": 39,
   "metadata": {},
   "outputs": [],
   "source": [
    "cities_countries = list(df_city_for_geolocator[['city', 'country']].apply(lambda x: (x[0], x[1]), axis=1))"
   ]
  },
  {
   "cell_type": "code",
   "execution_count": 40,
   "metadata": {},
   "outputs": [
    {
     "data": {
      "text/plain": [
       "[('Žytkavičy', 'Belarus'),\n",
       " ('ʿAmmān (Amman)', 'Jordan'),\n",
       " ('ẓabī', 'United Arab Emirates')]"
      ]
     },
     "execution_count": 40,
     "metadata": {},
     "output_type": "execute_result"
    }
   ],
   "source": [
    "cities_countries[-3:]"
   ]
  },
  {
   "cell_type": "code",
   "execution_count": null,
   "metadata": {},
   "outputs": [],
   "source": [
    "# 2 Stop ************************************************************"
   ]
  },
  {
   "cell_type": "markdown",
   "metadata": {},
   "source": [
    "#### Parsing coords from geolocator"
   ]
  },
  {
   "cell_type": "markdown",
   "metadata": {},
   "source": [
    "#### Fix errors in the cities or countries names during parsing:\n",
    "##### GeocoderUnavailable: Max retries exceeded with url: /search?q=the+city+Odense%2CDenmark"
   ]
  },
  {
   "cell_type": "code",
   "execution_count": 92,
   "metadata": {},
   "outputs": [
    {
     "name": "stdout",
     "output_type": "stream",
     "text": [
      "Cities_data_saved 500 - ('ẓabī', 'United Arab Emirates')\n",
      "All cities data saved with last names: ('ẓabī', 'United Arab Emirates')\n"
     ]
    }
   ],
   "source": [
    "HtmlParser.cities_data_with_geocoordinates(cities_countries[501:], name_saved_file='cities_data_21_10_2022_all')\n",
    "# All cities data saved with last names: ('Žižkov', 'Czech Republic')"
   ]
  },
  {
   "cell_type": "markdown",
   "metadata": {},
   "source": [
    "#### For fix errors values if it exist"
   ]
  },
  {
   "cell_type": "code",
   "execution_count": 94,
   "metadata": {},
   "outputs": [],
   "source": [
    "# len(cities_countries)"
   ]
  },
  {
   "cell_type": "code",
   "execution_count": 93,
   "metadata": {},
   "outputs": [],
   "source": [
    "# cities_countries[500]"
   ]
  },
  {
   "cell_type": "code",
   "execution_count": 96,
   "metadata": {},
   "outputs": [],
   "source": [
    "# for i, city in enumerate(cities_countries):\n",
    "#     if 'Chi Minh' in str(city[0]):\n",
    "#         print(i, city)"
   ]
  },
  {
   "cell_type": "code",
   "execution_count": 95,
   "metadata": {},
   "outputs": [],
   "source": [
    "# cities_countries[833] = ('Ho Chi Minh', 'Vietnam')"
   ]
  },
  {
   "cell_type": "markdown",
   "metadata": {},
   "source": [
    "##### *******"
   ]
  },
  {
   "cell_type": "code",
   "execution_count": 98,
   "metadata": {},
   "outputs": [],
   "source": [
    "## If parser save data in one file start this open file code and don't use remainder_data.\n",
    "with open('pickle_files/cities_countries/cities_data_21_10_2022/cities_data_21_10_2022_all_Maijdi_Bangladesh', 'rb') as f:\n",
    "    cities_data_1 = pickle.load(f)\n",
    "with open('pickle_files/cities_countries/cities_data_21_10_2022/cities_data_21_10_2022_all_ẓabī_United Arab Emirates', 'rb') as f:\n",
    "    cities_data_2 = pickle.load(f)     "
   ]
  },
  {
   "cell_type": "code",
   "execution_count": 100,
   "metadata": {},
   "outputs": [
    {
     "data": {
      "text/plain": [
       "978"
      ]
     },
     "execution_count": 100,
     "metadata": {},
     "output_type": "execute_result"
    }
   ],
   "source": [
    "cities_data = cities_data_1 + cities_data_2\n",
    "len(cities_data)"
   ]
  },
  {
   "cell_type": "code",
   "execution_count": 103,
   "metadata": {},
   "outputs": [],
   "source": [
    "# cities_data"
   ]
  },
  {
   "cell_type": "code",
   "execution_count": 101,
   "metadata": {},
   "outputs": [
    {
     "data": {
      "text/plain": [
       "978"
      ]
     },
     "execution_count": 101,
     "metadata": {},
     "output_type": "execute_result"
    }
   ],
   "source": [
    "len(cities_countries)"
   ]
  },
  {
   "cell_type": "markdown",
   "metadata": {},
   "source": [
    "#### Remainder_data. This code needs to start until len(remainder_data) == 0, if haven't errors"
   ]
  },
  {
   "cell_type": "code",
   "execution_count": null,
   "metadata": {},
   "outputs": [],
   "source": [
    "# path = 'pickle_files/cities_countries/cities_data_26_03_2021/'\n",
    "# all_cities_data = []\n",
    "\n",
    "# for file in os.listdir(path):\n",
    "#     if file.startswith('cities_data'):\n",
    "#         with open(path + file, 'rb') as f:\n",
    "#             cities_data = pickle.load(f)\n",
    "#             all_cities_data = all_cities_data + cities_data"
   ]
  },
  {
   "cell_type": "code",
   "execution_count": null,
   "metadata": {},
   "outputs": [],
   "source": [
    "# all_cities_data = cities_data "
   ]
  },
  {
   "cell_type": "code",
   "execution_count": null,
   "metadata": {},
   "outputs": [],
   "source": [
    "# len(all_cities_data)"
   ]
  },
  {
   "cell_type": "code",
   "execution_count": null,
   "metadata": {},
   "outputs": [],
   "source": [
    "# all_unique_data = []\n",
    "\n",
    "# for city_data in all_cities_data:\n",
    "#     if city_data not in all_unique_data:\n",
    "#         all_unique_data.append(city_data)\n",
    "\n",
    "# len(all_unique_data)        "
   ]
  },
  {
   "cell_type": "code",
   "execution_count": null,
   "metadata": {},
   "outputs": [],
   "source": [
    "# remainder_data = cities_countries.copy()\n",
    "\n",
    "# for city_data in all_unique_data:\n",
    "#     remainder_data.remove(city_data[0])\n",
    "    \n",
    "# len(remainder_data)    "
   ]
  },
  {
   "cell_type": "code",
   "execution_count": null,
   "metadata": {},
   "outputs": [],
   "source": [
    "# remainder_data"
   ]
  },
  {
   "cell_type": "code",
   "execution_count": null,
   "metadata": {},
   "outputs": [],
   "source": [
    "# HtmlParser.cities_data_with_geocoordinates(remainder_data, name_saved_file='cities_data_26_03_2021')"
   ]
  },
  {
   "cell_type": "code",
   "execution_count": null,
   "metadata": {},
   "outputs": [],
   "source": [
    "# cities_data = all_unique_data.copy()"
   ]
  },
  {
   "cell_type": "markdown",
   "metadata": {},
   "source": [
    "##### End reminder data ******************************************************"
   ]
  },
  {
   "cell_type": "markdown",
   "metadata": {},
   "source": [
    "##### Add error parser city's name data deleted beefore if need"
   ]
  },
  {
   "cell_type": "code",
   "execution_count": null,
   "metadata": {},
   "outputs": [],
   "source": [
    "# all_unique_data.insert(-1, [('Ciudad de Florida', 'Uruguay'), None])"
   ]
  },
  {
   "cell_type": "code",
   "execution_count": 105,
   "metadata": {},
   "outputs": [
    {
     "data": {
      "text/plain": [
       "978"
      ]
     },
     "execution_count": 105,
     "metadata": {},
     "output_type": "execute_result"
    }
   ],
   "source": [
    "len(cities_data)"
   ]
  },
  {
   "cell_type": "code",
   "execution_count": 104,
   "metadata": {},
   "outputs": [
    {
     "data": {
      "text/plain": [
       "[[('ʿAmmān (Amman)', 'Jordan'),\n",
       "  Location(عمان, ناحية عمان, لواء قصبة عمان, عمان, 11110, الأردن, (31.9515694, 35.9239625, 0.0))],\n",
       " [('ẓabī', 'United Arab Emirates'),\n",
       "  Location(أبو ظبي, أبوظبي, أبو ظبي, الإمارات العربية المتحدة, (24.4538352, 54.3774014, 0.0))]]"
      ]
     },
     "execution_count": 104,
     "metadata": {},
     "output_type": "execute_result"
    }
   ],
   "source": [
    "cities_data[-2:]"
   ]
  },
  {
   "cell_type": "code",
   "execution_count": 106,
   "metadata": {},
   "outputs": [],
   "source": [
    "list_cities, list_countries, list_data = [], [], []\n",
    "\n",
    "for data in cities_data:\n",
    "    list_cities.append(data[0][0])\n",
    "    list_countries.append(data[0][1])\n",
    "    if data[1] != None:\n",
    "        list_data.append([data[1].latitude, data[1].longitude])\n",
    "    else:\n",
    "        list_data.append([None, None])"
   ]
  },
  {
   "cell_type": "code",
   "execution_count": 107,
   "metadata": {},
   "outputs": [],
   "source": [
    "list_lat = [x[0] for x in list_data]\n",
    "list_lon = [x[1] for x in list_data]"
   ]
  },
  {
   "cell_type": "code",
   "execution_count": 108,
   "metadata": {},
   "outputs": [],
   "source": [
    "df_coord_parsing = pd.DataFrame({'city':list_cities, 'country':list_countries, 'latitude':list_lat, 'longitude':list_lon})"
   ]
  },
  {
   "cell_type": "code",
   "execution_count": null,
   "metadata": {},
   "outputs": [],
   "source": [
    "## 'Colinas-TO' error name \n",
    "# df_coord_parsing.head(50)"
   ]
  },
  {
   "cell_type": "code",
   "execution_count": null,
   "metadata": {},
   "outputs": [],
   "source": [
    "# 3 Stop *********************************************************"
   ]
  },
  {
   "cell_type": "markdown",
   "metadata": {},
   "source": [
    "### Remove coordinates from errors cities names"
   ]
  },
  {
   "cell_type": "code",
   "execution_count": 114,
   "metadata": {},
   "outputs": [
    {
     "data": {
      "text/html": [
       "<div>\n",
       "<style scoped>\n",
       "    .dataframe tbody tr th:only-of-type {\n",
       "        vertical-align: middle;\n",
       "    }\n",
       "\n",
       "    .dataframe tbody tr th {\n",
       "        vertical-align: top;\n",
       "    }\n",
       "\n",
       "    .dataframe thead th {\n",
       "        text-align: right;\n",
       "    }\n",
       "</style>\n",
       "<table border=\"1\" class=\"dataframe\">\n",
       "  <thead>\n",
       "    <tr style=\"text-align: right;\">\n",
       "      <th></th>\n",
       "      <th>city</th>\n",
       "      <th>country</th>\n",
       "      <th>latitude</th>\n",
       "      <th>longitude</th>\n",
       "    </tr>\n",
       "  </thead>\n",
       "  <tbody>\n",
       "    <tr>\n",
       "      <th>0</th>\n",
       "      <td>Fuente de Cantos</td>\n",
       "      <td>Spain</td>\n",
       "      <td>38.246138</td>\n",
       "      <td>-6.307427</td>\n",
       "    </tr>\n",
       "    <tr>\n",
       "      <th>1</th>\n",
       "      <td>'Akko</td>\n",
       "      <td>Israel</td>\n",
       "      <td>32.928173</td>\n",
       "      <td>35.075638</td>\n",
       "    </tr>\n",
       "    <tr>\n",
       "      <th>2</th>\n",
       "      <td>Ababa</td>\n",
       "      <td>Ethiopia</td>\n",
       "      <td>9.000000</td>\n",
       "      <td>38.750000</td>\n",
       "    </tr>\n",
       "    <tr>\n",
       "      <th>3</th>\n",
       "      <td>Abbès</td>\n",
       "      <td>Algeria</td>\n",
       "      <td>29.083202</td>\n",
       "      <td>-2.659006</td>\n",
       "    </tr>\n",
       "    <tr>\n",
       "      <th>4</th>\n",
       "      <td>Acarigua-Araure</td>\n",
       "      <td>Venezuela</td>\n",
       "      <td>9.563843</td>\n",
       "      <td>-69.210239</td>\n",
       "    </tr>\n",
       "    <tr>\n",
       "      <th>...</th>\n",
       "      <td>...</td>\n",
       "      <td>...</td>\n",
       "      <td>...</td>\n",
       "      <td>...</td>\n",
       "    </tr>\n",
       "    <tr>\n",
       "      <th>973</th>\n",
       "      <td>Žabokreky</td>\n",
       "      <td>Slovakia</td>\n",
       "      <td>49.026601</td>\n",
       "      <td>18.919772</td>\n",
       "    </tr>\n",
       "    <tr>\n",
       "      <th>974</th>\n",
       "      <td>Ždírec nad Doubravou</td>\n",
       "      <td>Czech Republic</td>\n",
       "      <td>49.695957</td>\n",
       "      <td>15.813602</td>\n",
       "    </tr>\n",
       "    <tr>\n",
       "      <th>975</th>\n",
       "      <td>Žytkavičy</td>\n",
       "      <td>Belarus</td>\n",
       "      <td>52.219050</td>\n",
       "      <td>27.857120</td>\n",
       "    </tr>\n",
       "    <tr>\n",
       "      <th>976</th>\n",
       "      <td>ʿAmmān (Amman)</td>\n",
       "      <td>Jordan</td>\n",
       "      <td>31.951569</td>\n",
       "      <td>35.923963</td>\n",
       "    </tr>\n",
       "    <tr>\n",
       "      <th>977</th>\n",
       "      <td>ẓabī</td>\n",
       "      <td>United Arab Emirates</td>\n",
       "      <td>24.453835</td>\n",
       "      <td>54.377401</td>\n",
       "    </tr>\n",
       "  </tbody>\n",
       "</table>\n",
       "<p>978 rows × 4 columns</p>\n",
       "</div>"
      ],
      "text/plain": [
       "                     city               country   latitude  longitude\n",
       "0        Fuente de Cantos                 Spain  38.246138  -6.307427\n",
       "1                   'Akko                Israel  32.928173  35.075638\n",
       "2                   Ababa              Ethiopia   9.000000  38.750000\n",
       "3                   Abbès               Algeria  29.083202  -2.659006\n",
       "4         Acarigua-Araure             Venezuela   9.563843 -69.210239\n",
       "..                    ...                   ...        ...        ...\n",
       "973             Žabokreky              Slovakia  49.026601  18.919772\n",
       "974  Ždírec nad Doubravou        Czech Republic  49.695957  15.813602\n",
       "975             Žytkavičy               Belarus  52.219050  27.857120\n",
       "976        ʿAmmān (Amman)                Jordan  31.951569  35.923963\n",
       "977                  ẓabī  United Arab Emirates  24.453835  54.377401\n",
       "\n",
       "[978 rows x 4 columns]"
      ]
     },
     "execution_count": 114,
     "metadata": {},
     "output_type": "execute_result"
    }
   ],
   "source": [
    "df_coord_parsing"
   ]
  },
  {
   "cell_type": "code",
   "execution_count": 109,
   "metadata": {},
   "outputs": [
    {
     "data": {
      "text/plain": [
       "city            Achnas\n",
       "country         Cyprus\n",
       "latitude     35.055549\n",
       "longitude    33.814098\n",
       "Name: 7, dtype: object"
      ]
     },
     "execution_count": 109,
     "metadata": {},
     "output_type": "execute_result"
    }
   ],
   "source": [
    "df_coord_parsing.loc[7]"
   ]
  },
  {
   "cell_type": "code",
   "execution_count": null,
   "metadata": {},
   "outputs": [],
   "source": [
    "# error_inds = [7]\n",
    "# df_coord_parsing.latitude.loc[error_inds, ]  = None\n",
    "# df_coord_parsing.longitude.loc[error_inds, ] = None"
   ]
  },
  {
   "cell_type": "markdown",
   "metadata": {},
   "source": [
    "##### Check columns beefore merge. Column 'iso_code' - it's ok  *******"
   ]
  },
  {
   "cell_type": "code",
   "execution_count": 115,
   "metadata": {},
   "outputs": [
    {
     "data": {
      "text/html": [
       "<div>\n",
       "<style scoped>\n",
       "    .dataframe tbody tr th:only-of-type {\n",
       "        vertical-align: middle;\n",
       "    }\n",
       "\n",
       "    .dataframe tbody tr th {\n",
       "        vertical-align: top;\n",
       "    }\n",
       "\n",
       "    .dataframe thead th {\n",
       "        text-align: right;\n",
       "    }\n",
       "</style>\n",
       "<table border=\"1\" class=\"dataframe\">\n",
       "  <thead>\n",
       "    <tr style=\"text-align: right;\">\n",
       "      <th></th>\n",
       "      <th>city</th>\n",
       "      <th>iso_code</th>\n",
       "      <th>country</th>\n",
       "      <th>longitude</th>\n",
       "      <th>latitude</th>\n",
       "    </tr>\n",
       "  </thead>\n",
       "  <tbody>\n",
       "    <tr>\n",
       "      <th>0</th>\n",
       "      <td>Fuente de Cantos</td>\n",
       "      <td>ES</td>\n",
       "      <td>Spain</td>\n",
       "      <td>None</td>\n",
       "      <td>None</td>\n",
       "    </tr>\n",
       "    <tr>\n",
       "      <th>1</th>\n",
       "      <td>'Akko</td>\n",
       "      <td>IL</td>\n",
       "      <td>Israel</td>\n",
       "      <td>None</td>\n",
       "      <td>None</td>\n",
       "    </tr>\n",
       "    <tr>\n",
       "      <th>2</th>\n",
       "      <td>Ababa</td>\n",
       "      <td>ET</td>\n",
       "      <td>Ethiopia</td>\n",
       "      <td>None</td>\n",
       "      <td>None</td>\n",
       "    </tr>\n",
       "    <tr>\n",
       "      <th>3</th>\n",
       "      <td>Abbès</td>\n",
       "      <td>DZ</td>\n",
       "      <td>Algeria</td>\n",
       "      <td>None</td>\n",
       "      <td>None</td>\n",
       "    </tr>\n",
       "    <tr>\n",
       "      <th>4</th>\n",
       "      <td>Acarigua-Araure</td>\n",
       "      <td>VE</td>\n",
       "      <td>Venezuela</td>\n",
       "      <td>None</td>\n",
       "      <td>None</td>\n",
       "    </tr>\n",
       "    <tr>\n",
       "      <th>...</th>\n",
       "      <td>...</td>\n",
       "      <td>...</td>\n",
       "      <td>...</td>\n",
       "      <td>...</td>\n",
       "      <td>...</td>\n",
       "    </tr>\n",
       "    <tr>\n",
       "      <th>973</th>\n",
       "      <td>Žabokreky</td>\n",
       "      <td>SK</td>\n",
       "      <td>Slovakia</td>\n",
       "      <td>None</td>\n",
       "      <td>None</td>\n",
       "    </tr>\n",
       "    <tr>\n",
       "      <th>974</th>\n",
       "      <td>Ždírec nad Doubravou</td>\n",
       "      <td>CZ</td>\n",
       "      <td>Czech Republic</td>\n",
       "      <td>None</td>\n",
       "      <td>None</td>\n",
       "    </tr>\n",
       "    <tr>\n",
       "      <th>975</th>\n",
       "      <td>Žytkavičy</td>\n",
       "      <td>BY</td>\n",
       "      <td>Belarus</td>\n",
       "      <td>None</td>\n",
       "      <td>None</td>\n",
       "    </tr>\n",
       "    <tr>\n",
       "      <th>976</th>\n",
       "      <td>ʿAmmān (Amman)</td>\n",
       "      <td>JO</td>\n",
       "      <td>Jordan</td>\n",
       "      <td>None</td>\n",
       "      <td>None</td>\n",
       "    </tr>\n",
       "    <tr>\n",
       "      <th>977</th>\n",
       "      <td>ẓabī</td>\n",
       "      <td>AE</td>\n",
       "      <td>United Arab Emirates</td>\n",
       "      <td>None</td>\n",
       "      <td>None</td>\n",
       "    </tr>\n",
       "  </tbody>\n",
       "</table>\n",
       "<p>978 rows × 5 columns</p>\n",
       "</div>"
      ],
      "text/plain": [
       "                     city iso_code               country longitude latitude\n",
       "0        Fuente de Cantos       ES                 Spain      None     None\n",
       "1                   'Akko       IL                Israel      None     None\n",
       "2                   Ababa       ET              Ethiopia      None     None\n",
       "3                   Abbès       DZ               Algeria      None     None\n",
       "4         Acarigua-Araure       VE             Venezuela      None     None\n",
       "..                    ...      ...                   ...       ...      ...\n",
       "973             Žabokreky       SK              Slovakia      None     None\n",
       "974  Ždírec nad Doubravou       CZ        Czech Republic      None     None\n",
       "975             Žytkavičy       BY               Belarus      None     None\n",
       "976        ʿAmmān (Amman)       JO                Jordan      None     None\n",
       "977                  ẓabī       AE  United Arab Emirates      None     None\n",
       "\n",
       "[978 rows x 5 columns]"
      ]
     },
     "execution_count": 115,
     "metadata": {},
     "output_type": "execute_result"
    }
   ],
   "source": [
    "df_city_for_geolocator"
   ]
  },
  {
   "cell_type": "code",
   "execution_count": 116,
   "metadata": {},
   "outputs": [
    {
     "name": "stdout",
     "output_type": "stream",
     "text": [
      "shape - df_city_for_geolocator -  978\n",
      "shape - df_coord_parsing       -  978\n"
     ]
    }
   ],
   "source": [
    "print('shape - df_city_for_geolocator - ', df_city_for_geolocator.shape[0])\n",
    "print('shape - df_coord_parsing       - ', df_coord_parsing.shape[0])"
   ]
  },
  {
   "cell_type": "code",
   "execution_count": 117,
   "metadata": {},
   "outputs": [],
   "source": [
    "col_names = ['iso_code', 'city', 'country']\n",
    "df_coord_parsing = df_coord_parsing.merge(df_city_for_geolocator[col_names], how='left', left_on=['city', 'country'], right_on=['city', 'country'])"
   ]
  },
  {
   "cell_type": "code",
   "execution_count": 118,
   "metadata": {},
   "outputs": [
    {
     "name": "stdout",
     "output_type": "stream",
     "text": [
      "shape -  925\n"
     ]
    },
    {
     "data": {
      "text/html": [
       "<div>\n",
       "<style scoped>\n",
       "    .dataframe tbody tr th:only-of-type {\n",
       "        vertical-align: middle;\n",
       "    }\n",
       "\n",
       "    .dataframe tbody tr th {\n",
       "        vertical-align: top;\n",
       "    }\n",
       "\n",
       "    .dataframe thead th {\n",
       "        text-align: right;\n",
       "    }\n",
       "</style>\n",
       "<table border=\"1\" class=\"dataframe\">\n",
       "  <thead>\n",
       "    <tr style=\"text-align: right;\">\n",
       "      <th></th>\n",
       "      <th>city</th>\n",
       "      <th>country</th>\n",
       "      <th>latitude</th>\n",
       "      <th>longitude</th>\n",
       "      <th>iso_code</th>\n",
       "    </tr>\n",
       "  </thead>\n",
       "  <tbody>\n",
       "    <tr>\n",
       "      <th>0</th>\n",
       "      <td>Fuente de Cantos</td>\n",
       "      <td>Spain</td>\n",
       "      <td>38.246138</td>\n",
       "      <td>-6.307427</td>\n",
       "      <td>ES</td>\n",
       "    </tr>\n",
       "    <tr>\n",
       "      <th>1</th>\n",
       "      <td>'Akko</td>\n",
       "      <td>Israel</td>\n",
       "      <td>32.928173</td>\n",
       "      <td>35.075638</td>\n",
       "      <td>IL</td>\n",
       "    </tr>\n",
       "    <tr>\n",
       "      <th>2</th>\n",
       "      <td>Ababa</td>\n",
       "      <td>Ethiopia</td>\n",
       "      <td>9.000000</td>\n",
       "      <td>38.750000</td>\n",
       "      <td>ET</td>\n",
       "    </tr>\n",
       "  </tbody>\n",
       "</table>\n",
       "</div>"
      ],
      "text/plain": [
       "                   city   country   latitude  longitude iso_code\n",
       "0      Fuente de Cantos     Spain  38.246138  -6.307427       ES\n",
       "1                 'Akko    Israel  32.928173  35.075638       IL\n",
       "2                 Ababa  Ethiopia   9.000000  38.750000       ET"
      ]
     },
     "execution_count": 118,
     "metadata": {},
     "output_type": "execute_result"
    }
   ],
   "source": [
    "df_coord_prs = df_coord_parsing[~df_coord_parsing.latitude.isna()].copy()\n",
    "print('shape - ', df_coord_prs.shape[0])\n",
    "df_coord_prs.head(3)"
   ]
  },
  {
   "cell_type": "code",
   "execution_count": 119,
   "metadata": {},
   "outputs": [
    {
     "name": "stdout",
     "output_type": "stream",
     "text": [
      "shape -  1278\n"
     ]
    }
   ],
   "source": [
    "df_uniq_city_new = pd.concat([df_uniq_city_new, df_coord_prs]).reset_index(drop=True)\n",
    "print('shape - ', df_uniq_city_new.shape[0])"
   ]
  },
  {
   "cell_type": "code",
   "execution_count": 120,
   "metadata": {},
   "outputs": [
    {
     "name": "stdout",
     "output_type": "stream",
     "text": [
      "shape -  53\n"
     ]
    }
   ],
   "source": [
    "df_manual_adding = df_coord_parsing[df_coord_parsing.latitude.isna()].copy().reset_index(drop=True)\n",
    "print('shape - ', df_manual_adding.shape[0])"
   ]
  },
  {
   "cell_type": "markdown",
   "metadata": {},
   "source": [
    "#### Format fixing errors in cities names: 'error_name' : 'fixing_name'"
   ]
  },
  {
   "cell_type": "markdown",
   "metadata": {},
   "source": [
    "##### If 'df_manual_adding' is empty - go to 'Lat_lon' section."
   ]
  },
  {
   "cell_type": "code",
   "execution_count": 122,
   "metadata": {},
   "outputs": [],
   "source": [
    "# df_manual_adding"
   ]
  },
  {
   "cell_type": "markdown",
   "metadata": {},
   "source": [
    "### Manual adding cities coordinates and fixing teams data."
   ]
  },
  {
   "cell_type": "markdown",
   "metadata": {},
   "source": [
    "##### Latitude - North-South, Longitude - East-West **************"
   ]
  },
  {
   "cell_type": "markdown",
   "metadata": {},
   "source": [
    "##### Not exist cities coord add 'latitude', 'longitude' - 'na'"
   ]
  },
  {
   "cell_type": "code",
   "execution_count": null,
   "metadata": {},
   "outputs": [],
   "source": [
    "# 4 Stop *********************************************************************"
   ]
  },
  {
   "cell_type": "code",
   "execution_count": 124,
   "metadata": {},
   "outputs": [],
   "source": [
    "# df_manual_adding.to_csv('csv_files/df_cities_manual_adding_21_10_2022.csv', header=True, index=False)"
   ]
  },
  {
   "cell_type": "markdown",
   "metadata": {},
   "source": [
    "#### Fix errors in working files: df_wt_coords or df_teams_data_main during fix manual file"
   ]
  },
  {
   "cell_type": "code",
   "execution_count": 125,
   "metadata": {},
   "outputs": [
    {
     "name": "stdout",
     "output_type": "stream",
     "text": [
      "shape -  (201835, 37)\n"
     ]
    },
    {
     "data": {
      "text/html": [
       "<div>\n",
       "<style scoped>\n",
       "    .dataframe tbody tr th:only-of-type {\n",
       "        vertical-align: middle;\n",
       "    }\n",
       "\n",
       "    .dataframe tbody tr th {\n",
       "        vertical-align: top;\n",
       "    }\n",
       "\n",
       "    .dataframe thead th {\n",
       "        text-align: right;\n",
       "    }\n",
       "</style>\n",
       "<table border=\"1\" class=\"dataframe\">\n",
       "  <thead>\n",
       "    <tr style=\"text-align: right;\">\n",
       "      <th></th>\n",
       "      <th>game_id</th>\n",
       "      <th>ligue_header</th>\n",
       "      <th>comp_id</th>\n",
       "      <th>season_id</th>\n",
       "      <th>game_utc</th>\n",
       "      <th>goals</th>\n",
       "      <th>ligue</th>\n",
       "      <th>f_team</th>\n",
       "      <th>s_team</th>\n",
       "      <th>pos_f</th>\n",
       "      <th>pts_f</th>\n",
       "      <th>pos_s</th>\n",
       "      <th>pts_s</th>\n",
       "      <th>max_pos</th>\n",
       "      <th>max_pts</th>\n",
       "      <th>1</th>\n",
       "      <th>X</th>\n",
       "      <th>2</th>\n",
       "      <th>ТМ 2.5</th>\n",
       "      <th>ТБ 2.5</th>\n",
       "      <th>first_g</th>\n",
       "      <th>owngoal</th>\n",
       "      <th>mispen</th>\n",
       "      <th>redcard</th>\n",
       "      <th>ct_cards</th>\n",
       "      <th>f_pow</th>\n",
       "      <th>desc</th>\n",
       "      <th>ct_goals</th>\n",
       "      <th>founded</th>\n",
       "      <th>capacity</th>\n",
       "      <th>city</th>\n",
       "      <th>country</th>\n",
       "      <th>iso_code</th>\n",
       "      <th>longitude</th>\n",
       "      <th>latitude</th>\n",
       "      <th>lat</th>\n",
       "      <th>lon</th>\n",
       "    </tr>\n",
       "  </thead>\n",
       "  <tbody>\n",
       "    <tr>\n",
       "      <th>0</th>\n",
       "      <td>1458512</td>\n",
       "      <td>Segunda División</td>\n",
       "      <td>707</td>\n",
       "      <td>306</td>\n",
       "      <td>26.03.2021 17:00</td>\n",
       "      <td>0:0</td>\n",
       "      <td>top</td>\n",
       "      <td>Sporting Gijón</td>\n",
       "      <td>Alcorcón</td>\n",
       "      <td>7.0</td>\n",
       "      <td>65.0</td>\n",
       "      <td>17.0</td>\n",
       "      <td>48.0</td>\n",
       "      <td>22.0</td>\n",
       "      <td>82.0</td>\n",
       "      <td>1.95</td>\n",
       "      <td>2.77</td>\n",
       "      <td>4.72</td>\n",
       "      <td>1.33</td>\n",
       "      <td>3.08</td>\n",
       "      <td>None</td>\n",
       "      <td>0.0</td>\n",
       "      <td>0.0</td>\n",
       "      <td>0.0</td>\n",
       "      <td>2.0</td>\n",
       "      <td>Fav</td>\n",
       "      <td>with_events</td>\n",
       "      <td>0</td>\n",
       "      <td>1905</td>\n",
       "      <td>29538</td>\n",
       "      <td>Gijon</td>\n",
       "      <td>Spain</td>\n",
       "      <td>NaN</td>\n",
       "      <td>NaN</td>\n",
       "      <td>NaN</td>\n",
       "      <td>NaN</td>\n",
       "      <td>NaN</td>\n",
       "    </tr>\n",
       "    <tr>\n",
       "      <th>1</th>\n",
       "      <td>1458506</td>\n",
       "      <td>Segunda División</td>\n",
       "      <td>707</td>\n",
       "      <td>306</td>\n",
       "      <td>26.03.2021 19:00</td>\n",
       "      <td>1:3</td>\n",
       "      <td>top</td>\n",
       "      <td>Castellon</td>\n",
       "      <td>Espanyol</td>\n",
       "      <td>21.0</td>\n",
       "      <td>41.0</td>\n",
       "      <td>1.0</td>\n",
       "      <td>82.0</td>\n",
       "      <td>22.0</td>\n",
       "      <td>82.0</td>\n",
       "      <td>6.06</td>\n",
       "      <td>3.64</td>\n",
       "      <td>1.62</td>\n",
       "      <td>1.61</td>\n",
       "      <td>2.28</td>\n",
       "      <td>13</td>\n",
       "      <td>0.0</td>\n",
       "      <td>0.0</td>\n",
       "      <td>1.0</td>\n",
       "      <td>4.0</td>\n",
       "      <td>Pre</td>\n",
       "      <td>with_events</td>\n",
       "      <td>4</td>\n",
       "      <td>1922</td>\n",
       "      <td>14485</td>\n",
       "      <td>Castellon de la Plana</td>\n",
       "      <td>Spain</td>\n",
       "      <td>NaN</td>\n",
       "      <td>NaN</td>\n",
       "      <td>NaN</td>\n",
       "      <td>NaN</td>\n",
       "      <td>NaN</td>\n",
       "    </tr>\n",
       "    <tr>\n",
       "      <th>2</th>\n",
       "      <td>1459331</td>\n",
       "      <td>First League</td>\n",
       "      <td>435</td>\n",
       "      <td>306</td>\n",
       "      <td>26.03.2021 11:00</td>\n",
       "      <td>2:0</td>\n",
       "      <td>sec</td>\n",
       "      <td>Mykolaiv</td>\n",
       "      <td>Alians Lypova Dolyna</td>\n",
       "      <td>4.0</td>\n",
       "      <td>53.0</td>\n",
       "      <td>6.0</td>\n",
       "      <td>51.0</td>\n",
       "      <td>16.0</td>\n",
       "      <td>68.0</td>\n",
       "      <td>1.82</td>\n",
       "      <td>3.42</td>\n",
       "      <td>3.80</td>\n",
       "      <td>1.84</td>\n",
       "      <td>1.90</td>\n",
       "      <td>39</td>\n",
       "      <td>0.0</td>\n",
       "      <td>0.0</td>\n",
       "      <td>1.0</td>\n",
       "      <td>8.0</td>\n",
       "      <td>Fav</td>\n",
       "      <td>with_events</td>\n",
       "      <td>2</td>\n",
       "      <td>1920</td>\n",
       "      <td>25175</td>\n",
       "      <td>Mykolajiv</td>\n",
       "      <td>Ukraine</td>\n",
       "      <td>UA</td>\n",
       "      <td>NaN</td>\n",
       "      <td>NaN</td>\n",
       "      <td>NaN</td>\n",
       "      <td>NaN</td>\n",
       "    </tr>\n",
       "  </tbody>\n",
       "</table>\n",
       "</div>"
      ],
      "text/plain": [
       "   game_id      ligue_header comp_id season_id          game_utc goals ligue  \\\n",
       "0  1458512  Segunda División     707       306  26.03.2021 17:00   0:0   top   \n",
       "1  1458506  Segunda División     707       306  26.03.2021 19:00   1:3   top   \n",
       "2  1459331      First League     435       306  26.03.2021 11:00   2:0   sec   \n",
       "\n",
       "           f_team                s_team  pos_f  pts_f  pos_s  pts_s  max_pos  \\\n",
       "0  Sporting Gijón              Alcorcón    7.0   65.0   17.0   48.0     22.0   \n",
       "1       Castellon              Espanyol   21.0   41.0    1.0   82.0     22.0   \n",
       "2        Mykolaiv  Alians Lypova Dolyna    4.0   53.0    6.0   51.0     16.0   \n",
       "\n",
       "   max_pts     1     X     2  ТМ 2.5  ТБ 2.5 first_g  owngoal  mispen  \\\n",
       "0     82.0  1.95  2.77  4.72    1.33    3.08    None      0.0     0.0   \n",
       "1     82.0  6.06  3.64  1.62    1.61    2.28      13      0.0     0.0   \n",
       "2     68.0  1.82  3.42  3.80    1.84    1.90      39      0.0     0.0   \n",
       "\n",
       "   redcard  ct_cards f_pow         desc  ct_goals founded capacity  \\\n",
       "0      0.0       2.0   Fav  with_events         0    1905    29538   \n",
       "1      1.0       4.0   Pre  with_events         4    1922    14485   \n",
       "2      1.0       8.0   Fav  with_events         2    1920    25175   \n",
       "\n",
       "                    city  country iso_code  longitude  latitude  lat  lon  \n",
       "0                  Gijon  Spain        NaN        NaN       NaN  NaN  NaN  \n",
       "1  Castellon de la Plana  Spain        NaN        NaN       NaN  NaN  NaN  \n",
       "2              Mykolajiv  Ukraine       UA        NaN       NaN  NaN  NaN  "
      ]
     },
     "execution_count": 125,
     "metadata": {},
     "output_type": "execute_result"
    }
   ],
   "source": [
    "print('shape - ', df_wt_coords.shape)\n",
    "df_wt_coords.head(3)"
   ]
  },
  {
   "cell_type": "code",
   "execution_count": 128,
   "metadata": {},
   "outputs": [],
   "source": [
    "# Fix some citie's errors names - 'the Eerste divisie', and change it in manual adding file.\n",
    "# Errors countries names or if one city name has multiple teams - need to change manual in 'df_wt_coords' file and don't use ':' in manual adding file.\n",
    "# df_wt_coords[df_wt_coords.city == 'Al Khmissat (Khémisset)']\n",
    "# df_wt_coords[df_wt_coords.f_team == 'Sable Batie']"
   ]
  },
  {
   "cell_type": "markdown",
   "metadata": {},
   "source": [
    "##### Change error country name for some cities and after that change country name and iso_code in df_for_manual.csv:"
   ]
  },
  {
   "cell_type": "code",
   "execution_count": null,
   "metadata": {},
   "outputs": [],
   "source": [
    "# df_country_code[df_country_code.iso_code == 'NZ']"
   ]
  },
  {
   "cell_type": "code",
   "execution_count": null,
   "metadata": {},
   "outputs": [],
   "source": [
    "# df_country_code[df_country_code.country == 'Uzbekistan']"
   ]
  },
  {
   "cell_type": "code",
   "execution_count": null,
   "metadata": {},
   "outputs": [],
   "source": [
    "# df_wt_coords.loc[5175:5175, 'city'] #= 'São José dos Campos'"
   ]
  },
  {
   "cell_type": "code",
   "execution_count": null,
   "metadata": {},
   "outputs": [],
   "source": [
    "# df_wt_coords.loc[df_wt_coords[df_wt_coords.city == 'Fakkan'].index, 'country']  = 'United Arab Emirates'\n",
    "# df_wt_coords.loc[df_wt_coords[df_wt_coords.city == 'Fakkan'].index, 'iso_code'] = 'AE'\n",
    "# df_wt_coords.loc[df_wt_coords[(df_wt_coords.f_team == 'Drean')].index, 'city'] #= 'Dréan' #  & (df_wt_coords.country == 'Spain')\n",
    "# df_wt_coords.loc[df_wt_coords[df_wt_coords.f_team == 'CSCA'].index, 'country'] #= 'CSCA'\n",
    "# df_wt_coords.loc[df_wt_coords[df_wt_coords.f_team == 'Lokomotiv Tashkent'].index, 'iso_code'] #= 'UZ'"
   ]
  },
  {
   "cell_type": "code",
   "execution_count": null,
   "metadata": {},
   "outputs": [],
   "source": [
    "# file = open('pickle_files/df_wt_coords_before_manual_add_26_03_2021', 'wb')\n",
    "# pickle.dump(df_wt_coords, file)  \n",
    "# file.close()"
   ]
  },
  {
   "cell_type": "markdown",
   "metadata": {},
   "source": [
    "##### Fix team_data_main file. Check last file's version."
   ]
  },
  {
   "cell_type": "code",
   "execution_count": null,
   "metadata": {},
   "outputs": [],
   "source": [
    "# df_teams_data_main\n",
    "# with open('pickle_files/teams_data/df_tmd_main_created_08_08_2022', 'rb') as f:\n",
    "#     df_teams_data_main = pickle.load(f)"
   ]
  },
  {
   "cell_type": "code",
   "execution_count": null,
   "metadata": {},
   "outputs": [],
   "source": [
    "# df_teams_data_main.shape"
   ]
  },
  {
   "cell_type": "code",
   "execution_count": null,
   "metadata": {},
   "outputs": [],
   "source": [
    "# df_teams_data_main[df_teams_data_main.city == 'Accra']"
   ]
  },
  {
   "cell_type": "code",
   "execution_count": null,
   "metadata": {},
   "outputs": [],
   "source": [
    "# df_teams_data_main.loc[14139].city #= 'Dréan'  "
   ]
  },
  {
   "cell_type": "code",
   "execution_count": null,
   "metadata": {},
   "outputs": [],
   "source": [
    "# df_teams_data_main.drop([12751], inplace=True)\n",
    "# df_teams_data_main.reset_index(drop=True, inplace=True)"
   ]
  },
  {
   "cell_type": "code",
   "execution_count": null,
   "metadata": {},
   "outputs": [],
   "source": [
    "# df_teams_data_main[df_teams_data_main.team == 'Aigle Noir']"
   ]
  },
  {
   "cell_type": "code",
   "execution_count": null,
   "metadata": {},
   "outputs": [],
   "source": [
    "# df_teams_data_main.loc[14059].country #= 'Australia'"
   ]
  },
  {
   "cell_type": "code",
   "execution_count": null,
   "metadata": {},
   "outputs": [],
   "source": [
    "# file = open('pickle_files/df_tmd_main_created_08_08_2022', 'wb')\n",
    "# pickle.dump(df_teams_data_main, file)  \n",
    "# file.close()"
   ]
  },
  {
   "cell_type": "markdown",
   "metadata": {},
   "source": [
    "#### After manual adding"
   ]
  },
  {
   "cell_type": "code",
   "execution_count": 129,
   "metadata": {},
   "outputs": [],
   "source": [
    "df_manual_adding = pd.read_csv('csv_files/df_cities_manual_adding_21_10_2022.csv', dtype=str)"
   ]
  },
  {
   "cell_type": "code",
   "execution_count": 130,
   "metadata": {},
   "outputs": [
    {
     "data": {
      "text/html": [
       "<div>\n",
       "<style scoped>\n",
       "    .dataframe tbody tr th:only-of-type {\n",
       "        vertical-align: middle;\n",
       "    }\n",
       "\n",
       "    .dataframe tbody tr th {\n",
       "        vertical-align: top;\n",
       "    }\n",
       "\n",
       "    .dataframe thead th {\n",
       "        text-align: right;\n",
       "    }\n",
       "</style>\n",
       "<table border=\"1\" class=\"dataframe\">\n",
       "  <thead>\n",
       "    <tr style=\"text-align: right;\">\n",
       "      <th></th>\n",
       "      <th>city</th>\n",
       "      <th>country</th>\n",
       "      <th>latitude</th>\n",
       "      <th>longitude</th>\n",
       "      <th>iso_code</th>\n",
       "    </tr>\n",
       "  </thead>\n",
       "  <tbody>\n",
       "    <tr>\n",
       "      <th>50</th>\n",
       "      <td>Zubin Potok</td>\n",
       "      <td>Serbia</td>\n",
       "      <td>42.916667</td>\n",
       "      <td>20.683333</td>\n",
       "      <td>RS</td>\n",
       "    </tr>\n",
       "    <tr>\n",
       "      <th>51</th>\n",
       "      <td>Ėkibastyz:Ekibastuz</td>\n",
       "      <td>Kazakhstan</td>\n",
       "      <td>51.666667</td>\n",
       "      <td>75.366667</td>\n",
       "      <td>KZ</td>\n",
       "    </tr>\n",
       "    <tr>\n",
       "      <th>52</th>\n",
       "      <td>Říše</td>\n",
       "      <td>Czech Republic</td>\n",
       "      <td>49.179722</td>\n",
       "      <td>15.594722</td>\n",
       "      <td>CZ</td>\n",
       "    </tr>\n",
       "  </tbody>\n",
       "</table>\n",
       "</div>"
      ],
      "text/plain": [
       "                   city         country   latitude   longitude iso_code\n",
       "50          Zubin Potok          Serbia  42.916667  20.683333        RS\n",
       "51  Ėkibastyz:Ekibastuz      Kazakhstan  51.666667  75.366667        KZ\n",
       "52                 Říše  Czech Republic  49.179722  15.594722        CZ"
      ]
     },
     "execution_count": 130,
     "metadata": {},
     "output_type": "execute_result"
    }
   ],
   "source": [
    "df_manual_adding.tail(3)"
   ]
  },
  {
   "cell_type": "code",
   "execution_count": 131,
   "metadata": {},
   "outputs": [
    {
     "data": {
      "text/plain": [
       "'[\"Al Khmissat (Khémisset)\\':\\'Khemisset\", \"As-Sabbah (Chebba)\\':\\'Chebba\", \"Bnei-Lod\\':\\'Lod\", \"Campsie, Belmore\\':\\'Campsie\", \"Castledawson (Caisleán Dhásain)\\':\\'Castledawson\", \"Colwyn Bay (Bae Colwyn), Conwy\\':\\'Colwyn Bay\", \"Couva, San Fernando\\':\\'Couva\", \"Dzyarzhynsk (Dzerzhinsk)\\':\\'Dzyarzhynsk\", \"Egilsstaðir, Fljótsdalshérað\\':\\'Egilsstaðir\", \"Finchampstead, Berkshire\\':\\'Finchampstead\", \"Folād Shahr (Fooladshahr)\\':\\'Fuladshahr\", \"Kamenica\\':\\'Makedonska Kamenica\", \"Khloraka\\':\\'Chloraka\", \"Kinablu\\':\\'Kota Kinabalu\", \"Mamurrasi\\':\\'Mamurras\", \"Mélina\\':\\'Melilla\", \"Naxçıvan (Nakchivan)\\':\\'Nakchivan\", \"New Malden, Surrey\\':\\'New Malden\", \"Novaci (Novatsi)\\':\\'Novaci\", \"Ouessara\\':\\'Aïn Oussera\", \"Paty dos Alferes, Rio de Janeiro\\':\\'Paty dos Alferes\", \"Pireás\\':\\'Piraeus\", \"Qā\\'em-Shahr (Ghaemshahr)\\':\\'Qaem Shahr\", \"Southport, Merseyside\\':\\'Southport\", \"Tziyona\\':\\'Ness Ziona\", \"Xinjiyuan\\':\\'Xi\\'an\", \"Ėkibastyz\\':\\'Ekibastuz\"]'"
      ]
     },
     "execution_count": 131,
     "metadata": {},
     "output_type": "execute_result"
    }
   ],
   "source": [
    "rename_lst = list(df_manual_adding.city.map(lambda x: x if re.findall(':', str(x)) else None))\n",
    "rename_lst = [x for x in rename_lst if x != None]\n",
    "rename_lst = [re.sub(':', '\\':\\'', x) for x in rename_lst]\n",
    "str(rename_lst)"
   ]
  },
  {
   "cell_type": "code",
   "execution_count": 132,
   "metadata": {},
   "outputs": [],
   "source": [
    "rename_dict = {}\n",
    "keys_vals_lst      = []\n",
    "\n",
    "for x in rename_lst:\n",
    "    keys_vals = x.split('\\':\\'')\n",
    "    keys_vals_lst.append(keys_vals)\n",
    "\n",
    "for key_val in keys_vals_lst:\n",
    "    rename_dict[key_val[0]] = key_val[1]"
   ]
  },
  {
   "cell_type": "markdown",
   "metadata": {},
   "source": [
    "#### Change errors in cities or countries name for df_wt_coords"
   ]
  },
  {
   "cell_type": "code",
   "execution_count": 133,
   "metadata": {},
   "outputs": [
    {
     "data": {
      "text/plain": [
       "'{\\'Al Khmissat (Khémisset)\\': \\'Khemisset\\', \\'As-Sabbah (Chebba)\\': \\'Chebba\\', \\'Bnei-Lod\\': \\'Lod\\', \\'Campsie, Belmore\\': \\'Campsie\\', \\'Castledawson (Caisleán Dhásain)\\': \\'Castledawson\\', \\'Colwyn Bay (Bae Colwyn), Conwy\\': \\'Colwyn Bay\\', \\'Couva, San Fernando\\': \\'Couva\\', \\'Dzyarzhynsk (Dzerzhinsk)\\': \\'Dzyarzhynsk\\', \\'Egilsstaðir, Fljótsdalshérað\\': \\'Egilsstaðir\\', \\'Finchampstead, Berkshire\\': \\'Finchampstead\\', \\'Folād Shahr (Fooladshahr)\\': \\'Fuladshahr\\', \\'Kamenica\\': \\'Makedonska Kamenica\\', \\'Khloraka\\': \\'Chloraka\\', \\'Kinablu\\': \\'Kota Kinabalu\\', \\'Mamurrasi\\': \\'Mamurras\\', \\'Mélina\\': \\'Melilla\\', \\'Naxçıvan (Nakchivan)\\': \\'Nakchivan\\', \\'New Malden, Surrey\\': \\'New Malden\\', \\'Novaci (Novatsi)\\': \\'Novaci\\', \\'Ouessara\\': \\'Aïn Oussera\\', \\'Paty dos Alferes, Rio de Janeiro\\': \\'Paty dos Alferes\\', \\'Pireás\\': \\'Piraeus\\', \"Qā\\'em-Shahr (Ghaemshahr)\": \\'Qaem Shahr\\', \\'Southport, Merseyside\\': \\'Southport\\', \\'Tziyona\\': \\'Ness Ziona\\', \\'Xinjiyuan\\': \"Xi\\'an\", \\'Ėkibastyz\\': \\'Ekibastuz\\'}'"
      ]
     },
     "execution_count": 133,
     "metadata": {},
     "output_type": "execute_result"
    }
   ],
   "source": [
    "str(rename_dict)"
   ]
  },
  {
   "cell_type": "code",
   "execution_count": 134,
   "metadata": {},
   "outputs": [],
   "source": [
    "df_wt_coords.city = df_wt_coords.city.map(lambda x: rename_dict[x] if x in rename_dict.keys() else x)"
   ]
  },
  {
   "cell_type": "code",
   "execution_count": null,
   "metadata": {},
   "outputs": [],
   "source": [
    "# df_wt_coords[df_wt_coords.city == 'Capriata d\\'Orba']"
   ]
  },
  {
   "cell_type": "markdown",
   "metadata": {},
   "source": [
    "#### Clear manual data"
   ]
  },
  {
   "cell_type": "code",
   "execution_count": 135,
   "metadata": {},
   "outputs": [],
   "source": [
    "df_manual_adding.city = df_manual_adding.city.map(lambda x: rename_dict[x] if x in rename_dict.keys() else x)\n",
    "df_manual_adding.city = df_manual_adding.city.map(lambda x: x.split(':')[1] if re.findall(':', x) else x)"
   ]
  },
  {
   "cell_type": "code",
   "execution_count": 136,
   "metadata": {},
   "outputs": [],
   "source": [
    "df_manual_adding.latitude  = df_manual_adding.latitude.str.strip()\n",
    "df_manual_adding.longitude = df_manual_adding.longitude.str.strip()"
   ]
  },
  {
   "cell_type": "code",
   "execution_count": 137,
   "metadata": {},
   "outputs": [
    {
     "name": "stdout",
     "output_type": "stream",
     "text": [
      "shape -  53\n",
      "shape -  53\n"
     ]
    }
   ],
   "source": [
    "print('shape - ', df_manual_adding.shape[0])\n",
    "df_manual_adding = df_manual_adding[~df_manual_adding.city.isin(['nd'])].copy().reset_index(drop=True)\n",
    "print('shape - ', df_manual_adding.shape[0])"
   ]
  },
  {
   "cell_type": "code",
   "execution_count": 138,
   "metadata": {},
   "outputs": [
    {
     "name": "stdout",
     "output_type": "stream",
     "text": [
      "shape -  1278\n",
      "shape -  1331\n"
     ]
    }
   ],
   "source": [
    "print('shape - ', df_uniq_city_new.shape[0])\n",
    "df_uniq_city_new = pd.concat([df_uniq_city_new, df_manual_adding]).reset_index(drop=True)\n",
    "print('shape - ', df_uniq_city_new.shape[0])"
   ]
  },
  {
   "cell_type": "code",
   "execution_count": 139,
   "metadata": {},
   "outputs": [
    {
     "name": "stdout",
     "output_type": "stream",
     "text": [
      "shape -  1330\n"
     ]
    }
   ],
   "source": [
    "df_uniq_city_new.drop_duplicates(subset=['city', 'iso_code', 'country'], inplace=True, ignore_index=True)\n",
    "print('shape - ', df_uniq_city_new.shape[0])"
   ]
  },
  {
   "cell_type": "code",
   "execution_count": 140,
   "metadata": {},
   "outputs": [
    {
     "data": {
      "text/html": [
       "<div>\n",
       "<style scoped>\n",
       "    .dataframe tbody tr th:only-of-type {\n",
       "        vertical-align: middle;\n",
       "    }\n",
       "\n",
       "    .dataframe tbody tr th {\n",
       "        vertical-align: top;\n",
       "    }\n",
       "\n",
       "    .dataframe thead th {\n",
       "        text-align: right;\n",
       "    }\n",
       "</style>\n",
       "<table border=\"1\" class=\"dataframe\">\n",
       "  <thead>\n",
       "    <tr style=\"text-align: right;\">\n",
       "      <th></th>\n",
       "      <th>city</th>\n",
       "      <th>iso_code</th>\n",
       "      <th>country</th>\n",
       "      <th>longitude</th>\n",
       "      <th>latitude</th>\n",
       "    </tr>\n",
       "  </thead>\n",
       "  <tbody>\n",
       "  </tbody>\n",
       "</table>\n",
       "</div>"
      ],
      "text/plain": [
       "Empty DataFrame\n",
       "Columns: [city, iso_code, country, longitude, latitude]\n",
       "Index: []"
      ]
     },
     "execution_count": 140,
     "metadata": {},
     "output_type": "execute_result"
    }
   ],
   "source": [
    "df_uniq_city_new[df_uniq_city_new.longitude.isna()|df_uniq_city_new.latitude.isna()]"
   ]
  },
  {
   "cell_type": "code",
   "execution_count": 141,
   "metadata": {},
   "outputs": [
    {
     "name": "stdout",
     "output_type": "stream",
     "text": [
      "shape -  1330\n"
     ]
    }
   ],
   "source": [
    "df_uniq_city_new = df_uniq_city_new[~df_uniq_city_new.longitude.isna()].copy()\n",
    "print('shape - ', df_uniq_city_new.shape[0])"
   ]
  },
  {
   "cell_type": "code",
   "execution_count": 142,
   "metadata": {},
   "outputs": [
    {
     "data": {
      "text/plain": [
       "(1330, 5)"
      ]
     },
     "execution_count": 142,
     "metadata": {},
     "output_type": "execute_result"
    }
   ],
   "source": [
    "df_uniq_city_new = df_uniq_city_new[df_uniq_city_new.city != 'na'].copy().reset_index(drop=True)\n",
    "df_uniq_city_new.shape"
   ]
  },
  {
   "cell_type": "code",
   "execution_count": null,
   "metadata": {},
   "outputs": [],
   "source": [
    "# 5 Stop *****************************************************"
   ]
  },
  {
   "cell_type": "markdown",
   "metadata": {},
   "source": [
    "### Lat_lon"
   ]
  },
  {
   "cell_type": "code",
   "execution_count": null,
   "metadata": {},
   "outputs": [],
   "source": [
    "# palmyra = LatLon(Latitude(42.4833333), Longitude(1.4666667)) # Location of Palmyra Atoll in decimal degrees\n",
    "# palmyra = Lat# Change cities names errors in dataframe:Lon(5.8833, -162.0833) # Same thing but simpler!\n",
    "# palmyra = LatLon(Latitude(degree = 5, minute = 52, second = 59.88), Longitude(degree = -162, minute = -4.998) # or more complicated!\n",
    "# cordinates = palmyra.to_string('d% %m% %S% %H') # Print coordinates to degree minute second\n",
    "# ('5 52 59.88 N', '162 4 59.88 W')"
   ]
  },
  {
   "cell_type": "markdown",
   "metadata": {},
   "source": [
    "#### If 'df_uniq_city_wt_coords' is empty use in next 3 rows code and go to the end of file if not - don't use LOWER row."
   ]
  },
  {
   "cell_type": "code",
   "execution_count": null,
   "metadata": {},
   "outputs": [],
   "source": [
    "# df_uniq_city_new = df_include_coords.copy()"
   ]
  },
  {
   "cell_type": "code",
   "execution_count": 143,
   "metadata": {},
   "outputs": [],
   "source": [
    "df_uniq_city_new['lat'], df_uniq_city_new['lon'] = ParsingDataPrepare.lat_lon_calculate(df_uniq_city_new, col_lat='latitude', col_lon='longitude')"
   ]
  },
  {
   "cell_type": "code",
   "execution_count": 144,
   "metadata": {},
   "outputs": [
    {
     "name": "stdout",
     "output_type": "stream",
     "text": [
      "shape -  (1330, 7)\n"
     ]
    },
    {
     "data": {
      "text/html": [
       "<div>\n",
       "<style scoped>\n",
       "    .dataframe tbody tr th:only-of-type {\n",
       "        vertical-align: middle;\n",
       "    }\n",
       "\n",
       "    .dataframe tbody tr th {\n",
       "        vertical-align: top;\n",
       "    }\n",
       "\n",
       "    .dataframe thead th {\n",
       "        text-align: right;\n",
       "    }\n",
       "</style>\n",
       "<table border=\"1\" class=\"dataframe\">\n",
       "  <thead>\n",
       "    <tr style=\"text-align: right;\">\n",
       "      <th></th>\n",
       "      <th>city</th>\n",
       "      <th>iso_code</th>\n",
       "      <th>country</th>\n",
       "      <th>longitude</th>\n",
       "      <th>latitude</th>\n",
       "      <th>lat</th>\n",
       "      <th>lon</th>\n",
       "    </tr>\n",
       "  </thead>\n",
       "  <tbody>\n",
       "    <tr>\n",
       "      <th>0</th>\n",
       "      <td>Aba</td>\n",
       "      <td>NG</td>\n",
       "      <td>Nigeria</td>\n",
       "      <td>7.36667</td>\n",
       "      <td>5.10658</td>\n",
       "      <td>5n6</td>\n",
       "      <td>7e22</td>\n",
       "    </tr>\n",
       "    <tr>\n",
       "      <th>1</th>\n",
       "      <td>Abadan</td>\n",
       "      <td>TM</td>\n",
       "      <td>Turkmenistan</td>\n",
       "      <td>58.19721</td>\n",
       "      <td>38.05415</td>\n",
       "      <td>38n3</td>\n",
       "      <td>58e11</td>\n",
       "    </tr>\n",
       "    <tr>\n",
       "      <th>2</th>\n",
       "      <td>Abha</td>\n",
       "      <td>SA</td>\n",
       "      <td>Saudi Arabia</td>\n",
       "      <td>42.50528</td>\n",
       "      <td>18.21639</td>\n",
       "      <td>18n12</td>\n",
       "      <td>42e30</td>\n",
       "    </tr>\n",
       "  </tbody>\n",
       "</table>\n",
       "</div>"
      ],
      "text/plain": [
       "     city iso_code       country  longitude  latitude    lat    lon\n",
       "0     Aba       NG       Nigeria    7.36667   5.10658    5n6   7e22\n",
       "1  Abadan       TM  Turkmenistan   58.19721  38.05415   38n3  58e11\n",
       "2    Abha       SA  Saudi Arabia   42.50528  18.21639  18n12  42e30"
      ]
     },
     "execution_count": 144,
     "metadata": {},
     "output_type": "execute_result"
    }
   ],
   "source": [
    "print('shape - ', df_uniq_city_new.shape)\n",
    "df_uniq_city_new.head(3)"
   ]
  },
  {
   "cell_type": "markdown",
   "metadata": {},
   "source": [
    "#### ********************************************"
   ]
  },
  {
   "cell_type": "markdown",
   "metadata": {
    "tags": []
   },
   "source": [
    "#### Concatinate old dataset with new data and if 'df_uniq_city_wt_coords' is not empty:"
   ]
  },
  {
   "cell_type": "code",
   "execution_count": 145,
   "metadata": {},
   "outputs": [
    {
     "name": "stdout",
     "output_type": "stream",
     "text": [
      "shape -  8873\n",
      "shape -  10203\n"
     ]
    },
    {
     "data": {
      "text/html": [
       "<div>\n",
       "<style scoped>\n",
       "    .dataframe tbody tr th:only-of-type {\n",
       "        vertical-align: middle;\n",
       "    }\n",
       "\n",
       "    .dataframe tbody tr th {\n",
       "        vertical-align: top;\n",
       "    }\n",
       "\n",
       "    .dataframe thead th {\n",
       "        text-align: right;\n",
       "    }\n",
       "</style>\n",
       "<table border=\"1\" class=\"dataframe\">\n",
       "  <thead>\n",
       "    <tr style=\"text-align: right;\">\n",
       "      <th></th>\n",
       "      <th>city</th>\n",
       "      <th>iso_code</th>\n",
       "      <th>country</th>\n",
       "      <th>longitude</th>\n",
       "      <th>latitude</th>\n",
       "      <th>lat</th>\n",
       "      <th>lon</th>\n",
       "    </tr>\n",
       "  </thead>\n",
       "  <tbody>\n",
       "    <tr>\n",
       "      <th>10200</th>\n",
       "      <td>Zubin Potok</td>\n",
       "      <td>RS</td>\n",
       "      <td>Serbia</td>\n",
       "      <td>20.683333</td>\n",
       "      <td>42.916667</td>\n",
       "      <td>42n55</td>\n",
       "      <td>20e40</td>\n",
       "    </tr>\n",
       "    <tr>\n",
       "      <th>10201</th>\n",
       "      <td>Ekibastuz</td>\n",
       "      <td>KZ</td>\n",
       "      <td>Kazakhstan</td>\n",
       "      <td>75.366667</td>\n",
       "      <td>51.666667</td>\n",
       "      <td>51n40</td>\n",
       "      <td>75e22</td>\n",
       "    </tr>\n",
       "    <tr>\n",
       "      <th>10202</th>\n",
       "      <td>Říše</td>\n",
       "      <td>CZ</td>\n",
       "      <td>Czech Republic</td>\n",
       "      <td>15.594722</td>\n",
       "      <td>49.179722</td>\n",
       "      <td>49n10</td>\n",
       "      <td>15e35</td>\n",
       "    </tr>\n",
       "  </tbody>\n",
       "</table>\n",
       "</div>"
      ],
      "text/plain": [
       "              city iso_code         country  longitude   latitude    lat  \\\n",
       "10200  Zubin Potok       RS          Serbia  20.683333  42.916667  42n55   \n",
       "10201    Ekibastuz       KZ      Kazakhstan  75.366667  51.666667  51n40   \n",
       "10202         Říše       CZ  Czech Republic  15.594722  49.179722  49n10   \n",
       "\n",
       "         lon  \n",
       "10200  20e40  \n",
       "10201  75e22  \n",
       "10202  15e35  "
      ]
     },
     "execution_count": 145,
     "metadata": {},
     "output_type": "execute_result"
    }
   ],
   "source": [
    "print('shape - ', df_uniq_cities_coords.shape[0])\n",
    "df_uniq_cities_coords = pd.concat([df_uniq_cities_coords, df_uniq_city_new]).reset_index(drop=True)\n",
    "print('shape - ', df_uniq_cities_coords.shape[0])\n",
    "df_uniq_cities_coords.tail(3)"
   ]
  },
  {
   "cell_type": "code",
   "execution_count": 146,
   "metadata": {},
   "outputs": [
    {
     "name": "stdout",
     "output_type": "stream",
     "text": [
      "shape -  (10184, 7)\n"
     ]
    }
   ],
   "source": [
    "df_uniq_cities_coords.drop_duplicates(subset=['city', 'iso_code', 'country'], inplace=True, ignore_index=True)\n",
    "print('shape - ', df_uniq_cities_coords.shape)"
   ]
  },
  {
   "cell_type": "code",
   "execution_count": 148,
   "metadata": {},
   "outputs": [],
   "source": [
    "# file = open('pickle_files/cities_countries/df_uniq_cities_coords_created_21_10_2022', 'wb')\n",
    "# pickle.dump(df_uniq_cities_coords, file)  \n",
    "# file.close()"
   ]
  },
  {
   "cell_type": "markdown",
   "metadata": {
    "tags": []
   },
   "source": [
    "#### Concatinate all dataframes with coordinates"
   ]
  },
  {
   "cell_type": "code",
   "execution_count": 149,
   "metadata": {},
   "outputs": [],
   "source": [
    "df_wt_coords.drop(columns=['longitude',\t'latitude',\t'lat', 'lon'], inplace=True)"
   ]
  },
  {
   "cell_type": "code",
   "execution_count": 150,
   "metadata": {},
   "outputs": [
    {
     "name": "stdout",
     "output_type": "stream",
     "text": [
      "shape -  (201835, 33)\n",
      "shape -  (201835, 37)\n"
     ]
    }
   ],
   "source": [
    "print('shape - ', df_wt_coords.shape)\n",
    "cols_merge = ['city', 'iso_code', 'country']\n",
    "df_coords  = df_wt_coords.merge(df_uniq_city_new, how='left', left_on=cols_merge, right_on=cols_merge)\n",
    "print('shape - ', df_coords.shape)"
   ]
  },
  {
   "cell_type": "code",
   "execution_count": 151,
   "metadata": {},
   "outputs": [
    {
     "name": "stdout",
     "output_type": "stream",
     "text": [
      "shape -  (201835, 37)\n",
      "shape -  (52265, 37)\n"
     ]
    }
   ],
   "source": [
    "print('shape - ', df_coords.shape)\n",
    "df_coords  = df_coords[(~df_coords.longitude.isna()) & (~df_coords.latitude.isna())].copy()\n",
    "print('shape - ', df_coords.shape)"
   ]
  },
  {
   "cell_type": "code",
   "execution_count": 152,
   "metadata": {},
   "outputs": [
    {
     "name": "stdout",
     "output_type": "stream",
     "text": [
      "shape -  (52265, 37)\n",
      "shape -  (52265, 37)\n"
     ]
    }
   ],
   "source": [
    "print('shape - ', df_coords.shape)\n",
    "df_coords = df_coords[~df_coords.city.isin(['nd'])].copy().reset_index(drop=True)\n",
    "print('shape - ', df_coords.shape)"
   ]
  },
  {
   "cell_type": "code",
   "execution_count": 153,
   "metadata": {},
   "outputs": [
    {
     "name": "stdout",
     "output_type": "stream",
     "text": [
      "shape -  (201427, 37)\n",
      "shape -  (253692, 37)\n"
     ]
    }
   ],
   "source": [
    "print('shape - ', df_include_coords.shape)\n",
    "df_include_coords = pd.concat([df_include_coords, df_coords]).reset_index(drop=True)\n",
    "print('shape - ', df_include_coords.shape)"
   ]
  },
  {
   "cell_type": "code",
   "execution_count": 154,
   "metadata": {},
   "outputs": [
    {
     "data": {
      "text/plain": [
       "array([], shape=(0, 37), dtype=object)"
      ]
     },
     "execution_count": 154,
     "metadata": {},
     "output_type": "execute_result"
    }
   ],
   "source": [
    "df_include_coords[(df_include_coords.longitude.isna()) | (df_include_coords.latitude.isna())].values"
   ]
  },
  {
   "cell_type": "markdown",
   "metadata": {},
   "source": [
    "#### Check equal cities for each team"
   ]
  },
  {
   "cell_type": "code",
   "execution_count": 155,
   "metadata": {},
   "outputs": [],
   "source": [
    "df_fteam_cities = df_coords.groupby('f_team').agg({'city':'unique'}).reset_index()"
   ]
  },
  {
   "cell_type": "code",
   "execution_count": 163,
   "metadata": {},
   "outputs": [
    {
     "data": {
      "text/html": [
       "<div>\n",
       "<style scoped>\n",
       "    .dataframe tbody tr th:only-of-type {\n",
       "        vertical-align: middle;\n",
       "    }\n",
       "\n",
       "    .dataframe tbody tr th {\n",
       "        vertical-align: top;\n",
       "    }\n",
       "\n",
       "    .dataframe thead th {\n",
       "        text-align: right;\n",
       "    }\n",
       "</style>\n",
       "<table border=\"1\" class=\"dataframe\">\n",
       "  <thead>\n",
       "    <tr style=\"text-align: right;\">\n",
       "      <th></th>\n",
       "      <th>f_team</th>\n",
       "      <th>city</th>\n",
       "    </tr>\n",
       "  </thead>\n",
       "  <tbody>\n",
       "    <tr>\n",
       "      <th>0</th>\n",
       "      <td>2 de Mayo</td>\n",
       "      <td>[Caballero]</td>\n",
       "    </tr>\n",
       "    <tr>\n",
       "      <th>1</th>\n",
       "      <td>9715</td>\n",
       "      <td>[Jamor, Oeiras]</td>\n",
       "    </tr>\n",
       "    <tr>\n",
       "      <th>2</th>\n",
       "      <td>AD Oliveirense</td>\n",
       "      <td>[Oliveira]</td>\n",
       "    </tr>\n",
       "  </tbody>\n",
       "</table>\n",
       "</div>"
      ],
      "text/plain": [
       "           f_team             city\n",
       "0       2 de Mayo      [Caballero]\n",
       "1            9715  [Jamor, Oeiras]\n",
       "2  AD Oliveirense       [Oliveira]"
      ]
     },
     "execution_count": 163,
     "metadata": {},
     "output_type": "execute_result"
    }
   ],
   "source": [
    "df_fteam_cities.head(3) # city column value: [Sand] - it's ok, don't ok: [Sand, 'Vienna']"
   ]
  },
  {
   "cell_type": "code",
   "execution_count": 157,
   "metadata": {},
   "outputs": [
    {
     "data": {
      "text/plain": [
       "2"
      ]
     },
     "execution_count": 157,
     "metadata": {},
     "output_type": "execute_result"
    }
   ],
   "source": [
    "len_city_lst = df_fteam_cities.city.map(lambda x: len(x))\n",
    "max(len_city_lst) # must could == 1"
   ]
  },
  {
   "cell_type": "code",
   "execution_count": 169,
   "metadata": {},
   "outputs": [
    {
     "name": "stdout",
     "output_type": "stream",
     "text": [
      "47 [\"Al-'Ayn\" 'Al Bāḥa (Al Bahah)']\n",
      "56 [\"Majma'ah\" 'ʿAmmān (Amman)']\n",
      "117 ['Almagro' 'Febrero']\n",
      "355 ['Bay' 'Colwyn Bay']\n"
     ]
    }
   ],
   "source": [
    "# if max(len_city_lst) > 1 need check team for different countries names:\n",
    "for nb, lt_city in enumerate(df_fteam_cities.city):\n",
    "    if len(lt_city) > 1:\n",
    "        print(nb, lt_city)"
   ]
  },
  {
   "cell_type": "code",
   "execution_count": null,
   "metadata": {},
   "outputs": [],
   "source": [
    "# 6 Stop *****************************************************************"
   ]
  },
  {
   "cell_type": "code",
   "execution_count": null,
   "metadata": {},
   "outputs": [],
   "source": [
    "# ['Juan' 'José'] - team has two cities with different countries"
   ]
  },
  {
   "cell_type": "code",
   "execution_count": 170,
   "metadata": {},
   "outputs": [
    {
     "data": {
      "text/html": [
       "<div>\n",
       "<style scoped>\n",
       "    .dataframe tbody tr th:only-of-type {\n",
       "        vertical-align: middle;\n",
       "    }\n",
       "\n",
       "    .dataframe tbody tr th {\n",
       "        vertical-align: top;\n",
       "    }\n",
       "\n",
       "    .dataframe thead th {\n",
       "        text-align: right;\n",
       "    }\n",
       "</style>\n",
       "<table border=\"1\" class=\"dataframe\">\n",
       "  <thead>\n",
       "    <tr style=\"text-align: right;\">\n",
       "      <th></th>\n",
       "      <th>f_team</th>\n",
       "      <th>city</th>\n",
       "    </tr>\n",
       "  </thead>\n",
       "  <tbody>\n",
       "    <tr>\n",
       "      <th>47</th>\n",
       "      <td>Al Ain</td>\n",
       "      <td>[Al-'Ayn, Al Bāḥa (Al Bahah)]</td>\n",
       "    </tr>\n",
       "  </tbody>\n",
       "</table>\n",
       "</div>"
      ],
      "text/plain": [
       "    f_team                           city\n",
       "47  Al Ain  [Al-'Ayn, Al Bāḥa (Al Bahah)]"
      ]
     },
     "execution_count": 170,
     "metadata": {},
     "output_type": "execute_result"
    }
   ],
   "source": [
    "df_fteam_cities.loc[47:47]"
   ]
  },
  {
   "cell_type": "code",
   "execution_count": null,
   "metadata": {},
   "outputs": [],
   "source": [
    "# df_teams_data_main[df_teams_data_main.city == 'Piedras Blancas' ]"
   ]
  },
  {
   "cell_type": "code",
   "execution_count": 173,
   "metadata": {},
   "outputs": [],
   "source": [
    "# if team name have different countries - it's ok\n",
    "# df_include_coords[df_include_coords.f_team == 'Al Ain'] "
   ]
  },
  {
   "cell_type": "markdown",
   "metadata": {},
   "source": [
    "#### If 'df_uniq_city_wt_coords' is empty use LOWER row:"
   ]
  },
  {
   "cell_type": "code",
   "execution_count": null,
   "metadata": {},
   "outputs": [],
   "source": [
    "# df_include_coords = df_uniq_city_new.copy()"
   ]
  },
  {
   "cell_type": "markdown",
   "metadata": {},
   "source": [
    "#### ********************"
   ]
  },
  {
   "cell_type": "code",
   "execution_count": 174,
   "metadata": {},
   "outputs": [
    {
     "name": "stdout",
     "output_type": "stream",
     "text": [
      "shape -  (253692, 37)\n"
     ]
    },
    {
     "data": {
      "text/html": [
       "<div>\n",
       "<style scoped>\n",
       "    .dataframe tbody tr th:only-of-type {\n",
       "        vertical-align: middle;\n",
       "    }\n",
       "\n",
       "    .dataframe tbody tr th {\n",
       "        vertical-align: top;\n",
       "    }\n",
       "\n",
       "    .dataframe thead th {\n",
       "        text-align: right;\n",
       "    }\n",
       "</style>\n",
       "<table border=\"1\" class=\"dataframe\">\n",
       "  <thead>\n",
       "    <tr style=\"text-align: right;\">\n",
       "      <th></th>\n",
       "      <th>game_id</th>\n",
       "      <th>ligue_header</th>\n",
       "      <th>comp_id</th>\n",
       "      <th>season_id</th>\n",
       "      <th>game_utc</th>\n",
       "      <th>goals</th>\n",
       "      <th>ligue</th>\n",
       "      <th>f_team</th>\n",
       "      <th>s_team</th>\n",
       "      <th>pos_f</th>\n",
       "      <th>pts_f</th>\n",
       "      <th>pos_s</th>\n",
       "      <th>pts_s</th>\n",
       "      <th>max_pos</th>\n",
       "      <th>max_pts</th>\n",
       "      <th>1</th>\n",
       "      <th>X</th>\n",
       "      <th>2</th>\n",
       "      <th>ТМ 2.5</th>\n",
       "      <th>ТБ 2.5</th>\n",
       "      <th>first_g</th>\n",
       "      <th>owngoal</th>\n",
       "      <th>mispen</th>\n",
       "      <th>redcard</th>\n",
       "      <th>ct_cards</th>\n",
       "      <th>f_pow</th>\n",
       "      <th>desc</th>\n",
       "      <th>ct_goals</th>\n",
       "      <th>founded</th>\n",
       "      <th>capacity</th>\n",
       "      <th>city</th>\n",
       "      <th>country</th>\n",
       "      <th>iso_code</th>\n",
       "      <th>longitude</th>\n",
       "      <th>latitude</th>\n",
       "      <th>lat</th>\n",
       "      <th>lon</th>\n",
       "    </tr>\n",
       "  </thead>\n",
       "  <tbody>\n",
       "    <tr>\n",
       "      <th>253689</th>\n",
       "      <td>1603935</td>\n",
       "      <td>Championnat National 2</td>\n",
       "      <td>579</td>\n",
       "      <td>310</td>\n",
       "      <td>28.05.2022 16:00</td>\n",
       "      <td>5:0</td>\n",
       "      <td>thr</td>\n",
       "      <td>Fleury 91 FC</td>\n",
       "      <td>Lens II</td>\n",
       "      <td>2.0</td>\n",
       "      <td>65.0</td>\n",
       "      <td>15.0</td>\n",
       "      <td>24.0</td>\n",
       "      <td>16.0</td>\n",
       "      <td>66.0</td>\n",
       "      <td>1.26</td>\n",
       "      <td>5.3</td>\n",
       "      <td>10.00</td>\n",
       "      <td>2.09</td>\n",
       "      <td>1.74</td>\n",
       "      <td>15</td>\n",
       "      <td>0.0</td>\n",
       "      <td>0.0</td>\n",
       "      <td>0.0</td>\n",
       "      <td>0.0</td>\n",
       "      <td>Fav</td>\n",
       "      <td>with_events</td>\n",
       "      <td>5</td>\n",
       "      <td>1970</td>\n",
       "      <td>1000</td>\n",
       "      <td>Merogis</td>\n",
       "      <td>France</td>\n",
       "      <td>FR</td>\n",
       "      <td>2.360931</td>\n",
       "      <td>48.629965</td>\n",
       "      <td>48n37</td>\n",
       "      <td>2e21</td>\n",
       "    </tr>\n",
       "    <tr>\n",
       "      <th>253690</th>\n",
       "      <td>1728563</td>\n",
       "      <td>Premier League</td>\n",
       "      <td>623</td>\n",
       "      <td>310</td>\n",
       "      <td>28.05.2022 15:30</td>\n",
       "      <td>2:1</td>\n",
       "      <td>thr</td>\n",
       "      <td>Arbil</td>\n",
       "      <td>Al Sinaah</td>\n",
       "      <td>11.0</td>\n",
       "      <td>43.0</td>\n",
       "      <td>16.0</td>\n",
       "      <td>35.0</td>\n",
       "      <td>20.0</td>\n",
       "      <td>91.0</td>\n",
       "      <td>NaN</td>\n",
       "      <td>NaN</td>\n",
       "      <td>NaN</td>\n",
       "      <td>NaN</td>\n",
       "      <td>NaN</td>\n",
       "      <td>21</td>\n",
       "      <td>0.0</td>\n",
       "      <td>0.0</td>\n",
       "      <td>0.0</td>\n",
       "      <td>0.0</td>\n",
       "      <td>Nodeterm</td>\n",
       "      <td>with_events</td>\n",
       "      <td>3</td>\n",
       "      <td>1968</td>\n",
       "      <td>40000</td>\n",
       "      <td>Arbil</td>\n",
       "      <td>Iraq</td>\n",
       "      <td>IQ</td>\n",
       "      <td>44.009429</td>\n",
       "      <td>36.191165</td>\n",
       "      <td>36n11</td>\n",
       "      <td>44e0</td>\n",
       "    </tr>\n",
       "    <tr>\n",
       "      <th>253691</th>\n",
       "      <td>1607740</td>\n",
       "      <td>Landesliga</td>\n",
       "      <td>475</td>\n",
       "      <td>310</td>\n",
       "      <td>28.05.2022 16:00</td>\n",
       "      <td>0:1</td>\n",
       "      <td>thr</td>\n",
       "      <td>St. Jakob</td>\n",
       "      <td>SAK Klagenfurt</td>\n",
       "      <td>9.0</td>\n",
       "      <td>44.0</td>\n",
       "      <td>2.0</td>\n",
       "      <td>54.0</td>\n",
       "      <td>18.0</td>\n",
       "      <td>77.0</td>\n",
       "      <td>2.82</td>\n",
       "      <td>3.3</td>\n",
       "      <td>2.22</td>\n",
       "      <td>2.26</td>\n",
       "      <td>1.56</td>\n",
       "      <td>None</td>\n",
       "      <td>0.0</td>\n",
       "      <td>0.0</td>\n",
       "      <td>0.0</td>\n",
       "      <td>0.0</td>\n",
       "      <td>Pre</td>\n",
       "      <td>with_events</td>\n",
       "      <td>1</td>\n",
       "      <td>1970</td>\n",
       "      <td>1500</td>\n",
       "      <td>Rosental</td>\n",
       "      <td>Austria</td>\n",
       "      <td>AT</td>\n",
       "      <td>14.243774</td>\n",
       "      <td>46.544340</td>\n",
       "      <td>46n32</td>\n",
       "      <td>14e14</td>\n",
       "    </tr>\n",
       "  </tbody>\n",
       "</table>\n",
       "</div>"
      ],
      "text/plain": [
       "        game_id            ligue_header comp_id season_id          game_utc  \\\n",
       "253689  1603935  Championnat National 2     579       310  28.05.2022 16:00   \n",
       "253690  1728563          Premier League     623       310  28.05.2022 15:30   \n",
       "253691  1607740              Landesliga     475       310  28.05.2022 16:00   \n",
       "\n",
       "       goals ligue        f_team          s_team  pos_f  pts_f  pos_s  pts_s  \\\n",
       "253689   5:0   thr  Fleury 91 FC         Lens II    2.0   65.0   15.0   24.0   \n",
       "253690   2:1   thr         Arbil       Al Sinaah   11.0   43.0   16.0   35.0   \n",
       "253691   0:1   thr     St. Jakob  SAK Klagenfurt    9.0   44.0    2.0   54.0   \n",
       "\n",
       "        max_pos  max_pts     1    X      2  ТМ 2.5  ТБ 2.5 first_g  owngoal  \\\n",
       "253689     16.0     66.0  1.26  5.3  10.00    2.09    1.74      15      0.0   \n",
       "253690     20.0     91.0   NaN  NaN    NaN     NaN     NaN      21      0.0   \n",
       "253691     18.0     77.0  2.82  3.3   2.22    2.26    1.56    None      0.0   \n",
       "\n",
       "        mispen  redcard  ct_cards     f_pow         desc  ct_goals founded  \\\n",
       "253689     0.0      0.0       0.0       Fav  with_events         5    1970   \n",
       "253690     0.0      0.0       0.0  Nodeterm  with_events         3    1968   \n",
       "253691     0.0      0.0       0.0       Pre  with_events         1    1970   \n",
       "\n",
       "       capacity      city  country iso_code  longitude   latitude    lat  \\\n",
       "253689     1000   Merogis   France       FR   2.360931  48.629965  48n37   \n",
       "253690    40000     Arbil     Iraq       IQ  44.009429  36.191165  36n11   \n",
       "253691     1500  Rosental  Austria       AT  14.243774  46.544340  46n32   \n",
       "\n",
       "          lon  \n",
       "253689   2e21  \n",
       "253690   44e0  \n",
       "253691  14e14  "
      ]
     },
     "execution_count": 174,
     "metadata": {},
     "output_type": "execute_result"
    }
   ],
   "source": [
    "print('shape - ', df_include_coords.shape)\n",
    "df_include_coords.tail(3)"
   ]
  },
  {
   "cell_type": "code",
   "execution_count": 175,
   "metadata": {},
   "outputs": [
    {
     "data": {
      "text/plain": [
       "Montevideo             1667\n",
       "Federal                1504\n",
       "London                 1484\n",
       "al-Qāhirah             1330\n",
       "İstanbul               1309\n",
       "                       ... \n",
       "Derventa                  1\n",
       "Dimitrovgrad              1\n",
       "Mettersdorf               1\n",
       "Şımkent (Shymkent)        1\n",
       "Alphen aan den Rijn       1\n",
       "Name: city, Length: 5327, dtype: int64"
      ]
     },
     "execution_count": 175,
     "metadata": {},
     "output_type": "execute_result"
    }
   ],
   "source": [
    "df_include_coords.city.value_counts(dropna=False)"
   ]
  },
  {
   "cell_type": "code",
   "execution_count": 177,
   "metadata": {},
   "outputs": [],
   "source": [
    "# file = open('pickle_files/cities_countries/df_with_geo_coords_21_10_2022_all', 'wb')\n",
    "# pickle.dump(df_include_coords, file)  \n",
    "# file.close()"
   ]
  },
  {
   "cell_type": "markdown",
   "metadata": {},
   "source": [
    "### Go to astroaspects.ipynb file"
   ]
  },
  {
   "cell_type": "code",
   "execution_count": 178,
   "metadata": {},
   "outputs": [],
   "source": [
    "# For 'df_with_geo_coords_21_10_2022_all' file aspects don't find (23.08.23) "
   ]
  },
  {
   "cell_type": "markdown",
   "metadata": {},
   "source": [
    "##### Example"
   ]
  },
  {
   "cell_type": "code",
   "execution_count": null,
   "metadata": {},
   "outputs": [],
   "source": [
    "# # Exempl\n",
    "# from  geopy.geocoders import Nominatim\n",
    "# geolocator = Nominatim(user_agent=\"Your_Name\")\n",
    "\n",
    "# city =\"Russia\"\n",
    "# country =\"Perm\"\n",
    "# loc = geolocator.geocode(city+','+ country)\n",
    "# lat = loc.latitude\n",
    "# long = loc.longitude\n",
    "\n",
    "# print(lat, long)"
   ]
  }
 ],
 "metadata": {
  "kernelspec": {
   "display_name": "Python 3 (ipykernel)",
   "language": "python",
   "name": "python3"
  },
  "language_info": {
   "codemirror_mode": {
    "name": "ipython",
    "version": 3
   },
   "file_extension": ".py",
   "mimetype": "text/x-python",
   "name": "python",
   "nbconvert_exporter": "python",
   "pygments_lexer": "ipython3",
   "version": "3.9.17"
  }
 },
 "nbformat": 4,
 "nbformat_minor": 4
}

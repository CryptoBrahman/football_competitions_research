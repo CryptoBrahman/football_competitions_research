{
 "cells": [
  {
   "cell_type": "code",
   "execution_count": 1,
   "metadata": {},
   "outputs": [],
   "source": [
    "import pandas as pd\n",
    "import numpy as np\n",
    "import re\n",
    "import unicodedata\n",
    "import pickle\n",
    "\n",
    "from _html_parser import ParsingDataPrepare\n",
    "\n",
    "pd.set_option('display.max_colwidth', 1000)\n",
    "pd.set_option('display.max_rows', 2000)"
   ]
  },
  {
   "cell_type": "code",
   "execution_count": 2,
   "metadata": {},
   "outputs": [],
   "source": [
    "%load_ext autoreload"
   ]
  },
  {
   "cell_type": "code",
   "execution_count": 3,
   "metadata": {},
   "outputs": [
    {
     "name": "stdout",
     "output_type": "stream",
     "text": [
      "27.1752554 78.0098161\n"
     ]
    }
   ],
   "source": [
    "from  geopy.geocoders import Nominatim\n",
    "geolocator = Nominatim(user_agent=\"Your_Name\")\n",
    "\n",
    "city =\"Agra\"\n",
    "country =\"India\"\n",
    "loc = geolocator.geocode(city+','+ country)\n",
    "lat = loc.latitude\n",
    "long = loc.longitude\n",
    "\n",
    "print(lat, long)"
   ]
  },
  {
   "cell_type": "code",
   "execution_count": 4,
   "metadata": {},
   "outputs": [],
   "source": [
    "df_country_code = pd.read_csv('csv_files/wikipedia-iso-country-codes.csv') "
   ]
  },
  {
   "cell_type": "code",
   "execution_count": 5,
   "metadata": {},
   "outputs": [
    {
     "data": {
      "text/plain": [
       "(246, 5)"
      ]
     },
     "execution_count": 5,
     "metadata": {},
     "output_type": "execute_result"
    }
   ],
   "source": [
    "df_country_code.columns = [x.lower() for x in df_country_code.columns]\n",
    "df_country_code['alpha-2 code'] = df_country_code['alpha-2 code'].map(lambda x: str(x).lower())\n",
    "df_country_code.shape"
   ]
  },
  {
   "cell_type": "code",
   "execution_count": 6,
   "metadata": {},
   "outputs": [
    {
     "data": {
      "text/html": [
       "<div>\n",
       "<style scoped>\n",
       "    .dataframe tbody tr th:only-of-type {\n",
       "        vertical-align: middle;\n",
       "    }\n",
       "\n",
       "    .dataframe tbody tr th {\n",
       "        vertical-align: top;\n",
       "    }\n",
       "\n",
       "    .dataframe thead th {\n",
       "        text-align: right;\n",
       "    }\n",
       "</style>\n",
       "<table border=\"1\" class=\"dataframe\">\n",
       "  <thead>\n",
       "    <tr style=\"text-align: right;\">\n",
       "      <th></th>\n",
       "      <th>english short name lower case</th>\n",
       "      <th>alpha-2 code</th>\n",
       "      <th>alpha-3 code</th>\n",
       "      <th>numeric code</th>\n",
       "      <th>iso 3166-2</th>\n",
       "    </tr>\n",
       "  </thead>\n",
       "  <tbody>\n",
       "    <tr>\n",
       "      <th>0</th>\n",
       "      <td>Afghanistan</td>\n",
       "      <td>af</td>\n",
       "      <td>AFG</td>\n",
       "      <td>4</td>\n",
       "      <td>ISO 3166-2:AF</td>\n",
       "    </tr>\n",
       "    <tr>\n",
       "      <th>1</th>\n",
       "      <td>Åland Islands</td>\n",
       "      <td>ax</td>\n",
       "      <td>ALA</td>\n",
       "      <td>248</td>\n",
       "      <td>ISO 3166-2:AX</td>\n",
       "    </tr>\n",
       "    <tr>\n",
       "      <th>2</th>\n",
       "      <td>Albania</td>\n",
       "      <td>al</td>\n",
       "      <td>ALB</td>\n",
       "      <td>8</td>\n",
       "      <td>ISO 3166-2:AL</td>\n",
       "    </tr>\n",
       "  </tbody>\n",
       "</table>\n",
       "</div>"
      ],
      "text/plain": [
       "  english short name lower case alpha-2 code alpha-3 code  numeric code  \\\n",
       "0                   Afghanistan           af          AFG             4   \n",
       "1                 Åland Islands           ax          ALA           248   \n",
       "2                       Albania           al          ALB             8   \n",
       "\n",
       "      iso 3166-2  \n",
       "0  ISO 3166-2:AF  \n",
       "1  ISO 3166-2:AX  \n",
       "2  ISO 3166-2:AL  "
      ]
     },
     "execution_count": 6,
     "metadata": {},
     "output_type": "execute_result"
    }
   ],
   "source": [
    "df_country_code.head(3)"
   ]
  },
  {
   "cell_type": "code",
   "execution_count": 7,
   "metadata": {},
   "outputs": [
    {
     "data": {
      "text/html": [
       "<div>\n",
       "<style scoped>\n",
       "    .dataframe tbody tr th:only-of-type {\n",
       "        vertical-align: middle;\n",
       "    }\n",
       "\n",
       "    .dataframe tbody tr th {\n",
       "        vertical-align: top;\n",
       "    }\n",
       "\n",
       "    .dataframe thead th {\n",
       "        text-align: right;\n",
       "    }\n",
       "</style>\n",
       "<table border=\"1\" class=\"dataframe\">\n",
       "  <thead>\n",
       "    <tr style=\"text-align: right;\">\n",
       "      <th></th>\n",
       "      <th>english short name lower case</th>\n",
       "      <th>alpha-2 code</th>\n",
       "      <th>alpha-3 code</th>\n",
       "      <th>numeric code</th>\n",
       "      <th>iso 3166-2</th>\n",
       "    </tr>\n",
       "  </thead>\n",
       "  <tbody>\n",
       "    <tr>\n",
       "      <th>243</th>\n",
       "      <td>Yemen</td>\n",
       "      <td>ye</td>\n",
       "      <td>YEM</td>\n",
       "      <td>887</td>\n",
       "      <td>ISO 3166-2:YE</td>\n",
       "    </tr>\n",
       "    <tr>\n",
       "      <th>244</th>\n",
       "      <td>Zambia</td>\n",
       "      <td>zm</td>\n",
       "      <td>ZMB</td>\n",
       "      <td>894</td>\n",
       "      <td>ISO 3166-2:ZM</td>\n",
       "    </tr>\n",
       "    <tr>\n",
       "      <th>245</th>\n",
       "      <td>Zimbabwe</td>\n",
       "      <td>zw</td>\n",
       "      <td>ZWE</td>\n",
       "      <td>716</td>\n",
       "      <td>ISO 3166-2:ZW</td>\n",
       "    </tr>\n",
       "  </tbody>\n",
       "</table>\n",
       "</div>"
      ],
      "text/plain": [
       "    english short name lower case alpha-2 code alpha-3 code  numeric code  \\\n",
       "243                         Yemen           ye          YEM           887   \n",
       "244                        Zambia           zm          ZMB           894   \n",
       "245                      Zimbabwe           zw          ZWE           716   \n",
       "\n",
       "        iso 3166-2  \n",
       "243  ISO 3166-2:YE  \n",
       "244  ISO 3166-2:ZM  \n",
       "245  ISO 3166-2:ZW  "
      ]
     },
     "execution_count": 7,
     "metadata": {},
     "output_type": "execute_result"
    }
   ],
   "source": [
    "df_country_code.tail(3)"
   ]
  },
  {
   "cell_type": "code",
   "execution_count": 8,
   "metadata": {},
   "outputs": [],
   "source": [
    "df_world_cities_head = pd.read_csv('csv_files/head_worldcitiespop.csv', dtype='str') \n",
    "df_world_cities_tail = pd.read_csv('csv_files/tail_worldcitiespop.csv', dtype='str')\n",
    "\n",
    "df_world_cities = pd.concat([df_world_cities_head, df_world_cities_tail], axis=0)\n",
    "df_world_cities.columns = [x.lower() for x in df_world_cities.columns]"
   ]
  },
  {
   "cell_type": "code",
   "execution_count": 9,
   "metadata": {},
   "outputs": [
    {
     "data": {
      "text/plain": [
       "(3173958, 7)"
      ]
     },
     "execution_count": 9,
     "metadata": {},
     "output_type": "execute_result"
    }
   ],
   "source": [
    "df_world_cities.shape"
   ]
  },
  {
   "cell_type": "code",
   "execution_count": 10,
   "metadata": {},
   "outputs": [
    {
     "data": {
      "text/plain": [
       "(2611448, 7)"
      ]
     },
     "execution_count": 10,
     "metadata": {},
     "output_type": "execute_result"
    }
   ],
   "source": [
    "df_world_cities.drop_duplicates(subset=['country', 'city'], inplace=True)\n",
    "df_world_cities.shape"
   ]
  },
  {
   "cell_type": "code",
   "execution_count": 11,
   "metadata": {},
   "outputs": [
    {
     "data": {
      "text/html": [
       "<div>\n",
       "<style scoped>\n",
       "    .dataframe tbody tr th:only-of-type {\n",
       "        vertical-align: middle;\n",
       "    }\n",
       "\n",
       "    .dataframe tbody tr th {\n",
       "        vertical-align: top;\n",
       "    }\n",
       "\n",
       "    .dataframe thead th {\n",
       "        text-align: right;\n",
       "    }\n",
       "</style>\n",
       "<table border=\"1\" class=\"dataframe\">\n",
       "  <thead>\n",
       "    <tr style=\"text-align: right;\">\n",
       "      <th></th>\n",
       "      <th>country</th>\n",
       "      <th>city</th>\n",
       "      <th>accentcity</th>\n",
       "      <th>region</th>\n",
       "      <th>population</th>\n",
       "      <th>latitude</th>\n",
       "      <th>longitude</th>\n",
       "    </tr>\n",
       "  </thead>\n",
       "  <tbody>\n",
       "    <tr>\n",
       "      <th>0</th>\n",
       "      <td>ad</td>\n",
       "      <td>aixas</td>\n",
       "      <td>Aixàs</td>\n",
       "      <td>06</td>\n",
       "      <td>NaN</td>\n",
       "      <td>42.4833333</td>\n",
       "      <td>1.4666667</td>\n",
       "    </tr>\n",
       "    <tr>\n",
       "      <th>1</th>\n",
       "      <td>ad</td>\n",
       "      <td>aixirivali</td>\n",
       "      <td>Aixirivali</td>\n",
       "      <td>06</td>\n",
       "      <td>NaN</td>\n",
       "      <td>42.466666700000005</td>\n",
       "      <td>1.5</td>\n",
       "    </tr>\n",
       "    <tr>\n",
       "      <th>2</th>\n",
       "      <td>ad</td>\n",
       "      <td>aixirivall</td>\n",
       "      <td>Aixirivall</td>\n",
       "      <td>06</td>\n",
       "      <td>NaN</td>\n",
       "      <td>42.466666700000005</td>\n",
       "      <td>1.5</td>\n",
       "    </tr>\n",
       "  </tbody>\n",
       "</table>\n",
       "</div>"
      ],
      "text/plain": [
       "  country        city  accentcity region population            latitude  \\\n",
       "0      ad       aixas       Aixàs     06        NaN          42.4833333   \n",
       "1      ad  aixirivali  Aixirivali     06        NaN  42.466666700000005   \n",
       "2      ad  aixirivall  Aixirivall     06        NaN  42.466666700000005   \n",
       "\n",
       "   longitude  \n",
       "0  1.4666667  \n",
       "1        1.5  \n",
       "2        1.5  "
      ]
     },
     "execution_count": 11,
     "metadata": {},
     "output_type": "execute_result"
    }
   ],
   "source": [
    "df_world_cities.head(3)"
   ]
  },
  {
   "cell_type": "code",
   "execution_count": 12,
   "metadata": {},
   "outputs": [
    {
     "data": {
      "text/html": [
       "<div>\n",
       "<style scoped>\n",
       "    .dataframe tbody tr th:only-of-type {\n",
       "        vertical-align: middle;\n",
       "    }\n",
       "\n",
       "    .dataframe tbody tr th {\n",
       "        vertical-align: top;\n",
       "    }\n",
       "\n",
       "    .dataframe thead th {\n",
       "        text-align: right;\n",
       "    }\n",
       "</style>\n",
       "<table border=\"1\" class=\"dataframe\">\n",
       "  <thead>\n",
       "    <tr style=\"text-align: right;\">\n",
       "      <th></th>\n",
       "      <th>country</th>\n",
       "      <th>city</th>\n",
       "      <th>accentcity</th>\n",
       "      <th>region</th>\n",
       "      <th>population</th>\n",
       "      <th>latitude</th>\n",
       "      <th>longitude</th>\n",
       "    </tr>\n",
       "  </thead>\n",
       "  <tbody>\n",
       "    <tr>\n",
       "      <th>1673956</th>\n",
       "      <td>zw</td>\n",
       "      <td>zizalisari</td>\n",
       "      <td>Zizalisari</td>\n",
       "      <td>04</td>\n",
       "      <td>NaN</td>\n",
       "      <td>-17.7588889</td>\n",
       "      <td>31.010555600000004</td>\n",
       "    </tr>\n",
       "    <tr>\n",
       "      <th>1673957</th>\n",
       "      <td>zw</td>\n",
       "      <td>zuzumba</td>\n",
       "      <td>Zuzumba</td>\n",
       "      <td>06</td>\n",
       "      <td>NaN</td>\n",
       "      <td>-20.033333300000002</td>\n",
       "      <td>27.933333299999997</td>\n",
       "    </tr>\n",
       "    <tr>\n",
       "      <th>1673958</th>\n",
       "      <td>zw</td>\n",
       "      <td>zvishavane</td>\n",
       "      <td>Zvishavane</td>\n",
       "      <td>07</td>\n",
       "      <td>79876.0</td>\n",
       "      <td>-20.3333333</td>\n",
       "      <td>30.0333333</td>\n",
       "    </tr>\n",
       "  </tbody>\n",
       "</table>\n",
       "</div>"
      ],
      "text/plain": [
       "        country        city  accentcity region population  \\\n",
       "1673956      zw  zizalisari  Zizalisari     04        NaN   \n",
       "1673957      zw     zuzumba     Zuzumba     06        NaN   \n",
       "1673958      zw  zvishavane  Zvishavane     07    79876.0   \n",
       "\n",
       "                    latitude           longitude  \n",
       "1673956          -17.7588889  31.010555600000004  \n",
       "1673957  -20.033333300000002  27.933333299999997  \n",
       "1673958          -20.3333333          30.0333333  "
      ]
     },
     "execution_count": 12,
     "metadata": {},
     "output_type": "execute_result"
    }
   ],
   "source": [
    "df_world_cities.tail(3)"
   ]
  },
  {
   "cell_type": "code",
   "execution_count": 13,
   "metadata": {},
   "outputs": [],
   "source": [
    "df_world_cities = df_world_cities.merge(df_country_code[['alpha-2 code', 'english short name lower case']],\n",
    "                                         how='left', left_on='country', right_on='alpha-2 code')"
   ]
  },
  {
   "cell_type": "code",
   "execution_count": 14,
   "metadata": {},
   "outputs": [],
   "source": [
    "df_world_cities.drop(columns=['country', 'city', 'region', 'alpha-2 code'], inplace=True)"
   ]
  },
  {
   "cell_type": "code",
   "execution_count": 15,
   "metadata": {},
   "outputs": [],
   "source": [
    "df_world_cities.columns = ['city', 'population','latitude', 'longitude', 'country']"
   ]
  },
  {
   "cell_type": "code",
   "execution_count": 16,
   "metadata": {},
   "outputs": [
    {
     "data": {
      "text/plain": [
       "(2611448, 5)"
      ]
     },
     "execution_count": 16,
     "metadata": {},
     "output_type": "execute_result"
    }
   ],
   "source": [
    "df_world_cities.shape"
   ]
  },
  {
   "cell_type": "code",
   "execution_count": 17,
   "metadata": {},
   "outputs": [],
   "source": [
    "df_world_cities = df_world_cities[df_world_cities['country'].notna()]\n",
    "df_world_cities = df_world_cities[df_world_cities['city'].notna()]"
   ]
  },
  {
   "cell_type": "code",
   "execution_count": 18,
   "metadata": {},
   "outputs": [],
   "source": [
    "df_world_cities = df_world_cities[['country', 'city', 'population', 'latitude', 'longitude']]"
   ]
  },
  {
   "cell_type": "code",
   "execution_count": 19,
   "metadata": {},
   "outputs": [
    {
     "data": {
      "text/html": [
       "<div>\n",
       "<style scoped>\n",
       "    .dataframe tbody tr th:only-of-type {\n",
       "        vertical-align: middle;\n",
       "    }\n",
       "\n",
       "    .dataframe tbody tr th {\n",
       "        vertical-align: top;\n",
       "    }\n",
       "\n",
       "    .dataframe thead th {\n",
       "        text-align: right;\n",
       "    }\n",
       "</style>\n",
       "<table border=\"1\" class=\"dataframe\">\n",
       "  <thead>\n",
       "    <tr style=\"text-align: right;\">\n",
       "      <th></th>\n",
       "      <th>country</th>\n",
       "      <th>city</th>\n",
       "      <th>population</th>\n",
       "      <th>latitude</th>\n",
       "      <th>longitude</th>\n",
       "    </tr>\n",
       "  </thead>\n",
       "  <tbody>\n",
       "    <tr>\n",
       "      <th>0</th>\n",
       "      <td>Andorra</td>\n",
       "      <td>Aixàs</td>\n",
       "      <td>NaN</td>\n",
       "      <td>42.4833333</td>\n",
       "      <td>1.4666667</td>\n",
       "    </tr>\n",
       "    <tr>\n",
       "      <th>1</th>\n",
       "      <td>Andorra</td>\n",
       "      <td>Aixirivali</td>\n",
       "      <td>NaN</td>\n",
       "      <td>42.466666700000005</td>\n",
       "      <td>1.5</td>\n",
       "    </tr>\n",
       "    <tr>\n",
       "      <th>2</th>\n",
       "      <td>Andorra</td>\n",
       "      <td>Aixirivall</td>\n",
       "      <td>NaN</td>\n",
       "      <td>42.466666700000005</td>\n",
       "      <td>1.5</td>\n",
       "    </tr>\n",
       "    <tr>\n",
       "      <th>3</th>\n",
       "      <td>Andorra</td>\n",
       "      <td>Aixirvall</td>\n",
       "      <td>NaN</td>\n",
       "      <td>42.466666700000005</td>\n",
       "      <td>1.5</td>\n",
       "    </tr>\n",
       "    <tr>\n",
       "      <th>4</th>\n",
       "      <td>Andorra</td>\n",
       "      <td>Aixovall</td>\n",
       "      <td>NaN</td>\n",
       "      <td>42.466666700000005</td>\n",
       "      <td>1.4833333</td>\n",
       "    </tr>\n",
       "    <tr>\n",
       "      <th>...</th>\n",
       "      <td>...</td>\n",
       "      <td>...</td>\n",
       "      <td>...</td>\n",
       "      <td>...</td>\n",
       "      <td>...</td>\n",
       "    </tr>\n",
       "    <tr>\n",
       "      <th>2611443</th>\n",
       "      <td>Zimbabwe</td>\n",
       "      <td>Zimre Park</td>\n",
       "      <td>NaN</td>\n",
       "      <td>-17.8661111</td>\n",
       "      <td>31.213611100000005</td>\n",
       "    </tr>\n",
       "    <tr>\n",
       "      <th>2611444</th>\n",
       "      <td>Zimbabwe</td>\n",
       "      <td>Ziyakamanas</td>\n",
       "      <td>NaN</td>\n",
       "      <td>-18.216666699999998</td>\n",
       "      <td>27.95</td>\n",
       "    </tr>\n",
       "    <tr>\n",
       "      <th>2611445</th>\n",
       "      <td>Zimbabwe</td>\n",
       "      <td>Zizalisari</td>\n",
       "      <td>NaN</td>\n",
       "      <td>-17.7588889</td>\n",
       "      <td>31.010555600000004</td>\n",
       "    </tr>\n",
       "    <tr>\n",
       "      <th>2611446</th>\n",
       "      <td>Zimbabwe</td>\n",
       "      <td>Zuzumba</td>\n",
       "      <td>NaN</td>\n",
       "      <td>-20.033333300000002</td>\n",
       "      <td>27.933333299999997</td>\n",
       "    </tr>\n",
       "    <tr>\n",
       "      <th>2611447</th>\n",
       "      <td>Zimbabwe</td>\n",
       "      <td>Zvishavane</td>\n",
       "      <td>79876.0</td>\n",
       "      <td>-20.3333333</td>\n",
       "      <td>30.0333333</td>\n",
       "    </tr>\n",
       "  </tbody>\n",
       "</table>\n",
       "<p>2589183 rows × 5 columns</p>\n",
       "</div>"
      ],
      "text/plain": [
       "          country         city population             latitude  \\\n",
       "0         Andorra        Aixàs        NaN           42.4833333   \n",
       "1         Andorra   Aixirivali        NaN   42.466666700000005   \n",
       "2         Andorra   Aixirivall        NaN   42.466666700000005   \n",
       "3         Andorra    Aixirvall        NaN   42.466666700000005   \n",
       "4         Andorra     Aixovall        NaN   42.466666700000005   \n",
       "...           ...          ...        ...                  ...   \n",
       "2611443  Zimbabwe   Zimre Park        NaN          -17.8661111   \n",
       "2611444  Zimbabwe  Ziyakamanas        NaN  -18.216666699999998   \n",
       "2611445  Zimbabwe   Zizalisari        NaN          -17.7588889   \n",
       "2611446  Zimbabwe      Zuzumba        NaN  -20.033333300000002   \n",
       "2611447  Zimbabwe   Zvishavane    79876.0          -20.3333333   \n",
       "\n",
       "                  longitude  \n",
       "0                 1.4666667  \n",
       "1                       1.5  \n",
       "2                       1.5  \n",
       "3                       1.5  \n",
       "4                 1.4833333  \n",
       "...                     ...  \n",
       "2611443  31.213611100000005  \n",
       "2611444               27.95  \n",
       "2611445  31.010555600000004  \n",
       "2611446  27.933333299999997  \n",
       "2611447          30.0333333  \n",
       "\n",
       "[2589183 rows x 5 columns]"
      ]
     },
     "execution_count": 19,
     "metadata": {},
     "output_type": "execute_result"
    }
   ],
   "source": [
    "df_world_cities"
   ]
  },
  {
   "cell_type": "markdown",
   "metadata": {},
   "source": [
    "### Lat_lon"
   ]
  },
  {
   "cell_type": "code",
   "execution_count": 20,
   "metadata": {},
   "outputs": [],
   "source": [
    "# palmyra = LatLon(Latitude(42.4833333), Longitude(1.4666667)) # Location of Palmyra Atoll in decimal degrees\n",
    "# palmyra = LatLon(5.8833, -162.0833) # Same thing but simpler!\n",
    "# palmyra = LatLon(Latitude(degree = 5, minute = 52, second = 59.88), Longitude(degree = -162, minute = -4.998) # or more complicated!\n",
    "# cordinates = palmyra.to_string('d% %m% %S% %H') # Print coordinates to degree minute second\n",
    "# ('5 52 59.88 N', '162 4 59.88 W')"
   ]
  },
  {
   "cell_type": "code",
   "execution_count": 21,
   "metadata": {},
   "outputs": [],
   "source": [
    "df = df_world_cities[['latitude', 'longitude']].copy()"
   ]
  },
  {
   "cell_type": "code",
   "execution_count": 22,
   "metadata": {},
   "outputs": [],
   "source": [
    "df_world_cities['lat'], df_world_cities['lon'] = ParsingDataPrepare.lat_lon_calculate(df_world_cities)"
   ]
  },
  {
   "cell_type": "code",
   "execution_count": 23,
   "metadata": {},
   "outputs": [
    {
     "data": {
      "text/html": [
       "<div>\n",
       "<style scoped>\n",
       "    .dataframe tbody tr th:only-of-type {\n",
       "        vertical-align: middle;\n",
       "    }\n",
       "\n",
       "    .dataframe tbody tr th {\n",
       "        vertical-align: top;\n",
       "    }\n",
       "\n",
       "    .dataframe thead th {\n",
       "        text-align: right;\n",
       "    }\n",
       "</style>\n",
       "<table border=\"1\" class=\"dataframe\">\n",
       "  <thead>\n",
       "    <tr style=\"text-align: right;\">\n",
       "      <th></th>\n",
       "      <th>country</th>\n",
       "      <th>city</th>\n",
       "      <th>population</th>\n",
       "      <th>latitude</th>\n",
       "      <th>longitude</th>\n",
       "      <th>lat</th>\n",
       "      <th>lon</th>\n",
       "    </tr>\n",
       "  </thead>\n",
       "  <tbody>\n",
       "    <tr>\n",
       "      <th>0</th>\n",
       "      <td>Andorra</td>\n",
       "      <td>Aixàs</td>\n",
       "      <td>NaN</td>\n",
       "      <td>42.483333</td>\n",
       "      <td>1.466667</td>\n",
       "      <td>42n28</td>\n",
       "      <td>1e28</td>\n",
       "    </tr>\n",
       "    <tr>\n",
       "      <th>1</th>\n",
       "      <td>Andorra</td>\n",
       "      <td>Aixirivali</td>\n",
       "      <td>NaN</td>\n",
       "      <td>42.466667</td>\n",
       "      <td>1.500000</td>\n",
       "      <td>42n28</td>\n",
       "      <td>1e30</td>\n",
       "    </tr>\n",
       "    <tr>\n",
       "      <th>2</th>\n",
       "      <td>Andorra</td>\n",
       "      <td>Aixirivall</td>\n",
       "      <td>NaN</td>\n",
       "      <td>42.466667</td>\n",
       "      <td>1.500000</td>\n",
       "      <td>42n28</td>\n",
       "      <td>1e30</td>\n",
       "    </tr>\n",
       "    <tr>\n",
       "      <th>3</th>\n",
       "      <td>Andorra</td>\n",
       "      <td>Aixirvall</td>\n",
       "      <td>NaN</td>\n",
       "      <td>42.466667</td>\n",
       "      <td>1.500000</td>\n",
       "      <td>42n28</td>\n",
       "      <td>1e30</td>\n",
       "    </tr>\n",
       "    <tr>\n",
       "      <th>4</th>\n",
       "      <td>Andorra</td>\n",
       "      <td>Aixovall</td>\n",
       "      <td>NaN</td>\n",
       "      <td>42.466667</td>\n",
       "      <td>1.483333</td>\n",
       "      <td>42n28</td>\n",
       "      <td>1e28</td>\n",
       "    </tr>\n",
       "    <tr>\n",
       "      <th>...</th>\n",
       "      <td>...</td>\n",
       "      <td>...</td>\n",
       "      <td>...</td>\n",
       "      <td>...</td>\n",
       "      <td>...</td>\n",
       "      <td>...</td>\n",
       "      <td>...</td>\n",
       "    </tr>\n",
       "    <tr>\n",
       "      <th>2589178</th>\n",
       "      <td>Zimbabwe</td>\n",
       "      <td>Zimre Park</td>\n",
       "      <td>NaN</td>\n",
       "      <td>-17.866111</td>\n",
       "      <td>31.213611</td>\n",
       "      <td>17s51</td>\n",
       "      <td>31e12</td>\n",
       "    </tr>\n",
       "    <tr>\n",
       "      <th>2589179</th>\n",
       "      <td>Zimbabwe</td>\n",
       "      <td>Ziyakamanas</td>\n",
       "      <td>NaN</td>\n",
       "      <td>-18.216667</td>\n",
       "      <td>27.950000</td>\n",
       "      <td>18s13</td>\n",
       "      <td>27e56</td>\n",
       "    </tr>\n",
       "    <tr>\n",
       "      <th>2589180</th>\n",
       "      <td>Zimbabwe</td>\n",
       "      <td>Zizalisari</td>\n",
       "      <td>NaN</td>\n",
       "      <td>-17.758889</td>\n",
       "      <td>31.010556</td>\n",
       "      <td>17s45</td>\n",
       "      <td>31e0</td>\n",
       "    </tr>\n",
       "    <tr>\n",
       "      <th>2589181</th>\n",
       "      <td>Zimbabwe</td>\n",
       "      <td>Zuzumba</td>\n",
       "      <td>NaN</td>\n",
       "      <td>-20.033333</td>\n",
       "      <td>27.933333</td>\n",
       "      <td>20s1</td>\n",
       "      <td>27e55</td>\n",
       "    </tr>\n",
       "    <tr>\n",
       "      <th>2589182</th>\n",
       "      <td>Zimbabwe</td>\n",
       "      <td>Zvishavane</td>\n",
       "      <td>79876.0</td>\n",
       "      <td>-20.333333</td>\n",
       "      <td>30.033333</td>\n",
       "      <td>20s19</td>\n",
       "      <td>30e1</td>\n",
       "    </tr>\n",
       "  </tbody>\n",
       "</table>\n",
       "<p>2589183 rows × 7 columns</p>\n",
       "</div>"
      ],
      "text/plain": [
       "          country         city population   latitude  longitude    lat    lon\n",
       "0         Andorra        Aixàs        NaN  42.483333   1.466667  42n28   1e28\n",
       "1         Andorra   Aixirivali        NaN  42.466667   1.500000  42n28   1e30\n",
       "2         Andorra   Aixirivall        NaN  42.466667   1.500000  42n28   1e30\n",
       "3         Andorra    Aixirvall        NaN  42.466667   1.500000  42n28   1e30\n",
       "4         Andorra     Aixovall        NaN  42.466667   1.483333  42n28   1e28\n",
       "...           ...          ...        ...        ...        ...    ...    ...\n",
       "2589178  Zimbabwe   Zimre Park        NaN -17.866111  31.213611  17s51  31e12\n",
       "2589179  Zimbabwe  Ziyakamanas        NaN -18.216667  27.950000  18s13  27e56\n",
       "2589180  Zimbabwe   Zizalisari        NaN -17.758889  31.010556  17s45   31e0\n",
       "2589181  Zimbabwe      Zuzumba        NaN -20.033333  27.933333   20s1  27e55\n",
       "2589182  Zimbabwe   Zvishavane    79876.0 -20.333333  30.033333  20s19   30e1\n",
       "\n",
       "[2589183 rows x 7 columns]"
      ]
     },
     "execution_count": 23,
     "metadata": {},
     "output_type": "execute_result"
    }
   ],
   "source": [
    "df_world_cities"
   ]
  },
  {
   "cell_type": "markdown",
   "metadata": {},
   "source": [
    "#### Devide df_world_cities on two files because it size wery big for git"
   ]
  },
  {
   "cell_type": "code",
   "execution_count": 34,
   "metadata": {},
   "outputs": [],
   "source": [
    "df_world_cities_1 = df_world_cities.loc[:1200000,]\n",
    "df_world_cities_2 = df_world_cities.loc[1200001:,]"
   ]
  },
  {
   "cell_type": "code",
   "execution_count": 41,
   "metadata": {},
   "outputs": [],
   "source": [
    "# world_cities = open('pickle_files/df_world_cities_2', 'wb')\n",
    "# pickle.dump(df_world_cities_2, world_cities)  \n",
    "# world_cities.close()"
   ]
  },
  {
   "cell_type": "code",
   "execution_count": 42,
   "metadata": {},
   "outputs": [],
   "source": [
    "# with open('pickle_files/df_world_cities_1', 'rb') as f:\n",
    "#     world_cities = pickle.load(f)"
   ]
  },
  {
   "cell_type": "code",
   "execution_count": 40,
   "metadata": {},
   "outputs": [],
   "source": [
    "# world_cities"
   ]
  }
 ],
 "metadata": {
  "kernelspec": {
   "display_name": "Python 3 (ipykernel)",
   "language": "python",
   "name": "python3"
  },
  "language_info": {
   "codemirror_mode": {
    "name": "ipython",
    "version": 3
   },
   "file_extension": ".py",
   "mimetype": "text/x-python",
   "name": "python",
   "nbconvert_exporter": "python",
   "pygments_lexer": "ipython3",
   "version": "3.9.7"
  }
 },
 "nbformat": 4,
 "nbformat_minor": 4
}

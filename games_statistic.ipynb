{
 "cells": [
  {
   "cell_type": "code",
   "execution_count": 1,
   "id": "adjustable-flight",
   "metadata": {},
   "outputs": [],
   "source": [
    "import pickle\n",
    "import pandas as pd\n",
    "import numpy as np\n",
    "import re\n",
    "import os\n",
    "import unicodedata\n",
    "\n",
    "pd.set_option('display.max_rows', 1000)\n",
    "pd.set_option('display.max_columns', 1000)\n",
    "pd.set_option('display.max_colwidth', 500)"
   ]
  },
  {
   "cell_type": "code",
   "execution_count": 2,
   "id": "perfect-logging",
   "metadata": {},
   "outputs": [],
   "source": [
    "# number of col_names in list must be equal number of rows df\n",
    "def transform_columns_to_rows(df: pd.DataFrame, col_names: list):\n",
    "    pd_series = pd.DataFrame()\n",
    "    for i, col in zip(range(df.shape[0]), col_names):\n",
    "        pd_series[col] = df.stack()[i]\n",
    "    return pd_series "
   ]
  },
  {
   "cell_type": "code",
   "execution_count": 3,
   "id": "cathedral-tribune",
   "metadata": {},
   "outputs": [],
   "source": [
    "all_events_games = list()\n",
    "for file in os.listdir('pickle_files'):\n",
    "    if re.search('-Copy1', file):\n",
    "        with open('pickle_files/' + file, 'rb') as f:\n",
    "            events_games = pickle.load(f)\n",
    "            all_events_games.append(events_games)"
   ]
  },
  {
   "cell_type": "code",
   "execution_count": 5,
   "id": "grateful-split",
   "metadata": {},
   "outputs": [
    {
     "data": {
      "text/plain": [
       "13"
      ]
     },
     "execution_count": 5,
     "metadata": {},
     "output_type": "execute_result"
    }
   ],
   "source": [
    "len(all_events_games)"
   ]
  },
  {
   "cell_type": "code",
   "execution_count": 6,
   "id": "constant-rendering",
   "metadata": {},
   "outputs": [],
   "source": [
    "with open('pickle_files/top_ligues_start_1_11920200-Copy1', 'rb') as f:\n",
    "    events_games = pickle.load(f)"
   ]
  },
  {
   "cell_type": "code",
   "execution_count": 8,
   "id": "occupational-complexity",
   "metadata": {},
   "outputs": [],
   "source": [
    "df_to_transform = pd.DataFrame(events_games)"
   ]
  },
  {
   "cell_type": "code",
   "execution_count": 9,
   "id": "variable-horizontal",
   "metadata": {},
   "outputs": [],
   "source": [
    "df = transform_columns_to_rows(df_to_transform, ['event_mins', 'event_hts_ats', 'stats_dict', 'city_country', 'viewers', 'weath_temp', 'bet_coefs'])"
   ]
  },
  {
   "cell_type": "code",
   "execution_count": 10,
   "id": "dominant-exchange",
   "metadata": {},
   "outputs": [],
   "source": [
    "df.reset_index(inplace=True)\n",
    "df.rename(columns={'index':'game_id'}, inplace=True)"
   ]
  },
  {
   "cell_type": "code",
   "execution_count": 11,
   "id": "accessory-lincoln",
   "metadata": {},
   "outputs": [
    {
     "data": {
      "text/plain": [
       "(7995, 8)"
      ]
     },
     "execution_count": 11,
     "metadata": {},
     "output_type": "execute_result"
    }
   ],
   "source": [
    "df.shape"
   ]
  },
  {
   "cell_type": "markdown",
   "id": "nearby-tobacco",
   "metadata": {},
   "source": [
    "#### Calculate fist minute's goal"
   ]
  },
  {
   "cell_type": "code",
   "execution_count": 12,
   "id": "adult-soundtrack",
   "metadata": {},
   "outputs": [],
   "source": [
    "sr_goals = df[['event_mins', 'event_hts_ats']].apply(lambda x: {k:v for k, v in zip(x['event_mins'], x['event_hts_ats']) if re.findall('goal', v)}, axis=1)   "
   ]
  },
  {
   "cell_type": "code",
   "execution_count": 13,
   "id": "fiscal-platform",
   "metadata": {},
   "outputs": [],
   "source": [
    "df['fg_minute'] = sr_goals.map(lambda x: next(iter(x.keys())) if x != {} else None)"
   ]
  },
  {
   "cell_type": "markdown",
   "id": "terminal-parliament",
   "metadata": {},
   "source": [
    "#### Create cards columns"
   ]
  },
  {
   "cell_type": "code",
   "execution_count": 14,
   "id": "romantic-miami",
   "metadata": {},
   "outputs": [],
   "source": [
    "df['y_cards'] = df.stats_dict.map(lambda x: [int(i[1]) + int(i[2]) for i in x if re.findall('Yellow cards', next(iter(i)))])\n",
    "df.y_cards = df.y_cards.map(lambda x: ''.join(map(str, x)))"
   ]
  },
  {
   "cell_type": "code",
   "execution_count": 15,
   "id": "vocal-longitude",
   "metadata": {},
   "outputs": [],
   "source": [
    "df['r_cards'] = df.stats_dict.map(lambda x: [int(i[1]) + int(i[2]) for i in x if re.findall('Red cards', next(iter(i)))])\n",
    "df.r_cards = df.r_cards.map(lambda x: ''.join(map(str, x)))"
   ]
  },
  {
   "cell_type": "code",
   "execution_count": 16,
   "id": "subsequent-liver",
   "metadata": {},
   "outputs": [
    {
     "data": {
      "text/plain": [
       "0    6410\n",
       "1    1204\n",
       "      191\n",
       "2     168\n",
       "3      18\n",
       "4       3\n",
       "6       1\n",
       "Name: r_cards, dtype: int64"
      ]
     },
     "execution_count": 16,
     "metadata": {},
     "output_type": "execute_result"
    }
   ],
   "source": [
    "df.r_cards.value_counts()"
   ]
  },
  {
   "cell_type": "code",
   "execution_count": 17,
   "id": "photographic-intensity",
   "metadata": {},
   "outputs": [],
   "source": [
    "df.y_cards  = df[['event_hts_ats', 'y_cards']].apply(lambda x: x['event_hts_ats'].count('yellowcard') if x['y_cards'] == '' else x['y_cards'], axis=1) \n",
    "df.r_cards  = df[['event_hts_ats', 'r_cards']].apply(lambda x: x['event_hts_ats'].count('redcard') if x['r_cards'] == '' else x['r_cards'], axis=1) "
   ]
  },
  {
   "cell_type": "code",
   "execution_count": 18,
   "id": "postal-bargain",
   "metadata": {},
   "outputs": [],
   "source": [
    "df.y_cards = df.y_cards.astype(int)\n",
    "df.r_cards = df.r_cards.astype(int)"
   ]
  },
  {
   "cell_type": "code",
   "execution_count": 19,
   "id": "eastern-nothing",
   "metadata": {},
   "outputs": [
    {
     "data": {
      "text/plain": [
       "0    6584\n",
       "1    1219\n",
       "2     170\n",
       "3      18\n",
       "4       3\n",
       "6       1\n",
       "Name: r_cards, dtype: int64"
      ]
     },
     "execution_count": 19,
     "metadata": {},
     "output_type": "execute_result"
    }
   ],
   "source": [
    "df.r_cards.value_counts()"
   ]
  },
  {
   "cell_type": "code",
   "execution_count": 20,
   "id": "adjusted-employee",
   "metadata": {},
   "outputs": [],
   "source": [
    "df['card_coef'] = df.y_cards + df.r_cards*2"
   ]
  },
  {
   "cell_type": "markdown",
   "id": "human-prairie",
   "metadata": {},
   "source": [
    "#### Calculate 'mispen' and 'owngoal' in event_hts_ats"
   ]
  },
  {
   "cell_type": "code",
   "execution_count": 21,
   "id": "appropriate-agriculture",
   "metadata": {},
   "outputs": [],
   "source": [
    "df['mispen'] = df.event_hts_ats.map(lambda x: True if any(i == 'mispen' for i in x) else False)\n",
    "df['owngoal'] = df.event_hts_ats.map(lambda x: True if any(i == 'owngoal' for i in x) else False)"
   ]
  },
  {
   "cell_type": "code",
   "execution_count": 22,
   "id": "strategic-favor",
   "metadata": {},
   "outputs": [
    {
     "data": {
      "text/plain": [
       "False    7480\n",
       "True      515\n",
       "Name: mispen, dtype: int64"
      ]
     },
     "execution_count": 22,
     "metadata": {},
     "output_type": "execute_result"
    }
   ],
   "source": [
    "df.mispen.value_counts()"
   ]
  },
  {
   "cell_type": "code",
   "execution_count": 23,
   "id": "guilty-wells",
   "metadata": {},
   "outputs": [
    {
     "data": {
      "text/plain": [
       "False    7454\n",
       "True      541\n",
       "Name: owngoal, dtype: int64"
      ]
     },
     "execution_count": 23,
     "metadata": {},
     "output_type": "execute_result"
    }
   ],
   "source": [
    "df.owngoal.value_counts()"
   ]
  },
  {
   "cell_type": "markdown",
   "id": "concerned-british",
   "metadata": {},
   "source": [
    "#### Calculate bets coefficients"
   ]
  },
  {
   "cell_type": "code",
   "execution_count": 24,
   "id": "center-extreme",
   "metadata": {},
   "outputs": [],
   "source": [
    "sr_bets = df.bet_coefs.map(lambda x:{i:v for i, v in enumerate(x[1])})                  "
   ]
  },
  {
   "cell_type": "code",
   "execution_count": 25,
   "id": "chubby-finish",
   "metadata": {},
   "outputs": [
    {
     "data": {
      "text/html": [
       "<div>\n",
       "<style scoped>\n",
       "    .dataframe tbody tr th:only-of-type {\n",
       "        vertical-align: middle;\n",
       "    }\n",
       "\n",
       "    .dataframe tbody tr th {\n",
       "        vertical-align: top;\n",
       "    }\n",
       "\n",
       "    .dataframe thead th {\n",
       "        text-align: right;\n",
       "    }\n",
       "</style>\n",
       "<table border=\"1\" class=\"dataframe\">\n",
       "  <thead>\n",
       "    <tr style=\"text-align: right;\">\n",
       "      <th></th>\n",
       "      <th>bet_coefs</th>\n",
       "    </tr>\n",
       "  </thead>\n",
       "  <tbody>\n",
       "    <tr>\n",
       "      <th>0</th>\n",
       "      <td>{0: '2.49', 1: '3.66', 2: '2.80', 3: '3.20', 4: '1.37'}</td>\n",
       "    </tr>\n",
       "  </tbody>\n",
       "</table>\n",
       "</div>"
      ],
      "text/plain": [
       "                                                 bet_coefs\n",
       "0  {0: '2.49', 1: '3.66', 2: '2.80', 3: '3.20', 4: '1.37'}"
      ]
     },
     "execution_count": 25,
     "metadata": {},
     "output_type": "execute_result"
    }
   ],
   "source": [
    "df_bets = pd.DataFrame(sr_bets)\n",
    "df_bets.head(1)"
   ]
  },
  {
   "cell_type": "code",
   "execution_count": 26,
   "id": "maritime-grammar",
   "metadata": {},
   "outputs": [],
   "source": [
    "df_bets = pd.DataFrame(df_bets['bet_coefs'].values.tolist(), index=df_bets.index)\n",
    "df_bets.columns = ['1', 'X', '2', 'TM', 'TB']"
   ]
  },
  {
   "cell_type": "code",
   "execution_count": 29,
   "id": "integrated-vermont",
   "metadata": {},
   "outputs": [
    {
     "data": {
      "text/html": [
       "<div>\n",
       "<style scoped>\n",
       "    .dataframe tbody tr th:only-of-type {\n",
       "        vertical-align: middle;\n",
       "    }\n",
       "\n",
       "    .dataframe tbody tr th {\n",
       "        vertical-align: top;\n",
       "    }\n",
       "\n",
       "    .dataframe thead th {\n",
       "        text-align: right;\n",
       "    }\n",
       "</style>\n",
       "<table border=\"1\" class=\"dataframe\">\n",
       "  <thead>\n",
       "    <tr style=\"text-align: right;\">\n",
       "      <th></th>\n",
       "      <th>1</th>\n",
       "      <th>X</th>\n",
       "      <th>2</th>\n",
       "      <th>TM</th>\n",
       "      <th>TB</th>\n",
       "    </tr>\n",
       "  </thead>\n",
       "  <tbody>\n",
       "    <tr>\n",
       "      <th>0</th>\n",
       "      <td>2.49</td>\n",
       "      <td>3.66</td>\n",
       "      <td>2.80</td>\n",
       "      <td>3.20</td>\n",
       "      <td>1.37</td>\n",
       "    </tr>\n",
       "    <tr>\n",
       "      <th>1</th>\n",
       "      <td>1.71</td>\n",
       "      <td>4.32</td>\n",
       "      <td>4.82</td>\n",
       "      <td>2.32</td>\n",
       "      <td>1.58</td>\n",
       "    </tr>\n",
       "    <tr>\n",
       "      <th>2</th>\n",
       "      <td>2.32</td>\n",
       "      <td>3.09</td>\n",
       "      <td>3.60</td>\n",
       "      <td>1.36</td>\n",
       "      <td>3.24</td>\n",
       "    </tr>\n",
       "  </tbody>\n",
       "</table>\n",
       "</div>"
      ],
      "text/plain": [
       "      1     X     2    TM    TB\n",
       "0  2.49  3.66  2.80  3.20  1.37\n",
       "1  1.71  4.32  4.82  2.32  1.58\n",
       "2  2.32  3.09  3.60  1.36  3.24"
      ]
     },
     "execution_count": 29,
     "metadata": {},
     "output_type": "execute_result"
    }
   ],
   "source": [
    "df_bets.head(3)"
   ]
  },
  {
   "cell_type": "code",
   "execution_count": 30,
   "id": "ordered-lawrence",
   "metadata": {},
   "outputs": [],
   "source": [
    "df[df_bets.columns] = df_bets"
   ]
  },
  {
   "cell_type": "code",
   "execution_count": 33,
   "id": "coupled-artwork",
   "metadata": {},
   "outputs": [
    {
     "data": {
      "text/plain": [
       "                          593\n",
       "London, United Kingdom    262\n",
       "Sao Paulo, Brazil         244\n",
       "Rio de Janeiro, Brazil    195\n",
       "Belo Horizonte, Brazil    149\n",
       "Name: city_country, dtype: int64"
      ]
     },
     "execution_count": 33,
     "metadata": {},
     "output_type": "execute_result"
    }
   ],
   "source": [
    "df.city_country.value_counts().head(5)"
   ]
  },
  {
   "cell_type": "markdown",
   "id": "adult-ethiopia",
   "metadata": {},
   "source": [
    "#### Create country and city columns"
   ]
  },
  {
   "cell_type": "code",
   "execution_count": 34,
   "id": "agreed-australian",
   "metadata": {},
   "outputs": [],
   "source": [
    "df['city'] = df.city_country.map(lambda x: x.split(',')[0] if len(x.split(',')) > 1 else None)\n",
    "df['country']  = df.city_country.map(lambda x: x.split(',')[1] if len(x.split(',')) > 1 else (x.split(',')[0] if x is not  None else None)) "
   ]
  },
  {
   "cell_type": "markdown",
   "id": "designed-queen",
   "metadata": {},
   "source": [
    "#### Merge df with games statistic with df_all_mdf_all_matches"
   ]
  },
  {
   "cell_type": "code",
   "execution_count": 35,
   "id": "orange-albany",
   "metadata": {},
   "outputs": [],
   "source": [
    "col_names = ['game_id', 'fg_minute', 'y_cards', 'r_cards' ,'card_coef', 'mispen', 'owngoal', '1', 'X', '2', 'TM', 'TB', 'city', 'country']\n",
    "df = df[col_names].copy()"
   ]
  },
  {
   "cell_type": "code",
   "execution_count": 36,
   "id": "orange-seminar",
   "metadata": {},
   "outputs": [],
   "source": [
    "with open('pickle_files/df_all_matches', 'rb') as f:\n",
    "    df_all_matches = pickle.load(f)"
   ]
  },
  {
   "cell_type": "code",
   "execution_count": 37,
   "id": "integral-crest",
   "metadata": {},
   "outputs": [],
   "source": [
    "df_matches = df_all_matches[df_all_matches.game_id.isin(df.game_id)]"
   ]
  },
  {
   "cell_type": "code",
   "execution_count": 38,
   "id": "smoking-flood",
   "metadata": {},
   "outputs": [
    {
     "data": {
      "text/plain": [
       "(7995, 8)"
      ]
     },
     "execution_count": 38,
     "metadata": {},
     "output_type": "execute_result"
    }
   ],
   "source": [
    "df_matches.shape"
   ]
  },
  {
   "cell_type": "code",
   "execution_count": 39,
   "id": "figured-jimmy",
   "metadata": {},
   "outputs": [],
   "source": [
    "df_matches = df_matches.merge(df, how='left', left_on='game_id', right_on='game_id').copy()"
   ]
  },
  {
   "cell_type": "code",
   "execution_count": 60,
   "id": "golden-rental",
   "metadata": {},
   "outputs": [
    {
     "data": {
      "text/html": [
       "<div>\n",
       "<style scoped>\n",
       "    .dataframe tbody tr th:only-of-type {\n",
       "        vertical-align: middle;\n",
       "    }\n",
       "\n",
       "    .dataframe tbody tr th {\n",
       "        vertical-align: top;\n",
       "    }\n",
       "\n",
       "    .dataframe thead th {\n",
       "        text-align: right;\n",
       "    }\n",
       "</style>\n",
       "<table border=\"1\" class=\"dataframe\">\n",
       "  <thead>\n",
       "    <tr style=\"text-align: right;\">\n",
       "      <th></th>\n",
       "      <th>game_id</th>\n",
       "      <th>ligue_header</th>\n",
       "      <th>comp_id</th>\n",
       "      <th>season_id</th>\n",
       "      <th>game_utc</th>\n",
       "      <th>game_title</th>\n",
       "      <th>goals</th>\n",
       "      <th>game_status</th>\n",
       "      <th>fg_minute</th>\n",
       "      <th>y_cards</th>\n",
       "      <th>r_cards</th>\n",
       "      <th>card_coef</th>\n",
       "      <th>mispen</th>\n",
       "      <th>owngoal</th>\n",
       "      <th>1</th>\n",
       "      <th>X</th>\n",
       "      <th>2</th>\n",
       "      <th>TM</th>\n",
       "      <th>TB</th>\n",
       "      <th>city</th>\n",
       "      <th>country</th>\n",
       "      <th>home_team</th>\n",
       "      <th>guest_team</th>\n",
       "    </tr>\n",
       "  </thead>\n",
       "  <tbody>\n",
       "    <tr>\n",
       "      <th>0</th>\n",
       "      <td>14898157</td>\n",
       "      <td>1. Bundesliga</td>\n",
       "      <td>17</td>\n",
       "      <td>300</td>\n",
       "      <td>05.10.2019 16:30</td>\n",
       "      <td>Paderborn - Mainz</td>\n",
       "      <td>1:2</td>\n",
       "      <td>Finished</td>\n",
       "      <td>8</td>\n",
       "      <td>5</td>\n",
       "      <td>0</td>\n",
       "      <td>5</td>\n",
       "      <td>True</td>\n",
       "      <td>False</td>\n",
       "      <td>2.49</td>\n",
       "      <td>3.66</td>\n",
       "      <td>2.80</td>\n",
       "      <td>3.20</td>\n",
       "      <td>1.37</td>\n",
       "      <td>Paderborn</td>\n",
       "      <td>Germany</td>\n",
       "      <td>Paderborn</td>\n",
       "      <td>Mainz</td>\n",
       "    </tr>\n",
       "    <tr>\n",
       "      <th>1</th>\n",
       "      <td>14898156</td>\n",
       "      <td>1. Bundesliga</td>\n",
       "      <td>17</td>\n",
       "      <td>300</td>\n",
       "      <td>05.10.2019 19:30</td>\n",
       "      <td>Schalke - Köln</td>\n",
       "      <td>1:1</td>\n",
       "      <td>Finished</td>\n",
       "      <td>72</td>\n",
       "      <td>8</td>\n",
       "      <td>0</td>\n",
       "      <td>8</td>\n",
       "      <td>False</td>\n",
       "      <td>False</td>\n",
       "      <td>1.71</td>\n",
       "      <td>4.32</td>\n",
       "      <td>4.82</td>\n",
       "      <td>2.32</td>\n",
       "      <td>1.58</td>\n",
       "      <td>Gelsenkirchen</td>\n",
       "      <td>Germany</td>\n",
       "      <td>Schalke</td>\n",
       "      <td>Köln</td>\n",
       "    </tr>\n",
       "    <tr>\n",
       "      <th>2</th>\n",
       "      <td>14900649</td>\n",
       "      <td>Premier Liga</td>\n",
       "      <td>13</td>\n",
       "      <td>300</td>\n",
       "      <td>05.10.2019 11:30</td>\n",
       "      <td>Ufa - Ahmat</td>\n",
       "      <td>0:1</td>\n",
       "      <td>Finished</td>\n",
       "      <td>9</td>\n",
       "      <td>4</td>\n",
       "      <td>0</td>\n",
       "      <td>4</td>\n",
       "      <td>False</td>\n",
       "      <td>False</td>\n",
       "      <td>2.32</td>\n",
       "      <td>3.09</td>\n",
       "      <td>3.60</td>\n",
       "      <td>1.36</td>\n",
       "      <td>3.24</td>\n",
       "      <td>Ufa</td>\n",
       "      <td>Russia</td>\n",
       "      <td>Ufa</td>\n",
       "      <td>Ahmat</td>\n",
       "    </tr>\n",
       "  </tbody>\n",
       "</table>\n",
       "</div>"
      ],
      "text/plain": [
       "    game_id   ligue_header comp_id season_id          game_utc  \\\n",
       "0  14898157  1. Bundesliga      17       300  05.10.2019 16:30   \n",
       "1  14898156  1. Bundesliga      17       300  05.10.2019 19:30   \n",
       "2  14900649   Premier Liga      13       300  05.10.2019 11:30   \n",
       "\n",
       "          game_title goals game_status fg_minute  y_cards  r_cards  card_coef  \\\n",
       "0  Paderborn - Mainz   1:2    Finished         8        5        0          5   \n",
       "1     Schalke - Köln   1:1    Finished        72        8        0          8   \n",
       "2        Ufa - Ahmat   0:1    Finished         9        4        0          4   \n",
       "\n",
       "   mispen  owngoal     1     X     2    TM    TB           city   country  \\\n",
       "0    True    False  2.49  3.66  2.80  3.20  1.37      Paderborn   Germany   \n",
       "1   False    False  1.71  4.32  4.82  2.32  1.58  Gelsenkirchen   Germany   \n",
       "2   False    False  2.32  3.09  3.60  1.36  3.24            Ufa    Russia   \n",
       "\n",
       "   home_team guest_team  \n",
       "0  Paderborn      Mainz  \n",
       "1    Schalke       Köln  \n",
       "2        Ufa      Ahmat  "
      ]
     },
     "execution_count": 60,
     "metadata": {},
     "output_type": "execute_result"
    }
   ],
   "source": [
    "df_matches.head(3)"
   ]
  },
  {
   "cell_type": "markdown",
   "id": "regulation-pilot",
   "metadata": {},
   "source": [
    "#### Create home_team and guest_team columns"
   ]
  },
  {
   "cell_type": "code",
   "execution_count": 58,
   "id": "compressed-london",
   "metadata": {},
   "outputs": [],
   "source": [
    "df_matches['home_team'] = df_matches.game_title.map(lambda x: x.split('-')[0].rstrip())\n",
    "df_matches['guest_team']  = df_matches.game_title.map(lambda x: x.split('-')[1].rstrip()) "
   ]
  },
  {
   "cell_type": "markdown",
   "id": "annoying-insulin",
   "metadata": {},
   "source": [
    "#### Load df_teams_data for geting teams city and country in empty cells"
   ]
  },
  {
   "cell_type": "code",
   "execution_count": 190,
   "id": "dangerous-resource",
   "metadata": {},
   "outputs": [],
   "source": [
    "with open('pickle_files/df_teams_data', 'rb') as f:\n",
    "    df_teams_data = pickle.load(f)"
   ]
  },
  {
   "cell_type": "code",
   "execution_count": 192,
   "id": "metallic-massage",
   "metadata": {},
   "outputs": [
    {
     "data": {
      "text/html": [
       "<div>\n",
       "<style scoped>\n",
       "    .dataframe tbody tr th:only-of-type {\n",
       "        vertical-align: middle;\n",
       "    }\n",
       "\n",
       "    .dataframe tbody tr th {\n",
       "        vertical-align: top;\n",
       "    }\n",
       "\n",
       "    .dataframe thead th {\n",
       "        text-align: right;\n",
       "    }\n",
       "</style>\n",
       "<table border=\"1\" class=\"dataframe\">\n",
       "  <thead>\n",
       "    <tr style=\"text-align: right;\">\n",
       "      <th></th>\n",
       "      <th>club</th>\n",
       "      <th>club_country</th>\n",
       "      <th>club_city</th>\n",
       "    </tr>\n",
       "  </thead>\n",
       "  <tbody>\n",
       "    <tr>\n",
       "      <th>0</th>\n",
       "      <td>ABC</td>\n",
       "      <td>Brazil</td>\n",
       "      <td>Natal</td>\n",
       "    </tr>\n",
       "    <tr>\n",
       "      <th>1</th>\n",
       "      <td>ACS Poli Timisoara</td>\n",
       "      <td>Romania</td>\n",
       "      <td>Timisoara</td>\n",
       "    </tr>\n",
       "    <tr>\n",
       "      <th>2</th>\n",
       "      <td>ADO Den Haag</td>\n",
       "      <td>Netherlands</td>\n",
       "      <td>Den Haag</td>\n",
       "    </tr>\n",
       "  </tbody>\n",
       "</table>\n",
       "</div>"
      ],
      "text/plain": [
       "                 club club_country  club_city\n",
       "0                 ABC       Brazil      Natal\n",
       "1  ACS Poli Timisoara      Romania  Timisoara\n",
       "2        ADO Den Haag  Netherlands   Den Haag"
      ]
     },
     "execution_count": 192,
     "metadata": {},
     "output_type": "execute_result"
    }
   ],
   "source": [
    "df_teams_data.head(3)"
   ]
  },
  {
   "cell_type": "markdown",
   "id": "black-engagement",
   "metadata": {},
   "source": [
    "##### Change no utf-8 symbols"
   ]
  },
  {
   "cell_type": "code",
   "execution_count": 193,
   "id": "stuffed-recording",
   "metadata": {},
   "outputs": [],
   "source": [
    "def find_no_utf_symbols(sr: pd.Series):\n",
    "    find_symols = r'[^.a-zA-Z0-9)(&\"\\s>;<=,-/}{\\']'\n",
    "    rare_symbols = sr.map(lambda x: ''.join(re.findall(find_symols, str(x))))\n",
    "    return rare_symbols"
   ]
  },
  {
   "cell_type": "code",
   "execution_count": 194,
   "id": "imposed-default",
   "metadata": {},
   "outputs": [
    {
     "data": {
      "text/plain": [
       "\"{''}\""
      ]
     },
     "execution_count": 194,
     "metadata": {},
     "output_type": "execute_result"
    }
   ],
   "source": [
    "no_utf_symbols = find_no_utf_symbols(df_matches.home_team)\n",
    "str(set(no_utf_symbols))"
   ]
  },
  {
   "cell_type": "code",
   "execution_count": 195,
   "id": "unable-disclaimer",
   "metadata": {},
   "outputs": [],
   "source": [
    "def str_decode(str_obj: str):\n",
    "    normalized = unicodedata.normalize('NFD', str_obj)\n",
    "    decode_str = u\"\".join([c for c in normalized if not unicodedata.combining(c)])\n",
    "    return decode_str"
   ]
  },
  {
   "cell_type": "code",
   "execution_count": 196,
   "id": "standing-clause",
   "metadata": {},
   "outputs": [],
   "source": [
    "df_matches.home_team = df_matches.home_team.map(lambda x: str_decode(str(x))) \n",
    "df_matches.guest_team = df_matches.guest_team.map(lambda x: str_decode(str(x))) "
   ]
  },
  {
   "cell_type": "code",
   "execution_count": 223,
   "id": "flying-grade",
   "metadata": {},
   "outputs": [
    {
     "data": {
      "text/html": [
       "<div>\n",
       "<style scoped>\n",
       "    .dataframe tbody tr th:only-of-type {\n",
       "        vertical-align: middle;\n",
       "    }\n",
       "\n",
       "    .dataframe tbody tr th {\n",
       "        vertical-align: top;\n",
       "    }\n",
       "\n",
       "    .dataframe thead th {\n",
       "        text-align: right;\n",
       "    }\n",
       "</style>\n",
       "<table border=\"1\" class=\"dataframe\">\n",
       "  <thead>\n",
       "    <tr style=\"text-align: right;\">\n",
       "      <th></th>\n",
       "      <th>game_id</th>\n",
       "      <th>ligue_header</th>\n",
       "      <th>comp_id</th>\n",
       "      <th>season_id</th>\n",
       "      <th>game_utc</th>\n",
       "      <th>game_title</th>\n",
       "      <th>goals</th>\n",
       "      <th>game_status</th>\n",
       "      <th>fg_minute</th>\n",
       "      <th>y_cards</th>\n",
       "      <th>r_cards</th>\n",
       "      <th>card_coef</th>\n",
       "      <th>mispen</th>\n",
       "      <th>owngoal</th>\n",
       "      <th>1</th>\n",
       "      <th>X</th>\n",
       "      <th>2</th>\n",
       "      <th>TM</th>\n",
       "      <th>TB</th>\n",
       "      <th>city</th>\n",
       "      <th>country</th>\n",
       "      <th>home_team</th>\n",
       "      <th>guest_team</th>\n",
       "    </tr>\n",
       "  </thead>\n",
       "  <tbody>\n",
       "    <tr>\n",
       "      <th>0</th>\n",
       "      <td>14898157</td>\n",
       "      <td>1. Bundesliga</td>\n",
       "      <td>17</td>\n",
       "      <td>300</td>\n",
       "      <td>05.10.2019 16:30</td>\n",
       "      <td>Paderborn - Mainz</td>\n",
       "      <td>1:2</td>\n",
       "      <td>Finished</td>\n",
       "      <td>8</td>\n",
       "      <td>5</td>\n",
       "      <td>0</td>\n",
       "      <td>5</td>\n",
       "      <td>True</td>\n",
       "      <td>False</td>\n",
       "      <td>2.49</td>\n",
       "      <td>3.66</td>\n",
       "      <td>2.80</td>\n",
       "      <td>3.20</td>\n",
       "      <td>1.37</td>\n",
       "      <td>Paderborn</td>\n",
       "      <td>Germany</td>\n",
       "      <td>Paderborn</td>\n",
       "      <td>Mainz</td>\n",
       "    </tr>\n",
       "    <tr>\n",
       "      <th>1</th>\n",
       "      <td>14898156</td>\n",
       "      <td>1. Bundesliga</td>\n",
       "      <td>17</td>\n",
       "      <td>300</td>\n",
       "      <td>05.10.2019 19:30</td>\n",
       "      <td>Schalke - Köln</td>\n",
       "      <td>1:1</td>\n",
       "      <td>Finished</td>\n",
       "      <td>72</td>\n",
       "      <td>8</td>\n",
       "      <td>0</td>\n",
       "      <td>8</td>\n",
       "      <td>False</td>\n",
       "      <td>False</td>\n",
       "      <td>1.71</td>\n",
       "      <td>4.32</td>\n",
       "      <td>4.82</td>\n",
       "      <td>2.32</td>\n",
       "      <td>1.58</td>\n",
       "      <td>Gelsenkirchen</td>\n",
       "      <td>Germany</td>\n",
       "      <td>Schalke</td>\n",
       "      <td>Koln</td>\n",
       "    </tr>\n",
       "    <tr>\n",
       "      <th>2</th>\n",
       "      <td>14900649</td>\n",
       "      <td>Premier Liga</td>\n",
       "      <td>13</td>\n",
       "      <td>300</td>\n",
       "      <td>05.10.2019 11:30</td>\n",
       "      <td>Ufa - Ahmat</td>\n",
       "      <td>0:1</td>\n",
       "      <td>Finished</td>\n",
       "      <td>9</td>\n",
       "      <td>4</td>\n",
       "      <td>0</td>\n",
       "      <td>4</td>\n",
       "      <td>False</td>\n",
       "      <td>False</td>\n",
       "      <td>2.32</td>\n",
       "      <td>3.09</td>\n",
       "      <td>3.60</td>\n",
       "      <td>1.36</td>\n",
       "      <td>3.24</td>\n",
       "      <td>Ufa</td>\n",
       "      <td>Russia</td>\n",
       "      <td>Ufa</td>\n",
       "      <td>Ahmat</td>\n",
       "    </tr>\n",
       "  </tbody>\n",
       "</table>\n",
       "</div>"
      ],
      "text/plain": [
       "    game_id   ligue_header comp_id season_id          game_utc  \\\n",
       "0  14898157  1. Bundesliga      17       300  05.10.2019 16:30   \n",
       "1  14898156  1. Bundesliga      17       300  05.10.2019 19:30   \n",
       "2  14900649   Premier Liga      13       300  05.10.2019 11:30   \n",
       "\n",
       "          game_title goals game_status fg_minute  y_cards  r_cards  card_coef  \\\n",
       "0  Paderborn - Mainz   1:2    Finished         8        5        0          5   \n",
       "1     Schalke - Köln   1:1    Finished        72        8        0          8   \n",
       "2        Ufa - Ahmat   0:1    Finished         9        4        0          4   \n",
       "\n",
       "   mispen  owngoal     1     X     2    TM    TB           city   country  \\\n",
       "0    True    False  2.49  3.66  2.80  3.20  1.37      Paderborn   Germany   \n",
       "1   False    False  1.71  4.32  4.82  2.32  1.58  Gelsenkirchen   Germany   \n",
       "2   False    False  2.32  3.09  3.60  1.36  3.24            Ufa    Russia   \n",
       "\n",
       "   home_team guest_team  \n",
       "0  Paderborn      Mainz  \n",
       "1    Schalke       Koln  \n",
       "2        Ufa      Ahmat  "
      ]
     },
     "execution_count": 223,
     "metadata": {},
     "output_type": "execute_result"
    }
   ],
   "source": [
    "df_matches.head(3)"
   ]
  },
  {
   "cell_type": "code",
   "execution_count": 198,
   "id": "parliamentary-organic",
   "metadata": {},
   "outputs": [
    {
     "data": {
      "text/plain": [
       "32"
      ]
     },
     "execution_count": 198,
     "metadata": {},
     "output_type": "execute_result"
    }
   ],
   "source": [
    "len(df_matches[df_matches.city.isna()].home_team.unique())"
   ]
  },
  {
   "cell_type": "code",
   "execution_count": 199,
   "id": "opposed-situation",
   "metadata": {},
   "outputs": [
    {
     "data": {
      "text/plain": [
       "array(['Sao Bento', 'Parana', 'Vila Nova', 'Guarani Campinas', 'Oeste',\n",
       "       'Brasil de Pelotas', 'Atletico Goianiense', 'Criciuma', 'Cuiaba',\n",
       "       'Operario Ferroviario', 'Bragantino', 'CRB', 'Vitoria',\n",
       "       'Botafogo SP', 'Nimes', 'Avai', 'Goias', 'Paysandu', 'Boa',\n",
       "       'Juventude', 'Sampaio Correa', 'Figueirense', 'Ponte Preta',\n",
       "       'Alagoano', 'Luverdense', 'ABC', 'Nautico', 'Ceara', 'Veres',\n",
       "       'Shakhtar', 'Internacional', 'Santa Cruz'], dtype=object)"
      ]
     },
     "execution_count": 199,
     "metadata": {},
     "output_type": "execute_result"
    }
   ],
   "source": [
    "miss_city_teams = df_matches[df_matches.city.isna()].home_team.unique()\n",
    "miss_city_teams"
   ]
  },
  {
   "cell_type": "code",
   "execution_count": 200,
   "id": "generic-atlantic",
   "metadata": {},
   "outputs": [],
   "source": [
    "df_miss_city = pd.DataFrame()\n",
    "\n",
    "for x in miss_city_teams:\n",
    "    miss_city = df_teams_data[df_teams_data.club.str.contains(x, regex=False)]\n",
    "    df_miss_city = pd.concat([df_miss_city, miss_city])\n",
    "\n",
    "df_miss_city.reset_index(drop=True, inplace=True)"
   ]
  },
  {
   "cell_type": "code",
   "execution_count": 205,
   "id": "formal-foster",
   "metadata": {},
   "outputs": [
    {
     "data": {
      "text/html": [
       "<div>\n",
       "<style scoped>\n",
       "    .dataframe tbody tr th:only-of-type {\n",
       "        vertical-align: middle;\n",
       "    }\n",
       "\n",
       "    .dataframe tbody tr th {\n",
       "        vertical-align: top;\n",
       "    }\n",
       "\n",
       "    .dataframe thead th {\n",
       "        text-align: right;\n",
       "    }\n",
       "</style>\n",
       "<table border=\"1\" class=\"dataframe\">\n",
       "  <thead>\n",
       "    <tr style=\"text-align: right;\">\n",
       "      <th></th>\n",
       "      <th>club</th>\n",
       "      <th>club_country</th>\n",
       "      <th>club_city</th>\n",
       "    </tr>\n",
       "  </thead>\n",
       "  <tbody>\n",
       "    <tr>\n",
       "      <th>0</th>\n",
       "      <td>Sao Bento</td>\n",
       "      <td>Brazil</td>\n",
       "      <td>Sorocaba</td>\n",
       "    </tr>\n",
       "    <tr>\n",
       "      <th>1</th>\n",
       "      <td>Athletico Paranaense</td>\n",
       "      <td>Brazil</td>\n",
       "      <td>Curitiba</td>\n",
       "    </tr>\n",
       "    <tr>\n",
       "      <th>2</th>\n",
       "      <td>Parana</td>\n",
       "      <td>Brazil</td>\n",
       "      <td>Curitiba</td>\n",
       "    </tr>\n",
       "  </tbody>\n",
       "</table>\n",
       "</div>"
      ],
      "text/plain": [
       "                   club club_country club_city\n",
       "0             Sao Bento       Brazil  Sorocaba\n",
       "1  Athletico Paranaense       Brazil  Curitiba\n",
       "2                Parana       Brazil  Curitiba"
      ]
     },
     "execution_count": 205,
     "metadata": {},
     "output_type": "execute_result"
    }
   ],
   "source": [
    "df_miss_city.head(3)"
   ]
  },
  {
   "cell_type": "code",
   "execution_count": 224,
   "id": "undefined-talent",
   "metadata": {},
   "outputs": [
    {
     "data": {
      "text/plain": [
       "array([], dtype=object)"
      ]
     },
     "execution_count": 224,
     "metadata": {},
     "output_type": "execute_result"
    }
   ],
   "source": [
    "clubs_not_in_teams_data = np.setdiff1d(miss_city_teams, df_miss_city.club)\n",
    "clubs_not_in_teams_data"
   ]
  },
  {
   "cell_type": "code",
   "execution_count": 209,
   "id": "potential-fundamental",
   "metadata": {},
   "outputs": [],
   "source": [
    "df_matches = df_matches.merge(df_miss_city[['club', 'club_country', 'club_city']], how='left', left_on='home_team', right_on='club')"
   ]
  },
  {
   "cell_type": "code",
   "execution_count": 212,
   "id": "working-reconstruction",
   "metadata": {},
   "outputs": [
    {
     "data": {
      "text/plain": [
       "Goiania          151\n",
       "Campinas         102\n",
       "Curitiba         100\n",
       "Florianopolis    100\n",
       "Maceio            81\n",
       "Name: club_city, dtype: int64"
      ]
     },
     "execution_count": 212,
     "metadata": {},
     "output_type": "execute_result"
    }
   ],
   "source": [
    "df_matches.club_city.value_counts().head()"
   ]
  },
  {
   "cell_type": "code",
   "execution_count": 218,
   "id": "green-twenty",
   "metadata": {},
   "outputs": [],
   "source": [
    "df_matches.city = np.where(df_matches.city.isna(), df_matches.club_city, df_matches.city)\n",
    "df_matches.country = np.where(df_matches.country.isna(), df_matches.club_country, df_matches.country)"
   ]
  },
  {
   "cell_type": "code",
   "execution_count": 220,
   "id": "textile-neighbor",
   "metadata": {},
   "outputs": [
    {
     "data": {
      "text/html": [
       "<div>\n",
       "<style scoped>\n",
       "    .dataframe tbody tr th:only-of-type {\n",
       "        vertical-align: middle;\n",
       "    }\n",
       "\n",
       "    .dataframe tbody tr th {\n",
       "        vertical-align: top;\n",
       "    }\n",
       "\n",
       "    .dataframe thead th {\n",
       "        text-align: right;\n",
       "    }\n",
       "</style>\n",
       "<table border=\"1\" class=\"dataframe\">\n",
       "  <thead>\n",
       "    <tr style=\"text-align: right;\">\n",
       "      <th></th>\n",
       "      <th>game_id</th>\n",
       "      <th>ligue_header</th>\n",
       "      <th>comp_id</th>\n",
       "      <th>season_id</th>\n",
       "      <th>game_utc</th>\n",
       "      <th>game_title</th>\n",
       "      <th>goals</th>\n",
       "      <th>game_status</th>\n",
       "      <th>fg_minute</th>\n",
       "      <th>y_cards</th>\n",
       "      <th>r_cards</th>\n",
       "      <th>card_coef</th>\n",
       "      <th>mispen</th>\n",
       "      <th>owngoal</th>\n",
       "      <th>1</th>\n",
       "      <th>X</th>\n",
       "      <th>2</th>\n",
       "      <th>TM</th>\n",
       "      <th>TB</th>\n",
       "      <th>city</th>\n",
       "      <th>country</th>\n",
       "      <th>home_team</th>\n",
       "      <th>guest_team</th>\n",
       "      <th>club</th>\n",
       "      <th>club_country</th>\n",
       "      <th>club_city</th>\n",
       "    </tr>\n",
       "  </thead>\n",
       "  <tbody>\n",
       "  </tbody>\n",
       "</table>\n",
       "</div>"
      ],
      "text/plain": [
       "Empty DataFrame\n",
       "Columns: [game_id, ligue_header, comp_id, season_id, game_utc, game_title, goals, game_status, fg_minute, y_cards, r_cards, card_coef, mispen, owngoal, 1, X, 2, TM, TB, city, country, home_team, guest_team, club, club_country, club_city]\n",
       "Index: []"
      ]
     },
     "execution_count": 220,
     "metadata": {},
     "output_type": "execute_result"
    }
   ],
   "source": [
    "df_matches[df_matches.city.isna()]"
   ]
  },
  {
   "cell_type": "code",
   "execution_count": 221,
   "id": "corporate-colonial",
   "metadata": {},
   "outputs": [
    {
     "data": {
      "text/html": [
       "<div>\n",
       "<style scoped>\n",
       "    .dataframe tbody tr th:only-of-type {\n",
       "        vertical-align: middle;\n",
       "    }\n",
       "\n",
       "    .dataframe tbody tr th {\n",
       "        vertical-align: top;\n",
       "    }\n",
       "\n",
       "    .dataframe thead th {\n",
       "        text-align: right;\n",
       "    }\n",
       "</style>\n",
       "<table border=\"1\" class=\"dataframe\">\n",
       "  <thead>\n",
       "    <tr style=\"text-align: right;\">\n",
       "      <th></th>\n",
       "      <th>game_id</th>\n",
       "      <th>ligue_header</th>\n",
       "      <th>comp_id</th>\n",
       "      <th>season_id</th>\n",
       "      <th>game_utc</th>\n",
       "      <th>game_title</th>\n",
       "      <th>goals</th>\n",
       "      <th>game_status</th>\n",
       "      <th>fg_minute</th>\n",
       "      <th>y_cards</th>\n",
       "      <th>r_cards</th>\n",
       "      <th>card_coef</th>\n",
       "      <th>mispen</th>\n",
       "      <th>owngoal</th>\n",
       "      <th>1</th>\n",
       "      <th>X</th>\n",
       "      <th>2</th>\n",
       "      <th>TM</th>\n",
       "      <th>TB</th>\n",
       "      <th>city</th>\n",
       "      <th>country</th>\n",
       "      <th>home_team</th>\n",
       "      <th>guest_team</th>\n",
       "      <th>club</th>\n",
       "      <th>club_country</th>\n",
       "      <th>club_city</th>\n",
       "    </tr>\n",
       "  </thead>\n",
       "  <tbody>\n",
       "  </tbody>\n",
       "</table>\n",
       "</div>"
      ],
      "text/plain": [
       "Empty DataFrame\n",
       "Columns: [game_id, ligue_header, comp_id, season_id, game_utc, game_title, goals, game_status, fg_minute, y_cards, r_cards, card_coef, mispen, owngoal, 1, X, 2, TM, TB, city, country, home_team, guest_team, club, club_country, club_city]\n",
       "Index: []"
      ]
     },
     "execution_count": 221,
     "metadata": {},
     "output_type": "execute_result"
    }
   ],
   "source": [
    "df_matches[df_matches.country.isna()]"
   ]
  },
  {
   "cell_type": "code",
   "execution_count": 222,
   "id": "respected-welding",
   "metadata": {},
   "outputs": [],
   "source": [
    "df_matches.drop(columns=['club', 'club_country', 'club_city'], inplace=True)"
   ]
  },
  {
   "cell_type": "markdown",
   "id": "hazardous-reply",
   "metadata": {},
   "source": [
    "### Get cities Longitude and Latitude"
   ]
  },
  {
   "cell_type": "code",
   "execution_count": 225,
   "id": "different-anderson",
   "metadata": {},
   "outputs": [
    {
     "data": {
      "text/html": [
       "<div>\n",
       "<style scoped>\n",
       "    .dataframe tbody tr th:only-of-type {\n",
       "        vertical-align: middle;\n",
       "    }\n",
       "\n",
       "    .dataframe tbody tr th {\n",
       "        vertical-align: top;\n",
       "    }\n",
       "\n",
       "    .dataframe thead th {\n",
       "        text-align: right;\n",
       "    }\n",
       "</style>\n",
       "<table border=\"1\" class=\"dataframe\">\n",
       "  <thead>\n",
       "    <tr style=\"text-align: right;\">\n",
       "      <th></th>\n",
       "      <th>game_id</th>\n",
       "      <th>ligue_header</th>\n",
       "      <th>comp_id</th>\n",
       "      <th>season_id</th>\n",
       "      <th>game_utc</th>\n",
       "      <th>game_title</th>\n",
       "      <th>goals</th>\n",
       "      <th>game_status</th>\n",
       "      <th>fg_minute</th>\n",
       "      <th>y_cards</th>\n",
       "      <th>r_cards</th>\n",
       "      <th>card_coef</th>\n",
       "      <th>mispen</th>\n",
       "      <th>owngoal</th>\n",
       "      <th>1</th>\n",
       "      <th>X</th>\n",
       "      <th>2</th>\n",
       "      <th>TM</th>\n",
       "      <th>TB</th>\n",
       "      <th>city</th>\n",
       "      <th>country</th>\n",
       "      <th>home_team</th>\n",
       "      <th>guest_team</th>\n",
       "    </tr>\n",
       "  </thead>\n",
       "  <tbody>\n",
       "    <tr>\n",
       "      <th>0</th>\n",
       "      <td>14898157</td>\n",
       "      <td>1. Bundesliga</td>\n",
       "      <td>17</td>\n",
       "      <td>300</td>\n",
       "      <td>05.10.2019 16:30</td>\n",
       "      <td>Paderborn - Mainz</td>\n",
       "      <td>1:2</td>\n",
       "      <td>Finished</td>\n",
       "      <td>8</td>\n",
       "      <td>5</td>\n",
       "      <td>0</td>\n",
       "      <td>5</td>\n",
       "      <td>True</td>\n",
       "      <td>False</td>\n",
       "      <td>2.49</td>\n",
       "      <td>3.66</td>\n",
       "      <td>2.80</td>\n",
       "      <td>3.20</td>\n",
       "      <td>1.37</td>\n",
       "      <td>Paderborn</td>\n",
       "      <td>Germany</td>\n",
       "      <td>Paderborn</td>\n",
       "      <td>Mainz</td>\n",
       "    </tr>\n",
       "    <tr>\n",
       "      <th>1</th>\n",
       "      <td>14898156</td>\n",
       "      <td>1. Bundesliga</td>\n",
       "      <td>17</td>\n",
       "      <td>300</td>\n",
       "      <td>05.10.2019 19:30</td>\n",
       "      <td>Schalke - Köln</td>\n",
       "      <td>1:1</td>\n",
       "      <td>Finished</td>\n",
       "      <td>72</td>\n",
       "      <td>8</td>\n",
       "      <td>0</td>\n",
       "      <td>8</td>\n",
       "      <td>False</td>\n",
       "      <td>False</td>\n",
       "      <td>1.71</td>\n",
       "      <td>4.32</td>\n",
       "      <td>4.82</td>\n",
       "      <td>2.32</td>\n",
       "      <td>1.58</td>\n",
       "      <td>Gelsenkirchen</td>\n",
       "      <td>Germany</td>\n",
       "      <td>Schalke</td>\n",
       "      <td>Koln</td>\n",
       "    </tr>\n",
       "    <tr>\n",
       "      <th>2</th>\n",
       "      <td>14900649</td>\n",
       "      <td>Premier Liga</td>\n",
       "      <td>13</td>\n",
       "      <td>300</td>\n",
       "      <td>05.10.2019 11:30</td>\n",
       "      <td>Ufa - Ahmat</td>\n",
       "      <td>0:1</td>\n",
       "      <td>Finished</td>\n",
       "      <td>9</td>\n",
       "      <td>4</td>\n",
       "      <td>0</td>\n",
       "      <td>4</td>\n",
       "      <td>False</td>\n",
       "      <td>False</td>\n",
       "      <td>2.32</td>\n",
       "      <td>3.09</td>\n",
       "      <td>3.60</td>\n",
       "      <td>1.36</td>\n",
       "      <td>3.24</td>\n",
       "      <td>Ufa</td>\n",
       "      <td>Russia</td>\n",
       "      <td>Ufa</td>\n",
       "      <td>Ahmat</td>\n",
       "    </tr>\n",
       "  </tbody>\n",
       "</table>\n",
       "</div>"
      ],
      "text/plain": [
       "    game_id   ligue_header comp_id season_id          game_utc  \\\n",
       "0  14898157  1. Bundesliga      17       300  05.10.2019 16:30   \n",
       "1  14898156  1. Bundesliga      17       300  05.10.2019 19:30   \n",
       "2  14900649   Premier Liga      13       300  05.10.2019 11:30   \n",
       "\n",
       "          game_title goals game_status fg_minute  y_cards  r_cards  card_coef  \\\n",
       "0  Paderborn - Mainz   1:2    Finished         8        5        0          5   \n",
       "1     Schalke - Köln   1:1    Finished        72        8        0          8   \n",
       "2        Ufa - Ahmat   0:1    Finished         9        4        0          4   \n",
       "\n",
       "   mispen  owngoal     1     X     2    TM    TB           city   country  \\\n",
       "0    True    False  2.49  3.66  2.80  3.20  1.37      Paderborn   Germany   \n",
       "1   False    False  1.71  4.32  4.82  2.32  1.58  Gelsenkirchen   Germany   \n",
       "2   False    False  2.32  3.09  3.60  1.36  3.24            Ufa    Russia   \n",
       "\n",
       "   home_team guest_team  \n",
       "0  Paderborn      Mainz  \n",
       "1    Schalke       Koln  \n",
       "2        Ufa      Ahmat  "
      ]
     },
     "execution_count": 225,
     "metadata": {},
     "output_type": "execute_result"
    }
   ],
   "source": [
    "df_matches.head(3)"
   ]
  },
  {
   "cell_type": "code",
   "execution_count": 232,
   "id": "alleged-brave",
   "metadata": {},
   "outputs": [],
   "source": [
    "# df_matches['location'] = df_matches[['city', 'country']].apply(lambda x: geolocator.geocode(x['city']+','+ x['country']), axis=1)"
   ]
  },
  {
   "cell_type": "code",
   "execution_count": 233,
   "id": "threatened-skirt",
   "metadata": {},
   "outputs": [
    {
     "data": {
      "text/plain": [
       "190"
      ]
     },
     "execution_count": 233,
     "metadata": {},
     "output_type": "execute_result"
    }
   ],
   "source": [
    "len(df_matches.city.unique())"
   ]
  },
  {
   "cell_type": "code",
   "execution_count": 227,
   "id": "persistent-mirror",
   "metadata": {},
   "outputs": [],
   "source": [
    "from  geopy.geocoders import Nominatim\n",
    "geolocator = Nominatim(user_agent=\"Your_Name\")\n",
    "\n",
    "city =\"Agra\"\n",
    "country =\"India\"\n",
    "loc = geolocator.geocode(city+','+ country)\n",
    "lat = loc.latitude\n",
    "long = loc.longitude"
   ]
  },
  {
   "cell_type": "code",
   "execution_count": 230,
   "id": "nasty-wound",
   "metadata": {},
   "outputs": [
    {
     "data": {
      "text/plain": [
       "Location(Agra, Uttar Pradesh, 280001, India, (27.1752554, 78.0098161, 0.0))"
      ]
     },
     "execution_count": 230,
     "metadata": {},
     "output_type": "execute_result"
    }
   ],
   "source": [
    "loc"
   ]
  }
 ],
 "metadata": {
  "kernelspec": {
   "display_name": "Python 3 (ipykernel)",
   "language": "python",
   "name": "python3"
  },
  "language_info": {
   "codemirror_mode": {
    "name": "ipython",
    "version": 3
   },
   "file_extension": ".py",
   "mimetype": "text/x-python",
   "name": "python",
   "nbconvert_exporter": "python",
   "pygments_lexer": "ipython3",
   "version": "3.9.7"
  }
 },
 "nbformat": 4,
 "nbformat_minor": 5
}

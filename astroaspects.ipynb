{
 "cells": [
  {
   "cell_type": "code",
   "execution_count": 169,
   "metadata": {},
   "outputs": [],
   "source": [
    "import pandas as pd\n",
    "\n",
    "from flatlib import const\n",
    "from flatlib.chart import Chart\n",
    "from flatlib.datetime import Datetime\n",
    "from flatlib.geopos import GeoPos\n",
    "from flatlib.object import GenericObject\n",
    "\n",
    "\n",
    "from flatlib.tools import arabicparts\n",
    "from flatlib.dignities import essential\n",
    "\n",
    "from _astro_constants import AstrologicalConstants, AstrologicalPoints\n",
    "\n",
    "pd.set_option('display.max_columns', 200)  # or 1000\n",
    "pd.set_option('display.max_rows', 200)  # or 1000\n",
    "pd.set_option('display.max_colwidth', 100)  # or 199"
   ]
  },
  {
   "cell_type": "code",
   "execution_count": 170,
   "metadata": {},
   "outputs": [
    {
     "name": "stdout",
     "output_type": "stream",
     "text": [
      "The autoreload extension is already loaded. To reload it, use:\n",
      "  %reload_ext autoreload\n"
     ]
    }
   ],
   "source": [
    "%load_ext autoreload\n",
    "%autoreload 2"
   ]
  },
  {
   "cell_type": "code",
   "execution_count": 152,
   "metadata": {},
   "outputs": [
    {
     "data": {
      "text/html": [
       "<div>\n",
       "<style scoped>\n",
       "    .dataframe tbody tr th:only-of-type {\n",
       "        vertical-align: middle;\n",
       "    }\n",
       "\n",
       "    .dataframe tbody tr th {\n",
       "        vertical-align: top;\n",
       "    }\n",
       "\n",
       "    .dataframe thead th {\n",
       "        text-align: right;\n",
       "    }\n",
       "</style>\n",
       "<table border=\"1\" class=\"dataframe\">\n",
       "  <thead>\n",
       "    <tr style=\"text-align: right;\">\n",
       "      <th></th>\n",
       "      <th>date</th>\n",
       "      <th>utc_time</th>\n",
       "      <th>lon</th>\n",
       "      <th>lat</th>\n",
       "    </tr>\n",
       "  </thead>\n",
       "  <tbody>\n",
       "    <tr>\n",
       "      <th>0</th>\n",
       "      <td>2015/03/13</td>\n",
       "      <td>17:00</td>\n",
       "      <td>38n32</td>\n",
       "      <td>8w54</td>\n",
       "    </tr>\n",
       "    <tr>\n",
       "      <th>1</th>\n",
       "      <td>2016/05/23</td>\n",
       "      <td>12:30</td>\n",
       "      <td>08n07</td>\n",
       "      <td>18e14</td>\n",
       "    </tr>\n",
       "    <tr>\n",
       "      <th>2</th>\n",
       "      <td>2018/10/03</td>\n",
       "      <td>00:15</td>\n",
       "      <td>14s42</td>\n",
       "      <td>36w04</td>\n",
       "    </tr>\n",
       "  </tbody>\n",
       "</table>\n",
       "</div>"
      ],
      "text/plain": [
       "         date utc_time    lon    lat\n",
       "0  2015/03/13    17:00  38n32   8w54\n",
       "1  2016/05/23    12:30  08n07  18e14\n",
       "2  2018/10/03    00:15  14s42  36w04"
      ]
     },
     "execution_count": 152,
     "metadata": {},
     "output_type": "execute_result"
    }
   ],
   "source": [
    "data = {'date':['2015/03/13', '2016/05/23', '2018/10/03'], 'utc_time':['17:00', '12:30', '00:15'], 'lon':['38n32', '08n07', '14s42'], 'lat':['8w54', '18e14','36w04']}\n",
    "df = pd.DataFrame(data)\n",
    "df"
   ]
  },
  {
   "cell_type": "code",
   "execution_count": 153,
   "metadata": {},
   "outputs": [],
   "source": [
    "df['charts'] = AstrologicalPoints.charts_calculate(df, 'date', 'utc_time', 'lon', 'lat')"
   ]
  },
  {
   "cell_type": "code",
   "execution_count": 154,
   "metadata": {},
   "outputs": [
    {
     "data": {
      "text/plain": [
       "0    <flatlib.chart.Chart object at 0x7fc593fabee0>\n",
       "1    <flatlib.chart.Chart object at 0x7fc593fca250>\n",
       "2    <flatlib.chart.Chart object at 0x7fc593fcad30>\n",
       "Name: charts, dtype: object"
      ]
     },
     "execution_count": 154,
     "metadata": {},
     "output_type": "execute_result"
    }
   ],
   "source": [
    "df.charts"
   ]
  },
  {
   "cell_type": "code",
   "execution_count": 155,
   "metadata": {},
   "outputs": [
    {
     "data": {
      "text/plain": [
       "\"['ASC', 'DESC', 'MC', 'IC', 'PARS_FORTUNA']\""
      ]
     },
     "execution_count": 155,
     "metadata": {},
     "output_type": "execute_result"
    }
   ],
   "source": [
    "rulers_constants = AstrologicalConstants.rulers_constants\n",
    "str(rulers_constants)"
   ]
  },
  {
   "cell_type": "code",
   "execution_count": 156,
   "metadata": {},
   "outputs": [
    {
     "data": {
      "text/plain": [
       "\"['SUN', 'MOON', 'SATURN', 'URANUS', 'NEPTUNE', 'PLUTO', 'CHIRON', 'NORTH_NODE', 'SOUTH_NODE']\""
      ]
     },
     "execution_count": 156,
     "metadata": {},
     "output_type": "execute_result"
    }
   ],
   "source": [
    "necessary_constants = AstrologicalConstants.necessary_constants\n",
    "str(necessary_constants)"
   ]
  },
  {
   "cell_type": "code",
   "execution_count": 157,
   "metadata": {},
   "outputs": [],
   "source": [
    "for obj in rulers_constants + necessary_constants:\n",
    "    df[str.lower(obj)] = AstrologicalPoints.calculate_astro_objects(df.charts, obj)"
   ]
  },
  {
   "cell_type": "code",
   "execution_count": 158,
   "metadata": {},
   "outputs": [
    {
     "data": {
      "text/plain": [
       "['ruler_asc', 'ruler_desc', 'ruler_mc', 'ruler_ic', 'ruler_pars_fortuna']"
      ]
     },
     "execution_count": 158,
     "metadata": {},
     "output_type": "execute_result"
    }
   ],
   "source": [
    "rulers_col_names = AstrologicalPoints.rulers_col_names(rulers_constants)\n",
    "rulers_col_names"
   ]
  },
  {
   "cell_type": "code",
   "execution_count": 159,
   "metadata": {},
   "outputs": [],
   "source": [
    "for name, obj in zip(rulers_col_names, rulers_constants):\n",
    "    obj = str.lower(obj)\n",
    "    df[name] = AstrologicalPoints.ruler_of_object(df[obj])\n",
    "    df[name] = AstrologicalPoints.chart_object_attributes(df, 'charts', name)"
   ]
  },
  {
   "cell_type": "code",
   "execution_count": 160,
   "metadata": {},
   "outputs": [
    {
     "data": {
      "text/plain": [
       "\"['pars_fortuna', 'uranus', 'neptune', 'pluto', 'chiron']\""
      ]
     },
     "execution_count": 160,
     "metadata": {},
     "output_type": "execute_result"
    }
   ],
   "source": [
    "antes_objects = AstrologicalConstants.antes_objects\n",
    "str(antes_objects)"
   ]
  },
  {
   "cell_type": "code",
   "execution_count": 161,
   "metadata": {},
   "outputs": [],
   "source": [
    "for obj in antes_objects:\n",
    "    antes_name = 'antes_' + obj\n",
    "    df[antes_name] = AstrologicalPoints.antes_objects(df, obj)"
   ]
  },
  {
   "cell_type": "code",
   "execution_count": 162,
   "metadata": {},
   "outputs": [
    {
     "data": {
      "text/html": [
       "<div>\n",
       "<style scoped>\n",
       "    .dataframe tbody tr th:only-of-type {\n",
       "        vertical-align: middle;\n",
       "    }\n",
       "\n",
       "    .dataframe tbody tr th {\n",
       "        vertical-align: top;\n",
       "    }\n",
       "\n",
       "    .dataframe thead th {\n",
       "        text-align: right;\n",
       "    }\n",
       "</style>\n",
       "<table border=\"1\" class=\"dataframe\">\n",
       "  <thead>\n",
       "    <tr style=\"text-align: right;\">\n",
       "      <th></th>\n",
       "      <th>date</th>\n",
       "      <th>utc_time</th>\n",
       "      <th>lon</th>\n",
       "      <th>lat</th>\n",
       "      <th>charts</th>\n",
       "      <th>asc</th>\n",
       "      <th>desc</th>\n",
       "      <th>mc</th>\n",
       "      <th>ic</th>\n",
       "      <th>pars_fortuna</th>\n",
       "      <th>sun</th>\n",
       "      <th>moon</th>\n",
       "      <th>saturn</th>\n",
       "      <th>uranus</th>\n",
       "      <th>neptune</th>\n",
       "      <th>pluto</th>\n",
       "      <th>chiron</th>\n",
       "      <th>north_node</th>\n",
       "      <th>south_node</th>\n",
       "      <th>ruler_asc</th>\n",
       "      <th>ruler_desc</th>\n",
       "      <th>ruler_mc</th>\n",
       "      <th>ruler_ic</th>\n",
       "      <th>ruler_pars_fortuna</th>\n",
       "      <th>antes_pars_fortuna</th>\n",
       "      <th>antes_uranus</th>\n",
       "      <th>antes_neptune</th>\n",
       "      <th>antes_pluto</th>\n",
       "      <th>antes_chiron</th>\n",
       "    </tr>\n",
       "  </thead>\n",
       "  <tbody>\n",
       "    <tr>\n",
       "      <th>0</th>\n",
       "      <td>2015/03/13</td>\n",
       "      <td>17:00</td>\n",
       "      <td>38n32</td>\n",
       "      <td>8w54</td>\n",
       "      <td>&lt;flatlib.chart.Chart object at 0x7fc593fabee0&gt;</td>\n",
       "      <td>&lt;Asc Virgo +03:27:30&gt;</td>\n",
       "      <td>&lt;Desc Pisces +03:27:30&gt;</td>\n",
       "      <td>&lt;MC Taurus +29:19:03&gt;</td>\n",
       "      <td>&lt;IC Scorpio +29:19:03&gt;</td>\n",
       "      <td>&lt;Pars Fortuna Gemini +03:03:00 +00:00:00&gt;</td>\n",
       "      <td>&lt;Sun Pisces +22:47:25 +00:59:51&gt;</td>\n",
       "      <td>&lt;Moon Sagittarius +22:22:54 +13:16:01&gt;</td>\n",
       "      <td>&lt;Saturn Sagittarius +04:55:45 +00:00:06&gt;</td>\n",
       "      <td>&lt;Uranus Aries +15:06:57 +00:03:14&gt;</td>\n",
       "      <td>&lt;Neptune Pisces +07:50:55 +00:02:13&gt;</td>\n",
       "      <td>&lt;Pluto Capricorn +15:14:43 +00:01:02&gt;</td>\n",
       "      <td>&lt;Chiron Pisces +17:36:43 +00:03:43&gt;</td>\n",
       "      <td>&lt;North Node Libra +11:08:28 -00:03:11&gt;</td>\n",
       "      <td>&lt;South Node Aries +11:08:28 -00:03:11&gt;</td>\n",
       "      <td>&lt;Mercury Pisces +00:48:57 +01:29:49&gt;</td>\n",
       "      <td>&lt;Jupiter Leo +13:38:37 -00:04:45&gt;</td>\n",
       "      <td>&lt;Venus Aries +25:30:11 +01:12:41&gt;</td>\n",
       "      <td>&lt;Mars Aries +16:32:48 +00:45:18&gt;</td>\n",
       "      <td>&lt;Mercury Pisces +00:48:57 +01:29:49&gt;</td>\n",
       "      <td>&lt;Pars Fortuna Cancer +26:57:00 +00:00:00&gt;</td>\n",
       "      <td>&lt;Uranus Virgo +14:53:03 +00:03:14&gt;</td>\n",
       "      <td>&lt;Neptune Libra +22:09:05 +00:02:13&gt;</td>\n",
       "      <td>&lt;Pluto Sagittarius +14:45:17 +00:01:02&gt;</td>\n",
       "      <td>&lt;Chiron Libra +12:23:17 +00:03:43&gt;</td>\n",
       "    </tr>\n",
       "    <tr>\n",
       "      <th>1</th>\n",
       "      <td>2016/05/23</td>\n",
       "      <td>12:30</td>\n",
       "      <td>08n07</td>\n",
       "      <td>18e14</td>\n",
       "      <td>&lt;flatlib.chart.Chart object at 0x7fc593fca250&gt;</td>\n",
       "      <td>&lt;Asc Virgo +27:12:45&gt;</td>\n",
       "      <td>&lt;Desc Pisces +27:12:45&gt;</td>\n",
       "      <td>&lt;MC Gemini +27:30:28&gt;</td>\n",
       "      <td>&lt;IC Sagittarius +27:30:28&gt;</td>\n",
       "      <td>&lt;Pars Fortuna Aries +15:36:29 +00:00:00&gt;</td>\n",
       "      <td>&lt;Sun Gemini +02:47:58 +00:57:39&gt;</td>\n",
       "      <td>&lt;Moon Sagittarius +21:11:41 +12:19:41&gt;</td>\n",
       "      <td>&lt;Saturn Sagittarius +13:54:21 -00:04:19&gt;</td>\n",
       "      <td>&lt;Uranus Aries +22:47:40 +00:02:49&gt;</td>\n",
       "      <td>&lt;Neptune Pisces +11:54:55 +00:00:42&gt;</td>\n",
       "      <td>&lt;Pluto Capricorn +17:11:35 -00:00:57&gt;</td>\n",
       "      <td>&lt;Chiron Pisces +24:43:00 +00:01:47&gt;</td>\n",
       "      <td>&lt;North Node Virgo +18:00:29 -00:03:11&gt;</td>\n",
       "      <td>&lt;South Node Pisces +18:00:29 -00:03:11&gt;</td>\n",
       "      <td>&lt;Mercury Taurus +14:22:23 +00:04:22&gt;</td>\n",
       "      <td>&lt;Jupiter Virgo +13:33:03 +00:02:30&gt;</td>\n",
       "      <td>&lt;Mercury Taurus +14:22:23 +00:04:22&gt;</td>\n",
       "      <td>&lt;Jupiter Virgo +13:33:03 +00:02:30&gt;</td>\n",
       "      <td>&lt;Mars Sagittarius +01:25:22 -00:21:00&gt;</td>\n",
       "      <td>&lt;Pars Fortuna Virgo +14:23:31 +00:00:00&gt;</td>\n",
       "      <td>&lt;Uranus Virgo +07:12:20 +00:02:49&gt;</td>\n",
       "      <td>&lt;Neptune Libra +18:05:05 +00:00:42&gt;</td>\n",
       "      <td>&lt;Pluto Sagittarius +12:48:25 -00:00:57&gt;</td>\n",
       "      <td>&lt;Chiron Libra +05:17:00 +00:01:47&gt;</td>\n",
       "    </tr>\n",
       "    <tr>\n",
       "      <th>2</th>\n",
       "      <td>2018/10/03</td>\n",
       "      <td>00:15</td>\n",
       "      <td>14s42</td>\n",
       "      <td>36w04</td>\n",
       "      <td>&lt;flatlib.chart.Chart object at 0x7fc593fcad30&gt;</td>\n",
       "      <td>&lt;Asc Gemini +05:25:08&gt;</td>\n",
       "      <td>&lt;Desc Sagittarius +05:25:08&gt;</td>\n",
       "      <td>&lt;MC Pisces +07:39:39&gt;</td>\n",
       "      <td>&lt;IC Virgo +07:39:39&gt;</td>\n",
       "      <td>&lt;Pars Fortuna Leo +27:31:49 +00:00:00&gt;</td>\n",
       "      <td>&lt;Sun Libra +09:44:33 +00:59:03&gt;</td>\n",
       "      <td>&lt;Moon Cancer +17:37:52 +14:05:52&gt;</td>\n",
       "      <td>&lt;Saturn Capricorn +03:06:46 +00:02:33&gt;</td>\n",
       "      <td>&lt;Uranus Taurus +01:23:25 -00:02:14&gt;</td>\n",
       "      <td>&lt;Neptune Pisces +14:24:42 -00:01:27&gt;</td>\n",
       "      <td>&lt;Pluto Capricorn +18:45:26 +00:00:03&gt;</td>\n",
       "      <td>&lt;Chiron Pisces +29:41:06 -00:02:40&gt;</td>\n",
       "      <td>&lt;North Node Leo +02:19:59 -00:03:11&gt;</td>\n",
       "      <td>&lt;South Node Aquarius +02:19:59 -00:03:11&gt;</td>\n",
       "      <td>&lt;Mercury Libra +18:46:13 +01:38:51&gt;</td>\n",
       "      <td>&lt;Jupiter Scorpio +22:27:07 +00:11:21&gt;</td>\n",
       "      <td>&lt;Jupiter Scorpio +22:27:07 +00:11:21&gt;</td>\n",
       "      <td>&lt;Mercury Libra +18:46:13 +01:38:51&gt;</td>\n",
       "      <td>&lt;Sun Libra +09:44:33 +00:59:03&gt;</td>\n",
       "      <td>&lt;Pars Fortuna Taurus +02:28:11 +00:00:00&gt;</td>\n",
       "      <td>&lt;Uranus Leo +28:36:35 -00:02:14&gt;</td>\n",
       "      <td>&lt;Neptune Libra +15:35:18 -00:01:27&gt;</td>\n",
       "      <td>&lt;Pluto Sagittarius +11:14:34 +00:00:03&gt;</td>\n",
       "      <td>&lt;Chiron Libra +00:18:54 -00:02:40&gt;</td>\n",
       "    </tr>\n",
       "  </tbody>\n",
       "</table>\n",
       "</div>"
      ],
      "text/plain": [
       "         date utc_time    lon    lat  \\\n",
       "0  2015/03/13    17:00  38n32   8w54   \n",
       "1  2016/05/23    12:30  08n07  18e14   \n",
       "2  2018/10/03    00:15  14s42  36w04   \n",
       "\n",
       "                                           charts                     asc  \\\n",
       "0  <flatlib.chart.Chart object at 0x7fc593fabee0>   <Asc Virgo +03:27:30>   \n",
       "1  <flatlib.chart.Chart object at 0x7fc593fca250>   <Asc Virgo +27:12:45>   \n",
       "2  <flatlib.chart.Chart object at 0x7fc593fcad30>  <Asc Gemini +05:25:08>   \n",
       "\n",
       "                           desc                     mc  \\\n",
       "0       <Desc Pisces +03:27:30>  <MC Taurus +29:19:03>   \n",
       "1       <Desc Pisces +27:12:45>  <MC Gemini +27:30:28>   \n",
       "2  <Desc Sagittarius +05:25:08>  <MC Pisces +07:39:39>   \n",
       "\n",
       "                           ic                               pars_fortuna  \\\n",
       "0      <IC Scorpio +29:19:03>  <Pars Fortuna Gemini +03:03:00 +00:00:00>   \n",
       "1  <IC Sagittarius +27:30:28>   <Pars Fortuna Aries +15:36:29 +00:00:00>   \n",
       "2        <IC Virgo +07:39:39>     <Pars Fortuna Leo +27:31:49 +00:00:00>   \n",
       "\n",
       "                                sun                                    moon  \\\n",
       "0  <Sun Pisces +22:47:25 +00:59:51>  <Moon Sagittarius +22:22:54 +13:16:01>   \n",
       "1  <Sun Gemini +02:47:58 +00:57:39>  <Moon Sagittarius +21:11:41 +12:19:41>   \n",
       "2   <Sun Libra +09:44:33 +00:59:03>       <Moon Cancer +17:37:52 +14:05:52>   \n",
       "\n",
       "                                     saturn  \\\n",
       "0  <Saturn Sagittarius +04:55:45 +00:00:06>   \n",
       "1  <Saturn Sagittarius +13:54:21 -00:04:19>   \n",
       "2    <Saturn Capricorn +03:06:46 +00:02:33>   \n",
       "\n",
       "                                uranus                               neptune  \\\n",
       "0   <Uranus Aries +15:06:57 +00:03:14>  <Neptune Pisces +07:50:55 +00:02:13>   \n",
       "1   <Uranus Aries +22:47:40 +00:02:49>  <Neptune Pisces +11:54:55 +00:00:42>   \n",
       "2  <Uranus Taurus +01:23:25 -00:02:14>  <Neptune Pisces +14:24:42 -00:01:27>   \n",
       "\n",
       "                                   pluto                               chiron  \\\n",
       "0  <Pluto Capricorn +15:14:43 +00:01:02>  <Chiron Pisces +17:36:43 +00:03:43>   \n",
       "1  <Pluto Capricorn +17:11:35 -00:00:57>  <Chiron Pisces +24:43:00 +00:01:47>   \n",
       "2  <Pluto Capricorn +18:45:26 +00:00:03>  <Chiron Pisces +29:41:06 -00:02:40>   \n",
       "\n",
       "                               north_node  \\\n",
       "0  <North Node Libra +11:08:28 -00:03:11>   \n",
       "1  <North Node Virgo +18:00:29 -00:03:11>   \n",
       "2    <North Node Leo +02:19:59 -00:03:11>   \n",
       "\n",
       "                                  south_node  \\\n",
       "0     <South Node Aries +11:08:28 -00:03:11>   \n",
       "1    <South Node Pisces +18:00:29 -00:03:11>   \n",
       "2  <South Node Aquarius +02:19:59 -00:03:11>   \n",
       "\n",
       "                              ruler_asc  \\\n",
       "0  <Mercury Pisces +00:48:57 +01:29:49>   \n",
       "1  <Mercury Taurus +14:22:23 +00:04:22>   \n",
       "2   <Mercury Libra +18:46:13 +01:38:51>   \n",
       "\n",
       "                              ruler_desc  \\\n",
       "0      <Jupiter Leo +13:38:37 -00:04:45>   \n",
       "1    <Jupiter Virgo +13:33:03 +00:02:30>   \n",
       "2  <Jupiter Scorpio +22:27:07 +00:11:21>   \n",
       "\n",
       "                                ruler_mc                             ruler_ic  \\\n",
       "0      <Venus Aries +25:30:11 +01:12:41>     <Mars Aries +16:32:48 +00:45:18>   \n",
       "1   <Mercury Taurus +14:22:23 +00:04:22>  <Jupiter Virgo +13:33:03 +00:02:30>   \n",
       "2  <Jupiter Scorpio +22:27:07 +00:11:21>  <Mercury Libra +18:46:13 +01:38:51>   \n",
       "\n",
       "                       ruler_pars_fortuna  \\\n",
       "0    <Mercury Pisces +00:48:57 +01:29:49>   \n",
       "1  <Mars Sagittarius +01:25:22 -00:21:00>   \n",
       "2         <Sun Libra +09:44:33 +00:59:03>   \n",
       "\n",
       "                          antes_pars_fortuna  \\\n",
       "0  <Pars Fortuna Cancer +26:57:00 +00:00:00>   \n",
       "1   <Pars Fortuna Virgo +14:23:31 +00:00:00>   \n",
       "2  <Pars Fortuna Taurus +02:28:11 +00:00:00>   \n",
       "\n",
       "                         antes_uranus                        antes_neptune  \\\n",
       "0  <Uranus Virgo +14:53:03 +00:03:14>  <Neptune Libra +22:09:05 +00:02:13>   \n",
       "1  <Uranus Virgo +07:12:20 +00:02:49>  <Neptune Libra +18:05:05 +00:00:42>   \n",
       "2    <Uranus Leo +28:36:35 -00:02:14>  <Neptune Libra +15:35:18 -00:01:27>   \n",
       "\n",
       "                               antes_pluto                        antes_chiron  \n",
       "0  <Pluto Sagittarius +14:45:17 +00:01:02>  <Chiron Libra +12:23:17 +00:03:43>  \n",
       "1  <Pluto Sagittarius +12:48:25 -00:00:57>  <Chiron Libra +05:17:00 +00:01:47>  \n",
       "2  <Pluto Sagittarius +11:14:34 +00:00:03>  <Chiron Libra +00:18:54 -00:02:40>  "
      ]
     },
     "execution_count": 162,
     "metadata": {},
     "output_type": "execute_result"
    }
   ],
   "source": [
    "df"
   ]
  },
  {
   "cell_type": "code",
   "execution_count": 201,
   "metadata": {},
   "outputs": [
    {
     "data": {
      "text/plain": [
       "<flatlib.chart.Chart at 0x7fc593fabee0>"
      ]
     },
     "execution_count": 201,
     "metadata": {},
     "output_type": "execute_result"
    }
   ],
   "source": [
    "chart = df.charts.values[0]\n",
    "chart"
   ]
  },
  {
   "cell_type": "code",
   "execution_count": 203,
   "metadata": {},
   "outputs": [],
   "source": [
    "df.asc.values[0].id = 'Desc'"
   ]
  },
  {
   "cell_type": "code",
   "execution_count": 204,
   "metadata": {},
   "outputs": [
    {
     "name": "stdout",
     "output_type": "stream",
     "text": [
      "Desc\n"
     ]
    }
   ],
   "source": [
    "print(df.asc.values[0].id)"
   ]
  },
  {
   "cell_type": "code",
   "execution_count": 163,
   "metadata": {},
   "outputs": [
    {
     "data": {
      "text/plain": [
       "\"['moon', 'ruler_asc', 'ruler_desc', 'pars_fortuna', 'ruler_pars_fortuna', 'ruler_mc', 'ruler_ic', 'sun', 'saturn', 'uranus', 'neptune', 'pluto', 'chiron', 'north_node', 'south_node']\""
      ]
     },
     "execution_count": 163,
     "metadata": {},
     "output_type": "execute_result"
    }
   ],
   "source": [
    "main_objects = AstrologicalConstants.main_objects\n",
    "str(main_objects)"
   ]
  },
  {
   "cell_type": "code",
   "execution_count": 167,
   "metadata": {},
   "outputs": [
    {
     "data": {
      "text/plain": [
       "\"['asc', 'desc', 'mc', 'ic']\""
      ]
     },
     "execution_count": 167,
     "metadata": {},
     "output_type": "execute_result"
    }
   ],
   "source": [
    "houses_objects = AstrologicalConstants.houses_objects\n",
    "str(houses_objects)"
   ]
  },
  {
   "cell_type": "code",
   "execution_count": 199,
   "metadata": {},
   "outputs": [
    {
     "data": {
      "text/plain": [
       "\"['pars_fortuna', 'uranus', 'neptune', 'pluto', 'chiron']\""
      ]
     },
     "execution_count": 199,
     "metadata": {},
     "output_type": "execute_result"
    }
   ],
   "source": [
    "antes_columns = []\n",
    "for col in df.columns:\n",
    "    antes_column = co\n",
    "    "
   ]
  },
  {
   "cell_type": "code",
   "execution_count": null,
   "metadata": {},
   "outputs": [],
   "source": [
    "for obj in houses_objects + main_objects:"
   ]
  },
  {
   "cell_type": "code",
   "execution_count": 173,
   "metadata": {},
   "outputs": [],
   "source": [
    "tmp = AstrologicalPoints.chart_unique_ids(df, main_objects)"
   ]
  },
  {
   "cell_type": "code",
   "execution_count": 175,
   "metadata": {},
   "outputs": [
    {
     "data": {
      "text/plain": [
       "0    Moon\n",
       "1    Moon\n",
       "2    Moon\n",
       "Name: moon, dtype: object"
      ]
     },
     "execution_count": 175,
     "metadata": {},
     "output_type": "execute_result"
    }
   ],
   "source": [
    "tmp[0]"
   ]
  },
  {
   "cell_type": "code",
   "execution_count": 196,
   "metadata": {},
   "outputs": [],
   "source": [
    "unique_ids = df[main_objects].apply(lambda x: list(set([str.upper(i.id) for i in x])), axis=1)"
   ]
  },
  {
   "cell_type": "code",
   "execution_count": 197,
   "metadata": {},
   "outputs": [
    {
     "data": {
      "text/plain": [
       "12"
      ]
     },
     "execution_count": 197,
     "metadata": {},
     "output_type": "execute_result"
    }
   ],
   "source": [
    "len(unique_ids[2])"
   ]
  },
  {
   "cell_type": "code",
   "execution_count": 198,
   "metadata": {},
   "outputs": [
    {
     "data": {
      "text/plain": [
       "['SUN',\n",
       " 'URANUS',\n",
       " 'NORTH NODE',\n",
       " 'PARS FORTUNA',\n",
       " 'MERCURY',\n",
       " 'SATURN',\n",
       " 'PLUTO',\n",
       " 'NEPTUNE',\n",
       " 'MOON',\n",
       " 'MARS',\n",
       " 'SOUTH NODE',\n",
       " 'JUPITER',\n",
       " 'CHIRON']"
      ]
     },
     "execution_count": 198,
     "metadata": {},
     "output_type": "execute_result"
    }
   ],
   "source": [
    "unique_ids[1]"
   ]
  }
 ],
 "metadata": {
  "kernelspec": {
   "display_name": "Python 3",
   "language": "python",
   "name": "python3"
  },
  "language_info": {
   "codemirror_mode": {
    "name": "ipython",
    "version": 3
   },
   "file_extension": ".py",
   "mimetype": "text/x-python",
   "name": "python",
   "nbconvert_exporter": "python",
   "pygments_lexer": "ipython3",
   "version": "3.8.10"
  }
 },
 "nbformat": 4,
 "nbformat_minor": 4
}

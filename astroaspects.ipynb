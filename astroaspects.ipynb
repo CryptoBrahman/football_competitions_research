{
 "cells": [
  {
   "cell_type": "code",
   "execution_count": 254,
   "metadata": {},
   "outputs": [],
   "source": [
    "import sys\n",
    "sys.path.append('/home/cryptobrahman/Own/football_competitions_research/own_modules/') "
   ]
  },
  {
   "cell_type": "code",
   "execution_count": 308,
   "metadata": {},
   "outputs": [],
   "source": [
    "import pandas as pd\n",
    "import numpy as np\n",
    "\n",
    "from flatlib import const\n",
    "from flatlib import aspects\n",
    "from flatlib.chart import Chart\n",
    "from flatlib.datetime import Datetime\n",
    "from flatlib.geopos import GeoPos\n",
    "from flatlib.object import GenericObject\n",
    "from flatlib.tools.chartdynamics import ChartDynamics\n",
    "\n",
    "from flatlib.tools import arabicparts\n",
    "from flatlib.dignities import essential\n",
    "\n",
    "from _astro_constants import AstrologicalConstants, AstrologicalPoints, TransformDoubleValues\n",
    "\n",
    "pd.set_option('display.max_columns', 200)  # or 1000\n",
    "pd.set_option('display.max_rows', 200)  # or 1000\n",
    "pd.set_option('display.max_colwidth', 100)  # or 199"
   ]
  },
  {
   "cell_type": "code",
   "execution_count": 256,
   "metadata": {},
   "outputs": [
    {
     "name": "stdout",
     "output_type": "stream",
     "text": [
      "The autoreload extension is already loaded. To reload it, use:\n",
      "  %reload_ext autoreload\n"
     ]
    }
   ],
   "source": [
    "%load_ext autoreload\n",
    "%autoreload 2"
   ]
  },
  {
   "cell_type": "code",
   "execution_count": 309,
   "metadata": {},
   "outputs": [
    {
     "data": {
      "text/html": [
       "<div>\n",
       "<style scoped>\n",
       "    .dataframe tbody tr th:only-of-type {\n",
       "        vertical-align: middle;\n",
       "    }\n",
       "\n",
       "    .dataframe tbody tr th {\n",
       "        vertical-align: top;\n",
       "    }\n",
       "\n",
       "    .dataframe thead th {\n",
       "        text-align: right;\n",
       "    }\n",
       "</style>\n",
       "<table border=\"1\" class=\"dataframe\">\n",
       "  <thead>\n",
       "    <tr style=\"text-align: right;\">\n",
       "      <th></th>\n",
       "      <th>date</th>\n",
       "      <th>utc_time</th>\n",
       "      <th>lon</th>\n",
       "      <th>lat</th>\n",
       "    </tr>\n",
       "  </thead>\n",
       "  <tbody>\n",
       "    <tr>\n",
       "      <th>0</th>\n",
       "      <td>2015/03/13</td>\n",
       "      <td>14:00</td>\n",
       "      <td>38n32</td>\n",
       "      <td>8w54</td>\n",
       "    </tr>\n",
       "    <tr>\n",
       "      <th>1</th>\n",
       "      <td>2016/05/23</td>\n",
       "      <td>12:30</td>\n",
       "      <td>08n07</td>\n",
       "      <td>18e14</td>\n",
       "    </tr>\n",
       "    <tr>\n",
       "      <th>2</th>\n",
       "      <td>2018/10/03</td>\n",
       "      <td>00:15</td>\n",
       "      <td>14s42</td>\n",
       "      <td>36w04</td>\n",
       "    </tr>\n",
       "  </tbody>\n",
       "</table>\n",
       "</div>"
      ],
      "text/plain": [
       "         date utc_time    lon    lat\n",
       "0  2015/03/13    14:00  38n32   8w54\n",
       "1  2016/05/23    12:30  08n07  18e14\n",
       "2  2018/10/03    00:15  14s42  36w04"
      ]
     },
     "execution_count": 309,
     "metadata": {},
     "output_type": "execute_result"
    }
   ],
   "source": [
    "data = {'date':['2015/03/13', '2016/05/23', '2018/10/03'], 'utc_time':['14:00', '12:30', '00:15'], 'lon':['38n32', '08n07', '14s42'], 'lat':['8w54', '18e14','36w04']}\n",
    "df = pd.DataFrame(data)\n",
    "df"
   ]
  },
  {
   "cell_type": "code",
   "execution_count": 310,
   "metadata": {},
   "outputs": [],
   "source": [
    "df['charts'] = AstrologicalPoints.charts_calculate(df, 'date', 'utc_time', 'lon', 'lat')"
   ]
  },
  {
   "cell_type": "code",
   "execution_count": 311,
   "metadata": {},
   "outputs": [
    {
     "data": {
      "text/plain": [
       "0    <flatlib.chart.Chart object at 0x7f0d08abb5b0>\n",
       "1    <flatlib.chart.Chart object at 0x7f0d08abb580>\n",
       "2    <flatlib.chart.Chart object at 0x7f0d08a9f850>\n",
       "Name: charts, dtype: object"
      ]
     },
     "execution_count": 311,
     "metadata": {},
     "output_type": "execute_result"
    }
   ],
   "source": [
    "df.charts"
   ]
  },
  {
   "cell_type": "code",
   "execution_count": 312,
   "metadata": {},
   "outputs": [
    {
     "data": {
      "text/plain": [
       "\"['SUN', 'MOON', 'SATURN', 'URANUS', 'NEPTUNE', 'PLUTO', 'CHIRON', 'NORTH_NODE', 'SOUTH_NODE']\""
      ]
     },
     "execution_count": 312,
     "metadata": {},
     "output_type": "execute_result"
    }
   ],
   "source": [
    "necessary_constants = AstrologicalConstants.necessary_constants\n",
    "str(necessary_constants)"
   ]
  },
  {
   "cell_type": "code",
   "execution_count": 313,
   "metadata": {},
   "outputs": [
    {
     "data": {
      "text/plain": [
       "\"['ASC', 'DESC', 'MC', 'IC', 'PARS_FORTUNA']\""
      ]
     },
     "execution_count": 313,
     "metadata": {},
     "output_type": "execute_result"
    }
   ],
   "source": [
    "rulers_constants = AstrologicalConstants.rulers_constants\n",
    "str(rulers_constants)"
   ]
  },
  {
   "cell_type": "code",
   "execution_count": 314,
   "metadata": {},
   "outputs": [
    {
     "data": {
      "text/plain": [
       "\"['moon', 'pars_fortuna', 'uranus', 'neptune', 'pluto', 'chiron']\""
      ]
     },
     "execution_count": 314,
     "metadata": {},
     "output_type": "execute_result"
    }
   ],
   "source": [
    "antes_objects = AstrologicalConstants.antes_objects\n",
    "str(antes_objects)"
   ]
  },
  {
   "cell_type": "code",
   "execution_count": 315,
   "metadata": {},
   "outputs": [
    {
     "data": {
      "text/plain": [
       "\"['PARS_SPIRIT', 'PARS_GLORY', 'PARS_CREST', 'PARS_ROCK']\""
      ]
     },
     "execution_count": 315,
     "metadata": {},
     "output_type": "execute_result"
    }
   ],
   "source": [
    "pars_objects = AstrologicalConstants.pars_objects\n",
    "str(pars_objects)"
   ]
  },
  {
   "cell_type": "code",
   "execution_count": 317,
   "metadata": {},
   "outputs": [],
   "source": [
    "for obj in rulers_constants + necessary_constants:\n",
    "    df[str.lower(obj)] = AstrologicalPoints.calculate_astro_objects(df.charts, obj)"
   ]
  },
  {
   "cell_type": "code",
   "execution_count": 318,
   "metadata": {},
   "outputs": [
    {
     "data": {
      "text/plain": [
       "['ruler_asc', 'ruler_desc', 'ruler_mc', 'ruler_ic', 'ruler_pars_fortuna']"
      ]
     },
     "execution_count": 318,
     "metadata": {},
     "output_type": "execute_result"
    }
   ],
   "source": [
    "rulers_constant_col_names = AstrologicalPoints.rulers_col_names(rulers_constants)\n",
    "rulers_constant_col_names"
   ]
  },
  {
   "cell_type": "code",
   "execution_count": 320,
   "metadata": {},
   "outputs": [
    {
     "data": {
      "text/plain": [
       "\"['ruler_pars_spirit', 'ruler_pars_glory', 'ruler_pars_crest', 'ruler_pars_rock']\""
      ]
     },
     "execution_count": 320,
     "metadata": {},
     "output_type": "execute_result"
    }
   ],
   "source": [
    "rulers_pars_col_names = AstrologicalPoints.rulers_col_names(pars_objects)\n",
    "str(rulers_pars_col_names)"
   ]
  },
  {
   "cell_type": "code",
   "execution_count": 323,
   "metadata": {},
   "outputs": [],
   "source": [
    "for name, obj in zip(rulers_constant_col_names, rulers_constants):\n",
    "    obj = str.lower(obj)\n",
    "    df[name] = AstrologicalPoints.ruler_of_object(df[obj])\n",
    "    df[name] = AstrologicalPoints.chart_object_attributes(df, 'charts', name)"
   ]
  },
  {
   "cell_type": "code",
   "execution_count": 324,
   "metadata": {},
   "outputs": [
    {
     "ename": "KeyError",
     "evalue": "'pars_spirit'",
     "output_type": "error",
     "traceback": [
      "\u001b[0;31m---------------------------------------------------------------------------\u001b[0m",
      "\u001b[0;31mKeyError\u001b[0m                                  Traceback (most recent call last)",
      "File \u001b[0;32m~/.local/lib/python3.9/site-packages/pandas/core/indexes/base.py:3621\u001b[0m, in \u001b[0;36mIndex.get_loc\u001b[0;34m(self, key, method, tolerance)\u001b[0m\n\u001b[1;32m   3620\u001b[0m \u001b[38;5;28;01mtry\u001b[39;00m:\n\u001b[0;32m-> 3621\u001b[0m     \u001b[38;5;28;01mreturn\u001b[39;00m \u001b[38;5;28;43mself\u001b[39;49m\u001b[38;5;241;43m.\u001b[39;49m\u001b[43m_engine\u001b[49m\u001b[38;5;241;43m.\u001b[39;49m\u001b[43mget_loc\u001b[49m\u001b[43m(\u001b[49m\u001b[43mcasted_key\u001b[49m\u001b[43m)\u001b[49m\n\u001b[1;32m   3622\u001b[0m \u001b[38;5;28;01mexcept\u001b[39;00m \u001b[38;5;167;01mKeyError\u001b[39;00m \u001b[38;5;28;01mas\u001b[39;00m err:\n",
      "File \u001b[0;32m~/.local/lib/python3.9/site-packages/pandas/_libs/index.pyx:136\u001b[0m, in \u001b[0;36mpandas._libs.index.IndexEngine.get_loc\u001b[0;34m()\u001b[0m\n",
      "File \u001b[0;32m~/.local/lib/python3.9/site-packages/pandas/_libs/index.pyx:163\u001b[0m, in \u001b[0;36mpandas._libs.index.IndexEngine.get_loc\u001b[0;34m()\u001b[0m\n",
      "File \u001b[0;32mpandas/_libs/hashtable_class_helper.pxi:5198\u001b[0m, in \u001b[0;36mpandas._libs.hashtable.PyObjectHashTable.get_item\u001b[0;34m()\u001b[0m\n",
      "File \u001b[0;32mpandas/_libs/hashtable_class_helper.pxi:5206\u001b[0m, in \u001b[0;36mpandas._libs.hashtable.PyObjectHashTable.get_item\u001b[0;34m()\u001b[0m\n",
      "\u001b[0;31mKeyError\u001b[0m: 'pars_spirit'",
      "\nThe above exception was the direct cause of the following exception:\n",
      "\u001b[0;31mKeyError\u001b[0m                                  Traceback (most recent call last)",
      "Input \u001b[0;32mIn [324]\u001b[0m, in \u001b[0;36m<module>\u001b[0;34m\u001b[0m\n\u001b[1;32m      1\u001b[0m \u001b[38;5;28;01mfor\u001b[39;00m name, obj \u001b[38;5;129;01min\u001b[39;00m \u001b[38;5;28mzip\u001b[39m(rulers_pars_col_names, pars_objects):\n\u001b[1;32m      2\u001b[0m     obj \u001b[38;5;241m=\u001b[39m \u001b[38;5;28mstr\u001b[39m\u001b[38;5;241m.\u001b[39mlower(obj)\n\u001b[0;32m----> 3\u001b[0m     df[name] \u001b[38;5;241m=\u001b[39m AstrologicalPoints\u001b[38;5;241m.\u001b[39mruler_of_object(\u001b[43mdf\u001b[49m\u001b[43m[\u001b[49m\u001b[43mobj\u001b[49m\u001b[43m]\u001b[49m)\n\u001b[1;32m      4\u001b[0m     df[name] \u001b[38;5;241m=\u001b[39m AstrologicalPoints\u001b[38;5;241m.\u001b[39mchart_object_attributes(df, \u001b[38;5;124m'\u001b[39m\u001b[38;5;124mcharts\u001b[39m\u001b[38;5;124m'\u001b[39m, name)\n",
      "File \u001b[0;32m~/.local/lib/python3.9/site-packages/pandas/core/frame.py:3506\u001b[0m, in \u001b[0;36mDataFrame.__getitem__\u001b[0;34m(self, key)\u001b[0m\n\u001b[1;32m   3504\u001b[0m \u001b[38;5;28;01mif\u001b[39;00m \u001b[38;5;28mself\u001b[39m\u001b[38;5;241m.\u001b[39mcolumns\u001b[38;5;241m.\u001b[39mnlevels \u001b[38;5;241m>\u001b[39m \u001b[38;5;241m1\u001b[39m:\n\u001b[1;32m   3505\u001b[0m     \u001b[38;5;28;01mreturn\u001b[39;00m \u001b[38;5;28mself\u001b[39m\u001b[38;5;241m.\u001b[39m_getitem_multilevel(key)\n\u001b[0;32m-> 3506\u001b[0m indexer \u001b[38;5;241m=\u001b[39m \u001b[38;5;28;43mself\u001b[39;49m\u001b[38;5;241;43m.\u001b[39;49m\u001b[43mcolumns\u001b[49m\u001b[38;5;241;43m.\u001b[39;49m\u001b[43mget_loc\u001b[49m\u001b[43m(\u001b[49m\u001b[43mkey\u001b[49m\u001b[43m)\u001b[49m\n\u001b[1;32m   3507\u001b[0m \u001b[38;5;28;01mif\u001b[39;00m is_integer(indexer):\n\u001b[1;32m   3508\u001b[0m     indexer \u001b[38;5;241m=\u001b[39m [indexer]\n",
      "File \u001b[0;32m~/.local/lib/python3.9/site-packages/pandas/core/indexes/base.py:3623\u001b[0m, in \u001b[0;36mIndex.get_loc\u001b[0;34m(self, key, method, tolerance)\u001b[0m\n\u001b[1;32m   3621\u001b[0m     \u001b[38;5;28;01mreturn\u001b[39;00m \u001b[38;5;28mself\u001b[39m\u001b[38;5;241m.\u001b[39m_engine\u001b[38;5;241m.\u001b[39mget_loc(casted_key)\n\u001b[1;32m   3622\u001b[0m \u001b[38;5;28;01mexcept\u001b[39;00m \u001b[38;5;167;01mKeyError\u001b[39;00m \u001b[38;5;28;01mas\u001b[39;00m err:\n\u001b[0;32m-> 3623\u001b[0m     \u001b[38;5;28;01mraise\u001b[39;00m \u001b[38;5;167;01mKeyError\u001b[39;00m(key) \u001b[38;5;28;01mfrom\u001b[39;00m \u001b[38;5;21;01merr\u001b[39;00m\n\u001b[1;32m   3624\u001b[0m \u001b[38;5;28;01mexcept\u001b[39;00m \u001b[38;5;167;01mTypeError\u001b[39;00m:\n\u001b[1;32m   3625\u001b[0m     \u001b[38;5;66;03m# If we have a listlike key, _check_indexing_error will raise\u001b[39;00m\n\u001b[1;32m   3626\u001b[0m     \u001b[38;5;66;03m#  InvalidIndexError. Otherwise we fall through and re-raise\u001b[39;00m\n\u001b[1;32m   3627\u001b[0m     \u001b[38;5;66;03m#  the TypeError.\u001b[39;00m\n\u001b[1;32m   3628\u001b[0m     \u001b[38;5;28mself\u001b[39m\u001b[38;5;241m.\u001b[39m_check_indexing_error(key)\n",
      "\u001b[0;31mKeyError\u001b[0m: 'pars_spirit'"
     ]
    }
   ],
   "source": [
    "for name, obj in zip(rulers_pars_col_names, pars_objects):\n",
    "    obj = str.lower(obj)\n",
    "    df[name] = AstrologicalPoints.ruler_of_object(df[obj])\n",
    "    df[name] = AstrologicalPoints.chart_object_attributes(df, 'charts', name)"
   ]
  },
  {
   "cell_type": "code",
   "execution_count": 296,
   "metadata": {},
   "outputs": [],
   "source": [
    "for obj in antes_objects:\n",
    "    antes_name = 'antes_' + obj\n",
    "    df[antes_name] = AstrologicalPoints.antes_objects(df, obj)"
   ]
  },
  {
   "cell_type": "code",
   "execution_count": 297,
   "metadata": {},
   "outputs": [],
   "source": [
    "antes_objects = []\n",
    "\n",
    "for col in df.columns:\n",
    "    if col.startswith('antes'):\n",
    "        AstrologicalPoints.rename_antes_objects(df, col)\n",
    "        antes_objects.append(col)      "
   ]
  },
  {
   "cell_type": "code",
   "execution_count": 298,
   "metadata": {},
   "outputs": [
    {
     "data": {
      "text/html": [
       "<div>\n",
       "<style scoped>\n",
       "    .dataframe tbody tr th:only-of-type {\n",
       "        vertical-align: middle;\n",
       "    }\n",
       "\n",
       "    .dataframe tbody tr th {\n",
       "        vertical-align: top;\n",
       "    }\n",
       "\n",
       "    .dataframe thead th {\n",
       "        text-align: right;\n",
       "    }\n",
       "</style>\n",
       "<table border=\"1\" class=\"dataframe\">\n",
       "  <thead>\n",
       "    <tr style=\"text-align: right;\">\n",
       "      <th></th>\n",
       "      <th>date</th>\n",
       "      <th>utc_time</th>\n",
       "      <th>lon</th>\n",
       "      <th>lat</th>\n",
       "      <th>charts</th>\n",
       "      <th>asc</th>\n",
       "      <th>desc</th>\n",
       "      <th>mc</th>\n",
       "      <th>ic</th>\n",
       "      <th>pars_fortuna</th>\n",
       "      <th>sun</th>\n",
       "      <th>moon</th>\n",
       "      <th>saturn</th>\n",
       "      <th>uranus</th>\n",
       "      <th>neptune</th>\n",
       "      <th>pluto</th>\n",
       "      <th>chiron</th>\n",
       "      <th>north_node</th>\n",
       "      <th>south_node</th>\n",
       "      <th>ruler_asc</th>\n",
       "      <th>ruler_desc</th>\n",
       "      <th>ruler_mc</th>\n",
       "      <th>ruler_ic</th>\n",
       "      <th>ruler_pars_fortuna</th>\n",
       "      <th>antes_moon</th>\n",
       "      <th>antes_pars_fortuna</th>\n",
       "      <th>antes_uranus</th>\n",
       "      <th>antes_neptune</th>\n",
       "      <th>antes_pluto</th>\n",
       "      <th>antes_chiron</th>\n",
       "    </tr>\n",
       "  </thead>\n",
       "  <tbody>\n",
       "    <tr>\n",
       "      <th>0</th>\n",
       "      <td>2015/03/13</td>\n",
       "      <td>14:00</td>\n",
       "      <td>38n32</td>\n",
       "      <td>8w54</td>\n",
       "      <td>&lt;flatlib.chart.Chart object at 0x7f0d08a90520&gt;</td>\n",
       "      <td>&lt;Asc Cancer +27:24:38&gt;</td>\n",
       "      <td>&lt;Desc Capricorn +27:24:38&gt;</td>\n",
       "      <td>&lt;MC Aries +13:01:44&gt;</td>\n",
       "      <td>&lt;IC Libra +13:01:44&gt;</td>\n",
       "      <td>&lt;Pars Fortuna Aries +25:28:18&gt;</td>\n",
       "      <td>&lt;Sun Pisces +22:39:56 +00:59:52&gt;</td>\n",
       "      <td>&lt;Moon Sagittarius +20:43:35 +13:13:02&gt;</td>\n",
       "      <td>&lt;Saturn Sagittarius +04:55:45 +00:00:06&gt;</td>\n",
       "      <td>&lt;Uranus Aries +15:06:33 +00:03:14&gt;</td>\n",
       "      <td>&lt;Neptune Pisces +07:50:38 +00:02:13&gt;</td>\n",
       "      <td>&lt;Pluto Capricorn +15:14:35 +00:01:02&gt;</td>\n",
       "      <td>&lt;Chiron Pisces +17:36:15 +00:03:43&gt;</td>\n",
       "      <td>&lt;North Node Libra +11:08:52 -00:03:11&gt;</td>\n",
       "      <td>&lt;South Node Aries +11:08:52 -00:03:11&gt;</td>\n",
       "      <td>&lt;Moon Sagittarius +20:43:35 +13:13:02&gt;</td>\n",
       "      <td>&lt;Saturn Sagittarius +04:55:45 +00:00:06&gt;</td>\n",
       "      <td>&lt;Mars Aries +16:27:08 +00:45:19&gt;</td>\n",
       "      <td>&lt;Venus Aries +25:21:06 +01:12:41&gt;</td>\n",
       "      <td>&lt;Mars Aries +16:27:08 +00:45:19&gt;</td>\n",
       "      <td>&lt;Antes Moon Capricorn +09:16:25 +13:13:02&gt;</td>\n",
       "      <td>&lt;Antes Pars Fortuna Virgo +04:31:42&gt;</td>\n",
       "      <td>&lt;Antes Uranus Virgo +14:53:27 +00:03:14&gt;</td>\n",
       "      <td>&lt;Antes Neptune Libra +22:09:22 +00:02:13&gt;</td>\n",
       "      <td>&lt;Antes Pluto Sagittarius +14:45:25 +00:01:02&gt;</td>\n",
       "      <td>&lt;Antes Chiron Libra +12:23:45 +00:03:43&gt;</td>\n",
       "    </tr>\n",
       "    <tr>\n",
       "      <th>1</th>\n",
       "      <td>2016/05/23</td>\n",
       "      <td>12:30</td>\n",
       "      <td>08n07</td>\n",
       "      <td>18e14</td>\n",
       "      <td>&lt;flatlib.chart.Chart object at 0x7f0d08a90550&gt;</td>\n",
       "      <td>&lt;Asc Virgo +27:12:45&gt;</td>\n",
       "      <td>&lt;Desc Pisces +27:12:45&gt;</td>\n",
       "      <td>&lt;MC Gemini +27:30:28&gt;</td>\n",
       "      <td>&lt;IC Sagittarius +27:30:28&gt;</td>\n",
       "      <td>&lt;Pars Fortuna Aries +15:36:29&gt;</td>\n",
       "      <td>&lt;Sun Gemini +02:47:58 +00:57:39&gt;</td>\n",
       "      <td>&lt;Moon Sagittarius +21:11:41 +12:19:41&gt;</td>\n",
       "      <td>&lt;Saturn Sagittarius +13:54:21 -00:04:19&gt;</td>\n",
       "      <td>&lt;Uranus Aries +22:47:40 +00:02:49&gt;</td>\n",
       "      <td>&lt;Neptune Pisces +11:54:55 +00:00:42&gt;</td>\n",
       "      <td>&lt;Pluto Capricorn +17:11:35 -00:00:57&gt;</td>\n",
       "      <td>&lt;Chiron Pisces +24:43:00 +00:01:47&gt;</td>\n",
       "      <td>&lt;North Node Virgo +18:00:29 -00:03:11&gt;</td>\n",
       "      <td>&lt;South Node Pisces +18:00:29 -00:03:11&gt;</td>\n",
       "      <td>&lt;Mercury Taurus +14:22:23 +00:04:22&gt;</td>\n",
       "      <td>&lt;Jupiter Virgo +13:33:03 +00:02:30&gt;</td>\n",
       "      <td>&lt;Mercury Taurus +14:22:23 +00:04:22&gt;</td>\n",
       "      <td>&lt;Jupiter Virgo +13:33:03 +00:02:30&gt;</td>\n",
       "      <td>&lt;Mars Sagittarius +01:25:22 -00:21:00&gt;</td>\n",
       "      <td>&lt;Antes Moon Capricorn +08:48:19 +12:19:41&gt;</td>\n",
       "      <td>&lt;Antes Pars Fortuna Virgo +14:23:31&gt;</td>\n",
       "      <td>&lt;Antes Uranus Virgo +07:12:20 +00:02:49&gt;</td>\n",
       "      <td>&lt;Antes Neptune Libra +18:05:05 +00:00:42&gt;</td>\n",
       "      <td>&lt;Antes Pluto Sagittarius +12:48:25 -00:00:57&gt;</td>\n",
       "      <td>&lt;Antes Chiron Libra +05:17:00 +00:01:47&gt;</td>\n",
       "    </tr>\n",
       "    <tr>\n",
       "      <th>2</th>\n",
       "      <td>2018/10/03</td>\n",
       "      <td>00:15</td>\n",
       "      <td>14s42</td>\n",
       "      <td>36w04</td>\n",
       "      <td>&lt;flatlib.chart.Chart object at 0x7f0d08a90c70&gt;</td>\n",
       "      <td>&lt;Asc Gemini +05:25:08&gt;</td>\n",
       "      <td>&lt;Desc Sagittarius +05:25:08&gt;</td>\n",
       "      <td>&lt;MC Pisces +07:39:39&gt;</td>\n",
       "      <td>&lt;IC Virgo +07:39:39&gt;</td>\n",
       "      <td>&lt;Pars Fortuna Pisces +13:18:26&gt;</td>\n",
       "      <td>&lt;Sun Libra +09:44:33 +00:59:03&gt;</td>\n",
       "      <td>&lt;Moon Cancer +17:37:52 +14:05:52&gt;</td>\n",
       "      <td>&lt;Saturn Capricorn +03:06:46 +00:02:33&gt;</td>\n",
       "      <td>&lt;Uranus Taurus +01:23:25 -00:02:14&gt;</td>\n",
       "      <td>&lt;Neptune Pisces +14:24:42 -00:01:27&gt;</td>\n",
       "      <td>&lt;Pluto Capricorn +18:45:26 +00:00:03&gt;</td>\n",
       "      <td>&lt;Chiron Pisces +29:41:06 -00:02:40&gt;</td>\n",
       "      <td>&lt;North Node Leo +02:19:59 -00:03:11&gt;</td>\n",
       "      <td>&lt;South Node Aquarius +02:19:59 -00:03:11&gt;</td>\n",
       "      <td>&lt;Mercury Libra +18:46:13 +01:38:51&gt;</td>\n",
       "      <td>&lt;Jupiter Scorpio +22:27:07 +00:11:21&gt;</td>\n",
       "      <td>&lt;Jupiter Scorpio +22:27:07 +00:11:21&gt;</td>\n",
       "      <td>&lt;Mercury Libra +18:46:13 +01:38:51&gt;</td>\n",
       "      <td>&lt;Jupiter Scorpio +22:27:07 +00:11:21&gt;</td>\n",
       "      <td>&lt;Antes Moon Gemini +12:22:08 +14:05:52&gt;</td>\n",
       "      <td>&lt;Antes Pars Fortuna Libra +16:41:34&gt;</td>\n",
       "      <td>&lt;Antes Uranus Leo +28:36:35 -00:02:14&gt;</td>\n",
       "      <td>&lt;Antes Neptune Libra +15:35:18 -00:01:27&gt;</td>\n",
       "      <td>&lt;Antes Pluto Sagittarius +11:14:34 +00:00:03&gt;</td>\n",
       "      <td>&lt;Antes Chiron Libra +00:18:54 -00:02:40&gt;</td>\n",
       "    </tr>\n",
       "  </tbody>\n",
       "</table>\n",
       "</div>"
      ],
      "text/plain": [
       "         date utc_time    lon    lat  \\\n",
       "0  2015/03/13    14:00  38n32   8w54   \n",
       "1  2016/05/23    12:30  08n07  18e14   \n",
       "2  2018/10/03    00:15  14s42  36w04   \n",
       "\n",
       "                                           charts                     asc  \\\n",
       "0  <flatlib.chart.Chart object at 0x7f0d08a90520>  <Asc Cancer +27:24:38>   \n",
       "1  <flatlib.chart.Chart object at 0x7f0d08a90550>   <Asc Virgo +27:12:45>   \n",
       "2  <flatlib.chart.Chart object at 0x7f0d08a90c70>  <Asc Gemini +05:25:08>   \n",
       "\n",
       "                           desc                     mc  \\\n",
       "0    <Desc Capricorn +27:24:38>   <MC Aries +13:01:44>   \n",
       "1       <Desc Pisces +27:12:45>  <MC Gemini +27:30:28>   \n",
       "2  <Desc Sagittarius +05:25:08>  <MC Pisces +07:39:39>   \n",
       "\n",
       "                           ic                     pars_fortuna  \\\n",
       "0        <IC Libra +13:01:44>   <Pars Fortuna Aries +25:28:18>   \n",
       "1  <IC Sagittarius +27:30:28>   <Pars Fortuna Aries +15:36:29>   \n",
       "2        <IC Virgo +07:39:39>  <Pars Fortuna Pisces +13:18:26>   \n",
       "\n",
       "                                sun                                    moon  \\\n",
       "0  <Sun Pisces +22:39:56 +00:59:52>  <Moon Sagittarius +20:43:35 +13:13:02>   \n",
       "1  <Sun Gemini +02:47:58 +00:57:39>  <Moon Sagittarius +21:11:41 +12:19:41>   \n",
       "2   <Sun Libra +09:44:33 +00:59:03>       <Moon Cancer +17:37:52 +14:05:52>   \n",
       "\n",
       "                                     saturn  \\\n",
       "0  <Saturn Sagittarius +04:55:45 +00:00:06>   \n",
       "1  <Saturn Sagittarius +13:54:21 -00:04:19>   \n",
       "2    <Saturn Capricorn +03:06:46 +00:02:33>   \n",
       "\n",
       "                                uranus                               neptune  \\\n",
       "0   <Uranus Aries +15:06:33 +00:03:14>  <Neptune Pisces +07:50:38 +00:02:13>   \n",
       "1   <Uranus Aries +22:47:40 +00:02:49>  <Neptune Pisces +11:54:55 +00:00:42>   \n",
       "2  <Uranus Taurus +01:23:25 -00:02:14>  <Neptune Pisces +14:24:42 -00:01:27>   \n",
       "\n",
       "                                   pluto                               chiron  \\\n",
       "0  <Pluto Capricorn +15:14:35 +00:01:02>  <Chiron Pisces +17:36:15 +00:03:43>   \n",
       "1  <Pluto Capricorn +17:11:35 -00:00:57>  <Chiron Pisces +24:43:00 +00:01:47>   \n",
       "2  <Pluto Capricorn +18:45:26 +00:00:03>  <Chiron Pisces +29:41:06 -00:02:40>   \n",
       "\n",
       "                               north_node  \\\n",
       "0  <North Node Libra +11:08:52 -00:03:11>   \n",
       "1  <North Node Virgo +18:00:29 -00:03:11>   \n",
       "2    <North Node Leo +02:19:59 -00:03:11>   \n",
       "\n",
       "                                  south_node  \\\n",
       "0     <South Node Aries +11:08:52 -00:03:11>   \n",
       "1    <South Node Pisces +18:00:29 -00:03:11>   \n",
       "2  <South Node Aquarius +02:19:59 -00:03:11>   \n",
       "\n",
       "                                ruler_asc  \\\n",
       "0  <Moon Sagittarius +20:43:35 +13:13:02>   \n",
       "1    <Mercury Taurus +14:22:23 +00:04:22>   \n",
       "2     <Mercury Libra +18:46:13 +01:38:51>   \n",
       "\n",
       "                                 ruler_desc  \\\n",
       "0  <Saturn Sagittarius +04:55:45 +00:00:06>   \n",
       "1       <Jupiter Virgo +13:33:03 +00:02:30>   \n",
       "2     <Jupiter Scorpio +22:27:07 +00:11:21>   \n",
       "\n",
       "                                ruler_mc                             ruler_ic  \\\n",
       "0       <Mars Aries +16:27:08 +00:45:19>    <Venus Aries +25:21:06 +01:12:41>   \n",
       "1   <Mercury Taurus +14:22:23 +00:04:22>  <Jupiter Virgo +13:33:03 +00:02:30>   \n",
       "2  <Jupiter Scorpio +22:27:07 +00:11:21>  <Mercury Libra +18:46:13 +01:38:51>   \n",
       "\n",
       "                       ruler_pars_fortuna  \\\n",
       "0        <Mars Aries +16:27:08 +00:45:19>   \n",
       "1  <Mars Sagittarius +01:25:22 -00:21:00>   \n",
       "2   <Jupiter Scorpio +22:27:07 +00:11:21>   \n",
       "\n",
       "                                   antes_moon  \\\n",
       "0  <Antes Moon Capricorn +09:16:25 +13:13:02>   \n",
       "1  <Antes Moon Capricorn +08:48:19 +12:19:41>   \n",
       "2     <Antes Moon Gemini +12:22:08 +14:05:52>   \n",
       "\n",
       "                     antes_pars_fortuna  \\\n",
       "0  <Antes Pars Fortuna Virgo +04:31:42>   \n",
       "1  <Antes Pars Fortuna Virgo +14:23:31>   \n",
       "2  <Antes Pars Fortuna Libra +16:41:34>   \n",
       "\n",
       "                               antes_uranus  \\\n",
       "0  <Antes Uranus Virgo +14:53:27 +00:03:14>   \n",
       "1  <Antes Uranus Virgo +07:12:20 +00:02:49>   \n",
       "2    <Antes Uranus Leo +28:36:35 -00:02:14>   \n",
       "\n",
       "                               antes_neptune  \\\n",
       "0  <Antes Neptune Libra +22:09:22 +00:02:13>   \n",
       "1  <Antes Neptune Libra +18:05:05 +00:00:42>   \n",
       "2  <Antes Neptune Libra +15:35:18 -00:01:27>   \n",
       "\n",
       "                                     antes_pluto  \\\n",
       "0  <Antes Pluto Sagittarius +14:45:25 +00:01:02>   \n",
       "1  <Antes Pluto Sagittarius +12:48:25 -00:00:57>   \n",
       "2  <Antes Pluto Sagittarius +11:14:34 +00:00:03>   \n",
       "\n",
       "                               antes_chiron  \n",
       "0  <Antes Chiron Libra +12:23:45 +00:03:43>  \n",
       "1  <Antes Chiron Libra +05:17:00 +00:01:47>  \n",
       "2  <Antes Chiron Libra +00:18:54 -00:02:40>  "
      ]
     },
     "execution_count": 298,
     "metadata": {},
     "output_type": "execute_result"
    }
   ],
   "source": [
    "df"
   ]
  },
  {
   "cell_type": "code",
   "execution_count": 299,
   "metadata": {},
   "outputs": [
    {
     "data": {
      "text/plain": [
       "['asc', 'desc', 'mc', 'ic']"
      ]
     },
     "execution_count": 299,
     "metadata": {},
     "output_type": "execute_result"
    }
   ],
   "source": [
    "houses_objects = AstrologicalConstants.houses_objects\n",
    "houses_objects"
   ]
  },
  {
   "cell_type": "code",
   "execution_count": 300,
   "metadata": {},
   "outputs": [
    {
     "data": {
      "text/plain": [
       "\"['moon', 'ruler_asc', 'ruler_desc', 'pars_fortuna', 'ruler_pars_fortuna', 'ruler_mc', 'ruler_ic', 'sun', 'saturn', 'uranus', 'neptune', 'pluto', 'chiron', 'north_node', 'south_node']\""
      ]
     },
     "execution_count": 300,
     "metadata": {},
     "output_type": "execute_result"
    }
   ],
   "source": [
    "main_objects = AstrologicalConstants.main_objects\n",
    "str(main_objects)"
   ]
  },
  {
   "cell_type": "code",
   "execution_count": 301,
   "metadata": {},
   "outputs": [
    {
     "data": {
      "text/plain": [
       "\"['antes_moon', 'antes_pars_fortuna', 'antes_uranus', 'antes_neptune', 'antes_pluto', 'antes_chiron']\""
      ]
     },
     "execution_count": 301,
     "metadata": {},
     "output_type": "execute_result"
    }
   ],
   "source": [
    "str(antes_objects)"
   ]
  },
  {
   "cell_type": "code",
   "execution_count": 302,
   "metadata": {},
   "outputs": [
    {
     "data": {
      "text/plain": [
       "\"['asc', 'desc', 'mc', 'ic', 'moon', 'ruler_asc', 'ruler_desc', 'pars_fortuna', 'ruler_pars_fortuna', 'ruler_mc', 'ruler_ic', 'sun', 'saturn', 'uranus', 'neptune', 'pluto', 'chiron', 'north_node', 'south_node', 'antes_moon', 'antes_pars_fortuna', 'antes_uranus', 'antes_neptune', 'antes_pluto', 'antes_chiron']\""
      ]
     },
     "execution_count": 302,
     "metadata": {},
     "output_type": "execute_result"
    }
   ],
   "source": [
    "cols_for_id = houses_objects + main_objects + antes_objects\n",
    "str(cols_for_id)"
   ]
  },
  {
   "cell_type": "code",
   "execution_count": 303,
   "metadata": {},
   "outputs": [],
   "source": [
    "df['id_for_aspects'] = AstrologicalPoints.id_for_aspekts(df, cols_for_id)"
   ]
  },
  {
   "cell_type": "code",
   "execution_count": 304,
   "metadata": {},
   "outputs": [],
   "source": [
    "df['transform_id'] = df.id_for_aspects.map(lambda x: TransformDoubleValues(x).conbine_class_methods())"
   ]
  },
  {
   "cell_type": "code",
   "execution_count": 305,
   "metadata": {},
   "outputs": [],
   "source": [
    "df.drop(columns='id_for_aspects', inplace=True)"
   ]
  },
  {
   "cell_type": "code",
   "execution_count": 306,
   "metadata": {},
   "outputs": [
    {
     "data": {
      "text/html": [
       "<div>\n",
       "<style scoped>\n",
       "    .dataframe tbody tr th:only-of-type {\n",
       "        vertical-align: middle;\n",
       "    }\n",
       "\n",
       "    .dataframe tbody tr th {\n",
       "        vertical-align: top;\n",
       "    }\n",
       "\n",
       "    .dataframe thead th {\n",
       "        text-align: right;\n",
       "    }\n",
       "</style>\n",
       "<table border=\"1\" class=\"dataframe\">\n",
       "  <thead>\n",
       "    <tr style=\"text-align: right;\">\n",
       "      <th></th>\n",
       "      <th>date</th>\n",
       "      <th>utc_time</th>\n",
       "      <th>lon</th>\n",
       "      <th>lat</th>\n",
       "      <th>charts</th>\n",
       "      <th>asc</th>\n",
       "      <th>desc</th>\n",
       "      <th>mc</th>\n",
       "      <th>ic</th>\n",
       "      <th>pars_fortuna</th>\n",
       "      <th>sun</th>\n",
       "      <th>moon</th>\n",
       "      <th>saturn</th>\n",
       "      <th>uranus</th>\n",
       "      <th>neptune</th>\n",
       "      <th>pluto</th>\n",
       "      <th>chiron</th>\n",
       "      <th>north_node</th>\n",
       "      <th>south_node</th>\n",
       "      <th>ruler_asc</th>\n",
       "      <th>ruler_desc</th>\n",
       "      <th>ruler_mc</th>\n",
       "      <th>ruler_ic</th>\n",
       "      <th>ruler_pars_fortuna</th>\n",
       "      <th>antes_moon</th>\n",
       "      <th>antes_pars_fortuna</th>\n",
       "      <th>antes_uranus</th>\n",
       "      <th>antes_neptune</th>\n",
       "      <th>antes_pluto</th>\n",
       "      <th>antes_chiron</th>\n",
       "      <th>transform_id</th>\n",
       "    </tr>\n",
       "  </thead>\n",
       "  <tbody>\n",
       "    <tr>\n",
       "      <th>0</th>\n",
       "      <td>2015/03/13</td>\n",
       "      <td>14:00</td>\n",
       "      <td>38n32</td>\n",
       "      <td>8w54</td>\n",
       "      <td>&lt;flatlib.chart.Chart object at 0x7f0d08a90520&gt;</td>\n",
       "      <td>&lt;Asc Cancer +27:24:38&gt;</td>\n",
       "      <td>&lt;Desc Capricorn +27:24:38&gt;</td>\n",
       "      <td>&lt;MC Aries +13:01:44&gt;</td>\n",
       "      <td>&lt;IC Libra +13:01:44&gt;</td>\n",
       "      <td>&lt;Pars Fortuna Aries +25:28:18&gt;</td>\n",
       "      <td>&lt;Sun Pisces +22:39:56 +00:59:52&gt;</td>\n",
       "      <td>&lt;Moon Sagittarius +20:43:35 +13:13:02&gt;</td>\n",
       "      <td>&lt;Saturn Sagittarius +04:55:45 +00:00:06&gt;</td>\n",
       "      <td>&lt;Uranus Aries +15:06:33 +00:03:14&gt;</td>\n",
       "      <td>&lt;Neptune Pisces +07:50:38 +00:02:13&gt;</td>\n",
       "      <td>&lt;Pluto Capricorn +15:14:35 +00:01:02&gt;</td>\n",
       "      <td>&lt;Chiron Pisces +17:36:15 +00:03:43&gt;</td>\n",
       "      <td>&lt;North Node Libra +11:08:52 -00:03:11&gt;</td>\n",
       "      <td>&lt;South Node Aries +11:08:52 -00:03:11&gt;</td>\n",
       "      <td>&lt;Moon Sagittarius +20:43:35 +13:13:02&gt;</td>\n",
       "      <td>&lt;Saturn Sagittarius +04:55:45 +00:00:06&gt;</td>\n",
       "      <td>&lt;Mars Aries +16:27:08 +00:45:19&gt;</td>\n",
       "      <td>&lt;Venus Aries +25:21:06 +01:12:41&gt;</td>\n",
       "      <td>&lt;Mars Aries +16:27:08 +00:45:19&gt;</td>\n",
       "      <td>&lt;Antes Moon Capricorn +09:16:25 +13:13:02&gt;</td>\n",
       "      <td>&lt;Antes Pars Fortuna Virgo +04:31:42&gt;</td>\n",
       "      <td>&lt;Antes Uranus Virgo +14:53:27 +00:03:14&gt;</td>\n",
       "      <td>&lt;Antes Neptune Libra +22:09:22 +00:02:13&gt;</td>\n",
       "      <td>&lt;Antes Pluto Sagittarius +14:45:25 +00:01:02&gt;</td>\n",
       "      <td>&lt;Antes Chiron Libra +12:23:45 +00:03:43&gt;</td>\n",
       "      <td>[(asc, Asc), (desc, Desc), (mc, MC), (ic, IC), (pars_fortuna, Pars Fortuna), (ruler_ic, Venus), ...</td>\n",
       "    </tr>\n",
       "    <tr>\n",
       "      <th>1</th>\n",
       "      <td>2016/05/23</td>\n",
       "      <td>12:30</td>\n",
       "      <td>08n07</td>\n",
       "      <td>18e14</td>\n",
       "      <td>&lt;flatlib.chart.Chart object at 0x7f0d08a90550&gt;</td>\n",
       "      <td>&lt;Asc Virgo +27:12:45&gt;</td>\n",
       "      <td>&lt;Desc Pisces +27:12:45&gt;</td>\n",
       "      <td>&lt;MC Gemini +27:30:28&gt;</td>\n",
       "      <td>&lt;IC Sagittarius +27:30:28&gt;</td>\n",
       "      <td>&lt;Pars Fortuna Aries +15:36:29&gt;</td>\n",
       "      <td>&lt;Sun Gemini +02:47:58 +00:57:39&gt;</td>\n",
       "      <td>&lt;Moon Sagittarius +21:11:41 +12:19:41&gt;</td>\n",
       "      <td>&lt;Saturn Sagittarius +13:54:21 -00:04:19&gt;</td>\n",
       "      <td>&lt;Uranus Aries +22:47:40 +00:02:49&gt;</td>\n",
       "      <td>&lt;Neptune Pisces +11:54:55 +00:00:42&gt;</td>\n",
       "      <td>&lt;Pluto Capricorn +17:11:35 -00:00:57&gt;</td>\n",
       "      <td>&lt;Chiron Pisces +24:43:00 +00:01:47&gt;</td>\n",
       "      <td>&lt;North Node Virgo +18:00:29 -00:03:11&gt;</td>\n",
       "      <td>&lt;South Node Pisces +18:00:29 -00:03:11&gt;</td>\n",
       "      <td>&lt;Mercury Taurus +14:22:23 +00:04:22&gt;</td>\n",
       "      <td>&lt;Jupiter Virgo +13:33:03 +00:02:30&gt;</td>\n",
       "      <td>&lt;Mercury Taurus +14:22:23 +00:04:22&gt;</td>\n",
       "      <td>&lt;Jupiter Virgo +13:33:03 +00:02:30&gt;</td>\n",
       "      <td>&lt;Mars Sagittarius +01:25:22 -00:21:00&gt;</td>\n",
       "      <td>&lt;Antes Moon Capricorn +08:48:19 +12:19:41&gt;</td>\n",
       "      <td>&lt;Antes Pars Fortuna Virgo +14:23:31&gt;</td>\n",
       "      <td>&lt;Antes Uranus Virgo +07:12:20 +00:02:49&gt;</td>\n",
       "      <td>&lt;Antes Neptune Libra +18:05:05 +00:00:42&gt;</td>\n",
       "      <td>&lt;Antes Pluto Sagittarius +12:48:25 -00:00:57&gt;</td>\n",
       "      <td>&lt;Antes Chiron Libra +05:17:00 +00:01:47&gt;</td>\n",
       "      <td>[(asc, Asc), (desc, Desc), (mc, MC), (ic, IC), (moon, Moon), (pars_fortuna, Pars Fortuna), (rule...</td>\n",
       "    </tr>\n",
       "    <tr>\n",
       "      <th>2</th>\n",
       "      <td>2018/10/03</td>\n",
       "      <td>00:15</td>\n",
       "      <td>14s42</td>\n",
       "      <td>36w04</td>\n",
       "      <td>&lt;flatlib.chart.Chart object at 0x7f0d08a90c70&gt;</td>\n",
       "      <td>&lt;Asc Gemini +05:25:08&gt;</td>\n",
       "      <td>&lt;Desc Sagittarius +05:25:08&gt;</td>\n",
       "      <td>&lt;MC Pisces +07:39:39&gt;</td>\n",
       "      <td>&lt;IC Virgo +07:39:39&gt;</td>\n",
       "      <td>&lt;Pars Fortuna Pisces +13:18:26&gt;</td>\n",
       "      <td>&lt;Sun Libra +09:44:33 +00:59:03&gt;</td>\n",
       "      <td>&lt;Moon Cancer +17:37:52 +14:05:52&gt;</td>\n",
       "      <td>&lt;Saturn Capricorn +03:06:46 +00:02:33&gt;</td>\n",
       "      <td>&lt;Uranus Taurus +01:23:25 -00:02:14&gt;</td>\n",
       "      <td>&lt;Neptune Pisces +14:24:42 -00:01:27&gt;</td>\n",
       "      <td>&lt;Pluto Capricorn +18:45:26 +00:00:03&gt;</td>\n",
       "      <td>&lt;Chiron Pisces +29:41:06 -00:02:40&gt;</td>\n",
       "      <td>&lt;North Node Leo +02:19:59 -00:03:11&gt;</td>\n",
       "      <td>&lt;South Node Aquarius +02:19:59 -00:03:11&gt;</td>\n",
       "      <td>&lt;Mercury Libra +18:46:13 +01:38:51&gt;</td>\n",
       "      <td>&lt;Jupiter Scorpio +22:27:07 +00:11:21&gt;</td>\n",
       "      <td>&lt;Jupiter Scorpio +22:27:07 +00:11:21&gt;</td>\n",
       "      <td>&lt;Mercury Libra +18:46:13 +01:38:51&gt;</td>\n",
       "      <td>&lt;Jupiter Scorpio +22:27:07 +00:11:21&gt;</td>\n",
       "      <td>&lt;Antes Moon Gemini +12:22:08 +14:05:52&gt;</td>\n",
       "      <td>&lt;Antes Pars Fortuna Libra +16:41:34&gt;</td>\n",
       "      <td>&lt;Antes Uranus Leo +28:36:35 -00:02:14&gt;</td>\n",
       "      <td>&lt;Antes Neptune Libra +15:35:18 -00:01:27&gt;</td>\n",
       "      <td>&lt;Antes Pluto Sagittarius +11:14:34 +00:00:03&gt;</td>\n",
       "      <td>&lt;Antes Chiron Libra +00:18:54 -00:02:40&gt;</td>\n",
       "      <td>[(asc, Asc), (desc, Desc), (mc, MC), (ic, IC), (moon, Moon), (pars_fortuna, Pars Fortuna), (sun,...</td>\n",
       "    </tr>\n",
       "  </tbody>\n",
       "</table>\n",
       "</div>"
      ],
      "text/plain": [
       "         date utc_time    lon    lat  \\\n",
       "0  2015/03/13    14:00  38n32   8w54   \n",
       "1  2016/05/23    12:30  08n07  18e14   \n",
       "2  2018/10/03    00:15  14s42  36w04   \n",
       "\n",
       "                                           charts                     asc  \\\n",
       "0  <flatlib.chart.Chart object at 0x7f0d08a90520>  <Asc Cancer +27:24:38>   \n",
       "1  <flatlib.chart.Chart object at 0x7f0d08a90550>   <Asc Virgo +27:12:45>   \n",
       "2  <flatlib.chart.Chart object at 0x7f0d08a90c70>  <Asc Gemini +05:25:08>   \n",
       "\n",
       "                           desc                     mc  \\\n",
       "0    <Desc Capricorn +27:24:38>   <MC Aries +13:01:44>   \n",
       "1       <Desc Pisces +27:12:45>  <MC Gemini +27:30:28>   \n",
       "2  <Desc Sagittarius +05:25:08>  <MC Pisces +07:39:39>   \n",
       "\n",
       "                           ic                     pars_fortuna  \\\n",
       "0        <IC Libra +13:01:44>   <Pars Fortuna Aries +25:28:18>   \n",
       "1  <IC Sagittarius +27:30:28>   <Pars Fortuna Aries +15:36:29>   \n",
       "2        <IC Virgo +07:39:39>  <Pars Fortuna Pisces +13:18:26>   \n",
       "\n",
       "                                sun                                    moon  \\\n",
       "0  <Sun Pisces +22:39:56 +00:59:52>  <Moon Sagittarius +20:43:35 +13:13:02>   \n",
       "1  <Sun Gemini +02:47:58 +00:57:39>  <Moon Sagittarius +21:11:41 +12:19:41>   \n",
       "2   <Sun Libra +09:44:33 +00:59:03>       <Moon Cancer +17:37:52 +14:05:52>   \n",
       "\n",
       "                                     saturn  \\\n",
       "0  <Saturn Sagittarius +04:55:45 +00:00:06>   \n",
       "1  <Saturn Sagittarius +13:54:21 -00:04:19>   \n",
       "2    <Saturn Capricorn +03:06:46 +00:02:33>   \n",
       "\n",
       "                                uranus                               neptune  \\\n",
       "0   <Uranus Aries +15:06:33 +00:03:14>  <Neptune Pisces +07:50:38 +00:02:13>   \n",
       "1   <Uranus Aries +22:47:40 +00:02:49>  <Neptune Pisces +11:54:55 +00:00:42>   \n",
       "2  <Uranus Taurus +01:23:25 -00:02:14>  <Neptune Pisces +14:24:42 -00:01:27>   \n",
       "\n",
       "                                   pluto                               chiron  \\\n",
       "0  <Pluto Capricorn +15:14:35 +00:01:02>  <Chiron Pisces +17:36:15 +00:03:43>   \n",
       "1  <Pluto Capricorn +17:11:35 -00:00:57>  <Chiron Pisces +24:43:00 +00:01:47>   \n",
       "2  <Pluto Capricorn +18:45:26 +00:00:03>  <Chiron Pisces +29:41:06 -00:02:40>   \n",
       "\n",
       "                               north_node  \\\n",
       "0  <North Node Libra +11:08:52 -00:03:11>   \n",
       "1  <North Node Virgo +18:00:29 -00:03:11>   \n",
       "2    <North Node Leo +02:19:59 -00:03:11>   \n",
       "\n",
       "                                  south_node  \\\n",
       "0     <South Node Aries +11:08:52 -00:03:11>   \n",
       "1    <South Node Pisces +18:00:29 -00:03:11>   \n",
       "2  <South Node Aquarius +02:19:59 -00:03:11>   \n",
       "\n",
       "                                ruler_asc  \\\n",
       "0  <Moon Sagittarius +20:43:35 +13:13:02>   \n",
       "1    <Mercury Taurus +14:22:23 +00:04:22>   \n",
       "2     <Mercury Libra +18:46:13 +01:38:51>   \n",
       "\n",
       "                                 ruler_desc  \\\n",
       "0  <Saturn Sagittarius +04:55:45 +00:00:06>   \n",
       "1       <Jupiter Virgo +13:33:03 +00:02:30>   \n",
       "2     <Jupiter Scorpio +22:27:07 +00:11:21>   \n",
       "\n",
       "                                ruler_mc                             ruler_ic  \\\n",
       "0       <Mars Aries +16:27:08 +00:45:19>    <Venus Aries +25:21:06 +01:12:41>   \n",
       "1   <Mercury Taurus +14:22:23 +00:04:22>  <Jupiter Virgo +13:33:03 +00:02:30>   \n",
       "2  <Jupiter Scorpio +22:27:07 +00:11:21>  <Mercury Libra +18:46:13 +01:38:51>   \n",
       "\n",
       "                       ruler_pars_fortuna  \\\n",
       "0        <Mars Aries +16:27:08 +00:45:19>   \n",
       "1  <Mars Sagittarius +01:25:22 -00:21:00>   \n",
       "2   <Jupiter Scorpio +22:27:07 +00:11:21>   \n",
       "\n",
       "                                   antes_moon  \\\n",
       "0  <Antes Moon Capricorn +09:16:25 +13:13:02>   \n",
       "1  <Antes Moon Capricorn +08:48:19 +12:19:41>   \n",
       "2     <Antes Moon Gemini +12:22:08 +14:05:52>   \n",
       "\n",
       "                     antes_pars_fortuna  \\\n",
       "0  <Antes Pars Fortuna Virgo +04:31:42>   \n",
       "1  <Antes Pars Fortuna Virgo +14:23:31>   \n",
       "2  <Antes Pars Fortuna Libra +16:41:34>   \n",
       "\n",
       "                               antes_uranus  \\\n",
       "0  <Antes Uranus Virgo +14:53:27 +00:03:14>   \n",
       "1  <Antes Uranus Virgo +07:12:20 +00:02:49>   \n",
       "2    <Antes Uranus Leo +28:36:35 -00:02:14>   \n",
       "\n",
       "                               antes_neptune  \\\n",
       "0  <Antes Neptune Libra +22:09:22 +00:02:13>   \n",
       "1  <Antes Neptune Libra +18:05:05 +00:00:42>   \n",
       "2  <Antes Neptune Libra +15:35:18 -00:01:27>   \n",
       "\n",
       "                                     antes_pluto  \\\n",
       "0  <Antes Pluto Sagittarius +14:45:25 +00:01:02>   \n",
       "1  <Antes Pluto Sagittarius +12:48:25 -00:00:57>   \n",
       "2  <Antes Pluto Sagittarius +11:14:34 +00:00:03>   \n",
       "\n",
       "                               antes_chiron  \\\n",
       "0  <Antes Chiron Libra +12:23:45 +00:03:43>   \n",
       "1  <Antes Chiron Libra +05:17:00 +00:01:47>   \n",
       "2  <Antes Chiron Libra +00:18:54 -00:02:40>   \n",
       "\n",
       "                                                                                          transform_id  \n",
       "0  [(asc, Asc), (desc, Desc), (mc, MC), (ic, IC), (pars_fortuna, Pars Fortuna), (ruler_ic, Venus), ...  \n",
       "1  [(asc, Asc), (desc, Desc), (mc, MC), (ic, IC), (moon, Moon), (pars_fortuna, Pars Fortuna), (rule...  \n",
       "2  [(asc, Asc), (desc, Desc), (mc, MC), (ic, IC), (moon, Moon), (pars_fortuna, Pars Fortuna), (sun,...  "
      ]
     },
     "execution_count": 306,
     "metadata": {},
     "output_type": "execute_result"
    }
   ],
   "source": [
    "df"
   ]
  },
  {
   "cell_type": "code",
   "execution_count": 307,
   "metadata": {},
   "outputs": [
    {
     "data": {
      "text/plain": [
       "<flatlib.chart.Chart at 0x7f0d08a90520>"
      ]
     },
     "execution_count": 307,
     "metadata": {},
     "output_type": "execute_result"
    }
   ],
   "source": [
    "chart = df.charts.values[0]\n",
    "chart"
   ]
  },
  {
   "cell_type": "code",
   "execution_count": 26,
   "metadata": {},
   "outputs": [],
   "source": [
    "antes_sun = chart.getObject(const.SUN).antiscia()\n",
    "# antes_sun.id = 'Antes_Sun'"
   ]
  },
  {
   "cell_type": "code",
   "execution_count": 27,
   "metadata": {},
   "outputs": [
    {
     "name": "stdout",
     "output_type": "stream",
     "text": [
      "<Sun Libra +07:20:04 +00:59:52>\n"
     ]
    }
   ],
   "source": [
    "print(antes_sun)"
   ]
  },
  {
   "cell_type": "code",
   "execution_count": 28,
   "metadata": {},
   "outputs": [],
   "source": [
    "dyn = ChartDynamics(chart)"
   ]
  },
  {
   "cell_type": "code",
   "execution_count": 29,
   "metadata": {},
   "outputs": [
    {
     "name": "stdout",
     "output_type": "stream",
     "text": [
      "({'id': 'Mars', 'asp': 120, 'orb': 4.274145169554572}, {'id': 'Sun', 'asp': 90, 'orb': 1.9390151432681364})\n"
     ]
    }
   ],
   "source": [
    "moon_asps = dyn.immediateAspects(const.MOON, const.MAJOR_ASPECTS)\n",
    "print(moon_asps)  "
   ]
  },
  {
   "cell_type": "code",
   "execution_count": 31,
   "metadata": {},
   "outputs": [
    {
     "name": "stdout",
     "output_type": "stream",
     "text": [
      "moon_asc_aspect:  <Moon Mars 120 Separative +04:16:27>\n"
     ]
    }
   ],
   "source": [
    "moon_asc_aspect = aspects.getAspect(chart.get(const.MOON), chart.get(const.MARS), const.MAJOR_ASPECTS)\n",
    "print('moon_asc_aspect: ', moon_asc_aspect)"
   ]
  },
  {
   "cell_type": "code",
   "execution_count": 33,
   "metadata": {},
   "outputs": [
    {
     "name": "stdout",
     "output_type": "stream",
     "text": [
      "moon_aspects:  <Moon Sun -1 None +00:00:00>\n"
     ]
    }
   ],
   "source": [
    "moon_aspects = aspects.getAspect(chart.get(const.MOON), antes_sun, const.MAJOR_ASPECTS)\n",
    "print('moon_aspects: ', moon_aspects)"
   ]
  },
  {
   "cell_type": "code",
   "execution_count": null,
   "metadata": {},
   "outputs": [],
   "source": [
    "# Create new columns for each object"
   ]
  },
  {
   "cell_type": "code",
   "execution_count": null,
   "metadata": {},
   "outputs": [],
   "source": []
  },
  {
   "cell_type": "code",
   "execution_count": null,
   "metadata": {},
   "outputs": [],
   "source": []
  }
 ],
 "metadata": {
  "kernelspec": {
   "display_name": "Python 3 (ipykernel)",
   "language": "python",
   "name": "python3"
  },
  "language_info": {
   "codemirror_mode": {
    "name": "ipython",
    "version": 3
   },
   "file_extension": ".py",
   "mimetype": "text/x-python",
   "name": "python",
   "nbconvert_exporter": "python",
   "pygments_lexer": "ipython3",
   "version": "3.9.7"
  }
 },
 "nbformat": 4,
 "nbformat_minor": 4
}

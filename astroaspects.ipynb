{
 "cells": [
  {
   "cell_type": "code",
   "execution_count": 1,
   "metadata": {},
   "outputs": [],
   "source": [
    "import sys\n",
    "sys.path.append('/home/cryptobrahman/Own/football_competitions_research/own_modules/') \n",
    "sys.path.append('/mnt/KINGSTON_120/Own/football_competitions_research/own_modules/') "
   ]
  },
  {
   "cell_type": "code",
   "execution_count": 2,
   "metadata": {},
   "outputs": [],
   "source": [
    "import pandas as pd\n",
    "import numpy as np\n",
    "from numpy import arange, isclose\n",
    "\n",
    "from flatlib import const\n",
    "from flatlib import aspects\n",
    "from flatlib.chart import Chart\n",
    "from flatlib.datetime import Datetime\n",
    "from flatlib.geopos import GeoPos\n",
    "from flatlib.object import GenericObject\n",
    "from flatlib.tools.chartdynamics import ChartDynamics\n",
    "from flatlib.tools import arabicparts\n",
    "from flatlib.dignities import essential\n",
    "\n",
    "from _astro_constants import AstrologicalConstants, AstrologicalPoints, TransformDoubleValues, AspectsCalculate\n",
    "\n",
    "pd.set_option('display.max_columns', 200)  # or 1000\n",
    "pd.set_option('display.max_rows', 200)  # or 1000\n",
    "pd.set_option('display.max_colwidth', 100)  # or 199"
   ]
  },
  {
   "cell_type": "code",
   "execution_count": 3,
   "metadata": {},
   "outputs": [],
   "source": [
    "%load_ext autoreload\n",
    "%autoreload 2"
   ]
  },
  {
   "cell_type": "code",
   "execution_count": 4,
   "metadata": {},
   "outputs": [
    {
     "data": {
      "text/html": [
       "<div>\n",
       "<style scoped>\n",
       "    .dataframe tbody tr th:only-of-type {\n",
       "        vertical-align: middle;\n",
       "    }\n",
       "\n",
       "    .dataframe tbody tr th {\n",
       "        vertical-align: top;\n",
       "    }\n",
       "\n",
       "    .dataframe thead th {\n",
       "        text-align: right;\n",
       "    }\n",
       "</style>\n",
       "<table border=\"1\" class=\"dataframe\">\n",
       "  <thead>\n",
       "    <tr style=\"text-align: right;\">\n",
       "      <th></th>\n",
       "      <th>date</th>\n",
       "      <th>utc_time</th>\n",
       "      <th>lon</th>\n",
       "      <th>lat</th>\n",
       "    </tr>\n",
       "  </thead>\n",
       "  <tbody>\n",
       "    <tr>\n",
       "      <th>0</th>\n",
       "      <td>2015/03/13</td>\n",
       "      <td>14:00</td>\n",
       "      <td>38n32</td>\n",
       "      <td>8w54</td>\n",
       "    </tr>\n",
       "    <tr>\n",
       "      <th>1</th>\n",
       "      <td>2016/05/23</td>\n",
       "      <td>12:30</td>\n",
       "      <td>08n07</td>\n",
       "      <td>18e14</td>\n",
       "    </tr>\n",
       "    <tr>\n",
       "      <th>2</th>\n",
       "      <td>2018/10/03</td>\n",
       "      <td>00:15</td>\n",
       "      <td>14s42</td>\n",
       "      <td>36w04</td>\n",
       "    </tr>\n",
       "  </tbody>\n",
       "</table>\n",
       "</div>"
      ],
      "text/plain": [
       "         date utc_time    lon    lat\n",
       "0  2015/03/13    14:00  38n32   8w54\n",
       "1  2016/05/23    12:30  08n07  18e14\n",
       "2  2018/10/03    00:15  14s42  36w04"
      ]
     },
     "execution_count": 4,
     "metadata": {},
     "output_type": "execute_result"
    }
   ],
   "source": [
    "data = {'date':['2015/03/13', '2016/05/23', '2018/10/03'], 'utc_time':['14:00', '12:30', '00:15'], 'lon':['38n32', '08n07', '14s42'], 'lat':['8w54', '18e14','36w04']}\n",
    "df = pd.DataFrame(data)\n",
    "df"
   ]
  },
  {
   "cell_type": "markdown",
   "metadata": {},
   "source": [
    "### Get astrological objects"
   ]
  },
  {
   "cell_type": "code",
   "execution_count": 5,
   "metadata": {},
   "outputs": [],
   "source": [
    "df['charts'] = AstrologicalPoints.charts_calculate(df, 'date', 'utc_time', 'lon', 'lat')"
   ]
  },
  {
   "cell_type": "code",
   "execution_count": 6,
   "metadata": {},
   "outputs": [
    {
     "data": {
      "text/plain": [
       "0    <flatlib.chart.Chart object at 0x7f433ae54250>\n",
       "1    <flatlib.chart.Chart object at 0x7f433ae54280>\n",
       "2    <flatlib.chart.Chart object at 0x7f433ae542b0>\n",
       "Name: charts, dtype: object"
      ]
     },
     "execution_count": 6,
     "metadata": {},
     "output_type": "execute_result"
    }
   ],
   "source": [
    "df.charts"
   ]
  },
  {
   "cell_type": "code",
   "execution_count": 7,
   "metadata": {},
   "outputs": [
    {
     "data": {
      "text/plain": [
       "\"['SUN', 'MOON', 'SATURN', 'URANUS', 'NEPTUNE', 'PLUTO', 'CHIRON', 'NORTH_NODE', 'SOUTH_NODE']\""
      ]
     },
     "execution_count": 7,
     "metadata": {},
     "output_type": "execute_result"
    }
   ],
   "source": [
    "necessary_constants = AstrologicalConstants.necessary_constants\n",
    "str(necessary_constants)"
   ]
  },
  {
   "cell_type": "code",
   "execution_count": 8,
   "metadata": {},
   "outputs": [
    {
     "data": {
      "text/plain": [
       "\"['ASC', 'DESC', 'MC', 'IC', 'PARS_FORTUNA']\""
      ]
     },
     "execution_count": 8,
     "metadata": {},
     "output_type": "execute_result"
    }
   ],
   "source": [
    "rulers_constants = AstrologicalConstants.rulers_constants\n",
    "str(rulers_constants)"
   ]
  },
  {
   "cell_type": "code",
   "execution_count": 9,
   "metadata": {},
   "outputs": [
    {
     "data": {
      "text/plain": [
       "\"['moon', 'ruler_asc', 'ruler_desc', 'ruler_mc', 'ruler_ic', 'pars_fortuna', 'uranus', 'neptune', 'pluto', 'chiron']\""
      ]
     },
     "execution_count": 9,
     "metadata": {},
     "output_type": "execute_result"
    }
   ],
   "source": [
    "antes_objects = AstrologicalConstants.for_antes_objects\n",
    "str(antes_objects)"
   ]
  },
  {
   "cell_type": "code",
   "execution_count": 10,
   "metadata": {},
   "outputs": [
    {
     "data": {
      "text/plain": [
       "\"['PARS_SPIRIT', 'PARS_GLORY', 'PARS_CREST', 'PARS_ROCK']\""
      ]
     },
     "execution_count": 10,
     "metadata": {},
     "output_type": "execute_result"
    }
   ],
   "source": [
    "pars_constants = AstrologicalConstants.pars_constants\n",
    "str(pars_constants)"
   ]
  },
  {
   "cell_type": "code",
   "execution_count": 11,
   "metadata": {},
   "outputs": [
    {
     "data": {
      "text/plain": [
       "['ruler_asc', 'ruler_desc', 'ruler_mc', 'ruler_ic', 'ruler_pars_fortuna']"
      ]
     },
     "execution_count": 11,
     "metadata": {},
     "output_type": "execute_result"
    }
   ],
   "source": [
    "rulers_constant_col_names = AstrologicalPoints.rulers_col_names(rulers_constants)\n",
    "rulers_constant_col_names"
   ]
  },
  {
   "cell_type": "code",
   "execution_count": 12,
   "metadata": {},
   "outputs": [
    {
     "data": {
      "text/plain": [
       "\"['ruler_pars_spirit', 'ruler_pars_glory', 'ruler_pars_crest', 'ruler_pars_rock', 'ruler_antes_pars_fortuna']\""
      ]
     },
     "execution_count": 12,
     "metadata": {},
     "output_type": "execute_result"
    }
   ],
   "source": [
    "rulers_pars_col_names = AstrologicalPoints.rulers_col_names(pars_constants)\n",
    "rulers_pars_col_names.append('ruler_antes_pars_fortuna')\n",
    "str(rulers_pars_col_names)"
   ]
  },
  {
   "cell_type": "code",
   "execution_count": 13,
   "metadata": {},
   "outputs": [],
   "source": [
    "for obj in rulers_constants + necessary_constants + pars_constants:\n",
    "    df[str.lower(obj)] = AstrologicalPoints.calculate_astro_objects(df.charts, obj)"
   ]
  },
  {
   "cell_type": "code",
   "execution_count": 14,
   "metadata": {},
   "outputs": [],
   "source": [
    "for name, obj in zip(rulers_constant_col_names, rulers_constants):\n",
    "    obj = str.lower(obj)\n",
    "    df[name] = AstrologicalPoints.ruler_of_object(df[obj])\n",
    "    df[name] = AstrologicalPoints.chart_object_attributes(df, 'charts', name)"
   ]
  },
  {
   "cell_type": "code",
   "execution_count": 15,
   "metadata": {},
   "outputs": [],
   "source": [
    "for obj in antes_objects:\n",
    "    antes_name = 'antes_' + obj\n",
    "    df[antes_name] = AstrologicalPoints.antes_objects(df, obj)"
   ]
  },
  {
   "cell_type": "code",
   "execution_count": 16,
   "metadata": {},
   "outputs": [],
   "source": [
    "antes_objects = []\n",
    "\n",
    "for col in df.columns:\n",
    "    if col.startswith('antes'):\n",
    "        AstrologicalPoints.rename_antes_objects(df, col)\n",
    "        antes_objects.append(col)      "
   ]
  },
  {
   "cell_type": "code",
   "execution_count": 17,
   "metadata": {},
   "outputs": [],
   "source": [
    "pars_constants.append('ANTES_PARS_FORTUNA')"
   ]
  },
  {
   "cell_type": "code",
   "execution_count": 18,
   "metadata": {},
   "outputs": [],
   "source": [
    "for name, obj in zip(rulers_pars_col_names, pars_constants):\n",
    "    obj = str.lower(obj)\n",
    "    df[name] = AstrologicalPoints.ruler_of_object(df[obj])\n",
    "    df[name] = AstrologicalPoints.chart_object_attributes(df, 'charts', name)"
   ]
  },
  {
   "cell_type": "code",
   "execution_count": 19,
   "metadata": {},
   "outputs": [
    {
     "data": {
      "text/plain": [
       "['asc', 'desc', 'mc', 'ic']"
      ]
     },
     "execution_count": 19,
     "metadata": {},
     "output_type": "execute_result"
    }
   ],
   "source": [
    "houses_objects = AstrologicalConstants.houses_objects\n",
    "houses_objects"
   ]
  },
  {
   "cell_type": "code",
   "execution_count": 20,
   "metadata": {},
   "outputs": [
    {
     "data": {
      "text/plain": [
       "\"['antes_moon', 'antes_ruler_asc', 'antes_ruler_desc', 'antes_ruler_mc', 'antes_ruler_ic', 'antes_pars_fortuna', 'antes_uranus', 'antes_neptune', 'antes_pluto', 'antes_chiron']\""
      ]
     },
     "execution_count": 20,
     "metadata": {},
     "output_type": "execute_result"
    }
   ],
   "source": [
    "str(antes_objects)"
   ]
  },
  {
   "cell_type": "code",
   "execution_count": 21,
   "metadata": {},
   "outputs": [
    {
     "data": {
      "text/plain": [
       "\"['pars_fortuna', 'pars_spirit', 'pars_glory', 'pars_crest', 'pars_rock']\""
      ]
     },
     "execution_count": 21,
     "metadata": {},
     "output_type": "execute_result"
    }
   ],
   "source": [
    "pars_objects = AstrologicalConstants.pars_objects\n",
    "str(pars_objects)"
   ]
  },
  {
   "cell_type": "code",
   "execution_count": 22,
   "metadata": {},
   "outputs": [
    {
     "data": {
      "text/plain": [
       "\"['ruler_asc', 'ruler_desc', 'ruler_mc', 'ruler_ic', 'ruler_pars_fortuna', 'ruler_antes_pars_fortuna', 'ruler_pars_spirit', 'ruler_pars_glory', 'ruler_pars_crest', 'ruler_pars_rock']\""
      ]
     },
     "execution_count": 22,
     "metadata": {},
     "output_type": "execute_result"
    }
   ],
   "source": [
    "ruler_objects = AstrologicalConstants.ruler_objects\n",
    "str(ruler_objects)"
   ]
  },
  {
   "cell_type": "code",
   "execution_count": 23,
   "metadata": {},
   "outputs": [
    {
     "data": {
      "text/plain": [
       "\"['moon', 'sun', 'saturn', 'uranus', 'neptune', 'pluto', 'chiron', 'north_node', 'south_node']\""
      ]
     },
     "execution_count": 23,
     "metadata": {},
     "output_type": "execute_result"
    }
   ],
   "source": [
    "main_objects = AstrologicalConstants.main_objects\n",
    "str(main_objects)"
   ]
  },
  {
   "cell_type": "code",
   "execution_count": 24,
   "metadata": {},
   "outputs": [
    {
     "name": "stdout",
     "output_type": "stream",
     "text": [
      "38\n"
     ]
    },
    {
     "data": {
      "text/plain": [
       "\"['asc', 'desc', 'mc', 'ic', 'antes_moon', 'antes_ruler_asc', 'antes_ruler_desc', 'antes_ruler_mc', 'antes_ruler_ic', 'antes_pars_fortuna', 'antes_uranus', 'antes_neptune', 'antes_pluto', 'antes_chiron', 'pars_fortuna', 'pars_spirit', 'pars_glory', 'pars_crest', 'pars_rock', 'ruler_asc', 'ruler_desc', 'ruler_mc', 'ruler_ic', 'ruler_pars_fortuna', 'ruler_antes_pars_fortuna', 'ruler_pars_spirit', 'ruler_pars_glory', 'ruler_pars_crest', 'ruler_pars_rock', 'moon', 'sun', 'saturn', 'uranus', 'neptune', 'pluto', 'chiron', 'north_node', 'south_node']\""
      ]
     },
     "execution_count": 24,
     "metadata": {},
     "output_type": "execute_result"
    }
   ],
   "source": [
    "cols_for_id = houses_objects + antes_objects + pars_objects + ruler_objects + main_objects \n",
    "print(len(cols_for_id))\n",
    "str(cols_for_id)"
   ]
  },
  {
   "cell_type": "code",
   "execution_count": 25,
   "metadata": {},
   "outputs": [],
   "source": [
    "df['id_for_aspects'] = AstrologicalPoints.id_for_aspekts(df, cols_for_id)"
   ]
  },
  {
   "cell_type": "code",
   "execution_count": 26,
   "metadata": {},
   "outputs": [],
   "source": [
    "df['transform_id'] = df.id_for_aspects.map(lambda x: TransformDoubleValues(x).conbine_class_methods())"
   ]
  },
  {
   "cell_type": "code",
   "execution_count": 27,
   "metadata": {},
   "outputs": [],
   "source": [
    "df.drop(columns='id_for_aspects', inplace=True)"
   ]
  },
  {
   "cell_type": "code",
   "execution_count": 28,
   "metadata": {},
   "outputs": [
    {
     "data": {
      "text/html": [
       "<div>\n",
       "<style scoped>\n",
       "    .dataframe tbody tr th:only-of-type {\n",
       "        vertical-align: middle;\n",
       "    }\n",
       "\n",
       "    .dataframe tbody tr th {\n",
       "        vertical-align: top;\n",
       "    }\n",
       "\n",
       "    .dataframe thead th {\n",
       "        text-align: right;\n",
       "    }\n",
       "</style>\n",
       "<table border=\"1\" class=\"dataframe\">\n",
       "  <thead>\n",
       "    <tr style=\"text-align: right;\">\n",
       "      <th></th>\n",
       "      <th>date</th>\n",
       "      <th>utc_time</th>\n",
       "      <th>lon</th>\n",
       "      <th>lat</th>\n",
       "      <th>charts</th>\n",
       "      <th>asc</th>\n",
       "      <th>desc</th>\n",
       "      <th>mc</th>\n",
       "      <th>ic</th>\n",
       "      <th>pars_fortuna</th>\n",
       "      <th>sun</th>\n",
       "      <th>moon</th>\n",
       "      <th>saturn</th>\n",
       "      <th>uranus</th>\n",
       "      <th>neptune</th>\n",
       "      <th>pluto</th>\n",
       "      <th>chiron</th>\n",
       "      <th>north_node</th>\n",
       "      <th>south_node</th>\n",
       "      <th>pars_spirit</th>\n",
       "      <th>pars_glory</th>\n",
       "      <th>pars_crest</th>\n",
       "      <th>pars_rock</th>\n",
       "      <th>ruler_asc</th>\n",
       "      <th>ruler_desc</th>\n",
       "      <th>ruler_mc</th>\n",
       "      <th>ruler_ic</th>\n",
       "      <th>ruler_pars_fortuna</th>\n",
       "      <th>antes_moon</th>\n",
       "      <th>antes_ruler_asc</th>\n",
       "      <th>antes_ruler_desc</th>\n",
       "      <th>antes_ruler_mc</th>\n",
       "      <th>antes_ruler_ic</th>\n",
       "      <th>antes_pars_fortuna</th>\n",
       "      <th>antes_uranus</th>\n",
       "      <th>antes_neptune</th>\n",
       "      <th>antes_pluto</th>\n",
       "      <th>antes_chiron</th>\n",
       "      <th>ruler_pars_spirit</th>\n",
       "      <th>ruler_pars_glory</th>\n",
       "      <th>ruler_pars_crest</th>\n",
       "      <th>ruler_pars_rock</th>\n",
       "      <th>ruler_antes_pars_fortuna</th>\n",
       "      <th>transform_id</th>\n",
       "    </tr>\n",
       "  </thead>\n",
       "  <tbody>\n",
       "    <tr>\n",
       "      <th>0</th>\n",
       "      <td>2015/03/13</td>\n",
       "      <td>14:00</td>\n",
       "      <td>38n32</td>\n",
       "      <td>8w54</td>\n",
       "      <td>&lt;flatlib.chart.Chart object at 0x7f433ae54250&gt;</td>\n",
       "      <td>&lt;Asc Cancer +27:24:38&gt;</td>\n",
       "      <td>&lt;Desc Capricorn +27:24:38&gt;</td>\n",
       "      <td>&lt;MC Aries +13:01:44&gt;</td>\n",
       "      <td>&lt;IC Libra +13:01:44&gt;</td>\n",
       "      <td>&lt;Pars Fortuna Aries +25:28:18 +00:00:00&gt;</td>\n",
       "      <td>&lt;Sun Pisces +22:39:56 +00:59:52&gt;</td>\n",
       "      <td>&lt;Moon Sagittarius +20:43:35 +13:13:02&gt;</td>\n",
       "      <td>&lt;Saturn Sagittarius +04:55:45 +00:00:06&gt;</td>\n",
       "      <td>&lt;Uranus Aries +15:06:33 +00:03:14&gt;</td>\n",
       "      <td>&lt;Neptune Pisces +07:50:38 +00:02:13&gt;</td>\n",
       "      <td>&lt;Pluto Capricorn +15:14:35 +00:01:02&gt;</td>\n",
       "      <td>&lt;Chiron Pisces +17:36:15 +00:03:43&gt;</td>\n",
       "      <td>&lt;North Node Libra +11:08:52 -00:03:11&gt;</td>\n",
       "      <td>&lt;South Node Aries +11:08:52 -00:03:11&gt;</td>\n",
       "      <td>&lt;Pars Spirit Libra +29:20:59 +00:00:00&gt;</td>\n",
       "      <td>&lt;Pars Glory Sagittarius +18:23:55 +00:00:00&gt;</td>\n",
       "      <td>&lt;Pars Crest Sagittarius +08:56:02 +00:00:00&gt;</td>\n",
       "      <td>&lt;Pars Rock Aries +09:40:27 +00:00:00&gt;</td>\n",
       "      <td>&lt;Moon Sagittarius +20:43:35 +13:13:02&gt;</td>\n",
       "      <td>&lt;Saturn Sagittarius +04:55:45 +00:00:06&gt;</td>\n",
       "      <td>&lt;Mars Aries +16:27:08 +00:45:19&gt;</td>\n",
       "      <td>&lt;Venus Aries +25:21:06 +01:12:41&gt;</td>\n",
       "      <td>&lt;Mars Aries +16:27:08 +00:45:19&gt;</td>\n",
       "      <td>&lt;Antes Moon Capricorn +09:16:25 +13:13:02&gt;</td>\n",
       "      <td>&lt;Antes Moon Capricorn +09:16:25 +13:13:02&gt;</td>\n",
       "      <td>&lt;Antes Saturn Capricorn +25:04:15 +00:00:06&gt;</td>\n",
       "      <td>&lt;Antes Mars Virgo +13:32:52 +00:45:19&gt;</td>\n",
       "      <td>&lt;Antes Venus Virgo +04:38:54 +01:12:41&gt;</td>\n",
       "      <td>&lt;Antes Pars Fortuna Virgo +04:31:42 +00:00:00&gt;</td>\n",
       "      <td>&lt;Antes Uranus Virgo +14:53:27 +00:03:14&gt;</td>\n",
       "      <td>&lt;Antes Neptune Libra +22:09:22 +00:02:13&gt;</td>\n",
       "      <td>&lt;Antes Pluto Sagittarius +14:45:25 +00:01:02&gt;</td>\n",
       "      <td>&lt;Antes Chiron Libra +12:23:45 +00:03:43&gt;</td>\n",
       "      <td>&lt;Venus Aries +25:21:06 +01:12:41&gt;</td>\n",
       "      <td>&lt;Jupiter Leo +13:39:12 -00:04:47&gt;</td>\n",
       "      <td>&lt;Jupiter Leo +13:39:12 -00:04:47&gt;</td>\n",
       "      <td>&lt;Mars Aries +16:27:08 +00:45:19&gt;</td>\n",
       "      <td>&lt;Mercury Pisces +00:37:44 +01:29:39&gt;</td>\n",
       "      <td>[(asc, Asc), (desc, Desc), (mc, MC), (ic, IC), (antes_ruler_desc, Antes Saturn), (antes_ruler_mc...</td>\n",
       "    </tr>\n",
       "    <tr>\n",
       "      <th>1</th>\n",
       "      <td>2016/05/23</td>\n",
       "      <td>12:30</td>\n",
       "      <td>08n07</td>\n",
       "      <td>18e14</td>\n",
       "      <td>&lt;flatlib.chart.Chart object at 0x7f433ae54280&gt;</td>\n",
       "      <td>&lt;Asc Virgo +27:12:45&gt;</td>\n",
       "      <td>&lt;Desc Pisces +27:12:45&gt;</td>\n",
       "      <td>&lt;MC Gemini +27:30:28&gt;</td>\n",
       "      <td>&lt;IC Sagittarius +27:30:28&gt;</td>\n",
       "      <td>&lt;Pars Fortuna Aries +15:36:29 +00:00:00&gt;</td>\n",
       "      <td>&lt;Sun Gemini +02:47:58 +00:57:39&gt;</td>\n",
       "      <td>&lt;Moon Sagittarius +21:11:41 +12:19:41&gt;</td>\n",
       "      <td>&lt;Saturn Sagittarius +13:54:21 -00:04:19&gt;</td>\n",
       "      <td>&lt;Uranus Aries +22:47:40 +00:02:49&gt;</td>\n",
       "      <td>&lt;Neptune Pisces +11:54:55 +00:00:42&gt;</td>\n",
       "      <td>&lt;Pluto Capricorn +17:11:35 -00:00:57&gt;</td>\n",
       "      <td>&lt;Chiron Pisces +24:43:00 +00:01:47&gt;</td>\n",
       "      <td>&lt;North Node Virgo +18:00:29 -00:03:11&gt;</td>\n",
       "      <td>&lt;South Node Pisces +18:00:29 -00:03:11&gt;</td>\n",
       "      <td>&lt;Pars Spirit Pisces +08:49:02 +00:00:00&gt;</td>\n",
       "      <td>&lt;Pars Glory Capricorn +07:57:50 +00:00:00&gt;</td>\n",
       "      <td>&lt;Pars Crest Virgo +14:43:46 +00:00:00&gt;</td>\n",
       "      <td>&lt;Pars Rock Aries +08:19:08 +00:00:00&gt;</td>\n",
       "      <td>&lt;Mercury Taurus +14:22:23 +00:04:22&gt;</td>\n",
       "      <td>&lt;Jupiter Virgo +13:33:03 +00:02:30&gt;</td>\n",
       "      <td>&lt;Mercury Taurus +14:22:23 +00:04:22&gt;</td>\n",
       "      <td>&lt;Jupiter Virgo +13:33:03 +00:02:30&gt;</td>\n",
       "      <td>&lt;Mars Sagittarius +01:25:22 -00:21:00&gt;</td>\n",
       "      <td>&lt;Antes Moon Capricorn +08:48:19 +12:19:41&gt;</td>\n",
       "      <td>&lt;Antes Mercury Leo +15:37:37 +00:04:22&gt;</td>\n",
       "      <td>&lt;Antes Jupiter Aries +16:26:57 +00:02:30&gt;</td>\n",
       "      <td>&lt;Antes Mercury Leo +15:37:37 +00:04:22&gt;</td>\n",
       "      <td>&lt;Antes Jupiter Aries +16:26:57 +00:02:30&gt;</td>\n",
       "      <td>&lt;Antes Pars Fortuna Virgo +14:23:31 +00:00:00&gt;</td>\n",
       "      <td>&lt;Antes Uranus Virgo +07:12:20 +00:02:49&gt;</td>\n",
       "      <td>&lt;Antes Neptune Libra +18:05:05 +00:00:42&gt;</td>\n",
       "      <td>&lt;Antes Pluto Sagittarius +12:48:25 -00:00:57&gt;</td>\n",
       "      <td>&lt;Antes Chiron Libra +05:17:00 +00:01:47&gt;</td>\n",
       "      <td>&lt;Jupiter Virgo +13:33:03 +00:02:30&gt;</td>\n",
       "      <td>&lt;Saturn Sagittarius +13:54:21 -00:04:19&gt;</td>\n",
       "      <td>&lt;Mercury Taurus +14:22:23 +00:04:22&gt;</td>\n",
       "      <td>&lt;Mars Sagittarius +01:25:22 -00:21:00&gt;</td>\n",
       "      <td>&lt;Mercury Taurus +14:22:23 +00:04:22&gt;</td>\n",
       "      <td>[(asc, Asc), (desc, Desc), (mc, MC), (ic, IC), (antes_moon, Antes Moon), (antes_pars_fortuna, An...</td>\n",
       "    </tr>\n",
       "    <tr>\n",
       "      <th>2</th>\n",
       "      <td>2018/10/03</td>\n",
       "      <td>00:15</td>\n",
       "      <td>14s42</td>\n",
       "      <td>36w04</td>\n",
       "      <td>&lt;flatlib.chart.Chart object at 0x7f433ae542b0&gt;</td>\n",
       "      <td>&lt;Asc Gemini +05:25:08&gt;</td>\n",
       "      <td>&lt;Desc Sagittarius +05:25:08&gt;</td>\n",
       "      <td>&lt;MC Pisces +07:39:39&gt;</td>\n",
       "      <td>&lt;IC Virgo +07:39:39&gt;</td>\n",
       "      <td>&lt;Pars Fortuna Pisces +13:18:26 +00:00:00&gt;</td>\n",
       "      <td>&lt;Sun Libra +09:44:33 +00:59:03&gt;</td>\n",
       "      <td>&lt;Moon Cancer +17:37:52 +14:05:52&gt;</td>\n",
       "      <td>&lt;Saturn Capricorn +03:06:46 +00:02:33&gt;</td>\n",
       "      <td>&lt;Uranus Taurus +01:23:25 -00:02:14&gt;</td>\n",
       "      <td>&lt;Neptune Pisces +14:24:42 -00:01:27&gt;</td>\n",
       "      <td>&lt;Pluto Capricorn +18:45:26 +00:00:03&gt;</td>\n",
       "      <td>&lt;Chiron Pisces +29:41:06 -00:02:40&gt;</td>\n",
       "      <td>&lt;North Node Leo +02:19:59 -00:03:11&gt;</td>\n",
       "      <td>&lt;South Node Aquarius +02:19:59 -00:03:11&gt;</td>\n",
       "      <td>&lt;Pars Spirit Leo +27:31:49 +00:00:00&gt;</td>\n",
       "      <td>&lt;Pars Glory Aries +22:42:34 +00:00:00&gt;</td>\n",
       "      <td>&lt;Pars Crest Taurus +01:46:57 +00:00:00&gt;</td>\n",
       "      <td>&lt;Pars Rock Pisces +12:02:55 +00:00:00&gt;</td>\n",
       "      <td>&lt;Mercury Libra +18:46:13 +01:38:51&gt;</td>\n",
       "      <td>&lt;Jupiter Scorpio +22:27:07 +00:11:21&gt;</td>\n",
       "      <td>&lt;Jupiter Scorpio +22:27:07 +00:11:21&gt;</td>\n",
       "      <td>&lt;Mercury Libra +18:46:13 +01:38:51&gt;</td>\n",
       "      <td>&lt;Jupiter Scorpio +22:27:07 +00:11:21&gt;</td>\n",
       "      <td>&lt;Antes Moon Gemini +12:22:08 +14:05:52&gt;</td>\n",
       "      <td>&lt;Antes Mercury Pisces +11:13:47 +01:38:51&gt;</td>\n",
       "      <td>&lt;Antes Jupiter Aquarius +07:32:53 +00:11:21&gt;</td>\n",
       "      <td>&lt;Antes Jupiter Aquarius +07:32:53 +00:11:21&gt;</td>\n",
       "      <td>&lt;Antes Mercury Pisces +11:13:47 +01:38:51&gt;</td>\n",
       "      <td>&lt;Antes Pars Fortuna Libra +16:41:34 +00:00:00&gt;</td>\n",
       "      <td>&lt;Antes Uranus Leo +28:36:35 -00:02:14&gt;</td>\n",
       "      <td>&lt;Antes Neptune Libra +15:35:18 -00:01:27&gt;</td>\n",
       "      <td>&lt;Antes Pluto Sagittarius +11:14:34 +00:00:03&gt;</td>\n",
       "      <td>&lt;Antes Chiron Libra +00:18:54 -00:02:40&gt;</td>\n",
       "      <td>&lt;Sun Libra +09:44:33 +00:59:03&gt;</td>\n",
       "      <td>&lt;Mars Aquarius +06:44:56 +00:24:26&gt;</td>\n",
       "      <td>&lt;Venus Scorpio +10:41:31 +00:06:19&gt;</td>\n",
       "      <td>&lt;Jupiter Scorpio +22:27:07 +00:11:21&gt;</td>\n",
       "      <td>&lt;Venus Scorpio +10:41:31 +00:06:19&gt;</td>\n",
       "      <td>[(asc, Asc), (desc, Desc), (mc, MC), (ic, IC), (antes_moon, Antes Moon), (antes_pars_fortuna, An...</td>\n",
       "    </tr>\n",
       "  </tbody>\n",
       "</table>\n",
       "</div>"
      ],
      "text/plain": [
       "         date utc_time    lon    lat  \\\n",
       "0  2015/03/13    14:00  38n32   8w54   \n",
       "1  2016/05/23    12:30  08n07  18e14   \n",
       "2  2018/10/03    00:15  14s42  36w04   \n",
       "\n",
       "                                           charts                     asc  \\\n",
       "0  <flatlib.chart.Chart object at 0x7f433ae54250>  <Asc Cancer +27:24:38>   \n",
       "1  <flatlib.chart.Chart object at 0x7f433ae54280>   <Asc Virgo +27:12:45>   \n",
       "2  <flatlib.chart.Chart object at 0x7f433ae542b0>  <Asc Gemini +05:25:08>   \n",
       "\n",
       "                           desc                     mc  \\\n",
       "0    <Desc Capricorn +27:24:38>   <MC Aries +13:01:44>   \n",
       "1       <Desc Pisces +27:12:45>  <MC Gemini +27:30:28>   \n",
       "2  <Desc Sagittarius +05:25:08>  <MC Pisces +07:39:39>   \n",
       "\n",
       "                           ic                               pars_fortuna  \\\n",
       "0        <IC Libra +13:01:44>   <Pars Fortuna Aries +25:28:18 +00:00:00>   \n",
       "1  <IC Sagittarius +27:30:28>   <Pars Fortuna Aries +15:36:29 +00:00:00>   \n",
       "2        <IC Virgo +07:39:39>  <Pars Fortuna Pisces +13:18:26 +00:00:00>   \n",
       "\n",
       "                                sun                                    moon  \\\n",
       "0  <Sun Pisces +22:39:56 +00:59:52>  <Moon Sagittarius +20:43:35 +13:13:02>   \n",
       "1  <Sun Gemini +02:47:58 +00:57:39>  <Moon Sagittarius +21:11:41 +12:19:41>   \n",
       "2   <Sun Libra +09:44:33 +00:59:03>       <Moon Cancer +17:37:52 +14:05:52>   \n",
       "\n",
       "                                     saturn  \\\n",
       "0  <Saturn Sagittarius +04:55:45 +00:00:06>   \n",
       "1  <Saturn Sagittarius +13:54:21 -00:04:19>   \n",
       "2    <Saturn Capricorn +03:06:46 +00:02:33>   \n",
       "\n",
       "                                uranus                               neptune  \\\n",
       "0   <Uranus Aries +15:06:33 +00:03:14>  <Neptune Pisces +07:50:38 +00:02:13>   \n",
       "1   <Uranus Aries +22:47:40 +00:02:49>  <Neptune Pisces +11:54:55 +00:00:42>   \n",
       "2  <Uranus Taurus +01:23:25 -00:02:14>  <Neptune Pisces +14:24:42 -00:01:27>   \n",
       "\n",
       "                                   pluto                               chiron  \\\n",
       "0  <Pluto Capricorn +15:14:35 +00:01:02>  <Chiron Pisces +17:36:15 +00:03:43>   \n",
       "1  <Pluto Capricorn +17:11:35 -00:00:57>  <Chiron Pisces +24:43:00 +00:01:47>   \n",
       "2  <Pluto Capricorn +18:45:26 +00:00:03>  <Chiron Pisces +29:41:06 -00:02:40>   \n",
       "\n",
       "                               north_node  \\\n",
       "0  <North Node Libra +11:08:52 -00:03:11>   \n",
       "1  <North Node Virgo +18:00:29 -00:03:11>   \n",
       "2    <North Node Leo +02:19:59 -00:03:11>   \n",
       "\n",
       "                                  south_node  \\\n",
       "0     <South Node Aries +11:08:52 -00:03:11>   \n",
       "1    <South Node Pisces +18:00:29 -00:03:11>   \n",
       "2  <South Node Aquarius +02:19:59 -00:03:11>   \n",
       "\n",
       "                                pars_spirit  \\\n",
       "0   <Pars Spirit Libra +29:20:59 +00:00:00>   \n",
       "1  <Pars Spirit Pisces +08:49:02 +00:00:00>   \n",
       "2     <Pars Spirit Leo +27:31:49 +00:00:00>   \n",
       "\n",
       "                                     pars_glory  \\\n",
       "0  <Pars Glory Sagittarius +18:23:55 +00:00:00>   \n",
       "1    <Pars Glory Capricorn +07:57:50 +00:00:00>   \n",
       "2        <Pars Glory Aries +22:42:34 +00:00:00>   \n",
       "\n",
       "                                     pars_crest  \\\n",
       "0  <Pars Crest Sagittarius +08:56:02 +00:00:00>   \n",
       "1        <Pars Crest Virgo +14:43:46 +00:00:00>   \n",
       "2       <Pars Crest Taurus +01:46:57 +00:00:00>   \n",
       "\n",
       "                                pars_rock  \\\n",
       "0   <Pars Rock Aries +09:40:27 +00:00:00>   \n",
       "1   <Pars Rock Aries +08:19:08 +00:00:00>   \n",
       "2  <Pars Rock Pisces +12:02:55 +00:00:00>   \n",
       "\n",
       "                                ruler_asc  \\\n",
       "0  <Moon Sagittarius +20:43:35 +13:13:02>   \n",
       "1    <Mercury Taurus +14:22:23 +00:04:22>   \n",
       "2     <Mercury Libra +18:46:13 +01:38:51>   \n",
       "\n",
       "                                 ruler_desc  \\\n",
       "0  <Saturn Sagittarius +04:55:45 +00:00:06>   \n",
       "1       <Jupiter Virgo +13:33:03 +00:02:30>   \n",
       "2     <Jupiter Scorpio +22:27:07 +00:11:21>   \n",
       "\n",
       "                                ruler_mc                             ruler_ic  \\\n",
       "0       <Mars Aries +16:27:08 +00:45:19>    <Venus Aries +25:21:06 +01:12:41>   \n",
       "1   <Mercury Taurus +14:22:23 +00:04:22>  <Jupiter Virgo +13:33:03 +00:02:30>   \n",
       "2  <Jupiter Scorpio +22:27:07 +00:11:21>  <Mercury Libra +18:46:13 +01:38:51>   \n",
       "\n",
       "                       ruler_pars_fortuna  \\\n",
       "0        <Mars Aries +16:27:08 +00:45:19>   \n",
       "1  <Mars Sagittarius +01:25:22 -00:21:00>   \n",
       "2   <Jupiter Scorpio +22:27:07 +00:11:21>   \n",
       "\n",
       "                                   antes_moon  \\\n",
       "0  <Antes Moon Capricorn +09:16:25 +13:13:02>   \n",
       "1  <Antes Moon Capricorn +08:48:19 +12:19:41>   \n",
       "2     <Antes Moon Gemini +12:22:08 +14:05:52>   \n",
       "\n",
       "                              antes_ruler_asc  \\\n",
       "0  <Antes Moon Capricorn +09:16:25 +13:13:02>   \n",
       "1     <Antes Mercury Leo +15:37:37 +00:04:22>   \n",
       "2  <Antes Mercury Pisces +11:13:47 +01:38:51>   \n",
       "\n",
       "                               antes_ruler_desc  \\\n",
       "0  <Antes Saturn Capricorn +25:04:15 +00:00:06>   \n",
       "1     <Antes Jupiter Aries +16:26:57 +00:02:30>   \n",
       "2  <Antes Jupiter Aquarius +07:32:53 +00:11:21>   \n",
       "\n",
       "                                 antes_ruler_mc  \\\n",
       "0        <Antes Mars Virgo +13:32:52 +00:45:19>   \n",
       "1       <Antes Mercury Leo +15:37:37 +00:04:22>   \n",
       "2  <Antes Jupiter Aquarius +07:32:53 +00:11:21>   \n",
       "\n",
       "                               antes_ruler_ic  \\\n",
       "0     <Antes Venus Virgo +04:38:54 +01:12:41>   \n",
       "1   <Antes Jupiter Aries +16:26:57 +00:02:30>   \n",
       "2  <Antes Mercury Pisces +11:13:47 +01:38:51>   \n",
       "\n",
       "                               antes_pars_fortuna  \\\n",
       "0  <Antes Pars Fortuna Virgo +04:31:42 +00:00:00>   \n",
       "1  <Antes Pars Fortuna Virgo +14:23:31 +00:00:00>   \n",
       "2  <Antes Pars Fortuna Libra +16:41:34 +00:00:00>   \n",
       "\n",
       "                               antes_uranus  \\\n",
       "0  <Antes Uranus Virgo +14:53:27 +00:03:14>   \n",
       "1  <Antes Uranus Virgo +07:12:20 +00:02:49>   \n",
       "2    <Antes Uranus Leo +28:36:35 -00:02:14>   \n",
       "\n",
       "                               antes_neptune  \\\n",
       "0  <Antes Neptune Libra +22:09:22 +00:02:13>   \n",
       "1  <Antes Neptune Libra +18:05:05 +00:00:42>   \n",
       "2  <Antes Neptune Libra +15:35:18 -00:01:27>   \n",
       "\n",
       "                                     antes_pluto  \\\n",
       "0  <Antes Pluto Sagittarius +14:45:25 +00:01:02>   \n",
       "1  <Antes Pluto Sagittarius +12:48:25 -00:00:57>   \n",
       "2  <Antes Pluto Sagittarius +11:14:34 +00:00:03>   \n",
       "\n",
       "                               antes_chiron  \\\n",
       "0  <Antes Chiron Libra +12:23:45 +00:03:43>   \n",
       "1  <Antes Chiron Libra +05:17:00 +00:01:47>   \n",
       "2  <Antes Chiron Libra +00:18:54 -00:02:40>   \n",
       "\n",
       "                     ruler_pars_spirit  \\\n",
       "0    <Venus Aries +25:21:06 +01:12:41>   \n",
       "1  <Jupiter Virgo +13:33:03 +00:02:30>   \n",
       "2      <Sun Libra +09:44:33 +00:59:03>   \n",
       "\n",
       "                           ruler_pars_glory  \\\n",
       "0         <Jupiter Leo +13:39:12 -00:04:47>   \n",
       "1  <Saturn Sagittarius +13:54:21 -00:04:19>   \n",
       "2       <Mars Aquarius +06:44:56 +00:24:26>   \n",
       "\n",
       "                       ruler_pars_crest  \\\n",
       "0     <Jupiter Leo +13:39:12 -00:04:47>   \n",
       "1  <Mercury Taurus +14:22:23 +00:04:22>   \n",
       "2   <Venus Scorpio +10:41:31 +00:06:19>   \n",
       "\n",
       "                          ruler_pars_rock  \\\n",
       "0        <Mars Aries +16:27:08 +00:45:19>   \n",
       "1  <Mars Sagittarius +01:25:22 -00:21:00>   \n",
       "2   <Jupiter Scorpio +22:27:07 +00:11:21>   \n",
       "\n",
       "               ruler_antes_pars_fortuna  \\\n",
       "0  <Mercury Pisces +00:37:44 +01:29:39>   \n",
       "1  <Mercury Taurus +14:22:23 +00:04:22>   \n",
       "2   <Venus Scorpio +10:41:31 +00:06:19>   \n",
       "\n",
       "                                                                                          transform_id  \n",
       "0  [(asc, Asc), (desc, Desc), (mc, MC), (ic, IC), (antes_ruler_desc, Antes Saturn), (antes_ruler_mc...  \n",
       "1  [(asc, Asc), (desc, Desc), (mc, MC), (ic, IC), (antes_moon, Antes Moon), (antes_pars_fortuna, An...  \n",
       "2  [(asc, Asc), (desc, Desc), (mc, MC), (ic, IC), (antes_moon, Antes Moon), (antes_pars_fortuna, An...  "
      ]
     },
     "execution_count": 28,
     "metadata": {},
     "output_type": "execute_result"
    }
   ],
   "source": [
    "df"
   ]
  },
  {
   "cell_type": "markdown",
   "metadata": {},
   "source": [
    "### Calculate aspects"
   ]
  },
  {
   "cell_type": "code",
   "execution_count": 29,
   "metadata": {},
   "outputs": [],
   "source": [
    "# stop"
   ]
  },
  {
   "cell_type": "code",
   "execution_count": 30,
   "metadata": {},
   "outputs": [],
   "source": [
    "from _astro_constants import GeneralMethods"
   ]
  },
  {
   "cell_type": "code",
   "execution_count": 31,
   "metadata": {},
   "outputs": [],
   "source": [
    "objects = AspectsCalculate(df.iloc[0]).conbine_class_methods()"
   ]
  },
  {
   "cell_type": "code",
   "execution_count": 32,
   "metadata": {},
   "outputs": [],
   "source": [
    "# objects"
   ]
  },
  {
   "cell_type": "code",
   "execution_count": 33,
   "metadata": {},
   "outputs": [
    {
     "data": {
      "text/plain": [
       "[0, 30, 60, 90, 120, 150, 180, 210, 240, 270, 300, 330, 360]"
      ]
     },
     "execution_count": 33,
     "metadata": {},
     "output_type": "execute_result"
    }
   ],
   "source": [
    "singles_degrees = AstrologicalConstants.singles_degrees\n",
    "singles_degrees"
   ]
  },
  {
   "cell_type": "code",
   "execution_count": 34,
   "metadata": {},
   "outputs": [],
   "source": [
    "def remove_objects(objects: list, remove_objs: list):\n",
    "    list_wt_objs = [x for x in objects if x.id not in remove_objs]\n",
    "    return list_wt_objs"
   ]
  },
  {
   "cell_type": "code",
   "execution_count": 35,
   "metadata": {},
   "outputs": [],
   "source": [
    "def orb_calculate(include_lon: float, obj_lon: float, deg: int):\n",
    "    obj_lon_deg_plus = GeneralMethods.plus_minus_obj_lon_deg(obj_lon, deg, '+')\n",
    "    obj_lon_deg_minus = GeneralMethods.plus_minus_obj_lon_deg(obj_lon, deg, '-')\n",
    "    \n",
    "    orb_plus = abs(include_lon - obj_lon_deg_plus)\n",
    "    orb_minus = abs(include_lon - obj_lon_deg_minus)\n",
    "    \n",
    "    if obj_lon_deg_plus == obj_lon_deg_minus:\n",
    "        orb_plus = 360 - orb_plus\n",
    "\n",
    "    if orb_plus < orb_minus:\n",
    "        return orb_plus\n",
    "    else:\n",
    "        return orb_minus"
   ]
  },
  {
   "cell_type": "code",
   "execution_count": 36,
   "metadata": {},
   "outputs": [],
   "source": [
    "# def max_degree_calc(obj_lon: float, obj_orb: int, deg: int):\n",
    "#     if obj_lon + deg + obj_orb >= 360:\n",
    "#         max_degree = 360\n",
    "#     elif obj_lon - deg - obj_orb < 0:\n",
    "#         max_degree = 360\n",
    "#     else:\n",
    "#         max_degree = 0\n",
    "#     return max_degree"
   ]
  },
  {
   "cell_type": "code",
   "execution_count": 37,
   "metadata": {},
   "outputs": [],
   "source": [
    "def pos_neg_obj_lon_deg(obj_lon: float, deg: int):\n",
    "    pos_obj_lon_deg = obj_lon + deg\n",
    "    neg_obj_lon_deg = obj_lon - deg\n",
    "    \n",
    "    if pos_obj_lon_deg >= 360:\n",
    "        pos_obj_lon_deg = abs(360 - pos_obj_lon_deg)\n",
    "    if neg_obj_lon_deg < 0:\n",
    "        neg_obj_lon_deg = abs(360 + neg_obj_lon_deg)  \n",
    "\n",
    "    return pos_obj_lon_deg, neg_obj_lon_deg"
   ]
  },
  {
   "cell_type": "code",
   "execution_count": 144,
   "metadata": {},
   "outputs": [],
   "source": [
    "def transform_list_type(list_blocks: list):\n",
    "    all_list_blocks = []\n",
    "    for block in list_blocks:\n",
    "        if type(block[0]) is list:\n",
    "            all_list_blocks.append(block[0]) \n",
    "            all_list_blocks.append(block[1]) \n",
    "        else:\n",
    "            all_list_blocks.append(block)\n",
    "    return all_list_blocks        "
   ]
  },
  {
   "cell_type": "code",
   "execution_count": 229,
   "metadata": {},
   "outputs": [],
   "source": [
    "def remove_list_duble(list_blocks: list):\n",
    "    for ind, block in enumerate(list_blocks):\n",
    "        if list_blocks.count(block) > 1:\n",
    "            list_blocks.pop(ind)\n",
    "            remove_list_duble(list_blocks)"
   ]
  },
  {
   "cell_type": "code",
   "execution_count": 255,
   "metadata": {},
   "outputs": [],
   "source": [
    "def pos_neg_points_orb(obj_lon: float, obj_orb: int, deg: int):\n",
    "    pos_obj_lon_deg, neg_obj_lon_deg = pos_neg_obj_lon_deg(obj_lon, deg)\n",
    "    print(pos_obj_lon_deg, neg_obj_lon_deg) \n",
    "    bef_pos_point_orb = pos_obj_lon_deg - obj_orb\n",
    "    bef_neg_point_orb = neg_obj_lon_deg - obj_orb\n",
    "    aft_pos_point_orb = pos_obj_lon_deg + obj_orb\n",
    "    aft_neg_point_orb = neg_obj_lon_deg + obj_orb\n",
    "    \n",
    "    block_1 = [bef_pos_point_orb, pos_obj_lon_deg] \n",
    "    block_2 = [pos_obj_lon_deg,   aft_pos_point_orb] \n",
    "    block_3 = [bef_neg_point_orb, neg_obj_lon_deg]\n",
    "    block_4 = [neg_obj_lon_deg,   aft_neg_point_orb]\n",
    "    \n",
    "    if bef_pos_point_orb < 0:\n",
    "        block_1 = [[360 + bef_pos_point_orb, 359.99], [0, pos_obj_lon_deg]] \n",
    "    if aft_pos_point_orb >= 360:\n",
    "        block_2 = [[pos_obj_lon_deg, 359.99], [0, aft_pos_point_orb - 360]]     \n",
    "    if bef_neg_point_orb < 0:    \n",
    "        block_3 = [[360 + bef_neg_point_orb, 359.99], [0, neg_obj_lon_deg]]\n",
    "    if aft_neg_point_orb >= 360:\n",
    "        block_4 = [[neg_obj_lon_deg, 359.99], [0, aft_neg_point_orb - 360]]  \n",
    "    \n",
    "    all_obj_lon_degs = [block_1, block_2, block_3, block_4]\n",
    "    all_obj_lon_degs = transform_list_type(all_obj_lon_degs)\n",
    "    all_obj_lon_degs = remove_list_duble(all_obj_lon_degs)\n",
    "    \n",
    "    return all_obj_lon_degs      "
   ]
  },
  {
   "cell_type": "code",
   "execution_count": 257,
   "metadata": {},
   "outputs": [
    {
     "name": "stdout",
     "output_type": "stream",
     "text": [
      "355 355\n"
     ]
    }
   ],
   "source": [
    "x = pos_neg_points_orb(obj_lon=355, obj_orb=20, deg=0)\n",
    "x"
   ]
  },
  {
   "cell_type": "code",
   "execution_count": 41,
   "metadata": {},
   "outputs": [],
   "source": [
    "# pos_neg_points_orb(5, 10, 0, before_aspect='yes')"
   ]
  },
  {
   "cell_type": "code",
   "execution_count": null,
   "metadata": {},
   "outputs": [],
   "source": [
    "pos_neg_points_orb(5, 10, 0, before_aspect='no')"
   ]
  },
  {
   "cell_type": "code",
   "execution_count": null,
   "metadata": {},
   "outputs": [],
   "source": [
    "def switching_ranges_with_orb(include_lon: float, obj_lon: float, obj_orb: int, deg: int, before_aspect = 'no'):\n",
    "    if before_aspect != 'no' and before_aspect != 'yes':\n",
    "        print(\"Unsuported value in before_aspect\")\n",
    "    \n",
    "    max_degree = max_degree_calc(obj_lon, obj_orb, deg)\n",
    "    if before_aspect == 'yes':\n",
    "        obj_orb = -obj_orb    \n",
    "    print(max_degree)\n",
    "    pos_arr_start = obj_lon - max_degree + deg\n",
    "    pos_arr_end = obj_lon + obj_orb - max_degree + deg\n",
    "    neg_arr_start = max_degree + obj_lon - deg\n",
    "    neg_arr_end = max_degree + obj_lon + obj_orb - deg\n",
    "    \n",
    "    if before_aspect == 'no' and (isclose(round(include_lon, 2), arange(pos_arr_start, pos_arr_end, 0.01)).any() or \\\n",
    "    isclose(round(include_lon, 2), arange(neg_arr_start, neg_arr_end, 0.01)).any()):\n",
    "        orb_con = orb_calculate(include_lon, obj_lon, deg)\n",
    "    elif before_aspect == 'yes' and (isclose(round(include_lon, 2), arange(pos_arr_end, pos_arr_start, 0.01)).any() or \\\n",
    "    isclose(round(include_lon, 2), arange(neg_arr_end, neg_arr_start, 0.01)).any()):\n",
    "        orb_con = orb_calculate(include_lon, obj_lon, deg)\n",
    "    else:\n",
    "        orb_con = 'None'\n",
    "    return orb_con"
   ]
  },
  {
   "cell_type": "code",
   "execution_count": null,
   "metadata": {},
   "outputs": [],
   "source": [
    "# orb_con = switching_ranges_with_orb(22.10, 12.0, 13, 0, before_aspect='no')\n",
    "# orb_con"
   ]
  },
  {
   "cell_type": "code",
   "execution_count": null,
   "metadata": {},
   "outputs": [],
   "source": [
    "orb_con = switching_ranges_with_orb(350.10, 1.10, 13, 0, before_aspect='yes')\n",
    "orb_con"
   ]
  },
  {
   "cell_type": "code",
   "execution_count": null,
   "metadata": {},
   "outputs": [],
   "source": [
    "def object_data(objects: list, name: str):\n",
    "    for obj in objects:\n",
    "        if obj.id == name:\n",
    "            if 'meanMotion' not in dir(obj):\n",
    "                obj_house = 1\n",
    "                obj_lonsp = 0\n",
    "            else:\n",
    "                obj_house = 0\n",
    "                obj_lonsp = obj.lonspeed\n",
    "            \n",
    "            obj_id, obj_lon, obj_orb = obj.id, obj.lon, obj.orb()\n",
    "            return obj_id, obj_lon, obj_orb, obj_lonsp, obj_house"
   ]
  },
  {
   "cell_type": "code",
   "execution_count": null,
   "metadata": {},
   "outputs": [],
   "source": [
    "def house_type_approuch(incl_lon: float, incl_lonsp: float, obj_lon: float):\n",
    "    if obj_lon <= incl_lon and round(obj_lon/100) == round(incl_lon/100):\n",
    "        pos = 'in'\n",
    "    elif obj_lon >= incl_lon and round(obj_lon/100) == round(incl_lon/100):\n",
    "        pos = 'out'\n",
    "    else:\n",
    "        if  obj_lon >= incl_lon:\n",
    "            pos = 'in'\n",
    "        else:\n",
    "            pos = 'out'\n",
    "\n",
    "    if incl_lonsp == 0:\n",
    "        type_appr = pos + '_stat'\n",
    "    elif (pos == 'in' and incl_lonsp < 0) or (pos == 'out' and incl_lonsp > 0):\n",
    "        type_appr = pos + '_conv'\n",
    "    else:\n",
    "        type_appr = pos + '_diver'\n",
    "    \n",
    "    return type_appr"
   ]
  },
  {
   "cell_type": "code",
   "execution_count": null,
   "metadata": {},
   "outputs": [],
   "source": [
    "def left_right_semi_circle(incl_lon: float, obj_lon: float, deg: int):\n",
    "    obj_lon_deg = obj_lon + deg\n",
    "    \n",
    "    if obj_lon_deg > 360:\n",
    "        obj_lon_deg = abs(360 - obj_lon_deg)\n",
    "    \n",
    "    if obj_lon_deg <= 180 and isclose(round(incl_lon, 2), arange(obj_lon_deg, obj_lon_deg + 180, 0.01)).any():\n",
    "        incl_lon_pos = 'right'\n",
    "    elif obj_lon_deg > 180 and (isclose(round(incl_lon, 2), arange(obj_lon_deg, 359.99, 0.01)).any() or \\\n",
    "    isclose(round(incl_lon, 2), arange(0, 360 - obj_lon_deg, 0.01)).any()):\n",
    "        incl_lon_pos = 'right'\n",
    "    else:\n",
    "        incl_lon_pos = 'left'\n",
    "    return incl_lon_pos    "
   ]
  },
  {
   "cell_type": "code",
   "execution_count": null,
   "metadata": {},
   "outputs": [],
   "source": [
    "def type_approach(incl_lon: float, incl_lonsp: float, obj_lon: float, obj_lonsp: float, obj_house: int, deg: int):    \n",
    "    incl_lon_pos = left_right_semi_circle(incl_lon, obj_lon, deg)\n",
    "   \n",
    "    if obj_house == 1:\n",
    "        type_appr = house_type_approuch(incl_lon, incl_lonsp, obj_lon)\n",
    "    else:\n",
    "        if incl_lon_pos == 'left':\n",
    "            l1_lonsp = incl_lonsp\n",
    "            l2_lonsp = obj_lonsp \n",
    "        else:\n",
    "            l1_lonsp = obj_lonsp \n",
    "            l2_lonsp = incl_lonsp \n",
    "        \n",
    "        if incl_lonsp == obj_lonsp:\n",
    "            type_appr = 'stat'\n",
    "        \n",
    "        elif (l1_lonsp == 0 and l2_lonsp > 0)  or \\\n",
    "             (l1_lonsp < 0  and l2_lonsp == 0) or \\\n",
    "             (l1_lonsp < 0  and l2_lonsp > 0)  or \\\n",
    "             (l2_lonsp > l1_lonsp > 0) or \\\n",
    "             (l1_lonsp < l2_lonsp < 0): # -0.2 speedly than -0.1\n",
    "             type_appr = 'diver'\n",
    "        elif (l1_lonsp == 0 and l2_lonsp < 0)  or \\\n",
    "             (l1_lonsp > 0  and l2_lonsp == 0) or \\\n",
    "             (l1_lonsp > 0  and l2_lonsp < 0)  or \\\n",
    "             (l1_lonsp > l2_lonsp > 0) or \\\n",
    "             (l2_lonsp < l1_lonsp < 0):\n",
    "             type_appr = 'conv'\n",
    "        else:\n",
    "             type_appr = 'no'\n",
    "    \n",
    "    return type_appr    "
   ]
  },
  {
   "cell_type": "code",
   "execution_count": null,
   "metadata": {},
   "outputs": [],
   "source": [
    "def type_orb_calculate(obj_orb: int, before_aspect: str, after_orb ='const', before_orb ='const'):\n",
    "    if before_aspect == 'no' and after_orb != 'const' and before_orb == 'const':\n",
    "        orb = after_orb\n",
    "    elif before_aspect == 'yes' and before_orb != 'const' and after_orb == 'const':\n",
    "        orb = before_orb \n",
    "    else:\n",
    "        orb = obj_orb\n",
    "    return orb"
   ]
  },
  {
   "cell_type": "code",
   "execution_count": null,
   "metadata": {},
   "outputs": [],
   "source": [
    "def object_aspects(id_obj: str, unique_objs: list, remove_objs: list, aspekts_degrees: dict, before_aspect: str, after_orb ='const', before_orb ='const'):\n",
    "    if (after_orb !='const' and type(after_orb) is not int) or (before_orb !='const' and type(before_orb) is not int):\n",
    "        print(\"Unsuported value in conv_orb or diver_orb\")\n",
    "    \n",
    "    singles_degrees = AstrologicalConstants.singles_degrees\n",
    "    \n",
    "    all_aspekts = []\n",
    "    objects_cp = unique_objs.copy()\n",
    "    \n",
    "    obj_id, obj_lon, obj_orb, obj_lonsp, obj_house = object_data(objects_cp, id_obj)\n",
    "    obj_orb = type_orb_calculate(obj_orb, before_aspect, after_orb, before_orb)    \n",
    "    objects_cp = remove_objects(objects_cp, [id_obj] + remove_objs)\n",
    "    \n",
    "    for incl_obj in objects_cp:\n",
    "        for type_asp, deg in aspekts_degrees.items():\n",
    "            orb_con = switching_ranges_with_orb(incl_obj.lon, obj_lon, obj_orb, deg, before_aspect)\n",
    "            \n",
    "            if orb_con:\n",
    "                asp = type_asp\n",
    "                type_appr = type_approach(incl_obj.lon, incl_obj.lonspeed, obj_lon, obj_lonsp, obj_house, deg)\n",
    "                orb_con = GeneralMethods.degree_transform(orb_con)\n",
    "                sing = GeneralMethods.equal_different_sing_feature(singles_degrees, incl_obj.lon, obj_lon, deg)\n",
    "            else:\n",
    "                asp, type_appr, orb_con, sing = None, None, None, None\n",
    "              \n",
    "            point_aspects = {'f_point': id_obj, 's_point': incl_obj.id, 'type': asp, 'approach': type_appr, 'sing': sing, 'orb': orb_con}\n",
    "\n",
    "            if point_aspects['type'] != None:\n",
    "                all_aspekts.append(point_aspects)\n",
    "\n",
    "    return all_aspekts"
   ]
  },
  {
   "cell_type": "code",
   "execution_count": null,
   "metadata": {},
   "outputs": [],
   "source": [
    "houses_remove_objs = []\n",
    "moon_remove_objs   = ['Asc', 'Desc', 'MC', 'IC', 'Uranus', 'Neptune', 'Pluto', 'Chiron', 'North Node', 'South Node', 'Antes Moon','Antes Uranus', \n",
    "                      'Antes Neptune', 'Antes Pluto', 'Antes Chiron']\n",
    "main_remove_objs   = ['Asc', 'Desc', 'MC', 'IC', 'Moon', 'Antes Moon']"
   ]
  },
  {
   "cell_type": "code",
   "execution_count": null,
   "metadata": {},
   "outputs": [],
   "source": [
    "houses_aspect_degs = {'Con': 0}\n",
    "moon_aspect_degs = AstrologicalConstants.aspekts_degrees\n",
    "main_aspect_degs = {'Con': 0, 'Opp': 180}"
   ]
  },
  {
   "cell_type": "code",
   "execution_count": null,
   "metadata": {},
   "outputs": [],
   "source": [
    "house_objs = ['Asc', 'Desc', 'MC', 'IC'] "
   ]
  },
  {
   "cell_type": "code",
   "execution_count": null,
   "metadata": {},
   "outputs": [],
   "source": [
    "# moon_asp_after = object_aspects('Moon', objects, moon_remove_objs, moon_aspect_degs, before_aspect='no')\n",
    "# moon_asp_before = object_aspects('Moon', objects, moon_remove_objs, moon_aspect_degs, before_aspect='yes', before_orb=1)\n",
    "# all_moon_asp = moon_asp_after + moon_asp_before"
   ]
  },
  {
   "cell_type": "code",
   "execution_count": null,
   "metadata": {},
   "outputs": [],
   "source": [
    "# all_house_asp = []\n",
    "# for h_obj in house_objs:\n",
    "#     house_asp_after = object_aspects(h_obj, objects, houses_remove_objs, houses_aspect_degs, before_aspect='no', after_orb=3)\n",
    "#     house_asp_before = object_aspects(h_obj, objects, houses_remove_objs, houses_aspect_degs, before_aspect='yes', before_orb=3)\n",
    "#     all_house_asp.append(house_asp_after)\n",
    "#     all_house_asp.append(house_asp_before)"
   ]
  },
  {
   "cell_type": "code",
   "execution_count": null,
   "metadata": {},
   "outputs": [],
   "source": [
    "# objects = AspectsCalculate(df.iloc[0]).conbine_class_methods()"
   ]
  },
  {
   "cell_type": "code",
   "execution_count": null,
   "metadata": {},
   "outputs": [],
   "source": [
    "for x in objects:\n",
    "    if x.id == 'Asc':\n",
    "        x.lon = 2.1\n",
    "    if x.id == 'Pluto':\n",
    "        x.lon = 1.1\n",
    "    if x.id == 'Neptune':\n",
    "        x.lon = 3.1 "
   ]
  },
  {
   "cell_type": "code",
   "execution_count": null,
   "metadata": {},
   "outputs": [],
   "source": [
    "asc_pluto = []\n",
    "for obj in objects:\n",
    "    if obj.id == 'Asc' or obj.id == 'Pluto' or obj.id == 'Neptune':\n",
    "        asc_pluto.append(obj)\n",
    "asc_pluto        "
   ]
  },
  {
   "cell_type": "code",
   "execution_count": null,
   "metadata": {},
   "outputs": [],
   "source": [
    "# asc_pluto_asp_after = object_aspects('Asc', objects, houses_remove_objs, houses_aspect_degs, before_aspect='no', after_orb=90)\n",
    "# asc_pluto_asp_after"
   ]
  },
  {
   "cell_type": "code",
   "execution_count": null,
   "metadata": {},
   "outputs": [],
   "source": []
  },
  {
   "cell_type": "code",
   "execution_count": null,
   "metadata": {},
   "outputs": [],
   "source": [
    "str([x.lon for x in objects])"
   ]
  },
  {
   "cell_type": "code",
   "execution_count": null,
   "metadata": {},
   "outputs": [],
   "source": [
    "# all_main_asp = []\n",
    "# for m_obj in objects:\n",
    "#     main_asp_after = object_aspects(m_obj.id, objects, main_remove_objs, main_aspect_degs, before_aspect='no', after_orb=3)\n",
    "#     main_asp_before = object_aspects(m_obj.id, objects, main_remove_objs, main_aspect_degs, before_aspect='yes', before_orb=3)\n",
    "#     all_main_asp.append(main_asp_after)\n",
    "#     all_main_asp.append(main_asp_before)"
   ]
  },
  {
   "cell_type": "code",
   "execution_count": null,
   "metadata": {},
   "outputs": [],
   "source": [
    "all_aspects = all_moon_asp + all_house_asp + all_main_asp + asc_pluto_asp_after\n",
    "all_aspects_full = []\n",
    "for asp in all_aspects:\n",
    "    if asp != []:\n",
    "        all_aspects_full.append(asp)"
   ]
  },
  {
   "cell_type": "code",
   "execution_count": null,
   "metadata": {},
   "outputs": [],
   "source": [
    "# all_aspects_full"
   ]
  },
  {
   "cell_type": "code",
   "execution_count": null,
   "metadata": {},
   "outputs": [],
   "source": [
    "[x.lon for x in objects if x.id == 'IC']"
   ]
  },
  {
   "cell_type": "code",
   "execution_count": null,
   "metadata": {},
   "outputs": [],
   "source": [
    "[x.lon for x in objects if x.id == 'Antes Neptune']"
   ]
  },
  {
   "cell_type": "code",
   "execution_count": null,
   "metadata": {},
   "outputs": [],
   "source": [
    "# [x.lonspeed for x in objects if x.id == 'Moon']"
   ]
  },
  {
   "cell_type": "code",
   "execution_count": null,
   "metadata": {},
   "outputs": [],
   "source": [
    "[x.lon for x in objects if x.id == 'Pars Spirit']"
   ]
  },
  {
   "cell_type": "code",
   "execution_count": null,
   "metadata": {},
   "outputs": [],
   "source": [
    "# [x.lonspeed for x in objects if x.id == 'Mercury']"
   ]
  },
  {
   "cell_type": "code",
   "execution_count": null,
   "metadata": {},
   "outputs": [],
   "source": [
    "[x.lon for x in objects if x.id == 'Antes Pars Fortuna']"
   ]
  },
  {
   "cell_type": "code",
   "execution_count": null,
   "metadata": {},
   "outputs": [],
   "source": [
    "str([x.id for x in objects])"
   ]
  },
  {
   "cell_type": "code",
   "execution_count": null,
   "metadata": {},
   "outputs": [],
   "source": [
    "# for x in objects:\n",
    "#     if x.id == 'Asc':\n",
    "#         x.lon = 1\n",
    "#     if x.id == 'Pluto':\n",
    "#         x.lon = 15\n",
    "#     if x.id == 'MC':\n",
    "#         x.lon = 303      \n",
    "    # if x.id == 'Neptune':\n",
    "    #     x.lon = 4\n",
    "#     if x.id == 'Saturn':\n",
    "#         x.lon = 34.28\n",
    "#     if x.id == 'Venus':\n",
    "#         x.lon = 37.01  "
   ]
  },
  {
   "cell_type": "code",
   "execution_count": null,
   "metadata": {},
   "outputs": [],
   "source": [
    "str(['conv_compl', 'conv_denide']) # for septener planet and parses"
   ]
  },
  {
   "cell_type": "code",
   "execution_count": null,
   "metadata": {},
   "outputs": [],
   "source": [
    "# Movement of planets for conv or diver aspect type\n",
    "# Rules for aspekts:\n",
    "# Remove: \n",
    "# Antes Moon - only house conuction\n",
    "# Doublecation similar planets and antes aspects  \n",
    "# Houses opposition\n",
    "# Add:\n",
    "# Will exist aspect function for rulers Asc and Dsc\n",
    "# Divergent or convergent \n",
    "# Pluto and Asc conuction if Pluto near Asc with 30 degree orb\n",
    "# Denide of aspect from aspect with other planet (create after getting all point aspects)"
   ]
  },
  {
   "cell_type": "code",
   "execution_count": null,
   "metadata": {},
   "outputs": [],
   "source": [
    "chart = df.charts.values[0]\n",
    "chart"
   ]
  },
  {
   "cell_type": "code",
   "execution_count": null,
   "metadata": {},
   "outputs": [],
   "source": [
    "asc = chart.get(const.ASC)\n",
    "moon = chart.get(const.MOON)\n",
    "sun = chart.get(const.SUN)"
   ]
  },
  {
   "cell_type": "code",
   "execution_count": null,
   "metadata": {},
   "outputs": [],
   "source": [
    "from flatlib.object import Object"
   ]
  },
  {
   "cell_type": "code",
   "execution_count": null,
   "metadata": {},
   "outputs": [],
   "source": [
    "sun = chart.get(const.SUN)"
   ]
  },
  {
   "cell_type": "code",
   "execution_count": null,
   "metadata": {},
   "outputs": [],
   "source": [
    "# antes_pars_fortuna_obj "
   ]
  },
  {
   "cell_type": "code",
   "execution_count": null,
   "metadata": {},
   "outputs": [],
   "source": [
    "sun.lon"
   ]
  },
  {
   "cell_type": "code",
   "execution_count": null,
   "metadata": {},
   "outputs": [],
   "source": [
    "asc_obj = Object.fromDict({'id': asc.id, 'sign': asc.sign, 'signlon': asc.signlon, 'lonspeed': 0, 'orb': asc.orb})"
   ]
  },
  {
   "cell_type": "code",
   "execution_count": null,
   "metadata": {},
   "outputs": [],
   "source": [
    "moon_obj = Object.fromDict({'id': moon.id, 'sign': moon.sign, 'signlon': moon.signlon, 'lonspeed': moon.lonspeed, 'orb': moon.orb})"
   ]
  },
  {
   "cell_type": "code",
   "execution_count": null,
   "metadata": {},
   "outputs": [],
   "source": [
    "antes_pars_fortuna_obj = Object.fromDict({'id': 'Antes Pars Fortuna'})#, 'sign': sun.sign, 'signlon': sun.signlon, 'lonspeed': sun.lonspeed})#, 'orb': sun.orb})"
   ]
  },
  {
   "cell_type": "code",
   "execution_count": null,
   "metadata": {},
   "outputs": [],
   "source": [
    "antes_pars_fortuna_obj.orb()"
   ]
  },
  {
   "cell_type": "code",
   "execution_count": null,
   "metadata": {},
   "outputs": [],
   "source": [
    "moon_asc_aspect = aspects.getAspect(moon_obj, asc_obj, const.MAJOR_ASPECTS)\n",
    "print('moon_asc_aspect: ', moon_asc_aspect)"
   ]
  },
  {
   "cell_type": "code",
   "execution_count": null,
   "metadata": {},
   "outputs": [],
   "source": [
    "dyn = ChartDynamics(chart)"
   ]
  },
  {
   "cell_type": "code",
   "execution_count": null,
   "metadata": {},
   "outputs": [],
   "source": [
    "moon_asps = dyn.immediateAspects('North Node', const.MAIN_ASPECTS)\n",
    "print(moon_asps)  "
   ]
  },
  {
   "cell_type": "code",
   "execution_count": null,
   "metadata": {},
   "outputs": [],
   "source": [
    "from flatlib.lists import GenericList"
   ]
  },
  {
   "cell_type": "code",
   "execution_count": null,
   "metadata": {},
   "outputs": [],
   "source": [
    "list_obj = [antes_pars_fortuna_obj]"
   ]
  },
  {
   "cell_type": "code",
   "execution_count": null,
   "metadata": {},
   "outputs": [],
   "source": [
    "gen_list = GenericList(list_obj)\n",
    "gen_list"
   ]
  },
  {
   "cell_type": "code",
   "execution_count": null,
   "metadata": {},
   "outputs": [],
   "source": [
    "gen_list.add = sun_obj"
   ]
  },
  {
   "cell_type": "code",
   "execution_count": null,
   "metadata": {},
   "outputs": [],
   "source": [
    "gen_list.content"
   ]
  },
  {
   "cell_type": "code",
   "execution_count": null,
   "metadata": {},
   "outputs": [],
   "source": [
    "chart.get('Antes Pars Fortuna')"
   ]
  },
  {
   "cell_type": "code",
   "execution_count": null,
   "metadata": {},
   "outputs": [],
   "source": [
    "chart.objects.add(antes_pars_fortuna_obj)"
   ]
  },
  {
   "cell_type": "code",
   "execution_count": null,
   "metadata": {},
   "outputs": [],
   "source": [
    "chr_obj = [x for x in chart.objects]"
   ]
  },
  {
   "cell_type": "code",
   "execution_count": null,
   "metadata": {},
   "outputs": [],
   "source": [
    "len (chr_obj)"
   ]
  },
  {
   "cell_type": "code",
   "execution_count": null,
   "metadata": {},
   "outputs": [],
   "source": [
    "chr_obj[15].id"
   ]
  },
  {
   "cell_type": "code",
   "execution_count": null,
   "metadata": {},
   "outputs": [],
   "source": []
  },
  {
   "cell_type": "code",
   "execution_count": null,
   "metadata": {},
   "outputs": [],
   "source": [
    "dyn_obj = ChartDynamics(chart)"
   ]
  },
  {
   "cell_type": "code",
   "execution_count": null,
   "metadata": {},
   "outputs": [],
   "source": [
    "moon_asps = dyn_obj.immediateAspects('Moon', const.MAJOR_ASPECTS)\n",
    "moon_asps"
   ]
  },
  {
   "cell_type": "code",
   "execution_count": null,
   "metadata": {},
   "outputs": [],
   "source": [
    "chart.getObject(ID='Moon')"
   ]
  },
  {
   "cell_type": "code",
   "execution_count": null,
   "metadata": {},
   "outputs": [],
   "source": [
    "df.antes_moon[0]"
   ]
  },
  {
   "cell_type": "code",
   "execution_count": null,
   "metadata": {},
   "outputs": [],
   "source": []
  },
  {
   "cell_type": "code",
   "execution_count": null,
   "metadata": {},
   "outputs": [],
   "source": [
    "# Create new columns for each object, five clasess for favorite's advantsge and orbs's "
   ]
  },
  {
   "cell_type": "code",
   "execution_count": null,
   "metadata": {},
   "outputs": [],
   "source": []
  },
  {
   "cell_type": "code",
   "execution_count": null,
   "metadata": {},
   "outputs": [],
   "source": []
  }
 ],
 "metadata": {
  "kernelspec": {
   "display_name": "Python 3 (ipykernel)",
   "language": "python",
   "name": "python3"
  },
  "language_info": {
   "codemirror_mode": {
    "name": "ipython",
    "version": 3
   },
   "file_extension": ".py",
   "mimetype": "text/x-python",
   "name": "python",
   "nbconvert_exporter": "python",
   "pygments_lexer": "ipython3",
   "version": "3.9.7"
  }
 },
 "nbformat": 4,
 "nbformat_minor": 4
}

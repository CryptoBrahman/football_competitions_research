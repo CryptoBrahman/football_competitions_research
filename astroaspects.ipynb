{
 "cells": [
  {
   "cell_type": "code",
   "execution_count": 20,
   "metadata": {},
   "outputs": [],
   "source": [
    "import pandas as pd\n",
    "\n",
    "from flatlib import const\n",
    "from flatlib.chart import Chart\n",
    "from flatlib.datetime import Datetime\n",
    "from flatlib.geopos import GeoPos\n",
    "\n",
    "from flatlib.tools import arabicparts"
   ]
  },
  {
   "cell_type": "code",
   "execution_count": 38,
   "metadata": {},
   "outputs": [],
   "source": [
    "date = Datetime('2015/03/13', '17:00', '+00:00')\n",
    "pos = GeoPos('38n32', '8w54')\n",
    "chart = Chart(date, pos)"
   ]
  },
  {
   "cell_type": "code",
   "execution_count": 39,
   "metadata": {},
   "outputs": [
    {
     "data": {
      "text/plain": [
       "<flatlib.geopos.GeoPos at 0x7f197ab76970>"
      ]
     },
     "execution_count": 39,
     "metadata": {},
     "output_type": "execute_result"
    }
   ],
   "source": [
    "pos"
   ]
  },
  {
   "cell_type": "code",
   "execution_count": 21,
   "metadata": {},
   "outputs": [],
   "source": [
    "data = {'date':['2015/03/13', '2016/05/23', '2018/10/03'], 'utc_time':['17:00', '12:30', '00:15'], 'lon':['38n32', '08n07', '14s42'], 'lat':['8w54', '18e14','36w04']}\n",
    "df = pd.DataFrame(data)"
   ]
  },
  {
   "cell_type": "code",
   "execution_count": 22,
   "metadata": {},
   "outputs": [
    {
     "data": {
      "text/html": [
       "<div>\n",
       "<style scoped>\n",
       "    .dataframe tbody tr th:only-of-type {\n",
       "        vertical-align: middle;\n",
       "    }\n",
       "\n",
       "    .dataframe tbody tr th {\n",
       "        vertical-align: top;\n",
       "    }\n",
       "\n",
       "    .dataframe thead th {\n",
       "        text-align: right;\n",
       "    }\n",
       "</style>\n",
       "<table border=\"1\" class=\"dataframe\">\n",
       "  <thead>\n",
       "    <tr style=\"text-align: right;\">\n",
       "      <th></th>\n",
       "      <th>date</th>\n",
       "      <th>utc_time</th>\n",
       "      <th>lon</th>\n",
       "      <th>lat</th>\n",
       "    </tr>\n",
       "  </thead>\n",
       "  <tbody>\n",
       "    <tr>\n",
       "      <th>0</th>\n",
       "      <td>2015/03/13</td>\n",
       "      <td>17:00</td>\n",
       "      <td>38n32</td>\n",
       "      <td>8w54</td>\n",
       "    </tr>\n",
       "    <tr>\n",
       "      <th>1</th>\n",
       "      <td>2016/05/23</td>\n",
       "      <td>12:30</td>\n",
       "      <td>08n07</td>\n",
       "      <td>18e14</td>\n",
       "    </tr>\n",
       "    <tr>\n",
       "      <th>2</th>\n",
       "      <td>2018/10/03</td>\n",
       "      <td>00:15</td>\n",
       "      <td>14s42</td>\n",
       "      <td>36w04</td>\n",
       "    </tr>\n",
       "  </tbody>\n",
       "</table>\n",
       "</div>"
      ],
      "text/plain": [
       "         date utc_time    lon    lat\n",
       "0  2015/03/13    17:00  38n32   8w54\n",
       "1  2016/05/23    12:30  08n07  18e14\n",
       "2  2018/10/03    00:15  14s42  36w04"
      ]
     },
     "execution_count": 22,
     "metadata": {},
     "output_type": "execute_result"
    }
   ],
   "source": [
    "df"
   ]
  },
  {
   "cell_type": "code",
   "execution_count": 83,
   "metadata": {},
   "outputs": [],
   "source": [
    "def charts_calculate(df: pd.DataFrame, date:str, utc_time:str, lon:str, lat:str):\n",
    "\n",
    "    dates = df.apply(lambda x: Datetime(x[date], x[utc_time], '+00:00'), axis=1)\n",
    "    posits = df.apply(lambda x: GeoPos(x[lon], x[lat]), axis=1)\n",
    "    df_dates_posits =  pd.concat([dates, posits], axis=1, keys=['dates', 'posits'])\n",
    "    charts = df_dates_posits.apply(lambda x: Chart(x['dates'], x['posits']), axis=1)\n",
    "    return charts"
   ]
  },
  {
   "cell_type": "code",
   "execution_count": 84,
   "metadata": {},
   "outputs": [],
   "source": [
    "tmp = charts_calculate(df, 'date', 'utc_time', 'lon', 'lat')"
   ]
  },
  {
   "cell_type": "code",
   "execution_count": 85,
   "metadata": {},
   "outputs": [
    {
     "data": {
      "text/plain": [
       "0    <flatlib.chart.Chart object at 0x7f197a677e80>\n",
       "1    <flatlib.chart.Chart object at 0x7f1979443a60>\n",
       "2    <flatlib.chart.Chart object at 0x7f19793f6430>\n",
       "dtype: object"
      ]
     },
     "execution_count": 85,
     "metadata": {},
     "output_type": "execute_result"
    }
   ],
   "source": [
    "tmp"
   ]
  },
  {
   "cell_type": "code",
   "execution_count": null,
   "metadata": {},
   "outputs": [],
   "source": []
  }
 ],
 "metadata": {
  "kernelspec": {
   "display_name": "Python 3 (ipykernel)",
   "language": "python",
   "name": "python3"
  },
  "language_info": {
   "codemirror_mode": {
    "name": "ipython",
    "version": 3
   },
   "file_extension": ".py",
   "mimetype": "text/x-python",
   "name": "python",
   "nbconvert_exporter": "python",
   "pygments_lexer": "ipython3",
   "version": "3.8.10"
  }
 },
 "nbformat": 4,
 "nbformat_minor": 4
}

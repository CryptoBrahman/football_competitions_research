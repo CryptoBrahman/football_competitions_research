{
 "cells": [
  {
   "cell_type": "code",
   "execution_count": 30,
   "metadata": {},
   "outputs": [],
   "source": [
    "import pandas as pd\n",
    "\n",
    "from flatlib import const\n",
    "from flatlib.chart import Chart\n",
    "from flatlib.datetime import Datetime\n",
    "from flatlib.geopos import GeoPos\n",
    "\n",
    "from flatlib.tools import arabicparts\n",
    "from flatlib.dignities import essential\n",
    "\n",
    "from _astro_constants import AstrologicalPoints"
   ]
  },
  {
   "cell_type": "code",
   "execution_count": 2,
   "metadata": {},
   "outputs": [],
   "source": [
    "%load_ext autoreload\n",
    "%autoreload 2"
   ]
  },
  {
   "cell_type": "code",
   "execution_count": 11,
   "metadata": {},
   "outputs": [
    {
     "data": {
      "text/html": [
       "<div>\n",
       "<style scoped>\n",
       "    .dataframe tbody tr th:only-of-type {\n",
       "        vertical-align: middle;\n",
       "    }\n",
       "\n",
       "    .dataframe tbody tr th {\n",
       "        vertical-align: top;\n",
       "    }\n",
       "\n",
       "    .dataframe thead th {\n",
       "        text-align: right;\n",
       "    }\n",
       "</style>\n",
       "<table border=\"1\" class=\"dataframe\">\n",
       "  <thead>\n",
       "    <tr style=\"text-align: right;\">\n",
       "      <th></th>\n",
       "      <th>date</th>\n",
       "      <th>utc_time</th>\n",
       "      <th>lon</th>\n",
       "      <th>lat</th>\n",
       "    </tr>\n",
       "  </thead>\n",
       "  <tbody>\n",
       "    <tr>\n",
       "      <th>0</th>\n",
       "      <td>2015/03/13</td>\n",
       "      <td>17:00</td>\n",
       "      <td>38n32</td>\n",
       "      <td>8w54</td>\n",
       "    </tr>\n",
       "    <tr>\n",
       "      <th>1</th>\n",
       "      <td>2016/05/23</td>\n",
       "      <td>12:30</td>\n",
       "      <td>08n07</td>\n",
       "      <td>18e14</td>\n",
       "    </tr>\n",
       "    <tr>\n",
       "      <th>2</th>\n",
       "      <td>2018/10/03</td>\n",
       "      <td>00:15</td>\n",
       "      <td>14s42</td>\n",
       "      <td>36w04</td>\n",
       "    </tr>\n",
       "  </tbody>\n",
       "</table>\n",
       "</div>"
      ],
      "text/plain": [
       "         date utc_time    lon    lat\n",
       "0  2015/03/13    17:00  38n32   8w54\n",
       "1  2016/05/23    12:30  08n07  18e14\n",
       "2  2018/10/03    00:15  14s42  36w04"
      ]
     },
     "execution_count": 11,
     "metadata": {},
     "output_type": "execute_result"
    }
   ],
   "source": [
    "data = {'date':['2015/03/13', '2016/05/23', '2018/10/03'], 'utc_time':['17:00', '12:30', '00:15'], 'lon':['38n32', '08n07', '14s42'], 'lat':['8w54', '18e14','36w04']}\n",
    "df = pd.DataFrame(data)\n",
    "df"
   ]
  },
  {
   "cell_type": "code",
   "execution_count": 12,
   "metadata": {},
   "outputs": [],
   "source": [
    "df['charts'] = AstrologicalPoints.charts_calculate(df, 'date', 'utc_time', 'lon', 'lat')"
   ]
  },
  {
   "cell_type": "code",
   "execution_count": 13,
   "metadata": {},
   "outputs": [
    {
     "data": {
      "text/plain": [
       "0    <flatlib.chart.Chart object at 0x7fb300e280d0>\n",
       "1    <flatlib.chart.Chart object at 0x7fb2cbbea130>\n",
       "2    <flatlib.chart.Chart object at 0x7fb2cbbea7c0>\n",
       "Name: charts, dtype: object"
      ]
     },
     "execution_count": 13,
     "metadata": {},
     "output_type": "execute_result"
    }
   ],
   "source": [
    "df.charts"
   ]
  },
  {
   "cell_type": "code",
   "execution_count": 14,
   "metadata": {},
   "outputs": [],
   "source": [
    "df['asc'] = AstrologicalPoints.calculate_astro_house(df.charts, 'ASC')\n",
    "df['desc'] = AstrologicalPoints.calculate_astro_house(df.charts, 'DESC')\n",
    "df['mc'] = AstrologicalPoints.calculate_astro_house(df.charts, 'MC')\n",
    "df['ic'] = AstrologicalPoints.calculate_astro_house(df.charts, 'IC')"
   ]
  },
  {
   "cell_type": "code",
   "execution_count": 17,
   "metadata": {},
   "outputs": [],
   "source": [
    "df['ruler_asc'] = AstrologicalPoints.ruler_of_house(df.asc)\n",
    "df['ruler_desc'] = AstrologicalPoints.ruler_of_house(df.desc)\n",
    "df['ruler_mc'] = AstrologicalPoints.ruler_of_house(df.mc)\n",
    "df['ruler_ic'] = AstrologicalPoints.ruler_of_house(df.ic)"
   ]
  },
  {
   "cell_type": "code",
   "execution_count": 28,
   "metadata": {},
   "outputs": [],
   "source": [
    "df['ruler_asc_attr'] = AstrologicalPoints.chart_object_attributes(df, 'charts', 'ruler_asc')\n",
    "df['ruler_desc_attr'] = AstrologicalPoints.chart_object_attributes(df, 'charts', 'ruler_desc')\n",
    "df['ruler_mc_attr'] = AstrologicalPoints.chart_object_attributes(df, 'charts', 'ruler_mc')\n",
    "df['ruler_ic_attr'] = AstrologicalPoints.chart_object_attributes(df, 'charts', 'ruler_ic')"
   ]
  },
  {
   "cell_type": "code",
   "execution_count": 29,
   "metadata": {},
   "outputs": [
    {
     "data": {
      "text/html": [
       "<div>\n",
       "<style scoped>\n",
       "    .dataframe tbody tr th:only-of-type {\n",
       "        vertical-align: middle;\n",
       "    }\n",
       "\n",
       "    .dataframe tbody tr th {\n",
       "        vertical-align: top;\n",
       "    }\n",
       "\n",
       "    .dataframe thead th {\n",
       "        text-align: right;\n",
       "    }\n",
       "</style>\n",
       "<table border=\"1\" class=\"dataframe\">\n",
       "  <thead>\n",
       "    <tr style=\"text-align: right;\">\n",
       "      <th></th>\n",
       "      <th>date</th>\n",
       "      <th>utc_time</th>\n",
       "      <th>lon</th>\n",
       "      <th>lat</th>\n",
       "      <th>charts</th>\n",
       "      <th>asc</th>\n",
       "      <th>desc</th>\n",
       "      <th>mc</th>\n",
       "      <th>ic</th>\n",
       "      <th>ruler_asc</th>\n",
       "      <th>ruler_desc</th>\n",
       "      <th>ruler_mc</th>\n",
       "      <th>ruler_ic</th>\n",
       "      <th>ruler_asc_attr</th>\n",
       "      <th>ruler_desc_attr</th>\n",
       "      <th>ruler_mc_attr</th>\n",
       "      <th>ruler_ic_attr</th>\n",
       "    </tr>\n",
       "  </thead>\n",
       "  <tbody>\n",
       "    <tr>\n",
       "      <th>0</th>\n",
       "      <td>2015/03/13</td>\n",
       "      <td>17:00</td>\n",
       "      <td>38n32</td>\n",
       "      <td>8w54</td>\n",
       "      <td>&lt;flatlib.chart.Chart object at 0x7fb300e280d0&gt;</td>\n",
       "      <td>&lt;Asc Virgo +03:27:30&gt;</td>\n",
       "      <td>&lt;Desc Pisces +03:27:30&gt;</td>\n",
       "      <td>&lt;MC Taurus +29:19:03&gt;</td>\n",
       "      <td>&lt;IC Scorpio +29:19:03&gt;</td>\n",
       "      <td>Mercury</td>\n",
       "      <td>Jupiter</td>\n",
       "      <td>Venus</td>\n",
       "      <td>Mars</td>\n",
       "      <td>&lt;Mercury Pisces +00:48:57 +01:29:49&gt;</td>\n",
       "      <td>&lt;Jupiter Leo +13:38:37 -00:04:45&gt;</td>\n",
       "      <td>&lt;Venus Aries +25:30:11 +01:12:41&gt;</td>\n",
       "      <td>&lt;Mars Aries +16:32:48 +00:45:18&gt;</td>\n",
       "    </tr>\n",
       "    <tr>\n",
       "      <th>1</th>\n",
       "      <td>2016/05/23</td>\n",
       "      <td>12:30</td>\n",
       "      <td>08n07</td>\n",
       "      <td>18e14</td>\n",
       "      <td>&lt;flatlib.chart.Chart object at 0x7fb2cbbea130&gt;</td>\n",
       "      <td>&lt;Asc Virgo +27:12:45&gt;</td>\n",
       "      <td>&lt;Desc Pisces +27:12:45&gt;</td>\n",
       "      <td>&lt;MC Gemini +27:30:28&gt;</td>\n",
       "      <td>&lt;IC Sagittarius +27:30:28&gt;</td>\n",
       "      <td>Mercury</td>\n",
       "      <td>Jupiter</td>\n",
       "      <td>Mercury</td>\n",
       "      <td>Jupiter</td>\n",
       "      <td>&lt;Mercury Taurus +14:22:23 +00:04:22&gt;</td>\n",
       "      <td>&lt;Jupiter Virgo +13:33:03 +00:02:30&gt;</td>\n",
       "      <td>&lt;Mercury Taurus +14:22:23 +00:04:22&gt;</td>\n",
       "      <td>&lt;Jupiter Virgo +13:33:03 +00:02:30&gt;</td>\n",
       "    </tr>\n",
       "    <tr>\n",
       "      <th>2</th>\n",
       "      <td>2018/10/03</td>\n",
       "      <td>00:15</td>\n",
       "      <td>14s42</td>\n",
       "      <td>36w04</td>\n",
       "      <td>&lt;flatlib.chart.Chart object at 0x7fb2cbbea7c0&gt;</td>\n",
       "      <td>&lt;Asc Gemini +05:25:08&gt;</td>\n",
       "      <td>&lt;Desc Sagittarius +05:25:08&gt;</td>\n",
       "      <td>&lt;MC Pisces +07:39:39&gt;</td>\n",
       "      <td>&lt;IC Virgo +07:39:39&gt;</td>\n",
       "      <td>Mercury</td>\n",
       "      <td>Jupiter</td>\n",
       "      <td>Jupiter</td>\n",
       "      <td>Mercury</td>\n",
       "      <td>&lt;Mercury Libra +18:46:13 +01:38:51&gt;</td>\n",
       "      <td>&lt;Jupiter Scorpio +22:27:07 +00:11:21&gt;</td>\n",
       "      <td>&lt;Jupiter Scorpio +22:27:07 +00:11:21&gt;</td>\n",
       "      <td>&lt;Mercury Libra +18:46:13 +01:38:51&gt;</td>\n",
       "    </tr>\n",
       "  </tbody>\n",
       "</table>\n",
       "</div>"
      ],
      "text/plain": [
       "         date utc_time    lon    lat  \\\n",
       "0  2015/03/13    17:00  38n32   8w54   \n",
       "1  2016/05/23    12:30  08n07  18e14   \n",
       "2  2018/10/03    00:15  14s42  36w04   \n",
       "\n",
       "                                           charts                     asc  \\\n",
       "0  <flatlib.chart.Chart object at 0x7fb300e280d0>   <Asc Virgo +03:27:30>   \n",
       "1  <flatlib.chart.Chart object at 0x7fb2cbbea130>   <Asc Virgo +27:12:45>   \n",
       "2  <flatlib.chart.Chart object at 0x7fb2cbbea7c0>  <Asc Gemini +05:25:08>   \n",
       "\n",
       "                           desc                     mc  \\\n",
       "0       <Desc Pisces +03:27:30>  <MC Taurus +29:19:03>   \n",
       "1       <Desc Pisces +27:12:45>  <MC Gemini +27:30:28>   \n",
       "2  <Desc Sagittarius +05:25:08>  <MC Pisces +07:39:39>   \n",
       "\n",
       "                           ic ruler_asc ruler_desc ruler_mc ruler_ic  \\\n",
       "0      <IC Scorpio +29:19:03>   Mercury    Jupiter    Venus     Mars   \n",
       "1  <IC Sagittarius +27:30:28>   Mercury    Jupiter  Mercury  Jupiter   \n",
       "2        <IC Virgo +07:39:39>   Mercury    Jupiter  Jupiter  Mercury   \n",
       "\n",
       "                         ruler_asc_attr  \\\n",
       "0  <Mercury Pisces +00:48:57 +01:29:49>   \n",
       "1  <Mercury Taurus +14:22:23 +00:04:22>   \n",
       "2   <Mercury Libra +18:46:13 +01:38:51>   \n",
       "\n",
       "                         ruler_desc_attr  \\\n",
       "0      <Jupiter Leo +13:38:37 -00:04:45>   \n",
       "1    <Jupiter Virgo +13:33:03 +00:02:30>   \n",
       "2  <Jupiter Scorpio +22:27:07 +00:11:21>   \n",
       "\n",
       "                           ruler_mc_attr                        ruler_ic_attr  \n",
       "0      <Venus Aries +25:30:11 +01:12:41>     <Mars Aries +16:32:48 +00:45:18>  \n",
       "1   <Mercury Taurus +14:22:23 +00:04:22>  <Jupiter Virgo +13:33:03 +00:02:30>  \n",
       "2  <Jupiter Scorpio +22:27:07 +00:11:21>  <Mercury Libra +18:46:13 +01:38:51>  "
      ]
     },
     "execution_count": 29,
     "metadata": {},
     "output_type": "execute_result"
    }
   ],
   "source": [
    "df"
   ]
  },
  {
   "cell_type": "code",
   "execution_count": 41,
   "metadata": {},
   "outputs": [],
   "source": [
    "chart = df.charts.values[0]"
   ]
  },
  {
   "cell_type": "code",
   "execution_count": null,
   "metadata": {},
   "outputs": [],
   "source": []
  },
  {
   "cell_type": "code",
   "execution_count": null,
   "metadata": {},
   "outputs": [],
   "source": []
  },
  {
   "cell_type": "code",
   "execution_count": null,
   "metadata": {},
   "outputs": [],
   "source": []
  },
  {
   "cell_type": "code",
   "execution_count": null,
   "metadata": {},
   "outputs": [],
   "source": []
  },
  {
   "cell_type": "code",
   "execution_count": null,
   "metadata": {},
   "outputs": [],
   "source": []
  },
  {
   "cell_type": "code",
   "execution_count": null,
   "metadata": {},
   "outputs": [],
   "source": []
  }
 ],
 "metadata": {
  "kernelspec": {
   "display_name": "Python 3 (ipykernel)",
   "language": "python",
   "name": "python3"
  },
  "language_info": {
   "codemirror_mode": {
    "name": "ipython",
    "version": 3
   },
   "file_extension": ".py",
   "mimetype": "text/x-python",
   "name": "python",
   "nbconvert_exporter": "python",
   "pygments_lexer": "ipython3",
   "version": "3.8.10"
  }
 },
 "nbformat": 4,
 "nbformat_minor": 4
}

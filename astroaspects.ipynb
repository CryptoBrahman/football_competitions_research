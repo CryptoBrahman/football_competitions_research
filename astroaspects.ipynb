{
 "cells": [
  {
   "cell_type": "code",
   "execution_count": 16,
   "metadata": {},
   "outputs": [],
   "source": [
    "import sys\n",
    "sys.path.append('/home/cryptobrahman/Own/football_competitions_research/own_modules/') "
   ]
  },
  {
   "cell_type": "code",
   "execution_count": 13,
   "metadata": {},
   "outputs": [],
   "source": [
    "import pandas as pd\n",
    "import numpy as np\n",
    "\n",
    "from flatlib import const\n",
    "from flatlib import aspects\n",
    "from flatlib.chart import Chart\n",
    "from flatlib.datetime import Datetime\n",
    "from flatlib.geopos import GeoPos\n",
    "from flatlib.object import GenericObject\n",
    "from flatlib.tools.chartdynamics import ChartDynamics\n",
    "\n",
    "from flatlib.tools import arabicparts\n",
    "from flatlib.dignities import essential\n",
    "\n",
    "from _astro_constants import AstrologicalConstants, AstrologicalPoints, TransformValues\n",
    "\n",
    "pd.set_option('display.max_columns', 200)  # or 1000\n",
    "pd.set_option('display.max_rows', 200)  # or 1000\n",
    "pd.set_option('display.max_colwidth', 100)  # or 199"
   ]
  },
  {
   "cell_type": "code",
   "execution_count": 2,
   "metadata": {},
   "outputs": [],
   "source": [
    "%load_ext autoreload\n",
    "%autoreload 2"
   ]
  },
  {
   "cell_type": "code",
   "execution_count": 3,
   "metadata": {},
   "outputs": [
    {
     "data": {
      "text/html": [
       "<div>\n",
       "<style scoped>\n",
       "    .dataframe tbody tr th:only-of-type {\n",
       "        vertical-align: middle;\n",
       "    }\n",
       "\n",
       "    .dataframe tbody tr th {\n",
       "        vertical-align: top;\n",
       "    }\n",
       "\n",
       "    .dataframe thead th {\n",
       "        text-align: right;\n",
       "    }\n",
       "</style>\n",
       "<table border=\"1\" class=\"dataframe\">\n",
       "  <thead>\n",
       "    <tr style=\"text-align: right;\">\n",
       "      <th></th>\n",
       "      <th>date</th>\n",
       "      <th>utc_time</th>\n",
       "      <th>lon</th>\n",
       "      <th>lat</th>\n",
       "    </tr>\n",
       "  </thead>\n",
       "  <tbody>\n",
       "    <tr>\n",
       "      <th>0</th>\n",
       "      <td>2015/03/13</td>\n",
       "      <td>14:00</td>\n",
       "      <td>38n32</td>\n",
       "      <td>8w54</td>\n",
       "    </tr>\n",
       "    <tr>\n",
       "      <th>1</th>\n",
       "      <td>2016/05/23</td>\n",
       "      <td>12:30</td>\n",
       "      <td>08n07</td>\n",
       "      <td>18e14</td>\n",
       "    </tr>\n",
       "    <tr>\n",
       "      <th>2</th>\n",
       "      <td>2018/10/03</td>\n",
       "      <td>00:15</td>\n",
       "      <td>14s42</td>\n",
       "      <td>36w04</td>\n",
       "    </tr>\n",
       "  </tbody>\n",
       "</table>\n",
       "</div>"
      ],
      "text/plain": [
       "         date utc_time    lon    lat\n",
       "0  2015/03/13    14:00  38n32   8w54\n",
       "1  2016/05/23    12:30  08n07  18e14\n",
       "2  2018/10/03    00:15  14s42  36w04"
      ]
     },
     "execution_count": 3,
     "metadata": {},
     "output_type": "execute_result"
    }
   ],
   "source": [
    "data = {'date':['2015/03/13', '2016/05/23', '2018/10/03'], 'utc_time':['14:00', '12:30', '00:15'], 'lon':['38n32', '08n07', '14s42'], 'lat':['8w54', '18e14','36w04']}\n",
    "df = pd.DataFrame(data)\n",
    "df"
   ]
  },
  {
   "cell_type": "code",
   "execution_count": 9,
   "metadata": {},
   "outputs": [],
   "source": [
    "df['charts'] = AstrologicalPoints.charts_calculate(df, 'date', 'utc_time', 'lon', 'lat')"
   ]
  },
  {
   "cell_type": "code",
   "execution_count": 10,
   "metadata": {},
   "outputs": [
    {
     "data": {
      "text/plain": [
       "0    <flatlib.chart.Chart object at 0x7f9d520ef370>\n",
       "1    <flatlib.chart.Chart object at 0x7f9d520ef3d0>\n",
       "2    <flatlib.chart.Chart object at 0x7f9d520efaf0>\n",
       "Name: charts, dtype: object"
      ]
     },
     "execution_count": 10,
     "metadata": {},
     "output_type": "execute_result"
    }
   ],
   "source": [
    "df.charts"
   ]
  },
  {
   "cell_type": "code",
   "execution_count": 11,
   "metadata": {},
   "outputs": [
    {
     "data": {
      "text/plain": [
       "\"['ASC', 'DESC', 'MC', 'IC', 'PARS_FORTUNA']\""
      ]
     },
     "execution_count": 11,
     "metadata": {},
     "output_type": "execute_result"
    }
   ],
   "source": [
    "rulers_constants = AstrologicalConstants.rulers_constants\n",
    "str(rulers_constants)"
   ]
  },
  {
   "cell_type": "code",
   "execution_count": 12,
   "metadata": {},
   "outputs": [
    {
     "data": {
      "text/plain": [
       "\"['SUN', 'MOON', 'SATURN', 'URANUS', 'NEPTUNE', 'PLUTO', 'CHIRON', 'NORTH_NODE', 'SOUTH_NODE']\""
      ]
     },
     "execution_count": 12,
     "metadata": {},
     "output_type": "execute_result"
    }
   ],
   "source": [
    "necessary_constants = AstrologicalConstants.necessary_constants\n",
    "str(necessary_constants)"
   ]
  },
  {
   "cell_type": "code",
   "execution_count": 13,
   "metadata": {},
   "outputs": [],
   "source": [
    "for obj in rulers_constants + necessary_constants:\n",
    "    df[str.lower(obj)] = AstrologicalPoints.calculate_astro_objects(df.charts, obj)"
   ]
  },
  {
   "cell_type": "code",
   "execution_count": 14,
   "metadata": {},
   "outputs": [
    {
     "data": {
      "text/plain": [
       "['ruler_asc', 'ruler_desc', 'ruler_mc', 'ruler_ic', 'ruler_pars_fortuna']"
      ]
     },
     "execution_count": 14,
     "metadata": {},
     "output_type": "execute_result"
    }
   ],
   "source": [
    "rulers_col_names = AstrologicalPoints.rulers_col_names(rulers_constants)\n",
    "rulers_col_names"
   ]
  },
  {
   "cell_type": "code",
   "execution_count": 15,
   "metadata": {},
   "outputs": [],
   "source": [
    "for name, obj in zip(rulers_col_names, rulers_constants):\n",
    "    obj = str.lower(obj)\n",
    "    df[name] = AstrologicalPoints.ruler_of_object(df[obj])\n",
    "    df[name] = AstrologicalPoints.chart_object_attributes(df, 'charts', name)"
   ]
  },
  {
   "cell_type": "code",
   "execution_count": 16,
   "metadata": {},
   "outputs": [
    {
     "data": {
      "text/plain": [
       "\"['moon', 'pars_fortuna', 'uranus', 'neptune', 'pluto', 'chiron']\""
      ]
     },
     "execution_count": 16,
     "metadata": {},
     "output_type": "execute_result"
    }
   ],
   "source": [
    "antes_objects = AstrologicalConstants.antes_objects\n",
    "str(antes_objects)"
   ]
  },
  {
   "cell_type": "code",
   "execution_count": 17,
   "metadata": {},
   "outputs": [],
   "source": [
    "for obj in antes_objects:\n",
    "    antes_name = 'antes_' + obj\n",
    "    df[antes_name] = AstrologicalPoints.antes_objects(df, obj)"
   ]
  },
  {
   "cell_type": "code",
   "execution_count": 18,
   "metadata": {},
   "outputs": [
    {
     "data": {
      "text/html": [
       "<div>\n",
       "<style scoped>\n",
       "    .dataframe tbody tr th:only-of-type {\n",
       "        vertical-align: middle;\n",
       "    }\n",
       "\n",
       "    .dataframe tbody tr th {\n",
       "        vertical-align: top;\n",
       "    }\n",
       "\n",
       "    .dataframe thead th {\n",
       "        text-align: right;\n",
       "    }\n",
       "</style>\n",
       "<table border=\"1\" class=\"dataframe\">\n",
       "  <thead>\n",
       "    <tr style=\"text-align: right;\">\n",
       "      <th></th>\n",
       "      <th>date</th>\n",
       "      <th>utc_time</th>\n",
       "      <th>lon</th>\n",
       "      <th>lat</th>\n",
       "      <th>charts</th>\n",
       "      <th>asc</th>\n",
       "      <th>desc</th>\n",
       "      <th>mc</th>\n",
       "      <th>ic</th>\n",
       "      <th>pars_fortuna</th>\n",
       "      <th>sun</th>\n",
       "      <th>moon</th>\n",
       "      <th>saturn</th>\n",
       "      <th>uranus</th>\n",
       "      <th>neptune</th>\n",
       "      <th>pluto</th>\n",
       "      <th>chiron</th>\n",
       "      <th>north_node</th>\n",
       "      <th>south_node</th>\n",
       "      <th>ruler_asc</th>\n",
       "      <th>ruler_desc</th>\n",
       "      <th>ruler_mc</th>\n",
       "      <th>ruler_ic</th>\n",
       "      <th>ruler_pars_fortuna</th>\n",
       "      <th>antes_moon</th>\n",
       "      <th>antes_pars_fortuna</th>\n",
       "      <th>antes_uranus</th>\n",
       "      <th>antes_neptune</th>\n",
       "      <th>antes_pluto</th>\n",
       "      <th>antes_chiron</th>\n",
       "    </tr>\n",
       "  </thead>\n",
       "  <tbody>\n",
       "    <tr>\n",
       "      <th>0</th>\n",
       "      <td>2015/03/13</td>\n",
       "      <td>14:00</td>\n",
       "      <td>38n32</td>\n",
       "      <td>8w54</td>\n",
       "      <td>&lt;flatlib.chart.Chart object at 0x7f9d520ef370&gt;</td>\n",
       "      <td>&lt;Asc Cancer +27:24:38&gt;</td>\n",
       "      <td>&lt;Desc Capricorn +27:24:38&gt;</td>\n",
       "      <td>&lt;MC Aries +13:01:44&gt;</td>\n",
       "      <td>&lt;IC Libra +13:01:44&gt;</td>\n",
       "      <td>&lt;Pars Fortuna Aries +25:28:18&gt;</td>\n",
       "      <td>&lt;Sun Pisces +22:39:56 +00:59:52&gt;</td>\n",
       "      <td>&lt;Moon Sagittarius +20:43:35 +13:13:02&gt;</td>\n",
       "      <td>&lt;Saturn Sagittarius +04:55:45 +00:00:06&gt;</td>\n",
       "      <td>&lt;Uranus Aries +15:06:33 +00:03:14&gt;</td>\n",
       "      <td>&lt;Neptune Pisces +07:50:38 +00:02:13&gt;</td>\n",
       "      <td>&lt;Pluto Capricorn +15:14:35 +00:01:02&gt;</td>\n",
       "      <td>&lt;Chiron Pisces +17:36:15 +00:03:43&gt;</td>\n",
       "      <td>&lt;North Node Libra +11:08:52 -00:03:11&gt;</td>\n",
       "      <td>&lt;South Node Aries +11:08:52 -00:03:11&gt;</td>\n",
       "      <td>&lt;Moon Sagittarius +20:43:35 +13:13:02&gt;</td>\n",
       "      <td>&lt;Saturn Sagittarius +04:55:45 +00:00:06&gt;</td>\n",
       "      <td>&lt;Mars Aries +16:27:08 +00:45:19&gt;</td>\n",
       "      <td>&lt;Venus Aries +25:21:06 +01:12:41&gt;</td>\n",
       "      <td>&lt;Mars Aries +16:27:08 +00:45:19&gt;</td>\n",
       "      <td>&lt;Moon Capricorn +09:16:25 +13:13:02&gt;</td>\n",
       "      <td>&lt;Pars Fortuna Virgo +04:31:42&gt;</td>\n",
       "      <td>&lt;Uranus Virgo +14:53:27 +00:03:14&gt;</td>\n",
       "      <td>&lt;Neptune Libra +22:09:22 +00:02:13&gt;</td>\n",
       "      <td>&lt;Pluto Sagittarius +14:45:25 +00:01:02&gt;</td>\n",
       "      <td>&lt;Chiron Libra +12:23:45 +00:03:43&gt;</td>\n",
       "    </tr>\n",
       "    <tr>\n",
       "      <th>1</th>\n",
       "      <td>2016/05/23</td>\n",
       "      <td>12:30</td>\n",
       "      <td>08n07</td>\n",
       "      <td>18e14</td>\n",
       "      <td>&lt;flatlib.chart.Chart object at 0x7f9d520ef3d0&gt;</td>\n",
       "      <td>&lt;Asc Virgo +27:12:45&gt;</td>\n",
       "      <td>&lt;Desc Pisces +27:12:45&gt;</td>\n",
       "      <td>&lt;MC Gemini +27:30:28&gt;</td>\n",
       "      <td>&lt;IC Sagittarius +27:30:28&gt;</td>\n",
       "      <td>&lt;Pars Fortuna Aries +15:36:29&gt;</td>\n",
       "      <td>&lt;Sun Gemini +02:47:58 +00:57:39&gt;</td>\n",
       "      <td>&lt;Moon Sagittarius +21:11:41 +12:19:41&gt;</td>\n",
       "      <td>&lt;Saturn Sagittarius +13:54:21 -00:04:19&gt;</td>\n",
       "      <td>&lt;Uranus Aries +22:47:40 +00:02:49&gt;</td>\n",
       "      <td>&lt;Neptune Pisces +11:54:55 +00:00:42&gt;</td>\n",
       "      <td>&lt;Pluto Capricorn +17:11:35 -00:00:57&gt;</td>\n",
       "      <td>&lt;Chiron Pisces +24:43:00 +00:01:47&gt;</td>\n",
       "      <td>&lt;North Node Virgo +18:00:29 -00:03:11&gt;</td>\n",
       "      <td>&lt;South Node Pisces +18:00:29 -00:03:11&gt;</td>\n",
       "      <td>&lt;Mercury Taurus +14:22:23 +00:04:22&gt;</td>\n",
       "      <td>&lt;Jupiter Virgo +13:33:03 +00:02:30&gt;</td>\n",
       "      <td>&lt;Mercury Taurus +14:22:23 +00:04:22&gt;</td>\n",
       "      <td>&lt;Jupiter Virgo +13:33:03 +00:02:30&gt;</td>\n",
       "      <td>&lt;Mars Sagittarius +01:25:22 -00:21:00&gt;</td>\n",
       "      <td>&lt;Moon Capricorn +08:48:19 +12:19:41&gt;</td>\n",
       "      <td>&lt;Pars Fortuna Virgo +14:23:31&gt;</td>\n",
       "      <td>&lt;Uranus Virgo +07:12:20 +00:02:49&gt;</td>\n",
       "      <td>&lt;Neptune Libra +18:05:05 +00:00:42&gt;</td>\n",
       "      <td>&lt;Pluto Sagittarius +12:48:25 -00:00:57&gt;</td>\n",
       "      <td>&lt;Chiron Libra +05:17:00 +00:01:47&gt;</td>\n",
       "    </tr>\n",
       "    <tr>\n",
       "      <th>2</th>\n",
       "      <td>2018/10/03</td>\n",
       "      <td>00:15</td>\n",
       "      <td>14s42</td>\n",
       "      <td>36w04</td>\n",
       "      <td>&lt;flatlib.chart.Chart object at 0x7f9d520efaf0&gt;</td>\n",
       "      <td>&lt;Asc Gemini +05:25:08&gt;</td>\n",
       "      <td>&lt;Desc Sagittarius +05:25:08&gt;</td>\n",
       "      <td>&lt;MC Pisces +07:39:39&gt;</td>\n",
       "      <td>&lt;IC Virgo +07:39:39&gt;</td>\n",
       "      <td>&lt;Pars Fortuna Pisces +13:18:26&gt;</td>\n",
       "      <td>&lt;Sun Libra +09:44:33 +00:59:03&gt;</td>\n",
       "      <td>&lt;Moon Cancer +17:37:52 +14:05:52&gt;</td>\n",
       "      <td>&lt;Saturn Capricorn +03:06:46 +00:02:33&gt;</td>\n",
       "      <td>&lt;Uranus Taurus +01:23:25 -00:02:14&gt;</td>\n",
       "      <td>&lt;Neptune Pisces +14:24:42 -00:01:27&gt;</td>\n",
       "      <td>&lt;Pluto Capricorn +18:45:26 +00:00:03&gt;</td>\n",
       "      <td>&lt;Chiron Pisces +29:41:06 -00:02:40&gt;</td>\n",
       "      <td>&lt;North Node Leo +02:19:59 -00:03:11&gt;</td>\n",
       "      <td>&lt;South Node Aquarius +02:19:59 -00:03:11&gt;</td>\n",
       "      <td>&lt;Mercury Libra +18:46:13 +01:38:51&gt;</td>\n",
       "      <td>&lt;Jupiter Scorpio +22:27:07 +00:11:21&gt;</td>\n",
       "      <td>&lt;Jupiter Scorpio +22:27:07 +00:11:21&gt;</td>\n",
       "      <td>&lt;Mercury Libra +18:46:13 +01:38:51&gt;</td>\n",
       "      <td>&lt;Jupiter Scorpio +22:27:07 +00:11:21&gt;</td>\n",
       "      <td>&lt;Moon Gemini +12:22:08 +14:05:52&gt;</td>\n",
       "      <td>&lt;Pars Fortuna Libra +16:41:34&gt;</td>\n",
       "      <td>&lt;Uranus Leo +28:36:35 -00:02:14&gt;</td>\n",
       "      <td>&lt;Neptune Libra +15:35:18 -00:01:27&gt;</td>\n",
       "      <td>&lt;Pluto Sagittarius +11:14:34 +00:00:03&gt;</td>\n",
       "      <td>&lt;Chiron Libra +00:18:54 -00:02:40&gt;</td>\n",
       "    </tr>\n",
       "  </tbody>\n",
       "</table>\n",
       "</div>"
      ],
      "text/plain": [
       "         date utc_time    lon    lat  \\\n",
       "0  2015/03/13    14:00  38n32   8w54   \n",
       "1  2016/05/23    12:30  08n07  18e14   \n",
       "2  2018/10/03    00:15  14s42  36w04   \n",
       "\n",
       "                                           charts                     asc  \\\n",
       "0  <flatlib.chart.Chart object at 0x7f9d520ef370>  <Asc Cancer +27:24:38>   \n",
       "1  <flatlib.chart.Chart object at 0x7f9d520ef3d0>   <Asc Virgo +27:12:45>   \n",
       "2  <flatlib.chart.Chart object at 0x7f9d520efaf0>  <Asc Gemini +05:25:08>   \n",
       "\n",
       "                           desc                     mc  \\\n",
       "0    <Desc Capricorn +27:24:38>   <MC Aries +13:01:44>   \n",
       "1       <Desc Pisces +27:12:45>  <MC Gemini +27:30:28>   \n",
       "2  <Desc Sagittarius +05:25:08>  <MC Pisces +07:39:39>   \n",
       "\n",
       "                           ic                     pars_fortuna  \\\n",
       "0        <IC Libra +13:01:44>   <Pars Fortuna Aries +25:28:18>   \n",
       "1  <IC Sagittarius +27:30:28>   <Pars Fortuna Aries +15:36:29>   \n",
       "2        <IC Virgo +07:39:39>  <Pars Fortuna Pisces +13:18:26>   \n",
       "\n",
       "                                sun                                    moon  \\\n",
       "0  <Sun Pisces +22:39:56 +00:59:52>  <Moon Sagittarius +20:43:35 +13:13:02>   \n",
       "1  <Sun Gemini +02:47:58 +00:57:39>  <Moon Sagittarius +21:11:41 +12:19:41>   \n",
       "2   <Sun Libra +09:44:33 +00:59:03>       <Moon Cancer +17:37:52 +14:05:52>   \n",
       "\n",
       "                                     saturn  \\\n",
       "0  <Saturn Sagittarius +04:55:45 +00:00:06>   \n",
       "1  <Saturn Sagittarius +13:54:21 -00:04:19>   \n",
       "2    <Saturn Capricorn +03:06:46 +00:02:33>   \n",
       "\n",
       "                                uranus                               neptune  \\\n",
       "0   <Uranus Aries +15:06:33 +00:03:14>  <Neptune Pisces +07:50:38 +00:02:13>   \n",
       "1   <Uranus Aries +22:47:40 +00:02:49>  <Neptune Pisces +11:54:55 +00:00:42>   \n",
       "2  <Uranus Taurus +01:23:25 -00:02:14>  <Neptune Pisces +14:24:42 -00:01:27>   \n",
       "\n",
       "                                   pluto                               chiron  \\\n",
       "0  <Pluto Capricorn +15:14:35 +00:01:02>  <Chiron Pisces +17:36:15 +00:03:43>   \n",
       "1  <Pluto Capricorn +17:11:35 -00:00:57>  <Chiron Pisces +24:43:00 +00:01:47>   \n",
       "2  <Pluto Capricorn +18:45:26 +00:00:03>  <Chiron Pisces +29:41:06 -00:02:40>   \n",
       "\n",
       "                               north_node  \\\n",
       "0  <North Node Libra +11:08:52 -00:03:11>   \n",
       "1  <North Node Virgo +18:00:29 -00:03:11>   \n",
       "2    <North Node Leo +02:19:59 -00:03:11>   \n",
       "\n",
       "                                  south_node  \\\n",
       "0     <South Node Aries +11:08:52 -00:03:11>   \n",
       "1    <South Node Pisces +18:00:29 -00:03:11>   \n",
       "2  <South Node Aquarius +02:19:59 -00:03:11>   \n",
       "\n",
       "                                ruler_asc  \\\n",
       "0  <Moon Sagittarius +20:43:35 +13:13:02>   \n",
       "1    <Mercury Taurus +14:22:23 +00:04:22>   \n",
       "2     <Mercury Libra +18:46:13 +01:38:51>   \n",
       "\n",
       "                                 ruler_desc  \\\n",
       "0  <Saturn Sagittarius +04:55:45 +00:00:06>   \n",
       "1       <Jupiter Virgo +13:33:03 +00:02:30>   \n",
       "2     <Jupiter Scorpio +22:27:07 +00:11:21>   \n",
       "\n",
       "                                ruler_mc                             ruler_ic  \\\n",
       "0       <Mars Aries +16:27:08 +00:45:19>    <Venus Aries +25:21:06 +01:12:41>   \n",
       "1   <Mercury Taurus +14:22:23 +00:04:22>  <Jupiter Virgo +13:33:03 +00:02:30>   \n",
       "2  <Jupiter Scorpio +22:27:07 +00:11:21>  <Mercury Libra +18:46:13 +01:38:51>   \n",
       "\n",
       "                       ruler_pars_fortuna  \\\n",
       "0        <Mars Aries +16:27:08 +00:45:19>   \n",
       "1  <Mars Sagittarius +01:25:22 -00:21:00>   \n",
       "2   <Jupiter Scorpio +22:27:07 +00:11:21>   \n",
       "\n",
       "                             antes_moon              antes_pars_fortuna  \\\n",
       "0  <Moon Capricorn +09:16:25 +13:13:02>  <Pars Fortuna Virgo +04:31:42>   \n",
       "1  <Moon Capricorn +08:48:19 +12:19:41>  <Pars Fortuna Virgo +14:23:31>   \n",
       "2     <Moon Gemini +12:22:08 +14:05:52>  <Pars Fortuna Libra +16:41:34>   \n",
       "\n",
       "                         antes_uranus                        antes_neptune  \\\n",
       "0  <Uranus Virgo +14:53:27 +00:03:14>  <Neptune Libra +22:09:22 +00:02:13>   \n",
       "1  <Uranus Virgo +07:12:20 +00:02:49>  <Neptune Libra +18:05:05 +00:00:42>   \n",
       "2    <Uranus Leo +28:36:35 -00:02:14>  <Neptune Libra +15:35:18 -00:01:27>   \n",
       "\n",
       "                               antes_pluto                        antes_chiron  \n",
       "0  <Pluto Sagittarius +14:45:25 +00:01:02>  <Chiron Libra +12:23:45 +00:03:43>  \n",
       "1  <Pluto Sagittarius +12:48:25 -00:00:57>  <Chiron Libra +05:17:00 +00:01:47>  \n",
       "2  <Pluto Sagittarius +11:14:34 +00:00:03>  <Chiron Libra +00:18:54 -00:02:40>  "
      ]
     },
     "execution_count": 18,
     "metadata": {},
     "output_type": "execute_result"
    }
   ],
   "source": [
    "df"
   ]
  },
  {
   "cell_type": "code",
   "execution_count": 71,
   "metadata": {},
   "outputs": [],
   "source": [
    "# # Rulies for ASC\n",
    "# df.ruler_asc = np.where(df.ruler_asc == df.moon, None, df.ruler_asc)\n",
    "# # Rulies for DESC\n",
    "# df.ruler_desc = np.where(df.ruler_desc == df.moon, None, df.ruler_desc)\n",
    "\n",
    "# # Rulies for MC\n",
    "# df.ruler_mc = np.where((df.ruler_mc == df.ruler_asc) | (df.ruler_mc == df.ruler_desc) | (df.ruler_mc == df.moon), None, df.ruler_mc)\n",
    "# # Rulies for IC\n",
    "# df.ruler_ic = np.where((df.ruler_ic == df.ruler_desc) | (df.ruler_ic == df.ruler_asc) | (df.ruler_ic == df.moon), None, df.ruler_ic)\n",
    "\n",
    "# # Rulies for PARS FORTUNA\n",
    "# df.ruler_pars_fortuna = np.where(df.ruler_pars_fortuna == df.moon, None, df.ruler_pars_fortuna)"
   ]
  },
  {
   "cell_type": "code",
   "execution_count": 15,
   "metadata": {},
   "outputs": [],
   "source": [
    "antes_objects = []\n",
    "\n",
    "for col in df.columns:\n",
    "    if col.startswith('antes'):\n",
    "        AstrologicalPoints.rename_antes_objects(df, col)\n",
    "        antes_objects.append(col)      "
   ]
  },
  {
   "cell_type": "code",
   "execution_count": 16,
   "metadata": {},
   "outputs": [
    {
     "data": {
      "text/html": [
       "<div>\n",
       "<style scoped>\n",
       "    .dataframe tbody tr th:only-of-type {\n",
       "        vertical-align: middle;\n",
       "    }\n",
       "\n",
       "    .dataframe tbody tr th {\n",
       "        vertical-align: top;\n",
       "    }\n",
       "\n",
       "    .dataframe thead th {\n",
       "        text-align: right;\n",
       "    }\n",
       "</style>\n",
       "<table border=\"1\" class=\"dataframe\">\n",
       "  <thead>\n",
       "    <tr style=\"text-align: right;\">\n",
       "      <th></th>\n",
       "      <th>date</th>\n",
       "      <th>utc_time</th>\n",
       "      <th>lon</th>\n",
       "      <th>lat</th>\n",
       "      <th>charts</th>\n",
       "      <th>asc</th>\n",
       "      <th>desc</th>\n",
       "      <th>mc</th>\n",
       "      <th>ic</th>\n",
       "      <th>pars_fortuna</th>\n",
       "      <th>sun</th>\n",
       "      <th>moon</th>\n",
       "      <th>saturn</th>\n",
       "      <th>uranus</th>\n",
       "      <th>neptune</th>\n",
       "      <th>pluto</th>\n",
       "      <th>chiron</th>\n",
       "      <th>north_node</th>\n",
       "      <th>south_node</th>\n",
       "      <th>ruler_asc</th>\n",
       "      <th>ruler_desc</th>\n",
       "      <th>ruler_mc</th>\n",
       "      <th>ruler_ic</th>\n",
       "      <th>ruler_pars_fortuna</th>\n",
       "      <th>antes_moon</th>\n",
       "      <th>antes_pars_fortuna</th>\n",
       "      <th>antes_uranus</th>\n",
       "      <th>antes_neptune</th>\n",
       "      <th>antes_pluto</th>\n",
       "      <th>antes_chiron</th>\n",
       "    </tr>\n",
       "  </thead>\n",
       "  <tbody>\n",
       "    <tr>\n",
       "      <th>0</th>\n",
       "      <td>2015/03/13</td>\n",
       "      <td>14:00</td>\n",
       "      <td>38n32</td>\n",
       "      <td>8w54</td>\n",
       "      <td>&lt;flatlib.chart.Chart object at 0x7fab6bf3f400&gt;</td>\n",
       "      <td>&lt;Asc Cancer +27:24:38&gt;</td>\n",
       "      <td>&lt;Desc Capricorn +27:24:38&gt;</td>\n",
       "      <td>&lt;MC Aries +13:01:44&gt;</td>\n",
       "      <td>&lt;IC Libra +13:01:44&gt;</td>\n",
       "      <td>&lt;Pars Fortuna Aries +25:28:18&gt;</td>\n",
       "      <td>&lt;Sun Pisces +22:39:56 +00:59:52&gt;</td>\n",
       "      <td>&lt;Moon Sagittarius +20:43:35 +13:13:02&gt;</td>\n",
       "      <td>&lt;Saturn Sagittarius +04:55:45 +00:00:06&gt;</td>\n",
       "      <td>&lt;Uranus Aries +15:06:33 +00:03:14&gt;</td>\n",
       "      <td>&lt;Neptune Pisces +07:50:38 +00:02:13&gt;</td>\n",
       "      <td>&lt;Pluto Capricorn +15:14:35 +00:01:02&gt;</td>\n",
       "      <td>&lt;Chiron Pisces +17:36:15 +00:03:43&gt;</td>\n",
       "      <td>&lt;North Node Libra +11:08:52 -00:03:11&gt;</td>\n",
       "      <td>&lt;South Node Aries +11:08:52 -00:03:11&gt;</td>\n",
       "      <td>&lt;Moon Sagittarius +20:43:35 +13:13:02&gt;</td>\n",
       "      <td>&lt;Saturn Sagittarius +04:55:45 +00:00:06&gt;</td>\n",
       "      <td>&lt;Mars Aries +16:27:08 +00:45:19&gt;</td>\n",
       "      <td>&lt;Venus Aries +25:21:06 +01:12:41&gt;</td>\n",
       "      <td>&lt;Mars Aries +16:27:08 +00:45:19&gt;</td>\n",
       "      <td>&lt;Antes Moon Capricorn +09:16:25 +13:13:02&gt;</td>\n",
       "      <td>&lt;Antes Pars Fortuna Virgo +04:31:42&gt;</td>\n",
       "      <td>&lt;Antes Uranus Virgo +14:53:27 +00:03:14&gt;</td>\n",
       "      <td>&lt;Antes Neptune Libra +22:09:22 +00:02:13&gt;</td>\n",
       "      <td>&lt;Antes Pluto Sagittarius +14:45:25 +00:01:02&gt;</td>\n",
       "      <td>&lt;Antes Chiron Libra +12:23:45 +00:03:43&gt;</td>\n",
       "    </tr>\n",
       "    <tr>\n",
       "      <th>1</th>\n",
       "      <td>2016/05/23</td>\n",
       "      <td>12:30</td>\n",
       "      <td>08n07</td>\n",
       "      <td>18e14</td>\n",
       "      <td>&lt;flatlib.chart.Chart object at 0x7fab6bf3f430&gt;</td>\n",
       "      <td>&lt;Asc Virgo +27:12:45&gt;</td>\n",
       "      <td>&lt;Desc Pisces +27:12:45&gt;</td>\n",
       "      <td>&lt;MC Gemini +27:30:28&gt;</td>\n",
       "      <td>&lt;IC Sagittarius +27:30:28&gt;</td>\n",
       "      <td>&lt;Pars Fortuna Aries +15:36:29&gt;</td>\n",
       "      <td>&lt;Sun Gemini +02:47:58 +00:57:39&gt;</td>\n",
       "      <td>&lt;Moon Sagittarius +21:11:41 +12:19:41&gt;</td>\n",
       "      <td>&lt;Saturn Sagittarius +13:54:21 -00:04:19&gt;</td>\n",
       "      <td>&lt;Uranus Aries +22:47:40 +00:02:49&gt;</td>\n",
       "      <td>&lt;Neptune Pisces +11:54:55 +00:00:42&gt;</td>\n",
       "      <td>&lt;Pluto Capricorn +17:11:35 -00:00:57&gt;</td>\n",
       "      <td>&lt;Chiron Pisces +24:43:00 +00:01:47&gt;</td>\n",
       "      <td>&lt;North Node Virgo +18:00:29 -00:03:11&gt;</td>\n",
       "      <td>&lt;South Node Pisces +18:00:29 -00:03:11&gt;</td>\n",
       "      <td>&lt;Mercury Taurus +14:22:23 +00:04:22&gt;</td>\n",
       "      <td>&lt;Jupiter Virgo +13:33:03 +00:02:30&gt;</td>\n",
       "      <td>&lt;Mercury Taurus +14:22:23 +00:04:22&gt;</td>\n",
       "      <td>&lt;Jupiter Virgo +13:33:03 +00:02:30&gt;</td>\n",
       "      <td>&lt;Mars Sagittarius +01:25:22 -00:21:00&gt;</td>\n",
       "      <td>&lt;Antes Moon Capricorn +08:48:19 +12:19:41&gt;</td>\n",
       "      <td>&lt;Antes Pars Fortuna Virgo +14:23:31&gt;</td>\n",
       "      <td>&lt;Antes Uranus Virgo +07:12:20 +00:02:49&gt;</td>\n",
       "      <td>&lt;Antes Neptune Libra +18:05:05 +00:00:42&gt;</td>\n",
       "      <td>&lt;Antes Pluto Sagittarius +12:48:25 -00:00:57&gt;</td>\n",
       "      <td>&lt;Antes Chiron Libra +05:17:00 +00:01:47&gt;</td>\n",
       "    </tr>\n",
       "    <tr>\n",
       "      <th>2</th>\n",
       "      <td>2018/10/03</td>\n",
       "      <td>00:15</td>\n",
       "      <td>14s42</td>\n",
       "      <td>36w04</td>\n",
       "      <td>&lt;flatlib.chart.Chart object at 0x7fab6bed12b0&gt;</td>\n",
       "      <td>&lt;Asc Gemini +05:25:08&gt;</td>\n",
       "      <td>&lt;Desc Sagittarius +05:25:08&gt;</td>\n",
       "      <td>&lt;MC Pisces +07:39:39&gt;</td>\n",
       "      <td>&lt;IC Virgo +07:39:39&gt;</td>\n",
       "      <td>&lt;Pars Fortuna Pisces +13:18:26&gt;</td>\n",
       "      <td>&lt;Sun Libra +09:44:33 +00:59:03&gt;</td>\n",
       "      <td>&lt;Moon Cancer +17:37:52 +14:05:52&gt;</td>\n",
       "      <td>&lt;Saturn Capricorn +03:06:46 +00:02:33&gt;</td>\n",
       "      <td>&lt;Uranus Taurus +01:23:25 -00:02:14&gt;</td>\n",
       "      <td>&lt;Neptune Pisces +14:24:42 -00:01:27&gt;</td>\n",
       "      <td>&lt;Pluto Capricorn +18:45:26 +00:00:03&gt;</td>\n",
       "      <td>&lt;Chiron Pisces +29:41:06 -00:02:40&gt;</td>\n",
       "      <td>&lt;North Node Leo +02:19:59 -00:03:11&gt;</td>\n",
       "      <td>&lt;South Node Aquarius +02:19:59 -00:03:11&gt;</td>\n",
       "      <td>&lt;Mercury Libra +18:46:13 +01:38:51&gt;</td>\n",
       "      <td>&lt;Jupiter Scorpio +22:27:07 +00:11:21&gt;</td>\n",
       "      <td>&lt;Jupiter Scorpio +22:27:07 +00:11:21&gt;</td>\n",
       "      <td>&lt;Mercury Libra +18:46:13 +01:38:51&gt;</td>\n",
       "      <td>&lt;Jupiter Scorpio +22:27:07 +00:11:21&gt;</td>\n",
       "      <td>&lt;Antes Moon Gemini +12:22:08 +14:05:52&gt;</td>\n",
       "      <td>&lt;Antes Pars Fortuna Libra +16:41:34&gt;</td>\n",
       "      <td>&lt;Antes Uranus Leo +28:36:35 -00:02:14&gt;</td>\n",
       "      <td>&lt;Antes Neptune Libra +15:35:18 -00:01:27&gt;</td>\n",
       "      <td>&lt;Antes Pluto Sagittarius +11:14:34 +00:00:03&gt;</td>\n",
       "      <td>&lt;Antes Chiron Libra +00:18:54 -00:02:40&gt;</td>\n",
       "    </tr>\n",
       "  </tbody>\n",
       "</table>\n",
       "</div>"
      ],
      "text/plain": [
       "         date utc_time    lon    lat  \\\n",
       "0  2015/03/13    14:00  38n32   8w54   \n",
       "1  2016/05/23    12:30  08n07  18e14   \n",
       "2  2018/10/03    00:15  14s42  36w04   \n",
       "\n",
       "                                           charts                     asc  \\\n",
       "0  <flatlib.chart.Chart object at 0x7fab6bf3f400>  <Asc Cancer +27:24:38>   \n",
       "1  <flatlib.chart.Chart object at 0x7fab6bf3f430>   <Asc Virgo +27:12:45>   \n",
       "2  <flatlib.chart.Chart object at 0x7fab6bed12b0>  <Asc Gemini +05:25:08>   \n",
       "\n",
       "                           desc                     mc  \\\n",
       "0    <Desc Capricorn +27:24:38>   <MC Aries +13:01:44>   \n",
       "1       <Desc Pisces +27:12:45>  <MC Gemini +27:30:28>   \n",
       "2  <Desc Sagittarius +05:25:08>  <MC Pisces +07:39:39>   \n",
       "\n",
       "                           ic                     pars_fortuna  \\\n",
       "0        <IC Libra +13:01:44>   <Pars Fortuna Aries +25:28:18>   \n",
       "1  <IC Sagittarius +27:30:28>   <Pars Fortuna Aries +15:36:29>   \n",
       "2        <IC Virgo +07:39:39>  <Pars Fortuna Pisces +13:18:26>   \n",
       "\n",
       "                                sun                                    moon  \\\n",
       "0  <Sun Pisces +22:39:56 +00:59:52>  <Moon Sagittarius +20:43:35 +13:13:02>   \n",
       "1  <Sun Gemini +02:47:58 +00:57:39>  <Moon Sagittarius +21:11:41 +12:19:41>   \n",
       "2   <Sun Libra +09:44:33 +00:59:03>       <Moon Cancer +17:37:52 +14:05:52>   \n",
       "\n",
       "                                     saturn  \\\n",
       "0  <Saturn Sagittarius +04:55:45 +00:00:06>   \n",
       "1  <Saturn Sagittarius +13:54:21 -00:04:19>   \n",
       "2    <Saturn Capricorn +03:06:46 +00:02:33>   \n",
       "\n",
       "                                uranus                               neptune  \\\n",
       "0   <Uranus Aries +15:06:33 +00:03:14>  <Neptune Pisces +07:50:38 +00:02:13>   \n",
       "1   <Uranus Aries +22:47:40 +00:02:49>  <Neptune Pisces +11:54:55 +00:00:42>   \n",
       "2  <Uranus Taurus +01:23:25 -00:02:14>  <Neptune Pisces +14:24:42 -00:01:27>   \n",
       "\n",
       "                                   pluto                               chiron  \\\n",
       "0  <Pluto Capricorn +15:14:35 +00:01:02>  <Chiron Pisces +17:36:15 +00:03:43>   \n",
       "1  <Pluto Capricorn +17:11:35 -00:00:57>  <Chiron Pisces +24:43:00 +00:01:47>   \n",
       "2  <Pluto Capricorn +18:45:26 +00:00:03>  <Chiron Pisces +29:41:06 -00:02:40>   \n",
       "\n",
       "                               north_node  \\\n",
       "0  <North Node Libra +11:08:52 -00:03:11>   \n",
       "1  <North Node Virgo +18:00:29 -00:03:11>   \n",
       "2    <North Node Leo +02:19:59 -00:03:11>   \n",
       "\n",
       "                                  south_node  \\\n",
       "0     <South Node Aries +11:08:52 -00:03:11>   \n",
       "1    <South Node Pisces +18:00:29 -00:03:11>   \n",
       "2  <South Node Aquarius +02:19:59 -00:03:11>   \n",
       "\n",
       "                                ruler_asc  \\\n",
       "0  <Moon Sagittarius +20:43:35 +13:13:02>   \n",
       "1    <Mercury Taurus +14:22:23 +00:04:22>   \n",
       "2     <Mercury Libra +18:46:13 +01:38:51>   \n",
       "\n",
       "                                 ruler_desc  \\\n",
       "0  <Saturn Sagittarius +04:55:45 +00:00:06>   \n",
       "1       <Jupiter Virgo +13:33:03 +00:02:30>   \n",
       "2     <Jupiter Scorpio +22:27:07 +00:11:21>   \n",
       "\n",
       "                                ruler_mc                             ruler_ic  \\\n",
       "0       <Mars Aries +16:27:08 +00:45:19>    <Venus Aries +25:21:06 +01:12:41>   \n",
       "1   <Mercury Taurus +14:22:23 +00:04:22>  <Jupiter Virgo +13:33:03 +00:02:30>   \n",
       "2  <Jupiter Scorpio +22:27:07 +00:11:21>  <Mercury Libra +18:46:13 +01:38:51>   \n",
       "\n",
       "                       ruler_pars_fortuna  \\\n",
       "0        <Mars Aries +16:27:08 +00:45:19>   \n",
       "1  <Mars Sagittarius +01:25:22 -00:21:00>   \n",
       "2   <Jupiter Scorpio +22:27:07 +00:11:21>   \n",
       "\n",
       "                                   antes_moon  \\\n",
       "0  <Antes Moon Capricorn +09:16:25 +13:13:02>   \n",
       "1  <Antes Moon Capricorn +08:48:19 +12:19:41>   \n",
       "2     <Antes Moon Gemini +12:22:08 +14:05:52>   \n",
       "\n",
       "                     antes_pars_fortuna  \\\n",
       "0  <Antes Pars Fortuna Virgo +04:31:42>   \n",
       "1  <Antes Pars Fortuna Virgo +14:23:31>   \n",
       "2  <Antes Pars Fortuna Libra +16:41:34>   \n",
       "\n",
       "                               antes_uranus  \\\n",
       "0  <Antes Uranus Virgo +14:53:27 +00:03:14>   \n",
       "1  <Antes Uranus Virgo +07:12:20 +00:02:49>   \n",
       "2    <Antes Uranus Leo +28:36:35 -00:02:14>   \n",
       "\n",
       "                               antes_neptune  \\\n",
       "0  <Antes Neptune Libra +22:09:22 +00:02:13>   \n",
       "1  <Antes Neptune Libra +18:05:05 +00:00:42>   \n",
       "2  <Antes Neptune Libra +15:35:18 -00:01:27>   \n",
       "\n",
       "                                     antes_pluto  \\\n",
       "0  <Antes Pluto Sagittarius +14:45:25 +00:01:02>   \n",
       "1  <Antes Pluto Sagittarius +12:48:25 -00:00:57>   \n",
       "2  <Antes Pluto Sagittarius +11:14:34 +00:00:03>   \n",
       "\n",
       "                               antes_chiron  \n",
       "0  <Antes Chiron Libra +12:23:45 +00:03:43>  \n",
       "1  <Antes Chiron Libra +05:17:00 +00:01:47>  \n",
       "2  <Antes Chiron Libra +00:18:54 -00:02:40>  "
      ]
     },
     "execution_count": 16,
     "metadata": {},
     "output_type": "execute_result"
    }
   ],
   "source": [
    "df"
   ]
  },
  {
   "cell_type": "code",
   "execution_count": 17,
   "metadata": {},
   "outputs": [
    {
     "data": {
      "text/plain": [
       "['asc', 'desc', 'mc', 'ic']"
      ]
     },
     "execution_count": 17,
     "metadata": {},
     "output_type": "execute_result"
    }
   ],
   "source": [
    "houses_objects = AstrologicalConstants.houses_objects\n",
    "houses_objects"
   ]
  },
  {
   "cell_type": "code",
   "execution_count": 18,
   "metadata": {},
   "outputs": [
    {
     "data": {
      "text/plain": [
       "\"['moon', 'ruler_asc', 'ruler_desc', 'pars_fortuna', 'ruler_pars_fortuna', 'ruler_mc', 'ruler_ic', 'sun', 'saturn', 'uranus', 'neptune', 'pluto', 'chiron', 'north_node', 'south_node']\""
      ]
     },
     "execution_count": 18,
     "metadata": {},
     "output_type": "execute_result"
    }
   ],
   "source": [
    "main_objects = AstrologicalConstants.main_objects\n",
    "str(main_objects)"
   ]
  },
  {
   "cell_type": "code",
   "execution_count": 19,
   "metadata": {},
   "outputs": [
    {
     "data": {
      "text/plain": [
       "\"['antes_moon', 'antes_pars_fortuna', 'antes_uranus', 'antes_neptune', 'antes_pluto', 'antes_chiron']\""
      ]
     },
     "execution_count": 19,
     "metadata": {},
     "output_type": "execute_result"
    }
   ],
   "source": [
    "str(antes_objects)"
   ]
  },
  {
   "cell_type": "code",
   "execution_count": 20,
   "metadata": {},
   "outputs": [
    {
     "data": {
      "text/plain": [
       "\"['asc', 'desc', 'mc', 'ic', 'moon', 'ruler_asc', 'ruler_desc', 'pars_fortuna', 'ruler_pars_fortuna', 'ruler_mc', 'ruler_ic', 'sun', 'saturn', 'uranus', 'neptune', 'pluto', 'chiron', 'north_node', 'south_node', 'antes_moon', 'antes_pars_fortuna', 'antes_uranus', 'antes_neptune', 'antes_pluto', 'antes_chiron']\""
      ]
     },
     "execution_count": 20,
     "metadata": {},
     "output_type": "execute_result"
    }
   ],
   "source": [
    "cols_for_id = houses_objects + main_objects + antes_objects\n",
    "str(cols_for_id)"
   ]
  },
  {
   "cell_type": "code",
   "execution_count": 21,
   "metadata": {},
   "outputs": [],
   "source": [
    "df = AstrologicalPoints.id_for_aspekts(df, cols_for_id)"
   ]
  },
  {
   "cell_type": "code",
   "execution_count": 22,
   "metadata": {},
   "outputs": [
    {
     "data": {
      "text/html": [
       "<div>\n",
       "<style scoped>\n",
       "    .dataframe tbody tr th:only-of-type {\n",
       "        vertical-align: middle;\n",
       "    }\n",
       "\n",
       "    .dataframe tbody tr th {\n",
       "        vertical-align: top;\n",
       "    }\n",
       "\n",
       "    .dataframe thead th {\n",
       "        text-align: right;\n",
       "    }\n",
       "</style>\n",
       "<table border=\"1\" class=\"dataframe\">\n",
       "  <thead>\n",
       "    <tr style=\"text-align: right;\">\n",
       "      <th></th>\n",
       "      <th>date</th>\n",
       "      <th>utc_time</th>\n",
       "      <th>lon</th>\n",
       "      <th>lat</th>\n",
       "      <th>charts</th>\n",
       "      <th>asc</th>\n",
       "      <th>desc</th>\n",
       "      <th>mc</th>\n",
       "      <th>ic</th>\n",
       "      <th>pars_fortuna</th>\n",
       "      <th>sun</th>\n",
       "      <th>moon</th>\n",
       "      <th>saturn</th>\n",
       "      <th>uranus</th>\n",
       "      <th>neptune</th>\n",
       "      <th>pluto</th>\n",
       "      <th>chiron</th>\n",
       "      <th>north_node</th>\n",
       "      <th>south_node</th>\n",
       "      <th>ruler_asc</th>\n",
       "      <th>ruler_desc</th>\n",
       "      <th>ruler_mc</th>\n",
       "      <th>ruler_ic</th>\n",
       "      <th>ruler_pars_fortuna</th>\n",
       "      <th>antes_moon</th>\n",
       "      <th>antes_pars_fortuna</th>\n",
       "      <th>antes_uranus</th>\n",
       "      <th>antes_neptune</th>\n",
       "      <th>antes_pluto</th>\n",
       "      <th>antes_chiron</th>\n",
       "      <th>id_for_aspects</th>\n",
       "    </tr>\n",
       "  </thead>\n",
       "  <tbody>\n",
       "    <tr>\n",
       "      <th>0</th>\n",
       "      <td>2015/03/13</td>\n",
       "      <td>14:00</td>\n",
       "      <td>38n32</td>\n",
       "      <td>8w54</td>\n",
       "      <td>&lt;flatlib.chart.Chart object at 0x7fab6bf3f400&gt;</td>\n",
       "      <td>&lt;Asc Cancer +27:24:38&gt;</td>\n",
       "      <td>&lt;Desc Capricorn +27:24:38&gt;</td>\n",
       "      <td>&lt;MC Aries +13:01:44&gt;</td>\n",
       "      <td>&lt;IC Libra +13:01:44&gt;</td>\n",
       "      <td>&lt;Pars Fortuna Aries +25:28:18&gt;</td>\n",
       "      <td>&lt;Sun Pisces +22:39:56 +00:59:52&gt;</td>\n",
       "      <td>&lt;Moon Sagittarius +20:43:35 +13:13:02&gt;</td>\n",
       "      <td>&lt;Saturn Sagittarius +04:55:45 +00:00:06&gt;</td>\n",
       "      <td>&lt;Uranus Aries +15:06:33 +00:03:14&gt;</td>\n",
       "      <td>&lt;Neptune Pisces +07:50:38 +00:02:13&gt;</td>\n",
       "      <td>&lt;Pluto Capricorn +15:14:35 +00:01:02&gt;</td>\n",
       "      <td>&lt;Chiron Pisces +17:36:15 +00:03:43&gt;</td>\n",
       "      <td>&lt;North Node Libra +11:08:52 -00:03:11&gt;</td>\n",
       "      <td>&lt;South Node Aries +11:08:52 -00:03:11&gt;</td>\n",
       "      <td>&lt;Moon Sagittarius +20:43:35 +13:13:02&gt;</td>\n",
       "      <td>&lt;Saturn Sagittarius +04:55:45 +00:00:06&gt;</td>\n",
       "      <td>&lt;Mars Aries +16:27:08 +00:45:19&gt;</td>\n",
       "      <td>&lt;Venus Aries +25:21:06 +01:12:41&gt;</td>\n",
       "      <td>&lt;Mars Aries +16:27:08 +00:45:19&gt;</td>\n",
       "      <td>&lt;Antes Moon Capricorn +09:16:25 +13:13:02&gt;</td>\n",
       "      <td>&lt;Antes Pars Fortuna Virgo +04:31:42&gt;</td>\n",
       "      <td>&lt;Antes Uranus Virgo +14:53:27 +00:03:14&gt;</td>\n",
       "      <td>&lt;Antes Neptune Libra +22:09:22 +00:02:13&gt;</td>\n",
       "      <td>&lt;Antes Pluto Sagittarius +14:45:25 +00:01:02&gt;</td>\n",
       "      <td>&lt;Antes Chiron Libra +12:23:45 +00:03:43&gt;</td>\n",
       "      <td>[(asc, Asc), (desc, Desc), (mc, MC), (ic, IC), (moon, Moon), (ruler_asc, Moon), (ruler_desc, Sat...</td>\n",
       "    </tr>\n",
       "    <tr>\n",
       "      <th>1</th>\n",
       "      <td>2016/05/23</td>\n",
       "      <td>12:30</td>\n",
       "      <td>08n07</td>\n",
       "      <td>18e14</td>\n",
       "      <td>&lt;flatlib.chart.Chart object at 0x7fab6bf3f430&gt;</td>\n",
       "      <td>&lt;Asc Virgo +27:12:45&gt;</td>\n",
       "      <td>&lt;Desc Pisces +27:12:45&gt;</td>\n",
       "      <td>&lt;MC Gemini +27:30:28&gt;</td>\n",
       "      <td>&lt;IC Sagittarius +27:30:28&gt;</td>\n",
       "      <td>&lt;Pars Fortuna Aries +15:36:29&gt;</td>\n",
       "      <td>&lt;Sun Gemini +02:47:58 +00:57:39&gt;</td>\n",
       "      <td>&lt;Moon Sagittarius +21:11:41 +12:19:41&gt;</td>\n",
       "      <td>&lt;Saturn Sagittarius +13:54:21 -00:04:19&gt;</td>\n",
       "      <td>&lt;Uranus Aries +22:47:40 +00:02:49&gt;</td>\n",
       "      <td>&lt;Neptune Pisces +11:54:55 +00:00:42&gt;</td>\n",
       "      <td>&lt;Pluto Capricorn +17:11:35 -00:00:57&gt;</td>\n",
       "      <td>&lt;Chiron Pisces +24:43:00 +00:01:47&gt;</td>\n",
       "      <td>&lt;North Node Virgo +18:00:29 -00:03:11&gt;</td>\n",
       "      <td>&lt;South Node Pisces +18:00:29 -00:03:11&gt;</td>\n",
       "      <td>&lt;Mercury Taurus +14:22:23 +00:04:22&gt;</td>\n",
       "      <td>&lt;Jupiter Virgo +13:33:03 +00:02:30&gt;</td>\n",
       "      <td>&lt;Mercury Taurus +14:22:23 +00:04:22&gt;</td>\n",
       "      <td>&lt;Jupiter Virgo +13:33:03 +00:02:30&gt;</td>\n",
       "      <td>&lt;Mars Sagittarius +01:25:22 -00:21:00&gt;</td>\n",
       "      <td>&lt;Antes Moon Capricorn +08:48:19 +12:19:41&gt;</td>\n",
       "      <td>&lt;Antes Pars Fortuna Virgo +14:23:31&gt;</td>\n",
       "      <td>&lt;Antes Uranus Virgo +07:12:20 +00:02:49&gt;</td>\n",
       "      <td>&lt;Antes Neptune Libra +18:05:05 +00:00:42&gt;</td>\n",
       "      <td>&lt;Antes Pluto Sagittarius +12:48:25 -00:00:57&gt;</td>\n",
       "      <td>&lt;Antes Chiron Libra +05:17:00 +00:01:47&gt;</td>\n",
       "      <td>[(asc, Asc), (desc, Desc), (mc, MC), (ic, IC), (moon, Moon), (ruler_asc, Mercury), (ruler_desc, ...</td>\n",
       "    </tr>\n",
       "    <tr>\n",
       "      <th>2</th>\n",
       "      <td>2018/10/03</td>\n",
       "      <td>00:15</td>\n",
       "      <td>14s42</td>\n",
       "      <td>36w04</td>\n",
       "      <td>&lt;flatlib.chart.Chart object at 0x7fab6bed12b0&gt;</td>\n",
       "      <td>&lt;Asc Gemini +05:25:08&gt;</td>\n",
       "      <td>&lt;Desc Sagittarius +05:25:08&gt;</td>\n",
       "      <td>&lt;MC Pisces +07:39:39&gt;</td>\n",
       "      <td>&lt;IC Virgo +07:39:39&gt;</td>\n",
       "      <td>&lt;Pars Fortuna Pisces +13:18:26&gt;</td>\n",
       "      <td>&lt;Sun Libra +09:44:33 +00:59:03&gt;</td>\n",
       "      <td>&lt;Moon Cancer +17:37:52 +14:05:52&gt;</td>\n",
       "      <td>&lt;Saturn Capricorn +03:06:46 +00:02:33&gt;</td>\n",
       "      <td>&lt;Uranus Taurus +01:23:25 -00:02:14&gt;</td>\n",
       "      <td>&lt;Neptune Pisces +14:24:42 -00:01:27&gt;</td>\n",
       "      <td>&lt;Pluto Capricorn +18:45:26 +00:00:03&gt;</td>\n",
       "      <td>&lt;Chiron Pisces +29:41:06 -00:02:40&gt;</td>\n",
       "      <td>&lt;North Node Leo +02:19:59 -00:03:11&gt;</td>\n",
       "      <td>&lt;South Node Aquarius +02:19:59 -00:03:11&gt;</td>\n",
       "      <td>&lt;Mercury Libra +18:46:13 +01:38:51&gt;</td>\n",
       "      <td>&lt;Jupiter Scorpio +22:27:07 +00:11:21&gt;</td>\n",
       "      <td>&lt;Jupiter Scorpio +22:27:07 +00:11:21&gt;</td>\n",
       "      <td>&lt;Mercury Libra +18:46:13 +01:38:51&gt;</td>\n",
       "      <td>&lt;Jupiter Scorpio +22:27:07 +00:11:21&gt;</td>\n",
       "      <td>&lt;Antes Moon Gemini +12:22:08 +14:05:52&gt;</td>\n",
       "      <td>&lt;Antes Pars Fortuna Libra +16:41:34&gt;</td>\n",
       "      <td>&lt;Antes Uranus Leo +28:36:35 -00:02:14&gt;</td>\n",
       "      <td>&lt;Antes Neptune Libra +15:35:18 -00:01:27&gt;</td>\n",
       "      <td>&lt;Antes Pluto Sagittarius +11:14:34 +00:00:03&gt;</td>\n",
       "      <td>&lt;Antes Chiron Libra +00:18:54 -00:02:40&gt;</td>\n",
       "      <td>[(asc, Asc), (desc, Desc), (mc, MC), (ic, IC), (moon, Moon), (ruler_asc, Mercury), (ruler_desc, ...</td>\n",
       "    </tr>\n",
       "  </tbody>\n",
       "</table>\n",
       "</div>"
      ],
      "text/plain": [
       "         date utc_time    lon    lat  \\\n",
       "0  2015/03/13    14:00  38n32   8w54   \n",
       "1  2016/05/23    12:30  08n07  18e14   \n",
       "2  2018/10/03    00:15  14s42  36w04   \n",
       "\n",
       "                                           charts                     asc  \\\n",
       "0  <flatlib.chart.Chart object at 0x7fab6bf3f400>  <Asc Cancer +27:24:38>   \n",
       "1  <flatlib.chart.Chart object at 0x7fab6bf3f430>   <Asc Virgo +27:12:45>   \n",
       "2  <flatlib.chart.Chart object at 0x7fab6bed12b0>  <Asc Gemini +05:25:08>   \n",
       "\n",
       "                           desc                     mc  \\\n",
       "0    <Desc Capricorn +27:24:38>   <MC Aries +13:01:44>   \n",
       "1       <Desc Pisces +27:12:45>  <MC Gemini +27:30:28>   \n",
       "2  <Desc Sagittarius +05:25:08>  <MC Pisces +07:39:39>   \n",
       "\n",
       "                           ic                     pars_fortuna  \\\n",
       "0        <IC Libra +13:01:44>   <Pars Fortuna Aries +25:28:18>   \n",
       "1  <IC Sagittarius +27:30:28>   <Pars Fortuna Aries +15:36:29>   \n",
       "2        <IC Virgo +07:39:39>  <Pars Fortuna Pisces +13:18:26>   \n",
       "\n",
       "                                sun                                    moon  \\\n",
       "0  <Sun Pisces +22:39:56 +00:59:52>  <Moon Sagittarius +20:43:35 +13:13:02>   \n",
       "1  <Sun Gemini +02:47:58 +00:57:39>  <Moon Sagittarius +21:11:41 +12:19:41>   \n",
       "2   <Sun Libra +09:44:33 +00:59:03>       <Moon Cancer +17:37:52 +14:05:52>   \n",
       "\n",
       "                                     saturn  \\\n",
       "0  <Saturn Sagittarius +04:55:45 +00:00:06>   \n",
       "1  <Saturn Sagittarius +13:54:21 -00:04:19>   \n",
       "2    <Saturn Capricorn +03:06:46 +00:02:33>   \n",
       "\n",
       "                                uranus                               neptune  \\\n",
       "0   <Uranus Aries +15:06:33 +00:03:14>  <Neptune Pisces +07:50:38 +00:02:13>   \n",
       "1   <Uranus Aries +22:47:40 +00:02:49>  <Neptune Pisces +11:54:55 +00:00:42>   \n",
       "2  <Uranus Taurus +01:23:25 -00:02:14>  <Neptune Pisces +14:24:42 -00:01:27>   \n",
       "\n",
       "                                   pluto                               chiron  \\\n",
       "0  <Pluto Capricorn +15:14:35 +00:01:02>  <Chiron Pisces +17:36:15 +00:03:43>   \n",
       "1  <Pluto Capricorn +17:11:35 -00:00:57>  <Chiron Pisces +24:43:00 +00:01:47>   \n",
       "2  <Pluto Capricorn +18:45:26 +00:00:03>  <Chiron Pisces +29:41:06 -00:02:40>   \n",
       "\n",
       "                               north_node  \\\n",
       "0  <North Node Libra +11:08:52 -00:03:11>   \n",
       "1  <North Node Virgo +18:00:29 -00:03:11>   \n",
       "2    <North Node Leo +02:19:59 -00:03:11>   \n",
       "\n",
       "                                  south_node  \\\n",
       "0     <South Node Aries +11:08:52 -00:03:11>   \n",
       "1    <South Node Pisces +18:00:29 -00:03:11>   \n",
       "2  <South Node Aquarius +02:19:59 -00:03:11>   \n",
       "\n",
       "                                ruler_asc  \\\n",
       "0  <Moon Sagittarius +20:43:35 +13:13:02>   \n",
       "1    <Mercury Taurus +14:22:23 +00:04:22>   \n",
       "2     <Mercury Libra +18:46:13 +01:38:51>   \n",
       "\n",
       "                                 ruler_desc  \\\n",
       "0  <Saturn Sagittarius +04:55:45 +00:00:06>   \n",
       "1       <Jupiter Virgo +13:33:03 +00:02:30>   \n",
       "2     <Jupiter Scorpio +22:27:07 +00:11:21>   \n",
       "\n",
       "                                ruler_mc                             ruler_ic  \\\n",
       "0       <Mars Aries +16:27:08 +00:45:19>    <Venus Aries +25:21:06 +01:12:41>   \n",
       "1   <Mercury Taurus +14:22:23 +00:04:22>  <Jupiter Virgo +13:33:03 +00:02:30>   \n",
       "2  <Jupiter Scorpio +22:27:07 +00:11:21>  <Mercury Libra +18:46:13 +01:38:51>   \n",
       "\n",
       "                       ruler_pars_fortuna  \\\n",
       "0        <Mars Aries +16:27:08 +00:45:19>   \n",
       "1  <Mars Sagittarius +01:25:22 -00:21:00>   \n",
       "2   <Jupiter Scorpio +22:27:07 +00:11:21>   \n",
       "\n",
       "                                   antes_moon  \\\n",
       "0  <Antes Moon Capricorn +09:16:25 +13:13:02>   \n",
       "1  <Antes Moon Capricorn +08:48:19 +12:19:41>   \n",
       "2     <Antes Moon Gemini +12:22:08 +14:05:52>   \n",
       "\n",
       "                     antes_pars_fortuna  \\\n",
       "0  <Antes Pars Fortuna Virgo +04:31:42>   \n",
       "1  <Antes Pars Fortuna Virgo +14:23:31>   \n",
       "2  <Antes Pars Fortuna Libra +16:41:34>   \n",
       "\n",
       "                               antes_uranus  \\\n",
       "0  <Antes Uranus Virgo +14:53:27 +00:03:14>   \n",
       "1  <Antes Uranus Virgo +07:12:20 +00:02:49>   \n",
       "2    <Antes Uranus Leo +28:36:35 -00:02:14>   \n",
       "\n",
       "                               antes_neptune  \\\n",
       "0  <Antes Neptune Libra +22:09:22 +00:02:13>   \n",
       "1  <Antes Neptune Libra +18:05:05 +00:00:42>   \n",
       "2  <Antes Neptune Libra +15:35:18 -00:01:27>   \n",
       "\n",
       "                                     antes_pluto  \\\n",
       "0  <Antes Pluto Sagittarius +14:45:25 +00:01:02>   \n",
       "1  <Antes Pluto Sagittarius +12:48:25 -00:00:57>   \n",
       "2  <Antes Pluto Sagittarius +11:14:34 +00:00:03>   \n",
       "\n",
       "                               antes_chiron  \\\n",
       "0  <Antes Chiron Libra +12:23:45 +00:03:43>   \n",
       "1  <Antes Chiron Libra +05:17:00 +00:01:47>   \n",
       "2  <Antes Chiron Libra +00:18:54 -00:02:40>   \n",
       "\n",
       "                                                                                        id_for_aspects  \n",
       "0  [(asc, Asc), (desc, Desc), (mc, MC), (ic, IC), (moon, Moon), (ruler_asc, Moon), (ruler_desc, Sat...  \n",
       "1  [(asc, Asc), (desc, Desc), (mc, MC), (ic, IC), (moon, Moon), (ruler_asc, Mercury), (ruler_desc, ...  \n",
       "2  [(asc, Asc), (desc, Desc), (mc, MC), (ic, IC), (moon, Moon), (ruler_asc, Mercury), (ruler_desc, ...  "
      ]
     },
     "execution_count": 22,
     "metadata": {},
     "output_type": "execute_result"
    }
   ],
   "source": [
    "df"
   ]
  },
  {
   "cell_type": "code",
   "execution_count": 90,
   "metadata": {},
   "outputs": [],
   "source": [
    "from _astro_constants import AstrologicalConstants, AstrologicalPoints, TransformValues"
   ]
  },
  {
   "cell_type": "code",
   "execution_count": 85,
   "metadata": {},
   "outputs": [],
   "source": [
    "x = [('asc', 'Asc'), ('desc', 'Desc'), ('mc', 'MC'), ('ic', 'IC'), ('moon', 'Moon'), ('ruler_asc', 'Moon'), ('ruler_desc', 'Saturn'), ('pars_fortuna', 'Pars Fortuna')]"
   ]
  },
  {
   "cell_type": "code",
   "execution_count": 91,
   "metadata": {},
   "outputs": [],
   "source": [
    "x = [('asc', 'Asc'), ('desc', 'Desc'), ('mc', 'MC'), ('ic', 'IC'), ('moon', 'Moon'), ('ruler_asc', 'Moon'), ('ruler_desc', 'Saturn'), ('pars_fortuna', 'Pars Fortuna'),\n",
    "     ('ruler_pars_fortuna', 'Mars'), ('ruler_mc', 'Mars'), ('ruler_ic', 'Venus'), ('sun', 'Sun'), ('saturn', 'Saturn'), ('uranus', 'Uranus'), ('neptune', 'Neptune'),\n",
    "     ('pluto', 'Pluto'), ('chiron', 'Chiron'), ('north_node', 'North Node'), ('south_node', 'South Node'), ('antes_moon', 'Antes Moon'), \n",
    "     ('antes_pars_fortuna', 'Antes Pars Fortuna'), ('antes_uranus', 'Antes Uranus'), ('antes_neptune', 'Antes Neptune'), ('antes_pluto', 'Antes Pluto'),\n",
    "     ('antes_chiron', 'Antes Chiron')]"
   ]
  },
  {
   "cell_type": "code",
   "execution_count": 92,
   "metadata": {},
   "outputs": [],
   "source": [
    "TransformValues = TransformValues(x)"
   ]
  },
  {
   "cell_type": "code",
   "execution_count": 93,
   "metadata": {},
   "outputs": [
    {
     "data": {
      "text/plain": [
       "['Mars', 'Saturn', 'Moon', None]"
      ]
     },
     "execution_count": 93,
     "metadata": {},
     "output_type": "execute_result"
    }
   ],
   "source": [
    "TransformValues.check_double_values()"
   ]
  },
  {
   "cell_type": "code",
   "execution_count": 83,
   "metadata": {},
   "outputs": [
    {
     "ename": "AttributeError",
     "evalue": "'list' object has no attribute '_tuples_list'",
     "output_type": "error",
     "traceback": [
      "\u001b[0;31m---------------------------------------------------------------------------\u001b[0m",
      "\u001b[0;31mAttributeError\u001b[0m                            Traceback (most recent call last)",
      "\u001b[0;32m/tmp/ipykernel_22768/1557809276.py\u001b[0m in \u001b[0;36m<module>\u001b[0;34m\u001b[0m\n\u001b[0;32m----> 1\u001b[0;31m \u001b[0mdf\u001b[0m\u001b[0;34m[\u001b[0m\u001b[0;34m'double_values'\u001b[0m\u001b[0;34m]\u001b[0m \u001b[0;34m=\u001b[0m \u001b[0mdf\u001b[0m\u001b[0;34m.\u001b[0m\u001b[0mid_for_aspects\u001b[0m\u001b[0;34m.\u001b[0m\u001b[0mmap\u001b[0m\u001b[0;34m(\u001b[0m\u001b[0;32mlambda\u001b[0m \u001b[0mx\u001b[0m\u001b[0;34m:\u001b[0m \u001b[0mTransformValues\u001b[0m\u001b[0;34m.\u001b[0m\u001b[0mcheck_double_values\u001b[0m\u001b[0;34m(\u001b[0m\u001b[0mx\u001b[0m\u001b[0;34m)\u001b[0m\u001b[0;34m)\u001b[0m\u001b[0;34m\u001b[0m\u001b[0;34m\u001b[0m\u001b[0m\n\u001b[0m\u001b[1;32m      2\u001b[0m \u001b[0mdf\u001b[0m\u001b[0;34m.\u001b[0m\u001b[0mdouble_values\u001b[0m\u001b[0;34m\u001b[0m\u001b[0;34m\u001b[0m\u001b[0m\n",
      "\u001b[0;32m~/Python_envs/python_38/lib/python3.8/site-packages/pandas/core/series.py\u001b[0m in \u001b[0;36mmap\u001b[0;34m(self, arg, na_action)\u001b[0m\n\u001b[1;32m   4159\u001b[0m         \u001b[0mdtype\u001b[0m\u001b[0;34m:\u001b[0m \u001b[0mobject\u001b[0m\u001b[0;34m\u001b[0m\u001b[0;34m\u001b[0m\u001b[0m\n\u001b[1;32m   4160\u001b[0m         \"\"\"\n\u001b[0;32m-> 4161\u001b[0;31m         \u001b[0mnew_values\u001b[0m \u001b[0;34m=\u001b[0m \u001b[0msuper\u001b[0m\u001b[0;34m(\u001b[0m\u001b[0;34m)\u001b[0m\u001b[0;34m.\u001b[0m\u001b[0m_map_values\u001b[0m\u001b[0;34m(\u001b[0m\u001b[0marg\u001b[0m\u001b[0;34m,\u001b[0m \u001b[0mna_action\u001b[0m\u001b[0;34m=\u001b[0m\u001b[0mna_action\u001b[0m\u001b[0;34m)\u001b[0m\u001b[0;34m\u001b[0m\u001b[0;34m\u001b[0m\u001b[0m\n\u001b[0m\u001b[1;32m   4162\u001b[0m         return self._constructor(new_values, index=self.index).__finalize__(\n\u001b[1;32m   4163\u001b[0m             \u001b[0mself\u001b[0m\u001b[0;34m,\u001b[0m \u001b[0mmethod\u001b[0m\u001b[0;34m=\u001b[0m\u001b[0;34m\"map\"\u001b[0m\u001b[0;34m\u001b[0m\u001b[0;34m\u001b[0m\u001b[0m\n",
      "\u001b[0;32m~/Python_envs/python_38/lib/python3.8/site-packages/pandas/core/base.py\u001b[0m in \u001b[0;36m_map_values\u001b[0;34m(self, mapper, na_action)\u001b[0m\n\u001b[1;32m    868\u001b[0m \u001b[0;34m\u001b[0m\u001b[0m\n\u001b[1;32m    869\u001b[0m         \u001b[0;31m# mapper is a function\u001b[0m\u001b[0;34m\u001b[0m\u001b[0;34m\u001b[0m\u001b[0;34m\u001b[0m\u001b[0m\n\u001b[0;32m--> 870\u001b[0;31m         \u001b[0mnew_values\u001b[0m \u001b[0;34m=\u001b[0m \u001b[0mmap_f\u001b[0m\u001b[0;34m(\u001b[0m\u001b[0mvalues\u001b[0m\u001b[0;34m,\u001b[0m \u001b[0mmapper\u001b[0m\u001b[0;34m)\u001b[0m\u001b[0;34m\u001b[0m\u001b[0;34m\u001b[0m\u001b[0m\n\u001b[0m\u001b[1;32m    871\u001b[0m \u001b[0;34m\u001b[0m\u001b[0m\n\u001b[1;32m    872\u001b[0m         \u001b[0;32mreturn\u001b[0m \u001b[0mnew_values\u001b[0m\u001b[0;34m\u001b[0m\u001b[0;34m\u001b[0m\u001b[0m\n",
      "\u001b[0;32m~/Python_envs/python_38/lib/python3.8/site-packages/pandas/_libs/lib.pyx\u001b[0m in \u001b[0;36mpandas._libs.lib.map_infer\u001b[0;34m()\u001b[0m\n",
      "\u001b[0;32m/tmp/ipykernel_22768/1557809276.py\u001b[0m in \u001b[0;36m<lambda>\u001b[0;34m(x)\u001b[0m\n\u001b[0;32m----> 1\u001b[0;31m \u001b[0mdf\u001b[0m\u001b[0;34m[\u001b[0m\u001b[0;34m'double_values'\u001b[0m\u001b[0;34m]\u001b[0m \u001b[0;34m=\u001b[0m \u001b[0mdf\u001b[0m\u001b[0;34m.\u001b[0m\u001b[0mid_for_aspects\u001b[0m\u001b[0;34m.\u001b[0m\u001b[0mmap\u001b[0m\u001b[0;34m(\u001b[0m\u001b[0;32mlambda\u001b[0m \u001b[0mx\u001b[0m\u001b[0;34m:\u001b[0m \u001b[0mTransformValues\u001b[0m\u001b[0;34m.\u001b[0m\u001b[0mcheck_double_values\u001b[0m\u001b[0;34m(\u001b[0m\u001b[0mx\u001b[0m\u001b[0;34m)\u001b[0m\u001b[0;34m)\u001b[0m\u001b[0;34m\u001b[0m\u001b[0;34m\u001b[0m\u001b[0m\n\u001b[0m\u001b[1;32m      2\u001b[0m \u001b[0mdf\u001b[0m\u001b[0;34m.\u001b[0m\u001b[0mdouble_values\u001b[0m\u001b[0;34m\u001b[0m\u001b[0;34m\u001b[0m\u001b[0m\n",
      "\u001b[0;32m/mnt/KINGSTON_120/Own/football_competitions_research/_astro_constants.py\u001b[0m in \u001b[0;36mcheck_double_values\u001b[0;34m(self)\u001b[0m\n\u001b[1;32m     88\u001b[0m     \u001b[0;32mdef\u001b[0m \u001b[0mcheck_double_values\u001b[0m\u001b[0;34m(\u001b[0m\u001b[0mself\u001b[0m\u001b[0;34m)\u001b[0m\u001b[0;34m:\u001b[0m\u001b[0;34m\u001b[0m\u001b[0;34m\u001b[0m\u001b[0m\n\u001b[1;32m     89\u001b[0m         \u001b[0mall_values\u001b[0m \u001b[0;34m=\u001b[0m \u001b[0;34m[\u001b[0m\u001b[0;34m]\u001b[0m\u001b[0;34m\u001b[0m\u001b[0;34m\u001b[0m\u001b[0m\n\u001b[0;32m---> 90\u001b[0;31m         \u001b[0;32mfor\u001b[0m \u001b[0mitems\u001b[0m \u001b[0;32min\u001b[0m \u001b[0mself\u001b[0m\u001b[0;34m.\u001b[0m\u001b[0m_tuples_list\u001b[0m\u001b[0;34m:\u001b[0m\u001b[0;34m\u001b[0m\u001b[0;34m\u001b[0m\u001b[0m\n\u001b[0m\u001b[1;32m     91\u001b[0m             \u001b[0mall_values\u001b[0m\u001b[0;34m.\u001b[0m\u001b[0mappend\u001b[0m\u001b[0;34m(\u001b[0m\u001b[0mitems\u001b[0m\u001b[0;34m[\u001b[0m\u001b[0;36m1\u001b[0m\u001b[0;34m]\u001b[0m\u001b[0;34m)\u001b[0m\u001b[0;34m\u001b[0m\u001b[0;34m\u001b[0m\u001b[0m\n\u001b[1;32m     92\u001b[0m \u001b[0;34m\u001b[0m\u001b[0m\n",
      "\u001b[0;31mAttributeError\u001b[0m: 'list' object has no attribute '_tuples_list'"
     ]
    }
   ],
   "source": [
    "df['double_values'] = df.id_for_aspects.map(lambda x: TransformValues.check_double_values(x))\n",
    "df.double_values"
   ]
  },
  {
   "cell_type": "code",
   "execution_count": 24,
   "metadata": {},
   "outputs": [
    {
     "name": "stdout",
     "output_type": "stream",
     "text": [
      "[('asc', 'Asc'), ('desc', 'Desc'), ('mc', 'MC'), ('ic', 'IC'), ('moon', 'Moon'), ('ruler_asc', 'Moon'), ('ruler_desc', 'Saturn'), ('pars_fortuna', 'Pars Fortuna'), ('ruler_pars_fortuna', 'Mars'), ('ruler_mc', 'Mars'), ('ruler_ic', 'Venus'), ('sun', 'Sun'), ('saturn', 'Saturn'), ('uranus', 'Uranus'), ('neptune', 'Neptune'), ('pluto', 'Pluto'), ('chiron', 'Chiron'), ('north_node', 'North Node'), ('south_node', 'South Node'), ('antes_moon', 'Antes Moon'), ('antes_pars_fortuna', 'Antes Pars Fortuna'), ('antes_uranus', 'Antes Uranus'), ('antes_neptune', 'Antes Neptune'), ('antes_pluto', 'Antes Pluto'), ('antes_chiron', 'Antes Chiron')]\n",
      "['Moon', 'Saturn', 'Mars']\n",
      "[('asc', 'Asc'), ('desc', 'Desc'), ('mc', 'MC'), ('ic', 'IC'), ('moon', 'Moon'), ('ruler_asc', 'Mercury'), ('ruler_desc', 'Jupiter'), ('pars_fortuna', 'Pars Fortuna'), ('ruler_pars_fortuna', 'Mars'), ('ruler_mc', 'Mercury'), ('ruler_ic', 'Jupiter'), ('sun', 'Sun'), ('saturn', 'Saturn'), ('uranus', 'Uranus'), ('neptune', 'Neptune'), ('pluto', 'Pluto'), ('chiron', 'Chiron'), ('north_node', 'North Node'), ('south_node', 'South Node'), ('antes_moon', 'Antes Moon'), ('antes_pars_fortuna', 'Antes Pars Fortuna'), ('antes_uranus', 'Antes Uranus'), ('antes_neptune', 'Antes Neptune'), ('antes_pluto', 'Antes Pluto'), ('antes_chiron', 'Antes Chiron')]\n",
      "['Mercury', 'Jupiter']\n",
      "[('asc', 'Asc'), ('desc', 'Desc'), ('mc', 'MC'), ('ic', 'IC'), ('moon', 'Moon'), ('ruler_asc', 'Mercury'), ('ruler_desc', 'Jupiter'), ('pars_fortuna', 'Pars Fortuna'), ('ruler_pars_fortuna', 'Jupiter'), ('ruler_mc', 'Jupiter'), ('ruler_ic', 'Mercury'), ('sun', 'Sun'), ('saturn', 'Saturn'), ('uranus', 'Uranus'), ('neptune', 'Neptune'), ('pluto', 'Pluto'), ('chiron', 'Chiron'), ('north_node', 'North Node'), ('south_node', 'South Node'), ('antes_moon', 'Antes Moon'), ('antes_pars_fortuna', 'Antes Pars Fortuna'), ('antes_uranus', 'Antes Uranus'), ('antes_neptune', 'Antes Neptune'), ('antes_pluto', 'Antes Pluto'), ('antes_chiron', 'Antes Chiron')]\n",
      "['Mercury', 'Jupiter']\n"
     ]
    }
   ],
   "source": [
    "for item, double_value in zip(df['id_for_aspects'], df['double_values']):\n",
    "    print(item)\n",
    "    print(double_value)"
   ]
  },
  {
   "cell_type": "code",
   "execution_count": 55,
   "metadata": {},
   "outputs": [],
   "source": [
    "def check_double_items(df: pd.DataFrame, col_tuples_list: str, col_double_values: str):\n",
    "    all_double_items = []\n",
    "    for items, double_values in zip(df[col_tuples_list], df[col_double_values]):\n",
    "        double_items = []\n",
    "        for item in items:\n",
    "            if item[1] in double_values:\n",
    "                double_items.append(item)\n",
    "        all_double_items.append(double_items)       \n",
    "    return all_double_items"
   ]
  },
  {
   "cell_type": "code",
   "execution_count": 56,
   "metadata": {},
   "outputs": [
    {
     "data": {
      "text/plain": [
       "[[('moon', 'Moon'),\n",
       "  ('ruler_asc', 'Moon'),\n",
       "  ('ruler_desc', 'Saturn'),\n",
       "  ('ruler_pars_fortuna', 'Mars'),\n",
       "  ('ruler_mc', 'Mars'),\n",
       "  ('saturn', 'Saturn')],\n",
       " [('ruler_asc', 'Mercury'),\n",
       "  ('ruler_desc', 'Jupiter'),\n",
       "  ('ruler_mc', 'Mercury'),\n",
       "  ('ruler_ic', 'Jupiter')],\n",
       " [('ruler_asc', 'Mercury'),\n",
       "  ('ruler_desc', 'Jupiter'),\n",
       "  ('ruler_pars_fortuna', 'Jupiter'),\n",
       "  ('ruler_mc', 'Jupiter'),\n",
       "  ('ruler_ic', 'Mercury')]]"
      ]
     },
     "execution_count": 56,
     "metadata": {},
     "output_type": "execute_result"
    }
   ],
   "source": [
    "tmp = check_double_items(df, 'id_for_aspects', 'double_values')\n",
    "tmp"
   ]
  },
  {
   "cell_type": "code",
   "execution_count": 25,
   "metadata": {},
   "outputs": [],
   "source": [
    "# sr_double_items = check_double_items(x['id_for_aspects'], x['double_values']), axis=1)\n",
    "# sr_double_items"
   ]
  },
  {
   "cell_type": "code",
   "execution_count": null,
   "metadata": {},
   "outputs": [],
   "source": []
  },
  {
   "cell_type": "code",
   "execution_count": 56,
   "metadata": {},
   "outputs": [
    {
     "data": {
      "text/plain": [
       "0                                                                                                     []\n",
       "1                [(ruler_asc, Mercury), (ruler_desc, Jupiter), (ruler_mc, Mercury), (ruler_ic, Jupiter)]\n",
       "2    [(ruler_asc, Mercury), (ruler_desc, Jupiter), (ruler_pars_fortuna, Jupiter), (ruler_mc, Jupiter)...\n",
       "Name: id_for_aspects, dtype: object"
      ]
     },
     "execution_count": 56,
     "metadata": {},
     "output_type": "execute_result"
    }
   ],
   "source": [
    "sr_double_items = df.id_for_aspects.map(lambda x: AstrologicalPoints.check_double_items(x))\n",
    "sr_double_items"
   ]
  },
  {
   "cell_type": "code",
   "execution_count": 57,
   "metadata": {},
   "outputs": [
    {
     "data": {
      "text/plain": [
       "[('ruler_asc_&_ruler_ic', 'Mercury'),\n",
       " ('ruler_desc_&_ruler_pars_fortuna_&_ruler_mc', 'Jupiter')]"
      ]
     },
     "execution_count": 57,
     "metadata": {},
     "output_type": "execute_result"
    }
   ],
   "source": [
    "sr_aprsand_tuples = AstrologicalPoints.concatinate_id_keys()\n",
    "sr_aprsand_tuples"
   ]
  },
  {
   "cell_type": "code",
   "execution_count": 226,
   "metadata": {},
   "outputs": [
    {
     "data": {
      "text/plain": [
       "[('moon_&_ruler_asc', 'Moon'),\n",
       " ('ruler_desc_&_saturn', 'Saturn'),\n",
       " ('ruler_pars_fortuna_&_ruler_mc', 'Mars')]"
      ]
     },
     "execution_count": 226,
     "metadata": {},
     "output_type": "execute_result"
    }
   ],
   "source": [
    "aprsand_tuples = concatinate_id_keys(double_items, double_values)\n",
    "aprsand_tuples"
   ]
  },
  {
   "cell_type": "code",
   "execution_count": 276,
   "metadata": {},
   "outputs": [],
   "source": [
    "       \n",
    "        "
   ]
  },
  {
   "cell_type": "code",
   "execution_count": 279,
   "metadata": {},
   "outputs": [
    {
     "data": {
      "text/plain": [
       "\"[('asc', 'Asc'), ('desc', 'Desc'), ('mc', 'MC'), ('ic', 'IC'), ('moon', 'Moon'), ('ruler_asc', 'Moon'), ('ruler_desc', 'Saturn'), ('pars_fortuna', 'Pars Fortuna'), ('ruler_pars_fortuna', 'Mars'), ('ruler_mc', 'Mars'), ('ruler_ic', 'Venus'), ('sun', 'Sun'), ('saturn', 'Saturn'), ('uranus', 'Uranus'), ('neptune', 'Neptune'), ('pluto', 'Pluto'), ('chiron', 'Chiron'), ('north_node', 'North Node'), ('south_node', 'South Node'), ('antes_pars_fortuna', 'Antes Pars Fortuna'), ('antes_uranus', 'Antes Uranus'), ('antes_neptune', 'Antes Neptune'), ('antes_pluto', 'Antes Pluto'), ('antes_chiron', 'Antes Chiron')]\""
      ]
     },
     "execution_count": 279,
     "metadata": {},
     "output_type": "execute_result"
    }
   ],
   "source": [
    "tuples_list = df.id_for_aspects[0].copy()\n",
    "str(tuples_list)"
   ]
  },
  {
   "cell_type": "code",
   "execution_count": 280,
   "metadata": {},
   "outputs": [
    {
     "data": {
      "text/plain": [
       "\"[('asc', 'Asc'), ('desc', 'Desc'), ('mc', 'MC'), ('ic', 'IC'), ('pars_fortuna', 'Pars Fortuna'), ('ruler_ic', 'Venus'), ('sun', 'Sun'), ('uranus', 'Uranus'), ('neptune', 'Neptune'), ('pluto', 'Pluto'), ('chiron', 'Chiron'), ('north_node', 'North Node'), ('south_node', 'South Node'), ('antes_pars_fortuna', 'Antes Pars Fortuna'), ('antes_uranus', 'Antes Uranus'), ('antes_neptune', 'Antes Neptune'), ('antes_pluto', 'Antes Pluto'), ('antes_chiron', 'Antes Chiron')]\""
      ]
     },
     "execution_count": 280,
     "metadata": {},
     "output_type": "execute_result"
    }
   ],
   "source": [
    "tuples_list = drop_double_tuple_values(tuples_list, double_values)\n",
    "str(tuples_list)"
   ]
  },
  {
   "cell_type": "code",
   "execution_count": 281,
   "metadata": {},
   "outputs": [],
   "source": [
    "tuples_list.extend(aprsand_tuples)"
   ]
  },
  {
   "cell_type": "code",
   "execution_count": 282,
   "metadata": {},
   "outputs": [
    {
     "data": {
      "text/plain": [
       "[('asc', 'Asc'),\n",
       " ('desc', 'Desc'),\n",
       " ('mc', 'MC'),\n",
       " ('ic', 'IC'),\n",
       " ('pars_fortuna', 'Pars Fortuna'),\n",
       " ('ruler_ic', 'Venus'),\n",
       " ('sun', 'Sun'),\n",
       " ('uranus', 'Uranus'),\n",
       " ('neptune', 'Neptune'),\n",
       " ('pluto', 'Pluto'),\n",
       " ('chiron', 'Chiron'),\n",
       " ('north_node', 'North Node'),\n",
       " ('south_node', 'South Node'),\n",
       " ('antes_pars_fortuna', 'Antes Pars Fortuna'),\n",
       " ('antes_uranus', 'Antes Uranus'),\n",
       " ('antes_neptune', 'Antes Neptune'),\n",
       " ('antes_pluto', 'Antes Pluto'),\n",
       " ('antes_chiron', 'Antes Chiron'),\n",
       " ('moon_&_ruler_asc', 'Moon'),\n",
       " ('ruler_desc_&_saturn', 'Saturn'),\n",
       " ('ruler_pars_fortuna_&_ruler_mc', 'Mars')]"
      ]
     },
     "execution_count": 282,
     "metadata": {},
     "output_type": "execute_result"
    }
   ],
   "source": [
    "tuples_list"
   ]
  },
  {
   "cell_type": "code",
   "execution_count": 23,
   "metadata": {},
   "outputs": [
    {
     "data": {
      "text/plain": [
       "<flatlib.chart.Chart at 0x7fa8395b82b0>"
      ]
     },
     "execution_count": 23,
     "metadata": {},
     "output_type": "execute_result"
    }
   ],
   "source": [
    "chart = df.charts.values[0]\n",
    "chart"
   ]
  },
  {
   "cell_type": "code",
   "execution_count": 34,
   "metadata": {},
   "outputs": [
    {
     "name": "stdout",
     "output_type": "stream",
     "text": [
      "Sun\n",
      "Moon\n",
      "Mercury\n",
      "Venus\n",
      "Mars\n",
      "Jupiter\n",
      "Saturn\n",
      "Uranus\n",
      "Neptune\n",
      "Pluto\n",
      "Chiron\n",
      "North Node\n",
      "South Node\n",
      "Syzygy\n",
      "Pars Fortuna\n"
     ]
    }
   ],
   "source": [
    "for obj in chart.objects:\n",
    "    print(obj.id)"
   ]
  },
  {
   "cell_type": "code",
   "execution_count": 35,
   "metadata": {},
   "outputs": [
    {
     "name": "stdout",
     "output_type": "stream",
     "text": [
      "<Sun Pisces +22:39:56 +00:59:52>\n",
      "<Moon Sagittarius +20:43:35 +13:13:02>\n",
      "<Mercury Pisces +00:37:44 +01:29:39>\n",
      "<Venus Aries +25:21:06 +01:12:41>\n",
      "<Mars Aries +16:27:08 +00:45:19>\n",
      "<Jupiter Leo +13:39:12 -00:04:47>\n",
      "<Saturn Sagittarius +04:55:45 +00:00:06>\n",
      "<Uranus Aries +15:06:33 +00:03:14>\n",
      "<Neptune Pisces +07:50:38 +00:02:13>\n",
      "<Pluto Capricorn +15:14:35 +00:01:02>\n",
      "<Chiron Pisces +17:36:15 +00:03:43>\n",
      "<North Node Libra +11:08:52 -00:03:11>\n",
      "<South Node Aries +11:08:52 -00:03:11>\n",
      "<Syzygy Virgo +14:50:23 +11:48:44>\n",
      "<Pars Fortuna Aries +25:28:18 +00:00:00>\n"
     ]
    }
   ],
   "source": [
    "for obj in chart.objects:\n",
    "    print(obj)"
   ]
  },
  {
   "cell_type": "code",
   "execution_count": 25,
   "metadata": {},
   "outputs": [
    {
     "name": "stdout",
     "output_type": "stream",
     "text": [
      "<Asc Cancer +27:24:38>\n",
      "<MC Aries +13:01:44>\n",
      "<Desc Capricorn +27:24:38>\n",
      "<IC Libra +13:01:44>\n"
     ]
    }
   ],
   "source": [
    "for obj in chart.angles:\n",
    "    print(obj)"
   ]
  },
  {
   "cell_type": "code",
   "execution_count": 26,
   "metadata": {},
   "outputs": [],
   "source": [
    "antes_sun = chart.getObject(const.SUN).antiscia()\n",
    "# antes_sun.id = 'Antes_Sun'"
   ]
  },
  {
   "cell_type": "code",
   "execution_count": 27,
   "metadata": {},
   "outputs": [
    {
     "name": "stdout",
     "output_type": "stream",
     "text": [
      "<Sun Libra +07:20:04 +00:59:52>\n"
     ]
    }
   ],
   "source": [
    "print(antes_sun)"
   ]
  },
  {
   "cell_type": "code",
   "execution_count": 28,
   "metadata": {},
   "outputs": [],
   "source": [
    "dyn = ChartDynamics(chart)"
   ]
  },
  {
   "cell_type": "code",
   "execution_count": 29,
   "metadata": {},
   "outputs": [
    {
     "name": "stdout",
     "output_type": "stream",
     "text": [
      "({'id': 'Mars', 'asp': 120, 'orb': 4.274145169554572}, {'id': 'Sun', 'asp': 90, 'orb': 1.9390151432681364})\n"
     ]
    }
   ],
   "source": [
    "moon_asps = dyn.immediateAspects(const.MOON, const.MAJOR_ASPECTS)\n",
    "print(moon_asps)  "
   ]
  },
  {
   "cell_type": "code",
   "execution_count": 31,
   "metadata": {},
   "outputs": [
    {
     "name": "stdout",
     "output_type": "stream",
     "text": [
      "moon_asc_aspect:  <Moon Mars 120 Separative +04:16:27>\n"
     ]
    }
   ],
   "source": [
    "moon_asc_aspect = aspects.getAspect(chart.get(const.MOON), chart.get(const.MARS), const.MAJOR_ASPECTS)\n",
    "print('moon_asc_aspect: ', moon_asc_aspect)"
   ]
  },
  {
   "cell_type": "code",
   "execution_count": 33,
   "metadata": {},
   "outputs": [
    {
     "name": "stdout",
     "output_type": "stream",
     "text": [
      "moon_aspects:  <Moon Sun -1 None +00:00:00>\n"
     ]
    }
   ],
   "source": [
    "moon_aspects = aspects.getAspect(chart.get(const.MOON), antes_sun, const.MAJOR_ASPECTS)\n",
    "print('moon_aspects: ', moon_aspects)"
   ]
  },
  {
   "cell_type": "code",
   "execution_count": null,
   "metadata": {},
   "outputs": [],
   "source": [
    "# Create new columns for each object"
   ]
  },
  {
   "cell_type": "code",
   "execution_count": null,
   "metadata": {},
   "outputs": [],
   "source": []
  },
  {
   "cell_type": "code",
   "execution_count": null,
   "metadata": {},
   "outputs": [],
   "source": []
  }
 ],
 "metadata": {
  "kernelspec": {
   "display_name": "Python 3 (ipykernel)",
   "language": "python",
   "name": "python3"
  },
  "language_info": {
   "codemirror_mode": {
    "name": "ipython",
    "version": 3
   },
   "file_extension": ".py",
   "mimetype": "text/x-python",
   "name": "python",
   "nbconvert_exporter": "python",
   "pygments_lexer": "ipython3",
   "version": "3.9.7"
  }
 },
 "nbformat": 4,
 "nbformat_minor": 4
}

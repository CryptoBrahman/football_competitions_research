{
 "cells": [
  {
   "cell_type": "code",
   "execution_count": 32,
   "metadata": {},
   "outputs": [],
   "source": [
    "import pandas as pd\n",
    "\n",
    "from flatlib import aspects\n",
    "from flatlib import const\n",
    "from flatlib.chart import Chart\n",
    "from flatlib.datetime import Datetime\n",
    "from flatlib.geopos import GeoPos\n",
    "\n",
    "from flatlib.object import GenericObject\n",
    "from flatlib.tools import arabicparts\n",
    "from flatlib.dignities import essential\n",
    "#from flatlib.protocols import behavior\n",
    "from flatlib.tools.chartdynamics import ChartDynamics\n",
    "\n",
    "from _astro_constants import AstrologicalPoints\n",
    "\n",
    "pd.set_option('display.max_columns', 200)  # or 1000\n",
    "pd.set_option('display.max_rows', 200)  # or 1000\n",
    "pd.set_option('display.max_colwidth', 100)  # or 199"
   ]
  },
  {
   "cell_type": "code",
   "execution_count": 2,
   "metadata": {},
   "outputs": [],
   "source": [
    "%load_ext autoreload\n",
    "%autoreload 2"
   ]
  },
  {
   "cell_type": "code",
   "execution_count": 3,
   "metadata": {},
   "outputs": [
    {
     "data": {
      "text/html": [
       "<div>\n",
       "<style scoped>\n",
       "    .dataframe tbody tr th:only-of-type {\n",
       "        vertical-align: middle;\n",
       "    }\n",
       "\n",
       "    .dataframe tbody tr th {\n",
       "        vertical-align: top;\n",
       "    }\n",
       "\n",
       "    .dataframe thead th {\n",
       "        text-align: right;\n",
       "    }\n",
       "</style>\n",
       "<table border=\"1\" class=\"dataframe\">\n",
       "  <thead>\n",
       "    <tr style=\"text-align: right;\">\n",
       "      <th></th>\n",
       "      <th>date</th>\n",
       "      <th>utc_time</th>\n",
       "      <th>lon</th>\n",
       "      <th>lat</th>\n",
       "    </tr>\n",
       "  </thead>\n",
       "  <tbody>\n",
       "    <tr>\n",
       "      <th>0</th>\n",
       "      <td>2015/03/13</td>\n",
       "      <td>17:00</td>\n",
       "      <td>38n32</td>\n",
       "      <td>8w54</td>\n",
       "    </tr>\n",
       "    <tr>\n",
       "      <th>1</th>\n",
       "      <td>2016/05/23</td>\n",
       "      <td>12:30</td>\n",
       "      <td>08n07</td>\n",
       "      <td>18e14</td>\n",
       "    </tr>\n",
       "    <tr>\n",
       "      <th>2</th>\n",
       "      <td>2018/10/03</td>\n",
       "      <td>00:15</td>\n",
       "      <td>14s42</td>\n",
       "      <td>36w04</td>\n",
       "    </tr>\n",
       "  </tbody>\n",
       "</table>\n",
       "</div>"
      ],
      "text/plain": [
       "         date utc_time    lon    lat\n",
       "0  2015/03/13    17:00  38n32   8w54\n",
       "1  2016/05/23    12:30  08n07  18e14\n",
       "2  2018/10/03    00:15  14s42  36w04"
      ]
     },
     "execution_count": 3,
     "metadata": {},
     "output_type": "execute_result"
    }
   ],
   "source": [
    "data = {'date':['2015/03/13', '2016/05/23', '2018/10/03'], 'utc_time':['17:00', '12:30', '00:15'], 'lon':['38n32', '08n07', '14s42'], 'lat':['8w54', '18e14','36w04']}\n",
    "df = pd.DataFrame(data)\n",
    "df"
   ]
  },
  {
   "cell_type": "code",
   "execution_count": 5,
   "metadata": {},
   "outputs": [],
   "source": [
    "df['charts'] = AstrologicalPoints.charts_calculate(df, 'date', 'utc_time', 'lon', 'lat')"
   ]
  },
  {
   "cell_type": "code",
   "execution_count": 6,
   "metadata": {},
   "outputs": [
    {
     "data": {
      "text/plain": [
       "0    <flatlib.chart.Chart object at 0x7eff691902e0>\n",
       "1    <flatlib.chart.Chart object at 0x7eff69190a00>\n",
       "2    <flatlib.chart.Chart object at 0x7eff69114160>\n",
       "Name: charts, dtype: object"
      ]
     },
     "execution_count": 6,
     "metadata": {},
     "output_type": "execute_result"
    }
   ],
   "source": [
    "df.charts"
   ]
  },
  {
   "cell_type": "code",
   "execution_count": 7,
   "metadata": {},
   "outputs": [],
   "source": [
    "df['asc']          = AstrologicalPoints.calculate_astro_objects(df.charts, 'ASC')\n",
    "df['desc']         = AstrologicalPoints.calculate_astro_objects(df.charts, 'DESC')\n",
    "df['mc']           = AstrologicalPoints.calculate_astro_objects(df.charts, 'MC')\n",
    "df['ic']           = AstrologicalPoints.calculate_astro_objects(df.charts, 'IC')\n",
    "\n",
    "df['pars_fortuna'] = AstrologicalPoints.calculate_astro_objects(df.charts, 'PARS_FORTUNA')"
   ]
  },
  {
   "cell_type": "code",
   "execution_count": 8,
   "metadata": {},
   "outputs": [],
   "source": [
    "df['sun']        = AstrologicalPoints.calculate_astro_objects(df.charts, 'SUN')\n",
    "df['moon']       = AstrologicalPoints.calculate_astro_objects(df.charts, 'MOON')\n",
    "df['saturn']     = AstrologicalPoints.calculate_astro_objects(df.charts, 'SATURN')\n",
    "df['uranus']     = AstrologicalPoints.calculate_astro_objects(df.charts, 'URANUS')\n",
    "df['neptune']    = AstrologicalPoints.calculate_astro_objects(df.charts, 'NEPTUNE')\n",
    "df['pluto']      = AstrologicalPoints.calculate_astro_objects(df.charts, 'PLUTO')\n",
    "df['chiron']     = AstrologicalPoints.calculate_astro_objects(df.charts, 'CHIRON')\n",
    "df['north node'] = AstrologicalPoints.calculate_astro_objects(df.charts, 'NORTH_NODE')\n",
    "df['south node'] = AstrologicalPoints.calculate_astro_objects(df.charts, 'SOUTH_NODE')"
   ]
  },
  {
   "cell_type": "code",
   "execution_count": 9,
   "metadata": {},
   "outputs": [],
   "source": [
    "df['ruler_asc']  = AstrologicalPoints.ruler_of_object(df.asc)\n",
    "df['ruler_desc'] = AstrologicalPoints.ruler_of_object(df.desc)\n",
    "df['ruler_mc']   = AstrologicalPoints.ruler_of_object(df.mc)\n",
    "df['ruler_ic']   = AstrologicalPoints.ruler_of_object(df.ic)\n",
    "\n",
    "df['ruler_pf']   = AstrologicalPoints.ruler_of_object(df.pars_fortuna)"
   ]
  },
  {
   "cell_type": "code",
   "execution_count": 11,
   "metadata": {},
   "outputs": [],
   "source": [
    "df['ruler_asc_attr']  = AstrologicalPoints.chart_object_attributes(df, 'charts', 'ruler_asc')\n",
    "df['ruler_desc_attr'] = AstrologicalPoints.chart_object_attributes(df, 'charts', 'ruler_desc')\n",
    "df['ruler_mc_attr']   = AstrologicalPoints.chart_object_attributes(df, 'charts', 'ruler_mc')\n",
    "df['ruler_ic_attr']   = AstrologicalPoints.chart_object_attributes(df, 'charts', 'ruler_ic')\n",
    "\n",
    "df['ruler_pf_attr']   = AstrologicalPoints.chart_object_attributes(df, 'charts', 'ruler_pf')"
   ]
  },
  {
   "cell_type": "code",
   "execution_count": 12,
   "metadata": {},
   "outputs": [
    {
     "data": {
      "text/html": [
       "<div>\n",
       "<style scoped>\n",
       "    .dataframe tbody tr th:only-of-type {\n",
       "        vertical-align: middle;\n",
       "    }\n",
       "\n",
       "    .dataframe tbody tr th {\n",
       "        vertical-align: top;\n",
       "    }\n",
       "\n",
       "    .dataframe thead th {\n",
       "        text-align: right;\n",
       "    }\n",
       "</style>\n",
       "<table border=\"1\" class=\"dataframe\">\n",
       "  <thead>\n",
       "    <tr style=\"text-align: right;\">\n",
       "      <th></th>\n",
       "      <th>date</th>\n",
       "      <th>utc_time</th>\n",
       "      <th>lon</th>\n",
       "      <th>lat</th>\n",
       "      <th>charts</th>\n",
       "      <th>asc</th>\n",
       "      <th>desc</th>\n",
       "      <th>mc</th>\n",
       "      <th>ic</th>\n",
       "      <th>pars_fortuna</th>\n",
       "      <th>sun</th>\n",
       "      <th>moon</th>\n",
       "      <th>saturn</th>\n",
       "      <th>uranus</th>\n",
       "      <th>neptune</th>\n",
       "      <th>pluto</th>\n",
       "      <th>chiron</th>\n",
       "      <th>north node</th>\n",
       "      <th>south node</th>\n",
       "      <th>ruler_asc</th>\n",
       "      <th>ruler_desc</th>\n",
       "      <th>ruler_mc</th>\n",
       "      <th>ruler_ic</th>\n",
       "      <th>ruler_pf</th>\n",
       "      <th>ruler_asc_attr</th>\n",
       "      <th>ruler_desc_attr</th>\n",
       "      <th>ruler_mc_attr</th>\n",
       "      <th>ruler_ic_attr</th>\n",
       "      <th>ruler_pf_attr</th>\n",
       "    </tr>\n",
       "  </thead>\n",
       "  <tbody>\n",
       "    <tr>\n",
       "      <th>0</th>\n",
       "      <td>2015/03/13</td>\n",
       "      <td>17:00</td>\n",
       "      <td>38n32</td>\n",
       "      <td>8w54</td>\n",
       "      <td>&lt;flatlib.chart.Chart object at 0x7eff691902e0&gt;</td>\n",
       "      <td>&lt;Asc Virgo +03:27:30&gt;</td>\n",
       "      <td>&lt;Desc Pisces +03:27:30&gt;</td>\n",
       "      <td>&lt;MC Taurus +29:19:03&gt;</td>\n",
       "      <td>&lt;IC Scorpio +29:19:03&gt;</td>\n",
       "      <td>&lt;Pars Fortuna Gemini +03:03:00 +00:00:00&gt;</td>\n",
       "      <td>&lt;Sun Pisces +22:47:25 +00:59:51&gt;</td>\n",
       "      <td>&lt;Moon Sagittarius +22:22:54 +13:16:01&gt;</td>\n",
       "      <td>&lt;Saturn Sagittarius +04:55:45 +00:00:06&gt;</td>\n",
       "      <td>&lt;Uranus Aries +15:06:57 +00:03:14&gt;</td>\n",
       "      <td>&lt;Neptune Pisces +07:50:55 +00:02:13&gt;</td>\n",
       "      <td>&lt;Pluto Capricorn +15:14:43 +00:01:02&gt;</td>\n",
       "      <td>&lt;Chiron Pisces +17:36:43 +00:03:43&gt;</td>\n",
       "      <td>&lt;North Node Libra +11:08:28 -00:03:11&gt;</td>\n",
       "      <td>&lt;South Node Aries +11:08:28 -00:03:11&gt;</td>\n",
       "      <td>Mercury</td>\n",
       "      <td>Jupiter</td>\n",
       "      <td>Venus</td>\n",
       "      <td>Mars</td>\n",
       "      <td>Mercury</td>\n",
       "      <td>&lt;Mercury Pisces +00:48:57 +01:29:49&gt;</td>\n",
       "      <td>&lt;Jupiter Leo +13:38:37 -00:04:45&gt;</td>\n",
       "      <td>&lt;Venus Aries +25:30:11 +01:12:41&gt;</td>\n",
       "      <td>&lt;Mars Aries +16:32:48 +00:45:18&gt;</td>\n",
       "      <td>&lt;Mercury Pisces +00:48:57 +01:29:49&gt;</td>\n",
       "    </tr>\n",
       "    <tr>\n",
       "      <th>1</th>\n",
       "      <td>2016/05/23</td>\n",
       "      <td>12:30</td>\n",
       "      <td>08n07</td>\n",
       "      <td>18e14</td>\n",
       "      <td>&lt;flatlib.chart.Chart object at 0x7eff69190a00&gt;</td>\n",
       "      <td>&lt;Asc Virgo +27:12:45&gt;</td>\n",
       "      <td>&lt;Desc Pisces +27:12:45&gt;</td>\n",
       "      <td>&lt;MC Gemini +27:30:28&gt;</td>\n",
       "      <td>&lt;IC Sagittarius +27:30:28&gt;</td>\n",
       "      <td>&lt;Pars Fortuna Aries +15:36:29 +00:00:00&gt;</td>\n",
       "      <td>&lt;Sun Gemini +02:47:58 +00:57:39&gt;</td>\n",
       "      <td>&lt;Moon Sagittarius +21:11:41 +12:19:41&gt;</td>\n",
       "      <td>&lt;Saturn Sagittarius +13:54:21 -00:04:19&gt;</td>\n",
       "      <td>&lt;Uranus Aries +22:47:40 +00:02:49&gt;</td>\n",
       "      <td>&lt;Neptune Pisces +11:54:55 +00:00:42&gt;</td>\n",
       "      <td>&lt;Pluto Capricorn +17:11:35 -00:00:57&gt;</td>\n",
       "      <td>&lt;Chiron Pisces +24:43:00 +00:01:47&gt;</td>\n",
       "      <td>&lt;North Node Virgo +18:00:29 -00:03:11&gt;</td>\n",
       "      <td>&lt;South Node Pisces +18:00:29 -00:03:11&gt;</td>\n",
       "      <td>Mercury</td>\n",
       "      <td>Jupiter</td>\n",
       "      <td>Mercury</td>\n",
       "      <td>Jupiter</td>\n",
       "      <td>Mars</td>\n",
       "      <td>&lt;Mercury Taurus +14:22:23 +00:04:22&gt;</td>\n",
       "      <td>&lt;Jupiter Virgo +13:33:03 +00:02:30&gt;</td>\n",
       "      <td>&lt;Mercury Taurus +14:22:23 +00:04:22&gt;</td>\n",
       "      <td>&lt;Jupiter Virgo +13:33:03 +00:02:30&gt;</td>\n",
       "      <td>&lt;Mars Sagittarius +01:25:22 -00:21:00&gt;</td>\n",
       "    </tr>\n",
       "    <tr>\n",
       "      <th>2</th>\n",
       "      <td>2018/10/03</td>\n",
       "      <td>00:15</td>\n",
       "      <td>14s42</td>\n",
       "      <td>36w04</td>\n",
       "      <td>&lt;flatlib.chart.Chart object at 0x7eff69114160&gt;</td>\n",
       "      <td>&lt;Asc Gemini +05:25:08&gt;</td>\n",
       "      <td>&lt;Desc Sagittarius +05:25:08&gt;</td>\n",
       "      <td>&lt;MC Pisces +07:39:39&gt;</td>\n",
       "      <td>&lt;IC Virgo +07:39:39&gt;</td>\n",
       "      <td>&lt;Pars Fortuna Leo +27:31:49 +00:00:00&gt;</td>\n",
       "      <td>&lt;Sun Libra +09:44:33 +00:59:03&gt;</td>\n",
       "      <td>&lt;Moon Cancer +17:37:52 +14:05:52&gt;</td>\n",
       "      <td>&lt;Saturn Capricorn +03:06:46 +00:02:33&gt;</td>\n",
       "      <td>&lt;Uranus Taurus +01:23:25 -00:02:14&gt;</td>\n",
       "      <td>&lt;Neptune Pisces +14:24:42 -00:01:27&gt;</td>\n",
       "      <td>&lt;Pluto Capricorn +18:45:26 +00:00:03&gt;</td>\n",
       "      <td>&lt;Chiron Pisces +29:41:06 -00:02:40&gt;</td>\n",
       "      <td>&lt;North Node Leo +02:19:59 -00:03:11&gt;</td>\n",
       "      <td>&lt;South Node Aquarius +02:19:59 -00:03:11&gt;</td>\n",
       "      <td>Mercury</td>\n",
       "      <td>Jupiter</td>\n",
       "      <td>Jupiter</td>\n",
       "      <td>Mercury</td>\n",
       "      <td>Sun</td>\n",
       "      <td>&lt;Mercury Libra +18:46:13 +01:38:51&gt;</td>\n",
       "      <td>&lt;Jupiter Scorpio +22:27:07 +00:11:21&gt;</td>\n",
       "      <td>&lt;Jupiter Scorpio +22:27:07 +00:11:21&gt;</td>\n",
       "      <td>&lt;Mercury Libra +18:46:13 +01:38:51&gt;</td>\n",
       "      <td>&lt;Sun Libra +09:44:33 +00:59:03&gt;</td>\n",
       "    </tr>\n",
       "  </tbody>\n",
       "</table>\n",
       "</div>"
      ],
      "text/plain": [
       "         date utc_time    lon    lat  \\\n",
       "0  2015/03/13    17:00  38n32   8w54   \n",
       "1  2016/05/23    12:30  08n07  18e14   \n",
       "2  2018/10/03    00:15  14s42  36w04   \n",
       "\n",
       "                                           charts                     asc  \\\n",
       "0  <flatlib.chart.Chart object at 0x7eff691902e0>   <Asc Virgo +03:27:30>   \n",
       "1  <flatlib.chart.Chart object at 0x7eff69190a00>   <Asc Virgo +27:12:45>   \n",
       "2  <flatlib.chart.Chart object at 0x7eff69114160>  <Asc Gemini +05:25:08>   \n",
       "\n",
       "                           desc                     mc  \\\n",
       "0       <Desc Pisces +03:27:30>  <MC Taurus +29:19:03>   \n",
       "1       <Desc Pisces +27:12:45>  <MC Gemini +27:30:28>   \n",
       "2  <Desc Sagittarius +05:25:08>  <MC Pisces +07:39:39>   \n",
       "\n",
       "                           ic                               pars_fortuna  \\\n",
       "0      <IC Scorpio +29:19:03>  <Pars Fortuna Gemini +03:03:00 +00:00:00>   \n",
       "1  <IC Sagittarius +27:30:28>   <Pars Fortuna Aries +15:36:29 +00:00:00>   \n",
       "2        <IC Virgo +07:39:39>     <Pars Fortuna Leo +27:31:49 +00:00:00>   \n",
       "\n",
       "                                sun                                    moon  \\\n",
       "0  <Sun Pisces +22:47:25 +00:59:51>  <Moon Sagittarius +22:22:54 +13:16:01>   \n",
       "1  <Sun Gemini +02:47:58 +00:57:39>  <Moon Sagittarius +21:11:41 +12:19:41>   \n",
       "2   <Sun Libra +09:44:33 +00:59:03>       <Moon Cancer +17:37:52 +14:05:52>   \n",
       "\n",
       "                                     saturn  \\\n",
       "0  <Saturn Sagittarius +04:55:45 +00:00:06>   \n",
       "1  <Saturn Sagittarius +13:54:21 -00:04:19>   \n",
       "2    <Saturn Capricorn +03:06:46 +00:02:33>   \n",
       "\n",
       "                                uranus                               neptune  \\\n",
       "0   <Uranus Aries +15:06:57 +00:03:14>  <Neptune Pisces +07:50:55 +00:02:13>   \n",
       "1   <Uranus Aries +22:47:40 +00:02:49>  <Neptune Pisces +11:54:55 +00:00:42>   \n",
       "2  <Uranus Taurus +01:23:25 -00:02:14>  <Neptune Pisces +14:24:42 -00:01:27>   \n",
       "\n",
       "                                   pluto                               chiron  \\\n",
       "0  <Pluto Capricorn +15:14:43 +00:01:02>  <Chiron Pisces +17:36:43 +00:03:43>   \n",
       "1  <Pluto Capricorn +17:11:35 -00:00:57>  <Chiron Pisces +24:43:00 +00:01:47>   \n",
       "2  <Pluto Capricorn +18:45:26 +00:00:03>  <Chiron Pisces +29:41:06 -00:02:40>   \n",
       "\n",
       "                               north node  \\\n",
       "0  <North Node Libra +11:08:28 -00:03:11>   \n",
       "1  <North Node Virgo +18:00:29 -00:03:11>   \n",
       "2    <North Node Leo +02:19:59 -00:03:11>   \n",
       "\n",
       "                                  south node ruler_asc ruler_desc ruler_mc  \\\n",
       "0     <South Node Aries +11:08:28 -00:03:11>   Mercury    Jupiter    Venus   \n",
       "1    <South Node Pisces +18:00:29 -00:03:11>   Mercury    Jupiter  Mercury   \n",
       "2  <South Node Aquarius +02:19:59 -00:03:11>   Mercury    Jupiter  Jupiter   \n",
       "\n",
       "  ruler_ic ruler_pf                        ruler_asc_attr  \\\n",
       "0     Mars  Mercury  <Mercury Pisces +00:48:57 +01:29:49>   \n",
       "1  Jupiter     Mars  <Mercury Taurus +14:22:23 +00:04:22>   \n",
       "2  Mercury      Sun   <Mercury Libra +18:46:13 +01:38:51>   \n",
       "\n",
       "                         ruler_desc_attr  \\\n",
       "0      <Jupiter Leo +13:38:37 -00:04:45>   \n",
       "1    <Jupiter Virgo +13:33:03 +00:02:30>   \n",
       "2  <Jupiter Scorpio +22:27:07 +00:11:21>   \n",
       "\n",
       "                           ruler_mc_attr                        ruler_ic_attr  \\\n",
       "0      <Venus Aries +25:30:11 +01:12:41>     <Mars Aries +16:32:48 +00:45:18>   \n",
       "1   <Mercury Taurus +14:22:23 +00:04:22>  <Jupiter Virgo +13:33:03 +00:02:30>   \n",
       "2  <Jupiter Scorpio +22:27:07 +00:11:21>  <Mercury Libra +18:46:13 +01:38:51>   \n",
       "\n",
       "                            ruler_pf_attr  \n",
       "0    <Mercury Pisces +00:48:57 +01:29:49>  \n",
       "1  <Mars Sagittarius +01:25:22 -00:21:00>  \n",
       "2         <Sun Libra +09:44:33 +00:59:03>  "
      ]
     },
     "execution_count": 12,
     "metadata": {},
     "output_type": "execute_result"
    }
   ],
   "source": [
    "df"
   ]
  },
  {
   "cell_type": "code",
   "execution_count": 13,
   "metadata": {},
   "outputs": [],
   "source": [
    "date = Datetime('2021/06/13', '23:00', '+00:00')\n",
    "pos = GeoPos('50n22', '4e54')\n",
    "chart = Chart(date, pos)"
   ]
  },
  {
   "cell_type": "code",
   "execution_count": 14,
   "metadata": {},
   "outputs": [],
   "source": [
    "chart = df.charts.values[1]"
   ]
  },
  {
   "cell_type": "code",
   "execution_count": 15,
   "metadata": {},
   "outputs": [],
   "source": [
    "dyn = ChartDynamics(chart)"
   ]
  },
  {
   "cell_type": "code",
   "execution_count": 16,
   "metadata": {},
   "outputs": [
    {
     "data": {
      "text/plain": [
       "({'id': 'Saturn', 'asp': 0, 'orb': 7.288967530603998}, None)"
      ]
     },
     "execution_count": 16,
     "metadata": {},
     "output_type": "execute_result"
    }
   ],
   "source": [
    "moon_asps = dyn.immediateAspects(const.MOON, const.MAJOR_ASPECTS)\n",
    "moon_asps"
   ]
  },
  {
   "cell_type": "code",
   "execution_count": 17,
   "metadata": {},
   "outputs": [],
   "source": [
    "obj = chart.get(const.IC)\n",
    "moon = chart.get(const.MOON)"
   ]
  },
  {
   "cell_type": "code",
   "execution_count": 18,
   "metadata": {},
   "outputs": [
    {
     "name": "stdout",
     "output_type": "stream",
     "text": [
      "mj_aspect:  <Moon IC 0 Applicative +06:18:47>\n"
     ]
    }
   ],
   "source": [
    "mj_aspect = aspects.getAspect(moon, obj, const.MAJOR_ASPECTS)\n",
    "print('mj_aspect: ', mj_aspect)"
   ]
  },
  {
   "cell_type": "code",
   "execution_count": 28,
   "metadata": {},
   "outputs": [
    {
     "name": "stdout",
     "output_type": "stream",
     "text": [
      "movement : Direct\n",
      "sign : Sagittarius\n",
      "signlon : 21.194730623439\n",
      "lonspeed : 12.32803386852714\n",
      "orb : 12\n"
     ]
    }
   ],
   "source": [
    "print('movement :', moon.movement())\n",
    "print('sign :', moon.sign)\n",
    "print('signlon :', moon.signlon)\n",
    "print('lonspeed :', moon.lonspeed)\n",
    "print('orb :', moon.orb())"
   ]
  },
  {
   "cell_type": "code",
   "execution_count": 30,
   "metadata": {},
   "outputs": [
    {
     "data": {
      "text/plain": [
       "267.5077906183798"
      ]
     },
     "execution_count": 30,
     "metadata": {},
     "output_type": "execute_result"
    }
   ],
   "source": [
    "obj.lon"
   ]
  },
  {
   "cell_type": "code",
   "execution_count": null,
   "metadata": {},
   "outputs": [],
   "source": [
    "sunRelation(obj, sun):"
   ]
  },
  {
   "cell_type": "code",
   "execution_count": null,
   "metadata": {},
   "outputs": [],
   "source": [
    "GenericObject.antiscia()"
   ]
  },
  {
   "cell_type": "code",
   "execution_count": 34,
   "metadata": {},
   "outputs": [
    {
     "name": "stdout",
     "output_type": "stream",
     "text": [
      "<Moon Capricorn +08:48:19 +12:19:41>\n"
     ]
    }
   ],
   "source": [
    "print(moon.antiscia())"
   ]
  }
 ],
 "metadata": {
  "kernelspec": {
   "display_name": "Python 3 (ipykernel)",
   "language": "python",
   "name": "python3"
  },
  "language_info": {
   "codemirror_mode": {
    "name": "ipython",
    "version": 3
   },
   "file_extension": ".py",
   "mimetype": "text/x-python",
   "name": "python",
   "nbconvert_exporter": "python",
   "pygments_lexer": "ipython3",
   "version": "3.8.10"
  }
 },
 "nbformat": 4,
 "nbformat_minor": 4
}

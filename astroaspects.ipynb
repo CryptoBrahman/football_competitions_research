{
 "cells": [
  {
   "cell_type": "code",
   "execution_count": 56,
   "metadata": {},
   "outputs": [],
   "source": [
    "import sys\n",
    "sys.path.append('/home/cryptobrahman/Own/football_competitions_research/own_modules/') \n",
    "sys.path.append('/mnt/KINGSTON_120/Own/football_competitions_research/own_modules/') "
   ]
  },
  {
   "cell_type": "code",
   "execution_count": 57,
   "metadata": {},
   "outputs": [],
   "source": [
    "import pickle\n",
    "import pandas as pd\n",
    "from pprint import pprint\n",
    "\n",
    "from _astro_constants import AspectsCalculate, AstrologicalPoints, ObjectsPrepare, AstrologicalConstants, TransformDoubleValues, AspectsPrepare, AspectsClearing\n",
    "\n",
    "pd.set_option('display.max_columns', 200)  # or 1000\n",
    "pd.set_option('display.max_rows', 200)  # or 1000\n",
    "pd.set_option('display.max_colwidth', 100)  # or 199"
   ]
  },
  {
   "cell_type": "code",
   "execution_count": 58,
   "metadata": {},
   "outputs": [
    {
     "name": "stdout",
     "output_type": "stream",
     "text": [
      "The autoreload extension is already loaded. To reload it, use:\n",
      "  %reload_ext autoreload\n"
     ]
    }
   ],
   "source": [
    "%load_ext autoreload\n",
    "%autoreload 2"
   ]
  },
  {
   "cell_type": "code",
   "execution_count": 59,
   "metadata": {},
   "outputs": [],
   "source": [
    "# data = {'date':['2015/03/13', '2016/05/23', '2018/10/03'], 'utc_time':['14:00', '12:30', '00:15'], 'lon':['38n32', '08n07', '14s42'], 'lat':['8w54', '18e14','36w04']}\n",
    "# df = pd.DataFrame(data)\n",
    "# df"
   ]
  },
  {
   "cell_type": "code",
   "execution_count": 60,
   "metadata": {},
   "outputs": [],
   "source": [
    "with open('pickle_files/cities_countries/df_with_geo_coords_26_05_2022', 'rb') as f:\n",
    "    df_coords = pickle.load(f)"
   ]
  },
  {
   "cell_type": "code",
   "execution_count": 61,
   "metadata": {},
   "outputs": [
    {
     "name": "stdout",
     "output_type": "stream",
     "text": [
      "shape -  (8973, 25)\n"
     ]
    },
    {
     "data": {
      "text/html": [
       "<div>\n",
       "<style scoped>\n",
       "    .dataframe tbody tr th:only-of-type {\n",
       "        vertical-align: middle;\n",
       "    }\n",
       "\n",
       "    .dataframe tbody tr th {\n",
       "        vertical-align: top;\n",
       "    }\n",
       "\n",
       "    .dataframe thead th {\n",
       "        text-align: right;\n",
       "    }\n",
       "</style>\n",
       "<table border=\"1\" class=\"dataframe\">\n",
       "  <thead>\n",
       "    <tr style=\"text-align: right;\">\n",
       "      <th></th>\n",
       "      <th>game_id</th>\n",
       "      <th>ligue_header</th>\n",
       "      <th>comp_id</th>\n",
       "      <th>season_id</th>\n",
       "      <th>game_utc</th>\n",
       "      <th>game_title</th>\n",
       "      <th>goals</th>\n",
       "      <th>ligue</th>\n",
       "      <th>f_team</th>\n",
       "      <th>pos_f</th>\n",
       "      <th>pts_f</th>\n",
       "      <th>pos_s</th>\n",
       "      <th>pts_s</th>\n",
       "      <th>fs_pos_max</th>\n",
       "      <th>fs_pts_max</th>\n",
       "      <th>f_pow</th>\n",
       "      <th>desc</th>\n",
       "      <th>country</th>\n",
       "      <th>team_id</th>\n",
       "      <th>city</th>\n",
       "      <th>iso_code</th>\n",
       "      <th>longitude</th>\n",
       "      <th>latitude</th>\n",
       "      <th>lat</th>\n",
       "      <th>lon</th>\n",
       "    </tr>\n",
       "  </thead>\n",
       "  <tbody>\n",
       "    <tr>\n",
       "      <th>0</th>\n",
       "      <td>1708335</td>\n",
       "      <td>Premier League</td>\n",
       "      <td>483</td>\n",
       "      <td>301</td>\n",
       "      <td>26.05.2022 15:00</td>\n",
       "      <td>FC Minsk - Arsenal Dzerzhinsk</td>\n",
       "      <td>2:0</td>\n",
       "      <td>top</td>\n",
       "      <td>FC Minsk</td>\n",
       "      <td>4.0</td>\n",
       "      <td>19.0</td>\n",
       "      <td>15.0</td>\n",
       "      <td>4.0</td>\n",
       "      <td>4 - 15, 16</td>\n",
       "      <td>19 - 4, 23</td>\n",
       "      <td>Fav</td>\n",
       "      <td>fav_pre</td>\n",
       "      <td>Belarus</td>\n",
       "      <td>540</td>\n",
       "      <td>Minsk</td>\n",
       "      <td>BY</td>\n",
       "      <td>27.56667</td>\n",
       "      <td>53.90000</td>\n",
       "      <td>53n53</td>\n",
       "      <td>27e34</td>\n",
       "    </tr>\n",
       "    <tr>\n",
       "      <th>1</th>\n",
       "      <td>1687696</td>\n",
       "      <td>OBOS liga</td>\n",
       "      <td>668</td>\n",
       "      <td>301</td>\n",
       "      <td>26.05.2022 15:00</td>\n",
       "      <td>Skeid - Sandnes Ulf</td>\n",
       "      <td>0:1</td>\n",
       "      <td>thr</td>\n",
       "      <td>Skeid</td>\n",
       "      <td>16.0</td>\n",
       "      <td>3.0</td>\n",
       "      <td>4.0</td>\n",
       "      <td>18.0</td>\n",
       "      <td>16 - 4, 16</td>\n",
       "      <td>3 - 18, 23</td>\n",
       "      <td>Pre</td>\n",
       "      <td>fav_pre</td>\n",
       "      <td>Norway</td>\n",
       "      <td>10294</td>\n",
       "      <td>Oslo</td>\n",
       "      <td>NO</td>\n",
       "      <td>10.74609</td>\n",
       "      <td>59.91273</td>\n",
       "      <td>59n54</td>\n",
       "      <td>10e44</td>\n",
       "    </tr>\n",
       "    <tr>\n",
       "      <th>2</th>\n",
       "      <td>1687694</td>\n",
       "      <td>OBOS liga</td>\n",
       "      <td>668</td>\n",
       "      <td>301</td>\n",
       "      <td>26.05.2022 16:00</td>\n",
       "      <td>Kongsvinger - Brann</td>\n",
       "      <td>1:3</td>\n",
       "      <td>thr</td>\n",
       "      <td>Kongsvinger</td>\n",
       "      <td>13.0</td>\n",
       "      <td>7.0</td>\n",
       "      <td>1.0</td>\n",
       "      <td>23.0</td>\n",
       "      <td>13 - 1, 16</td>\n",
       "      <td>7 - 23, 23</td>\n",
       "      <td>Pre</td>\n",
       "      <td>fav_pre</td>\n",
       "      <td>Norway</td>\n",
       "      <td>None</td>\n",
       "      <td>Kongsvinger</td>\n",
       "      <td>NO</td>\n",
       "      <td>11.99772</td>\n",
       "      <td>60.19049</td>\n",
       "      <td>60n11</td>\n",
       "      <td>11e59</td>\n",
       "    </tr>\n",
       "    <tr>\n",
       "      <th>3</th>\n",
       "      <td>1687692</td>\n",
       "      <td>OBOS liga</td>\n",
       "      <td>668</td>\n",
       "      <td>301</td>\n",
       "      <td>26.05.2022 16:00</td>\n",
       "      <td>Bryne - Stabaek</td>\n",
       "      <td>0:0</td>\n",
       "      <td>thr</td>\n",
       "      <td>Bryne</td>\n",
       "      <td>12.0</td>\n",
       "      <td>8.0</td>\n",
       "      <td>3.0</td>\n",
       "      <td>18.0</td>\n",
       "      <td>12 - 3, 16</td>\n",
       "      <td>8 - 18, 23</td>\n",
       "      <td>Pre</td>\n",
       "      <td>fav_pre</td>\n",
       "      <td>Norway</td>\n",
       "      <td>None</td>\n",
       "      <td>Bryne</td>\n",
       "      <td>NO</td>\n",
       "      <td>5.64766</td>\n",
       "      <td>58.73536</td>\n",
       "      <td>58n44</td>\n",
       "      <td>5e38</td>\n",
       "    </tr>\n",
       "    <tr>\n",
       "      <th>4</th>\n",
       "      <td>1687698</td>\n",
       "      <td>OBOS liga</td>\n",
       "      <td>668</td>\n",
       "      <td>301</td>\n",
       "      <td>26.05.2022 16:00</td>\n",
       "      <td>Stjordals-Blink - Sogndal</td>\n",
       "      <td>1:3</td>\n",
       "      <td>thr</td>\n",
       "      <td>Stjordals-Blink</td>\n",
       "      <td>15.0</td>\n",
       "      <td>5.0</td>\n",
       "      <td>8.0</td>\n",
       "      <td>14.0</td>\n",
       "      <td>15 - 8, 16</td>\n",
       "      <td>5 - 14, 23</td>\n",
       "      <td>Pre</td>\n",
       "      <td>fav_pre</td>\n",
       "      <td>Norway</td>\n",
       "      <td>8922</td>\n",
       "      <td>Stjørdalshalsen</td>\n",
       "      <td>NO</td>\n",
       "      <td>10.92618</td>\n",
       "      <td>63.46810</td>\n",
       "      <td>63n28</td>\n",
       "      <td>10e55</td>\n",
       "    </tr>\n",
       "  </tbody>\n",
       "</table>\n",
       "</div>"
      ],
      "text/plain": [
       "   game_id    ligue_header comp_id season_id          game_utc  \\\n",
       "0  1708335  Premier League     483       301  26.05.2022 15:00   \n",
       "1  1687696       OBOS liga     668       301  26.05.2022 15:00   \n",
       "2  1687694       OBOS liga     668       301  26.05.2022 16:00   \n",
       "3  1687692       OBOS liga     668       301  26.05.2022 16:00   \n",
       "4  1687698       OBOS liga     668       301  26.05.2022 16:00   \n",
       "\n",
       "                      game_title goals ligue           f_team  pos_f  pts_f  \\\n",
       "0  FC Minsk - Arsenal Dzerzhinsk   2:0   top         FC Minsk    4.0   19.0   \n",
       "1            Skeid - Sandnes Ulf   0:1   thr            Skeid   16.0    3.0   \n",
       "2            Kongsvinger - Brann   1:3   thr      Kongsvinger   13.0    7.0   \n",
       "3                Bryne - Stabaek   0:0   thr            Bryne   12.0    8.0   \n",
       "4      Stjordals-Blink - Sogndal   1:3   thr  Stjordals-Blink   15.0    5.0   \n",
       "\n",
       "   pos_s  pts_s  fs_pos_max  fs_pts_max f_pow     desc  country team_id  \\\n",
       "0   15.0    4.0  4 - 15, 16  19 - 4, 23   Fav  fav_pre  Belarus     540   \n",
       "1    4.0   18.0  16 - 4, 16  3 - 18, 23   Pre  fav_pre   Norway   10294   \n",
       "2    1.0   23.0  13 - 1, 16  7 - 23, 23   Pre  fav_pre   Norway    None   \n",
       "3    3.0   18.0  12 - 3, 16  8 - 18, 23   Pre  fav_pre   Norway    None   \n",
       "4    8.0   14.0  15 - 8, 16  5 - 14, 23   Pre  fav_pre   Norway    8922   \n",
       "\n",
       "              city iso_code  longitude  latitude    lat    lon  \n",
       "0            Minsk       BY   27.56667  53.90000  53n53  27e34  \n",
       "1             Oslo       NO   10.74609  59.91273  59n54  10e44  \n",
       "2      Kongsvinger       NO   11.99772  60.19049  60n11  11e59  \n",
       "3            Bryne       NO    5.64766  58.73536  58n44   5e38  \n",
       "4  Stjørdalshalsen       NO   10.92618  63.46810  63n28  10e55  "
      ]
     },
     "execution_count": 61,
     "metadata": {},
     "output_type": "execute_result"
    }
   ],
   "source": [
    "print('shape - ', df_coords.shape)\n",
    "df_coords.head()"
   ]
  },
  {
   "cell_type": "markdown",
   "metadata": {},
   "source": [
    "#### Check data for geocoords on google maps. Exampl lat-lon: 69.245016 17.952091"
   ]
  },
  {
   "cell_type": "code",
   "execution_count": 62,
   "metadata": {},
   "outputs": [
    {
     "name": "stdout",
     "output_type": "stream",
     "text": [
      "https://www.google.com.ua/maps/\n"
     ]
    }
   ],
   "source": [
    "print('https://www.google.com.ua/maps/')"
   ]
  },
  {
   "cell_type": "code",
   "execution_count": 63,
   "metadata": {},
   "outputs": [
    {
     "data": {
      "text/html": [
       "<div>\n",
       "<style scoped>\n",
       "    .dataframe tbody tr th:only-of-type {\n",
       "        vertical-align: middle;\n",
       "    }\n",
       "\n",
       "    .dataframe tbody tr th {\n",
       "        vertical-align: top;\n",
       "    }\n",
       "\n",
       "    .dataframe thead th {\n",
       "        text-align: right;\n",
       "    }\n",
       "</style>\n",
       "<table border=\"1\" class=\"dataframe\">\n",
       "  <thead>\n",
       "    <tr style=\"text-align: right;\">\n",
       "      <th></th>\n",
       "      <th>city</th>\n",
       "      <th>country</th>\n",
       "      <th>latitude</th>\n",
       "      <th>longitude</th>\n",
       "    </tr>\n",
       "  </thead>\n",
       "  <tbody>\n",
       "    <tr>\n",
       "      <th>200</th>\n",
       "      <td>Berlin</td>\n",
       "      <td>Germany</td>\n",
       "      <td>52.52437</td>\n",
       "      <td>13.41053</td>\n",
       "    </tr>\n",
       "  </tbody>\n",
       "</table>\n",
       "</div>"
      ],
      "text/plain": [
       "       city  country  latitude  longitude\n",
       "200  Berlin  Germany  52.52437   13.41053"
      ]
     },
     "execution_count": 63,
     "metadata": {},
     "output_type": "execute_result"
    }
   ],
   "source": [
    "df_coords.loc[200:200, ['city', 'country', 'latitude', 'longitude']]"
   ]
  },
  {
   "cell_type": "code",
   "execution_count": 64,
   "metadata": {},
   "outputs": [],
   "source": [
    "df             = df_coords[['game_utc', 'lon', 'lat']].copy()\n",
    "df['date']     = df.game_utc.str[:10].str.split('.')\n",
    "df['utc_time'] = df.game_utc.str[11:16]\n",
    "df.date        = df.date.str[2] +'/'+ df.date.str[1] +'/'+ df.date.str[0]"
   ]
  },
  {
   "cell_type": "code",
   "execution_count": 65,
   "metadata": {},
   "outputs": [],
   "source": [
    "df.drop(columns='game_utc', inplace=True)"
   ]
  },
  {
   "cell_type": "code",
   "execution_count": 66,
   "metadata": {},
   "outputs": [],
   "source": [
    "df = df[['date', 'utc_time', 'lon', 'lat']]"
   ]
  },
  {
   "cell_type": "code",
   "execution_count": 67,
   "metadata": {},
   "outputs": [
    {
     "name": "stdout",
     "output_type": "stream",
     "text": [
      "shape -  (8973, 4)\n"
     ]
    },
    {
     "data": {
      "text/html": [
       "<div>\n",
       "<style scoped>\n",
       "    .dataframe tbody tr th:only-of-type {\n",
       "        vertical-align: middle;\n",
       "    }\n",
       "\n",
       "    .dataframe tbody tr th {\n",
       "        vertical-align: top;\n",
       "    }\n",
       "\n",
       "    .dataframe thead th {\n",
       "        text-align: right;\n",
       "    }\n",
       "</style>\n",
       "<table border=\"1\" class=\"dataframe\">\n",
       "  <thead>\n",
       "    <tr style=\"text-align: right;\">\n",
       "      <th></th>\n",
       "      <th>date</th>\n",
       "      <th>utc_time</th>\n",
       "      <th>lon</th>\n",
       "      <th>lat</th>\n",
       "    </tr>\n",
       "  </thead>\n",
       "  <tbody>\n",
       "    <tr>\n",
       "      <th>8968</th>\n",
       "      <td>2021/03/30</td>\n",
       "      <td>18:45</td>\n",
       "      <td>4w15</td>\n",
       "      <td>55n51</td>\n",
       "    </tr>\n",
       "    <tr>\n",
       "      <th>8969</th>\n",
       "      <td>2021/03/30</td>\n",
       "      <td>18:45</td>\n",
       "      <td>4w1</td>\n",
       "      <td>55n51</td>\n",
       "    </tr>\n",
       "    <tr>\n",
       "      <th>8970</th>\n",
       "      <td>2021/03/30</td>\n",
       "      <td>18:45</td>\n",
       "      <td>2w39</td>\n",
       "      <td>56n43</td>\n",
       "    </tr>\n",
       "    <tr>\n",
       "      <th>8971</th>\n",
       "      <td>2021/03/30</td>\n",
       "      <td>18:45</td>\n",
       "      <td>3w20</td>\n",
       "      <td>56n6</td>\n",
       "    </tr>\n",
       "    <tr>\n",
       "      <th>8972</th>\n",
       "      <td>2021/03/29</td>\n",
       "      <td>19:00</td>\n",
       "      <td>5e18</td>\n",
       "      <td>51n41</td>\n",
       "    </tr>\n",
       "  </tbody>\n",
       "</table>\n",
       "</div>"
      ],
      "text/plain": [
       "            date utc_time   lon    lat\n",
       "8968  2021/03/30    18:45  4w15  55n51\n",
       "8969  2021/03/30    18:45   4w1  55n51\n",
       "8970  2021/03/30    18:45  2w39  56n43\n",
       "8971  2021/03/30    18:45  3w20   56n6\n",
       "8972  2021/03/29    19:00  5e18  51n41"
      ]
     },
     "execution_count": 67,
     "metadata": {},
     "output_type": "execute_result"
    }
   ],
   "source": [
    "print('shape - ', df.shape)\n",
    "df.tail()"
   ]
  },
  {
   "cell_type": "markdown",
   "metadata": {},
   "source": [
    "### Get astrological objects"
   ]
  },
  {
   "cell_type": "code",
   "execution_count": 68,
   "metadata": {},
   "outputs": [
    {
     "data": {
      "text/html": [
       "<div>\n",
       "<style scoped>\n",
       "    .dataframe tbody tr th:only-of-type {\n",
       "        vertical-align: middle;\n",
       "    }\n",
       "\n",
       "    .dataframe tbody tr th {\n",
       "        vertical-align: top;\n",
       "    }\n",
       "\n",
       "    .dataframe thead th {\n",
       "        text-align: right;\n",
       "    }\n",
       "</style>\n",
       "<table border=\"1\" class=\"dataframe\">\n",
       "  <thead>\n",
       "    <tr style=\"text-align: right;\">\n",
       "      <th></th>\n",
       "      <th>date</th>\n",
       "      <th>utc_time</th>\n",
       "      <th>lon</th>\n",
       "      <th>lat</th>\n",
       "    </tr>\n",
       "  </thead>\n",
       "  <tbody>\n",
       "  </tbody>\n",
       "</table>\n",
       "</div>"
      ],
      "text/plain": [
       "Empty DataFrame\n",
       "Columns: [date, utc_time, lon, lat]\n",
       "Index: []"
      ]
     },
     "execution_count": 68,
     "metadata": {},
     "output_type": "execute_result"
    }
   ],
   "source": [
    "df[(df.lat.isna()) | (df.lon.isna())]"
   ]
  },
  {
   "cell_type": "code",
   "execution_count": 69,
   "metadata": {},
   "outputs": [],
   "source": [
    "# df_coords.loc[44:44, ['country', 'city', 'longitude', 'latitude']]"
   ]
  },
  {
   "cell_type": "code",
   "execution_count": 70,
   "metadata": {},
   "outputs": [],
   "source": [
    "# df.loc[44:44,]"
   ]
  },
  {
   "cell_type": "code",
   "execution_count": 71,
   "metadata": {},
   "outputs": [],
   "source": [
    "# import datetime\n",
    "# from flatlib import ephem, const\n",
    "\n",
    "# fmt = '%Y/%m/%d %H:%M'\n",
    "# s   = '2022/05/23 12:00'\n",
    "# dt  = datetime.datetime.strptime(s, fmt)\n",
    "# tt  = dt.timetuple()\n",
    "# jd  = tt.tm_year * 1000 + tt.tm_yday\n",
    "# print(jd)\n",
    "# lat = 40.245016\n",
    "# lon = 17.952091\n",
    "# ephem.swe.sweHouses(jd, lat, lon, hsys=const.HOUSES_PLACIDUS)"
   ]
  },
  {
   "cell_type": "code",
   "execution_count": 72,
   "metadata": {},
   "outputs": [],
   "source": [
    "df_dates_posits = AstrologicalPoints.dates_posits_calculate(df, date='date', utc_time='utc_time', lat='lat', lon='lon')"
   ]
  },
  {
   "cell_type": "code",
   "execution_count": 73,
   "metadata": {},
   "outputs": [
    {
     "name": "stdout",
     "output_type": "stream",
     "text": [
      "shape -  (8973, 2)\n"
     ]
    },
    {
     "data": {
      "text/html": [
       "<div>\n",
       "<style scoped>\n",
       "    .dataframe tbody tr th:only-of-type {\n",
       "        vertical-align: middle;\n",
       "    }\n",
       "\n",
       "    .dataframe tbody tr th {\n",
       "        vertical-align: top;\n",
       "    }\n",
       "\n",
       "    .dataframe thead th {\n",
       "        text-align: right;\n",
       "    }\n",
       "</style>\n",
       "<table border=\"1\" class=\"dataframe\">\n",
       "  <thead>\n",
       "    <tr style=\"text-align: right;\">\n",
       "      <th></th>\n",
       "      <th>dates</th>\n",
       "      <th>posits</th>\n",
       "    </tr>\n",
       "  </thead>\n",
       "  <tbody>\n",
       "    <tr>\n",
       "      <th>0</th>\n",
       "      <td>&lt;2022/05/26 15:00:00 00:00:00&gt;</td>\n",
       "      <td>&lt;53N53:00 27E34:00&gt;</td>\n",
       "    </tr>\n",
       "    <tr>\n",
       "      <th>1</th>\n",
       "      <td>&lt;2022/05/26 15:00:00 00:00:00&gt;</td>\n",
       "      <td>&lt;59N54:00 10E44:00&gt;</td>\n",
       "    </tr>\n",
       "    <tr>\n",
       "      <th>2</th>\n",
       "      <td>&lt;2022/05/26 16:00:00 00:00:00&gt;</td>\n",
       "      <td>&lt;60N11:00 11E59:00&gt;</td>\n",
       "    </tr>\n",
       "  </tbody>\n",
       "</table>\n",
       "</div>"
      ],
      "text/plain": [
       "                            dates               posits\n",
       "0  <2022/05/26 15:00:00 00:00:00>  <53N53:00 27E34:00>\n",
       "1  <2022/05/26 15:00:00 00:00:00>  <59N54:00 10E44:00>\n",
       "2  <2022/05/26 16:00:00 00:00:00>  <60N11:00 11E59:00>"
      ]
     },
     "execution_count": 73,
     "metadata": {},
     "output_type": "execute_result"
    }
   ],
   "source": [
    "print('shape - ', df_dates_posits.shape)\n",
    "df_dates_posits.head(3)"
   ]
  },
  {
   "cell_type": "markdown",
   "metadata": {},
   "source": [
    "#### Check rows with errors for chart calculate (north cities houses calc errors)"
   ]
  },
  {
   "cell_type": "code",
   "execution_count": 74,
   "metadata": {},
   "outputs": [],
   "source": [
    "error_inds = []\n",
    "\n",
    "for i in range(df_dates_posits.shape[0]):\n",
    "    try:\n",
    "        AstrologicalPoints.charts_calculate(df_dates_posits.loc[i:i,])\n",
    "    except Exception as e: \n",
    "        error_inds.append(i)"
   ]
  },
  {
   "cell_type": "code",
   "execution_count": 75,
   "metadata": {},
   "outputs": [
    {
     "name": "stdout",
     "output_type": "stream",
     "text": [
      "len -  26\n"
     ]
    },
    {
     "data": {
      "text/plain": [
       "[44, 939, 3662]"
      ]
     },
     "execution_count": 75,
     "metadata": {},
     "output_type": "execute_result"
    }
   ],
   "source": [
    "print('len - ', len(error_inds))\n",
    "error_inds[:3]"
   ]
  },
  {
   "cell_type": "code",
   "execution_count": 76,
   "metadata": {},
   "outputs": [],
   "source": [
    "df_dates_posits.drop(index=error_inds, inplace=True)"
   ]
  },
  {
   "cell_type": "code",
   "execution_count": 77,
   "metadata": {},
   "outputs": [
    {
     "name": "stdout",
     "output_type": "stream",
     "text": [
      "shape - df              -  (8973, 4)\n",
      "shape - df_dates_posits -  (8947, 2)\n"
     ]
    },
    {
     "data": {
      "text/html": [
       "<div>\n",
       "<style scoped>\n",
       "    .dataframe tbody tr th:only-of-type {\n",
       "        vertical-align: middle;\n",
       "    }\n",
       "\n",
       "    .dataframe tbody tr th {\n",
       "        vertical-align: top;\n",
       "    }\n",
       "\n",
       "    .dataframe thead th {\n",
       "        text-align: right;\n",
       "    }\n",
       "</style>\n",
       "<table border=\"1\" class=\"dataframe\">\n",
       "  <thead>\n",
       "    <tr style=\"text-align: right;\">\n",
       "      <th></th>\n",
       "      <th>dates</th>\n",
       "      <th>posits</th>\n",
       "    </tr>\n",
       "  </thead>\n",
       "  <tbody>\n",
       "    <tr>\n",
       "      <th>8970</th>\n",
       "      <td>&lt;2021/03/30 18:45:00 00:00:00&gt;</td>\n",
       "      <td>&lt;56N43:00 02W39:00&gt;</td>\n",
       "    </tr>\n",
       "    <tr>\n",
       "      <th>8971</th>\n",
       "      <td>&lt;2021/03/30 18:45:00 00:00:00&gt;</td>\n",
       "      <td>&lt;56N06:00 03W20:00&gt;</td>\n",
       "    </tr>\n",
       "    <tr>\n",
       "      <th>8972</th>\n",
       "      <td>&lt;2021/03/29 19:00:00 00:00:00&gt;</td>\n",
       "      <td>&lt;51N41:00 05E18:00&gt;</td>\n",
       "    </tr>\n",
       "  </tbody>\n",
       "</table>\n",
       "</div>"
      ],
      "text/plain": [
       "                               dates               posits\n",
       "8970  <2021/03/30 18:45:00 00:00:00>  <56N43:00 02W39:00>\n",
       "8971  <2021/03/30 18:45:00 00:00:00>  <56N06:00 03W20:00>\n",
       "8972  <2021/03/29 19:00:00 00:00:00>  <51N41:00 05E18:00>"
      ]
     },
     "execution_count": 77,
     "metadata": {},
     "output_type": "execute_result"
    }
   ],
   "source": [
    "print('shape - df              - ', df.shape)\n",
    "print('shape - df_dates_posits - ', df_dates_posits.shape)\n",
    "df_dates_posits.tail(3)"
   ]
  },
  {
   "cell_type": "code",
   "execution_count": 78,
   "metadata": {},
   "outputs": [],
   "source": [
    "sr_charts = AstrologicalPoints.charts_calculate(df_dates_posits)"
   ]
  },
  {
   "cell_type": "code",
   "execution_count": 79,
   "metadata": {},
   "outputs": [
    {
     "name": "stdout",
     "output_type": "stream",
     "text": [
      "shape - df_coords -  (8973, 25)\n",
      "shape - df_coords -  (8947, 25)\n"
     ]
    }
   ],
   "source": [
    "print('shape - df_coords - ', df_coords.shape)\n",
    "df_coords.drop(index=error_inds, inplace=True)\n",
    "df_coords.reset_index(drop=True, inplace=True)\n",
    "print('shape - df_coords - ', df_coords.shape)"
   ]
  },
  {
   "cell_type": "code",
   "execution_count": 80,
   "metadata": {},
   "outputs": [],
   "source": [
    "df_coords['chart'] = sr_charts"
   ]
  },
  {
   "cell_type": "code",
   "execution_count": 81,
   "metadata": {},
   "outputs": [
    {
     "data": {
      "text/html": [
       "<div>\n",
       "<style scoped>\n",
       "    .dataframe tbody tr th:only-of-type {\n",
       "        vertical-align: middle;\n",
       "    }\n",
       "\n",
       "    .dataframe tbody tr th {\n",
       "        vertical-align: top;\n",
       "    }\n",
       "\n",
       "    .dataframe thead th {\n",
       "        text-align: right;\n",
       "    }\n",
       "</style>\n",
       "<table border=\"1\" class=\"dataframe\">\n",
       "  <thead>\n",
       "    <tr style=\"text-align: right;\">\n",
       "      <th></th>\n",
       "      <th>game_id</th>\n",
       "      <th>ligue_header</th>\n",
       "      <th>comp_id</th>\n",
       "      <th>season_id</th>\n",
       "      <th>game_utc</th>\n",
       "      <th>game_title</th>\n",
       "      <th>goals</th>\n",
       "      <th>ligue</th>\n",
       "      <th>f_team</th>\n",
       "      <th>pos_f</th>\n",
       "      <th>pts_f</th>\n",
       "      <th>pos_s</th>\n",
       "      <th>pts_s</th>\n",
       "      <th>fs_pos_max</th>\n",
       "      <th>fs_pts_max</th>\n",
       "      <th>f_pow</th>\n",
       "      <th>desc</th>\n",
       "      <th>country</th>\n",
       "      <th>team_id</th>\n",
       "      <th>city</th>\n",
       "      <th>iso_code</th>\n",
       "      <th>longitude</th>\n",
       "      <th>latitude</th>\n",
       "      <th>lat</th>\n",
       "      <th>lon</th>\n",
       "      <th>chart</th>\n",
       "    </tr>\n",
       "  </thead>\n",
       "  <tbody>\n",
       "    <tr>\n",
       "      <th>0</th>\n",
       "      <td>1708335</td>\n",
       "      <td>Premier League</td>\n",
       "      <td>483</td>\n",
       "      <td>301</td>\n",
       "      <td>26.05.2022 15:00</td>\n",
       "      <td>FC Minsk - Arsenal Dzerzhinsk</td>\n",
       "      <td>2:0</td>\n",
       "      <td>top</td>\n",
       "      <td>FC Minsk</td>\n",
       "      <td>4.0</td>\n",
       "      <td>19.0</td>\n",
       "      <td>15.0</td>\n",
       "      <td>4.0</td>\n",
       "      <td>4 - 15, 16</td>\n",
       "      <td>19 - 4, 23</td>\n",
       "      <td>Fav</td>\n",
       "      <td>fav_pre</td>\n",
       "      <td>Belarus</td>\n",
       "      <td>540</td>\n",
       "      <td>Minsk</td>\n",
       "      <td>BY</td>\n",
       "      <td>27.56667</td>\n",
       "      <td>53.90000</td>\n",
       "      <td>53n53</td>\n",
       "      <td>27e34</td>\n",
       "      <td>&lt;flatlib.chart.Chart object at 0x7f4bcb759580&gt;</td>\n",
       "    </tr>\n",
       "    <tr>\n",
       "      <th>1</th>\n",
       "      <td>1687696</td>\n",
       "      <td>OBOS liga</td>\n",
       "      <td>668</td>\n",
       "      <td>301</td>\n",
       "      <td>26.05.2022 15:00</td>\n",
       "      <td>Skeid - Sandnes Ulf</td>\n",
       "      <td>0:1</td>\n",
       "      <td>thr</td>\n",
       "      <td>Skeid</td>\n",
       "      <td>16.0</td>\n",
       "      <td>3.0</td>\n",
       "      <td>4.0</td>\n",
       "      <td>18.0</td>\n",
       "      <td>16 - 4, 16</td>\n",
       "      <td>3 - 18, 23</td>\n",
       "      <td>Pre</td>\n",
       "      <td>fav_pre</td>\n",
       "      <td>Norway</td>\n",
       "      <td>10294</td>\n",
       "      <td>Oslo</td>\n",
       "      <td>NO</td>\n",
       "      <td>10.74609</td>\n",
       "      <td>59.91273</td>\n",
       "      <td>59n54</td>\n",
       "      <td>10e44</td>\n",
       "      <td>&lt;flatlib.chart.Chart object at 0x7f4bcb7594c0&gt;</td>\n",
       "    </tr>\n",
       "    <tr>\n",
       "      <th>2</th>\n",
       "      <td>1687694</td>\n",
       "      <td>OBOS liga</td>\n",
       "      <td>668</td>\n",
       "      <td>301</td>\n",
       "      <td>26.05.2022 16:00</td>\n",
       "      <td>Kongsvinger - Brann</td>\n",
       "      <td>1:3</td>\n",
       "      <td>thr</td>\n",
       "      <td>Kongsvinger</td>\n",
       "      <td>13.0</td>\n",
       "      <td>7.0</td>\n",
       "      <td>1.0</td>\n",
       "      <td>23.0</td>\n",
       "      <td>13 - 1, 16</td>\n",
       "      <td>7 - 23, 23</td>\n",
       "      <td>Pre</td>\n",
       "      <td>fav_pre</td>\n",
       "      <td>Norway</td>\n",
       "      <td>None</td>\n",
       "      <td>Kongsvinger</td>\n",
       "      <td>NO</td>\n",
       "      <td>11.99772</td>\n",
       "      <td>60.19049</td>\n",
       "      <td>60n11</td>\n",
       "      <td>11e59</td>\n",
       "      <td>&lt;flatlib.chart.Chart object at 0x7f4bcb759c70&gt;</td>\n",
       "    </tr>\n",
       "  </tbody>\n",
       "</table>\n",
       "</div>"
      ],
      "text/plain": [
       "   game_id    ligue_header comp_id season_id          game_utc  \\\n",
       "0  1708335  Premier League     483       301  26.05.2022 15:00   \n",
       "1  1687696       OBOS liga     668       301  26.05.2022 15:00   \n",
       "2  1687694       OBOS liga     668       301  26.05.2022 16:00   \n",
       "\n",
       "                      game_title goals ligue       f_team  pos_f  pts_f  \\\n",
       "0  FC Minsk - Arsenal Dzerzhinsk   2:0   top     FC Minsk    4.0   19.0   \n",
       "1            Skeid - Sandnes Ulf   0:1   thr        Skeid   16.0    3.0   \n",
       "2            Kongsvinger - Brann   1:3   thr  Kongsvinger   13.0    7.0   \n",
       "\n",
       "   pos_s  pts_s  fs_pos_max  fs_pts_max f_pow     desc  country team_id  \\\n",
       "0   15.0    4.0  4 - 15, 16  19 - 4, 23   Fav  fav_pre  Belarus     540   \n",
       "1    4.0   18.0  16 - 4, 16  3 - 18, 23   Pre  fav_pre   Norway   10294   \n",
       "2    1.0   23.0  13 - 1, 16  7 - 23, 23   Pre  fav_pre   Norway    None   \n",
       "\n",
       "          city iso_code  longitude  latitude    lat    lon  \\\n",
       "0        Minsk       BY   27.56667  53.90000  53n53  27e34   \n",
       "1         Oslo       NO   10.74609  59.91273  59n54  10e44   \n",
       "2  Kongsvinger       NO   11.99772  60.19049  60n11  11e59   \n",
       "\n",
       "                                            chart  \n",
       "0  <flatlib.chart.Chart object at 0x7f4bcb759580>  \n",
       "1  <flatlib.chart.Chart object at 0x7f4bcb7594c0>  \n",
       "2  <flatlib.chart.Chart object at 0x7f4bcb759c70>  "
      ]
     },
     "execution_count": 81,
     "metadata": {},
     "output_type": "execute_result"
    }
   ],
   "source": [
    "df_coords.head(3)"
   ]
  },
  {
   "cell_type": "code",
   "execution_count": 82,
   "metadata": {},
   "outputs": [],
   "source": [
    "df_coords.rename(columns={'chart':'transform_id'}, inplace=True)"
   ]
  },
  {
   "cell_type": "code",
   "execution_count": 83,
   "metadata": {},
   "outputs": [],
   "source": [
    "obj = df_coords.transform_id[0]"
   ]
  },
  {
   "cell_type": "code",
   "execution_count": 84,
   "metadata": {},
   "outputs": [
    {
     "ename": "SyntaxError",
     "evalue": "invalid syntax (4052849050.py, line 1)",
     "output_type": "error",
     "traceback": [
      "\u001b[0;36m  Input \u001b[0;32mIn [84]\u001b[0;36m\u001b[0m\n\u001b[0;31m    AstrologicalConstants.\u001b[0m\n\u001b[0m                          ^\u001b[0m\n\u001b[0;31mSyntaxError\u001b[0m\u001b[0;31m:\u001b[0m invalid syntax\n"
     ]
    }
   ],
   "source": [
    "AstrologicalPoints.AstrologicalPoints()"
   ]
  },
  {
   "cell_type": "code",
   "execution_count": null,
   "metadata": {},
   "outputs": [],
   "source": [
    "for :\n",
    "    print(obj.)"
   ]
  },
  {
   "cell_type": "code",
   "execution_count": null,
   "metadata": {},
   "outputs": [],
   "source": []
  },
  {
   "cell_type": "code",
   "execution_count": null,
   "metadata": {},
   "outputs": [],
   "source": [
    "# objects = ObjectsPrepare(df_coords).conbine_class_methods()"
   ]
  },
  {
   "cell_type": "markdown",
   "metadata": {},
   "source": [
    "### Calculate aspects"
   ]
  },
  {
   "cell_type": "code",
   "execution_count": null,
   "metadata": {},
   "outputs": [],
   "source": [
    "def aspects_calculate(df: pd.DataFrame, row_number: int):\n",
    "    objects = ObjectsPrepare(df.iloc[row_number]).conbine_class_methods()\n",
    "#     tuple_list = df.transform_id[row_number]\n",
    "\n",
    "#     all_aspects = []\n",
    "\n",
    "#     houses_remove_objs = []\n",
    "#     moon_remove_objs   = ['Asc', 'Desc', 'MC', 'IC', 'Uranus', 'Neptune', 'Pluto', 'Chiron', 'North Node', 'South Node', 'Antes Moon','Antes Uranus', \n",
    "#                           'Antes Neptune', 'Antes Pluto', 'Antes Chiron']\n",
    "#     main_remove_objs   = ['Asc', 'Desc', 'MC', 'IC', 'Moon', 'Antes Moon']\n",
    "#     houses_aspect_degs = {'Con': 0}\n",
    "#     main_aspect_degs   = {'Con': 0, 'Opp': 180}\n",
    "#     moon_aspect_degs   = AstrologicalConstants.aspekts_degrees\n",
    "#     house_ids          = AstrologicalConstants.houses\n",
    "\n",
    "#     house_objs, moon_objs, main_objs = objects.copy(),objects.copy(), objects.copy() \n",
    "\n",
    "#     moon_asp_after  = AspectsPrepare.object_aspects('Moon', moon_objs, moon_remove_objs, moon_aspect_degs)\n",
    "#     moon_asp_before = AspectsPrepare.object_aspects('Moon', moon_objs, moon_remove_objs, moon_aspect_degs, before_point_asp='yes', before_orb=1)\n",
    "#     all_aspects.append(moon_asp_after)\n",
    "#     all_aspects.append(moon_asp_before)\n",
    "\n",
    "#     for h_obj in house_ids:\n",
    "#         house_asp_after  = AspectsPrepare.object_aspects(h_obj, house_objs, houses_remove_objs, houses_aspect_degs, before_point_asp='no', after_orb=3)\n",
    "#         house_asp_before = AspectsPrepare.object_aspects(h_obj, house_objs, houses_remove_objs, houses_aspect_degs, before_point_asp='yes', before_orb=3)\n",
    "#         all_aspects.append(house_asp_after)\n",
    "#         all_aspects.append(house_asp_before)\n",
    "\n",
    "#     for m_obj in objects:\n",
    "#         main_asp_after  = AspectsPrepare.object_aspects(m_obj.id, main_objs, main_remove_objs, main_aspect_degs, before_point_asp='no', after_orb=3)\n",
    "#         main_asp_before = AspectsPrepare.object_aspects(m_obj.id, main_objs, main_remove_objs, main_aspect_degs, before_point_asp='yes', before_orb=3)\n",
    "#         all_aspects.append(main_asp_after)\n",
    "#         all_aspects.append(main_asp_before)\n",
    "\n",
    "#     for asp in all_aspects:\n",
    "#         if asp != None and any(var['f_point'] == 'Asc' and var['s_point'] == 'Pluto' for var in asp):\n",
    "#             asc_pluto = asp\n",
    "#         else:  \n",
    "#             asc_pluto = []\n",
    "\n",
    "#     if asc_pluto == []:\n",
    "#         for obj in objects:\n",
    "#             if obj.id == 'Asc' or obj.id == 'Pluto':\n",
    "#                 asc_pluto.append(obj) \n",
    "\n",
    "#         asc_pluto_asp_after = AspectsPrepare.object_aspects('Asc', asc_pluto, houses_remove_objs, houses_aspect_degs, before_point_asp='no', after_orb=20)\n",
    "#         all_aspects.append(asc_pluto_asp_after)\n",
    "\n",
    "#     all_aspects_full = AspectsPrepare.transform_dict_list_type(all_aspects)\n",
    "\n",
    "#     AspectsClearing.remove_duplicate_aspects(all_aspects_full)\n",
    "#     AspectsClearing.remove_antes_unimportant_aspects(all_aspects_full)\n",
    "#     AspectsClearing.remove_node_opposition(all_aspects_full)\n",
    "#     AspectsClearing.remove_antes_with_own_nat_point_aspects(all_aspects_full)\n",
    "#     AspectsClearing.remove_mirror_antes_aspects(all_aspects_full, tuple_list)\n",
    "#     AspectsClearing.remove_mirror_houses_antes_conuction(all_aspects_full)\n",
    "\n",
    "#     for asp in all_aspects_full:\n",
    "#         asp['den_point'] = []\n",
    "\n",
    "#     AspectsPrepare.supplement_houses_and_parts_rulers_aspects(objects, all_aspects_full, tuple_list)\n",
    "#     AspectsPrepare.supplement_conv_stat_aspects(objects, all_aspects_full)\n",
    "#     AspectsPrepare.supplement_moon_complete_denide_weak_aspects(objects, all_aspects_full, tuple_list)\n",
    "#     AspectsPrepare.scale_orb_characteristic(all_aspects_full)\n",
    "#     AspectsPrepare.moon_scale_orb_characteristic(all_aspects_full)\n",
    "#     AspectsPrepare.aspects_rulers_characteristic(tuple_list, all_aspects_full)\n",
    "\n",
    "#     AspectsClearing.remove_houses_one_nodes_conuction(all_aspects_full)  \n",
    "\n",
    "    return objects#[all_aspects_full]"
   ]
  },
  {
   "cell_type": "code",
   "execution_count": null,
   "metadata": {},
   "outputs": [],
   "source": [
    "# aspects = []\n",
    "# for x in range(df.shape[0]):\n",
    "#      aspects.append(aspects_calculate(df.loc[0:0,], x))  \n",
    "\n",
    "# df['aspects'] = aspects        "
   ]
  },
  {
   "cell_type": "code",
   "execution_count": null,
   "metadata": {},
   "outputs": [],
   "source": [
    "# pprint(aspects, sort_dicts=False)"
   ]
  },
  {
   "cell_type": "code",
   "execution_count": null,
   "metadata": {},
   "outputs": [],
   "source": [
    "# print(len(aspects))\n",
    "# for x in aspects:\n",
    "#     print(x)"
   ]
  },
  {
   "cell_type": "code",
   "execution_count": null,
   "metadata": {},
   "outputs": [],
   "source": [
    "# for x in objects:\n",
    "#     if x.id == 'Mars':\n",
    "#         x.lon = 1\n",
    "#     if x.id == 'Pluto':\n",
    "#         x.lon = 2      "
   ]
  },
  {
   "cell_type": "code",
   "execution_count": null,
   "metadata": {},
   "outputs": [],
   "source": [
    "#     Rules for aspekts:\n",
    "#     Antes Moon - only for house conuction\n",
    "#     Antes has only house rulers planets, higher planets and Parse Fortuna.\n",
    "\n",
    "#     Moon aspects by specific points (houses rulers, there antes and fortuna parts with it antes):\n",
    "#     'moon_conv_clear_compl' - any first aspect by parse fortuna and it antes, or first 'Con' aspect to houses rulers or any last aspect to houses rulers without \n",
    "#       any point aspects beefore\n",
    "#     'moon_conv_compl' - any first aspect by parse fortuna and it antes, or if first 'Con' aspect to houses rulers or any last aspect to houses rulers with \n",
    "#       aspected beefore any point among active planets and only 'Con' type for all other points if their not in house rulers\n",
    "#     'moon_conv_compl_weak' - any first aspect by parse fortuna and it antes or if first 'Con' aspect to houses rulers or any last houses rulers's aspect \n",
    "#       which was aspecting beefore parses or other houses rulers and last aspect antes's houses rulers which wasn't aspecting beefore parses or other houses rulers -------\n",
    "#     'moon_conv' - all other points aspects\n",
    "#     'moon_conv_denide' - if aspect sing: 'diff' or if aspect's 'tr_orb' > 5.1 \n",
    "#     'moon_diver', 'moon_diver_weak' - for divergent Moon aspects.\n",
    "\n",
    "#     Houses rulers and parts rulers aspects are aspecting own parts(houses):\n",
    "#     'conv_compl', (conv_in_compl', conv_out_compl') - approuch parts(houses) rulers aspecting own parts(houses) without Moon's aspect at part \n",
    "#     'conv_denide', (conv_in_weak', conv_out_weak') - if parts(houses) rulers has other early conversation aspect(Moon include) or locate in different sings\n",
    "#     'diver_weak', (diver_in_weak', diver_out_weak') - if aspect is divergent\n",
    "#     'diver_denide' - if pars ruler has divergent aspect and it has previos con aspect\n",
    "\n",
    "#     Other 'conv' and 'stat' aspects:\n",
    "#     'conv_denide', 'stat_denide' - if points locate in different sings.\n",
    "#     'conv_weak', 'stat_weak', ('in_conv_weak', 'out_conv_weak', 'in_stat_weak', 'out_stat_weak') - weakened aspects with the other long point \n",
    "#     located beetwen points longs. \n",
    "\n",
    "#     Remove antes aspects: \n",
    "#     If exist aspect between natural points - remove all unimportant aspects with anteses:\n",
    "#       Stay - ('Mars' con 'Venus') or ('Mars' opp 'Venus')\n",
    "#       Remove aspects ('Mars' opp 'Antes Venus', 'Mars' opp 'Antes Mars', ' Venus' opp 'Antes Mars', 'Venus' opp 'Antes Venus', 'Antes Mars' opp 'Antes Venus')\n",
    "#     If exist mirror aspect between natural and antes point without aspect between natural points: \n",
    "#       ('Mars' con 'Antes Chiron') and ('Chiron' con 'Antes Mars') \n",
    "#       required stay the houses ruler's aspect, if aspect has two houses rulers or any other points - stay any.\n",
    "#     Antes aspect by own planet without natural points aspect ('Mars' con 'Antes Mars')\n",
    "#     Remove mirror houses antes aspects: ('Asc' con 'Mars') - ('Dsc' con 'Antes Mars').\n",
    "#     Remove one mirror 'Moon Node' aspect by houses with 'weak' status from 'den_point' planet or any."
   ]
  },
  {
   "cell_type": "code",
   "execution_count": null,
   "metadata": {},
   "outputs": [],
   "source": []
  }
 ],
 "metadata": {
  "kernelspec": {
   "display_name": "Python 3 (ipykernel)",
   "language": "python",
   "name": "python3"
  },
  "language_info": {
   "codemirror_mode": {
    "name": "ipython",
    "version": 3
   },
   "file_extension": ".py",
   "mimetype": "text/x-python",
   "name": "python",
   "nbconvert_exporter": "python",
   "pygments_lexer": "ipython3",
   "version": "3.9.7"
  }
 },
 "nbformat": 4,
 "nbformat_minor": 4
}
